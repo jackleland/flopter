{
 "cells": [
  {
   "cell_type": "code",
   "execution_count": 174,
   "metadata": {},
   "outputs": [],
   "source": [
    "%matplotlib tk\n",
    "import matplotlib.pyplot as plt\n",
    "import matplotlib as mpl\n",
    "import numpy as np\n",
    "import xarray as xr\n",
    "\n",
    "import sys\n",
    "sys.path.append('/home/jleland/coding/projects/flopter')\n",
    "import flopter.core.lputils as lpu"
   ]
  },
  {
   "cell_type": "code",
   "execution_count": 175,
   "metadata": {},
   "outputs": [],
   "source": [
    "plt.rcParams[\"text.usetex\"] = False"
   ]
  },
  {
   "cell_type": "code",
   "execution_count": 176,
   "metadata": {},
   "outputs": [],
   "source": [
    "b_fields = np.logspace(-1,1.3,401)\n",
    "densities  = np.logspace(15,23,801)\n"
   ]
  },
  {
   "cell_type": "code",
   "execution_count": 177,
   "metadata": {},
   "outputs": [],
   "source": [
    "bs, ns = np.meshgrid(b_fields,densities)\n",
    "\n",
    "rhos = lpu.ion_larmor_radius(1.0, bs)\n",
    "lambdas = lpu.debye_length(1.0, ns)\n",
    "xi = rhos / lambdas\n",
    "\n",
    "fig, ax = plt.subplots(figsize=[8,6])\n",
    "\n",
    "ax.set_xscale('log')\n",
    "ax.set_yscale('log')\n",
    "\n",
    "mesh = ax.pcolormesh(b_fields, densities, xi, norm=mpl.colors.LogNorm(), cmap='viridis')\n",
    "fig.colorbar(mesh)\n",
    "fmt = mpl.ticker.LogFormatterMathtext()\n",
    "fmt.create_dummy_axis()\n",
    "\n",
    "def cstm_fmt(level):\n",
    "    return r'$\\xi = ${}'.format(fmt(level))\n",
    "\n",
    "#  norm=mpl.colors.LogNorm()\n",
    "cont = ax.contour(b_fields, densities, xi, colors=['k'], linestyles=['dashed'], \n",
    "                  linewidths=[0.8], locator=plt.LogLocator())\n",
    "ax.clabel(cont, cont.levels, inline=True, fmt=cstm_fmt, manual=False) #, fmt=r'$\\xi = ${%.1g}', rightside_up=False)\n",
    "\n",
    "mast_rect = plt.Rectangle((0.2,1e17), 0.6, 1e20-1e17, fc='none', ec='k')\n",
    "magnum_rect = plt.Rectangle((0.3,5e18), 2.2, 1e21-5e18, fc='none', ec='k')\n",
    "iter_rect = plt.Rectangle((3,1e18), 5, 2e20-1e18, fc='none', ec='k')\n",
    "[ax.add_patch(rect) for rect in [mast_rect, magnum_rect, iter_rect]]\n",
    "\n",
    "ax.text(1.0,8e18,'Magnum-PSI', fontsize=10)\n",
    "# ax.text(0.33,1.5e20,'Magnum-PSI', fontsize=10)\n",
    "ax.text(0.22,1.5e17,'MAST-U', fontsize=10)\n",
    "ax.text(5.5,1.5e18,'ITER', fontsize=10)\n",
    "\n",
    "ax.set_xlabel(r'$B$ [T]')\n",
    "ax.set_ylabel(r'$n_0$ [m$^{-3}$]')\n",
    "# fig.colorbar(cont)\n",
    "fig.tight_layout()"
   ]
  },
  {
   "cell_type": "code",
   "execution_count": 130,
   "metadata": {},
   "outputs": [
    {
     "data": {
      "text/plain": [
       "array([1.e-02, 1.e-01, 1.e+00, 1.e+01, 1.e+02, 1.e+03, 1.e+04, 1.e+05])"
      ]
     },
     "execution_count": 130,
     "metadata": {},
     "output_type": "execute_result"
    }
   ],
   "source": [
    "cont.levels"
   ]
  },
  {
   "cell_type": "code",
   "execution_count": null,
   "metadata": {},
   "outputs": [],
   "source": []
  }
 ],
 "metadata": {
  "kernelspec": {
   "display_name": "python3.6-codac",
   "language": "python",
   "name": "python3.6-codac"
  },
  "language_info": {
   "codemirror_mode": {
    "name": "ipython",
    "version": 3
   },
   "file_extension": ".py",
   "mimetype": "text/x-python",
   "name": "python",
   "nbconvert_exporter": "python",
   "pygments_lexer": "ipython3",
   "version": "3.6.9"
  }
 },
 "nbformat": 4,
 "nbformat_minor": 4
}
