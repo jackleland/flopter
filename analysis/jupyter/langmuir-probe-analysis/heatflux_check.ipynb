{
 "cells": [
  {
   "cell_type": "code",
   "execution_count": 1,
   "metadata": {},
   "outputs": [],
   "source": [
    "import numpy as np\n",
    "import matplotlib.pyplot as plt"
   ]
  },
  {
   "cell_type": "code",
   "execution_count": 2,
   "metadata": {},
   "outputs": [],
   "source": [
    "m_i = 1.6726219e-27 # kg\n",
    "e = 1.60217662e-19 # C\n",
    "k = 1.38064852e-23  # m^2 kg s^-2 K^-1\n",
    "epsilon_0 = 8.85418782e-12  # m^-3 kg^-1 s^4 A^2"
   ]
  },
  {
   "cell_type": "code",
   "execution_count": 3,
   "metadata": {},
   "outputs": [],
   "source": [
    "def v_th(temperature):\n",
    "    return np.sqrt((8 * e * temperature)/(np.pi * m_i))\n",
    "    \n",
    "def particle_flux(density, temperature):\n",
    "    return .25 * density * v_th(temperature)\n",
    "\n",
    "def heat_flux(density, temperature):\n",
    "    return 2 * e * temperature * particle_flux(density, temperature)"
   ]
  },
  {
   "cell_type": "code",
   "execution_count": 4,
   "metadata": {},
   "outputs": [],
   "source": [
    "T_range = np.linspace(0.5, 7, 14)\n",
    "n = np.linspace(0.5, 50, 150) * 1e19\n",
    "\n",
    "heatfluxes = []\n",
    "for T in T_range:\n",
    "    heatflux = (heat_flux(n, T) / 1000000) * np.sin(np.deg2rad(15))\n",
    "    heatfluxes.append(heatflux)"
   ]
  },
  {
   "cell_type": "code",
   "execution_count": 6,
   "metadata": {},
   "outputs": [],
   "source": [
    "%matplotlib qt\n",
    "plt.figure()\n",
    "plt.title('Heat flux calculations')\n",
    "plt.xlabel(r'$n_e$ ($m^{-3}$)')\n",
    "plt.ylabel(r'Heat flux ($MWm^{2}$)')\n",
    "for i, T in enumerate(T_range):\n",
    "    plt.semilogx(n, heatfluxes[i], label='{}'.format(T))\n",
    "plt.legend()\n",
    "plt.show()"
   ]
  },
  {
   "cell_type": "code",
   "execution_count": null,
   "metadata": {},
   "outputs": [],
   "source": []
  }
 ],
 "metadata": {
  "kernelspec": {
   "display_name": "Python 3",
   "language": "python",
   "name": "python3"
  },
  "language_info": {
   "codemirror_mode": {
    "name": "ipython",
    "version": 3
   },
   "file_extension": ".py",
   "mimetype": "text/x-python",
   "name": "python",
   "nbconvert_exporter": "python",
   "pygments_lexer": "ipython3",
   "version": "3.6.5"
  }
 },
 "nbformat": 4,
 "nbformat_minor": 2
}
