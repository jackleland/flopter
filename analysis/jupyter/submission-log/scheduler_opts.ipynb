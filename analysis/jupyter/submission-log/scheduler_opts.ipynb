{
 "cells": [
  {
   "cell_type": "code",
   "execution_count": 1,
   "metadata": {},
   "outputs": [],
   "source": [
    "import configparser "
   ]
  },
  {
   "cell_type": "code",
   "execution_count": 9,
   "metadata": {},
   "outputs": [],
   "source": [
    "cfgprs = configparser.ConfigParser()\n",
    "\n",
    "with open('/home/jleland/Coding/Projects/autospice/samples/test-phobos-cumulus.yml', 'r') as ymlfile:\n",
    "    cfgprs.read_file(ymlfile)\n",
    "\n",
    "scheduler_opts = cfgprs['scheduler']"
   ]
  },
  {
   "cell_type": "code",
   "execution_count": 17,
   "metadata": {},
   "outputs": [
    {
     "name": "stdout",
     "output_type": "stream",
     "text": [
      "job_name\n",
      "machine\n",
      "user\n",
      "email\n",
      "walltime\n",
      "n_cpus\n",
      "nodes\n",
      "memory\n"
     ]
    }
   ],
   "source": [
    "for opt in scheduler_opts.keys():\n",
    "    print(opt)"
   ]
  },
  {
   "cell_type": "code",
   "execution_count": 20,
   "metadata": {},
   "outputs": [
    {
     "data": {
      "text/plain": [
       "{'machine', 'n_cpus'}"
      ]
     },
     "execution_count": 20,
     "metadata": {},
     "output_type": "execute_result"
    }
   ],
   "source": [
    "REQUIRED_PARAMS = {\n",
    "    'job_name',\n",
    "    'nodes',\n",
    "    'cpus_per_node',\n",
    "    'walltime',\n",
    "    'out_log',\n",
    "    'err_log'\n",
    "}\n",
    "OPTIONAL_PARAMS = {\n",
    "    'user',\n",
    "    'queue',\n",
    "    'qos',\n",
    "    'account',\n",
    "    'memory',\n",
    "    'email',\n",
    "    'email_events'\n",
    "}\n",
    "\n",
    "set(scheduler_opts.keys()) - REQUIRED_PARAMS - OPTIONAL_PARAMS"
   ]
  },
  {
   "cell_type": "code",
   "execution_count": null,
   "metadata": {},
   "outputs": [],
   "source": []
  }
 ],
 "metadata": {
  "kernelspec": {
   "display_name": "submissionlog",
   "language": "python",
   "name": "submissionlog"
  },
  "language_info": {
   "codemirror_mode": {
    "name": "ipython",
    "version": 3
   },
   "file_extension": ".py",
   "mimetype": "text/x-python",
   "name": "python",
   "nbconvert_exporter": "python",
   "pygments_lexer": "ipython3",
   "version": "3.7.4"
  }
 },
 "nbformat": 4,
 "nbformat_minor": 4
}
