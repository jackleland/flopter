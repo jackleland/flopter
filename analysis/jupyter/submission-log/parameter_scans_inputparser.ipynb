{
 "cells": [
  {
   "cell_type": "markdown",
   "metadata": {},
   "source": [
    "# Jupyter notebook for Parameter Scans in Autospice\n",
    "Trying to figure out how to extract multiple parameters for a variable in an input file, and submit a job for each combination of parameters."
   ]
  },
  {
   "cell_type": "code",
   "execution_count": 1,
   "metadata": {},
   "outputs": [],
   "source": [
    "import sys\n",
    "import os\n",
    "import copy\n",
    "sys.path.append('/home/jleland/Coding/Projects/flopter/')\n",
    "from flopter.spice.inputparser import InputParser"
   ]
  },
  {
   "cell_type": "code",
   "execution_count": 2,
   "metadata": {},
   "outputs": [
    {
     "name": "stdout",
     "output_type": "stream",
     "text": [
      "plasma\n",
      "geom\n",
      "control\n",
      "optional\n",
      "mks\n",
      "domaindecomp\n",
      "num_blocks\n",
      "rectangle0\n",
      "rectangle1\n",
      "num_spec\n",
      "specie0\n",
      "specie1\n",
      "num_diag_regions\n",
      "commented_params\n"
     ]
    }
   ],
   "source": [
    "ip = InputParser(input_filename='/home/jleland/Coding/Projects/spice2-inputs/test/autospice_test.inp')\n",
    "for section_header in ip.sections():\n",
    "    print(section_header)"
   ]
  },
  {
   "cell_type": "code",
   "execution_count": 3,
   "metadata": {},
   "outputs": [
    {
     "name": "stdout",
     "output_type": "stream",
     "text": [
      "n_e 6.85395e+18\n",
      "T_e 6.0\n",
      "B 0.4134223\n",
      "L_probe 2.379524\n"
     ]
    }
   ],
   "source": [
    "comm_param = ip._sections['commented_params']\n",
    "for k, v in comm_param.items():\n",
    "    print(k, v)\n",
    "    "
   ]
  },
  {
   "cell_type": "code",
   "execution_count": 4,
   "metadata": {},
   "outputs": [],
   "source": [
    "# cp = ip.pop('commented_params')"
   ]
  },
  {
   "cell_type": "code",
   "execution_count": 5,
   "metadata": {},
   "outputs": [
    {
     "name": "stdout",
     "output_type": "stream",
     "text": [
      "\talpha_yz: ['0', '1', '2', '3', '4', '5', '6', '7', '8', '9', '10'] (<class 'list'>)\n"
     ]
    }
   ],
   "source": [
    "scan_params = []\n",
    "for k, v in ip._sections.items():\n",
    "    for var, value in v.items():\n",
    "        if k == 'commented_params':\n",
    "            value = str(value)\n",
    "        if '[' in value and ']' in value:\n",
    "            value = value.strip('[]{}').split(', ')\n",
    "            print(f'\\t{var}: {value} ({type(value)})')\n",
    "#             scan_params[f'{k} {var}'] = value\n",
    "            scan_params.append({'section': k, 'variable': var, 'values': value, 'length': len(value)})"
   ]
  },
  {
   "cell_type": "code",
   "execution_count": 6,
   "metadata": {},
   "outputs": [
    {
     "name": "stdout",
     "output_type": "stream",
     "text": [
      "[{'section': 'plasma', 'variable': 'alpha_yz', 'values': ['0', '1', '2', '3', '4', '5', '6', '7', '8', '9', '10'], 'length': 11}]\n"
     ]
    }
   ],
   "source": [
    "print(scan_params)"
   ]
  },
  {
   "cell_type": "markdown",
   "metadata": {},
   "source": [
    "## Work trying to get the write function working for InputParser"
   ]
  },
  {
   "cell_type": "code",
   "execution_count": 8,
   "metadata": {},
   "outputs": [
    {
     "name": "stdout",
     "output_type": "stream",
     "text": [
      "plasm\n",
      "geo\n",
      "contro\n",
      "optiona\n",
      "mk\n",
      "domaindecom\n",
      "num_block\n",
      "rectangle\n",
      "rectangle\n",
      "num_spe\n",
      "specie\n",
      "specie\n",
      "num_diag_region\n",
      "commented_param\n"
     ]
    }
   ],
   "source": [
    "for section in ip.sections():\n",
    "    print(section[:-1])"
   ]
  },
  {
   "cell_type": "code",
   "execution_count": 9,
   "metadata": {},
   "outputs": [
    {
     "name": "stdout",
     "output_type": "stream",
     "text": [
      "0\n"
     ]
    }
   ],
   "source": [
    "scan_param = scan_params[0]\n",
    "values = scan_param['values']\n",
    "print(values[0])\n",
    "\n",
    "ip_sp = copy.deepcopy(ip)\n",
    "ip_sp[scan_param['section']][scan_param['variable']] = values[0]"
   ]
  },
  {
   "cell_type": "code",
   "execution_count": 10,
   "metadata": {},
   "outputs": [
    {
     "name": "stdout",
     "output_type": "stream",
     "text": [
      "/home/jleland/Coding/Projects/flopter/analysis/jupyter/submission-log\n",
      "$num_diag_regions\n",
      "\tno_diag_reg = 0\n",
      "$end\n",
      "\n",
      "! Plasma Parameters:\n",
      "! n_e       = 6.85395e18    m^-3\n",
      "! T_e       = 6             eV\n",
      "! B         = 0.4134223     T\n",
      "! L_probe   = 2.379524      mm\n",
      "\n"
     ]
    }
   ],
   "source": [
    "print(os.getcwd())\n",
    "with open('test.inp', 'w') as f:\n",
    "    ip_sp.write(f)"
   ]
  },
  {
   "cell_type": "markdown",
   "metadata": {},
   "source": [
    "## Small section on figuring out why input files created in this way fail immediately"
   ]
  },
  {
   "cell_type": "code",
   "execution_count": 2,
   "metadata": {},
   "outputs": [
    {
     "name": "stdout",
     "output_type": "stream",
     "text": [
      "flush_trunc_10.inp\n",
      "inpar_write_test.inp\n",
      "flush_trunc_tiltscan0-10.inp\n",
      "inpar_alt_test.inp\n",
      "inpar_nodeepcopy_test.inp\n",
      "inpar_altscan_test.inp\n",
      "inpar_unalt_test.inp\n",
      ".ipynb_checkpoints\n",
      "angledtip_tiltscan0-10.inp\n",
      "flush_tiltscan0-10.inp\n"
     ]
    }
   ],
   "source": [
    "os.chdir('/home/jleland/Coding/Projects/spice2-inputs/lowdens_anglescan')\n",
    "for item in os.listdir():\n",
    "    print(item)"
   ]
  },
  {
   "cell_type": "code",
   "execution_count": 3,
   "metadata": {},
   "outputs": [
    {
     "name": "stdout",
     "output_type": "stream",
     "text": [
      "plasma\n",
      "geom\n",
      "control\n",
      "optional\n",
      "mks\n",
      "domaindecomp\n",
      "num_blocks\n",
      "rectangle0\n",
      "rectangle1\n",
      "rectangle2\n",
      "num_spec\n",
      "specie0\n",
      "specie1\n",
      "num_diag_regions\n",
      "diag_reg0\n",
      "diag_reg1\n",
      "diag_reg2\n",
      "diag_reg3\n",
      "diag_reg4\n",
      "diag_reg5\n",
      "commented_params\n",
      "[-1.0, -10.0]\n"
     ]
    }
   ],
   "source": [
    "ip = InputParser(input_filename='/home/jleland/Coding/Projects/spice2-inputs/lowdens_anglescan/inpar_altscan_test.inp')\n",
    "for section_header in ip.sections():\n",
    "    print(section_header)\n",
    "print(ip['plasma']['alpha_yz'])\n",
    "for k, v in ip_plasma"
   ]
  },
  {
   "cell_type": "code",
   "execution_count": 6,
   "metadata": {},
   "outputs": [
    {
     "name": "stdout",
     "output_type": "stream",
     "text": [
      "\talpha_yz: ['-1.0', ' -10.0'] (<class 'list'>)\n"
     ]
    }
   ],
   "source": [
    "scan_params = []\n",
    "for k, v in ip._sections.items():\n",
    "    for var, value in v.items():\n",
    "        if k == 'commented_params':\n",
    "            value = str(value)\n",
    "        if '[' in value and ']' in value:\n",
    "            value = value.strip('[]{} ').split(',')\n",
    "            print(f'\\t{var}: {value} ({type(value)})')\n",
    "#             scan_params[f'{k} {var}'] = value\n",
    "            scan_params.append({'section': k, 'variable': var, 'values': value, 'length': len(value)})"
   ]
  },
  {
   "cell_type": "code",
   "execution_count": 5,
   "metadata": {},
   "outputs": [
    {
     "name": "stdout",
     "output_type": "stream",
     "text": [
      "[{'section': 'plasma', 'variable': 'alpha_yz', 'values': ['-1.0', '-10.0'], 'length': 2}]\n"
     ]
    }
   ],
   "source": [
    "print(scan_params)"
   ]
  },
  {
   "cell_type": "code",
   "execution_count": 6,
   "metadata": {},
   "outputs": [
    {
     "name": "stdout",
     "output_type": "stream",
     "text": [
      "-10.0\n"
     ]
    }
   ],
   "source": [
    "scan_param = scan_params[0]\n",
    "values = scan_param['values']\n",
    "print(values[1])\n",
    "\n",
    "#ip_sp = copy.deepcopy(ip)\n",
    "ip[scan_param['section']][scan_param['variable']] = values[1]"
   ]
  },
  {
   "cell_type": "code",
   "execution_count": 8,
   "metadata": {},
   "outputs": [
    {
     "name": "stdout",
     "output_type": "stream",
     "text": [
      "-10.0\n"
     ]
    }
   ],
   "source": [
    "print(ip.get('plasma', 'alpha_yz'))"
   ]
  },
  {
   "cell_type": "code",
   "execution_count": 9,
   "metadata": {},
   "outputs": [],
   "source": [
    "with open('inpar_nodeepcopy_test.inp', 'w') as f:\n",
    "    ip.write(f)"
   ]
  },
  {
   "cell_type": "code",
   "execution_count": 28,
   "metadata": {},
   "outputs": [
    {
     "name": "stdout",
     "output_type": "stream",
     "text": [
      "plasma\n",
      "geom\n",
      "control\n",
      "optional\n",
      "mks\n",
      "domaindecomp\n",
      "num_blocks\n",
      "rectangle0\n",
      "rectangle1\n",
      "rectangle2\n",
      "num_spec\n",
      "specie0\n",
      "specie1\n",
      "num_diag_regions\n",
      "diag_reg0\n",
      "diag_reg1\n",
      "diag_reg2\n",
      "diag_reg3\n",
      "diag_reg4\n",
      "diag_reg5\n",
      "commented_params\n"
     ]
    }
   ],
   "source": [
    "ip_unaltered = InputParser(input_filename='/home/jleland/Coding/Projects/spice2-inputs/lowdens_anglescan/flush_trunc_10.inp')\n",
    "for section_header in ip_unaltered.sections():\n",
    "    print(section_header)"
   ]
  },
  {
   "cell_type": "code",
   "execution_count": 29,
   "metadata": {},
   "outputs": [],
   "source": [
    "with open('inpar_unalt_test.inp', 'w') as f:\n",
    "    ip_unaltered.write(f)"
   ]
  },
  {
   "cell_type": "code",
   "execution_count": 32,
   "metadata": {},
   "outputs": [
    {
     "data": {
      "text/plain": [
       "'-10.0'"
      ]
     },
     "execution_count": 32,
     "metadata": {},
     "output_type": "execute_result"
    }
   ],
   "source": [
    "ip_unaltered['plasma']['alpha_yz'] = '-10.0'\n",
    "ip_unaltered['plasma']['alpha_yz']"
   ]
  },
  {
   "cell_type": "code",
   "execution_count": 33,
   "metadata": {},
   "outputs": [],
   "source": [
    "with open('inpar_alt_test.inp', 'w') as f:\n",
    "    ip_unaltered.write(f)"
   ]
  },
  {
   "cell_type": "code",
   "execution_count": null,
   "metadata": {},
   "outputs": [],
   "source": []
  }
 ],
 "metadata": {
  "kernelspec": {
   "display_name": "submissionlog",
   "language": "python",
   "name": "submissionlog"
  },
  "language_info": {
   "codemirror_mode": {
    "name": "ipython",
    "version": 3
   },
   "file_extension": ".py",
   "mimetype": "text/x-python",
   "name": "python",
   "nbconvert_exporter": "python",
   "pygments_lexer": "ipython3",
   "version": "3.7.4"
  }
 },
 "nbformat": 4,
 "nbformat_minor": 2
}
