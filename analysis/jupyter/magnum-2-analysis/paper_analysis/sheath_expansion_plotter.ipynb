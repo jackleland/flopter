{
 "cells": [
  {
   "cell_type": "code",
   "execution_count": 31,
   "metadata": {},
   "outputs": [],
   "source": [
    "%matplotlib tk\n",
    "import numpy as np\n",
    "import matplotlib.pyplot as plt\n",
    "import matplotlib as mpl\n",
    "import pandas as pd\n",
    "import xarray as xr \n",
    "import scipy.stats as stat\n",
    "import collections\n",
    "import sys\n",
    "import os\n",
    "import glob\n",
    "import re\n",
    "sys.path.append('/home/jleland/Coding/Projects/flopter')\n",
    "import flopter.core.ivdata as iv\n",
    "import flopter.core.lputils as lp\n",
    "import flopter.magnum.database as ut\n",
    "import flopter.magnum.utils as mgut\n",
    "import flopter.core.fitters as fts\n",
    "import flopter.core.constants as c"
   ]
  },
  {
   "cell_type": "code",
   "execution_count": 32,
   "metadata": {},
   "outputs": [],
   "source": [
    "v = np.linspace(-100, 0, 1000)"
   ]
  },
  {
   "cell_type": "code",
   "execution_count": 33,
   "metadata": {},
   "outputs": [],
   "source": [
    "fitter = fts.FullIVFitter()"
   ]
  },
  {
   "cell_type": "code",
   "execution_count": 34,
   "metadata": {},
   "outputs": [],
   "source": [
    "i = fitter.fit_function(v, *[1.0, 0.02, 5, -15])"
   ]
  },
  {
   "cell_type": "code",
   "execution_count": 35,
   "metadata": {},
   "outputs": [
    {
     "data": {
      "text/plain": [
       "[<matplotlib.lines.Line2D at 0x7f9b128d3ef0>]"
      ]
     },
     "execution_count": 35,
     "metadata": {},
     "output_type": "execute_result"
    }
   ],
   "source": [
    "fig, ax = plt.subplots()\n",
    "\n",
    "pos_i = np.where(i >= 0, i, None)\n",
    "\n",
    "ax.plot(v, i)\n",
    "ax.plot(v, pos_i)"
   ]
  },
  {
   "cell_type": "code",
   "execution_count": 36,
   "metadata": {},
   "outputs": [],
   "source": [
    "fig, ax = plt.subplots()\n",
    "\n",
    "for a in np.linspace(0.0, 0.5, 6):\n",
    "    i = fitter.fit_function(v, *[1.0, a, 5, -15])\n",
    "    ax.plot(v, i)"
   ]
  },
  {
   "cell_type": "code",
   "execution_count": 37,
   "metadata": {},
   "outputs": [],
   "source": [
    "magnum_probes = lp.MagnumProbes()\n",
    "probe_colours = {\n",
    "    'L': '#4477AA',\n",
    "    'S': '#EE6677',\n",
    "    'B': '#228833',\n",
    "    'R': '#CCBB44'\n",
    "}"
   ]
  },
  {
   "cell_type": "code",
   "execution_count": 38,
   "metadata": {},
   "outputs": [
    {
     "name": "stdout",
     "output_type": "stream",
     "text": [
      "lambda_D, S = 5.411756200408416e-07\n",
      "lambda_D / L + g = 0.00010823512400816831\n",
      "lambda_D, L = 6.296681838469118e-07\n",
      "lambda_D / L + g = 0.00010494469730781863\n"
     ]
    },
    {
     "data": {
      "text/plain": [
       "<matplotlib.legend.Legend at 0x7f9b11d79748>"
      ]
     },
     "execution_count": 38,
     "metadata": {},
     "output_type": "execute_result"
    }
   ],
   "source": [
    "fig, ax = plt.subplots()\n",
    "\n",
    "Ls = [3,5]\n",
    "gs = [2,1]\n",
    "\n",
    "denss = [2.17e20, 9.06e19]\n",
    "temps = [1.15, 0.65]\n",
    "\n",
    "for i, probe in enumerate(['S', 'L']):\n",
    "    probe_dims = magnum_probes[probe]\n",
    "    \n",
    "    g = gs[i] * 1e-3\n",
    "    L = Ls[i] * 1e-3\n",
    "\n",
    "    dummy_tilt = np.linspace(0.00001, 11.0, 1100)\n",
    "#     dummy_tilt = np.linspace(89.99, 78.99, 1101)\n",
    "    calced_a = lp.calc_sheath_expansion_param(\n",
    "        temps[i],\n",
    "        denss[i],\n",
    "#         probe_dims.get_2d_probe_length(),\n",
    "#         probe_dims.g, \n",
    "        L,\n",
    "        g,\n",
    "        np.radians(dummy_tilt),\n",
    "        c_1=1.5,\n",
    "        c_2=6,\n",
    "    )\n",
    "    \n",
    "    lambda_D = lp.debye_length(temps[i], denss[i])\n",
    "    print(f'lambda_D, {probe} = {lambda_D}')\n",
    "    print(f'lambda_D / L + g = {lambda_D/(L+g)}')\n",
    "#     calced_new_a = lp.calc_new_sheath_expansion_param(\n",
    "#         1.5,\n",
    "#         1e19,\n",
    "#         probe_dims.get_2d_probe_length(),\n",
    "#         probe_dims.g, \n",
    "#         np.radians(dummy_tilt),\n",
    "#         probe_dims.d_perp,\n",
    "#         0.0 if not probe_dims.is_angled() else probe_dims.theta_p, \n",
    "#         c_1=0.9,\n",
    "#         c_2=0.6,\n",
    "#     )\n",
    "    \n",
    "    calced_a_label = r'$a_{{{probe}, calc}}$'.format(probe=probe)\n",
    "    ax.errorbar(dummy_tilt, calced_a, label=calced_a_label, fmt='-', color=probe_colours[probe], \n",
    "                linewidth=0.8, alpha=0.6)\n",
    "#     ax.errorbar(dummy_tilt, calced_new_a, label=calced_a_label, fmt=':', color=probe_colours[probe], \n",
    "#                 linewidth=0.8, alpha=0.6)\n",
    "\n",
    "ax.set_yscale('log')\n",
    "ax.set_xlim(-0.5, 10.5)\n",
    "ax.set_ylim(1e-3, 1e0)\n",
    "ax.legend()\n",
    "\n"
   ]
  },
  {
   "cell_type": "code",
   "execution_count": null,
   "metadata": {},
   "outputs": [],
   "source": []
  }
 ],
 "metadata": {
  "kernelspec": {
   "display_name": "python3.6-codac",
   "language": "python",
   "name": "python3.6-codac"
  },
  "language_info": {
   "codemirror_mode": {
    "name": "ipython",
    "version": 3
   },
   "file_extension": ".py",
   "mimetype": "text/x-python",
   "name": "python",
   "nbconvert_exporter": "python",
   "pygments_lexer": "ipython3",
   "version": "3.6.9"
  }
 },
 "nbformat": 4,
 "nbformat_minor": 4
}
