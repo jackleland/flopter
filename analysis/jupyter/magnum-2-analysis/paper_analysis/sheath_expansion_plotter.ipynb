{
 "cells": [
  {
   "cell_type": "code",
   "execution_count": 1,
   "metadata": {},
   "outputs": [],
   "source": [
    "%matplotlib tk\n",
    "import numpy as np\n",
    "import matplotlib.pyplot as plt\n",
    "import matplotlib as mpl\n",
    "import pandas as pd\n",
    "import xarray as xr \n",
    "import scipy.stats as stat\n",
    "import collections\n",
    "import sys\n",
    "import os\n",
    "import glob\n",
    "import re\n",
    "sys.path.append('/home/jleland/Coding/Projects/flopter')\n",
    "import flopter.core.ivdata as iv\n",
    "import flopter.core.lputils as lp\n",
    "import flopter.magnum.database as ut\n",
    "import flopter.magnum.utils as mgut\n",
    "import flopter.core.fitters as fts\n",
    "import flopter.core.constants as c"
   ]
  },
  {
   "cell_type": "code",
   "execution_count": 2,
   "metadata": {},
   "outputs": [],
   "source": [
    "v = np.linspace(-100, 0, 1000)"
   ]
  },
  {
   "cell_type": "code",
   "execution_count": 3,
   "metadata": {},
   "outputs": [],
   "source": [
    "fitter = fts.FullIVFitter()"
   ]
  },
  {
   "cell_type": "code",
   "execution_count": 4,
   "metadata": {},
   "outputs": [],
   "source": [
    "i = fitter.fit_function(v, *[1.0, 0.02, 5, -15])"
   ]
  },
  {
   "cell_type": "code",
   "execution_count": 5,
   "metadata": {},
   "outputs": [
    {
     "data": {
      "text/plain": [
       "[<matplotlib.lines.Line2D at 0x7f3afe8c2e48>]"
      ]
     },
     "execution_count": 5,
     "metadata": {},
     "output_type": "execute_result"
    }
   ],
   "source": [
    "fig, ax = plt.subplots()\n",
    "\n",
    "pos_i = np.where(i >= 0, i, None)\n",
    "\n",
    "ax.plot(v, i)\n",
    "ax.plot(v, pos_i)"
   ]
  },
  {
   "cell_type": "code",
   "execution_count": 6,
   "metadata": {},
   "outputs": [],
   "source": [
    "fig, ax = plt.subplots()\n",
    "\n",
    "for a in np.linspace(0.0, 0.5, 6):\n",
    "    i = fitter.fit_function(v, *[1.0, a, 5, -15])\n",
    "    ax.plot(v, i)"
   ]
  },
  {
   "cell_type": "code",
   "execution_count": null,
   "metadata": {},
   "outputs": [],
   "source": []
  }
 ],
 "metadata": {
  "kernelspec": {
   "display_name": "python3.6-codac",
   "language": "python",
   "name": "python3.6-codac"
  },
  "language_info": {
   "codemirror_mode": {
    "name": "ipython",
    "version": 3
   },
   "file_extension": ".py",
   "mimetype": "text/x-python",
   "name": "python",
   "nbconvert_exporter": "python",
   "pygments_lexer": "ipython3",
   "version": "3.6.9"
  }
 },
 "nbformat": 4,
 "nbformat_minor": 4
}
