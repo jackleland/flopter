{
 "cells": [
  {
   "cell_type": "markdown",
   "metadata": {},
   "source": [
    "# Shot analysis for calibration data\n",
    "This is the analysis of the resistor/empty shots to get the values needed for calibrating all other shots. Different values are needed for the two different shunt resistors used, as they required different ADC sensitivities and therefore had slightly different offsets. Note that the internal resistances, cable resistances and feedthrough resistances are separate from the ADC offsets. "
   ]
  },
  {
   "cell_type": "code",
   "execution_count": 1,
   "metadata": {},
   "outputs": [],
   "source": [
    "%matplotlib tk\n",
    "import numpy as np\n",
    "import xarray as xr\n",
    "import matplotlib.pyplot as plt\n",
    "import sys\n",
    "import glob\n",
    "import os\n",
    "import pathlib as pth\n",
    "sys.path.append('/home/jleland/Coding/Projects/flopter')\n",
    "# import analysis.scripts.magnum.magnum_postrun_initial_analysis as mpia\n",
    "import flopter.magnum.magoptoffline as mg\n",
    "import flopter.core.fitters as fts"
   ]
  },
  {
   "cell_type": "code",
   "execution_count": 40,
   "metadata": {},
   "outputs": [],
   "source": [
    "folders = ['2019-05-28_Leland/', '2019-06-05_Leland/']\n",
    "mg.Magoptoffline._FOLDER_STRUCTURE = 'data/external/magnum/'\n",
    "files = []\n",
    "file_folders = []\n",
    "for folder1 in folders:\n",
    "\n",
    "    os.chdir(mg.Magoptoffline.get_data_path() / folder1)\n",
    "    files.extend(glob.glob('*.adc'))\n",
    "    file_folders.extend([folder1] * len(glob.glob('*.adc')))\n",
    "files.sort()\n"
   ]
  },
  {
   "cell_type": "code",
   "execution_count": 41,
   "metadata": {
    "collapsed": true,
    "jupyter": {
     "outputs_hidden": true
    }
   },
   "outputs": [
    {
     "name": "stdout",
     "output_type": "stream",
     "text": [
      "0 2019-05-28 10h 30m 08s TT_06695992307612752513.adc\n",
      "1 2019-05-28 12h 14m 30s TT_06696019202114007511.adc\n",
      "2 2019-05-28 12h 21m 44s TT_06696021067838019493.adc\n",
      "3 2019-05-28 12h 48m 38s TT_06696027997221515869.adc\n",
      "4 2019-05-28 14h 20m 45s TT_06696051736256851667.adc\n",
      "5 2019-05-28 15h 49m 45s TT_06696074692831398075.adc\n",
      "6 2019-05-28 15h 56m 35s TT_06696076438102672256.adc\n",
      "7 2019-05-28 15h 58m 31s TT_06696076936923400130.adc\n",
      "8 2019-05-28 16h 19m 55s TT_06696082451310700227.adc\n",
      "9 2019-05-28 16h 22m 11s TT_06696082985479260440.adc\n",
      "10 2019-05-28 16h 25m 58s TT_06696084010909391205.adc\n",
      "11 2019-05-28 16h 27m 39s TT_06696084446035357724.adc\n",
      "12 2019-05-28 16h 31m 10s TT_06696085352966572043.adc\n",
      "13 2019-05-28 16h 32m 42s TT_06696085746216338023.adc\n",
      "14 2019-05-28 17h 14m 14s TT_06696096449516280973.adc\n",
      "15 2019-05-28 17h 16m 07s TT_06696096934807785572.adc\n",
      "16 2019-05-28 17h 18m 00s TT_06696097420614687980.adc\n",
      "17 2019-05-28 17h 20m 21s TT_06696098027540441792.adc\n",
      "18 2019-05-28 17h 22m 35s TT_06696098601609496123.adc\n",
      "19 2019-05-28 17h 24m 06s TT_06696098992024562839.adc\n",
      "20 2019-05-28 17h 25m 35s TT_06696099373720776142.adc\n",
      "21 2019-05-28 17h 27m 20s TT_06696099828045370731.adc\n",
      "22 2019-05-28 17h 29m 13s TT_06696100311618871550.adc\n",
      "23 2019-05-28 17h 31m 56s TT_06696101010500514250.adc\n",
      "24 2019-05-28 17h 33m 11s TT_06696101333956587440.adc\n",
      "25 2019-05-28 17h 37m 24s TT_06696102421363486039.adc\n",
      "26 2019-05-28 17h 39m 33s TT_06696102973313331901.adc\n",
      "27 2019-05-28 17h 41m 56s TT_06696103587368824077.adc\n",
      "28 2019-05-28 17h 44m 49s TT_06696104333280660180.adc\n",
      "29 2019-05-28 17h 47m 17s TT_06696104967479701128.adc\n",
      "30 2019-05-28 17h 50m 03s TT_06696105682682270423.adc\n",
      "31 2019-05-28 17h 53m 39s TT_06696106608726205391.adc\n",
      "32 2019-05-28 17h 57m 13s TT_06696107527855189035.adc\n",
      "33 2019-06-05 10h 59m 01s TT_06698968431022989763.adc\n",
      "34 2019-06-05 11h 00m 16s TT_06698968752736575020.adc\n",
      "35 2019-06-05 11h 06m 01s TT_06698970232534041827.adc\n",
      "36 2019-06-05 11h 11m 09s TT_06698971556938654660.adc\n",
      "37 2019-06-05 11h 17m 10s TT_06698973108763191132.adc\n",
      "38 2019-06-05 11h 23m 01s TT_06698974615404444147.adc\n",
      "39 2019-06-05 11h 25m 11s TT_06698975172422343338.adc\n",
      "40 2019-06-05 11h 26m 58s TT_06698975632330400270.adc\n",
      "41 2019-06-05 11h 29m 48s TT_06698976362694306557.adc\n",
      "42 2019-06-05 11h 32m 20s TT_06698976982762740403.adc\n",
      "43 2019-06-05 11h 34m 52s TT_06698977634528232266.adc\n",
      "44 2019-06-05 11h 38m 05s TT_06698978463762933607.adc\n",
      "45 2019-06-05 11h 41m 50s TT_06698979429106051355.adc\n",
      "46 2019-06-05 11h 43m 28s TT_06698979852420750107.adc\n",
      "47 2019-06-05 11h 46m 15s TT_06698980567537440814.adc\n",
      "48 2019-06-05 11h 52m 14s TT_06698982137014546687.adc\n",
      "49 2019-06-05 11h 54m 21s TT_06698982700346107205.adc\n",
      "50 2019-06-05 11h 57m 19s TT_06698983466272596450.adc\n",
      "51 2019-06-05 12h 01m 06s TT_06698984437714611527.adc\n",
      "52 2019-06-05 12h 03m 35s TT_06698985078141333895.adc\n",
      "53 2019-06-05 12h 05m 11s TT_06698985489859567358.adc\n",
      "54 2019-06-05 12h 09m 34s TT_06698986621805574494.adc\n",
      "55 2019-06-05 12h 11m 57s TT_06698987236333495640.adc\n",
      "56 2019-06-05 12h 16m 07s TT_06698988295522251431.adc\n",
      "57 2019-06-05 12h 19m 25s TT_06698989146446742595.adc\n",
      "58 2019-06-05 12h 22m 52s TT_06698990035639608524.adc\n",
      "59 2019-06-05 12h 30m 44s TT_06698992062190234428.adc\n",
      "60 2019-06-05 12h 32m 51s TT_06698992605507153697.adc\n",
      "61 2019-06-05 12h 37m 46s TT_06698993873303915977.adc\n",
      "62 2019-06-05 13h 23m 18s TT_06699005559857793772.adc\n",
      "63 2019-06-05 13h 26m 05s TT_06699006273943786604.adc\n",
      "64 2019-06-05 13h 30m 17s TT_06699007358859636508.adc\n",
      "65 2019-06-05 13h 36m 19s TT_06699008912574272552.adc\n",
      "66 2019-06-05 13h 39m 33s TT_06699009746791268453.adc\n",
      "67 2019-06-05 13h 42m 08s TT_06699010411656604359.adc\n",
      "68 2019-06-05 13h 43m 53s TT_06699010862974705592.adc\n",
      "69 2019-06-05 13h 48m 36s TT_06699012079746935469.adc\n",
      "70 2019-06-05 13h 51m 46s TT_06699012893992221082.adc\n",
      "71 2019-06-05 13h 59m 39s TT_06699014924537268256.adc\n",
      "72 2019-06-05 14h 07m 48s TT_06699017024790133678.adc\n",
      "73 2019-06-05 14h 45m 59s TT_06699026929436994934.adc\n",
      "74 2019-06-05 14h 50m 11s TT_06699028011131689631.adc\n",
      "75 2019-06-05 15h 12m 48s TT_06699033838754019388.adc\n",
      "76 2019-06-05 15h 27m 13s TT_06699037551606259602.adc\n",
      "77 2019-06-05 15h 30m 19s TT_06699038353224362127.adc\n",
      "78 2019-06-05 15h 35m 44s TT_06699039746993554441.adc\n",
      "79 2019-06-05 15h 40m 25s TT_06699040892941449685.adc\n",
      "80 2019-06-05 15h 44m 55s TT_06699042074580776048.adc\n",
      "81 2019-06-05 15h 48m 07s TT_06699042901839982997.adc\n",
      "82 2019-06-05 15h 52m 17s TT_06699043972926121530.adc\n",
      "83 2019-06-05 15h 54m 34s TT_06699044564432998806.adc\n",
      "84 2019-06-05 15h 57m 31s TT_06699045300681242302.adc\n",
      "85 2019-06-05 16h 02m 27s TT_06699046574362379741.adc\n",
      "86 2019-06-05 16h 03m 57s TT_06699046958077343732.adc\n",
      "87 2019-06-05 16h 05m 38s TT_06699047392086714301.adc\n",
      "88 2019-06-05 16h 07m 36s TT_06699047901902771581.adc\n",
      "89 2019-06-05 16h 09m 53s TT_06699048486580613404.adc\n",
      "90 2019-06-05 16h 11m 34s TT_06699048922136188177.adc\n",
      "91 2019-06-05 16h 13m 08s TT_06699049326982551963.adc\n",
      "92 2019-06-05 16h 14m 26s TT_06699049662679460731.adc\n",
      "93 2019-06-05 16h 17m 31s TT_06699050456308875153.adc\n",
      "94 2019-06-05 16h 19m 10s TT_06699050879795500942.adc\n",
      "95 2019-06-05 16h 24m 22s TT_06699052221659850975.adc\n",
      "96 2019-06-05 16h 33m 46s TT_06699054642212334416.adc\n",
      "97 2019-06-05 16h 44m 01s TT_06699057283162667407.adc\n",
      "98 2019-06-05 16h 45m 49s TT_06699057747494722780.adc\n",
      "99 2019-06-05 16h 47m 40s TT_06699058225871413896.adc\n",
      "100 2019-06-05 16h 50m 46s TT_06699059022163744978.adc\n",
      "101 2019-06-05 16h 53m 00s TT_06699059599583063981.adc\n",
      "102 2019-06-05 16h 55m 37s TT_06699060275615507186.adc\n",
      "103 2019-06-05 16h 57m 20s TT_06699060717957185076.adc\n",
      "104 2019-06-05 16h 58m 45s TT_06699061080283084109.adc\n",
      "105 2019-06-05 17h 00m 26s TT_06699061515065580660.adc\n",
      "106 2019-06-05 17h 02m 18s TT_06699061996405828846.adc\n",
      "107 2019-06-05 17h 03m 59s TT_06699062430372281696.adc\n",
      "108 2019-06-05 17h 08m 52s TT_06699063704697718880.adc\n",
      "109 2019-06-05 17h 13m 03s TT_06699064784116211392.adc\n",
      "110 2019-06-05 17h 16m 31s TT_06699065674941441473.adc\n",
      "111 2019-06-05 17h 26m 34s TT_06699068343465640599.adc\n",
      "112 2019-06-05 17h 30m 11s TT_06699069199544340699.adc\n"
     ]
    }
   ],
   "source": [
    "for i, f in enumerate(files):\n",
    "    print(i, f)"
   ]
  },
  {
   "cell_type": "code",
   "execution_count": 63,
   "metadata": {},
   "outputs": [],
   "source": [
    "feedthrough_resistance = 1.25\n",
    "internal_resistance = 6.09\n",
    "CABLE_RESISTANCES = [1.7, 1.7, 1.7, 1.6]\n",
    "PROBE_RESISTANCES = {\n",
    "    'S': 1.0,\n",
    "    'L': 1.0,\n",
    "    'B': 1.0,\n",
    "    'R': 1.8\n",
    "}\n",
    "baseline_resistance = feedthrough_resistance + internal_resistance + 1.0 + 1.7"
   ]
  },
  {
   "cell_type": "markdown",
   "metadata": {},
   "source": [
    "### ADC Files Infos for resistor"
   ]
  },
  {
   "cell_type": "code",
   "execution_count": 64,
   "metadata": {},
   "outputs": [
    {
     "name": "stdout",
     "output_type": "stream",
     "text": [
      "\"2019-05-28_Leland/\" \t\t \"2019-05-28 12h 21m 44s TT_06696021067838019493.adc\"\n"
     ]
    }
   ],
   "source": [
    "adc_file = files[2]\n",
    "folder = folders[0]\n",
    "print('\"{}\" \\t\\t \"{}\"'.format(folder, adc_file))"
   ]
  },
  {
   "cell_type": "markdown",
   "metadata": {},
   "source": [
    "## Plots and Measurements of the 103.2 ohm resistor"
   ]
  },
  {
   "cell_type": "code",
   "execution_count": 67,
   "metadata": {},
   "outputs": [
    {
     "name": "stdout",
     "output_type": "stream",
     "text": [
      "Running an offline magopter object, operating in offline mode.\n",
      "0: 1997, 1: 1997\n"
     ]
    }
   ],
   "source": [
    "# uses S and L probes, 10ohm shunt resistor\n",
    "dsr = 10\n",
    "\n",
    "# The resistance through the circuit is only the cable + internal resistance as no probes were used (and therefore no feedthrough either)\n",
    "cabling_resistance = [1.7 + 6.09, 1.7 + 6.09]\n",
    "# cabling_resistance = 1.7 + 6.09\n",
    "\n",
    "# Create magopter object\n",
    "magopter = mg.Magoptoffline(folder, adc_file, shunt_resistor=10.0, cabling_resistance=cabling_resistance)\n",
    "magopter._VOLTAGE_CHANNEL = 3\n",
    "magopter._PROBE_CHANNEL_3 = 4\n",
    "magopter._PROBE_CHANNEL_4 = 5\n",
    "magopter.prepare(down_sampling_rate=dsr, roi_b_plasma=True, filter_arcs_fl=False, crit_freq=None, crit_ampl=None)\n",
    "\n",
    "print('0: {}, 1: {}'.format(len(magopter.iv_arrs[0]), len(magopter.iv_arrs[1])))"
   ]
  },
  {
   "cell_type": "code",
   "execution_count": 68,
   "metadata": {},
   "outputs": [],
   "source": [
    "fig, ax = plt.subplots(2, sharex=True)\n",
    "\n",
    "ax[0].plot(magopter.raw_time, magopter.voltage[0])\n",
    "ax[0].plot(magopter.raw_time, magopter.voltage[1])\n",
    "ax[0].set_ylabel(r'$V_P$ (V)')\n",
    "ax[1].plot(magopter.raw_time, magopter.current[0])\n",
    "ax[1].plot(magopter.raw_time, magopter.current[1])\n",
    "ax[1].set_ylabel(r'$I$ (A)')\n",
    "plt.show()"
   ]
  },
  {
   "cell_type": "code",
   "execution_count": 69,
   "metadata": {},
   "outputs": [
    {
     "data": {
      "text/plain": [
       "[<matplotlib.lines.Line2D at 0x7f025ee99cf8>]"
      ]
     },
     "execution_count": 69,
     "metadata": {},
     "output_type": "execute_result"
    }
   ],
   "source": [
    "plt.figure()\n",
    "plt.plot(magopter.voltage[0][:200], magopter.current[0][:200])"
   ]
  },
  {
   "cell_type": "code",
   "execution_count": 47,
   "metadata": {},
   "outputs": [
    {
     "name": "stdout",
     "output_type": "stream",
     "text": [
      "100000\n"
     ]
    }
   ],
   "source": [
    "print(len(magopter.voltage[0]))\n",
    "plt.figure()\n",
    "plt.plot(magopter.voltage[0][:100000], magopter.current[0][:100000])\n",
    "plt.show()"
   ]
  },
  {
   "cell_type": "code",
   "execution_count": 70,
   "metadata": {},
   "outputs": [],
   "source": [
    "ds_full = magopter.to_xarray(['resistor', 'empty']) "
   ]
  },
  {
   "cell_type": "code",
   "execution_count": 71,
   "metadata": {},
   "outputs": [],
   "source": [
    "fig, ax = plt.subplots(2, sharex=True)\n",
    "ds_full.mean(['sweep']).set_coords('voltage').sel(probe='resistor')['current'].plot.line(x='voltage', hue='direction', ax=ax[0])\n",
    "ds_full.mean(['sweep']).set_coords('voltage').sel(probe='empty')['current'].plot.line(x='voltage', hue='direction', ax=ax[1])\n",
    "plt.show()"
   ]
  },
  {
   "cell_type": "code",
   "execution_count": 72,
   "metadata": {},
   "outputs": [],
   "source": [
    "line_defaults = {\n",
    "    'color': 'grey',\n",
    "    'linewidth': .9,\n",
    "    'linestyle': '--'\n",
    "}"
   ]
  },
  {
   "cell_type": "markdown",
   "metadata": {},
   "source": [
    " Re-ran the following sections to see what the offset current was for the 10ohm shunt resistor. Found a value of ~0.001 (but in opposite directions for either coax) which makes negligible difference to IV characteristics which are, in general, ~2 orders of magnitude greater than this and therefore this would be lost in the noise. "
   ]
  },
  {
   "cell_type": "code",
   "execution_count": 83,
   "metadata": {},
   "outputs": [
    {
     "name": "stdout",
     "output_type": "stream",
     "text": [
      "Resistance: 105.2 +- 0.01\n",
      "Offset: -3.28e-07 +- 5e-05\n"
     ]
    }
   ],
   "source": [
    "sl_fitter = fts.StraightLineFitter()\n",
    "# fit_data = sl_fitter.fit(0.946 * magopter.voltage[0], magopter.current[0] - 0)\n",
    "fit_data = sl_fitter.fit(magopter.voltage[0], magopter.current[0] - -0.000925)\n",
    "resistance = 1 / fit_data.get_fit_params()[0].value\n",
    "d_resist = (resistance * fit_data.get_fit_params()[0].error) / fit_data.get_fit_params()[0].value\n",
    "print(f'Resistance: {resistance:.5g} +- {d_resist:.2g}')\n",
    "print(f'Offset: {fit_data.get_fit_params()[1].value:.3g} +- {fit_data.get_fit_params()[1].error:.1g}')\n"
   ]
  },
  {
   "cell_type": "code",
   "execution_count": 85,
   "metadata": {},
   "outputs": [
    {
     "name": "stdout",
     "output_type": "stream",
     "text": [
      "Resistance: 3.3203e+06 +- 7.9e+05\n",
      "Offset: 1.29e-05 +- 4e-06\n",
      "mean: 2.148281552649678e-19\n"
     ]
    }
   ],
   "source": [
    "empty_fit_data = sl_fitter.fit(magopter.voltage[1], magopter.current[1] - 0.0011659376454164726)\n",
    "empty_r = 1 / empty_fit_data.get_param('m')\n",
    "d_empty_r = (empty_r * empty_fit_data.get_param('m', errors_fl=True).error) / empty_fit_data.get_param('m')\n",
    "\n",
    "print(f'Resistance: {empty_r:.5g} +- {d_empty_r:.2g}')\n",
    "print(f'Offset: {empty_fit_data.get_param(\"y_0\"):.3g} +- {empty_fit_data.get_param(\"y_0\", errors_fl=True).error:.1g}')\n",
    "print(f'mean: {np.mean(magopter.current[1] - 0.0011659376454164726)}')"
   ]
  },
  {
   "cell_type": "code",
   "execution_count": 77,
   "metadata": {},
   "outputs": [
    {
     "data": {
      "text/plain": [
       "[<matplotlib.lines.Line2D at 0x7f025ce77eb8>]"
      ]
     },
     "execution_count": 77,
     "metadata": {},
     "output_type": "execute_result"
    }
   ],
   "source": [
    "res = []\n",
    "off = []\n",
    "offsets = np.linspace(-10, 10, 21)\n",
    "\n",
    "for offset in offsets:\n",
    "    fit_data = sl_fitter.fit(magopter.voltage[0], magopter.current[0] - offset)\n",
    "    res.append(1 / fit_data.get_fit_params()[0].value)\n",
    "    off.append(fit_data.get_fit_params()[1].value)\n",
    "\n",
    "fig, ax = plt.subplots(2)\n",
    "ax[0].plot(offsets, res)\n",
    "ax[1].plot(offsets, off)"
   ]
  },
  {
   "cell_type": "code",
   "execution_count": 82,
   "metadata": {},
   "outputs": [
    {
     "data": {
      "text/plain": [
       "[<matplotlib.lines.Line2D at 0x7f023fd07cf8>]"
      ]
     },
     "execution_count": 82,
     "metadata": {},
     "output_type": "execute_result"
    }
   ],
   "source": [
    "res = []\n",
    "d_res = []\n",
    "off = []\n",
    "scalars = np.linspace(0.8, 1.2, 21)\n",
    "\n",
    "for scalar in scalars:\n",
    "    fit_data = sl_fitter.fit(magopter.voltage[0], magopter.current[0] * scalar)\n",
    "    resist = 1 / fit_data.get_fit_params()[0].value\n",
    "    d_resist = (resistance * fit_data.get_fit_params()[0].error) / fit_data.get_fit_params()[0].value\n",
    "    res.append(resist)\n",
    "    d_res.append(d_resist)\n",
    "    off.append(fit_data.get_fit_params()[1].value)\n",
    "\n",
    "fig, ax = plt.subplots(2)\n",
    "ax[0].errorbar(scalars, res, yerr=d_res)\n",
    "ax[0].axhline(105.2, **line_defaults)\n",
    "ax[1].plot(scalars, off)"
   ]
  },
  {
   "cell_type": "code",
   "execution_count": 61,
   "metadata": {},
   "outputs": [
    {
     "name": "stdout",
     "output_type": "stream",
     "text": [
      "0) -0.37783118198469995 : 0.26971954757501665\n",
      "1) 0.0011659376454164726 : 0.0006954487134194552\n"
     ]
    }
   ],
   "source": [
    "for i in range(2):\n",
    "    print(f'{i}) {magopter.current[i].mean()} : {magopter.current[i].std()}')"
   ]
  },
  {
   "cell_type": "code",
   "execution_count": 80,
   "metadata": {},
   "outputs": [
    {
     "data": {
      "text/plain": [
       "[<matplotlib.lines.Line2D at 0x7f0255b8b2b0>]"
      ]
     },
     "execution_count": 80,
     "metadata": {},
     "output_type": "execute_result"
    }
   ],
   "source": [
    "res = []\n",
    "d_res = []\n",
    "off = []\n",
    "scalars = np.linspace(0.8, 1.2, 21)\n",
    "\n",
    "for scalar in scalars:\n",
    "    fit_data = sl_fitter.fit(magopter.voltage[0] * scalar, magopter.current[0])\n",
    "    resist = 1 / fit_data.get_fit_params()[0].value\n",
    "    d_resist = (resistance * fit_data.get_fit_params()[0].error) / fit_data.get_fit_params()[0].value\n",
    "    res.append(resist)\n",
    "    d_res.append(d_resist)\n",
    "    off.append(fit_data.get_fit_params()[1].value)\n",
    "\n",
    "fig, ax = plt.subplots(2)\n",
    "ax[0].errorbar(scalars, res, yerr=d_res)\n",
    "ax[0].axhline(105.2, **line_defaults)\n",
    "ax[1].plot(scalars, off)"
   ]
  },
  {
   "cell_type": "markdown",
   "metadata": {},
   "source": [
    "# Analysis of Empty Shot\n",
    "This is an analysis of an empty shot (no plasma but through the probes) which should help show ADC offsets and internal resistances"
   ]
  },
  {
   "cell_type": "code",
   "execution_count": 19,
   "metadata": {},
   "outputs": [],
   "source": [
    "# 0\t\t-\t2019-05-28 09:29:58\t6695992307612752513\n",
    "# 272\t-\t2019-06-05 09:58:51\t6698968431022989763\n",
    "# 334\t-\t2019-06-05 15:24:00\t6699052221659850975\n",
    "timestamps_oi = ['6695992307612752513', '6698968431022989763', '6699052221659850975']\n"
   ]
  },
  {
   "cell_type": "code",
   "execution_count": 20,
   "metadata": {},
   "outputs": [
    {
     "name": "stdout",
     "output_type": "stream",
     "text": [
      "0 2019-05-28 10h 30m 08s TT_06695992307612752513.adc\n",
      "33 2019-06-05 10h 59m 01s TT_06698968431022989763.adc\n",
      "95 2019-06-05 16h 24m 22s TT_06699052221659850975.adc\n",
      "[0, 33, 95]\n"
     ]
    }
   ],
   "source": [
    "indices_oi = []\n",
    "for i, f in enumerate(files):\n",
    "    if any(timestamp in f for timestamp in timestamps_oi):\n",
    "        print(i, f)\n",
    "        indices_oi.append(i)\n",
    "print(indices_oi)"
   ]
  },
  {
   "cell_type": "code",
   "execution_count": 21,
   "metadata": {},
   "outputs": [
    {
     "name": "stdout",
     "output_type": "stream",
     "text": [
      "2019-05-28_Leland/2019-05-28 10h 30m 08s TT_06695992307612752513.adc\n",
      "2019-06-05_Leland/2019-06-05 10h 59m 01s TT_06698968431022989763.adc\n",
      "2019-06-05_Leland/2019-06-05 16h 24m 22s TT_06699052221659850975.adc\n"
     ]
    }
   ],
   "source": [
    "adc_file_0 = files[indices_oi[0]]\n",
    "adc_file_1 = files[indices_oi[1]]\n",
    "adc_file_2 = files[indices_oi[2]]\n",
    "print(f'{folders[0]}{adc_file_0}')\n",
    "print(f'{folders[1]}{adc_file_1}')\n",
    "print(f'{folders[1]}{adc_file_2}')"
   ]
  },
  {
   "cell_type": "code",
   "execution_count": 23,
   "metadata": {},
   "outputs": [
    {
     "name": "stdout",
     "output_type": "stream",
     "text": [
      "2019-05-28_Leland/ 2019-05-28 10h 30m 08s TT_06695992307612752513.adc 10.0 [1.9, 1.9]\n",
      "Running an offline magopter object, operating in offline mode.\n",
      "0: 1992, 1: 1992\n"
     ]
    }
   ],
   "source": [
    "folder = folders[0]\n",
    "adc_file = adc_file_0\n",
    "shunt_resistor = 10.0\n",
    "\n",
    "dsr = 10\n",
    "# cabling_resistance = [1.2 + 0.7, 1.2 + 0.7]\n",
    "cabling_resistance = [baseline_resistance, baseline_resistance]\n",
    "\n",
    "print(folder, adc_file, shunt_resistor, cabling_resistance)\n",
    "\n",
    "\n",
    "# Create magopter object\n",
    "magopter = mg.Magoptoffline(folder, adc_file, shunt_resistor=1.0, cabling_resistance=cabling_resistance)\n",
    "magopter._VOLTAGE_CHANNEL = 3\n",
    "magopter._PROBE_CHANNEL_3 = 4\n",
    "magopter._PROBE_CHANNEL_4 = 5\n",
    "magopter.prepare(down_sampling_rate=dsr, roi_b_plasma=True, filter_arcs_fl=False, crit_freq=None, crit_ampl=None)\n",
    "\n",
    "print('0: {}, 1: {}'.format(len(magopter.iv_arrs[0]), len(magopter.iv_arrs[1])))"
   ]
  },
  {
   "cell_type": "code",
   "execution_count": 24,
   "metadata": {},
   "outputs": [],
   "source": [
    "fig, ax = plt.subplots(2, sharex=True)\n",
    "\n",
    "ax[0].plot(magopter.raw_time, magopter.voltage[0])\n",
    "ax[0].plot(magopter.raw_time, magopter.voltage[1])\n",
    "ax[0].set_ylabel(r'$V_P$ (V)')\n",
    "ax[1].plot(magopter.raw_time, magopter.current[0])\n",
    "ax[1].plot(magopter.raw_time, magopter.current[1])\n",
    "ax[1].set_ylabel(r'$I$ (A)')\n",
    "plt.show()"
   ]
  },
  {
   "cell_type": "code",
   "execution_count": 25,
   "metadata": {},
   "outputs": [
    {
     "name": "stdout",
     "output_type": "stream",
     "text": [
      "-0.04813597672664584\n",
      "-0.03822868483989308\n"
     ]
    }
   ],
   "source": [
    "print(np.mean(magopter.current[0]))\n",
    "print(np.mean(magopter.current[1]))"
   ]
  },
  {
   "cell_type": "code",
   "execution_count": 26,
   "metadata": {},
   "outputs": [],
   "source": [
    "ds_full = magopter.to_xarray(['resistor', 'empty'])\n",
    "fig, ax = plt.subplots(2, sharex=True)\n",
    "ds_full.mean(['sweep']).set_coords('voltage').sel(probe='resistor')['current'].plot.line(x='voltage', hue='direction', ax=ax[0])\n",
    "ds_full.mean(['sweep']).set_coords('voltage').sel(probe='empty')['current'].plot.line(x='voltage', hue='direction', ax=ax[1])\n",
    "plt.show()"
   ]
  },
  {
   "cell_type": "code",
   "execution_count": 28,
   "metadata": {},
   "outputs": [
    {
     "name": "stdout",
     "output_type": "stream",
     "text": [
      "Running an offline magopter object, operating in offline mode.\n",
      "0, ['empty1', 'empty2'] \n",
      "\tchannel_0 mean: -0.04813597672664584, \n",
      "\tchannel_1 mean: -0.03822868483989308\n",
      "Running an offline magopter object, operating in offline mode.\n",
      "1, ['S', 'L'] \n",
      "\tchannel_0 mean: 2.8810287489022813e-18, \n",
      "\tchannel_1 mean: -2.425171174991192e-18\n",
      "Running an offline magopter object, operating in offline mode.\n",
      "2, ['R', 'B'] \n",
      "\tchannel_0 mean: 0.0005036455711081326, \n",
      "\tchannel_1 mean: 0.0010024194546457987\n"
     ]
    }
   ],
   "source": [
    "folders_oi = ['2019-05-28_Leland/', '2019-06-05_Leland/', '2019-06-05_Leland/']\n",
    "res_oi = [10.0, 1., 1.]\n",
    "p_d = [\n",
    "    ['empty1', 'empty2'],\n",
    "    ['S', 'L'],\n",
    "    ['R', 'B'],\n",
    "]\n",
    "\n",
    "for i, index in enumerate(indices_oi):\n",
    "    adc_file = files[index]\n",
    "    folder = folders_oi[i]\n",
    "    shunt_resistor = res_oi[i]\n",
    "    \n",
    "    dsr = 10\n",
    "    cabling_resistance = [1.2 + 0.7, 1.2 + 0.7]\n",
    "    \n",
    "    magopter = mg.Magoptoffline(folder, adc_file, shunt_resistor=1.0, cabling_resistance=cabling_resistance)\n",
    "    magopter._VOLTAGE_CHANNEL = 3\n",
    "    magopter._PROBE_CHANNEL_3 = 4\n",
    "    magopter._PROBE_CHANNEL_4 = 5\n",
    "    magopter.prepare(down_sampling_rate=dsr, roi_b_plasma=True, filter_arcs_fl=False, crit_freq=None, crit_ampl=None)\n",
    "    \n",
    "    probes = p_d[i]\n",
    "    print(f'{i}, {probes} \\n'\n",
    "          f'\\tchannel_0 mean: {np.mean(magopter.current[0])}, \\n'\n",
    "          f'\\tchannel_1 mean: {np.mean(magopter.current[1])}')\n",
    "    \n",
    "    ds_full = magopter.to_xarray(probes)\n",
    "    \n",
    "    fig, ax = plt.subplots(2, sharex=True)\n",
    "    ds_full.mean(['sweep']).set_coords('voltage').sel(probe=probes[0])['current'].plot.line(x='voltage', hue='direction', ax=ax[0])\n",
    "    ds_full.mean(['sweep']).set_coords('voltage').sel(probe=probes[1])['current'].plot.line(x='voltage', hue='direction', ax=ax[1])\n",
    "    \n",
    "plt.show()"
   ]
  },
  {
   "cell_type": "code",
   "execution_count": 29,
   "metadata": {},
   "outputs": [],
   "source": [
    "import scipy.signal as sig"
   ]
  },
  {
   "cell_type": "code",
   "execution_count": 30,
   "metadata": {},
   "outputs": [
    {
     "data": {
      "text/plain": [
       "array([ 0.00249896,  0.00258628,  0.00214627, ...,  0.00137535,\n",
       "        0.00070056, -0.00047627])"
      ]
     },
     "execution_count": 30,
     "metadata": {},
     "output_type": "execute_result"
    }
   ],
   "source": [
    "sig.savgol_filter(magopter.current[0], 21, 5)"
   ]
  },
  {
   "cell_type": "code",
   "execution_count": null,
   "metadata": {},
   "outputs": [],
   "source": []
  }
 ],
 "metadata": {
  "kernelspec": {
   "display_name": "python3.6-codac",
   "language": "python",
   "name": "python3.6-codac"
  },
  "language_info": {
   "codemirror_mode": {
    "name": "ipython",
    "version": 3
   },
   "file_extension": ".py",
   "mimetype": "text/x-python",
   "name": "python",
   "nbconvert_exporter": "python",
   "pygments_lexer": "ipython3",
   "version": "3.6.9"
  }
 },
 "nbformat": 4,
 "nbformat_minor": 4
}
