{
 "cells": [
  {
   "cell_type": "markdown",
   "metadata": {},
   "source": [
    "# Iminuit Comparison\n",
    "This notebook looks at an example IV characteristic (shot 338 - as in single_shot_analysis_magnum.ipynb) and compares the use of curve_fit to the use of iminuit in terms of fitting quality and error analysis. "
   ]
  },
  {
   "cell_type": "code",
   "execution_count": 1,
   "metadata": {},
   "outputs": [],
   "source": [
    "%matplotlib tk\n",
    "import numpy as np\n",
    "import matplotlib.pyplot as plt\n",
    "import pandas as pd\n",
    "import xarray as xr \n",
    "import scipy.stats as stat\n",
    "import sys\n",
    "import os\n",
    "import glob\n",
    "import re\n",
    "import importlib\n",
    "sys.path.append('/home/jleland/Coding/Projects/flopter')\n",
    "import flopter.core.colours as col\n",
    "import flopter.core.ivdata as iv\n",
    "import flopter.core.lputils as lp\n",
    "import flopter.core.constants as c\n",
    "import flopter.magnum.database as ut\n",
    "import flopter.core.fitters as fts\n",
    "import flopter.magnum.utils as mgut"
   ]
  },
  {
   "cell_type": "code",
   "execution_count": 2,
   "metadata": {},
   "outputs": [],
   "source": [
    "# Create analysed dataset metadata \n",
    "\n",
    "path_to_datasets = '/home/jleland/data/external/magnum/'\n",
    "# path_to_analysed_datasets = 'analysed_4_downsampled'\n",
    "path_to_analysed_dns_datasets = 'analysed_4_downsampled'\n",
    "path_to_analysed_datasets = 'analysed_4'\n",
    "os.chdir(path_to_datasets)\n",
    "\n",
    "\n",
    "analysed_infos_df = mgut.get_dataset_metadata(path_to_analysed_datasets)\n",
    "analysed_dns_infos_df = mgut.get_dataset_metadata(path_to_analysed_dns_datasets)"
   ]
  },
  {
   "cell_type": "code",
   "execution_count": 3,
   "metadata": {},
   "outputs": [],
   "source": [
    "# adc_index = 329\n",
    "adc_index = 271"
   ]
  },
  {
   "cell_type": "code",
   "execution_count": 4,
   "metadata": {},
   "outputs": [
    {
     "data": {
      "text/plain": [
       "shot_number                                              256\n",
       "shot_timestamp                           6698686205167668224\n",
       "shot_time                                2019-06-04 15:43:40\n",
       "filename          analysed_4/a256_271_6698686205167668224.nc\n",
       "time_len                                                5000\n",
       "sweep_len                                                799\n",
       "Name: 271, dtype: object"
      ]
     },
     "execution_count": 4,
     "metadata": {},
     "output_type": "execute_result"
    }
   ],
   "source": [
    "analysed_infos_df.loc[adc_index]"
   ]
  },
  {
   "cell_type": "code",
   "execution_count": 5,
   "metadata": {},
   "outputs": [],
   "source": [
    "# shot_number = 337\n",
    "# shot_number = 338\n",
    "# shot_number = 339\n",
    "# shot_number = 330\n",
    "\n",
    "shot_number = 137\n",
    "\n",
    "# shot_number = 256\n",
    "\n",
    "shot_number = 239"
   ]
  },
  {
   "cell_type": "code",
   "execution_count": 6,
   "metadata": {},
   "outputs": [
    {
     "name": "stdout",
     "output_type": "stream",
     "text": [
      "['analysed_4/a239_252_6698670651268073472.nc']\n",
      "['analysed_4_downsampled/a239_252_6698670651268073472.nc']\n"
     ]
    }
   ],
   "source": [
    "# Get row from shot_number instead of ADC index\n",
    "shot_oi = analysed_infos_df.loc[analysed_infos_df['shot_number'] == shot_number]\n",
    "dns_shot_oi = analysed_dns_infos_df.loc[analysed_dns_infos_df['shot_number'] == shot_number]\n",
    "print(shot_oi['filename'].values)\n",
    "print(dns_shot_oi['filename'].values)"
   ]
  },
  {
   "cell_type": "code",
   "execution_count": 7,
   "metadata": {},
   "outputs": [],
   "source": [
    "analysis_ds = xr.open_dataset(shot_oi['filename'].values[0])\n",
    "dns_analysis_ds = xr.open_dataset(dns_shot_oi['filename'].values[0])\n",
    "\n",
    "metadata_ds = xr.open_dataset('all_meta_data.nc').sel(shot_number=shot_number).load()\n",
    "# print(analysis_ds)"
   ]
  },
  {
   "cell_type": "code",
   "execution_count": 8,
   "metadata": {},
   "outputs": [
    {
     "data": {
      "text/html": [
       "<div><svg style=\"position: absolute; width: 0; height: 0; overflow: hidden\">\n",
       "<defs>\n",
       "<symbol id=\"icon-database\" viewBox=\"0 0 32 32\">\n",
       "<title>Show/Hide data repr</title>\n",
       "<path d=\"M16 0c-8.837 0-16 2.239-16 5v4c0 2.761 7.163 5 16 5s16-2.239 16-5v-4c0-2.761-7.163-5-16-5z\"></path>\n",
       "<path d=\"M16 17c-8.837 0-16-2.239-16-5v6c0 2.761 7.163 5 16 5s16-2.239 16-5v-6c0 2.761-7.163 5-16 5z\"></path>\n",
       "<path d=\"M16 26c-8.837 0-16-2.239-16-5v6c0 2.761 7.163 5 16 5s16-2.239 16-5v-6c0 2.761-7.163 5-16 5z\"></path>\n",
       "</symbol>\n",
       "<symbol id=\"icon-file-text2\" viewBox=\"0 0 32 32\">\n",
       "<title>Show/Hide attributes</title>\n",
       "<path d=\"M28.681 7.159c-0.694-0.947-1.662-2.053-2.724-3.116s-2.169-2.030-3.116-2.724c-1.612-1.182-2.393-1.319-2.841-1.319h-15.5c-1.378 0-2.5 1.121-2.5 2.5v27c0 1.378 1.122 2.5 2.5 2.5h23c1.378 0 2.5-1.122 2.5-2.5v-19.5c0-0.448-0.137-1.23-1.319-2.841zM24.543 5.457c0.959 0.959 1.712 1.825 2.268 2.543h-4.811v-4.811c0.718 0.556 1.584 1.309 2.543 2.268zM28 29.5c0 0.271-0.229 0.5-0.5 0.5h-23c-0.271 0-0.5-0.229-0.5-0.5v-27c0-0.271 0.229-0.5 0.5-0.5 0 0 15.499-0 15.5 0v7c0 0.552 0.448 1 1 1h7v19.5z\"></path>\n",
       "<path d=\"M23 26h-14c-0.552 0-1-0.448-1-1s0.448-1 1-1h14c0.552 0 1 0.448 1 1s-0.448 1-1 1z\"></path>\n",
       "<path d=\"M23 22h-14c-0.552 0-1-0.448-1-1s0.448-1 1-1h14c0.552 0 1 0.448 1 1s-0.448 1-1 1z\"></path>\n",
       "<path d=\"M23 18h-14c-0.552 0-1-0.448-1-1s0.448-1 1-1h14c0.552 0 1 0.448 1 1s-0.448 1-1 1z\"></path>\n",
       "</symbol>\n",
       "</defs>\n",
       "</svg>\n",
       "<style>/* CSS stylesheet for displaying xarray objects in jupyterlab.\n",
       " *\n",
       " */\n",
       "\n",
       ":root {\n",
       "  --xr-font-color0: var(--jp-content-font-color0, rgba(0, 0, 0, 1));\n",
       "  --xr-font-color2: var(--jp-content-font-color2, rgba(0, 0, 0, 0.54));\n",
       "  --xr-font-color3: var(--jp-content-font-color3, rgba(0, 0, 0, 0.38));\n",
       "  --xr-border-color: var(--jp-border-color2, #e0e0e0);\n",
       "  --xr-disabled-color: var(--jp-layout-color3, #bdbdbd);\n",
       "  --xr-background-color: var(--jp-layout-color0, white);\n",
       "  --xr-background-color-row-even: var(--jp-layout-color1, white);\n",
       "  --xr-background-color-row-odd: var(--jp-layout-color2, #eeeeee);\n",
       "}\n",
       "\n",
       ".xr-wrap {\n",
       "  min-width: 300px;\n",
       "  max-width: 700px;\n",
       "}\n",
       "\n",
       ".xr-header {\n",
       "  padding-top: 6px;\n",
       "  padding-bottom: 6px;\n",
       "  margin-bottom: 4px;\n",
       "  border-bottom: solid 1px var(--xr-border-color);\n",
       "}\n",
       "\n",
       ".xr-header > div,\n",
       ".xr-header > ul {\n",
       "  display: inline;\n",
       "  margin-top: 0;\n",
       "  margin-bottom: 0;\n",
       "}\n",
       "\n",
       ".xr-obj-type,\n",
       ".xr-array-name {\n",
       "  margin-left: 2px;\n",
       "  margin-right: 10px;\n",
       "}\n",
       "\n",
       ".xr-obj-type {\n",
       "  color: var(--xr-font-color2);\n",
       "}\n",
       "\n",
       ".xr-sections {\n",
       "  padding-left: 0 !important;\n",
       "  display: grid;\n",
       "  grid-template-columns: 150px auto auto 1fr 20px 20px;\n",
       "}\n",
       "\n",
       ".xr-section-item {\n",
       "  display: contents;\n",
       "}\n",
       "\n",
       ".xr-section-item input {\n",
       "  display: none;\n",
       "}\n",
       "\n",
       ".xr-section-item input + label {\n",
       "  color: var(--xr-disabled-color);\n",
       "}\n",
       "\n",
       ".xr-section-item input:enabled + label {\n",
       "  cursor: pointer;\n",
       "  color: var(--xr-font-color2);\n",
       "}\n",
       "\n",
       ".xr-section-item input:enabled + label:hover {\n",
       "  color: var(--xr-font-color0);\n",
       "}\n",
       "\n",
       ".xr-section-summary {\n",
       "  grid-column: 1;\n",
       "  color: var(--xr-font-color2);\n",
       "  font-weight: 500;\n",
       "}\n",
       "\n",
       ".xr-section-summary > span {\n",
       "  display: inline-block;\n",
       "  padding-left: 0.5em;\n",
       "}\n",
       "\n",
       ".xr-section-summary-in:disabled + label {\n",
       "  color: var(--xr-font-color2);\n",
       "}\n",
       "\n",
       ".xr-section-summary-in + label:before {\n",
       "  display: inline-block;\n",
       "  content: '►';\n",
       "  font-size: 11px;\n",
       "  width: 15px;\n",
       "  text-align: center;\n",
       "}\n",
       "\n",
       ".xr-section-summary-in:disabled + label:before {\n",
       "  color: var(--xr-disabled-color);\n",
       "}\n",
       "\n",
       ".xr-section-summary-in:checked + label:before {\n",
       "  content: '▼';\n",
       "}\n",
       "\n",
       ".xr-section-summary-in:checked + label > span {\n",
       "  display: none;\n",
       "}\n",
       "\n",
       ".xr-section-summary,\n",
       ".xr-section-inline-details {\n",
       "  padding-top: 4px;\n",
       "  padding-bottom: 4px;\n",
       "}\n",
       "\n",
       ".xr-section-inline-details {\n",
       "  grid-column: 2 / -1;\n",
       "}\n",
       "\n",
       ".xr-section-details {\n",
       "  display: none;\n",
       "  grid-column: 1 / -1;\n",
       "  margin-bottom: 5px;\n",
       "}\n",
       "\n",
       ".xr-section-summary-in:checked ~ .xr-section-details {\n",
       "  display: contents;\n",
       "}\n",
       "\n",
       ".xr-array-wrap {\n",
       "  grid-column: 1 / -1;\n",
       "  display: grid;\n",
       "  grid-template-columns: 20px auto;\n",
       "}\n",
       "\n",
       ".xr-array-wrap > label {\n",
       "  grid-column: 1;\n",
       "  vertical-align: top;\n",
       "}\n",
       "\n",
       ".xr-preview {\n",
       "  color: var(--xr-font-color3);\n",
       "}\n",
       "\n",
       ".xr-array-preview,\n",
       ".xr-array-data {\n",
       "  padding: 0 5px !important;\n",
       "  grid-column: 2;\n",
       "}\n",
       "\n",
       ".xr-array-data,\n",
       ".xr-array-in:checked ~ .xr-array-preview {\n",
       "  display: none;\n",
       "}\n",
       "\n",
       ".xr-array-in:checked ~ .xr-array-data,\n",
       ".xr-array-preview {\n",
       "  display: inline-block;\n",
       "}\n",
       "\n",
       ".xr-dim-list {\n",
       "  display: inline-block !important;\n",
       "  list-style: none;\n",
       "  padding: 0 !important;\n",
       "  margin: 0;\n",
       "}\n",
       "\n",
       ".xr-dim-list li {\n",
       "  display: inline-block;\n",
       "  padding: 0;\n",
       "  margin: 0;\n",
       "}\n",
       "\n",
       ".xr-dim-list:before {\n",
       "  content: '(';\n",
       "}\n",
       "\n",
       ".xr-dim-list:after {\n",
       "  content: ')';\n",
       "}\n",
       "\n",
       ".xr-dim-list li:not(:last-child):after {\n",
       "  content: ',';\n",
       "  padding-right: 5px;\n",
       "}\n",
       "\n",
       ".xr-has-index {\n",
       "  font-weight: bold;\n",
       "}\n",
       "\n",
       ".xr-var-list,\n",
       ".xr-var-item {\n",
       "  display: contents;\n",
       "}\n",
       "\n",
       ".xr-var-item > div,\n",
       ".xr-var-item label,\n",
       ".xr-var-item > .xr-var-name span {\n",
       "  background-color: var(--xr-background-color-row-even);\n",
       "  margin-bottom: 0;\n",
       "}\n",
       "\n",
       ".xr-var-item > .xr-var-name:hover span {\n",
       "  padding-right: 5px;\n",
       "}\n",
       "\n",
       ".xr-var-list > li:nth-child(odd) > div,\n",
       ".xr-var-list > li:nth-child(odd) > label,\n",
       ".xr-var-list > li:nth-child(odd) > .xr-var-name span {\n",
       "  background-color: var(--xr-background-color-row-odd);\n",
       "}\n",
       "\n",
       ".xr-var-name {\n",
       "  grid-column: 1;\n",
       "}\n",
       "\n",
       ".xr-var-dims {\n",
       "  grid-column: 2;\n",
       "}\n",
       "\n",
       ".xr-var-dtype {\n",
       "  grid-column: 3;\n",
       "  text-align: right;\n",
       "  color: var(--xr-font-color2);\n",
       "}\n",
       "\n",
       ".xr-var-preview {\n",
       "  grid-column: 4;\n",
       "}\n",
       "\n",
       ".xr-var-name,\n",
       ".xr-var-dims,\n",
       ".xr-var-dtype,\n",
       ".xr-preview,\n",
       ".xr-attrs dt {\n",
       "  white-space: nowrap;\n",
       "  overflow: hidden;\n",
       "  text-overflow: ellipsis;\n",
       "  padding-right: 10px;\n",
       "}\n",
       "\n",
       ".xr-var-name:hover,\n",
       ".xr-var-dims:hover,\n",
       ".xr-var-dtype:hover,\n",
       ".xr-attrs dt:hover {\n",
       "  overflow: visible;\n",
       "  width: auto;\n",
       "  z-index: 1;\n",
       "}\n",
       "\n",
       ".xr-var-attrs,\n",
       ".xr-var-data {\n",
       "  display: none;\n",
       "  background-color: var(--xr-background-color) !important;\n",
       "  padding-bottom: 5px !important;\n",
       "}\n",
       "\n",
       ".xr-var-attrs-in:checked ~ .xr-var-attrs,\n",
       ".xr-var-data-in:checked ~ .xr-var-data {\n",
       "  display: block;\n",
       "}\n",
       "\n",
       ".xr-var-data > table {\n",
       "  float: right;\n",
       "}\n",
       "\n",
       ".xr-var-name span,\n",
       ".xr-var-data,\n",
       ".xr-attrs {\n",
       "  padding-left: 25px !important;\n",
       "}\n",
       "\n",
       ".xr-attrs,\n",
       ".xr-var-attrs,\n",
       ".xr-var-data {\n",
       "  grid-column: 1 / -1;\n",
       "}\n",
       "\n",
       "dl.xr-attrs {\n",
       "  padding: 0;\n",
       "  margin: 0;\n",
       "  display: grid;\n",
       "  grid-template-columns: 125px auto;\n",
       "}\n",
       "\n",
       ".xr-attrs dt, dd {\n",
       "  padding: 0;\n",
       "  margin: 0;\n",
       "  float: left;\n",
       "  padding-right: 10px;\n",
       "  width: auto;\n",
       "}\n",
       "\n",
       ".xr-attrs dt {\n",
       "  font-weight: normal;\n",
       "  grid-column: 1;\n",
       "}\n",
       "\n",
       ".xr-attrs dt:hover span {\n",
       "  display: inline-block;\n",
       "  background: var(--xr-background-color);\n",
       "  padding-right: 10px;\n",
       "}\n",
       "\n",
       ".xr-attrs dd {\n",
       "  grid-column: 2;\n",
       "  white-space: pre-wrap;\n",
       "  word-break: break-all;\n",
       "}\n",
       "\n",
       ".xr-icon-database,\n",
       ".xr-icon-file-text2 {\n",
       "  display: inline-block;\n",
       "  vertical-align: middle;\n",
       "  width: 1em;\n",
       "  height: 1.5em !important;\n",
       "  stroke-width: 0;\n",
       "  stroke: currentColor;\n",
       "  fill: currentColor;\n",
       "}\n",
       "</style><div class='xr-wrap'><div class='xr-header'><div class='xr-obj-type'>xarray.Dataset</div></div><ul class='xr-sections'><li class='xr-section-item'><input id='section-a7066c80-a6a9-482a-b0e7-265bbe43957b' class='xr-section-summary-in' type='checkbox' disabled ><label for='section-a7066c80-a6a9-482a-b0e7-265bbe43957b' class='xr-section-summary'  title='Expand/collapse section'>Dimensions:</label><div class='xr-section-inline-details'><ul class='xr-dim-list'><li><span class='xr-has-index'>direction</span>: 2</li><li><span class='xr-has-index'>probe</span>: 2</li><li><span>sweep</span>: 787</li><li><span class='xr-has-index'>time</span>: 5000</li></ul></div><div class='xr-section-details'></div></li><li class='xr-section-item'><input id='section-62ce9140-4988-4595-8478-26f14b7d4aa9' class='xr-section-summary-in' type='checkbox'  checked><label for='section-62ce9140-4988-4595-8478-26f14b7d4aa9' class='xr-section-summary' >Coordinates: <span>(3)</span></label><div class='xr-section-inline-details'></div><div class='xr-section-details'><ul class='xr-var-list'><li class='xr-var-item'><div class='xr-var-name'><span class='xr-has-index'>time</span></div><div class='xr-var-dims'>(time)</div><div class='xr-var-dtype'>float64</div><div class='xr-var-preview xr-preview'>0.0 1e-06 ... 0.004998 0.004999</div><input id='attrs-08cccfd4-ca59-4e7a-b2c8-db8799d8c555' class='xr-var-attrs-in' type='checkbox' disabled><label for='attrs-08cccfd4-ca59-4e7a-b2c8-db8799d8c555' title='Show/Hide attributes'><svg class='icon xr-icon-file-text2'><use xlink:href='#icon-file-text2'></use></svg></label><input id='data-6d3a6e3f-f105-4662-9eda-b3169c1c4516' class='xr-var-data-in' type='checkbox'><label for='data-6d3a6e3f-f105-4662-9eda-b3169c1c4516' title='Show/Hide data repr'><svg class='icon xr-icon-database'><use xlink:href='#icon-database'></use></svg></label><div class='xr-var-attrs'><dl class='xr-attrs'></dl></div><pre class='xr-var-data'>array([0.000000e+00, 1.000000e-06, 2.000000e-06, ..., 4.997001e-03,\n",
       "       4.998001e-03, 4.999001e-03])</pre></li><li class='xr-var-item'><div class='xr-var-name'><span class='xr-has-index'>direction</span></div><div class='xr-var-dims'>(direction)</div><div class='xr-var-dtype'>object</div><div class='xr-var-preview xr-preview'>&#x27;up&#x27; &#x27;down&#x27;</div><input id='attrs-10036c45-6fb1-4b7a-b03d-64b73bdd6c0a' class='xr-var-attrs-in' type='checkbox' disabled><label for='attrs-10036c45-6fb1-4b7a-b03d-64b73bdd6c0a' title='Show/Hide attributes'><svg class='icon xr-icon-file-text2'><use xlink:href='#icon-file-text2'></use></svg></label><input id='data-f8be6b9f-4d5c-4e61-b48a-637422f4b87e' class='xr-var-data-in' type='checkbox'><label for='data-f8be6b9f-4d5c-4e61-b48a-637422f4b87e' title='Show/Hide data repr'><svg class='icon xr-icon-database'><use xlink:href='#icon-database'></use></svg></label><div class='xr-var-attrs'><dl class='xr-attrs'></dl></div><pre class='xr-var-data'>array([&#x27;up&#x27;, &#x27;down&#x27;], dtype=object)</pre></li><li class='xr-var-item'><div class='xr-var-name'><span class='xr-has-index'>probe</span></div><div class='xr-var-dims'>(probe)</div><div class='xr-var-dtype'>object</div><div class='xr-var-preview xr-preview'>&#x27;S&#x27; &#x27;L&#x27;</div><input id='attrs-5c8dd8f2-ac8a-4f2f-a522-21f168467d0c' class='xr-var-attrs-in' type='checkbox' disabled><label for='attrs-5c8dd8f2-ac8a-4f2f-a522-21f168467d0c' title='Show/Hide attributes'><svg class='icon xr-icon-file-text2'><use xlink:href='#icon-file-text2'></use></svg></label><input id='data-7a6543a4-f057-42eb-9c44-c045d3374322' class='xr-var-data-in' type='checkbox'><label for='data-7a6543a4-f057-42eb-9c44-c045d3374322' title='Show/Hide data repr'><svg class='icon xr-icon-database'><use xlink:href='#icon-database'></use></svg></label><div class='xr-var-attrs'><dl class='xr-attrs'></dl></div><pre class='xr-var-data'>array([&#x27;S&#x27;, &#x27;L&#x27;], dtype=object)</pre></li></ul></div></li><li class='xr-section-item'><input id='section-7d7c7ee3-cd4f-4fb1-a777-5f11b58adb18' class='xr-section-summary-in' type='checkbox'  checked><label for='section-7d7c7ee3-cd4f-4fb1-a777-5f11b58adb18' class='xr-section-summary' >Data variables: <span>(4)</span></label><div class='xr-section-inline-details'></div><div class='xr-section-details'><ul class='xr-var-list'><li class='xr-var-item'><div class='xr-var-name'><span>voltage</span></div><div class='xr-var-dims'>(probe, direction, sweep, time)</div><div class='xr-var-dtype'>float64</div><div class='xr-var-preview xr-preview'>...</div><input id='attrs-904bad3a-8fdc-4a65-b3ac-5da18a1efea4' class='xr-var-attrs-in' type='checkbox' disabled><label for='attrs-904bad3a-8fdc-4a65-b3ac-5da18a1efea4' title='Show/Hide attributes'><svg class='icon xr-icon-file-text2'><use xlink:href='#icon-file-text2'></use></svg></label><input id='data-38db758f-5752-4ba0-9743-9e23cb2fa9fa' class='xr-var-data-in' type='checkbox'><label for='data-38db758f-5752-4ba0-9743-9e23cb2fa9fa' title='Show/Hide data repr'><svg class='icon xr-icon-database'><use xlink:href='#icon-database'></use></svg></label><div class='xr-var-attrs'><dl class='xr-attrs'></dl></div><pre class='xr-var-data'>[15740000 values with dtype=float64]</pre></li><li class='xr-var-item'><div class='xr-var-name'><span>current</span></div><div class='xr-var-dims'>(probe, direction, sweep, time)</div><div class='xr-var-dtype'>float64</div><div class='xr-var-preview xr-preview'>...</div><input id='attrs-e4571a20-e6e2-4cfb-bbad-0d5b4cdb3cbb' class='xr-var-attrs-in' type='checkbox' disabled><label for='attrs-e4571a20-e6e2-4cfb-bbad-0d5b4cdb3cbb' title='Show/Hide attributes'><svg class='icon xr-icon-file-text2'><use xlink:href='#icon-file-text2'></use></svg></label><input id='data-aced3d3c-8555-4a18-a284-35f2c971a9c7' class='xr-var-data-in' type='checkbox'><label for='data-aced3d3c-8555-4a18-a284-35f2c971a9c7' title='Show/Hide data repr'><svg class='icon xr-icon-database'><use xlink:href='#icon-database'></use></svg></label><div class='xr-var-attrs'><dl class='xr-attrs'></dl></div><pre class='xr-var-data'>[15740000 values with dtype=float64]</pre></li><li class='xr-var-item'><div class='xr-var-name'><span>shot_time</span></div><div class='xr-var-dims'>(probe, direction, sweep, time)</div><div class='xr-var-dtype'>float64</div><div class='xr-var-preview xr-preview'>...</div><input id='attrs-552d7990-be6e-4df6-bec8-8659d9ec0a0f' class='xr-var-attrs-in' type='checkbox' disabled><label for='attrs-552d7990-be6e-4df6-bec8-8659d9ec0a0f' title='Show/Hide attributes'><svg class='icon xr-icon-file-text2'><use xlink:href='#icon-file-text2'></use></svg></label><input id='data-9606e7f6-f962-4149-804c-be23facb38c5' class='xr-var-data-in' type='checkbox'><label for='data-9606e7f6-f962-4149-804c-be23facb38c5' title='Show/Hide data repr'><svg class='icon xr-icon-database'><use xlink:href='#icon-database'></use></svg></label><div class='xr-var-attrs'><dl class='xr-attrs'></dl></div><pre class='xr-var-data'>[15740000 values with dtype=float64]</pre></li><li class='xr-var-item'><div class='xr-var-name'><span>start_time</span></div><div class='xr-var-dims'>(probe, direction, sweep)</div><div class='xr-var-dtype'>float64</div><div class='xr-var-preview xr-preview'>...</div><input id='attrs-df3e5a17-2d0a-4fbe-ae75-1f6a58c6157a' class='xr-var-attrs-in' type='checkbox' disabled><label for='attrs-df3e5a17-2d0a-4fbe-ae75-1f6a58c6157a' title='Show/Hide attributes'><svg class='icon xr-icon-file-text2'><use xlink:href='#icon-file-text2'></use></svg></label><input id='data-47f1d6e4-1d34-4ecf-a9fd-ef7a06e088f5' class='xr-var-data-in' type='checkbox'><label for='data-47f1d6e4-1d34-4ecf-a9fd-ef7a06e088f5' title='Show/Hide data repr'><svg class='icon xr-icon-database'><use xlink:href='#icon-database'></use></svg></label><div class='xr-var-attrs'><dl class='xr-attrs'></dl></div><pre class='xr-var-data'>array([[[1.120005, 1.130005, ..., 8.970005, 8.980005],\n",
       "        [1.125005, 1.135005, ..., 8.975005, 8.985005]],\n",
       "\n",
       "       [[1.120005, 1.130005, ..., 8.970005, 8.980005],\n",
       "        [1.125005, 1.135005, ..., 8.975005, 8.985005]]])</pre></li></ul></div></li><li class='xr-section-item'><input id='section-005f1f6e-aa18-443e-88ee-8ba364fa5a75' class='xr-section-summary-in' type='checkbox' disabled ><label for='section-005f1f6e-aa18-443e-88ee-8ba364fa5a75' class='xr-section-summary'  title='Expand/collapse section'>Attributes: <span>(0)</span></label><div class='xr-section-inline-details'></div><div class='xr-section-details'><dl class='xr-attrs'></dl></div></li></ul></div></div>"
      ],
      "text/plain": [
       "<xarray.Dataset>\n",
       "Dimensions:     (direction: 2, probe: 2, sweep: 787, time: 5000)\n",
       "Coordinates:\n",
       "  * time        (time) float64 0.0 1e-06 2e-06 ... 0.004997 0.004998 0.004999\n",
       "  * direction   (direction) object 'up' 'down'\n",
       "  * probe       (probe) object 'S' 'L'\n",
       "Dimensions without coordinates: sweep\n",
       "Data variables:\n",
       "    voltage     (probe, direction, sweep, time) float64 ...\n",
       "    current     (probe, direction, sweep, time) float64 ...\n",
       "    shot_time   (probe, direction, sweep, time) float64 ...\n",
       "    start_time  (probe, direction, sweep) float64 ..."
      ]
     },
     "execution_count": 8,
     "metadata": {},
     "output_type": "execute_result"
    }
   ],
   "source": [
    "analysis_ds #['ts_temperature'].plot.line()"
   ]
  },
  {
   "cell_type": "code",
   "execution_count": 9,
   "metadata": {},
   "outputs": [],
   "source": [
    "# probe = 'S'\n",
    "probe = 'L'\n",
    "# probe = 'B'"
   ]
  },
  {
   "cell_type": "code",
   "execution_count": 10,
   "metadata": {},
   "outputs": [],
   "source": [
    "magnum_probes = lp.MagnumProbes()"
   ]
  },
  {
   "cell_type": "code",
   "execution_count": 11,
   "metadata": {},
   "outputs": [],
   "source": [
    "gaussian = fts.NormalisedGaussianFitter()"
   ]
  },
  {
   "cell_type": "code",
   "execution_count": 12,
   "metadata": {},
   "outputs": [],
   "source": [
    "# probe_colours = {\n",
    "#     'L': '#4477AA',\n",
    "#     'S': '#EE6677',\n",
    "#     'B': '#228833',\n",
    "#     'R': '#CCBB44'\n",
    "# }\n",
    "probe_colours = {\n",
    "    'L': col.palettes['c'][3],\n",
    "    'S': col.palettes['c'][2],\n",
    "    'B': col.palettes['c'][1],\n",
    "    'R': col.palettes['b'][2],\n",
    "}"
   ]
  },
  {
   "cell_type": "markdown",
   "metadata": {},
   "source": [
    "# Using curve_fit \n",
    "Using flopter.core.fitters to fit a 4-param fit to the sweep-averaged IV using non-linear least squares.\n",
    "This section has gotten a little out of control and now isn't really anything to do with comparing iminuit and curve_fit. The first section is a recreation of analysed_dataset processing, but expanded to include the non-downsampled datasets. These are both loaded in their entirety and coarsened (instead of downsampled) with every 100 values binned and averaged - a more rigorous approach (I think) than downsampling by taking every 100th value as it means the binned values can be used in the calculation of the standard deviation when sweep averaging.\n",
    "\n",
    "The section that follows is the prototype for the temperature minimisation algorithm, which is now implemented (as of 2020-06-16) as a method in IVData. This will be upgraded to allow the choice of minimisation parameter. \n",
    "\n",
    "A section follows this which tests the new methods for plotting and converting IVData objects into xarray datasets or pandas dataframes. \n",
    "\n",
    "The final section is a prototype for an enhanced gunn algorithm whereby the current due to sheath expansion current is subtracted to get the electron current, then a semi-log linear fit is used to extract the electron temperature. This can all then be combined to produce a synthetic/idealised IV characteristic which should (hopefully) yield an acceptable $\\chi^2_\\nu$"
   ]
  },
  {
   "cell_type": "code",
   "execution_count": 13,
   "metadata": {},
   "outputs": [
    {
     "name": "stdout",
     "output_type": "stream",
     "text": [
      "0 657 <xarray.DataArray 'current' (sweep: 787)>\n",
      "array([ True,  True,  True, False,  True,  True,  True,  True,  True,\n",
      "        True,  True,  True,  True,  True,  True,  True,  True,  True,\n",
      "        True,  True,  True,  True,  True,  True,  True,  True,  True,\n",
      "        True,  True,  True,  True,  True,  True,  True,  True,  True,\n",
      "        True,  True,  True,  True,  True,  True,  True,  True,  True,\n",
      "        True,  True,  True,  True,  True,  True,  True,  True,  True,\n",
      "        True,  True,  True,  True,  True,  True,  True,  True, False,\n",
      "        True,  True,  True,  True,  True,  True,  True,  True,  True,\n",
      "       False,  True,  True,  True,  True,  True,  True,  True,  True,\n",
      "        True,  True,  True,  True, False,  True, False,  True,  True,\n",
      "        True,  True,  True,  True,  True,  True,  True,  True,  True,\n",
      "        True,  True,  True,  True,  True,  True,  True,  True, False,\n",
      "        True,  True,  True,  True,  True,  True, False,  True,  True,\n",
      "        True,  True,  True,  True,  True,  True,  True,  True,  True,\n",
      "        True,  True,  True,  True,  True,  True,  True,  True,  True,\n",
      "        True,  True,  True,  True,  True,  True,  True,  True,  True,\n",
      "        True,  True,  True,  True,  True,  True,  True,  True,  True,\n",
      "        True,  True,  True,  True,  True,  True,  True,  True,  True,\n",
      "        True,  True,  True,  True,  True,  True,  True,  True,  True,\n",
      "        True,  True,  True,  True,  True,  True,  True,  True,  True,\n",
      "        True,  True,  True,  True,  True,  True,  True,  True,  True,\n",
      "        True,  True,  True,  True,  True,  True,  True,  True,  True,\n",
      "        True,  True,  True,  True,  True,  True,  True,  True,  True,\n",
      "        True,  True,  True,  True,  True,  True, False,  True,  True,\n",
      "        True,  True,  True,  True,  True,  True,  True,  True,  True,\n",
      "        True,  True,  True,  True,  True,  True,  True,  True,  True,\n",
      "       False,  True,  True,  True,  True,  True,  True,  True,  True,\n",
      "        True,  True,  True,  True,  True,  True,  True,  True,  True,\n",
      "        True,  True,  True,  True,  True,  True,  True,  True,  True,\n",
      "        True,  True,  True,  True,  True,  True,  True,  True,  True,\n",
      "       False,  True,  True,  True,  True,  True,  True,  True,  True,\n",
      "        True,  True,  True,  True,  True,  True,  True,  True,  True,\n",
      "        True,  True,  True,  True,  True,  True,  True,  True,  True,\n",
      "        True,  True,  True,  True,  True,  True,  True,  True,  True,\n",
      "        True,  True,  True,  True,  True,  True,  True,  True,  True,\n",
      "        True,  True,  True,  True,  True,  True,  True,  True,  True,\n",
      "        True,  True,  True,  True,  True,  True,  True,  True,  True,\n",
      "        True,  True,  True,  True,  True,  True,  True,  True,  True,\n",
      "        True,  True,  True,  True,  True,  True,  True,  True,  True,\n",
      "        True,  True,  True, False,  True,  True,  True,  True,  True,\n",
      "        True,  True,  True,  True, False,  True,  True,  True, False,\n",
      "        True,  True,  True,  True,  True,  True,  True,  True,  True,\n",
      "        True,  True,  True,  True,  True,  True,  True,  True,  True,\n",
      "        True,  True,  True,  True,  True,  True,  True,  True, False,\n",
      "        True, False,  True,  True,  True,  True,  True,  True,  True,\n",
      "        True,  True,  True,  True,  True,  True,  True,  True,  True,\n",
      "        True,  True,  True,  True, False,  True,  True,  True,  True,\n",
      "        True,  True,  True,  True,  True,  True,  True,  True,  True,\n",
      "        True,  True,  True,  True,  True,  True,  True,  True,  True,\n",
      "        True,  True,  True,  True,  True,  True,  True,  True,  True,\n",
      "        True,  True,  True,  True,  True,  True,  True,  True,  True,\n",
      "        True,  True,  True,  True,  True,  True,  True, False,  True,\n",
      "        True,  True,  True,  True,  True,  True,  True,  True,  True,\n",
      "        True,  True,  True,  True,  True,  True,  True,  True,  True,\n",
      "        True,  True,  True, False, False,  True,  True,  True,  True,\n",
      "        True,  True,  True,  True,  True,  True,  True,  True,  True,\n",
      "        True,  True,  True,  True,  True,  True,  True,  True, False,\n",
      "        True,  True,  True,  True,  True,  True,  True,  True,  True,\n",
      "        True,  True,  True, False,  True,  True,  True,  True,  True,\n",
      "        True,  True,  True,  True,  True,  True, False,  True,  True,\n",
      "        True,  True,  True,  True,  True,  True,  True,  True,  True,\n",
      "        True,  True,  True,  True,  True,  True,  True,  True,  True,\n",
      "        True,  True,  True,  True,  True,  True,  True,  True,  True,\n",
      "        True,  True,  True,  True,  True,  True,  True,  True,  True,\n",
      "        True,  True,  True,  True,  True,  True,  True,  True,  True,\n",
      "        True,  True,  True,  True,  True,  True,  True,  True,  True,\n",
      "        True,  True,  True,  True,  True,  True,  True,  True,  True,\n",
      "        True,  True,  True,  True,  True, False,  True,  True,  True,\n",
      "        True,  True,  True,  True,  True,  True,  True,  True,  True,\n",
      "        True,  True,  True,  True,  True,  True,  True,  True,  True,\n",
      "        True,  True,  True, False,  True,  True,  True,  True,  True,\n",
      "       False,  True,  True,  True,  True,  True,  True,  True,  True,\n",
      "        True,  True,  True,  True,  True,  True,  True,  True,  True,\n",
      "        True,  True,  True, False,  True, False, False, False, False,\n",
      "       False, False, False, False, False, False, False, False, False,\n",
      "       False, False, False, False, False, False, False, False, False,\n",
      "       False, False, False, False, False, False, False, False, False,\n",
      "       False, False, False, False, False, False, False, False, False,\n",
      "       False, False, False, False, False, False, False, False, False,\n",
      "       False, False, False, False, False, False, False, False, False,\n",
      "       False, False, False, False, False, False, False, False, False,\n",
      "       False, False, False, False, False, False, False, False, False,\n",
      "       False, False, False, False, False, False, False, False, False,\n",
      "       False, False, False, False, False, False, False, False, False,\n",
      "       False, False, False, False, False, False, False, False, False,\n",
      "       False, False, False, False, False, False, False, False, False,\n",
      "       False, False, False, False, False, False, False, False, False,\n",
      "       False, False, False, False])\n",
      "Dimensions without coordinates: sweep\n"
     ]
    }
   ],
   "source": [
    "swp_lim_dn, swp_lim_up = mgut.find_sweep_limit(analysis_ds)\n",
    "sweep_slc = mgut.find_allowed_sweeps(analysis_ds)\n",
    "print(swp_lim_dn, swp_lim_up, sweep_slc)\n"
   ]
  },
  {
   "cell_type": "code",
   "execution_count": 16,
   "metadata": {},
   "outputs": [],
   "source": [
    "# full_shot_ds = analysis_ds.sel(probe=probe).isel(sweep=slice(swp_lim_dn, swp_lim_up))\n",
    "full_shot_ds = analysis_ds.sel(probe=probe).isel(sweep=sweep_slc)\n",
    "full_sweep_avg_ds = full_shot_ds.mean(['sweep', 'direction'])\n",
    "\n",
    "# Assign errors\n",
    "full_sweep_avg_ds = full_sweep_avg_ds.assign({\n",
    "    'd_current': full_shot_ds.std(['sweep', 'direction'])['current'], \n",
    "#     'd_voltage': full_shot_ds.std(['sweep', 'direction'])['voltage'],\n",
    "    'stderr_current': full_shot_ds.std(['sweep', 'direction'])['current'] / np.sqrt(full_shot_ds['sweep'].size * full_shot_ds['direction'].size),\n",
    "#     'stderr_current': full_shot_ds.std(['sweep', 'direction'])['current'] / np.sqrt(full_shot_ds.std(['sweep', 'direction'])['current'].size), \n",
    "#     'stderr_voltage': full_shot_ds.std(['sweep', 'direction'])['voltage'] / np.sqrt(full_shot_ds.std(['sweep', 'direction'])['voltage'].size),\n",
    "}) \n"
   ]
  },
  {
   "cell_type": "code",
   "execution_count": 17,
   "metadata": {},
   "outputs": [
    {
     "name": "stdout",
     "output_type": "stream",
     "text": [
      "5000\n",
      "5000\n"
     ]
    }
   ],
   "source": [
    "print(full_shot_ds.std(['sweep', 'direction'])['current'].size)\n",
    "print(full_sweep_avg_ds['current'].size)"
   ]
  },
  {
   "cell_type": "code",
   "execution_count": 18,
   "metadata": {},
   "outputs": [],
   "source": [
    "# Comparison of the sweep range adjusted IV and the whole shot IV, with computation of errors in each bin\n",
    "\n",
    "downsample = 100\n",
    "semi_coarse_ds = analysis_ds.sel(probe=probe).coarsen(time=downsample).mean().mean('direction')\n",
    "# semi_coarse_ds = semi_coarse_ds #.mean(['sweep','direction'])\n",
    "\n",
    "fig, ax = plt.subplots(2, figsize=[8, 6])\n",
    "semi_coarse_ds['current'].min('time').plot.line(x='sweep', ax=ax[0], label='Whole Shot')\n",
    "semi_coarse_ds.isel(sweep=slice(swp_lim_dn, swp_lim_up))['current'].min('time').plot.line(x='sweep', ax=ax[0], label='Trimmed')\n",
    "ax[0].axvline(x=swp_lim_dn, ls='--', lw=0.8, color=probe_colours[probe], label='Example sweep pos.')\n",
    "\n",
    "# Assign \n",
    "semi_coarse_ds = semi_coarse_ds.assign({\n",
    "    'd_current': analysis_ds.sel(probe=probe).coarsen(time=downsample).std()['current'], \n",
    "    'stderr_current': analysis_ds.sel(probe=probe).coarsen(time=downsample).mean()['current'] / np.sqrt(downsample),     \n",
    "}) \n",
    "\n",
    "# plot a specific IV characteristic to get a feel for the errors (not averaged, as this would also average the errors together)\n",
    "ax[1].errorbar('voltage', 'current', yerr='d_current', data=semi_coarse_ds.isel(sweep=swp_lim_dn).sel(direction='up'), \n",
    "               label=f'IV at Sweep {swp_lim_dn}', ls='none', marker='x', color=probe_colours[probe])\n",
    "# ax[1].axvline(x=0, **c.AX_LINE_DEFAULTS)\n",
    "ax[1].axhline(y=0, **c.AX_LINE_DEFAULTS)\n",
    "# ax[1].errorbar('voltage', 'current', yerr='d_current', data=semi_coarse_ds.mean(['direction', 'sweep']))\n",
    "# ax[1].errorbar('voltage', 'current', yerr='d_current', data=semi_coarse_ds.isel(sweep=slice(*mgut.find_sweep_limit(analysis_ds))).mean(['direction', 'sweep']))\n",
    "\n",
    "ax[0].set_ylabel('Minimum Current [A]')\n",
    "ax[0].set_xlabel('Sweep Number')\n",
    "ax[1].set_xlabel('Probe Voltage [V]')\n",
    "ax[1].set_ylabel('Probe Current [A]')\n",
    "\n",
    "for axis in ax:\n",
    "    axis.legend()\n",
    "fig.tight_layout()"
   ]
  },
  {
   "cell_type": "code",
   "execution_count": 20,
   "metadata": {},
   "outputs": [],
   "source": [
    "semi_coarse_ds = analysis_ds.coarsen(time=downsample).mean()\n",
    "semi_coarse_ds = semi_coarse_ds.assign({\n",
    "    'd_current': analysis_ds.coarsen(time=downsample).std()['current'], \n",
    "    'stderr_current': analysis_ds.coarsen(time=downsample).mean()['current'] / np.sqrt(downsample),     \n",
    "}) "
   ]
  },
  {
   "cell_type": "code",
   "execution_count": 37,
   "metadata": {},
   "outputs": [],
   "source": [
    "fig, axes = plt.subplots(2, 2, figsize=[8, 6])\n",
    "selected_shot = 0\n",
    "# selected_shot = swp_lim_dn\n",
    "\n",
    "\n",
    "\n",
    "for i, probe in enumerate(['L', 'S']):\n",
    "    ax = axes[:,i]\n",
    "    \n",
    "    plot_ds = semi_coarse_ds.sel(probe=probe)\n",
    "\n",
    "    plot_ds.mean('direction')['current'].min('time')\\\n",
    "        .plot.line(x='sweep', ax=ax[0], label='Whole Shot', ls=':', color='grey')\n",
    "    \n",
    "    plot_ds.mean('direction').sel(sweep=sweep_slc)['current'].min('time')\\\n",
    "        .plot.line(x='sweep', ax=ax[0], label='Trimmed', color=probe_colours[probe])\n",
    "    \n",
    "    ax[0].axvline(x=selected_shot, ls='--', lw=1.5, color=probe_colours[probe], \n",
    "                  label='Example sweep pos.', alpha=0.3)\n",
    "\n",
    "    # Assign \n",
    "\n",
    "\n",
    "    # plot a specific IV characteristic to get a feel for the errors (not averaged, as this would also average the errors together)\n",
    "    ax[1].errorbar('time', 'voltage', yerr='d_current', \n",
    "                   data=plot_ds.isel(sweep=selected_shot).sel(direction='down'), \n",
    "                   label=f'IV at Sweep {selected_shot}', ls='none', marker='x', color=probe_colours[probe])\n",
    "#     ax[1].errorbar('voltage', 'current', yerr='d_current', \n",
    "#                    data=plot_ds.isel(sweep=selected_shot).sel(direction='up'), \n",
    "#                    label=f'IV at Sweep {selected_shot}', ls='none', marker='x', color=probe_colours[probe])\n",
    "    \n",
    "    ax[1].axhline(y=0, ls='-', color='black', lw=0.5)\n",
    "    ax[0].set_ylabel('')\n",
    "    if i == 0:\n",
    "        ax[0].set_ylabel('Minimum Current [A]')\n",
    "        ax[1].set_ylabel('Probe Current [A]')\n",
    "    ax[0].set_xlabel('Sweep Number')\n",
    "    ax[1].set_xlabel('Probe Voltage [V]')\n",
    "    \n",
    "    ax[0].set_title(f'Probe {probe}')\n",
    "    \n",
    "\n",
    "    for axis in ax:\n",
    "        axis.legend()\n",
    "fig.tight_layout()"
   ]
  },
  {
   "cell_type": "code",
   "execution_count": 22,
   "metadata": {},
   "outputs": [
    {
     "name": "stdout",
     "output_type": "stream",
     "text": [
      "<xarray.Dataset>\n",
      "Dimensions:         (time: 50)\n",
      "Coordinates:\n",
      "  * time            (time) float64 4.95e-05 0.0001495 ... 0.00485 0.00495\n",
      "    probe           <U1 'S'\n",
      "Data variables:\n",
      "    voltage         (time) float64 -49.47 -49.46 -49.43 ... -88.49 -88.45 -88.42\n",
      "    current         (time) float64 0.7871 0.7859 0.7837 ... -0.4357 -0.4373\n",
      "    shot_time       (time) float64 4.405 4.405 4.405 4.405 ... 4.405 4.405 4.405\n",
      "    start_time      float64 4.403\n",
      "    d_current       (time) float64 0.2089 0.2361 0.288 ... 0.04324 0.04125\n",
      "    stderr_current  (time) float64 0.0005763 0.0006513 ... 0.0001193 0.0001138\n"
     ]
    }
   ],
   "source": [
    "# This looks at the combined average of bin, direction and sweep, and the subsequent errors.\n",
    "downsample = 100\n",
    "\n",
    "sweeps_ds = analysis_ds.sel(probe=probe).isel(sweep=slice(swp_lim_dn, swp_lim_up))\n",
    "coarsening = sweeps_ds.reset_index('direction', drop=True).coarsen(time=downsample, direction=2, sweep=(swp_lim_up - swp_lim_dn))\n",
    "coarse_ds = coarsening.mean().squeeze()\n",
    "sweep_std_ds = coarsening.std().squeeze()\n",
    "\n",
    "coarse_ds = coarse_ds.assign({\n",
    "    'd_current': sweep_std_ds['current'], \n",
    "    'stderr_current': sweep_std_ds['current'] / np.sqrt(2 * (swp_lim_up - swp_lim_dn) * downsample),\n",
    "}) \n",
    "\n",
    "# num_blocks = sweeps_ds['time'].size // downsample\n",
    "# blocks_index = np.array([])\n",
    "# for block in range(num_blocks):\n",
    "#     np.append(blocks_index, np.zeros(downsample) + block)\n",
    "# print(blocks_index)\n",
    "\n",
    "print(coarse_ds)"
   ]
  },
  {
   "cell_type": "code",
   "execution_count": 25,
   "metadata": {},
   "outputs": [],
   "source": [
    "# Create the downsampled dataset from the alternative analysis_ds. This creates the sweep_avg_ds from previous versions of this notebook for the downsampled data. \n",
    "dns_shot_ds = dns_analysis_ds.sel(probe=probe).isel(sweep=slice(swp_lim_dn, swp_lim_up))\n",
    "dns_sweep_avg_ds = dns_shot_ds.mean(['sweep', 'direction'])\n",
    "\n",
    "# Assign errors\n",
    "dns_sweep_avg_ds = dns_sweep_avg_ds.assign({\n",
    "    'd_current': dns_shot_ds.std(['sweep', 'direction'])['current'], \n",
    "    'stderr_current': dns_shot_ds.std(['sweep', 'direction'])['current'] / np.sqrt(dns_shot_ds['sweep'].size * dns_shot_ds['direction'].size)\n",
    "}) "
   ]
  },
  {
   "cell_type": "code",
   "execution_count": 26,
   "metadata": {},
   "outputs": [
    {
     "data": {
      "text/plain": [
       "<matplotlib.legend.Legend at 0x7f3aace395c0>"
      ]
     },
     "execution_count": 26,
     "metadata": {},
     "output_type": "execute_result"
    }
   ],
   "source": [
    "fig, ax = plt.subplots(4, sharex=True)\n",
    "\n",
    "ax[0].errorbar('voltage', 'current', yerr='stderr_current', fmt='.', data=coarse_ds, label='coarsened')\n",
    "ax[1].errorbar('voltage', 'current', yerr='stderr_current', fmt='.', data=full_sweep_avg_ds, label='full')\n",
    "ax[2].errorbar('voltage', 'current', yerr='stderr_current', fmt='.', data=dns_sweep_avg_ds, label='downsampled')\n",
    "ax[0].legend()\n",
    "ax[1].legend()\n",
    "ax[2].legend()\n",
    "\n",
    "ax[3].plot('voltage', 'stderr_current', '.', data=full_sweep_avg_ds, label='full')\n",
    "ax[3].plot('voltage', 'stderr_current', '.', data=coarse_ds, label='coarsened')\n",
    "ax[3].plot('voltage', 'stderr_current', '.', data=dns_sweep_avg_ds, label='downsampled')\n",
    "ax[3].set_yscale('log')\n",
    "ax[3].legend()\n"
   ]
  },
  {
   "cell_type": "code",
   "execution_count": 27,
   "metadata": {},
   "outputs": [],
   "source": [
    "# sweep_avg_ds = coarse_ds\n",
    "# sweep_avg_ds = full_sweep_avg_ds\n",
    "sweep_avg_ds = dns_sweep_avg_ds"
   ]
  },
  {
   "cell_type": "markdown",
   "metadata": {},
   "source": [
    "---\n",
    "\n",
    "## Test for changes made to multi_fit\n",
    "Temperature minimisation fitting added on 2020-05-19"
   ]
  },
  {
   "cell_type": "code",
   "execution_count": 28,
   "metadata": {},
   "outputs": [
    {
     "name": "stdout",
     "output_type": "stream",
     "text": [
      "2.4754239741320965\n",
      "1.6026639780879661\n",
      "569.9260283039135\n"
     ]
    }
   ],
   "source": [
    "iv_data = iv.IVData.from_dataset(sweep_avg_ds, sigma='stderr_current')\n",
    "print(iv_data.multi_fit(plot_fl=False).reduced_chi2)\n",
    "print(iv_data.multi_fit(plot_fl=False, minimise_temp_fl=False).reduced_chi2)\n",
    "\n",
    "trim_iv_data = iv_data.lower_trim(16)\n",
    "print(fts.FullIVFitter().fit_iv_data(trim_iv_data, sigma=trim_iv_data['sigma']).reduced_chi2)"
   ]
  },
  {
   "cell_type": "code",
   "execution_count": 29,
   "metadata": {},
   "outputs": [
    {
     "data": {
      "text/plain": [
       "1.6026639780879346"
      ]
     },
     "execution_count": 29,
     "metadata": {},
     "output_type": "execute_result"
    }
   ],
   "source": [
    "fit_data = iv_data.multi_fit(plot_fl=True, minimise_temp_fl=False, sat_region=-65)\n",
    "fit_data.reduced_chi2"
   ]
  },
  {
   "cell_type": "code",
   "execution_count": 33,
   "metadata": {},
   "outputs": [
    {
     "data": {
      "text/plain": [
       "[<matplotlib.lines.Line2D at 0x7f3aa3bd9dd8>]"
      ]
     },
     "execution_count": 33,
     "metadata": {},
     "output_type": "execute_result"
    }
   ],
   "source": [
    "fig, ax = plt.subplots()\n",
    "ax.plot(iv_data['V'])"
   ]
  },
  {
   "cell_type": "markdown",
   "metadata": {},
   "source": [
    "---"
   ]
  },
  {
   "cell_type": "code",
   "execution_count": 24,
   "metadata": {},
   "outputs": [
    {
     "data": {
      "text/plain": [
       "<matplotlib.legend.Legend at 0x7fe842f0b198>"
      ]
     },
     "execution_count": 24,
     "metadata": {},
     "output_type": "execute_result"
    }
   ],
   "source": [
    "fig, axes = plt.subplots(2, sharex=True)\n",
    "\n",
    "axes[0].errorbar('voltage', 'current', yerr='d_current', data=sweep_avg_ds, linewidth=0.5)\n",
    "axes[0].fill_between(\n",
    "    sweep_avg_ds.voltage.values, \n",
    "    sweep_avg_ds.current.values + sweep_avg_ds.stderr_current.values, \n",
    "    sweep_avg_ds.current.values - sweep_avg_ds.stderr_current.values,\n",
    "    alpha=0.5\n",
    ")\n",
    "\n",
    "axes[1].plot('voltage', 'd_current', data=sweep_avg_ds, label='st dev.')\n",
    "axes[1].plot('voltage', 'stderr_current', data=sweep_avg_ds, label='st err.')\n",
    "axes[1].set_yscale('log')\n",
    "axes[1].legend()"
   ]
  },
  {
   "cell_type": "code",
   "execution_count": 25,
   "metadata": {},
   "outputs": [
    {
     "name": "stderr",
     "output_type": "stream",
     "text": [
      "/home/jleland/coding/environments/python3.6/lib/python3.6/site-packages/xarray/core/computation.py:604: RuntimeWarning: invalid value encountered in log\n",
      "  result_data = func(*input_data)\n"
     ]
    },
    {
     "data": {
      "text/plain": [
       "[<matplotlib.lines.Line2D at 0x7fe853dbbdd8>]"
      ]
     },
     "execution_count": 25,
     "metadata": {},
     "output_type": "execute_result"
    }
   ],
   "source": [
    "# Attempt at plotting semilog plot\n",
    "\n",
    "fig, axes = plt.subplots(2, sharex=True)\n",
    "\n",
    "axes[0].errorbar('voltage', 'current', yerr='stderr_current', data=sweep_avg_ds)\n",
    "axes[0].fill_between(\n",
    "    sweep_avg_ds.voltage.values, \n",
    "    sweep_avg_ds.current.values + sweep_avg_ds.d_current.values, \n",
    "    sweep_avg_ds.current.values - sweep_avg_ds.d_current.values,\n",
    "    alpha=0.5\n",
    ")\n",
    "\n",
    "axes[1].plot(sweep_avg_ds['voltage'], np.log(sweep_avg_ds['current'] / -0.18) + 1)\n",
    "# axes[1].set_yscale('log')\n"
   ]
  },
  {
   "cell_type": "markdown",
   "metadata": {},
   "source": [
    "Below is a function to run a fit of an IV for a given upper index, i.e. a position past the floating potential. The idea is that this could be transformed into a fitting function which minimises the temperature while scanning over the upper_index"
   ]
  },
  {
   "cell_type": "code",
   "execution_count": 26,
   "metadata": {},
   "outputs": [],
   "source": [
    "\n",
    "def fit_iv(sweep_avg_ds, upper_index, ax=None, multi_fit_fl=False, suppress_plotting_fl=False):\n",
    "    print(upper_index)\n",
    "    if ax is None and suppress_plotting_fl is False:\n",
    "        fig, ax = plt.subplots()\n",
    "\n",
    "    if sweep_avg_ds['voltage'].values[0] < sweep_avg_ds['voltage'].values[-1]:\n",
    "        sweep_trim_ds = sweep_avg_ds.isel(time=slice(0,upper_index))\n",
    "    else:\n",
    "        sweep_trim_ds = sweep_avg_ds.isel(time=slice(sweep_avg_ds.time.size - upper_index,-1))\n",
    "        \n",
    "    max_voltage = sweep_trim_ds['voltage'].max('time').values\n",
    "    \n",
    "    if not suppress_plotting_fl:\n",
    "#         fig.suptitle(f'upper_index = {upper_index}')\n",
    "        fig.suptitle(r'$V_{cutoff}$ = ' + f'{max_voltage:.2g}')\n",
    "        ax.errorbar(sweep_trim_ds['voltage'].values, -sweep_trim_ds['current'].values, \n",
    "        #             yerr=sweep_trim_ds['d_current'].values,\n",
    "                    yerr=sweep_trim_ds['stderr_current'].values,\n",
    "        #             xerr=sweep_trim_ds['d_voltage'].values,\n",
    "                    linestyle='none', color='k', ecolor='k', label='Sweep-averaged IV', zorder=2)\n",
    "\n",
    "\n",
    "        # Plot the whole IV in an inset axis\n",
    "        inner_ax = plt.axes([0.2, 0.35, .2, .2])\n",
    "        (-sweep_avg_ds.set_coords('voltage')['current']).plot(x='voltage', ax=inner_ax)\n",
    "        inner_ax.axvline(x=sweep_trim_ds.max('time')['voltage'].values, **c.AX_LINE_DEFAULTS)\n",
    "        inner_ax.set_title('Whole IV')\n",
    "        inner_ax.set_xlabel('V')\n",
    "        inner_ax.set_ylabel('I')\n",
    "        inner_ax.set_xticks([])\n",
    "        inner_ax.set_yticks([])\n",
    "\n",
    "    shot_iv = iv.IVData(sweep_trim_ds['voltage'].values,\n",
    "#                         -sweep_trim_ds['current'].values,\n",
    "                        -(sweep_trim_ds['current'].values - 0.001166),\n",
    "                        sweep_trim_ds['shot_time'].values,\n",
    "#                         sigma=sweep_trim_ds['d_current'].values)\n",
    "                        sigma=sweep_trim_ds['stderr_current'].values)\n",
    "    # shot_iv = iv.IVData(sweep_avg_ds['voltage'].values,\n",
    "    #                     -sweep_avg_ds['current'].values,\n",
    "    #                     sweep_avg_ds['shot_time'].values,\n",
    "    #                     sigma=sweep_avg_ds['stderr_current'].values)\n",
    "    \n",
    "    if multi_fit_fl:\n",
    "        shot_fit = shot_iv.multi_fit(sat_region=-52, minimise_temp_fl=False, trim_to_floating_fl=False)\n",
    "    else:\n",
    "        fitter = fts.FullIVFitter()\n",
    "        shot_fit = fitter.fit_iv_data(shot_iv, sigma=shot_iv['sigma'])\n",
    "    \n",
    "    fit_dens = magnum_probes.probe_s.get_density(shot_fit.get_isat(), shot_fit.get_temp(), alpha=np.radians(7.98))[0]\n",
    "#     print(fit_dens)\n",
    "\n",
    "    temp = metadata_ds.ts_temp_max.values\n",
    "    dens = metadata_ds.ts_dens_max.values\n",
    "    \n",
    "    if not suppress_plotting_fl:\n",
    "        chi_2_str = r\"$\\chi^2_{red}$\"\n",
    "        ax.plot(*shot_fit.get_fit_plottables(), label=f'Fit - T_e={shot_fit.get_temp():.3g}, n_e={fit_dens:.3g}, {chi_2_str} = {shot_fit.reduced_chi2:.3g}')\n",
    "\n",
    "        ax.legend()\n",
    "    \n",
    "#     return shot_fit\n",
    "    return shot_fit, shot_iv"
   ]
  },
  {
   "cell_type": "code",
   "execution_count": 29,
   "metadata": {},
   "outputs": [
    {
     "name": "stdout",
     "output_type": "stream",
     "text": [
      "35\n"
     ]
    },
    {
     "ename": "MultiFitError",
     "evalue": "RuntimeError occured in stage 3. \nOriginal error: Optimal parameters not found: The maximum number of function evaluations is exceeded.",
     "output_type": "error",
     "traceback": [
      "\u001b[0;31m---------------------------------------------------------------------------\u001b[0m",
      "\u001b[0;31mRuntimeError\u001b[0m                              Traceback (most recent call last)",
      "\u001b[0;32m~/coding/projects/flopter/flopter/core/ivdata.py\u001b[0m in \u001b[0;36mmulti_fit\u001b[0;34m(self, sat_region, stage_2_guess, iv_fitter, sat_fitter, fix_vf_fl, plot_fl, print_fl, minimise_temp_fl, trim_to_floating_fl, **kwargs)\u001b[0m\n\u001b[1;32m    402\u001b[0m             \u001b[0;32melse\u001b[0m\u001b[0;34m:\u001b[0m\u001b[0;34m\u001b[0m\u001b[0;34m\u001b[0m\u001b[0m\n\u001b[0;32m--> 403\u001b[0;31m                 \u001b[0mstage3_f_data\u001b[0m \u001b[0;34m=\u001b[0m \u001b[0miv_fitter\u001b[0m\u001b[0;34m.\u001b[0m\u001b[0mfit_iv_data\u001b[0m\u001b[0;34m(\u001b[0m\u001b[0miv_data_trim\u001b[0m\u001b[0;34m,\u001b[0m \u001b[0minitial_vals\u001b[0m\u001b[0;34m=\u001b[0m\u001b[0mparams\u001b[0m\u001b[0;34m,\u001b[0m \u001b[0msigma\u001b[0m\u001b[0;34m=\u001b[0m\u001b[0miv_data_trim\u001b[0m\u001b[0;34m[\u001b[0m\u001b[0mc\u001b[0m\u001b[0;34m.\u001b[0m\u001b[0mSIGMA\u001b[0m\u001b[0;34m]\u001b[0m\u001b[0;34m)\u001b[0m\u001b[0;34m\u001b[0m\u001b[0;34m\u001b[0m\u001b[0m\n\u001b[0m\u001b[1;32m    404\u001b[0m         \u001b[0;32mexcept\u001b[0m \u001b[0mRuntimeError\u001b[0m \u001b[0;32mas\u001b[0m \u001b[0me\u001b[0m\u001b[0;34m:\u001b[0m\u001b[0;34m\u001b[0m\u001b[0;34m\u001b[0m\u001b[0m\n",
      "\u001b[0;32m~/coding/projects/flopter/flopter/core/fitters.py\u001b[0m in \u001b[0;36mfit_iv_data\u001b[0;34m(self, iv_data, initial_vals, bounds, sigma, print_fl)\u001b[0m\n\u001b[1;32m    188\u001b[0m         \u001b[0mcurrent\u001b[0m \u001b[0;34m=\u001b[0m \u001b[0miv_data\u001b[0m\u001b[0;34m[\u001b[0m\u001b[0mc\u001b[0m\u001b[0;34m.\u001b[0m\u001b[0mCURRENT\u001b[0m\u001b[0;34m]\u001b[0m\u001b[0;34m\u001b[0m\u001b[0;34m\u001b[0m\u001b[0m\n\u001b[0;32m--> 189\u001b[0;31m         \u001b[0;32mreturn\u001b[0m \u001b[0mself\u001b[0m\u001b[0;34m.\u001b[0m\u001b[0mfit\u001b[0m\u001b[0;34m(\u001b[0m\u001b[0mpotential\u001b[0m\u001b[0;34m,\u001b[0m \u001b[0mcurrent\u001b[0m\u001b[0;34m,\u001b[0m \u001b[0minitial_vals\u001b[0m\u001b[0;34m,\u001b[0m \u001b[0mbounds\u001b[0m\u001b[0;34m,\u001b[0m \u001b[0msigma\u001b[0m\u001b[0;34m=\u001b[0m\u001b[0msigma\u001b[0m\u001b[0;34m,\u001b[0m \u001b[0mprint_fl\u001b[0m\u001b[0;34m=\u001b[0m\u001b[0mprint_fl\u001b[0m\u001b[0;34m)\u001b[0m\u001b[0;34m\u001b[0m\u001b[0;34m\u001b[0m\u001b[0m\n\u001b[0m\u001b[1;32m    190\u001b[0m \u001b[0;34m\u001b[0m\u001b[0m\n",
      "\u001b[0;32m~/coding/projects/flopter/flopter/core/fitters.py\u001b[0m in \u001b[0;36mfit\u001b[0;34m(self, x_data, y_data, initial_vals, bounds, print_fl, sigma)\u001b[0m\n\u001b[1;32m    181\u001b[0m         \u001b[0;31m# Fit the data and return an IVFitData object.\u001b[0m\u001b[0;34m\u001b[0m\u001b[0;34m\u001b[0m\u001b[0;34m\u001b[0m\u001b[0m\n\u001b[0;32m--> 182\u001b[0;31m         \u001b[0mfit_data\u001b[0m \u001b[0;34m=\u001b[0m \u001b[0msuper\u001b[0m\u001b[0;34m(\u001b[0m\u001b[0;34m)\u001b[0m\u001b[0;34m.\u001b[0m\u001b[0mfit\u001b[0m\u001b[0;34m(\u001b[0m\u001b[0mx_data\u001b[0m\u001b[0;34m,\u001b[0m \u001b[0my_data\u001b[0m\u001b[0;34m,\u001b[0m \u001b[0minitial_vals\u001b[0m\u001b[0;34m=\u001b[0m\u001b[0minitial_vals\u001b[0m\u001b[0;34m,\u001b[0m \u001b[0mbounds\u001b[0m\u001b[0;34m=\u001b[0m\u001b[0mbounds\u001b[0m\u001b[0;34m,\u001b[0m \u001b[0msigma\u001b[0m\u001b[0;34m=\u001b[0m\u001b[0msigma\u001b[0m\u001b[0;34m)\u001b[0m\u001b[0;34m\u001b[0m\u001b[0;34m\u001b[0m\u001b[0m\n\u001b[0m\u001b[1;32m    183\u001b[0m         \u001b[0;32mreturn\u001b[0m \u001b[0mIVFitData\u001b[0m\u001b[0;34m.\u001b[0m\u001b[0mfrom_fit_data\u001b[0m\u001b[0;34m(\u001b[0m\u001b[0mfit_data\u001b[0m\u001b[0;34m)\u001b[0m\u001b[0;34m\u001b[0m\u001b[0;34m\u001b[0m\u001b[0m\n",
      "\u001b[0;32m~/coding/projects/flopter/flopter/core/fitters.py\u001b[0m in \u001b[0;36mfit\u001b[0;34m(self, x_data, y_data, initial_vals, bounds, sigma)\u001b[0m\n\u001b[1;32m     78\u001b[0m \u001b[0;34m\u001b[0m\u001b[0m\n\u001b[0;32m---> 79\u001b[0;31m         \u001b[0mfit_vals\u001b[0m\u001b[0;34m,\u001b[0m \u001b[0mfit_cov\u001b[0m \u001b[0;34m=\u001b[0m \u001b[0mcurve_fit\u001b[0m\u001b[0;34m(\u001b[0m\u001b[0mself\u001b[0m\u001b[0;34m.\u001b[0m\u001b[0m_curve_fit_func\u001b[0m\u001b[0;34m,\u001b[0m \u001b[0mx_data\u001b[0m\u001b[0;34m,\u001b[0m \u001b[0my_data\u001b[0m\u001b[0;34m,\u001b[0m \u001b[0mp0\u001b[0m\u001b[0;34m=\u001b[0m\u001b[0minitial_vals\u001b[0m\u001b[0;34m,\u001b[0m \u001b[0mbounds\u001b[0m\u001b[0;34m=\u001b[0m\u001b[0mbounds\u001b[0m\u001b[0;34m,\u001b[0m \u001b[0msigma\u001b[0m\u001b[0;34m=\u001b[0m\u001b[0msigma\u001b[0m\u001b[0;34m)\u001b[0m\u001b[0;34m\u001b[0m\u001b[0;34m\u001b[0m\u001b[0m\n\u001b[0m\u001b[1;32m     80\u001b[0m         \u001b[0mfit_sterrs\u001b[0m \u001b[0;34m=\u001b[0m \u001b[0mnp\u001b[0m\u001b[0;34m.\u001b[0m\u001b[0msqrt\u001b[0m\u001b[0;34m(\u001b[0m\u001b[0mnp\u001b[0m\u001b[0;34m.\u001b[0m\u001b[0mdiag\u001b[0m\u001b[0;34m(\u001b[0m\u001b[0mfit_cov\u001b[0m\u001b[0;34m)\u001b[0m\u001b[0;34m)\u001b[0m\u001b[0;34m\u001b[0m\u001b[0;34m\u001b[0m\u001b[0m\n",
      "\u001b[0;32m~/coding/environments/python3.6/lib/python3.6/site-packages/scipy/optimize/minpack.py\u001b[0m in \u001b[0;36mcurve_fit\u001b[0;34m(f, xdata, ydata, p0, sigma, absolute_sigma, check_finite, bounds, method, jac, **kwargs)\u001b[0m\n\u001b[1;32m    765\u001b[0m         \u001b[0;32mif\u001b[0m \u001b[0;32mnot\u001b[0m \u001b[0mres\u001b[0m\u001b[0;34m.\u001b[0m\u001b[0msuccess\u001b[0m\u001b[0;34m:\u001b[0m\u001b[0;34m\u001b[0m\u001b[0;34m\u001b[0m\u001b[0m\n\u001b[0;32m--> 766\u001b[0;31m             \u001b[0;32mraise\u001b[0m \u001b[0mRuntimeError\u001b[0m\u001b[0;34m(\u001b[0m\u001b[0;34m\"Optimal parameters not found: \"\u001b[0m \u001b[0;34m+\u001b[0m \u001b[0mres\u001b[0m\u001b[0;34m.\u001b[0m\u001b[0mmessage\u001b[0m\u001b[0;34m)\u001b[0m\u001b[0;34m\u001b[0m\u001b[0;34m\u001b[0m\u001b[0m\n\u001b[0m\u001b[1;32m    767\u001b[0m \u001b[0;34m\u001b[0m\u001b[0m\n",
      "\u001b[0;31mRuntimeError\u001b[0m: Optimal parameters not found: The maximum number of function evaluations is exceeded.",
      "\nDuring handling of the above exception, another exception occurred:\n",
      "\u001b[0;31mMultiFitError\u001b[0m                             Traceback (most recent call last)",
      "\u001b[0;32m<ipython-input-29-3e73b4f711dc>\u001b[0m in \u001b[0;36m<module>\u001b[0;34m\u001b[0m\n\u001b[1;32m      5\u001b[0m \u001b[0;34m\u001b[0m\u001b[0m\n\u001b[1;32m      6\u001b[0m \u001b[0;32mfor\u001b[0m \u001b[0mi\u001b[0m \u001b[0;32min\u001b[0m \u001b[0mvarying_indices\u001b[0m\u001b[0;34m:\u001b[0m\u001b[0;34m\u001b[0m\u001b[0;34m\u001b[0m\u001b[0m\n\u001b[0;32m----> 7\u001b[0;31m     \u001b[0mshot_fit\u001b[0m\u001b[0;34m,\u001b[0m \u001b[0mshot_iv\u001b[0m \u001b[0;34m=\u001b[0m \u001b[0mfit_iv\u001b[0m\u001b[0;34m(\u001b[0m\u001b[0msweep_avg_ds\u001b[0m\u001b[0;34m,\u001b[0m \u001b[0mi\u001b[0m\u001b[0;34m,\u001b[0m \u001b[0msuppress_plotting_fl\u001b[0m\u001b[0;34m=\u001b[0m\u001b[0;32mFalse\u001b[0m\u001b[0;34m,\u001b[0m \u001b[0mmulti_fit_fl\u001b[0m\u001b[0;34m=\u001b[0m\u001b[0;32mTrue\u001b[0m\u001b[0;34m)\u001b[0m\u001b[0;34m\u001b[0m\u001b[0;34m\u001b[0m\u001b[0m\n\u001b[0m\u001b[1;32m      8\u001b[0m     \u001b[0mshot_ivs\u001b[0m\u001b[0;34m.\u001b[0m\u001b[0mappend\u001b[0m\u001b[0;34m(\u001b[0m\u001b[0mshot_iv\u001b[0m\u001b[0;34m)\u001b[0m\u001b[0;34m\u001b[0m\u001b[0;34m\u001b[0m\u001b[0m\n\u001b[1;32m      9\u001b[0m     \u001b[0mshot_fits\u001b[0m\u001b[0;34m.\u001b[0m\u001b[0mappend\u001b[0m\u001b[0;34m(\u001b[0m\u001b[0mshot_fit\u001b[0m\u001b[0;34m)\u001b[0m\u001b[0;34m\u001b[0m\u001b[0;34m\u001b[0m\u001b[0m\n",
      "\u001b[0;32m<ipython-input-26-cd8e3932f4e5>\u001b[0m in \u001b[0;36mfit_iv\u001b[0;34m(sweep_avg_ds, upper_index, ax, multi_fit_fl, suppress_plotting_fl)\u001b[0m\n\u001b[1;32m     43\u001b[0m \u001b[0;34m\u001b[0m\u001b[0m\n\u001b[1;32m     44\u001b[0m     \u001b[0;32mif\u001b[0m \u001b[0mmulti_fit_fl\u001b[0m\u001b[0;34m:\u001b[0m\u001b[0;34m\u001b[0m\u001b[0;34m\u001b[0m\u001b[0m\n\u001b[0;32m---> 45\u001b[0;31m         \u001b[0mshot_fit\u001b[0m \u001b[0;34m=\u001b[0m \u001b[0mshot_iv\u001b[0m\u001b[0;34m.\u001b[0m\u001b[0mmulti_fit\u001b[0m\u001b[0;34m(\u001b[0m\u001b[0msat_region\u001b[0m\u001b[0;34m=\u001b[0m\u001b[0;34m-\u001b[0m\u001b[0;36m52\u001b[0m\u001b[0;34m,\u001b[0m \u001b[0mminimise_temp_fl\u001b[0m\u001b[0;34m=\u001b[0m\u001b[0;32mFalse\u001b[0m\u001b[0;34m,\u001b[0m \u001b[0mtrim_to_floating_fl\u001b[0m\u001b[0;34m=\u001b[0m\u001b[0;32mFalse\u001b[0m\u001b[0;34m)\u001b[0m\u001b[0;34m\u001b[0m\u001b[0;34m\u001b[0m\u001b[0m\n\u001b[0m\u001b[1;32m     46\u001b[0m     \u001b[0;32melse\u001b[0m\u001b[0;34m:\u001b[0m\u001b[0;34m\u001b[0m\u001b[0;34m\u001b[0m\u001b[0m\n\u001b[1;32m     47\u001b[0m         \u001b[0mfitter\u001b[0m \u001b[0;34m=\u001b[0m \u001b[0mfts\u001b[0m\u001b[0;34m.\u001b[0m\u001b[0mFullIVFitter\u001b[0m\u001b[0;34m(\u001b[0m\u001b[0;34m)\u001b[0m\u001b[0;34m\u001b[0m\u001b[0;34m\u001b[0m\u001b[0m\n",
      "\u001b[0;32m~/coding/projects/flopter/flopter/core/ivdata.py\u001b[0m in \u001b[0;36mmulti_fit\u001b[0;34m(self, sat_region, stage_2_guess, iv_fitter, sat_fitter, fix_vf_fl, plot_fl, print_fl, minimise_temp_fl, trim_to_floating_fl, **kwargs)\u001b[0m\n\u001b[1;32m    403\u001b[0m                 \u001b[0mstage3_f_data\u001b[0m \u001b[0;34m=\u001b[0m \u001b[0miv_fitter\u001b[0m\u001b[0;34m.\u001b[0m\u001b[0mfit_iv_data\u001b[0m\u001b[0;34m(\u001b[0m\u001b[0miv_data_trim\u001b[0m\u001b[0;34m,\u001b[0m \u001b[0minitial_vals\u001b[0m\u001b[0;34m=\u001b[0m\u001b[0mparams\u001b[0m\u001b[0;34m,\u001b[0m \u001b[0msigma\u001b[0m\u001b[0;34m=\u001b[0m\u001b[0miv_data_trim\u001b[0m\u001b[0;34m[\u001b[0m\u001b[0mc\u001b[0m\u001b[0;34m.\u001b[0m\u001b[0mSIGMA\u001b[0m\u001b[0;34m]\u001b[0m\u001b[0;34m)\u001b[0m\u001b[0;34m\u001b[0m\u001b[0;34m\u001b[0m\u001b[0m\n\u001b[1;32m    404\u001b[0m         \u001b[0;32mexcept\u001b[0m \u001b[0mRuntimeError\u001b[0m \u001b[0;32mas\u001b[0m \u001b[0me\u001b[0m\u001b[0;34m:\u001b[0m\u001b[0;34m\u001b[0m\u001b[0;34m\u001b[0m\u001b[0m\n\u001b[0;32m--> 405\u001b[0;31m             raise MultiFitError(f'RuntimeError occured in stage 3. \\n'\n\u001b[0m\u001b[1;32m    406\u001b[0m                                 f'Original error: {e}')\n\u001b[1;32m    407\u001b[0m \u001b[0;34m\u001b[0m\u001b[0m\n",
      "\u001b[0;31mMultiFitError\u001b[0m: RuntimeError occured in stage 3. \nOriginal error: Optimal parameters not found: The maximum number of function evaluations is exceeded."
     ]
    }
   ],
   "source": [
    "shot_fits = []\n",
    "shot_ivs = []\n",
    "varying_indices = np.arange(35,51)\n",
    "# varying_indices = np.arange(3600,5000,50)\n",
    "\n",
    "for i in varying_indices:\n",
    "    shot_fit, shot_iv = fit_iv(sweep_avg_ds, i, suppress_plotting_fl=False, multi_fit_fl=True)\n",
    "    shot_ivs.append(shot_iv)\n",
    "    shot_fits.append(shot_fit)"
   ]
  },
  {
   "cell_type": "code",
   "execution_count": 28,
   "metadata": {},
   "outputs": [
    {
     "ename": "NameError",
     "evalue": "name 'shot_iv' is not defined",
     "output_type": "error",
     "traceback": [
      "\u001b[0;31m---------------------------------------------------------------------------\u001b[0m",
      "\u001b[0;31mNameError\u001b[0m                                 Traceback (most recent call last)",
      "\u001b[0;32m<ipython-input-28-1cc53acd9843>\u001b[0m in \u001b[0;36m<module>\u001b[0;34m\u001b[0m\n\u001b[0;32m----> 1\u001b[0;31m \u001b[0mgunn_f_data\u001b[0m\u001b[0;34m,\u001b[0m \u001b[0mgunn_iv_data\u001b[0m \u001b[0;34m=\u001b[0m \u001b[0mshot_iv\u001b[0m\u001b[0;34m.\u001b[0m\u001b[0mgunn_fit\u001b[0m\u001b[0;34m(\u001b[0m\u001b[0mplot_fl\u001b[0m\u001b[0;34m=\u001b[0m\u001b[0;32mTrue\u001b[0m\u001b[0;34m)\u001b[0m\u001b[0;34m\u001b[0m\u001b[0;34m\u001b[0m\u001b[0m\n\u001b[0m",
      "\u001b[0;31mNameError\u001b[0m: name 'shot_iv' is not defined"
     ]
    }
   ],
   "source": [
    "gunn_f_data, gunn_iv_data = shot_iv.gunn_fit(plot_fl=True)"
   ]
  },
  {
   "cell_type": "code",
   "execution_count": 66,
   "metadata": {},
   "outputs": [],
   "source": [
    "volts = []\n",
    "temps = []\n",
    "d_temps = []\n",
    "chis = []\n",
    "for shot_fit in shot_fits:\n",
    "    volts.append(np.max(shot_fit.raw_x))\n",
    "    temps.append(shot_fit.get_temp())\n",
    "    d_temps.append(shot_fit.get_temp_err())\n",
    "    chis.append(shot_fit.reduced_chi2)\n",
    "volts = np.array(volts)\n",
    "temps = np.array(temps)\n",
    "d_temps = np.array(d_temps)\n",
    "chis = np.array(chis)     "
   ]
  },
  {
   "cell_type": "code",
   "execution_count": 67,
   "metadata": {},
   "outputs": [
    {
     "name": "stdout",
     "output_type": "stream",
     "text": [
      "43.0\n"
     ]
    }
   ],
   "source": [
    "floating_interp = sweep_avg_ds.swap_dims({'time':'current'}).interp(current=0).voltage\n",
    "print((floating_interp.time * 10000).round().values)"
   ]
  },
  {
   "cell_type": "code",
   "execution_count": 68,
   "metadata": {},
   "outputs": [
    {
     "data": {
      "text/plain": [
       "<matplotlib.lines.Line2D at 0x7fa402123e80>"
      ]
     },
     "execution_count": 68,
     "metadata": {},
     "output_type": "execute_result"
    }
   ],
   "source": [
    "# Plot of fitted variables as a function of trimming index\n",
    "\n",
    "fig, ax = plt.subplots(3, sharex=True)\n",
    "ax[0].errorbar(volts, temps, yerr=d_temps)\n",
    "ax[1].plot(volts, chis)\n",
    "ax[1].set_yscale('log')\n",
    "ax[1].set_ylabel(r'$\\chi^2_{red}$')\n",
    "\n",
    "\n",
    "if sweep_avg_ds['voltage'].values[0] < sweep_avg_ds['voltage'].values[-1]:\n",
    "    ds_trimmed = sweep_avg_ds.isel(time=(varying_indices - 1))\n",
    "else:\n",
    "    ds_trimmed = sweep_avg_ds.isel(time=sweep_avg_ds.time.size - varying_indices)\n",
    "\n",
    "ax[2].errorbar('voltage', 'current', yerr='stderr_current', data=ds_trimmed)\n",
    "ax[2].fill_between(\n",
    "    ds_trimmed.voltage.values, \n",
    "    ds_trimmed.current.values + ds_trimmed.stderr_current.values, \n",
    "    ds_trimmed.current.values - ds_trimmed.stderr_current.values,\n",
    "    alpha=0.5\n",
    ")\n",
    "\n",
    "v_f = sweep_avg_ds.swap_dims({'time':'current'}).interp(current=0).voltage\n",
    "ax[0].axvline(x=v_f, **c.AX_LINE_DEFAULTS)\n",
    "ax[1].axvline(x=v_f, **c.AX_LINE_DEFAULTS)\n",
    "ax[2].axvline(x=v_f, **c.AX_LINE_DEFAULTS)"
   ]
  },
  {
   "cell_type": "markdown",
   "metadata": {},
   "source": [
    "### Goodness of Fit Minimisation\n",
    "The below function plots a big comparison of various goodness of fit measures, and where their respective minima/maxima lie. These are:\n",
    " - $T_e$ minimum\n",
    " - $T_e \\cdot \\Delta T_e$ minimum\n",
    " - minimum of $|\\chi^{2}_{\\nu} - 1| + 1$, which is ~1 when perfect fit\n",
    " - $T_e \\cdot \\Delta T_e \\cdot (|\\chi^{2}_{\\nu} - 1| + 1)$ minimum (called the \"goodness of fit\" parameter for lack of a better name\n",
    " - maximum of a log-normal distribution with $\\mu = 1$, $\\sigma = \\frac{1}{T_e \\cdot \\Delta T_e}$ (I think)\n"
   ]
  },
  {
   "cell_type": "code",
   "execution_count": 69,
   "metadata": {},
   "outputs": [
    {
     "ename": "ValueError",
     "evalue": "attempt to get argmin of an empty sequence",
     "output_type": "error",
     "traceback": [
      "\u001b[0;31m---------------------------------------------------------------------------\u001b[0m",
      "\u001b[0;31mValueError\u001b[0m                                Traceback (most recent call last)",
      "\u001b[0;32m<ipython-input-69-984691f4e13d>\u001b[0m in \u001b[0;36m<module>\u001b[0;34m\u001b[0m\n\u001b[1;32m     17\u001b[0m \u001b[0mv_f\u001b[0m \u001b[0;34m=\u001b[0m \u001b[0msweep_avg_ds\u001b[0m\u001b[0;34m.\u001b[0m\u001b[0mswap_dims\u001b[0m\u001b[0;34m(\u001b[0m\u001b[0;34m{\u001b[0m\u001b[0;34m'time'\u001b[0m\u001b[0;34m:\u001b[0m\u001b[0;34m'current'\u001b[0m\u001b[0;34m}\u001b[0m\u001b[0;34m)\u001b[0m\u001b[0;34m.\u001b[0m\u001b[0minterp\u001b[0m\u001b[0;34m(\u001b[0m\u001b[0mcurrent\u001b[0m\u001b[0;34m=\u001b[0m\u001b[0;36m0\u001b[0m\u001b[0;34m)\u001b[0m\u001b[0;34m.\u001b[0m\u001b[0mvoltage\u001b[0m\u001b[0;34m\u001b[0m\u001b[0;34m\u001b[0m\u001b[0m\n\u001b[1;32m     18\u001b[0m \u001b[0;34m\u001b[0m\u001b[0m\n\u001b[0;32m---> 19\u001b[0;31m \u001b[0mchi_index\u001b[0m \u001b[0;34m=\u001b[0m \u001b[0mvolts\u001b[0m\u001b[0;34m[\u001b[0m\u001b[0mnp\u001b[0m\u001b[0;34m.\u001b[0m\u001b[0margmin\u001b[0m\u001b[0;34m(\u001b[0m\u001b[0mchis\u001b[0m\u001b[0;34m)\u001b[0m\u001b[0;34m]\u001b[0m\u001b[0;34m\u001b[0m\u001b[0;34m\u001b[0m\u001b[0m\n\u001b[0m\u001b[1;32m     20\u001b[0m \u001b[0mchi_param_index\u001b[0m \u001b[0;34m=\u001b[0m \u001b[0mvolts\u001b[0m\u001b[0;34m[\u001b[0m\u001b[0mnp\u001b[0m\u001b[0;34m.\u001b[0m\u001b[0margmin\u001b[0m\u001b[0;34m(\u001b[0m\u001b[0mchi_param\u001b[0m\u001b[0;34m)\u001b[0m\u001b[0;34m]\u001b[0m\u001b[0;34m\u001b[0m\u001b[0;34m\u001b[0m\u001b[0m\n\u001b[1;32m     21\u001b[0m \u001b[0malt_chi_param_index\u001b[0m \u001b[0;34m=\u001b[0m \u001b[0mvolts\u001b[0m\u001b[0;34m[\u001b[0m\u001b[0mnp\u001b[0m\u001b[0;34m.\u001b[0m\u001b[0margmin\u001b[0m\u001b[0;34m(\u001b[0m\u001b[0malt_chi_param\u001b[0m\u001b[0;34m)\u001b[0m\u001b[0;34m]\u001b[0m\u001b[0;34m\u001b[0m\u001b[0;34m\u001b[0m\u001b[0m\n",
      "\u001b[0;32m<__array_function__ internals>\u001b[0m in \u001b[0;36margmin\u001b[0;34m(*args, **kwargs)\u001b[0m\n",
      "\u001b[0;32m~/coding/environments/python3.6/lib/python3.6/site-packages/numpy/core/fromnumeric.py\u001b[0m in \u001b[0;36margmin\u001b[0;34m(a, axis, out)\u001b[0m\n\u001b[1;32m   1220\u001b[0m \u001b[0;34m\u001b[0m\u001b[0m\n\u001b[1;32m   1221\u001b[0m     \"\"\"\n\u001b[0;32m-> 1222\u001b[0;31m     \u001b[0;32mreturn\u001b[0m \u001b[0m_wrapfunc\u001b[0m\u001b[0;34m(\u001b[0m\u001b[0ma\u001b[0m\u001b[0;34m,\u001b[0m \u001b[0;34m'argmin'\u001b[0m\u001b[0;34m,\u001b[0m \u001b[0maxis\u001b[0m\u001b[0;34m=\u001b[0m\u001b[0maxis\u001b[0m\u001b[0;34m,\u001b[0m \u001b[0mout\u001b[0m\u001b[0;34m=\u001b[0m\u001b[0mout\u001b[0m\u001b[0;34m)\u001b[0m\u001b[0;34m\u001b[0m\u001b[0;34m\u001b[0m\u001b[0m\n\u001b[0m\u001b[1;32m   1223\u001b[0m \u001b[0;34m\u001b[0m\u001b[0m\n\u001b[1;32m   1224\u001b[0m \u001b[0;34m\u001b[0m\u001b[0m\n",
      "\u001b[0;32m~/coding/environments/python3.6/lib/python3.6/site-packages/numpy/core/fromnumeric.py\u001b[0m in \u001b[0;36m_wrapfunc\u001b[0;34m(obj, method, *args, **kwds)\u001b[0m\n\u001b[1;32m     59\u001b[0m \u001b[0;34m\u001b[0m\u001b[0m\n\u001b[1;32m     60\u001b[0m     \u001b[0;32mtry\u001b[0m\u001b[0;34m:\u001b[0m\u001b[0;34m\u001b[0m\u001b[0;34m\u001b[0m\u001b[0m\n\u001b[0;32m---> 61\u001b[0;31m         \u001b[0;32mreturn\u001b[0m \u001b[0mbound\u001b[0m\u001b[0;34m(\u001b[0m\u001b[0;34m*\u001b[0m\u001b[0margs\u001b[0m\u001b[0;34m,\u001b[0m \u001b[0;34m**\u001b[0m\u001b[0mkwds\u001b[0m\u001b[0;34m)\u001b[0m\u001b[0;34m\u001b[0m\u001b[0;34m\u001b[0m\u001b[0m\n\u001b[0m\u001b[1;32m     62\u001b[0m     \u001b[0;32mexcept\u001b[0m \u001b[0mTypeError\u001b[0m\u001b[0;34m:\u001b[0m\u001b[0;34m\u001b[0m\u001b[0;34m\u001b[0m\u001b[0m\n\u001b[1;32m     63\u001b[0m         \u001b[0;31m# A TypeError occurs if the object does have such a method in its\u001b[0m\u001b[0;34m\u001b[0m\u001b[0;34m\u001b[0m\u001b[0;34m\u001b[0m\u001b[0m\n",
      "\u001b[0;31mValueError\u001b[0m: attempt to get argmin of an empty sequence"
     ]
    }
   ],
   "source": [
    "fig, ax = plt.subplots(5, 2, sharex=True)\n",
    "\n",
    "chi2_str = r'$\\chi^{2}_{\\nu}$'\n",
    "temp_str = r'$T_e$'\n",
    "d_temp_str = r'$\\Delta T_e$'\n",
    "chi_param_str = r'$|\\chi^{2}_{\\nu} - 1| + 1$'\n",
    "alt_chi_param_str = r'$|\\chi^{2}_{\\nu} - 1|$'\n",
    "\n",
    "\n",
    "temp_param = temps * d_temps\n",
    "chi_param = np.abs(chis - 1) + 1\n",
    "alt_chi_param = np.abs(chis - 1)\n",
    "goodness_param = temp_param * chi_param\n",
    "alt_goodness_param = temp_param * alt_chi_param\n",
    "gaussian_param = gaussian.fit_function(np.log(chis), 1/(temps * d_temps), np.log(1))\n",
    "\n",
    "v_f = sweep_avg_ds.swap_dims({'time':'current'}).interp(current=0).voltage\n",
    "\n",
    "chi_index = volts[np.argmin(chis)]\n",
    "chi_param_index = volts[np.argmin(chi_param)]\n",
    "alt_chi_param_index = volts[np.argmin(alt_chi_param)]\n",
    "goodness_index = volts[np.argmin(goodness_param)]\n",
    "alt_goodness_index = volts[np.argmin(alt_goodness_param)]\n",
    "gaussian_index = volts[np.argmax(gaussian_param)]\n",
    "TdT_index = volts[np.argmin(temp_param)]\n",
    "T_index = volts[np.argmin(temps)]\n",
    "\n",
    "ax[0][0].errorbar(volts, temps, yerr=d_temps)\n",
    "ax[0][0].set_ylabel(temp_str)\n",
    "ax[0][0].axvline(x=T_index, color='blue', linestyle='--', label='T min')\n",
    "ax[0][0].axvline(x=TdT_index, color='purple', linestyle='--', )\n",
    "ax[0][0].axvline(x=chi_param_index, color='green', linestyle='--', )\n",
    "ax[0][0].axvline(x=goodness_index, color='red', linestyle='--', )\n",
    "ax[0][0].axvline(x=gaussian_index, color='orange', linestyle=':', )\n",
    "\n",
    "ax[0][1].plot(volts, chis, label=chi2_str)\n",
    "ax[0][1].axhline(y=1, **c.AX_LINE_DEFAULTS)\n",
    "ax[0][1].set_yscale('log')\n",
    "ax[0][1].set_ylabel(chi2_str)\n",
    "ax[0][1].axvline(x=T_index, color='blue', linestyle='--',)\n",
    "ax[0][1].axvline(x=TdT_index, color='purple', linestyle='--', )\n",
    "ax[0][1].axvline(x=chi_param_index, color='green', linestyle='--', )\n",
    "ax[0][1].axvline(x=goodness_index, color='red', linestyle='--', )\n",
    "ax[0][1].axvline(x=gaussian_index, color='orange', linestyle='dotted', )\n",
    "\n",
    "ax[1][0].plot(volts, temp_param)\n",
    "ax[1][0].set_ylabel(temp_str + d_temp_str)\n",
    "ax[1][0].set_yscale('log')\n",
    "ax[1][0].axvline(x=TdT_index, color='purple', linestyle='--', label='T * dT')\n",
    "\n",
    "ax[2][0].plot(volts, chi_param)\n",
    "ax[2][0].set_yscale('log')\n",
    "ax[2][0].set_ylabel(chi_param_str)\n",
    "ax[2][0].axvline(x=chi_param_index, color='green', linestyle='--', label=chi_param_str)\n",
    "\n",
    "ax[3][0].plot(volts, goodness_param)\n",
    "ax[3][0].set_yscale('log')\n",
    "ax[3][0].set_ylabel(r'$T_e . \\Delta T_e . (|\\chi^{2}_{\\nu} - 1| + 1)$')\n",
    "ax[3][0].axvline(x=goodness_index, color='red', linestyle='--', label='goodness')\n",
    "\n",
    "ax[1][1].plot(volts, gaussian_param)\n",
    "ax[1][1].set_yscale('log')\n",
    "ax[1][1].set_ylabel(r'gaussian param')\n",
    "ax[1][1].axvline(x=gaussian_index, color='orange', linestyle='dotted', label='gaussian ')\n",
    "\n",
    "ax[2][1].plot(volts, alt_chi_param)\n",
    "ax[2][1].set_yscale('log')\n",
    "ax[2][1].set_ylabel(alt_chi_param_str)\n",
    "ax[2][1].axvline(x=alt_chi_param_index, color='green', linestyle='--', label=alt_chi_param_str)\n",
    "\n",
    "ax[3][1].plot(volts, alt_goodness_param)\n",
    "ax[3][1].set_yscale('log')\n",
    "ax[3][1].set_ylabel(r'$T_e . \\Delta T_e . |\\chi^{2}_{\\nu} - 1|$')\n",
    "ax[3][1].axvline(x=alt_goodness_index, color='gold', linestyle='--', label='alt_goodness')\n",
    "\n",
    "d_temps_ratio_str = r'$\\frac{\\Delta T_e}{T_e}$'\n",
    "ax[4][0].plot(volts, d_temps / temps)\n",
    "ax[4][0].set_ylabel(d_temps_ratio_str)\n",
    "ax[4][0].set_yscale('log')\n",
    "# ax[1][0].axvline(x=TdT_index, color='purple', linestyle='--', label=d_temps_ratio_str)\n",
    "ax[4][0].axhline(y=10, color='black', label='Threshold')\n",
    "\n",
    "\n",
    "for col in ax:\n",
    "    for axis in col:\n",
    "        axis.axvline(x=v_f, **c.AX_LINE_DEFAULTS)\n",
    "        axis.legend()"
   ]
  },
  {
   "cell_type": "markdown",
   "metadata": {},
   "source": [
    "Alternative plot using gridspec (as implemented in IVData)"
   ]
  },
  {
   "cell_type": "code",
   "execution_count": 58,
   "metadata": {},
   "outputs": [],
   "source": [
    "import matplotlib.gridspec as gridspec\n",
    "\n",
    "height_ratios = [2.5,1,1,1,1]\n",
    "fig = plt.figure(constrained_layout=True)\n",
    "gs = fig.add_gridspec(ncols=2, nrows=5, height_ratios=height_ratios)\n",
    "\n",
    "ax = []\n",
    "\n",
    "ax_big = fig.add_subplot(gs[0, :])\n",
    "ax_big.errorbar('voltage', 'current', yerr='stderr_current', data=sweep_avg_ds)\n",
    "ax_big.fill_between(\n",
    "    sweep_avg_ds.voltage.values, \n",
    "    sweep_avg_ds.current.values + sweep_avg_ds.stderr_current.values, \n",
    "    sweep_avg_ds.current.values - sweep_avg_ds.stderr_current.values,\n",
    "    alpha=0.5\n",
    ")\n",
    "ax_big.axvline(x=v_f, **c.AX_LINE_DEFAULTS, label=r'$V_f$')\n",
    "ax_big.axvline(x=sweep_avg_ds['voltage'].isel(time=max(varying_indices)-1), linewidth=0.7, color='black', label='trim min/max')\n",
    "ax_big.axvline(x=sweep_avg_ds['voltage'].isel(time=min(varying_indices)), linewidth=0.7, color='black')\n",
    "ax_big.legend()\n",
    "\n",
    "for row in range(1,5):\n",
    "    ax_left = fig.add_subplot(gs[row, 0])\n",
    "    ax_right = fig.add_subplot(gs[row, 1])\n",
    "    ax.append([ax_left, ax_right])\n",
    "\n",
    "ax[0][0].errorbar(volts, temps, yerr=d_temps)\n",
    "ax[0][0].set_ylabel(temp_str)\n",
    "ax[0][0].axvline(x=T_index, color='blue', linestyle='--', label='T min')\n",
    "ax[0][0].axvline(x=TdT_index, color='purple', linestyle='--', )\n",
    "ax[0][0].axvline(x=chi_param_index, color='green', linestyle='--', )\n",
    "ax[0][0].axvline(x=goodness_index, color='red', linestyle='--', )\n",
    "\n",
    "ax[0][1].plot(volts, chis, label=chi2_str)\n",
    "ax[0][1].axhline(y=1, **c.AX_LINE_DEFAULTS)\n",
    "ax[0][1].set_yscale('log')\n",
    "ax[0][1].set_ylabel(chi2_str)\n",
    "ax[0][1].axvline(x=T_index, color='blue', linestyle='--',)\n",
    "ax[0][1].axvline(x=TdT_index, color='purple', linestyle='--', )\n",
    "ax[0][1].axvline(x=chi_param_index, color='green', linestyle='--', )\n",
    "ax[0][1].axvline(x=goodness_index, color='red', linestyle='--', )\n",
    "\n",
    "ax[1][0].plot(volts, temp_param)\n",
    "ax[1][0].set_ylabel(temp_str + d_temp_str)\n",
    "ax[1][0].set_yscale('log')\n",
    "ax[1][0].axvline(x=TdT_index, color='purple', linestyle='--', label='T * dT')\n",
    "\n",
    "d_temps_ratio_str = r'$\\frac{\\Delta T_e}{T_e}$'\n",
    "ax[1][1].plot(volts, d_temps / temps)\n",
    "ax[1][1].set_ylabel(d_temps_ratio_str)\n",
    "ax[1][1].set_yscale('log')\n",
    "ax[1][1].axhline(y=10, color='black', label='Threshold')\n",
    "\n",
    "ax[2][0].plot(volts, chi_param)\n",
    "ax[2][0].set_yscale('log')\n",
    "ax[2][0].set_ylabel(chi_param_str)\n",
    "ax[2][0].axvline(x=chi_param_index, color='green', linestyle='--', label=chi_param_str)\n",
    "\n",
    "ax[2][1].plot(volts, alt_chi_param)\n",
    "ax[2][1].set_yscale('log')\n",
    "ax[2][1].set_ylabel(alt_chi_param_str)\n",
    "ax[2][1].axvline(x=alt_chi_param_index, color='green', linestyle='--', label=alt_chi_param_str)\n",
    "\n",
    "ax[3][0].plot(volts, goodness_param)\n",
    "ax[3][0].set_yscale('log')\n",
    "ax[3][0].set_ylabel(r'$T_e . \\Delta T_e . (|\\chi^{2}_{\\nu} - 1| + 1)$')\n",
    "ax[3][0].axvline(x=goodness_index, color='red', linestyle='--', label='goodness')\n",
    "\n",
    "ax[3][1].plot(volts, alt_goodness_param)\n",
    "ax[3][1].set_yscale('log')\n",
    "ax[3][1].set_ylabel(r'$T_e . \\Delta T_e . |\\chi^{2}_{\\nu} - 1|$')\n",
    "ax[3][1].axvline(x=alt_goodness_index, color='gold', linestyle='--', label='alt_goodness')\n",
    "\n",
    "for col in ax:\n",
    "    for axis in col:\n",
    "        axis.axvline(x=v_f, **c.AX_LINE_DEFAULTS)\n",
    "        axis.legend()"
   ]
  },
  {
   "cell_type": "code",
   "execution_count": 118,
   "metadata": {},
   "outputs": [
    {
     "data": {
      "text/plain": [
       "<matplotlib.legend.Legend at 0x7f8828e05be0>"
      ]
     },
     "execution_count": 118,
     "metadata": {},
     "output_type": "execute_result"
    }
   ],
   "source": [
    "fig, ax = plt.subplots(2, sharex=True)\n",
    "\n",
    "ax[0].errorbar(volts, temps, yerr=d_temps)\n",
    "ax[0].set_ylabel(temp_str)\n",
    "ax[0].axvline(x=T_index, color='blue', linestyle='--', label=r'$(T_e)_{min}$')\n",
    "ax[0].axvline(x=v_f, **c.AX_LINE_DEFAULTS, label=r'$V_P$')\n",
    "ax[0].legend()\n",
    "\n",
    "ax[1].plot(volts, temp_param)\n",
    "ax[1].set_ylabel(temp_str + r'$\\cdot$' + d_temp_str)\n",
    "# ax[1].set_yscale('log')\n",
    "ax[1].set_xlabel(r'$V_{cutoff}$')\n",
    "ax[1].axvline(x=TdT_index, color='purple', linestyle='--', label=r'$(T \\cdot \\Delta T)_{min}$')\n",
    "ax[1].axvline(x=v_f, **c.AX_LINE_DEFAULTS, label=r'$V_P$')\n",
    "ax[1].legend()\n"
   ]
  },
  {
   "cell_type": "code",
   "execution_count": 30,
   "metadata": {},
   "outputs": [
    {
     "name": "stdout",
     "output_type": "stream",
     "text": [
      "38 2.7417929887872936 0.00499694197807361 -11.377263240562195\n",
      "48 0.8522767974256072 9.927175433782065 1.8940722877944929\n"
     ]
    }
   ],
   "source": [
    "lowest_T_index = np.argmin(temps)\n",
    "print(varying_indices[lowest_T_index], np.min(temps), chis[lowest_T_index], volts[lowest_T_index])\n",
    "lowest_chi_index = np.argmin(np.abs(np.array(chis) - 1))\n",
    "print(varying_indices[lowest_chi_index], chis[lowest_chi_index], temps[lowest_chi_index], volts[lowest_chi_index])"
   ]
  },
  {
   "cell_type": "code",
   "execution_count": 205,
   "metadata": {},
   "outputs": [
    {
     "data": {
      "text/plain": [
       "<matplotlib.legend.Legend at 0x7fe3a6b41160>"
      ]
     },
     "execution_count": 205,
     "metadata": {},
     "output_type": "execute_result"
    }
   ],
   "source": [
    "# Formulation of the gaussian parameter\n",
    "\n",
    "T = [1,2,4,6,8,10]\n",
    "chi2 = np.logspace(-3, +3, 200)\n",
    "# chi2_param = np.abs(chi2 - 1) + 1\n",
    "chi2_param = -np.abs(chi2/(chi2 - 1))\n",
    "positive_chi = chi2_param > 1\n",
    "negative_chi = chi2_param < 1\n",
    "# chi2_gaussian = (fts.GenericGaussianFitter().fit_function(np.log(chi2), 1, 1, np.log(1))) #/ (np.abs(chi2 - 1) + 1)\n",
    "chi2_gaussian = gaussian.fit_function(np.log(chi2), 1, np.log(1))\n",
    "\n",
    "fig, ax = plt.subplots(2)\n",
    "# ax[0].plot(chi2[positive_chi], chi2_param[positive_chi], )\n",
    "# ax[0].plot(chi2[negative_chi], chi2_param[negative_chi], )\n",
    "# ax[0].plot(chi2, chi2_param, )\n",
    "ax[0].plot(chi2, chi2_gaussian)\n",
    "ax[0].set_xscale('log')\n",
    "\n",
    "for temperature in T:\n",
    "#     chi2_gaussian = (fts.GenericGaussianFitter().fit_function(np.log(chi2), 1, 1, np.log(1))) #/ (np.abs(chi2 - 1) + 1)\n",
    "    chi2_gaussian = gaussian.fit_function(np.log(chi2), 2/temperature, np.log(1))\n",
    "\n",
    "    ax[1].plot(chi2, chi2_gaussian, label=f'T={temperature}')\n",
    "ax[1].set_xscale('log')\n",
    "ax[1].legend()"
   ]
  },
  {
   "cell_type": "code",
   "execution_count": 88,
   "metadata": {},
   "outputs": [
    {
     "data": {
      "text/plain": [
       "<matplotlib.legend.Legend at 0x7f881a8d5080>"
      ]
     },
     "execution_count": 88,
     "metadata": {},
     "output_type": "execute_result"
    }
   ],
   "source": [
    "T = np.linspace(0.5, 12, 200)\n",
    "chi2 = np.logspace(-3, +3, 7)\n",
    "\n",
    "fig, ax = plt.subplots()\n",
    "\n",
    "for chi_boi in [0.5,1.0,1.5]:\n",
    "    chi2_gaussian = gaussian.fit_function(np.log(chi_boi), 1/T, np.log(1))\n",
    "    ax.plot(T, chi2_gaussian, label=f'chi = {chi_boi}')\n",
    "\n",
    "ax.set_yscale('log')\n",
    "ax.legend()"
   ]
  },
  {
   "cell_type": "markdown",
   "metadata": {},
   "source": [
    "## Playing with the conversion between IVData objects and datasets"
   ]
  },
  {
   "cell_type": "code",
   "execution_count": 197,
   "metadata": {},
   "outputs": [
    {
     "data": {
      "text/plain": [
       "<module 'flopter.core.fitters' from '/home/jleland/coding/projects/flopter/flopter/core/fitters.py'>"
      ]
     },
     "execution_count": 197,
     "metadata": {},
     "output_type": "execute_result"
    }
   ],
   "source": [
    "importlib.reload(c)\n",
    "importlib.reload(iv)\n",
    "importlib.reload(fts)"
   ]
  },
  {
   "cell_type": "code",
   "execution_count": 14,
   "metadata": {},
   "outputs": [],
   "source": [
    "shot_iv = iv.IVData.from_dataset(sweep_avg_ds, sigma='stderr_current')"
   ]
  },
  {
   "cell_type": "code",
   "execution_count": 15,
   "metadata": {},
   "outputs": [
    {
     "data": {
      "text/plain": [
       "True"
      ]
     },
     "execution_count": 15,
     "metadata": {},
     "output_type": "execute_result"
    }
   ],
   "source": [
    "isinstance(shot_iv, iv.IVData)"
   ]
  },
  {
   "cell_type": "code",
   "execution_count": 16,
   "metadata": {},
   "outputs": [],
   "source": [
    "fig, ax = plt.subplots()\n",
    "vf_index = vf_index = shot_iv.get_vf_index()\n",
    "\n",
    "shot_iv.plot(ax=ax, trim_lines_fl=False)\n",
    "shot_iv.lower_trim(vf_index).plot(ax=ax, trim_lines_fl=False)"
   ]
  },
  {
   "cell_type": "code",
   "execution_count": 17,
   "metadata": {},
   "outputs": [],
   "source": [
    "upper_lim_frac = 0.2  # 10/50\n",
    "lower_lim_frac = 0.1  # 5/50\n",
    "step_frac = 0.02\n",
    "\n",
    "trim_range_updist = int(upper_lim_frac * len(shot_iv['t']))\n",
    "trim_range_lodist = int(lower_lim_frac * len(shot_iv['t']))\n",
    "trim_range_step = max(int(step_frac * len(shot_iv['t'])), 1)\n",
    "\n",
    "\n",
    "if shot_iv['V'][0] < shot_iv['V'][-1]:\n",
    "    trim_range = np.arange(max(vf_index - trim_range_lodist, 0), \n",
    "                           min(vf_index + trim_range_updist, len(shot_iv['t'])),\n",
    "                           trim_range_step)\n",
    "else:\n",
    "    trim_range = np.arange(max(vf_index - trim_range_updist, 0), \n",
    "                           min(vf_index + trim_range_lodist, len(shot_iv['t'])),\n",
    "                           trim_range_step)"
   ]
  },
  {
   "cell_type": "code",
   "execution_count": 19,
   "metadata": {},
   "outputs": [
    {
     "data": {
      "text/plain": [
       "[<matplotlib.lines.Line2D at 0x7f60922c7ac8>]"
      ]
     },
     "execution_count": 19,
     "metadata": {},
     "output_type": "execute_result"
    }
   ],
   "source": [
    "fig, ax = plt.subplots(2)\n",
    "\n",
    "fitter = fts.FullIVFitter()\n",
    "\n",
    "trim_fits = []\n",
    "temps = []\n",
    "shot_iv.plot(ax=ax[0])\n",
    "for i in trim_range:\n",
    "    if shot_iv['V'][0] < shot_iv['V'][-1]:\n",
    "        trim_iv = shot_iv.upper_trim(i)\n",
    "    else:\n",
    "        trim_iv = shot_iv.lower_trim(i)\n",
    "    trim_iv.plot(ax=ax[0])\n",
    "    \n",
    "    trim_fit = fitter.fit_iv_data(trim_iv, sigma=trim_iv['sigma'])\n",
    "    \n",
    "    trim_fits.append(trim_fit)\n",
    "    temps.append(trim_fit.get_temp())\n",
    "\n",
    "ax[1].plot(trim_range, temps)\n",
    "\n"
   ]
  },
  {
   "cell_type": "code",
   "execution_count": 25,
   "metadata": {},
   "outputs": [],
   "source": [
    "volts = []\n",
    "temps = []\n",
    "d_temps = []\n",
    "chis = []\n",
    "for trim_fit in trim_fits:\n",
    "    volts.append(np.max(trim_fit.raw_x))\n",
    "    temps.append(trim_fit.get_temp())\n",
    "    d_temps.append(trim_fit.get_temp_err())\n",
    "    chis.append(trim_fit.reduced_chi2)"
   ]
  },
  {
   "cell_type": "code",
   "execution_count": 21,
   "metadata": {},
   "outputs": [
    {
     "data": {
      "text/plain": [
       "[<matplotlib.lines.Line2D at 0x7f60921449e8>]"
      ]
     },
     "execution_count": 21,
     "metadata": {},
     "output_type": "execute_result"
    }
   ],
   "source": [
    "fig, ax = plt.subplots(2, sharex=True)\n",
    "shot_iv.plot(ax=ax[0])\n",
    "ax[1].plot(volts, temps)"
   ]
  },
  {
   "cell_type": "code",
   "execution_count": 22,
   "metadata": {},
   "outputs": [
    {
     "data": {
      "text/plain": [
       "1.045807622294931"
      ]
     },
     "execution_count": 22,
     "metadata": {},
     "output_type": "execute_result"
    }
   ],
   "source": [
    "trim_fits[np.argmin(temps)].reduced_chi2"
   ]
  },
  {
   "cell_type": "code",
   "execution_count": 25,
   "metadata": {},
   "outputs": [
    {
     "data": {
      "text/plain": [
       "<flopter.core.fitdata.IVFitData at 0x7fe3aa1fc9b0>"
      ]
     },
     "execution_count": 25,
     "metadata": {},
     "output_type": "execute_result"
    }
   ],
   "source": [
    "shot_iv.multi_fit(plot_fl=True)"
   ]
  },
  {
   "cell_type": "code",
   "execution_count": 26,
   "metadata": {},
   "outputs": [
    {
     "data": {
      "text/plain": [
       "<ErrorbarContainer object of 3 artists>"
      ]
     },
     "execution_count": 26,
     "metadata": {},
     "output_type": "execute_result"
    }
   ],
   "source": [
    "shot_iv.plot()"
   ]
  },
  {
   "cell_type": "markdown",
   "metadata": {},
   "source": [
    "# Enhanced Gunn Fit \n"
   ]
  },
  {
   "cell_type": "code",
   "execution_count": 76,
   "metadata": {},
   "outputs": [
    {
     "data": {
      "text/plain": [
       "<ErrorbarContainer object of 3 artists>"
      ]
     },
     "execution_count": 76,
     "metadata": {},
     "output_type": "execute_result"
    }
   ],
   "source": [
    "# iv_data = shot_iv.copy()\n",
    "# iv_data = shot_ivs[-5].copy()\n",
    "# iv_data = shot_ivs[-12].copy()\n",
    "iv_data = shot_ivs[-1].copy()\n",
    "iv_data.plot()"
   ]
  },
  {
   "cell_type": "code",
   "execution_count": 77,
   "metadata": {},
   "outputs": [],
   "source": [
    "# sat_region=-40\n",
    "# sat_region=-20\n",
    "sat_region=-65\n",
    "\n",
    "# define a straight section and trim the iv data to it\n",
    "str_sec = np.where(iv_data['V'] <= sat_region)\n",
    "iv_data_ss = iv.IVData.non_contiguous_trim(iv_data, str_sec)\n",
    "\n",
    "# needed to define the area of the straight section on a graph with a vertical line\n",
    "str_sec_end = np.argmax(iv_data['V'][str_sec])\n",
    "\n",
    "# fit & plot a straight line to the 'straight section'\n",
    "sl_fitter = fts.StraightLineFitter()\n",
    "fit_data_ss = sl_fitter.fit(iv_data_ss['V'], iv_data_ss['I'], sigma=iv_data_ss['sigma'])\n",
    "\n",
    "# Extrapolate the straight line over a wider voltage range for illustrative purposes\n",
    "sl_range = np.linspace(-120, 100, 100)\n",
    "sl_function = fit_data_ss.fit_function(sl_range)\n",
    "\n",
    "# Subtract the gradient of the straight section from the whole IV curve.\n",
    "iv_data_corrected = iv_data.copy()\n",
    "iv_data_corrected['I'] = iv_data_corrected['I'] - (fit_data_ss.get_param('m') * iv_data_corrected['V'])\n",
    "\n",
    "simple_iv_fitter = fts.SimpleIVFitter()\n",
    "fit_data_corrected = iv_data_corrected.multi_fit(sat_region=sat_region, iv_fitter=simple_iv_fitter,\n",
    "                                                 plot_fl=True, minimise_temp_fl=False)"
   ]
  },
  {
   "cell_type": "code",
   "execution_count": 78,
   "metadata": {},
   "outputs": [
    {
     "name": "stderr",
     "output_type": "stream",
     "text": [
      "/home/jleland/coding/environments/python3.6/lib/python3.6/site-packages/ipykernel_launcher.py:15: RuntimeWarning: divide by zero encountered in log\n",
      "  from ipykernel import kernelapp as app\n",
      "/home/jleland/coding/environments/python3.6/lib/python3.6/site-packages/ipykernel_launcher.py:27: RuntimeWarning: divide by zero encountered in log\n",
      "/home/jleland/coding/environments/python3.6/lib/python3.6/site-packages/ipykernel_launcher.py:29: RuntimeWarning: divide by zero encountered in log\n",
      "/home/jleland/coding/environments/python3.6/lib/python3.6/site-packages/ipykernel_launcher.py:39: RuntimeWarning: divide by zero encountered in log\n"
     ]
    },
    {
     "data": {
      "text/plain": [
       "<matplotlib.legend.Legend at 0x7f8116b74fd0>"
      ]
     },
     "execution_count": 78,
     "metadata": {},
     "output_type": "execute_result"
    }
   ],
   "source": [
    "fig, ax = plt.subplots(3, sharex=True)\n",
    "\n",
    "# loggable_slice = slice(25, None)\n",
    "loggable_slice = slice(None, None)\n",
    "\n",
    "# print(iv_data_corrected)\n",
    "loggable_voltage = iv_data_corrected['V'][loggable_slice]\n",
    "loggable_current = (-iv_data_corrected['I'] + fit_data_ss.get_param('y_0'))[loggable_slice]\n",
    "# loggable_current = (-iv_data_corrected['I'] + fit_data_ss.get_param('y_0') + 0.01)[25:]\n",
    "\n",
    "min_offset = min(loggable_current)\n",
    "loggable_current -= (min_offset * 1.0)\n",
    "\n",
    "ax[0].plot(loggable_voltage, loggable_current, label='full')\n",
    "ax[1].plot(loggable_voltage, np.log(loggable_current), label='full')\n",
    "ax[0].set_ylabel(r'$I_e$')\n",
    "ax[1].set_ylabel(r'$\\ln{I_e}$')\n",
    "\n",
    "# fit_slc = slice(14,25)\n",
    "# fit_slc = slice(6,20)\n",
    "fit_slc = slice(7,16)\n",
    "\n",
    "fittable_voltage = loggable_voltage[fit_slc]\n",
    "fittable_current = loggable_current[fit_slc]\n",
    "\n",
    "ax[0].plot(fittable_voltage, fittable_current, label='fit-section')\n",
    "ax[1].plot(fittable_voltage, np.log(fittable_current), label='fit-section')\n",
    "\n",
    "fit_indices = np.where(np.isfinite(np.log(fittable_current)))\n",
    "\n",
    "log_f_data = sl_fitter.fit(fittable_voltage[fit_indices], np.log(fittable_current[fit_indices]))\n",
    "new_temp = 1/log_f_data.get_param(\"m\")\n",
    "ax[1].plot(*log_f_data.get_fit_plottables(), label=r'$T_e=$'+f'{new_temp:.3g}')\n",
    "\n",
    "ax[0].legend()\n",
    "ax[1].legend()\n",
    "\n",
    "mid_point_voltage = loggable_voltage[:-1] + loggable_voltage[1:] / 2\n",
    "ax[2].plot(loggable_voltage, 1 / np.gradient(np.log(loggable_current)), label='full')\n",
    "ax[2].plot(fittable_voltage[fit_indices], 1 / np.gradient(np.log(fittable_current[fit_indices])), label='fit-section')\n",
    "ax[2].set_ylabel(r'$\\frac{d \\ln{I_e}}{dV}$')\n",
    "ax[2].set_xlabel(r'$V$ ')\n",
    "ax[2].legend()\n"
   ]
  },
  {
   "cell_type": "code",
   "execution_count": 66,
   "metadata": {},
   "outputs": [
    {
     "name": "stdout",
     "output_type": "stream",
     "text": [
      "2.5405123208108176\n"
     ]
    }
   ],
   "source": [
    "print(new_temp)"
   ]
  },
  {
   "cell_type": "code",
   "execution_count": 67,
   "metadata": {},
   "outputs": [],
   "source": [
    "# The fitting from IVData's gunn_fit()\n",
    "\n",
    "plt.figure()\n",
    "plt.errorbar(iv_data['V'], iv_data['I'], yerr=iv_data['sigma'], label='Full IV', color='darkgrey',\n",
    "             ecolor='lightgray')\n",
    "plt.legend()\n",
    "plt.xlabel(r'$V_p$ / V')\n",
    "plt.ylabel(r'$I$ / A')\n",
    "# plt.ylim(-0.5, 1.3)\n",
    "plt.xlim(-102, 5)\n",
    "\n",
    "plt.figure()\n",
    "plt.errorbar(iv_data['V'], iv_data['I'], yerr=iv_data['sigma'], label='Full IV', color='darkgrey',\n",
    "             ecolor='lightgray')\n",
    "plt.plot(sl_range, sl_function, label='SE Line', color='blue', linewidth=0.5, zorder=10)\n",
    "plt.legend()\n",
    "plt.xlabel(r'$V_p$ / V')\n",
    "plt.ylabel(r'$I$ / A')\n",
    "# plt.ylim(-0.5, 1.3)\n",
    "plt.xlim(-102, 5)\n",
    "\n",
    "plt.figure()\n",
    "plt.plot(sl_range, sl_function, label='SE Line', color='blue', linewidth=0.5, zorder=10)\n",
    "plt.errorbar(iv_data_corrected['V'], iv_data_corrected['I'], label='Corrected IV',\n",
    "             yerr=iv_data_corrected[c.SIGMA], color='darkgrey', ecolor='lightgray')\n",
    "plt.legend()\n",
    "plt.xlabel(r'$V_p$ / V')\n",
    "plt.ylabel(r'$I$ / A')\n",
    "# plt.ylim(-0.5, 1.3)\n",
    "plt.xlim(-102, 5)\n",
    "\n",
    "plt.figure()\n",
    "plt.plot(sl_range, sl_function, label='SE Line', color='blue', linewidth=0.5)\n",
    "plt.errorbar(iv_data_corrected['V'], iv_data_corrected['I'], label='Corrected IV',\n",
    "             yerr=iv_data_corrected[c.SIGMA], color='darkgrey', ecolor='lightgray')\n",
    "plt.plot(*fit_data_corrected.get_fit_plottables(), label='3 Param-Fit', zorder=10, color='r')\n",
    "plt.legend()\n",
    "plt.xlabel(r'$V_p$ / V')\n",
    "plt.ylabel(r'$I$ / A')\n",
    "# plt.ylim(-0.5, 1.3)\n",
    "# plt.xlim(-102, 5)\n",
    "\n",
    "plt.show()"
   ]
  },
  {
   "cell_type": "code",
   "execution_count": 60,
   "metadata": {},
   "outputs": [
    {
     "name": "stdout",
     "output_type": "stream",
     "text": [
      "1.8571852947483756\n"
     ]
    }
   ],
   "source": [
    "print(log_f_data.get_param('y_0'))"
   ]
  },
  {
   "cell_type": "code",
   "execution_count": 68,
   "metadata": {},
   "outputs": [
    {
     "data": {
      "text/plain": [
       "<matplotlib.legend.Legend at 0x7f32481fe1d0>"
      ]
     },
     "execution_count": 68,
     "metadata": {},
     "output_type": "execute_result"
    }
   ],
   "source": [
    "# Work this back into an IV characteristic\n",
    "\n",
    "# v_f is defined above with the dataset\n",
    "# v_f = iv_data.get_vf()\n",
    "I_sat = fit_data_ss.get_param('y_0')\n",
    "delta_I = fit_data_ss.get_param('m')\n",
    "I_e = np.exp(log_f_data.get_param(\"y_0\"))\n",
    "T_e = 1 / log_f_data.get_param(\"m\")\n",
    "v = iv_data['V']\n",
    "\n",
    "probe_current = I_sat + (delta_I * v) - (I_e * np.exp((v) / T_e))\n",
    "\n",
    "fig, ax = plt.subplots()\n",
    "\n",
    "iv_data.plot(ax=ax, fmt='x', color='k', zorder=-1)\n",
    "red_chi = np.sum((iv_data['I'] - probe_current)**2 / (iv_data['sigma'])**2) / (len(iv_data['V']) - 4)\n",
    "ax.plot(iv_data['V'], probe_current, label=r'$T_e = {:.3g}, \\chi^2_{{red}} = {:.3g}$'.format(T_e, red_chi))\n",
    "\n",
    "# fit_data = shot_fits[-5]\n",
    "fit_data = shot_fits[-12]\n",
    "ax.plot(*fit_data.get_fit_plottables(), label=r'$T_e = {:.3g}, \\chi^2_{{red}} = {:.3g}$'.format(fit_data.get_temp(), fit_data.reduced_chi2))\n",
    "ax.legend()"
   ]
  },
  {
   "cell_type": "markdown",
   "metadata": {},
   "source": [
    "----\n",
    "\n",
    "## Two temperature log-fitting"
   ]
  },
  {
   "cell_type": "code",
   "execution_count": 81,
   "metadata": {},
   "outputs": [
    {
     "name": "stderr",
     "output_type": "stream",
     "text": [
      "/home/jleland/coding/environments/python3.6/lib/python3.6/site-packages/ipykernel_launcher.py:16: RuntimeWarning: divide by zero encountered in log\n",
      "  app.launch_new_instance()\n",
      "/home/jleland/coding/environments/python3.6/lib/python3.6/site-packages/ipykernel_launcher.py:40: RuntimeWarning: divide by zero encountered in log\n"
     ]
    },
    {
     "data": {
      "text/plain": [
       "<matplotlib.legend.Legend at 0x7f811642cc88>"
      ]
     },
     "execution_count": 81,
     "metadata": {},
     "output_type": "execute_result"
    }
   ],
   "source": [
    "# Two temp linear semi-log fit\n",
    "fig, ax = plt.subplots(3, sharex=True)\n",
    "\n",
    "# loggable_slice = slice(25, None)\n",
    "loggable_slice = slice(5, -1)\n",
    "\n",
    "# print(iv_data_corrected)\n",
    "loggable_voltage = iv_data_corrected['V'][loggable_slice]\n",
    "loggable_current = (-iv_data_corrected['I'] + fit_data_ss.get_param('y_0'))[loggable_slice]\n",
    "# loggable_current = (-iv_data_corrected['I'] + fit_data_ss.get_param('y_0') + 0.01)[25:]\n",
    "\n",
    "min_offset = min(loggable_current)\n",
    "loggable_current -= (min_offset * 1.0)\n",
    "\n",
    "ax[0].plot(loggable_voltage, loggable_current, label='full')\n",
    "ax[1].plot(loggable_voltage, np.log(loggable_current), label='full')\n",
    "ax[0].set_ylabel(r'$I_e$')\n",
    "ax[1].set_ylabel(r'$\\ln{I_e}$')\n",
    "\n",
    "# fit_slc = slice(14,25)\n",
    "# fit_slc = slice(6,20)\n",
    "fit_slc = slice(4,12)\n",
    "\n",
    "fittable_voltage = loggable_voltage[fit_slc]\n",
    "fittable_current = loggable_current[fit_slc]\n",
    "\n",
    "ax[0].plot(fittable_voltage, fittable_current, label='fit-section')\n",
    "ax[1].plot(fittable_voltage, np.log(fittable_current), label='fit-section')\n",
    "\n",
    "fit_indices = np.where(np.isfinite(np.log(fittable_current)))\n",
    "\n",
    "log_f_data = sl_fitter.fit(fittable_voltage[fit_indices], np.log(fittable_current[fit_indices]))\n",
    "new_temp = 1/log_f_data.get_param(\"m\")\n",
    "ax[1].plot(*log_f_data.get_fit_plottables(), label=r'$T_e=$'+f'{new_temp:.3g}')\n",
    "\n",
    "ax[0].legend()\n",
    "ax[1].legend()\n",
    "\n",
    "mid_point_voltage = loggable_voltage[:-1] + loggable_voltage[1:] / 2\n",
    "ax[2].plot(loggable_voltage, 1 / np.gradient(np.log(loggable_current)), label='full')\n",
    "ax[2].plot(fittable_voltage[fit_indices], 1 / np.gradient(np.log(fittable_current[fit_indices])), label='fit-section')\n",
    "ax[2].set_ylabel(r'$\\frac{d \\ln{I_e}}{dV}$')\n",
    "ax[2].set_xlabel(r'$V$ ')\n",
    "ax[2].legend()\n"
   ]
  },
  {
   "cell_type": "markdown",
   "metadata": {},
   "source": [
    "---\n",
    "### Check of the calculation of $\\chi^2_{\\nu}$"
   ]
  },
  {
   "cell_type": "code",
   "execution_count": 192,
   "metadata": {},
   "outputs": [],
   "source": [
    "# alternative calculation of chi^2\n",
    "import scipy.stats as stat\n",
    "\n",
    "numpy_chis = []\n",
    "manual_chis = []\n",
    "scipy_chis = []\n",
    "\n",
    "numpy_redchis = []\n",
    "manual_redchis = []\n",
    "scipy_redchis = []\n",
    "\n",
    "for shot_fit in shot_fits:\n",
    "    numpy_chi = np.sum((shot_fit.raw_y - shot_fit.fit_y)**2 / (shot_fit.sigma)**2)\n",
    "    numpy_chis.append(numpy_chi)\n",
    "    numpy_redchis.append(numpy_chi / (len(shot_fit.raw_x) - 4))\n",
    "    \n",
    "    manual_chi = 0\n",
    "    for i in range(len(shot_fit.raw_y)):\n",
    "        manual_chi += (shot_fit.raw_y[i] - shot_fit.fit_y[i])**2 / (shot_fit.sigma[i]**2)\n",
    "    manual_chis.append(manual_chi)\n",
    "    manual_redchis.append(manual_chi / (len(shot_fit.raw_x) - 4))\n",
    "    \n",
    "    scipy_chi, p = stat.chisquare(shot_fit.raw_y, shot_fit.fit_y, ddof=3)\n",
    "    scipy_chis.append(scipy_chi)\n",
    "    scipy_redchis.append(scipy_chi / (len(shot_fit.raw_x) - 4))"
   ]
  },
  {
   "cell_type": "code",
   "execution_count": 193,
   "metadata": {},
   "outputs": [
    {
     "data": {
      "text/plain": [
       "<matplotlib.legend.Legend at 0x7fe3a1d8bd30>"
      ]
     },
     "execution_count": 193,
     "metadata": {},
     "output_type": "execute_result"
    }
   ],
   "source": [
    "fig, ax = plt.subplots()\n",
    "ax.plot(volts, chis, label='flopter')\n",
    "ax.plot(volts, numpy_redchis, label='numpy')\n",
    "ax.plot(volts, manual_redchis, label='manual')\n",
    "# ax.plot(volts, chis - scipy_chis, label='scipy')\n",
    "ax.legend()"
   ]
  },
  {
   "cell_type": "code",
   "execution_count": 22,
   "metadata": {},
   "outputs": [
    {
     "data": {
      "text/plain": [
       "<matplotlib.legend.Legend at 0x7f814ca6c470>"
      ]
     },
     "execution_count": 22,
     "metadata": {},
     "output_type": "execute_result"
    }
   ],
   "source": [
    "fig, ax = plt.subplots()\n",
    "# ax.plot(volts, chis, label='flopter')\n",
    "ax.plot(volts, chis - numpy_redchis, label='numpy')\n",
    "ax.plot(volts, chis - manual_redchis, label='manual')\n",
    "# ax.plot(volts, chis - scipy_chis, label='scipy')\n",
    "ax.legend()"
   ]
  },
  {
   "cell_type": "markdown",
   "metadata": {},
   "source": [
    "---"
   ]
  }
 ],
 "metadata": {
  "kernelspec": {
   "display_name": "python3.6-codac",
   "language": "python",
   "name": "python3.6-codac"
  },
  "language_info": {
   "codemirror_mode": {
    "name": "ipython",
    "version": 3
   },
   "file_extension": ".py",
   "mimetype": "text/x-python",
   "name": "python",
   "nbconvert_exporter": "python",
   "pygments_lexer": "ipython3",
   "version": "3.6.9"
  }
 },
 "nbformat": 4,
 "nbformat_minor": 4
}
