{
 "cells": [
  {
   "cell_type": "markdown",
   "metadata": {},
   "source": [
    "# Test of New Analysis Routine with Improved Offsets and Internal Resistances Included"
   ]
  },
  {
   "cell_type": "code",
   "execution_count": 2,
   "metadata": {},
   "outputs": [
    {
     "name": "stderr",
     "output_type": "stream",
     "text": [
      "/home/jleland/Coding/Environments/python3.6/lib/python3.6/site-packages/xarray/core/nputils.py:220: RuntimeWarning: All-NaN slice encountered\n",
      "  result = getattr(npmodule, name)(values, axis=axis, **kwds)\n",
      "/home/jleland/Coding/Environments/python3.6/lib/python3.6/site-packages/xarray/core/nputils.py:220: RuntimeWarning: All-NaN slice encountered\n",
      "  result = getattr(npmodule, name)(values, axis=axis, **kwds)\n",
      "/home/jleland/Coding/Environments/python3.6/lib/python3.6/site-packages/xarray/core/nputils.py:220: RuntimeWarning: All-NaN slice encountered\n",
      "  result = getattr(npmodule, name)(values, axis=axis, **kwds)\n"
     ]
    }
   ],
   "source": [
    "%matplotlib tk\n",
    "import numpy as np\n",
    "import pandas as pd\n",
    "import xarray as xr\n",
    "import matplotlib.pyplot as plt\n",
    "import sys\n",
    "import os\n",
    "import glob\n",
    "import re\n",
    "sys.path.append('/home/jleland/Coding/Projects/flopter')\n",
    "import flopter.core.ivdata as iv\n",
    "import flopter.core.lputils as lp\n",
    "import flopter.magnum.database as ut\n",
    "import flopter.core.fitters as fts\n",
    "import flopter.magnum.magoptoffline as mg\n",
    "import analysis.scripts.magnum.magnum_postrun_initial_analysis as mpia"
   ]
  },
  {
   "cell_type": "code",
   "execution_count": 3,
   "metadata": {},
   "outputs": [
    {
     "name": "stdout",
     "output_type": "stream",
     "text": [
      "\n",
      " Analysing shot 157...\n",
      "Attempting analysis on shot 157\n",
      "\"2019-06-03_Leland/\" \t\t \"2019-06-03 16h 02m 56s TT_06698304580043636299.adc\"\n",
      "Creating magopter object\n",
      "Running an offline magopter object, operating in offline mode.\n"
     ]
    },
    {
     "name": "stderr",
     "output_type": "stream",
     "text": [
      "/home/jleland/Coding/Environments/python3.6/lib/python3.6/site-packages/scipy/signal/_arraytools.py:45: FutureWarning: Using a non-tuple sequence for multidimensional indexing is deprecated; use `arr[tuple(seq)]` instead of `arr[seq]`. In the future this will be interpreted as an array index, `arr[np.array(seq)]`, which will result either in an error or a different result.\n",
      "  b = a[a_slice]\n"
     ]
    },
    {
     "name": "stdout",
     "output_type": "stream",
     "text": [
      "0: 1996, 1: 1997\n",
      "<xarray.Dataset>\n",
      "Dimensions:     (direction: 2, sweep: 997, time: 50)\n",
      "Coordinates:\n",
      "  * time        (time) float64 0.0 0.0001 0.0002 0.0003 ... 0.0047 0.0048 0.0049\n",
      "  * direction   (direction) <U4 'up' 'down'\n",
      "    probe       <U1 'S'\n",
      "Dimensions without coordinates: sweep\n",
      "Data variables:\n",
      "    voltage     (direction, sweep, time) float64 -94.69 -92.51 ... 7.573 9.753\n",
      "    current     (direction, sweep, time) float64 -0.07715 -0.07801 ... 0.001293\n",
      "    shot_time   (direction, sweep, time) float64 1.024 1.024 ... 10.99 10.99\n",
      "    start_time  (direction, sweep) float64 1.024 1.034 1.044 ... 10.98 10.99\n",
      "<xarray.Dataset>\n",
      "Dimensions:     (time: 32)\n",
      "Coordinates:\n",
      "  * time        (time) float64 0.0 0.0001 0.0002 0.0003 ... 0.0029 0.003 0.0031\n",
      "    probe       <U1 'S'\n",
      "Data variables:\n",
      "    voltage     (time) float64 -94.09 -91.97 -89.85 ... -32.49 -30.45 -28.48\n",
      "    current     (time) float64 -0.05752 -0.05682 -0.05656 ... -0.03195 -0.01813\n",
      "    shot_time   (time) float64 6.009 6.009 6.009 6.009 ... 6.009 6.009 6.009\n",
      "    start_time  (time) float64 6.006 6.006 6.006 6.006 ... 6.006 6.006 6.006\n",
      "    d_current   (time) float64 0.003396 0.00336 0.003309 ... 0.005916 0.008967\n",
      "\n",
      " ...Finished shot 157\n"
     ]
    }
   ],
   "source": [
    "mpia.aia_mapping_wrapper(157)"
   ]
  },
  {
   "cell_type": "markdown",
   "metadata": {},
   "source": [
    "## Comparison of analysis with Old and New Magoptofflines\n",
    "Seeing the difference between including the updated resistances and offsets"
   ]
  },
  {
   "cell_type": "code",
   "execution_count": 11,
   "metadata": {},
   "outputs": [
    {
     "name": "stdout",
     "output_type": "stream",
     "text": [
      "['analysed_1/a158_163_6698304817900493824.nc', 'analysed_2/a158_163_6698304817900493824.nc', 'analysed_3/a158_163_6698304817900493824.nc', 'analysed_3_downsampled/a158_163_6698304817900493824.nc']\n"
     ]
    }
   ],
   "source": [
    "path_to_datasets = '/home/jleland/Data/external/magnum/'\n",
    "path_to_analysed_datasets = 'analysed_*/a158*nc'\n",
    "os.chdir(path_to_datasets)\n",
    "\n",
    "analysed_dataset_fns = glob.glob(path_to_analysed_datasets)\n",
    "analysed_dataset_fns.sort()\n",
    "print(analysed_dataset_fns)\n",
    "\n",
    "analysed_infos = []\n",
    "\n",
    "for i, anal_ds in enumerate(analysed_dataset_fns):\n",
    "    match = re.search(\"\\/a{1}([0-9]{3})_([0-9]{3})_([0-9]{19})\\.nc\", anal_ds)\n",
    "    shot_index = int(match.group(1))\n",
    "    adc_index = int(match.group(2))\n",
    "    shot_timestamp = int(match.group(3))\n",
    "    shot_time = ut.human_datetime_str(int(match.group(3)))\n",
    "    \n",
    "    ds = xr.open_dataset(anal_ds)\n",
    "    time_len = len(ds['time'])\n",
    "    sweep_len = len(ds['sweep'])\n",
    "    \n",
    "    analysed_infos.append({\n",
    "        'adc_index':adc_index, \n",
    "        'shot_number':shot_index, \n",
    "        'shot_timestamp':shot_timestamp, \n",
    "        'shot_time':shot_time, \n",
    "        'filename':anal_ds,\n",
    "        'time_len': time_len,\n",
    "        'sweep_len': sweep_len\n",
    "    })\n",
    "\n",
    "analysed_infos_df = pd.DataFrame(analysed_infos)"
   ]
  },
  {
   "cell_type": "code",
   "execution_count": 12,
   "metadata": {},
   "outputs": [
    {
     "data": {
      "text/html": [
       "<div>\n",
       "<style scoped>\n",
       "    .dataframe tbody tr th:only-of-type {\n",
       "        vertical-align: middle;\n",
       "    }\n",
       "\n",
       "    .dataframe tbody tr th {\n",
       "        vertical-align: top;\n",
       "    }\n",
       "\n",
       "    .dataframe thead th {\n",
       "        text-align: right;\n",
       "    }\n",
       "</style>\n",
       "<table border=\"1\" class=\"dataframe\">\n",
       "  <thead>\n",
       "    <tr style=\"text-align: right;\">\n",
       "      <th></th>\n",
       "      <th>adc_index</th>\n",
       "      <th>filename</th>\n",
       "      <th>shot_number</th>\n",
       "      <th>shot_time</th>\n",
       "      <th>shot_timestamp</th>\n",
       "      <th>sweep_len</th>\n",
       "      <th>time_len</th>\n",
       "    </tr>\n",
       "  </thead>\n",
       "  <tbody>\n",
       "    <tr>\n",
       "      <th>0</th>\n",
       "      <td>163</td>\n",
       "      <td>analysed_1/a158_163_6698304817900493824.nc</td>\n",
       "      <td>158</td>\n",
       "      <td>2019-06-03 15:03:42</td>\n",
       "      <td>6698304817900493824</td>\n",
       "      <td>999</td>\n",
       "      <td>5000</td>\n",
       "    </tr>\n",
       "    <tr>\n",
       "      <th>1</th>\n",
       "      <td>163</td>\n",
       "      <td>analysed_2/a158_163_6698304817900493824.nc</td>\n",
       "      <td>158</td>\n",
       "      <td>2019-06-03 15:03:42</td>\n",
       "      <td>6698304817900493824</td>\n",
       "      <td>999</td>\n",
       "      <td>50</td>\n",
       "    </tr>\n",
       "    <tr>\n",
       "      <th>2</th>\n",
       "      <td>163</td>\n",
       "      <td>analysed_3/a158_163_6698304817900493824.nc</td>\n",
       "      <td>158</td>\n",
       "      <td>2019-06-03 15:03:42</td>\n",
       "      <td>6698304817900493824</td>\n",
       "      <td>999</td>\n",
       "      <td>5000</td>\n",
       "    </tr>\n",
       "    <tr>\n",
       "      <th>3</th>\n",
       "      <td>163</td>\n",
       "      <td>analysed_3_downsampled/a158_163_66983048179004...</td>\n",
       "      <td>158</td>\n",
       "      <td>2019-06-03 15:03:42</td>\n",
       "      <td>6698304817900493824</td>\n",
       "      <td>999</td>\n",
       "      <td>50</td>\n",
       "    </tr>\n",
       "  </tbody>\n",
       "</table>\n",
       "</div>"
      ],
      "text/plain": [
       "   adc_index                                           filename  shot_number  \\\n",
       "0        163         analysed_1/a158_163_6698304817900493824.nc          158   \n",
       "1        163         analysed_2/a158_163_6698304817900493824.nc          158   \n",
       "2        163         analysed_3/a158_163_6698304817900493824.nc          158   \n",
       "3        163  analysed_3_downsampled/a158_163_66983048179004...          158   \n",
       "\n",
       "             shot_time       shot_timestamp  sweep_len  time_len  \n",
       "0  2019-06-03 15:03:42  6698304817900493824        999      5000  \n",
       "1  2019-06-03 15:03:42  6698304817900493824        999        50  \n",
       "2  2019-06-03 15:03:42  6698304817900493824        999      5000  \n",
       "3  2019-06-03 15:03:42  6698304817900493824        999        50  "
      ]
     },
     "execution_count": 12,
     "metadata": {},
     "output_type": "execute_result"
    }
   ],
   "source": [
    "analysed_infos_df"
   ]
  },
  {
   "cell_type": "code",
   "execution_count": 6,
   "metadata": {},
   "outputs": [
    {
     "name": "stdout",
     "output_type": "stream",
     "text": [
      "<xarray.Dataset>\n",
      "Dimensions:                 (shot_number: 523, ts_radial_pos: 46)\n",
      "Coordinates:\n",
      "  * shot_number             (shot_number) int32 0 1 2 3 4 ... 519 520 521 522\n",
      "    ts_number               (shot_number) float64 ...\n",
      "    ts_timestamp            (shot_number) float64 ...\n",
      "    ts_time                 (shot_number) datetime64[ns] ...\n",
      "    adc_index               (shot_number) float64 ...\n",
      "    adc_time                (shot_number) datetime64[ns] ...\n",
      "  * ts_radial_pos           (ts_radial_pos) float64 -36.47 -34.8 ... 37.14 38.82\n",
      "Data variables:\n",
      "    adc_filename            (shot_number) object ...\n",
      "    ts_density              (shot_number, ts_radial_pos) float64 ...\n",
      "    ts_temperature          (shot_number, ts_radial_pos) float64 ...\n",
      "    ts_d_density            (shot_number, ts_radial_pos) float64 ...\n",
      "    ts_d_temperature        (shot_number, ts_radial_pos) float64 ...\n",
      "    adc_folder              (shot_number) object ...\n",
      "    adc_calibration_index   (shot_number) object ...\n",
      "    adc_4_probe             (shot_number) object ...\n",
      "    adc_5_probe             (shot_number) object ...\n",
      "    ts_temp_max             (shot_number) float64 ...\n",
      "    ts_dens_max             (shot_number) float64 ...\n",
      "    shot_end_time           (shot_number) datetime64[ns] ...\n",
      "    ts_fl                   (shot_number) bool ...\n",
      "    shot_time               (shot_number) datetime64[ns] ...\n",
      "    shot_source_current     (shot_number) float64 ...\n",
      "    shot_b_field            (shot_number) float64 ...\n",
      "    shot_tilt               (shot_number) float64 ...\n",
      "    shot_target_pos         (shot_number) float64 ...\n",
      "    shot_target_rot         (shot_number) float64 ...\n",
      "    shot_target_pumpspeed   (shot_number) int32 ...\n",
      "    shot_source_pumpspeed   (shot_number) int32 ...\n",
      "    shot_heating_pumpspeed  (shot_number) int32 ...\n",
      "    shot_source_pos         (shot_number) float64 ...\n",
      "    shot_deuterium_gf       (shot_number) float64 ...\n",
      "    shot_hydrogen_gf        (shot_number) float64 ...\n",
      "    shot_helium_gf          (shot_number) float64 ...\n",
      "    shot_hydrogen_puffed    (shot_number) float64 ...\n",
      "    shot_helium_puffed      (shot_number) float64 ...\n",
      "    adc_timestamp           (shot_number) float64 ...\n",
      "    adc_4_coax              (shot_number) float64 ...\n",
      "    adc_4_shunt_resistance  (shot_number) float64 ...\n",
      "    adc_5_coax              (shot_number) float64 ...\n",
      "    adc_5_shunt_resistance  (shot_number) float64 ...\n",
      "    adc_calibration_fl      (shot_number) float64 ...\n",
      "    shot_fl                 (shot_number) float64 ...\n",
      "    acquisition_length      (shot_number) float64 ...\n",
      "    adc_end_time            (shot_number) datetime64[ns] ...\n",
      "    adc_end_timestamp       (shot_number) float64 ...\n",
      "    adc_freqs               (shot_number) float64 ...\n"
     ]
    }
   ],
   "source": [
    "os.chdir('/home/jleland/Data/external/magnum/')\n",
    "meta_data_ds = xr.open_dataset('all_meta_data.nc')\n",
    "print(meta_data_ds)"
   ]
  },
  {
   "cell_type": "code",
   "execution_count": 13,
   "metadata": {},
   "outputs": [],
   "source": [
    "indices = [1, 3]"
   ]
  },
  {
   "cell_type": "code",
   "execution_count": 14,
   "metadata": {},
   "outputs": [],
   "source": [
    "def preprocess_sel(ds, sweep=slice(0,650)):\n",
    "    return ds.reset_index('time', drop=True).sel(sweep=sweep)\n",
    "\n",
    "def preprocess_average(ds):\n",
    "    ds = ds.reset_index('time', drop=True)\n",
    "    ds_avg = ds.mean('sweep')\n",
    "    ds_avg = ds_avg.assign({'d_current': ds.std('sweep')['current']})\n",
    "    return ds_avg\n",
    "\n",
    "def preprocess(ds):\n",
    "    return ds.reset_index('time', drop=True)"
   ]
  },
  {
   "cell_type": "code",
   "execution_count": 15,
   "metadata": {},
   "outputs": [
    {
     "data": {
      "text/plain": [
       "<xarray.DataArray 'analysis_type' (analysis_type: 2)>\n",
       "array(['old', 'new'], dtype='<U3')\n",
       "Dimensions without coordinates: analysis_type"
      ]
     },
     "execution_count": 15,
     "metadata": {},
     "output_type": "execute_result"
    }
   ],
   "source": [
    "files_oi = analysed_infos_df.loc[indices]['filename'].values\n",
    "analysis_type = xr.DataArray(['old', 'new'], dims=['analysis_type'], name='analysis_type')\n",
    "analysis_type"
   ]
  },
  {
   "cell_type": "code",
   "execution_count": 16,
   "metadata": {},
   "outputs": [
    {
     "data": {
      "text/plain": [
       "<xarray.Dataset>\n",
       "Dimensions:        (analysis_type: 2, direction: 2, probe: 2, sweep: 650, time: 50)\n",
       "Coordinates:\n",
       "  * direction      (direction) object 'up' 'down'\n",
       "  * probe          (probe) object 'S' 'L'\n",
       "  * analysis_type  (analysis_type) <U3 'old' 'new'\n",
       "Dimensions without coordinates: sweep, time\n",
       "Data variables:\n",
       "    voltage        (analysis_type, probe, direction, sweep, time) float64 -95.2 ... 9.622\n",
       "    current        (analysis_type, probe, direction, sweep, time) float64 -0.08749 ... 0.08398\n",
       "    shot_time      (analysis_type, probe, direction, sweep, time) float64 1.004 ... 7.499\n",
       "    start_time     (analysis_type, probe, direction, sweep) float64 1.004 ... 7.499"
      ]
     },
     "execution_count": 16,
     "metadata": {},
     "output_type": "execute_result"
    }
   ],
   "source": [
    "combined_ds = xr.open_mfdataset(files_oi, concat_dim=analysis_type, preprocess=preprocess_sel)\n",
    "combined_ds = combined_ds.load()\n",
    "combined_ds"
   ]
  },
  {
   "cell_type": "code",
   "execution_count": 17,
   "metadata": {},
   "outputs": [],
   "source": [
    "flattop = slice(0,650)\n",
    "\n",
    "fig, ax = plt.subplots(2)\n",
    "combined_ds.sel(probe='S', analysis_type='old').mean('direction').max('time')['current'].plot.line(ax=ax[0])\n",
    "combined_ds.sel(probe='S', analysis_type='old', sweep=flattop).mean('direction').max('time')['current'].plot.line(ax=ax[0])\n",
    "combined_ds.sel(probe='L', analysis_type='old').mean('direction').max('time')['current'].plot.line(ax=ax[1])\n",
    "combined_ds.sel(probe='L', analysis_type='old', sweep=flattop).mean('direction').max('time')['current'].plot.line(ax=ax[1])\n",
    "fig.show()"
   ]
  },
  {
   "cell_type": "code",
   "execution_count": 18,
   "metadata": {},
   "outputs": [
    {
     "data": {
      "text/plain": [
       "<xarray.Dataset>\n",
       "Dimensions:        (analysis_type: 2, probe: 2, time: 50)\n",
       "Coordinates:\n",
       "  * probe          (probe) object 'S' 'L'\n",
       "  * analysis_type  (analysis_type) <U3 'old' 'new'\n",
       "Dimensions without coordinates: time\n",
       "Data variables:\n",
       "    voltage        (analysis_type, probe, time) float64 -94.3 -92.19 ... 8.803\n",
       "    current        (analysis_type, probe, time) float64 -0.0837 ... 0.07322\n",
       "    shot_time      (analysis_type, probe, time) float64 4.254 4.254 ... 4.254\n",
       "    start_time     (analysis_type, probe) float64 4.251 4.251 4.251 4.251\n",
       "    d_current      (analysis_type, probe, time) float64 0.007994 ... 0.01781"
      ]
     },
     "execution_count": 18,
     "metadata": {},
     "output_type": "execute_result"
    }
   ],
   "source": [
    "ds_avg = combined_ds.mean(['sweep', 'direction'])\n",
    "ds_avg = ds_avg.assign({'d_current': combined_ds.std(['sweep', 'direction'])['current']})\n",
    "ds_avg"
   ]
  },
  {
   "cell_type": "code",
   "execution_count": 27,
   "metadata": {},
   "outputs": [],
   "source": [
    "fig, ax = plt.subplots(2)\n",
    "ds_avg.set_coords('voltage').sel(probe='S')['current'].plot.line(x='voltage', hue='analysis_type', ax=ax[0])\n",
    "ds_avg.set_coords('voltage').sel(probe='L')['current'].plot.line(x='voltage', hue='analysis_type', ax=ax[1])\n",
    "fig.show()"
   ]
  },
  {
   "cell_type": "code",
   "execution_count": 20,
   "metadata": {},
   "outputs": [],
   "source": [
    "def iv_fit(I, V, sigma, fit_above_vp=0.0):\n",
    "    fitting_region = np.where(I >= (0 + fit_above_vp))\n",
    "    print(I.shape, V.shape, sigma.shape)\n",
    "    I = I[fitting_region]\n",
    "    V = V[fitting_region] \n",
    "    sigma = sigma[fitting_region]\n",
    "    \n",
    "    fitter = fts.FullIVFitter()\n",
    "    fit_data = fitter.fit(V, I, sigma=sigma)\n",
    "    return fit_data"
   ]
  },
  {
   "cell_type": "code",
   "execution_count": 21,
   "metadata": {},
   "outputs": [],
   "source": [
    "def _multi_fit_1d(I, V, t, sigma):\n",
    "    print(I.shape, V.shape, sigma.shape)\n",
    "#     iv_data = iv.IVData(V, I, t, sigma=sigma, estimate_error_fl=False)\n",
    "    fit_data = iv_fit(I, V, sigma)\n",
    "    return fit_data\n",
    "    \n",
    "#     temp = np.array(fit_data.get_temp())\n",
    "#     d_temp = np.array(fit_data.get_temp_err())\n",
    "#     isat = np.array(fit_data.get_isat())\n",
    "#     d_isat = np.array(fit_data.get_isat_err())\n",
    "#     sexp = np.array(fit_data.get_sheath_exp())\n",
    "#     d_sexp = np.array(fit_data.get_sheath_exp_err())\n",
    "#     vf =  np.array(fit_data.get_param_val('V_f'))\n",
    "#     d_vf =  np.array(fit_data.get_param_err('V_f'))\n",
    "#     chi2 = np.array(fit_data.chi2)\n",
    "#     r_chi2 = np.array(fit_data.reduced_chi2)\n",
    "#     return temp, d_temp, isat, d_isat, sexp, d_sexp, vf, d_vf, chi2, r_chi2\n",
    "\n",
    "def _multi_fit(I, V, t, sigma):\n",
    "    return np.apply_along_axis(_multi_fit_1d, -1, I, V, t, sigma)\n",
    "\n",
    "def multi_fit(I, V, t, sigma, dims):\n",
    "    return xr.apply_ufunc(_multi_fit_1d, I, V, t, sigma, \n",
    "                          input_core_dims=[['time'], ['time'], ['time'], ['time']], \n",
    "#                           output_core_dims=[['time'], [], [], [], [], [], [], [], [], [], []],\n",
    "#                           vectorize=True,\n",
    "#                           dask='parallelized'\n",
    "                         )\n",
    "\n",
    "def apply_multi_fit(ds, dims):\n",
    "    #  * -1.059\n",
    "    # * 0.946\n",
    "    I = -ds['current'].values\n",
    "    V = ds['voltage'].values * 0.946\n",
    "    t = ds['shot_time'].values\n",
    "    sigma = ds['d_current'].values\n",
    "    return multi_fit(I, V, t, sigma, dims)\n",
    "    "
   ]
  },
  {
   "cell_type": "code",
   "execution_count": 22,
   "metadata": {},
   "outputs": [
    {
     "name": "stdout",
     "output_type": "stream",
     "text": [
      "(2, 50) (2, 50) (2, 50)\n",
      "(2, 50) (2, 50) (2, 50)\n",
      "(2, 50) (2, 50) (2, 50)\n"
     ]
    },
    {
     "data": {
      "text/plain": [
       "<flopter.core.fitdata.IVFitData at 0x7f8947d60390>"
      ]
     },
     "execution_count": 22,
     "metadata": {},
     "output_type": "execute_result"
    }
   ],
   "source": [
    "I = -ds_avg['current'].values[0]\n",
    "V = ds_avg['voltage'].values[0]\n",
    "t = ds_avg['shot_time'].values[0]\n",
    "sigma = ds_avg['d_current'].values[0]\n",
    "\n",
    "print(I.shape, V.shape, sigma.shape)\n",
    "fit_data = _multi_fit_1d(I, V, t, sigma)\n",
    "\n",
    "fit_data"
   ]
  },
  {
   "cell_type": "code",
   "execution_count": 26,
   "metadata": {},
   "outputs": [
    {
     "name": "stdout",
     "output_type": "stream",
     "text": [
      "(50,) (50,) (50,)\n",
      "(50,) (50,) (50,)\n"
     ]
    }
   ],
   "source": [
    "apply_multi_fit(ds_avg.sel(probe='S', analysis_type='old'), 'time').plot()"
   ]
  },
  {
   "cell_type": "code",
   "execution_count": 31,
   "metadata": {},
   "outputs": [
    {
     "data": {
      "text/plain": [
       "0.9451795841209829"
      ]
     },
     "execution_count": 31,
     "metadata": {},
     "output_type": "execute_result"
    }
   ],
   "source": [
    "1/1.0581"
   ]
  },
  {
   "cell_type": "code",
   "execution_count": 24,
   "metadata": {},
   "outputs": [
    {
     "name": "stdout",
     "output_type": "stream",
     "text": [
      "(2, 50) (2, 50) (2, 50)\n",
      "(2, 50) (2, 50) (2, 50)\n"
     ]
    },
    {
     "ename": "TypeError",
     "evalue": "'IVFitData' object is not iterable",
     "output_type": "error",
     "traceback": [
      "\u001b[0;31m---------------------------------------------------------------------------\u001b[0m",
      "\u001b[0;31mTypeError\u001b[0m                                 Traceback (most recent call last)",
      "\u001b[0;32m<ipython-input-24-41450c0b2220>\u001b[0m in \u001b[0;36m<module>\u001b[0;34m()\u001b[0m\n\u001b[1;32m      3\u001b[0m \u001b[0;31m# fig, ax = plt.subplots(2)\u001b[0m\u001b[0;34m\u001b[0m\u001b[0;34m\u001b[0m\u001b[0m\n\u001b[1;32m      4\u001b[0m \u001b[0mfit_datas\u001b[0m \u001b[0;34m=\u001b[0m \u001b[0mapply_multi_fit\u001b[0m\u001b[0;34m(\u001b[0m\u001b[0mds_avg\u001b[0m\u001b[0;34m.\u001b[0m\u001b[0msel\u001b[0m\u001b[0;34m(\u001b[0m\u001b[0mprobe\u001b[0m\u001b[0;34m=\u001b[0m\u001b[0;34m'S'\u001b[0m\u001b[0;34m)\u001b[0m\u001b[0;34m,\u001b[0m \u001b[0mdims\u001b[0m\u001b[0;34m=\u001b[0m\u001b[0;34m[\u001b[0m\u001b[0;34m'analysis_type'\u001b[0m\u001b[0;34m]\u001b[0m\u001b[0;34m)\u001b[0m\u001b[0;34m\u001b[0m\u001b[0m\n\u001b[0;32m----> 5\u001b[0;31m \u001b[0;32mfor\u001b[0m \u001b[0mi\u001b[0m\u001b[0;34m,\u001b[0m \u001b[0mfd\u001b[0m \u001b[0;32min\u001b[0m \u001b[0menumerate\u001b[0m\u001b[0;34m(\u001b[0m\u001b[0mfit_datas\u001b[0m\u001b[0;34m)\u001b[0m\u001b[0;34m:\u001b[0m\u001b[0;34m\u001b[0m\u001b[0m\n\u001b[0m\u001b[1;32m      6\u001b[0m     \u001b[0mfd\u001b[0m\u001b[0;34m.\u001b[0m\u001b[0mplot\u001b[0m\u001b[0;34m(\u001b[0m\u001b[0;34m)\u001b[0m\u001b[0;34m\u001b[0m\u001b[0m\n\u001b[1;32m      7\u001b[0m     \u001b[0mprint\u001b[0m\u001b[0;34m(\u001b[0m\u001b[0mfd\u001b[0m\u001b[0;34m.\u001b[0m\u001b[0mget_temp\u001b[0m\u001b[0;34m(\u001b[0m\u001b[0;34m)\u001b[0m\u001b[0;34m)\u001b[0m\u001b[0;34m\u001b[0m\u001b[0m\n",
      "\u001b[0;31mTypeError\u001b[0m: 'IVFitData' object is not iterable"
     ]
    }
   ],
   "source": [
    "magnum_probes = lp.MagnumProbes()\n",
    "\n",
    "# fig, ax = plt.subplots(2)\n",
    "fit_datas = apply_multi_fit(ds_avg.sel(probe='S'), dims=['analysis_type'])\n",
    "for i, fd in enumerate(fit_datas):\n",
    "    fd.plot()\n",
    "    print(fd.get_temp())\n",
    "    print(magnum_probes['S'].get_density(fd.get_isat(), fd.get_temp(), alpha=np.radians(10)))\n",
    "#     ax[i].plot(*fd.get_raw_plottables())\n",
    "#     ax[i].plot(*fd.get_fit_plottables())"
   ]
  },
  {
   "cell_type": "code",
   "execution_count": 25,
   "metadata": {},
   "outputs": [
    {
     "data": {
      "text/plain": [
       "<xarray.DataArray 'current' (analysis_type: 2, probe: 2, time: 50)>\n",
       "array([[[-0.083699, -0.083494, -0.083217, -0.082638, -0.081969, -0.081668,\n",
       "         -0.081679, -0.08128 , -0.080859, -0.080346, -0.079908, -0.079139,\n",
       "         -0.078779, -0.07786 , -0.07767 , -0.077542, -0.077296, -0.076601,\n",
       "         -0.07626 , -0.075824, -0.074996, -0.074584, -0.074001, -0.073176,\n",
       "         -0.072532, -0.071402, -0.070112, -0.068011, -0.064357, -0.058403,\n",
       "         -0.047145, -0.027278,  0.003615,  0.045177,  0.093677,  0.143575,\n",
       "          0.19338 ,  0.234532,  0.263201,  0.280153,  0.289532,  0.29738 ,\n",
       "          0.303618,  0.306637,  0.31114 ,  0.314462,  0.316858,  0.318942,\n",
       "          0.319615,  0.322095],\n",
       "        [-0.010192, -0.010106, -0.010063, -0.009742, -0.009759, -0.009554,\n",
       "         -0.009543, -0.009302, -0.009306, -0.009207, -0.008994, -0.008954,\n",
       "         -0.008949, -0.008666, -0.008627, -0.008553, -0.008526, -0.008163,\n",
       "         -0.007967, -0.007992, -0.007943, -0.007579, -0.008009, -0.007694,\n",
       "         -0.007485, -0.00713 , -0.007217, -0.007189, -0.006955, -0.006935,\n",
       "         -0.006819, -0.006757, -0.00673 , -0.00656 , -0.006444, -0.006191,\n",
       "         -0.005942, -0.004522, -0.002377,  0.001755,  0.008352,  0.018913,\n",
       "          0.031713,  0.042562,  0.052125,  0.058971,  0.064272,  0.06758 ,\n",
       "          0.070299,  0.073217]],\n",
       "\n",
       "       [[-0.083699, -0.083494, -0.083217, -0.082638, -0.081969, -0.081668,\n",
       "         -0.081679, -0.08128 , -0.080859, -0.080346, -0.079908, -0.079139,\n",
       "         -0.078779, -0.07786 , -0.07767 , -0.077542, -0.077296, -0.076601,\n",
       "         -0.07626 , -0.075824, -0.074996, -0.074584, -0.074001, -0.073176,\n",
       "         -0.072532, -0.071402, -0.070112, -0.068011, -0.064357, -0.058403,\n",
       "         -0.047145, -0.027278,  0.003615,  0.045177,  0.093677,  0.143575,\n",
       "          0.19338 ,  0.234532,  0.263201,  0.280153,  0.289532,  0.29738 ,\n",
       "          0.303618,  0.306637,  0.31114 ,  0.314462,  0.316858,  0.318942,\n",
       "          0.319615,  0.322095],\n",
       "        [-0.010192, -0.010106, -0.010063, -0.009742, -0.009759, -0.009554,\n",
       "         -0.009543, -0.009302, -0.009306, -0.009207, -0.008994, -0.008954,\n",
       "         -0.008949, -0.008666, -0.008627, -0.008553, -0.008526, -0.008163,\n",
       "         -0.007967, -0.007992, -0.007943, -0.007579, -0.008009, -0.007694,\n",
       "         -0.007485, -0.00713 , -0.007217, -0.007189, -0.006955, -0.006935,\n",
       "         -0.006819, -0.006757, -0.00673 , -0.00656 , -0.006444, -0.006191,\n",
       "         -0.005942, -0.004522, -0.002377,  0.001755,  0.008352,  0.018913,\n",
       "          0.031713,  0.042562,  0.052125,  0.058971,  0.064272,  0.06758 ,\n",
       "          0.070299,  0.073217]]])\n",
       "Coordinates:\n",
       "  * probe          (probe) object 'S' 'L'\n",
       "  * analysis_type  (analysis_type) <U3 'old' 'new'\n",
       "Dimensions without coordinates: time"
      ]
     },
     "execution_count": 25,
     "metadata": {},
     "output_type": "execute_result"
    }
   ],
   "source": [
    "ds_avg['current']"
   ]
  },
  {
   "cell_type": "code",
   "execution_count": 105,
   "metadata": {},
   "outputs": [
    {
     "data": {
      "text/plain": [
       "<xarray.Dataset>\n",
       "Dimensions:                 (ts_radial_pos: 46)\n",
       "Coordinates:\n",
       "    shot_number             int32 157\n",
       "    ts_number               float64 nan\n",
       "    ts_timestamp            float64 nan\n",
       "    ts_time                 datetime64[ns] NaT\n",
       "    adc_index               float64 162.0\n",
       "    adc_time                datetime64[ns] 2019-06-03T15:02:46\n",
       "  * ts_radial_pos           (ts_radial_pos) float64 -36.47 -34.8 ... 37.14 38.82\n",
       "Data variables:\n",
       "    adc_filename            object '2019-06-03 16h 02m 56s TT_06698304580043636299.adc'\n",
       "    ts_density              (ts_radial_pos) float64 nan nan nan ... nan nan nan\n",
       "    ts_temperature          (ts_radial_pos) float64 nan nan nan ... nan nan nan\n",
       "    ts_d_density            (ts_radial_pos) float64 nan nan nan ... nan nan nan\n",
       "    ts_d_temperature        (ts_radial_pos) float64 nan nan nan ... nan nan nan\n",
       "    adc_folder              object '2019-06-03_Leland/'\n",
       "    adc_calibration_index   object '120'\n",
       "    adc_4_probe             object 'S'\n",
       "    adc_5_probe             object 'L'\n",
       "    ts_temp_max             float64 nan\n",
       "    ts_dens_max             float64 nan\n",
       "    shot_end_time           datetime64[ns] 2019-06-03T15:02:57\n",
       "    ts_fl                   bool False\n",
       "    shot_time               datetime64[ns] 2019-06-03T15:02:42\n",
       "    shot_source_current     float64 100.5\n",
       "    shot_b_field            float64 0.8003\n",
       "    shot_tilt               float64 9.987\n",
       "    shot_target_pos         float64 -0.1299\n",
       "    shot_target_rot         float64 -89.94\n",
       "    shot_target_pumpspeed   int32 82\n",
       "    shot_source_pumpspeed   int32 82\n",
       "    shot_heating_pumpspeed  int32 82\n",
       "    shot_source_pos         float64 1.35\n",
       "    shot_deuterium_gf       float64 0.001435\n",
       "    shot_hydrogen_gf        float64 8.449\n",
       "    shot_helium_gf          float64 0.0\n",
       "    shot_hydrogen_puffed    float64 -0.02336\n",
       "    shot_helium_puffed      float64 -0.04962\n",
       "    adc_timestamp           float64 6.698e+18\n",
       "    adc_4_coax              float64 1.0\n",
       "    adc_4_shunt_resistance  float64 10.0\n",
       "    adc_5_coax              float64 2.0\n",
       "    adc_5_shunt_resistance  float64 10.0\n",
       "    adc_calibration_fl      float64 0.0\n",
       "    shot_fl                 float64 1.0\n",
       "    acquisition_length      float64 10.0\n",
       "    adc_end_time            datetime64[ns] 2019-06-03T15:02:56\n",
       "    adc_end_timestamp       float64 6.698e+18\n",
       "    adc_freqs               float64 1e+06"
      ]
     },
     "execution_count": 105,
     "metadata": {},
     "output_type": "execute_result"
    }
   ],
   "source": [
    "meta_data_ds.sel(shot_number=157).load()"
   ]
  },
  {
   "cell_type": "code",
   "execution_count": null,
   "metadata": {},
   "outputs": [],
   "source": []
  }
 ],
 "metadata": {
  "kernelspec": {
   "display_name": "magopter_kernel_3.6.5",
   "language": "python",
   "name": "magopter_kernel_3.6.5"
  },
  "language_info": {
   "codemirror_mode": {
    "name": "ipython",
    "version": 3
   },
   "file_extension": ".py",
   "mimetype": "text/x-python",
   "name": "python",
   "nbconvert_exporter": "python",
   "pygments_lexer": "ipython3",
   "version": "3.6.5"
  }
 },
 "nbformat": 4,
 "nbformat_minor": 2
}
