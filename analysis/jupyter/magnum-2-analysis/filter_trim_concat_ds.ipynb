{
 "cells": [
  {
   "cell_type": "code",
   "execution_count": 1,
   "metadata": {},
   "outputs": [],
   "source": [
    "%matplotlib tk\n",
    "import numpy as np\n",
    "import matplotlib.pyplot as plt\n",
    "import matplotlib as mpl\n",
    "import pandas as pd\n",
    "import xarray as xr \n",
    "import scipy.stats as stat\n",
    "import sys\n",
    "import os\n",
    "import glob\n",
    "import re\n",
    "sys.path.append('/home/jleland/Coding/Projects/flopter')\n",
    "import flopter.core.ivdata as iv\n",
    "import flopter.core.lputils as lp\n",
    "import flopter.magnum.database as ut\n",
    "import flopter.core.fitters as fts# Create analysed dataset metadata "
   ]
  },
  {
   "cell_type": "code",
   "execution_count": 4,
   "metadata": {},
   "outputs": [],
   "source": [
    "path_to_datasets = '/home/jleland/data/external/magnum/'\n",
    "# path_to_analysed_datasets = 'analysed_2'\n",
    "path_to_analysed_datasets = 'analysed_4'\n",
    "# path_to_analysed_datasets = 'analysed_3_downsampled'\n",
    "# path_to_analysed_datasets = 'test'\n",
    "os.chdir(path_to_datasets)"
   ]
  },
  {
   "cell_type": "markdown",
   "metadata": {},
   "source": [
    "---\n",
    "## Saving / loading section\n",
    "The metadata doesn't need to be reconstructed _every_ time, so we can store it in a .csv file output by pandas. The following 2 methods save and load, use whichever is appropriate"
   ]
  },
  {
   "cell_type": "code",
   "execution_count": 5,
   "metadata": {},
   "outputs": [],
   "source": [
    "metadata_filename = f'{path_to_analysed_datasets}_xr_metadata.csv'"
   ]
  },
  {
   "cell_type": "code",
   "execution_count": 6,
   "metadata": {},
   "outputs": [],
   "source": [
    "# Loading the metadata .csv file into a pandas dataframe\n",
    "analysed_infos_df = pd.read_csv(metadata_filename).set_index('adc_index')"
   ]
  },
  {
   "cell_type": "code",
   "execution_count": 7,
   "metadata": {},
   "outputs": [],
   "source": [
    "# Saving the metadata.csv file from the constructed pandas dataframe\n",
    "analysed_infos_df.to_csv(metadata_filename)"
   ]
  },
  {
   "cell_type": "markdown",
   "metadata": {},
   "source": [
    "End of save/load segment\n",
    "\n",
    "---\n",
    "\n",
    "## Index choice section"
   ]
  },
  {
   "cell_type": "code",
   "execution_count": 8,
   "metadata": {},
   "outputs": [],
   "source": [
    "magnum_probes = lp.MagnumProbes()"
   ]
  },
  {
   "cell_type": "code",
   "execution_count": 9,
   "metadata": {},
   "outputs": [
    {
     "name": "stdout",
     "output_type": "stream",
     "text": [
      "440 442\n"
     ]
    }
   ],
   "source": [
    "indices = analysed_infos_df.where(analysed_infos_df.time_len >= 500).dropna().index.values\n",
    "indices\n",
    "print(len(indices), len(analysed_infos_df))"
   ]
  },
  {
   "cell_type": "code",
   "execution_count": 6,
   "metadata": {},
   "outputs": [],
   "source": [
    "# list(analysed_infos_df.groupby('time_len'))"
   ]
  },
  {
   "cell_type": "code",
   "execution_count": 11,
   "metadata": {},
   "outputs": [],
   "source": [
    "# Joe's requested shots\n",
    "indices = [396, 398, 409]"
   ]
  },
  {
   "cell_type": "code",
   "execution_count": 8,
   "metadata": {},
   "outputs": [],
   "source": [
    "# Axial Scan\n",
    "indices = [132,148,149,150,151,152,153,154,155,156,157,158,159,160,161,162,163,164,165,166,167,168,169,170,171,172,173,174,175,176,177,178,179,180,181,182,183,184,185,186,187,188,189]"
   ]
  },
  {
   "cell_type": "code",
   "execution_count": 7,
   "metadata": {},
   "outputs": [],
   "source": [
    "# 100A, 5slm (He), 0.8T\n",
    "indices = [357, 358, 359, 360, 361, 362, 363, 364, 365, 366, 367, 376, 377, 378, 379, 380, 381, 382, 383, 384, 385, 386]"
   ]
  },
  {
   "cell_type": "code",
   "execution_count": 24,
   "metadata": {},
   "outputs": [],
   "source": [
    "# 100A, 5slm (He), 1.2T\n",
    "indices = [245, 246, 247, 248, 249, 250, 251, 252, 254, 255, 256, 261, 262, 263, 264, 265, 266, 267, 268, 269, 270, 271]"
   ]
  },
  {
   "cell_type": "code",
   "execution_count": 7,
   "metadata": {},
   "outputs": [],
   "source": [
    "# 110A, 5slm (H), 1.2T\n",
    "indices = [320, 321, 322, 323, 324, 325, 327, 328, 329, 330, 331, 336, 337, 338, 339, 340, 341, 342, 343, 344, 345, 346]"
   ]
  },
  {
   "cell_type": "code",
   "execution_count": 7,
   "metadata": {},
   "outputs": [],
   "source": [
    "indices = [357, 358, 359, 360, 361, 362, 363, 364, 365, 366, 367, 376, 377, 378, 379, 380, 381, 382, 383, 384, 385, 386]\\\n",
    "          + [132,148,149,150,151,152,153,154,155,156,157,158,159,160,161,162,163,164,165,166,167,168,169,170,171,172,173,174,175,176,177,178,179,180,181,182,183,184,185,186,187,188,189]\\\n",
    "          + [320, 321, 322, 323, 324, 325, 327, 328, 329, 330, 331, 336, 337, 338, 339, 340, 341, 342, 343, 344, 345, 346]"
   ]
  },
  {
   "cell_type": "code",
   "execution_count": 12,
   "metadata": {},
   "outputs": [
    {
     "data": {
      "text/html": [
       "<div>\n",
       "<style scoped>\n",
       "    .dataframe tbody tr th:only-of-type {\n",
       "        vertical-align: middle;\n",
       "    }\n",
       "\n",
       "    .dataframe tbody tr th {\n",
       "        vertical-align: top;\n",
       "    }\n",
       "\n",
       "    .dataframe thead th {\n",
       "        text-align: right;\n",
       "    }\n",
       "</style>\n",
       "<table border=\"1\" class=\"dataframe\">\n",
       "  <thead>\n",
       "    <tr style=\"text-align: right;\">\n",
       "      <th></th>\n",
       "      <th>shot_number</th>\n",
       "      <th>shot_timestamp</th>\n",
       "      <th>shot_time</th>\n",
       "      <th>filename</th>\n",
       "      <th>time_len</th>\n",
       "      <th>sweep_len</th>\n",
       "    </tr>\n",
       "    <tr>\n",
       "      <th>adc_index</th>\n",
       "      <th></th>\n",
       "      <th></th>\n",
       "      <th></th>\n",
       "      <th></th>\n",
       "      <th></th>\n",
       "      <th></th>\n",
       "    </tr>\n",
       "  </thead>\n",
       "  <tbody>\n",
       "    <tr>\n",
       "      <td>396</td>\n",
       "      <td>398</td>\n",
       "      <td>6699383298543284224</td>\n",
       "      <td>2019-06-06 12:48:45</td>\n",
       "      <td>analysed_4/a398_396_6699383298543284224.nc</td>\n",
       "      <td>5000</td>\n",
       "      <td>1499</td>\n",
       "    </tr>\n",
       "    <tr>\n",
       "      <td>398</td>\n",
       "      <td>400</td>\n",
       "      <td>6699384234551673856</td>\n",
       "      <td>2019-06-06 12:52:23</td>\n",
       "      <td>analysed_4/a400_398_6699384234551673856.nc</td>\n",
       "      <td>5000</td>\n",
       "      <td>507</td>\n",
       "    </tr>\n",
       "    <tr>\n",
       "      <td>409</td>\n",
       "      <td>411</td>\n",
       "      <td>6699401399545384960</td>\n",
       "      <td>2019-06-06 13:58:59</td>\n",
       "      <td>analysed_4/a411_409_6699401399545384960.nc</td>\n",
       "      <td>5000</td>\n",
       "      <td>301</td>\n",
       "    </tr>\n",
       "  </tbody>\n",
       "</table>\n",
       "</div>"
      ],
      "text/plain": [
       "           shot_number       shot_timestamp            shot_time  \\\n",
       "adc_index                                                          \n",
       "396                398  6699383298543284224  2019-06-06 12:48:45   \n",
       "398                400  6699384234551673856  2019-06-06 12:52:23   \n",
       "409                411  6699401399545384960  2019-06-06 13:58:59   \n",
       "\n",
       "                                             filename  time_len  sweep_len  \n",
       "adc_index                                                                   \n",
       "396        analysed_4/a398_396_6699383298543284224.nc      5000       1499  \n",
       "398        analysed_4/a400_398_6699384234551673856.nc      5000        507  \n",
       "409        analysed_4/a411_409_6699401399545384960.nc      5000        301  "
      ]
     },
     "execution_count": 12,
     "metadata": {},
     "output_type": "execute_result"
    }
   ],
   "source": [
    "analysed_infos_df.loc[indices]"
   ]
  },
  {
   "cell_type": "markdown",
   "metadata": {},
   "source": [
    "## Load adc file metadata"
   ]
  },
  {
   "cell_type": "code",
   "execution_count": 14,
   "metadata": {},
   "outputs": [
    {
     "name": "stdout",
     "output_type": "stream",
     "text": [
      "<xarray.Dataset>\n",
      "Dimensions:                 (shot_number: 523, ts_radial_pos: 46)\n",
      "Coordinates:\n",
      "  * shot_number             (shot_number) int32 0 1 2 3 4 ... 519 520 521 522\n",
      "    ts_number               (shot_number) float64 ...\n",
      "    ts_timestamp            (shot_number) float64 ...\n",
      "    ts_time                 (shot_number) datetime64[ns] ...\n",
      "    adc_index               (shot_number) float64 ...\n",
      "    adc_time                (shot_number) datetime64[ns] ...\n",
      "  * ts_radial_pos           (ts_radial_pos) float64 -36.47 -34.8 ... 37.14 38.82\n",
      "Data variables:\n",
      "    adc_filename            (shot_number) object ...\n",
      "    ts_density              (shot_number, ts_radial_pos) float64 ...\n",
      "    ts_temperature          (shot_number, ts_radial_pos) float64 ...\n",
      "    ts_d_density            (shot_number, ts_radial_pos) float64 ...\n",
      "    ts_d_temperature        (shot_number, ts_radial_pos) float64 ...\n",
      "    adc_folder              (shot_number) object ...\n",
      "    adc_calibration_index   (shot_number) object ...\n",
      "    adc_4_probe             (shot_number) object ...\n",
      "    adc_5_probe             (shot_number) object ...\n",
      "    ts_temp_max             (shot_number) float64 ...\n",
      "    ts_dens_max             (shot_number) float64 ...\n",
      "    shot_end_time           (shot_number) datetime64[ns] ...\n",
      "    ts_fl                   (shot_number) bool ...\n",
      "    shot_time               (shot_number) datetime64[ns] ...\n",
      "    shot_source_current     (shot_number) float64 ...\n",
      "    shot_b_field            (shot_number) float64 ...\n",
      "    shot_tilt               (shot_number) float64 ...\n",
      "    shot_target_pos         (shot_number) float64 ...\n",
      "    shot_target_rot         (shot_number) float64 ...\n",
      "    shot_target_pumpspeed   (shot_number) int32 ...\n",
      "    shot_source_pumpspeed   (shot_number) int32 ...\n",
      "    shot_heating_pumpspeed  (shot_number) int32 ...\n",
      "    shot_source_pos         (shot_number) float64 ...\n",
      "    shot_deuterium_gf       (shot_number) float64 ...\n",
      "    shot_hydrogen_gf        (shot_number) float64 ...\n",
      "    shot_helium_gf          (shot_number) float64 ...\n",
      "    shot_hydrogen_puffed    (shot_number) float64 ...\n",
      "    shot_helium_puffed      (shot_number) float64 ...\n",
      "    adc_timestamp           (shot_number) float64 ...\n",
      "    adc_4_coax              (shot_number) float64 ...\n",
      "    adc_4_shunt_resistance  (shot_number) float64 ...\n",
      "    adc_5_coax              (shot_number) float64 ...\n",
      "    adc_5_shunt_resistance  (shot_number) float64 ...\n",
      "    adc_calibration_fl      (shot_number) float64 ...\n",
      "    shot_fl                 (shot_number) float64 ...\n",
      "    acquisition_length      (shot_number) float64 ...\n",
      "    adc_end_time            (shot_number) datetime64[ns] ...\n",
      "    adc_end_timestamp       (shot_number) float64 ...\n",
      "    adc_freqs               (shot_number) float64 ...\n"
     ]
    }
   ],
   "source": [
    "os.chdir('/home/jleland/data/external/magnum/')\n",
    "meta_data_ds = xr.open_dataset('all_meta_data.nc')\n",
    "print(meta_data_ds)"
   ]
  },
  {
   "cell_type": "markdown",
   "metadata": {},
   "source": [
    "# Analysis of shot / adc_file index selection"
   ]
  },
  {
   "cell_type": "code",
   "execution_count": 15,
   "metadata": {},
   "outputs": [],
   "source": [
    "def preprocess_sel(ds, sweep=slice(0,997)):\n",
    "    return ds.sel(sweep=sweep)\n",
    "\n",
    "def preprocess_average(ds):\n",
    "    ds = ds.reset_index('time', drop=True)\n",
    "    ds_avg = ds.mean('sweep')\n",
    "    ds_avg = ds_avg.assign({'d_current': ds.std('sweep')['current']})\n",
    "    return ds_avg\n",
    "\n",
    "def preprocess_average_downsample(ds, downsample_to=500):\n",
    "    ds = ds.reset_index('time', drop=True)\n",
    "    dsf = int(len(ds.time) / downsample_to)\n",
    "    ds = ds.sel(time=slice(0, len(ds.time), dsf))\n",
    "    ds_avg = ds.mean('sweep')\n",
    "    ds_avg = ds_avg.assign({'d_current': ds.std('sweep')['current']})\n",
    "    return ds_avg"
   ]
  },
  {
   "cell_type": "code",
   "execution_count": 16,
   "metadata": {},
   "outputs": [
    {
     "name": "stdout",
     "output_type": "stream",
     "text": [
      "301\n"
     ]
    }
   ],
   "source": [
    "analysed_metadata_oi = analysed_infos_df.loc[indices]\n",
    "\n",
    "files_oi = analysed_metadata_oi['filename'].values\n",
    "shot_numbers = analysed_metadata_oi['shot_number'].values\n",
    "shot_numbers_da = xr.DataArray(shot_numbers, dims=['shot_number'], name='shot_number')\n",
    "min_sweep_len = analysed_metadata_oi['sweep_len'].min()\n",
    "print(min_sweep_len)"
   ]
  },
  {
   "cell_type": "markdown",
   "metadata": {},
   "source": [
    "# Filter Arcs and Find Region of Interest of Each Shot"
   ]
  },
  {
   "cell_type": "code",
   "execution_count": 17,
   "metadata": {},
   "outputs": [],
   "source": [
    "select_meta_ds = meta_data_ds.sel(shot_number=shot_numbers_da)"
   ]
  },
  {
   "cell_type": "code",
   "execution_count": 18,
   "metadata": {},
   "outputs": [],
   "source": [
    "ds_list = [xr.open_dataset(fn) for fn in files_oi]"
   ]
  },
  {
   "cell_type": "code",
   "execution_count": 19,
   "metadata": {},
   "outputs": [
    {
     "name": "stdout",
     "output_type": "stream",
     "text": [
      "analysed_4/a398_396_6699383298543284224.nc\n",
      "analysed_4/a400_398_6699384234551673856.nc\n",
      "analysed_4/a411_409_6699401399545384960.nc\n"
     ]
    }
   ],
   "source": [
    "fig, ax = plt.subplots()\n",
    "start_times = []\n",
    "for i, ds in enumerate(ds_list):\n",
    "    print(files_oi[i])\n",
    "#     ds.mean('direction').max('time').set_coords('shot_time')['current'].plot.line(x='shot_time', hue='probe')\n",
    "    start_times.append(ds.isel(probe=0, sweep=0, direction=0)['start_time'].values)\n",
    "    \n",
    "ax.plot(shot_numbers, start_times)\n",
    "fig.show()"
   ]
  },
  {
   "cell_type": "code",
   "execution_count": 23,
   "metadata": {},
   "outputs": [],
   "source": [
    "start_times = np.array(start_times)"
   ]
  },
  {
   "cell_type": "code",
   "execution_count": 24,
   "metadata": {},
   "outputs": [
    {
     "name": "stdout",
     "output_type": "stream",
     "text": [
      "[215, 216, 217, 218, 219, 220, 221, 222, 223, 224, 225, 226, 227, 228, 229, 230, 231, 232, 233, 234, 235, 236, 237, 238, 239, 240, 241, 242, 243, 359, 360, 361, 362, 363, 364, 365, 366, 367, 368, 369, 370, 371, 395, 399, 400, 401, 402, 404, 405, 406, 407, 409, 410, 411, 412, 413, 414, 415, 416, 423, 424, 432, 433, 434, 435, 436, 438, 439, 440, 441, 442, 443, 444, 445, 446, 447, 448, 449, 450, 451]\n"
     ]
    }
   ],
   "source": [
    "problem_shot_indices = np.where(start_times >= 1.05)\n",
    "problem_shots = shot_numbers[problem_shot_indices]\n",
    "problem_shots_da = xr.DataArray(problem_shots, dims=['shot_number'], name='shot_number')\n",
    "print(list(problem_shots))\n"
   ]
  },
  {
   "cell_type": "code",
   "execution_count": 16,
   "metadata": {
    "collapsed": true,
    "jupyter": {
     "outputs_hidden": true
    }
   },
   "outputs": [
    {
     "name": "stdout",
     "output_type": "stream",
     "text": [
      "Shot 215: 0.0%\n",
      "Shot 216: 1.2%\n",
      "Shot 217: 2.5%\n",
      "Shot 218: 3.8%\n",
      "Shot 219: 5.0%\n",
      "Shot 220: 6.2%\n",
      "Shot 221: 7.5%\n",
      "Shot 222: 8.8%\n",
      "Shot 223: 10.0%\n",
      "Shot 224: 11.2%\n",
      "Shot 225: 12.5%\n",
      "Shot 226: 13.8%\n",
      "Shot 227: 15.0%\n",
      "Shot 228: 16.2%\n",
      "Shot 229: 17.5%\n",
      "Shot 230: 18.8%\n",
      "Shot 231: 20.0%\n",
      "Shot 232: 21.2%\n",
      "Shot 233: 22.5%\n",
      "Shot 234: 23.8%\n",
      "Shot 235: 25.0%\n",
      "Shot 236: 26.2%\n",
      "Shot 237: 27.5%\n",
      "Shot 238: 28.7%\n",
      "Shot 239: 30.0%\n",
      "Shot 240: 31.2%\n",
      "Shot 241: 32.5%\n",
      "Shot 242: 33.8%\n",
      "Shot 243: 35.0%\n",
      "Shot 359: 36.2%\n",
      "Shot 360: 37.5%\n",
      "Shot 361: 38.8%\n",
      "Shot 362: 40.0%\n",
      "Shot 363: 41.2%\n",
      "Shot 364: 42.5%\n",
      "Shot 365: 43.8%\n",
      "Shot 366: 45.0%\n",
      "Shot 367: 46.2%\n",
      "Shot 368: 47.5%\n",
      "Shot 369: 48.8%\n",
      "Shot 370: 50.0%\n",
      "Shot 371: 51.2%\n",
      "Shot 395: 52.5%\n",
      "Shot 399: 53.8%\n",
      "Shot 400: 55.0%\n",
      "Shot 401: 56.2%\n",
      "Shot 402: 57.5%\n",
      "Shot 404: 58.8%\n",
      "Shot 405: 60.0%\n",
      "Shot 406: 61.3%\n",
      "Shot 407: 62.5%\n",
      "Shot 409: 63.7%\n",
      "Shot 410: 65.0%\n",
      "Shot 411: 66.2%\n",
      "Shot 412: 67.5%\n",
      "Shot 413: 68.8%\n",
      "Shot 414: 70.0%\n",
      "Shot 415: 71.2%\n",
      "Shot 416: 72.5%\n",
      "Shot 423: 73.8%\n",
      "Shot 424: 75.0%\n",
      "Shot 432: 76.2%\n",
      "Shot 433: 77.5%\n",
      "Shot 434: 78.8%\n",
      "Shot 435: 80.0%\n",
      "Shot 436: 81.2%\n",
      "Shot 438: 82.5%\n",
      "Shot 439: 83.8%\n",
      "Shot 440: 85.0%\n",
      "Shot 441: 86.2%\n",
      "Shot 442: 87.5%\n",
      "Shot 443: 88.8%\n",
      "Shot 444: 90.0%\n",
      "Shot 445: 91.2%\n",
      "Shot 446: 92.5%\n",
      "Shot 447: 93.8%\n",
      "Shot 448: 95.0%\n",
      "Shot 449: 96.2%\n",
      "Shot 450: 97.5%\n",
      "Shot 451: 98.8%\n"
     ]
    }
   ],
   "source": [
    "problem_shots = [215, 216, 217, 218, 219, 220, 221, 222, 223, 224, 225, 226, 227, 228, 229, 230, 231, 232, 233, 234, 235, 236, 237, 238, 239, 240, 241, 242, 243, 359, 360, 361, 362, 363, 364, 365, 366, 367, 368, 369, 370, 371, 395, 399, 400, 401, 402, 404, 405, 406, 407, 409, 410, 411, 412, 413, 414, 415, 416, 423, 424, 432, 433, 434, 435, 436, 438, 439, 440, 441, 442, 443, 444, 445, 446, 447, 448, 449, 450, 451]\n",
    "len_ps = len(problem_shots)\n",
    "for i, ps in enumerate(problem_shots):\n",
    "    print(f'Shot {ps}: {((i/len_ps) * 100):.1f}%')"
   ]
  },
  {
   "cell_type": "code",
   "execution_count": 17,
   "metadata": {},
   "outputs": [],
   "source": [
    "test_dir = 'test/'\n",
    "# test_files = ['a215_225_6698640011711049728.nc', 'a157_162_6698304580043636736.nc']\n",
    "# test_shots = [215, 157]\n",
    "\n",
    "test_files = glob.glob(test_dir + '/*.nc')\n",
    "test_files.sort()\n",
    "\n",
    "test_infos = []\n",
    "\n",
    "for i, anal_ds in enumerate(test_files):\n",
    "    match = re.search(\"\\/a{1}([0-9]{3})_([0-9]{3})_([0-9]{19})\\.nc\", anal_ds)\n",
    "    shot_index = int(match.group(1))\n",
    "    adc_index = int(match.group(2))\n",
    "    shot_timestamp = int(match.group(3))\n",
    "    shot_time = ut.human_datetime_str(int(match.group(3)))\n",
    "    \n",
    "    ds = xr.open_dataset(anal_ds)\n",
    "    time_len = len(ds['time'])\n",
    "    sweep_len = len(ds['sweep'])\n",
    "    \n",
    "    test_infos.append({\n",
    "        'adc_index':adc_index, \n",
    "        'shot_number':shot_index, \n",
    "        'shot_timestamp':shot_timestamp, \n",
    "        'shot_time':shot_time, \n",
    "        'filename':anal_ds,\n",
    "        'time_len': time_len,\n",
    "        'sweep_len': sweep_len\n",
    "    })\n",
    "\n",
    "test_infos_df = pd.DataFrame(test_infos).set_index('adc_index')\n",
    "test_shots = test_infos_df['shot_number'].values"
   ]
  },
  {
   "cell_type": "code",
   "execution_count": 18,
   "metadata": {},
   "outputs": [],
   "source": [
    "test_ds_list = [xr.open_dataset(fn) for fn in test_files]"
   ]
  },
  {
   "cell_type": "code",
   "execution_count": 19,
   "metadata": {
    "collapsed": true,
    "jupyter": {
     "outputs_hidden": true
    }
   },
   "outputs": [
    {
     "name": "stdout",
     "output_type": "stream",
     "text": [
      "test/a215_225_6698640011711049728.nc\n",
      "test/a216_226_6698640578178048000.nc\n",
      "test/a217_227_6698643189965025280.nc\n",
      "test/a218_229_6698645166135541760.nc\n",
      "test/a219_230_6698645754549968896.nc\n",
      "test/a220_232_6698647714743185408.nc\n",
      "test/a221_234_6698650666522157056.nc\n",
      "test/a222_235_6698652327998412800.nc\n",
      "test/a223_236_6698655832758107136.nc\n",
      "test/a224_237_6698657200585526272.nc\n",
      "test/a225_238_6698658102491749376.nc\n",
      "test/a226_239_6698658708129149952.nc\n",
      "test/a227_240_6698661025837923328.nc\n",
      "test/a228_241_6698661541924644864.nc\n",
      "test/a229_242_6698662502543517696.nc\n",
      "test/a230_243_6698663701835258880.nc\n",
      "test/a231_244_6698664778547857408.nc\n",
      "test/a232_245_6698665325687429120.nc\n",
      "test/a233_246_6698665938798135296.nc\n",
      "test/a234_247_6698666541643821056.nc\n",
      "test/a235_248_6698666892459114496.nc\n",
      "test/a236_249_6698667158620034048.nc\n",
      "test/a237_250_6698667836284542976.nc\n",
      "test/a238_251_6698670134880661504.nc\n",
      "test/a239_252_6698670651268073472.nc\n",
      "test/a240_253_6698670995125477376.nc\n",
      "test/a241_254_6698671468133408768.nc\n",
      "test/a242_255_6698671801897561088.nc\n",
      "test/a243_256_6698672368880012288.nc\n",
      "test/a359_354_6699318788359902208.nc\n",
      "test/a360_356_6699320933151385600.nc\n",
      "test/a361_357_6699321692420543488.nc\n",
      "test/a362_358_6699322895963984896.nc\n",
      "test/a363_359_6699323408786381824.nc\n",
      "test/a364_360_6699323711970046976.nc\n",
      "test/a365_361_6699324107152520192.nc\n",
      "test/a366_362_6699324505470350336.nc\n",
      "test/a367_363_6699324755567907840.nc\n",
      "test/a368_364_6699324990246430720.nc\n",
      "test/a369_365_6699325234288040960.nc\n",
      "test/a370_366_6699325508867081216.nc\n",
      "test/a371_367_6699325732722205696.nc\n",
      "test/a395_393_6699381504394772480.nc\n",
      "test/a399_397_6699383704935763968.nc\n",
      "test/a400_398_6699384234551673856.nc\n",
      "test/a401_399_6699384935494969344.nc\n",
      "test/a402_400_6699385534904579072.nc\n",
      "test/a404_402_6699387271156609024.nc\n",
      "test/a405_403_6699391086143611904.nc\n",
      "test/a406_404_6699393061111517184.nc\n",
      "test/a407_405_6699394046856010752.nc\n",
      "test/a409_407_6699395906761028608.nc\n",
      "test/a410_408_6699396564410801152.nc\n",
      "test/a411_409_6699401399545384960.nc\n",
      "test/a412_410_6699401822215929856.nc\n",
      "test/a413_411_6699403680574782464.nc\n",
      "test/a414_412_6699404022542375936.nc\n",
      "test/a415_413_6699404709183399936.nc\n",
      "test/a416_414_6699405203236766720.nc\n",
      "test/a423_421_6699416167502686208.nc\n",
      "test/a424_422_6699416809260992512.nc\n",
      "test/a432_430_6699421572798284800.nc\n",
      "test/a433_431_6699422136559485952.nc\n",
      "test/a434_432_6699422478312335360.nc\n",
      "test/a435_433_6699422916874401792.nc\n",
      "test/a436_434_6699423267904449536.nc\n",
      "test/a438_436_6699431170139132928.nc\n",
      "test/a439_437_6699431879586604032.nc\n",
      "test/a440_439_6699434212156128256.nc\n",
      "test/a441_440_6699434755859712000.nc\n",
      "test/a442_441_6699435423602792448.nc\n",
      "test/a443_442_6699436113250350080.nc\n",
      "test/a444_443_6699437105824002048.nc\n",
      "test/a445_444_6699437879223993344.nc\n",
      "test/a446_445_6699438213761261568.nc\n",
      "test/a447_446_6699438614355573760.nc\n",
      "test/a448_447_6699439236099252224.nc\n",
      "test/a449_448_6699439691712456704.nc\n",
      "test/a450_449_6699440530611137536.nc\n",
      "test/a451_450_6699440944519928832.nc\n"
     ]
    },
    {
     "ename": "IndexError",
     "evalue": "list index out of range",
     "output_type": "error",
     "traceback": [
      "\u001b[0;31m---------------------------------------------------------------------------\u001b[0m",
      "\u001b[0;31mIndexError\u001b[0m                                Traceback (most recent call last)",
      "\u001b[0;32m<ipython-input-19-2fc65e04bb83>\u001b[0m in \u001b[0;36m<module>\u001b[0;34m\u001b[0m\n\u001b[1;32m      1\u001b[0m \u001b[0mtest_start_times\u001b[0m \u001b[0;34m=\u001b[0m \u001b[0;34m[\u001b[0m\u001b[0;34m]\u001b[0m\u001b[0;34m\u001b[0m\u001b[0m\n\u001b[1;32m      2\u001b[0m \u001b[0;32mfor\u001b[0m \u001b[0mi\u001b[0m\u001b[0;34m,\u001b[0m \u001b[0mds\u001b[0m \u001b[0;32min\u001b[0m \u001b[0menumerate\u001b[0m\u001b[0;34m(\u001b[0m\u001b[0mds_list\u001b[0m\u001b[0;34m)\u001b[0m\u001b[0;34m:\u001b[0m\u001b[0;34m\u001b[0m\u001b[0m\n\u001b[0;32m----> 3\u001b[0;31m     \u001b[0mprint\u001b[0m\u001b[0;34m(\u001b[0m\u001b[0mtest_files\u001b[0m\u001b[0;34m[\u001b[0m\u001b[0mi\u001b[0m\u001b[0;34m]\u001b[0m\u001b[0;34m)\u001b[0m\u001b[0;34m\u001b[0m\u001b[0m\n\u001b[0m\u001b[1;32m      4\u001b[0m \u001b[0;31m#     ds.mean('direction').max('time').set_coords('shot_time')['current'].plot.line(x='shot_time', hue='probe')\u001b[0m\u001b[0;34m\u001b[0m\u001b[0;34m\u001b[0m\u001b[0m\n\u001b[1;32m      5\u001b[0m     \u001b[0mtest_start_times\u001b[0m\u001b[0;34m.\u001b[0m\u001b[0mappend\u001b[0m\u001b[0;34m(\u001b[0m\u001b[0mds\u001b[0m\u001b[0;34m.\u001b[0m\u001b[0misel\u001b[0m\u001b[0;34m(\u001b[0m\u001b[0mprobe\u001b[0m\u001b[0;34m=\u001b[0m\u001b[0;36m0\u001b[0m\u001b[0;34m,\u001b[0m \u001b[0msweep\u001b[0m\u001b[0;34m=\u001b[0m\u001b[0;36m0\u001b[0m\u001b[0;34m,\u001b[0m \u001b[0mdirection\u001b[0m\u001b[0;34m=\u001b[0m\u001b[0;36m0\u001b[0m\u001b[0;34m)\u001b[0m\u001b[0;34m[\u001b[0m\u001b[0;34m'start_time'\u001b[0m\u001b[0;34m]\u001b[0m\u001b[0;34m.\u001b[0m\u001b[0mvalues\u001b[0m\u001b[0;34m)\u001b[0m\u001b[0;34m\u001b[0m\u001b[0m\n",
      "\u001b[0;31mIndexError\u001b[0m: list index out of range"
     ]
    }
   ],
   "source": [
    "test_start_times = []\n",
    "for i, ds in enumerate(ds_list):\n",
    "    print(test_files[i])\n",
    "#     ds.mean('direction').max('time').set_coords('shot_time')['current'].plot.line(x='shot_time', hue='probe')\n",
    "    test_start_times.append(ds.isel(probe=0, sweep=0, direction=0)['start_time'].values)"
   ]
  },
  {
   "cell_type": "code",
   "execution_count": 20,
   "metadata": {},
   "outputs": [],
   "source": [
    "fig, ax = plt.subplots()\n",
    "ax.plot(shot_numbers, start_times)\n",
    "ax.plot(test_shots, test_start_times, 'x')\n",
    "fig.show()"
   ]
  },
  {
   "cell_type": "markdown",
   "metadata": {},
   "source": [
    "Re-running the problem datasets seems to have fixed the problem, as they now all start from the same time. It would still be good to run an average IV thing on them all though to check. "
   ]
  },
  {
   "cell_type": "code",
   "execution_count": 22,
   "metadata": {},
   "outputs": [
    {
     "data": {
      "text/plain": [
       "<xarray.Dataset>\n",
       "Dimensions:      (direction: 2, probe: 2, shot_number: 80, time: 500)\n",
       "Coordinates:\n",
       "  * probe        (probe) object 'S' 'L'\n",
       "  * direction    (direction) object 'up' 'down'\n",
       "  * shot_number  (shot_number) int64 215 216 217 218 219 ... 447 448 449 450 451\n",
       "Dimensions without coordinates: time\n",
       "Data variables:\n",
       "    voltage      (shot_number, probe, direction, time) float64 dask.array<chunksize=(1, 2, 2, 500), meta=np.ndarray>\n",
       "    current      (shot_number, probe, direction, time) float64 dask.array<chunksize=(1, 2, 2, 500), meta=np.ndarray>\n",
       "    shot_time    (shot_number, probe, direction, time) float64 dask.array<chunksize=(1, 2, 2, 500), meta=np.ndarray>\n",
       "    start_time   (shot_number, probe, direction) float64 dask.array<chunksize=(1, 2, 2), meta=np.ndarray>\n",
       "    d_current    (shot_number, probe, direction, time) float64 dask.array<chunksize=(1, 2, 2, 500), meta=np.ndarray>"
      ]
     },
     "execution_count": 22,
     "metadata": {},
     "output_type": "execute_result"
    }
   ],
   "source": [
    "combined_ds = xr.open_mfdataset(test_files, concat_dim=problem_shots_da, preprocess=preprocess_average_downsample, parallel=True, combine='nested')\n",
    "# combined_ds = combined_ds.load()\n",
    "combined_ds"
   ]
  },
  {
   "cell_type": "code",
   "execution_count": 25,
   "metadata": {},
   "outputs": [],
   "source": [
    "fig, ax = plt.subplots(2)\n",
    "combined_ds.mean('direction')['start_time'].plot.line(ax=ax[0], marker='+', linestyle='none', hue='probe')\n",
    "combined_ds.mean('direction')['start_time'].plot.line(ax=ax[1], marker='+', linestyle='none', hue='probe')\n",
    "plt.show()"
   ]
  },
  {
   "cell_type": "code",
   "execution_count": 30,
   "metadata": {},
   "outputs": [],
   "source": [
    "problem_ds = combined_ds.mean('direction')\n",
    "\n",
    "for shot in problem_ds['shot_number'].values[0:10]:\n",
    "    ds = problem_ds.sel(shot_number=shot).set_coords('voltage')\n",
    "    \n",
    "    fig, axes = plt.subplots(2, 2, sharex='col')\n",
    "    ds.sel(probe='S')['current'].plot.line(ax=axes[0][0], x='voltage')   \n",
    "    ds.sel(probe='L')['current'].plot.line(ax=axes[1][0], x='voltage')\n",
    "    \n",
    "    ds.sel(probe='S')['current'].plot.line(ax=axes[0][1])\n",
    "    ds.sel(probe='S')['voltage'].plot.line(ax=axes[0][1])\n",
    "    ds.sel(probe='L')['current'].plot.line(ax=axes[1][1])\n",
    "    ds.sel(probe='L')['voltage'].plot.line(ax=axes[1][1])\n",
    "    "
   ]
  },
  {
   "cell_type": "code",
   "execution_count": null,
   "metadata": {},
   "outputs": [],
   "source": []
  }
 ],
 "metadata": {
  "kernelspec": {
   "display_name": "python3.6-codac",
   "language": "python",
   "name": "python3.6-codac"
  },
  "language_info": {
   "codemirror_mode": {
    "name": "ipython",
    "version": 3
   },
   "file_extension": ".py",
   "mimetype": "text/x-python",
   "name": "python",
   "nbconvert_exporter": "python",
   "pygments_lexer": "ipython3",
   "version": "3.6.9"
  }
 },
 "nbformat": 4,
 "nbformat_minor": 4
}
