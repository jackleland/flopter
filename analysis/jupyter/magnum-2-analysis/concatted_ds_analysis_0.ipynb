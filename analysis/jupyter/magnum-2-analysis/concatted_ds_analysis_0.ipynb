{
 "cells": [
  {
   "cell_type": "markdown",
   "metadata": {},
   "source": [
    "# Notebook utilising the combined_all.nc dataset\n",
    "\n",
    "Will try and flopt some of the individual magnetic field discharges"
   ]
  },
  {
   "cell_type": "code",
   "execution_count": 1,
   "metadata": {},
   "outputs": [],
   "source": [
    "%matplotlib tk\n",
    "import numpy as np\n",
    "import matplotlib.pyplot as plt\n",
    "import matplotlib as mpl\n",
    "import pandas as pd\n",
    "import xarray as xr \n",
    "import scipy.stats as stat\n",
    "import sys\n",
    "import os\n",
    "import glob\n",
    "import re\n",
    "import importlib\n",
    "sys.path.append('/home/jleland/Coding/Projects/flopter')\n",
    "import flopter.core.ivdata as iv\n",
    "import flopter.core.lputils as lp\n",
    "import flopter.magnum.database as ut\n",
    "import flopter.core.fitters as fts"
   ]
  },
  {
   "cell_type": "code",
   "execution_count": 2,
   "metadata": {},
   "outputs": [
    {
     "data": {
      "text/plain": [
       "<module 'matplotlib' from '/home/jleland/Coding/Environments/python3.6/lib/python3.6/site-packages/matplotlib/__init__.py'>"
      ]
     },
     "execution_count": 2,
     "metadata": {},
     "output_type": "execute_result"
    }
   ],
   "source": [
    "importlib.reload(pd)\n",
    "importlib.reload(plt)\n",
    "importlib.reload(mpl)"
   ]
  },
  {
   "cell_type": "code",
   "execution_count": 2,
   "metadata": {},
   "outputs": [],
   "source": [
    "path_to_datasets = '/home/jleland/Data/external/magnum/'\n",
    "# path_to_analysed_datasets = 'analysed_2'\n",
    "path_to_analysed_datasets = 'analysed_3'\n",
    "# path_to_analysed_datasets = 'analysed_3_downsampled'\n",
    "os.chdir(path_to_datasets)"
   ]
  },
  {
   "cell_type": "code",
   "execution_count": 3,
   "metadata": {},
   "outputs": [
    {
     "data": {
      "text/plain": [
       "<xarray.Dataset>\n",
       "Dimensions:                 (direction: 2, probe: 4, shot_number: 440, time: 500, ts_radial_pos: 46)\n",
       "Coordinates:\n",
       "  * shot_number             (shot_number) int32 3 4 5 6 7 ... 478 479 480 481\n",
       "    ts_number               (shot_number) float64 ...\n",
       "    ts_timestamp            (shot_number) float64 ...\n",
       "    ts_time                 (shot_number) datetime64[ns] ...\n",
       "    adc_index               (shot_number) float64 ...\n",
       "    adc_time                (shot_number) datetime64[ns] ...\n",
       "  * ts_radial_pos           (ts_radial_pos) float64 -36.47 -34.8 ... 37.14 38.82\n",
       "  * probe                   (probe) object 'B' 'L' 'R' 'S'\n",
       "  * direction               (direction) object 'up' 'down'\n",
       "Dimensions without coordinates: time\n",
       "Data variables:\n",
       "    adc_filename            (shot_number) object ...\n",
       "    ts_density              (shot_number, ts_radial_pos) float64 ...\n",
       "    ts_temperature          (shot_number, ts_radial_pos) float64 ...\n",
       "    ts_d_density            (shot_number, ts_radial_pos) float64 ...\n",
       "    ts_d_temperature        (shot_number, ts_radial_pos) float64 ...\n",
       "    adc_folder              (shot_number) object ...\n",
       "    voltage                 (shot_number, probe, direction, time) float64 ...\n",
       "    current                 (shot_number, probe, direction, time) float64 ...\n",
       "    shot_time               (shot_number, probe, direction, time) float64 ...\n",
       "    d_current               (shot_number, probe, direction, time) float64 ...\n",
       "    start_time              (shot_number, probe, direction) float64 ...\n",
       "    adc_calibration_index   (shot_number) object ...\n",
       "    adc_4_probe             (shot_number) object ...\n",
       "    adc_5_probe             (shot_number) object ...\n",
       "    ts_temp_max             (shot_number) float64 ...\n",
       "    ts_dens_max             (shot_number) float64 ...\n",
       "    shot_end_time           (shot_number) datetime64[ns] ...\n",
       "    ts_fl                   (shot_number) int8 ...\n",
       "    sweep_time              (shot_number) datetime64[ns] ...\n",
       "    shot_source_current     (shot_number) float64 ...\n",
       "    shot_b_field            (shot_number) float64 ...\n",
       "    shot_tilt               (shot_number) float64 ...\n",
       "    shot_target_pos         (shot_number) float64 ...\n",
       "    shot_target_rot         (shot_number) float64 ...\n",
       "    shot_target_pumpspeed   (shot_number) int32 ...\n",
       "    shot_source_pumpspeed   (shot_number) int32 ...\n",
       "    shot_heating_pumpspeed  (shot_number) int32 ...\n",
       "    shot_source_pos         (shot_number) float64 ...\n",
       "    shot_deuterium_gf       (shot_number) float64 ...\n",
       "    shot_hydrogen_gf        (shot_number) float64 ...\n",
       "    shot_helium_gf          (shot_number) float64 ...\n",
       "    shot_hydrogen_puffed    (shot_number) float64 ...\n",
       "    shot_helium_puffed      (shot_number) float64 ...\n",
       "    adc_timestamp           (shot_number) float64 ...\n",
       "    adc_4_coax              (shot_number) float64 ...\n",
       "    adc_4_shunt_resistance  (shot_number) float64 ...\n",
       "    adc_5_coax              (shot_number) float64 ...\n",
       "    adc_5_shunt_resistance  (shot_number) float64 ...\n",
       "    adc_calibration_fl      (shot_number) float64 ...\n",
       "    shot_fl                 (shot_number) float64 ...\n",
       "    acquisition_length      (shot_number) float64 ...\n",
       "    adc_end_time            (shot_number) datetime64[ns] ...\n",
       "    adc_end_timestamp       (shot_number) float64 ...\n",
       "    adc_freqs               (shot_number) float64 ..."
      ]
     },
     "execution_count": 3,
     "metadata": {},
     "output_type": "execute_result"
    }
   ],
   "source": [
    "all_ds = xr.open_dataset('all_combined_ds.nc')\n",
    "all_ds"
   ]
  },
  {
   "cell_type": "code",
   "execution_count": null,
   "metadata": {},
   "outputs": [],
   "source": [
    "fig, ax = plt.subplots(3, sharex=True)\n",
    "all_ds.where(np.logical_and(all_ds.shot_b_field < 1.21, all_ds.shot_b_field > 1.19), drop=True).max('ts_radial_pos')['shot_b_field'].plot(marker='+', ax=ax[0])\n",
    "all_ds.where(np.logical_and(all_ds.shot_b_field < 1.21, all_ds.shot_b_field > 1.19), drop=True).max('ts_radial_pos')['ts_temp_max'].plot(marker='+', ax=ax[1])\n",
    "all_ds.where(np.logical_and(all_ds.shot_b_field < 1.21, all_ds.shot_b_field > 1.19), drop=True).max('ts_radial_pos')['adc_index'].plot(marker='+', ax=ax[2])\n",
    "plt.show()"
   ]
  },
  {
   "cell_type": "code",
   "execution_count": 4,
   "metadata": {},
   "outputs": [],
   "source": [
    "axial_scan_indices = set([148,149,150,151,152,153,154,155,156,157,158,159,160,161,162,163,164,165,166,167,168,169,170,171,172,173,174,175,176,177,178,179,180,181,182,183,184,185,186,187,188,189])"
   ]
  },
  {
   "cell_type": "code",
   "execution_count": 5,
   "metadata": {},
   "outputs": [
    {
     "name": "stderr",
     "output_type": "stream",
     "text": [
      "/home/jleland/Coding/Environments/python3.6/lib/python3.6/site-packages/xarray/core/nputils.py:223: RuntimeWarning: All-NaN slice encountered\n",
      "  result = getattr(npmodule, name)(values, axis=axis, **kwargs)\n"
     ]
    }
   ],
   "source": [
    "# ds_1_2T = all_ds.where(np.logical_and(all_ds.shot_b_field < 1.21, all_ds.shot_b_field > 1.19), drop=True).max('ts_radial_pos')\n",
    "\n",
    "# Hydrogen shots @ tilt = 10 that isn't the axial scan\n",
    "ds_1_2T = all_ds.where(np.logical_and(all_ds.shot_tilt.round() == 10.0, all_ds.shot_hydrogen_gf > 0.1), drop=True) #.swap_dims({'shot_number': 'shot_b_field'})\n",
    "ds_1_2T = ds_1_2T.sel(shot_number=list(set(ds_1_2T.shot_number.values) - axial_scan_indices)).sortby('shot_number')\n",
    "ds_1_2T = ds_1_2T.max('ts_radial_pos')"
   ]
  },
  {
   "cell_type": "code",
   "execution_count": null,
   "metadata": {},
   "outputs": [],
   "source": [
    "fig, ax = plt.subplots(2, 2, sharex=True)\n",
    "ds_1_2T['ts_temp_max'].plot(x='shot_number', marker='+', linestyle='none', ax=ax[0][0])\n",
    "ds_1_2T['ts_dens_max'].plot(x='shot_number', marker='+', linestyle='none', ax=ax[1][0])\n",
    "ds_1_2T['shot_hydrogen_gf'].plot(x='shot_number', marker='+', linestyle='none', ax=ax[0][1], label='H')\n",
    "ds_1_2T['shot_helium_gf'].plot(x='shot_number', marker='+', linestyle='none', ax=ax[0][1], label='He')\n",
    "ax[0][1].legend()\n",
    "ds_1_2T['shot_source_current'].plot(x='shot_number', linestyle='none', marker='+', ax=ax[1][1])\n",
    "\n",
    "plt.show()"
   ]
  },
  {
   "cell_type": "code",
   "execution_count": null,
   "metadata": {},
   "outputs": [],
   "source": [
    "fig, ax = plt.subplots(2, sharex=True)\n",
    "ds_1_2T.set_coords('shot_b_field')['ts_temp_max'].plot(x='shot_b_field', marker='+', linestyle='none', ax=ax[0])\n",
    "ds_1_2T.set_coords('shot_b_field')['ts_dens_max'].plot(x='shot_b_field', marker='+', linestyle='none', ax=ax[1])\n",
    "\n",
    "plt.show()"
   ]
  },
  {
   "cell_type": "code",
   "execution_count": null,
   "metadata": {},
   "outputs": [],
   "source": [
    "ds_1_2T"
   ]
  },
  {
   "cell_type": "code",
   "execution_count": null,
   "metadata": {},
   "outputs": [],
   "source": [
    "# This changes the colormap for all of matplotlib - not strictly necessary to run\n",
    "colourmap = plt.get_cmap('nipy_spectral')\n",
    "mpl.rcParams['axes.prop_cycle'] = mpl.cycler(color=[colourmap(k) for k in np.linspace(0, 1, 12)])"
   ]
  },
  {
   "cell_type": "code",
   "execution_count": null,
   "metadata": {},
   "outputs": [],
   "source": [
    "iv_fig, iv_ax = plt.subplots(2, 2, sharex=True)\n",
    "for i, probe in enumerate(ds_1_2T['probe'].values):\n",
    "    iv_ax[i%2][i//2].set_title(probe)\n",
    "    \n",
    "    ds = ds_1_2T.sel(probe=probe).mean('direction')\n",
    "    ds.set_coords('voltage')['current'].plot.line(ax=iv_ax[i%2][i//2], x='voltage', hue='shot_number')\n",
    "    iv_ax[i%2][i//2].set_ylabel('I (A)')\n",
    "    iv_ax[i%2][i//2].set_xlabel(r'$V_P$ (V)')\n",
    "    \n",
    "# plt.tight_layout()\n",
    "plt.show()"
   ]
  },
  {
   "cell_type": "code",
   "execution_count": null,
   "metadata": {},
   "outputs": [],
   "source": [
    "fit_df = pd.DataFrame(columns=['shot',\n",
    "                               'probe', \n",
    "                               'B',\n",
    "                               'ts_temp',\n",
    "                               'ts_dens',\n",
    "                               'temp',\n",
    "                               'd_temp',\n",
    "                               'isat', \n",
    "                               'd_isat',\n",
    "                               'a',\n",
    "                               'd_a',\n",
    "                               'v_f',\n",
    "                               'd_v_f'\n",
    "                              ])\n",
    "fit_df"
   ]
  },
  {
   "cell_type": "code",
   "execution_count": 6,
   "metadata": {
    "collapsed": true,
    "jupyter": {
     "outputs_hidden": true
    }
   },
   "outputs": [
    {
     "name": "stderr",
     "output_type": "stream",
     "text": [
      "/home/jleland/Coding/Environments/python3.6/lib/python3.6/site-packages/xarray/core/nanops.py:140: RuntimeWarning: Mean of empty slice\n",
      "  return np.nanmean(a, axis=axis, dtype=dtype)\n"
     ]
    },
    {
     "name": "stdout",
     "output_type": "stream",
     "text": [
      "WARNING: Failed on shot 22 with probe L\n"
     ]
    },
    {
     "name": "stderr",
     "output_type": "stream",
     "text": [
      "/home/jleland/Coding/Environments/python3.6/lib/python3.6/site-packages/xarray/core/nanops.py:140: RuntimeWarning: Mean of empty slice\n",
      "  return np.nanmean(a, axis=axis, dtype=dtype)\n"
     ]
    },
    {
     "name": "stdout",
     "output_type": "stream",
     "text": [
      "WARNING: Failed on shot 24 with probe S\n",
      "WARNING: Failed on shot 24 with probe L\n"
     ]
    },
    {
     "name": "stderr",
     "output_type": "stream",
     "text": [
      "/home/jleland/Coding/Environments/python3.6/lib/python3.6/site-packages/xarray/core/nanops.py:140: RuntimeWarning: Mean of empty slice\n",
      "  return np.nanmean(a, axis=axis, dtype=dtype)\n",
      "/home/jleland/Coding/Projects/flopter/flopter/core/fitters.py:216: RuntimeWarning: overflow encountered in exp\n",
      "  return I_0 * (1 - np.exp(-V) + (a * np.float_power(np.absolute(V), [0.75])))\n",
      "/home/jleland/Coding/Environments/python3.6/lib/python3.6/site-packages/xarray/core/nanops.py:140: RuntimeWarning: Mean of empty slice\n",
      "  return np.nanmean(a, axis=axis, dtype=dtype)\n"
     ]
    },
    {
     "name": "stdout",
     "output_type": "stream",
     "text": [
      "WARNING: Failed on shot 26 with probe S\n",
      "WARNING: Failed on shot 26 with probe L\n"
     ]
    },
    {
     "name": "stderr",
     "output_type": "stream",
     "text": [
      "/home/jleland/Coding/Environments/python3.6/lib/python3.6/site-packages/xarray/core/nanops.py:140: RuntimeWarning: Mean of empty slice\n",
      "  return np.nanmean(a, axis=axis, dtype=dtype)\n"
     ]
    },
    {
     "name": "stdout",
     "output_type": "stream",
     "text": [
      "WARNING: Failed on shot 27 with probe S\n",
      "WARNING: Failed on shot 27 with probe L\n"
     ]
    },
    {
     "name": "stderr",
     "output_type": "stream",
     "text": [
      "/home/jleland/Coding/Environments/python3.6/lib/python3.6/site-packages/xarray/core/nanops.py:140: RuntimeWarning: Mean of empty slice\n",
      "  return np.nanmean(a, axis=axis, dtype=dtype)\n"
     ]
    },
    {
     "name": "stdout",
     "output_type": "stream",
     "text": [
      "WARNING: Failed on shot 28 with probe S\n",
      "WARNING: Failed on shot 28 with probe L\n"
     ]
    },
    {
     "name": "stderr",
     "output_type": "stream",
     "text": [
      "/home/jleland/Coding/Environments/python3.6/lib/python3.6/site-packages/xarray/core/nanops.py:140: RuntimeWarning: Mean of empty slice\n",
      "  return np.nanmean(a, axis=axis, dtype=dtype)\n"
     ]
    },
    {
     "name": "stdout",
     "output_type": "stream",
     "text": [
      "WARNING: Failed on shot 29 with probe S\n"
     ]
    },
    {
     "name": "stderr",
     "output_type": "stream",
     "text": [
      "/home/jleland/Coding/Environments/python3.6/lib/python3.6/site-packages/xarray/core/nanops.py:140: RuntimeWarning: Mean of empty slice\n",
      "  return np.nanmean(a, axis=axis, dtype=dtype)\n"
     ]
    },
    {
     "name": "stdout",
     "output_type": "stream",
     "text": [
      "WARNING: Failed on shot 33 with probe S\n"
     ]
    },
    {
     "name": "stderr",
     "output_type": "stream",
     "text": [
      "/home/jleland/Coding/Environments/python3.6/lib/python3.6/site-packages/xarray/core/nanops.py:140: RuntimeWarning: Mean of empty slice\n",
      "  return np.nanmean(a, axis=axis, dtype=dtype)\n"
     ]
    },
    {
     "name": "stdout",
     "output_type": "stream",
     "text": [
      "WARNING: Failed on shot 47 with probe L\n"
     ]
    },
    {
     "name": "stderr",
     "output_type": "stream",
     "text": [
      "/home/jleland/Coding/Environments/python3.6/lib/python3.6/site-packages/xarray/core/nanops.py:140: RuntimeWarning: Mean of empty slice\n",
      "  return np.nanmean(a, axis=axis, dtype=dtype)\n"
     ]
    },
    {
     "name": "stdout",
     "output_type": "stream",
     "text": [
      "WARNING: Failed on shot 58 with probe B\n"
     ]
    },
    {
     "name": "stderr",
     "output_type": "stream",
     "text": [
      "/home/jleland/Coding/Environments/python3.6/lib/python3.6/site-packages/xarray/core/nanops.py:140: RuntimeWarning: Mean of empty slice\n",
      "  return np.nanmean(a, axis=axis, dtype=dtype)\n",
      "/home/jleland/Coding/Environments/python3.6/lib/python3.6/site-packages/xarray/core/nanops.py:140: RuntimeWarning: Mean of empty slice\n",
      "  return np.nanmean(a, axis=axis, dtype=dtype)\n",
      "/home/jleland/Coding/Environments/python3.6/lib/python3.6/site-packages/xarray/core/nanops.py:140: RuntimeWarning: Mean of empty slice\n",
      "  return np.nanmean(a, axis=axis, dtype=dtype)\n"
     ]
    },
    {
     "name": "stdout",
     "output_type": "stream",
     "text": [
      "WARNING: Failed on shot 99 with probe S\n"
     ]
    },
    {
     "name": "stderr",
     "output_type": "stream",
     "text": [
      "/home/jleland/Coding/Environments/python3.6/lib/python3.6/site-packages/xarray/core/nanops.py:140: RuntimeWarning: Mean of empty slice\n",
      "  return np.nanmean(a, axis=axis, dtype=dtype)\n"
     ]
    },
    {
     "name": "stdout",
     "output_type": "stream",
     "text": [
      "WARNING: Failed on shot 100 with probe L\n"
     ]
    },
    {
     "name": "stderr",
     "output_type": "stream",
     "text": [
      "/home/jleland/Coding/Environments/python3.6/lib/python3.6/site-packages/xarray/core/nanops.py:140: RuntimeWarning: Mean of empty slice\n",
      "  return np.nanmean(a, axis=axis, dtype=dtype)\n",
      "/home/jleland/Coding/Environments/python3.6/lib/python3.6/site-packages/xarray/core/nanops.py:140: RuntimeWarning: Mean of empty slice\n",
      "  return np.nanmean(a, axis=axis, dtype=dtype)\n",
      "/home/jleland/Coding/Environments/python3.6/lib/python3.6/site-packages/xarray/core/nanops.py:140: RuntimeWarning: Mean of empty slice\n",
      "  return np.nanmean(a, axis=axis, dtype=dtype)\n",
      "/home/jleland/Coding/Environments/python3.6/lib/python3.6/site-packages/xarray/core/nanops.py:140: RuntimeWarning: Mean of empty slice\n",
      "  return np.nanmean(a, axis=axis, dtype=dtype)\n",
      "/home/jleland/Coding/Environments/python3.6/lib/python3.6/site-packages/xarray/core/nanops.py:140: RuntimeWarning: Mean of empty slice\n",
      "  return np.nanmean(a, axis=axis, dtype=dtype)\n"
     ]
    },
    {
     "name": "stdout",
     "output_type": "stream",
     "text": [
      "WARNING: Failed on shot 107 with probe L\n"
     ]
    },
    {
     "name": "stderr",
     "output_type": "stream",
     "text": [
      "/home/jleland/Coding/Environments/python3.6/lib/python3.6/site-packages/xarray/core/nanops.py:140: RuntimeWarning: Mean of empty slice\n",
      "  return np.nanmean(a, axis=axis, dtype=dtype)\n"
     ]
    },
    {
     "name": "stdout",
     "output_type": "stream",
     "text": [
      "WARNING: Failed on shot 113 with probe S\n",
      "WARNING: Failed on shot 113 with probe L\n"
     ]
    },
    {
     "name": "stderr",
     "output_type": "stream",
     "text": [
      "/home/jleland/Coding/Environments/python3.6/lib/python3.6/site-packages/xarray/core/nanops.py:140: RuntimeWarning: Mean of empty slice\n",
      "  return np.nanmean(a, axis=axis, dtype=dtype)\n"
     ]
    },
    {
     "name": "stdout",
     "output_type": "stream",
     "text": [
      "WARNING: Failed on shot 114 with probe S\n"
     ]
    },
    {
     "name": "stderr",
     "output_type": "stream",
     "text": [
      "/home/jleland/Coding/Environments/python3.6/lib/python3.6/site-packages/xarray/core/nanops.py:140: RuntimeWarning: Mean of empty slice\n",
      "  return np.nanmean(a, axis=axis, dtype=dtype)\n",
      "/home/jleland/Coding/Environments/python3.6/lib/python3.6/site-packages/xarray/core/nanops.py:140: RuntimeWarning: Mean of empty slice\n",
      "  return np.nanmean(a, axis=axis, dtype=dtype)\n",
      "/home/jleland/Coding/Environments/python3.6/lib/python3.6/site-packages/xarray/core/nanops.py:140: RuntimeWarning: Mean of empty slice\n",
      "  return np.nanmean(a, axis=axis, dtype=dtype)\n",
      "/home/jleland/Coding/Environments/python3.6/lib/python3.6/site-packages/xarray/core/nanops.py:140: RuntimeWarning: Mean of empty slice\n",
      "  return np.nanmean(a, axis=axis, dtype=dtype)\n",
      "/home/jleland/Coding/Environments/python3.6/lib/python3.6/site-packages/xarray/core/nanops.py:140: RuntimeWarning: Mean of empty slice\n",
      "  return np.nanmean(a, axis=axis, dtype=dtype)\n"
     ]
    },
    {
     "name": "stdout",
     "output_type": "stream",
     "text": [
      "WARNING: Failed on shot 123 with probe L\n"
     ]
    },
    {
     "name": "stderr",
     "output_type": "stream",
     "text": [
      "/home/jleland/Coding/Environments/python3.6/lib/python3.6/site-packages/xarray/core/nanops.py:140: RuntimeWarning: Mean of empty slice\n",
      "  return np.nanmean(a, axis=axis, dtype=dtype)\n",
      "/home/jleland/Coding/Environments/python3.6/lib/python3.6/site-packages/xarray/core/nanops.py:140: RuntimeWarning: Mean of empty slice\n",
      "  return np.nanmean(a, axis=axis, dtype=dtype)\n"
     ]
    },
    {
     "name": "stdout",
     "output_type": "stream",
     "text": [
      "WARNING: Failed on shot 125 with probe L\n"
     ]
    },
    {
     "name": "stderr",
     "output_type": "stream",
     "text": [
      "/home/jleland/Coding/Environments/python3.6/lib/python3.6/site-packages/xarray/core/nanops.py:140: RuntimeWarning: Mean of empty slice\n",
      "  return np.nanmean(a, axis=axis, dtype=dtype)\n"
     ]
    },
    {
     "name": "stdout",
     "output_type": "stream",
     "text": [
      "WARNING: Failed on shot 126 with probe L\n"
     ]
    },
    {
     "name": "stderr",
     "output_type": "stream",
     "text": [
      "/home/jleland/Coding/Environments/python3.6/lib/python3.6/site-packages/xarray/core/nanops.py:140: RuntimeWarning: Mean of empty slice\n",
      "  return np.nanmean(a, axis=axis, dtype=dtype)\n"
     ]
    },
    {
     "name": "stdout",
     "output_type": "stream",
     "text": [
      "WARNING: Failed on shot 127 with probe L\n"
     ]
    },
    {
     "name": "stderr",
     "output_type": "stream",
     "text": [
      "/home/jleland/Coding/Environments/python3.6/lib/python3.6/site-packages/xarray/core/nanops.py:140: RuntimeWarning: Mean of empty slice\n",
      "  return np.nanmean(a, axis=axis, dtype=dtype)\n",
      "/home/jleland/Coding/Environments/python3.6/lib/python3.6/site-packages/xarray/core/nanops.py:140: RuntimeWarning: Mean of empty slice\n",
      "  return np.nanmean(a, axis=axis, dtype=dtype)\n"
     ]
    },
    {
     "name": "stdout",
     "output_type": "stream",
     "text": [
      "WARNING: Failed on shot 129 with probe S\n"
     ]
    },
    {
     "name": "stderr",
     "output_type": "stream",
     "text": [
      "/home/jleland/Coding/Environments/python3.6/lib/python3.6/site-packages/xarray/core/nanops.py:140: RuntimeWarning: Mean of empty slice\n",
      "  return np.nanmean(a, axis=axis, dtype=dtype)\n",
      "/home/jleland/Coding/Environments/python3.6/lib/python3.6/site-packages/xarray/core/nanops.py:140: RuntimeWarning: Mean of empty slice\n",
      "  return np.nanmean(a, axis=axis, dtype=dtype)\n"
     ]
    },
    {
     "name": "stdout",
     "output_type": "stream",
     "text": [
      "WARNING: Failed on shot 131 with probe L\n"
     ]
    },
    {
     "name": "stderr",
     "output_type": "stream",
     "text": [
      "/home/jleland/Coding/Environments/python3.6/lib/python3.6/site-packages/xarray/core/nanops.py:140: RuntimeWarning: Mean of empty slice\n",
      "  return np.nanmean(a, axis=axis, dtype=dtype)\n",
      "/home/jleland/Coding/Environments/python3.6/lib/python3.6/site-packages/xarray/core/nanops.py:140: RuntimeWarning: Mean of empty slice\n",
      "  return np.nanmean(a, axis=axis, dtype=dtype)\n",
      "/home/jleland/Coding/Environments/python3.6/lib/python3.6/site-packages/xarray/core/nanops.py:140: RuntimeWarning: Mean of empty slice\n",
      "  return np.nanmean(a, axis=axis, dtype=dtype)\n"
     ]
    },
    {
     "name": "stdout",
     "output_type": "stream",
     "text": [
      "WARNING: Failed on shot 134 with probe L\n"
     ]
    },
    {
     "name": "stderr",
     "output_type": "stream",
     "text": [
      "/home/jleland/Coding/Environments/python3.6/lib/python3.6/site-packages/xarray/core/nanops.py:140: RuntimeWarning: Mean of empty slice\n",
      "  return np.nanmean(a, axis=axis, dtype=dtype)\n"
     ]
    },
    {
     "name": "stdout",
     "output_type": "stream",
     "text": [
      "WARNING: Failed on shot 135 with probe L\n"
     ]
    },
    {
     "name": "stderr",
     "output_type": "stream",
     "text": [
      "/home/jleland/Coding/Environments/python3.6/lib/python3.6/site-packages/xarray/core/nanops.py:140: RuntimeWarning: Mean of empty slice\n",
      "  return np.nanmean(a, axis=axis, dtype=dtype)\n"
     ]
    },
    {
     "name": "stdout",
     "output_type": "stream",
     "text": [
      "WARNING: Failed on shot 137 with probe S\n",
      "WARNING: Failed on shot 137 with probe L\n"
     ]
    },
    {
     "name": "stderr",
     "output_type": "stream",
     "text": [
      "/home/jleland/Coding/Environments/python3.6/lib/python3.6/site-packages/xarray/core/nanops.py:140: RuntimeWarning: Mean of empty slice\n",
      "  return np.nanmean(a, axis=axis, dtype=dtype)\n"
     ]
    },
    {
     "name": "stdout",
     "output_type": "stream",
     "text": [
      "WARNING: Failed on shot 138 with probe S\n",
      "WARNING: Failed on shot 138 with probe L\n"
     ]
    },
    {
     "name": "stderr",
     "output_type": "stream",
     "text": [
      "/home/jleland/Coding/Environments/python3.6/lib/python3.6/site-packages/xarray/core/nanops.py:140: RuntimeWarning: Mean of empty slice\n",
      "  return np.nanmean(a, axis=axis, dtype=dtype)\n"
     ]
    },
    {
     "name": "stdout",
     "output_type": "stream",
     "text": [
      "WARNING: Failed on shot 139 with probe S\n"
     ]
    },
    {
     "name": "stderr",
     "output_type": "stream",
     "text": [
      "/home/jleland/Coding/Environments/python3.6/lib/python3.6/site-packages/xarray/core/nanops.py:140: RuntimeWarning: Mean of empty slice\n",
      "  return np.nanmean(a, axis=axis, dtype=dtype)\n"
     ]
    },
    {
     "name": "stdout",
     "output_type": "stream",
     "text": [
      "WARNING: Failed on shot 140 with probe S\n"
     ]
    },
    {
     "name": "stderr",
     "output_type": "stream",
     "text": [
      "/home/jleland/Coding/Environments/python3.6/lib/python3.6/site-packages/xarray/core/nanops.py:140: RuntimeWarning: Mean of empty slice\n",
      "  return np.nanmean(a, axis=axis, dtype=dtype)\n"
     ]
    },
    {
     "name": "stdout",
     "output_type": "stream",
     "text": [
      "WARNING: Failed on shot 141 with probe S\n",
      "WARNING: Failed on shot 141 with probe L\n"
     ]
    },
    {
     "name": "stderr",
     "output_type": "stream",
     "text": [
      "/home/jleland/Coding/Environments/python3.6/lib/python3.6/site-packages/xarray/core/nanops.py:140: RuntimeWarning: Mean of empty slice\n",
      "  return np.nanmean(a, axis=axis, dtype=dtype)\n"
     ]
    },
    {
     "name": "stdout",
     "output_type": "stream",
     "text": [
      "WARNING: Failed on shot 142 with probe S\n",
      "WARNING: Failed on shot 142 with probe L\n"
     ]
    },
    {
     "name": "stderr",
     "output_type": "stream",
     "text": [
      "/home/jleland/Coding/Environments/python3.6/lib/python3.6/site-packages/xarray/core/nanops.py:140: RuntimeWarning: Mean of empty slice\n",
      "  return np.nanmean(a, axis=axis, dtype=dtype)\n",
      "/home/jleland/Coding/Environments/python3.6/lib/python3.6/site-packages/xarray/core/nanops.py:140: RuntimeWarning: Mean of empty slice\n",
      "  return np.nanmean(a, axis=axis, dtype=dtype)\n",
      "/home/jleland/Coding/Environments/python3.6/lib/python3.6/site-packages/xarray/core/nanops.py:140: RuntimeWarning: Mean of empty slice\n",
      "  return np.nanmean(a, axis=axis, dtype=dtype)\n",
      "/home/jleland/Coding/Environments/python3.6/lib/python3.6/site-packages/xarray/core/nanops.py:140: RuntimeWarning: Mean of empty slice\n",
      "  return np.nanmean(a, axis=axis, dtype=dtype)\n",
      "/home/jleland/Coding/Environments/python3.6/lib/python3.6/site-packages/xarray/core/nanops.py:140: RuntimeWarning: Mean of empty slice\n",
      "  return np.nanmean(a, axis=axis, dtype=dtype)\n",
      "/home/jleland/Coding/Environments/python3.6/lib/python3.6/site-packages/xarray/core/nanops.py:140: RuntimeWarning: Mean of empty slice\n",
      "  return np.nanmean(a, axis=axis, dtype=dtype)\n",
      "/home/jleland/Coding/Environments/python3.6/lib/python3.6/site-packages/xarray/core/nanops.py:140: RuntimeWarning: Mean of empty slice\n",
      "  return np.nanmean(a, axis=axis, dtype=dtype)\n"
     ]
    },
    {
     "name": "stdout",
     "output_type": "stream",
     "text": [
      "WARNING: Failed on shot 145 with probe S\n"
     ]
    },
    {
     "name": "stderr",
     "output_type": "stream",
     "text": [
      "/home/jleland/Coding/Environments/python3.6/lib/python3.6/site-packages/xarray/core/nanops.py:140: RuntimeWarning: Mean of empty slice\n",
      "  return np.nanmean(a, axis=axis, dtype=dtype)\n",
      "/home/jleland/Coding/Environments/python3.6/lib/python3.6/site-packages/xarray/core/nanops.py:140: RuntimeWarning: Mean of empty slice\n",
      "  return np.nanmean(a, axis=axis, dtype=dtype)\n",
      "/home/jleland/Coding/Environments/python3.6/lib/python3.6/site-packages/xarray/core/nanops.py:140: RuntimeWarning: Mean of empty slice\n",
      "  return np.nanmean(a, axis=axis, dtype=dtype)\n"
     ]
    },
    {
     "name": "stdout",
     "output_type": "stream",
     "text": [
      "WARNING: Failed on shot 146 with probe S\n"
     ]
    },
    {
     "name": "stderr",
     "output_type": "stream",
     "text": [
      "/home/jleland/Coding/Environments/python3.6/lib/python3.6/site-packages/xarray/core/nanops.py:140: RuntimeWarning: Mean of empty slice\n",
      "  return np.nanmean(a, axis=axis, dtype=dtype)\n",
      "/home/jleland/Coding/Environments/python3.6/lib/python3.6/site-packages/xarray/core/nanops.py:140: RuntimeWarning: Mean of empty slice\n",
      "  return np.nanmean(a, axis=axis, dtype=dtype)\n",
      "/home/jleland/Coding/Environments/python3.6/lib/python3.6/site-packages/xarray/core/nanops.py:140: RuntimeWarning: Mean of empty slice\n",
      "  return np.nanmean(a, axis=axis, dtype=dtype)\n",
      "/home/jleland/Coding/Environments/python3.6/lib/python3.6/site-packages/xarray/core/nanops.py:140: RuntimeWarning: Mean of empty slice\n",
      "  return np.nanmean(a, axis=axis, dtype=dtype)\n"
     ]
    },
    {
     "name": "stdout",
     "output_type": "stream",
     "text": [
      "WARNING: Failed on shot 147 with probe L\n"
     ]
    },
    {
     "name": "stderr",
     "output_type": "stream",
     "text": [
      "/home/jleland/Coding/Environments/python3.6/lib/python3.6/site-packages/xarray/core/nanops.py:140: RuntimeWarning: Mean of empty slice\n",
      "  return np.nanmean(a, axis=axis, dtype=dtype)\n",
      "/home/jleland/Coding/Environments/python3.6/lib/python3.6/site-packages/xarray/core/nanops.py:140: RuntimeWarning: Mean of empty slice\n",
      "  return np.nanmean(a, axis=axis, dtype=dtype)\n",
      "/home/jleland/Coding/Environments/python3.6/lib/python3.6/site-packages/xarray/core/nanops.py:140: RuntimeWarning: Mean of empty slice\n",
      "  return np.nanmean(a, axis=axis, dtype=dtype)\n",
      "/home/jleland/Coding/Environments/python3.6/lib/python3.6/site-packages/xarray/core/nanops.py:140: RuntimeWarning: Mean of empty slice\n",
      "  return np.nanmean(a, axis=axis, dtype=dtype)\n",
      "/home/jleland/Coding/Environments/python3.6/lib/python3.6/site-packages/xarray/core/nanops.py:140: RuntimeWarning: Mean of empty slice\n",
      "  return np.nanmean(a, axis=axis, dtype=dtype)\n"
     ]
    },
    {
     "name": "stdout",
     "output_type": "stream",
     "text": [
      "WARNING: Failed on shot 193 with probe L\n"
     ]
    },
    {
     "name": "stderr",
     "output_type": "stream",
     "text": [
      "/home/jleland/Coding/Environments/python3.6/lib/python3.6/site-packages/xarray/core/nanops.py:140: RuntimeWarning: Mean of empty slice\n",
      "  return np.nanmean(a, axis=axis, dtype=dtype)\n",
      "/home/jleland/Coding/Environments/python3.6/lib/python3.6/site-packages/xarray/core/nanops.py:140: RuntimeWarning: Mean of empty slice\n",
      "  return np.nanmean(a, axis=axis, dtype=dtype)\n"
     ]
    },
    {
     "name": "stdout",
     "output_type": "stream",
     "text": [
      "WARNING: Failed on shot 195 with probe L\n"
     ]
    },
    {
     "name": "stderr",
     "output_type": "stream",
     "text": [
      "/home/jleland/Coding/Environments/python3.6/lib/python3.6/site-packages/xarray/core/nanops.py:140: RuntimeWarning: Mean of empty slice\n",
      "  return np.nanmean(a, axis=axis, dtype=dtype)\n"
     ]
    },
    {
     "name": "stdout",
     "output_type": "stream",
     "text": [
      "WARNING: Failed on shot 196 with probe L\n"
     ]
    },
    {
     "name": "stderr",
     "output_type": "stream",
     "text": [
      "/home/jleland/Coding/Environments/python3.6/lib/python3.6/site-packages/xarray/core/nanops.py:140: RuntimeWarning: Mean of empty slice\n",
      "  return np.nanmean(a, axis=axis, dtype=dtype)\n"
     ]
    },
    {
     "name": "stdout",
     "output_type": "stream",
     "text": [
      "WARNING: Failed on shot 197 with probe S\n"
     ]
    },
    {
     "name": "stderr",
     "output_type": "stream",
     "text": [
      "/home/jleland/Coding/Environments/python3.6/lib/python3.6/site-packages/xarray/core/nanops.py:140: RuntimeWarning: Mean of empty slice\n",
      "  return np.nanmean(a, axis=axis, dtype=dtype)\n"
     ]
    },
    {
     "name": "stdout",
     "output_type": "stream",
     "text": [
      "WARNING: Failed on shot 198 with probe S\n"
     ]
    },
    {
     "name": "stderr",
     "output_type": "stream",
     "text": [
      "/home/jleland/Coding/Environments/python3.6/lib/python3.6/site-packages/xarray/core/nanops.py:140: RuntimeWarning: Mean of empty slice\n",
      "  return np.nanmean(a, axis=axis, dtype=dtype)\n",
      "/home/jleland/Coding/Environments/python3.6/lib/python3.6/site-packages/xarray/core/nanops.py:140: RuntimeWarning: Mean of empty slice\n",
      "  return np.nanmean(a, axis=axis, dtype=dtype)\n"
     ]
    },
    {
     "name": "stdout",
     "output_type": "stream",
     "text": [
      "WARNING: Failed on shot 200 with probe S\n"
     ]
    },
    {
     "name": "stderr",
     "output_type": "stream",
     "text": [
      "/home/jleland/Coding/Environments/python3.6/lib/python3.6/site-packages/xarray/core/nanops.py:140: RuntimeWarning: Mean of empty slice\n",
      "  return np.nanmean(a, axis=axis, dtype=dtype)\n"
     ]
    },
    {
     "name": "stdout",
     "output_type": "stream",
     "text": [
      "WARNING: Failed on shot 201 with probe S\n"
     ]
    },
    {
     "name": "stderr",
     "output_type": "stream",
     "text": [
      "/home/jleland/Coding/Environments/python3.6/lib/python3.6/site-packages/xarray/core/nanops.py:140: RuntimeWarning: Mean of empty slice\n",
      "  return np.nanmean(a, axis=axis, dtype=dtype)\n"
     ]
    },
    {
     "name": "stdout",
     "output_type": "stream",
     "text": [
      "WARNING: Failed on shot 202 with probe S\n"
     ]
    },
    {
     "name": "stderr",
     "output_type": "stream",
     "text": [
      "/home/jleland/Coding/Environments/python3.6/lib/python3.6/site-packages/xarray/core/nanops.py:140: RuntimeWarning: Mean of empty slice\n",
      "  return np.nanmean(a, axis=axis, dtype=dtype)\n",
      "/home/jleland/Coding/Environments/python3.6/lib/python3.6/site-packages/xarray/core/nanops.py:140: RuntimeWarning: Mean of empty slice\n",
      "  return np.nanmean(a, axis=axis, dtype=dtype)\n"
     ]
    },
    {
     "name": "stdout",
     "output_type": "stream",
     "text": [
      "WARNING: Failed on shot 204 with probe S\n"
     ]
    },
    {
     "name": "stderr",
     "output_type": "stream",
     "text": [
      "/home/jleland/Coding/Environments/python3.6/lib/python3.6/site-packages/xarray/core/nanops.py:140: RuntimeWarning: Mean of empty slice\n",
      "  return np.nanmean(a, axis=axis, dtype=dtype)\n"
     ]
    },
    {
     "name": "stdout",
     "output_type": "stream",
     "text": [
      "WARNING: Failed on shot 205 with probe L\n"
     ]
    },
    {
     "name": "stderr",
     "output_type": "stream",
     "text": [
      "/home/jleland/Coding/Environments/python3.6/lib/python3.6/site-packages/xarray/core/nanops.py:140: RuntimeWarning: Mean of empty slice\n",
      "  return np.nanmean(a, axis=axis, dtype=dtype)\n",
      "/home/jleland/Coding/Environments/python3.6/lib/python3.6/site-packages/xarray/core/nanops.py:140: RuntimeWarning: Mean of empty slice\n",
      "  return np.nanmean(a, axis=axis, dtype=dtype)\n",
      "/home/jleland/Coding/Environments/python3.6/lib/python3.6/site-packages/xarray/core/nanops.py:140: RuntimeWarning: Mean of empty slice\n",
      "  return np.nanmean(a, axis=axis, dtype=dtype)\n"
     ]
    },
    {
     "name": "stdout",
     "output_type": "stream",
     "text": [
      "WARNING: Failed on shot 436 with probe S\n",
      "WARNING: Failed on shot 436 with probe L\n"
     ]
    },
    {
     "name": "stderr",
     "output_type": "stream",
     "text": [
      "/home/jleland/Coding/Environments/python3.6/lib/python3.6/site-packages/xarray/core/nanops.py:140: RuntimeWarning: Mean of empty slice\n",
      "  return np.nanmean(a, axis=axis, dtype=dtype)\n",
      "/home/jleland/Coding/Environments/python3.6/lib/python3.6/site-packages/xarray/core/nanops.py:140: RuntimeWarning: Mean of empty slice\n",
      "  return np.nanmean(a, axis=axis, dtype=dtype)\n",
      "/home/jleland/Coding/Environments/python3.6/lib/python3.6/site-packages/xarray/core/nanops.py:140: RuntimeWarning: Mean of empty slice\n",
      "  return np.nanmean(a, axis=axis, dtype=dtype)\n",
      "/home/jleland/Coding/Environments/python3.6/lib/python3.6/site-packages/xarray/core/nanops.py:140: RuntimeWarning: Mean of empty slice\n",
      "  return np.nanmean(a, axis=axis, dtype=dtype)\n",
      "/home/jleland/Coding/Environments/python3.6/lib/python3.6/site-packages/xarray/core/nanops.py:140: RuntimeWarning: Mean of empty slice\n",
      "  return np.nanmean(a, axis=axis, dtype=dtype)\n",
      "/home/jleland/Coding/Environments/python3.6/lib/python3.6/site-packages/xarray/core/nanops.py:140: RuntimeWarning: Mean of empty slice\n",
      "  return np.nanmean(a, axis=axis, dtype=dtype)\n",
      "/home/jleland/Coding/Environments/python3.6/lib/python3.6/site-packages/xarray/core/nanops.py:140: RuntimeWarning: Mean of empty slice\n",
      "  return np.nanmean(a, axis=axis, dtype=dtype)\n"
     ]
    },
    {
     "name": "stdout",
     "output_type": "stream",
     "text": [
      "WARNING: Failed on shot 455 with probe S\n"
     ]
    }
   ],
   "source": [
    "mandatory_labels = [\n",
    "    'shot',\n",
    "    'probe', \n",
    "    'B',\n",
    "    'ts_temp',\n",
    "    'ts_dens',\n",
    "    'fit_success_fl',\n",
    "]\n",
    "fit_param_labels = [\n",
    "    'temp',\n",
    "    'd_temp',\n",
    "    'isat', \n",
    "    'd_isat',\n",
    "    'a',\n",
    "    'd_a',\n",
    "    'v_f',\n",
    "    'd_v_f',                              \n",
    "]\n",
    "all_labels = mandatory_labels + fit_param_labels\n",
    "fit_df = pd.DataFrame(columns=all_labels)\n",
    "\n",
    "probes = ['S', 'L', 'B', 'R']\n",
    "\n",
    "for shot in ds_1_2T.shot_number.values:\n",
    "    shot_ds = ds_1_2T.sel(shot_number=shot).mean('direction')\n",
    "    for probe in probes:\n",
    "        probe_shot_ds = shot_ds.sel(probe=probe)\n",
    "        probe_shot_ds = probe_shot_ds.where(np.isfinite(probe_shot_ds['voltage']), drop=True)\n",
    "        \n",
    "        if len(probe_shot_ds.time) == 0:\n",
    "            continue\n",
    "#         probe_shot_ds = probe_shot_ds\n",
    "        \n",
    "#         print(probe_shot_ds)\n",
    "        shot_iv = iv.IVData(probe_shot_ds['voltage'].values,\n",
    "                            -probe_shot_ds['current'].values,\n",
    "                            probe_shot_ds['shot_time'].values,\n",
    "                            estimate_error_fl=True)\n",
    "        \n",
    "        fit_params = {}\n",
    "                \n",
    "        try:\n",
    "            shot_fit = shot_iv.multi_fit(sat_region=-60)\n",
    "            fit_params = {\n",
    "                'fit_success_fl': True,\n",
    "                'temp': shot_fit.get_temp(),\n",
    "                'd_temp': shot_fit.get_temp_err(),\n",
    "                'isat': shot_fit.get_isat(), \n",
    "                'd_isat': shot_fit.get_isat_err(),\n",
    "                'a': shot_fit.get_sheath_exp(), \n",
    "                'd_a': shot_fit.get_sheath_exp_err(),\n",
    "                'v_f': shot_fit.get_floating_pot(),\n",
    "                'd_v_f': shot_fit.get_floating_pot_err()\n",
    "            }\n",
    "        except RuntimeError as e:\n",
    "            print(f'WARNING: Failed on shot {shot} with probe {probe}')\n",
    "            fit_params = {label: np.NaN for label in fit_param_labels}\n",
    "            fit_params['fit_success_fl'] = False\n",
    "            \n",
    "        \n",
    "        fit_df = fit_df.append({\n",
    "            'shot': shot,\n",
    "            'probe': probe, \n",
    "            'B': np.around(probe_shot_ds['shot_b_field'].mean().values, decimals=1),\n",
    "            'ts_temp': probe_shot_ds['ts_temperature'].mean().values,\n",
    "            'ts_dens': probe_shot_ds['ts_density'].mean().values,\n",
    "            **fit_params\n",
    "        }, ignore_index=True)\n",
    "        "
   ]
  },
  {
   "cell_type": "code",
   "execution_count": 7,
   "metadata": {},
   "outputs": [
    {
     "data": {
      "text/html": [
       "<div>\n",
       "<style scoped>\n",
       "    .dataframe tbody tr th:only-of-type {\n",
       "        vertical-align: middle;\n",
       "    }\n",
       "\n",
       "    .dataframe tbody tr th {\n",
       "        vertical-align: top;\n",
       "    }\n",
       "\n",
       "    .dataframe thead th {\n",
       "        text-align: right;\n",
       "    }\n",
       "</style>\n",
       "<table border=\"1\" class=\"dataframe\">\n",
       "  <thead>\n",
       "    <tr style=\"text-align: right;\">\n",
       "      <th></th>\n",
       "      <th>shot</th>\n",
       "      <th>probe</th>\n",
       "      <th>B</th>\n",
       "      <th>ts_temp</th>\n",
       "      <th>ts_dens</th>\n",
       "      <th>fit_success_fl</th>\n",
       "      <th>temp</th>\n",
       "      <th>d_temp</th>\n",
       "      <th>isat</th>\n",
       "      <th>d_isat</th>\n",
       "      <th>a</th>\n",
       "      <th>d_a</th>\n",
       "      <th>v_f</th>\n",
       "      <th>d_v_f</th>\n",
       "    </tr>\n",
       "  </thead>\n",
       "  <tbody>\n",
       "    <tr>\n",
       "      <td>0</td>\n",
       "      <td>22</td>\n",
       "      <td>S</td>\n",
       "      <td>0.5</td>\n",
       "      <td>0.328979</td>\n",
       "      <td>2.925608e+19</td>\n",
       "      <td>True</td>\n",
       "      <td>0.938039</td>\n",
       "      <td>2.860422e-02</td>\n",
       "      <td>0.027699</td>\n",
       "      <td>0.000089</td>\n",
       "      <td>2.173877e-02</td>\n",
       "      <td>0.000483</td>\n",
       "      <td>-7.131685</td>\n",
       "      <td>0.015998</td>\n",
       "    </tr>\n",
       "    <tr>\n",
       "      <td>1</td>\n",
       "      <td>22</td>\n",
       "      <td>L</td>\n",
       "      <td>0.5</td>\n",
       "      <td>0.328979</td>\n",
       "      <td>2.925608e+19</td>\n",
       "      <td>False</td>\n",
       "      <td>NaN</td>\n",
       "      <td>NaN</td>\n",
       "      <td>NaN</td>\n",
       "      <td>NaN</td>\n",
       "      <td>NaN</td>\n",
       "      <td>NaN</td>\n",
       "      <td>NaN</td>\n",
       "      <td>NaN</td>\n",
       "    </tr>\n",
       "    <tr>\n",
       "      <td>2</td>\n",
       "      <td>24</td>\n",
       "      <td>S</td>\n",
       "      <td>0.5</td>\n",
       "      <td>0.319234</td>\n",
       "      <td>2.442321e+19</td>\n",
       "      <td>False</td>\n",
       "      <td>NaN</td>\n",
       "      <td>NaN</td>\n",
       "      <td>NaN</td>\n",
       "      <td>NaN</td>\n",
       "      <td>NaN</td>\n",
       "      <td>NaN</td>\n",
       "      <td>NaN</td>\n",
       "      <td>NaN</td>\n",
       "    </tr>\n",
       "    <tr>\n",
       "      <td>3</td>\n",
       "      <td>24</td>\n",
       "      <td>L</td>\n",
       "      <td>0.5</td>\n",
       "      <td>0.319234</td>\n",
       "      <td>2.442321e+19</td>\n",
       "      <td>False</td>\n",
       "      <td>NaN</td>\n",
       "      <td>NaN</td>\n",
       "      <td>NaN</td>\n",
       "      <td>NaN</td>\n",
       "      <td>NaN</td>\n",
       "      <td>NaN</td>\n",
       "      <td>NaN</td>\n",
       "      <td>NaN</td>\n",
       "    </tr>\n",
       "    <tr>\n",
       "      <td>4</td>\n",
       "      <td>25</td>\n",
       "      <td>S</td>\n",
       "      <td>0.5</td>\n",
       "      <td>0.330994</td>\n",
       "      <td>2.637601e+19</td>\n",
       "      <td>True</td>\n",
       "      <td>682151.979440</td>\n",
       "      <td>1.323535e+08</td>\n",
       "      <td>59.601764</td>\n",
       "      <td>11556.011968</td>\n",
       "      <td>4.217276e-20</td>\n",
       "      <td>0.084520</td>\n",
       "      <td>52.902013</td>\n",
       "      <td>18.905666</td>\n",
       "    </tr>\n",
       "    <tr>\n",
       "      <td>...</td>\n",
       "      <td>...</td>\n",
       "      <td>...</td>\n",
       "      <td>...</td>\n",
       "      <td>...</td>\n",
       "      <td>...</td>\n",
       "      <td>...</td>\n",
       "      <td>...</td>\n",
       "      <td>...</td>\n",
       "      <td>...</td>\n",
       "      <td>...</td>\n",
       "      <td>...</td>\n",
       "      <td>...</td>\n",
       "      <td>...</td>\n",
       "      <td>...</td>\n",
       "    </tr>\n",
       "    <tr>\n",
       "      <td>133</td>\n",
       "      <td>453</td>\n",
       "      <td>L</td>\n",
       "      <td>0.8</td>\n",
       "      <td>NaN</td>\n",
       "      <td>NaN</td>\n",
       "      <td>True</td>\n",
       "      <td>3.145238</td>\n",
       "      <td>9.341682e-02</td>\n",
       "      <td>0.007193</td>\n",
       "      <td>0.000061</td>\n",
       "      <td>1.816498e-02</td>\n",
       "      <td>0.001129</td>\n",
       "      <td>-25.154440</td>\n",
       "      <td>0.039320</td>\n",
       "    </tr>\n",
       "    <tr>\n",
       "      <td>134</td>\n",
       "      <td>454</td>\n",
       "      <td>S</td>\n",
       "      <td>0.8</td>\n",
       "      <td>NaN</td>\n",
       "      <td>NaN</td>\n",
       "      <td>True</td>\n",
       "      <td>3.022893</td>\n",
       "      <td>1.643838e-02</td>\n",
       "      <td>0.084727</td>\n",
       "      <td>0.000099</td>\n",
       "      <td>5.886546e-02</td>\n",
       "      <td>0.000224</td>\n",
       "      <td>-27.972588</td>\n",
       "      <td>0.008388</td>\n",
       "    </tr>\n",
       "    <tr>\n",
       "      <td>135</td>\n",
       "      <td>454</td>\n",
       "      <td>L</td>\n",
       "      <td>0.8</td>\n",
       "      <td>NaN</td>\n",
       "      <td>NaN</td>\n",
       "      <td>True</td>\n",
       "      <td>1.805120</td>\n",
       "      <td>8.936862e-02</td>\n",
       "      <td>0.009771</td>\n",
       "      <td>0.000072</td>\n",
       "      <td>1.421596e-02</td>\n",
       "      <td>0.000685</td>\n",
       "      <td>-11.718765</td>\n",
       "      <td>0.048979</td>\n",
       "    </tr>\n",
       "    <tr>\n",
       "      <td>136</td>\n",
       "      <td>455</td>\n",
       "      <td>S</td>\n",
       "      <td>0.8</td>\n",
       "      <td>3.125829</td>\n",
       "      <td>1.331822e+19</td>\n",
       "      <td>False</td>\n",
       "      <td>NaN</td>\n",
       "      <td>NaN</td>\n",
       "      <td>NaN</td>\n",
       "      <td>NaN</td>\n",
       "      <td>NaN</td>\n",
       "      <td>NaN</td>\n",
       "      <td>NaN</td>\n",
       "      <td>NaN</td>\n",
       "    </tr>\n",
       "    <tr>\n",
       "      <td>137</td>\n",
       "      <td>455</td>\n",
       "      <td>L</td>\n",
       "      <td>0.8</td>\n",
       "      <td>3.125829</td>\n",
       "      <td>1.331822e+19</td>\n",
       "      <td>True</td>\n",
       "      <td>1.822606</td>\n",
       "      <td>8.608282e-02</td>\n",
       "      <td>0.008789</td>\n",
       "      <td>0.000063</td>\n",
       "      <td>1.463099e-02</td>\n",
       "      <td>0.000677</td>\n",
       "      <td>-11.546887</td>\n",
       "      <td>0.045920</td>\n",
       "    </tr>\n",
       "  </tbody>\n",
       "</table>\n",
       "<p>138 rows × 14 columns</p>\n",
       "</div>"
      ],
      "text/plain": [
       "    shot probe    B   ts_temp       ts_dens fit_success_fl           temp  \\\n",
       "0     22     S  0.5  0.328979  2.925608e+19           True       0.938039   \n",
       "1     22     L  0.5  0.328979  2.925608e+19          False            NaN   \n",
       "2     24     S  0.5  0.319234  2.442321e+19          False            NaN   \n",
       "3     24     L  0.5  0.319234  2.442321e+19          False            NaN   \n",
       "4     25     S  0.5  0.330994  2.637601e+19           True  682151.979440   \n",
       "..   ...   ...  ...       ...           ...            ...            ...   \n",
       "133  453     L  0.8       NaN           NaN           True       3.145238   \n",
       "134  454     S  0.8       NaN           NaN           True       3.022893   \n",
       "135  454     L  0.8       NaN           NaN           True       1.805120   \n",
       "136  455     S  0.8  3.125829  1.331822e+19          False            NaN   \n",
       "137  455     L  0.8  3.125829  1.331822e+19           True       1.822606   \n",
       "\n",
       "           d_temp       isat        d_isat             a       d_a        v_f  \\\n",
       "0    2.860422e-02   0.027699      0.000089  2.173877e-02  0.000483  -7.131685   \n",
       "1             NaN        NaN           NaN           NaN       NaN        NaN   \n",
       "2             NaN        NaN           NaN           NaN       NaN        NaN   \n",
       "3             NaN        NaN           NaN           NaN       NaN        NaN   \n",
       "4    1.323535e+08  59.601764  11556.011968  4.217276e-20  0.084520  52.902013   \n",
       "..            ...        ...           ...           ...       ...        ...   \n",
       "133  9.341682e-02   0.007193      0.000061  1.816498e-02  0.001129 -25.154440   \n",
       "134  1.643838e-02   0.084727      0.000099  5.886546e-02  0.000224 -27.972588   \n",
       "135  8.936862e-02   0.009771      0.000072  1.421596e-02  0.000685 -11.718765   \n",
       "136           NaN        NaN           NaN           NaN       NaN        NaN   \n",
       "137  8.608282e-02   0.008789      0.000063  1.463099e-02  0.000677 -11.546887   \n",
       "\n",
       "         d_v_f  \n",
       "0     0.015998  \n",
       "1          NaN  \n",
       "2          NaN  \n",
       "3          NaN  \n",
       "4    18.905666  \n",
       "..         ...  \n",
       "133   0.039320  \n",
       "134   0.008388  \n",
       "135   0.048979  \n",
       "136        NaN  \n",
       "137   0.045920  \n",
       "\n",
       "[138 rows x 14 columns]"
      ]
     },
     "execution_count": 7,
     "metadata": {},
     "output_type": "execute_result"
    }
   ],
   "source": [
    "fit_df['ts_temp'] = fit_df['ts_temp'].astype(np.float64)\n",
    "fit_df['ts_dens'] = fit_df['ts_dens'].astype(np.float64)\n",
    "fit_df"
   ]
  },
  {
   "cell_type": "code",
   "execution_count": 6,
   "metadata": {},
   "outputs": [],
   "source": [
    "save_filename = 'concatted_fits.csv'"
   ]
  },
  {
   "cell_type": "code",
   "execution_count": 22,
   "metadata": {},
   "outputs": [],
   "source": [
    "fit_df.to_csv(save_filename)"
   ]
  },
  {
   "cell_type": "code",
   "execution_count": 7,
   "metadata": {},
   "outputs": [
    {
     "data": {
      "text/html": [
       "<div>\n",
       "<style scoped>\n",
       "    .dataframe tbody tr th:only-of-type {\n",
       "        vertical-align: middle;\n",
       "    }\n",
       "\n",
       "    .dataframe tbody tr th {\n",
       "        vertical-align: top;\n",
       "    }\n",
       "\n",
       "    .dataframe thead th {\n",
       "        text-align: right;\n",
       "    }\n",
       "</style>\n",
       "<table border=\"1\" class=\"dataframe\">\n",
       "  <thead>\n",
       "    <tr style=\"text-align: right;\">\n",
       "      <th></th>\n",
       "      <th>Unnamed: 0</th>\n",
       "      <th>shot</th>\n",
       "      <th>probe</th>\n",
       "      <th>B</th>\n",
       "      <th>ts_temp</th>\n",
       "      <th>ts_dens</th>\n",
       "      <th>fit_success_fl</th>\n",
       "      <th>temp</th>\n",
       "      <th>d_temp</th>\n",
       "      <th>isat</th>\n",
       "      <th>d_isat</th>\n",
       "      <th>a</th>\n",
       "      <th>d_a</th>\n",
       "      <th>v_f</th>\n",
       "      <th>d_v_f</th>\n",
       "    </tr>\n",
       "  </thead>\n",
       "  <tbody>\n",
       "    <tr>\n",
       "      <td>0</td>\n",
       "      <td>0</td>\n",
       "      <td>22</td>\n",
       "      <td>S</td>\n",
       "      <td>0.5</td>\n",
       "      <td>0.328979</td>\n",
       "      <td>2.925608e+19</td>\n",
       "      <td>True</td>\n",
       "      <td>0.938039</td>\n",
       "      <td>2.860422e-02</td>\n",
       "      <td>0.027699</td>\n",
       "      <td>0.000089</td>\n",
       "      <td>2.173877e-02</td>\n",
       "      <td>0.000483</td>\n",
       "      <td>-7.131685</td>\n",
       "      <td>0.015998</td>\n",
       "    </tr>\n",
       "    <tr>\n",
       "      <td>1</td>\n",
       "      <td>1</td>\n",
       "      <td>22</td>\n",
       "      <td>L</td>\n",
       "      <td>0.5</td>\n",
       "      <td>0.328979</td>\n",
       "      <td>2.925608e+19</td>\n",
       "      <td>False</td>\n",
       "      <td>NaN</td>\n",
       "      <td>NaN</td>\n",
       "      <td>NaN</td>\n",
       "      <td>NaN</td>\n",
       "      <td>NaN</td>\n",
       "      <td>NaN</td>\n",
       "      <td>NaN</td>\n",
       "      <td>NaN</td>\n",
       "    </tr>\n",
       "    <tr>\n",
       "      <td>2</td>\n",
       "      <td>2</td>\n",
       "      <td>24</td>\n",
       "      <td>S</td>\n",
       "      <td>0.5</td>\n",
       "      <td>0.319234</td>\n",
       "      <td>2.442321e+19</td>\n",
       "      <td>False</td>\n",
       "      <td>NaN</td>\n",
       "      <td>NaN</td>\n",
       "      <td>NaN</td>\n",
       "      <td>NaN</td>\n",
       "      <td>NaN</td>\n",
       "      <td>NaN</td>\n",
       "      <td>NaN</td>\n",
       "      <td>NaN</td>\n",
       "    </tr>\n",
       "    <tr>\n",
       "      <td>3</td>\n",
       "      <td>3</td>\n",
       "      <td>24</td>\n",
       "      <td>L</td>\n",
       "      <td>0.5</td>\n",
       "      <td>0.319234</td>\n",
       "      <td>2.442321e+19</td>\n",
       "      <td>False</td>\n",
       "      <td>NaN</td>\n",
       "      <td>NaN</td>\n",
       "      <td>NaN</td>\n",
       "      <td>NaN</td>\n",
       "      <td>NaN</td>\n",
       "      <td>NaN</td>\n",
       "      <td>NaN</td>\n",
       "      <td>NaN</td>\n",
       "    </tr>\n",
       "    <tr>\n",
       "      <td>4</td>\n",
       "      <td>4</td>\n",
       "      <td>25</td>\n",
       "      <td>S</td>\n",
       "      <td>0.5</td>\n",
       "      <td>0.330994</td>\n",
       "      <td>2.637601e+19</td>\n",
       "      <td>True</td>\n",
       "      <td>682151.979440</td>\n",
       "      <td>1.323535e+08</td>\n",
       "      <td>59.601764</td>\n",
       "      <td>11556.011968</td>\n",
       "      <td>4.217276e-20</td>\n",
       "      <td>0.084520</td>\n",
       "      <td>52.902013</td>\n",
       "      <td>18.905666</td>\n",
       "    </tr>\n",
       "    <tr>\n",
       "      <td>...</td>\n",
       "      <td>...</td>\n",
       "      <td>...</td>\n",
       "      <td>...</td>\n",
       "      <td>...</td>\n",
       "      <td>...</td>\n",
       "      <td>...</td>\n",
       "      <td>...</td>\n",
       "      <td>...</td>\n",
       "      <td>...</td>\n",
       "      <td>...</td>\n",
       "      <td>...</td>\n",
       "      <td>...</td>\n",
       "      <td>...</td>\n",
       "      <td>...</td>\n",
       "      <td>...</td>\n",
       "    </tr>\n",
       "    <tr>\n",
       "      <td>133</td>\n",
       "      <td>133</td>\n",
       "      <td>453</td>\n",
       "      <td>L</td>\n",
       "      <td>0.8</td>\n",
       "      <td>NaN</td>\n",
       "      <td>NaN</td>\n",
       "      <td>True</td>\n",
       "      <td>3.145238</td>\n",
       "      <td>9.341682e-02</td>\n",
       "      <td>0.007193</td>\n",
       "      <td>0.000061</td>\n",
       "      <td>1.816498e-02</td>\n",
       "      <td>0.001129</td>\n",
       "      <td>-25.154440</td>\n",
       "      <td>0.039320</td>\n",
       "    </tr>\n",
       "    <tr>\n",
       "      <td>134</td>\n",
       "      <td>134</td>\n",
       "      <td>454</td>\n",
       "      <td>S</td>\n",
       "      <td>0.8</td>\n",
       "      <td>NaN</td>\n",
       "      <td>NaN</td>\n",
       "      <td>True</td>\n",
       "      <td>3.022893</td>\n",
       "      <td>1.643838e-02</td>\n",
       "      <td>0.084727</td>\n",
       "      <td>0.000099</td>\n",
       "      <td>5.886546e-02</td>\n",
       "      <td>0.000224</td>\n",
       "      <td>-27.972588</td>\n",
       "      <td>0.008388</td>\n",
       "    </tr>\n",
       "    <tr>\n",
       "      <td>135</td>\n",
       "      <td>135</td>\n",
       "      <td>454</td>\n",
       "      <td>L</td>\n",
       "      <td>0.8</td>\n",
       "      <td>NaN</td>\n",
       "      <td>NaN</td>\n",
       "      <td>True</td>\n",
       "      <td>1.805120</td>\n",
       "      <td>8.936862e-02</td>\n",
       "      <td>0.009771</td>\n",
       "      <td>0.000072</td>\n",
       "      <td>1.421596e-02</td>\n",
       "      <td>0.000685</td>\n",
       "      <td>-11.718765</td>\n",
       "      <td>0.048979</td>\n",
       "    </tr>\n",
       "    <tr>\n",
       "      <td>136</td>\n",
       "      <td>136</td>\n",
       "      <td>455</td>\n",
       "      <td>S</td>\n",
       "      <td>0.8</td>\n",
       "      <td>3.125829</td>\n",
       "      <td>1.331822e+19</td>\n",
       "      <td>False</td>\n",
       "      <td>NaN</td>\n",
       "      <td>NaN</td>\n",
       "      <td>NaN</td>\n",
       "      <td>NaN</td>\n",
       "      <td>NaN</td>\n",
       "      <td>NaN</td>\n",
       "      <td>NaN</td>\n",
       "      <td>NaN</td>\n",
       "    </tr>\n",
       "    <tr>\n",
       "      <td>137</td>\n",
       "      <td>137</td>\n",
       "      <td>455</td>\n",
       "      <td>L</td>\n",
       "      <td>0.8</td>\n",
       "      <td>3.125829</td>\n",
       "      <td>1.331822e+19</td>\n",
       "      <td>True</td>\n",
       "      <td>1.822606</td>\n",
       "      <td>8.608282e-02</td>\n",
       "      <td>0.008789</td>\n",
       "      <td>0.000063</td>\n",
       "      <td>1.463099e-02</td>\n",
       "      <td>0.000677</td>\n",
       "      <td>-11.546887</td>\n",
       "      <td>0.045920</td>\n",
       "    </tr>\n",
       "  </tbody>\n",
       "</table>\n",
       "<p>138 rows × 15 columns</p>\n",
       "</div>"
      ],
      "text/plain": [
       "     Unnamed: 0  shot probe    B   ts_temp       ts_dens  fit_success_fl  \\\n",
       "0             0    22     S  0.5  0.328979  2.925608e+19            True   \n",
       "1             1    22     L  0.5  0.328979  2.925608e+19           False   \n",
       "2             2    24     S  0.5  0.319234  2.442321e+19           False   \n",
       "3             3    24     L  0.5  0.319234  2.442321e+19           False   \n",
       "4             4    25     S  0.5  0.330994  2.637601e+19            True   \n",
       "..          ...   ...   ...  ...       ...           ...             ...   \n",
       "133         133   453     L  0.8       NaN           NaN            True   \n",
       "134         134   454     S  0.8       NaN           NaN            True   \n",
       "135         135   454     L  0.8       NaN           NaN            True   \n",
       "136         136   455     S  0.8  3.125829  1.331822e+19           False   \n",
       "137         137   455     L  0.8  3.125829  1.331822e+19            True   \n",
       "\n",
       "              temp        d_temp       isat        d_isat             a  \\\n",
       "0         0.938039  2.860422e-02   0.027699      0.000089  2.173877e-02   \n",
       "1              NaN           NaN        NaN           NaN           NaN   \n",
       "2              NaN           NaN        NaN           NaN           NaN   \n",
       "3              NaN           NaN        NaN           NaN           NaN   \n",
       "4    682151.979440  1.323535e+08  59.601764  11556.011968  4.217276e-20   \n",
       "..             ...           ...        ...           ...           ...   \n",
       "133       3.145238  9.341682e-02   0.007193      0.000061  1.816498e-02   \n",
       "134       3.022893  1.643838e-02   0.084727      0.000099  5.886546e-02   \n",
       "135       1.805120  8.936862e-02   0.009771      0.000072  1.421596e-02   \n",
       "136            NaN           NaN        NaN           NaN           NaN   \n",
       "137       1.822606  8.608282e-02   0.008789      0.000063  1.463099e-02   \n",
       "\n",
       "          d_a        v_f      d_v_f  \n",
       "0    0.000483  -7.131685   0.015998  \n",
       "1         NaN        NaN        NaN  \n",
       "2         NaN        NaN        NaN  \n",
       "3         NaN        NaN        NaN  \n",
       "4    0.084520  52.902013  18.905666  \n",
       "..        ...        ...        ...  \n",
       "133  0.001129 -25.154440   0.039320  \n",
       "134  0.000224 -27.972588   0.008388  \n",
       "135  0.000685 -11.718765   0.048979  \n",
       "136       NaN        NaN        NaN  \n",
       "137  0.000677 -11.546887   0.045920  \n",
       "\n",
       "[138 rows x 15 columns]"
      ]
     },
     "execution_count": 7,
     "metadata": {},
     "output_type": "execute_result"
    }
   ],
   "source": [
    "fit_df = pd.read_csv(save_filename)\n",
    "fit_df"
   ]
  },
  {
   "cell_type": "code",
   "execution_count": 10,
   "metadata": {},
   "outputs": [
    {
     "data": {
      "text/html": [
       "<div>\n",
       "<style scoped>\n",
       "    .dataframe tbody tr th:only-of-type {\n",
       "        vertical-align: middle;\n",
       "    }\n",
       "\n",
       "    .dataframe tbody tr th {\n",
       "        vertical-align: top;\n",
       "    }\n",
       "\n",
       "    .dataframe thead th {\n",
       "        text-align: right;\n",
       "    }\n",
       "</style>\n",
       "<table border=\"1\" class=\"dataframe\">\n",
       "  <thead>\n",
       "    <tr style=\"text-align: right;\">\n",
       "      <th></th>\n",
       "      <th>Unnamed: 0</th>\n",
       "      <th>shot</th>\n",
       "      <th>probe</th>\n",
       "      <th>B</th>\n",
       "      <th>ts_temp</th>\n",
       "      <th>ts_dens</th>\n",
       "      <th>fit_success_fl</th>\n",
       "      <th>temp</th>\n",
       "      <th>d_temp</th>\n",
       "      <th>isat</th>\n",
       "      <th>d_isat</th>\n",
       "      <th>a</th>\n",
       "      <th>d_a</th>\n",
       "      <th>v_f</th>\n",
       "      <th>d_v_f</th>\n",
       "    </tr>\n",
       "  </thead>\n",
       "  <tbody>\n",
       "    <tr>\n",
       "      <td>0</td>\n",
       "      <td>0.0</td>\n",
       "      <td>22.0</td>\n",
       "      <td>S</td>\n",
       "      <td>0.5</td>\n",
       "      <td>0.328979</td>\n",
       "      <td>2.925608e+19</td>\n",
       "      <td>1.0</td>\n",
       "      <td>0.938039</td>\n",
       "      <td>2.860422e-02</td>\n",
       "      <td>0.027699</td>\n",
       "      <td>0.000089</td>\n",
       "      <td>2.173877e-02</td>\n",
       "      <td>0.000483</td>\n",
       "      <td>-7.131685</td>\n",
       "      <td>0.015998</td>\n",
       "    </tr>\n",
       "    <tr>\n",
       "      <td>2</td>\n",
       "      <td>2.0</td>\n",
       "      <td>24.0</td>\n",
       "      <td>S</td>\n",
       "      <td>0.5</td>\n",
       "      <td>0.319234</td>\n",
       "      <td>2.442321e+19</td>\n",
       "      <td>0.0</td>\n",
       "      <td>NaN</td>\n",
       "      <td>NaN</td>\n",
       "      <td>NaN</td>\n",
       "      <td>NaN</td>\n",
       "      <td>NaN</td>\n",
       "      <td>NaN</td>\n",
       "      <td>NaN</td>\n",
       "      <td>NaN</td>\n",
       "    </tr>\n",
       "    <tr>\n",
       "      <td>4</td>\n",
       "      <td>4.0</td>\n",
       "      <td>25.0</td>\n",
       "      <td>S</td>\n",
       "      <td>0.5</td>\n",
       "      <td>0.330994</td>\n",
       "      <td>2.637601e+19</td>\n",
       "      <td>1.0</td>\n",
       "      <td>682151.979440</td>\n",
       "      <td>1.323535e+08</td>\n",
       "      <td>59.601764</td>\n",
       "      <td>11556.011968</td>\n",
       "      <td>4.217276e-20</td>\n",
       "      <td>0.084520</td>\n",
       "      <td>52.902013</td>\n",
       "      <td>18.905666</td>\n",
       "    </tr>\n",
       "    <tr>\n",
       "      <td>6</td>\n",
       "      <td>6.0</td>\n",
       "      <td>26.0</td>\n",
       "      <td>S</td>\n",
       "      <td>0.5</td>\n",
       "      <td>0.356140</td>\n",
       "      <td>3.130804e+19</td>\n",
       "      <td>0.0</td>\n",
       "      <td>NaN</td>\n",
       "      <td>NaN</td>\n",
       "      <td>NaN</td>\n",
       "      <td>NaN</td>\n",
       "      <td>NaN</td>\n",
       "      <td>NaN</td>\n",
       "      <td>NaN</td>\n",
       "      <td>NaN</td>\n",
       "    </tr>\n",
       "    <tr>\n",
       "      <td>8</td>\n",
       "      <td>8.0</td>\n",
       "      <td>27.0</td>\n",
       "      <td>S</td>\n",
       "      <td>0.5</td>\n",
       "      <td>0.340792</td>\n",
       "      <td>2.783332e+19</td>\n",
       "      <td>0.0</td>\n",
       "      <td>NaN</td>\n",
       "      <td>NaN</td>\n",
       "      <td>NaN</td>\n",
       "      <td>NaN</td>\n",
       "      <td>NaN</td>\n",
       "      <td>NaN</td>\n",
       "      <td>NaN</td>\n",
       "      <td>NaN</td>\n",
       "    </tr>\n",
       "    <tr>\n",
       "      <td>...</td>\n",
       "      <td>...</td>\n",
       "      <td>...</td>\n",
       "      <td>...</td>\n",
       "      <td>...</td>\n",
       "      <td>...</td>\n",
       "      <td>...</td>\n",
       "      <td>...</td>\n",
       "      <td>...</td>\n",
       "      <td>...</td>\n",
       "      <td>...</td>\n",
       "      <td>...</td>\n",
       "      <td>...</td>\n",
       "      <td>...</td>\n",
       "      <td>...</td>\n",
       "      <td>...</td>\n",
       "    </tr>\n",
       "    <tr>\n",
       "      <td>126</td>\n",
       "      <td>126.0</td>\n",
       "      <td>339.0</td>\n",
       "      <td>S</td>\n",
       "      <td>1.2</td>\n",
       "      <td>4.023214</td>\n",
       "      <td>1.771685e+19</td>\n",
       "      <td>1.0</td>\n",
       "      <td>5.426847</td>\n",
       "      <td>1.960196e-02</td>\n",
       "      <td>0.153816</td>\n",
       "      <td>0.000302</td>\n",
       "      <td>3.277288e-02</td>\n",
       "      <td>0.000492</td>\n",
       "      <td>-40.557930</td>\n",
       "      <td>0.006210</td>\n",
       "    </tr>\n",
       "    <tr>\n",
       "      <td>130</td>\n",
       "      <td>130.0</td>\n",
       "      <td>436.0</td>\n",
       "      <td>S</td>\n",
       "      <td>1.5</td>\n",
       "      <td>5.379086</td>\n",
       "      <td>1.118215e+20</td>\n",
       "      <td>0.0</td>\n",
       "      <td>NaN</td>\n",
       "      <td>NaN</td>\n",
       "      <td>NaN</td>\n",
       "      <td>NaN</td>\n",
       "      <td>NaN</td>\n",
       "      <td>NaN</td>\n",
       "      <td>NaN</td>\n",
       "      <td>NaN</td>\n",
       "    </tr>\n",
       "    <tr>\n",
       "      <td>132</td>\n",
       "      <td>132.0</td>\n",
       "      <td>453.0</td>\n",
       "      <td>S</td>\n",
       "      <td>0.8</td>\n",
       "      <td>NaN</td>\n",
       "      <td>NaN</td>\n",
       "      <td>1.0</td>\n",
       "      <td>3.972853</td>\n",
       "      <td>3.046450e-02</td>\n",
       "      <td>0.080740</td>\n",
       "      <td>0.000215</td>\n",
       "      <td>5.925751e-02</td>\n",
       "      <td>0.000488</td>\n",
       "      <td>-40.460050</td>\n",
       "      <td>0.012679</td>\n",
       "    </tr>\n",
       "    <tr>\n",
       "      <td>134</td>\n",
       "      <td>134.0</td>\n",
       "      <td>454.0</td>\n",
       "      <td>S</td>\n",
       "      <td>0.8</td>\n",
       "      <td>NaN</td>\n",
       "      <td>NaN</td>\n",
       "      <td>1.0</td>\n",
       "      <td>3.022893</td>\n",
       "      <td>1.643838e-02</td>\n",
       "      <td>0.084727</td>\n",
       "      <td>0.000099</td>\n",
       "      <td>5.886546e-02</td>\n",
       "      <td>0.000224</td>\n",
       "      <td>-27.972588</td>\n",
       "      <td>0.008388</td>\n",
       "    </tr>\n",
       "    <tr>\n",
       "      <td>136</td>\n",
       "      <td>136.0</td>\n",
       "      <td>455.0</td>\n",
       "      <td>S</td>\n",
       "      <td>0.8</td>\n",
       "      <td>3.125829</td>\n",
       "      <td>1.331822e+19</td>\n",
       "      <td>0.0</td>\n",
       "      <td>NaN</td>\n",
       "      <td>NaN</td>\n",
       "      <td>NaN</td>\n",
       "      <td>NaN</td>\n",
       "      <td>NaN</td>\n",
       "      <td>NaN</td>\n",
       "      <td>NaN</td>\n",
       "      <td>NaN</td>\n",
       "    </tr>\n",
       "  </tbody>\n",
       "</table>\n",
       "<p>66 rows × 15 columns</p>\n",
       "</div>"
      ],
      "text/plain": [
       "     Unnamed: 0   shot probe    B   ts_temp       ts_dens  fit_success_fl  \\\n",
       "0           0.0   22.0     S  0.5  0.328979  2.925608e+19             1.0   \n",
       "2           2.0   24.0     S  0.5  0.319234  2.442321e+19             0.0   \n",
       "4           4.0   25.0     S  0.5  0.330994  2.637601e+19             1.0   \n",
       "6           6.0   26.0     S  0.5  0.356140  3.130804e+19             0.0   \n",
       "8           8.0   27.0     S  0.5  0.340792  2.783332e+19             0.0   \n",
       "..          ...    ...   ...  ...       ...           ...             ...   \n",
       "126       126.0  339.0     S  1.2  4.023214  1.771685e+19             1.0   \n",
       "130       130.0  436.0     S  1.5  5.379086  1.118215e+20             0.0   \n",
       "132       132.0  453.0     S  0.8       NaN           NaN             1.0   \n",
       "134       134.0  454.0     S  0.8       NaN           NaN             1.0   \n",
       "136       136.0  455.0     S  0.8  3.125829  1.331822e+19             0.0   \n",
       "\n",
       "              temp        d_temp       isat        d_isat             a  \\\n",
       "0         0.938039  2.860422e-02   0.027699      0.000089  2.173877e-02   \n",
       "2              NaN           NaN        NaN           NaN           NaN   \n",
       "4    682151.979440  1.323535e+08  59.601764  11556.011968  4.217276e-20   \n",
       "6              NaN           NaN        NaN           NaN           NaN   \n",
       "8              NaN           NaN        NaN           NaN           NaN   \n",
       "..             ...           ...        ...           ...           ...   \n",
       "126       5.426847  1.960196e-02   0.153816      0.000302  3.277288e-02   \n",
       "130            NaN           NaN        NaN           NaN           NaN   \n",
       "132       3.972853  3.046450e-02   0.080740      0.000215  5.925751e-02   \n",
       "134       3.022893  1.643838e-02   0.084727      0.000099  5.886546e-02   \n",
       "136            NaN           NaN        NaN           NaN           NaN   \n",
       "\n",
       "          d_a        v_f      d_v_f  \n",
       "0    0.000483  -7.131685   0.015998  \n",
       "2         NaN        NaN        NaN  \n",
       "4    0.084520  52.902013  18.905666  \n",
       "6         NaN        NaN        NaN  \n",
       "8         NaN        NaN        NaN  \n",
       "..        ...        ...        ...  \n",
       "126  0.000492 -40.557930   0.006210  \n",
       "130       NaN        NaN        NaN  \n",
       "132  0.000488 -40.460050   0.012679  \n",
       "134  0.000224 -27.972588   0.008388  \n",
       "136       NaN        NaN        NaN  \n",
       "\n",
       "[66 rows x 15 columns]"
      ]
     },
     "execution_count": 10,
     "metadata": {},
     "output_type": "execute_result"
    }
   ],
   "source": [
    "# s_df = fit_df.where(fit_df.probe == 'S').dropna()\n",
    "s_df = fit_df.where(fit_df.probe == 'S').dropna(how='all')#.drop(columns='probe')\n",
    "s_df"
   ]
  },
  {
   "cell_type": "code",
   "execution_count": 8,
   "metadata": {},
   "outputs": [
    {
     "data": {
      "text/html": [
       "<div>\n",
       "<style scoped>\n",
       "    .dataframe tbody tr th:only-of-type {\n",
       "        vertical-align: middle;\n",
       "    }\n",
       "\n",
       "    .dataframe tbody tr th {\n",
       "        vertical-align: top;\n",
       "    }\n",
       "\n",
       "    .dataframe thead th {\n",
       "        text-align: right;\n",
       "    }\n",
       "</style>\n",
       "<table border=\"1\" class=\"dataframe\">\n",
       "  <thead>\n",
       "    <tr style=\"text-align: right;\">\n",
       "      <th></th>\n",
       "      <th>Unnamed: 0</th>\n",
       "      <th>shot</th>\n",
       "      <th>probe</th>\n",
       "      <th>B</th>\n",
       "      <th>ts_temp</th>\n",
       "      <th>ts_dens</th>\n",
       "      <th>fit_success_fl</th>\n",
       "      <th>temp</th>\n",
       "      <th>d_temp</th>\n",
       "      <th>isat</th>\n",
       "      <th>d_isat</th>\n",
       "      <th>a</th>\n",
       "      <th>d_a</th>\n",
       "      <th>v_f</th>\n",
       "      <th>d_v_f</th>\n",
       "    </tr>\n",
       "  </thead>\n",
       "  <tbody>\n",
       "    <tr>\n",
       "      <td>1</td>\n",
       "      <td>1.0</td>\n",
       "      <td>22.0</td>\n",
       "      <td>L</td>\n",
       "      <td>0.5</td>\n",
       "      <td>0.328979</td>\n",
       "      <td>2.925608e+19</td>\n",
       "      <td>0.0</td>\n",
       "      <td>NaN</td>\n",
       "      <td>NaN</td>\n",
       "      <td>NaN</td>\n",
       "      <td>NaN</td>\n",
       "      <td>NaN</td>\n",
       "      <td>NaN</td>\n",
       "      <td>NaN</td>\n",
       "      <td>NaN</td>\n",
       "    </tr>\n",
       "    <tr>\n",
       "      <td>3</td>\n",
       "      <td>3.0</td>\n",
       "      <td>24.0</td>\n",
       "      <td>L</td>\n",
       "      <td>0.5</td>\n",
       "      <td>0.319234</td>\n",
       "      <td>2.442321e+19</td>\n",
       "      <td>0.0</td>\n",
       "      <td>NaN</td>\n",
       "      <td>NaN</td>\n",
       "      <td>NaN</td>\n",
       "      <td>NaN</td>\n",
       "      <td>NaN</td>\n",
       "      <td>NaN</td>\n",
       "      <td>NaN</td>\n",
       "      <td>NaN</td>\n",
       "    </tr>\n",
       "    <tr>\n",
       "      <td>5</td>\n",
       "      <td>5.0</td>\n",
       "      <td>25.0</td>\n",
       "      <td>L</td>\n",
       "      <td>0.5</td>\n",
       "      <td>0.330994</td>\n",
       "      <td>2.637601e+19</td>\n",
       "      <td>1.0</td>\n",
       "      <td>10.054462</td>\n",
       "      <td>1.151776</td>\n",
       "      <td>0.000186</td>\n",
       "      <td>0.000047</td>\n",
       "      <td>5.014608</td>\n",
       "      <td>0.901783</td>\n",
       "      <td>-30.908799</td>\n",
       "      <td>0.382557</td>\n",
       "    </tr>\n",
       "    <tr>\n",
       "      <td>7</td>\n",
       "      <td>7.0</td>\n",
       "      <td>26.0</td>\n",
       "      <td>L</td>\n",
       "      <td>0.5</td>\n",
       "      <td>0.356140</td>\n",
       "      <td>3.130804e+19</td>\n",
       "      <td>0.0</td>\n",
       "      <td>NaN</td>\n",
       "      <td>NaN</td>\n",
       "      <td>NaN</td>\n",
       "      <td>NaN</td>\n",
       "      <td>NaN</td>\n",
       "      <td>NaN</td>\n",
       "      <td>NaN</td>\n",
       "      <td>NaN</td>\n",
       "    </tr>\n",
       "    <tr>\n",
       "      <td>9</td>\n",
       "      <td>9.0</td>\n",
       "      <td>27.0</td>\n",
       "      <td>L</td>\n",
       "      <td>0.5</td>\n",
       "      <td>0.340792</td>\n",
       "      <td>2.783332e+19</td>\n",
       "      <td>0.0</td>\n",
       "      <td>NaN</td>\n",
       "      <td>NaN</td>\n",
       "      <td>NaN</td>\n",
       "      <td>NaN</td>\n",
       "      <td>NaN</td>\n",
       "      <td>NaN</td>\n",
       "      <td>NaN</td>\n",
       "      <td>NaN</td>\n",
       "    </tr>\n",
       "    <tr>\n",
       "      <td>...</td>\n",
       "      <td>...</td>\n",
       "      <td>...</td>\n",
       "      <td>...</td>\n",
       "      <td>...</td>\n",
       "      <td>...</td>\n",
       "      <td>...</td>\n",
       "      <td>...</td>\n",
       "      <td>...</td>\n",
       "      <td>...</td>\n",
       "      <td>...</td>\n",
       "      <td>...</td>\n",
       "      <td>...</td>\n",
       "      <td>...</td>\n",
       "      <td>...</td>\n",
       "      <td>...</td>\n",
       "    </tr>\n",
       "    <tr>\n",
       "      <td>127</td>\n",
       "      <td>127.0</td>\n",
       "      <td>339.0</td>\n",
       "      <td>L</td>\n",
       "      <td>1.2</td>\n",
       "      <td>4.023214</td>\n",
       "      <td>1.771685e+19</td>\n",
       "      <td>1.0</td>\n",
       "      <td>2.859447</td>\n",
       "      <td>0.021696</td>\n",
       "      <td>0.049403</td>\n",
       "      <td>0.000085</td>\n",
       "      <td>0.019290</td>\n",
       "      <td>0.000228</td>\n",
       "      <td>-24.922060</td>\n",
       "      <td>0.011717</td>\n",
       "    </tr>\n",
       "    <tr>\n",
       "      <td>131</td>\n",
       "      <td>131.0</td>\n",
       "      <td>436.0</td>\n",
       "      <td>L</td>\n",
       "      <td>1.5</td>\n",
       "      <td>5.379086</td>\n",
       "      <td>1.118215e+20</td>\n",
       "      <td>0.0</td>\n",
       "      <td>NaN</td>\n",
       "      <td>NaN</td>\n",
       "      <td>NaN</td>\n",
       "      <td>NaN</td>\n",
       "      <td>NaN</td>\n",
       "      <td>NaN</td>\n",
       "      <td>NaN</td>\n",
       "      <td>NaN</td>\n",
       "    </tr>\n",
       "    <tr>\n",
       "      <td>133</td>\n",
       "      <td>133.0</td>\n",
       "      <td>453.0</td>\n",
       "      <td>L</td>\n",
       "      <td>0.8</td>\n",
       "      <td>NaN</td>\n",
       "      <td>NaN</td>\n",
       "      <td>1.0</td>\n",
       "      <td>3.145238</td>\n",
       "      <td>0.093417</td>\n",
       "      <td>0.007193</td>\n",
       "      <td>0.000061</td>\n",
       "      <td>0.018165</td>\n",
       "      <td>0.001129</td>\n",
       "      <td>-25.154440</td>\n",
       "      <td>0.039320</td>\n",
       "    </tr>\n",
       "    <tr>\n",
       "      <td>135</td>\n",
       "      <td>135.0</td>\n",
       "      <td>454.0</td>\n",
       "      <td>L</td>\n",
       "      <td>0.8</td>\n",
       "      <td>NaN</td>\n",
       "      <td>NaN</td>\n",
       "      <td>1.0</td>\n",
       "      <td>1.805120</td>\n",
       "      <td>0.089369</td>\n",
       "      <td>0.009771</td>\n",
       "      <td>0.000072</td>\n",
       "      <td>0.014216</td>\n",
       "      <td>0.000685</td>\n",
       "      <td>-11.718765</td>\n",
       "      <td>0.048979</td>\n",
       "    </tr>\n",
       "    <tr>\n",
       "      <td>137</td>\n",
       "      <td>137.0</td>\n",
       "      <td>455.0</td>\n",
       "      <td>L</td>\n",
       "      <td>0.8</td>\n",
       "      <td>3.125829</td>\n",
       "      <td>1.331822e+19</td>\n",
       "      <td>1.0</td>\n",
       "      <td>1.822606</td>\n",
       "      <td>0.086083</td>\n",
       "      <td>0.008789</td>\n",
       "      <td>0.000063</td>\n",
       "      <td>0.014631</td>\n",
       "      <td>0.000677</td>\n",
       "      <td>-11.546887</td>\n",
       "      <td>0.045920</td>\n",
       "    </tr>\n",
       "  </tbody>\n",
       "</table>\n",
       "<p>66 rows × 15 columns</p>\n",
       "</div>"
      ],
      "text/plain": [
       "     Unnamed: 0   shot probe    B   ts_temp       ts_dens  fit_success_fl  \\\n",
       "1           1.0   22.0     L  0.5  0.328979  2.925608e+19             0.0   \n",
       "3           3.0   24.0     L  0.5  0.319234  2.442321e+19             0.0   \n",
       "5           5.0   25.0     L  0.5  0.330994  2.637601e+19             1.0   \n",
       "7           7.0   26.0     L  0.5  0.356140  3.130804e+19             0.0   \n",
       "9           9.0   27.0     L  0.5  0.340792  2.783332e+19             0.0   \n",
       "..          ...    ...   ...  ...       ...           ...             ...   \n",
       "127       127.0  339.0     L  1.2  4.023214  1.771685e+19             1.0   \n",
       "131       131.0  436.0     L  1.5  5.379086  1.118215e+20             0.0   \n",
       "133       133.0  453.0     L  0.8       NaN           NaN             1.0   \n",
       "135       135.0  454.0     L  0.8       NaN           NaN             1.0   \n",
       "137       137.0  455.0     L  0.8  3.125829  1.331822e+19             1.0   \n",
       "\n",
       "          temp    d_temp      isat    d_isat         a       d_a        v_f  \\\n",
       "1          NaN       NaN       NaN       NaN       NaN       NaN        NaN   \n",
       "3          NaN       NaN       NaN       NaN       NaN       NaN        NaN   \n",
       "5    10.054462  1.151776  0.000186  0.000047  5.014608  0.901783 -30.908799   \n",
       "7          NaN       NaN       NaN       NaN       NaN       NaN        NaN   \n",
       "9          NaN       NaN       NaN       NaN       NaN       NaN        NaN   \n",
       "..         ...       ...       ...       ...       ...       ...        ...   \n",
       "127   2.859447  0.021696  0.049403  0.000085  0.019290  0.000228 -24.922060   \n",
       "131        NaN       NaN       NaN       NaN       NaN       NaN        NaN   \n",
       "133   3.145238  0.093417  0.007193  0.000061  0.018165  0.001129 -25.154440   \n",
       "135   1.805120  0.089369  0.009771  0.000072  0.014216  0.000685 -11.718765   \n",
       "137   1.822606  0.086083  0.008789  0.000063  0.014631  0.000677 -11.546887   \n",
       "\n",
       "        d_v_f  \n",
       "1         NaN  \n",
       "3         NaN  \n",
       "5    0.382557  \n",
       "7         NaN  \n",
       "9         NaN  \n",
       "..        ...  \n",
       "127  0.011717  \n",
       "131       NaN  \n",
       "133  0.039320  \n",
       "135  0.048979  \n",
       "137  0.045920  \n",
       "\n",
       "[66 rows x 15 columns]"
      ]
     },
     "execution_count": 8,
     "metadata": {},
     "output_type": "execute_result"
    }
   ],
   "source": [
    "l_df = fit_df.where(fit_df.probe == 'L').dropna(how='all')#.drop(columns='probe')\n",
    "l_df"
   ]
  },
  {
   "cell_type": "code",
   "execution_count": 11,
   "metadata": {},
   "outputs": [],
   "source": [
    "s_temp_fraction = s_df['ts_temp'] / s_df['temp']\n",
    "d_s_temp_fraction = s_temp_fraction * np.sqrt((0.05)**2 + (s_df['d_temp'] / s_df['temp'])**2)\n",
    "\n",
    "mag_grouped = s_df.groupby('B', as_index=False)\n",
    "mag_avg_df = mag_grouped.mean()\n",
    "# mag_avg_df = mag_avg_df.assign(ts_temp=l_df[['B', 'ts_temp']].dropna().groupby('B').mean())\n",
    "mag_std_df = mag_grouped.std()\n",
    "\n",
    "s_avg_frac = mag_avg_df['ts_temp'] / mag_avg_df['temp']\n",
    "s_B = mag_avg_df['B']\n",
    "d_s_avg_frac = s_avg_frac * np.sqrt((0.05)**2 + (mag_std_df['d_temp'] / mag_std_df['temp'])**2)\n",
    "\n",
    "plt.figure()\n",
    "plt.errorbar(s_df['B'], s_temp_fraction, yerr=d_s_temp_fraction, fmt='x')\n",
    "plt.errorbar(s_B, s_avg_frac, yerr=d_s_avg_frac)\n",
    "plt.axhline(y=1.0, color='k', linestyle='dashed', linewidth=0.5)\n",
    "plt.show()"
   ]
  },
  {
   "cell_type": "code",
   "execution_count": 12,
   "metadata": {},
   "outputs": [],
   "source": [
    "l_temp_fraction = l_df['ts_temp'] / l_df['temp']\n",
    "d_l_temp_fraction = l_temp_fraction * np.sqrt((0.05)**2 + (l_df['d_temp'] / l_df['temp'])**2)\n",
    "\n",
    "mag_grouped = l_df.groupby('B', as_index=False)\n",
    "mag_avg_df = mag_grouped.mean()\n",
    "# mag_avg_df = mag_avg_df.assign(ts_temp=l_df[['B', 'ts_temp']].dropna().groupby('B').mean())\n",
    "mag_std_df = mag_grouped.std()\n",
    "\n",
    "l_avg_frac = mag_avg_df['ts_temp'] / mag_avg_df['temp']\n",
    "l_B = mag_avg_df['B']\n",
    "d_l_avg_frac = l_avg_frac * np.sqrt((0.05)**2 + (mag_std_df['d_temp'] / mag_std_df['temp'])**2)\n",
    "\n",
    "plt.figure()\n",
    "plt.errorbar(l_df['B'], l_temp_fraction, yerr=d_l_temp_fraction, fmt='x')\n",
    "plt.errorbar(l_B, l_avg_frac, yerr=d_l_avg_frac)\n",
    "plt.axhline(y=1.0, color='k', linestyle='dashed', linewidth=0.5)\n",
    "plt.show()"
   ]
  },
  {
   "cell_type": "code",
   "execution_count": 12,
   "metadata": {},
   "outputs": [
    {
     "data": {
      "application/vnd.jupyter.widget-view+json": {
       "model_id": "",
       "version_major": 2,
       "version_minor": 0
      },
      "text/plain": [
       "Canvas(toolbar=Toolbar(toolitems=[('Home', 'Reset original view', 'home', 'home'), ('Back', 'Back to previous …"
      ]
     },
     "metadata": {},
     "output_type": "display_data"
    },
    {
     "data": {
      "text/plain": [
       "<matplotlib.legend.Legend at 0x7f12192ad2b0>"
      ]
     },
     "execution_count": 12,
     "metadata": {},
     "output_type": "execute_result"
    }
   ],
   "source": [
    "plt.figure()\n",
    "plt.errorbar(s_df['B'], s_temp_fraction, yerr=d_s_temp_fraction, fmt='x', label='S')\n",
    "plt.errorbar(l_df['B'], l_temp_fraction, yerr=d_l_temp_fraction, fmt='x', label='L')\n",
    "plt.errorbar(s_B, s_avg_frac, yerr=d_s_avg_frac, label='S', color='darkblue')\n",
    "plt.errorbar(l_B, l_avg_frac, yerr=d_l_avg_frac, label='L', color='orange')\n",
    "plt.axhline(y=1.0, color='k', linestyle='dashed', linewidth=0.5)\n",
    "plt.ylabel(r'$T_{TS}$ / $T_{P}$')\n",
    "plt.xlabel(r'$B$')\n",
    "plt.show()\n",
    "plt.title(r'Temperature measurements grouped by Magnetic field at $\\theta = 10^{\\circ}$')\n",
    "plt.legend()"
   ]
  },
  {
   "cell_type": "code",
   "execution_count": 13,
   "metadata": {},
   "outputs": [
    {
     "data": {
      "text/html": [
       "<div>\n",
       "<style scoped>\n",
       "    .dataframe tbody tr th:only-of-type {\n",
       "        vertical-align: middle;\n",
       "    }\n",
       "\n",
       "    .dataframe tbody tr th {\n",
       "        vertical-align: top;\n",
       "    }\n",
       "\n",
       "    .dataframe thead th {\n",
       "        text-align: right;\n",
       "    }\n",
       "</style>\n",
       "<table border=\"1\" class=\"dataframe\">\n",
       "  <thead>\n",
       "    <tr style=\"text-align: right;\">\n",
       "      <th></th>\n",
       "      <th>Unnamed: 0</th>\n",
       "      <th>shot</th>\n",
       "      <th>probe</th>\n",
       "      <th>B</th>\n",
       "      <th>ts_temp</th>\n",
       "      <th>ts_dens</th>\n",
       "      <th>fit_success_fl</th>\n",
       "      <th>temp</th>\n",
       "      <th>d_temp</th>\n",
       "      <th>isat</th>\n",
       "      <th>d_isat</th>\n",
       "      <th>a</th>\n",
       "      <th>d_a</th>\n",
       "      <th>v_f</th>\n",
       "      <th>d_v_f</th>\n",
       "    </tr>\n",
       "  </thead>\n",
       "  <tbody>\n",
       "    <tr>\n",
       "      <td>16</td>\n",
       "      <td>16.0</td>\n",
       "      <td>47.0</td>\n",
       "      <td>S</td>\n",
       "      <td>0.8</td>\n",
       "      <td>1.197945</td>\n",
       "      <td>2.438797e+20</td>\n",
       "      <td>1.0</td>\n",
       "      <td>2.247919</td>\n",
       "      <td>0.023888</td>\n",
       "      <td>0.264937</td>\n",
       "      <td>0.000551</td>\n",
       "      <td>0.018241</td>\n",
       "      <td>0.000218</td>\n",
       "      <td>-8.274396</td>\n",
       "      <td>0.011964</td>\n",
       "    </tr>\n",
       "    <tr>\n",
       "      <td>17</td>\n",
       "      <td>17.0</td>\n",
       "      <td>47.0</td>\n",
       "      <td>L</td>\n",
       "      <td>0.8</td>\n",
       "      <td>1.197945</td>\n",
       "      <td>2.438797e+20</td>\n",
       "      <td>0.0</td>\n",
       "      <td>NaN</td>\n",
       "      <td>NaN</td>\n",
       "      <td>NaN</td>\n",
       "      <td>NaN</td>\n",
       "      <td>NaN</td>\n",
       "      <td>NaN</td>\n",
       "      <td>NaN</td>\n",
       "      <td>NaN</td>\n",
       "    </tr>\n",
       "    <tr>\n",
       "      <td>18</td>\n",
       "      <td>18.0</td>\n",
       "      <td>58.0</td>\n",
       "      <td>B</td>\n",
       "      <td>0.8</td>\n",
       "      <td>1.191589</td>\n",
       "      <td>2.138598e+20</td>\n",
       "      <td>0.0</td>\n",
       "      <td>NaN</td>\n",
       "      <td>NaN</td>\n",
       "      <td>NaN</td>\n",
       "      <td>NaN</td>\n",
       "      <td>NaN</td>\n",
       "      <td>NaN</td>\n",
       "      <td>NaN</td>\n",
       "      <td>NaN</td>\n",
       "    </tr>\n",
       "    <tr>\n",
       "      <td>19</td>\n",
       "      <td>19.0</td>\n",
       "      <td>58.0</td>\n",
       "      <td>R</td>\n",
       "      <td>0.8</td>\n",
       "      <td>1.191589</td>\n",
       "      <td>2.138598e+20</td>\n",
       "      <td>1.0</td>\n",
       "      <td>0.988479</td>\n",
       "      <td>0.020276</td>\n",
       "      <td>0.004556</td>\n",
       "      <td>0.000009</td>\n",
       "      <td>0.032453</td>\n",
       "      <td>0.000480</td>\n",
       "      <td>-9.142898</td>\n",
       "      <td>0.012453</td>\n",
       "    </tr>\n",
       "    <tr>\n",
       "      <td>20</td>\n",
       "      <td>20.0</td>\n",
       "      <td>86.0</td>\n",
       "      <td>B</td>\n",
       "      <td>0.8</td>\n",
       "      <td>3.165614</td>\n",
       "      <td>1.388232e+19</td>\n",
       "      <td>1.0</td>\n",
       "      <td>6.546069</td>\n",
       "      <td>0.035057</td>\n",
       "      <td>0.080968</td>\n",
       "      <td>0.000143</td>\n",
       "      <td>0.039363</td>\n",
       "      <td>0.000332</td>\n",
       "      <td>-12.331105</td>\n",
       "      <td>0.016724</td>\n",
       "    </tr>\n",
       "    <tr>\n",
       "      <td>...</td>\n",
       "      <td>...</td>\n",
       "      <td>...</td>\n",
       "      <td>...</td>\n",
       "      <td>...</td>\n",
       "      <td>...</td>\n",
       "      <td>...</td>\n",
       "      <td>...</td>\n",
       "      <td>...</td>\n",
       "      <td>...</td>\n",
       "      <td>...</td>\n",
       "      <td>...</td>\n",
       "      <td>...</td>\n",
       "      <td>...</td>\n",
       "      <td>...</td>\n",
       "      <td>...</td>\n",
       "    </tr>\n",
       "    <tr>\n",
       "      <td>133</td>\n",
       "      <td>133.0</td>\n",
       "      <td>453.0</td>\n",
       "      <td>L</td>\n",
       "      <td>0.8</td>\n",
       "      <td>NaN</td>\n",
       "      <td>NaN</td>\n",
       "      <td>1.0</td>\n",
       "      <td>3.145238</td>\n",
       "      <td>0.093417</td>\n",
       "      <td>0.007193</td>\n",
       "      <td>0.000061</td>\n",
       "      <td>0.018165</td>\n",
       "      <td>0.001129</td>\n",
       "      <td>-25.154440</td>\n",
       "      <td>0.039320</td>\n",
       "    </tr>\n",
       "    <tr>\n",
       "      <td>134</td>\n",
       "      <td>134.0</td>\n",
       "      <td>454.0</td>\n",
       "      <td>S</td>\n",
       "      <td>0.8</td>\n",
       "      <td>NaN</td>\n",
       "      <td>NaN</td>\n",
       "      <td>1.0</td>\n",
       "      <td>3.022893</td>\n",
       "      <td>0.016438</td>\n",
       "      <td>0.084727</td>\n",
       "      <td>0.000099</td>\n",
       "      <td>0.058865</td>\n",
       "      <td>0.000224</td>\n",
       "      <td>-27.972588</td>\n",
       "      <td>0.008388</td>\n",
       "    </tr>\n",
       "    <tr>\n",
       "      <td>135</td>\n",
       "      <td>135.0</td>\n",
       "      <td>454.0</td>\n",
       "      <td>L</td>\n",
       "      <td>0.8</td>\n",
       "      <td>NaN</td>\n",
       "      <td>NaN</td>\n",
       "      <td>1.0</td>\n",
       "      <td>1.805120</td>\n",
       "      <td>0.089369</td>\n",
       "      <td>0.009771</td>\n",
       "      <td>0.000072</td>\n",
       "      <td>0.014216</td>\n",
       "      <td>0.000685</td>\n",
       "      <td>-11.718765</td>\n",
       "      <td>0.048979</td>\n",
       "    </tr>\n",
       "    <tr>\n",
       "      <td>136</td>\n",
       "      <td>136.0</td>\n",
       "      <td>455.0</td>\n",
       "      <td>S</td>\n",
       "      <td>0.8</td>\n",
       "      <td>3.125829</td>\n",
       "      <td>1.331822e+19</td>\n",
       "      <td>0.0</td>\n",
       "      <td>NaN</td>\n",
       "      <td>NaN</td>\n",
       "      <td>NaN</td>\n",
       "      <td>NaN</td>\n",
       "      <td>NaN</td>\n",
       "      <td>NaN</td>\n",
       "      <td>NaN</td>\n",
       "      <td>NaN</td>\n",
       "    </tr>\n",
       "    <tr>\n",
       "      <td>137</td>\n",
       "      <td>137.0</td>\n",
       "      <td>455.0</td>\n",
       "      <td>L</td>\n",
       "      <td>0.8</td>\n",
       "      <td>3.125829</td>\n",
       "      <td>1.331822e+19</td>\n",
       "      <td>1.0</td>\n",
       "      <td>1.822606</td>\n",
       "      <td>0.086083</td>\n",
       "      <td>0.008789</td>\n",
       "      <td>0.000063</td>\n",
       "      <td>0.014631</td>\n",
       "      <td>0.000677</td>\n",
       "      <td>-11.546887</td>\n",
       "      <td>0.045920</td>\n",
       "    </tr>\n",
       "  </tbody>\n",
       "</table>\n",
       "<p>88 rows × 15 columns</p>\n",
       "</div>"
      ],
      "text/plain": [
       "     Unnamed: 0   shot probe    B   ts_temp       ts_dens  fit_success_fl  \\\n",
       "16         16.0   47.0     S  0.8  1.197945  2.438797e+20             1.0   \n",
       "17         17.0   47.0     L  0.8  1.197945  2.438797e+20             0.0   \n",
       "18         18.0   58.0     B  0.8  1.191589  2.138598e+20             0.0   \n",
       "19         19.0   58.0     R  0.8  1.191589  2.138598e+20             1.0   \n",
       "20         20.0   86.0     B  0.8  3.165614  1.388232e+19             1.0   \n",
       "..          ...    ...   ...  ...       ...           ...             ...   \n",
       "133       133.0  453.0     L  0.8       NaN           NaN             1.0   \n",
       "134       134.0  454.0     S  0.8       NaN           NaN             1.0   \n",
       "135       135.0  454.0     L  0.8       NaN           NaN             1.0   \n",
       "136       136.0  455.0     S  0.8  3.125829  1.331822e+19             0.0   \n",
       "137       137.0  455.0     L  0.8  3.125829  1.331822e+19             1.0   \n",
       "\n",
       "         temp    d_temp      isat    d_isat         a       d_a        v_f  \\\n",
       "16   2.247919  0.023888  0.264937  0.000551  0.018241  0.000218  -8.274396   \n",
       "17        NaN       NaN       NaN       NaN       NaN       NaN        NaN   \n",
       "18        NaN       NaN       NaN       NaN       NaN       NaN        NaN   \n",
       "19   0.988479  0.020276  0.004556  0.000009  0.032453  0.000480  -9.142898   \n",
       "20   6.546069  0.035057  0.080968  0.000143  0.039363  0.000332 -12.331105   \n",
       "..        ...       ...       ...       ...       ...       ...        ...   \n",
       "133  3.145238  0.093417  0.007193  0.000061  0.018165  0.001129 -25.154440   \n",
       "134  3.022893  0.016438  0.084727  0.000099  0.058865  0.000224 -27.972588   \n",
       "135  1.805120  0.089369  0.009771  0.000072  0.014216  0.000685 -11.718765   \n",
       "136       NaN       NaN       NaN       NaN       NaN       NaN        NaN   \n",
       "137  1.822606  0.086083  0.008789  0.000063  0.014631  0.000677 -11.546887   \n",
       "\n",
       "        d_v_f  \n",
       "16   0.011964  \n",
       "17        NaN  \n",
       "18        NaN  \n",
       "19   0.012453  \n",
       "20   0.016724  \n",
       "..        ...  \n",
       "133  0.039320  \n",
       "134  0.008388  \n",
       "135  0.048979  \n",
       "136       NaN  \n",
       "137  0.045920  \n",
       "\n",
       "[88 rows x 15 columns]"
      ]
     },
     "execution_count": 13,
     "metadata": {},
     "output_type": "execute_result"
    }
   ],
   "source": [
    "singlemag_df = fit_df.where(fit_df.B == 0.8).dropna(how='all')\n",
    "singlemag_df"
   ]
  },
  {
   "cell_type": "code",
   "execution_count": 14,
   "metadata": {},
   "outputs": [
    {
     "data": {
      "application/vnd.jupyter.widget-view+json": {
       "model_id": "",
       "version_major": 2,
       "version_minor": 0
      },
      "text/plain": [
       "Canvas(toolbar=Toolbar(toolitems=[('Home', 'Reset original view', 'home', 'home'), ('Back', 'Back to previous …"
      ]
     },
     "metadata": {},
     "output_type": "display_data"
    },
    {
     "data": {
      "text/plain": [
       "(0.5059630099801777, 8.053814626765078)"
      ]
     },
     "execution_count": 14,
     "metadata": {},
     "output_type": "execute_result"
    }
   ],
   "source": [
    "fig, ax = plt.subplots()\n",
    "\n",
    "colors = np.where(singlemag_df[\"probe\"]=='S','r','-')\n",
    "colors[singlemag_df[\"probe\"]=='L'] = 'b'\n",
    "colors[singlemag_df[\"probe\"]=='B'] = 'y'\n",
    "colors[singlemag_df[\"probe\"]=='R'] = 'g'\n",
    "# print(colors)\n",
    "\n",
    "\n",
    "singlemag_df.plot.scatter(ax=ax, x='ts_temp', y='temp', marker='x', c=colors)\n",
    "lims = [\n",
    "    np.min([ax.get_xlim(), ax.get_ylim()]),  # min of both axes\n",
    "    np.max([ax.get_xlim(), ax.get_ylim()]),  # max of both axes\n",
    "]\n",
    "\n",
    "# now plot both limits against eachother\n",
    "ax.plot(lims, lims, 'k', zorder=0, linewidth=0.75, linestyle='dotted')\n",
    "ax.set_aspect('equal')\n",
    "ax.set_xlim(lims)\n",
    "ax.set_ylim(lims)"
   ]
  },
  {
   "cell_type": "code",
   "execution_count": 14,
   "metadata": {},
   "outputs": [
    {
     "name": "stdout",
     "output_type": "stream",
     "text": [
      "['C0' 'C1' 'C0' 'C1' 'C0' 'C1' 'C0' 'C1' 'C0' 'C1' 'C0' 'C1' 'C0' 'C1'\n",
      " 'C0' 'C1' 'C0' 'C1' 'k' 'r' 'k' 'r' 'C0' 'C1' 'C0' 'C1' 'C0' 'C1' 'C0'\n",
      " 'C1' 'C0' 'C1' 'C0' 'C1' 'C0' 'C1' 'C0' 'C1' 'C0' 'C1' 'C0' 'C1' 'C0'\n",
      " 'C1' 'C0' 'C1' 'C0' 'C1' 'C0' 'C1' 'C0' 'C1' 'C0' 'C1' 'C0' 'C1' 'C0'\n",
      " 'C1' 'C0' 'C1' 'C0' 'C1' 'C0' 'C1' 'C0' 'C1' 'C0' 'C1' 'C0' 'C1' 'C0'\n",
      " 'C1' 'C0' 'C1' 'C0' 'C1' 'C0' 'C1' 'C0' 'C1' 'C0' 'C1' 'C0' 'C1' 'C0'\n",
      " 'C1' 'C0' 'C1' 'C0' 'C1' 'C0' 'C1' 'C0' 'C1' 'C0' 'C1' 'C0' 'C1' 'C0'\n",
      " 'C1' 'C0' 'C1' 'C0' 'C1' 'C0' 'C1' 'C0' 'C1' 'C0' 'C1' 'C0' 'C1' 'C0'\n",
      " 'C1' 'C0' 'C1' 'C0' 'C1' 'C0' 'C1' 'C0' 'C1' 'C0' 'C1' 'C0' 'C1' 'C0'\n",
      " 'C1' 'k' 'r' 'C0' 'C1' 'C0' 'C1' 'C0' 'C1' 'C0' 'C1']\n",
      "[-34106.92327598158, 716259.5525742897]\n"
     ]
    },
    {
     "data": {
      "text/plain": [
       "(0, 10)"
      ]
     },
     "execution_count": 14,
     "metadata": {},
     "output_type": "execute_result"
    }
   ],
   "source": [
    "fig, ax = plt.subplots()\n",
    "\n",
    "colors = np.where(fit_df[\"probe\"]=='S','C0','-')\n",
    "colors[fit_df[\"probe\"]=='L'] = 'C1'\n",
    "colors[fit_df[\"probe\"]=='B'] = 'k'\n",
    "colors[fit_df[\"probe\"]=='R'] = 'r'\n",
    "print(colors)\n",
    "\n",
    "\n",
    "fit_df.plot.scatter(ax=ax, x='ts_temp', y='temp', marker='x', c=colors)\n",
    "lims = [\n",
    "    np.min([ax.get_xlim(), ax.get_ylim()]),  # min of both axes\n",
    "    np.max([ax.get_xlim(), ax.get_ylim()]),  # max of both axes\n",
    "]\n",
    "print(lims)\n",
    "\n",
    "# now plot both limits against eachother\n",
    "ax.plot(lims, lims, 'k', zorder=0, linewidth=0.75, linestyle='dotted')\n",
    "ax.set_aspect('equal')\n",
    "ax.set_xlim(0,10)\n",
    "ax.set_ylim(0,10)"
   ]
  },
  {
   "cell_type": "code",
   "execution_count": 8,
   "metadata": {},
   "outputs": [
    {
     "name": "stdout",
     "output_type": "stream",
     "text": [
      "['C0' 'C1'] [0 1 0 1 0 1 0 1 0 1 0 1 0 1]\n",
      "['C0' 'C1' 'g' 'r'] [0 1 3 2 3 2 0 1 0 1 0 1 0 1 0 1 0 1 0 1 0 1 0 1 0 1 0 1 0 1 0 1 0 1 0 1 0\n",
      " 1 0 1 0 1 0 1 0 1 0 1 0 1 0 1 0 1 0 1 0 1 0 1 0 1 0 1 0 1 0 1 0 1 0 1 0 1\n",
      " 0 1 0 1 0 1 0 1 0 1 0 1 0 1]\n",
      "['C0' 'C1' 'g' 'r'] [0 1 0 1 0 1 0 1 0 1 0 1 0 1 0 1 0 1 0 1 0 1 0 1 0 1 0 1 0 1 3 2]\n"
     ]
    },
    {
     "name": "stderr",
     "output_type": "stream",
     "text": [
      "/home/jleland/Coding/Environments/python3.6/lib/python3.6/site-packages/matplotlib/colors.py:933: UserWarning: Warning: converting a masked element to nan.\n",
      "  dtype = np.min_scalar_type(value)\n",
      "/home/jleland/Coding/Environments/python3.6/lib/python3.6/site-packages/numpy/ma/core.py:713: UserWarning: Warning: converting a masked element to nan.\n",
      "  data = np.array(a, copy=False, subok=subok)\n",
      "/home/jleland/Coding/Environments/python3.6/lib/python3.6/site-packages/matplotlib/ticker.py:589: UserWarning: Warning: converting a masked element to nan.\n",
      "  s = self.format % xp\n"
     ]
    }
   ],
   "source": [
    "fig, axes = plt.subplots(1, 3)\n",
    "\n",
    "for i, b_field in enumerate([0.5, 0.8, 1.2]):\n",
    "    ax = axes[i]\n",
    "    df = fit_df.where(fit_df.B == b_field).dropna(how='all')\n",
    "\n",
    "    colors = np.where(df[\"probe\"]=='S','C0','-')\n",
    "    colors[df[\"probe\"]=='L'] = 'C1'\n",
    "    colors[df[\"probe\"]=='B'] = 'r'\n",
    "    colors[df[\"probe\"]=='R'] = 'g'\n",
    "\n",
    "    labels, index = np.unique(colors, return_inverse=True)\n",
    "    print(labels, index)\n",
    "    labels = ['S', 'L', 'B', 'R']\n",
    "    \n",
    "    sc = ax.scatter(x='ts_temp', y='temp', data=df, marker='x', c=index)\n",
    "    lims = [\n",
    "        0,   # min of both axes\n",
    "        10,  # max of both axes\n",
    "    ]\n",
    "    lims_linspace = np.linspace(0, 10, 100)\n",
    "    \n",
    "    sl_fitter = fts.StraightLineFitter()\n",
    "    \n",
    "    df = df.dropna()\n",
    "    fit_data = sl_fitter.fit(df['ts_temp'], df['temp'], sigma=df['d_temp'])\n",
    "\n",
    "    # now plot both limits against eachother\n",
    "    ax.plot(lims, lims, 'k', zorder=0, linewidth=0.75, linestyle='dotted')\n",
    "    ax.plot(lims_linspace, fit_data.fit_function(lims_linspace), color='red', linestyle='dashed', label='fit')\n",
    "    ax.set_aspect('equal')\n",
    "    ax.set_xlim(0,10)\n",
    "    ax.set_ylim(0,10)\n",
    "    ax.set_title(f'B = {b_field}T')\n",
    "    ax.legend(sc.legend_elements()[0], labels)\n",
    "#     if i == 0:\n",
    "#         ax.legend({'C0': 'S', 'C1': 'L', 'r': 'B', 'g': 'R'})"
   ]
  },
  {
   "cell_type": "code",
   "execution_count": 21,
   "metadata": {},
   "outputs": [
    {
     "name": "stderr",
     "output_type": "stream",
     "text": [
      "/home/jleland/Coding/Environments/python3.6/lib/python3.6/site-packages/xarray/core/nanops.py:140: RuntimeWarning: Mean of empty slice\n",
      "  return np.nanmean(a, axis=axis, dtype=dtype)\n",
      "/home/jleland/Coding/Environments/python3.6/lib/python3.6/site-packages/xarray/core/nanops.py:140: RuntimeWarning: Mean of empty slice\n",
      "  return np.nanmean(a, axis=axis, dtype=dtype)\n",
      "/home/jleland/Coding/Environments/python3.6/lib/python3.6/site-packages/xarray/core/nanops.py:140: RuntimeWarning: Mean of empty slice\n",
      "  return np.nanmean(a, axis=axis, dtype=dtype)\n",
      "/home/jleland/Coding/Environments/python3.6/lib/python3.6/site-packages/xarray/core/nanops.py:140: RuntimeWarning: Mean of empty slice\n",
      "  return np.nanmean(a, axis=axis, dtype=dtype)\n",
      "/home/jleland/Coding/Environments/python3.6/lib/python3.6/site-packages/xarray/core/nanops.py:140: RuntimeWarning: Mean of empty slice\n",
      "  return np.nanmean(a, axis=axis, dtype=dtype)\n"
     ]
    }
   ],
   "source": [
    "for shot in fit_df.where(fit_df['fit_success_fl']).dropna()['shot'].values[0:5]:\n",
    "    # Get the relevant rows from each database\n",
    "    iv_row = fit_df.where(fit_df.shot == shot).dropna(how='all')\n",
    "    ds_info = ds_1_2T.sel(shot_number=shot).mean('direction')\n",
    "#     print(ds_info)\n",
    "    \n",
    "    fig, ax = plt.subplots(1, 2, sharex=True)\n",
    "    for i, probe in enumerate(ds_info['probe'].values):\n",
    "        ax[i//2].set_title(probe)\n",
    "\n",
    "        ds = ds_info.sel(probe=probe)\n",
    "        if len(ds.where(np.isfinite(ds.voltage), drop=True)['voltage']) == 0:\n",
    "            continue\n",
    "        ds.set_coords('voltage')['current'].plot.line(ax=ax[i//2], x='voltage')\n",
    "        ax[i//2].set_ylabel('I (A)')\n",
    "        ax[i//2].set_xlabel(r'$V_P$ (V)')\n",
    "\n",
    "    # plt.tight_layout()\n",
    "    plt.show()\n",
    "    \n",
    "#     ax.plot(iv_row[''])"
   ]
  },
  {
   "cell_type": "markdown",
   "metadata": {},
   "source": [
    "## Finding what happened to the 1.5T shots"
   ]
  },
  {
   "cell_type": "code",
   "execution_count": 17,
   "metadata": {},
   "outputs": [
    {
     "name": "stderr",
     "output_type": "stream",
     "text": [
      "/home/jleland/Coding/Environments/python3.6/lib/python3.6/site-packages/xarray/core/nputils.py:223: RuntimeWarning: All-NaN slice encountered\n",
      "  result = getattr(npmodule, name)(values, axis=axis, **kwargs)\n"
     ]
    },
    {
     "data": {
      "application/vnd.jupyter.widget-view+json": {
       "model_id": "",
       "version_major": 2,
       "version_minor": 0
      },
      "text/plain": [
       "Canvas(toolbar=Toolbar(toolitems=[('Home', 'Reset original view', 'home', 'home'), ('Back', 'Back to previous …"
      ]
     },
     "metadata": {},
     "output_type": "display_data"
    }
   ],
   "source": [
    "dsβ = all_ds.where(np.logical_and(all_ds.shot_b_field < 1.51, all_ds.shot_b_field > 1.49), drop=True).max('ts_radial_pos')\n",
    "dsβ = dsβ.set_coords('shot_source_current')\n",
    "\n",
    "fig, ax = plt.subplots(2, 2, sharex=True)\n",
    "dsβ['ts_temp_max'].plot(x='shot_source_current', marker='+', linestyle='none', ax=ax[0][0])\n",
    "dsβ['ts_dens_max'].plot(x='shot_source_current', marker='+', linestyle='none', ax=ax[1][0])\n",
    "dsβ['shot_hydrogen_gf'].plot(x='shot_source_current', marker='+', linestyle='none', ax=ax[0][1], label='H')\n",
    "dsβ['shot_helium_gf'].plot(x='shot_source_current', marker='+', linestyle='none', ax=ax[0][1], label='He')\n",
    "ax[0][1].legend()\n",
    "dsβ['shot_source_current'].plot(x='shot_source_current', linestyle='none', marker='+', ax=ax[1][1])\n",
    "\n",
    "plt.show()"
   ]
  },
  {
   "cell_type": "code",
   "execution_count": 18,
   "metadata": {},
   "outputs": [],
   "source": [
    "plt.close('all')"
   ]
  },
  {
   "cell_type": "code",
   "execution_count": 19,
   "metadata": {},
   "outputs": [
    {
     "data": {
      "application/vnd.jupyter.widget-view+json": {
       "model_id": "",
       "version_major": 2,
       "version_minor": 0
      },
      "text/plain": [
       "Canvas(toolbar=Toolbar(toolitems=[('Home', 'Reset original view', 'home', 'home'), ('Back', 'Back to previous …"
      ]
     },
     "metadata": {},
     "output_type": "display_data"
    }
   ],
   "source": [
    "fig, ax = plt.subplots(2, 2, sharex=True)\n",
    "dsβ['ts_temp_max'].plot(x='shot_number', marker='+', linestyle='none', ax=ax[0][0])\n",
    "dsβ['ts_dens_max'].plot(x='shot_number', marker='+', linestyle='none', ax=ax[1][0])\n",
    "dsβ['shot_hydrogen_gf'].plot(x='shot_number', marker='+', linestyle='none', ax=ax[0][1], label='H')\n",
    "dsβ['shot_helium_gf'].plot(x='shot_number', marker='+', linestyle='none', ax=ax[0][1], label='He')\n",
    "ax[0][1].legend()\n",
    "dsβ['shot_source_current'].plot(x='shot_number', linestyle='none', marker='+', ax=ax[1][1])\n",
    "\n",
    "plt.show()"
   ]
  },
  {
   "cell_type": "code",
   "execution_count": 20,
   "metadata": {},
   "outputs": [
    {
     "data": {
      "application/vnd.jupyter.widget-view+json": {
       "model_id": "",
       "version_major": 2,
       "version_minor": 0
      },
      "text/plain": [
       "Canvas(toolbar=Toolbar(toolitems=[('Home', 'Reset original view', 'home', 'home'), ('Back', 'Back to previous …"
      ]
     },
     "metadata": {},
     "output_type": "display_data"
    },
    {
     "name": "stderr",
     "output_type": "stream",
     "text": [
      "/home/jleland/Coding/Environments/python3.6/lib/python3.6/site-packages/xarray/core/nanops.py:140: RuntimeWarning: Mean of empty slice\n",
      "  return np.nanmean(a, axis=axis, dtype=dtype)\n"
     ]
    }
   ],
   "source": [
    "iv_fig, iv_ax = plt.subplots(2, 2, sharex=True)\n",
    "for i, probe in enumerate(dsβ['probe'].values):\n",
    "    iv_ax[i%2][i//2].set_title(probe)\n",
    "    \n",
    "    ds = dsβ.sel(probe=probe).mean('direction')\n",
    "    ds.set_coords('voltage')['current'].plot.line(ax=iv_ax[i%2][i//2], x='voltage', hue='shot_number')\n",
    "    iv_ax[i%2][i//2].set_ylabel('I (A)')\n",
    "    iv_ax[i%2][i//2].set_xlabel(r'$V_P$ (V)')\n",
    "    \n",
    "# plt.tight_layout()\n",
    "plt.show()"
   ]
  },
  {
   "cell_type": "markdown",
   "metadata": {},
   "source": [
    "## Looking at errors in analysis trimming"
   ]
  },
  {
   "cell_type": "code",
   "execution_count": 4,
   "metadata": {},
   "outputs": [
    {
     "data": {
      "text/plain": [
       "<xarray.Dataset>\n",
       "Dimensions:                 (direction: 2, probe: 4, shot_number: 440, time: 500, ts_radial_pos: 46)\n",
       "Coordinates:\n",
       "  * shot_number             (shot_number) int32 3 4 5 6 7 ... 478 479 480 481\n",
       "    ts_number               (shot_number) float64 ...\n",
       "    ts_timestamp            (shot_number) float64 ...\n",
       "    ts_time                 (shot_number) datetime64[ns] ...\n",
       "    adc_index               (shot_number) float64 ...\n",
       "    adc_time                (shot_number) datetime64[ns] ...\n",
       "  * ts_radial_pos           (ts_radial_pos) float64 -36.47 -34.8 ... 37.14 38.82\n",
       "  * probe                   (probe) object 'B' 'L' 'R' 'S'\n",
       "  * direction               (direction) object 'up' 'down'\n",
       "Dimensions without coordinates: time\n",
       "Data variables:\n",
       "    adc_filename            (shot_number) object ...\n",
       "    ts_density              (shot_number, ts_radial_pos) float64 ...\n",
       "    ts_temperature          (shot_number, ts_radial_pos) float64 ...\n",
       "    ts_d_density            (shot_number, ts_radial_pos) float64 ...\n",
       "    ts_d_temperature        (shot_number, ts_radial_pos) float64 ...\n",
       "    adc_folder              (shot_number) object ...\n",
       "    voltage                 (shot_number, probe, direction, time) float64 ...\n",
       "    current                 (shot_number, probe, direction, time) float64 ...\n",
       "    shot_time               (shot_number, probe, direction, time) float64 ...\n",
       "    d_current               (shot_number, probe, direction, time) float64 ...\n",
       "    start_time              (shot_number, probe, direction) float64 ...\n",
       "    adc_calibration_index   (shot_number) object ...\n",
       "    adc_4_probe             (shot_number) object ...\n",
       "    adc_5_probe             (shot_number) object ...\n",
       "    ts_temp_max             (shot_number) float64 ...\n",
       "    ts_dens_max             (shot_number) float64 ...\n",
       "    shot_end_time           (shot_number) datetime64[ns] ...\n",
       "    ts_fl                   (shot_number) int8 ...\n",
       "    sweep_time              (shot_number) datetime64[ns] ...\n",
       "    shot_source_current     (shot_number) float64 ...\n",
       "    shot_b_field            (shot_number) float64 ...\n",
       "    shot_tilt               (shot_number) float64 ...\n",
       "    shot_target_pos         (shot_number) float64 ...\n",
       "    shot_target_rot         (shot_number) float64 ...\n",
       "    shot_target_pumpspeed   (shot_number) int32 ...\n",
       "    shot_source_pumpspeed   (shot_number) int32 ...\n",
       "    shot_heating_pumpspeed  (shot_number) int32 ...\n",
       "    shot_source_pos         (shot_number) float64 ...\n",
       "    shot_deuterium_gf       (shot_number) float64 ...\n",
       "    shot_hydrogen_gf        (shot_number) float64 ...\n",
       "    shot_helium_gf          (shot_number) float64 ...\n",
       "    shot_hydrogen_puffed    (shot_number) float64 ...\n",
       "    shot_helium_puffed      (shot_number) float64 ...\n",
       "    adc_timestamp           (shot_number) float64 ...\n",
       "    adc_4_coax              (shot_number) float64 ...\n",
       "    adc_4_shunt_resistance  (shot_number) float64 ...\n",
       "    adc_5_coax              (shot_number) float64 ...\n",
       "    adc_5_shunt_resistance  (shot_number) float64 ...\n",
       "    adc_calibration_fl      (shot_number) float64 ...\n",
       "    shot_fl                 (shot_number) float64 ...\n",
       "    acquisition_length      (shot_number) float64 ...\n",
       "    adc_end_time            (shot_number) datetime64[ns] ...\n",
       "    adc_end_timestamp       (shot_number) float64 ...\n",
       "    adc_freqs               (shot_number) float64 ..."
      ]
     },
     "execution_count": 4,
     "metadata": {},
     "output_type": "execute_result"
    }
   ],
   "source": [
    "all_ds"
   ]
  },
  {
   "cell_type": "code",
   "execution_count": 5,
   "metadata": {},
   "outputs": [
    {
     "name": "stderr",
     "output_type": "stream",
     "text": [
      "/home/jleland/Coding/Environments/python3.6/lib/python3.6/site-packages/xarray/core/nanops.py:140: RuntimeWarning: Mean of empty slice\n",
      "  return np.nanmean(a, axis=axis, dtype=dtype)\n",
      "/home/jleland/Coding/Environments/python3.6/lib/python3.6/site-packages/xarray/core/nputils.py:223: RuntimeWarning: All-NaN slice encountered\n",
      "  result = getattr(npmodule, name)(values, axis=axis, **kwargs)\n"
     ]
    }
   ],
   "source": [
    "s_all_ds = all_ds.sel(probe='S')\n",
    "s_all_ds = s_all_ds.where(np.isfinite(s_all_ds.voltage), drop=True).mean('direction').max('ts_radial_pos').min('time')['shot_time'].plot.line(marker='+')\n",
    "plt.show()"
   ]
  },
  {
   "cell_type": "code",
   "execution_count": 6,
   "metadata": {},
   "outputs": [
    {
     "ename": "ValueError",
     "evalue": "Dataset does not contain the dimensions: ['sweep']",
     "output_type": "error",
     "traceback": [
      "\u001b[0;31m---------------------------------------------------------------------------\u001b[0m",
      "\u001b[0;31mValueError\u001b[0m                                Traceback (most recent call last)",
      "\u001b[0;32m<ipython-input-6-1c1a834f3092>\u001b[0m in \u001b[0;36m<module>\u001b[0;34m\u001b[0m\n\u001b[1;32m      1\u001b[0m \u001b[0mfig\u001b[0m\u001b[0;34m,\u001b[0m \u001b[0max\u001b[0m \u001b[0;34m=\u001b[0m \u001b[0mplt\u001b[0m\u001b[0;34m.\u001b[0m\u001b[0msubplots\u001b[0m\u001b[0;34m(\u001b[0m\u001b[0;36m2\u001b[0m\u001b[0;34m)\u001b[0m\u001b[0;34m\u001b[0m\u001b[0m\n\u001b[0;32m----> 2\u001b[0;31m \u001b[0mall_ds\u001b[0m\u001b[0;34m.\u001b[0m\u001b[0mmean\u001b[0m\u001b[0;34m(\u001b[0m\u001b[0;34m'direction'\u001b[0m\u001b[0;34m)\u001b[0m\u001b[0;34m.\u001b[0m\u001b[0mmax\u001b[0m\u001b[0;34m(\u001b[0m\u001b[0;34m'ts_radial_pos'\u001b[0m\u001b[0;34m)\u001b[0m\u001b[0;34m.\u001b[0m\u001b[0mmax\u001b[0m\u001b[0;34m(\u001b[0m\u001b[0;34m'sweep'\u001b[0m\u001b[0;34m)\u001b[0m\u001b[0;34m[\u001b[0m\u001b[0;34m'start_time'\u001b[0m\u001b[0;34m]\u001b[0m\u001b[0;34m.\u001b[0m\u001b[0mplot\u001b[0m\u001b[0;34m.\u001b[0m\u001b[0mline\u001b[0m\u001b[0;34m(\u001b[0m\u001b[0max\u001b[0m\u001b[0;34m=\u001b[0m\u001b[0max\u001b[0m\u001b[0;34m[\u001b[0m\u001b[0;36m0\u001b[0m\u001b[0;34m]\u001b[0m\u001b[0;34m,\u001b[0m \u001b[0mmarker\u001b[0m\u001b[0;34m=\u001b[0m\u001b[0;34m'+'\u001b[0m\u001b[0;34m,\u001b[0m \u001b[0mlinestyle\u001b[0m\u001b[0;34m=\u001b[0m\u001b[0;34m'none'\u001b[0m\u001b[0;34m,\u001b[0m \u001b[0mhue\u001b[0m\u001b[0;34m=\u001b[0m\u001b[0;34m'probe'\u001b[0m\u001b[0;34m)\u001b[0m\u001b[0;34m\u001b[0m\u001b[0m\n\u001b[0m\u001b[1;32m      3\u001b[0m \u001b[0mall_ds\u001b[0m\u001b[0;34m.\u001b[0m\u001b[0mmean\u001b[0m\u001b[0;34m(\u001b[0m\u001b[0;34m'direction'\u001b[0m\u001b[0;34m)\u001b[0m\u001b[0;34m.\u001b[0m\u001b[0mmax\u001b[0m\u001b[0;34m(\u001b[0m\u001b[0;34m'ts_radial_pos'\u001b[0m\u001b[0;34m)\u001b[0m\u001b[0;34m.\u001b[0m\u001b[0mmin\u001b[0m\u001b[0;34m(\u001b[0m\u001b[0;34m'sweep'\u001b[0m\u001b[0;34m)\u001b[0m\u001b[0;34m[\u001b[0m\u001b[0;34m'start_time'\u001b[0m\u001b[0;34m]\u001b[0m\u001b[0;34m.\u001b[0m\u001b[0mplot\u001b[0m\u001b[0;34m.\u001b[0m\u001b[0mline\u001b[0m\u001b[0;34m(\u001b[0m\u001b[0max\u001b[0m\u001b[0;34m=\u001b[0m\u001b[0max\u001b[0m\u001b[0;34m[\u001b[0m\u001b[0;36m1\u001b[0m\u001b[0;34m]\u001b[0m\u001b[0;34m,\u001b[0m \u001b[0mmarker\u001b[0m\u001b[0;34m=\u001b[0m\u001b[0;34m'+'\u001b[0m\u001b[0;34m,\u001b[0m \u001b[0mlinestyle\u001b[0m\u001b[0;34m=\u001b[0m\u001b[0;34m'none'\u001b[0m\u001b[0;34m,\u001b[0m \u001b[0mhue\u001b[0m\u001b[0;34m=\u001b[0m\u001b[0;34m'probe'\u001b[0m\u001b[0;34m)\u001b[0m\u001b[0;34m\u001b[0m\u001b[0m\n\u001b[1;32m      4\u001b[0m \u001b[0mplt\u001b[0m\u001b[0;34m.\u001b[0m\u001b[0mshow\u001b[0m\u001b[0;34m(\u001b[0m\u001b[0;34m)\u001b[0m\u001b[0;34m\u001b[0m\u001b[0m\n",
      "\u001b[0;32m~/Coding/Environments/python3.6/lib/python3.6/site-packages/xarray/core/common.py\u001b[0m in \u001b[0;36mwrapped_func\u001b[0;34m(self, dim, skipna, **kwargs)\u001b[0m\n\u001b[1;32m     89\u001b[0m                     \u001b[0mnumeric_only\u001b[0m\u001b[0;34m=\u001b[0m\u001b[0mnumeric_only\u001b[0m\u001b[0;34m,\u001b[0m\u001b[0;34m\u001b[0m\u001b[0m\n\u001b[1;32m     90\u001b[0m                     \u001b[0mallow_lazy\u001b[0m\u001b[0;34m=\u001b[0m\u001b[0;32mTrue\u001b[0m\u001b[0;34m,\u001b[0m\u001b[0;34m\u001b[0m\u001b[0m\n\u001b[0;32m---> 91\u001b[0;31m                     \u001b[0;34m**\u001b[0m\u001b[0mkwargs\u001b[0m\u001b[0;34m\u001b[0m\u001b[0m\n\u001b[0m\u001b[1;32m     92\u001b[0m                 )\n\u001b[1;32m     93\u001b[0m \u001b[0;34m\u001b[0m\u001b[0m\n",
      "\u001b[0;32m~/Coding/Environments/python3.6/lib/python3.6/site-packages/xarray/core/dataset.py\u001b[0m in \u001b[0;36mreduce\u001b[0;34m(self, func, dim, keep_attrs, keepdims, numeric_only, allow_lazy, **kwargs)\u001b[0m\n\u001b[1;32m   3886\u001b[0m         \u001b[0;32mif\u001b[0m \u001b[0mmissing_dimensions\u001b[0m\u001b[0;34m:\u001b[0m\u001b[0;34m\u001b[0m\u001b[0m\n\u001b[1;32m   3887\u001b[0m             raise ValueError(\n\u001b[0;32m-> 3888\u001b[0;31m                 \u001b[0;34m\"Dataset does not contain the dimensions: %s\"\u001b[0m \u001b[0;34m%\u001b[0m \u001b[0mmissing_dimensions\u001b[0m\u001b[0;34m\u001b[0m\u001b[0m\n\u001b[0m\u001b[1;32m   3889\u001b[0m             )\n\u001b[1;32m   3890\u001b[0m \u001b[0;34m\u001b[0m\u001b[0m\n",
      "\u001b[0;31mValueError\u001b[0m: Dataset does not contain the dimensions: ['sweep']"
     ]
    }
   ],
   "source": [
    "fig, ax = plt.subplots(2)\n",
    "all_ds.mean('direction').max('ts_radial_pos').max('sweep')['start_time'].plot.line(ax=ax[0], marker='+', linestyle='none', hue='probe')\n",
    "all_ds.mean('direction').max('ts_radial_pos').min('sweep')['start_time'].plot.line(ax=ax[1], marker='+', linestyle='none', hue='probe')\n",
    "plt.show()"
   ]
  },
  {
   "cell_type": "code",
   "execution_count": null,
   "metadata": {},
   "outputs": [],
   "source": []
  }
 ],
 "metadata": {
  "kernelspec": {
   "display_name": "magopter_kernel_3.6.5",
   "language": "python",
   "name": "magopter_kernel_3.6.5"
  },
  "language_info": {
   "codemirror_mode": {
    "name": "ipython",
    "version": 3
   },
   "file_extension": ".py",
   "mimetype": "text/x-python",
   "name": "python",
   "nbconvert_exporter": "python",
   "pygments_lexer": "ipython3",
   "version": "3.6.5"
  }
 },
 "nbformat": 4,
 "nbformat_minor": 4
}
