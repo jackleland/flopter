{
 "cells": [
  {
   "cell_type": "markdown",
   "metadata": {},
   "source": [
    "# Notebook for analysis of Magnum data by concatenating analysis datasets together\n",
    "The analysis datasets are stored in the netcdf files created by the script magnumrun_postrun_initial_analysis.py and kept in backup on Freia's funscratch directory\n",
    "\n",
    "### Imports:"
   ]
  },
  {
   "cell_type": "code",
   "execution_count": 1,
   "metadata": {},
   "outputs": [],
   "source": [
    "%matplotlib tk\n",
    "import numpy as np\n",
    "import matplotlib.pyplot as plt\n",
    "import matplotlib as mpl\n",
    "import pandas as pd\n",
    "import xarray as xr \n",
    "import scipy.stats as stat\n",
    "import sys\n",
    "import os\n",
    "import glob\n",
    "import re\n",
    "sys.path.append('/home/jleland/Coding/Projects/flopter')\n",
    "import flopter.core.ivdata as iv\n",
    "import flopter.core.lputils as lp\n",
    "import flopter.magnum.database as ut\n",
    "import flopter.core.fitters as fts"
   ]
  },
  {
   "cell_type": "code",
   "execution_count": 2,
   "metadata": {},
   "outputs": [
    {
     "data": {
      "text/plain": [
       "<module 'xarray' from '/home/jleland/coding/environments/python3.6/lib/python3.6/site-packages/xarray/__init__.py'>"
      ]
     },
     "execution_count": 2,
     "metadata": {},
     "output_type": "execute_result"
    }
   ],
   "source": [
    "import importlib\n",
    "importlib.reload(xr)"
   ]
  },
  {
   "cell_type": "markdown",
   "metadata": {},
   "source": [
    "## Construction of the metadata dataframe\n",
    "Metadata about the analysed xarray datasets is compiled into a pandas dataframe for simple manipulation"
   ]
  },
  {
   "cell_type": "code",
   "execution_count": 6,
   "metadata": {},
   "outputs": [],
   "source": [
    "# Create analysed dataset metadata \n",
    "\n",
    "path_to_datasets = '/home/jleland/data/external/magnum/'\n",
    "# path_to_datasets = '/home/jleland/data/externy/magnum/'\n",
    "# path_to_analysed_datasets = 'analysed_2'\n",
    "# path_to_analysed_datasets = 'analysed_3'\n",
    "# path_to_analysed_datasets = 'analysed_4'\n",
    "# path_to_analysed_datasets = 'test'\n",
    "# path_to_analysed_datasets = 'phobos_test'\n",
    "path_to_analysed_datasets = 'analysed_3_downsampled'\n",
    "os.chdir(path_to_datasets)"
   ]
  },
  {
   "cell_type": "code",
   "execution_count": 4,
   "metadata": {},
   "outputs": [],
   "source": [
    "# analysed_dataset_fns = glob.glob(path_to_analysed_datasets + '/*.nc')\n",
    "# analysed_dataset_fns.sort()\n",
    "\n",
    "# analysed_infos = []\n",
    "\n",
    "# for i, anal_ds in enumerate(analysed_dataset_fns):\n",
    "#     match = re.search(\"\\/a{1}([0-9]{3})_([0-9]{3})_([0-9]{19})\\.nc\", anal_ds)\n",
    "#     shot_index = int(match.group(1))\n",
    "#     adc_index = int(match.group(2))\n",
    "#     shot_timestamp = int(match.group(3))\n",
    "#     shot_time = ut.human_datetime_str(int(match.group(3)))\n",
    "    \n",
    "#     ds = xr.open_dataset(anal_ds)\n",
    "#     time_len = len(ds['time'])\n",
    "#     sweep_len = len(ds['sweep'])\n",
    "    \n",
    "#     analysed_infos.append({\n",
    "#         'adc_index':adc_index, \n",
    "#         'shot_number':shot_index, \n",
    "#         'shot_timestamp':shot_timestamp, \n",
    "#         'shot_time':shot_time, \n",
    "#         'filename':anal_ds,\n",
    "#         'time_len': time_len,\n",
    "#         'sweep_len': sweep_len\n",
    "#     })\n",
    "\n",
    "# analysed_infos_df = pd.DataFrame(analysed_infos).set_index('adc_index')"
   ]
  },
  {
   "cell_type": "code",
   "execution_count": null,
   "metadata": {},
   "outputs": [],
   "source": [
    "analysed_infos_df.groupby('time_len').count()"
   ]
  },
  {
   "cell_type": "code",
   "execution_count": 6,
   "metadata": {},
   "outputs": [
    {
     "data": {
      "text/plain": [
       "<matplotlib.axes._subplots.AxesSubplot at 0x7f49fd9e9ac8>"
      ]
     },
     "execution_count": 6,
     "metadata": {},
     "output_type": "execute_result"
    }
   ],
   "source": [
    "analysed_infos_df.groupby('sweep_len').count().plot()"
   ]
  },
  {
   "cell_type": "markdown",
   "metadata": {},
   "source": [
    "---\n",
    "## Saving / loading section\n",
    "The metadata doesn't need to be reconstructed _every_ time, so we can store it in a .csv file output by pandas. The following 2 methods save and load, use whichever is appropriate"
   ]
  },
  {
   "cell_type": "code",
   "execution_count": 9,
   "metadata": {},
   "outputs": [],
   "source": [
    "metadata_filename = f'{path_to_analysed_datasets}_xr_metadata.csv'"
   ]
  },
  {
   "cell_type": "code",
   "execution_count": 10,
   "metadata": {},
   "outputs": [],
   "source": [
    "# Loading the metadata .csv file into a pandas dataframe\n",
    "analysed_infos_df = pd.read_csv(metadata_filename).set_index('adc_index')"
   ]
  },
  {
   "cell_type": "code",
   "execution_count": 8,
   "metadata": {},
   "outputs": [],
   "source": [
    "# Saving the metadata.csv file from the constructed pandas dataframe\n",
    "analysed_infos_df.to_csv(metadata_filename)"
   ]
  },
  {
   "cell_type": "markdown",
   "metadata": {},
   "source": [
    "End of save/load segment\n",
    "\n",
    "---\n",
    "\n",
    "## Index choice section"
   ]
  },
  {
   "cell_type": "code",
   "execution_count": 11,
   "metadata": {},
   "outputs": [],
   "source": [
    "magnum_probes = lp.MagnumProbes()"
   ]
  },
  {
   "cell_type": "code",
   "execution_count": 8,
   "metadata": {},
   "outputs": [
    {
     "name": "stdout",
     "output_type": "stream",
     "text": [
      "5 490\n"
     ]
    }
   ],
   "source": [
    "indices = analysed_infos_df.where(analysed_infos_df.time_len >= 500).dropna().index.values\n",
    "indices\n",
    "print(len(indices), len(analysed_infos_df))"
   ]
  },
  {
   "cell_type": "code",
   "execution_count": 6,
   "metadata": {},
   "outputs": [],
   "source": [
    "# list(analysed_infos_df.groupby('time_len'))"
   ]
  },
  {
   "cell_type": "code",
   "execution_count": 11,
   "metadata": {},
   "outputs": [],
   "source": [
    "# Joe's requested shots\n",
    "indices = [396, 398, 409]"
   ]
  },
  {
   "cell_type": "code",
   "execution_count": 7,
   "metadata": {},
   "outputs": [],
   "source": [
    "# Axial Scan\n",
    "indices = [132,148,149,150,151,152,153,154,155,156,157,158,159,160,161,162,163,164,165,166,167,168,169,170,171,172,173,174,175,176,177,178,179,180,181,182,183,184,185,186,187,188,189]"
   ]
  },
  {
   "cell_type": "code",
   "execution_count": 12,
   "metadata": {},
   "outputs": [],
   "source": [
    "# 100A, 5slm (He), 0.8T\n",
    "indices = [357, 358, 359, 360, 361, 362, 363, 364, 365, 366, 367, 376, 377, 378, 379, 380, 381, 382, 383, 384, 385, 386]"
   ]
  },
  {
   "cell_type": "code",
   "execution_count": 14,
   "metadata": {},
   "outputs": [],
   "source": [
    "# 100A, 5slm (He), 1.2T\n",
    "indices = [245, 246, 247, 248, 249, 250, 251, 252, 254, 255, 256, 261, 262, 263, 264, 265, 266, 267, 268, 269, 270, 271]"
   ]
  },
  {
   "cell_type": "code",
   "execution_count": 7,
   "metadata": {},
   "outputs": [],
   "source": [
    "# 110A, 5slm (H), 1.2T\n",
    "indices = [320, 321, 322, 323, 324, 325, 327, 328, 329, 330, 331, 336, 337, 338, 339, 340, 341, 342, 343, 344, 345, 346]"
   ]
  },
  {
   "cell_type": "code",
   "execution_count": 6,
   "metadata": {},
   "outputs": [],
   "source": [
    "indices = [357, 358, 359, 360, 361, 362, 363, 364, 365, 366, 367, 376, 377, 378, 379, 380, 381, 382, 383, 384, 385, 386]\\\n",
    "          + [132,148,149,150,151,152,153,154,155,156,157,158,159,160,161,162,163,164,165,166,167,168,169,170,171,172,173,174,175,176,177,178,179,180,181,182,183,184,185,186,187,188,189]\\\n",
    "          + [320, 321, 322, 323, 324, 325, 327, 328, 329, 330, 331, 336, 337, 338, 339, 340, 341, 342, 343, 344, 345, 346]"
   ]
  },
  {
   "cell_type": "code",
   "execution_count": 15,
   "metadata": {},
   "outputs": [
    {
     "data": {
      "text/html": [
       "<div>\n",
       "<style scoped>\n",
       "    .dataframe tbody tr th:only-of-type {\n",
       "        vertical-align: middle;\n",
       "    }\n",
       "\n",
       "    .dataframe tbody tr th {\n",
       "        vertical-align: top;\n",
       "    }\n",
       "\n",
       "    .dataframe thead th {\n",
       "        text-align: right;\n",
       "    }\n",
       "</style>\n",
       "<table border=\"1\" class=\"dataframe\">\n",
       "  <thead>\n",
       "    <tr style=\"text-align: right;\">\n",
       "      <th></th>\n",
       "      <th>filename</th>\n",
       "      <th>shot_number</th>\n",
       "      <th>shot_time</th>\n",
       "      <th>shot_timestamp</th>\n",
       "      <th>sweep_len</th>\n",
       "      <th>time_len</th>\n",
       "    </tr>\n",
       "    <tr>\n",
       "      <th>adc_index</th>\n",
       "      <th></th>\n",
       "      <th></th>\n",
       "      <th></th>\n",
       "      <th></th>\n",
       "      <th></th>\n",
       "      <th></th>\n",
       "    </tr>\n",
       "  </thead>\n",
       "  <tbody>\n",
       "    <tr>\n",
       "      <td>245</td>\n",
       "      <td>analysed_3_downsampled/a232_245_66986653256874...</td>\n",
       "      <td>232</td>\n",
       "      <td>2019-06-04 14:22:39</td>\n",
       "      <td>6698665325687429120</td>\n",
       "      <td>1499</td>\n",
       "      <td>50</td>\n",
       "    </tr>\n",
       "    <tr>\n",
       "      <td>246</td>\n",
       "      <td>analysed_3_downsampled/a233_246_66986659387981...</td>\n",
       "      <td>233</td>\n",
       "      <td>2019-06-04 14:25:02</td>\n",
       "      <td>6698665938798135296</td>\n",
       "      <td>798</td>\n",
       "      <td>50</td>\n",
       "    </tr>\n",
       "    <tr>\n",
       "      <td>247</td>\n",
       "      <td>analysed_3_downsampled/a234_247_66986665416438...</td>\n",
       "      <td>234</td>\n",
       "      <td>2019-06-04 14:27:22</td>\n",
       "      <td>6698666541643821056</td>\n",
       "      <td>798</td>\n",
       "      <td>50</td>\n",
       "    </tr>\n",
       "    <tr>\n",
       "      <td>248</td>\n",
       "      <td>analysed_3_downsampled/a235_248_66986668924591...</td>\n",
       "      <td>235</td>\n",
       "      <td>2019-06-04 14:28:44</td>\n",
       "      <td>6698666892459114496</td>\n",
       "      <td>799</td>\n",
       "      <td>50</td>\n",
       "    </tr>\n",
       "    <tr>\n",
       "      <td>249</td>\n",
       "      <td>analysed_3_downsampled/a236_249_66986671586200...</td>\n",
       "      <td>236</td>\n",
       "      <td>2019-06-04 14:29:46</td>\n",
       "      <td>6698667158620034048</td>\n",
       "      <td>799</td>\n",
       "      <td>50</td>\n",
       "    </tr>\n",
       "    <tr>\n",
       "      <td>250</td>\n",
       "      <td>analysed_3_downsampled/a237_250_66986678362845...</td>\n",
       "      <td>237</td>\n",
       "      <td>2019-06-04 14:32:23</td>\n",
       "      <td>6698667836284542976</td>\n",
       "      <td>798</td>\n",
       "      <td>50</td>\n",
       "    </tr>\n",
       "    <tr>\n",
       "      <td>251</td>\n",
       "      <td>analysed_3_downsampled/a238_251_66986701348806...</td>\n",
       "      <td>238</td>\n",
       "      <td>2019-06-04 14:41:19</td>\n",
       "      <td>6698670134880661504</td>\n",
       "      <td>799</td>\n",
       "      <td>50</td>\n",
       "    </tr>\n",
       "    <tr>\n",
       "      <td>252</td>\n",
       "      <td>analysed_3_downsampled/a239_252_66986706512680...</td>\n",
       "      <td>239</td>\n",
       "      <td>2019-06-04 14:43:19</td>\n",
       "      <td>6698670651268073472</td>\n",
       "      <td>799</td>\n",
       "      <td>50</td>\n",
       "    </tr>\n",
       "    <tr>\n",
       "      <td>254</td>\n",
       "      <td>analysed_3_downsampled/a241_254_66986714681334...</td>\n",
       "      <td>241</td>\n",
       "      <td>2019-06-04 14:46:29</td>\n",
       "      <td>6698671468133408768</td>\n",
       "      <td>798</td>\n",
       "      <td>50</td>\n",
       "    </tr>\n",
       "    <tr>\n",
       "      <td>255</td>\n",
       "      <td>analysed_3_downsampled/a242_255_66986718018975...</td>\n",
       "      <td>242</td>\n",
       "      <td>2019-06-04 14:47:47</td>\n",
       "      <td>6698671801897561088</td>\n",
       "      <td>799</td>\n",
       "      <td>50</td>\n",
       "    </tr>\n",
       "    <tr>\n",
       "      <td>256</td>\n",
       "      <td>analysed_3_downsampled/a243_256_66986723688800...</td>\n",
       "      <td>243</td>\n",
       "      <td>2019-06-04 14:49:59</td>\n",
       "      <td>6698672368880012288</td>\n",
       "      <td>799</td>\n",
       "      <td>50</td>\n",
       "    </tr>\n",
       "    <tr>\n",
       "      <td>261</td>\n",
       "      <td>analysed_3_downsampled/a246_261_66986774507625...</td>\n",
       "      <td>246</td>\n",
       "      <td>2019-06-04 15:09:42</td>\n",
       "      <td>6698677450762557440</td>\n",
       "      <td>799</td>\n",
       "      <td>50</td>\n",
       "    </tr>\n",
       "    <tr>\n",
       "      <td>262</td>\n",
       "      <td>analysed_3_downsampled/a247_262_66986789796953...</td>\n",
       "      <td>247</td>\n",
       "      <td>2019-06-04 15:15:38</td>\n",
       "      <td>6698678979695342592</td>\n",
       "      <td>798</td>\n",
       "      <td>50</td>\n",
       "    </tr>\n",
       "    <tr>\n",
       "      <td>263</td>\n",
       "      <td>analysed_3_downsampled/a248_263_66986794302834...</td>\n",
       "      <td>248</td>\n",
       "      <td>2019-06-04 15:17:23</td>\n",
       "      <td>6698679430283418624</td>\n",
       "      <td>795</td>\n",
       "      <td>50</td>\n",
       "    </tr>\n",
       "    <tr>\n",
       "      <td>264</td>\n",
       "      <td>analysed_3_downsampled/a249_264_66986799014874...</td>\n",
       "      <td>249</td>\n",
       "      <td>2019-06-04 15:19:13</td>\n",
       "      <td>6698679901487466496</td>\n",
       "      <td>799</td>\n",
       "      <td>50</td>\n",
       "    </tr>\n",
       "    <tr>\n",
       "      <td>265</td>\n",
       "      <td>analysed_3_downsampled/a250_265_66986803469644...</td>\n",
       "      <td>250</td>\n",
       "      <td>2019-06-04 15:20:56</td>\n",
       "      <td>6698680346964490240</td>\n",
       "      <td>798</td>\n",
       "      <td>50</td>\n",
       "    </tr>\n",
       "    <tr>\n",
       "      <td>266</td>\n",
       "      <td>analysed_3_downsampled/a251_266_66986810506567...</td>\n",
       "      <td>251</td>\n",
       "      <td>2019-06-04 15:23:40</td>\n",
       "      <td>6698681050656700416</td>\n",
       "      <td>798</td>\n",
       "      <td>50</td>\n",
       "    </tr>\n",
       "    <tr>\n",
       "      <td>267</td>\n",
       "      <td>analysed_3_downsampled/a252_267_66986849548512...</td>\n",
       "      <td>252</td>\n",
       "      <td>2019-06-04 15:38:49</td>\n",
       "      <td>6698684954851299328</td>\n",
       "      <td>799</td>\n",
       "      <td>50</td>\n",
       "    </tr>\n",
       "    <tr>\n",
       "      <td>268</td>\n",
       "      <td>analysed_3_downsampled/a253_268_66986853468126...</td>\n",
       "      <td>253</td>\n",
       "      <td>2019-06-04 15:40:20</td>\n",
       "      <td>6698685346812658688</td>\n",
       "      <td>799</td>\n",
       "      <td>50</td>\n",
       "    </tr>\n",
       "    <tr>\n",
       "      <td>269</td>\n",
       "      <td>analysed_3_downsampled/a254_269_66986856907989...</td>\n",
       "      <td>254</td>\n",
       "      <td>2019-06-04 15:41:41</td>\n",
       "      <td>6698685690798912512</td>\n",
       "      <td>799</td>\n",
       "      <td>50</td>\n",
       "    </tr>\n",
       "    <tr>\n",
       "      <td>270</td>\n",
       "      <td>analysed_3_downsampled/a255_270_66986859550270...</td>\n",
       "      <td>255</td>\n",
       "      <td>2019-06-04 15:42:42</td>\n",
       "      <td>6698685955027093504</td>\n",
       "      <td>798</td>\n",
       "      <td>50</td>\n",
       "    </tr>\n",
       "    <tr>\n",
       "      <td>271</td>\n",
       "      <td>analysed_3_downsampled/a256_271_66986862051676...</td>\n",
       "      <td>256</td>\n",
       "      <td>2019-06-04 15:43:40</td>\n",
       "      <td>6698686205167668224</td>\n",
       "      <td>799</td>\n",
       "      <td>50</td>\n",
       "    </tr>\n",
       "  </tbody>\n",
       "</table>\n",
       "</div>"
      ],
      "text/plain": [
       "                                                    filename  shot_number  \\\n",
       "adc_index                                                                   \n",
       "245        analysed_3_downsampled/a232_245_66986653256874...          232   \n",
       "246        analysed_3_downsampled/a233_246_66986659387981...          233   \n",
       "247        analysed_3_downsampled/a234_247_66986665416438...          234   \n",
       "248        analysed_3_downsampled/a235_248_66986668924591...          235   \n",
       "249        analysed_3_downsampled/a236_249_66986671586200...          236   \n",
       "250        analysed_3_downsampled/a237_250_66986678362845...          237   \n",
       "251        analysed_3_downsampled/a238_251_66986701348806...          238   \n",
       "252        analysed_3_downsampled/a239_252_66986706512680...          239   \n",
       "254        analysed_3_downsampled/a241_254_66986714681334...          241   \n",
       "255        analysed_3_downsampled/a242_255_66986718018975...          242   \n",
       "256        analysed_3_downsampled/a243_256_66986723688800...          243   \n",
       "261        analysed_3_downsampled/a246_261_66986774507625...          246   \n",
       "262        analysed_3_downsampled/a247_262_66986789796953...          247   \n",
       "263        analysed_3_downsampled/a248_263_66986794302834...          248   \n",
       "264        analysed_3_downsampled/a249_264_66986799014874...          249   \n",
       "265        analysed_3_downsampled/a250_265_66986803469644...          250   \n",
       "266        analysed_3_downsampled/a251_266_66986810506567...          251   \n",
       "267        analysed_3_downsampled/a252_267_66986849548512...          252   \n",
       "268        analysed_3_downsampled/a253_268_66986853468126...          253   \n",
       "269        analysed_3_downsampled/a254_269_66986856907989...          254   \n",
       "270        analysed_3_downsampled/a255_270_66986859550270...          255   \n",
       "271        analysed_3_downsampled/a256_271_66986862051676...          256   \n",
       "\n",
       "                     shot_time       shot_timestamp  sweep_len  time_len  \n",
       "adc_index                                                                 \n",
       "245        2019-06-04 14:22:39  6698665325687429120       1499        50  \n",
       "246        2019-06-04 14:25:02  6698665938798135296        798        50  \n",
       "247        2019-06-04 14:27:22  6698666541643821056        798        50  \n",
       "248        2019-06-04 14:28:44  6698666892459114496        799        50  \n",
       "249        2019-06-04 14:29:46  6698667158620034048        799        50  \n",
       "250        2019-06-04 14:32:23  6698667836284542976        798        50  \n",
       "251        2019-06-04 14:41:19  6698670134880661504        799        50  \n",
       "252        2019-06-04 14:43:19  6698670651268073472        799        50  \n",
       "254        2019-06-04 14:46:29  6698671468133408768        798        50  \n",
       "255        2019-06-04 14:47:47  6698671801897561088        799        50  \n",
       "256        2019-06-04 14:49:59  6698672368880012288        799        50  \n",
       "261        2019-06-04 15:09:42  6698677450762557440        799        50  \n",
       "262        2019-06-04 15:15:38  6698678979695342592        798        50  \n",
       "263        2019-06-04 15:17:23  6698679430283418624        795        50  \n",
       "264        2019-06-04 15:19:13  6698679901487466496        799        50  \n",
       "265        2019-06-04 15:20:56  6698680346964490240        798        50  \n",
       "266        2019-06-04 15:23:40  6698681050656700416        798        50  \n",
       "267        2019-06-04 15:38:49  6698684954851299328        799        50  \n",
       "268        2019-06-04 15:40:20  6698685346812658688        799        50  \n",
       "269        2019-06-04 15:41:41  6698685690798912512        799        50  \n",
       "270        2019-06-04 15:42:42  6698685955027093504        798        50  \n",
       "271        2019-06-04 15:43:40  6698686205167668224        799        50  "
      ]
     },
     "execution_count": 15,
     "metadata": {},
     "output_type": "execute_result"
    }
   ],
   "source": [
    "analysed_infos_df.loc[indices]"
   ]
  },
  {
   "cell_type": "code",
   "execution_count": 6,
   "metadata": {},
   "outputs": [],
   "source": [
    "# for i in analysed_infos_df.loc[indices].index:\n",
    "#     row = analysed_infos_df.loc[i]\n",
    "#     print(row)"
   ]
  },
  {
   "cell_type": "markdown",
   "metadata": {},
   "source": [
    "## Load adc file metadata"
   ]
  },
  {
   "cell_type": "code",
   "execution_count": 16,
   "metadata": {},
   "outputs": [
    {
     "name": "stdout",
     "output_type": "stream",
     "text": [
      "<xarray.Dataset>\n",
      "Dimensions:                 (shot_number: 523, ts_radial_pos: 46)\n",
      "Coordinates:\n",
      "  * shot_number             (shot_number) int32 0 1 2 3 4 ... 519 520 521 522\n",
      "    ts_number               (shot_number) float64 ...\n",
      "    ts_timestamp            (shot_number) float64 ...\n",
      "    ts_time                 (shot_number) datetime64[ns] ...\n",
      "    adc_index               (shot_number) float64 ...\n",
      "    adc_time                (shot_number) datetime64[ns] ...\n",
      "  * ts_radial_pos           (ts_radial_pos) float64 -36.47 -34.8 ... 37.14 38.82\n",
      "Data variables:\n",
      "    adc_filename            (shot_number) object ...\n",
      "    ts_density              (shot_number, ts_radial_pos) float64 ...\n",
      "    ts_temperature          (shot_number, ts_radial_pos) float64 ...\n",
      "    ts_d_density            (shot_number, ts_radial_pos) float64 ...\n",
      "    ts_d_temperature        (shot_number, ts_radial_pos) float64 ...\n",
      "    adc_folder              (shot_number) object ...\n",
      "    adc_calibration_index   (shot_number) object ...\n",
      "    adc_4_probe             (shot_number) object ...\n",
      "    adc_5_probe             (shot_number) object ...\n",
      "    ts_temp_max             (shot_number) float64 ...\n",
      "    ts_dens_max             (shot_number) float64 ...\n",
      "    shot_end_time           (shot_number) datetime64[ns] ...\n",
      "    ts_fl                   (shot_number) bool ...\n",
      "    shot_time               (shot_number) datetime64[ns] ...\n",
      "    shot_source_current     (shot_number) float64 ...\n",
      "    shot_b_field            (shot_number) float64 ...\n",
      "    shot_tilt               (shot_number) float64 ...\n",
      "    shot_target_pos         (shot_number) float64 ...\n",
      "    shot_target_rot         (shot_number) float64 ...\n",
      "    shot_target_pumpspeed   (shot_number) int32 ...\n",
      "    shot_source_pumpspeed   (shot_number) int32 ...\n",
      "    shot_heating_pumpspeed  (shot_number) int32 ...\n",
      "    shot_source_pos         (shot_number) float64 ...\n",
      "    shot_deuterium_gf       (shot_number) float64 ...\n",
      "    shot_hydrogen_gf        (shot_number) float64 ...\n",
      "    shot_helium_gf          (shot_number) float64 ...\n",
      "    shot_hydrogen_puffed    (shot_number) float64 ...\n",
      "    shot_helium_puffed      (shot_number) float64 ...\n",
      "    adc_timestamp           (shot_number) float64 ...\n",
      "    adc_4_coax              (shot_number) float64 ...\n",
      "    adc_4_shunt_resistance  (shot_number) float64 ...\n",
      "    adc_5_coax              (shot_number) float64 ...\n",
      "    adc_5_shunt_resistance  (shot_number) float64 ...\n",
      "    adc_calibration_fl      (shot_number) float64 ...\n",
      "    shot_fl                 (shot_number) float64 ...\n",
      "    acquisition_length      (shot_number) float64 ...\n",
      "    adc_end_time            (shot_number) datetime64[ns] ...\n",
      "    adc_end_timestamp       (shot_number) float64 ...\n",
      "    adc_freqs               (shot_number) float64 ...\n"
     ]
    }
   ],
   "source": [
    "os.chdir('/home/jleland/data/external/magnum/')\n",
    "# os.chdir('/home/jleland/data/externy/magnum/')\n",
    "meta_data_ds = xr.open_dataset('all_meta_data.nc')\n",
    "print(meta_data_ds)"
   ]
  },
  {
   "cell_type": "markdown",
   "metadata": {},
   "source": [
    "# Analysis of shot / adc_file index selection"
   ]
  },
  {
   "cell_type": "code",
   "execution_count": 17,
   "metadata": {},
   "outputs": [],
   "source": [
    "def preprocess_sel(ds, sweep=slice(0,997)):\n",
    "    return ds.sel(sweep=sweep)\n",
    "\n",
    "def preprocess_average(ds):\n",
    "    ds = ds.reset_index('time', drop=True)\n",
    "    ds_avg = ds.mean('sweep')\n",
    "    ds_avg = ds_avg.assign({'d_current': ds.std('sweep')['current']})\n",
    "    return ds_avg\n",
    "\n",
    "def preprocess_average_downsample(ds, downsample_to=500):\n",
    "    ds = ds.reset_index('time', drop=True)\n",
    "    dsf = int(len(ds.time) / downsample_to)\n",
    "    ds = ds.sel(time=slice(0, len(ds.time), dsf))\n",
    "    ds_avg = ds.mean('sweep')\n",
    "    ds_avg = ds_avg.assign({'d_current': ds.std('sweep')['current']})\n",
    "    return ds_avg"
   ]
  },
  {
   "cell_type": "code",
   "execution_count": 18,
   "metadata": {},
   "outputs": [
    {
     "name": "stdout",
     "output_type": "stream",
     "text": [
      "795\n"
     ]
    }
   ],
   "source": [
    "analysed_metadata_oi = analysed_infos_df.loc[indices]\n",
    "\n",
    "files_oi = analysed_metadata_oi['filename'].values\n",
    "shot_numbers = analysed_metadata_oi['shot_number'].values\n",
    "shot_numbers_da = xr.DataArray(shot_numbers, dims=['shot_number'], name='shot_number')\n",
    "min_sweep_len = analysed_metadata_oi['sweep_len'].min()\n",
    "print(min_sweep_len)"
   ]
  },
  {
   "cell_type": "markdown",
   "metadata": {},
   "source": [
    "## Attempt at concatenating datasets manually"
   ]
  },
  {
   "cell_type": "code",
   "execution_count": 11,
   "metadata": {},
   "outputs": [],
   "source": [
    "# ds_list = [xr.open_dataset(fn) for fn in files_oi]"
   ]
  },
  {
   "cell_type": "code",
   "execution_count": 16,
   "metadata": {},
   "outputs": [],
   "source": [
    "indices_to_pop = []\n",
    "for i, ds in enumerate(ds_list):\n",
    "    if len(ds.time) < 500:\n",
    "        indices_to_pop.append(i)\n",
    "        continue\n",
    "#     ds = preprocess_average_downsample(ds)\n",
    "#     ds = ds.sel(time=slice())\n",
    "#     ds = preprocess_average(ds)"
   ]
  },
  {
   "cell_type": "code",
   "execution_count": 17,
   "metadata": {},
   "outputs": [
    {
     "name": "stdout",
     "output_type": "stream",
     "text": [
      "[]\n"
     ]
    }
   ],
   "source": [
    "print(indices_to_pop)"
   ]
  },
  {
   "cell_type": "code",
   "execution_count": 11,
   "metadata": {},
   "outputs": [],
   "source": [
    "# combined_ds = xr.concat(ds_list, shot_numbers_da, fill_value=np.nan)"
   ]
  },
  {
   "cell_type": "markdown",
   "metadata": {},
   "source": [
    "# Analysis of Helium shot @120A, 5slm He, 0.8T"
   ]
  },
  {
   "cell_type": "code",
   "execution_count": 13,
   "metadata": {},
   "outputs": [
    {
     "ename": "FileNotFoundError",
     "evalue": "[Errno 2] No such file or directory: '/home/jleland/Data'",
     "output_type": "error",
     "traceback": [
      "\u001b[0;31m---------------------------------------------------------------------------\u001b[0m",
      "\u001b[0;31mFileNotFoundError\u001b[0m                         Traceback (most recent call last)",
      "\u001b[0;32m<ipython-input-13-590f54bba4a2>\u001b[0m in \u001b[0;36m<module>\u001b[0;34m\u001b[0m\n\u001b[0;32m----> 1\u001b[0;31m \u001b[0mos\u001b[0m\u001b[0;34m.\u001b[0m\u001b[0mchdir\u001b[0m\u001b[0;34m(\u001b[0m\u001b[0;34m'/home/jleland/Data'\u001b[0m\u001b[0;34m)\u001b[0m\u001b[0;34m\u001b[0m\u001b[0;34m\u001b[0m\u001b[0m\n\u001b[0m",
      "\u001b[0;31mFileNotFoundError\u001b[0m: [Errno 2] No such file or directory: '/home/jleland/Data'"
     ]
    }
   ],
   "source": [
    "os.chdir('/home/jleland/Data')"
   ]
  },
  {
   "cell_type": "code",
   "execution_count": 14,
   "metadata": {},
   "outputs": [],
   "source": [
    "os.chdir('/home/jleland/data/external/magnum')"
   ]
  },
  {
   "cell_type": "code",
   "execution_count": 15,
   "metadata": {},
   "outputs": [
    {
     "data": {
      "text/plain": [
       "<xarray.Dataset>\n",
       "Dimensions:                 (shot_number: 22)\n",
       "Coordinates:\n",
       "  * shot_number             (shot_number) int32 361 362 363 364 ... 387 388 389\n",
       "    ts_number               (shot_number) float64 ...\n",
       "    ts_timestamp            (shot_number) float64 ...\n",
       "    ts_time                 (shot_number) datetime64[ns] ...\n",
       "    adc_index               (shot_number) float64 ...\n",
       "    adc_time                (shot_number) datetime64[ns] ...\n",
       "Data variables:\n",
       "    adc_filename            (shot_number) object '2019-06-06 09h 49m 51s TT_06699321692420543855.adc' ... '2019-06-06 12h 14m 43s TT_06699359024431898401.adc'\n",
       "    ts_density              (shot_number) float64 1.037e+20 ... 8.97e+19\n",
       "    ts_temperature          (shot_number) float64 7.225 8.182 ... 7.034 7.593\n",
       "    ts_d_density            (shot_number) float64 0.0 0.0 0.0 ... 0.0 0.0 0.0\n",
       "    ts_d_temperature        (shot_number) float64 0.0 0.0 0.0 ... 0.0 0.0 0.0\n",
       "    adc_folder              (shot_number) object '2019-06-06_Leland/' ... '2019-06-06_Leland/'\n",
       "    adc_calibration_index   (shot_number) object '355' '355' ... '368' '368'\n",
       "    adc_4_probe             (shot_number) object 'S' 'S' 'S' 'S' ... 'R' 'R' 'R'\n",
       "    adc_5_probe             (shot_number) object 'L' 'L' 'L' 'L' ... 'B' 'B' 'B'\n",
       "    ts_temp_max             (shot_number) float64 7.225 8.182 ... 7.034 7.593\n",
       "    ts_dens_max             (shot_number) float64 1.037e+20 ... 8.97e+19\n",
       "    shot_end_time           (shot_number) datetime64[ns] 2019-06-06T08:49:53 ... 2019-06-06T11:14:45\n",
       "    ts_fl                   (shot_number) bool True True True ... True True True\n",
       "    shot_time               (shot_number) datetime64[ns] 2019-06-06T08:49:36 ... 2019-06-06T11:14:29\n",
       "    shot_source_current     (shot_number) float64 120.6 120.4 ... 120.4 120.3\n",
       "    shot_b_field            (shot_number) float64 0.7999 0.7999 ... 0.7999\n",
       "    shot_tilt               (shot_number) float64 9.989 9.0 ... 1.001 0.006376\n",
       "    shot_target_pos         (shot_number) float64 -0.2 -0.2 -0.2 ... -0.2 -0.2\n",
       "    shot_target_rot         (shot_number) float64 -89.93 -89.93 ... -89.93\n",
       "    shot_target_pumpspeed   (shot_number) int32 82 82 82 82 82 ... 82 82 82 82\n",
       "    shot_source_pumpspeed   (shot_number) int32 82 82 82 82 82 ... 82 82 82 82\n",
       "    shot_heating_pumpspeed  (shot_number) int32 82 82 82 82 82 ... 82 82 82 82\n",
       "    shot_source_pos         (shot_number) float64 1.2 1.2 1.2 ... 1.2 1.2 1.2\n",
       "    shot_deuterium_gf       (shot_number) float64 7.421e-18 ... 0.001528\n",
       "    shot_hydrogen_gf        (shot_number) float64 0.0 0.0 0.0 ... 0.0 0.0 0.0\n",
       "    shot_helium_gf          (shot_number) float64 8.443 8.444 ... 8.443 8.443\n",
       "    shot_hydrogen_puffed    (shot_number) float64 -0.01681 -0.02085 ... -0.02713\n",
       "    shot_helium_puffed      (shot_number) float64 -0.05264 -0.05054 ... -0.05133\n",
       "    adc_timestamp           (shot_number) float64 6.699e+18 ... 6.699e+18\n",
       "    adc_4_coax              (shot_number) float64 1.0 1.0 1.0 ... 1.0 1.0 1.0\n",
       "    adc_4_shunt_resistance  (shot_number) float64 1.0 1.0 1.0 ... 1.0 1.0 1.0\n",
       "    adc_5_coax              (shot_number) float64 2.0 2.0 2.0 ... 2.0 2.0 2.0\n",
       "    adc_5_shunt_resistance  (shot_number) float64 1.0 1.0 1.0 ... 1.0 1.0 1.0\n",
       "    adc_calibration_fl      (shot_number) float64 0.0 0.0 0.0 ... 0.0 0.0 0.0\n",
       "    shot_fl                 (shot_number) float64 1.0 1.0 1.0 ... 1.0 1.0 1.0\n",
       "    acquisition_length      (shot_number) float64 10.0 10.0 10.0 ... 10.0 10.0\n",
       "    adc_end_time            (shot_number) datetime64[ns] 2019-06-06T08:49:51 ... 2019-06-06T11:14:43\n",
       "    adc_end_timestamp       (shot_number) float64 6.699e+18 ... 6.699e+18\n",
       "    adc_freqs               (shot_number) float64 1e+06 1e+06 ... 1e+06 1e+06"
      ]
     },
     "execution_count": 15,
     "metadata": {},
     "output_type": "execute_result"
    }
   ],
   "source": [
    "helium_meta_ds = meta_data_ds.sel(shot_number=shot_numbers)\n",
    "helium_meta_ds.max('ts_radial_pos')"
   ]
  },
  {
   "cell_type": "code",
   "execution_count": 16,
   "metadata": {},
   "outputs": [
    {
     "data": {
      "text/plain": [
       "<xarray.Dataset>\n",
       "Dimensions:       (shot_number: 22)\n",
       "Coordinates:\n",
       "  * shot_number   (shot_number) int32 361 362 363 364 365 ... 386 387 388 389\n",
       "    ts_time       (shot_number) datetime64[ns] ...\n",
       "    adc_time      (shot_number) datetime64[ns] ...\n",
       "    ts_number     (shot_number) float64 ...\n",
       "    ts_timestamp  (shot_number) float64 ...\n",
       "    adc_index     (shot_number) float64 ...\n",
       "Data variables:\n",
       "    shot_tilt     (shot_number) float64 10.0 9.0 8.0 7.0 6.0 ... 3.0 2.0 1.0 0.0\n",
       "    adc_4_probe   (shot_number) object 'S' 'S' 'S' 'S' 'S' ... 'R' 'R' 'R' 'R'\n",
       "    adc_5_probe   (shot_number) object 'L' 'L' 'L' 'L' 'L' ... 'B' 'B' 'B' 'B'"
      ]
     },
     "execution_count": 16,
     "metadata": {},
     "output_type": "execute_result"
    }
   ],
   "source": [
    "tilt_da = helium_meta_ds[['shot_tilt', 'adc_4_probe', 'adc_5_probe']]\n",
    "tilt_da['shot_tilt'] = tilt_da.shot_tilt.round()\n",
    "tilt_da\n"
   ]
  },
  {
   "cell_type": "code",
   "execution_count": 19,
   "metadata": {},
   "outputs": [
    {
     "data": {
      "text/plain": [
       "<xarray.Dataset>\n",
       "Dimensions:      (direction: 2, probe: 4, shot_number: 22, time: 50)\n",
       "Coordinates:\n",
       "  * probe        (probe) object 'B' 'L' 'R' 'S'\n",
       "  * direction    (direction) object 'up' 'down'\n",
       "  * shot_number  (shot_number) int64 361 362 363 364 365 ... 385 386 387 388 389\n",
       "Dimensions without coordinates: time\n",
       "Data variables:\n",
       "    voltage      (shot_number, probe, direction, time) float64 nan nan ... nan\n",
       "    current      (shot_number, probe, direction, time) float64 nan nan ... nan\n",
       "    shot_time    (shot_number, probe, direction, time) float64 nan nan ... nan\n",
       "    start_time   (shot_number, probe, direction) float64 nan nan ... nan nan\n",
       "    d_current    (shot_number, probe, direction, time) float64 nan nan ... nan"
      ]
     },
     "execution_count": 19,
     "metadata": {},
     "output_type": "execute_result"
    }
   ],
   "source": [
    "# combined_ds = xr.open_mfdataset(files_oi, concat_dim=shot_numbers_da, preprocess=preprocess_average_downsample, parallel=True, combine='nested')\n",
    "# combined_ds = xr.open_mfdataset(files_oi, concat_dim=shot_numbers_da, preprocess=preprocess_average, parallel=True, combine='nested')\n",
    "combined_ds = xr.open_mfdataset(files_oi, concat_dim=shot_numbers_da, preprocess=preprocess_average, parallel=False, combine='nested')\n",
    "combined_ds = combined_ds.load()\n",
    "combined_ds"
   ]
  },
  {
   "cell_type": "code",
   "execution_count": 20,
   "metadata": {},
   "outputs": [
    {
     "data": {
      "text/plain": [
       "<xarray.Dataset>\n",
       "Dimensions:                 (direction: 2, probe: 4, shot_number: 22, time: 50, ts_radial_pos: 46)\n",
       "Coordinates:\n",
       "  * probe                   (probe) object 'B' 'L' 'R' 'S'\n",
       "  * direction               (direction) object 'up' 'down'\n",
       "  * shot_number             (shot_number) int64 361 362 363 364 ... 387 388 389\n",
       "    ts_number               (shot_number) float64 ...\n",
       "    ts_timestamp            (shot_number) float64 ...\n",
       "    ts_time                 (shot_number) datetime64[ns] ...\n",
       "    adc_index               (shot_number) float64 ...\n",
       "    adc_time                (shot_number) datetime64[ns] ...\n",
       "  * ts_radial_pos           (ts_radial_pos) float64 -36.47 -34.8 ... 37.14 38.82\n",
       "Dimensions without coordinates: time\n",
       "Data variables:\n",
       "    voltage                 (shot_number, probe, direction, time) float64 nan ... nan\n",
       "    current                 (shot_number, probe, direction, time) float64 nan ... nan\n",
       "    shot_time               (shot_number, probe, direction, time) float64 nan ... nan\n",
       "    start_time              (shot_number, probe, direction) float64 nan ... nan\n",
       "    d_current               (shot_number, probe, direction, time) float64 nan ... nan\n",
       "    adc_filename            (shot_number) object '2019-06-06 09h 49m 51s TT_06699321692420543855.adc' ... '2019-06-06 12h 14m 43s TT_06699359024431898401.adc'\n",
       "    ts_density              (shot_number, ts_radial_pos) float64 nan nan ... nan\n",
       "    ts_temperature          (shot_number, ts_radial_pos) float64 nan nan ... nan\n",
       "    ts_d_density            (shot_number, ts_radial_pos) float64 nan nan ... nan\n",
       "    ts_d_temperature        (shot_number, ts_radial_pos) float64 nan nan ... nan\n",
       "    adc_folder              (shot_number) object '2019-06-06_Leland/' ... '2019-06-06_Leland/'\n",
       "    adc_calibration_index   (shot_number) object '355' '355' ... '368' '368'\n",
       "    adc_4_probe             (shot_number) object 'S' 'S' 'S' 'S' ... 'R' 'R' 'R'\n",
       "    adc_5_probe             (shot_number) object 'L' 'L' 'L' 'L' ... 'B' 'B' 'B'\n",
       "    ts_temp_max             (shot_number) float64 7.225 8.182 ... 7.034 7.593\n",
       "    ts_dens_max             (shot_number) float64 1.037e+20 ... 8.97e+19\n",
       "    shot_end_time           (shot_number) datetime64[ns] 2019-06-06T08:49:53 ... 2019-06-06T11:14:45\n",
       "    ts_fl                   (shot_number) bool True True True ... True True True\n",
       "    sweep_time              (shot_number) datetime64[ns] 2019-06-06T08:49:36 ... 2019-06-06T11:14:29\n",
       "    shot_source_current     (shot_number) float64 120.6 120.4 ... 120.4 120.3\n",
       "    shot_b_field            (shot_number) float64 0.7999 0.7999 ... 0.7999\n",
       "    shot_tilt               (shot_number) float64 9.989 9.0 ... 1.001 0.006376\n",
       "    shot_target_pos         (shot_number) float64 -0.2 -0.2 -0.2 ... -0.2 -0.2\n",
       "    shot_target_rot         (shot_number) float64 -89.93 -89.93 ... -89.93\n",
       "    shot_target_pumpspeed   (shot_number) int32 82 82 82 82 82 ... 82 82 82 82\n",
       "    shot_source_pumpspeed   (shot_number) int32 82 82 82 82 82 ... 82 82 82 82\n",
       "    shot_heating_pumpspeed  (shot_number) int32 82 82 82 82 82 ... 82 82 82 82\n",
       "    shot_source_pos         (shot_number) float64 1.2 1.2 1.2 ... 1.2 1.2 1.2\n",
       "    shot_deuterium_gf       (shot_number) float64 7.421e-18 ... 0.001528\n",
       "    shot_hydrogen_gf        (shot_number) float64 0.0 0.0 0.0 ... 0.0 0.0 0.0\n",
       "    shot_helium_gf          (shot_number) float64 8.443 8.444 ... 8.443 8.443\n",
       "    shot_hydrogen_puffed    (shot_number) float64 -0.01681 -0.02085 ... -0.02713\n",
       "    shot_helium_puffed      (shot_number) float64 -0.05264 -0.05054 ... -0.05133\n",
       "    adc_timestamp           (shot_number) float64 6.699e+18 ... 6.699e+18\n",
       "    adc_4_coax              (shot_number) float64 1.0 1.0 1.0 ... 1.0 1.0 1.0\n",
       "    adc_4_shunt_resistance  (shot_number) float64 1.0 1.0 1.0 ... 1.0 1.0 1.0\n",
       "    adc_5_coax              (shot_number) float64 2.0 2.0 2.0 ... 2.0 2.0 2.0\n",
       "    adc_5_shunt_resistance  (shot_number) float64 1.0 1.0 1.0 ... 1.0 1.0 1.0\n",
       "    adc_calibration_fl      (shot_number) float64 0.0 0.0 0.0 ... 0.0 0.0 0.0\n",
       "    shot_fl                 (shot_number) float64 1.0 1.0 1.0 ... 1.0 1.0 1.0\n",
       "    acquisition_length      (shot_number) float64 10.0 10.0 10.0 ... 10.0 10.0\n",
       "    adc_end_time            (shot_number) datetime64[ns] 2019-06-06T08:49:51 ... 2019-06-06T11:14:43\n",
       "    adc_end_timestamp       (shot_number) float64 6.699e+18 ... 6.699e+18\n",
       "    adc_freqs               (shot_number) float64 1e+06 1e+06 ... 1e+06 1e+06"
      ]
     },
     "execution_count": 20,
     "metadata": {},
     "output_type": "execute_result"
    }
   ],
   "source": [
    "combined_all_ds = xr.merge([combined_ds, helium_meta_ds.rename({'shot_time':'sweep_time'})])\n",
    "combined_all_ds"
   ]
  },
  {
   "cell_type": "code",
   "execution_count": 21,
   "metadata": {},
   "outputs": [],
   "source": [
    "# combined_all_ds.to_netcdf('all_combined_ds.nc')\n",
    "# combined_all_ds.to_netcdf('joe_combined_ds.nc')"
   ]
  },
  {
   "cell_type": "code",
   "execution_count": 22,
   "metadata": {},
   "outputs": [
    {
     "ename": "NameError",
     "evalue": "name 'anglescan_ds' is not defined",
     "output_type": "error",
     "traceback": [
      "\u001b[0;31m---------------------------------------------------------------------------\u001b[0m",
      "\u001b[0;31mNameError\u001b[0m                                 Traceback (most recent call last)",
      "\u001b[0;32m<ipython-input-22-6fc87ee0957a>\u001b[0m in \u001b[0;36m<module>\u001b[0;34m\u001b[0m\n\u001b[0;32m----> 1\u001b[0;31m \u001b[0manglescan_ds\u001b[0m\u001b[0;34m.\u001b[0m\u001b[0mcompute\u001b[0m\u001b[0;34m(\u001b[0m\u001b[0;34m)\u001b[0m\u001b[0;34m.\u001b[0m\u001b[0mload\u001b[0m\u001b[0;34m(\u001b[0m\u001b[0;34m)\u001b[0m\u001b[0;34m\u001b[0m\u001b[0;34m\u001b[0m\u001b[0m\n\u001b[0m",
      "\u001b[0;31mNameError\u001b[0m: name 'anglescan_ds' is not defined"
     ]
    }
   ],
   "source": [
    "anglescan_ds.compute().load()"
   ]
  },
  {
   "cell_type": "code",
   "execution_count": 23,
   "metadata": {},
   "outputs": [
    {
     "name": "stderr",
     "output_type": "stream",
     "text": [
      "/home/jleland/coding/environments/python3.6/lib/python3.6/site-packages/xarray/core/nanops.py:140: RuntimeWarning: Mean of empty slice\n",
      "  return np.nanmean(a, axis=axis, dtype=dtype)\n"
     ]
    },
    {
     "data": {
      "text/plain": [
       "<xarray.Dataset>\n",
       "Dimensions:                 (probe: 4, tilt: 22, time: 50, ts_radial_pos: 46)\n",
       "Coordinates:\n",
       "    adc_time                (tilt) datetime64[ns] 2019-06-06T08:49:41 ... 2019-06-06T11:14:33\n",
       "    ts_number               (tilt) float64 471.0 472.0 473.0 ... 496.0 497.0\n",
       "    shot_number             (tilt) int32 361 362 363 364 365 ... 386 387 388 389\n",
       "    ts_time                 (tilt) datetime64[ns] 2019-06-06T08:49:41.690607 ... 2019-06-06T11:14:33.726839\n",
       "    ts_timestamp            (tilt) float64 6.699e+18 6.699e+18 ... 6.699e+18\n",
       "    adc_index               (tilt) float64 357.0 358.0 359.0 ... 385.0 386.0\n",
       "  * tilt                    (tilt) float64 10.0 9.0 8.0 7.0 ... 3.0 2.0 1.0 0.0\n",
       "  * ts_radial_pos           (ts_radial_pos) float64 -36.47 -34.8 ... 37.14 38.82\n",
       "  * probe                   (probe) object 'S' 'L' 'R' 'B'\n",
       "Dimensions without coordinates: time\n",
       "Data variables:\n",
       "    voltage                 (tilt, probe, time) float64 -33.19 -33.71 ... -8.424\n",
       "    current                 (tilt, probe, time) float64 0.7757 0.6612 ... 0.4684\n",
       "    shot_time               (tilt, probe, time) float64 6.002 6.002 ... 5.996\n",
       "    start_time              (tilt, probe) float64 5.999 5.999 ... 5.993 5.993\n",
       "    d_current               (tilt, probe, time) float64 0.4455 0.3866 ... 0.258\n",
       "    ts_density              (probe, tilt, ts_radial_pos) float64 nan nan ... nan\n",
       "    ts_temperature          (probe, tilt, ts_radial_pos) float64 nan nan ... nan\n",
       "    ts_d_density            (probe, tilt, ts_radial_pos) float64 nan nan ... nan\n",
       "    ts_d_temperature        (probe, tilt, ts_radial_pos) float64 nan nan ... nan\n",
       "    ts_temp_max             (probe, tilt) float64 7.225 8.182 ... 7.034 7.593\n",
       "    ts_dens_max             (probe, tilt) float64 1.037e+20 ... 8.97e+19\n",
       "    ts_fl                   (probe, tilt) float64 1.0 1.0 1.0 ... 1.0 1.0 1.0\n",
       "    shot_source_current     (probe, tilt) float64 120.6 120.4 ... 120.4 120.3\n",
       "    shot_b_field            (probe, tilt) float64 0.7999 0.7999 ... 0.7999\n",
       "    shot_tilt               (probe, tilt) float64 9.989 9.0 ... 1.001 0.006376\n",
       "    shot_target_pos         (probe, tilt) float64 -0.2 -0.2 -0.2 ... -0.2 -0.2\n",
       "    shot_target_rot         (probe, tilt) float64 -89.93 -89.93 ... -89.93\n",
       "    shot_target_pumpspeed   (probe, tilt) float64 82.0 82.0 82.0 ... 82.0 82.0\n",
       "    shot_source_pumpspeed   (probe, tilt) float64 82.0 82.0 82.0 ... 82.0 82.0\n",
       "    shot_heating_pumpspeed  (probe, tilt) float64 82.0 82.0 82.0 ... 82.0 82.0\n",
       "    shot_source_pos         (probe, tilt) float64 1.2 1.2 1.2 ... 1.2 1.2 1.2\n",
       "    shot_deuterium_gf       (probe, tilt) float64 7.421e-18 ... 0.001528\n",
       "    shot_hydrogen_gf        (probe, tilt) float64 0.0 0.0 0.0 ... 0.0 0.0 0.0\n",
       "    shot_helium_gf          (probe, tilt) float64 8.443 8.444 ... 8.443 8.443\n",
       "    shot_hydrogen_puffed    (probe, tilt) float64 -0.01681 -0.02085 ... -0.02713\n",
       "    shot_helium_puffed      (probe, tilt) float64 -0.05264 -0.05054 ... -0.05133\n",
       "    adc_timestamp           (probe, tilt) float64 6.699e+18 ... 6.699e+18\n",
       "    adc_4_coax              (probe, tilt) float64 1.0 1.0 1.0 ... 1.0 1.0 1.0\n",
       "    adc_4_shunt_resistance  (probe, tilt) float64 1.0 1.0 1.0 ... 1.0 1.0 1.0\n",
       "    adc_5_coax              (probe, tilt) float64 2.0 2.0 2.0 ... 2.0 2.0 2.0\n",
       "    adc_5_shunt_resistance  (probe, tilt) float64 1.0 1.0 1.0 ... 1.0 1.0 1.0\n",
       "    adc_calibration_fl      (probe, tilt) float64 0.0 0.0 0.0 ... 0.0 0.0 0.0\n",
       "    shot_fl                 (probe, tilt) float64 1.0 1.0 1.0 ... 1.0 1.0 1.0\n",
       "    acquisition_length      (probe, tilt) float64 10.0 10.0 10.0 ... 10.0 10.0\n",
       "    adc_end_timestamp       (probe, tilt) float64 6.699e+18 ... 6.699e+18\n",
       "    adc_freqs               (probe, tilt) float64 1e+06 1e+06 ... 1e+06 1e+06"
      ]
     },
     "execution_count": 23,
     "metadata": {},
     "output_type": "execute_result"
    }
   ],
   "source": [
    "anglescan_ds = xr.merge([combined_ds, helium_meta_ds.rename({'shot_time':'sweep_time'})]).assign_coords(tilt=helium_meta_ds['shot_tilt'].round())\n",
    "anglescan_ds = anglescan_ds.swap_dims({'shot_number':'tilt'}) #.mean('direction')\n",
    "\n",
    "# Reorganise to make tilt and probe dimensions\n",
    "probes_1 = anglescan_ds.sel(probe=['S', 'L']) #.where(np.isfinite(anglescan_ds.voltage), drop=True) \n",
    "probes_2 = anglescan_ds.sel(probe=['R', 'B']) #.where(np.isfinite(anglescan_ds.voltage), drop=True)\n",
    "\n",
    "anglescan_ds = xr.concat([probes_1, probes_2], dim='probe').mean('direction')\n",
    "anglescan_ds"
   ]
  },
  {
   "cell_type": "code",
   "execution_count": 18,
   "metadata": {},
   "outputs": [],
   "source": [
    "colourmap = plt.get_cmap('nipy_spectral')\n",
    "mpl.rcParams['axes.prop_cycle'] = mpl.cycler(color=[colourmap(k) for k in np.linspace(0, 1, 12)])"
   ]
  },
  {
   "cell_type": "code",
   "execution_count": 38,
   "metadata": {},
   "outputs": [],
   "source": [
    "iv_fig, iv_ax = plt.subplots(2, 2, sharex=True)\n",
    "for i, probe in enumerate(anglescan_ds['probe'].values):\n",
    "    iv_ax[i%2][i//2].set_title(probe)\n",
    "    \n",
    "    ds = anglescan_ds.sel(probe=probe)\n",
    "    ds.set_coords('voltage')['current'].plot.line(ax=iv_ax[i%2][i//2], x='voltage', hue='tilt')\n",
    "    iv_ax[i%2][i//2].set_ylabel('I (A)')\n",
    "    iv_ax[i%2][i//2].set_xlabel(r'$V_P$ (V)')\n",
    "    \n",
    "# plt.tight_layout()\n",
    "iv_fig.suptitle('IV characteristics for He shot @ 0.8T')\n",
    "plt.show()"
   ]
  },
  {
   "cell_type": "code",
   "execution_count": 29,
   "metadata": {},
   "outputs": [],
   "source": [
    "iv_fig, iv_ax = plt.subplots(2, 2, sharex=True)\n",
    "for i, probe in enumerate(anglescan_ds['probe'].values):\n",
    "    iv_ax[i%2][i//2].set_title(probe)\n",
    "    \n",
    "    ds = anglescan_ds.sel(probe=probe)\n",
    "    ds.set_coords('voltage')['voltage'].plot.line(ax=iv_ax[i%2][i//2], x='time', hue='tilt')\n",
    "    iv_ax[i%2][i//2].set_ylabel(r'$V_P$ (V)')\n",
    "    iv_ax[i%2][i//2].set_xlabel('t (ms)')\n",
    "    \n",
    "# plt.tight_layout()\n",
    "plt.show()"
   ]
  },
  {
   "cell_type": "code",
   "execution_count": 39,
   "metadata": {},
   "outputs": [
    {
     "name": "stderr",
     "output_type": "stream",
     "text": [
      "/home/jleland/coding/environments/python3.6/lib/python3.6/site-packages/xarray/core/nanops.py:140: RuntimeWarning: Mean of empty slice\n",
      "  return np.nanmean(a, axis=axis, dtype=dtype)\n",
      "/home/jleland/coding/environments/python3.6/lib/python3.6/site-packages/numpy/lib/nanfunctions.py:1666: RuntimeWarning: Degrees of freedom <= 0 for slice.\n",
      "  keepdims=keepdims)\n"
     ]
    },
    {
     "name": "stdout",
     "output_type": "stream",
     "text": [
      "(46,)\n"
     ]
    },
    {
     "data": {
      "text/plain": [
       "Text(0.5, 0.98, 'Thomson Scattering profiles for He shot @ 0.8T')"
      ]
     },
     "execution_count": 39,
     "metadata": {},
     "output_type": "execute_result"
    }
   ],
   "source": [
    "# ts_temp = anglescan_ds.ts_temperature.mean(['probe', 'tilt', 'time'])\n",
    "# ts_d_temp = anglescan_ds.ts_temperature.std(['probe', 'tilt', 'time'])\n",
    "# ts_dens = anglescan_ds.ts_density.mean(['probe', 'tilt', 'time'])\n",
    "# ts_d_dens = anglescan_ds.ts_density.std(['probe', 'tilt', 'time'])\n",
    "ts_temp = anglescan_ds.ts_temperature.mean(['probe', 'tilt'])\n",
    "ts_d_temp = anglescan_ds.ts_temperature.std(['probe', 'tilt'])\n",
    "ts_dens = anglescan_ds.ts_density.mean(['probe', 'tilt'])\n",
    "ts_d_dens = anglescan_ds.ts_density.std(['probe', 'tilt'])\n",
    "\n",
    "print(ts_temp.shape)\n",
    "\n",
    "fig, ax = plt.subplots(2)\n",
    "ax[0].set_title('Temperature')\n",
    "ax[1].set_title('Density')\n",
    "# ax[0].errorbar(helium_anglescan_ds.ts_radial_pos, ts_temp, yerr=helium_anglescan_ds.ts_d_temperature.mean('shot_number'), color='silver', ecolor='silver')\n",
    "ax[0].errorbar(anglescan_ds.ts_radial_pos, ts_temp, yerr=ts_d_temp)\n",
    "ax[1].errorbar(anglescan_ds.ts_radial_pos, ts_dens, yerr=ts_d_dens)\n",
    "# ts_temp.plot.line(ax=ax[0])\n",
    "# ts_dens.plot.line(ax=ax[1])\n",
    "for i in [0, 1]:\n",
    "    for probe_pos in [-6, 4, 14, 24]:\n",
    "        ax[i].axvline(x=probe_pos, color='black', linewidth=1, linestyle='dashed')\n",
    "plt.show()\n",
    "fig.suptitle('Thomson Scattering profiles for He shot @ 0.8T')\n"
   ]
  },
  {
   "cell_type": "code",
   "execution_count": 31,
   "metadata": {},
   "outputs": [
    {
     "name": "stdout",
     "output_type": "stream",
     "text": [
      "1.0190559530800039 0.03739069064835448\n",
      "-0.8821678229353644 0.04090105998671816\n",
      "0.06844406507231972 0.058331402026303686\n"
     ]
    }
   ],
   "source": [
    "# helium_anglescan_ds.where(helium_anglescan_ds.ts_temperature == helium_anglescan_ds.max('ts_radial_pos')['ts_temperature'])\n",
    "middle_temps = anglescan_ds.isel(ts_radial_pos=anglescan_ds['ts_temperature'].argmax('ts_radial_pos'))['ts_radial_pos']\n",
    "middle_dens = anglescan_ds.isel(ts_radial_pos=anglescan_ds['ts_density'].argmax('ts_radial_pos'))['ts_radial_pos']\n",
    "middle_combo = np.concatenate([middle_temps.values, middle_dens.values])\n",
    "\n",
    "print(middle_dens.mean().values, middle_dens.std().values / 22)\n",
    "print(middle_temps.mean().values, middle_temps.std().values / 22)\n",
    "print(middle_combo.mean(), middle_combo.std() / 22)"
   ]
  },
  {
   "cell_type": "code",
   "execution_count": 32,
   "metadata": {},
   "outputs": [
    {
     "name": "stdout",
     "output_type": "stream",
     "text": [
      "{'L': array(3.58860903), 'S': array(6.04210037), 'B': array(1.92278266), 'R': array(0.40818145)}\n",
      "{'L': array(5.28222965e+19), 'S': array(8.34363829e+19), 'B': array(1.93914071e+19), 'R': array(2.26544465e+18)}\n"
     ]
    }
   ],
   "source": [
    "probe_temps = {}\n",
    "probe_denss = {}\n",
    "for probe, probe_pos in {'L':6, 'S':-4, 'B':-14, 'R':-24}.items():\n",
    "    probe_temps[probe] = ts_temp.interp(ts_radial_pos=probe_pos).values\n",
    "    probe_denss[probe] = ts_dens.interp(ts_radial_pos=probe_pos).values\n",
    "    \n",
    "print(probe_temps)\n",
    "print(probe_denss)"
   ]
  },
  {
   "cell_type": "code",
   "execution_count": 33,
   "metadata": {},
   "outputs": [
    {
     "data": {
      "text/plain": [
       "<xarray.Dataset>\n",
       "Dimensions:                 (probe: 4, tilt: 22, time: 50, ts_radial_pos: 46)\n",
       "Coordinates:\n",
       "    adc_time                (tilt) datetime64[ns] 2019-06-06T08:49:41 ... 2019-06-06T11:14:33\n",
       "    ts_number               (tilt) float64 471.0 472.0 473.0 ... 496.0 497.0\n",
       "    shot_number             (tilt) int32 361 362 363 364 365 ... 386 387 388 389\n",
       "    ts_time                 (tilt) datetime64[ns] 2019-06-06T08:49:41.690607 ... 2019-06-06T11:14:33.726839\n",
       "    ts_timestamp            (tilt) float64 6.699e+18 6.699e+18 ... 6.699e+18\n",
       "    adc_index               (tilt) float64 357.0 358.0 359.0 ... 385.0 386.0\n",
       "  * tilt                    (tilt) float64 10.0 9.0 8.0 7.0 ... 3.0 2.0 1.0 0.0\n",
       "  * ts_radial_pos           (ts_radial_pos) float64 -36.47 -34.8 ... 37.14 38.82\n",
       "  * probe                   (probe) object 'S' 'L' 'R' 'B'\n",
       "Dimensions without coordinates: time\n",
       "Data variables:\n",
       "    voltage                 (tilt, probe, time) float64 -33.19 -33.71 ... -8.424\n",
       "    current                 (tilt, probe, time) float64 0.7757 0.6612 ... 0.4684\n",
       "    shot_time               (tilt, probe, time) float64 6.002 6.002 ... 5.996\n",
       "    start_time              (tilt, probe) float64 5.999 5.999 ... 5.993 5.993\n",
       "    d_current               (tilt, probe, time) float64 0.4455 0.3866 ... 0.258\n",
       "    ts_density              (probe, tilt, ts_radial_pos) float64 nan nan ... nan\n",
       "    ts_temperature          (probe, tilt, ts_radial_pos) float64 nan nan ... nan\n",
       "    ts_d_density            (probe, tilt, ts_radial_pos) float64 nan nan ... nan\n",
       "    ts_d_temperature        (probe, tilt, ts_radial_pos) float64 nan nan ... nan\n",
       "    ts_temp_max             (probe, tilt) float64 7.225 8.182 ... 7.034 7.593\n",
       "    ts_dens_max             (probe, tilt) float64 1.037e+20 ... 8.97e+19\n",
       "    ts_fl                   (probe, tilt) float64 1.0 1.0 1.0 ... 1.0 1.0 1.0\n",
       "    shot_source_current     (probe, tilt) float64 120.6 120.4 ... 120.4 120.3\n",
       "    shot_b_field            (probe, tilt) float64 0.7999 0.7999 ... 0.7999\n",
       "    shot_tilt               (probe, tilt) float64 9.989 9.0 ... 1.001 0.006376\n",
       "    shot_target_pos         (probe, tilt) float64 -0.2 -0.2 -0.2 ... -0.2 -0.2\n",
       "    shot_target_rot         (probe, tilt) float64 -89.93 -89.93 ... -89.93\n",
       "    shot_target_pumpspeed   (probe, tilt) float64 82.0 82.0 82.0 ... 82.0 82.0\n",
       "    shot_source_pumpspeed   (probe, tilt) float64 82.0 82.0 82.0 ... 82.0 82.0\n",
       "    shot_heating_pumpspeed  (probe, tilt) float64 82.0 82.0 82.0 ... 82.0 82.0\n",
       "    shot_source_pos         (probe, tilt) float64 1.2 1.2 1.2 ... 1.2 1.2 1.2\n",
       "    shot_deuterium_gf       (probe, tilt) float64 7.421e-18 ... 0.001528\n",
       "    shot_hydrogen_gf        (probe, tilt) float64 0.0 0.0 0.0 ... 0.0 0.0 0.0\n",
       "    shot_helium_gf          (probe, tilt) float64 8.443 8.444 ... 8.443 8.443\n",
       "    shot_hydrogen_puffed    (probe, tilt) float64 -0.01681 -0.02085 ... -0.02713\n",
       "    shot_helium_puffed      (probe, tilt) float64 -0.05264 -0.05054 ... -0.05133\n",
       "    adc_timestamp           (probe, tilt) float64 6.699e+18 ... 6.699e+18\n",
       "    adc_4_coax              (probe, tilt) float64 1.0 1.0 1.0 ... 1.0 1.0 1.0\n",
       "    adc_4_shunt_resistance  (probe, tilt) float64 1.0 1.0 1.0 ... 1.0 1.0 1.0\n",
       "    adc_5_coax              (probe, tilt) float64 2.0 2.0 2.0 ... 2.0 2.0 2.0\n",
       "    adc_5_shunt_resistance  (probe, tilt) float64 1.0 1.0 1.0 ... 1.0 1.0 1.0\n",
       "    adc_calibration_fl      (probe, tilt) float64 0.0 0.0 0.0 ... 0.0 0.0 0.0\n",
       "    shot_fl                 (probe, tilt) float64 1.0 1.0 1.0 ... 1.0 1.0 1.0\n",
       "    acquisition_length      (probe, tilt) float64 10.0 10.0 10.0 ... 10.0 10.0\n",
       "    adc_end_timestamp       (probe, tilt) float64 6.699e+18 ... 6.699e+18\n",
       "    adc_freqs               (probe, tilt) float64 1e+06 1e+06 ... 1e+06 1e+06"
      ]
     },
     "execution_count": 33,
     "metadata": {},
     "output_type": "execute_result"
    }
   ],
   "source": [
    "anglescan_ds"
   ]
  },
  {
   "cell_type": "code",
   "execution_count": 40,
   "metadata": {},
   "outputs": [
    {
     "name": "stderr",
     "output_type": "stream",
     "text": [
      "/home/jleland/coding/environments/python3.6/lib/python3.6/site-packages/xarray/core/nputils.py:223: RuntimeWarning: All-NaN slice encountered\n",
      "  result = getattr(npmodule, name)(values, axis=axis, **kwargs)\n",
      "/home/jleland/coding/environments/python3.6/lib/python3.6/site-packages/xarray/core/nputils.py:223: RuntimeWarning: All-NaN slice encountered\n",
      "  result = getattr(npmodule, name)(values, axis=axis, **kwargs)\n",
      "/home/jleland/coding/environments/python3.6/lib/python3.6/site-packages/xarray/core/nputils.py:223: RuntimeWarning: All-NaN slice encountered\n",
      "  result = getattr(npmodule, name)(values, axis=axis, **kwargs)\n",
      "/home/jleland/coding/environments/python3.6/lib/python3.6/site-packages/xarray/core/nputils.py:223: RuntimeWarning: All-NaN slice encountered\n",
      "  result = getattr(npmodule, name)(values, axis=axis, **kwargs)\n",
      "/home/jleland/coding/environments/python3.6/lib/python3.6/site-packages/xarray/core/nputils.py:223: RuntimeWarning: All-NaN slice encountered\n",
      "  result = getattr(npmodule, name)(values, axis=axis, **kwargs)\n",
      "/home/jleland/coding/environments/python3.6/lib/python3.6/site-packages/xarray/core/nputils.py:223: RuntimeWarning: All-NaN slice encountered\n",
      "  result = getattr(npmodule, name)(values, axis=axis, **kwargs)\n",
      "/home/jleland/coding/environments/python3.6/lib/python3.6/site-packages/xarray/core/nputils.py:223: RuntimeWarning: All-NaN slice encountered\n",
      "  result = getattr(npmodule, name)(values, axis=axis, **kwargs)\n",
      "/home/jleland/coding/environments/python3.6/lib/python3.6/site-packages/xarray/core/nputils.py:223: RuntimeWarning: All-NaN slice encountered\n",
      "  result = getattr(npmodule, name)(values, axis=axis, **kwargs)\n",
      "/home/jleland/coding/environments/python3.6/lib/python3.6/site-packages/xarray/core/nputils.py:223: RuntimeWarning: All-NaN slice encountered\n",
      "  result = getattr(npmodule, name)(values, axis=axis, **kwargs)\n",
      "/home/jleland/coding/environments/python3.6/lib/python3.6/site-packages/xarray/core/nputils.py:223: RuntimeWarning: All-NaN slice encountered\n",
      "  result = getattr(npmodule, name)(values, axis=axis, **kwargs)\n",
      "/home/jleland/coding/environments/python3.6/lib/python3.6/site-packages/xarray/core/nputils.py:223: RuntimeWarning: All-NaN slice encountered\n",
      "  result = getattr(npmodule, name)(values, axis=axis, **kwargs)\n",
      "/home/jleland/coding/environments/python3.6/lib/python3.6/site-packages/xarray/core/nputils.py:223: RuntimeWarning: All-NaN slice encountered\n",
      "  result = getattr(npmodule, name)(values, axis=axis, **kwargs)\n",
      "/home/jleland/coding/environments/python3.6/lib/python3.6/site-packages/xarray/core/nputils.py:223: RuntimeWarning: All-NaN slice encountered\n",
      "  result = getattr(npmodule, name)(values, axis=axis, **kwargs)\n",
      "/home/jleland/coding/environments/python3.6/lib/python3.6/site-packages/xarray/core/nputils.py:223: RuntimeWarning: All-NaN slice encountered\n",
      "  result = getattr(npmodule, name)(values, axis=axis, **kwargs)\n",
      "/home/jleland/coding/environments/python3.6/lib/python3.6/site-packages/xarray/core/nputils.py:223: RuntimeWarning: All-NaN slice encountered\n",
      "  result = getattr(npmodule, name)(values, axis=axis, **kwargs)\n",
      "/home/jleland/coding/environments/python3.6/lib/python3.6/site-packages/xarray/core/nputils.py:223: RuntimeWarning: All-NaN slice encountered\n",
      "  result = getattr(npmodule, name)(values, axis=axis, **kwargs)\n",
      "/home/jleland/coding/environments/python3.6/lib/python3.6/site-packages/xarray/core/nputils.py:223: RuntimeWarning: All-NaN slice encountered\n",
      "  result = getattr(npmodule, name)(values, axis=axis, **kwargs)\n",
      "/home/jleland/coding/environments/python3.6/lib/python3.6/site-packages/xarray/core/nputils.py:223: RuntimeWarning: All-NaN slice encountered\n",
      "  result = getattr(npmodule, name)(values, axis=axis, **kwargs)\n",
      "/home/jleland/coding/environments/python3.6/lib/python3.6/site-packages/xarray/core/nputils.py:223: RuntimeWarning: All-NaN slice encountered\n",
      "  result = getattr(npmodule, name)(values, axis=axis, **kwargs)\n",
      "/home/jleland/coding/environments/python3.6/lib/python3.6/site-packages/xarray/core/nputils.py:223: RuntimeWarning: All-NaN slice encountered\n",
      "  result = getattr(npmodule, name)(values, axis=axis, **kwargs)\n",
      "/home/jleland/coding/environments/python3.6/lib/python3.6/site-packages/xarray/core/nputils.py:223: RuntimeWarning: All-NaN slice encountered\n",
      "  result = getattr(npmodule, name)(values, axis=axis, **kwargs)\n",
      "/home/jleland/coding/environments/python3.6/lib/python3.6/site-packages/xarray/core/nputils.py:223: RuntimeWarning: All-NaN slice encountered\n",
      "  result = getattr(npmodule, name)(values, axis=axis, **kwargs)\n"
     ]
    },
    {
     "data": {
      "text/plain": [
       "Text(0.5, 0.98, 'Anglescan fitting for He shot @ 0.8T')"
      ]
     },
     "execution_count": 40,
     "metadata": {},
     "output_type": "execute_result"
    }
   ],
   "source": [
    "# fit and plot for a single probe\n",
    "probes = ['S', 'L', 'B', 'R']\n",
    "dens = {label: [] for label in probes}\n",
    "temps = {label: [] for label in probes}\n",
    "fig, axes = plt.subplots(3)\n",
    "\n",
    "probe = 'S'\n",
    "for tilt in tilt_da['shot_tilt'].values:\n",
    "#     ds = anglescan_ds.sel(probe=probe, direction='up').max('ts_radial_pos')\n",
    "    ds = anglescan_ds.sel(probe=probe).max('ts_radial_pos')\n",
    "    ds = ds.where(np.logical_and(np.isfinite(ds.voltage), ds.tilt == tilt), drop=True)\n",
    "#     print(ds['current'].values[0])\n",
    "\n",
    "#     print(shot_iv.keys(), shot_iv['sigma'])\n",
    "    try:\n",
    "        shot_iv = iv.IVData(ds['voltage'].values[0],\n",
    "                    -ds['current'].values[0],\n",
    "                    ds['shot_time'].values[0],\n",
    "                    estimate_error_fl=True)\n",
    "#         iv_fitter = fts.FullIVFitter()\n",
    "#         shot_fit = iv_fitter.fit_iv_data(shot_iv, sigma=shot_iv['sigma'])\n",
    "        shot_fit = shot_iv.multi_fit(sat_region=-60)\n",
    "        dens[probe].append(magnum_probes[probe].get_density(shot_fit.get_isat(), shot_fit.get_temp(), alpha=np.radians(tilt)))\n",
    "        temps[probe].append(shot_fit.get_temp())\n",
    "        axes[2].plot(*shot_fit.get_fit_plottables(), label=f'tilt = {tilt}')\n",
    "        axes[2].plot(*shot_fit.get_raw_plottables(), color='silver')\n",
    "    except:\n",
    "        dens[probe].append(np.nan)\n",
    "        temps[probe].append(np.nan)\n",
    "\n",
    "axes[0].plot(tilt_da['shot_tilt'].values, dens[probe], 'x', label=probe)\n",
    "axes[0].axhline(y=probe_denss[probe], color='red', linewidth=0.5, linestyle='dashed')\n",
    "\n",
    "axes[1].plot(tilt_da['shot_tilt'].values, temps[probe], 'x', label=probe)\n",
    "axes[1].axhline(y=probe_temps[probe], color='red', linewidth=0.5, linestyle='dashed')\n",
    "\n",
    "axes[2].legend()\n",
    "\n",
    "fig.suptitle('Anglescan fitting for He shot @ 0.8T')\n"
   ]
  },
  {
   "cell_type": "code",
   "execution_count": 36,
   "metadata": {
    "collapsed": true,
    "jupyter": {
     "outputs_hidden": true
    }
   },
   "outputs": [
    {
     "name": "stderr",
     "output_type": "stream",
     "text": [
      "/home/jleland/coding/environments/python3.6/lib/python3.6/site-packages/xarray/core/nputils.py:223: RuntimeWarning: All-NaN slice encountered\n",
      "  result = getattr(npmodule, name)(values, axis=axis, **kwargs)\n",
      "/home/jleland/coding/environments/python3.6/lib/python3.6/site-packages/xarray/core/nputils.py:223: RuntimeWarning: All-NaN slice encountered\n",
      "  result = getattr(npmodule, name)(values, axis=axis, **kwargs)\n",
      "/home/jleland/coding/environments/python3.6/lib/python3.6/site-packages/xarray/core/nputils.py:223: RuntimeWarning: All-NaN slice encountered\n",
      "  result = getattr(npmodule, name)(values, axis=axis, **kwargs)\n",
      "/home/jleland/coding/environments/python3.6/lib/python3.6/site-packages/xarray/core/nputils.py:223: RuntimeWarning: All-NaN slice encountered\n",
      "  result = getattr(npmodule, name)(values, axis=axis, **kwargs)\n"
     ]
    },
    {
     "name": "stdout",
     "output_type": "stream",
     "text": [
      "1 1\n",
      "[array([3.59096595e+19])] [7.295757449468269]\n",
      "unsupported format string passed to numpy.ndarray.__format__\n",
      "2 2\n",
      "[array([3.59096595e+19]), array([3.95527331e+19])] [7.295757449468269, 7.169469182710168]\n",
      "unsupported format string passed to numpy.ndarray.__format__\n",
      "3 3\n",
      "[array([3.59096595e+19]), array([3.95527331e+19]), array([4.5837848e+19])] [7.295757449468269, 7.169469182710168, 6.660347565273196]\n",
      "unsupported format string passed to numpy.ndarray.__format__\n",
      "4 4\n",
      "[array([3.59096595e+19]), array([3.95527331e+19]), array([4.5837848e+19]), array([5.09459755e+19])] [7.295757449468269, 7.169469182710168, 6.660347565273196, 6.063647612659211]\n",
      "unsupported format string passed to numpy.ndarray.__format__\n"
     ]
    },
    {
     "name": "stderr",
     "output_type": "stream",
     "text": [
      "/home/jleland/coding/environments/python3.6/lib/python3.6/site-packages/xarray/core/nputils.py:223: RuntimeWarning: All-NaN slice encountered\n",
      "  result = getattr(npmodule, name)(values, axis=axis, **kwargs)\n",
      "/home/jleland/coding/environments/python3.6/lib/python3.6/site-packages/xarray/core/nputils.py:223: RuntimeWarning: All-NaN slice encountered\n",
      "  result = getattr(npmodule, name)(values, axis=axis, **kwargs)\n",
      "/home/jleland/coding/environments/python3.6/lib/python3.6/site-packages/xarray/core/nputils.py:223: RuntimeWarning: All-NaN slice encountered\n",
      "  result = getattr(npmodule, name)(values, axis=axis, **kwargs)\n",
      "/home/jleland/coding/environments/python3.6/lib/python3.6/site-packages/xarray/core/nputils.py:223: RuntimeWarning: All-NaN slice encountered\n",
      "  result = getattr(npmodule, name)(values, axis=axis, **kwargs)\n"
     ]
    },
    {
     "name": "stdout",
     "output_type": "stream",
     "text": [
      "5 5\n",
      "[array([3.59096595e+19]), array([3.95527331e+19]), array([4.5837848e+19]), array([5.09459755e+19]), array([5.22501799e+19])] [7.295757449468269, 7.169469182710168, 6.660347565273196, 6.063647612659211, 5.807978504414076]\n",
      "unsupported format string passed to numpy.ndarray.__format__\n",
      "6 6\n",
      "[array([3.59096595e+19]), array([3.95527331e+19]), array([4.5837848e+19]), array([5.09459755e+19]), array([5.22501799e+19]), array([5.18872175e+19])] [7.295757449468269, 7.169469182710168, 6.660347565273196, 6.063647612659211, 5.807978504414076, 5.575653172340178]\n",
      "unsupported format string passed to numpy.ndarray.__format__\n",
      "7 7\n",
      "[array([3.59096595e+19]), array([3.95527331e+19]), array([4.5837848e+19]), array([5.09459755e+19]), array([5.22501799e+19]), array([5.18872175e+19]), array([4.78534321e+19])] [7.295757449468269, 7.169469182710168, 6.660347565273196, 6.063647612659211, 5.807978504414076, 5.575653172340178, 5.662628706755108]\n",
      "unsupported format string passed to numpy.ndarray.__format__\n",
      "8 8\n",
      "[array([3.59096595e+19]), array([3.95527331e+19]), array([4.5837848e+19]), array([5.09459755e+19]), array([5.22501799e+19]), array([5.18872175e+19]), array([4.78534321e+19]), array([4.38097766e+19])] [7.295757449468269, 7.169469182710168, 6.660347565273196, 6.063647612659211, 5.807978504414076, 5.575653172340178, 5.662628706755108, 5.698947064350626]\n",
      "unsupported format string passed to numpy.ndarray.__format__\n",
      "9 9\n",
      "[array([3.59096595e+19]), array([3.95527331e+19]), array([4.5837848e+19]), array([5.09459755e+19]), array([5.22501799e+19]), array([5.18872175e+19]), array([4.78534321e+19]), array([4.38097766e+19]), array([3.79233374e+19])] [7.295757449468269, 7.169469182710168, 6.660347565273196, 6.063647612659211, 5.807978504414076, 5.575653172340178, 5.662628706755108, 5.698947064350626, 5.657706168903304]\n",
      "unsupported format string passed to numpy.ndarray.__format__\n",
      "10 10\n",
      "[array([3.59096595e+19]), array([3.95527331e+19]), array([4.5837848e+19]), array([5.09459755e+19]), array([5.22501799e+19]), array([5.18872175e+19]), array([4.78534321e+19]), array([4.38097766e+19]), array([3.79233374e+19]), array([3.70441005e+19])] [7.295757449468269, 7.169469182710168, 6.660347565273196, 6.063647612659211, 5.807978504414076, 5.575653172340178, 5.662628706755108, 5.698947064350626, 5.657706168903304, 5.028272261589206]\n",
      "unsupported format string passed to numpy.ndarray.__format__\n",
      "11 11\n",
      "[array([3.59096595e+19]), array([3.95527331e+19]), array([4.5837848e+19]), array([5.09459755e+19]), array([5.22501799e+19]), array([5.18872175e+19]), array([4.78534321e+19]), array([4.38097766e+19]), array([3.79233374e+19]), array([3.70441005e+19]), array([3.66578192e+19])] [7.295757449468269, 7.169469182710168, 6.660347565273196, 6.063647612659211, 5.807978504414076, 5.575653172340178, 5.662628706755108, 5.698947064350626, 5.657706168903304, 5.028272261589206, 4.95947564714626]\n",
      "unsupported format string passed to numpy.ndarray.__format__\n"
     ]
    },
    {
     "name": "stderr",
     "output_type": "stream",
     "text": [
      "/home/jleland/coding/environments/python3.6/lib/python3.6/site-packages/xarray/core/nputils.py:223: RuntimeWarning: All-NaN slice encountered\n",
      "  result = getattr(npmodule, name)(values, axis=axis, **kwargs)\n",
      "/home/jleland/coding/environments/python3.6/lib/python3.6/site-packages/xarray/core/nputils.py:223: RuntimeWarning: All-NaN slice encountered\n",
      "  result = getattr(npmodule, name)(values, axis=axis, **kwargs)\n",
      "/home/jleland/coding/environments/python3.6/lib/python3.6/site-packages/xarray/core/nputils.py:223: RuntimeWarning: All-NaN slice encountered\n",
      "  result = getattr(npmodule, name)(values, axis=axis, **kwargs)\n",
      "/home/jleland/coding/environments/python3.6/lib/python3.6/site-packages/xarray/core/nputils.py:223: RuntimeWarning: All-NaN slice encountered\n",
      "  result = getattr(npmodule, name)(values, axis=axis, **kwargs)\n"
     ]
    },
    {
     "name": "stdout",
     "output_type": "stream",
     "text": [
      "12 12\n",
      "[array([3.59096595e+19]), array([3.95527331e+19]), array([4.5837848e+19]), array([5.09459755e+19]), array([5.22501799e+19]), array([5.18872175e+19]), array([4.78534321e+19]), array([4.38097766e+19]), array([3.79233374e+19]), array([3.70441005e+19]), array([3.66578192e+19]), array([3.59096595e+19])] [7.295757449468269, 7.169469182710168, 6.660347565273196, 6.063647612659211, 5.807978504414076, 5.575653172340178, 5.662628706755108, 5.698947064350626, 5.657706168903304, 5.028272261589206, 4.95947564714626, 7.295757449468269]\n",
      "unsupported format string passed to numpy.ndarray.__format__\n",
      "13 13\n",
      "[array([3.59096595e+19]), array([3.95527331e+19]), array([4.5837848e+19]), array([5.09459755e+19]), array([5.22501799e+19]), array([5.18872175e+19]), array([4.78534321e+19]), array([4.38097766e+19]), array([3.79233374e+19]), array([3.70441005e+19]), array([3.66578192e+19]), array([3.59096595e+19]), array([3.95527331e+19])] [7.295757449468269, 7.169469182710168, 6.660347565273196, 6.063647612659211, 5.807978504414076, 5.575653172340178, 5.662628706755108, 5.698947064350626, 5.657706168903304, 5.028272261589206, 4.95947564714626, 7.295757449468269, 7.169469182710168]\n",
      "unsupported format string passed to numpy.ndarray.__format__\n",
      "14 14\n",
      "[array([3.59096595e+19]), array([3.95527331e+19]), array([4.5837848e+19]), array([5.09459755e+19]), array([5.22501799e+19]), array([5.18872175e+19]), array([4.78534321e+19]), array([4.38097766e+19]), array([3.79233374e+19]), array([3.70441005e+19]), array([3.66578192e+19]), array([3.59096595e+19]), array([3.95527331e+19]), array([4.5837848e+19])] [7.295757449468269, 7.169469182710168, 6.660347565273196, 6.063647612659211, 5.807978504414076, 5.575653172340178, 5.662628706755108, 5.698947064350626, 5.657706168903304, 5.028272261589206, 4.95947564714626, 7.295757449468269, 7.169469182710168, 6.660347565273196]\n",
      "unsupported format string passed to numpy.ndarray.__format__\n"
     ]
    },
    {
     "name": "stderr",
     "output_type": "stream",
     "text": [
      "/home/jleland/coding/environments/python3.6/lib/python3.6/site-packages/xarray/core/nputils.py:223: RuntimeWarning: All-NaN slice encountered\n",
      "  result = getattr(npmodule, name)(values, axis=axis, **kwargs)\n",
      "/home/jleland/coding/environments/python3.6/lib/python3.6/site-packages/xarray/core/nputils.py:223: RuntimeWarning: All-NaN slice encountered\n",
      "  result = getattr(npmodule, name)(values, axis=axis, **kwargs)\n",
      "/home/jleland/coding/environments/python3.6/lib/python3.6/site-packages/xarray/core/nputils.py:223: RuntimeWarning: All-NaN slice encountered\n",
      "  result = getattr(npmodule, name)(values, axis=axis, **kwargs)\n",
      "/home/jleland/coding/environments/python3.6/lib/python3.6/site-packages/xarray/core/nputils.py:223: RuntimeWarning: All-NaN slice encountered\n",
      "  result = getattr(npmodule, name)(values, axis=axis, **kwargs)\n"
     ]
    },
    {
     "name": "stdout",
     "output_type": "stream",
     "text": [
      "15 15\n",
      "[array([3.59096595e+19]), array([3.95527331e+19]), array([4.5837848e+19]), array([5.09459755e+19]), array([5.22501799e+19]), array([5.18872175e+19]), array([4.78534321e+19]), array([4.38097766e+19]), array([3.79233374e+19]), array([3.70441005e+19]), array([3.66578192e+19]), array([3.59096595e+19]), array([3.95527331e+19]), array([4.5837848e+19]), array([5.09459755e+19])] [7.295757449468269, 7.169469182710168, 6.660347565273196, 6.063647612659211, 5.807978504414076, 5.575653172340178, 5.662628706755108, 5.698947064350626, 5.657706168903304, 5.028272261589206, 4.95947564714626, 7.295757449468269, 7.169469182710168, 6.660347565273196, 6.063647612659211]\n",
      "unsupported format string passed to numpy.ndarray.__format__\n",
      "16 16\n",
      "[array([3.59096595e+19]), array([3.95527331e+19]), array([4.5837848e+19]), array([5.09459755e+19]), array([5.22501799e+19]), array([5.18872175e+19]), array([4.78534321e+19]), array([4.38097766e+19]), array([3.79233374e+19]), array([3.70441005e+19]), array([3.66578192e+19]), array([3.59096595e+19]), array([3.95527331e+19]), array([4.5837848e+19]), array([5.09459755e+19]), array([5.22501799e+19])] [7.295757449468269, 7.169469182710168, 6.660347565273196, 6.063647612659211, 5.807978504414076, 5.575653172340178, 5.662628706755108, 5.698947064350626, 5.657706168903304, 5.028272261589206, 4.95947564714626, 7.295757449468269, 7.169469182710168, 6.660347565273196, 6.063647612659211, 5.807978504414076]\n",
      "unsupported format string passed to numpy.ndarray.__format__\n",
      "17 17\n",
      "[array([3.59096595e+19]), array([3.95527331e+19]), array([4.5837848e+19]), array([5.09459755e+19]), array([5.22501799e+19]), array([5.18872175e+19]), array([4.78534321e+19]), array([4.38097766e+19]), array([3.79233374e+19]), array([3.70441005e+19]), array([3.66578192e+19]), array([3.59096595e+19]), array([3.95527331e+19]), array([4.5837848e+19]), array([5.09459755e+19]), array([5.22501799e+19]), array([5.18872175e+19])] [7.295757449468269, 7.169469182710168, 6.660347565273196, 6.063647612659211, 5.807978504414076, 5.575653172340178, 5.662628706755108, 5.698947064350626, 5.657706168903304, 5.028272261589206, 4.95947564714626, 7.295757449468269, 7.169469182710168, 6.660347565273196, 6.063647612659211, 5.807978504414076, 5.575653172340178]\n",
      "unsupported format string passed to numpy.ndarray.__format__\n",
      "18 18\n",
      "[array([3.59096595e+19]), array([3.95527331e+19]), array([4.5837848e+19]), array([5.09459755e+19]), array([5.22501799e+19]), array([5.18872175e+19]), array([4.78534321e+19]), array([4.38097766e+19]), array([3.79233374e+19]), array([3.70441005e+19]), array([3.66578192e+19]), array([3.59096595e+19]), array([3.95527331e+19]), array([4.5837848e+19]), array([5.09459755e+19]), array([5.22501799e+19]), array([5.18872175e+19]), array([4.78534321e+19])] [7.295757449468269, 7.169469182710168, 6.660347565273196, 6.063647612659211, 5.807978504414076, 5.575653172340178, 5.662628706755108, 5.698947064350626, 5.657706168903304, 5.028272261589206, 4.95947564714626, 7.295757449468269, 7.169469182710168, 6.660347565273196, 6.063647612659211, 5.807978504414076, 5.575653172340178, 5.662628706755108]\n",
      "unsupported format string passed to numpy.ndarray.__format__\n"
     ]
    },
    {
     "name": "stderr",
     "output_type": "stream",
     "text": [
      "/home/jleland/coding/environments/python3.6/lib/python3.6/site-packages/xarray/core/nputils.py:223: RuntimeWarning: All-NaN slice encountered\n",
      "  result = getattr(npmodule, name)(values, axis=axis, **kwargs)\n",
      "/home/jleland/coding/environments/python3.6/lib/python3.6/site-packages/xarray/core/nputils.py:223: RuntimeWarning: All-NaN slice encountered\n",
      "  result = getattr(npmodule, name)(values, axis=axis, **kwargs)\n",
      "/home/jleland/coding/environments/python3.6/lib/python3.6/site-packages/xarray/core/nputils.py:223: RuntimeWarning: All-NaN slice encountered\n",
      "  result = getattr(npmodule, name)(values, axis=axis, **kwargs)\n",
      "/home/jleland/coding/environments/python3.6/lib/python3.6/site-packages/xarray/core/nputils.py:223: RuntimeWarning: All-NaN slice encountered\n",
      "  result = getattr(npmodule, name)(values, axis=axis, **kwargs)\n"
     ]
    },
    {
     "name": "stdout",
     "output_type": "stream",
     "text": [
      "19 19\n",
      "[array([3.59096595e+19]), array([3.95527331e+19]), array([4.5837848e+19]), array([5.09459755e+19]), array([5.22501799e+19]), array([5.18872175e+19]), array([4.78534321e+19]), array([4.38097766e+19]), array([3.79233374e+19]), array([3.70441005e+19]), array([3.66578192e+19]), array([3.59096595e+19]), array([3.95527331e+19]), array([4.5837848e+19]), array([5.09459755e+19]), array([5.22501799e+19]), array([5.18872175e+19]), array([4.78534321e+19]), array([4.38097766e+19])] [7.295757449468269, 7.169469182710168, 6.660347565273196, 6.063647612659211, 5.807978504414076, 5.575653172340178, 5.662628706755108, 5.698947064350626, 5.657706168903304, 5.028272261589206, 4.95947564714626, 7.295757449468269, 7.169469182710168, 6.660347565273196, 6.063647612659211, 5.807978504414076, 5.575653172340178, 5.662628706755108, 5.698947064350626]\n",
      "unsupported format string passed to numpy.ndarray.__format__\n",
      "20 20\n",
      "[array([3.59096595e+19]), array([3.95527331e+19]), array([4.5837848e+19]), array([5.09459755e+19]), array([5.22501799e+19]), array([5.18872175e+19]), array([4.78534321e+19]), array([4.38097766e+19]), array([3.79233374e+19]), array([3.70441005e+19]), array([3.66578192e+19]), array([3.59096595e+19]), array([3.95527331e+19]), array([4.5837848e+19]), array([5.09459755e+19]), array([5.22501799e+19]), array([5.18872175e+19]), array([4.78534321e+19]), array([4.38097766e+19]), array([3.79233374e+19])] [7.295757449468269, 7.169469182710168, 6.660347565273196, 6.063647612659211, 5.807978504414076, 5.575653172340178, 5.662628706755108, 5.698947064350626, 5.657706168903304, 5.028272261589206, 4.95947564714626, 7.295757449468269, 7.169469182710168, 6.660347565273196, 6.063647612659211, 5.807978504414076, 5.575653172340178, 5.662628706755108, 5.698947064350626, 5.657706168903304]\n",
      "unsupported format string passed to numpy.ndarray.__format__\n",
      "21 21\n",
      "[array([3.59096595e+19]), array([3.95527331e+19]), array([4.5837848e+19]), array([5.09459755e+19]), array([5.22501799e+19]), array([5.18872175e+19]), array([4.78534321e+19]), array([4.38097766e+19]), array([3.79233374e+19]), array([3.70441005e+19]), array([3.66578192e+19]), array([3.59096595e+19]), array([3.95527331e+19]), array([4.5837848e+19]), array([5.09459755e+19]), array([5.22501799e+19]), array([5.18872175e+19]), array([4.78534321e+19]), array([4.38097766e+19]), array([3.79233374e+19]), array([3.70441005e+19])] [7.295757449468269, 7.169469182710168, 6.660347565273196, 6.063647612659211, 5.807978504414076, 5.575653172340178, 5.662628706755108, 5.698947064350626, 5.657706168903304, 5.028272261589206, 4.95947564714626, 7.295757449468269, 7.169469182710168, 6.660347565273196, 6.063647612659211, 5.807978504414076, 5.575653172340178, 5.662628706755108, 5.698947064350626, 5.657706168903304, 5.028272261589206]\n",
      "unsupported format string passed to numpy.ndarray.__format__\n"
     ]
    },
    {
     "name": "stderr",
     "output_type": "stream",
     "text": [
      "/home/jleland/coding/environments/python3.6/lib/python3.6/site-packages/xarray/core/nputils.py:223: RuntimeWarning: All-NaN slice encountered\n",
      "  result = getattr(npmodule, name)(values, axis=axis, **kwargs)\n",
      "/home/jleland/coding/environments/python3.6/lib/python3.6/site-packages/xarray/core/nputils.py:223: RuntimeWarning: All-NaN slice encountered\n",
      "  result = getattr(npmodule, name)(values, axis=axis, **kwargs)\n"
     ]
    },
    {
     "name": "stdout",
     "output_type": "stream",
     "text": [
      "22 22\n",
      "[array([3.59096595e+19]), array([3.95527331e+19]), array([4.5837848e+19]), array([5.09459755e+19]), array([5.22501799e+19]), array([5.18872175e+19]), array([4.78534321e+19]), array([4.38097766e+19]), array([3.79233374e+19]), array([3.70441005e+19]), array([3.66578192e+19]), array([3.59096595e+19]), array([3.95527331e+19]), array([4.5837848e+19]), array([5.09459755e+19]), array([5.22501799e+19]), array([5.18872175e+19]), array([4.78534321e+19]), array([4.38097766e+19]), array([3.79233374e+19]), array([3.70441005e+19]), array([3.66578192e+19])] [7.295757449468269, 7.169469182710168, 6.660347565273196, 6.063647612659211, 5.807978504414076, 5.575653172340178, 5.662628706755108, 5.698947064350626, 5.657706168903304, 5.028272261589206, 4.95947564714626, 7.295757449468269, 7.169469182710168, 6.660347565273196, 6.063647612659211, 5.807978504414076, 5.575653172340178, 5.662628706755108, 5.698947064350626, 5.657706168903304, 5.028272261589206, 4.95947564714626]\n",
      "unsupported format string passed to numpy.ndarray.__format__\n"
     ]
    },
    {
     "name": "stderr",
     "output_type": "stream",
     "text": [
      "/home/jleland/coding/environments/python3.6/lib/python3.6/site-packages/xarray/core/nputils.py:223: RuntimeWarning: All-NaN slice encountered\n",
      "  result = getattr(npmodule, name)(values, axis=axis, **kwargs)\n"
     ]
    },
    {
     "name": "stdout",
     "output_type": "stream",
     "text": [
      "Optimal parameters not found: The maximum number of function evaluations is exceeded.\n"
     ]
    },
    {
     "name": "stderr",
     "output_type": "stream",
     "text": [
      "/home/jleland/coding/environments/python3.6/lib/python3.6/site-packages/xarray/core/nputils.py:223: RuntimeWarning: All-NaN slice encountered\n",
      "  result = getattr(npmodule, name)(values, axis=axis, **kwargs)\n"
     ]
    },
    {
     "name": "stdout",
     "output_type": "stream",
     "text": [
      "Optimal parameters not found: The maximum number of function evaluations is exceeded.\n",
      "1 1\n",
      "[array([-3.15637521e+15])] [27.722365699622607]\n",
      "unsupported format string passed to numpy.ndarray.__format__\n",
      "2 2\n",
      "[array([-3.15637521e+15]), array([-2.12987426e+17])] [27.722365699622607, 4.880880050323226]\n",
      "unsupported format string passed to numpy.ndarray.__format__\n",
      "3 3\n",
      "[array([-3.15637521e+15]), array([-2.12987426e+17]), array([-2.70545146e+17])] [27.722365699622607, 4.880880050323226, 6.177360367534764]\n",
      "unsupported format string passed to numpy.ndarray.__format__\n"
     ]
    },
    {
     "name": "stderr",
     "output_type": "stream",
     "text": [
      "/home/jleland/coding/environments/python3.6/lib/python3.6/site-packages/xarray/core/nputils.py:223: RuntimeWarning: All-NaN slice encountered\n",
      "  result = getattr(npmodule, name)(values, axis=axis, **kwargs)\n",
      "/home/jleland/coding/environments/python3.6/lib/python3.6/site-packages/scipy/optimize/minpack.py:795: OptimizeWarning: Covariance of the parameters could not be estimated\n",
      "  category=OptimizeWarning)\n",
      "/home/jleland/coding/projects/flopter/flopter/core/fitters.py:92: RuntimeWarning: divide by zero encountered in double_scalars\n",
      "  fit_reduced_chi2 = fit_chi2 / (len(y_data) - len(initial_vals))\n",
      "/home/jleland/coding/environments/python3.6/lib/python3.6/site-packages/xarray/core/nputils.py:223: RuntimeWarning: All-NaN slice encountered\n",
      "  result = getattr(npmodule, name)(values, axis=axis, **kwargs)\n",
      "/home/jleland/coding/environments/python3.6/lib/python3.6/site-packages/xarray/core/nputils.py:223: RuntimeWarning: All-NaN slice encountered\n",
      "  result = getattr(npmodule, name)(values, axis=axis, **kwargs)\n",
      "/home/jleland/coding/environments/python3.6/lib/python3.6/site-packages/xarray/core/nputils.py:223: RuntimeWarning: All-NaN slice encountered\n",
      "  result = getattr(npmodule, name)(values, axis=axis, **kwargs)\n"
     ]
    },
    {
     "name": "stdout",
     "output_type": "stream",
     "text": [
      "4 4\n",
      "[array([-3.15637521e+15]), array([-2.12987426e+17]), array([-2.70545146e+17]), array([-3.07818308e+17])] [27.722365699622607, 4.880880050323226, 6.177360367534764, 6.103527237069769]\n",
      "unsupported format string passed to numpy.ndarray.__format__\n",
      "5 5\n",
      "[array([-3.15637521e+15]), array([-2.12987426e+17]), array([-2.70545146e+17]), array([-3.07818308e+17]), array([-2.78508423e+17])] [27.722365699622607, 4.880880050323226, 6.177360367534764, 6.103527237069769, 6.794898793876871]\n",
      "unsupported format string passed to numpy.ndarray.__format__\n",
      "6 6\n",
      "[array([-3.15637521e+15]), array([-2.12987426e+17]), array([-2.70545146e+17]), array([-3.07818308e+17]), array([-2.78508423e+17]), array([-2.51806035e+17])] [27.722365699622607, 4.880880050323226, 6.177360367534764, 6.103527237069769, 6.794898793876871, 5.876260965302189]\n",
      "unsupported format string passed to numpy.ndarray.__format__\n"
     ]
    },
    {
     "name": "stderr",
     "output_type": "stream",
     "text": [
      "/home/jleland/coding/environments/python3.6/lib/python3.6/site-packages/xarray/core/nputils.py:223: RuntimeWarning: All-NaN slice encountered\n",
      "  result = getattr(npmodule, name)(values, axis=axis, **kwargs)\n",
      "/home/jleland/coding/environments/python3.6/lib/python3.6/site-packages/xarray/core/nputils.py:223: RuntimeWarning: All-NaN slice encountered\n",
      "  result = getattr(npmodule, name)(values, axis=axis, **kwargs)\n",
      "/home/jleland/coding/environments/python3.6/lib/python3.6/site-packages/xarray/core/nputils.py:223: RuntimeWarning: All-NaN slice encountered\n",
      "  result = getattr(npmodule, name)(values, axis=axis, **kwargs)\n"
     ]
    },
    {
     "name": "stdout",
     "output_type": "stream",
     "text": [
      "7 7\n",
      "[array([-3.15637521e+15]), array([-2.12987426e+17]), array([-2.70545146e+17]), array([-3.07818308e+17]), array([-2.78508423e+17]), array([-2.51806035e+17]), array([-1.64449332e+17])] [27.722365699622607, 4.880880050323226, 6.177360367534764, 6.103527237069769, 6.794898793876871, 5.876260965302189, 4.196408843999014]\n",
      "unsupported format string passed to numpy.ndarray.__format__\n",
      "8 8\n",
      "[array([-3.15637521e+15]), array([-2.12987426e+17]), array([-2.70545146e+17]), array([-3.07818308e+17]), array([-2.78508423e+17]), array([-2.51806035e+17]), array([-1.64449332e+17]), array([-5.47273887e+16])] [27.722365699622607, 4.880880050323226, 6.177360367534764, 6.103527237069769, 6.794898793876871, 5.876260965302189, 4.196408843999014, 1.706810658236237]\n",
      "unsupported format string passed to numpy.ndarray.__format__\n"
     ]
    },
    {
     "name": "stderr",
     "output_type": "stream",
     "text": [
      "/home/jleland/coding/environments/python3.6/lib/python3.6/site-packages/xarray/core/nputils.py:223: RuntimeWarning: All-NaN slice encountered\n",
      "  result = getattr(npmodule, name)(values, axis=axis, **kwargs)\n",
      "/home/jleland/coding/environments/python3.6/lib/python3.6/site-packages/xarray/core/nputils.py:223: RuntimeWarning: All-NaN slice encountered\n",
      "  result = getattr(npmodule, name)(values, axis=axis, **kwargs)\n"
     ]
    },
    {
     "name": "stdout",
     "output_type": "stream",
     "text": [
      "Optimal parameters not found: The maximum number of function evaluations is exceeded.\n"
     ]
    },
    {
     "name": "stderr",
     "output_type": "stream",
     "text": [
      "/home/jleland/coding/environments/python3.6/lib/python3.6/site-packages/xarray/core/nputils.py:223: RuntimeWarning: All-NaN slice encountered\n",
      "  result = getattr(npmodule, name)(values, axis=axis, **kwargs)\n"
     ]
    },
    {
     "name": "stdout",
     "output_type": "stream",
     "text": [
      "Optimal parameters not found: The maximum number of function evaluations is exceeded.\n"
     ]
    },
    {
     "name": "stderr",
     "output_type": "stream",
     "text": [
      "/home/jleland/coding/environments/python3.6/lib/python3.6/site-packages/xarray/core/nputils.py:223: RuntimeWarning: All-NaN slice encountered\n",
      "  result = getattr(npmodule, name)(values, axis=axis, **kwargs)\n"
     ]
    },
    {
     "name": "stdout",
     "output_type": "stream",
     "text": [
      "Optimal parameters not found: The maximum number of function evaluations is exceeded.\n",
      "9 9\n",
      "[array([-3.15637521e+15]), array([-2.12987426e+17]), array([-2.70545146e+17]), array([-3.07818308e+17]), array([-2.78508423e+17]), array([-2.51806035e+17]), array([-1.64449332e+17]), array([-5.47273887e+16]), array([-3.15637521e+15])] [27.722365699622607, 4.880880050323226, 6.177360367534764, 6.103527237069769, 6.794898793876871, 5.876260965302189, 4.196408843999014, 1.706810658236237, 27.722365699622607]\n",
      "unsupported format string passed to numpy.ndarray.__format__\n",
      "10 10\n",
      "[array([-3.15637521e+15]), array([-2.12987426e+17]), array([-2.70545146e+17]), array([-3.07818308e+17]), array([-2.78508423e+17]), array([-2.51806035e+17]), array([-1.64449332e+17]), array([-5.47273887e+16]), array([-3.15637521e+15]), array([-2.12987426e+17])] [27.722365699622607, 4.880880050323226, 6.177360367534764, 6.103527237069769, 6.794898793876871, 5.876260965302189, 4.196408843999014, 1.706810658236237, 27.722365699622607, 4.880880050323226]\n",
      "unsupported format string passed to numpy.ndarray.__format__\n",
      "11 11\n",
      "[array([-3.15637521e+15]), array([-2.12987426e+17]), array([-2.70545146e+17]), array([-3.07818308e+17]), array([-2.78508423e+17]), array([-2.51806035e+17]), array([-1.64449332e+17]), array([-5.47273887e+16]), array([-3.15637521e+15]), array([-2.12987426e+17]), array([-2.70545146e+17])] [27.722365699622607, 4.880880050323226, 6.177360367534764, 6.103527237069769, 6.794898793876871, 5.876260965302189, 4.196408843999014, 1.706810658236237, 27.722365699622607, 4.880880050323226, 6.177360367534764]\n",
      "unsupported format string passed to numpy.ndarray.__format__\n"
     ]
    },
    {
     "name": "stderr",
     "output_type": "stream",
     "text": [
      "/home/jleland/coding/environments/python3.6/lib/python3.6/site-packages/xarray/core/nputils.py:223: RuntimeWarning: All-NaN slice encountered\n",
      "  result = getattr(npmodule, name)(values, axis=axis, **kwargs)\n",
      "/home/jleland/coding/environments/python3.6/lib/python3.6/site-packages/scipy/optimize/minpack.py:795: OptimizeWarning: Covariance of the parameters could not be estimated\n",
      "  category=OptimizeWarning)\n",
      "/home/jleland/coding/projects/flopter/flopter/core/fitters.py:92: RuntimeWarning: divide by zero encountered in double_scalars\n",
      "  fit_reduced_chi2 = fit_chi2 / (len(y_data) - len(initial_vals))\n",
      "/home/jleland/coding/environments/python3.6/lib/python3.6/site-packages/xarray/core/nputils.py:223: RuntimeWarning: All-NaN slice encountered\n",
      "  result = getattr(npmodule, name)(values, axis=axis, **kwargs)\n",
      "/home/jleland/coding/environments/python3.6/lib/python3.6/site-packages/xarray/core/nputils.py:223: RuntimeWarning: All-NaN slice encountered\n",
      "  result = getattr(npmodule, name)(values, axis=axis, **kwargs)\n",
      "/home/jleland/coding/environments/python3.6/lib/python3.6/site-packages/xarray/core/nputils.py:223: RuntimeWarning: All-NaN slice encountered\n",
      "  result = getattr(npmodule, name)(values, axis=axis, **kwargs)\n"
     ]
    },
    {
     "name": "stdout",
     "output_type": "stream",
     "text": [
      "12 12\n",
      "[array([-3.15637521e+15]), array([-2.12987426e+17]), array([-2.70545146e+17]), array([-3.07818308e+17]), array([-2.78508423e+17]), array([-2.51806035e+17]), array([-1.64449332e+17]), array([-5.47273887e+16]), array([-3.15637521e+15]), array([-2.12987426e+17]), array([-2.70545146e+17]), array([-3.07818308e+17])] [27.722365699622607, 4.880880050323226, 6.177360367534764, 6.103527237069769, 6.794898793876871, 5.876260965302189, 4.196408843999014, 1.706810658236237, 27.722365699622607, 4.880880050323226, 6.177360367534764, 6.103527237069769]\n",
      "unsupported format string passed to numpy.ndarray.__format__\n",
      "13 13\n",
      "[array([-3.15637521e+15]), array([-2.12987426e+17]), array([-2.70545146e+17]), array([-3.07818308e+17]), array([-2.78508423e+17]), array([-2.51806035e+17]), array([-1.64449332e+17]), array([-5.47273887e+16]), array([-3.15637521e+15]), array([-2.12987426e+17]), array([-2.70545146e+17]), array([-3.07818308e+17]), array([-2.78508423e+17])] [27.722365699622607, 4.880880050323226, 6.177360367534764, 6.103527237069769, 6.794898793876871, 5.876260965302189, 4.196408843999014, 1.706810658236237, 27.722365699622607, 4.880880050323226, 6.177360367534764, 6.103527237069769, 6.794898793876871]\n",
      "unsupported format string passed to numpy.ndarray.__format__\n",
      "14 14\n",
      "[array([-3.15637521e+15]), array([-2.12987426e+17]), array([-2.70545146e+17]), array([-3.07818308e+17]), array([-2.78508423e+17]), array([-2.51806035e+17]), array([-1.64449332e+17]), array([-5.47273887e+16]), array([-3.15637521e+15]), array([-2.12987426e+17]), array([-2.70545146e+17]), array([-3.07818308e+17]), array([-2.78508423e+17]), array([-2.51806035e+17])] [27.722365699622607, 4.880880050323226, 6.177360367534764, 6.103527237069769, 6.794898793876871, 5.876260965302189, 4.196408843999014, 1.706810658236237, 27.722365699622607, 4.880880050323226, 6.177360367534764, 6.103527237069769, 6.794898793876871, 5.876260965302189]\n",
      "unsupported format string passed to numpy.ndarray.__format__\n"
     ]
    },
    {
     "name": "stderr",
     "output_type": "stream",
     "text": [
      "/home/jleland/coding/environments/python3.6/lib/python3.6/site-packages/xarray/core/nputils.py:223: RuntimeWarning: All-NaN slice encountered\n",
      "  result = getattr(npmodule, name)(values, axis=axis, **kwargs)\n",
      "/home/jleland/coding/environments/python3.6/lib/python3.6/site-packages/xarray/core/nputils.py:223: RuntimeWarning: All-NaN slice encountered\n",
      "  result = getattr(npmodule, name)(values, axis=axis, **kwargs)\n",
      "/home/jleland/coding/environments/python3.6/lib/python3.6/site-packages/xarray/core/nputils.py:223: RuntimeWarning: All-NaN slice encountered\n",
      "  result = getattr(npmodule, name)(values, axis=axis, **kwargs)\n"
     ]
    },
    {
     "name": "stdout",
     "output_type": "stream",
     "text": [
      "15 15\n",
      "[array([-3.15637521e+15]), array([-2.12987426e+17]), array([-2.70545146e+17]), array([-3.07818308e+17]), array([-2.78508423e+17]), array([-2.51806035e+17]), array([-1.64449332e+17]), array([-5.47273887e+16]), array([-3.15637521e+15]), array([-2.12987426e+17]), array([-2.70545146e+17]), array([-3.07818308e+17]), array([-2.78508423e+17]), array([-2.51806035e+17]), array([-1.64449332e+17])] [27.722365699622607, 4.880880050323226, 6.177360367534764, 6.103527237069769, 6.794898793876871, 5.876260965302189, 4.196408843999014, 1.706810658236237, 27.722365699622607, 4.880880050323226, 6.177360367534764, 6.103527237069769, 6.794898793876871, 5.876260965302189, 4.196408843999014]\n",
      "unsupported format string passed to numpy.ndarray.__format__\n",
      "16 16\n",
      "[array([-3.15637521e+15]), array([-2.12987426e+17]), array([-2.70545146e+17]), array([-3.07818308e+17]), array([-2.78508423e+17]), array([-2.51806035e+17]), array([-1.64449332e+17]), array([-5.47273887e+16]), array([-3.15637521e+15]), array([-2.12987426e+17]), array([-2.70545146e+17]), array([-3.07818308e+17]), array([-2.78508423e+17]), array([-2.51806035e+17]), array([-1.64449332e+17]), array([-5.47273887e+16])] [27.722365699622607, 4.880880050323226, 6.177360367534764, 6.103527237069769, 6.794898793876871, 5.876260965302189, 4.196408843999014, 1.706810658236237, 27.722365699622607, 4.880880050323226, 6.177360367534764, 6.103527237069769, 6.794898793876871, 5.876260965302189, 4.196408843999014, 1.706810658236237]\n",
      "unsupported format string passed to numpy.ndarray.__format__\n"
     ]
    },
    {
     "name": "stderr",
     "output_type": "stream",
     "text": [
      "/home/jleland/coding/environments/python3.6/lib/python3.6/site-packages/xarray/core/nputils.py:223: RuntimeWarning: All-NaN slice encountered\n",
      "  result = getattr(npmodule, name)(values, axis=axis, **kwargs)\n",
      "/home/jleland/coding/environments/python3.6/lib/python3.6/site-packages/xarray/core/nputils.py:223: RuntimeWarning: All-NaN slice encountered\n",
      "  result = getattr(npmodule, name)(values, axis=axis, **kwargs)\n"
     ]
    },
    {
     "name": "stdout",
     "output_type": "stream",
     "text": [
      "Optimal parameters not found: The maximum number of function evaluations is exceeded.\n"
     ]
    },
    {
     "ename": "ValueError",
     "evalue": "x and y must have same first dimension, but have shapes (22,) and (16, 1)",
     "output_type": "error",
     "traceback": [
      "\u001b[0;31m---------------------------------------------------------------------------\u001b[0m",
      "\u001b[0;31mValueError\u001b[0m                                Traceback (most recent call last)",
      "\u001b[0;32m<ipython-input-36-d479983606fd>\u001b[0m in \u001b[0;36m<module>\u001b[0;34m\u001b[0m\n\u001b[1;32m     37\u001b[0m \u001b[0;31m#             temps[probe].append(np.nan)\u001b[0m\u001b[0;34m\u001b[0m\u001b[0;34m\u001b[0m\u001b[0;34m\u001b[0m\u001b[0m\n\u001b[1;32m     38\u001b[0m \u001b[0;34m\u001b[0m\u001b[0m\n\u001b[0;32m---> 39\u001b[0;31m     \u001b[0maxes\u001b[0m\u001b[0;34m[\u001b[0m\u001b[0;36m0\u001b[0m\u001b[0;34m]\u001b[0m\u001b[0;34m.\u001b[0m\u001b[0mplot\u001b[0m\u001b[0;34m(\u001b[0m\u001b[0mtilt_da\u001b[0m\u001b[0;34m[\u001b[0m\u001b[0;34m'shot_tilt'\u001b[0m\u001b[0;34m]\u001b[0m\u001b[0;34m.\u001b[0m\u001b[0mvalues\u001b[0m\u001b[0;34m,\u001b[0m \u001b[0mdenss\u001b[0m\u001b[0;34m[\u001b[0m\u001b[0mprobe\u001b[0m\u001b[0;34m]\u001b[0m\u001b[0;34m,\u001b[0m \u001b[0;34m'x'\u001b[0m\u001b[0;34m,\u001b[0m \u001b[0mlabel\u001b[0m\u001b[0;34m=\u001b[0m\u001b[0mprobe\u001b[0m\u001b[0;34m)\u001b[0m\u001b[0;34m\u001b[0m\u001b[0;34m\u001b[0m\u001b[0m\n\u001b[0m\u001b[1;32m     40\u001b[0m     \u001b[0maxes\u001b[0m\u001b[0;34m[\u001b[0m\u001b[0;36m0\u001b[0m\u001b[0;34m]\u001b[0m\u001b[0;34m.\u001b[0m\u001b[0maxhline\u001b[0m\u001b[0;34m(\u001b[0m\u001b[0my\u001b[0m\u001b[0;34m=\u001b[0m\u001b[0mprobe_denss\u001b[0m\u001b[0;34m[\u001b[0m\u001b[0mprobe\u001b[0m\u001b[0;34m]\u001b[0m\u001b[0;34m,\u001b[0m \u001b[0mcolor\u001b[0m\u001b[0;34m=\u001b[0m\u001b[0;34m'red'\u001b[0m\u001b[0;34m,\u001b[0m \u001b[0mlinewidth\u001b[0m\u001b[0;34m=\u001b[0m\u001b[0;36m0.5\u001b[0m\u001b[0;34m,\u001b[0m \u001b[0mlinestyle\u001b[0m\u001b[0;34m=\u001b[0m\u001b[0;34m'dashed'\u001b[0m\u001b[0;34m)\u001b[0m\u001b[0;34m\u001b[0m\u001b[0;34m\u001b[0m\u001b[0m\n\u001b[1;32m     41\u001b[0m \u001b[0;34m\u001b[0m\u001b[0m\n",
      "\u001b[0;32m~/coding/environments/python3.6/lib/python3.6/site-packages/matplotlib/axes/_axes.py\u001b[0m in \u001b[0;36mplot\u001b[0;34m(self, scalex, scaley, data, *args, **kwargs)\u001b[0m\n\u001b[1;32m   1664\u001b[0m         \"\"\"\n\u001b[1;32m   1665\u001b[0m         \u001b[0mkwargs\u001b[0m \u001b[0;34m=\u001b[0m \u001b[0mcbook\u001b[0m\u001b[0;34m.\u001b[0m\u001b[0mnormalize_kwargs\u001b[0m\u001b[0;34m(\u001b[0m\u001b[0mkwargs\u001b[0m\u001b[0;34m,\u001b[0m \u001b[0mmlines\u001b[0m\u001b[0;34m.\u001b[0m\u001b[0mLine2D\u001b[0m\u001b[0;34m.\u001b[0m\u001b[0m_alias_map\u001b[0m\u001b[0;34m)\u001b[0m\u001b[0;34m\u001b[0m\u001b[0;34m\u001b[0m\u001b[0m\n\u001b[0;32m-> 1666\u001b[0;31m         \u001b[0mlines\u001b[0m \u001b[0;34m=\u001b[0m \u001b[0;34m[\u001b[0m\u001b[0;34m*\u001b[0m\u001b[0mself\u001b[0m\u001b[0;34m.\u001b[0m\u001b[0m_get_lines\u001b[0m\u001b[0;34m(\u001b[0m\u001b[0;34m*\u001b[0m\u001b[0margs\u001b[0m\u001b[0;34m,\u001b[0m \u001b[0mdata\u001b[0m\u001b[0;34m=\u001b[0m\u001b[0mdata\u001b[0m\u001b[0;34m,\u001b[0m \u001b[0;34m**\u001b[0m\u001b[0mkwargs\u001b[0m\u001b[0;34m)\u001b[0m\u001b[0;34m]\u001b[0m\u001b[0;34m\u001b[0m\u001b[0;34m\u001b[0m\u001b[0m\n\u001b[0m\u001b[1;32m   1667\u001b[0m         \u001b[0;32mfor\u001b[0m \u001b[0mline\u001b[0m \u001b[0;32min\u001b[0m \u001b[0mlines\u001b[0m\u001b[0;34m:\u001b[0m\u001b[0;34m\u001b[0m\u001b[0;34m\u001b[0m\u001b[0m\n\u001b[1;32m   1668\u001b[0m             \u001b[0mself\u001b[0m\u001b[0;34m.\u001b[0m\u001b[0madd_line\u001b[0m\u001b[0;34m(\u001b[0m\u001b[0mline\u001b[0m\u001b[0;34m)\u001b[0m\u001b[0;34m\u001b[0m\u001b[0;34m\u001b[0m\u001b[0m\n",
      "\u001b[0;32m~/coding/environments/python3.6/lib/python3.6/site-packages/matplotlib/axes/_base.py\u001b[0m in \u001b[0;36m__call__\u001b[0;34m(self, *args, **kwargs)\u001b[0m\n\u001b[1;32m    223\u001b[0m                 \u001b[0mthis\u001b[0m \u001b[0;34m+=\u001b[0m \u001b[0margs\u001b[0m\u001b[0;34m[\u001b[0m\u001b[0;36m0\u001b[0m\u001b[0;34m]\u001b[0m\u001b[0;34m,\u001b[0m\u001b[0;34m\u001b[0m\u001b[0;34m\u001b[0m\u001b[0m\n\u001b[1;32m    224\u001b[0m                 \u001b[0margs\u001b[0m \u001b[0;34m=\u001b[0m \u001b[0margs\u001b[0m\u001b[0;34m[\u001b[0m\u001b[0;36m1\u001b[0m\u001b[0;34m:\u001b[0m\u001b[0;34m]\u001b[0m\u001b[0;34m\u001b[0m\u001b[0;34m\u001b[0m\u001b[0m\n\u001b[0;32m--> 225\u001b[0;31m             \u001b[0;32myield\u001b[0m \u001b[0;32mfrom\u001b[0m \u001b[0mself\u001b[0m\u001b[0;34m.\u001b[0m\u001b[0m_plot_args\u001b[0m\u001b[0;34m(\u001b[0m\u001b[0mthis\u001b[0m\u001b[0;34m,\u001b[0m \u001b[0mkwargs\u001b[0m\u001b[0;34m)\u001b[0m\u001b[0;34m\u001b[0m\u001b[0;34m\u001b[0m\u001b[0m\n\u001b[0m\u001b[1;32m    226\u001b[0m \u001b[0;34m\u001b[0m\u001b[0m\n\u001b[1;32m    227\u001b[0m     \u001b[0;32mdef\u001b[0m \u001b[0mget_next_color\u001b[0m\u001b[0;34m(\u001b[0m\u001b[0mself\u001b[0m\u001b[0;34m)\u001b[0m\u001b[0;34m:\u001b[0m\u001b[0;34m\u001b[0m\u001b[0;34m\u001b[0m\u001b[0m\n",
      "\u001b[0;32m~/coding/environments/python3.6/lib/python3.6/site-packages/matplotlib/axes/_base.py\u001b[0m in \u001b[0;36m_plot_args\u001b[0;34m(self, tup, kwargs)\u001b[0m\n\u001b[1;32m    389\u001b[0m             \u001b[0mx\u001b[0m\u001b[0;34m,\u001b[0m \u001b[0my\u001b[0m \u001b[0;34m=\u001b[0m \u001b[0mindex_of\u001b[0m\u001b[0;34m(\u001b[0m\u001b[0mtup\u001b[0m\u001b[0;34m[\u001b[0m\u001b[0;34m-\u001b[0m\u001b[0;36m1\u001b[0m\u001b[0;34m]\u001b[0m\u001b[0;34m)\u001b[0m\u001b[0;34m\u001b[0m\u001b[0;34m\u001b[0m\u001b[0m\n\u001b[1;32m    390\u001b[0m \u001b[0;34m\u001b[0m\u001b[0m\n\u001b[0;32m--> 391\u001b[0;31m         \u001b[0mx\u001b[0m\u001b[0;34m,\u001b[0m \u001b[0my\u001b[0m \u001b[0;34m=\u001b[0m \u001b[0mself\u001b[0m\u001b[0;34m.\u001b[0m\u001b[0m_xy_from_xy\u001b[0m\u001b[0;34m(\u001b[0m\u001b[0mx\u001b[0m\u001b[0;34m,\u001b[0m \u001b[0my\u001b[0m\u001b[0;34m)\u001b[0m\u001b[0;34m\u001b[0m\u001b[0;34m\u001b[0m\u001b[0m\n\u001b[0m\u001b[1;32m    392\u001b[0m \u001b[0;34m\u001b[0m\u001b[0m\n\u001b[1;32m    393\u001b[0m         \u001b[0;32mif\u001b[0m \u001b[0mself\u001b[0m\u001b[0;34m.\u001b[0m\u001b[0mcommand\u001b[0m \u001b[0;34m==\u001b[0m \u001b[0;34m'plot'\u001b[0m\u001b[0;34m:\u001b[0m\u001b[0;34m\u001b[0m\u001b[0;34m\u001b[0m\u001b[0m\n",
      "\u001b[0;32m~/coding/environments/python3.6/lib/python3.6/site-packages/matplotlib/axes/_base.py\u001b[0m in \u001b[0;36m_xy_from_xy\u001b[0;34m(self, x, y)\u001b[0m\n\u001b[1;32m    268\u001b[0m         \u001b[0;32mif\u001b[0m \u001b[0mx\u001b[0m\u001b[0;34m.\u001b[0m\u001b[0mshape\u001b[0m\u001b[0;34m[\u001b[0m\u001b[0;36m0\u001b[0m\u001b[0;34m]\u001b[0m \u001b[0;34m!=\u001b[0m \u001b[0my\u001b[0m\u001b[0;34m.\u001b[0m\u001b[0mshape\u001b[0m\u001b[0;34m[\u001b[0m\u001b[0;36m0\u001b[0m\u001b[0;34m]\u001b[0m\u001b[0;34m:\u001b[0m\u001b[0;34m\u001b[0m\u001b[0;34m\u001b[0m\u001b[0m\n\u001b[1;32m    269\u001b[0m             raise ValueError(\"x and y must have same first dimension, but \"\n\u001b[0;32m--> 270\u001b[0;31m                              \"have shapes {} and {}\".format(x.shape, y.shape))\n\u001b[0m\u001b[1;32m    271\u001b[0m         \u001b[0;32mif\u001b[0m \u001b[0mx\u001b[0m\u001b[0;34m.\u001b[0m\u001b[0mndim\u001b[0m \u001b[0;34m>\u001b[0m \u001b[0;36m2\u001b[0m \u001b[0;32mor\u001b[0m \u001b[0my\u001b[0m\u001b[0;34m.\u001b[0m\u001b[0mndim\u001b[0m \u001b[0;34m>\u001b[0m \u001b[0;36m2\u001b[0m\u001b[0;34m:\u001b[0m\u001b[0;34m\u001b[0m\u001b[0;34m\u001b[0m\u001b[0m\n\u001b[1;32m    272\u001b[0m             raise ValueError(\"x and y can be no greater than 2-D, but have \"\n",
      "\u001b[0;31mValueError\u001b[0m: x and y must have same first dimension, but have shapes (22,) and (16, 1)"
     ]
    }
   ],
   "source": [
    "# fit and plot for a single probe\n",
    "probes = ['S', 'L', 'B', 'R']\n",
    "denss = {label: [] for label in probes}\n",
    "temps = {label: [] for label in probes}\n",
    "\n",
    "for probe in probes:\n",
    "\n",
    "    fig, axes = plt.subplots(3)\n",
    "\n",
    "    for tilt in tilt_da['shot_tilt'].values:\n",
    "    #     ds = anglescan_ds.sel(probe=probe, direction='up').max('ts_radial_pos')\n",
    "        ds = anglescan_ds.sel(probe=probe).max('ts_radial_pos')\n",
    "        ds = ds.where(np.logical_and(np.isfinite(ds.voltage), ds.tilt == tilt), drop=True)\n",
    "    #     print(ds['current'].values[0])\n",
    "\n",
    "    #     print(shot_iv.keys(), shot_iv['sigma'])\n",
    "        try:\n",
    "            shot_iv = iv.IVData(ds['voltage'].values[0],\n",
    "                        -ds['current'].values[0],\n",
    "                        ds['shot_time'].values[0],\n",
    "                        estimate_error_fl=True)\n",
    "    #         iv_fitter = fts.FullIVFitter()\n",
    "    #         shot_fit = iv_fitter.fit_iv_data(shot_iv, sigma=shot_iv['sigma'])\n",
    "            shot_fit = shot_iv.multi_fit(sat_region=-60)\n",
    "            temp = shot_fit.get_temp()\n",
    "            dens = magnum_probes[probe].get_density(shot_fit.get_isat(), shot_fit.get_temp(), alpha=np.radians(tilt))\n",
    "            \n",
    "            denss[probe].append(dens)\n",
    "            temps[probe].append(temp)\n",
    "            print(len(denss[probe]), len(temps[probe]))\n",
    "            print(denss[probe], temps[probe])\n",
    "            axes[2].plot(*shot_fit.get_fit_plottables(), label=f'tilt = {tilt}')\n",
    "            axes[2].plot(*shot_fit.get_raw_plottables(), color='silver', label=f'{tilt}-fit = {temp:.2g}eV, {dens:.2g}m-3')\n",
    "        except Exception as e:\n",
    "            print(e)\n",
    "#             denss[probe].append(np.nan)\n",
    "#             temps[probe].append(np.nan)\n",
    "\n",
    "    axes[0].plot(tilt_da['shot_tilt'].values, denss[probe], 'x', label=probe)\n",
    "    axes[0].axhline(y=probe_denss[probe], color='red', linewidth=0.5, linestyle='dashed')\n",
    "\n",
    "    axes[1].plot(tilt_da['shot_tilt'].values, temps[probe], 'x', label=probe)\n",
    "    axes[1].axhline(y=probe_temps[probe], color='red', linewidth=0.5, linestyle='dashed')\n",
    "\n",
    "    axes[2].legend()"
   ]
  },
  {
   "cell_type": "code",
   "execution_count": 41,
   "metadata": {},
   "outputs": [
    {
     "name": "stderr",
     "output_type": "stream",
     "text": [
      "/home/jleland/coding/environments/python3.6/lib/python3.6/site-packages/xarray/core/nputils.py:223: RuntimeWarning: All-NaN slice encountered\n",
      "  result = getattr(npmodule, name)(values, axis=axis, **kwargs)\n",
      "/home/jleland/coding/environments/python3.6/lib/python3.6/site-packages/xarray/core/nputils.py:223: RuntimeWarning: All-NaN slice encountered\n",
      "  result = getattr(npmodule, name)(values, axis=axis, **kwargs)\n",
      "/home/jleland/coding/environments/python3.6/lib/python3.6/site-packages/xarray/core/nputils.py:223: RuntimeWarning: All-NaN slice encountered\n",
      "  result = getattr(npmodule, name)(values, axis=axis, **kwargs)\n",
      "/home/jleland/coding/environments/python3.6/lib/python3.6/site-packages/xarray/core/nputils.py:223: RuntimeWarning: All-NaN slice encountered\n",
      "  result = getattr(npmodule, name)(values, axis=axis, **kwargs)\n",
      "/home/jleland/coding/environments/python3.6/lib/python3.6/site-packages/xarray/core/nputils.py:223: RuntimeWarning: All-NaN slice encountered\n",
      "  result = getattr(npmodule, name)(values, axis=axis, **kwargs)\n",
      "/home/jleland/coding/environments/python3.6/lib/python3.6/site-packages/xarray/core/nputils.py:223: RuntimeWarning: All-NaN slice encountered\n",
      "  result = getattr(npmodule, name)(values, axis=axis, **kwargs)\n",
      "/home/jleland/coding/environments/python3.6/lib/python3.6/site-packages/xarray/core/nputils.py:223: RuntimeWarning: All-NaN slice encountered\n",
      "  result = getattr(npmodule, name)(values, axis=axis, **kwargs)\n",
      "/home/jleland/coding/environments/python3.6/lib/python3.6/site-packages/xarray/core/nputils.py:223: RuntimeWarning: All-NaN slice encountered\n",
      "  result = getattr(npmodule, name)(values, axis=axis, **kwargs)\n",
      "/home/jleland/coding/environments/python3.6/lib/python3.6/site-packages/xarray/core/nputils.py:223: RuntimeWarning: All-NaN slice encountered\n",
      "  result = getattr(npmodule, name)(values, axis=axis, **kwargs)\n",
      "/home/jleland/coding/environments/python3.6/lib/python3.6/site-packages/xarray/core/nputils.py:223: RuntimeWarning: All-NaN slice encountered\n",
      "  result = getattr(npmodule, name)(values, axis=axis, **kwargs)\n",
      "/home/jleland/coding/environments/python3.6/lib/python3.6/site-packages/xarray/core/nputils.py:223: RuntimeWarning: All-NaN slice encountered\n",
      "  result = getattr(npmodule, name)(values, axis=axis, **kwargs)\n",
      "/home/jleland/coding/environments/python3.6/lib/python3.6/site-packages/xarray/core/nputils.py:223: RuntimeWarning: All-NaN slice encountered\n",
      "  result = getattr(npmodule, name)(values, axis=axis, **kwargs)\n",
      "/home/jleland/coding/environments/python3.6/lib/python3.6/site-packages/xarray/core/nputils.py:223: RuntimeWarning: All-NaN slice encountered\n",
      "  result = getattr(npmodule, name)(values, axis=axis, **kwargs)\n",
      "/home/jleland/coding/environments/python3.6/lib/python3.6/site-packages/xarray/core/nputils.py:223: RuntimeWarning: All-NaN slice encountered\n",
      "  result = getattr(npmodule, name)(values, axis=axis, **kwargs)\n",
      "/home/jleland/coding/environments/python3.6/lib/python3.6/site-packages/xarray/core/nputils.py:223: RuntimeWarning: All-NaN slice encountered\n",
      "  result = getattr(npmodule, name)(values, axis=axis, **kwargs)\n",
      "/home/jleland/coding/environments/python3.6/lib/python3.6/site-packages/xarray/core/nputils.py:223: RuntimeWarning: All-NaN slice encountered\n",
      "  result = getattr(npmodule, name)(values, axis=axis, **kwargs)\n",
      "/home/jleland/coding/environments/python3.6/lib/python3.6/site-packages/xarray/core/nputils.py:223: RuntimeWarning: All-NaN slice encountered\n",
      "  result = getattr(npmodule, name)(values, axis=axis, **kwargs)\n",
      "/home/jleland/coding/environments/python3.6/lib/python3.6/site-packages/xarray/core/nputils.py:223: RuntimeWarning: All-NaN slice encountered\n",
      "  result = getattr(npmodule, name)(values, axis=axis, **kwargs)\n",
      "/home/jleland/coding/environments/python3.6/lib/python3.6/site-packages/xarray/core/nputils.py:223: RuntimeWarning: All-NaN slice encountered\n",
      "  result = getattr(npmodule, name)(values, axis=axis, **kwargs)\n",
      "/home/jleland/coding/environments/python3.6/lib/python3.6/site-packages/xarray/core/nputils.py:223: RuntimeWarning: All-NaN slice encountered\n",
      "  result = getattr(npmodule, name)(values, axis=axis, **kwargs)\n",
      "/home/jleland/coding/environments/python3.6/lib/python3.6/site-packages/xarray/core/nputils.py:223: RuntimeWarning: All-NaN slice encountered\n",
      "  result = getattr(npmodule, name)(values, axis=axis, **kwargs)\n",
      "/home/jleland/coding/environments/python3.6/lib/python3.6/site-packages/xarray/core/nputils.py:223: RuntimeWarning: All-NaN slice encountered\n",
      "  result = getattr(npmodule, name)(values, axis=axis, **kwargs)\n",
      "/home/jleland/coding/environments/python3.6/lib/python3.6/site-packages/xarray/core/nputils.py:223: RuntimeWarning: All-NaN slice encountered\n",
      "  result = getattr(npmodule, name)(values, axis=axis, **kwargs)\n",
      "/home/jleland/coding/environments/python3.6/lib/python3.6/site-packages/xarray/core/nputils.py:223: RuntimeWarning: All-NaN slice encountered\n",
      "  result = getattr(npmodule, name)(values, axis=axis, **kwargs)\n",
      "/home/jleland/coding/environments/python3.6/lib/python3.6/site-packages/xarray/core/nputils.py:223: RuntimeWarning: All-NaN slice encountered\n",
      "  result = getattr(npmodule, name)(values, axis=axis, **kwargs)\n",
      "/home/jleland/coding/environments/python3.6/lib/python3.6/site-packages/scipy/optimize/minpack.py:795: OptimizeWarning: Covariance of the parameters could not be estimated\n",
      "  category=OptimizeWarning)\n",
      "/home/jleland/coding/projects/flopter/flopter/core/fitters.py:92: RuntimeWarning: divide by zero encountered in double_scalars\n",
      "  fit_reduced_chi2 = fit_chi2 / (len(y_data) - len(initial_vals))\n",
      "/home/jleland/coding/environments/python3.6/lib/python3.6/site-packages/xarray/core/nputils.py:223: RuntimeWarning: All-NaN slice encountered\n",
      "  result = getattr(npmodule, name)(values, axis=axis, **kwargs)\n",
      "/home/jleland/coding/environments/python3.6/lib/python3.6/site-packages/xarray/core/nputils.py:223: RuntimeWarning: All-NaN slice encountered\n",
      "  result = getattr(npmodule, name)(values, axis=axis, **kwargs)\n",
      "/home/jleland/coding/environments/python3.6/lib/python3.6/site-packages/xarray/core/nputils.py:223: RuntimeWarning: All-NaN slice encountered\n",
      "  result = getattr(npmodule, name)(values, axis=axis, **kwargs)\n",
      "/home/jleland/coding/environments/python3.6/lib/python3.6/site-packages/xarray/core/nputils.py:223: RuntimeWarning: All-NaN slice encountered\n",
      "  result = getattr(npmodule, name)(values, axis=axis, **kwargs)\n",
      "/home/jleland/coding/environments/python3.6/lib/python3.6/site-packages/xarray/core/nputils.py:223: RuntimeWarning: All-NaN slice encountered\n",
      "  result = getattr(npmodule, name)(values, axis=axis, **kwargs)\n",
      "/home/jleland/coding/environments/python3.6/lib/python3.6/site-packages/xarray/core/nputils.py:223: RuntimeWarning: All-NaN slice encountered\n",
      "  result = getattr(npmodule, name)(values, axis=axis, **kwargs)\n",
      "/home/jleland/coding/environments/python3.6/lib/python3.6/site-packages/xarray/core/nputils.py:223: RuntimeWarning: All-NaN slice encountered\n",
      "  result = getattr(npmodule, name)(values, axis=axis, **kwargs)\n",
      "/home/jleland/coding/environments/python3.6/lib/python3.6/site-packages/xarray/core/nputils.py:223: RuntimeWarning: All-NaN slice encountered\n",
      "  result = getattr(npmodule, name)(values, axis=axis, **kwargs)\n",
      "/home/jleland/coding/environments/python3.6/lib/python3.6/site-packages/xarray/core/nputils.py:223: RuntimeWarning: All-NaN slice encountered\n",
      "  result = getattr(npmodule, name)(values, axis=axis, **kwargs)\n",
      "/home/jleland/coding/environments/python3.6/lib/python3.6/site-packages/xarray/core/nputils.py:223: RuntimeWarning: All-NaN slice encountered\n",
      "  result = getattr(npmodule, name)(values, axis=axis, **kwargs)\n",
      "/home/jleland/coding/environments/python3.6/lib/python3.6/site-packages/xarray/core/nputils.py:223: RuntimeWarning: All-NaN slice encountered\n",
      "  result = getattr(npmodule, name)(values, axis=axis, **kwargs)\n",
      "/home/jleland/coding/environments/python3.6/lib/python3.6/site-packages/scipy/optimize/minpack.py:795: OptimizeWarning: Covariance of the parameters could not be estimated\n",
      "  category=OptimizeWarning)\n",
      "/home/jleland/coding/projects/flopter/flopter/core/fitters.py:92: RuntimeWarning: divide by zero encountered in double_scalars\n",
      "  fit_reduced_chi2 = fit_chi2 / (len(y_data) - len(initial_vals))\n",
      "/home/jleland/coding/environments/python3.6/lib/python3.6/site-packages/xarray/core/nputils.py:223: RuntimeWarning: All-NaN slice encountered\n",
      "  result = getattr(npmodule, name)(values, axis=axis, **kwargs)\n",
      "/home/jleland/coding/environments/python3.6/lib/python3.6/site-packages/xarray/core/nputils.py:223: RuntimeWarning: All-NaN slice encountered\n",
      "  result = getattr(npmodule, name)(values, axis=axis, **kwargs)\n",
      "/home/jleland/coding/environments/python3.6/lib/python3.6/site-packages/xarray/core/nputils.py:223: RuntimeWarning: All-NaN slice encountered\n",
      "  result = getattr(npmodule, name)(values, axis=axis, **kwargs)\n",
      "/home/jleland/coding/environments/python3.6/lib/python3.6/site-packages/xarray/core/nputils.py:223: RuntimeWarning: All-NaN slice encountered\n",
      "  result = getattr(npmodule, name)(values, axis=axis, **kwargs)\n",
      "/home/jleland/coding/environments/python3.6/lib/python3.6/site-packages/xarray/core/nputils.py:223: RuntimeWarning: All-NaN slice encountered\n",
      "  result = getattr(npmodule, name)(values, axis=axis, **kwargs)\n",
      "/home/jleland/coding/environments/python3.6/lib/python3.6/site-packages/xarray/core/nputils.py:223: RuntimeWarning: All-NaN slice encountered\n",
      "  result = getattr(npmodule, name)(values, axis=axis, **kwargs)\n",
      "/home/jleland/coding/environments/python3.6/lib/python3.6/site-packages/xarray/core/nputils.py:223: RuntimeWarning: All-NaN slice encountered\n",
      "  result = getattr(npmodule, name)(values, axis=axis, **kwargs)\n",
      "/home/jleland/coding/environments/python3.6/lib/python3.6/site-packages/xarray/core/nputils.py:223: RuntimeWarning: All-NaN slice encountered\n",
      "  result = getattr(npmodule, name)(values, axis=axis, **kwargs)\n",
      "/home/jleland/coding/environments/python3.6/lib/python3.6/site-packages/xarray/core/nputils.py:223: RuntimeWarning: All-NaN slice encountered\n",
      "  result = getattr(npmodule, name)(values, axis=axis, **kwargs)\n",
      "/home/jleland/coding/environments/python3.6/lib/python3.6/site-packages/xarray/core/nputils.py:223: RuntimeWarning: All-NaN slice encountered\n",
      "  result = getattr(npmodule, name)(values, axis=axis, **kwargs)\n",
      "/home/jleland/coding/environments/python3.6/lib/python3.6/site-packages/xarray/core/nputils.py:223: RuntimeWarning: All-NaN slice encountered\n",
      "  result = getattr(npmodule, name)(values, axis=axis, **kwargs)\n",
      "/home/jleland/coding/environments/python3.6/lib/python3.6/site-packages/xarray/core/nputils.py:223: RuntimeWarning: All-NaN slice encountered\n",
      "  result = getattr(npmodule, name)(values, axis=axis, **kwargs)\n",
      "/home/jleland/coding/environments/python3.6/lib/python3.6/site-packages/xarray/core/nputils.py:223: RuntimeWarning: All-NaN slice encountered\n",
      "  result = getattr(npmodule, name)(values, axis=axis, **kwargs)\n",
      "/home/jleland/coding/environments/python3.6/lib/python3.6/site-packages/xarray/core/nputils.py:223: RuntimeWarning: All-NaN slice encountered\n",
      "  result = getattr(npmodule, name)(values, axis=axis, **kwargs)\n",
      "/home/jleland/coding/environments/python3.6/lib/python3.6/site-packages/xarray/core/nputils.py:223: RuntimeWarning: All-NaN slice encountered\n",
      "  result = getattr(npmodule, name)(values, axis=axis, **kwargs)\n",
      "/home/jleland/coding/environments/python3.6/lib/python3.6/site-packages/xarray/core/nputils.py:223: RuntimeWarning: All-NaN slice encountered\n",
      "  result = getattr(npmodule, name)(values, axis=axis, **kwargs)\n",
      "/home/jleland/coding/environments/python3.6/lib/python3.6/site-packages/xarray/core/nputils.py:223: RuntimeWarning: All-NaN slice encountered\n",
      "  result = getattr(npmodule, name)(values, axis=axis, **kwargs)\n",
      "/home/jleland/coding/environments/python3.6/lib/python3.6/site-packages/xarray/core/nputils.py:223: RuntimeWarning: All-NaN slice encountered\n",
      "  result = getattr(npmodule, name)(values, axis=axis, **kwargs)\n",
      "/home/jleland/coding/environments/python3.6/lib/python3.6/site-packages/xarray/core/nputils.py:223: RuntimeWarning: All-NaN slice encountered\n",
      "  result = getattr(npmodule, name)(values, axis=axis, **kwargs)\n",
      "/home/jleland/coding/environments/python3.6/lib/python3.6/site-packages/xarray/core/nputils.py:223: RuntimeWarning: All-NaN slice encountered\n",
      "  result = getattr(npmodule, name)(values, axis=axis, **kwargs)\n",
      "/home/jleland/coding/environments/python3.6/lib/python3.6/site-packages/xarray/core/nputils.py:223: RuntimeWarning: All-NaN slice encountered\n",
      "  result = getattr(npmodule, name)(values, axis=axis, **kwargs)\n",
      "/home/jleland/coding/environments/python3.6/lib/python3.6/site-packages/xarray/core/nputils.py:223: RuntimeWarning: All-NaN slice encountered\n",
      "  result = getattr(npmodule, name)(values, axis=axis, **kwargs)\n",
      "/home/jleland/coding/environments/python3.6/lib/python3.6/site-packages/xarray/core/nputils.py:223: RuntimeWarning: All-NaN slice encountered\n",
      "  result = getattr(npmodule, name)(values, axis=axis, **kwargs)\n",
      "/home/jleland/coding/environments/python3.6/lib/python3.6/site-packages/xarray/core/nputils.py:223: RuntimeWarning: All-NaN slice encountered\n",
      "  result = getattr(npmodule, name)(values, axis=axis, **kwargs)\n",
      "/home/jleland/coding/environments/python3.6/lib/python3.6/site-packages/xarray/core/nputils.py:223: RuntimeWarning: All-NaN slice encountered\n",
      "  result = getattr(npmodule, name)(values, axis=axis, **kwargs)\n",
      "/home/jleland/coding/environments/python3.6/lib/python3.6/site-packages/xarray/core/nputils.py:223: RuntimeWarning: All-NaN slice encountered\n",
      "  result = getattr(npmodule, name)(values, axis=axis, **kwargs)\n",
      "/home/jleland/coding/environments/python3.6/lib/python3.6/site-packages/xarray/core/nputils.py:223: RuntimeWarning: All-NaN slice encountered\n",
      "  result = getattr(npmodule, name)(values, axis=axis, **kwargs)\n",
      "/home/jleland/coding/environments/python3.6/lib/python3.6/site-packages/xarray/core/nputils.py:223: RuntimeWarning: All-NaN slice encountered\n",
      "  result = getattr(npmodule, name)(values, axis=axis, **kwargs)\n",
      "/home/jleland/coding/environments/python3.6/lib/python3.6/site-packages/xarray/core/nputils.py:223: RuntimeWarning: All-NaN slice encountered\n",
      "  result = getattr(npmodule, name)(values, axis=axis, **kwargs)\n",
      "/home/jleland/coding/environments/python3.6/lib/python3.6/site-packages/xarray/core/nputils.py:223: RuntimeWarning: All-NaN slice encountered\n",
      "  result = getattr(npmodule, name)(values, axis=axis, **kwargs)\n",
      "/home/jleland/coding/environments/python3.6/lib/python3.6/site-packages/xarray/core/nputils.py:223: RuntimeWarning: All-NaN slice encountered\n",
      "  result = getattr(npmodule, name)(values, axis=axis, **kwargs)\n",
      "/home/jleland/coding/environments/python3.6/lib/python3.6/site-packages/xarray/core/nputils.py:223: RuntimeWarning: All-NaN slice encountered\n",
      "  result = getattr(npmodule, name)(values, axis=axis, **kwargs)\n",
      "/home/jleland/coding/environments/python3.6/lib/python3.6/site-packages/xarray/core/nputils.py:223: RuntimeWarning: All-NaN slice encountered\n",
      "  result = getattr(npmodule, name)(values, axis=axis, **kwargs)\n",
      "/home/jleland/coding/environments/python3.6/lib/python3.6/site-packages/xarray/core/nputils.py:223: RuntimeWarning: All-NaN slice encountered\n",
      "  result = getattr(npmodule, name)(values, axis=axis, **kwargs)\n",
      "/home/jleland/coding/environments/python3.6/lib/python3.6/site-packages/xarray/core/nputils.py:223: RuntimeWarning: All-NaN slice encountered\n",
      "  result = getattr(npmodule, name)(values, axis=axis, **kwargs)\n",
      "/home/jleland/coding/environments/python3.6/lib/python3.6/site-packages/xarray/core/nputils.py:223: RuntimeWarning: All-NaN slice encountered\n",
      "  result = getattr(npmodule, name)(values, axis=axis, **kwargs)\n",
      "/home/jleland/coding/environments/python3.6/lib/python3.6/site-packages/xarray/core/nputils.py:223: RuntimeWarning: All-NaN slice encountered\n",
      "  result = getattr(npmodule, name)(values, axis=axis, **kwargs)\n",
      "/home/jleland/coding/environments/python3.6/lib/python3.6/site-packages/xarray/core/nputils.py:223: RuntimeWarning: All-NaN slice encountered\n",
      "  result = getattr(npmodule, name)(values, axis=axis, **kwargs)\n",
      "/home/jleland/coding/environments/python3.6/lib/python3.6/site-packages/xarray/core/nputils.py:223: RuntimeWarning: All-NaN slice encountered\n",
      "  result = getattr(npmodule, name)(values, axis=axis, **kwargs)\n",
      "/home/jleland/coding/environments/python3.6/lib/python3.6/site-packages/xarray/core/nputils.py:223: RuntimeWarning: All-NaN slice encountered\n",
      "  result = getattr(npmodule, name)(values, axis=axis, **kwargs)\n",
      "/home/jleland/coding/projects/flopter/flopter/core/lputils.py:112: RuntimeWarning: invalid value encountered in arccos\n",
      "  theta_c = 2 * np.arccos((self.radius - d) / self.radius)\n",
      "/home/jleland/coding/environments/python3.6/lib/python3.6/site-packages/xarray/core/nputils.py:223: RuntimeWarning: All-NaN slice encountered\n",
      "  result = getattr(npmodule, name)(values, axis=axis, **kwargs)\n",
      "/home/jleland/coding/projects/flopter/flopter/core/lputils.py:111: RuntimeWarning: divide by zero encountered in double_scalars\n",
      "  d = (self.d_perp / np.sin(alpha)) - self.g\n",
      "/home/jleland/coding/projects/flopter/flopter/core/lputils.py:112: RuntimeWarning: invalid value encountered in arccos\n",
      "  theta_c = 2 * np.arccos((self.radius - d) / self.radius)\n",
      "/home/jleland/coding/environments/python3.6/lib/python3.6/site-packages/xarray/core/nputils.py:223: RuntimeWarning: All-NaN slice encountered\n",
      "  result = getattr(npmodule, name)(values, axis=axis, **kwargs)\n",
      "/home/jleland/coding/environments/python3.6/lib/python3.6/site-packages/xarray/core/nputils.py:223: RuntimeWarning: All-NaN slice encountered\n",
      "  result = getattr(npmodule, name)(values, axis=axis, **kwargs)\n",
      "/home/jleland/coding/environments/python3.6/lib/python3.6/site-packages/xarray/core/nputils.py:223: RuntimeWarning: All-NaN slice encountered\n",
      "  result = getattr(npmodule, name)(values, axis=axis, **kwargs)\n",
      "/home/jleland/coding/environments/python3.6/lib/python3.6/site-packages/xarray/core/nputils.py:223: RuntimeWarning: All-NaN slice encountered\n",
      "  result = getattr(npmodule, name)(values, axis=axis, **kwargs)\n",
      "/home/jleland/coding/environments/python3.6/lib/python3.6/site-packages/xarray/core/nputils.py:223: RuntimeWarning: All-NaN slice encountered\n",
      "  result = getattr(npmodule, name)(values, axis=axis, **kwargs)\n",
      "/home/jleland/coding/environments/python3.6/lib/python3.6/site-packages/xarray/core/nputils.py:223: RuntimeWarning: All-NaN slice encountered\n",
      "  result = getattr(npmodule, name)(values, axis=axis, **kwargs)\n",
      "/home/jleland/coding/environments/python3.6/lib/python3.6/site-packages/xarray/core/nputils.py:223: RuntimeWarning: All-NaN slice encountered\n",
      "  result = getattr(npmodule, name)(values, axis=axis, **kwargs)\n",
      "/home/jleland/coding/environments/python3.6/lib/python3.6/site-packages/xarray/core/nputils.py:223: RuntimeWarning: All-NaN slice encountered\n",
      "  result = getattr(npmodule, name)(values, axis=axis, **kwargs)\n",
      "/home/jleland/coding/environments/python3.6/lib/python3.6/site-packages/xarray/core/nputils.py:223: RuntimeWarning: All-NaN slice encountered\n",
      "  result = getattr(npmodule, name)(values, axis=axis, **kwargs)\n",
      "/home/jleland/coding/environments/python3.6/lib/python3.6/site-packages/xarray/core/nputils.py:223: RuntimeWarning: All-NaN slice encountered\n",
      "  result = getattr(npmodule, name)(values, axis=axis, **kwargs)\n",
      "/home/jleland/coding/projects/flopter/flopter/core/lputils.py:112: RuntimeWarning: invalid value encountered in arccos\n",
      "  theta_c = 2 * np.arccos((self.radius - d) / self.radius)\n",
      "/home/jleland/coding/environments/python3.6/lib/python3.6/site-packages/xarray/core/nputils.py:223: RuntimeWarning: All-NaN slice encountered\n",
      "  result = getattr(npmodule, name)(values, axis=axis, **kwargs)\n",
      "/home/jleland/coding/projects/flopter/flopter/core/lputils.py:111: RuntimeWarning: divide by zero encountered in double_scalars\n",
      "  d = (self.d_perp / np.sin(alpha)) - self.g\n",
      "/home/jleland/coding/projects/flopter/flopter/core/lputils.py:112: RuntimeWarning: invalid value encountered in arccos\n",
      "  theta_c = 2 * np.arccos((self.radius - d) / self.radius)\n"
     ]
    }
   ],
   "source": [
    "# fit and plot for all probes\n",
    "probes = ['S', 'L', 'B', 'R']\n",
    "denss = {label: [] for label in probes}\n",
    "temps = {label: [] for label in probes}\n",
    "fits = {label: [] for label in probes}\n",
    "\n",
    "fig, axes = plt.subplots(4, 2)\n",
    "colours = ['blue', 'orange', 'green', 'red']\n",
    "\n",
    "for i, probe in enumerate(probes):\n",
    "    for tilt in tilt_da['shot_tilt'].values:\n",
    "#         ds = helium_anglescan_ds.sel(probe=probe).mean('direction').max('ts_radial_pos')\n",
    "        ds = anglescan_ds.sel(probe=probe).max('ts_radial_pos')\n",
    "        ds = ds.where(np.logical_and(np.isfinite(ds.voltage), ds.tilt == tilt), drop=True)\n",
    "        \n",
    "        try:\n",
    "            shot_iv = iv.IVData(ds['voltage'].values[0],\n",
    "                            -ds['current'].values[0],\n",
    "                            ds['shot_time'].values[0],\n",
    "                            estimate_error_fl=True)\n",
    "#             iv_fitter = fts.FullIVFitter()\n",
    "#             shot_fit = iv_fitter.fit_iv_data(shot_iv, sigma=shot_iv['sigma'])\n",
    "            shot_fit = shot_iv.multi_fit(sat_region=-60)\n",
    "            fits[probe].append(shot_fit)\n",
    "            denss[probe].append(magnum_probes[probe].get_density(shot_fit.get_isat(), shot_fit.get_temp(), alpha=np.radians(tilt)))\n",
    "            temps[probe].append(shot_fit.get_temp())\n",
    "        except :\n",
    "            denss[probe].append(np.nan)\n",
    "            temps[probe].append(np.nan)\n",
    "    \n",
    "    axes[i][0].set_title(r'$n_e$')\n",
    "    axes[i][0].set_xlabel(r'$\\theta_{\\perp}$ / degrees')\n",
    "    axes[i][0].set_ylabel(r'$n_e$ / m$^{-3}$')\n",
    "    axes[i][0].plot(tilt_da['shot_tilt'].values, denss[probe], '+', label=probe, color=colours[i])\n",
    "    axes[i][0].axhline(y=probe_denss[probe], color=colours[i], linewidth=0.5, linestyle='dashed')\n",
    "    axes[i][0].legend()\n",
    "\n",
    "    axes[i][1].set_title(r'$T_e$')\n",
    "    axes[i][1].set_xlabel(r'$\\theta_{\\perp}$ / degrees')\n",
    "    axes[i][1].set_ylabel(r'$T_e$ / eV')\n",
    "    axes[i][1].plot(tilt_da['shot_tilt'].values, temps[probe], '+', label=probe, color=colours[i])\n",
    "    axes[i][1].axhline(y=probe_temps[probe], color=colours[i], linewidth=0.5, linestyle='dashed')\n",
    "    axes[i][1].legend()\n",
    "\n",
    "# plt.tight_layout()\n",
    "fig.suptitle('Anglescan fitting for all probes on He shot @ 0.8T')\n",
    "\n",
    "plt.show()"
   ]
  },
  {
   "cell_type": "code",
   "execution_count": 34,
   "metadata": {},
   "outputs": [
    {
     "ename": "TypeError",
     "evalue": "unsupported format string passed to numpy.ndarray.__format__",
     "output_type": "error",
     "traceback": [
      "\u001b[0;31m---------------------------------------------------------------------------\u001b[0m",
      "\u001b[0;31mTypeError\u001b[0m                                 Traceback (most recent call last)",
      "\u001b[0;32m<ipython-input-34-f1c5ec685f6f>\u001b[0m in \u001b[0;36m<module>\u001b[0;34m()\u001b[0m\n\u001b[1;32m      6\u001b[0m     \u001b[0;32mfor\u001b[0m \u001b[0mj\u001b[0m\u001b[0;34m,\u001b[0m \u001b[0mfit\u001b[0m \u001b[0;32min\u001b[0m \u001b[0menumerate\u001b[0m\u001b[0;34m(\u001b[0m\u001b[0mfits\u001b[0m\u001b[0;34m[\u001b[0m\u001b[0mprobe\u001b[0m\u001b[0;34m]\u001b[0m\u001b[0;34m)\u001b[0m\u001b[0;34m:\u001b[0m\u001b[0;34m\u001b[0m\u001b[0m\n\u001b[1;32m      7\u001b[0m         \u001b[0mprobe_axes\u001b[0m\u001b[0;34m.\u001b[0m\u001b[0mplot\u001b[0m\u001b[0;34m(\u001b[0m\u001b[0;34m*\u001b[0m\u001b[0mfit\u001b[0m\u001b[0;34m.\u001b[0m\u001b[0mget_raw_plottables\u001b[0m\u001b[0;34m(\u001b[0m\u001b[0;34m)\u001b[0m\u001b[0;34m,\u001b[0m \u001b[0mcolor\u001b[0m\u001b[0;34m=\u001b[0m\u001b[0;34m'silver'\u001b[0m\u001b[0;34m)\u001b[0m\u001b[0;34m\u001b[0m\u001b[0m\n\u001b[0;32m----> 8\u001b[0;31m         \u001b[0mlabel_str\u001b[0m \u001b[0;34m=\u001b[0m \u001b[0mbase_fmt_str\u001b[0m\u001b[0;34m.\u001b[0m\u001b[0mformat\u001b[0m\u001b[0;34m(\u001b[0m\u001b[0mtilt_da\u001b[0m\u001b[0;34m.\u001b[0m\u001b[0mvalues\u001b[0m\u001b[0;34m[\u001b[0m\u001b[0mj\u001b[0m\u001b[0;34m]\u001b[0m\u001b[0;34m,\u001b[0m \u001b[0mtemps\u001b[0m\u001b[0;34m[\u001b[0m\u001b[0mprobe\u001b[0m\u001b[0;34m]\u001b[0m\u001b[0;34m[\u001b[0m\u001b[0mj\u001b[0m\u001b[0;34m]\u001b[0m\u001b[0;34m,\u001b[0m \u001b[0mdenss\u001b[0m\u001b[0;34m[\u001b[0m\u001b[0mprobe\u001b[0m\u001b[0;34m]\u001b[0m\u001b[0;34m[\u001b[0m\u001b[0mj\u001b[0m\u001b[0;34m]\u001b[0m\u001b[0;34m)\u001b[0m\u001b[0;34m\u001b[0m\u001b[0m\n\u001b[0m\u001b[1;32m      9\u001b[0m         \u001b[0mprobe_axes\u001b[0m\u001b[0;34m.\u001b[0m\u001b[0mplot\u001b[0m\u001b[0;34m(\u001b[0m\u001b[0;34m*\u001b[0m\u001b[0mfit\u001b[0m\u001b[0;34m.\u001b[0m\u001b[0mget_fit_plottables\u001b[0m\u001b[0;34m(\u001b[0m\u001b[0;34m)\u001b[0m\u001b[0;34m)\u001b[0m\u001b[0;34m\u001b[0m\u001b[0m\n\u001b[1;32m     10\u001b[0m \u001b[0;34m\u001b[0m\u001b[0m\n",
      "\u001b[0;31mTypeError\u001b[0m: unsupported format string passed to numpy.ndarray.__format__"
     ]
    }
   ],
   "source": [
    "fig, axes = plt.subplots(2, 2)\n",
    "base_fmt_str = r'$\\theta$ = {:.2g}, $T_e$={:.2g}, $n_e$={:.2g}'\n",
    "\n",
    "for i, probe in enumerate(probes[0:3]):\n",
    "    probe_axes = axes[i//2][i%2]\n",
    "    for j, fit in enumerate(fits[probe]):\n",
    "        probe_axes.plot(*fit.get_raw_plottables(), color='silver')\n",
    "        label_str = base_fmt_str.format(tilt_da.values[j], temps[probe][j], denss[probe][j])\n",
    "        probe_axes.plot(*fit.get_fit_plottables())\n",
    "    \n",
    "    anal_voltage = np.linspace(-100, -20, 100)\n",
    "    \n",
    "    for tilt in [1.0,10.0]:\n",
    "        v_f = -(1/tilt) * 10 * probe_temps[probe]\n",
    "        anal_current = magnum_probes[probe].get_analytical_iv(anal_voltage, v_f, np.radians(tilt), probe_temps[probe], probe_denss[probe], print_fl=True)\n",
    "#         print(v_f, tilt, probe_temps[probe], probe_denss[probe])\n",
    "#         print(anal_current)\n",
    "        label_str = base_fmt_str.format(tilt, probe_temps[probe], probe_denss[probe])\n",
    "        probe_axes.plot(anal_voltage, anal_current, label='TS IV ({})'.format(label_str), color='black', linestyle='dashed')\n",
    "    \n",
    "    probe_axes.legend()\n",
    "    probe_axes.set_title(f'Probe {probe}')\n",
    "    probe_axes.set_ylim(bottom=-0.1)\n",
    "plt.show()"
   ]
  },
  {
   "cell_type": "code",
   "execution_count": 35,
   "metadata": {},
   "outputs": [
    {
     "name": "stdout",
     "output_type": "stream",
     "text": [
      "10 10.0\n"
     ]
    },
    {
     "ename": "IndexError",
     "evalue": "list index out of range",
     "output_type": "error",
     "traceback": [
      "\u001b[0;31m---------------------------------------------------------------------------\u001b[0m",
      "\u001b[0;31mIndexError\u001b[0m                                Traceback (most recent call last)",
      "\u001b[0;32m<ipython-input-35-33b7c56f1ed1>\u001b[0m in \u001b[0;36m<module>\u001b[0;34m()\u001b[0m\n\u001b[1;32m     19\u001b[0m \u001b[0mfig\u001b[0m\u001b[0;34m,\u001b[0m \u001b[0maxes\u001b[0m \u001b[0;34m=\u001b[0m \u001b[0mplt\u001b[0m\u001b[0;34m.\u001b[0m\u001b[0msubplots\u001b[0m\u001b[0;34m(\u001b[0m\u001b[0;34m)\u001b[0m\u001b[0;34m\u001b[0m\u001b[0m\n\u001b[1;32m     20\u001b[0m \u001b[0;34m\u001b[0m\u001b[0m\n\u001b[0;32m---> 21\u001b[0;31m \u001b[0mfit\u001b[0m \u001b[0;34m=\u001b[0m \u001b[0mfits\u001b[0m\u001b[0;34m[\u001b[0m\u001b[0mprobe\u001b[0m\u001b[0;34m]\u001b[0m\u001b[0;34m[\u001b[0m\u001b[0mi\u001b[0m\u001b[0;34m]\u001b[0m\u001b[0;34m\u001b[0m\u001b[0m\n\u001b[0m\u001b[1;32m     22\u001b[0m \u001b[0maxes\u001b[0m\u001b[0;34m.\u001b[0m\u001b[0mplot\u001b[0m\u001b[0;34m(\u001b[0m\u001b[0;34m*\u001b[0m\u001b[0mfit\u001b[0m\u001b[0;34m.\u001b[0m\u001b[0mget_raw_plottables\u001b[0m\u001b[0;34m(\u001b[0m\u001b[0;34m)\u001b[0m\u001b[0;34m,\u001b[0m \u001b[0mcolor\u001b[0m\u001b[0;34m=\u001b[0m\u001b[0;34m'silver'\u001b[0m\u001b[0;34m)\u001b[0m\u001b[0;34m\u001b[0m\u001b[0m\n\u001b[1;32m     23\u001b[0m \u001b[0mlabel_str\u001b[0m \u001b[0;34m=\u001b[0m \u001b[0mbase_fmt_str\u001b[0m\u001b[0;34m.\u001b[0m\u001b[0mformat\u001b[0m\u001b[0;34m(\u001b[0m\u001b[0mtilt_da\u001b[0m\u001b[0;34m.\u001b[0m\u001b[0mvalues\u001b[0m\u001b[0;34m[\u001b[0m\u001b[0mj\u001b[0m\u001b[0;34m]\u001b[0m\u001b[0;34m,\u001b[0m \u001b[0mtemps\u001b[0m\u001b[0;34m[\u001b[0m\u001b[0mprobe\u001b[0m\u001b[0;34m]\u001b[0m\u001b[0;34m[\u001b[0m\u001b[0mi\u001b[0m\u001b[0;34m]\u001b[0m\u001b[0;34m,\u001b[0m \u001b[0mdenss\u001b[0m\u001b[0;34m[\u001b[0m\u001b[0mprobe\u001b[0m\u001b[0;34m]\u001b[0m\u001b[0;34m[\u001b[0m\u001b[0mi\u001b[0m\u001b[0;34m]\u001b[0m\u001b[0;34m)\u001b[0m\u001b[0;34m\u001b[0m\u001b[0m\n",
      "\u001b[0;31mIndexError\u001b[0m: list index out of range"
     ]
    }
   ],
   "source": [
    "tilt = 10.0\n",
    "i = 10\n",
    "probe = 'S'\n",
    "print(i, tilt)\n",
    "\n",
    "\n",
    "positions = np.array([-7, 6])\n",
    "\n",
    "fig, axes = plt.subplots()\n",
    "ts_temp.plot()\n",
    "\n",
    "# axes.axvline(x=positions[0], color='red')\n",
    "# axes.vlines([positions[0] + (i*10) for i in np.arange(-1, 3)], -0.5, 7.5, color='red')\n",
    "\n",
    "# axes.axvline(x=positions[1], color='blue')\n",
    "# axes.vlines([positions[1] + (i*10) for i in np.arange(-1, 3)], -0.5, 7.5, color='blue')\n",
    "\n",
    "positions = np.linspace(-8, -6, 10)\n",
    "fig, axes = plt.subplots()\n",
    "\n",
    "fit = fits[probe][i]\n",
    "axes.plot(*fit.get_raw_plottables(), color='silver')\n",
    "label_str = base_fmt_str.format(tilt_da.values[j], temps[probe][i], denss[probe][i])\n",
    "axes.plot(*fit.get_fit_plottables())\n",
    "\n",
    "for pos in positions:\n",
    "    temp = ts_temp.interp(ts_radial_pos=pos).values\n",
    "    dens = ts_dens.interp(ts_radial_pos=pos).values\n",
    "    v_f = temp * -10\n",
    "#     anal_voltage = np.linspace(-100, -20, 100)\n",
    "    anal_voltage = fit.raw_x\n",
    "    anal_current = magnum_probes[probe].get_analytical_iv(anal_voltage, v_f, np.radians(tilt), temp, dens, print_fl=True)\n",
    "    label_str = base_fmt_str.format(tilt, temp, dens)\n",
    "    axes.plot(anal_voltage, anal_current, label=f'pos = {pos}', linestyle='dashed')\n",
    "\n",
    "axes.legend()\n",
    "axes.set_ylim(bottom=0.0)"
   ]
  },
  {
   "cell_type": "markdown",
   "metadata": {},
   "source": [
    "# Non-sweep Averaging"
   ]
  },
  {
   "cell_type": "code",
   "execution_count": 36,
   "metadata": {},
   "outputs": [
    {
     "data": {
      "text/plain": [
       "<xarray.Dataset>\n",
       "Dimensions:      (direction: 2, probe: 4, shot_number: 22, sweep: 997, time: 150)\n",
       "Coordinates:\n",
       "  * probe        (probe) object 'B' 'L' 'R' 'S'\n",
       "  * time         (time) float64 0.0 0.0001 0.0001 ... 0.0049 0.0049 0.0049\n",
       "  * direction    (direction) object 'up' 'down'\n",
       "  * shot_number  (shot_number) int64 329 330 331 332 333 ... 349 350 351 352 353\n",
       "Dimensions without coordinates: sweep\n",
       "Data variables:\n",
       "    voltage      (shot_number, probe, direction, sweep, time) float64 nan ... nan\n",
       "    current      (shot_number, probe, direction, sweep, time) float64 nan ... nan\n",
       "    shot_time    (shot_number, probe, direction, sweep, time) float64 nan ... nan\n",
       "    start_time   (shot_number, probe, direction, sweep) float64 nan nan ... nan"
      ]
     },
     "execution_count": 36,
     "metadata": {},
     "output_type": "execute_result"
    }
   ],
   "source": [
    "combined_ds = xr.open_mfdataset(files_oi, concat_dim=shot_numbers_da, preprocess=preprocess_sel)\n",
    "combined_ds = combined_ds.load()\n",
    "combined_ds"
   ]
  },
  {
   "cell_type": "code",
   "execution_count": 37,
   "metadata": {},
   "outputs": [
    {
     "data": {
      "text/plain": [
       "<xarray.Dataset>\n",
       "Dimensions:                 (direction: 2, probe: 4, shot_number: 22, sweep: 997, time: 150, ts_radial_pos: 46)\n",
       "Coordinates:\n",
       "  * probe                   (probe) object 'B' 'L' 'R' 'S'\n",
       "  * time                    (time) float64 0.0 0.0001 0.0001 ... 0.0049 0.0049\n",
       "  * direction               (direction) object 'up' 'down'\n",
       "  * shot_number             (shot_number) int32 329 330 331 332 ... 351 352 353\n",
       "    ts_number               (shot_number) float64 ...\n",
       "    ts_timestamp            (shot_number) float64 ...\n",
       "    ts_time                 (shot_number) datetime64[ns] ...\n",
       "    adc_index               (shot_number) float64 ...\n",
       "    adc_time                (shot_number) datetime64[ns] ...\n",
       "  * ts_radial_pos           (ts_radial_pos) float64 -36.47 -34.8 ... 37.14 38.82\n",
       "    tilt                    (shot_number) float64 1.0 2.0 3.0 ... 8.0 9.0 10.0\n",
       "Dimensions without coordinates: sweep\n",
       "Data variables:\n",
       "    voltage                 (shot_number, probe, direction, sweep, time) float64 nan ... nan\n",
       "    current                 (shot_number, probe, direction, sweep, time) float64 nan ... nan\n",
       "    shot_time               (shot_number, probe, direction, sweep, time) float64 nan ... nan\n",
       "    start_time              (shot_number, probe, direction, sweep) float64 nan ... nan\n",
       "    adc_filename            (shot_number) object '2019-06-05 15h 52m 17s TT_06699043972926121530.adc' ... '2019-06-05 17h 03m 59s TT_06699062430372281696.adc'\n",
       "    ts_density              (shot_number, ts_radial_pos) float64 nan nan ... nan\n",
       "    ts_temperature          (shot_number, ts_radial_pos) float64 nan nan ... nan\n",
       "    ts_d_density            (shot_number, ts_radial_pos) float64 nan nan ... nan\n",
       "    ts_d_temperature        (shot_number, ts_radial_pos) float64 nan nan ... nan\n",
       "    adc_folder              (shot_number) object '2019-06-05_Leland/' ... '2019-06-05_Leland/'\n",
       "    adc_calibration_index   (shot_number) object '272' '272' ... '334' '334'\n",
       "    adc_4_probe             (shot_number) object 'S' 'S' 'S' 'S' ... 'R' 'R' 'R'\n",
       "    adc_5_probe             (shot_number) object 'L' 'L' 'L' 'L' ... 'B' 'B' 'B'\n",
       "    ts_temp_max             (shot_number) float64 3.973 4.656 ... 5.021 4.254\n",
       "    ts_dens_max             (shot_number) float64 1.676e+19 ... 1.896e+19\n",
       "    shot_end_time           (shot_number) datetime64[ns] 2019-06-05T14:52:26 ... 2019-06-05T16:04:03\n",
       "    ts_fl                   (shot_number) bool True True True ... True True True\n",
       "    sweep_time              (shot_number) datetime64[ns] 2019-06-05T14:51:55 ... 2019-06-05T16:03:32\n",
       "    shot_source_current     (shot_number) float64 110.3 110.1 ... 110.1 110.0\n",
       "    shot_b_field            (shot_number) float64 1.2 1.2 1.2 ... 1.2 1.2 1.2\n",
       "    shot_tilt               (shot_number) float64 0.9862 1.982 ... 8.99 9.983\n",
       "    shot_target_pos         (shot_number) float64 -0.15 -0.15 ... -0.15 -0.15\n",
       "    shot_target_rot         (shot_number) float64 -89.94 -89.94 ... -89.94\n",
       "    shot_target_pumpspeed   (shot_number) int32 82 82 82 82 82 ... 82 82 82 82\n",
       "    shot_source_pumpspeed   (shot_number) int32 82 82 82 82 82 ... 82 82 82 82\n",
       "    shot_heating_pumpspeed  (shot_number) int32 82 82 82 82 82 ... 82 82 82 82\n",
       "    shot_source_pos         (shot_number) float64 1.2 1.2 1.2 ... 1.2 1.2 1.2\n",
       "    shot_deuterium_gf       (shot_number) float64 0.003932 0.003744 ... 0.008466\n",
       "    shot_hydrogen_gf        (shot_number) float64 8.438 8.442 ... 8.44 8.45\n",
       "    shot_helium_gf          (shot_number) float64 0.0 0.0 0.0 ... 0.0 0.0 0.0\n",
       "    shot_hydrogen_puffed    (shot_number) float64 -0.01506 -0.03652 ... -0.02188\n",
       "    shot_helium_puffed      (shot_number) float64 -0.05326 -0.05469 ... -0.05238\n",
       "    adc_timestamp           (shot_number) float64 6.699e+18 ... 6.699e+18\n",
       "    adc_4_coax              (shot_number) float64 1.0 1.0 1.0 ... 1.0 1.0 1.0\n",
       "    adc_4_shunt_resistance  (shot_number) float64 1.0 1.0 1.0 ... 1.0 1.0 1.0\n",
       "    adc_5_coax              (shot_number) float64 2.0 2.0 2.0 ... 2.0 2.0 2.0\n",
       "    adc_5_shunt_resistance  (shot_number) float64 1.0 1.0 1.0 ... 1.0 1.0 1.0\n",
       "    adc_calibration_fl      (shot_number) float64 0.0 0.0 0.0 ... 0.0 0.0 0.0\n",
       "    shot_fl                 (shot_number) float64 1.0 1.0 1.0 ... 1.0 1.0 1.0\n",
       "    acquisition_length      (shot_number) float64 17.0 17.0 22.0 ... 22.0 22.0\n",
       "    adc_end_time            (shot_number) datetime64[ns] 2019-06-05T14:52:17 ... 2019-06-05T16:03:59\n",
       "    adc_end_timestamp       (shot_number) float64 6.699e+18 ... 6.699e+18\n",
       "    adc_freqs               (shot_number) float64 1e+06 1e+06 ... 1e+06 1e+06"
      ]
     },
     "execution_count": 37,
     "metadata": {},
     "output_type": "execute_result"
    }
   ],
   "source": [
    "hydrogen_anglescan_ds = xr.merge([combined_ds, helium_meta_ds.rename({'shot_time':'sweep_time'})]).assign_coords(tilt=helium_meta_ds['shot_tilt'].round())\n",
    "hydrogen_anglescan_ds"
   ]
  },
  {
   "cell_type": "code",
   "execution_count": 38,
   "metadata": {},
   "outputs": [],
   "source": [
    "probe = 'R'\n",
    "\n",
    "# shot_number = 343\n",
    "shot_number = 345"
   ]
  },
  {
   "cell_type": "code",
   "execution_count": 39,
   "metadata": {},
   "outputs": [
    {
     "name": "stdout",
     "output_type": "stream",
     "text": [
      "<xarray.Dataset>\n",
      "Dimensions:                 (direction: 2, sweep: 997, time: 150)\n",
      "Coordinates:\n",
      "    probe                   <U1 'R'\n",
      "  * time                    (time) float64 0.0 0.0001 0.0001 ... 0.0049 0.0049\n",
      "  * direction               (direction) object 'up' 'down'\n",
      "    shot_number             int32 345\n",
      "    ts_number               float64 ...\n",
      "    ts_timestamp            float64 ...\n",
      "    ts_time                 datetime64[ns] ...\n",
      "    adc_index               float64 ...\n",
      "    adc_time                datetime64[ns] ...\n",
      "    tilt                    float64 2.0\n",
      "Dimensions without coordinates: sweep\n",
      "Data variables:\n",
      "    voltage                 (direction, sweep, time) float64 2.365 nan ... nan\n",
      "    current                 (direction, sweep, time) float64 0.0001562 ... nan\n",
      "    shot_time               (direction, sweep, time) float64 1.015 nan ... nan\n",
      "    start_time              (direction, sweep) float64 1.015 1.025 ... 10.98\n",
      "    adc_filename            object '2019-06-05 16h 47m 40s TT_06699058225871413896.adc'\n",
      "    ts_density              float64 1.681e+19\n",
      "    ts_temperature          float64 4.527\n",
      "    ts_d_density            float64 4.877e+16\n",
      "    ts_d_temperature        float64 0.04099\n",
      "    adc_folder              object '2019-06-05_Leland/'\n",
      "    adc_calibration_index   object '334'\n",
      "    adc_4_probe             object 'R'\n",
      "    adc_5_probe             object 'B'\n",
      "    ts_temp_max             float64 4.527\n",
      "    ts_dens_max             float64 1.681e+19\n",
      "    shot_end_time           datetime64[ns] 2019-06-05T15:47:44\n",
      "    ts_fl                   bool True\n",
      "    sweep_time              datetime64[ns] 2019-06-05T15:47:13\n",
      "    shot_source_current     float64 110.5\n",
      "    shot_b_field            float64 1.2\n",
      "    shot_tilt               float64 1.983\n",
      "    shot_target_pos         float64 -0.15\n",
      "    shot_target_rot         float64 -89.94\n",
      "    shot_target_pumpspeed   int32 82\n",
      "    shot_source_pumpspeed   int32 82\n",
      "    shot_heating_pumpspeed  int32 82\n",
      "    shot_source_pos         float64 1.2\n",
      "    shot_deuterium_gf       float64 0.003121\n",
      "    shot_hydrogen_gf        float64 8.442\n",
      "    shot_helium_gf          float64 0.0\n",
      "    shot_hydrogen_puffed    float64 -0.02087\n",
      "    shot_helium_puffed      float64 -0.05315\n",
      "    adc_timestamp           float64 6.699e+18\n",
      "    adc_4_coax              float64 1.0\n",
      "    adc_4_shunt_resistance  float64 1.0\n",
      "    adc_5_coax              float64 2.0\n",
      "    adc_5_shunt_resistance  float64 1.0\n",
      "    adc_calibration_fl      float64 0.0\n",
      "    shot_fl                 float64 1.0\n",
      "    acquisition_length      float64 22.0\n",
      "    adc_end_time            datetime64[ns] 2019-06-05T15:47:40\n",
      "    adc_end_timestamp       float64 6.699e+18\n",
      "    adc_freqs               float64 1e+06\n"
     ]
    },
    {
     "name": "stderr",
     "output_type": "stream",
     "text": [
      "/home/jleland/Coding/Environments/python3.6/lib/python3.6/site-packages/xarray/core/nputils.py:220: RuntimeWarning: All-NaN slice encountered\n",
      "  result = getattr(npmodule, name)(values, axis=axis, **kwds)\n"
     ]
    }
   ],
   "source": [
    "weird_ds = hydrogen_anglescan_ds.sel(probe=probe, shot_number=shot_number).max('ts_radial_pos')\n",
    "# print(weird_ds)\n",
    "# weird_ds = weird_ds.where(np.isfinite(weird_ds.voltage), drop=True)\n",
    "print(weird_ds)"
   ]
  },
  {
   "cell_type": "code",
   "execution_count": 45,
   "metadata": {},
   "outputs": [
    {
     "name": "stderr",
     "output_type": "stream",
     "text": [
      "/home/jleland/Coding/Environments/python3.6/lib/python3.6/site-packages/xarray/core/nanops.py:159: RuntimeWarning: Mean of empty slice\n",
      "  return np.nanmean(a, axis=axis, dtype=dtype)\n"
     ]
    }
   ],
   "source": [
    "plt.figure()\n",
    "for sweep in weird_ds['sweep'].values[::10]:\n",
    "    sweep_ds = weird_ds.sel(sweep=sweep)\n",
    "#     plt.plot(sweep_ds['time'].values, sweep_ds['voltage'].values)\n",
    "    plt.plot(sweep_ds['voltage'].values, sweep_ds['current'].values)\n",
    "    \n",
    "sweep_avg = weird_ds.mean('sweep')\n",
    "plt.plot(sweep_avg['voltage'].values, sweep_avg['current'].values, 'k', label='Average')\n",
    "plt.show()"
   ]
  },
  {
   "cell_type": "code",
   "execution_count": 44,
   "metadata": {},
   "outputs": [],
   "source": [
    "zeroed_ds = weird_ds - sweep_avg\n",
    "bins = np.linspace(-0.05,0.05,100)\n",
    "\n",
    "plt.figure()\n",
    "for time in zeroed_ds['time'].values[0:1]:\n",
    "    time_ds = zeroed_ds.sel(time=time, direction='up')\n",
    "    hist = time_ds['current'].plot.hist(bins=bins)\n",
    "    time_ds = zeroed_ds.sel(time=time, direction='down')\n",
    "    hist = time_ds['current'].plot.hist(bins=bins)\n",
    "    \n",
    "# sweep_avg = weird_ds.mean('sweep')\n",
    "# plt.plot(sweep_avg['time'].values, sweep_avg['voltage'].values, 'b', label='Average')\n",
    "plt.show()"
   ]
  },
  {
   "cell_type": "markdown",
   "metadata": {},
   "source": [
    "## Joe analysis"
   ]
  },
  {
   "cell_type": "code",
   "execution_count": 21,
   "metadata": {},
   "outputs": [
    {
     "data": {
      "text/plain": [
       "<xarray.Dataset>\n",
       "Dimensions:                 (direction: 2, probe: 2, shot_number: 3, time: 5000, ts_radial_pos: 46)\n",
       "Coordinates:\n",
       "  * direction               (direction) object 'up' 'down'\n",
       "  * probe                   (probe) object 'S' 'L'\n",
       "  * shot_number             (shot_number) int64 398 400 411\n",
       "    ts_number               (shot_number) float64 ...\n",
       "    ts_timestamp            (shot_number) float64 ...\n",
       "    ts_time                 (shot_number) datetime64[ns] ...\n",
       "    adc_index               (shot_number) float64 ...\n",
       "    adc_time                (shot_number) datetime64[ns] ...\n",
       "  * ts_radial_pos           (ts_radial_pos) float64 -36.47 -34.8 ... 37.14 38.82\n",
       "Dimensions without coordinates: time\n",
       "Data variables:\n",
       "    voltage                 (shot_number, probe, direction, time) float64 dask.array<chunksize=(1, 2, 2, 5000), meta=np.ndarray>\n",
       "    current                 (shot_number, probe, direction, time) float64 dask.array<chunksize=(1, 2, 2, 5000), meta=np.ndarray>\n",
       "    shot_time               (shot_number, probe, direction, time) float64 dask.array<chunksize=(1, 2, 2, 5000), meta=np.ndarray>\n",
       "    start_time              (shot_number, probe, direction) float64 dask.array<chunksize=(1, 2, 2), meta=np.ndarray>\n",
       "    d_current               (shot_number, probe, direction, time) float64 dask.array<chunksize=(1, 2, 2, 5000), meta=np.ndarray>\n",
       "    adc_filename            (shot_number) object '2019-06-06 13h 49m 00s TT_06699383298543284340.adc' ... '2019-06-06 14h 59m 10s TT_06699401399545384568.adc'\n",
       "    ts_density              (shot_number, ts_radial_pos) float64 nan nan ... nan\n",
       "    ts_temperature          (shot_number, ts_radial_pos) float64 nan nan ... nan\n",
       "    ts_d_density            (shot_number, ts_radial_pos) float64 nan nan ... nan\n",
       "    ts_d_temperature        (shot_number, ts_radial_pos) float64 nan nan ... nan\n",
       "    adc_folder              (shot_number) object '2019-06-06_Leland/' ... '2019-06-06_Leland/'\n",
       "    adc_calibration_index   (shot_number) object '387' '387' '387'\n",
       "    adc_4_probe             (shot_number) object 'S' 'S' 'S'\n",
       "    adc_5_probe             (shot_number) object 'L' 'L' 'L'\n",
       "    ts_temp_max             (shot_number) float64 4.369 2.538 1.761\n",
       "    ts_dens_max             (shot_number) float64 5.365e+19 2.626e+20 8.437e+20\n",
       "    shot_end_time           (shot_number) datetime64[ns] 2019-06-06T12:49:04 ... 2019-06-06T13:59:10\n",
       "    ts_fl                   (shot_number) bool True True True\n",
       "    sweep_time              (shot_number) datetime64[ns] 2019-06-06T12:48:41 ... 2019-06-06T13:58:55\n",
       "    shot_source_current     (shot_number) float64 126.0 140.3 190.7\n",
       "    shot_b_field            (shot_number) float64 1.5 1.5 1.5\n",
       "    shot_tilt               (shot_number) float64 7.977 7.977 5.025\n",
       "    shot_target_pos         (shot_number) float64 -0.2 -0.2 -0.2\n",
       "    shot_target_rot         (shot_number) float64 -89.93 -89.93 -89.93\n",
       "    shot_target_pumpspeed   (shot_number) int32 82 82 82\n",
       "    shot_source_pumpspeed   (shot_number) int32 82 82 82\n",
       "    shot_heating_pumpspeed  (shot_number) int32 82 82 82\n",
       "    shot_source_pos         (shot_number) float64 1.4 1.4 1.4\n",
       "    shot_deuterium_gf       (shot_number) float64 0.0002019 0.0004179 0.005374\n",
       "    shot_hydrogen_gf        (shot_number) float64 9.283 9.291 9.31\n",
       "    shot_helium_gf          (shot_number) float64 0.0 0.0 0.0\n",
       "    shot_hydrogen_puffed    (shot_number) float64 -0.0198 -0.02178 -0.01849\n",
       "    shot_helium_puffed      (shot_number) float64 -0.05134 -0.05099 -0.04871\n",
       "    adc_timestamp           (shot_number) float64 6.699e+18 6.699e+18 6.699e+18\n",
       "    adc_4_coax              (shot_number) float64 3.0 3.0 3.0\n",
       "    adc_4_shunt_resistance  (shot_number) float64 1.0 1.0 1.0\n",
       "    adc_5_coax              (shot_number) float64 4.0 4.0 4.0\n",
       "    adc_5_shunt_resistance  (shot_number) float64 1.0 1.0 1.0\n",
       "    adc_calibration_fl      (shot_number) float64 0.0 0.0 0.0\n",
       "    shot_fl                 (shot_number) float64 1.0 1.0 1.0\n",
       "    acquisition_length      (shot_number) float64 15.0 15.0 10.0\n",
       "    adc_end_time            (shot_number) datetime64[ns] 2019-06-06T12:49:00 ... 2019-06-06T13:59:09\n",
       "    adc_end_timestamp       (shot_number) float64 6.699e+18 6.699e+18 6.699e+18\n",
       "    adc_freqs               (shot_number) float64 1e+06 1e+06 1e+06"
      ]
     },
     "execution_count": 21,
     "metadata": {},
     "output_type": "execute_result"
    }
   ],
   "source": [
    "combined_all_ds"
   ]
  },
  {
   "cell_type": "code",
   "execution_count": 18,
   "metadata": {},
   "outputs": [],
   "source": [
    "fig, ax = plt.subplots(2)\n",
    "((combined_all_ds.max('ts_radial_pos').sel(probe='S', direction='up').set_coords('voltage')['current'])).plot.line(x='voltage', hue='shot_number', ax=ax[0])\n",
    "((combined_all_ds.max('ts_radial_pos').sel(probe='L', direction='up').set_coords('voltage')['current'])).plot.line(x='voltage', hue='shot_number', ax=ax[1])\n",
    "ax[0].axhline(0, linestyle='--', color='grey', linewidth=1)\n",
    "ax[1].axhline(0, linestyle='--', color='grey', linewidth=1)\n",
    "plt.show()"
   ]
  },
  {
   "cell_type": "code",
   "execution_count": 26,
   "metadata": {},
   "outputs": [
    {
     "data": {
      "text/plain": [
       "<xarray.Dataset>\n",
       "Dimensions:                 (probe: 2, shot_number: 3, time: 5000, ts_radial_pos: 46)\n",
       "Coordinates:\n",
       "  * probe                   (probe) object 'S' 'L'\n",
       "  * shot_number             (shot_number) int32 398 400 411\n",
       "    ts_number               (shot_number) float64 ...\n",
       "    ts_timestamp            (shot_number) float64 ...\n",
       "    ts_time                 (shot_number) datetime64[ns] ...\n",
       "    adc_index               (shot_number) float64 ...\n",
       "    adc_time                (shot_number) datetime64[ns] ...\n",
       "  * ts_radial_pos           (ts_radial_pos) float64 -36.47 -34.8 ... 37.14 38.82\n",
       "    tilt                    (shot_number) float64 8.0 8.0 5.0\n",
       "Dimensions without coordinates: time\n",
       "Data variables:\n",
       "    voltage                 (shot_number, probe, time) float64 dask.array<chunksize=(1, 2, 5000), meta=np.ndarray>\n",
       "    current                 (shot_number, probe, time) float64 dask.array<chunksize=(1, 2, 5000), meta=np.ndarray>\n",
       "    shot_time               (shot_number, probe, time) float64 dask.array<chunksize=(1, 2, 5000), meta=np.ndarray>\n",
       "    start_time              (shot_number, probe) float64 dask.array<chunksize=(1, 2), meta=np.ndarray>\n",
       "    d_current               (shot_number, probe, time) float64 dask.array<chunksize=(1, 2, 5000), meta=np.ndarray>\n",
       "    ts_density              (shot_number, ts_radial_pos) float64 nan nan ... nan\n",
       "    ts_temperature          (shot_number, ts_radial_pos) float64 nan nan ... nan\n",
       "    ts_d_density            (shot_number, ts_radial_pos) float64 nan nan ... nan\n",
       "    ts_d_temperature        (shot_number, ts_radial_pos) float64 nan nan ... nan\n",
       "    ts_temp_max             (shot_number) float64 4.369 2.538 1.761\n",
       "    ts_dens_max             (shot_number) float64 5.365e+19 2.626e+20 8.437e+20\n",
       "    ts_fl                   (shot_number) float64 1.0 1.0 1.0\n",
       "    shot_source_current     (shot_number) float64 126.0 140.3 190.7\n",
       "    shot_b_field            (shot_number) float64 1.5 1.5 1.5\n",
       "    shot_tilt               (shot_number) float64 7.977 7.977 5.025\n",
       "    shot_target_pos         (shot_number) float64 -0.2 -0.2 -0.2\n",
       "    shot_target_rot         (shot_number) float64 -89.93 -89.93 -89.93\n",
       "    shot_target_pumpspeed   (shot_number) float64 82.0 82.0 82.0\n",
       "    shot_source_pumpspeed   (shot_number) float64 82.0 82.0 82.0\n",
       "    shot_heating_pumpspeed  (shot_number) float64 82.0 82.0 82.0\n",
       "    shot_source_pos         (shot_number) float64 1.4 1.4 1.4\n",
       "    shot_deuterium_gf       (shot_number) float64 0.0002019 0.0004179 0.005374\n",
       "    shot_hydrogen_gf        (shot_number) float64 9.283 9.291 9.31\n",
       "    shot_helium_gf          (shot_number) float64 0.0 0.0 0.0\n",
       "    shot_hydrogen_puffed    (shot_number) float64 -0.0198 -0.02178 -0.01849\n",
       "    shot_helium_puffed      (shot_number) float64 -0.05134 -0.05099 -0.04871\n",
       "    adc_timestamp           (shot_number) float64 6.699e+18 6.699e+18 6.699e+18\n",
       "    adc_4_coax              (shot_number) float64 3.0 3.0 3.0\n",
       "    adc_4_shunt_resistance  (shot_number) float64 1.0 1.0 1.0\n",
       "    adc_5_coax              (shot_number) float64 4.0 4.0 4.0\n",
       "    adc_5_shunt_resistance  (shot_number) float64 1.0 1.0 1.0\n",
       "    adc_calibration_fl      (shot_number) float64 0.0 0.0 0.0\n",
       "    shot_fl                 (shot_number) float64 1.0 1.0 1.0\n",
       "    acquisition_length      (shot_number) float64 15.0 15.0 10.0\n",
       "    adc_end_timestamp       (shot_number) float64 6.699e+18 6.699e+18 6.699e+18\n",
       "    adc_freqs               (shot_number) float64 1e+06 1e+06 1e+06"
      ]
     },
     "execution_count": 26,
     "metadata": {},
     "output_type": "execute_result"
    }
   ],
   "source": [
    "# for Joe's analysis\n",
    "anglescan_ds = combined_all_ds.assign_coords(tilt=helium_meta_ds['shot_tilt'].round()).mean('direction')\n",
    "anglescan_ds"
   ]
  },
  {
   "cell_type": "code",
   "execution_count": 29,
   "metadata": {},
   "outputs": [
    {
     "name": "stderr",
     "output_type": "stream",
     "text": [
      "/home/jleland/coding/environments/python3.6/lib/python3.6/site-packages/numpy/lib/nanfunctions.py:1666: RuntimeWarning: Degrees of freedom <= 0 for slice.\n",
      "  keepdims=keepdims)\n"
     ]
    },
    {
     "name": "stdout",
     "output_type": "stream",
     "text": [
      "(46,)\n"
     ]
    }
   ],
   "source": [
    "\n"
   ]
  },
  {
   "cell_type": "markdown",
   "metadata": {},
   "source": [
    "# Trying to find problem with time dimension\n",
    "Found it by looking at teh individual time values on each dataset and noticing slight differences. Fixed by dropping the coordinate from time, which can be added back in later if necessary."
   ]
  },
  {
   "cell_type": "code",
   "execution_count": 9,
   "metadata": {},
   "outputs": [
    {
     "data": {
      "text/plain": [
       "143"
      ]
     },
     "execution_count": 9,
     "metadata": {},
     "output_type": "execute_result"
    }
   ],
   "source": [
    "analysed_infos_df['shot_index'].loc[indices[0]]"
   ]
  },
  {
   "cell_type": "code",
   "execution_count": 22,
   "metadata": {},
   "outputs": [
    {
     "name": "stdout",
     "output_type": "stream",
     "text": [
      "<xarray.Dataset>\n",
      "Dimensions:      (probe: 2, shot_number: 2, time: 5000)\n",
      "Coordinates:\n",
      "  * probe        (probe) object 'S' 'L'\n",
      "  * shot_number  (shot_number) int64 143 144\n",
      "    time_        (shot_number, time) float64 0.0 1e-06 ... 0.004998 0.004999\n",
      "Dimensions without coordinates: time\n",
      "Data variables:\n",
      "    voltage      (shot_number, probe, time) float64 88.51 88.59 ... -967.3\n",
      "    current      (shot_number, probe, time) float64 0.2893 0.2893 ... -0.01502\n",
      "    shot_time    (shot_number, probe, time) float64 4.496 4.496 ... 4.496 4.496\n",
      "    start_time   (shot_number, probe) float64 4.494 4.494 4.494 4.494\n"
     ]
    }
   ],
   "source": [
    "ds_list = []\n",
    "slicey = slice(0, 2)\n",
    "for i, ds_file in enumerate(files_oi[slicey]):\n",
    "    ds = xr.open_dataset(ds_file).sel(sweep=slice(0,699)).expand_dims({'shot_number':[analysed_infos_df['shot_index'].loc[indices[i]]]}).reset_index('time').mean('direction').mean('sweep')\n",
    "    ds_list.append(ds)\n",
    "\n",
    "shot_number_da = xr.DataArray(analysed_infos_df.loc[indices[slicey]]['shot_index'].values, dims=['shot_number'], name='shot_number')\n",
    "autocombined_ds = xr.concat(ds_list, dim=shot_number_da)\n",
    "print(autocombined_ds)"
   ]
  },
  {
   "cell_type": "code",
   "execution_count": 24,
   "metadata": {},
   "outputs": [
    {
     "name": "stdout",
     "output_type": "stream",
     "text": [
      "<xarray.DataArray 'time' ()>\n",
      "array(0.004999)\n",
      "analysed_1/a143_148_6698301520675232768.nc [0.0000000e+00 1.0000001e-06 2.0000002e-06 ... 4.9970005e-03 4.9980005e-03\n",
      " 4.9990005e-03] [0.0000000e+00 1.0000001e-06 2.0000002e-06 ... 4.9970005e-03 4.9980005e-03\n",
      " 4.9990005e-03]\n"
     ]
    }
   ],
   "source": [
    "for ds_file in files_oi[0:1]:\n",
    "    ds = xr.open_dataset(ds_file)\n",
    "    print(ds['time'].max())\n",
    "    print(ds_file, ds['time'].values, ds.mean('direction').mean('sweep')['time'].values)"
   ]
  },
  {
   "cell_type": "code",
   "execution_count": null,
   "metadata": {},
   "outputs": [],
   "source": []
  }
 ],
 "metadata": {
  "kernelspec": {
   "display_name": "python3.6-codac",
   "language": "python",
   "name": "python3.6-codac"
  },
  "language_info": {
   "codemirror_mode": {
    "name": "ipython",
    "version": 3
   },
   "file_extension": ".py",
   "mimetype": "text/x-python",
   "name": "python",
   "nbconvert_exporter": "python",
   "pygments_lexer": "ipython3",
   "version": "3.6.9"
  }
 },
 "nbformat": 4,
 "nbformat_minor": 4
}
