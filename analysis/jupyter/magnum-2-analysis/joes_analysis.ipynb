{
 "cells": [
  {
   "cell_type": "markdown",
   "metadata": {},
   "source": [
    "# Analysis of 4 Specific Shots for Joe"
   ]
  },
  {
   "cell_type": "code",
   "execution_count": 1,
   "metadata": {},
   "outputs": [],
   "source": [
    "%matplotlib tk\n",
    "import numpy as np\n",
    "import matplotlib.pyplot as plt\n",
    "import matplotlib as mpl\n",
    "import pandas as pd\n",
    "import xarray as xr \n",
    "import scipy.stats as stat\n",
    "import sys\n",
    "import os\n",
    "import glob\n",
    "import re\n",
    "sys.path.append('/home/jleland/Coding/Projects/flopter')\n",
    "import flopter.core.ivdata as iv\n",
    "import flopter.core.lputils as lp\n",
    "import flopter.magnum.database as ut\n",
    "import flopter.magnum.utils as mgut\n",
    "import flopter.core.fitters as fts\n",
    "import flopter.core.constants as c"
   ]
  },
  {
   "cell_type": "code",
   "execution_count": 2,
   "metadata": {},
   "outputs": [],
   "source": [
    "# Create analysed dataset metadata \n",
    "\n",
    "path_to_datasets = '/home/jleland/data/external/magnum/'\n",
    "# path_to_datasets = '/home/jleland/data/externy/magnum/'\n",
    "# path_to_analysed_datasets = 'analysed_2'\n",
    "# path_to_analysed_datasets = 'analysed_3'\n",
    "# path_to_analysed_datasets = 'phobos_test'\n",
    "# path_to_analysed_datasets = 'analysed_4'\n",
    "# path_to_analysed_datasets = 'test'\n",
    "path_to_analysed_datasets = 'analysed_3_downsampled'\n",
    "os.chdir(path_to_datasets)"
   ]
  },
  {
   "cell_type": "markdown",
   "metadata": {},
   "source": [
    "---\n",
    "## Saving / loading section\n",
    "The metadata doesn't need to be reconstructed _every_ time, so we can store it in a .csv file output by pandas. The following 2 methods save and load, use whichever is appropriate"
   ]
  },
  {
   "cell_type": "code",
   "execution_count": 3,
   "metadata": {},
   "outputs": [],
   "source": [
    "metadata_filename = f'{path_to_analysed_datasets}_xr_metadata.csv'\n",
    "\n",
    "# Loading the metadata .csv file into a pandas dataframe\n",
    "try:\n",
    "    analysed_infos_df = pd.read_csv(metadata_filename).set_index('adc_index')\n",
    "except:\n",
    "    # If the .csv file doesn't exist, create it and save it to where we would expect it to be\n",
    "    analysed_infos_df = mgut.create_analysed_ds_metadata(path_to_analysed_datasets)\n",
    "    analysed_infos_df.to_csv(metadata_filename)"
   ]
  },
  {
   "cell_type": "code",
   "execution_count": 4,
   "metadata": {},
   "outputs": [
    {
     "data": {
      "text/html": [
       "<div>\n",
       "<style scoped>\n",
       "    .dataframe tbody tr th:only-of-type {\n",
       "        vertical-align: middle;\n",
       "    }\n",
       "\n",
       "    .dataframe tbody tr th {\n",
       "        vertical-align: top;\n",
       "    }\n",
       "\n",
       "    .dataframe thead th {\n",
       "        text-align: right;\n",
       "    }\n",
       "</style>\n",
       "<table border=\"1\" class=\"dataframe\">\n",
       "  <thead>\n",
       "    <tr style=\"text-align: right;\">\n",
       "      <th></th>\n",
       "      <th>filename</th>\n",
       "      <th>shot_number</th>\n",
       "      <th>shot_time</th>\n",
       "      <th>shot_timestamp</th>\n",
       "      <th>sweep_len</th>\n",
       "      <th>time_len</th>\n",
       "    </tr>\n",
       "    <tr>\n",
       "      <th>adc_index</th>\n",
       "      <th></th>\n",
       "      <th></th>\n",
       "      <th></th>\n",
       "      <th></th>\n",
       "      <th></th>\n",
       "      <th></th>\n",
       "    </tr>\n",
       "  </thead>\n",
       "  <tbody>\n",
       "    <tr>\n",
       "      <td>396</td>\n",
       "      <td>analysed_3_downsampled/a398_396_66993832985432...</td>\n",
       "      <td>398</td>\n",
       "      <td>2019-06-06 12:48:45</td>\n",
       "      <td>6699383298543284224</td>\n",
       "      <td>1498</td>\n",
       "      <td>50</td>\n",
       "    </tr>\n",
       "    <tr>\n",
       "      <td>398</td>\n",
       "      <td>analysed_3_downsampled/a400_398_66993842345516...</td>\n",
       "      <td>400</td>\n",
       "      <td>2019-06-06 12:52:23</td>\n",
       "      <td>6699384234551673856</td>\n",
       "      <td>1497</td>\n",
       "      <td>50</td>\n",
       "    </tr>\n",
       "    <tr>\n",
       "      <td>409</td>\n",
       "      <td>analysed_3_downsampled/a411_409_66994013995453...</td>\n",
       "      <td>411</td>\n",
       "      <td>2019-06-06 13:58:59</td>\n",
       "      <td>6699401399545384960</td>\n",
       "      <td>998</td>\n",
       "      <td>50</td>\n",
       "    </tr>\n",
       "    <tr>\n",
       "      <td>410</td>\n",
       "      <td>analysed_3_downsampled/a412_410_66994018222159...</td>\n",
       "      <td>412</td>\n",
       "      <td>2019-06-06 14:00:38</td>\n",
       "      <td>6699401822215929856</td>\n",
       "      <td>998</td>\n",
       "      <td>50</td>\n",
       "    </tr>\n",
       "  </tbody>\n",
       "</table>\n",
       "</div>"
      ],
      "text/plain": [
       "                                                    filename  shot_number  \\\n",
       "adc_index                                                                   \n",
       "396        analysed_3_downsampled/a398_396_66993832985432...          398   \n",
       "398        analysed_3_downsampled/a400_398_66993842345516...          400   \n",
       "409        analysed_3_downsampled/a411_409_66994013995453...          411   \n",
       "410        analysed_3_downsampled/a412_410_66994018222159...          412   \n",
       "\n",
       "                     shot_time       shot_timestamp  sweep_len  time_len  \n",
       "adc_index                                                                 \n",
       "396        2019-06-06 12:48:45  6699383298543284224       1498        50  \n",
       "398        2019-06-06 12:52:23  6699384234551673856       1497        50  \n",
       "409        2019-06-06 13:58:59  6699401399545384960        998        50  \n",
       "410        2019-06-06 14:00:38  6699401822215929856        998        50  "
      ]
     },
     "execution_count": 4,
     "metadata": {},
     "output_type": "execute_result"
    }
   ],
   "source": [
    "# Joe's requested shots\n",
    "indices = [396, 398, 409, 410]\n",
    "\n",
    "analysed_infos_df.loc[indices]"
   ]
  },
  {
   "cell_type": "markdown",
   "metadata": {},
   "source": [
    "## Load adc file metadata"
   ]
  },
  {
   "cell_type": "code",
   "execution_count": 5,
   "metadata": {},
   "outputs": [
    {
     "name": "stdout",
     "output_type": "stream",
     "text": [
      "<xarray.Dataset>\n",
      "Dimensions:                 (shot_number: 523, ts_radial_pos: 46)\n",
      "Coordinates:\n",
      "  * shot_number             (shot_number) int32 0 1 2 3 4 ... 519 520 521 522\n",
      "    ts_number               (shot_number) float64 ...\n",
      "    ts_timestamp            (shot_number) float64 ...\n",
      "    ts_time                 (shot_number) datetime64[ns] ...\n",
      "    adc_index               (shot_number) float64 ...\n",
      "    adc_time                (shot_number) datetime64[ns] ...\n",
      "  * ts_radial_pos           (ts_radial_pos) float64 -36.47 -34.8 ... 37.14 38.82\n",
      "Data variables:\n",
      "    adc_filename            (shot_number) object ...\n",
      "    ts_density              (shot_number, ts_radial_pos) float64 ...\n",
      "    ts_temperature          (shot_number, ts_radial_pos) float64 ...\n",
      "    ts_d_density            (shot_number, ts_radial_pos) float64 ...\n",
      "    ts_d_temperature        (shot_number, ts_radial_pos) float64 ...\n",
      "    adc_folder              (shot_number) object ...\n",
      "    adc_calibration_index   (shot_number) object ...\n",
      "    adc_4_probe             (shot_number) object ...\n",
      "    adc_5_probe             (shot_number) object ...\n",
      "    ts_temp_max             (shot_number) float64 ...\n",
      "    ts_dens_max             (shot_number) float64 ...\n",
      "    shot_end_time           (shot_number) datetime64[ns] ...\n",
      "    ts_fl                   (shot_number) bool ...\n",
      "    shot_time               (shot_number) datetime64[ns] ...\n",
      "    shot_source_current     (shot_number) float64 ...\n",
      "    shot_b_field            (shot_number) float64 ...\n",
      "    shot_tilt               (shot_number) float64 ...\n",
      "    shot_target_pos         (shot_number) float64 ...\n",
      "    shot_target_rot         (shot_number) float64 ...\n",
      "    shot_target_pumpspeed   (shot_number) int32 ...\n",
      "    shot_source_pumpspeed   (shot_number) int32 ...\n",
      "    shot_heating_pumpspeed  (shot_number) int32 ...\n",
      "    shot_source_pos         (shot_number) float64 ...\n",
      "    shot_deuterium_gf       (shot_number) float64 ...\n",
      "    shot_hydrogen_gf        (shot_number) float64 ...\n",
      "    shot_helium_gf          (shot_number) float64 ...\n",
      "    shot_hydrogen_puffed    (shot_number) float64 ...\n",
      "    shot_helium_puffed      (shot_number) float64 ...\n",
      "    adc_timestamp           (shot_number) float64 ...\n",
      "    adc_4_coax              (shot_number) float64 ...\n",
      "    adc_4_shunt_resistance  (shot_number) float64 ...\n",
      "    adc_5_coax              (shot_number) float64 ...\n",
      "    adc_5_shunt_resistance  (shot_number) float64 ...\n",
      "    adc_calibration_fl      (shot_number) float64 ...\n",
      "    shot_fl                 (shot_number) float64 ...\n",
      "    acquisition_length      (shot_number) float64 ...\n",
      "    adc_end_time            (shot_number) datetime64[ns] ...\n",
      "    adc_end_timestamp       (shot_number) float64 ...\n",
      "    adc_freqs               (shot_number) float64 ...\n"
     ]
    }
   ],
   "source": [
    "os.chdir('/home/jleland/data/external/magnum/')\n",
    "# os.chdir('/home/jleland/data/externy/magnum/')\n",
    "meta_data_ds = xr.open_dataset('all_meta_data.nc')\n",
    "print(meta_data_ds)"
   ]
  },
  {
   "cell_type": "markdown",
   "metadata": {},
   "source": [
    "# Creation of Dataset from adc_file index selection"
   ]
  },
  {
   "cell_type": "code",
   "execution_count": 6,
   "metadata": {},
   "outputs": [],
   "source": [
    "magnum_probes = lp.MagnumProbes()\n",
    "\n",
    "def preprocess_sel(ds, sweep=slice(0,997)):\n",
    "    ds = ds.reset_index('time', drop=True).load()\n",
    "    return ds.sel(sweep=sweep)\n",
    "\n",
    "def preprocess_autosel(ds):\n",
    "    ds = ds.reset_index('time', drop=True).load()\n",
    "    sweep = slice(*find_sweep_limit(ds))\n",
    "    return ds.sel(sweep=sweep)\n",
    "\n",
    "def preprocess_average(ds):\n",
    "    ds = ds.reset_index('time', drop=True).load()\n",
    "    sweep_min, sweep_max = find_sweep_limit(ds)\n",
    "\n",
    "    ds_avg = ds.sel(sweep=slice(sweep_min, sweep_max)).mean('sweep')\n",
    "    ds_avg = ds_avg.assign({'d_current': ds.std('sweep')['current']})\n",
    "    return ds_avg\n",
    "\n",
    "def preprocess_average_downsample(ds, downsample_to=500):\n",
    "    ds = ds.reset_index('time', drop=True).load()\n",
    "    dsf = int(len(ds.time) / downsample_to)\n",
    "    ds = ds.sel(time=slice(0, len(ds.time), dsf))\n",
    "    ds_avg = ds.mean('sweep')\n",
    "    ds_avg = ds_avg.assign({'d_current': ds.std('sweep')['current']})\n",
    "    return ds_avg"
   ]
  },
  {
   "cell_type": "code",
   "execution_count": 7,
   "metadata": {},
   "outputs": [
    {
     "name": "stdout",
     "output_type": "stream",
     "text": [
      "998\n"
     ]
    }
   ],
   "source": [
    "analysed_metadata_oi = analysed_infos_df.loc[indices]\n",
    "\n",
    "files_oi = analysed_metadata_oi['filename'].values\n",
    "shot_numbers = analysed_metadata_oi['shot_number'].values\n",
    "shot_numbers_da = xr.DataArray(shot_numbers, dims=['shot_number'], name='shot_number')\n",
    "min_sweep_len = analysed_metadata_oi['sweep_len'].min()\n",
    "print(min_sweep_len)"
   ]
  },
  {
   "cell_type": "code",
   "execution_count": 8,
   "metadata": {},
   "outputs": [
    {
     "data": {
      "text/plain": [
       "<xarray.Dataset>\n",
       "Dimensions:                 (shot_number: 4)\n",
       "Coordinates:\n",
       "  * shot_number             (shot_number) int32 398 400 411 412\n",
       "    ts_number               (shot_number) float64 ...\n",
       "    ts_timestamp            (shot_number) float64 ...\n",
       "    ts_time                 (shot_number) datetime64[ns] ...\n",
       "    adc_index               (shot_number) float64 ...\n",
       "    adc_time                (shot_number) datetime64[ns] ...\n",
       "Data variables:\n",
       "    adc_filename            (shot_number) object '2019-06-06 13h 49m 00s TT_06699383298543284340.adc' ... '2019-06-06 15h 00m 48s TT_06699401822215929977.adc'\n",
       "    ts_density              (shot_number) float64 5.365e+19 ... 7.049e+20\n",
       "    ts_temperature          (shot_number) float64 4.369 2.538 1.761 1.772\n",
       "    ts_d_density            (shot_number) float64 0.0 0.0 0.0 0.0\n",
       "    ts_d_temperature        (shot_number) float64 0.0 0.0 0.0 0.0\n",
       "    adc_folder              (shot_number) object '2019-06-06_Leland/' ... '2019-06-06_Leland/'\n",
       "    adc_calibration_index   (shot_number) object '387' '387' '387' '387'\n",
       "    adc_4_probe             (shot_number) object 'S' 'S' 'S' 'S'\n",
       "    adc_5_probe             (shot_number) object 'L' 'L' 'L' 'L'\n",
       "    ts_temp_max             (shot_number) float64 4.369 2.538 1.761 1.772\n",
       "    ts_dens_max             (shot_number) float64 5.365e+19 ... 7.049e+20\n",
       "    shot_end_time           (shot_number) datetime64[ns] 2019-06-06T12:49:04 ... 2019-06-06T14:00:49\n",
       "    ts_fl                   (shot_number) bool True True True True\n",
       "    shot_time               (shot_number) datetime64[ns] 2019-06-06T12:48:41 ... 2019-06-06T14:00:33\n",
       "    shot_source_current     (shot_number) float64 126.0 140.3 190.7 180.5\n",
       "    shot_b_field            (shot_number) float64 1.5 1.5 1.5 1.5\n",
       "    shot_tilt               (shot_number) float64 7.977 7.977 5.025 5.025\n",
       "    shot_target_pos         (shot_number) float64 -0.2 -0.2 -0.2 -0.2\n",
       "    shot_target_rot         (shot_number) float64 -89.93 -89.93 -89.93 -89.93\n",
       "    shot_target_pumpspeed   (shot_number) int32 82 82 82 82\n",
       "    shot_source_pumpspeed   (shot_number) int32 82 82 82 82\n",
       "    shot_heating_pumpspeed  (shot_number) int32 82 82 82 82\n",
       "    shot_source_pos         (shot_number) float64 1.4 1.4 1.4 1.4\n",
       "    shot_deuterium_gf       (shot_number) float64 0.0002019 ... 0.01557\n",
       "    shot_hydrogen_gf        (shot_number) float64 9.283 9.291 9.31 9.3\n",
       "    shot_helium_gf          (shot_number) float64 0.0 0.0 0.0 0.0\n",
       "    shot_hydrogen_puffed    (shot_number) float64 -0.0198 -0.02178 ... -0.01022\n",
       "    shot_helium_puffed      (shot_number) float64 -0.05134 -0.05099 ... -0.05513\n",
       "    adc_timestamp           (shot_number) float64 6.699e+18 ... 6.699e+18\n",
       "    adc_4_coax              (shot_number) float64 3.0 3.0 3.0 3.0\n",
       "    adc_4_shunt_resistance  (shot_number) float64 1.0 1.0 1.0 1.0\n",
       "    adc_5_coax              (shot_number) float64 4.0 4.0 4.0 4.0\n",
       "    adc_5_shunt_resistance  (shot_number) float64 1.0 1.0 1.0 1.0\n",
       "    adc_calibration_fl      (shot_number) float64 0.0 0.0 0.0 0.0\n",
       "    shot_fl                 (shot_number) float64 1.0 1.0 1.0 1.0\n",
       "    acquisition_length      (shot_number) float64 15.0 15.0 10.0 10.0\n",
       "    adc_end_time            (shot_number) datetime64[ns] 2019-06-06T12:49:00 ... 2019-06-06T14:00:48\n",
       "    adc_end_timestamp       (shot_number) float64 6.699e+18 ... 6.699e+18\n",
       "    adc_freqs               (shot_number) float64 1e+06 1e+06 1e+06 1e+06"
      ]
     },
     "execution_count": 8,
     "metadata": {},
     "output_type": "execute_result"
    }
   ],
   "source": [
    "meta_data_oi_ds = meta_data_ds.sel(shot_number=shot_numbers)\n",
    "meta_data_oi_ds.max('ts_radial_pos')"
   ]
  },
  {
   "cell_type": "code",
   "execution_count": 9,
   "metadata": {},
   "outputs": [
    {
     "data": {
      "text/plain": [
       "<xarray.Dataset>\n",
       "Dimensions:       (shot_number: 4)\n",
       "Coordinates:\n",
       "    ts_timestamp  (shot_number) float64 ...\n",
       "  * shot_number   (shot_number) int32 398 400 411 412\n",
       "    adc_time      (shot_number) datetime64[ns] ...\n",
       "    ts_number     (shot_number) float64 ...\n",
       "    ts_time       (shot_number) datetime64[ns] ...\n",
       "    adc_index     (shot_number) float64 ...\n",
       "Data variables:\n",
       "    shot_tilt     (shot_number) float64 8.0 8.0 5.0 5.0\n",
       "    adc_4_probe   (shot_number) object 'S' 'S' 'S' 'S'\n",
       "    adc_5_probe   (shot_number) object 'L' 'L' 'L' 'L'"
      ]
     },
     "execution_count": 9,
     "metadata": {},
     "output_type": "execute_result"
    }
   ],
   "source": [
    "tilt_da = meta_data_oi_ds[['shot_tilt', 'adc_4_probe', 'adc_5_probe']]\n",
    "tilt_da['shot_tilt'] = tilt_da.shot_tilt.round()\n",
    "tilt_da\n"
   ]
  },
  {
   "cell_type": "code",
   "execution_count": 10,
   "metadata": {},
   "outputs": [
    {
     "data": {
      "text/plain": [
       "<xarray.Dataset>\n",
       "Dimensions:      (direction: 2, probe: 2, shot_number: 4, sweep: 693, time: 50)\n",
       "Coordinates:\n",
       "  * probe        (probe) object 'S' 'L'\n",
       "  * direction    (direction) object 'up' 'down'\n",
       "  * shot_number  (shot_number) int64 398 400 411 412\n",
       "Dimensions without coordinates: sweep, time\n",
       "Data variables:\n",
       "    voltage      (shot_number, probe, direction, sweep, time) float64 -90.49 ... -53.75\n",
       "    current      (shot_number, probe, direction, sweep, time) float64 -0.2395 ... -1.224\n",
       "    shot_time    (shot_number, probe, direction, sweep, time) float64 1.006 ... 7.939\n",
       "    start_time   (shot_number, probe, direction, sweep) float64 1.006 ... 7.939"
      ]
     },
     "execution_count": 10,
     "metadata": {},
     "output_type": "execute_result"
    }
   ],
   "source": [
    "# This can't work as the shots are different lengths, something weird going on...\n",
    "\n",
    "# combined_ds = xr.open_mfdataset(files_oi, concat_dim=shot_numbers_da, preprocess=preprocess_average, combine='nested', parallel=False)\n",
    "combined_ds = xr.open_mfdataset(files_oi, concat_dim=shot_numbers_da, preprocess=lambda x: preprocess_sel(x, slice(0,693)), combine='nested')\n",
    "# combined_ds = combined_ds.load()\n",
    "combined_ds"
   ]
  },
  {
   "cell_type": "code",
   "execution_count": 11,
   "metadata": {},
   "outputs": [
    {
     "data": {
      "text/plain": [
       "<xarray.Dataset>\n",
       "Dimensions:                 (direction: 2, probe: 2, shot_number: 4, sweep: 693, time: 50, ts_radial_pos: 46)\n",
       "Coordinates:\n",
       "  * probe                   (probe) object 'S' 'L'\n",
       "  * direction               (direction) object 'up' 'down'\n",
       "  * shot_number             (shot_number) int64 398 400 411 412\n",
       "    ts_number               (shot_number) float64 ...\n",
       "    ts_timestamp            (shot_number) float64 ...\n",
       "    ts_time                 (shot_number) datetime64[ns] ...\n",
       "    adc_index               (shot_number) float64 ...\n",
       "    adc_time                (shot_number) datetime64[ns] ...\n",
       "  * ts_radial_pos           (ts_radial_pos) float64 -36.47 -34.8 ... 37.14 38.82\n",
       "Dimensions without coordinates: sweep, time\n",
       "Data variables:\n",
       "    voltage                 (shot_number, probe, direction, sweep, time) float64 -90.49 ... -53.75\n",
       "    current                 (shot_number, probe, direction, sweep, time) float64 -0.2395 ... -1.224\n",
       "    shot_time               (shot_number, probe, direction, sweep, time) float64 1.006 ... 7.939\n",
       "    start_time              (shot_number, probe, direction, sweep) float64 1.006 ... 7.939\n",
       "    adc_filename            (shot_number) object '2019-06-06 13h 49m 00s TT_06699383298543284340.adc' ... '2019-06-06 15h 00m 48s TT_06699401822215929977.adc'\n",
       "    ts_density              (shot_number, ts_radial_pos) float64 nan nan ... nan\n",
       "    ts_temperature          (shot_number, ts_radial_pos) float64 nan nan ... nan\n",
       "    ts_d_density            (shot_number, ts_radial_pos) float64 nan nan ... nan\n",
       "    ts_d_temperature        (shot_number, ts_radial_pos) float64 nan nan ... nan\n",
       "    adc_folder              (shot_number) object '2019-06-06_Leland/' ... '2019-06-06_Leland/'\n",
       "    adc_calibration_index   (shot_number) object '387' '387' '387' '387'\n",
       "    adc_4_probe             (shot_number) object 'S' 'S' 'S' 'S'\n",
       "    adc_5_probe             (shot_number) object 'L' 'L' 'L' 'L'\n",
       "    ts_temp_max             (shot_number) float64 4.369 2.538 1.761 1.772\n",
       "    ts_dens_max             (shot_number) float64 5.365e+19 ... 7.049e+20\n",
       "    shot_end_time           (shot_number) datetime64[ns] 2019-06-06T12:49:04 ... 2019-06-06T14:00:49\n",
       "    ts_fl                   (shot_number) bool True True True True\n",
       "    sweep_time              (shot_number) datetime64[ns] 2019-06-06T12:48:41 ... 2019-06-06T14:00:33\n",
       "    shot_source_current     (shot_number) float64 126.0 140.3 190.7 180.5\n",
       "    shot_b_field            (shot_number) float64 1.5 1.5 1.5 1.5\n",
       "    shot_tilt               (shot_number) float64 7.977 7.977 5.025 5.025\n",
       "    shot_target_pos         (shot_number) float64 -0.2 -0.2 -0.2 -0.2\n",
       "    shot_target_rot         (shot_number) float64 -89.93 -89.93 -89.93 -89.93\n",
       "    shot_target_pumpspeed   (shot_number) int32 82 82 82 82\n",
       "    shot_source_pumpspeed   (shot_number) int32 82 82 82 82\n",
       "    shot_heating_pumpspeed  (shot_number) int32 82 82 82 82\n",
       "    shot_source_pos         (shot_number) float64 1.4 1.4 1.4 1.4\n",
       "    shot_deuterium_gf       (shot_number) float64 0.0002019 ... 0.01557\n",
       "    shot_hydrogen_gf        (shot_number) float64 9.283 9.291 9.31 9.3\n",
       "    shot_helium_gf          (shot_number) float64 0.0 0.0 0.0 0.0\n",
       "    shot_hydrogen_puffed    (shot_number) float64 -0.0198 -0.02178 ... -0.01022\n",
       "    shot_helium_puffed      (shot_number) float64 -0.05134 -0.05099 ... -0.05513\n",
       "    adc_timestamp           (shot_number) float64 6.699e+18 ... 6.699e+18\n",
       "    adc_4_coax              (shot_number) float64 3.0 3.0 3.0 3.0\n",
       "    adc_4_shunt_resistance  (shot_number) float64 1.0 1.0 1.0 1.0\n",
       "    adc_5_coax              (shot_number) float64 4.0 4.0 4.0 4.0\n",
       "    adc_5_shunt_resistance  (shot_number) float64 1.0 1.0 1.0 1.0\n",
       "    adc_calibration_fl      (shot_number) float64 0.0 0.0 0.0 0.0\n",
       "    shot_fl                 (shot_number) float64 1.0 1.0 1.0 1.0\n",
       "    acquisition_length      (shot_number) float64 15.0 15.0 10.0 10.0\n",
       "    adc_end_time            (shot_number) datetime64[ns] 2019-06-06T12:49:00 ... 2019-06-06T14:00:48\n",
       "    adc_end_timestamp       (shot_number) float64 6.699e+18 ... 6.699e+18\n",
       "    adc_freqs               (shot_number) float64 1e+06 1e+06 1e+06 1e+06"
      ]
     },
     "execution_count": 11,
     "metadata": {},
     "output_type": "execute_result"
    }
   ],
   "source": [
    "combined_all_ds = xr.merge([combined_ds, meta_data_oi_ds.rename({'shot_time':'sweep_time'})])\n",
    "combined_all_ds"
   ]
  },
  {
   "cell_type": "code",
   "execution_count": 12,
   "metadata": {},
   "outputs": [
    {
     "name": "stderr",
     "output_type": "stream",
     "text": [
      "/home/jleland/coding/environments/python3.6/lib/python3.6/site-packages/numpy/lib/nanfunctions.py:1666: RuntimeWarning: Degrees of freedom <= 0 for slice.\n",
      "  keepdims=keepdims)\n"
     ]
    }
   ],
   "source": [
    "averaged_ds = combined_all_ds.max('ts_radial_pos').mean(['direction', 'sweep']).set_coords('voltage')\n",
    "averaged_ds = averaged_ds.assign({'d_current': combined_all_ds.std('sweep', 'direction')['current']})\n",
    "averaged_ds = averaged_ds.where(averaged_ds.current < 0.16, drop=True)"
   ]
  },
  {
   "cell_type": "code",
   "execution_count": 13,
   "metadata": {},
   "outputs": [],
   "source": [
    "# Plot all averaged IV characteristics\n",
    "\n",
    "fig, ax = plt.subplots(2, sharex=True, sharey=True)\n",
    "averaged_ds.sel(probe='S')['current'].plot.line(x='voltage', hue='shot_number', ax=ax[0])\n",
    "averaged_ds.sel(probe='L')['current'].plot.line(x='voltage', hue='shot_number', ax=ax[1])\n",
    "ax[0].axhline(0, linestyle='--', color='grey', linewidth=1)\n",
    "ax[1].axhline(0, linestyle='--', color='grey', linewidth=1)\n",
    "plt.show()"
   ]
  },
  {
   "cell_type": "code",
   "execution_count": 14,
   "metadata": {},
   "outputs": [
    {
     "ename": "ValueError",
     "evalue": "Line plots are for 1- or 2-dimensional DataArrays. Passed DataArray has 3 dimensions",
     "output_type": "error",
     "traceback": [
      "\u001b[0;31m---------------------------------------------------------------------------\u001b[0m",
      "\u001b[0;31mValueError\u001b[0m                                Traceback (most recent call last)",
      "\u001b[0;32m<ipython-input-14-0893a0c69364>\u001b[0m in \u001b[0;36m<module>\u001b[0;34m\u001b[0m\n\u001b[1;32m      6\u001b[0m \u001b[0mlprobe_ds\u001b[0m \u001b[0;34m=\u001b[0m \u001b[0mcombined_all_ds\u001b[0m\u001b[0;34m.\u001b[0m\u001b[0mmax\u001b[0m\u001b[0;34m(\u001b[0m\u001b[0;34m'ts_radial_pos'\u001b[0m\u001b[0;34m)\u001b[0m\u001b[0;34m.\u001b[0m\u001b[0mmean\u001b[0m\u001b[0;34m(\u001b[0m\u001b[0;34m'direction'\u001b[0m\u001b[0;34m)\u001b[0m\u001b[0;34m.\u001b[0m\u001b[0msel\u001b[0m\u001b[0;34m(\u001b[0m\u001b[0mprobe\u001b[0m\u001b[0;34m=\u001b[0m\u001b[0;34m'L'\u001b[0m\u001b[0;34m)\u001b[0m\u001b[0;34m\u001b[0m\u001b[0;34m\u001b[0m\u001b[0m\n\u001b[1;32m      7\u001b[0m \u001b[0;34m\u001b[0m\u001b[0m\n\u001b[0;32m----> 8\u001b[0;31m \u001b[0msprobe_ds\u001b[0m\u001b[0;34m[\u001b[0m\u001b[0;34m'current'\u001b[0m\u001b[0;34m]\u001b[0m\u001b[0;34m.\u001b[0m\u001b[0mplot\u001b[0m\u001b[0;34m.\u001b[0m\u001b[0mline\u001b[0m\u001b[0;34m(\u001b[0m\u001b[0mhue\u001b[0m\u001b[0;34m=\u001b[0m\u001b[0;34m'shot_number'\u001b[0m\u001b[0;34m,\u001b[0m \u001b[0max\u001b[0m\u001b[0;34m=\u001b[0m\u001b[0max\u001b[0m\u001b[0;34m[\u001b[0m\u001b[0;36m0\u001b[0m\u001b[0;34m]\u001b[0m\u001b[0;34m[\u001b[0m\u001b[0;36m0\u001b[0m\u001b[0;34m]\u001b[0m\u001b[0;34m)\u001b[0m\u001b[0;34m\u001b[0m\u001b[0;34m\u001b[0m\u001b[0m\n\u001b[0m\u001b[1;32m      9\u001b[0m \u001b[0mlprobe_ds\u001b[0m\u001b[0;34m[\u001b[0m\u001b[0;34m'current'\u001b[0m\u001b[0;34m]\u001b[0m\u001b[0;34m.\u001b[0m\u001b[0mplot\u001b[0m\u001b[0;34m.\u001b[0m\u001b[0mline\u001b[0m\u001b[0;34m(\u001b[0m\u001b[0mhue\u001b[0m\u001b[0;34m=\u001b[0m\u001b[0;34m'shot_number'\u001b[0m\u001b[0;34m,\u001b[0m \u001b[0max\u001b[0m\u001b[0;34m=\u001b[0m\u001b[0max\u001b[0m\u001b[0;34m[\u001b[0m\u001b[0;36m0\u001b[0m\u001b[0;34m]\u001b[0m\u001b[0;34m[\u001b[0m\u001b[0;36m1\u001b[0m\u001b[0;34m]\u001b[0m\u001b[0;34m)\u001b[0m\u001b[0;34m\u001b[0m\u001b[0;34m\u001b[0m\u001b[0m\n\u001b[1;32m     10\u001b[0m \u001b[0msprobe_ds\u001b[0m\u001b[0;34m[\u001b[0m\u001b[0;34m'voltage'\u001b[0m\u001b[0;34m]\u001b[0m\u001b[0;34m.\u001b[0m\u001b[0mplot\u001b[0m\u001b[0;34m.\u001b[0m\u001b[0mline\u001b[0m\u001b[0;34m(\u001b[0m\u001b[0mhue\u001b[0m\u001b[0;34m=\u001b[0m\u001b[0;34m'shot_number'\u001b[0m\u001b[0;34m,\u001b[0m \u001b[0max\u001b[0m\u001b[0;34m=\u001b[0m\u001b[0max\u001b[0m\u001b[0;34m[\u001b[0m\u001b[0;36m1\u001b[0m\u001b[0;34m]\u001b[0m\u001b[0;34m[\u001b[0m\u001b[0;36m0\u001b[0m\u001b[0;34m]\u001b[0m\u001b[0;34m)\u001b[0m\u001b[0;34m\u001b[0m\u001b[0;34m\u001b[0m\u001b[0m\n",
      "\u001b[0;32m~/coding/environments/python3.6/lib/python3.6/site-packages/xarray/plot/plot.py\u001b[0m in \u001b[0;36mline\u001b[0;34m(self, *args, **kwargs)\u001b[0m\n\u001b[1;32m    467\u001b[0m     \u001b[0;34m@\u001b[0m\u001b[0mfunctools\u001b[0m\u001b[0;34m.\u001b[0m\u001b[0mwraps\u001b[0m\u001b[0;34m(\u001b[0m\u001b[0mline\u001b[0m\u001b[0;34m)\u001b[0m\u001b[0;34m\u001b[0m\u001b[0;34m\u001b[0m\u001b[0m\n\u001b[1;32m    468\u001b[0m     \u001b[0;32mdef\u001b[0m \u001b[0mline\u001b[0m\u001b[0;34m(\u001b[0m\u001b[0mself\u001b[0m\u001b[0;34m,\u001b[0m \u001b[0;34m*\u001b[0m\u001b[0margs\u001b[0m\u001b[0;34m,\u001b[0m \u001b[0;34m**\u001b[0m\u001b[0mkwargs\u001b[0m\u001b[0;34m)\u001b[0m\u001b[0;34m:\u001b[0m\u001b[0;34m\u001b[0m\u001b[0;34m\u001b[0m\u001b[0m\n\u001b[0;32m--> 469\u001b[0;31m         \u001b[0;32mreturn\u001b[0m \u001b[0mline\u001b[0m\u001b[0;34m(\u001b[0m\u001b[0mself\u001b[0m\u001b[0;34m.\u001b[0m\u001b[0m_da\u001b[0m\u001b[0;34m,\u001b[0m \u001b[0;34m*\u001b[0m\u001b[0margs\u001b[0m\u001b[0;34m,\u001b[0m \u001b[0;34m**\u001b[0m\u001b[0mkwargs\u001b[0m\u001b[0;34m)\u001b[0m\u001b[0;34m\u001b[0m\u001b[0;34m\u001b[0m\u001b[0m\n\u001b[0m\u001b[1;32m    470\u001b[0m \u001b[0;34m\u001b[0m\u001b[0m\n\u001b[1;32m    471\u001b[0m     \u001b[0;34m@\u001b[0m\u001b[0mfunctools\u001b[0m\u001b[0;34m.\u001b[0m\u001b[0mwraps\u001b[0m\u001b[0;34m(\u001b[0m\u001b[0mstep\u001b[0m\u001b[0;34m)\u001b[0m\u001b[0;34m\u001b[0m\u001b[0;34m\u001b[0m\u001b[0m\n",
      "\u001b[0;32m~/coding/environments/python3.6/lib/python3.6/site-packages/xarray/plot/plot.py\u001b[0m in \u001b[0;36mline\u001b[0;34m(darray, row, col, figsize, aspect, size, ax, hue, x, y, xincrease, yincrease, xscale, yscale, xticks, yticks, xlim, ylim, add_legend, _labels, *args, **kwargs)\u001b[0m\n\u001b[1;32m    281\u001b[0m             \u001b[0;34m\"Line plots are for 1- or 2-dimensional DataArrays. \"\u001b[0m\u001b[0;34m\u001b[0m\u001b[0;34m\u001b[0m\u001b[0m\n\u001b[1;32m    282\u001b[0m             \u001b[0;34m\"Passed DataArray has {ndims} \"\u001b[0m\u001b[0;34m\u001b[0m\u001b[0;34m\u001b[0m\u001b[0m\n\u001b[0;32m--> 283\u001b[0;31m             \u001b[0;34m\"dimensions\"\u001b[0m\u001b[0;34m.\u001b[0m\u001b[0mformat\u001b[0m\u001b[0;34m(\u001b[0m\u001b[0mndims\u001b[0m\u001b[0;34m=\u001b[0m\u001b[0mndims\u001b[0m\u001b[0;34m)\u001b[0m\u001b[0;34m\u001b[0m\u001b[0;34m\u001b[0m\u001b[0m\n\u001b[0m\u001b[1;32m    284\u001b[0m         )\n\u001b[1;32m    285\u001b[0m \u001b[0;34m\u001b[0m\u001b[0m\n",
      "\u001b[0;31mValueError\u001b[0m: Line plots are for 1- or 2-dimensional DataArrays. Passed DataArray has 3 dimensions"
     ]
    }
   ],
   "source": [
    "# Plot individual voltage and current traces for each probe/shot\n",
    "\n",
    "fig, ax = plt.subplots(2, 2, sharex=True, sharey='row')\n",
    "\n",
    "sprobe_ds = combined_all_ds.max('ts_radial_pos').mean('direction').sel(probe='S')\n",
    "lprobe_ds = combined_all_ds.max('ts_radial_pos').mean('direction').sel(probe='L')\n",
    "\n",
    "sprobe_ds['current'].plot.line(hue='shot_number', ax=ax[0][0])\n",
    "lprobe_ds['current'].plot.line(hue='shot_number', ax=ax[0][1])\n",
    "sprobe_ds['voltage'].plot.line(hue='shot_number', ax=ax[1][0])\n",
    "lprobe_ds['voltage'].plot.line(hue='shot_number', ax=ax[1][1])\n",
    "\n",
    "plt.show()"
   ]
  },
  {
   "cell_type": "code",
   "execution_count": 15,
   "metadata": {},
   "outputs": [],
   "source": [
    "# Plot individual current & voltage traces for a selection of individual, non-averaged sweeps\n",
    "\n",
    "for shot_number in combined_all_ds.shot_number.values:\n",
    "    fig, ax = plt.subplots(2, 2, sharex=True, sharey='row')\n",
    "    \n",
    "    sprobe_ds = combined_all_ds.sel(shot_number=shot_number, sweep=slice(None, None, 20)).max('ts_radial_pos').mean('direction').sel(probe='S')\n",
    "    lprobe_ds = combined_all_ds.sel(shot_number=shot_number, sweep=slice(None, None, 20)).max('ts_radial_pos').mean('direction').sel(probe='L')\n",
    "\n",
    "#     print(sprobe_ds)\n",
    "    sprobe_ds['current'].plot.line(hue='sweep', ax=ax[0][0])\n",
    "    lprobe_ds['current'].plot.line(hue='sweep', ax=ax[0][1])\n",
    "    sprobe_ds['voltage'].plot.line(hue='sweep', ax=ax[1][0])\n",
    "    lprobe_ds['voltage'].plot.line(hue='sweep', ax=ax[1][1])\n",
    "\n",
    "plt.show()"
   ]
  },
  {
   "cell_type": "code",
   "execution_count": 23,
   "metadata": {},
   "outputs": [],
   "source": [
    "# copied from concatted_ds_analysis_0.ipynb\n",
    "mandatory_labels = [\n",
    "    'shot',\n",
    "    'probe', \n",
    "    'B',\n",
    "    'ts_temp',\n",
    "    'ts_dens',\n",
    "    'shot_time',\n",
    "    'fit_success_fl',\n",
    "]\n",
    "fit_param_labels = [\n",
    "    'temp',\n",
    "    'd_temp',\n",
    "    'isat', \n",
    "    'd_isat',\n",
    "    'a',\n",
    "    'd_a',\n",
    "    'v_f',\n",
    "    'd_v_f', \n",
    "    'dens', \n",
    "    'd_dens'\n",
    "]\n",
    "all_labels = mandatory_labels + fit_param_labels\n",
    "fit_df = pd.DataFrame(columns=all_labels)\n",
    "\n",
    "probes = ['S', 'L']\n",
    "\n",
    "for shot in averaged_ds.shot_number.values:\n",
    "    shot_ds = averaged_ds.sel(shot_number=shot)\n",
    "    for probe in probes:\n",
    "        probe_shot_ds = shot_ds.sel(probe=probe)\n",
    "        probe_shot_ds = probe_shot_ds.where(np.isfinite(probe_shot_ds['voltage']), drop=True).where(np.isfinite(probe_shot_ds['current']), drop=True)\n",
    "        \n",
    "        alpha = np.radians(probe_shot_ds['shot_tilt'].values[0])\n",
    "        \n",
    "        if len(probe_shot_ds.time) == 0:\n",
    "            print('Time has no length, continuing...')\n",
    "            continue\n",
    "#         probe_shot_ds = probe_shot_ds\n",
    "        \n",
    "#         print(probe_shot_ds)\n",
    "        shot_iv = iv.IVData(probe_shot_ds['voltage'].values,\n",
    "                            -probe_shot_ds['current'].values,\n",
    "                            probe_shot_ds['shot_time'].values,\n",
    "                            sigma=probe_shot_ds['d_current'])\n",
    "        \n",
    "        fig, ax = plt.subplots()\n",
    "        ax.errorbar(shot_iv['V'], shot_iv['I'], yerr=shot_iv['sigma'], ecolor='silver', color='silver', marker='+')\n",
    "        \n",
    "        fit_params = {}\n",
    "        fitter = fts.FullIVFitter()\n",
    "        try:\n",
    "#             shot_fit = shot_iv.multi_fit(sat_region=-40)\n",
    "            shot_fit = fitter.fit_iv_data(shot_iv, sigma=shot_iv['sigma'])\n",
    "            fit_params = {\n",
    "                'fit_success_fl': True,\n",
    "                'temp': shot_fit.get_temp(),\n",
    "                'd_temp': shot_fit.get_temp_err(),\n",
    "                'isat': shot_fit.get_isat(), \n",
    "                'd_isat': shot_fit.get_isat_err(),\n",
    "                'a': shot_fit.get_sheath_exp(), \n",
    "                'd_a': shot_fit.get_sheath_exp_err(),\n",
    "                'v_f': shot_fit.get_floating_pot(),\n",
    "                'd_v_f': shot_fit.get_floating_pot_err(),\n",
    "                'dens': magnum_probes[probe].get_density(shot_fit.get_isat(), shot_fit.get_temp(), alpha=alpha)[0],\n",
    "                'd_dens': magnum_probes[probe].get_d_density(\n",
    "                    shot_fit.get_isat(), \n",
    "                    shot_fit.get_isat_err(), \n",
    "                    shot_fit.get_temp(), \n",
    "                    shot_fit.get_temp_err(),\n",
    "                    alpha=alpha\n",
    "                )[0]\n",
    "            \n",
    "            }\n",
    "            ax.plot(*shot_fit.get_fit_plottables())\n",
    "        except RuntimeError as e:\n",
    "            print(f'WARNING: Failed on shot {shot} with probe {probe}')\n",
    "            fit_params = {label: np.NaN for label in fit_param_labels}\n",
    "            fit_params['fit_success_fl'] = False\n",
    "            \n",
    "        \n",
    "        fit_df = fit_df.append({\n",
    "            'shot': shot,\n",
    "            'probe': probe, \n",
    "            'B': np.around(probe_shot_ds['shot_b_field'].mean().values, decimals=1),\n",
    "            'ts_temp': probe_shot_ds['ts_temperature'].mean().values,\n",
    "            'ts_dens': probe_shot_ds['ts_density'].mean().values,\n",
    "            'shot_time': probe_shot_ds['ts_time'].values,\n",
    "            **fit_params\n",
    "        }, ignore_index=True)\n",
    "        "
   ]
  },
  {
   "cell_type": "code",
   "execution_count": 24,
   "metadata": {},
   "outputs": [
    {
     "data": {
      "text/html": [
       "<div>\n",
       "<style scoped>\n",
       "    .dataframe tbody tr th:only-of-type {\n",
       "        vertical-align: middle;\n",
       "    }\n",
       "\n",
       "    .dataframe tbody tr th {\n",
       "        vertical-align: top;\n",
       "    }\n",
       "\n",
       "    .dataframe thead th {\n",
       "        text-align: right;\n",
       "    }\n",
       "</style>\n",
       "<table border=\"1\" class=\"dataframe\">\n",
       "  <thead>\n",
       "    <tr style=\"text-align: right;\">\n",
       "      <th></th>\n",
       "      <th>shot</th>\n",
       "      <th>probe</th>\n",
       "      <th>B</th>\n",
       "      <th>ts_temp</th>\n",
       "      <th>ts_dens</th>\n",
       "      <th>shot_time</th>\n",
       "      <th>fit_success_fl</th>\n",
       "      <th>temp</th>\n",
       "      <th>d_temp</th>\n",
       "      <th>isat</th>\n",
       "      <th>d_isat</th>\n",
       "      <th>a</th>\n",
       "      <th>d_a</th>\n",
       "      <th>v_f</th>\n",
       "      <th>d_v_f</th>\n",
       "      <th>dens</th>\n",
       "      <th>d_dens</th>\n",
       "    </tr>\n",
       "  </thead>\n",
       "  <tbody>\n",
       "    <tr>\n",
       "      <td>0</td>\n",
       "      <td>398</td>\n",
       "      <td>S</td>\n",
       "      <td>1.5</td>\n",
       "      <td>4.369459447424046</td>\n",
       "      <td>5.364572207500493e+19</td>\n",
       "      <td>2019-06-06 12:48:45.483818</td>\n",
       "      <td>True</td>\n",
       "      <td>3.225564</td>\n",
       "      <td>0.083649</td>\n",
       "      <td>0.181375</td>\n",
       "      <td>0.002203</td>\n",
       "      <td>0.046504</td>\n",
       "      <td>0.001885</td>\n",
       "      <td>-22.403745</td>\n",
       "      <td>0.034886</td>\n",
       "      <td>1.986804e+19</td>\n",
       "      <td>1.644698e+18</td>\n",
       "    </tr>\n",
       "    <tr>\n",
       "      <td>1</td>\n",
       "      <td>398</td>\n",
       "      <td>L</td>\n",
       "      <td>1.5</td>\n",
       "      <td>4.369459447424046</td>\n",
       "      <td>5.364572207500493e+19</td>\n",
       "      <td>2019-06-06 12:48:45.483818</td>\n",
       "      <td>True</td>\n",
       "      <td>2.961695</td>\n",
       "      <td>0.085059</td>\n",
       "      <td>0.081597</td>\n",
       "      <td>0.001433</td>\n",
       "      <td>0.010025</td>\n",
       "      <td>0.002377</td>\n",
       "      <td>-18.290009</td>\n",
       "      <td>0.057125</td>\n",
       "      <td>5.834852e+18</td>\n",
       "      <td>3.829714e+17</td>\n",
       "    </tr>\n",
       "    <tr>\n",
       "      <td>2</td>\n",
       "      <td>400</td>\n",
       "      <td>S</td>\n",
       "      <td>1.5</td>\n",
       "      <td>2.5384518638027314</td>\n",
       "      <td>2.6261608290229787e+20</td>\n",
       "      <td>2019-06-06 12:52:23.415253</td>\n",
       "      <td>True</td>\n",
       "      <td>2.007685</td>\n",
       "      <td>0.013321</td>\n",
       "      <td>0.564493</td>\n",
       "      <td>0.001026</td>\n",
       "      <td>0.015133</td>\n",
       "      <td>0.000185</td>\n",
       "      <td>-14.817831</td>\n",
       "      <td>0.004674</td>\n",
       "      <td>7.837754e+19</td>\n",
       "      <td>6.343928e+18</td>\n",
       "    </tr>\n",
       "    <tr>\n",
       "      <td>3</td>\n",
       "      <td>400</td>\n",
       "      <td>L</td>\n",
       "      <td>1.5</td>\n",
       "      <td>2.5384518638027314</td>\n",
       "      <td>2.6261608290229787e+20</td>\n",
       "      <td>2019-06-06 12:52:23.415253</td>\n",
       "      <td>True</td>\n",
       "      <td>3.600643</td>\n",
       "      <td>0.157970</td>\n",
       "      <td>0.509277</td>\n",
       "      <td>0.007825</td>\n",
       "      <td>0.006132</td>\n",
       "      <td>0.002246</td>\n",
       "      <td>-13.443836</td>\n",
       "      <td>0.055867</td>\n",
       "      <td>3.302874e+19</td>\n",
       "      <td>2.218236e+18</td>\n",
       "    </tr>\n",
       "    <tr>\n",
       "      <td>4</td>\n",
       "      <td>411</td>\n",
       "      <td>S</td>\n",
       "      <td>1.5</td>\n",
       "      <td>1.7605041688918084</td>\n",
       "      <td>8.437227204338191e+20</td>\n",
       "      <td>2019-06-06 13:58:59.951787</td>\n",
       "      <td>True</td>\n",
       "      <td>0.421113</td>\n",
       "      <td>0.109696</td>\n",
       "      <td>1.267321</td>\n",
       "      <td>0.037512</td>\n",
       "      <td>0.001552</td>\n",
       "      <td>0.000953</td>\n",
       "      <td>-7.618189</td>\n",
       "      <td>0.050570</td>\n",
       "      <td>5.457774e+20</td>\n",
       "      <td>9.558652e+19</td>\n",
       "    </tr>\n",
       "    <tr>\n",
       "      <td>5</td>\n",
       "      <td>411</td>\n",
       "      <td>L</td>\n",
       "      <td>1.5</td>\n",
       "      <td>1.7605041688918084</td>\n",
       "      <td>8.437227204338191e+20</td>\n",
       "      <td>2019-06-06 13:58:59.951787</td>\n",
       "      <td>True</td>\n",
       "      <td>0.707659</td>\n",
       "      <td>0.056167</td>\n",
       "      <td>2.135215</td>\n",
       "      <td>0.045434</td>\n",
       "      <td>0.002096</td>\n",
       "      <td>0.001054</td>\n",
       "      <td>-7.350518</td>\n",
       "      <td>0.021763</td>\n",
       "      <td>4.044982e+20</td>\n",
       "      <td>3.713076e+19</td>\n",
       "    </tr>\n",
       "    <tr>\n",
       "      <td>6</td>\n",
       "      <td>412</td>\n",
       "      <td>S</td>\n",
       "      <td>1.5</td>\n",
       "      <td>1.7720984299581886</td>\n",
       "      <td>7.049155171000286e+20</td>\n",
       "      <td>2019-06-06 14:00:38.362442</td>\n",
       "      <td>True</td>\n",
       "      <td>0.799687</td>\n",
       "      <td>0.060525</td>\n",
       "      <td>1.020039</td>\n",
       "      <td>0.013958</td>\n",
       "      <td>0.004243</td>\n",
       "      <td>0.000708</td>\n",
       "      <td>-9.035841</td>\n",
       "      <td>0.018241</td>\n",
       "      <td>3.187757e+20</td>\n",
       "      <td>3.832328e+19</td>\n",
       "    </tr>\n",
       "    <tr>\n",
       "      <td>7</td>\n",
       "      <td>412</td>\n",
       "      <td>L</td>\n",
       "      <td>1.5</td>\n",
       "      <td>1.7720984299581886</td>\n",
       "      <td>7.049155171000286e+20</td>\n",
       "      <td>2019-06-06 14:00:38.362442</td>\n",
       "      <td>True</td>\n",
       "      <td>1.423982</td>\n",
       "      <td>0.059813</td>\n",
       "      <td>1.720236</td>\n",
       "      <td>0.019305</td>\n",
       "      <td>0.002938</td>\n",
       "      <td>0.000894</td>\n",
       "      <td>-8.567936</td>\n",
       "      <td>0.023394</td>\n",
       "      <td>2.297327e+20</td>\n",
       "      <td>1.917355e+19</td>\n",
       "    </tr>\n",
       "  </tbody>\n",
       "</table>\n",
       "</div>"
      ],
      "text/plain": [
       "  shot probe    B             ts_temp                 ts_dens  \\\n",
       "0  398     S  1.5   4.369459447424046   5.364572207500493e+19   \n",
       "1  398     L  1.5   4.369459447424046   5.364572207500493e+19   \n",
       "2  400     S  1.5  2.5384518638027314  2.6261608290229787e+20   \n",
       "3  400     L  1.5  2.5384518638027314  2.6261608290229787e+20   \n",
       "4  411     S  1.5  1.7605041688918084   8.437227204338191e+20   \n",
       "5  411     L  1.5  1.7605041688918084   8.437227204338191e+20   \n",
       "6  412     S  1.5  1.7720984299581886   7.049155171000286e+20   \n",
       "7  412     L  1.5  1.7720984299581886   7.049155171000286e+20   \n",
       "\n",
       "                   shot_time fit_success_fl      temp    d_temp      isat  \\\n",
       "0 2019-06-06 12:48:45.483818           True  3.225564  0.083649  0.181375   \n",
       "1 2019-06-06 12:48:45.483818           True  2.961695  0.085059  0.081597   \n",
       "2 2019-06-06 12:52:23.415253           True  2.007685  0.013321  0.564493   \n",
       "3 2019-06-06 12:52:23.415253           True  3.600643  0.157970  0.509277   \n",
       "4 2019-06-06 13:58:59.951787           True  0.421113  0.109696  1.267321   \n",
       "5 2019-06-06 13:58:59.951787           True  0.707659  0.056167  2.135215   \n",
       "6 2019-06-06 14:00:38.362442           True  0.799687  0.060525  1.020039   \n",
       "7 2019-06-06 14:00:38.362442           True  1.423982  0.059813  1.720236   \n",
       "\n",
       "     d_isat         a       d_a        v_f     d_v_f          dens  \\\n",
       "0  0.002203  0.046504  0.001885 -22.403745  0.034886  1.986804e+19   \n",
       "1  0.001433  0.010025  0.002377 -18.290009  0.057125  5.834852e+18   \n",
       "2  0.001026  0.015133  0.000185 -14.817831  0.004674  7.837754e+19   \n",
       "3  0.007825  0.006132  0.002246 -13.443836  0.055867  3.302874e+19   \n",
       "4  0.037512  0.001552  0.000953  -7.618189  0.050570  5.457774e+20   \n",
       "5  0.045434  0.002096  0.001054  -7.350518  0.021763  4.044982e+20   \n",
       "6  0.013958  0.004243  0.000708  -9.035841  0.018241  3.187757e+20   \n",
       "7  0.019305  0.002938  0.000894  -8.567936  0.023394  2.297327e+20   \n",
       "\n",
       "         d_dens  \n",
       "0  1.644698e+18  \n",
       "1  3.829714e+17  \n",
       "2  6.343928e+18  \n",
       "3  2.218236e+18  \n",
       "4  9.558652e+19  \n",
       "5  3.713076e+19  \n",
       "6  3.832328e+19  \n",
       "7  1.917355e+19  "
      ]
     },
     "execution_count": 24,
     "metadata": {},
     "output_type": "execute_result"
    }
   ],
   "source": [
    "fit_df.to_csv('joe_fit_data.csv')\n",
    "fit_df"
   ]
  },
  {
   "cell_type": "code",
   "execution_count": 19,
   "metadata": {},
   "outputs": [
    {
     "data": {
      "text/plain": [
       "<ErrorbarContainer object of 3 artists>"
      ]
     },
     "execution_count": 19,
     "metadata": {},
     "output_type": "execute_result"
    }
   ],
   "source": [
    "fig, ax = plt.subplots()\n",
    "ax.plot('ts_temp', 'ts_dens', data=fit_df)\n",
    "ax.errorbar('temp', 'dens', xerr='d_temp', yerr='d_dens', data=fit_df)"
   ]
  },
  {
   "cell_type": "code",
   "execution_count": 126,
   "metadata": {},
   "outputs": [],
   "source": [
    "probe_s = fit_df.loc[fit_df['probe'] == 'S'].drop(columns='probe').set_index('shot')\n",
    "probe_l = fit_df.loc[fit_df['probe'] == 'L'].drop(columns='probe').set_index('shot')"
   ]
  },
  {
   "cell_type": "code",
   "execution_count": 127,
   "metadata": {},
   "outputs": [
    {
     "data": {
      "text/plain": [
       "<xarray.Dataset>\n",
       "Dimensions:         (probe: 2, shot_number: 3)\n",
       "Coordinates:\n",
       "  * shot_number     (shot_number) int64 398 400 411\n",
       "  * probe           (probe) <U1 'S' 'L'\n",
       "Data variables:\n",
       "    B               (probe, shot_number) float64 1.5 1.5 1.5 1.5 1.5 1.5\n",
       "    ts_temp         (probe, shot_number) object 4.369459447424046 ... 1.7605041688918084\n",
       "    ts_dens         (probe, shot_number) object 5.364572207500493e+19 ... 8.437227204338191e+20\n",
       "    fit_success_fl  (probe, shot_number) object True True True True True True\n",
       "    temp            (probe, shot_number) float64 3.226 2.008 ... 3.601 0.7077\n",
       "    d_temp          (probe, shot_number) float64 0.08365 0.01332 ... 0.05617\n",
       "    isat            (probe, shot_number) float64 0.1814 0.5645 ... 0.5093 2.135\n",
       "    d_isat          (probe, shot_number) float64 0.002203 0.001026 ... 0.04543\n",
       "    a               (probe, shot_number) float64 0.0465 0.01513 ... 0.002096\n",
       "    d_a             (probe, shot_number) float64 0.001885 0.0001848 ... 0.001054\n",
       "    v_f             (probe, shot_number) float64 -22.4 -14.82 ... -13.44 -7.351\n",
       "    d_v_f           (probe, shot_number) float64 0.03489 0.004674 ... 0.02176\n",
       "    dens            (probe, shot_number) float64 1.987e+19 ... 4.045e+20\n",
       "    d_dens          (probe, shot_number) float64 1.645e+18 ... 3.713e+19"
      ]
     },
     "execution_count": 127,
     "metadata": {},
     "output_type": "execute_result"
    }
   ],
   "source": [
    "probe_da = xr.DataArray(['S', 'L'], dims=['probe'], name='probe')\n",
    "fit_ds = xr.concat([probe_s.to_xarray(), probe_l.to_xarray()], probe_da).rename(shot='shot_number')\n",
    "fit_ds"
   ]
  },
  {
   "cell_type": "code",
   "execution_count": 147,
   "metadata": {},
   "outputs": [],
   "source": [
    "fig, ax = plt.subplots()\n",
    "\n",
    "colours = ['red', 'blue', 'orange']\n",
    "\n",
    "for i, shot in enumerate(fit_ds.shot_number.values):\n",
    "    ax.plot('ts_temp', 'ts_dens', '*', data=fit_df.loc[fit_df['shot'] == shot], label=f'{shot} - TS', color=colours[i])\n",
    "    \n",
    "    ds = fit_ds.sel(probe='S', shot_number=shot)\n",
    "    ax.errorbar(ds['temp'].values, ds['dens'].values, xerr=ds['d_temp'].values, yerr=ds['d_dens'].values, label=f'{shot} - S', fmt='o', color=colours[i])\n",
    "    \n",
    "    ds = fit_ds.sel(probe='L', shot_number=shot)\n",
    "    ax.errorbar(ds['temp'].values, ds['dens'].values, xerr=ds['d_temp'].values, yerr=ds['d_dens'].values, label=f'{shot} - L', fmt='s', color=colours[i])\n",
    "    ax.legend()"
   ]
  },
  {
   "cell_type": "markdown",
   "metadata": {},
   "source": [
    "# Analysis of individual shots first"
   ]
  },
  {
   "cell_type": "code",
   "execution_count": 21,
   "metadata": {},
   "outputs": [],
   "source": [
    "ds_list = {shot_numbers[i]: xr.open_dataset(fn) for i, fn in enumerate(files_oi)}"
   ]
  },
  {
   "cell_type": "code",
   "execution_count": 23,
   "metadata": {},
   "outputs": [
    {
     "data": {
      "text/plain": [
       "{398: <xarray.Dataset>\n",
       " Dimensions:     (direction: 2, probe: 2, sweep: 1499, time: 5000)\n",
       " Coordinates:\n",
       "   * time        (time) float64 0.0 1e-06 2e-06 ... 0.004997 0.004998 0.004999\n",
       "   * direction   (direction) object 'up' 'down'\n",
       "   * probe       (probe) object 'S' 'L'\n",
       " Dimensions without coordinates: sweep\n",
       " Data variables:\n",
       "     voltage     (probe, direction, sweep, time) float64 ...\n",
       "     current     (probe, direction, sweep, time) float64 ...\n",
       "     shot_time   (probe, direction, sweep, time) float64 ...\n",
       "     start_time  (probe, direction, sweep) float64 ..., 400: <xarray.Dataset>\n",
       " Dimensions:     (direction: 2, probe: 2, sweep: 509, time: 5000)\n",
       " Coordinates:\n",
       "   * time        (time) float64 0.0 1e-06 2e-06 ... 0.004997 0.004998 0.004999\n",
       "   * direction   (direction) object 'up' 'down'\n",
       "   * probe       (probe) object 'S' 'L'\n",
       " Dimensions without coordinates: sweep\n",
       " Data variables:\n",
       "     voltage     (probe, direction, sweep, time) float64 ...\n",
       "     current     (probe, direction, sweep, time) float64 ...\n",
       "     shot_time   (probe, direction, sweep, time) float64 ...\n",
       "     start_time  (probe, direction, sweep) float64 ..., 411: <xarray.Dataset>\n",
       " Dimensions:     (direction: 2, probe: 2, sweep: 309, time: 5000)\n",
       " Coordinates:\n",
       "   * time        (time) float64 0.0 1e-06 2e-06 ... 0.004997 0.004998 0.004999\n",
       "   * direction   (direction) object 'up' 'down'\n",
       "   * probe       (probe) object 'S' 'L'\n",
       " Dimensions without coordinates: sweep\n",
       " Data variables:\n",
       "     voltage     (probe, direction, sweep, time) float64 ...\n",
       "     current     (probe, direction, sweep, time) float64 ...\n",
       "     shot_time   (probe, direction, sweep, time) float64 ...\n",
       "     start_time  (probe, direction, sweep) float64 ...}"
      ]
     },
     "execution_count": 23,
     "metadata": {},
     "output_type": "execute_result"
    }
   ],
   "source": [
    "ds_list"
   ]
  },
  {
   "cell_type": "code",
   "execution_count": 18,
   "metadata": {},
   "outputs": [],
   "source": [
    "for ds in ds_list:\n",
    "    fig, ax = plt.subplots()\n",
    "    ds.mean('direction').max('time')['current'].plot.line(hue='probe', x='sweep', ax=ax)"
   ]
  },
  {
   "cell_type": "markdown",
   "metadata": {},
   "source": [
    "## Raw Data Time!\n",
    "\n",
    "Shots 400 and 411 seem to be only looking at the end after the beam dump has gone down. Time to look at the raw data!"
   ]
  },
  {
   "cell_type": "code",
   "execution_count": 21,
   "metadata": {},
   "outputs": [
    {
     "data": {
      "text/html": [
       "<div>\n",
       "<style scoped>\n",
       "    .dataframe tbody tr th:only-of-type {\n",
       "        vertical-align: middle;\n",
       "    }\n",
       "\n",
       "    .dataframe tbody tr th {\n",
       "        vertical-align: top;\n",
       "    }\n",
       "\n",
       "    .dataframe thead th {\n",
       "        text-align: right;\n",
       "    }\n",
       "</style>\n",
       "<table border=\"1\" class=\"dataframe\">\n",
       "  <thead>\n",
       "    <tr style=\"text-align: right;\">\n",
       "      <th></th>\n",
       "      <th>filename</th>\n",
       "      <th>shot_number</th>\n",
       "      <th>shot_time</th>\n",
       "      <th>shot_timestamp</th>\n",
       "      <th>sweep_len</th>\n",
       "      <th>time_len</th>\n",
       "    </tr>\n",
       "    <tr>\n",
       "      <th>adc_index</th>\n",
       "      <th></th>\n",
       "      <th></th>\n",
       "      <th></th>\n",
       "      <th></th>\n",
       "      <th></th>\n",
       "      <th></th>\n",
       "    </tr>\n",
       "  </thead>\n",
       "  <tbody>\n",
       "    <tr>\n",
       "      <td>396</td>\n",
       "      <td>analysed_3_downsampled/a398_396_66993832985432...</td>\n",
       "      <td>398</td>\n",
       "      <td>2019-06-06 12:48:45</td>\n",
       "      <td>6699383298543284224</td>\n",
       "      <td>1498</td>\n",
       "      <td>50</td>\n",
       "    </tr>\n",
       "    <tr>\n",
       "      <td>398</td>\n",
       "      <td>analysed_3_downsampled/a400_398_66993842345516...</td>\n",
       "      <td>400</td>\n",
       "      <td>2019-06-06 12:52:23</td>\n",
       "      <td>6699384234551673856</td>\n",
       "      <td>1497</td>\n",
       "      <td>50</td>\n",
       "    </tr>\n",
       "    <tr>\n",
       "      <td>409</td>\n",
       "      <td>analysed_3_downsampled/a411_409_66994013995453...</td>\n",
       "      <td>411</td>\n",
       "      <td>2019-06-06 13:58:59</td>\n",
       "      <td>6699401399545384960</td>\n",
       "      <td>998</td>\n",
       "      <td>50</td>\n",
       "    </tr>\n",
       "  </tbody>\n",
       "</table>\n",
       "</div>"
      ],
      "text/plain": [
       "                                                    filename  shot_number  \\\n",
       "adc_index                                                                   \n",
       "396        analysed_3_downsampled/a398_396_66993832985432...          398   \n",
       "398        analysed_3_downsampled/a400_398_66993842345516...          400   \n",
       "409        analysed_3_downsampled/a411_409_66994013995453...          411   \n",
       "\n",
       "                     shot_time       shot_timestamp  sweep_len  time_len  \n",
       "adc_index                                                                 \n",
       "396        2019-06-06 12:48:45  6699383298543284224       1498        50  \n",
       "398        2019-06-06 12:52:23  6699384234551673856       1497        50  \n",
       "409        2019-06-06 13:58:59  6699401399545384960        998        50  "
      ]
     },
     "execution_count": 21,
     "metadata": {},
     "output_type": "execute_result"
    }
   ],
   "source": [
    "select_file_info = analysed_infos_df.loc[indices]\n",
    "select_file_info"
   ]
  },
  {
   "cell_type": "code",
   "execution_count": 11,
   "metadata": {},
   "outputs": [
    {
     "name": "stdout",
     "output_type": "stream",
     "text": [
      "/home/jleland/data/external/magnum/\n"
     ]
    }
   ],
   "source": [
    "print(path_to_datasets)"
   ]
  },
  {
   "cell_type": "code",
   "execution_count": 12,
   "metadata": {},
   "outputs": [
    {
     "name": "stdout",
     "output_type": "stream",
     "text": [
      "396\n",
      "2019-06-06 669938329854328\n",
      "2019-06-06_Leland/*669938329854328*.adc\n",
      "['2019-06-06_Leland/2019-06-06 13h 49m 00s TT_06699383298543284340.adc']\n",
      "398\n",
      "2019-06-06 669938423455167\n",
      "2019-06-06_Leland/*669938423455167*.adc\n",
      "['2019-06-06_Leland/2019-06-06 13h 52m 38s TT_06699384234551673455.adc']\n",
      "409\n",
      "2019-06-06 669940139954538\n",
      "2019-06-06_Leland/*669940139954538*.adc\n",
      "['2019-06-06_Leland/2019-06-06 14h 59m 10s TT_06699401399545384568.adc']\n"
     ]
    }
   ],
   "source": [
    "for i, row in select_file_info.iterrows():\n",
    "    print(i, )\n",
    "    shot_date = row['shot_time'].split()[0]\n",
    "    shot_timestamp = str(row['shot_timestamp'])[:-4]\n",
    "    print(shot_date, shot_timestamp)\n",
    "    glob_str = f'{shot_date}_Leland/*{shot_timestamp}*.adc'\n",
    "    print(glob_str)\n",
    "    print(glob.glob(glob_str))"
   ]
  },
  {
   "cell_type": "code",
   "execution_count": 1,
   "metadata": {},
   "outputs": [
    {
     "name": "stderr",
     "output_type": "stream",
     "text": [
      "/home/jleland/coding/environments/python3.6/lib/python3.6/site-packages/xarray/core/nputils.py:223: RuntimeWarning: All-NaN slice encountered\n",
      "  result = getattr(npmodule, name)(values, axis=axis, **kwargs)\n",
      "/home/jleland/coding/environments/python3.6/lib/python3.6/site-packages/xarray/core/nputils.py:223: RuntimeWarning: All-NaN slice encountered\n",
      "  result = getattr(npmodule, name)(values, axis=axis, **kwargs)\n",
      "/home/jleland/coding/environments/python3.6/lib/python3.6/site-packages/xarray/core/nputils.py:223: RuntimeWarning: All-NaN slice encountered\n",
      "  result = getattr(npmodule, name)(values, axis=axis, **kwargs)\n"
     ]
    }
   ],
   "source": [
    "import analysis.scripts.magnum.magnum_postrun_initial_analysis as mpia"
   ]
  },
  {
   "cell_type": "code",
   "execution_count": 2,
   "metadata": {
    "collapsed": true,
    "jupyter": {
     "outputs_hidden": true
    }
   },
   "outputs": [
    {
     "name": "stdout",
     "output_type": "stream",
     "text": [
      "\n",
      " Analysing shot 398...\n",
      "Attempting analysis on shot 398\n",
      "\"2019-06-06_Leland/\" \t\t \"2019-06-06 13h 49m 00s TT_06699383298543284340.adc\"\n",
      "Creating magopter object\n",
      "Running an offline magopter object, operating in offline mode.\n",
      "\n",
      " ...Finished shot 398\n"
     ]
    },
    {
     "name": "stderr",
     "output_type": "stream",
     "text": [
      "Traceback (most recent call last):\n",
      "  File \"/home/jleland/coding/projects/flopter/analysis/scripts/magnum/magnum_postrun_initial_analysis.py\", line 186, in aia_mapping_wrapper\n",
      "    downsampling_factor=downsampling_factor)\n",
      "  File \"/home/jleland/coding/projects/flopter/analysis/scripts/magnum/magnum_postrun_initial_analysis.py\", line 44, in averaged_iv_analysis\n",
      "    magopter.prepare(down_sampling_rate=dsr, roi_b_plasma=True, filter_arcs_fl=False, crit_freq=None, crit_ampl=None)\n",
      "  File \"/home/jleland/coding/projects/flopter/flopter/magnum/magoptoffline.py\", line 151, in prepare\n",
      "    top = sig.argrelmax(smoothed_voltage, order=100)[0]\n",
      "  File \"/home/jleland/coding/environments/python3.6/lib/python3.6/site-packages/scipy/signal/_peak_finding.py\", line 194, in argrelmax\n",
      "    return argrelextrema(data, np.greater, axis, order, mode)\n",
      "  File \"/home/jleland/coding/environments/python3.6/lib/python3.6/site-packages/scipy/signal/_peak_finding.py\", line 249, in argrelextrema\n",
      "    axis, order, mode)\n",
      "  File \"/home/jleland/coding/environments/python3.6/lib/python3.6/site-packages/scipy/signal/_peak_finding.py\", line 76, in _boolrelextrema\n",
      "    minus = data.take(locs - shift, axis=axis, mode=mode)\n",
      "KeyboardInterrupt\n"
     ]
    }
   ],
   "source": [
    "mpia.aia_mapping_wrapper(398)"
   ]
  },
  {
   "cell_type": "code",
   "execution_count": 3,
   "metadata": {},
   "outputs": [
    {
     "name": "stdout",
     "output_type": "stream",
     "text": [
      "\"2019-06-06_Leland/\" \t\t \"2019-06-06 13h 49m 00s TT_06699383298543284340.adc\"\n",
      "Creating magopter object\n",
      "Running an offline magopter object, operating in offline mode.\n",
      "0: 2997, 1: 2997\n",
      "\"2019-06-06_Leland/\" \t\t \"2019-06-06 13h 52m 38s TT_06699384234551673455.adc\"\n",
      "Creating magopter object\n",
      "Running an offline magopter object, operating in offline mode.\n",
      "0: 2995, 1: 2995\n",
      "\"2019-06-06_Leland/\" \t\t \"2019-06-06 14h 59m 10s TT_06699401399545384568.adc\"\n",
      "Creating magopter object\n",
      "Running an offline magopter object, operating in offline mode.\n",
      "0: 1996, 1: 1996\n"
     ]
    }
   ],
   "source": [
    "shot_numbers = [398, 400, 411]\n",
    "magopters = []\n",
    "dses = []\n",
    "for shot_number in shot_numbers:\n",
    "    folder, adc_file, output_tag, ts_temp, ts_dens, probe_designations, shunt_resistance, downsampling_factor, \\\n",
    "    cabling_resistance, sweep_range = mpia.get_shot_info_for_analysis(shot_number)\n",
    "\n",
    "    magopter, ds_full = mpia.averaged_iv_analysis(folder, adc_file, output_tag, probe_designations=probe_designations,\n",
    "                                                  shunt_resistance=shunt_resistance, cabling_resistance=cabling_resistance,\n",
    "                                                  downsampling_factor=100, dealloc=False)\n",
    "    magopters.append(magopter)\n",
    "    dses.append(ds_full)"
   ]
  },
  {
   "cell_type": "code",
   "execution_count": 21,
   "metadata": {},
   "outputs": [
    {
     "data": {
      "text/plain": [
       "[<matplotlib.lines.Line2D at 0x7fb63b549c18>,\n",
       " <matplotlib.lines.Line2D at 0x7fb63ef37518>]"
      ]
     },
     "execution_count": 21,
     "metadata": {},
     "output_type": "execute_result"
    }
   ],
   "source": [
    "max_current = ds_full['current'].mean('direction').max('time')\n",
    "\n",
    "plt.figure()\n",
    "max_current.plot.line(x='sweep', hue='probe')\n",
    "np.abs(max_current - max_current.median('sweep')).plot.line(x='sweep', hue='probe')"
   ]
  },
  {
   "cell_type": "code",
   "execution_count": 20,
   "metadata": {},
   "outputs": [],
   "source": [
    "fig, ax = plt.subplots(3)\n",
    "for i, ds in enumerate(dses):\n",
    "    max_current = ds['current'].mean('direction').max('time')\n",
    "    max_current_trim = max_current.where(np.abs(max_current - max_current.median('sweep')) < 2.5 * max_current.std('sweep'))\n",
    "    max_current.plot.line(x='sweep', hue='probe', ax=ax[i])\n",
    "    max_current_trim.plot.line(x='sweep', hue='probe', ax=ax[i])\n",
    "    for j in range(2):\n",
    "        median = max_current.isel(probe=j).median('sweep')\n",
    "        ax[i].axhline(y=max_current.median('sweep'), **c.AX_LINE_DEFAULTS, label='j')"
   ]
  },
  {
   "cell_type": "markdown",
   "metadata": {},
   "source": [
    "Discovery: the correct sweep range is selected when downsampling, but not when looking at the whole file, might be some bug with arrays being too large?"
   ]
  },
  {
   "cell_type": "code",
   "execution_count": 38,
   "metadata": {},
   "outputs": [
    {
     "name": "stdout",
     "output_type": "stream",
     "text": [
      "1498\n",
      "1388\n",
      "1353\n",
      "sweep_limits found: (0 , 1352)\n",
      "1497\n",
      "1000\n",
      "986\n",
      "sweep_limits found: (0 , 985)\n",
      "998\n",
      "701\n",
      "694\n",
      "sweep_limits found: (0 , 693)\n"
     ]
    }
   ],
   "source": [
    "fig, ax = plt.subplots(3)\n",
    "for i, ds in enumerate(dses):\n",
    "    max_current = ds['current'].mean('direction').max('time').isel(probe=1)\n",
    "    print(len(max_current))\n",
    "    \n",
    "    median = max_current.median('sweep')\n",
    "    std = max_current.std('sweep')\n",
    "    ax[i].axhline(y=median, color='grey', linewidth=.9, linestyle='--', label='median')\n",
    "    ax[i].axhline(y=median + 1.5 * std, color='gray', linewidth=.9, linestyle=':', label='std')\n",
    "    ax[i].axhline(y=median - 1.5 * std, color='gray', linewidth=.9, linestyle=':',)\n",
    "    \n",
    "    max_current_trim = max_current.where(np.abs(max_current - max_current.median()) < 1.5 * max_current.std(), drop=True)\n",
    "    print(len(max_current_trim))\n",
    "    \n",
    "    median = max_current_trim.median('sweep')\n",
    "    std = max_current_trim.std('sweep')\n",
    "    ax[i].axhline(y=median, color='red', linewidth=.9, linestyle='--', label='median_trim')\n",
    "    ax[i].axhline(y=median + std, color='red', linewidth=.9, linestyle=':', label='std_trim')\n",
    "    ax[i].axhline(y=median - std, color='red', linewidth=.9, linestyle=':',)\n",
    "\n",
    "    max_current_trim_2 = max_current_trim.where(np.abs(max_current_trim - max_current_trim.median('sweep')) < 2.5 * max_current_trim.std('sweep'), drop=True)\n",
    "    print(len(max_current_trim_2))\n",
    "    \n",
    "    max_current.plot.line(x='sweep', ax=ax[i])\n",
    "    max_current_trim.plot.line(x='sweep', ax=ax[i])\n",
    "    max_current_trim_2.plot.line(x='sweep', ax=ax[i])\n",
    "    \n",
    "    print(f'sweep_limits found: ({max_current_trim_2[\"sweep\"].min().values} , {max_current_trim_2[\"sweep\"].max().values})')\n",
    "    \n",
    "    ax[i].legend()"
   ]
  },
  {
   "cell_type": "code",
   "execution_count": 59,
   "metadata": {},
   "outputs": [],
   "source": [
    "def find_sweep_limit(ds, probe=0):\n",
    "    max_current = ds['current'].mean('direction').max('time').isel(probe=1)\n",
    "    \n",
    "    max_current_trim = max_current.where(exclude_outliers_cond(max_current, 1.5), drop=True)\n",
    "    max_current_trim_2 = max_current_trim.where(exclude_outliers_cond(max_current_trim, 2.5), drop=True)\n",
    "    \n",
    "    return max_current_trim_2[\"sweep\"].min().values, max_current_trim_2[\"sweep\"].max().values\n",
    "\n",
    "def exclude_outliers_cond(da, n=2):\n",
    "    return np.abs(da - da.median()) < n * da.std()"
   ]
  },
  {
   "cell_type": "code",
   "execution_count": null,
   "metadata": {},
   "outputs": [],
   "source": []
  }
 ],
 "metadata": {
  "kernelspec": {
   "display_name": "python3.6-codac",
   "language": "python",
   "name": "python3.6-codac"
  },
  "language_info": {
   "codemirror_mode": {
    "name": "ipython",
    "version": 3
   },
   "file_extension": ".py",
   "mimetype": "text/x-python",
   "name": "python",
   "nbconvert_exporter": "python",
   "pygments_lexer": "ipython3",
   "version": "3.6.9"
  }
 },
 "nbformat": 4,
 "nbformat_minor": 4
}
