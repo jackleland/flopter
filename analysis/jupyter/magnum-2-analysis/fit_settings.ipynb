{
 "cells": [
  {
   "cell_type": "markdown",
   "metadata": {},
   "source": [
    "# Settings for Anglescan Multi-fits\n",
    "The settings found to be useful for getting the best out of multifit for each parameter scan. "
   ]
  },
  {
   "cell_type": "code",
   "execution_count": 1,
   "metadata": {},
   "outputs": [],
   "source": [
    "# indices_12T_He\n",
    "# (2020-06-29) Still working on this as the L probe seems to overestimate a\n",
    "# (2020-06-30) Comparing to a 4-param fit, the overesitmation of a seems to have little overall effect on the density measurement\n",
    "# No knee, no phi-temp\n",
    "\n",
    "fit_3P_df = mgut.fit_magnum_ds(angle_scan_ds, probes=('L'), threshold=None, plot_fl=False, trimming_vals=(0.3, 0.0, 0.02), mode=3, sat_region=-75, fitter=fts.SimpleIVFitter())\n",
    "\n",
    "ps = {\n",
    "    ('S', 'L'): {'mode': 0, 'trimming_vals': (0.16, 0.0, 0.02), 'sat_region': -75},\n",
    "    ('B'): {'mode': 2, 'sat_region': -65, 'minimise_temp_fl':False}   \n",
    "}\n",
    "fit_df = fit_multi_magnum_ds(angle_scan_ds, probes_settings=ps, threshold=None, plot_fl=False, mass=2)"
   ]
  },
  {
   "cell_type": "code",
   "execution_count": null,
   "metadata": {},
   "outputs": [],
   "source": [
    "# indices_08T_H\n",
    "\n",
    "ps = {\n",
    "    ('S', 'L', 'B', 'R'): {'mode': 3, 'trimming_vals': (0.16, 0.16, 0.02), 'sat_region': -25},\n",
    "}\n",
    "\n",
    "fit_df = mgut.fit_multi_magnum_ds(angle_scan_ds, probes_settings=ps, threshold=None, plot_fl=False)"
   ]
  },
  {
   "cell_type": "code",
   "execution_count": null,
   "metadata": {},
   "outputs": [],
   "source": [
    "# indices_12T_H\n",
    "\n",
    "ps = {\n",
    "    ('S', 'L'): {'mode': 3, 'trimming_vals': (0.2, 0.0, 0.02), 'sat_region': -50},\n",
    "    ('B'): {'mode': 3, 'trimming_vals': (0.2, 0.1, 0.02), 'sat_region': -50},\n",
    "    ('R'): {'mode': 3, 'trimming_vals': (0.2, 0.3, 0.02), 'sat_region': -50},\n",
    "}\n",
    "\n",
    "fit_df = mgut.fit_multi_magnum_ds(angle_scan_ds, probes_settings=ps, threshold=None, plot_fl=False)"
   ]
  },
  {
   "cell_type": "code",
   "execution_count": null,
   "metadata": {},
   "outputs": [],
   "source": [
    "# indices_15T_H\n",
    "\n",
    "ps = {\n",
    "    ('S', 'L', 'B'): {'mode': 0, 'trimming_vals': (0.3, 0.0, 0.02), 'sat_region': -50},\n",
    "    ('R'): {'mode': 3, 'trimming_vals': (0.3, 0.2, 0.02), 'sat_region': -50},\n",
    "}"
   ]
  },
  {
   "cell_type": "code",
   "execution_count": null,
   "metadata": {},
   "outputs": [],
   "source": [
    "# indices_08T_He\n",
    "# (2020-07-01) The L probe shots are non-sensical so I've omitted them for this shot. \n",
    "# To be honest the only shot that was vaguely passable was the 'S' probe. \n",
    "\n",
    "ps = {\n",
    "    ('S'): {'mode': 0, 'trimming_vals': (0.3, 0.0, 0.02), 'sat_region': -60},\n",
    "    ('B'): {'mode': 0, 'trimming_vals': (0.3, 0.3, 0.02), 'sat_region': -60},\n",
    "    ('R'): {'mode': 3, 'trimming_vals': (0.3, 0.15, 0.02), 'sat_region': -60},\n",
    "}"
   ]
  },
  {
   "cell_type": "code",
   "execution_count": null,
   "metadata": {},
   "outputs": [],
   "source": [
    "# indices_08T_D\n",
    "# IV characteristics not properly set up to measure transition region, Voltage didn't \n",
    "# sweep positively enough so only saturation current can be fitted. Fits terrible, not \n",
    "# worth looking at really.\n",
    "ps = {\n",
    "    ('S', 'L'): {'sat_region': -65, 'minimise_temp_fl':False, 'temp_from_phi_fl': False}, \n",
    "    ('B'): {'mode': 0, 'trimming_vals': (0.1, 0.1, 0.02), 'sat_region': -30}\n",
    "}"
   ]
  }
 ],
 "metadata": {
  "kernelspec": {
   "display_name": "python3.6-codac",
   "language": "python",
   "name": "python3.6-codac"
  },
  "language_info": {
   "codemirror_mode": {
    "name": "ipython",
    "version": 3
   },
   "file_extension": ".py",
   "mimetype": "text/x-python",
   "name": "python",
   "nbconvert_exporter": "python",
   "pygments_lexer": "ipython3",
   "version": "3.6.9"
  }
 },
 "nbformat": 4,
 "nbformat_minor": 4
}
