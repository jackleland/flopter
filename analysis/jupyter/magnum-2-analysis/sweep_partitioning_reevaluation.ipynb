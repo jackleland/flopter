{
 "cells": [
  {
   "cell_type": "markdown",
   "metadata": {},
   "source": [
    "# Re-evaluation of magopter's sweep partitioning\n",
    "\n",
    "Having another look at the sweep partitioning section of homogenise() to see if it can be sped up. "
   ]
  },
  {
   "cell_type": "code",
   "execution_count": 1,
   "metadata": {},
   "outputs": [
    {
     "name": "stderr",
     "output_type": "stream",
     "text": [
      "/home/jleland/coding/environments/python3.6/lib/python3.6/site-packages/xarray/core/nputils.py:215: RuntimeWarning: All-NaN slice encountered\n",
      "  result = getattr(npmodule, name)(values, axis=axis, **kwargs)\n",
      "/home/jleland/coding/environments/python3.6/lib/python3.6/site-packages/xarray/core/nputils.py:215: RuntimeWarning: All-NaN slice encountered\n",
      "  result = getattr(npmodule, name)(values, axis=axis, **kwargs)\n",
      "/home/jleland/coding/environments/python3.6/lib/python3.6/site-packages/xarray/core/nputils.py:215: RuntimeWarning: All-NaN slice encountered\n",
      "  result = getattr(npmodule, name)(values, axis=axis, **kwargs)\n"
     ]
    }
   ],
   "source": [
    "%matplotlib tk\n",
    "import scipy.signal as sig\n",
    "import numpy as np\n",
    "import pandas as pd\n",
    "import xarray as xr\n",
    "import matplotlib.pyplot as plt\n",
    "import sys \n",
    "sys.path.append('/home/jleland/Coding/Projects/flopter')\n",
    "import flopter.magnum.magoptoffline as mg\n",
    "import analysis.scripts.magnum.magnum_advanced_analysis as maa\n",
    "import flopter.core.fitters as fts\n",
    "import flopter.core.constants as c\n",
    "import flopter.core.ivdata as iv"
   ]
  },
  {
   "cell_type": "code",
   "execution_count": 7,
   "metadata": {},
   "outputs": [
    {
     "data": {
      "text/plain": [
       "('2019-06-05_Leland/',\n",
       " '2019-06-05 11h 17m 10s TT_06698973108763191132.adc',\n",
       " 'a283_276_6698973108763191296',\n",
       " array(2.36582169),\n",
       " array(1.19102882e+19),\n",
       " ('S', 'L'),\n",
       " array(1.),\n",
       " 100,\n",
       " (10.04, 10.04),\n",
       " (1, 1000))"
      ]
     },
     "execution_count": 7,
     "metadata": {},
     "output_type": "execute_result"
    }
   ],
   "source": [
    "# shot_info = maa.get_shot_info_for_analysis(157)\n",
    "shot_info = maa.get_shot_info_for_analysis(283)\n",
    "shot_info"
   ]
  },
  {
   "cell_type": "code",
   "execution_count": 4,
   "metadata": {},
   "outputs": [],
   "source": [
    "# maa.shot_dataset.sel(shot_number=157)"
   ]
  },
  {
   "cell_type": "code",
   "execution_count": 8,
   "metadata": {},
   "outputs": [],
   "source": [
    "folder, adc_file, output_tag, ts_temp, ts_dens, probe_designations, shunt_resistance, downsampling_factor, cabling_resistance, sweep_range = shot_info"
   ]
  },
  {
   "cell_type": "code",
   "execution_count": 24,
   "metadata": {
    "collapsed": true,
    "jupyter": {
     "outputs_hidden": true
    }
   },
   "outputs": [
    {
     "data": {
      "text/plain": [
       "<xarray.Dataset>\n",
       "Dimensions:                 ()\n",
       "Coordinates:\n",
       "    shot_number             int32 157\n",
       "    ts_number               float64 ...\n",
       "    ts_timestamp            float64 ...\n",
       "    ts_time                 datetime64[ns] ...\n",
       "    adc_index               float64 162.0\n",
       "    adc_time                datetime64[ns] ...\n",
       "Data variables:\n",
       "    adc_filename            object '2019-06-03 16h 02m 56s TT_06698304580043636299.adc'\n",
       "    ts_density              float64 nan\n",
       "    ts_temperature          float64 nan\n",
       "    ts_d_density            float64 nan\n",
       "    ts_d_temperature        float64 nan\n",
       "    adc_folder              object '2019-06-03_Leland/'\n",
       "    adc_calibration_index   object '120'\n",
       "    adc_4_probe             object 'S'\n",
       "    adc_5_probe             object 'L'\n",
       "    ts_temp_max             float64 nan\n",
       "    ts_dens_max             float64 nan\n",
       "    shot_end_time           datetime64[ns] 2019-06-03T15:02:57\n",
       "    ts_fl                   bool False\n",
       "    shot_time               datetime64[ns] 2019-06-03T15:02:42\n",
       "    shot_source_current     float64 100.5\n",
       "    shot_b_field            float64 0.8003\n",
       "    shot_tilt               float64 9.987\n",
       "    shot_target_pos         float64 -0.1299\n",
       "    shot_target_rot         float64 -89.94\n",
       "    shot_target_pumpspeed   int32 82\n",
       "    shot_source_pumpspeed   int32 82\n",
       "    shot_heating_pumpspeed  int32 82\n",
       "    shot_source_pos         float64 1.35\n",
       "    shot_deuterium_gf       float64 0.001435\n",
       "    shot_hydrogen_gf        float64 8.449\n",
       "    shot_helium_gf          float64 0.0\n",
       "    shot_hydrogen_puffed    float64 -0.02336\n",
       "    shot_helium_puffed      float64 -0.04962\n",
       "    adc_timestamp           float64 6.698e+18\n",
       "    adc_4_coax              float64 1.0\n",
       "    adc_4_shunt_resistance  float64 10.0\n",
       "    adc_5_coax              float64 2.0\n",
       "    adc_5_shunt_resistance  float64 10.0\n",
       "    adc_calibration_fl      float64 0.0\n",
       "    shot_fl                 float64 1.0\n",
       "    acquisition_length      float64 10.0\n",
       "    adc_end_time            datetime64[ns] 2019-06-03T15:02:56\n",
       "    adc_end_timestamp       float64 6.698e+18\n",
       "    adc_freqs               float64 1e+06"
      ]
     },
     "execution_count": 24,
     "metadata": {},
     "output_type": "execute_result"
    }
   ],
   "source": [
    "# adc_freqs is not actually the sweep frequency, just the sampling rate\n",
    "\n",
    "# frequency = maa.shot_dataset.sel(shot_number=157)#['adc_freqs'].values\n",
    "# frequency"
   ]
  },
  {
   "cell_type": "code",
   "execution_count": 10,
   "metadata": {},
   "outputs": [
    {
     "name": "stdout",
     "output_type": "stream",
     "text": [
      "\"2019-06-05_Leland/\" \t\t \"2019-06-05 11h 17m 10s TT_06698973108763191132.adc\"\n",
      "Creating magopter object\n",
      "Running an offline magopter object, operating in offline mode.\n"
     ]
    }
   ],
   "source": [
    "mg.Magoptoffline._FOLDER_STRUCTURE = 'data/external/magnum/'\n",
    "print('\"{}\" \\t\\t \"{}\"'.format(folder, adc_file))\n",
    "\n",
    "# Create magopter object\n",
    "print('Creating magopter object')\n",
    "magopter = mg.Magoptoffline(folder, adc_file, shunt_resistor=shunt_resistance, cabling_resistance=cabling_resistance)\n",
    "magopter._VOLTAGE_CHANNEL = 3\n",
    "magopter._PROBE_CHANNEL_3 = 4\n",
    "magopter._PROBE_CHANNEL_4 = 5\n",
    "# magopter.prepare(down_sampling_rate=downsampling_factor, roi_b_plasma=True, filter_arcs_fl=False, crit_freq=45000, crit_ampl=None, homogenise_fl=False)\n",
    "magopter.prepare(down_sampling_rate=downsampling_factor, roi_b_plasma=True, filter_arcs_fl=False, crit_freq=None, crit_ampl=None, homogenise_fl=False)"
   ]
  },
  {
   "cell_type": "code",
   "execution_count": 11,
   "metadata": {},
   "outputs": [
    {
     "name": "stdout",
     "output_type": "stream",
     "text": [
      "raw_time: 100000, raw_voltage: 100000\n"
     ]
    },
    {
     "data": {
      "text/plain": [
       "[<matplotlib.lines.Line2D at 0x7fedd2dfae48>]"
      ]
     },
     "execution_count": 11,
     "metadata": {},
     "output_type": "execute_result"
    }
   ],
   "source": [
    "fig, ax = plt.subplots()\n",
    "\n",
    "print(f'raw_time: {len(magopter.raw_time)}, raw_voltage: {len(magopter.raw_voltage)}')\n",
    "\n",
    "# make a slice of interest\n",
    "slc_oi = slice(0, int(0.05 * len(magopter.raw_time)))\n",
    "ax.plot(magopter.raw_time[slc_oi], magopter.raw_voltage[slc_oi])\n",
    "ax.plot(magopter.raw_time[slc_oi], magopter.voltage[0][slc_oi])\n",
    "ax.plot(magopter.raw_time[slc_oi], magopter.voltage[1][slc_oi])"
   ]
  },
  {
   "cell_type": "code",
   "execution_count": 14,
   "metadata": {},
   "outputs": [
    {
     "data": {
      "text/plain": [
       "[<matplotlib.lines.Line2D at 0x7fedd2d02550>]"
      ]
     },
     "execution_count": 14,
     "metadata": {},
     "output_type": "execute_result"
    }
   ],
   "source": [
    "fig, ax = plt.subplots()\n",
    "\n",
    "ax.plot(magopter.raw_voltage[slc_oi], magopter.raw_current[0][slc_oi])\n",
    "ax.plot(magopter.voltage[0][slc_oi], magopter.current[0][slc_oi])\n",
    "ax.plot(magopter.voltage[0][slc_oi], magopter.current[1][slc_oi])"
   ]
  },
  {
   "cell_type": "code",
   "execution_count": 13,
   "metadata": {},
   "outputs": [
    {
     "name": "stdout",
     "output_type": "stream",
     "text": [
      "0.06\n"
     ]
    }
   ],
   "source": [
    "print(600000 / 10000000)"
   ]
  },
  {
   "cell_type": "code",
   "execution_count": 8,
   "metadata": {},
   "outputs": [
    {
     "name": "stdout",
     "output_type": "stream",
     "text": [
      "to freq: 1.531310796737671\n",
      "to smooth: 0.2207503318786621\n",
      "to a-r-max: 21.501292943954468\n",
      "to a-r-min: 16.88404130935669\n",
      "to sort: 0.0032448768615722656\n",
      "to where: 0.0006380081176757812\n",
      "to arange: 0.00017142295837402344\n",
      "\n"
     ]
    }
   ],
   "source": [
    "# baseline case, as it is in magoptoffline\n",
    "\n",
    "import time\n",
    "\n",
    "triangle = fts.TriangleWaveFitter()\n",
    "frequency = None\n",
    "\n",
    "start = time.time()\n",
    "if frequency is None:\n",
    "    # Use fourier decomposition from get_frequency method in triangle fitter to get frequency if none given\n",
    "    frequency = triangle.get_frequency(magopter.raw_time, magopter.raw_voltage, accepted_freqs=magopter._ACCEPTED_FREQS)\n",
    "end_freq = time.time()\n",
    "\n",
    "# Smooth the voltage to get a first read of the peaks on the triangle wave\n",
    "smoothed_voltage = sig.savgol_filter(magopter.raw_voltage, 21, 2)\n",
    "end_smooth = time.time()\n",
    "\n",
    "top = sig.argrelmax(smoothed_voltage, order=100)[0]\n",
    "end_argrelmax = time.time()\n",
    "\n",
    "bottom = sig.argrelmin(smoothed_voltage, order=100)[0]\n",
    "end_argrelmin = time.time()\n",
    "\n",
    "_peaks = magopter.raw_time[np.concatenate([top, bottom])]\n",
    "_peaks.sort()\n",
    "\n",
    "end_sort = time.time()\n",
    "\n",
    "# Get distances between the peaks and filter based on the found frequency\n",
    "_peak_distances = np.diff(_peaks)\n",
    "threshold = (1 / (2 * frequency)) - 0.001\n",
    "_peaks_ind = np.where(_peak_distances > threshold)[0]\n",
    "end_where = time.time()\n",
    "\n",
    "# Starting from the first filtered peak, arrange a period-spaced array\n",
    "peaks_refined = np.arange(_peaks[_peaks_ind[0]], magopter.raw_time[-1], 1 / (2 * frequency))\n",
    "magopter.peaks = peaks_refined\n",
    "end_arange = time.time()\n",
    "\n",
    "print(\n",
    "    f'to freq: {end_freq - start}\\n'\n",
    "    f'to smooth: {end_smooth - end_freq}\\n'\n",
    "    f'to a-r-max: {end_argrelmax - end_smooth}\\n'\n",
    "    f'to a-r-min: {end_argrelmin - end_argrelmax}\\n'\n",
    "    f'to sort: {end_sort - end_argrelmin}\\n'\n",
    "    f'to where: {end_where - end_sort}\\n'\n",
    "    f'to arange: {end_arange - end_where}\\n'\n",
    ")"
   ]
  },
  {
   "cell_type": "code",
   "execution_count": 11,
   "metadata": {},
   "outputs": [
    {
     "name": "stdout",
     "output_type": "stream",
     "text": [
      "to freq: 1.7650878429412842\n",
      "to smooth: 0.22937417030334473\n",
      "to a-r-max: 1.1273033618927002\n",
      "to a-r-min: 1.0344195365905762\n",
      "to sort: 0.000156402587890625\n",
      "to where: 0.00018358230590820312\n",
      "to arange: 0.00012540817260742188\n",
      "\n"
     ]
    }
   ],
   "source": [
    "# Sped up case by taking a slice \n",
    "\n",
    "import time\n",
    "\n",
    "triangle = fts.TriangleWaveFitter()\n",
    "frequency = None\n",
    "\n",
    "start = time.time()\n",
    "if frequency is None:\n",
    "    # Use fourier decomposition from get_frequency method in triangle fitter to get frequency if none given\n",
    "    frequency = triangle.get_frequency(magopter.raw_time, magopter.raw_voltage, accepted_freqs=magopter._ACCEPTED_FREQS)\n",
    "end_freq = time.time()\n",
    "\n",
    "# Smooth the voltage to get a first read of the peaks on the triangle wave\n",
    "smoothed_voltage = sig.savgol_filter(magopter.raw_voltage, 21, 2)\n",
    "end_smooth = time.time()\n",
    "\n",
    "top = sig.argrelmax(smoothed_voltage[slc_oi], order=100)[0]\n",
    "end_argrelmax = time.time()\n",
    "\n",
    "bottom = sig.argrelmin(smoothed_voltage[slc_oi], order=100)[0]\n",
    "end_argrelmin = time.time()\n",
    "\n",
    "_peaks = magopter.raw_time[np.concatenate([top, bottom])]\n",
    "_peaks.sort()\n",
    "end_sort = time.time()\n",
    "\n",
    "# Get distances between the peaks and filter based on the found frequency\n",
    "_peak_distances = np.diff(_peaks)\n",
    "threshold = (1 / (2 * frequency)) - 0.001\n",
    "_peaks_ind = np.where(_peak_distances > threshold)[0]\n",
    "end_where = time.time()\n",
    "\n",
    "# Starting from the first filtered peak, arrange a period-spaced array\n",
    "peaks_refined = np.arange(_peaks[_peaks_ind[0]], magopter.raw_time[-1], 1 / (2 * frequency))\n",
    "magopter.peaks = peaks_refined\n",
    "end_arange = time.time()\n",
    "\n",
    "print(\n",
    "    f'to freq: {end_freq - start}\\n'\n",
    "    f'to smooth: {end_smooth - end_freq}\\n'\n",
    "    f'to a-r-max: {end_argrelmax - end_smooth}\\n'\n",
    "    f'to a-r-min: {end_argrelmin - end_argrelmax}\\n'\n",
    "    f'to sort: {end_sort - end_argrelmin}\\n'\n",
    "    f'to where: {end_where - end_sort}\\n'\n",
    "    f'to arange: {end_arange - end_where}\\n'\n",
    ")"
   ]
  },
  {
   "cell_type": "code",
   "execution_count": 12,
   "metadata": {},
   "outputs": [
    {
     "name": "stdout",
     "output_type": "stream",
     "text": [
      "100.0\n"
     ]
    }
   ],
   "source": [
    "print(frequency)\n",
    "\n",
    "plt.figure()\n",
    "plt.plot(magopter.raw_time, magopter.raw_voltage)\n",
    "# plt.plot(magopter.raw_time[slc_oi], triangle.fit(magopter.raw_time[slc_oi], magopter.raw_voltage[slc_oi]).fit_y)\n",
    "for peak in magopter.peaks[-60:]:\n",
    "    plt.axvline(x=peak, linestyle='dashed', linewidth=0.5, color='r')"
   ]
  },
  {
   "cell_type": "markdown",
   "metadata": {},
   "source": [
    "## Comparison of different filter frequencies\n",
    "Need to choose between cutting off the peaks in teh fourier decomposition (at 51kHz) or going for a harder blanket suppression of noise at 15kHz which would remove the noise (which may be present in the fourier decomposition) from the power supplies at ~20kHz. My thinking is that the signal at 51kHz is a harmonic of the power supply noise - but the filter at 15 looks like it's having a sizable effect and I'm not entirely sure it's justified. "
   ]
  },
  {
   "cell_type": "code",
   "execution_count": 6,
   "metadata": {},
   "outputs": [
    {
     "name": "stdout",
     "output_type": "stream",
     "text": [
      "\"2019-06-03_Leland/\" \t\t \"2019-06-03 16h 02m 56s TT_06698304580043636299.adc\"\n",
      "Creating magopter object\n",
      "Running an offline magopter object, operating in offline mode.\n"
     ]
    }
   ],
   "source": [
    "mg.Magoptoffline._FOLDER_STRUCTURE = '/data/external/magnum/'\n",
    "print('\"{}\" \\t\\t \"{}\"'.format(folder, adc_file))\n",
    "\n",
    "# Create magopter object\n",
    "print('Creating magopter object')\n",
    "magopter_15 = mg.Magoptoffline(folder, adc_file, shunt_resistor=shunt_resistance, cabling_resistance=cabling_resistance)\n",
    "magopter_15._VOLTAGE_CHANNEL = 3\n",
    "magopter_15._PROBE_CHANNEL_3 = 4\n",
    "magopter_15._PROBE_CHANNEL_4 = 5\n",
    "magopter_15.prepare(down_sampling_rate=downsampling_factor, roi_b_plasma=True, filter_arcs_fl=False, crit_freq=15000, crit_ampl=None, homogenise_fl=False)"
   ]
  },
  {
   "cell_type": "code",
   "execution_count": 7,
   "metadata": {},
   "outputs": [
    {
     "name": "stdout",
     "output_type": "stream",
     "text": [
      "\"2019-06-03_Leland/\" \t\t \"2019-06-03 16h 02m 56s TT_06698304580043636299.adc\"\n",
      "Creating magopter object\n",
      "Running an offline magopter object, operating in offline mode.\n"
     ]
    }
   ],
   "source": [
    "mg.Magoptoffline._FOLDER_STRUCTURE = '/data/external/magnum/'\n",
    "print('\"{}\" \\t\\t \"{}\"'.format(folder, adc_file))\n",
    "\n",
    "# Create magopter object\n",
    "print('Creating magopter object')\n",
    "magopter_nf = mg.Magoptoffline(folder, adc_file, shunt_resistor=shunt_resistance, cabling_resistance=cabling_resistance)\n",
    "magopter_nf._VOLTAGE_CHANNEL = 3\n",
    "magopter_nf._PROBE_CHANNEL_3 = 4\n",
    "magopter_nf._PROBE_CHANNEL_4 = 5\n",
    "magopter_nf.prepare(down_sampling_rate=downsampling_factor, roi_b_plasma=True, filter_arcs_fl=False, crit_freq=None, crit_ampl=None, homogenise_fl=False)"
   ]
  },
  {
   "cell_type": "code",
   "execution_count": 8,
   "metadata": {},
   "outputs": [
    {
     "data": {
      "text/plain": [
       "[<matplotlib.lines.Line2D at 0x7f3d665244e0>]"
      ]
     },
     "execution_count": 8,
     "metadata": {},
     "output_type": "execute_result"
    }
   ],
   "source": [
    "fig, ax = plt.subplots(2, 3)\n",
    "\n",
    "# ax[0][0].plot(magopter.raw_voltage[slc_oi], magopter_15.raw_current[0][slc_oi])\n",
    "# ax[0][0].plot(magopter_nf.voltage[0][slc_oi], magopter_nf.current[0][slc_oi])\n",
    "ax[0][0].plot(magopter.voltage[0][slc_oi], magopter.current[0][slc_oi])\n",
    "ax[0][0].plot(magopter_15.voltage[0][slc_oi], magopter_15.current[0][slc_oi])\n",
    "\n",
    "# ax[1][0].plot(magopter_15.raw_voltage[slc_oi], magopter_15.raw_current[0][slc_oi])\n",
    "# ax[1][0].plot(magopter_nf.voltage[1][slc_oi], magopter_nf.current[1][slc_oi])\n",
    "ax[1][0].plot(magopter.voltage[1][slc_oi], magopter.current[1][slc_oi])\n",
    "ax[1][0].plot(magopter_15.voltage[1][slc_oi], magopter_15.current[1][slc_oi])\n",
    "\n",
    "\n",
    "ax[0][1].plot(magopter_15.voltage[0][slc_oi] - magopter.voltage[0][slc_oi])\n",
    "\n",
    "ax[1][1].plot(magopter_15.voltage[1][slc_oi] - magopter.voltage[1][slc_oi])\n",
    "\n",
    "ax[0][2].plot(magopter_15.current[0][slc_oi] - magopter.current[0][slc_oi])\n",
    "\n",
    "ax[1][2].plot(magopter_15.current[1][slc_oi] - magopter.current[1][slc_oi])\n"
   ]
  },
  {
   "cell_type": "code",
   "execution_count": 9,
   "metadata": {},
   "outputs": [
    {
     "data": {
      "text/plain": [
       "[<matplotlib.lines.Line2D at 0x7f3d663aafd0>]"
      ]
     },
     "execution_count": 9,
     "metadata": {},
     "output_type": "execute_result"
    }
   ],
   "source": [
    "# Plot for side-by-side comparison of the IV characteristics of the first 5% of the signal\n",
    "\n",
    "fig, ax = plt.subplots(2, 2, sharex='col')\n",
    "\n",
    "ax[0][0].plot(magopter_nf.raw_time[slc_oi], magopter_nf.current[0][slc_oi])\n",
    "ax[0][0].plot(magopter.raw_time[slc_oi], magopter.current[0][slc_oi])\n",
    "ax[0][0].plot(magopter_15.raw_time[slc_oi], magopter_15.current[0][slc_oi])\n",
    "\n",
    "# ax[0][0].plot(magopter.raw_voltage[slc_oi], magopter_15.raw_current[0][slc_oi])\n",
    "ax[1][0].plot(magopter_nf.raw_time[slc_oi], magopter_nf.voltage[0][slc_oi])\n",
    "ax[1][0].plot(magopter.raw_time[slc_oi], magopter.voltage[0][slc_oi])\n",
    "ax[1][0].plot(magopter_15.raw_time[slc_oi], magopter_15.voltage[0][slc_oi])\n",
    "\n",
    "ax[0][1].plot(magopter_nf.voltage[0][slc_oi], magopter_nf.current[0][slc_oi])\n",
    "ax[0][1].plot(magopter.voltage[0][slc_oi], magopter.current[0][slc_oi])\n",
    "ax[0][1].plot(magopter_15.voltage[0][slc_oi], magopter_15.current[0][slc_oi])\n",
    "\n",
    "ax[1][1].plot(magopter_nf.voltage[1][slc_oi], magopter_nf.current[1][slc_oi])\n",
    "ax[1][1].plot(magopter.voltage[1][slc_oi], magopter.current[1][slc_oi])\n",
    "ax[1][1].plot(magopter_15.voltage[1][slc_oi], magopter_15.current[1][slc_oi])"
   ]
  },
  {
   "cell_type": "markdown",
   "metadata": {},
   "source": [
    "From the above plot, I'm going to go with a 45kHz filter to get rid of the large harmonics"
   ]
  },
  {
   "cell_type": "code",
   "execution_count": null,
   "metadata": {},
   "outputs": [],
   "source": []
  }
 ],
 "metadata": {
  "kernelspec": {
   "display_name": "python3.6-codac",
   "language": "python",
   "name": "python3.6-codac"
  },
  "language_info": {
   "codemirror_mode": {
    "name": "ipython",
    "version": 3
   },
   "file_extension": ".py",
   "mimetype": "text/x-python",
   "name": "python",
   "nbconvert_exporter": "python",
   "pygments_lexer": "ipython3",
   "version": "3.6.9"
  }
 },
 "nbformat": 4,
 "nbformat_minor": 4
}
