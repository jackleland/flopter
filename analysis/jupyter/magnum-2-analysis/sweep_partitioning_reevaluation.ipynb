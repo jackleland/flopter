{
 "cells": [
  {
   "cell_type": "markdown",
   "metadata": {},
   "source": [
    "# Re-evaluation of magopter's sweep partitioning\n",
    "\n",
    "Having another look at the sweep partitioning section of homogenise() to see if it can be sped up. "
   ]
  },
  {
   "cell_type": "code",
   "execution_count": 1,
   "metadata": {},
   "outputs": [
    {
     "name": "stderr",
     "output_type": "stream",
     "text": [
      "/home/jleland/coding/environments/python3.6/lib/python3.6/site-packages/xarray/core/nputils.py:215: RuntimeWarning: All-NaN slice encountered\n",
      "  result = getattr(npmodule, name)(values, axis=axis, **kwargs)\n",
      "/home/jleland/coding/environments/python3.6/lib/python3.6/site-packages/xarray/core/nputils.py:215: RuntimeWarning: All-NaN slice encountered\n",
      "  result = getattr(npmodule, name)(values, axis=axis, **kwargs)\n",
      "/home/jleland/coding/environments/python3.6/lib/python3.6/site-packages/xarray/core/nputils.py:215: RuntimeWarning: All-NaN slice encountered\n",
      "  result = getattr(npmodule, name)(values, axis=axis, **kwargs)\n"
     ]
    }
   ],
   "source": [
    "%matplotlib tk\n",
    "import scipy.signal as sig\n",
    "import numpy as np\n",
    "import pandas as pd\n",
    "import xarray as xr\n",
    "import matplotlib.pyplot as plt\n",
    "import sys \n",
    "sys.path.append('/home/jleland/Coding/Projects/flopter')\n",
    "import flopter.magnum.magoptoffline as mg\n",
    "import analysis.scripts.magnum.magnum_advanced_analysis as maa\n",
    "import flopter.core.fitters as fts\n",
    "import flopter.core.constants as c\n",
    "import flopter.core.ivdata as iv"
   ]
  },
  {
   "cell_type": "code",
   "execution_count": 4,
   "metadata": {},
   "outputs": [
    {
     "data": {
      "text/plain": [
       "('2019-06-04_Leland/',\n",
       " '2019-06-04 15h 43m 27s TT_06698670651268073795.adc',\n",
       " 'a239_252_6698670651268073472',\n",
       " array(8.44306224),\n",
       " array(7.90269936e+19),\n",
       " ('S', 'L'),\n",
       " array(1.),\n",
       " 100,\n",
       " (10.04, 10.04),\n",
       " (1, 800))"
      ]
     },
     "execution_count": 4,
     "metadata": {},
     "output_type": "execute_result"
    }
   ],
   "source": [
    "# shot_info = maa.get_shot_info_for_analysis(157)\n",
    "shot_number = 239\n",
    "# shot_number = 283\n",
    "shot_info = maa.get_shot_info_for_analysis(shot_number)\n",
    "shot_info"
   ]
  },
  {
   "cell_type": "code",
   "execution_count": 5,
   "metadata": {},
   "outputs": [],
   "source": [
    "# maa.shot_dataset.sel(shot_number=157)"
   ]
  },
  {
   "cell_type": "code",
   "execution_count": 6,
   "metadata": {},
   "outputs": [],
   "source": [
    "folder, adc_file, output_tag, ts_temp, ts_dens, probe_designations, shunt_resistance, downsampling_factor, cabling_resistance, sweep_range = shot_info"
   ]
  },
  {
   "cell_type": "code",
   "execution_count": 7,
   "metadata": {},
   "outputs": [],
   "source": [
    "# adc_freqs is not actually the sweep frequency, just the sampling rate\n",
    "\n",
    "# frequency = maa.shot_dataset.sel(shot_number=157)#['adc_freqs'].values\n",
    "# frequency"
   ]
  },
  {
   "cell_type": "code",
   "execution_count": 8,
   "metadata": {},
   "outputs": [
    {
     "name": "stdout",
     "output_type": "stream",
     "text": [
      "\"2019-06-04_Leland/\" \t\t \"2019-06-04 15h 43m 27s TT_06698670651268073795.adc\"\n",
      "Creating magopter object\n",
      "Running an offline magopter object, operating in offline mode.\n"
     ]
    }
   ],
   "source": [
    "mg.Magoptoffline._FOLDER_STRUCTURE = 'data/external/magnum/'\n",
    "print('\"{}\" \\t\\t \"{}\"'.format(folder, adc_file))\n",
    "\n",
    "# Create magopter object\n",
    "print('Creating magopter object')\n",
    "magopter = mg.Magoptoffline(folder, adc_file, shunt_resistor=shunt_resistance, cabling_resistance=cabling_resistance)\n",
    "magopter._VOLTAGE_CHANNEL = 3\n",
    "magopter._PROBE_CHANNEL_3 = 4\n",
    "magopter._PROBE_CHANNEL_4 = 5\n",
    "# magopter.prepare(down_sampling_rate=downsampling_factor, roi_b_plasma=True, filter_arcs_fl=False, crit_freq=45000, crit_ampl=None, homogenise_fl=False)\n",
    "magopter.prepare(down_sampling_rate=downsampling_factor, roi_b_plasma=True, filter_arcs_fl=False, crit_freq=None, crit_ampl=None, homogenise_fl=False)"
   ]
  },
  {
   "cell_type": "code",
   "execution_count": 9,
   "metadata": {},
   "outputs": [
    {
     "name": "stdout",
     "output_type": "stream",
     "text": [
      "raw_time: 80000, raw_voltage: 80000\n"
     ]
    },
    {
     "data": {
      "text/plain": [
       "[<matplotlib.lines.Line2D at 0x7f17fa24e7f0>]"
      ]
     },
     "execution_count": 9,
     "metadata": {},
     "output_type": "execute_result"
    }
   ],
   "source": [
    "fig, ax = plt.subplots()\n",
    "\n",
    "print(f'raw_time: {len(magopter.raw_time)}, raw_voltage: {len(magopter.raw_voltage)}')\n",
    "\n",
    "# make a slice of interest\n",
    "slc_oi = slice(0, int(0.05 * len(magopter.raw_time)))\n",
    "ax.plot(magopter.raw_time[slc_oi], magopter.raw_voltage[slc_oi])\n",
    "ax.plot(magopter.raw_time[slc_oi], magopter.voltage[0][slc_oi])\n",
    "ax.plot(magopter.raw_time[slc_oi], magopter.voltage[1][slc_oi])"
   ]
  },
  {
   "cell_type": "code",
   "execution_count": 10,
   "metadata": {},
   "outputs": [
    {
     "data": {
      "text/plain": [
       "[<matplotlib.lines.Line2D at 0x7f17fa1feac8>]"
      ]
     },
     "execution_count": 10,
     "metadata": {},
     "output_type": "execute_result"
    }
   ],
   "source": [
    "fig, ax = plt.subplots()\n",
    "\n",
    "ax.plot(magopter.raw_voltage[slc_oi], magopter.raw_current[0][slc_oi])\n",
    "ax.plot(magopter.voltage[0][slc_oi], magopter.current[0][slc_oi])\n",
    "ax.plot(magopter.voltage[0][slc_oi], magopter.current[1][slc_oi])"
   ]
  },
  {
   "cell_type": "code",
   "execution_count": 11,
   "metadata": {},
   "outputs": [
    {
     "name": "stdout",
     "output_type": "stream",
     "text": [
      "0.06\n"
     ]
    }
   ],
   "source": [
    "print(600000 / 10000000)"
   ]
  },
  {
   "cell_type": "code",
   "execution_count": 19,
   "metadata": {},
   "outputs": [
    {
     "name": "stdout",
     "output_type": "stream",
     "text": [
      "to freq: 0.008437395095825195\n",
      "to smooth: 0.005946636199951172\n",
      "to a-r-max: 0.11306643486022949\n",
      "to a-r-min: 0.09956622123718262\n",
      "to sort: 0.00017380714416503906\n",
      "to where: 0.00027251243591308594\n",
      "to arange: 0.00014257431030273438\n",
      "\n"
     ]
    }
   ],
   "source": [
    "# baseline case, as it is in magoptoffline\n",
    "\n",
    "import time\n",
    "\n",
    "triangle = fts.TriangleWaveFitter()\n",
    "frequency = None\n",
    "\n",
    "start = time.time()\n",
    "if frequency is None:\n",
    "    # Use fourier decomposition from get_frequency method in triangle fitter to get frequency if none given\n",
    "    frequency = triangle.get_frequency(magopter.raw_time, magopter.raw_voltage, accepted_freqs=magopter._ACCEPTED_FREQS)\n",
    "end_freq = time.time()\n",
    "\n",
    "# Smooth the voltage to get a first read of the peaks on the triangle wave\n",
    "smoothed_voltage = sig.savgol_filter(magopter.raw_voltage, 21, 2)\n",
    "end_smooth = time.time()\n",
    "\n",
    "top = sig.argrelmax(smoothed_voltage, order=100)[0]\n",
    "end_argrelmax = time.time()\n",
    "\n",
    "bottom = sig.argrelmin(smoothed_voltage, order=100)[0]\n",
    "end_argrelmin = time.time()\n",
    "\n",
    "_peaks = magopter.raw_time[np.concatenate([top, bottom])]\n",
    "_peaks.sort()\n",
    "\n",
    "end_sort = time.time()\n",
    "\n",
    "# Get distances between the peaks and filter based on the found frequency\n",
    "_peak_distances = np.diff(_peaks)\n",
    "threshold = (1 / (2 * frequency)) - 0.001\n",
    "_peaks_ind = np.where(_peak_distances > threshold)[0]\n",
    "end_where = time.time()\n",
    "\n",
    "# Starting from the first filtered peak, arrange a period-spaced array\n",
    "peaks_refined = np.arange(_peaks[_peaks_ind[0]], magopter.raw_time[-1], 1 / (2 * frequency))\n",
    "magopter.peaks = peaks_refined\n",
    "end_arange = time.time()\n",
    "\n",
    "print(\n",
    "    f'to freq: {end_freq - start}\\n'\n",
    "    f'to smooth: {end_smooth - end_freq}\\n'\n",
    "    f'to a-r-max: {end_argrelmax - end_smooth}\\n'\n",
    "    f'to a-r-min: {end_argrelmin - end_argrelmax}\\n'\n",
    "    f'to sort: {end_sort - end_argrelmin}\\n'\n",
    "    f'to where: {end_where - end_sort}\\n'\n",
    "    f'to arange: {end_arange - end_where}\\n'\n",
    ")"
   ]
  },
  {
   "cell_type": "code",
   "execution_count": 20,
   "metadata": {},
   "outputs": [
    {
     "name": "stdout",
     "output_type": "stream",
     "text": [
      "to freq: 0.011311054229736328\n",
      "to smooth: 0.004477024078369141\n",
      "to a-r-max: 0.012869119644165039\n",
      "to a-r-min: 0.011741399765014648\n",
      "to sort: 0.00041675567626953125\n",
      "to where: 0.0005273818969726562\n",
      "to arange: 0.00039005279541015625\n",
      "\n"
     ]
    }
   ],
   "source": [
    "# Sped up case by taking a slice \n",
    "\n",
    "import time\n",
    "\n",
    "triangle = fts.TriangleWaveFitter()\n",
    "frequency = None\n",
    "\n",
    "start = time.time()\n",
    "if frequency is None:\n",
    "    # Use fourier decomposition from get_frequency method in triangle fitter to get frequency if none given\n",
    "    frequency = triangle.get_frequency(magopter.raw_time, magopter.raw_voltage, accepted_freqs=magopter._ACCEPTED_FREQS)\n",
    "end_freq = time.time()\n",
    "\n",
    "# Smooth the voltage to get a first read of the peaks on the triangle wave\n",
    "smoothed_voltage = sig.savgol_filter(magopter.raw_voltage, 21, 2)\n",
    "end_smooth = time.time()\n",
    "\n",
    "top = sig.argrelmax(smoothed_voltage[slc_oi], order=100)[0]\n",
    "end_argrelmax = time.time()\n",
    "\n",
    "bottom = sig.argrelmin(smoothed_voltage[slc_oi], order=100)[0]\n",
    "end_argrelmin = time.time()\n",
    "\n",
    "_peaks = magopter.raw_time[np.concatenate([top, bottom])]\n",
    "_peaks.sort()\n",
    "end_sort = time.time()\n",
    "\n",
    "# Get distances between the peaks and filter based on the found frequency\n",
    "_peak_distances = np.diff(_peaks)\n",
    "threshold = (1 / (2 * frequency)) - 0.001\n",
    "_peaks_ind = np.where(_peak_distances > threshold)[0]\n",
    "end_where = time.time()\n",
    "\n",
    "# Starting from the first filtered peak, arrange a period-spaced array\n",
    "peaks_refined = np.arange(_peaks[_peaks_ind[0]], magopter.raw_time[-1], 1 / (2 * frequency))\n",
    "magopter.peaks = peaks_refined\n",
    "end_arange = time.time()\n",
    "\n",
    "print(\n",
    "    f'to freq: {end_freq - start}\\n'\n",
    "    f'to smooth: {end_smooth - end_freq}\\n'\n",
    "    f'to a-r-max: {end_argrelmax - end_smooth}\\n'\n",
    "    f'to a-r-min: {end_argrelmin - end_argrelmax}\\n'\n",
    "    f'to sort: {end_sort - end_argrelmin}\\n'\n",
    "    f'to where: {end_where - end_sort}\\n'\n",
    "    f'to arange: {end_arange - end_where}\\n'\n",
    ")"
   ]
  },
  {
   "cell_type": "code",
   "execution_count": 21,
   "metadata": {},
   "outputs": [
    {
     "name": "stdout",
     "output_type": "stream",
     "text": [
      "100.0\n"
     ]
    }
   ],
   "source": [
    "print(frequency)\n",
    "\n",
    "plt.figure()\n",
    "plt.plot(magopter.raw_time, magopter.raw_voltage)\n",
    "# plt.plot(magopter.raw_time[slc_oi], triangle.fit(magopter.raw_time[slc_oi], magopter.raw_voltage[slc_oi]).fit_y)\n",
    "for peak in magopter.peaks[-60:]:\n",
    "    plt.axvline(x=peak, linestyle='dashed', linewidth=0.5, color='r')"
   ]
  },
  {
   "cell_type": "markdown",
   "metadata": {},
   "source": [
    "## Comparison of different filter frequencies\n",
    "Need to choose between cutting off the peaks in teh fourier decomposition (at 51kHz) or going for a harder blanket suppression of noise at 15kHz which would remove the noise (which may be present in the fourier decomposition) from the power supplies at ~20kHz. My thinking is that the signal at 51kHz is a harmonic of the power supply noise - but the filter at 15 looks like it's having a sizable effect and I'm not entirely sure it's justified. "
   ]
  },
  {
   "cell_type": "code",
   "execution_count": 15,
   "metadata": {},
   "outputs": [
    {
     "name": "stdout",
     "output_type": "stream",
     "text": [
      "\"2019-06-04_Leland/\" \t\t \"2019-06-04 15h 43m 27s TT_06698670651268073795.adc\"\n",
      "Creating magopter object\n"
     ]
    },
    {
     "ename": "FileNotFoundError",
     "evalue": "[Errno 2] No such file or directory: '/data/external/magnum/2019-06-04_Leland/2019-06-04 15h 43m 27s TT_06698670651268073795.adc'",
     "output_type": "error",
     "traceback": [
      "\u001b[0;31m---------------------------------------------------------------------------\u001b[0m",
      "\u001b[0;31mFileNotFoundError\u001b[0m                         Traceback (most recent call last)",
      "\u001b[0;32m<ipython-input-15-2a338e67ff65>\u001b[0m in \u001b[0;36m<module>\u001b[0;34m\u001b[0m\n\u001b[1;32m      4\u001b[0m \u001b[0;31m# Create magopter object\u001b[0m\u001b[0;34m\u001b[0m\u001b[0;34m\u001b[0m\u001b[0;34m\u001b[0m\u001b[0m\n\u001b[1;32m      5\u001b[0m \u001b[0mprint\u001b[0m\u001b[0;34m(\u001b[0m\u001b[0;34m'Creating magopter object'\u001b[0m\u001b[0;34m)\u001b[0m\u001b[0;34m\u001b[0m\u001b[0;34m\u001b[0m\u001b[0m\n\u001b[0;32m----> 6\u001b[0;31m \u001b[0mmagopter_15\u001b[0m \u001b[0;34m=\u001b[0m \u001b[0mmg\u001b[0m\u001b[0;34m.\u001b[0m\u001b[0mMagoptoffline\u001b[0m\u001b[0;34m(\u001b[0m\u001b[0mfolder\u001b[0m\u001b[0;34m,\u001b[0m \u001b[0madc_file\u001b[0m\u001b[0;34m,\u001b[0m \u001b[0mshunt_resistor\u001b[0m\u001b[0;34m=\u001b[0m\u001b[0mshunt_resistance\u001b[0m\u001b[0;34m,\u001b[0m \u001b[0mcabling_resistance\u001b[0m\u001b[0;34m=\u001b[0m\u001b[0mcabling_resistance\u001b[0m\u001b[0;34m)\u001b[0m\u001b[0;34m\u001b[0m\u001b[0;34m\u001b[0m\u001b[0m\n\u001b[0m\u001b[1;32m      7\u001b[0m \u001b[0mmagopter_15\u001b[0m\u001b[0;34m.\u001b[0m\u001b[0m_VOLTAGE_CHANNEL\u001b[0m \u001b[0;34m=\u001b[0m \u001b[0;36m3\u001b[0m\u001b[0;34m\u001b[0m\u001b[0;34m\u001b[0m\u001b[0m\n\u001b[1;32m      8\u001b[0m \u001b[0mmagopter_15\u001b[0m\u001b[0;34m.\u001b[0m\u001b[0m_PROBE_CHANNEL_3\u001b[0m \u001b[0;34m=\u001b[0m \u001b[0;36m4\u001b[0m\u001b[0;34m\u001b[0m\u001b[0;34m\u001b[0m\u001b[0m\n",
      "\u001b[0;32m~/coding/projects/flopter/flopter/magnum/magoptoffline.py\u001b[0m in \u001b[0;36m__init__\u001b[0;34m(self, directory, filename, ts_filename, coaxes, combine_sweeps_fl, shunt_resistor, cabling_resistance)\u001b[0m\n\u001b[1;32m     56\u001b[0m             \u001b[0mself\u001b[0m\u001b[0;34m.\u001b[0m\u001b[0mcabling_resistance\u001b[0m \u001b[0;34m=\u001b[0m \u001b[0mcabling_resistance\u001b[0m\u001b[0;34m\u001b[0m\u001b[0;34m\u001b[0m\u001b[0m\n\u001b[1;32m     57\u001b[0m \u001b[0;34m\u001b[0m\u001b[0m\n\u001b[0;32m---> 58\u001b[0;31m         \u001b[0mself\u001b[0m\u001b[0;34m.\u001b[0m\u001b[0mm_data\u001b[0m \u001b[0;34m=\u001b[0m \u001b[0mmd\u001b[0m\u001b[0;34m.\u001b[0m\u001b[0mMagnumAdcData\u001b[0m\u001b[0;34m(\u001b[0m\u001b[0mself\u001b[0m\u001b[0;34m.\u001b[0m\u001b[0mfull_path\u001b[0m\u001b[0;34m,\u001b[0m \u001b[0mfilename\u001b[0m\u001b[0;34m)\u001b[0m\u001b[0;34m\u001b[0m\u001b[0;34m\u001b[0m\u001b[0m\n\u001b[0m\u001b[1;32m     59\u001b[0m         \u001b[0mself\u001b[0m\u001b[0;34m.\u001b[0m\u001b[0madc_duration\u001b[0m \u001b[0;34m=\u001b[0m \u001b[0mmax\u001b[0m\u001b[0;34m(\u001b[0m\u001b[0mself\u001b[0m\u001b[0;34m.\u001b[0m\u001b[0mm_data\u001b[0m\u001b[0;34m.\u001b[0m\u001b[0mtime\u001b[0m\u001b[0;34m)\u001b[0m\u001b[0;34m\u001b[0m\u001b[0;34m\u001b[0m\u001b[0m\n\u001b[1;32m     60\u001b[0m \u001b[0;34m\u001b[0m\u001b[0m\n",
      "\u001b[0;32m~/coding/projects/flopter/flopter/magnum/adcdata.py\u001b[0m in \u001b[0;36m__init__\u001b[0;34m(self, full_path, file)\u001b[0m\n\u001b[1;32m     41\u001b[0m         \u001b[0mself\u001b[0m\u001b[0;34m.\u001b[0m\u001b[0mfull_path\u001b[0m \u001b[0;34m=\u001b[0m \u001b[0mfull_path\u001b[0m\u001b[0;34m\u001b[0m\u001b[0;34m\u001b[0m\u001b[0m\n\u001b[1;32m     42\u001b[0m         \u001b[0mself\u001b[0m\u001b[0;34m.\u001b[0m\u001b[0mfilename\u001b[0m \u001b[0;34m=\u001b[0m \u001b[0mfile\u001b[0m\u001b[0;34m\u001b[0m\u001b[0;34m\u001b[0m\u001b[0m\n\u001b[0;32m---> 43\u001b[0;31m         \u001b[0mself\u001b[0m\u001b[0;34m.\u001b[0m\u001b[0mheader\u001b[0m\u001b[0;34m,\u001b[0m \u001b[0mself\u001b[0m\u001b[0;34m.\u001b[0m\u001b[0mdata\u001b[0m \u001b[0;34m=\u001b[0m \u001b[0mradc\u001b[0m\u001b[0;34m.\u001b[0m\u001b[0mprocess_adc_file\u001b[0m\u001b[0;34m(\u001b[0m\u001b[0mfull_path\u001b[0m\u001b[0;34m,\u001b[0m \u001b[0mfile\u001b[0m\u001b[0;34m)\u001b[0m\u001b[0;34m\u001b[0m\u001b[0;34m\u001b[0m\u001b[0m\n\u001b[0m\u001b[1;32m     44\u001b[0m         \u001b[0mself\u001b[0m\u001b[0;34m.\u001b[0m\u001b[0mchannels\u001b[0m \u001b[0;34m=\u001b[0m \u001b[0mlist\u001b[0m\u001b[0;34m(\u001b[0m\u001b[0mself\u001b[0m\u001b[0;34m.\u001b[0m\u001b[0mdata\u001b[0m\u001b[0;34m.\u001b[0m\u001b[0mkeys\u001b[0m\u001b[0;34m(\u001b[0m\u001b[0;34m)\u001b[0m\u001b[0;34m)\u001b[0m\u001b[0;34m\u001b[0m\u001b[0;34m\u001b[0m\u001b[0m\n\u001b[1;32m     45\u001b[0m \u001b[0;34m\u001b[0m\u001b[0m\n",
      "\u001b[0;32m~/coding/projects/flopter/flopter/magnum/readfastadc.py\u001b[0m in \u001b[0;36mprocess_adc_file\u001b[0;34m(fullpath, filename, print_fl)\u001b[0m\n\u001b[1;32m     63\u001b[0m         \u001b[0mprint\u001b[0m\u001b[0;34m(\u001b[0m\u001b[0;34m'processing file: %s'\u001b[0m \u001b[0;34m%\u001b[0m \u001b[0mfilename\u001b[0m\u001b[0;34m)\u001b[0m\u001b[0;34m\u001b[0m\u001b[0;34m\u001b[0m\u001b[0m\n\u001b[1;32m     64\u001b[0m     \u001b[0mdata\u001b[0m \u001b[0;34m=\u001b[0m \u001b[0;34m{\u001b[0m\u001b[0;34m}\u001b[0m\u001b[0;34m\u001b[0m\u001b[0;34m\u001b[0m\u001b[0m\n\u001b[0;32m---> 65\u001b[0;31m     \u001b[0;32mwith\u001b[0m \u001b[0mopen\u001b[0m\u001b[0;34m(\u001b[0m\u001b[0mfullpath\u001b[0m\u001b[0;34m,\u001b[0m \u001b[0;34m'rb'\u001b[0m\u001b[0;34m)\u001b[0m \u001b[0;32mas\u001b[0m \u001b[0mf\u001b[0m\u001b[0;34m:\u001b[0m\u001b[0;34m\u001b[0m\u001b[0;34m\u001b[0m\u001b[0m\n\u001b[0m\u001b[1;32m     66\u001b[0m         \u001b[0mheader\u001b[0m \u001b[0;34m=\u001b[0m \u001b[0mread_header\u001b[0m\u001b[0;34m(\u001b[0m\u001b[0mf\u001b[0m\u001b[0;34m,\u001b[0m \u001b[0mprint_fl\u001b[0m\u001b[0;34m)\u001b[0m\u001b[0;34m\u001b[0m\u001b[0;34m\u001b[0m\u001b[0m\n\u001b[1;32m     67\u001b[0m         \u001b[0;32mif\u001b[0m \u001b[0mheader\u001b[0m\u001b[0;34m[\u001b[0m\u001b[0;34m'dsize'\u001b[0m\u001b[0;34m]\u001b[0m \u001b[0;34m==\u001b[0m \u001b[0;36m0\u001b[0m\u001b[0;34m:\u001b[0m\u001b[0;34m\u001b[0m\u001b[0;34m\u001b[0m\u001b[0m\n",
      "\u001b[0;31mFileNotFoundError\u001b[0m: [Errno 2] No such file or directory: '/data/external/magnum/2019-06-04_Leland/2019-06-04 15h 43m 27s TT_06698670651268073795.adc'"
     ]
    }
   ],
   "source": [
    "mg.Magoptoffline._FOLDER_STRUCTURE = '/data/external/magnum/'\n",
    "print('\"{}\" \\t\\t \"{}\"'.format(folder, adc_file))\n",
    "\n",
    "# Create magopter object\n",
    "print('Creating magopter object')\n",
    "magopter_15 = mg.Magoptoffline(folder, adc_file, shunt_resistor=shunt_resistance, cabling_resistance=cabling_resistance)\n",
    "magopter_15._VOLTAGE_CHANNEL = 3\n",
    "magopter_15._PROBE_CHANNEL_3 = 4\n",
    "magopter_15._PROBE_CHANNEL_4 = 5\n",
    "magopter_15.prepare(down_sampling_rate=downsampling_factor, roi_b_plasma=True, filter_arcs_fl=False, crit_freq=15000, crit_ampl=None, homogenise_fl=False)"
   ]
  },
  {
   "cell_type": "code",
   "execution_count": 16,
   "metadata": {},
   "outputs": [
    {
     "name": "stdout",
     "output_type": "stream",
     "text": [
      "\"2019-06-04_Leland/\" \t\t \"2019-06-04 15h 43m 27s TT_06698670651268073795.adc\"\n",
      "Creating magopter object\n"
     ]
    },
    {
     "ename": "FileNotFoundError",
     "evalue": "[Errno 2] No such file or directory: '/data/external/magnum/2019-06-04_Leland/2019-06-04 15h 43m 27s TT_06698670651268073795.adc'",
     "output_type": "error",
     "traceback": [
      "\u001b[0;31m---------------------------------------------------------------------------\u001b[0m",
      "\u001b[0;31mFileNotFoundError\u001b[0m                         Traceback (most recent call last)",
      "\u001b[0;32m<ipython-input-16-f3c2908d8e8b>\u001b[0m in \u001b[0;36m<module>\u001b[0;34m\u001b[0m\n\u001b[1;32m      4\u001b[0m \u001b[0;31m# Create magopter object\u001b[0m\u001b[0;34m\u001b[0m\u001b[0;34m\u001b[0m\u001b[0;34m\u001b[0m\u001b[0m\n\u001b[1;32m      5\u001b[0m \u001b[0mprint\u001b[0m\u001b[0;34m(\u001b[0m\u001b[0;34m'Creating magopter object'\u001b[0m\u001b[0;34m)\u001b[0m\u001b[0;34m\u001b[0m\u001b[0;34m\u001b[0m\u001b[0m\n\u001b[0;32m----> 6\u001b[0;31m \u001b[0mmagopter_nf\u001b[0m \u001b[0;34m=\u001b[0m \u001b[0mmg\u001b[0m\u001b[0;34m.\u001b[0m\u001b[0mMagoptoffline\u001b[0m\u001b[0;34m(\u001b[0m\u001b[0mfolder\u001b[0m\u001b[0;34m,\u001b[0m \u001b[0madc_file\u001b[0m\u001b[0;34m,\u001b[0m \u001b[0mshunt_resistor\u001b[0m\u001b[0;34m=\u001b[0m\u001b[0mshunt_resistance\u001b[0m\u001b[0;34m,\u001b[0m \u001b[0mcabling_resistance\u001b[0m\u001b[0;34m=\u001b[0m\u001b[0mcabling_resistance\u001b[0m\u001b[0;34m)\u001b[0m\u001b[0;34m\u001b[0m\u001b[0;34m\u001b[0m\u001b[0m\n\u001b[0m\u001b[1;32m      7\u001b[0m \u001b[0mmagopter_nf\u001b[0m\u001b[0;34m.\u001b[0m\u001b[0m_VOLTAGE_CHANNEL\u001b[0m \u001b[0;34m=\u001b[0m \u001b[0;36m3\u001b[0m\u001b[0;34m\u001b[0m\u001b[0;34m\u001b[0m\u001b[0m\n\u001b[1;32m      8\u001b[0m \u001b[0mmagopter_nf\u001b[0m\u001b[0;34m.\u001b[0m\u001b[0m_PROBE_CHANNEL_3\u001b[0m \u001b[0;34m=\u001b[0m \u001b[0;36m4\u001b[0m\u001b[0;34m\u001b[0m\u001b[0;34m\u001b[0m\u001b[0m\n",
      "\u001b[0;32m~/coding/projects/flopter/flopter/magnum/magoptoffline.py\u001b[0m in \u001b[0;36m__init__\u001b[0;34m(self, directory, filename, ts_filename, coaxes, combine_sweeps_fl, shunt_resistor, cabling_resistance)\u001b[0m\n\u001b[1;32m     56\u001b[0m             \u001b[0mself\u001b[0m\u001b[0;34m.\u001b[0m\u001b[0mcabling_resistance\u001b[0m \u001b[0;34m=\u001b[0m \u001b[0mcabling_resistance\u001b[0m\u001b[0;34m\u001b[0m\u001b[0;34m\u001b[0m\u001b[0m\n\u001b[1;32m     57\u001b[0m \u001b[0;34m\u001b[0m\u001b[0m\n\u001b[0;32m---> 58\u001b[0;31m         \u001b[0mself\u001b[0m\u001b[0;34m.\u001b[0m\u001b[0mm_data\u001b[0m \u001b[0;34m=\u001b[0m \u001b[0mmd\u001b[0m\u001b[0;34m.\u001b[0m\u001b[0mMagnumAdcData\u001b[0m\u001b[0;34m(\u001b[0m\u001b[0mself\u001b[0m\u001b[0;34m.\u001b[0m\u001b[0mfull_path\u001b[0m\u001b[0;34m,\u001b[0m \u001b[0mfilename\u001b[0m\u001b[0;34m)\u001b[0m\u001b[0;34m\u001b[0m\u001b[0;34m\u001b[0m\u001b[0m\n\u001b[0m\u001b[1;32m     59\u001b[0m         \u001b[0mself\u001b[0m\u001b[0;34m.\u001b[0m\u001b[0madc_duration\u001b[0m \u001b[0;34m=\u001b[0m \u001b[0mmax\u001b[0m\u001b[0;34m(\u001b[0m\u001b[0mself\u001b[0m\u001b[0;34m.\u001b[0m\u001b[0mm_data\u001b[0m\u001b[0;34m.\u001b[0m\u001b[0mtime\u001b[0m\u001b[0;34m)\u001b[0m\u001b[0;34m\u001b[0m\u001b[0;34m\u001b[0m\u001b[0m\n\u001b[1;32m     60\u001b[0m \u001b[0;34m\u001b[0m\u001b[0m\n",
      "\u001b[0;32m~/coding/projects/flopter/flopter/magnum/adcdata.py\u001b[0m in \u001b[0;36m__init__\u001b[0;34m(self, full_path, file)\u001b[0m\n\u001b[1;32m     41\u001b[0m         \u001b[0mself\u001b[0m\u001b[0;34m.\u001b[0m\u001b[0mfull_path\u001b[0m \u001b[0;34m=\u001b[0m \u001b[0mfull_path\u001b[0m\u001b[0;34m\u001b[0m\u001b[0;34m\u001b[0m\u001b[0m\n\u001b[1;32m     42\u001b[0m         \u001b[0mself\u001b[0m\u001b[0;34m.\u001b[0m\u001b[0mfilename\u001b[0m \u001b[0;34m=\u001b[0m \u001b[0mfile\u001b[0m\u001b[0;34m\u001b[0m\u001b[0;34m\u001b[0m\u001b[0m\n\u001b[0;32m---> 43\u001b[0;31m         \u001b[0mself\u001b[0m\u001b[0;34m.\u001b[0m\u001b[0mheader\u001b[0m\u001b[0;34m,\u001b[0m \u001b[0mself\u001b[0m\u001b[0;34m.\u001b[0m\u001b[0mdata\u001b[0m \u001b[0;34m=\u001b[0m \u001b[0mradc\u001b[0m\u001b[0;34m.\u001b[0m\u001b[0mprocess_adc_file\u001b[0m\u001b[0;34m(\u001b[0m\u001b[0mfull_path\u001b[0m\u001b[0;34m,\u001b[0m \u001b[0mfile\u001b[0m\u001b[0;34m)\u001b[0m\u001b[0;34m\u001b[0m\u001b[0;34m\u001b[0m\u001b[0m\n\u001b[0m\u001b[1;32m     44\u001b[0m         \u001b[0mself\u001b[0m\u001b[0;34m.\u001b[0m\u001b[0mchannels\u001b[0m \u001b[0;34m=\u001b[0m \u001b[0mlist\u001b[0m\u001b[0;34m(\u001b[0m\u001b[0mself\u001b[0m\u001b[0;34m.\u001b[0m\u001b[0mdata\u001b[0m\u001b[0;34m.\u001b[0m\u001b[0mkeys\u001b[0m\u001b[0;34m(\u001b[0m\u001b[0;34m)\u001b[0m\u001b[0;34m)\u001b[0m\u001b[0;34m\u001b[0m\u001b[0;34m\u001b[0m\u001b[0m\n\u001b[1;32m     45\u001b[0m \u001b[0;34m\u001b[0m\u001b[0m\n",
      "\u001b[0;32m~/coding/projects/flopter/flopter/magnum/readfastadc.py\u001b[0m in \u001b[0;36mprocess_adc_file\u001b[0;34m(fullpath, filename, print_fl)\u001b[0m\n\u001b[1;32m     63\u001b[0m         \u001b[0mprint\u001b[0m\u001b[0;34m(\u001b[0m\u001b[0;34m'processing file: %s'\u001b[0m \u001b[0;34m%\u001b[0m \u001b[0mfilename\u001b[0m\u001b[0;34m)\u001b[0m\u001b[0;34m\u001b[0m\u001b[0;34m\u001b[0m\u001b[0m\n\u001b[1;32m     64\u001b[0m     \u001b[0mdata\u001b[0m \u001b[0;34m=\u001b[0m \u001b[0;34m{\u001b[0m\u001b[0;34m}\u001b[0m\u001b[0;34m\u001b[0m\u001b[0;34m\u001b[0m\u001b[0m\n\u001b[0;32m---> 65\u001b[0;31m     \u001b[0;32mwith\u001b[0m \u001b[0mopen\u001b[0m\u001b[0;34m(\u001b[0m\u001b[0mfullpath\u001b[0m\u001b[0;34m,\u001b[0m \u001b[0;34m'rb'\u001b[0m\u001b[0;34m)\u001b[0m \u001b[0;32mas\u001b[0m \u001b[0mf\u001b[0m\u001b[0;34m:\u001b[0m\u001b[0;34m\u001b[0m\u001b[0;34m\u001b[0m\u001b[0m\n\u001b[0m\u001b[1;32m     66\u001b[0m         \u001b[0mheader\u001b[0m \u001b[0;34m=\u001b[0m \u001b[0mread_header\u001b[0m\u001b[0;34m(\u001b[0m\u001b[0mf\u001b[0m\u001b[0;34m,\u001b[0m \u001b[0mprint_fl\u001b[0m\u001b[0;34m)\u001b[0m\u001b[0;34m\u001b[0m\u001b[0;34m\u001b[0m\u001b[0m\n\u001b[1;32m     67\u001b[0m         \u001b[0;32mif\u001b[0m \u001b[0mheader\u001b[0m\u001b[0;34m[\u001b[0m\u001b[0;34m'dsize'\u001b[0m\u001b[0;34m]\u001b[0m \u001b[0;34m==\u001b[0m \u001b[0;36m0\u001b[0m\u001b[0;34m:\u001b[0m\u001b[0;34m\u001b[0m\u001b[0;34m\u001b[0m\u001b[0m\n",
      "\u001b[0;31mFileNotFoundError\u001b[0m: [Errno 2] No such file or directory: '/data/external/magnum/2019-06-04_Leland/2019-06-04 15h 43m 27s TT_06698670651268073795.adc'"
     ]
    }
   ],
   "source": [
    "mg.Magoptoffline._FOLDER_STRUCTURE = '/data/external/magnum/'\n",
    "print('\"{}\" \\t\\t \"{}\"'.format(folder, adc_file))\n",
    "\n",
    "# Create magopter object\n",
    "print('Creating magopter object')\n",
    "magopter_nf = mg.Magoptoffline(folder, adc_file, shunt_resistor=shunt_resistance, cabling_resistance=cabling_resistance)\n",
    "magopter_nf._VOLTAGE_CHANNEL = 3\n",
    "magopter_nf._PROBE_CHANNEL_3 = 4\n",
    "magopter_nf._PROBE_CHANNEL_4 = 5\n",
    "magopter_nf.prepare(down_sampling_rate=downsampling_factor, roi_b_plasma=True, filter_arcs_fl=False, crit_freq=None, crit_ampl=None, homogenise_fl=False)"
   ]
  },
  {
   "cell_type": "code",
   "execution_count": 17,
   "metadata": {},
   "outputs": [
    {
     "ename": "NameError",
     "evalue": "name 'magopter_15' is not defined",
     "output_type": "error",
     "traceback": [
      "\u001b[0;31m---------------------------------------------------------------------------\u001b[0m",
      "\u001b[0;31mNameError\u001b[0m                                 Traceback (most recent call last)",
      "\u001b[0;32m<ipython-input-17-33e24ea0e7ee>\u001b[0m in \u001b[0;36m<module>\u001b[0;34m\u001b[0m\n\u001b[1;32m      4\u001b[0m \u001b[0;31m# ax[0][0].plot(magopter_nf.voltage[0][slc_oi], magopter_nf.current[0][slc_oi])\u001b[0m\u001b[0;34m\u001b[0m\u001b[0;34m\u001b[0m\u001b[0;34m\u001b[0m\u001b[0m\n\u001b[1;32m      5\u001b[0m \u001b[0max\u001b[0m\u001b[0;34m[\u001b[0m\u001b[0;36m0\u001b[0m\u001b[0;34m]\u001b[0m\u001b[0;34m[\u001b[0m\u001b[0;36m0\u001b[0m\u001b[0;34m]\u001b[0m\u001b[0;34m.\u001b[0m\u001b[0mplot\u001b[0m\u001b[0;34m(\u001b[0m\u001b[0mmagopter\u001b[0m\u001b[0;34m.\u001b[0m\u001b[0mvoltage\u001b[0m\u001b[0;34m[\u001b[0m\u001b[0;36m0\u001b[0m\u001b[0;34m]\u001b[0m\u001b[0;34m[\u001b[0m\u001b[0mslc_oi\u001b[0m\u001b[0;34m]\u001b[0m\u001b[0;34m,\u001b[0m \u001b[0mmagopter\u001b[0m\u001b[0;34m.\u001b[0m\u001b[0mcurrent\u001b[0m\u001b[0;34m[\u001b[0m\u001b[0;36m0\u001b[0m\u001b[0;34m]\u001b[0m\u001b[0;34m[\u001b[0m\u001b[0mslc_oi\u001b[0m\u001b[0;34m]\u001b[0m\u001b[0;34m)\u001b[0m\u001b[0;34m\u001b[0m\u001b[0;34m\u001b[0m\u001b[0m\n\u001b[0;32m----> 6\u001b[0;31m \u001b[0max\u001b[0m\u001b[0;34m[\u001b[0m\u001b[0;36m0\u001b[0m\u001b[0;34m]\u001b[0m\u001b[0;34m[\u001b[0m\u001b[0;36m0\u001b[0m\u001b[0;34m]\u001b[0m\u001b[0;34m.\u001b[0m\u001b[0mplot\u001b[0m\u001b[0;34m(\u001b[0m\u001b[0mmagopter_15\u001b[0m\u001b[0;34m.\u001b[0m\u001b[0mvoltage\u001b[0m\u001b[0;34m[\u001b[0m\u001b[0;36m0\u001b[0m\u001b[0;34m]\u001b[0m\u001b[0;34m[\u001b[0m\u001b[0mslc_oi\u001b[0m\u001b[0;34m]\u001b[0m\u001b[0;34m,\u001b[0m \u001b[0mmagopter_15\u001b[0m\u001b[0;34m.\u001b[0m\u001b[0mcurrent\u001b[0m\u001b[0;34m[\u001b[0m\u001b[0;36m0\u001b[0m\u001b[0;34m]\u001b[0m\u001b[0;34m[\u001b[0m\u001b[0mslc_oi\u001b[0m\u001b[0;34m]\u001b[0m\u001b[0;34m)\u001b[0m\u001b[0;34m\u001b[0m\u001b[0;34m\u001b[0m\u001b[0m\n\u001b[0m\u001b[1;32m      7\u001b[0m \u001b[0;34m\u001b[0m\u001b[0m\n\u001b[1;32m      8\u001b[0m \u001b[0;31m# ax[1][0].plot(magopter_15.raw_voltage[slc_oi], magopter_15.raw_current[0][slc_oi])\u001b[0m\u001b[0;34m\u001b[0m\u001b[0;34m\u001b[0m\u001b[0;34m\u001b[0m\u001b[0m\n",
      "\u001b[0;31mNameError\u001b[0m: name 'magopter_15' is not defined"
     ]
    }
   ],
   "source": [
    "fig, ax = plt.subplots(2, 3)\n",
    "\n",
    "# ax[0][0].plot(magopter.raw_voltage[slc_oi], magopter_15.raw_current[0][slc_oi])\n",
    "# ax[0][0].plot(magopter_nf.voltage[0][slc_oi], magopter_nf.current[0][slc_oi])\n",
    "ax[0][0].plot(magopter.voltage[0][slc_oi], magopter.current[0][slc_oi])\n",
    "ax[0][0].plot(magopter_15.voltage[0][slc_oi], magopter_15.current[0][slc_oi])\n",
    "\n",
    "# ax[1][0].plot(magopter_15.raw_voltage[slc_oi], magopter_15.raw_current[0][slc_oi])\n",
    "# ax[1][0].plot(magopter_nf.voltage[1][slc_oi], magopter_nf.current[1][slc_oi])\n",
    "ax[1][0].plot(magopter.voltage[1][slc_oi], magopter.current[1][slc_oi])\n",
    "ax[1][0].plot(magopter_15.voltage[1][slc_oi], magopter_15.current[1][slc_oi])\n",
    "\n",
    "\n",
    "ax[0][1].plot(magopter_15.voltage[0][slc_oi] - magopter.voltage[0][slc_oi])\n",
    "\n",
    "ax[1][1].plot(magopter_15.voltage[1][slc_oi] - magopter.voltage[1][slc_oi])\n",
    "\n",
    "ax[0][2].plot(magopter_15.current[0][slc_oi] - magopter.current[0][slc_oi])\n",
    "\n",
    "ax[1][2].plot(magopter_15.current[1][slc_oi] - magopter.current[1][slc_oi])\n"
   ]
  },
  {
   "cell_type": "code",
   "execution_count": 18,
   "metadata": {},
   "outputs": [
    {
     "ename": "NameError",
     "evalue": "name 'magopter_nf' is not defined",
     "output_type": "error",
     "traceback": [
      "\u001b[0;31m---------------------------------------------------------------------------\u001b[0m",
      "\u001b[0;31mNameError\u001b[0m                                 Traceback (most recent call last)",
      "\u001b[0;32m<ipython-input-18-28156083100c>\u001b[0m in \u001b[0;36m<module>\u001b[0;34m\u001b[0m\n\u001b[1;32m      3\u001b[0m \u001b[0mfig\u001b[0m\u001b[0;34m,\u001b[0m \u001b[0max\u001b[0m \u001b[0;34m=\u001b[0m \u001b[0mplt\u001b[0m\u001b[0;34m.\u001b[0m\u001b[0msubplots\u001b[0m\u001b[0;34m(\u001b[0m\u001b[0;36m2\u001b[0m\u001b[0;34m,\u001b[0m \u001b[0;36m2\u001b[0m\u001b[0;34m,\u001b[0m \u001b[0msharex\u001b[0m\u001b[0;34m=\u001b[0m\u001b[0;34m'col'\u001b[0m\u001b[0;34m)\u001b[0m\u001b[0;34m\u001b[0m\u001b[0;34m\u001b[0m\u001b[0m\n\u001b[1;32m      4\u001b[0m \u001b[0;34m\u001b[0m\u001b[0m\n\u001b[0;32m----> 5\u001b[0;31m \u001b[0max\u001b[0m\u001b[0;34m[\u001b[0m\u001b[0;36m0\u001b[0m\u001b[0;34m]\u001b[0m\u001b[0;34m[\u001b[0m\u001b[0;36m0\u001b[0m\u001b[0;34m]\u001b[0m\u001b[0;34m.\u001b[0m\u001b[0mplot\u001b[0m\u001b[0;34m(\u001b[0m\u001b[0mmagopter_nf\u001b[0m\u001b[0;34m.\u001b[0m\u001b[0mraw_time\u001b[0m\u001b[0;34m[\u001b[0m\u001b[0mslc_oi\u001b[0m\u001b[0;34m]\u001b[0m\u001b[0;34m,\u001b[0m \u001b[0mmagopter_nf\u001b[0m\u001b[0;34m.\u001b[0m\u001b[0mcurrent\u001b[0m\u001b[0;34m[\u001b[0m\u001b[0;36m0\u001b[0m\u001b[0;34m]\u001b[0m\u001b[0;34m[\u001b[0m\u001b[0mslc_oi\u001b[0m\u001b[0;34m]\u001b[0m\u001b[0;34m)\u001b[0m\u001b[0;34m\u001b[0m\u001b[0;34m\u001b[0m\u001b[0m\n\u001b[0m\u001b[1;32m      6\u001b[0m \u001b[0max\u001b[0m\u001b[0;34m[\u001b[0m\u001b[0;36m0\u001b[0m\u001b[0;34m]\u001b[0m\u001b[0;34m[\u001b[0m\u001b[0;36m0\u001b[0m\u001b[0;34m]\u001b[0m\u001b[0;34m.\u001b[0m\u001b[0mplot\u001b[0m\u001b[0;34m(\u001b[0m\u001b[0mmagopter\u001b[0m\u001b[0;34m.\u001b[0m\u001b[0mraw_time\u001b[0m\u001b[0;34m[\u001b[0m\u001b[0mslc_oi\u001b[0m\u001b[0;34m]\u001b[0m\u001b[0;34m,\u001b[0m \u001b[0mmagopter\u001b[0m\u001b[0;34m.\u001b[0m\u001b[0mcurrent\u001b[0m\u001b[0;34m[\u001b[0m\u001b[0;36m0\u001b[0m\u001b[0;34m]\u001b[0m\u001b[0;34m[\u001b[0m\u001b[0mslc_oi\u001b[0m\u001b[0;34m]\u001b[0m\u001b[0;34m)\u001b[0m\u001b[0;34m\u001b[0m\u001b[0;34m\u001b[0m\u001b[0m\n\u001b[1;32m      7\u001b[0m \u001b[0max\u001b[0m\u001b[0;34m[\u001b[0m\u001b[0;36m0\u001b[0m\u001b[0;34m]\u001b[0m\u001b[0;34m[\u001b[0m\u001b[0;36m0\u001b[0m\u001b[0;34m]\u001b[0m\u001b[0;34m.\u001b[0m\u001b[0mplot\u001b[0m\u001b[0;34m(\u001b[0m\u001b[0mmagopter_15\u001b[0m\u001b[0;34m.\u001b[0m\u001b[0mraw_time\u001b[0m\u001b[0;34m[\u001b[0m\u001b[0mslc_oi\u001b[0m\u001b[0;34m]\u001b[0m\u001b[0;34m,\u001b[0m \u001b[0mmagopter_15\u001b[0m\u001b[0;34m.\u001b[0m\u001b[0mcurrent\u001b[0m\u001b[0;34m[\u001b[0m\u001b[0;36m0\u001b[0m\u001b[0;34m]\u001b[0m\u001b[0;34m[\u001b[0m\u001b[0mslc_oi\u001b[0m\u001b[0;34m]\u001b[0m\u001b[0;34m)\u001b[0m\u001b[0;34m\u001b[0m\u001b[0;34m\u001b[0m\u001b[0m\n",
      "\u001b[0;31mNameError\u001b[0m: name 'magopter_nf' is not defined"
     ]
    }
   ],
   "source": [
    "# Plot for side-by-side comparison of the IV characteristics of the first 5% of the signal\n",
    "\n",
    "fig, ax = plt.subplots(2, 2, sharex='col')\n",
    "\n",
    "ax[0][0].plot(magopter_nf.raw_time[slc_oi], magopter_nf.current[0][slc_oi])\n",
    "ax[0][0].plot(magopter.raw_time[slc_oi], magopter.current[0][slc_oi])\n",
    "ax[0][0].plot(magopter_15.raw_time[slc_oi], magopter_15.current[0][slc_oi])\n",
    "\n",
    "# ax[0][0].plot(magopter.raw_voltage[slc_oi], magopter_15.raw_current[0][slc_oi])\n",
    "ax[1][0].plot(magopter_nf.raw_time[slc_oi], magopter_nf.voltage[0][slc_oi])\n",
    "ax[1][0].plot(magopter.raw_time[slc_oi], magopter.voltage[0][slc_oi])\n",
    "ax[1][0].plot(magopter_15.raw_time[slc_oi], magopter_15.voltage[0][slc_oi])\n",
    "\n",
    "ax[0][1].plot(magopter_nf.voltage[0][slc_oi], magopter_nf.current[0][slc_oi])\n",
    "ax[0][1].plot(magopter.voltage[0][slc_oi], magopter.current[0][slc_oi])\n",
    "ax[0][1].plot(magopter_15.voltage[0][slc_oi], magopter_15.current[0][slc_oi])\n",
    "\n",
    "ax[1][1].plot(magopter_nf.voltage[1][slc_oi], magopter_nf.current[1][slc_oi])\n",
    "ax[1][1].plot(magopter.voltage[1][slc_oi], magopter.current[1][slc_oi])\n",
    "ax[1][1].plot(magopter_15.voltage[1][slc_oi], magopter_15.current[1][slc_oi])"
   ]
  },
  {
   "cell_type": "markdown",
   "metadata": {},
   "source": [
    "From the above plot, I'm going to go with a 45kHz filter to get rid of the large harmonics"
   ]
  },
  {
   "cell_type": "code",
   "execution_count": null,
   "metadata": {},
   "outputs": [],
   "source": []
  }
 ],
 "metadata": {
  "kernelspec": {
   "display_name": "python3.6-codac",
   "language": "python",
   "name": "python3.6-codac"
  },
  "language_info": {
   "codemirror_mode": {
    "name": "ipython",
    "version": 3
   },
   "file_extension": ".py",
   "mimetype": "text/x-python",
   "name": "python",
   "nbconvert_exporter": "python",
   "pygments_lexer": "ipython3",
   "version": "3.6.9"
  }
 },
 "nbformat": 4,
 "nbformat_minor": 4
}
