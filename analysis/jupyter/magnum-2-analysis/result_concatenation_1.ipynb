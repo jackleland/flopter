{
 "cells": [
  {
   "cell_type": "code",
   "execution_count": 1,
   "metadata": {},
   "outputs": [],
   "source": [
    "%matplotlib tk\n",
    "import numpy as np\n",
    "import matplotlib.pyplot as plt\n",
    "import pandas as pd\n",
    "import xarray as xr \n",
    "import scipy.stats as stat\n",
    "import sys\n",
    "import os\n",
    "import glob\n",
    "import re\n",
    "sys.path.append('/home/jleland/Coding/Projects/flopter')\n",
    "import flopter.core.ivdata as iv\n",
    "import flopter.core.lputils as lp\n",
    "import flopter.magnum.database as ut\n",
    "import flopter.core.fitters as fts"
   ]
  },
  {
   "cell_type": "code",
   "execution_count": 2,
   "metadata": {},
   "outputs": [
    {
     "data": {
      "text/plain": [
       "<module 'flopter.core.ivdata' from '/home/jleland/coding/projects/flopter/flopter/core/ivdata.py'>"
      ]
     },
     "execution_count": 2,
     "metadata": {},
     "output_type": "execute_result"
    }
   ],
   "source": [
    "import importlib\n",
    "importlib.reload(iv)"
   ]
  },
  {
   "cell_type": "code",
   "execution_count": 4,
   "metadata": {},
   "outputs": [],
   "source": [
    "# Create analysed dataset metadata \n",
    "\n",
    "path_to_datasets = '/home/jleland/data/external/magnum/'\n",
    "# path_to_analysed_datasets = 'analysed_2'\n",
    "path_to_analysed_datasets = 'analysed_3_downsampled'\n",
    "# path_to_analysed_datasets = 'analysed_4'\n",
    "os.chdir(path_to_datasets)"
   ]
  },
  {
   "cell_type": "code",
   "execution_count": 3,
   "metadata": {},
   "outputs": [],
   "source": [
    "analysed_dataset_fns = glob.glob(path_to_analysed_datasets + '/*.nc')\n",
    "analysed_dataset_fns.sort()\n",
    "\n",
    "analysed_infos = []\n",
    "\n",
    "for i, anal_ds in enumerate(analysed_dataset_fns):\n",
    "    match = re.search(\"\\/a{1}([0-9]{3})_([0-9]{3})_([0-9]{19})\\.nc\", anal_ds)\n",
    "    shot_index = int(match.group(1))\n",
    "    adc_index = int(match.group(2))\n",
    "    shot_timestamp = int(match.group(3))\n",
    "    shot_time = ut.human_datetime_str(int(match.group(3)))\n",
    "    \n",
    "    ds = xr.open_dataset(anal_ds)\n",
    "    time_len = len(ds['time'])\n",
    "    sweep_len = len(ds['sweep'])\n",
    "    \n",
    "    analysed_infos.append({\n",
    "        'adc_index':adc_index, \n",
    "        'shot_number':shot_index, \n",
    "        'shot_timestamp':shot_timestamp, \n",
    "        'shot_time':shot_time, \n",
    "        'filename':anal_ds,\n",
    "        'time_len': time_len,\n",
    "        'sweep_len': sweep_len\n",
    "    })\n",
    "\n",
    "analysed_infos_df = pd.DataFrame(analysed_infos).set_index('adc_index')"
   ]
  },
  {
   "cell_type": "code",
   "execution_count": 5,
   "metadata": {},
   "outputs": [],
   "source": [
    "# metadata_filename = 'analysed_xr_metadata.csv'\n",
    "metadata_filename = f'{path_to_analysed_datasets}_xr_metadata.csv'\n",
    "analysed_infos_df = pd.read_csv(metadata_filename).set_index('adc_index')"
   ]
  },
  {
   "cell_type": "code",
   "execution_count": 6,
   "metadata": {},
   "outputs": [],
   "source": [
    "magnum_probes = lp.MagnumProbes()\n",
    "# print(magnum_probes['s'])"
   ]
  },
  {
   "cell_type": "code",
   "execution_count": 6,
   "metadata": {},
   "outputs": [],
   "source": [
    "# list(analysed_infos_df.groupby('time_len'))"
   ]
  },
  {
   "cell_type": "code",
   "execution_count": 5,
   "metadata": {},
   "outputs": [],
   "source": [
    "# Axial Scan\n",
    "# indices = np.arange(148,190) \n",
    "indices = [132,148,149,150,151,152,153,154,155,156,157,158,159,160,161,162,163,164,165,166,167,168,169,170,171,172,173,174,175,176,177,178,179,180,181,182,183,184,185,186,187,188,189]"
   ]
  },
  {
   "cell_type": "code",
   "execution_count": 7,
   "metadata": {},
   "outputs": [],
   "source": [
    "# 100A, 5slm (He), 0.8T\n",
    "indices = [357, 358, 359, 360, 361, 362, 363, 364, 365, 366, 367, 376, 377, 378, 379, 380, 381, 382, 383, 384, 385, 386]"
   ]
  },
  {
   "cell_type": "code",
   "execution_count": 100,
   "metadata": {},
   "outputs": [],
   "source": [
    "# 100A, 5slm (He), 1.2T\n",
    "indices = [245, 246, 247, 248, 249, 250, 251, 252, 254, 255, 256, 261, 262, 263, 264, 265, 266, 267, 268, 269, 270, 271]"
   ]
  },
  {
   "cell_type": "code",
   "execution_count": 19,
   "metadata": {},
   "outputs": [],
   "source": [
    "# 110A, 5slm (H), 1.2T\n",
    "indices = [321, 322, 323, 324, 325, 326, 327, 328, 329, 330, 331, 336, 337, 338, 339, 340, 341, 342, 343, 344, 345, 346]"
   ]
  },
  {
   "cell_type": "code",
   "execution_count": 8,
   "metadata": {},
   "outputs": [
    {
     "data": {
      "text/html": [
       "<div>\n",
       "<style scoped>\n",
       "    .dataframe tbody tr th:only-of-type {\n",
       "        vertical-align: middle;\n",
       "    }\n",
       "\n",
       "    .dataframe tbody tr th {\n",
       "        vertical-align: top;\n",
       "    }\n",
       "\n",
       "    .dataframe thead th {\n",
       "        text-align: right;\n",
       "    }\n",
       "</style>\n",
       "<table border=\"1\" class=\"dataframe\">\n",
       "  <thead>\n",
       "    <tr style=\"text-align: right;\">\n",
       "      <th></th>\n",
       "      <th>filename</th>\n",
       "      <th>shot_number</th>\n",
       "      <th>shot_time</th>\n",
       "      <th>shot_timestamp</th>\n",
       "      <th>sweep_len</th>\n",
       "      <th>time_len</th>\n",
       "    </tr>\n",
       "    <tr>\n",
       "      <th>adc_index</th>\n",
       "      <th></th>\n",
       "      <th></th>\n",
       "      <th></th>\n",
       "      <th></th>\n",
       "      <th></th>\n",
       "      <th></th>\n",
       "    </tr>\n",
       "  </thead>\n",
       "  <tbody>\n",
       "    <tr>\n",
       "      <td>357</td>\n",
       "      <td>analysed_3_downsampled/a361_357_66993216924205...</td>\n",
       "      <td>361</td>\n",
       "      <td>2019-06-06 08:49:41</td>\n",
       "      <td>6699321692420543488</td>\n",
       "      <td>998</td>\n",
       "      <td>50</td>\n",
       "    </tr>\n",
       "    <tr>\n",
       "      <td>358</td>\n",
       "      <td>analysed_3_downsampled/a362_358_66993228959639...</td>\n",
       "      <td>362</td>\n",
       "      <td>2019-06-06 08:54:21</td>\n",
       "      <td>6699322895963984896</td>\n",
       "      <td>997</td>\n",
       "      <td>50</td>\n",
       "    </tr>\n",
       "    <tr>\n",
       "      <td>359</td>\n",
       "      <td>analysed_3_downsampled/a363_359_66993234087863...</td>\n",
       "      <td>363</td>\n",
       "      <td>2019-06-06 08:56:21</td>\n",
       "      <td>6699323408786381824</td>\n",
       "      <td>998</td>\n",
       "      <td>50</td>\n",
       "    </tr>\n",
       "    <tr>\n",
       "      <td>360</td>\n",
       "      <td>analysed_3_downsampled/a364_360_66993237119700...</td>\n",
       "      <td>364</td>\n",
       "      <td>2019-06-06 08:57:31</td>\n",
       "      <td>6699323711970046976</td>\n",
       "      <td>999</td>\n",
       "      <td>50</td>\n",
       "    </tr>\n",
       "    <tr>\n",
       "      <td>361</td>\n",
       "      <td>analysed_3_downsampled/a365_361_66993241071525...</td>\n",
       "      <td>365</td>\n",
       "      <td>2019-06-06 08:59:03</td>\n",
       "      <td>6699324107152520192</td>\n",
       "      <td>998</td>\n",
       "      <td>50</td>\n",
       "    </tr>\n",
       "    <tr>\n",
       "      <td>362</td>\n",
       "      <td>analysed_3_downsampled/a366_362_66993245054703...</td>\n",
       "      <td>366</td>\n",
       "      <td>2019-06-06 09:00:36</td>\n",
       "      <td>6699324505470350336</td>\n",
       "      <td>998</td>\n",
       "      <td>50</td>\n",
       "    </tr>\n",
       "    <tr>\n",
       "      <td>363</td>\n",
       "      <td>analysed_3_downsampled/a367_363_66993247555679...</td>\n",
       "      <td>367</td>\n",
       "      <td>2019-06-06 09:01:34</td>\n",
       "      <td>6699324755567907840</td>\n",
       "      <td>998</td>\n",
       "      <td>50</td>\n",
       "    </tr>\n",
       "    <tr>\n",
       "      <td>364</td>\n",
       "      <td>analysed_3_downsampled/a368_364_66993249902464...</td>\n",
       "      <td>368</td>\n",
       "      <td>2019-06-06 09:02:29</td>\n",
       "      <td>6699324990246430720</td>\n",
       "      <td>998</td>\n",
       "      <td>50</td>\n",
       "    </tr>\n",
       "    <tr>\n",
       "      <td>365</td>\n",
       "      <td>analysed_3_downsampled/a369_365_66993252342880...</td>\n",
       "      <td>369</td>\n",
       "      <td>2019-06-06 09:03:26</td>\n",
       "      <td>6699325234288040960</td>\n",
       "      <td>998</td>\n",
       "      <td>50</td>\n",
       "    </tr>\n",
       "    <tr>\n",
       "      <td>366</td>\n",
       "      <td>analysed_3_downsampled/a370_366_66993255088670...</td>\n",
       "      <td>370</td>\n",
       "      <td>2019-06-06 09:04:30</td>\n",
       "      <td>6699325508867081216</td>\n",
       "      <td>999</td>\n",
       "      <td>50</td>\n",
       "    </tr>\n",
       "    <tr>\n",
       "      <td>367</td>\n",
       "      <td>analysed_3_downsampled/a371_367_66993257327222...</td>\n",
       "      <td>371</td>\n",
       "      <td>2019-06-06 09:05:22</td>\n",
       "      <td>6699325732722205696</td>\n",
       "      <td>998</td>\n",
       "      <td>50</td>\n",
       "    </tr>\n",
       "    <tr>\n",
       "      <td>376</td>\n",
       "      <td>analysed_3_downsampled/a379_376_66993563195296...</td>\n",
       "      <td>379</td>\n",
       "      <td>2019-06-06 11:04:03</td>\n",
       "      <td>6699356319529678848</td>\n",
       "      <td>999</td>\n",
       "      <td>50</td>\n",
       "    </tr>\n",
       "    <tr>\n",
       "      <td>377</td>\n",
       "      <td>analysed_3_downsampled/a380_377_66993566715474...</td>\n",
       "      <td>380</td>\n",
       "      <td>2019-06-06 11:05:25</td>\n",
       "      <td>6699356671547495424</td>\n",
       "      <td>999</td>\n",
       "      <td>50</td>\n",
       "    </tr>\n",
       "    <tr>\n",
       "      <td>378</td>\n",
       "      <td>analysed_3_downsampled/a381_378_66993569518818...</td>\n",
       "      <td>381</td>\n",
       "      <td>2019-06-06 11:06:31</td>\n",
       "      <td>6699356951881849856</td>\n",
       "      <td>998</td>\n",
       "      <td>50</td>\n",
       "    </tr>\n",
       "    <tr>\n",
       "      <td>379</td>\n",
       "      <td>analysed_3_downsampled/a382_379_66993573874802...</td>\n",
       "      <td>382</td>\n",
       "      <td>2019-06-06 11:08:12</td>\n",
       "      <td>6699357387480285184</td>\n",
       "      <td>998</td>\n",
       "      <td>50</td>\n",
       "    </tr>\n",
       "    <tr>\n",
       "      <td>380</td>\n",
       "      <td>analysed_3_downsampled/a383_380_66993576506346...</td>\n",
       "      <td>383</td>\n",
       "      <td>2019-06-06 11:09:13</td>\n",
       "      <td>6699357650634675200</td>\n",
       "      <td>998</td>\n",
       "      <td>50</td>\n",
       "    </tr>\n",
       "    <tr>\n",
       "      <td>381</td>\n",
       "      <td>analysed_3_downsampled/a384_381_66993579152063...</td>\n",
       "      <td>384</td>\n",
       "      <td>2019-06-06 11:10:15</td>\n",
       "      <td>6699357915206377472</td>\n",
       "      <td>997</td>\n",
       "      <td>50</td>\n",
       "    </tr>\n",
       "    <tr>\n",
       "      <td>382</td>\n",
       "      <td>analysed_3_downsampled/a385_382_66993581043150...</td>\n",
       "      <td>385</td>\n",
       "      <td>2019-06-06 11:10:59</td>\n",
       "      <td>6699358104315034624</td>\n",
       "      <td>998</td>\n",
       "      <td>50</td>\n",
       "    </tr>\n",
       "    <tr>\n",
       "      <td>383</td>\n",
       "      <td>analysed_3_downsampled/a386_383_66993583305753...</td>\n",
       "      <td>386</td>\n",
       "      <td>2019-06-06 11:11:52</td>\n",
       "      <td>6699358330575388672</td>\n",
       "      <td>999</td>\n",
       "      <td>50</td>\n",
       "    </tr>\n",
       "    <tr>\n",
       "      <td>384</td>\n",
       "      <td>analysed_3_downsampled/a387_384_66993586380541...</td>\n",
       "      <td>387</td>\n",
       "      <td>2019-06-06 11:13:03</td>\n",
       "      <td>6699358638054108160</td>\n",
       "      <td>998</td>\n",
       "      <td>50</td>\n",
       "    </tr>\n",
       "    <tr>\n",
       "      <td>385</td>\n",
       "      <td>analysed_3_downsampled/a388_385_66993588529327...</td>\n",
       "      <td>388</td>\n",
       "      <td>2019-06-06 11:13:53</td>\n",
       "      <td>6699358852932726784</td>\n",
       "      <td>999</td>\n",
       "      <td>50</td>\n",
       "    </tr>\n",
       "    <tr>\n",
       "      <td>386</td>\n",
       "      <td>analysed_3_downsampled/a389_386_66993590244318...</td>\n",
       "      <td>389</td>\n",
       "      <td>2019-06-06 11:14:33</td>\n",
       "      <td>6699359024431898624</td>\n",
       "      <td>998</td>\n",
       "      <td>50</td>\n",
       "    </tr>\n",
       "  </tbody>\n",
       "</table>\n",
       "</div>"
      ],
      "text/plain": [
       "                                                    filename  shot_number  \\\n",
       "adc_index                                                                   \n",
       "357        analysed_3_downsampled/a361_357_66993216924205...          361   \n",
       "358        analysed_3_downsampled/a362_358_66993228959639...          362   \n",
       "359        analysed_3_downsampled/a363_359_66993234087863...          363   \n",
       "360        analysed_3_downsampled/a364_360_66993237119700...          364   \n",
       "361        analysed_3_downsampled/a365_361_66993241071525...          365   \n",
       "362        analysed_3_downsampled/a366_362_66993245054703...          366   \n",
       "363        analysed_3_downsampled/a367_363_66993247555679...          367   \n",
       "364        analysed_3_downsampled/a368_364_66993249902464...          368   \n",
       "365        analysed_3_downsampled/a369_365_66993252342880...          369   \n",
       "366        analysed_3_downsampled/a370_366_66993255088670...          370   \n",
       "367        analysed_3_downsampled/a371_367_66993257327222...          371   \n",
       "376        analysed_3_downsampled/a379_376_66993563195296...          379   \n",
       "377        analysed_3_downsampled/a380_377_66993566715474...          380   \n",
       "378        analysed_3_downsampled/a381_378_66993569518818...          381   \n",
       "379        analysed_3_downsampled/a382_379_66993573874802...          382   \n",
       "380        analysed_3_downsampled/a383_380_66993576506346...          383   \n",
       "381        analysed_3_downsampled/a384_381_66993579152063...          384   \n",
       "382        analysed_3_downsampled/a385_382_66993581043150...          385   \n",
       "383        analysed_3_downsampled/a386_383_66993583305753...          386   \n",
       "384        analysed_3_downsampled/a387_384_66993586380541...          387   \n",
       "385        analysed_3_downsampled/a388_385_66993588529327...          388   \n",
       "386        analysed_3_downsampled/a389_386_66993590244318...          389   \n",
       "\n",
       "                     shot_time       shot_timestamp  sweep_len  time_len  \n",
       "adc_index                                                                 \n",
       "357        2019-06-06 08:49:41  6699321692420543488        998        50  \n",
       "358        2019-06-06 08:54:21  6699322895963984896        997        50  \n",
       "359        2019-06-06 08:56:21  6699323408786381824        998        50  \n",
       "360        2019-06-06 08:57:31  6699323711970046976        999        50  \n",
       "361        2019-06-06 08:59:03  6699324107152520192        998        50  \n",
       "362        2019-06-06 09:00:36  6699324505470350336        998        50  \n",
       "363        2019-06-06 09:01:34  6699324755567907840        998        50  \n",
       "364        2019-06-06 09:02:29  6699324990246430720        998        50  \n",
       "365        2019-06-06 09:03:26  6699325234288040960        998        50  \n",
       "366        2019-06-06 09:04:30  6699325508867081216        999        50  \n",
       "367        2019-06-06 09:05:22  6699325732722205696        998        50  \n",
       "376        2019-06-06 11:04:03  6699356319529678848        999        50  \n",
       "377        2019-06-06 11:05:25  6699356671547495424        999        50  \n",
       "378        2019-06-06 11:06:31  6699356951881849856        998        50  \n",
       "379        2019-06-06 11:08:12  6699357387480285184        998        50  \n",
       "380        2019-06-06 11:09:13  6699357650634675200        998        50  \n",
       "381        2019-06-06 11:10:15  6699357915206377472        997        50  \n",
       "382        2019-06-06 11:10:59  6699358104315034624        998        50  \n",
       "383        2019-06-06 11:11:52  6699358330575388672        999        50  \n",
       "384        2019-06-06 11:13:03  6699358638054108160        998        50  \n",
       "385        2019-06-06 11:13:53  6699358852932726784        999        50  \n",
       "386        2019-06-06 11:14:33  6699359024431898624        998        50  "
      ]
     },
     "execution_count": 8,
     "metadata": {},
     "output_type": "execute_result"
    }
   ],
   "source": [
    "analysed_infos_df.loc[indices]"
   ]
  },
  {
   "cell_type": "code",
   "execution_count": 10,
   "metadata": {},
   "outputs": [
    {
     "name": "stdout",
     "output_type": "stream",
     "text": [
      "<xarray.Dataset>\n",
      "Dimensions:                 (shot_number: 523, ts_radial_pos: 46)\n",
      "Coordinates:\n",
      "  * shot_number             (shot_number) int32 0 1 2 3 4 ... 519 520 521 522\n",
      "    ts_number               (shot_number) float64 ...\n",
      "    ts_timestamp            (shot_number) float64 ...\n",
      "    ts_time                 (shot_number) datetime64[ns] ...\n",
      "    adc_index               (shot_number) float64 ...\n",
      "    adc_time                (shot_number) datetime64[ns] ...\n",
      "  * ts_radial_pos           (ts_radial_pos) float64 -36.47 -34.8 ... 37.14 38.82\n",
      "Data variables:\n",
      "    adc_filename            (shot_number) object ...\n",
      "    ts_density              (shot_number, ts_radial_pos) float64 ...\n",
      "    ts_temperature          (shot_number, ts_radial_pos) float64 ...\n",
      "    ts_d_density            (shot_number, ts_radial_pos) float64 ...\n",
      "    ts_d_temperature        (shot_number, ts_radial_pos) float64 ...\n",
      "    adc_folder              (shot_number) object ...\n",
      "    adc_calibration_index   (shot_number) object ...\n",
      "    adc_4_probe             (shot_number) object ...\n",
      "    adc_5_probe             (shot_number) object ...\n",
      "    ts_temp_max             (shot_number) float64 ...\n",
      "    ts_dens_max             (shot_number) float64 ...\n",
      "    shot_end_time           (shot_number) datetime64[ns] ...\n",
      "    ts_fl                   (shot_number) bool ...\n",
      "    shot_time               (shot_number) datetime64[ns] ...\n",
      "    shot_source_current     (shot_number) float64 ...\n",
      "    shot_b_field            (shot_number) float64 ...\n",
      "    shot_tilt               (shot_number) float64 ...\n",
      "    shot_target_pos         (shot_number) float64 ...\n",
      "    shot_target_rot         (shot_number) float64 ...\n",
      "    shot_target_pumpspeed   (shot_number) int32 ...\n",
      "    shot_source_pumpspeed   (shot_number) int32 ...\n",
      "    shot_heating_pumpspeed  (shot_number) int32 ...\n",
      "    shot_source_pos         (shot_number) float64 ...\n",
      "    shot_deuterium_gf       (shot_number) float64 ...\n",
      "    shot_hydrogen_gf        (shot_number) float64 ...\n",
      "    shot_helium_gf          (shot_number) float64 ...\n",
      "    shot_hydrogen_puffed    (shot_number) float64 ...\n",
      "    shot_helium_puffed      (shot_number) float64 ...\n",
      "    adc_timestamp           (shot_number) float64 ...\n",
      "    adc_4_coax              (shot_number) float64 ...\n",
      "    adc_4_shunt_resistance  (shot_number) float64 ...\n",
      "    adc_5_coax              (shot_number) float64 ...\n",
      "    adc_5_shunt_resistance  (shot_number) float64 ...\n",
      "    adc_calibration_fl      (shot_number) float64 ...\n",
      "    shot_fl                 (shot_number) float64 ...\n",
      "    acquisition_length      (shot_number) float64 ...\n",
      "    adc_end_time            (shot_number) datetime64[ns] ...\n",
      "    adc_end_timestamp       (shot_number) float64 ...\n",
      "    adc_freqs               (shot_number) float64 ...\n"
     ]
    }
   ],
   "source": [
    "os.chdir('/home/jleland/data/external/magnum/')\n",
    "meta_data_ds = xr.open_dataset('all_meta_data.nc')\n",
    "print(meta_data_ds)"
   ]
  },
  {
   "cell_type": "markdown",
   "metadata": {},
   "source": [
    "# Start Analysis of a certain selection of files"
   ]
  },
  {
   "cell_type": "code",
   "execution_count": 11,
   "metadata": {},
   "outputs": [],
   "source": [
    "def preprocess_sel(ds, sweep=slice(0,997)):\n",
    "    return ds.reset_index('time', drop=True).sel(sweep=sweep)\n",
    "\n",
    "def preprocess_average(ds):\n",
    "    ds = ds.reset_index('time', drop=True)\n",
    "    ds_avg = ds.mean('sweep')\n",
    "    ds_avg = ds_avg.assign({'d_current': ds.std('sweep')['current']})\n",
    "    return ds_avg"
   ]
  },
  {
   "cell_type": "code",
   "execution_count": 12,
   "metadata": {},
   "outputs": [],
   "source": [
    "files_oi = analysed_infos_df.loc[indices]['filename'].values\n",
    "shot_numbers = analysed_infos_df.loc[indices]['shot_number'].values\n",
    "shot_numbers_da = xr.DataArray(shot_numbers, dims=['shot_number'], name='shot_number')"
   ]
  },
  {
   "cell_type": "markdown",
   "metadata": {},
   "source": [
    "# Axial scan "
   ]
  },
  {
   "cell_type": "code",
   "execution_count": 25,
   "metadata": {},
   "outputs": [],
   "source": [
    "# linear_positions = np.flip(np.arange(-5,205,5))\n",
    "# linear_positions[-1] = 250\n",
    "# linear_pos_da = xr.DataArray(linear_positions, dims=['shot_number'], name='linear_pos')"
   ]
  },
  {
   "cell_type": "code",
   "execution_count": 9,
   "metadata": {},
   "outputs": [
    {
     "data": {
      "text/plain": [
       "<xarray.Dataset>\n",
       "Dimensions:      (direction: 2, probe: 2, shot_number: 43, time: 50)\n",
       "Coordinates:\n",
       "  * probe        (probe) object 'S' 'L'\n",
       "  * direction    (direction) object 'up' 'down'\n",
       "  * shot_number  (shot_number) int64 127 143 144 145 146 ... 180 181 182 183 184\n",
       "Dimensions without coordinates: time\n",
       "Data variables:\n",
       "    voltage      (shot_number, probe, direction, time) float64 6.396 ... -94.8\n",
       "    current      (shot_number, probe, direction, time) float64 0.3164 ... -0.01146\n",
       "    shot_time    (shot_number, probe, direction, time) float64 5.999 ... 4.494\n",
       "    start_time   (shot_number, probe, direction) float64 5.999 6.004 ... 4.494\n",
       "    d_current    (shot_number, probe, direction, time) float64 0.04272 ... 0.003078"
      ]
     },
     "execution_count": 9,
     "metadata": {},
     "output_type": "execute_result"
    }
   ],
   "source": [
    "combined_ds = xr.open_mfdataset(files_oi, concat_dim=shot_numbers_da, preprocess=preprocess_average, parallel=True, combine='nested')\n",
    "combined_ds = combined_ds.load()\n",
    "combined_ds"
   ]
  },
  {
   "cell_type": "code",
   "execution_count": 10,
   "metadata": {},
   "outputs": [
    {
     "data": {
      "text/plain": [
       "<xarray.DataArray 'shot_target_pos' (shot_number: 43)>\n",
       "array([200., 200., 195., 190., 185., 180., 175., 170., 165., 160., 155.,\n",
       "       150., 145., 140., 135., 130., 125., 120., 115., 110., 105., 100.,\n",
       "        95.,  90.,  85.,  80.,  75.,  70.,  65.,  60.,  55.,  50.,  45.,\n",
       "        40.,  35.,  30.,  25.,  20.,  15.,  10.,   5.,  -0., 250.])\n",
       "Coordinates:\n",
       "  * shot_number   (shot_number) int32 127 143 144 145 146 ... 181 182 183 184\n",
       "    ts_number     (shot_number) float64 ...\n",
       "    ts_timestamp  (shot_number) float64 ...\n",
       "    ts_time       (shot_number) datetime64[ns] ...\n",
       "    adc_index     (shot_number) float64 ...\n",
       "    adc_time      (shot_number) datetime64[ns] ..."
      ]
     },
     "execution_count": 10,
     "metadata": {},
     "output_type": "execute_result"
    }
   ],
   "source": [
    "axial_scan_ds = xr.merge([meta_data_ds.sel(shot_number=shot_numbers_da), combined_ds.rename({'shot_time': 'sweep_time'})])\n",
    "axial_scan_ds['shot_target_pos'] = (axial_scan_ds['shot_target_pos'] * -1000).round()\n",
    "axial_scan_ds['shot_target_pos']"
   ]
  },
  {
   "cell_type": "code",
   "execution_count": 11,
   "metadata": {},
   "outputs": [
    {
     "name": "stderr",
     "output_type": "stream",
     "text": [
      "/home/jleland/Coding/Environments/python3.6/lib/python3.6/site-packages/xarray/core/nputils.py:223: RuntimeWarning: All-NaN slice encountered\n",
      "  result = getattr(npmodule, name)(values, axis=axis, **kwargs)\n",
      "/home/jleland/Coding/Environments/python3.6/lib/python3.6/site-packages/xarray/core/nputils.py:223: RuntimeWarning: All-NaN slice encountered\n",
      "  result = getattr(npmodule, name)(values, axis=axis, **kwargs)\n"
     ]
    }
   ],
   "source": [
    "fig, ax = plt.subplots(2)\n",
    "((axial_scan_ds.max('ts_radial_pos').sel(probe='S', direction='up').set_coords('voltage')['current'] - 0.025)).plot.line(x='voltage', hue='shot_number', ax=ax[0])\n",
    "((axial_scan_ds.max('ts_radial_pos').sel(probe='L', direction='up').set_coords('voltage')['current'] - 0.025)).plot.line(x='voltage', hue='shot_number', ax=ax[1])\n",
    "ax[0].axhline(0, linestyle='--', color='grey', linewidth=1)\n",
    "ax[1].axhline(0, linestyle='--', color='grey', linewidth=1)\n",
    "plt.show()"
   ]
  },
  {
   "cell_type": "code",
   "execution_count": 12,
   "metadata": {},
   "outputs": [],
   "source": [
    "ts_ds = axial_scan_ds.sel(shot_number=127)\n",
    "colors = {'S': 'red', 'L': 'blue'}\n",
    "\n",
    "fig, ax = plt.subplots(2)\n",
    "ax[0].set_title('Temperature')\n",
    "# ax[0].errorbar(helium_anglescan_ds.ts_radial_pos, ts_temp, yerr=helium_anglescan_ds.ts_d_temperature.mean('shot_number'), color='silver', ecolor='silver')\n",
    "ax[0].errorbar(ts_ds.ts_radial_pos, ts_ds.ts_temperature, yerr=ts_ds.ts_d_temperature, color='k')\n",
    "ax[1].errorbar(ts_ds.ts_radial_pos, ts_ds.ts_density, yerr=ts_ds.ts_d_density, color='k')\n",
    "# ts_temp.plot.line(ax=ax[0])\n",
    "# ts_dens.plot.line(ax=ax[1])\n",
    "\n",
    "pos_uncertainty = 1.5\n",
    "ts_probe_temps = {}\n",
    "ts_probe_denss = {}\n",
    "for probe_label, probe_pos in {'L':6, 'S':-4}.items():\n",
    "    probe_pos_limits = [probe_pos, probe_pos - pos_uncertainty, probe_pos + pos_uncertainty]\n",
    "    ts_probe_temps[probe_label] = ts_ds.ts_temperature.interp(ts_radial_pos=probe_pos_limits).values\n",
    "    ts_probe_denss[probe_label] = ts_ds.ts_density.interp(ts_radial_pos=probe_pos_limits).values\n",
    "    for i in [0, 1]:\n",
    "        ax[i].axvline(x=probe_pos, color=colors[probe_label], linewidth=1, linestyle='dashed', label=probe_label)\n",
    "        ax[i].axvspan(probe_pos_limits[1], probe_pos_limits[2], color=colors[probe_label], alpha=0.25)\n",
    "        ax[i].legend()\n",
    "plt.show()\n"
   ]
  },
  {
   "cell_type": "code",
   "execution_count": 38,
   "metadata": {},
   "outputs": [
    {
     "name": "stdout",
     "output_type": "stream",
     "text": [
      "{'L': array([0.91952769, 1.0908144 , 0.80458021]), 'S': array([2.21503419, 1.64249005, 2.73242128])}\n",
      "{'L': array([9.96705148e+18, 1.18529801e+19, 9.12908892e+18]), 'S': array([1.47379694e+19, 1.43947058e+19, 1.54556819e+19])}\n"
     ]
    }
   ],
   "source": [
    "# probe_temps = {}\n",
    "# probe_denss = {}\n",
    "# for probe, probe_pos in {'L':6, 'S':-4}.items():\n",
    "#     probe_pos_limits = [probe_pos, probe_pos - 2, probe_pos + 2]\n",
    "#     probe_temps[probe] = ts_ds.ts_temperature.interp(ts_radial_pos=probe_pos_limits).values\n",
    "#     probe_denss[probe] = ts_ds.ts_density.interp(ts_radial_pos=probe_pos_limits).values\n",
    "    \n",
    "print(ts_probe_temps)\n",
    "print(ts_probe_denss)"
   ]
  },
  {
   "cell_type": "code",
   "execution_count": 37,
   "metadata": {},
   "outputs": [
    {
     "name": "stdout",
     "output_type": "stream",
     "text": [
      "(2,)\n"
     ]
    },
    {
     "name": "stderr",
     "output_type": "stream",
     "text": [
      "/home/jleland/Coding/Environments/python3.6/lib/python3.6/site-packages/ipykernel_launcher.py:59: MatplotlibDeprecationWarning: Support for passing a (n, 1)-shaped error array to errorbar() is deprecated since Matplotlib 3.1 and will be removed in 3.3; pass a 1D array instead.\n"
     ]
    },
    {
     "data": {
      "text/plain": [
       "<matplotlib.legend.Legend at 0x7f1db3848630>"
      ]
     },
     "execution_count": 37,
     "metadata": {},
     "output_type": "execute_result"
    }
   ],
   "source": [
    "fig, axes = plt.subplots(2)\n",
    "magnum_probes = lp.MagnumProbes()\n",
    "print(np.shape(axes))\n",
    "\n",
    "iv_fitter = fts.FullIVFitter()\n",
    "\n",
    "denss = {'S': [], 'L': []}\n",
    "ts_denss = {'S': [], 'L': []}\n",
    "d_denss = {'S': [], 'L': []}\n",
    "temps = {'S': [], 'L': []}\n",
    "d_temps = {'S': [], 'L': []}\n",
    "for i, probe in enumerate(denss.keys()):\n",
    "    for shot_number in shot_numbers:\n",
    "        shot_ds = axial_scan_ds.max('ts_radial_pos').sel(probe=probe, shot_number=shot_number, direction='up')\n",
    "#         shot_ds = shot_ds.where(np.isfinite(shot_ds.current), drop=True)\n",
    "#         axes[i][0].plot(shot_ds['voltage'], shot_ds['current'], label=shot_ds['linear_pos'].values)\n",
    "#         axes[i][0].legend()\n",
    "        \n",
    "        shot_iv = iv.IVData(shot_ds['voltage'].values,\n",
    "                            -(shot_ds['current'].values),\n",
    "                            shot_ds['time'].values,\n",
    "                            sigma=shot_ds['d_current'],\n",
    "                            estimate_error_fl=False)\n",
    "        try:\n",
    "            plot_iv_fit_fl = shot_number in [157, 146, 184]\n",
    "#             print(shot_number, probe, plot_iv_fit_fl)\n",
    "            shot_iv.trim_beg = -0.05\n",
    "            shot_iv.trim_end = 0.75\n",
    "#             shot_fit = shot_iv.multi_fit(sat_region=-45, plot_fl=False)\n",
    "            shot_iv_trimmed = shot_iv.get_below_floating()\n",
    "            shot_fit = iv_fitter.fit_iv_data(shot_iv_trimmed, sigma=shot_iv_trimmed['sigma'])\n",
    "        \n",
    "            if shot_fit.get_temp_err() > 2 * shot_fit.get_temp():\n",
    "                raise RuntimeError()\n",
    "            denss[probe].append(magnum_probes[probe].get_density(shot_fit.get_isat(), shot_fit.get_temp(), alpha=np.radians(10)))\n",
    "            ts_denss[probe].append(magnum_probes[probe].get_density(shot_fit.get_isat(), ts_probe_temps[probe][0], alpha=np.radians(10)))\n",
    "            d_denss[probe].append(magnum_probes[probe].get_d_density(\n",
    "                shot_fit.get_isat(), \n",
    "                shot_fit.get_isat_err(), \n",
    "                shot_fit.get_temp(), \n",
    "                shot_fit.get_temp_err(),\n",
    "                alpha=np.radians(10.0)\n",
    "            ))\n",
    "            temps[probe].append(shot_fit.get_temp())\n",
    "            d_temps[probe].append(shot_fit.get_temp_err())\n",
    "        except RuntimeError:\n",
    "            print(f'Error on {probe} at shot {shot_number}')\n",
    "            fig, ax = plt.subplots()\n",
    "            shot_iv.plot(ax=ax, ecolor='silver', color='silver')\n",
    "            shot_iv.get_below_floating().plot(ax=ax)\n",
    "            ax.set_title(f'{probe}-{shot_number} \\t' + r'$x_{linear} = $' + f'{shot_ds[\"shot_target_pos\"].values}')\n",
    "            \n",
    "            denss[probe].append(np.nan)\n",
    "            ts_denss[probe].append(np.nan)\n",
    "            d_denss[probe].append(np.nan)\n",
    "            temps[probe].append(np.nan)\n",
    "            d_temps[probe].append(np.nan)\n",
    "    axes[0].errorbar(axial_scan_ds.max('ts_radial_pos')['shot_target_pos'].values, denss[probe], yerr=d_denss[probe], fmt='+', label=probe, \n",
    "                     color=colors[probe], ecolor=colors[probe])\n",
    "    axes[0].plot(axial_scan_ds.max('ts_radial_pos')['shot_target_pos'].values, ts_denss[probe], '.', label=probe, color=colors[probe])\n",
    "    axes[1].errorbar(axial_scan_ds.max('ts_radial_pos')['shot_target_pos'].values, temps[probe], yerr=d_temps[probe], fmt='+', label=probe, \n",
    "                     color=colors[probe], ecolor=colors[probe])\n",
    "\n",
    "\n",
    "axes[0].set_title('Density and Temperature along beam Axis')\n",
    "# axes[1].set_title('Temperature along beam')\n",
    "axes[0].set_ylabel(r'$n_e$ (m$^{-3}$)')\n",
    "axes[1].set_ylabel(r'$T_e$ (eV)')\n",
    "axes[1].set_xlabel(r'Linear position of Target (mm from TS)')\n",
    "axes[0].legend()\n",
    "axes[1].legend()"
   ]
  },
  {
   "cell_type": "code",
   "execution_count": 50,
   "metadata": {},
   "outputs": [
    {
     "name": "stdout",
     "output_type": "stream",
     "text": [
      "{'S': [array([1.05619564e+19]), array([7.71270647e+18]), array([7.76227512e+18]), array([7.71751108e+18]), array([7.81465039e+18]), array([7.82275843e+18]), array([7.77819674e+18]), array([7.81873568e+18]), array([7.77682753e+18]), array([7.87950097e+18]), array([7.84360251e+18]), array([7.76702831e+18]), array([7.67199093e+18]), array([7.72941486e+18]), array([7.76636413e+18]), array([7.72344286e+18]), array([7.6507754e+18]), array([7.67029871e+18]), array([7.65999918e+18]), array([7.67036544e+18]), array([7.58442161e+18]), array([7.53110343e+18]), array([7.44063068e+18]), array([7.45708047e+18]), array([7.49939356e+18]), array([7.50262557e+18]), array([7.42308544e+18]), array([7.38352626e+18]), array([7.28012134e+18]), array([7.2880069e+18]), array([7.27235633e+18]), array([7.23912203e+18]), array([7.12851697e+18]), array([7.097785e+18]), array([7.08125114e+18]), array([7.08613147e+18]), array([9.00508308e+18]), array([9.07307897e+18]), array([9.01495385e+18]), array([8.9479981e+18]), array([8.84580819e+18]), array([8.73815081e+18]), array([9.37029926e+18])], 'L': [array([3.40753479e+18]), array([3.06365726e+18]), array([3.06843014e+18]), array([3.07213722e+18]), nan, nan, nan, nan, nan, array([3.10643428e+18]), array([3.10126511e+18]), nan, nan, nan, nan, nan, nan, nan, nan, nan, nan, nan, nan, nan, array([3.32397749e+18]), array([3.33442604e+18]), array([3.36678737e+18]), nan, array([3.38909361e+18]), nan, nan, array([3.45385277e+18]), nan, array([3.42161616e+18]), nan, array([3.46036973e+18]), array([3.5178366e+18]), array([3.8405392e+18]), array([3.40451411e+18]), array([3.89699268e+18]), array([3.81934384e+18]), array([2.68132415e+18]), array([3.33025878e+18])]}\n"
     ]
    }
   ],
   "source": [
    "print(ts_denss)"
   ]
  },
  {
   "cell_type": "code",
   "execution_count": 39,
   "metadata": {},
   "outputs": [
    {
     "name": "stderr",
     "output_type": "stream",
     "text": [
      "/home/jleland/Coding/Environments/python3.6/lib/python3.6/site-packages/xarray/core/nputils.py:223: RuntimeWarning: All-NaN slice encountered\n",
      "  result = getattr(npmodule, name)(values, axis=axis, **kwargs)\n",
      "/home/jleland/Coding/Environments/python3.6/lib/python3.6/site-packages/ipykernel_launcher.py:21: MatplotlibDeprecationWarning: Support for passing a (n, 1)-shaped error array to errorbar() is deprecated since Matplotlib 3.1 and will be removed in 3.3; pass a 1D array instead.\n"
     ]
    }
   ],
   "source": [
    "fig, ax = plt.subplots(2, 2, sharey='row', sharex='col')\n",
    "\n",
    "ax[0][0].errorbar(ts_ds.ts_radial_pos, ts_ds.ts_temperature, yerr=ts_ds.ts_d_temperature, color='k', label='TS Temp')\n",
    "ax[1][0].errorbar(ts_ds.ts_radial_pos, ts_ds.ts_density, yerr=ts_ds.ts_d_density, color='k', label='TS Temp')\n",
    "\n",
    "for probe_label, probe_pos in {'L':6, 'S':-4}.items():\n",
    "    probe_pos_limits = [probe_pos, probe_pos - pos_uncertainty, probe_pos + pos_uncertainty]\n",
    "    for i in [0, 1]:\n",
    "        ax[i][0].axvline(x=probe_pos, color=colors[probe_label], linewidth=1, linestyle='dashed', label=probe_label)\n",
    "        ax[i][0].axvspan(probe_pos_limits[1], probe_pos_limits[2], color=colors[probe_label], alpha=0.25)\n",
    "        ax[i][0].legend()\n",
    "\n",
    "for i, probe in enumerate(denss.keys()):\n",
    "    ax[0][1].errorbar(axial_scan_ds.max('ts_radial_pos')['shot_target_pos'].values, temps[probe], yerr=d_temps[probe], fmt='+', label=probe, \n",
    "                     color=colors[probe], ecolor=colors[probe])\n",
    "    ax[0][1].axhline(y=ts_probe_temps[probe][0], color=colors[probe], linewidth=1, linestyle='dashed', label=f'TS-{probe}')\n",
    "    ax[0][1].axhspan(ts_probe_temps[probe][1], ts_probe_temps[probe][2], color=colors[probe], alpha=0.25)\n",
    "\n",
    "    \n",
    "    ax[1][1].errorbar(axial_scan_ds.max('ts_radial_pos')['shot_target_pos'].values, denss[probe], yerr=d_denss[probe], fmt='+', label=probe, \n",
    "                     color=colors[probe], ecolor=colors[probe])\n",
    "    ax[1][1].axhline(y=ts_probe_denss[probe][0], color=colors[probe], linewidth=1, linestyle='dashed', label=f'TS-{probe}')\n",
    "    ax[1][1].axhspan(ts_probe_denss[probe][1], ts_probe_denss[probe][2], color=colors[probe], alpha=0.25)\n",
    "\n",
    "\n",
    "# ax[0][1].set_title('Density and Temperature along beam Axis')\n",
    "# axes[1].set_title('Temperature along beam')\n",
    "\n",
    "# ax[0][0].set_ylim(-0.05, 4.1)\n",
    "ax[0][0].set_ylabel(r'$T_e$ (eV)')\n",
    "# ax[1][0].set_ylim(-1e17, 2e19)\n",
    "ax[1][0].set_ylabel(r'$n_e$ (m$^{-3}$)')\n",
    "\n",
    "ax[1][0].set_xlabel(r'TS Radial Position (mm)')\n",
    "ax[1][1].set_xlabel(r'Linear position of Target (mm from TS)')\n",
    "ax[0][1].legend()\n",
    "ax[1][1].legend()\n",
    "\n",
    "plt.tight_layout()\n",
    "plt.show()"
   ]
  },
  {
   "cell_type": "code",
   "execution_count": 45,
   "metadata": {},
   "outputs": [
    {
     "name": "stdout",
     "output_type": "stream",
     "text": [
      "(2,)\n"
     ]
    },
    {
     "name": "stderr",
     "output_type": "stream",
     "text": [
      "/home/jleland/Coding/Environments/python3.6/lib/python3.6/site-packages/xarray/core/nputils.py:220: RuntimeWarning: All-NaN slice encountered\n",
      "  result = getattr(npmodule, name)(values, axis=axis, **kwds)\n"
     ]
    }
   ],
   "source": [
    "fig, axes = plt.subplots(2)\n",
    "print(np.shape(axes))\n",
    "results = {'S': [], 'L': []}\n",
    "temps = {'S': [], 'L': []}\n",
    "for i, probe in enumerate(results.keys()):\n",
    "    for shot_number in shot_numbers:\n",
    "        shot_ds = axial_scan_ds.max('ts_radial_pos').sel(probe=probe, shot_number=shot_number, direction='up')\n",
    "        axes[i].plot(shot_ds['voltage'], shot_ds['current'], label=shot_ds['shot_target_pos'].values)\n",
    "        axes[i].legend()\n",
    "        axes[i].set_title(f\"Probe {probe}\")"
   ]
  },
  {
   "cell_type": "markdown",
   "metadata": {},
   "source": [
    "# Analysis of Helium shot @120A, 5slm He, 0.8T"
   ]
  },
  {
   "cell_type": "code",
   "execution_count": 19,
   "metadata": {},
   "outputs": [],
   "source": [
    "os.chdir('/home/jleland/Data')"
   ]
  },
  {
   "cell_type": "code",
   "execution_count": 10,
   "metadata": {},
   "outputs": [],
   "source": [
    "os.chdir('/home/jleland/Data/external/magnum')"
   ]
  },
  {
   "cell_type": "code",
   "execution_count": 102,
   "metadata": {},
   "outputs": [
    {
     "data": {
      "text/plain": [
       "<xarray.Dataset>\n",
       "Dimensions:                 (shot_number: 22)\n",
       "Coordinates:\n",
       "  * shot_number             (shot_number) int32 232 233 234 235 ... 254 255 256\n",
       "    ts_number               (shot_number) float64 ...\n",
       "    ts_timestamp            (shot_number) float64 ...\n",
       "    ts_time                 (shot_number) datetime64[ns] ...\n",
       "    adc_index               (shot_number) float64 ...\n",
       "    adc_time                (shot_number) datetime64[ns] ...\n",
       "Data variables:\n",
       "    adc_filename            (shot_number) object '2019-06-04 15h 22m 54s TT_06698665325687428715.adc' ... '2019-06-04 16h 43m 48s TT_06698686205167668612.adc'\n",
       "    ts_density              (shot_number) float64 8.995e+19 ... 6.935e+19\n",
       "    ts_temperature          (shot_number) float64 8.313 8.832 ... 7.388 8.18\n",
       "    ts_d_density            (shot_number) float64 0.0 0.0 0.0 ... 0.0 0.0 0.0\n",
       "    ts_d_temperature        (shot_number) float64 0.0 0.0 0.0 ... 0.0 0.0 0.0\n",
       "    adc_folder              (shot_number) object '2019-06-04_Leland/' ... '2019-06-04_Leland/'\n",
       "    adc_calibration_index   (shot_number) object '233' '233' ... '260' '260'\n",
       "    adc_4_probe             (shot_number) object 'S' 'S' 'S' 'S' ... 'R' 'R' 'R'\n",
       "    adc_5_probe             (shot_number) object 'L' 'L' 'L' 'L' ... 'B' 'B' 'B'\n",
       "    ts_temp_max             (shot_number) float64 8.313 8.832 ... 7.388 8.18\n",
       "    ts_dens_max             (shot_number) float64 8.995e+19 ... 6.935e+19\n",
       "    shot_end_time           (shot_number) datetime64[ns] 2019-06-04T14:22:50 ... 2019-06-04T15:43:51\n",
       "    ts_fl                   (shot_number) bool True True True ... True True True\n",
       "    shot_time               (shot_number) datetime64[ns] 2019-06-04T14:22:34 ... 2019-06-04T15:43:35\n",
       "    shot_source_current     (shot_number) float64 99.95 99.95 ... 100.1 99.98\n",
       "    shot_b_field            (shot_number) float64 1.2 1.2 1.2 ... 1.2 1.2 1.2\n",
       "    shot_tilt               (shot_number) float64 9.985 9.0 ... 1.003 0.01013\n",
       "    shot_target_pos         (shot_number) float64 -0.2 -0.2 -0.2 ... -0.2 -0.2\n",
       "    shot_target_rot         (shot_number) float64 -89.94 -89.94 ... -89.94\n",
       "    shot_target_pumpspeed   (shot_number) int32 82 82 82 82 82 ... 82 82 82 82\n",
       "    shot_source_pumpspeed   (shot_number) int32 82 82 82 82 82 ... 82 82 82 82\n",
       "    shot_heating_pumpspeed  (shot_number) int32 82 82 82 82 82 ... 82 82 82 82\n",
       "    shot_source_pos         (shot_number) float64 1.35 1.35 1.35 ... 1.35 1.35\n",
       "    shot_deuterium_gf       (shot_number) float64 0.01115 0.0039 ... 0.02163\n",
       "    shot_hydrogen_gf        (shot_number) float64 0.0 0.0 0.0 ... 0.0 0.0 0.0\n",
       "    shot_helium_gf          (shot_number) float64 8.441 8.443 ... 8.443 8.447\n",
       "    shot_hydrogen_puffed    (shot_number) float64 -0.02426 -0.01827 ... -0.01579\n",
       "    shot_helium_puffed      (shot_number) float64 -0.04849 -0.04957 ... -0.05487\n",
       "    adc_timestamp           (shot_number) float64 6.699e+18 ... 6.699e+18\n",
       "    adc_4_coax              (shot_number) float64 1.0 1.0 1.0 ... 1.0 1.0 1.0\n",
       "    adc_4_shunt_resistance  (shot_number) float64 1.0 1.0 1.0 ... 1.0 1.0 1.0\n",
       "    adc_5_coax              (shot_number) float64 2.0 2.0 2.0 ... 2.0 2.0 2.0\n",
       "    adc_5_shunt_resistance  (shot_number) float64 1.0 1.0 1.0 ... 1.0 1.0 1.0\n",
       "    adc_calibration_fl      (shot_number) float64 0.0 0.0 0.0 ... 0.0 0.0 0.0\n",
       "    shot_fl                 (shot_number) float64 1.0 1.0 1.0 ... 1.0 1.0 1.0\n",
       "    acquisition_length      (shot_number) float64 15.0 8.0 8.0 ... 8.0 8.0 8.0\n",
       "    adc_end_time            (shot_number) datetime64[ns] 2019-06-04T14:22:54 ... 2019-06-04T15:43:48\n",
       "    adc_end_timestamp       (shot_number) float64 6.699e+18 ... 6.699e+18\n",
       "    adc_freqs               (shot_number) float64 1e+06 1e+06 ... 1e+06 1e+06"
      ]
     },
     "execution_count": 102,
     "metadata": {},
     "output_type": "execute_result"
    }
   ],
   "source": [
    "helium_meta_ds = meta_data_ds.sel(shot_number=shot_numbers)\n",
    "helium_meta_ds.max('ts_radial_pos')"
   ]
  },
  {
   "cell_type": "code",
   "execution_count": 103,
   "metadata": {},
   "outputs": [],
   "source": [
    "tilt_da = helium_meta_ds['shot_tilt'].round()#.swap_dims({'shot_number':'shot_tilt'})"
   ]
  },
  {
   "cell_type": "code",
   "execution_count": 104,
   "metadata": {},
   "outputs": [
    {
     "data": {
      "text/plain": [
       "<xarray.Dataset>\n",
       "Dimensions:      (direction: 2, probe: 4, shot_number: 22, time: 50)\n",
       "Coordinates:\n",
       "  * probe        (probe) object 'B' 'L' 'R' 'S'\n",
       "  * direction    (direction) object 'up' 'down'\n",
       "  * shot_number  (shot_number) int64 232 233 234 235 236 ... 252 253 254 255 256\n",
       "Dimensions without coordinates: time\n",
       "Data variables:\n",
       "    voltage      (shot_number, probe, direction, time) float64 nan nan ... nan\n",
       "    current      (shot_number, probe, direction, time) float64 nan nan ... nan\n",
       "    shot_time    (shot_number, probe, direction, time) float64 nan nan ... nan\n",
       "    start_time   (shot_number, probe, direction) float64 nan nan ... nan nan\n",
       "    d_current    (shot_number, probe, direction, time) float64 nan nan ... nan"
      ]
     },
     "execution_count": 104,
     "metadata": {},
     "output_type": "execute_result"
    }
   ],
   "source": [
    "combined_ds = xr.open_mfdataset(files_oi, concat_dim=shot_numbers_da, preprocess=preprocess_average, parallel=True, combine='nested')\n",
    "combined_ds = combined_ds.load()\n",
    "combined_ds"
   ]
  },
  {
   "cell_type": "code",
   "execution_count": 105,
   "metadata": {},
   "outputs": [
    {
     "data": {
      "text/plain": [
       "<xarray.Dataset>\n",
       "Dimensions:                 (direction: 2, probe: 4, shot_number: 22, time: 50, ts_radial_pos: 46)\n",
       "Coordinates:\n",
       "  * probe                   (probe) object 'B' 'L' 'R' 'S'\n",
       "  * direction               (direction) object 'up' 'down'\n",
       "  * shot_number             (shot_number) int32 232 233 234 235 ... 254 255 256\n",
       "    ts_number               (shot_number) float64 ...\n",
       "    ts_timestamp            (shot_number) float64 ...\n",
       "    ts_time                 (shot_number) datetime64[ns] ...\n",
       "    adc_index               (shot_number) float64 ...\n",
       "    adc_time                (shot_number) datetime64[ns] ...\n",
       "  * ts_radial_pos           (ts_radial_pos) float64 -36.47 -34.8 ... 37.14 38.82\n",
       "    tilt                    (shot_number) float64 10.0 9.0 8.0 ... 2.0 1.0 0.0\n",
       "Dimensions without coordinates: time\n",
       "Data variables:\n",
       "    voltage                 (shot_number, probe, direction, time) float64 nan ... nan\n",
       "    current                 (shot_number, probe, direction, time) float64 nan ... nan\n",
       "    shot_time               (shot_number, probe, direction, time) float64 nan ... nan\n",
       "    start_time              (shot_number, probe, direction) float64 nan ... nan\n",
       "    d_current               (shot_number, probe, direction, time) float64 nan ... nan\n",
       "    adc_filename            (shot_number) object '2019-06-04 15h 22m 54s TT_06698665325687428715.adc' ... '2019-06-04 16h 43m 48s TT_06698686205167668612.adc'\n",
       "    ts_density              (shot_number, ts_radial_pos) float64 nan nan ... nan\n",
       "    ts_temperature          (shot_number, ts_radial_pos) float64 nan nan ... nan\n",
       "    ts_d_density            (shot_number, ts_radial_pos) float64 nan nan ... nan\n",
       "    ts_d_temperature        (shot_number, ts_radial_pos) float64 nan nan ... nan\n",
       "    adc_folder              (shot_number) object '2019-06-04_Leland/' ... '2019-06-04_Leland/'\n",
       "    adc_calibration_index   (shot_number) object '233' '233' ... '260' '260'\n",
       "    adc_4_probe             (shot_number) object 'S' 'S' 'S' 'S' ... 'R' 'R' 'R'\n",
       "    adc_5_probe             (shot_number) object 'L' 'L' 'L' 'L' ... 'B' 'B' 'B'\n",
       "    ts_temp_max             (shot_number) float64 8.313 8.832 ... 7.388 8.18\n",
       "    ts_dens_max             (shot_number) float64 8.995e+19 ... 6.935e+19\n",
       "    shot_end_time           (shot_number) datetime64[ns] 2019-06-04T14:22:50 ... 2019-06-04T15:43:51\n",
       "    ts_fl                   (shot_number) bool True True True ... True True True\n",
       "    sweep_time              (shot_number) datetime64[ns] 2019-06-04T14:22:34 ... 2019-06-04T15:43:35\n",
       "    shot_source_current     (shot_number) float64 99.95 99.95 ... 100.1 99.98\n",
       "    shot_b_field            (shot_number) float64 1.2 1.2 1.2 ... 1.2 1.2 1.2\n",
       "    shot_tilt               (shot_number) float64 9.985 9.0 ... 1.003 0.01013\n",
       "    shot_target_pos         (shot_number) float64 -0.2 -0.2 -0.2 ... -0.2 -0.2\n",
       "    shot_target_rot         (shot_number) float64 -89.94 -89.94 ... -89.94\n",
       "    shot_target_pumpspeed   (shot_number) int32 82 82 82 82 82 ... 82 82 82 82\n",
       "    shot_source_pumpspeed   (shot_number) int32 82 82 82 82 82 ... 82 82 82 82\n",
       "    shot_heating_pumpspeed  (shot_number) int32 82 82 82 82 82 ... 82 82 82 82\n",
       "    shot_source_pos         (shot_number) float64 1.35 1.35 1.35 ... 1.35 1.35\n",
       "    shot_deuterium_gf       (shot_number) float64 0.01115 0.0039 ... 0.02163\n",
       "    shot_hydrogen_gf        (shot_number) float64 0.0 0.0 0.0 ... 0.0 0.0 0.0\n",
       "    shot_helium_gf          (shot_number) float64 8.441 8.443 ... 8.443 8.447\n",
       "    shot_hydrogen_puffed    (shot_number) float64 -0.02426 -0.01827 ... -0.01579\n",
       "    shot_helium_puffed      (shot_number) float64 -0.04849 -0.04957 ... -0.05487\n",
       "    adc_timestamp           (shot_number) float64 6.699e+18 ... 6.699e+18\n",
       "    adc_4_coax              (shot_number) float64 1.0 1.0 1.0 ... 1.0 1.0 1.0\n",
       "    adc_4_shunt_resistance  (shot_number) float64 1.0 1.0 1.0 ... 1.0 1.0 1.0\n",
       "    adc_5_coax              (shot_number) float64 2.0 2.0 2.0 ... 2.0 2.0 2.0\n",
       "    adc_5_shunt_resistance  (shot_number) float64 1.0 1.0 1.0 ... 1.0 1.0 1.0\n",
       "    adc_calibration_fl      (shot_number) float64 0.0 0.0 0.0 ... 0.0 0.0 0.0\n",
       "    shot_fl                 (shot_number) float64 1.0 1.0 1.0 ... 1.0 1.0 1.0\n",
       "    acquisition_length      (shot_number) float64 15.0 8.0 8.0 ... 8.0 8.0 8.0\n",
       "    adc_end_time            (shot_number) datetime64[ns] 2019-06-04T14:22:54 ... 2019-06-04T15:43:48\n",
       "    adc_end_timestamp       (shot_number) float64 6.699e+18 ... 6.699e+18\n",
       "    adc_freqs               (shot_number) float64 1e+06 1e+06 ... 1e+06 1e+06"
      ]
     },
     "execution_count": 105,
     "metadata": {},
     "output_type": "execute_result"
    }
   ],
   "source": [
    "helium_anglescan_ds = xr.merge([combined_ds, helium_meta_ds.rename({'shot_time':'sweep_time'})]).assign_coords(tilt=helium_meta_ds['shot_tilt'].round())\n",
    "helium_anglescan_ds"
   ]
  },
  {
   "cell_type": "code",
   "execution_count": 106,
   "metadata": {},
   "outputs": [],
   "source": [
    "# Attempt at concatting over tilt angle \n",
    "\n",
    "# helium_anglescan_ds.assign({'tilt_dim':helium_anglescan_ds['shot_tilt'].round()})\n",
    "angle_ds = helium_anglescan_ds.assign_coords(tilt=helium_anglescan_ds['shot_tilt'].round()).swap_dims({'shot_number':'tilt'})\n",
    "# print(angle_ds)\n",
    "tilt_da = xr.DataArray(np.arange(11.0), dims='tilt', name='tilt')\n",
    "# print(tilt_da)\n",
    "# angle_ds = xr.concat([angle_ds], dim=tilt_da)\n",
    "# angle_ds = angle_ds.stack(tilt_probe=('tilt', 'probe'))\n",
    "# angle_ds"
   ]
  },
  {
   "cell_type": "code",
   "execution_count": 107,
   "metadata": {},
   "outputs": [
    {
     "name": "stderr",
     "output_type": "stream",
     "text": [
      "/home/jleland/Coding/Environments/python3.6/lib/python3.6/site-packages/xarray/core/nanops.py:140: RuntimeWarning: Mean of empty slice\n",
      "  return np.nanmean(a, axis=axis, dtype=dtype)\n",
      "/home/jleland/Coding/Environments/python3.6/lib/python3.6/site-packages/xarray/core/nanops.py:140: RuntimeWarning: Mean of empty slice\n",
      "  return np.nanmean(a, axis=axis, dtype=dtype)\n",
      "/home/jleland/Coding/Environments/python3.6/lib/python3.6/site-packages/xarray/core/nanops.py:140: RuntimeWarning: Mean of empty slice\n",
      "  return np.nanmean(a, axis=axis, dtype=dtype)\n",
      "/home/jleland/Coding/Environments/python3.6/lib/python3.6/site-packages/xarray/core/nanops.py:140: RuntimeWarning: Mean of empty slice\n",
      "  return np.nanmean(a, axis=axis, dtype=dtype)\n"
     ]
    }
   ],
   "source": [
    "iv_fig, iv_ax = plt.subplots(2, 2, sharex=True)\n",
    "for i, probe in enumerate(helium_anglescan_ds['probe'].values):\n",
    "    \n",
    "    iv_ax[i%2][i//2].set_title(probe)\n",
    "    \n",
    "    ds = helium_anglescan_ds.sel(probe=probe).mean('direction')\n",
    "    ds = ds.where(np.isfinite(ds.voltage), drop=True)\n",
    "    ds.swap_dims({'shot_number':'tilt'}).set_coords('voltage')['current'].plot.line(ax=iv_ax[i%2][i//2], x='voltage', hue='tilt')\n",
    "    iv_ax[i%2][i//2].set_ylabel('I (A)')\n",
    "    iv_ax[i%2][i//2].set_xlabel(r'$V_P$ (V)')\n",
    "    \n",
    "    \n",
    "# plt.tight_layout()\n",
    "plt.show()"
   ]
  },
  {
   "cell_type": "code",
   "execution_count": 108,
   "metadata": {},
   "outputs": [
    {
     "name": "stderr",
     "output_type": "stream",
     "text": [
      "/home/jleland/Coding/Environments/python3.6/lib/python3.6/site-packages/xarray/core/nanops.py:140: RuntimeWarning: Mean of empty slice\n",
      "  return np.nanmean(a, axis=axis, dtype=dtype)\n",
      "/home/jleland/Coding/Environments/python3.6/lib/python3.6/site-packages/numpy/lib/nanfunctions.py:1628: RuntimeWarning: Degrees of freedom <= 0 for slice.\n",
      "  keepdims=keepdims)\n"
     ]
    }
   ],
   "source": [
    "ts_temp = helium_anglescan_ds.ts_temperature.mean('shot_number')\n",
    "ts_d_temp = helium_anglescan_ds.ts_temperature.std('shot_number') / 22\n",
    "ts_dens = helium_anglescan_ds.ts_density.mean('shot_number')\n",
    "ts_d_dens = helium_anglescan_ds.ts_density.std('shot_number') / 22\n",
    "# print(ts_temp)\n",
    "fig, ax = plt.subplots(2)\n",
    "ax[0].set_title('Temperature')\n",
    "# ax[0].errorbar(helium_anglescan_ds.ts_radial_pos, ts_temp, yerr=helium_anglescan_ds.ts_d_temperature.mean('shot_number'), color='silver', ecolor='silver')\n",
    "ax[0].errorbar(helium_anglescan_ds.ts_radial_pos, ts_temp, yerr=ts_d_temp)\n",
    "ax[1].errorbar(helium_anglescan_ds.ts_radial_pos, ts_dens, yerr=ts_d_dens)\n",
    "# ts_temp.plot.line(ax=ax[0])\n",
    "# ts_dens.plot.line(ax=ax[1])\n",
    "for i in [0, 1]:\n",
    "    for probe_pos in [6, -4, -14, -24]:\n",
    "        ax[i].axvline(x=probe_pos, color='black', linewidth=1, linestyle='dashed')\n",
    "plt.show()\n"
   ]
  },
  {
   "cell_type": "code",
   "execution_count": 109,
   "metadata": {},
   "outputs": [
    {
     "name": "stdout",
     "output_type": "stream",
     "text": [
      "0.4106643376025287 0.06270013877233421\n",
      "-2.022902103987607 0.03739069131439044\n",
      "-0.8061188831925392 0.07565511727427517\n"
     ]
    }
   ],
   "source": [
    "# helium_anglescan_ds.where(helium_anglescan_ds.ts_temperature == helium_anglescan_ds.max('ts_radial_pos')['ts_temperature'])\n",
    "middle_temps = helium_anglescan_ds.isel(ts_radial_pos=helium_anglescan_ds['ts_temperature'].argmax('ts_radial_pos'))['ts_radial_pos']\n",
    "middle_dens = helium_anglescan_ds.isel(ts_radial_pos=helium_anglescan_ds['ts_density'].argmax('ts_radial_pos'))['ts_radial_pos']\n",
    "middle_combo = np.concatenate([middle_temps.values, middle_dens.values])\n",
    "\n",
    "print(middle_dens.mean().values, middle_dens.std().values / 22)\n",
    "print(middle_temps.mean().values, middle_temps.std().values / 22)\n",
    "print(middle_combo.mean(), middle_combo.std() / 22)"
   ]
  },
  {
   "cell_type": "code",
   "execution_count": 110,
   "metadata": {},
   "outputs": [
    {
     "name": "stdout",
     "output_type": "stream",
     "text": [
      "{'L': array(3.78855724), 'S': array(6.78075897), 'B': array(2.10883445), 'R': array(0.25802425)}\n",
      "{'L': array(5.62604613e+19), 'S': array(7.3731719e+19), 'B': array(1.9573216e+19), 'R': array(2.38582831e+18)}\n"
     ]
    }
   ],
   "source": [
    "probe_temps = {}\n",
    "probe_denss = {}\n",
    "for probe, probe_pos in {'L':6, 'S':-4, 'B':-14, 'R':-24}.items():\n",
    "    probe_temps[probe] = ts_temp.interp(ts_radial_pos=probe_pos).values\n",
    "    probe_denss[probe] = ts_dens.interp(ts_radial_pos=probe_pos).values\n",
    "    \n",
    "print(probe_temps)\n",
    "print(probe_denss)"
   ]
  },
  {
   "cell_type": "code",
   "execution_count": 111,
   "metadata": {},
   "outputs": [],
   "source": [
    "# helium_anglescan_ds"
   ]
  },
  {
   "cell_type": "code",
   "execution_count": 122,
   "metadata": {},
   "outputs": [
    {
     "name": "stderr",
     "output_type": "stream",
     "text": [
      "/home/jleland/Coding/Environments/python3.6/lib/python3.6/site-packages/xarray/core/nputils.py:223: RuntimeWarning: All-NaN slice encountered\n",
      "  result = getattr(npmodule, name)(values, axis=axis, **kwargs)\n",
      "/home/jleland/Coding/Environments/python3.6/lib/python3.6/site-packages/xarray/core/nputils.py:223: RuntimeWarning: All-NaN slice encountered\n",
      "  result = getattr(npmodule, name)(values, axis=axis, **kwargs)\n",
      "/home/jleland/Coding/Environments/python3.6/lib/python3.6/site-packages/xarray/core/nputils.py:223: RuntimeWarning: All-NaN slice encountered\n",
      "  result = getattr(npmodule, name)(values, axis=axis, **kwargs)\n",
      "/home/jleland/Coding/Environments/python3.6/lib/python3.6/site-packages/xarray/core/nputils.py:223: RuntimeWarning: All-NaN slice encountered\n",
      "  result = getattr(npmodule, name)(values, axis=axis, **kwargs)\n",
      "/home/jleland/Coding/Environments/python3.6/lib/python3.6/site-packages/xarray/core/nputils.py:223: RuntimeWarning: All-NaN slice encountered\n",
      "  result = getattr(npmodule, name)(values, axis=axis, **kwargs)\n",
      "/home/jleland/Coding/Environments/python3.6/lib/python3.6/site-packages/xarray/core/nputils.py:223: RuntimeWarning: All-NaN slice encountered\n",
      "  result = getattr(npmodule, name)(values, axis=axis, **kwargs)\n",
      "/home/jleland/Coding/Environments/python3.6/lib/python3.6/site-packages/xarray/core/nputils.py:223: RuntimeWarning: All-NaN slice encountered\n",
      "  result = getattr(npmodule, name)(values, axis=axis, **kwargs)\n",
      "/home/jleland/Coding/Environments/python3.6/lib/python3.6/site-packages/xarray/core/nputils.py:223: RuntimeWarning: All-NaN slice encountered\n",
      "  result = getattr(npmodule, name)(values, axis=axis, **kwargs)\n",
      "/home/jleland/Coding/Environments/python3.6/lib/python3.6/site-packages/xarray/core/nputils.py:223: RuntimeWarning: All-NaN slice encountered\n",
      "  result = getattr(npmodule, name)(values, axis=axis, **kwargs)\n",
      "/home/jleland/Coding/Environments/python3.6/lib/python3.6/site-packages/xarray/core/nputils.py:223: RuntimeWarning: All-NaN slice encountered\n",
      "  result = getattr(npmodule, name)(values, axis=axis, **kwargs)\n",
      "/home/jleland/Coding/Environments/python3.6/lib/python3.6/site-packages/xarray/core/nputils.py:223: RuntimeWarning: All-NaN slice encountered\n",
      "  result = getattr(npmodule, name)(values, axis=axis, **kwargs)\n",
      "/home/jleland/Coding/Environments/python3.6/lib/python3.6/site-packages/ipykernel_launcher.py:57: MatplotlibDeprecationWarning: Support for passing a (n, 1)-shaped error array to errorbar() is deprecated since Matplotlib 3.1 and will be removed in 3.3; pass a 1D array instead.\n",
      "No handles with labels found to put in legend.\n"
     ]
    },
    {
     "data": {
      "text/plain": [
       "<matplotlib.legend.Legend at 0x7fdcd701ce80>"
      ]
     },
     "execution_count": 122,
     "metadata": {},
     "output_type": "execute_result"
    }
   ],
   "source": [
    "# fit and plot for a single probe\n",
    "probes = ['S', 'L', 'B', 'R']\n",
    "denss = {label: [] for label in probes}\n",
    "d_denss = {label: [] for label in probes}\n",
    "d_temps = {label: [] for label in probes}\n",
    "temps = {label: [] for label in probes}\n",
    "fig, axes = plt.subplots(3)\n",
    "\n",
    "probe = 'S'\n",
    "for tilt in tilt_da.values:\n",
    "    ds = helium_anglescan_ds.sel(probe=probe, direction='up').max('ts_radial_pos')\n",
    "    ds = ds.where(np.logical_and(np.isfinite(ds.voltage), ds.tilt == tilt), drop=True)\n",
    "#     print(ds['current'].values[0])\n",
    "\n",
    "#     print(shot_iv.keys(), shot_iv['sigma'])\n",
    "    \n",
    "    shot_iv = iv.IVData(ds['voltage'].values[0],\n",
    "                -ds['current'].values[0],\n",
    "                ds['shot_time'].values[0],\n",
    "                estimate_error_fl=True)\n",
    "#         iv_fitter = fts.FullIVFitter()\n",
    "#         shot_fit = iv_fitter.fit_iv_data(shot_iv, sigma=shot_iv['sigma'])\n",
    "#     try:\n",
    "#         shot_fit = shot_iv.multi_fit(sat_region=-50)\n",
    "#         dens[probe].append(magnum_probes[probe].get_density(shot_fit.get_isat(), shot_fit.get_temp(), alpha=np.radians(tilt)))\n",
    "#         temps[probe].append(shot_fit.get_temp())\n",
    "#         axes[2].plot(*shot_fit.get_fit_plottables(), label=f'tilt = {tilt}')\n",
    "#         axes[2].plot(*shot_fit.get_raw_plottables(), color='silver')\n",
    "#     except:\n",
    "#         dens[probe].append(np.nan)\n",
    "#         temps[probe].append(np.nan)\n",
    "        \n",
    "    try:\n",
    "        shot_iv.trim_beg = 0.0\n",
    "        shot_fit = shot_iv.multi_fit(sat_region=-45)\n",
    "        denss[probe].append(magnum_probes[probe].get_density(shot_fit.get_isat(), shot_fit.get_temp(), alpha=np.radians(tilt)))\n",
    "\n",
    "        d_denss[probe].append(magnum_probes[probe].get_d_density(\n",
    "            shot_fit.get_isat(), \n",
    "            shot_fit.get_isat_err(), \n",
    "            shot_fit.get_temp(), \n",
    "            shot_fit.get_temp_err(),\n",
    "            alpha=np.radians(tilt)\n",
    "        ))\n",
    "        temps[probe].append(shot_fit.get_temp())\n",
    "        d_temps[probe].append(shot_fit.get_temp_err())\n",
    "    except RuntimeError:\n",
    "        print(f'Error on {probe} at shot {shot_number}')\n",
    "        plt.figure()\n",
    "        plt.plot(shot_iv['V'], shot_iv['I'], label=f'{probe}-{shot_number}')\n",
    "        denss[probe].append(np.nan)\n",
    "        ts_denss[probe].append(np.nan)\n",
    "        d_denss[probe].append(np.nan)\n",
    "        temps[probe].append(np.nan)\n",
    "        d_temps[probe].append(np.nan)\n",
    "\n",
    "axes[0].errorbar(tilt_da.values, denss[probe], fmt='x', label=probe, yerr=d_denss[probe])\n",
    "axes[0].axhline(y=probe_denss[probe], color='red', linewidth=0.5, linestyle='dashed')\n",
    "\n",
    "axes[1].errorbar(tilt_da.values, temps[probe], fmt='x', label=probe, yerr=d_temps[probe])\n",
    "axes[1].axhline(y=probe_temps[probe], color='red', linewidth=0.5, linestyle='dashed')\n",
    "\n",
    "axes[2].legend()"
   ]
  },
  {
   "cell_type": "code",
   "execution_count": 138,
   "metadata": {},
   "outputs": [
    {
     "data": {
      "text/plain": [
       "<matplotlib.legend.Legend at 0x7fdccac3b8d0>"
      ]
     },
     "execution_count": 138,
     "metadata": {},
     "output_type": "execute_result"
    }
   ],
   "source": [
    "import pathlib as pth\n",
    "\n",
    "fig, (ax, ax_sim) = plt.subplots(2, sharex=True, sharey=True)\n",
    "\n",
    "lowdens_dir = pth.Path('/home/jleland/Data/external/spice/')\n",
    "fit_data_filename = 'lowdens_fitdata.csv'\n",
    "fit_df = pd.read_csv(lowdens_dir / fit_data_filename, index_col=0)\n",
    "\n",
    "s_temp_fraction = np.array(temps[probe]) / probe_temps[probe]\n",
    "d_s_temp_fraction = s_temp_fraction * np.sqrt((0.05)**2 + (np.array(d_temps[probe]) / np.array(temps[probe]))**2)\n",
    "\n",
    "ax.errorbar(tilt_da.values, s_temp_fraction, fmt='x', yerr=d_s_temp_fraction, label='Measurement')\n",
    "ax.axhline(y=1.0, color='red', linewidth=0.5, linestyle='dashed')\n",
    "\n",
    "probe_df = fit_df.loc[fit_df['probe'] == 'angled'].loc[fit_df['angle'] <= 10]\n",
    "ax_sim.errorbar('angle', 'temp', fmt='x', color='orange', yerr='d_temp', data=probe_df, label='Simulation')\n",
    "ax_sim.axhline(y=1.0, color='red', linewidth=0.5, linestyle='dashed')\n",
    "\n",
    "\n",
    "ax.set_title('S probe')\n",
    "ax.set_ylabel(r'$T_{e, P}$ / $T_{e, TS}$')\n",
    "ax_sim.set_xlabel(r'Incidence angle  ($^{\\circ}$)')\n",
    "ax_sim.set_ylabel(r'$T_{e, P}$ / $T_{e, SE}$')\n",
    "\n",
    "ax.legend()\n",
    "ax_sim.legend()"
   ]
  },
  {
   "cell_type": "code",
   "execution_count": 114,
   "metadata": {},
   "outputs": [
    {
     "name": "stderr",
     "output_type": "stream",
     "text": [
      "/home/jleland/Coding/Environments/python3.6/lib/python3.6/site-packages/xarray/core/nanops.py:140: RuntimeWarning: Mean of empty slice\n",
      "  return np.nanmean(a, axis=axis, dtype=dtype)\n",
      "/home/jleland/Coding/Environments/python3.6/lib/python3.6/site-packages/xarray/core/nputils.py:223: RuntimeWarning: All-NaN slice encountered\n",
      "  result = getattr(npmodule, name)(values, axis=axis, **kwargs)\n",
      "/home/jleland/Coding/Environments/python3.6/lib/python3.6/site-packages/xarray/core/nanops.py:140: RuntimeWarning: Mean of empty slice\n",
      "  return np.nanmean(a, axis=axis, dtype=dtype)\n",
      "/home/jleland/Coding/Environments/python3.6/lib/python3.6/site-packages/xarray/core/nputils.py:223: RuntimeWarning: All-NaN slice encountered\n",
      "  result = getattr(npmodule, name)(values, axis=axis, **kwargs)\n",
      "/home/jleland/Coding/Environments/python3.6/lib/python3.6/site-packages/xarray/core/nanops.py:140: RuntimeWarning: Mean of empty slice\n",
      "  return np.nanmean(a, axis=axis, dtype=dtype)\n",
      "/home/jleland/Coding/Environments/python3.6/lib/python3.6/site-packages/xarray/core/nputils.py:223: RuntimeWarning: All-NaN slice encountered\n",
      "  result = getattr(npmodule, name)(values, axis=axis, **kwargs)\n",
      "/home/jleland/Coding/Environments/python3.6/lib/python3.6/site-packages/xarray/core/nanops.py:140: RuntimeWarning: Mean of empty slice\n",
      "  return np.nanmean(a, axis=axis, dtype=dtype)\n",
      "/home/jleland/Coding/Environments/python3.6/lib/python3.6/site-packages/xarray/core/nputils.py:223: RuntimeWarning: All-NaN slice encountered\n",
      "  result = getattr(npmodule, name)(values, axis=axis, **kwargs)\n",
      "/home/jleland/Coding/Environments/python3.6/lib/python3.6/site-packages/xarray/core/nanops.py:140: RuntimeWarning: Mean of empty slice\n",
      "  return np.nanmean(a, axis=axis, dtype=dtype)\n",
      "/home/jleland/Coding/Environments/python3.6/lib/python3.6/site-packages/xarray/core/nputils.py:223: RuntimeWarning: All-NaN slice encountered\n",
      "  result = getattr(npmodule, name)(values, axis=axis, **kwargs)\n",
      "/home/jleland/Coding/Environments/python3.6/lib/python3.6/site-packages/xarray/core/nanops.py:140: RuntimeWarning: Mean of empty slice\n",
      "  return np.nanmean(a, axis=axis, dtype=dtype)\n",
      "/home/jleland/Coding/Environments/python3.6/lib/python3.6/site-packages/xarray/core/nputils.py:223: RuntimeWarning: All-NaN slice encountered\n",
      "  result = getattr(npmodule, name)(values, axis=axis, **kwargs)\n",
      "/home/jleland/Coding/Environments/python3.6/lib/python3.6/site-packages/xarray/core/nanops.py:140: RuntimeWarning: Mean of empty slice\n",
      "  return np.nanmean(a, axis=axis, dtype=dtype)\n",
      "/home/jleland/Coding/Environments/python3.6/lib/python3.6/site-packages/xarray/core/nputils.py:223: RuntimeWarning: All-NaN slice encountered\n",
      "  result = getattr(npmodule, name)(values, axis=axis, **kwargs)\n",
      "/home/jleland/Coding/Environments/python3.6/lib/python3.6/site-packages/xarray/core/nanops.py:140: RuntimeWarning: Mean of empty slice\n",
      "  return np.nanmean(a, axis=axis, dtype=dtype)\n",
      "/home/jleland/Coding/Environments/python3.6/lib/python3.6/site-packages/xarray/core/nputils.py:223: RuntimeWarning: All-NaN slice encountered\n",
      "  result = getattr(npmodule, name)(values, axis=axis, **kwargs)\n",
      "/home/jleland/Coding/Environments/python3.6/lib/python3.6/site-packages/xarray/core/nanops.py:140: RuntimeWarning: Mean of empty slice\n",
      "  return np.nanmean(a, axis=axis, dtype=dtype)\n",
      "/home/jleland/Coding/Environments/python3.6/lib/python3.6/site-packages/xarray/core/nputils.py:223: RuntimeWarning: All-NaN slice encountered\n",
      "  result = getattr(npmodule, name)(values, axis=axis, **kwargs)\n",
      "/home/jleland/Coding/Environments/python3.6/lib/python3.6/site-packages/xarray/core/nanops.py:140: RuntimeWarning: Mean of empty slice\n",
      "  return np.nanmean(a, axis=axis, dtype=dtype)\n",
      "/home/jleland/Coding/Environments/python3.6/lib/python3.6/site-packages/xarray/core/nputils.py:223: RuntimeWarning: All-NaN slice encountered\n",
      "  result = getattr(npmodule, name)(values, axis=axis, **kwargs)\n",
      "/home/jleland/Coding/Environments/python3.6/lib/python3.6/site-packages/xarray/core/nanops.py:140: RuntimeWarning: Mean of empty slice\n",
      "  return np.nanmean(a, axis=axis, dtype=dtype)\n",
      "/home/jleland/Coding/Environments/python3.6/lib/python3.6/site-packages/xarray/core/nputils.py:223: RuntimeWarning: All-NaN slice encountered\n",
      "  result = getattr(npmodule, name)(values, axis=axis, **kwargs)\n",
      "/home/jleland/Coding/Environments/python3.6/lib/python3.6/site-packages/xarray/core/nanops.py:140: RuntimeWarning: Mean of empty slice\n",
      "  return np.nanmean(a, axis=axis, dtype=dtype)\n",
      "/home/jleland/Coding/Environments/python3.6/lib/python3.6/site-packages/xarray/core/nputils.py:223: RuntimeWarning: All-NaN slice encountered\n",
      "  result = getattr(npmodule, name)(values, axis=axis, **kwargs)\n",
      "/home/jleland/Coding/Environments/python3.6/lib/python3.6/site-packages/xarray/core/nanops.py:140: RuntimeWarning: Mean of empty slice\n",
      "  return np.nanmean(a, axis=axis, dtype=dtype)\n",
      "/home/jleland/Coding/Environments/python3.6/lib/python3.6/site-packages/xarray/core/nputils.py:223: RuntimeWarning: All-NaN slice encountered\n",
      "  result = getattr(npmodule, name)(values, axis=axis, **kwargs)\n",
      "/home/jleland/Coding/Environments/python3.6/lib/python3.6/site-packages/xarray/core/nanops.py:140: RuntimeWarning: Mean of empty slice\n",
      "  return np.nanmean(a, axis=axis, dtype=dtype)\n",
      "/home/jleland/Coding/Environments/python3.6/lib/python3.6/site-packages/xarray/core/nputils.py:223: RuntimeWarning: All-NaN slice encountered\n",
      "  result = getattr(npmodule, name)(values, axis=axis, **kwargs)\n",
      "/home/jleland/Coding/Environments/python3.6/lib/python3.6/site-packages/xarray/core/nanops.py:140: RuntimeWarning: Mean of empty slice\n",
      "  return np.nanmean(a, axis=axis, dtype=dtype)\n",
      "/home/jleland/Coding/Environments/python3.6/lib/python3.6/site-packages/xarray/core/nputils.py:223: RuntimeWarning: All-NaN slice encountered\n",
      "  result = getattr(npmodule, name)(values, axis=axis, **kwargs)\n",
      "/home/jleland/Coding/Environments/python3.6/lib/python3.6/site-packages/xarray/core/nanops.py:140: RuntimeWarning: Mean of empty slice\n",
      "  return np.nanmean(a, axis=axis, dtype=dtype)\n",
      "/home/jleland/Coding/Environments/python3.6/lib/python3.6/site-packages/xarray/core/nputils.py:223: RuntimeWarning: All-NaN slice encountered\n",
      "  result = getattr(npmodule, name)(values, axis=axis, **kwargs)\n",
      "/home/jleland/Coding/Environments/python3.6/lib/python3.6/site-packages/xarray/core/nanops.py:140: RuntimeWarning: Mean of empty slice\n",
      "  return np.nanmean(a, axis=axis, dtype=dtype)\n",
      "/home/jleland/Coding/Environments/python3.6/lib/python3.6/site-packages/xarray/core/nputils.py:223: RuntimeWarning: All-NaN slice encountered\n",
      "  result = getattr(npmodule, name)(values, axis=axis, **kwargs)\n",
      "/home/jleland/Coding/Environments/python3.6/lib/python3.6/site-packages/xarray/core/nanops.py:140: RuntimeWarning: Mean of empty slice\n",
      "  return np.nanmean(a, axis=axis, dtype=dtype)\n",
      "/home/jleland/Coding/Environments/python3.6/lib/python3.6/site-packages/xarray/core/nputils.py:223: RuntimeWarning: All-NaN slice encountered\n",
      "  result = getattr(npmodule, name)(values, axis=axis, **kwargs)\n",
      "/home/jleland/Coding/Environments/python3.6/lib/python3.6/site-packages/xarray/core/nanops.py:140: RuntimeWarning: Mean of empty slice\n",
      "  return np.nanmean(a, axis=axis, dtype=dtype)\n",
      "/home/jleland/Coding/Environments/python3.6/lib/python3.6/site-packages/xarray/core/nputils.py:223: RuntimeWarning: All-NaN slice encountered\n",
      "  result = getattr(npmodule, name)(values, axis=axis, **kwargs)\n",
      "/home/jleland/Coding/Environments/python3.6/lib/python3.6/site-packages/xarray/core/nanops.py:140: RuntimeWarning: Mean of empty slice\n",
      "  return np.nanmean(a, axis=axis, dtype=dtype)\n",
      "/home/jleland/Coding/Environments/python3.6/lib/python3.6/site-packages/xarray/core/nputils.py:223: RuntimeWarning: All-NaN slice encountered\n",
      "  result = getattr(npmodule, name)(values, axis=axis, **kwargs)\n",
      "/home/jleland/Coding/Environments/python3.6/lib/python3.6/site-packages/xarray/core/nanops.py:140: RuntimeWarning: Mean of empty slice\n",
      "  return np.nanmean(a, axis=axis, dtype=dtype)\n",
      "/home/jleland/Coding/Environments/python3.6/lib/python3.6/site-packages/xarray/core/nputils.py:223: RuntimeWarning: All-NaN slice encountered\n",
      "  result = getattr(npmodule, name)(values, axis=axis, **kwargs)\n",
      "/home/jleland/Coding/Environments/python3.6/lib/python3.6/site-packages/xarray/core/nanops.py:140: RuntimeWarning: Mean of empty slice\n",
      "  return np.nanmean(a, axis=axis, dtype=dtype)\n",
      "/home/jleland/Coding/Environments/python3.6/lib/python3.6/site-packages/xarray/core/nputils.py:223: RuntimeWarning: All-NaN slice encountered\n",
      "  result = getattr(npmodule, name)(values, axis=axis, **kwargs)\n",
      "/home/jleland/Coding/Environments/python3.6/lib/python3.6/site-packages/xarray/core/nanops.py:140: RuntimeWarning: Mean of empty slice\n",
      "  return np.nanmean(a, axis=axis, dtype=dtype)\n",
      "/home/jleland/Coding/Environments/python3.6/lib/python3.6/site-packages/xarray/core/nputils.py:223: RuntimeWarning: All-NaN slice encountered\n",
      "  result = getattr(npmodule, name)(values, axis=axis, **kwargs)\n",
      "/home/jleland/Coding/Environments/python3.6/lib/python3.6/site-packages/xarray/core/nanops.py:140: RuntimeWarning: Mean of empty slice\n",
      "  return np.nanmean(a, axis=axis, dtype=dtype)\n",
      "/home/jleland/Coding/Environments/python3.6/lib/python3.6/site-packages/xarray/core/nputils.py:223: RuntimeWarning: All-NaN slice encountered\n",
      "  result = getattr(npmodule, name)(values, axis=axis, **kwargs)\n",
      "/home/jleland/Coding/Environments/python3.6/lib/python3.6/site-packages/xarray/core/nanops.py:140: RuntimeWarning: Mean of empty slice\n",
      "  return np.nanmean(a, axis=axis, dtype=dtype)\n",
      "/home/jleland/Coding/Environments/python3.6/lib/python3.6/site-packages/xarray/core/nputils.py:223: RuntimeWarning: All-NaN slice encountered\n",
      "  result = getattr(npmodule, name)(values, axis=axis, **kwargs)\n",
      "/home/jleland/Coding/Environments/python3.6/lib/python3.6/site-packages/xarray/core/nanops.py:140: RuntimeWarning: Mean of empty slice\n",
      "  return np.nanmean(a, axis=axis, dtype=dtype)\n",
      "/home/jleland/Coding/Environments/python3.6/lib/python3.6/site-packages/xarray/core/nputils.py:223: RuntimeWarning: All-NaN slice encountered\n",
      "  result = getattr(npmodule, name)(values, axis=axis, **kwargs)\n",
      "/home/jleland/Coding/Environments/python3.6/lib/python3.6/site-packages/xarray/core/nanops.py:140: RuntimeWarning: Mean of empty slice\n",
      "  return np.nanmean(a, axis=axis, dtype=dtype)\n",
      "/home/jleland/Coding/Environments/python3.6/lib/python3.6/site-packages/xarray/core/nputils.py:223: RuntimeWarning: All-NaN slice encountered\n",
      "  result = getattr(npmodule, name)(values, axis=axis, **kwargs)\n",
      "/home/jleland/Coding/Environments/python3.6/lib/python3.6/site-packages/xarray/core/nanops.py:140: RuntimeWarning: Mean of empty slice\n",
      "  return np.nanmean(a, axis=axis, dtype=dtype)\n",
      "/home/jleland/Coding/Environments/python3.6/lib/python3.6/site-packages/xarray/core/nputils.py:223: RuntimeWarning: All-NaN slice encountered\n",
      "  result = getattr(npmodule, name)(values, axis=axis, **kwargs)\n",
      "/home/jleland/Coding/Environments/python3.6/lib/python3.6/site-packages/xarray/core/nanops.py:140: RuntimeWarning: Mean of empty slice\n",
      "  return np.nanmean(a, axis=axis, dtype=dtype)\n",
      "/home/jleland/Coding/Environments/python3.6/lib/python3.6/site-packages/xarray/core/nputils.py:223: RuntimeWarning: All-NaN slice encountered\n",
      "  result = getattr(npmodule, name)(values, axis=axis, **kwargs)\n",
      "/home/jleland/Coding/Environments/python3.6/lib/python3.6/site-packages/xarray/core/nanops.py:140: RuntimeWarning: Mean of empty slice\n",
      "  return np.nanmean(a, axis=axis, dtype=dtype)\n",
      "/home/jleland/Coding/Environments/python3.6/lib/python3.6/site-packages/xarray/core/nputils.py:223: RuntimeWarning: All-NaN slice encountered\n",
      "  result = getattr(npmodule, name)(values, axis=axis, **kwargs)\n",
      "/home/jleland/Coding/Environments/python3.6/lib/python3.6/site-packages/xarray/core/nanops.py:140: RuntimeWarning: Mean of empty slice\n",
      "  return np.nanmean(a, axis=axis, dtype=dtype)\n",
      "/home/jleland/Coding/Environments/python3.6/lib/python3.6/site-packages/xarray/core/nputils.py:223: RuntimeWarning: All-NaN slice encountered\n",
      "  result = getattr(npmodule, name)(values, axis=axis, **kwargs)\n",
      "/home/jleland/Coding/Environments/python3.6/lib/python3.6/site-packages/xarray/core/nanops.py:140: RuntimeWarning: Mean of empty slice\n",
      "  return np.nanmean(a, axis=axis, dtype=dtype)\n",
      "/home/jleland/Coding/Environments/python3.6/lib/python3.6/site-packages/xarray/core/nputils.py:223: RuntimeWarning: All-NaN slice encountered\n",
      "  result = getattr(npmodule, name)(values, axis=axis, **kwargs)\n",
      "/home/jleland/Coding/Environments/python3.6/lib/python3.6/site-packages/xarray/core/nanops.py:140: RuntimeWarning: Mean of empty slice\n",
      "  return np.nanmean(a, axis=axis, dtype=dtype)\n",
      "/home/jleland/Coding/Environments/python3.6/lib/python3.6/site-packages/xarray/core/nputils.py:223: RuntimeWarning: All-NaN slice encountered\n",
      "  result = getattr(npmodule, name)(values, axis=axis, **kwargs)\n",
      "/home/jleland/Coding/Environments/python3.6/lib/python3.6/site-packages/xarray/core/nanops.py:140: RuntimeWarning: Mean of empty slice\n",
      "  return np.nanmean(a, axis=axis, dtype=dtype)\n",
      "/home/jleland/Coding/Environments/python3.6/lib/python3.6/site-packages/xarray/core/nputils.py:223: RuntimeWarning: All-NaN slice encountered\n",
      "  result = getattr(npmodule, name)(values, axis=axis, **kwargs)\n",
      "/home/jleland/Coding/Projects/flopter/flopter/core/lputils.py:103: RuntimeWarning: divide by zero encountered in double_scalars\n",
      "  d = (self.d_perp / np.sin(alpha)) - self.g\n",
      "/home/jleland/Coding/Projects/flopter/flopter/core/lputils.py:104: RuntimeWarning: invalid value encountered in arccos\n",
      "  theta_c = 2 * np.arccos((self.radius - d) / self.radius)\n",
      "/home/jleland/Coding/Environments/python3.6/lib/python3.6/site-packages/xarray/core/nanops.py:140: RuntimeWarning: Mean of empty slice\n",
      "  return np.nanmean(a, axis=axis, dtype=dtype)\n",
      "/home/jleland/Coding/Environments/python3.6/lib/python3.6/site-packages/xarray/core/nputils.py:223: RuntimeWarning: All-NaN slice encountered\n",
      "  result = getattr(npmodule, name)(values, axis=axis, **kwargs)\n",
      "/home/jleland/Coding/Projects/flopter/flopter/core/lputils.py:104: RuntimeWarning: invalid value encountered in arccos\n",
      "  theta_c = 2 * np.arccos((self.radius - d) / self.radius)\n",
      "/home/jleland/Coding/Environments/python3.6/lib/python3.6/site-packages/xarray/core/nanops.py:140: RuntimeWarning: Mean of empty slice\n",
      "  return np.nanmean(a, axis=axis, dtype=dtype)\n",
      "/home/jleland/Coding/Environments/python3.6/lib/python3.6/site-packages/xarray/core/nputils.py:223: RuntimeWarning: All-NaN slice encountered\n",
      "  result = getattr(npmodule, name)(values, axis=axis, **kwargs)\n",
      "/home/jleland/Coding/Environments/python3.6/lib/python3.6/site-packages/xarray/core/nanops.py:140: RuntimeWarning: Mean of empty slice\n",
      "  return np.nanmean(a, axis=axis, dtype=dtype)\n",
      "/home/jleland/Coding/Environments/python3.6/lib/python3.6/site-packages/xarray/core/nputils.py:223: RuntimeWarning: All-NaN slice encountered\n",
      "  result = getattr(npmodule, name)(values, axis=axis, **kwargs)\n",
      "/home/jleland/Coding/Environments/python3.6/lib/python3.6/site-packages/xarray/core/nanops.py:140: RuntimeWarning: Mean of empty slice\n",
      "  return np.nanmean(a, axis=axis, dtype=dtype)\n",
      "/home/jleland/Coding/Environments/python3.6/lib/python3.6/site-packages/xarray/core/nputils.py:223: RuntimeWarning: All-NaN slice encountered\n",
      "  result = getattr(npmodule, name)(values, axis=axis, **kwargs)\n",
      "/home/jleland/Coding/Environments/python3.6/lib/python3.6/site-packages/xarray/core/nanops.py:140: RuntimeWarning: Mean of empty slice\n",
      "  return np.nanmean(a, axis=axis, dtype=dtype)\n",
      "/home/jleland/Coding/Environments/python3.6/lib/python3.6/site-packages/xarray/core/nputils.py:223: RuntimeWarning: All-NaN slice encountered\n",
      "  result = getattr(npmodule, name)(values, axis=axis, **kwargs)\n",
      "/home/jleland/Coding/Environments/python3.6/lib/python3.6/site-packages/xarray/core/nanops.py:140: RuntimeWarning: Mean of empty slice\n",
      "  return np.nanmean(a, axis=axis, dtype=dtype)\n",
      "/home/jleland/Coding/Environments/python3.6/lib/python3.6/site-packages/xarray/core/nputils.py:223: RuntimeWarning: All-NaN slice encountered\n",
      "  result = getattr(npmodule, name)(values, axis=axis, **kwargs)\n",
      "/home/jleland/Coding/Environments/python3.6/lib/python3.6/site-packages/xarray/core/nanops.py:140: RuntimeWarning: Mean of empty slice\n",
      "  return np.nanmean(a, axis=axis, dtype=dtype)\n",
      "/home/jleland/Coding/Environments/python3.6/lib/python3.6/site-packages/xarray/core/nputils.py:223: RuntimeWarning: All-NaN slice encountered\n",
      "  result = getattr(npmodule, name)(values, axis=axis, **kwargs)\n",
      "/home/jleland/Coding/Environments/python3.6/lib/python3.6/site-packages/xarray/core/nanops.py:140: RuntimeWarning: Mean of empty slice\n",
      "  return np.nanmean(a, axis=axis, dtype=dtype)\n",
      "/home/jleland/Coding/Environments/python3.6/lib/python3.6/site-packages/xarray/core/nputils.py:223: RuntimeWarning: All-NaN slice encountered\n",
      "  result = getattr(npmodule, name)(values, axis=axis, **kwargs)\n",
      "/home/jleland/Coding/Environments/python3.6/lib/python3.6/site-packages/xarray/core/nanops.py:140: RuntimeWarning: Mean of empty slice\n",
      "  return np.nanmean(a, axis=axis, dtype=dtype)\n",
      "/home/jleland/Coding/Environments/python3.6/lib/python3.6/site-packages/xarray/core/nputils.py:223: RuntimeWarning: All-NaN slice encountered\n",
      "  result = getattr(npmodule, name)(values, axis=axis, **kwargs)\n",
      "/home/jleland/Coding/Environments/python3.6/lib/python3.6/site-packages/xarray/core/nanops.py:140: RuntimeWarning: Mean of empty slice\n",
      "  return np.nanmean(a, axis=axis, dtype=dtype)\n",
      "/home/jleland/Coding/Environments/python3.6/lib/python3.6/site-packages/xarray/core/nputils.py:223: RuntimeWarning: All-NaN slice encountered\n",
      "  result = getattr(npmodule, name)(values, axis=axis, **kwargs)\n"
     ]
    }
   ],
   "source": [
    "# fit and plot for all probes\n",
    "probes = ['S', 'L', 'B', 'R']\n",
    "denss = {label: [] for label in probes}\n",
    "temps = {label: [] for label in probes}\n",
    "fits = {label: [] for label in probes}\n",
    "\n",
    "fig, axes = plt.subplots(4, 2)\n",
    "colours = ['blue', 'orange', 'green', 'red']\n",
    "\n",
    "for i, probe in enumerate(probes):\n",
    "    for tilt in tilt_da.values:\n",
    "        ds = helium_anglescan_ds.sel(probe=probe).mean('direction').max('ts_radial_pos')\n",
    "        ds = ds.where(np.logical_and(np.isfinite(ds.voltage), ds.tilt == tilt), drop=True)\n",
    "        \n",
    "        try:\n",
    "            shot_iv = iv.IVData(ds['voltage'].values[0],\n",
    "                            -ds['current'].values[0],\n",
    "                            ds['shot_time'].values[0],\n",
    "                            estimate_error_fl=True)\n",
    "#             iv_fitter = fts.FullIVFitter()\n",
    "#             shot_fit = iv_fitter.fit_iv_data(shot_iv, sigma=shot_iv['sigma'])\n",
    "            shot_fit = shot_iv.multi_fit(sat_region=-60)\n",
    "            fits[probe].append(shot_fit)\n",
    "            denss[probe].append(magnum_probes[probe].get_density(shot_fit.get_isat(), shot_fit.get_temp(), alpha=np.radians(tilt)))\n",
    "            temps[probe].append(shot_fit.get_temp())\n",
    "        except :\n",
    "            denss[probe].append(np.nan)\n",
    "            temps[probe].append(np.nan)\n",
    "    \n",
    "    axes[i][0].set_title(r'$n_e$')\n",
    "    axes[i][0].set_xlabel(r'$\\theta_{\\perp}$ / degrees')\n",
    "    axes[i][0].set_ylabel(r'$n_e$ / m$^{-3}$')\n",
    "    axes[i][0].plot(tilt_da.values, denss[probe], '+', label=probe, color=colours[i])\n",
    "    axes[i][0].axhline(y=probe_denss[probe], color=colours[i], linewidth=0.5, linestyle='dashed')\n",
    "    axes[i][0].legend()\n",
    "\n",
    "    axes[i][1].set_title(r'$T_e$')\n",
    "    axes[i][1].set_xlabel(r'$\\theta_{\\perp}$ / degrees')\n",
    "    axes[i][1].set_ylabel(r'$T_e$ / eV')\n",
    "    axes[i][1].plot(tilt_da.values, temps[probe], '+', label=probe, color=colours[i])\n",
    "    axes[i][1].axhline(y=probe_temps[probe], color=colours[i], linewidth=0.5, linestyle='dashed')\n",
    "    axes[i][1].legend()\n",
    "\n",
    "# plt.tight_layout()\n",
    "plt.show()"
   ]
  },
  {
   "cell_type": "code",
   "execution_count": 67,
   "metadata": {},
   "outputs": [
    {
     "name": "stdout",
     "output_type": "stream",
     "text": [
      "a = 0.1901503515415086, c_s = 26346.422184407136, lambda_d = 3.5607408672969005e-06, I_0 = 0.04794206769611801\n",
      "a = 0.007353317021795831, c_s = 26346.422184407136, lambda_d = 3.5607408672969005e-06, I_0 = 0.18401118086125015\n",
      "a = 0.10017985125286827, c_s = 16474.68698610948, lambda_d = 2.2511522332344096e-06, I_0 = 0.06917083526435339\n",
      "a = 0.0038740617594802797, c_s = 16474.68698610948, lambda_d = 2.2511522332344096e-06, I_0 = 0.17267019046455775\n",
      "a = 0.08829097005947241, c_s = 11295.52919446349, lambda_d = 1.983995902750186e-06, I_0 = 0.058387615732325135\n",
      "a = 0.0034143060359657623, c_s = 11295.52919446349, lambda_d = 1.983995902750186e-06, I_0 = 0.14198767228781586\n"
     ]
    }
   ],
   "source": [
    "fig, axes = plt.subplots(2, 2)\n",
    "base_fmt_str = r'$\\theta$ = {:.2g}, $T_e$={:.2g}, $n_e$={:.2g}'\n",
    "\n",
    "for i, probe in enumerate(probes[0:3]):\n",
    "    probe_axes = axes[i//2][i%2]\n",
    "    for j, fit in enumerate(fits[probe]):\n",
    "        probe_axes.plot(*fit.get_raw_plottables(), color='silver')\n",
    "        label_str = base_fmt_str.format(tilt_da.values[j], temps[probe][j], denss[probe][j])\n",
    "        probe_axes.plot(*fit.get_fit_plottables())\n",
    "    \n",
    "    anal_voltage = np.linspace(-100, -20, 100)\n",
    "    \n",
    "    for tilt in [1.0,10.0]:\n",
    "        v_f = -(1/tilt) * 10 * probe_temps[probe]\n",
    "        anal_current = magnum_probes[probe].get_analytical_iv(anal_voltage, v_f, np.radians(tilt), probe_temps[probe], probe_denss[probe], print_fl=True)\n",
    "#         print(v_f, tilt, probe_temps[probe], probe_denss[probe])\n",
    "#         print(anal_current)\n",
    "        label_str = base_fmt_str.format(tilt, probe_temps[probe], probe_denss[probe])\n",
    "        probe_axes.plot(anal_voltage, anal_current, label='TS IV ({})'.format(label_str), color='black', linestyle='dashed')\n",
    "    \n",
    "    probe_axes.legend()\n",
    "    probe_axes.set_title(f'Probe {probe}')\n",
    "    probe_axes.set_ylim(bottom=-0.1)\n",
    "plt.show()"
   ]
  },
  {
   "cell_type": "code",
   "execution_count": 105,
   "metadata": {},
   "outputs": [
    {
     "name": "stdout",
     "output_type": "stream",
     "text": [
      "10 10.0\n",
      "a = 0.004403455724189879, c_s = 26684.902704209966, lambda_d = 2.132311813563847e-06, I_0 = 0.5331574166017856\n",
      "a = 0.004358447816880586, c_s = 26998.108558190677, lambda_d = 2.110517364278894e-06, I_0 = 0.563614514199392\n",
      "a = 0.004316732828756248, c_s = 27307.722334653714, lambda_d = 2.090317465028955e-06, I_0 = 0.5945548778108272\n",
      "a = 0.004277956932056501, c_s = 27613.864859762776, lambda_d = 2.071540779672453e-06, I_0 = 0.6259715873082575\n",
      "a = 0.004241815807726584, c_s = 27916.650334163263, lambda_d = 2.054039945965685e-06, I_0 = 0.6578579996354604\n",
      "a = 0.004208046202685745, c_s = 28216.18683072952, lambda_d = 2.037687487288196e-06, I_0 = 0.6902077312900328\n",
      "a = 0.004176419169773174, c_s = 28512.57674524227, lambda_d = 2.0223725391811947e-06, I_0 = 0.7230146422889033\n",
      "a = 0.004146734609535399, c_s = 28805.917205324786, lambda_d = 2.0079982062844783e-06, I_0 = 0.7562728214617105\n",
      "a = 0.004122831769672805, c_s = 29252.55031793478, lambda_d = 1.9964235905714727e-06, I_0 = 0.8012090184864588\n",
      "a = 0.004103272150867794, c_s = 29790.617199361175, lambda_d = 1.986952118877635e-06, I_0 = 0.8543261690377354\n"
     ]
    },
    {
     "data": {
      "text/plain": [
       "(0.0, 1.0890114336518069)"
      ]
     },
     "execution_count": 105,
     "metadata": {},
     "output_type": "execute_result"
    }
   ],
   "source": [
    "tilt = 10.0\n",
    "i = 10\n",
    "probe = 'S'\n",
    "print(i, tilt)\n",
    "\n",
    "\n",
    "positions = np.array([-7, 6])\n",
    "\n",
    "fig, axes = plt.subplots()\n",
    "ts_temp.plot()\n",
    "\n",
    "# axes.axvline(x=positions[0], color='red')\n",
    "# axes.vlines([positions[0] + (i*10) for i in np.arange(-1, 3)], -0.5, 7.5, color='red')\n",
    "\n",
    "# axes.axvline(x=positions[1], color='blue')\n",
    "# axes.vlines([positions[1] + (i*10) for i in np.arange(-1, 3)], -0.5, 7.5, color='blue')\n",
    "\n",
    "positions = np.linspace(-8, -6, 10)\n",
    "fig, axes = plt.subplots()\n",
    "\n",
    "fit = fits[probe][i]\n",
    "axes.plot(*fit.get_raw_plottables(), color='silver')\n",
    "label_str = base_fmt_str.format(tilt_da.values[j], temps[probe][i], denss[probe][i])\n",
    "axes.plot(*fit.get_fit_plottables())\n",
    "\n",
    "for pos in positions:\n",
    "    temp = ts_temp.interp(ts_radial_pos=pos).values\n",
    "    dens = ts_dens.interp(ts_radial_pos=pos).values\n",
    "    v_f = temp * -10\n",
    "#     anal_voltage = np.linspace(-100, -20, 100)\n",
    "    anal_voltage = fit.raw_x\n",
    "    anal_current = magnum_probes[probe].get_analytical_iv(anal_voltage, v_f, np.radians(tilt), temp, dens, print_fl=True)\n",
    "    label_str = base_fmt_str.format(tilt, temp, dens)\n",
    "    axes.plot(anal_voltage, anal_current, label=f'pos = {pos}', linestyle='dashed')\n",
    "\n",
    "axes.legend()\n",
    "axes.set_ylim(bottom=0.0)"
   ]
  },
  {
   "cell_type": "markdown",
   "metadata": {},
   "source": [
    "# Non-sweep Averaging"
   ]
  },
  {
   "cell_type": "code",
   "execution_count": 35,
   "metadata": {},
   "outputs": [
    {
     "data": {
      "text/plain": [
       "<xarray.Dataset>\n",
       "Dimensions:      (direction: 2, probe: 4, shot_number: 22, sweep: 997, time: 50)\n",
       "Coordinates:\n",
       "  * probe        (probe) object 'B' 'L' 'R' 'S'\n",
       "  * direction    (direction) object 'up' 'down'\n",
       "  * shot_number  (shot_number) int64 329 330 331 332 333 ... 349 350 351 352 353\n",
       "Dimensions without coordinates: sweep, time\n",
       "Data variables:\n",
       "    voltage      (shot_number, probe, direction, sweep, time) float64 nan ... nan\n",
       "    current      (shot_number, probe, direction, sweep, time) float64 nan ... nan\n",
       "    shot_time    (shot_number, probe, direction, sweep, time) float64 nan ... nan\n",
       "    start_time   (shot_number, probe, direction, sweep) float64 nan nan ... nan"
      ]
     },
     "execution_count": 35,
     "metadata": {},
     "output_type": "execute_result"
    }
   ],
   "source": [
    "combined_ds = xr.open_mfdataset(files_oi, concat_dim=shot_numbers_da, preprocess=preprocess_sel)\n",
    "combined_ds = combined_ds.load()\n",
    "combined_ds"
   ]
  },
  {
   "cell_type": "code",
   "execution_count": 49,
   "metadata": {},
   "outputs": [
    {
     "data": {
      "text/plain": [
       "<xarray.Dataset>\n",
       "Dimensions:                 (direction: 2, probe: 4, shot_number: 22, sweep: 997, time: 50, ts_radial_pos: 46)\n",
       "Coordinates:\n",
       "  * probe                   (probe) object 'B' 'L' 'R' 'S'\n",
       "  * direction               (direction) object 'up' 'down'\n",
       "  * shot_number             (shot_number) int32 329 330 331 332 ... 351 352 353\n",
       "    ts_number               (shot_number) float64 ...\n",
       "    ts_timestamp            (shot_number) float64 ...\n",
       "    ts_time                 (shot_number) datetime64[ns] ...\n",
       "    adc_index               (shot_number) float64 ...\n",
       "    adc_time                (shot_number) datetime64[ns] ...\n",
       "  * ts_radial_pos           (ts_radial_pos) float64 -36.47 -34.8 ... 37.14 38.82\n",
       "    tilt                    (shot_number) float64 1.0 2.0 3.0 ... 8.0 9.0 10.0\n",
       "Dimensions without coordinates: sweep, time\n",
       "Data variables:\n",
       "    voltage                 (shot_number, probe, direction, sweep, time) float64 nan ... nan\n",
       "    current                 (shot_number, probe, direction, sweep, time) float64 nan ... nan\n",
       "    shot_time               (shot_number, probe, direction, sweep, time) float64 nan ... nan\n",
       "    start_time              (shot_number, probe, direction, sweep) float64 nan ... nan\n",
       "    adc_filename            (shot_number) object '2019-06-05 15h 52m 17s TT_06699043972926121530.adc' ... '2019-06-05 17h 03m 59s TT_06699062430372281696.adc'\n",
       "    ts_density              (shot_number, ts_radial_pos) float64 nan nan ... nan\n",
       "    ts_temperature          (shot_number, ts_radial_pos) float64 nan nan ... nan\n",
       "    ts_d_density            (shot_number, ts_radial_pos) float64 nan nan ... nan\n",
       "    ts_d_temperature        (shot_number, ts_radial_pos) float64 nan nan ... nan\n",
       "    adc_folder              (shot_number) object '2019-06-05_Leland/' ... '2019-06-05_Leland/'\n",
       "    adc_calibration_index   (shot_number) object '272' '272' ... '334' '334'\n",
       "    adc_4_probe             (shot_number) object 'S' 'S' 'S' 'S' ... 'R' 'R' 'R'\n",
       "    adc_5_probe             (shot_number) object 'L' 'L' 'L' 'L' ... 'B' 'B' 'B'\n",
       "    ts_temp_max             (shot_number) float64 3.973 4.656 ... 5.021 4.254\n",
       "    ts_dens_max             (shot_number) float64 1.676e+19 ... 1.896e+19\n",
       "    shot_end_time           (shot_number) datetime64[ns] 2019-06-05T14:52:26 ... 2019-06-05T16:04:03\n",
       "    ts_fl                   (shot_number) bool True True True ... True True True\n",
       "    sweep_time              (shot_number) datetime64[ns] 2019-06-05T14:51:55 ... 2019-06-05T16:03:32\n",
       "    shot_source_current     (shot_number) float64 110.3 110.1 ... 110.1 110.0\n",
       "    shot_b_field            (shot_number) float64 1.2 1.2 1.2 ... 1.2 1.2 1.2\n",
       "    shot_tilt               (shot_number) float64 0.9862 1.982 ... 8.99 9.983\n",
       "    shot_target_pos         (shot_number) float64 -0.15 -0.15 ... -0.15 -0.15\n",
       "    shot_target_rot         (shot_number) float64 -89.94 -89.94 ... -89.94\n",
       "    shot_target_pumpspeed   (shot_number) int32 82 82 82 82 82 ... 82 82 82 82\n",
       "    shot_source_pumpspeed   (shot_number) int32 82 82 82 82 82 ... 82 82 82 82\n",
       "    shot_heating_pumpspeed  (shot_number) int32 82 82 82 82 82 ... 82 82 82 82\n",
       "    shot_source_pos         (shot_number) float64 1.2 1.2 1.2 ... 1.2 1.2 1.2\n",
       "    shot_deuterium_gf       (shot_number) float64 0.003932 0.003744 ... 0.008466\n",
       "    shot_hydrogen_gf        (shot_number) float64 8.438 8.442 ... 8.44 8.45\n",
       "    shot_helium_gf          (shot_number) float64 0.0 0.0 0.0 ... 0.0 0.0 0.0\n",
       "    shot_hydrogen_puffed    (shot_number) float64 -0.01506 -0.03652 ... -0.02188\n",
       "    shot_helium_puffed      (shot_number) float64 -0.05326 -0.05469 ... -0.05238\n",
       "    adc_timestamp           (shot_number) float64 6.699e+18 ... 6.699e+18\n",
       "    adc_4_coax              (shot_number) float64 1.0 1.0 1.0 ... 1.0 1.0 1.0\n",
       "    adc_4_shunt_resistance  (shot_number) float64 1.0 1.0 1.0 ... 1.0 1.0 1.0\n",
       "    adc_5_coax              (shot_number) float64 2.0 2.0 2.0 ... 2.0 2.0 2.0\n",
       "    adc_5_shunt_resistance  (shot_number) float64 1.0 1.0 1.0 ... 1.0 1.0 1.0\n",
       "    adc_calibration_fl      (shot_number) float64 0.0 0.0 0.0 ... 0.0 0.0 0.0\n",
       "    shot_fl                 (shot_number) float64 1.0 1.0 1.0 ... 1.0 1.0 1.0\n",
       "    acquisition_length      (shot_number) float64 17.0 17.0 22.0 ... 22.0 22.0\n",
       "    adc_end_time            (shot_number) datetime64[ns] 2019-06-05T14:52:17 ... 2019-06-05T16:03:59\n",
       "    adc_end_timestamp       (shot_number) float64 6.699e+18 ... 6.699e+18\n",
       "    adc_freqs               (shot_number) float64 1e+06 1e+06 ... 1e+06 1e+06"
      ]
     },
     "execution_count": 49,
     "metadata": {},
     "output_type": "execute_result"
    }
   ],
   "source": [
    "hydrogen_anglescan_ds = xr.merge([combined_ds, helium_meta_ds.rename({'shot_time':'sweep_time'})]).assign_coords(tilt=helium_meta_ds['shot_tilt'].round())\n",
    "hydrogen_anglescan_ds"
   ]
  },
  {
   "cell_type": "code",
   "execution_count": 37,
   "metadata": {},
   "outputs": [],
   "source": [
    "probe = 'R'\n",
    "\n",
    "# shot_number = 343\n",
    "shot_number = 345"
   ]
  },
  {
   "cell_type": "code",
   "execution_count": 47,
   "metadata": {},
   "outputs": [
    {
     "name": "stdout",
     "output_type": "stream",
     "text": [
      "<xarray.Dataset>\n",
      "Dimensions:                 (direction: 2, sweep: 997, time: 50)\n",
      "Coordinates:\n",
      "    probe                   <U1 'R'\n",
      "  * direction               (direction) object 'up' 'down'\n",
      "    shot_number             int32 345\n",
      "    ts_number               float64 ...\n",
      "    ts_timestamp            float64 ...\n",
      "    ts_time                 datetime64[ns] ...\n",
      "    adc_index               float64 ...\n",
      "    adc_time                datetime64[ns] ...\n",
      "    tilt                    float64 2.0\n",
      "Dimensions without coordinates: sweep, time\n",
      "Data variables:\n",
      "    voltage                 (direction, sweep, time) float64 1.952 ... -96.02\n",
      "    current                 (direction, sweep, time) float64 0.004648 ... -0.01949\n",
      "    shot_time               (direction, sweep, time) float64 1.015 ... 10.98\n",
      "    start_time              (direction, sweep) float64 1.015 1.025 ... 10.98\n",
      "    adc_filename            object '2019-06-05 16h 47m 40s TT_06699058225871413896.adc'\n",
      "    ts_density              float64 1.681e+19\n",
      "    ts_temperature          float64 4.527\n",
      "    ts_d_density            float64 4.877e+16\n",
      "    ts_d_temperature        float64 0.04099\n",
      "    adc_folder              object '2019-06-05_Leland/'\n",
      "    adc_calibration_index   object '334'\n",
      "    adc_4_probe             object 'R'\n",
      "    adc_5_probe             object 'B'\n",
      "    ts_temp_max             float64 4.527\n",
      "    ts_dens_max             float64 1.681e+19\n",
      "    shot_end_time           datetime64[ns] 2019-06-05T15:47:44\n",
      "    ts_fl                   bool True\n",
      "    sweep_time              datetime64[ns] 2019-06-05T15:47:13\n",
      "    shot_source_current     float64 110.5\n",
      "    shot_b_field            float64 1.2\n",
      "    shot_tilt               float64 1.983\n",
      "    shot_target_pos         float64 -0.15\n",
      "    shot_target_rot         float64 -89.94\n",
      "    shot_target_pumpspeed   int32 82\n",
      "    shot_source_pumpspeed   int32 82\n",
      "    shot_heating_pumpspeed  int32 82\n",
      "    shot_source_pos         float64 1.2\n",
      "    shot_deuterium_gf       float64 0.003121\n",
      "    shot_hydrogen_gf        float64 8.442\n",
      "    shot_helium_gf          float64 0.0\n",
      "    shot_hydrogen_puffed    float64 -0.02087\n",
      "    shot_helium_puffed      float64 -0.05315\n",
      "    adc_timestamp           float64 6.699e+18\n",
      "    adc_4_coax              float64 1.0\n",
      "    adc_4_shunt_resistance  float64 1.0\n",
      "    adc_5_coax              float64 2.0\n",
      "    adc_5_shunt_resistance  float64 1.0\n",
      "    adc_calibration_fl      float64 0.0\n",
      "    shot_fl                 float64 1.0\n",
      "    acquisition_length      float64 22.0\n",
      "    adc_end_time            datetime64[ns] 2019-06-05T15:47:40\n",
      "    adc_end_timestamp       float64 6.699e+18\n",
      "    adc_freqs               float64 1e+06\n"
     ]
    }
   ],
   "source": [
    "weird_ds = hydrogen_anglescan_ds.sel(probe=probe, shot_number=shot_number).max('ts_radial_pos')\n",
    "# print(weird_ds)\n",
    "# weird_ds = weird_ds.where(np.isfinite(weird_ds.voltage), drop=True)\n",
    "print(weird_ds)"
   ]
  },
  {
   "cell_type": "code",
   "execution_count": 41,
   "metadata": {},
   "outputs": [],
   "source": [
    "plt.figure()\n",
    "for sweep in weird_ds['sweep'].values[::2]:\n",
    "    sweep_ds = weird_ds.sel(sweep=sweep)\n",
    "#     plt.plot(sweep_ds['time'].values, sweep_ds['voltage'].values)\n",
    "    plt.plot(sweep_ds['voltage'].values, sweep_ds['current'].values)\n",
    "    \n",
    "sweep_avg = weird_ds.mean('sweep')\n",
    "plt.plot(sweep_avg['voltage'].values, sweep_avg['current'].values, 'k', label='Average')\n",
    "plt.show()"
   ]
  },
  {
   "cell_type": "code",
   "execution_count": null,
   "metadata": {},
   "outputs": [],
   "source": [
    "zeroed_ds = weird_ds - sweep_avg\n",
    "bins = np.linspace(-0.05,0.05,100)\n",
    "\n",
    "plt.figure()\n",
    "for time in zeroed_ds['time'].values[0:1]:\n",
    "    time_ds = zeroed_ds.sel(time=time, direction='up')\n",
    "    hist = time_ds['current'].plot.hist(bins=bins)\n",
    "    time_ds = zeroed_ds.sel(time=time, direction='down')\n",
    "    hist = time_ds['current'].plot.hist(bins=bins)\n",
    "    \n",
    "# sweep_avg = weird_ds.mean('sweep')\n",
    "# plt.plot(sweep_avg['time'].values, sweep_avg['voltage'].values, 'b', label='Average')\n",
    "plt.show()"
   ]
  },
  {
   "cell_type": "markdown",
   "metadata": {},
   "source": [
    "# Trying to find problem with time dimension\n",
    "Found it by looking at teh individual time values on each dataset and noticing slight differences. Fixed by dropping the coordinate from time, which can be added back in later if necessary."
   ]
  },
  {
   "cell_type": "code",
   "execution_count": 9,
   "metadata": {},
   "outputs": [
    {
     "data": {
      "text/plain": [
       "143"
      ]
     },
     "execution_count": 9,
     "metadata": {},
     "output_type": "execute_result"
    }
   ],
   "source": [
    "analysed_infos_df['shot_index'].loc[indices[0]]"
   ]
  },
  {
   "cell_type": "code",
   "execution_count": 22,
   "metadata": {},
   "outputs": [
    {
     "name": "stdout",
     "output_type": "stream",
     "text": [
      "<xarray.Dataset>\n",
      "Dimensions:      (probe: 2, shot_number: 2, time: 5000)\n",
      "Coordinates:\n",
      "  * probe        (probe) object 'S' 'L'\n",
      "  * shot_number  (shot_number) int64 143 144\n",
      "    time_        (shot_number, time) float64 0.0 1e-06 ... 0.004998 0.004999\n",
      "Dimensions without coordinates: time\n",
      "Data variables:\n",
      "    voltage      (shot_number, probe, time) float64 88.51 88.59 ... -967.3\n",
      "    current      (shot_number, probe, time) float64 0.2893 0.2893 ... -0.01502\n",
      "    shot_time    (shot_number, probe, time) float64 4.496 4.496 ... 4.496 4.496\n",
      "    start_time   (shot_number, probe) float64 4.494 4.494 4.494 4.494\n"
     ]
    }
   ],
   "source": [
    "ds_list = []\n",
    "slicey = slice(0, 2)\n",
    "for i, ds_file in enumerate(files_oi[slicey]):\n",
    "    ds = xr.open_dataset(ds_file).sel(sweep=slice(0,699)).expand_dims({'shot_number':[analysed_infos_df['shot_index'].loc[indices[i]]]}).reset_index('time').mean('direction').mean('sweep')\n",
    "    ds_list.append(ds)\n",
    "\n",
    "shot_number_da = xr.DataArray(analysed_infos_df.loc[indices[slicey]]['shot_index'].values, dims=['shot_number'], name='shot_number')\n",
    "autocombined_ds = xr.concat(ds_list, dim=shot_number_da)\n",
    "print(autocombined_ds)"
   ]
  },
  {
   "cell_type": "code",
   "execution_count": 24,
   "metadata": {},
   "outputs": [
    {
     "name": "stdout",
     "output_type": "stream",
     "text": [
      "<xarray.DataArray 'time' ()>\n",
      "array(0.004999)\n",
      "analysed_1/a143_148_6698301520675232768.nc [0.0000000e+00 1.0000001e-06 2.0000002e-06 ... 4.9970005e-03 4.9980005e-03\n",
      " 4.9990005e-03] [0.0000000e+00 1.0000001e-06 2.0000002e-06 ... 4.9970005e-03 4.9980005e-03\n",
      " 4.9990005e-03]\n"
     ]
    }
   ],
   "source": [
    "for ds_file in files_oi[0:1]:\n",
    "    ds = xr.open_dataset(ds_file)\n",
    "    print(ds['time'].max())\n",
    "    print(ds_file, ds['time'].values, ds.mean('direction').mean('sweep')['time'].values)"
   ]
  },
  {
   "cell_type": "code",
   "execution_count": null,
   "metadata": {},
   "outputs": [],
   "source": []
  }
 ],
 "metadata": {
  "kernelspec": {
   "display_name": "python3.6-codac",
   "language": "python",
   "name": "python3.6-codac"
  },
  "language_info": {
   "codemirror_mode": {
    "name": "ipython",
    "version": 3
   },
   "file_extension": ".py",
   "mimetype": "text/x-python",
   "name": "python",
   "nbconvert_exporter": "python",
   "pygments_lexer": "ipython3",
   "version": "3.6.9"
  }
 },
 "nbformat": 4,
 "nbformat_minor": 4
}
