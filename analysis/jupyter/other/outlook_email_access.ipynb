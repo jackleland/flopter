{
 "cells": [
  {
   "cell_type": "markdown",
   "metadata": {},
   "source": [
    "# Access to Outlook Emails\n",
    "This notebook is a testbed for the use fo exchangelib to access Outlook emails with a mind to process marconi job emails. \n"
   ]
  },
  {
   "cell_type": "code",
   "execution_count": 1,
   "metadata": {},
   "outputs": [],
   "source": [
    "import exchangelib as xchg\n",
    "import os"
   ]
  },
  {
   "cell_type": "code",
   "execution_count": 2,
   "metadata": {},
   "outputs": [
    {
     "data": {
      "text/plain": [
       "True"
      ]
     },
     "execution_count": 2,
     "metadata": {},
     "output_type": "execute_result"
    }
   ],
   "source": [
    "\"OL_USERNAME\" in os.environ"
   ]
  },
  {
   "cell_type": "code",
   "execution_count": 4,
   "metadata": {},
   "outputs": [],
   "source": [
    "# os.environ.get(\"OL_USERNAME\")\n",
    "# os.environ.get(\"OL_PASSWORD\")"
   ]
  },
  {
   "cell_type": "code",
   "execution_count": 5,
   "metadata": {},
   "outputs": [],
   "source": [
    "credentials = xchg.Credentials(username=f'{os.environ[\"OL_USERNAME\"]}@liverpool.ac.uk', password=os.environ[\"OL_PASSWORD\"])"
   ]
  },
  {
   "cell_type": "code",
   "execution_count": 63,
   "metadata": {},
   "outputs": [],
   "source": [
    "a = xchg.Account(primary_smtp_address='jeleland@liverpool.ac.uk', credentials=credentials,\n",
    "                          autodiscover=True, access_type=xchg.DELEGATE)"
   ]
  },
  {
   "cell_type": "code",
   "execution_count": 64,
   "metadata": {},
   "outputs": [
    {
     "name": "stdout",
     "output_type": "stream",
     "text": [
      "Cycling news...\n"
     ]
    }
   ],
   "source": [
    "print(a.inbox.all().order_by('-datetime_received')[0].subject)"
   ]
  },
  {
   "cell_type": "code",
   "execution_count": 65,
   "metadata": {},
   "outputs": [
    {
     "name": "stdout",
     "output_type": "stream",
     "text": [
      "Messages (Marconi Jobs)\n",
      "Inbox\n",
      "├── 1) Supervisors\n",
      "├── Collaboratory\n",
      "│   └── Travel\n",
      "├── Culham\n",
      "│   ├── CODAS\n",
      "│   ├── Culham Broadcast\n",
      "│   ├── Freia Jobs\n",
      "│   ├── Interruptions\n",
      "│   ├── Physics and Tech\n",
      "│   └── Scanned Images\n",
      "├── Google Docs\n",
      "├── Internationalisation\n",
      "│   ├── Eindhoven\n",
      "│   └── Prague\n",
      "├── LP Scripts Development\n",
      "├── Liverpool\n",
      "│   ├── PGR Confirmations\n",
      "│   ├── Remittance\n",
      "│   └── Vital@Liverpool\n",
      "├── Marconi\n",
      "│   ├── HPC News\n",
      "│   ├── Marconi Jobs\n",
      "│   └── Support\n",
      "├── Non-academic\n",
      "│   ├── Airbnb\n",
      "│   ├── Amazon\n",
      "│   ├── NowTV\n",
      "│   └── Pact\n",
      "├── Researchfish\n",
      "├── SPICE\n",
      "└── Spam Notifications\n"
     ]
    }
   ],
   "source": [
    "print((a.inbox / 'Marconi' / 'Marconi Jobs'))\n",
    "print(a.inbox.tree())"
   ]
  },
  {
   "cell_type": "code",
   "execution_count": 66,
   "metadata": {},
   "outputs": [
    {
     "name": "stdout",
     "output_type": "stream",
     "text": [
      "parent_folder_id EWSElementField(name='parent_folder_id', value_cls=<class 'exchangelib.properties.ParentFolderId'>, is_list=False, is_complex=False, default=None)\n",
      "item_class CharField(name='item_class', value_cls=<class 'str'>, is_list=False, is_complex=False, default=None)\n",
      "subject CharField(name='subject', value_cls=<class 'str'>, is_list=False, is_complex=False, default=None)\n",
      "sensitivity ChoiceField(name='sensitivity', value_cls=<class 'str'>, is_list=False, is_complex=False, default='Normal')\n",
      "text_body TextField(name='text_body', value_cls=<class 'str'>, is_list=False, is_complex=True, default=None)\n",
      "body BodyField(name='body', value_cls=<class 'exchangelib.properties.Body'>, is_list=False, is_complex=True, default=None)\n",
      "attachments AttachmentField(name='attachments', value_cls=<class 'exchangelib.attachments.Attachment'>, is_list=True, is_complex=True, default=None)\n",
      "datetime_received DateTimeField(name='datetime_received', value_cls=<class 'exchangelib.ewsdatetime.EWSDateTime'>, is_list=False, is_complex=False, default=None)\n",
      "size IntegerField(name='size', value_cls=<class 'int'>, is_list=False, is_complex=False, default=None)\n",
      "categories CharListField(name='categories', value_cls=<class 'str'>, is_list=True, is_complex=False, default=None)\n",
      "importance ChoiceField(name='importance', value_cls=<class 'str'>, is_list=False, is_complex=False, default='Normal')\n",
      "in_reply_to TextField(name='in_reply_to', value_cls=<class 'str'>, is_list=False, is_complex=True, default=None)\n",
      "is_submitted BooleanField(name='is_submitted', value_cls=<class 'bool'>, is_list=False, is_complex=False, default=None)\n",
      "is_draft BooleanField(name='is_draft', value_cls=<class 'bool'>, is_list=False, is_complex=False, default=None)\n",
      "is_from_me BooleanField(name='is_from_me', value_cls=<class 'bool'>, is_list=False, is_complex=False, default=None)\n",
      "is_resend BooleanField(name='is_resend', value_cls=<class 'bool'>, is_list=False, is_complex=False, default=None)\n",
      "is_unmodified BooleanField(name='is_unmodified', value_cls=<class 'bool'>, is_list=False, is_complex=False, default=None)\n",
      "headers MessageHeaderField(name='headers', value_cls=<class 'exchangelib.properties.MessageHeader'>, is_list=True, is_complex=True, default=None)\n",
      "datetime_sent DateTimeField(name='datetime_sent', value_cls=<class 'exchangelib.ewsdatetime.EWSDateTime'>, is_list=False, is_complex=False, default=None)\n",
      "datetime_created DateTimeField(name='datetime_created', value_cls=<class 'exchangelib.ewsdatetime.EWSDateTime'>, is_list=False, is_complex=False, default=None)\n",
      "reminder_is_set BooleanField(name='reminder_is_set', value_cls=<class 'bool'>, is_list=False, is_complex=False, default=False)\n",
      "reminder_minutes_before_start IntegerField(name='reminder_minutes_before_start', value_cls=<class 'int'>, is_list=False, is_complex=False, default=0)\n",
      "display_cc TextField(name='display_cc', value_cls=<class 'str'>, is_list=False, is_complex=True, default=None)\n",
      "display_to TextField(name='display_to', value_cls=<class 'str'>, is_list=False, is_complex=True, default=None)\n",
      "has_attachments BooleanField(name='has_attachments', value_cls=<class 'bool'>, is_list=False, is_complex=False, default=None)\n",
      "effective_rights EffectiveRightsField(name='effective_rights', value_cls=<class 'exchangelib.properties.EffectiveRights'>, is_list=False, is_complex=False, default=None)\n",
      "last_modified_name CharField(name='last_modified_name', value_cls=<class 'str'>, is_list=False, is_complex=False, default=None)\n",
      "last_modified_time DateTimeField(name='last_modified_time', value_cls=<class 'exchangelib.ewsdatetime.EWSDateTime'>, is_list=False, is_complex=False, default=None)\n",
      "is_associated BooleanField(name='is_associated', value_cls=<class 'bool'>, is_list=False, is_complex=False, default=None)\n",
      "web_client_read_form_query_string URIField(name='web_client_read_form_query_string', value_cls=<class 'str'>, is_list=False, is_complex=True, default=None)\n",
      "web_client_edit_form_query_string URIField(name='web_client_edit_form_query_string', value_cls=<class 'str'>, is_list=False, is_complex=True, default=None)\n",
      "conversation_id EWSElementField(name='conversation_id', value_cls=<class 'exchangelib.properties.ConversationId'>, is_list=False, is_complex=False, default=None)\n",
      "unique_body BodyField(name='unique_body', value_cls=<class 'exchangelib.properties.Body'>, is_list=False, is_complex=True, default=None)\n",
      "sender MailboxField(name='sender', value_cls=<class 'exchangelib.properties.Mailbox'>, is_list=False, is_complex=True, default=None)\n",
      "is_read_receipt_requested BooleanField(name='is_read_receipt_requested', value_cls=<class 'bool'>, is_list=False, is_complex=False, default=False)\n",
      "is_delivery_receipt_requested BooleanField(name='is_delivery_receipt_requested', value_cls=<class 'bool'>, is_list=False, is_complex=False, default=False)\n",
      "conversation_topic CharField(name='conversation_topic', value_cls=<class 'str'>, is_list=False, is_complex=False, default=None)\n",
      "author MailboxField(name='author', value_cls=<class 'exchangelib.properties.Mailbox'>, is_list=False, is_complex=True, default=None)\n",
      "message_id CharField(name='message_id', value_cls=<class 'str'>, is_list=False, is_complex=False, default=None)\n",
      "is_read BooleanField(name='is_read', value_cls=<class 'bool'>, is_list=False, is_complex=False, default=False)\n",
      "is_response_requested BooleanField(name='is_response_requested', value_cls=<class 'bool'>, is_list=False, is_complex=False, default=False)\n",
      "references TextField(name='references', value_cls=<class 'str'>, is_list=False, is_complex=True, default=None)\n",
      "received_by MailboxField(name='received_by', value_cls=<class 'exchangelib.properties.Mailbox'>, is_list=False, is_complex=True, default=None)\n",
      "received_representing MailboxField(name='received_representing', value_cls=<class 'exchangelib.properties.Mailbox'>, is_list=False, is_complex=True, default=None)\n"
     ]
    }
   ],
   "source": [
    "for f in xchg.Message.FIELDS: \n",
    "    if f.is_searchable:\n",
    "        print(f.name, f)"
   ]
  },
  {
   "cell_type": "code",
   "execution_count": 71,
   "metadata": {},
   "outputs": [],
   "source": [
    "start = a.default_timezone.localize(xchg.EWSDateTime(2020, 5, 1))\n",
    "end = a.default_timezone.localize(xchg.EWSDateTime(2020, 12, 1))\n"
   ]
  },
  {
   "cell_type": "code",
   "execution_count": 77,
   "metadata": {},
   "outputs": [],
   "source": [
    "messages = []\n",
    "for message in (a.inbox / 'Marconi'/ 'Marconi Jobs').all().order_by('-datetime_received').filter(datetime_received__range=(start, end)):\n",
    "    messages.append(message)"
   ]
  },
  {
   "cell_type": "code",
   "execution_count": null,
   "metadata": {},
   "outputs": [],
   "source": []
  }
 ],
 "metadata": {
  "kernelspec": {
   "display_name": "outlook_access",
   "language": "python",
   "name": "outlook_access"
  },
  "language_info": {
   "codemirror_mode": {
    "name": "ipython",
    "version": 3
   },
   "file_extension": ".py",
   "mimetype": "text/x-python",
   "name": "python",
   "nbconvert_exporter": "python",
   "pygments_lexer": "ipython3",
   "version": "3.7.5"
  }
 },
 "nbformat": 4,
 "nbformat_minor": 4
}
