{
 "cells": [
  {
   "cell_type": "code",
   "execution_count": 38,
   "metadata": {},
   "outputs": [],
   "source": [
    "import numpy as np\n",
    "import matplotlib.pyplot as plt"
   ]
  },
  {
   "cell_type": "code",
   "execution_count": 39,
   "metadata": {},
   "outputs": [],
   "source": [
    "dist_plain = {}\n",
    "dist_added = {}\n",
    "dist_mult = {}\n",
    "\n",
    "dist_3D6 = {}\n",
    "dist_4D6 = {}\n",
    "dist_5D6 = {}"
   ]
  },
  {
   "cell_type": "code",
   "execution_count": 40,
   "metadata": {},
   "outputs": [],
   "source": [
    "r = 20"
   ]
  },
  {
   "cell_type": "code",
   "execution_count": 41,
   "metadata": {},
   "outputs": [],
   "source": [
    "for i in range(r):\n",
    "    result = i + 1\n",
    "    if result in dist_plain:\n",
    "        dist_plain[result] += 1\n",
    "    else:\n",
    "        dist_plain[result] = 1"
   ]
  },
  {
   "cell_type": "code",
   "execution_count": 42,
   "metadata": {},
   "outputs": [],
   "source": [
    "for i in range(r):\n",
    "    for j in range(r):\n",
    "        result = (i + 1) + (j + 1)\n",
    "        if result in dist_added:\n",
    "            dist_added[result] += 1\n",
    "        else:\n",
    "            dist_added[result] = 1"
   ]
  },
  {
   "cell_type": "code",
   "execution_count": 43,
   "metadata": {},
   "outputs": [],
   "source": [
    "for i in range(r):\n",
    "    for j in range(r):\n",
    "        result = (i + 1) * (j + 1)\n",
    "        if result in dist_mult:\n",
    "            dist_mult[result] += 1\n",
    "        else:\n",
    "            dist_mult[result] = 1"
   ]
  },
  {
   "cell_type": "code",
   "execution_count": 44,
   "metadata": {},
   "outputs": [],
   "source": [
    "for i in range(r):\n",
    "    for j in range(r):\n",
    "        for k in range(r):\n",
    "            result = (i + 1) + (j + 1) + (k + 1)\n",
    "            if result in dist_3D6:\n",
    "                dist_3D6[result] += 1\n",
    "            else:\n",
    "                dist_3D6[result] = 1"
   ]
  },
  {
   "cell_type": "code",
   "execution_count": 45,
   "metadata": {},
   "outputs": [],
   "source": [
    "for i in range(r):\n",
    "    for j in range(r):\n",
    "        for k in range(r):\n",
    "            for l in range(r):\n",
    "                result = (i + 1) + (j + 1) + (k + 1) + (l + 1)\n",
    "                if result in dist_4D6:\n",
    "                    dist_4D6[result] += 1\n",
    "                else:\n",
    "                    dist_4D6[result] = 1"
   ]
  },
  {
   "cell_type": "code",
   "execution_count": 46,
   "metadata": {},
   "outputs": [],
   "source": [
    "for i in range(r):\n",
    "    for j in range(r):\n",
    "        for k in range(r):\n",
    "            for l in range(r):\n",
    "                for m in range(r):\n",
    "                    result = (i + 1) + (j + 1) + (k + 1) + (l + 1) + (m + 1)\n",
    "                    if result in dist_5D6:\n",
    "                        dist_5D6[result] += 1\n",
    "                    else:\n",
    "                        dist_5D6[result] = 1"
   ]
  },
  {
   "cell_type": "code",
   "execution_count": 47,
   "metadata": {},
   "outputs": [
    {
     "data": {
      "text/plain": [
       "<BarContainer object of 152 artists>"
      ]
     },
     "execution_count": 47,
     "metadata": {},
     "output_type": "execute_result"
    },
    {
     "data": {
      "image/png": "[encoded data removed]",
      "text/plain": [
       "<Figure size 432x288 with 1 Axes>"
      ]
     },
     "metadata": {},
     "output_type": "display_data"
    },
    {
     "data": {
      "image/png": "[encoded data removed]",
      "text/plain": [
       "<Figure size 432x288 with 1 Axes>"
      ]
     },
     "metadata": {},
     "output_type": "display_data"
    },
    {
     "data": {
      "image/png": "[encoded data removed]",
      "text/plain": [
       "<Figure size 432x288 with 1 Axes>"
      ]
     },
     "metadata": {},
     "output_type": "display_data"
    }
   ],
   "source": [
    "plt.figure()\n",
    "plt.bar(dist_plain.keys(), dist_plain.values())\n",
    "\n",
    "plt.figure()\n",
    "plt.bar(dist_added.keys(), dist_added.values())\n",
    "\n",
    "plt.figure()\n",
    "plt.bar(dist_mult.keys(), dist_mult.values())"
   ]
  },
  {
   "cell_type": "code",
   "execution_count": 48,
   "metadata": {},
   "outputs": [
    {
     "data": {
      "text/plain": [
       "<BarContainer object of 96 artists>"
      ]
     },
     "execution_count": 48,
     "metadata": {},
     "output_type": "execute_result"
    },
    {
     "data": {
      "image/png": "[encoded data removed]",
      "text/plain": [
       "<Figure size 432x288 with 1 Axes>"
      ]
     },
     "metadata": {},
     "output_type": "display_data"
    },
    {
     "data": {
      "image/png": "[encoded data removed]",
      "text/plain": [
       "<Figure size 432x288 with 1 Axes>"
      ]
     },
     "metadata": {},
     "output_type": "display_data"
    },
    {
     "data": {
      "image/png": "[encoded data removed]",
      "text/plain": [
       "<Figure size 432x288 with 1 Axes>"
      ]
     },
     "metadata": {},
     "output_type": "display_data"
    }
   ],
   "source": [
    "plt.figure()\n",
    "plt.bar(dist_3D6.keys(), dist_3D6.values())\n",
    "\n",
    "plt.figure()\n",
    "plt.bar(dist_4D6.keys(), dist_4D6.values())\n",
    "\n",
    "plt.figure()\n",
    "plt.bar(dist_5D6.keys(), dist_5D6.values())"
   ]
  },
  {
   "cell_type": "code",
   "execution_count": null,
   "metadata": {},
   "outputs": [],
   "source": []
  }
 ],
 "metadata": {
  "kernelspec": {
   "display_name": "Python 3",
   "language": "python",
   "name": "python3"
  }
 },
 "nbformat": 4,
 "nbformat_minor": 2
}
