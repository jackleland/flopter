{
 "cells": [
  {
   "cell_type": "code",
   "execution_count": 1,
   "metadata": {},
   "outputs": [],
   "source": [
    "import functools as ftools"
   ]
  },
  {
   "cell_type": "code",
   "execution_count": 29,
   "metadata": {},
   "outputs": [],
   "source": [
    "\n",
    "def plotmethod(func):  # the decorator\n",
    "\n",
    "    def wrapper(*args, show_fl=False, fig=None, **kwargs):  # a wrapper for the function\n",
    "        if fig:\n",
    "            print('Calling print section.')\n",
    "        return_var = func(*args, **kwargs)\n",
    "        if show_fl:\n",
    "            print('Showing everything.')\n",
    "        return return_var\n",
    "\n",
    "    return wrapper\n",
    "\n",
    "@plotmethod\n",
    "def example(string, Show_fl=True):\n",
    "    print(string)"
   ]
  },
  {
   "cell_type": "code",
   "execution_count": 30,
   "metadata": {},
   "outputs": [
    {
     "name": "stdout",
     "output_type": "stream",
     "text": [
      "Calling print section.\n",
      "Print this!\n"
     ]
    }
   ],
   "source": [
    "example('Print this!', fig=True)"
   ]
  },
  {
   "cell_type": "code",
   "execution_count": 28,
   "metadata": {},
   "outputs": [
    {
     "name": "stdout",
     "output_type": "stream",
     "text": [
      "Test $I_{sat}$\n"
     ]
    },
    {
     "data": {
      "text/plain": [
       "Text(0.5,0,'Test $I_{sat}$')"
      ]
     },
     "execution_count": 28,
     "metadata": {},
     "output_type": "execute_result"
    },
    {
     "data": {
      "image/png": "[encoded data removed]",
      "text/plain": [
       "<Figure size 432x288 with 1 Axes>"
      ]
     },
     "metadata": {},
     "output_type": "display_data"
    }
   ],
   "source": [
    "import matplotlib.pyplot as plt\n",
    "\n",
    "string = r'Test $I_{sat}$'\n",
    "y = [0, 1, 2, 3, 5, 7, 11, 13, 17, 19, 23, 29, 31, 37, 41, 43, 47, 53, 59, 61, 67]\n",
    "\n",
    "plt.figure()\n",
    "plt.plot(y)\n",
    "print(string)\n",
    "plt.xlabel(string)"
   ]
  },
  {
   "cell_type": "code",
   "execution_count": null,
   "metadata": {},
   "outputs": [],
   "source": []
  }
 ],
 "metadata": {
  "kernelspec": {
   "display_name": "Python 3",
   "language": "python",
   "name": "python3"
  },
  "language_info": {
   "codemirror_mode": {
    "name": "ipython",
    "version": 3
   },
   "file_extension": ".py",
   "mimetype": "text/x-python",
   "name": "python",
   "nbconvert_exporter": "python",
   "pygments_lexer": "ipython3",
   "version": "3.7.0"
  }
 },
 "nbformat": 4,
 "nbformat_minor": 2
}
