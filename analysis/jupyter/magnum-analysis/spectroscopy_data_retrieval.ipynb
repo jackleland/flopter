{
 "cells": [
  {
   "cell_type": "code",
   "execution_count": 9,
   "metadata": {},
   "outputs": [
    {
     "name": "stdout",
     "output_type": "stream",
     "text": [
      "Using matplotlib backend: TkAgg\n"
     ]
    }
   ],
   "source": [
    "%matplotlib\n",
    "import numpy as np\n",
    "import matplotlib.pyplot as plt\n",
    "import codac as cdc\n",
    "from codac.datastore import client\n",
    "import sys\n",
    "sys.path.append('/home/jleland/Coding/Projects/flopter')\n",
    "import external.magnumdbutils as ut\n",
    "from magopter import Magopter\n",
    "import os\n",
    "import glob\n",
    "import databases.magnum as mdb\n",
    "import normalisation as nrm"
   ]
  },
  {
   "cell_type": "code",
   "execution_count": 3,
   "metadata": {},
   "outputs": [],
   "source": [
    "SPECTROSCOPY_VARS = [\n",
    "    'AvantesCh1Calibration',\n",
    "    'AvantesCh1Counts',\n",
    "    'AvantesCh1DarkCounts',\n",
    "    'AvantesCh1DelTime',\n",
    "    'AvantesCh1Description',\n",
    "    'AvantesCh1IntTime',\n",
    "    'AvantesCh1NrOfAvg',\n",
    "    'AvantesCh1SmoothPx',\n",
    "    'AvantesCh2Calibration',\n",
    "    'AvantesCh2Counts',\n",
    "    'AvantesCh2DarkCounts',\n",
    "    'AvantesCh2DelTime',\n",
    "    'AvantesCh2Description',\n",
    "    'AvantesCh2IntTime',\n",
    "    'AvantesCh2NrOfAvg',\n",
    "    'AvantesCh2SmoothPx',\n",
    "    'AvantesCh3Counts',\n",
    "    'AvantesCh3DarkCounts',\n",
    "    'AvantesCh3DelTime',\n",
    "    'AvantesCh3Description',\n",
    "    'AvantesCh3IntTime',\n",
    "    'AvantesCh3NrOfAvg',\n",
    "    'AvantesCh3SmoothPx',\n",
    "    'AvantesCh4Counts',\n",
    "    'AvantesCh4DarkCounts',\n",
    "    'AvantesCh4DelTime',\n",
    "    'AvantesCh4Description',\n",
    "    'AvantesCh4IntTime',\n",
    "    'AvantesCh4NrOfAvg',\n",
    "    'AvantesCh4SmoothPx',\n",
    "    'AvantesCh5Counts',\n",
    "    'AvantesCh5DarkCounts',\n",
    "    'AvantesCh5DelTime',\n",
    "    'AvantesCh5Description',\n",
    "    'AvantesCh5IntTime',\n",
    "    'AvantesCh5NrOfAvg',\n",
    "    'AvantesCh5SmoothPx',\n",
    "    'AvantesCh6Counts',\n",
    "    'AvantesCh6DarkCounts',\n",
    "    'AvantesCh6DelTime',\n",
    "    'AvantesCh6Description',\n",
    "    'AvantesCh6IntTime',\n",
    "    'AvantesCh6NrOfAvg',\n",
    "    'AvantesCh6SmoothPx',\n",
    "    'AvantesTrigStartFt'\n",
    "]\n",
    "\n",
    "SPECTROSCOPY_VARS_OI = [\n",
    "    'AvantesCh1Counts',\n",
    "    'AvantesCh2Counts',\n",
    "    'AvantesCh3Counts',\n",
    "    'AvantesCh4Counts',\n",
    "    'AvantesCh5Counts',\n",
    "    'AvantesCh6Counts'\n",
    "]"
   ]
  },
  {
   "cell_type": "code",
   "execution_count": 4,
   "metadata": {},
   "outputs": [],
   "source": [
    "# Get all folders and files associated with Magnum probe data\n",
    "data_path = Magopter.get_data_path()\n",
    "folders = next(os.walk(data_path))[1]\n",
    "\n",
    "files = []\n",
    "file_folders = []\n",
    "for folder1 in folders:\n",
    "    os.chdir(Magopter.get_data_path() + folder1)\n",
    "    files.extend(glob.glob('*.adc'))\n",
    "    file_folders.extend([folder1] * len(glob.glob('*.adc')))\n",
    "\n",
    "files.sort()\n",
    "folder = file_folders[-2] + '/'"
   ]
  },
  {
   "cell_type": "code",
   "execution_count": 5,
   "metadata": {},
   "outputs": [
    {
     "name": "stdout",
     "output_type": "stream",
     "text": [
      "0:    2018-06-07 14h 38m 33s TT_06564321037878221702.adc\n",
      "1:    2018-06-07 14h 44m 50s TT_06564322614655263947.adc\n",
      "2:    2018-06-07 14h 52m 01s TT_06564324466784157550.adc\n",
      "3:    2018-06-07 14h 54m 55s TT_06564325214241430142.adc\n",
      "4:    2018-06-07 14h 57m 35s TT_06564325901568853891.adc\n",
      "5:    2018-06-07 15h 00m 33s TT_06564326666163147344.adc\n",
      "6:    2018-06-07 15h 04m 02s TT_06564327561625833147.adc\n",
      "7:    2018-06-07 15h 06m 23s TT_06564328166274723968.adc\n",
      "8:    2018-06-07 15h 08m 27s TT_06564328699841427376.adc\n",
      "9:    2018-06-07 15h 10m 43s TT_06564329285978859221.adc\n",
      "10:    2018-06-07 15h 13m 34s TT_06564330020250535686.adc\n",
      "11:    2018-06-07 15h 16m 13s TT_06564330699589276384.adc\n"
     ]
    }
   ],
   "source": [
    "# Collect files of interest\n",
    "files_oi = files[285:297]\n",
    "# files_oi = files[285:286]\n",
    "\n",
    "for i, file in enumerate(files_oi):\n",
    "    print('{}:    {}'.format(i, file))"
   ]
  },
  {
   "cell_type": "code",
   "execution_count": 10,
   "metadata": {},
   "outputs": [
    {
     "name": "stdout",
     "output_type": "stream",
     "text": [
      "Start Time:  13:38:12\n",
      "End Time:  13:38:52\n",
      "Beam Down Timestamp:  6564321041100203608 1528375093.15\n",
      "Regular Timestamp:  6564321037878221702 1528375092.399824\n",
      "Start Time:  13:44:19\n",
      "End Time:  13:44:59\n",
      "Beam Down Timestamp:  6564322614819170496 1528375459.56\n",
      "Regular Timestamp:  6564322614655263947 1528375459.5218375\n",
      "Start Time:  13:51:30\n",
      "End Time:  13:52:10\n",
      "Beam Down Timestamp:  6564324470159143024 1528375891.54\n",
      "Regular Timestamp:  6564324466784157550 1528375890.7542\n",
      "Start Time:  13:54:24\n",
      "End Time:  13:55:04\n",
      "Beam Down Timestamp:  6564325217483452528 1528376065.54\n",
      "Regular Timestamp:  6564325214241430142 1528376064.785158\n",
      "Start Time:  13:57:04\n",
      "End Time:  13:57:44\n",
      "Beam Down Timestamp:  6564325902960233008 1528376225.14\n",
      "Regular Timestamp:  6564325901568853891 1528376224.8160443\n",
      "Start Time:  14:00:02\n",
      "End Time:  14:00:42\n",
      "Beam Down Timestamp:  6564326670041392016 1528376403.74\n",
      "Regular Timestamp:  6564326666163147344 1528376402.837026\n",
      "Start Time:  14:03:31\n",
      "End Time:  14:04:11\n",
      "Beam Down Timestamp:  6564327564253583024 1528376611.94\n",
      "Regular Timestamp:  6564327561625833147 1528376611.3281794\n",
      "Start Time:  14:05:52\n",
      "End Time:  14:06:32\n",
      "Beam Down Timestamp:  6564328166407998000 1528376752.14\n",
      "Regular Timestamp:  6564328166274723968 1528376752.1089697\n",
      "Start Time:  14:07:56\n",
      "End Time:  14:08:36\n",
      "Beam Down Timestamp:  6564328702462866136 1528376876.95\n",
      "Regular Timestamp:  6564328699841427376 1528376876.3396487\n",
      "Start Time:  14:10:12\n",
      "End Time:  14:10:52\n",
      "Beam Down Timestamp:  6564329287437411928 1528377013.15\n",
      "Regular Timestamp:  6564329285978859221 1528377012.8104043\n",
      "Start Time:  14:13:03\n",
      "End Time:  14:13:43\n",
      "Beam Down Timestamp:  6564330023594806424 1528377184.55\n",
      "Regular Timestamp:  6564330020250535686 1528377183.7713513\n",
      "Start Time:  14:15:41\n",
      "End Time:  14:16:21\n",
      "Beam Down Timestamp:  6564330699622658776 1528377341.95\n",
      "Regular Timestamp:  6564330699589276384 1528377341.9422276\n"
     ]
    }
   ],
   "source": [
    "spectroscopy_data = {}\n",
    "ts_data = {}\n",
    "\n",
    "for f in files_oi: \n",
    "    if f == '2018-06-07 14h 38m 33s TT_06564321037878221702.adc':\n",
    "        m = Magopter(folder, f, ts_filename=files[284])\n",
    "    else:\n",
    "        m = Magopter(folder, f)\n",
    "    if m.ts_temp is not None:\n",
    "        temps = [np.max(temp) / nrm.ELEM_CHARGE for temp in m.ts_temp[1]]\n",
    "        denss = [np.max(dens) for dens in m.ts_dens[1]]\n",
    "        T_e_ts = np.mean(temps)\n",
    "        d_T_e_ts = np.std(temps) / np.sqrt(len(temps))\n",
    "        n_e_ts = np.mean(denss)\n",
    "        d_n_e_ts = np.std(denss) / np.sqrt(len(denss))\n",
    "    ts_data[f] = [T_e_ts, d_T_e_ts, n_e_ts, d_n_e_ts]\n",
    "    spectroscopy_data[f] = m.magnum_db.get_data_dict(variables=SPECTROSCOPY_VARS, ref_time=m.timestamp)"
   ]
  },
  {
   "cell_type": "code",
   "execution_count": 11,
   "metadata": {},
   "outputs": [
    {
     "name": "stdout",
     "output_type": "stream",
     "text": [
      "2018-06-07 14h 38m 33s TT_06564321037878221702.adc\n",
      "AvantesCh1Counts: Shape = [2, (15, 2048)]\n",
      "AvantesCh2Counts: Shape = [2, (15, 2048)]\n",
      "AvantesCh3Counts: Shape = [2, (15, 2048)]\n",
      "AvantesCh4Counts: Shape = [2, (15, 2048)]\n",
      "AvantesCh5Counts: Shape = [2, (15, 2048)]\n",
      "AvantesCh6Counts: Shape = [2, (15, 2048)]\n",
      "AvantesTrigStartFt: Shape = [2, (1,)]\n",
      "[1.6137656341587758, 0.04381394345010781, 1.4098346523263204e+20, 3.752578560797797e+18]\n",
      "\n",
      "2018-06-07 14h 44m 50s TT_06564322614655263947.adc\n",
      "AvantesCh1Counts: Shape = [2, (15, 2048)]\n",
      "AvantesCh2Counts: Shape = [2, (15, 2048)]\n",
      "AvantesCh3Counts: Shape = [2, (15, 2048)]\n",
      "AvantesCh4Counts: Shape = [2, (15, 2048)]\n",
      "AvantesCh5Counts: Shape = [2, (15, 2048)]\n",
      "AvantesCh6Counts: Shape = [2, (15, 2048)]\n",
      "AvantesTrigStartFt: Shape = [2, (1,)]\n",
      "[1.3512119868440398, 0.043910445025539625, 1.839808115507969e+20, 1.978413533709321e+18]\n",
      "\n",
      "2018-06-07 14h 52m 01s TT_06564324466784157550.adc\n",
      "AvantesCh1Counts: Shape = [2, (15, 2048)]\n",
      "AvantesCh2Counts: Shape = [2, (15, 2048)]\n",
      "AvantesCh3Counts: Shape = [2, (15, 2048)]\n",
      "AvantesCh4Counts: Shape = [2, (15, 2048)]\n",
      "AvantesCh5Counts: Shape = [2, (15, 2048)]\n",
      "AvantesCh6Counts: Shape = [2, (15, 2048)]\n",
      "AvantesTrigStartFt: Shape = [2, (1,)]\n",
      "[1.380515600863479, 0.06379332009420022, 1.8111865670636264e+20, 4.1585021662989276e+18]\n",
      "\n",
      "2018-06-07 14h 54m 55s TT_06564325214241430142.adc\n",
      "AvantesCh1Counts: Shape = [2, (20, 2048)]\n",
      "AvantesCh2Counts: Shape = [2, (20, 2048)]\n",
      "AvantesCh3Counts: Shape = [2, (20, 2048)]\n",
      "AvantesCh4Counts: Shape = [2, (20, 2048)]\n",
      "AvantesCh5Counts: Shape = [2, (20, 2048)]\n",
      "AvantesCh6Counts: Shape = [2, (20, 2048)]\n",
      "[1.0585316803203488, 0.01878187449194027, 2.246163218635997e+20, 2.8259471361524137e+18]\n",
      "\n",
      "2018-06-07 14h 57m 35s TT_06564325901568853891.adc\n",
      "AvantesCh1Counts: Shape = [2, (15, 2048)]\n",
      "AvantesCh2Counts: Shape = [2, (15, 2048)]\n",
      "AvantesCh3Counts: Shape = [2, (15, 2048)]\n",
      "AvantesCh4Counts: Shape = [2, (15, 2048)]\n",
      "AvantesCh5Counts: Shape = [2, (15, 2048)]\n",
      "AvantesCh6Counts: Shape = [2, (15, 2048)]\n",
      "AvantesTrigStartFt: Shape = [2, (1,)]\n",
      "[0.8125144435553343, 0.011016669357946688, 2.4792738161139646e+20, 1.0291419171135872e+18]\n",
      "\n",
      "2018-06-07 15h 00m 33s TT_06564326666163147344.adc\n",
      "AvantesCh1Counts: Shape = [2, (20, 2048)]\n",
      "AvantesCh2Counts: Shape = [2, (20, 2048)]\n",
      "AvantesCh3Counts: Shape = [2, (20, 2048)]\n",
      "AvantesCh4Counts: Shape = [2, (20, 2048)]\n",
      "AvantesCh5Counts: Shape = [2, (20, 2048)]\n",
      "AvantesCh6Counts: Shape = [2, (20, 2048)]\n",
      "[0.7797042289418039, 0.004251015754350741, 2.5920933848261067e+20, 5.721188279574571e+18]\n",
      "\n",
      "2018-06-07 15h 04m 02s TT_06564327561625833147.adc\n",
      "AvantesCh1Counts: Shape = [2, (15, 2048)]\n",
      "AvantesCh2Counts: Shape = [2, (15, 2048)]\n",
      "AvantesCh3Counts: Shape = [2, (15, 2048)]\n",
      "AvantesCh4Counts: Shape = [2, (15, 2048)]\n",
      "AvantesCh5Counts: Shape = [2, (15, 2048)]\n",
      "AvantesCh6Counts: Shape = [2, (15, 2048)]\n",
      "AvantesTrigStartFt: Shape = [2, (1,)]\n",
      "[0.6627295095141749, 0.01105646776842442, 2.6028309515001764e+20, 1.800877970508297e+18]\n",
      "\n",
      "2018-06-07 15h 06m 23s TT_06564328166274723968.adc\n",
      "AvantesCh1Counts: Shape = [2, (20, 2048)]\n",
      "AvantesCh2Counts: Shape = [2, (20, 2048)]\n",
      "AvantesCh3Counts: Shape = [2, (20, 2048)]\n",
      "AvantesCh4Counts: Shape = [2, (20, 2048)]\n",
      "AvantesCh5Counts: Shape = [2, (20, 2048)]\n",
      "AvantesCh6Counts: Shape = [2, (20, 2048)]\n",
      "[0.5760832577817562, 0.009023374288043772, 2.574681166844925e+20, 4.3615059403637514e+18]\n",
      "\n",
      "2018-06-07 15h 08m 27s TT_06564328699841427376.adc\n",
      "AvantesCh1Counts: Shape = [2, (15, 2048)]\n",
      "AvantesCh2Counts: Shape = [2, (15, 2048)]\n",
      "AvantesCh3Counts: Shape = [2, (15, 2048)]\n",
      "AvantesCh4Counts: Shape = [2, (15, 2048)]\n",
      "AvantesCh5Counts: Shape = [2, (15, 2048)]\n",
      "AvantesCh6Counts: Shape = [2, (15, 2048)]\n",
      "AvantesTrigStartFt: Shape = [2, (1,)]\n",
      "[0.496131441254799, 0.010435888255182116, 2.361942320806391e+20, 5.299753750058876e+17]\n",
      "\n",
      "2018-06-07 15h 10m 43s TT_06564329285978859221.adc\n",
      "AvantesCh1Counts: Shape = [2, (20, 2048)]\n",
      "AvantesCh2Counts: Shape = [2, (20, 2048)]\n",
      "AvantesCh3Counts: Shape = [2, (20, 2048)]\n",
      "AvantesCh4Counts: Shape = [2, (20, 2048)]\n",
      "AvantesCh5Counts: Shape = [2, (20, 2048)]\n",
      "AvantesCh6Counts: Shape = [2, (20, 2048)]\n",
      "[0.4233744938884612, 0.008557734964779384, 2.0562533419429606e+20, 4.365135227110933e+18]\n",
      "\n",
      "2018-06-07 15h 13m 34s TT_06564330020250535686.adc\n",
      "AvantesCh1Counts: Shape = [2, (15, 2048)]\n",
      "AvantesCh2Counts: Shape = [2, (15, 2048)]\n",
      "AvantesCh3Counts: Shape = [2, (15, 2048)]\n",
      "AvantesCh4Counts: Shape = [2, (15, 2048)]\n",
      "AvantesCh5Counts: Shape = [2, (15, 2048)]\n",
      "AvantesCh6Counts: Shape = [2, (15, 2048)]\n",
      "AvantesTrigStartFt: Shape = [2, (1,)]\n",
      "[0.36433760603644, 0.00856482659132056, 1.7911379840818286e+20, 3.4006581599007626e+18]\n",
      "\n",
      "2018-06-07 15h 16m 13s TT_06564330699589276384.adc\n",
      "AvantesCh1Counts: Shape = [2, (20, 2048)]\n",
      "AvantesCh2Counts: Shape = [2, (20, 2048)]\n",
      "AvantesCh3Counts: Shape = [2, (20, 2048)]\n",
      "AvantesCh4Counts: Shape = [2, (20, 2048)]\n",
      "AvantesCh5Counts: Shape = [2, (20, 2048)]\n",
      "AvantesCh6Counts: Shape = [2, (20, 2048)]\n",
      "[0.30716198131588346, 0.005094684435075692, 1.2854316259944728e+20, 3.2528795751431414e+18]\n",
      "\n"
     ]
    }
   ],
   "source": [
    "# print(spectroscopy_data)\n",
    "for f, data_dict in spectroscopy_data.items():\n",
    "    print(f)\n",
    "    for spect_var, spect_data in data_dict.items():\n",
    "        print('{}: Shape = {}'.format(spect_var, [len(spect_data), np.shape(spect_data[1])]))\n",
    "    print(ts_data[f])\n",
    "    print()"
   ]
  },
  {
   "cell_type": "code",
   "execution_count": 73,
   "metadata": {},
   "outputs": [
    {
     "name": "stdout",
     "output_type": "stream",
     "text": [
      "dict_keys(['AvantesCh1Counts', 'AvantesCh2Counts', 'AvantesCh3Counts', 'AvantesCh4Counts', 'AvantesCh5Counts', 'AvantesCh6Counts', 'AvantesTrigStartFt'])\n",
      "(15, 2048)\n"
     ]
    },
    {
     "data": {
      "image/png": "[encoded data removed]",
      "text/plain": [
       "<Figure size 432x288 with 1 Axes>"
      ]
     },
     "metadata": {},
     "output_type": "display_data"
    },
    {
     "data": {
      "image/png": "[encoded data removed]",
      "text/plain": [
       "<Figure size 432x288 with 1 Axes>"
      ]
     },
     "metadata": {},
     "output_type": "display_data"
    },
    {
     "data": {
      "image/png": "[encoded data removed]",
      "text/plain": [
       "<Figure size 432x288 with 1 Axes>"
      ]
     },
     "metadata": {},
     "output_type": "display_data"
    },
    {
     "data": {
      "image/png": "[encoded data removed]",
      "text/plain": [
       "<Figure size 432x288 with 1 Axes>"
      ]
     },
     "metadata": {},
     "output_type": "display_data"
    },
    {
     "data": {
      "image/png": "[encoded data removed]",
      "text/plain": [
       "<Figure size 432x288 with 1 Axes>"
      ]
     },
     "metadata": {},
     "output_type": "display_data"
    },
    {
     "data": {
      "image/png": "[encoded data removed]",
      "text/plain": [
       "<Figure size 432x288 with 1 Axes>"
      ]
     },
     "metadata": {},
     "output_type": "display_data"
    }
   ],
   "source": [
    "data_dict = spectroscopy_data['2018-06-07 14h 38m 33s TT_06564321037878221702.adc']\n",
    "\n",
    "print(data_dict.keys())\n",
    "print(np.shape(data_dict['AvantesCh1Counts'][1]))\n",
    "\n",
    "wavelength_ranges = [] \n",
    "wavelength_ranges.append(np.linspace(299, 451, 2048))\n",
    "wavelength_ranges.append(np.linspace(448, 579, 2048))\n",
    "wavelength_ranges.append(np.linspace(378, 476, 2048))\n",
    "wavelength_ranges.append(np.linspace(485, 558, 2048))\n",
    "wavelength_ranges.append(np.linspace(599, 643, 2048))\n",
    "wavelength_ranges.append(np.linspace(600, 950, 2048))\n",
    "\n",
    "# plt.figure()\n",
    "for i in range(6):\n",
    "    plt.figure()\n",
    "    plt.semilogy(wavelength_ranges[i] + 6.8, data_dict['AvantesCh{}Counts'.format(i+1)][1][0], label='Channel {}'.format(i))\n",
    "    for h_line in [ 434.0, 410.2, 397.0]:\n",
    "        plt.axvline(x=h_line, color='red')\n",
    "    plt.legend()\n",
    "plt.show()"
   ]
  },
  {
   "cell_type": "code",
   "execution_count": 60,
   "metadata": {},
   "outputs": [
    {
     "name": "stdout",
     "output_type": "stream",
     "text": [
      "['ts_file', 'ts_timestamp', 'ts_temp', 'ts_temp_d', 'ts_dens', 'ts_dens_d', 'ts_coords']\n"
     ]
    }
   ],
   "source": [
    "ts_mag = magopters['2018-06-07 14h 38m 33s TT_06564321037878221702.adc']\n",
    "\n",
    "print([var for var in vars(ts_mag) if 'ts' in var])\n",
    "\n",
    "fig, ax = plt.subplots(2, 1, sharex=True, sharey=False)\n",
    "plt.sca(ax[0])\n",
    "plt.title('Electron temperature and density profiles of Magnum-PSI beam')\n",
    "\n",
    "for i in range(3):\n",
    "    plt.errorbar(ts_mag.ts_coords[1][i], ts_mag.ts_temp[1][i] / 1.6e-19, yerr=ts_mag.ts_temp_d[1][i] / 1.6e-19, label='Measurement {}'.format(i))\n",
    "# plt.xlabel('Beam position / mm')\n",
    "plt.ylabel(r'$T_e$ / eV')\n",
    "plt.legend()\n",
    "\n",
    "plt.sca(ax[1])\n",
    "for i in range(3):\n",
    "    plt.errorbar(ts_mag.ts_coords[1][i], ts_mag.ts_dens[1][i], yerr=ts_mag.ts_dens_d[1][i], label='Measurement {}'.format(i))\n",
    "plt.legend()\n",
    "plt.xlabel('Radial position / mm')\n",
    "plt.ylabel(r'$n_e$ / m$^{-3}$')\n",
    "\n",
    "plt.show()"
   ]
  },
  {
   "cell_type": "code",
   "execution_count": 86,
   "metadata": {},
   "outputs": [],
   "source": [
    "np.save('/home/jleland/Data/spectal_data_magnum18.bin', data_dict['AvantesCh1Counts'][1][0])"
   ]
  },
  {
   "cell_type": "code",
   "execution_count": 21,
   "metadata": {},
   "outputs": [
    {
     "name": "stdout",
     "output_type": "stream",
     "text": [
      "15 7 20.109564906917512\n",
      "15 7 20.123164693824947\n",
      "15 7 20.111224880907685\n",
      "20 10 17.19824578333646\n",
      "15 7 20.119124757125974\n",
      "20 10 15.730962657602504\n",
      "15 7 20.134604514576495\n",
      "20 10 15.231855032034218\n",
      "15 7 20.12077473127283\n",
      "20 10 17.028839316917583\n",
      "15 7 20.115704810712487\n",
      "20 10 15.450443303678185\n"
     ]
    }
   ],
   "source": [
    "spectra = {}\n",
    "for key, values in spectroscopy_data.items():\n",
    "    times = values['AvantesCh1Counts'][0]\n",
    "    print(len(times), int(len(times) / 2), times[int(len(times) / 2)])\n",
    "    spectra[times[int(len(times) / 2)]] = values['AvantesCh1Counts'][1][int(len(times) / 2)]\n",
    "\n",
    "# spectra = {spectrum['AvantesCh1Counts'][0][7]: spectrum['AvantesCh1Counts'][1][7] for f, spectrum in spectroscopy_data.items()}\n",
    "# print(spectra.keys())\n",
    "# print(np.shape(spectra['2018-06-07 14h 38m 33s TT_06564321037878221702.adc'][1]))\n",
    "\n",
    "plt.figure()\n",
    "for label, spectrum in spectra.items():\n",
    "    plt.plot(spectrum, label=label)\n",
    "plt.legend()\n",
    "plt.show()"
   ]
  },
  {
   "cell_type": "code",
   "execution_count": 22,
   "metadata": {},
   "outputs": [
    {
     "name": "stdout",
     "output_type": "stream",
     "text": [
      "       20.109565   20.123165   20.111225   17.198246   20.119125   15.730963  \\\n",
      "0     313.730011  308.510010  312.459991  313.489990  315.989990  313.750000   \n",
      "1     317.410004  313.660004  315.170013  314.450012  322.950012  321.179993   \n",
      "2     351.399994  353.459991  351.390015  355.630005  353.070007  356.230011   \n",
      "3     346.049988  344.929993  346.109985  349.910004  349.510010  347.170013   \n",
      "4     308.179993  308.239990  311.040009  314.720001  313.809998  312.049988   \n",
      "5     329.970001  328.410004  329.019989  339.760010  333.489990  336.829987   \n",
      "6     318.440002  319.000000  320.910004  321.160004  328.880005  329.269989   \n",
      "7     328.140015  333.230011  331.079987  338.190002  337.709991  332.209991   \n",
      "8     313.029999  312.070007  313.820007  316.679993  319.970001  320.660004   \n",
      "9     308.329987  307.640015  312.140015  311.380005  316.470001  313.140015   \n",
      "10    320.809998  316.950012  316.179993  320.559998  321.799988  320.709991   \n",
      "11    571.320007  567.539978  564.049988  568.359985  572.330017  577.840027   \n",
      "12    324.230011  323.390015  324.100006  330.619995  332.239990  331.119995   \n",
      "13    335.640015  330.730011  329.250000  333.059998  335.730011  335.390015   \n",
      "14    331.880005  329.489990  331.079987  332.279999  336.600006  333.309998   \n",
      "15    300.019989  298.369995  299.019989  299.899994  308.209991  303.209991   \n",
      "16    318.959991  318.119995  317.290009  320.950012  323.790009  326.140015   \n",
      "17    318.720001  321.149994  320.929993  326.130005  330.149994  333.390015   \n",
      "18    325.040009  328.869995  324.850006  332.679993  332.630005  337.500000   \n",
      "19    325.910004  320.230011  322.299988  330.190002  333.880005  329.660004   \n",
      "20    326.600006  322.890015  327.130005  332.200012  333.459991  335.640015   \n",
      "21    351.440002  354.290009  353.880005  359.829987  362.790009  361.399994   \n",
      "22    364.929993  360.980011  364.160004  368.700012  368.140015  369.609985   \n",
      "23    336.160004  336.529999  344.570007  345.989990  340.019989  344.459991   \n",
      "24    319.570007  318.730011  321.559998  323.950012  325.309998  326.489990   \n",
      "25    317.510010  318.750000  320.920013  323.510010  325.089996  326.750000   \n",
      "26    337.920013  336.470001  339.000000  344.559998  343.529999  343.799988   \n",
      "27    332.920013  335.459991  335.239990  337.260010  339.510010  341.730011   \n",
      "28    319.140015  318.540009  320.190002  323.079987  329.619995  329.230011   \n",
      "29    337.750000  337.559998  341.369995  344.839996  341.609985  345.350006   \n",
      "...          ...         ...         ...         ...         ...         ...   \n",
      "2018  415.670013  420.809998  420.290009  420.500000  418.260010  420.089996   \n",
      "2019  428.290009  421.920013  427.010010  431.630005  425.369995  426.769989   \n",
      "2020  447.660004  452.380005  449.000000  454.429993  450.940002  454.049988   \n",
      "2021  427.279999  421.250000  426.799988  432.589996  425.929993  427.829987   \n",
      "2022  433.209991  431.459991  433.519989  430.869995  439.350006  433.760010   \n",
      "2023  429.709991  431.519989  429.649994  432.760010  431.369995  438.769989   \n",
      "2024  446.790009  445.980011  445.410004  453.230011  447.829987  450.239990   \n",
      "2025  442.019989  448.190002  445.320007  452.869995  438.440002  444.709991   \n",
      "2026  433.510010  436.049988  432.850006  441.369995  436.809998  436.160004   \n",
      "2027  476.739990  472.500000  480.809998  481.540009  479.239990  477.559998   \n",
      "2028  464.420013  458.390015  464.760010  464.489990  462.940002  466.239990   \n",
      "2029  457.630005  461.290009  466.589996  465.579987  465.200012  460.410004   \n",
      "2030  454.720001  461.179993  465.420013  466.730011  466.079987  467.279999   \n",
      "2031  469.190002  465.329987  468.959991  475.329987  471.489990  463.089996   \n",
      "2032  500.350006  492.390015  497.799988  502.279999  502.700012  501.309998   \n",
      "2033  492.700012  503.619995  500.670013  497.489990  496.070007  493.549988   \n",
      "2034  484.489990  485.769989  483.750000  486.720001  485.299988  484.820007   \n",
      "2035  522.239990  525.260010  522.890015  523.500000  527.559998  518.520020   \n",
      "2036  527.789978  526.270020  523.690002  528.559998  529.179993  526.479980   \n",
      "2037  542.130005  539.130005  543.559998  549.010010  548.140015  543.460022   \n",
      "2038  551.390015  563.530029  554.409973  567.229980  559.190002  551.750000   \n",
      "2039  587.219971  589.650024  587.010010  597.030029  589.309998  593.539978   \n",
      "2040  604.109985  610.090027  612.729980  613.750000  613.849976  608.580017   \n",
      "2041  641.440002  628.250000  636.070007  638.809998  641.070007  634.789978   \n",
      "2042  688.159973  686.900024  696.820007  695.919983  693.440002  692.909973   \n",
      "2043  698.640015  707.070007  703.440002  704.900024  700.559998  701.729980   \n",
      "2044  745.429993  738.530029  739.900024  739.109985  749.969971  744.359985   \n",
      "2045  767.799988  779.010010  773.460022  780.820007  774.599976  777.210022   \n",
      "2046  835.419983  837.820007  839.679993  839.150024  836.070007  825.739990   \n",
      "2047  886.859985  883.719971  889.169983  891.049988  887.419983  885.320007   \n",
      "\n",
      "       20.134605   15.231855   20.120775   17.028839   20.115705   15.450443  \n",
      "0     313.559998  314.350006  311.540009  313.570007  311.880005  307.890015  \n",
      "1     316.910004  317.920013  319.529999  316.450012  315.140015  316.100006  \n",
      "2     353.230011  352.559998  353.910004  356.779999  352.440002  349.470001  \n",
      "3     353.510010  351.940002  345.190002  342.829987  345.299988  345.799988  \n",
      "4     318.959991  316.630005  314.799988  310.350006  307.500000  312.399994  \n",
      "5     332.890015  331.640015  329.640015  326.609985  324.890015  328.079987  \n",
      "6     324.630005  327.529999  323.609985  318.950012  319.829987  318.410004  \n",
      "7     340.299988  332.459991  332.929993  331.690002  330.290009  329.850006  \n",
      "8     318.940002  320.029999  314.250000  314.100006  311.089996  314.220001  \n",
      "9     313.299988  312.609985  307.510010  307.049988  304.309998  305.390015  \n",
      "10    323.679993  325.929993  319.529999  321.700012  317.320007  318.630005  \n",
      "11    573.520020  574.510010  571.200012  571.960022  571.630005  563.049988  \n",
      "12    328.390015  332.940002  328.519989  326.290009  322.750000  319.480011  \n",
      "13    337.510010  339.019989  337.880005  332.790009  330.000000  332.500000  \n",
      "14    337.320007  334.339996  332.950012  332.570007  323.660004  326.820007  \n",
      "15    309.619995  307.940002  302.489990  300.940002  298.799988  296.700012  \n",
      "16    324.829987  328.630005  321.109985  313.450012  315.029999  313.149994  \n",
      "17    329.720001  327.119995  323.500000  320.160004  317.109985  317.260010  \n",
      "18    332.350006  336.260010  331.779999  330.329987  324.940002  322.649994  \n",
      "19    332.829987  332.250000  324.410004  322.250000  319.600006  318.309998  \n",
      "20    339.290009  334.529999  331.239990  326.309998  328.220001  327.459991  \n",
      "21    361.279999  362.109985  356.559998  351.459991  351.149994  353.959991  \n",
      "22    374.950012  373.200012  365.420013  362.329987  367.540009  360.700012  \n",
      "23    346.239990  344.019989  341.100006  339.000000  334.540009  333.869995  \n",
      "24    327.320007  327.369995  320.350006  320.070007  319.329987  313.269989  \n",
      "25    324.040009  325.299988  324.339996  319.869995  316.570007  317.899994  \n",
      "26    349.540009  346.440002  346.140015  337.470001  337.350006  339.549988  \n",
      "27    341.790009  343.730011  340.839996  339.100006  335.899994  327.279999  \n",
      "28    328.829987  330.920013  324.869995  322.750000  321.079987  317.359985  \n",
      "29    346.549988  345.100006  344.480011  338.929993  339.399994  339.160004  \n",
      "...          ...         ...         ...         ...         ...         ...  \n",
      "2018  424.730011  425.890015  426.290009  418.640015  424.350006  422.220001  \n",
      "2019  427.450012  437.950012  434.709991  434.989990  433.369995  429.910004  \n",
      "2020  453.470001  458.609985  457.989990  461.920013  457.109985  456.660004  \n",
      "2021  434.410004  434.290009  430.679993  436.720001  440.029999  435.059998  \n",
      "2022  438.700012  436.769989  438.019989  439.570007  444.739990  437.190002  \n",
      "2023  434.119995  437.549988  442.730011  441.660004  436.350006  438.779999  \n",
      "2024  451.640015  451.600006  452.260010  456.179993  453.239990  449.839996  \n",
      "2025  446.690002  450.489990  450.489990  455.230011  450.359985  449.589996  \n",
      "2026  436.519989  443.380005  442.269989  445.769989  448.940002  443.019989  \n",
      "2027  479.109985  484.630005  483.929993  485.429993  486.010010  483.130005  \n",
      "2028  468.359985  472.149994  474.910004  473.100006  466.290009  469.220001  \n",
      "2029  464.279999  461.350006  467.510010  463.380005  468.839996  464.910004  \n",
      "2030  467.730011  469.429993  469.670013  471.250000  464.670013  469.130005  \n",
      "2031  477.859985  476.970001  478.459991  472.820007  478.140015  471.010010  \n",
      "2032  503.359985  503.510010  504.190002  507.140015  506.709991  506.959991  \n",
      "2033  499.380005  504.149994  502.570007  502.140015  501.609985  497.739990  \n",
      "2034  488.160004  491.299988  491.869995  491.570007  491.850006  485.720001  \n",
      "2035  527.729980  529.520020  522.849976  527.539978  526.349976  524.280029  \n",
      "2036  533.619995  529.200012  528.650024  528.219971  529.640015  524.750000  \n",
      "2037  546.640015  548.359985  547.049988  548.179993  553.380005  544.479980  \n",
      "2038  556.530029  568.669983  567.679993  566.440002  568.929993  570.869995  \n",
      "2039  588.890015  595.429993  599.429993  600.570007  593.890015  595.349976  \n",
      "2040  616.020020  620.349976  611.219971  614.630005  619.770020  616.229980  \n",
      "2041  640.219971  643.419983  642.530029  645.450012  644.710022  637.619995  \n",
      "2042  700.979980  700.690002  703.619995  695.700012  703.179993  698.650024  \n",
      "2043  709.710022  713.510010  698.580017  705.469971  708.309998  699.809998  \n",
      "2044  741.460022  753.849976  756.380005  748.750000  746.479980  747.030029  \n",
      "2045  774.059998  775.909973  773.109985  778.450012  781.450012  782.289978  \n",
      "2046  838.020020  841.739990  840.469971  839.909973  836.039978  838.510010  \n",
      "2047  894.440002  894.049988  894.460022  892.809998  894.549988  891.270020  \n",
      "\n",
      "[2048 rows x 12 columns]\n"
     ]
    }
   ],
   "source": [
    "import pandas as pd\n",
    "\n",
    "df = pd.DataFrame(spectra)\n",
    "print(df)"
   ]
  },
  {
   "cell_type": "code",
   "execution_count": 23,
   "metadata": {},
   "outputs": [],
   "source": [
    "df.to_csv('/home/jleland/Data/spectral_data_magnum_18.csv')"
   ]
  },
  {
   "cell_type": "code",
   "execution_count": null,
   "metadata": {},
   "outputs": [],
   "source": []
  }
 ],
 "metadata": {
  "kernelspec": {
   "display_name": "magopter_kernel_3.6.5",
   "language": "python",
   "name": "magopter_kernel_3.6.5"
  },
  "language_info": {
   "codemirror_mode": {
    "name": "ipython",
    "version": 3
   },
   "file_extension": ".py",
   "mimetype": "text/x-python",
   "name": "python",
   "nbconvert_exporter": "python",
   "pygments_lexer": "ipython3",
   "version": "3.6.5"
  }
 },
 "nbformat": 4,
 "nbformat_minor": 2
}
