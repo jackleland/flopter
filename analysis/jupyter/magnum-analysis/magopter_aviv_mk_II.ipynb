{
 "cells": [
  {
   "cell_type": "code",
   "execution_count": 1,
   "metadata": {},
   "outputs": [],
   "source": [
    "%matplotlib tk\n",
    "import numpy as np\n",
    "import matplotlib.pyplot as plt\n",
    "import xarray as xr\n",
    "import pandas as pd\n",
    "import sys\n",
    "import os\n",
    "import glob\n",
    "sys.path.append('/home/jleland/Coding/Projects/flopter')\n",
    "import flopter.magnum.magoptoffline as mg\n",
    "import flopter.core.constants as c\n",
    "import flopter.magnum.database as mdb\n",
    "import flopter.core.normalise as nrm\n",
    "import flopter.core.lputils as lp\n",
    "import flopter.core.ivdata as ivd\n",
    "import flopter.core.filtering as filt\n",
    "import scipy.signal as sig\n",
    "import flopter.core.fitters as fts"
   ]
  },
  {
   "cell_type": "markdown",
   "metadata": {},
   "source": [
    "**FILE IO**"
   ]
  },
  {
   "cell_type": "code",
   "execution_count": 2,
   "metadata": {},
   "outputs": [
    {
     "name": "stdout",
     "output_type": "stream",
     "text": [
      "\"2019-05-28_Leland/\" \t\t \"2019-05-28 12h 21m 44s TT_06696021067838019493.adc\"\n"
     ]
    }
   ],
   "source": [
    "folders = ['2019-05-28_Leland/', '2019-05-29_Leland/']\n",
    "mg.Magoptoffline._FOLDER_STRUCTURE = '/Data/external/magnum/'\n",
    "files = []\n",
    "file_folders = []\n",
    "for folder1 in folders:\n",
    "\n",
    "    os.chdir(mg.Magoptoffline.get_data_path() + folder1)\n",
    "    files.extend(glob.glob('*.adc'))\n",
    "    file_folders.extend([folder1] * len(glob.glob('*.adc')))\n",
    "files.sort()\n",
    "\n",
    "# for i, f in enumerate(files):\n",
    "#     print(i, f)\n",
    "\n",
    "# file = files[286]\n",
    "# adc_file = files[285]\n",
    "# ts_file = files[284]\n",
    "adc_file = files[2]\n",
    "folder = folders[0]\n",
    "print('\"{}\" \\t\\t \"{}\"'.format(folder, adc_file))\n",
    "\n",
    "\n",
    "mp = lp.MagnumProbes()\n",
    "probe_S = mp.probe_s\n",
    "probe_L = mp.probe_l"
   ]
  },
  {
   "cell_type": "code",
   "execution_count": 3,
   "metadata": {},
   "outputs": [
    {
     "name": "stdout",
     "output_type": "stream",
     "text": [
      "Running an offline magopter object, operating in offline mode.\n"
     ]
    },
    {
     "name": "stderr",
     "output_type": "stream",
     "text": [
      "/home/jleland/Coding/Environments/python3.6/lib/python3.6/site-packages/scipy/signal/_arraytools.py:45: FutureWarning: Using a non-tuple sequence for multidimensional indexing is deprecated; use `arr[tuple(seq)]` instead of `arr[seq]`. In the future this will be interpreted as an array index, `arr[np.array(seq)]`, which will result either in an error or a different result.\n",
      "  b = a[a_slice]\n"
     ]
    },
    {
     "name": "stdout",
     "output_type": "stream",
     "text": [
      "0: 1997, 1: 1998\n"
     ]
    }
   ],
   "source": [
    "dsr = 10\n",
    "\n",
    "# Create magopter object\n",
    "magopter = mg.Magoptoffline(folder, adc_file, shunt_resistor=10.0, cabling_resistance=6)\n",
    "magopter._VOLTAGE_CHANNEL = 3\n",
    "magopter._PROBE_CHANNEL_3 = 4\n",
    "magopter._PROBE_CHANNEL_4 = 5\n",
    "magopter.prepare(down_sampling_rate=dsr, roi_b_plasma=True, filter_arcs_fl=False, crit_freq=None, crit_ampl=None)\n",
    "\n",
    "print('0: {}, 1: {}'.format(len(magopter.iv_arrs[0]), len(magopter.iv_arrs[1])))\n",
    "\n"
   ]
  },
  {
   "cell_type": "code",
   "execution_count": 12,
   "metadata": {},
   "outputs": [],
   "source": [
    "# Get values for TS measurements, depending on whether Magnum database is available.\n",
    "magnum_access_fl = magopter.ts_temp is not None\n",
    "if magnum_access_fl:\n",
    "    temps = [np.max(temp) / nrm.ELEM_CHARGE for temp in magopter.ts_temp[mdb.DATA]]\n",
    "    denss = [np.max(dens) for dens in magopter.ts_dens[mdb.DATA]]\n",
    "    T_e_ts = np.mean(temps)\n",
    "    d_T_e_ts = np.std(temps) / np.sqrt(len(temps))\n",
    "    n_e_ts = np.mean(denss)\n",
    "    d_n_e_ts = np.std(denss) / np.sqrt(len(denss))\n",
    "else:\n",
    "    T_e_ts = 1.12\n",
    "    d_T_e_ts = 0.01\n",
    "    n_e_ts = 4.44e20\n",
    "    d_n_e_ts = 0.01e20\n",
    "#     T_e_ts = 2.24\n",
    "#     d_T_e_ts = 0.01\n",
    "#     n_e_ts = 1.14e19\n",
    "#     d_n_e_ts = 0.01e19\n",
    "#     T_e_ts = 1.61\n",
    "#     d_T_e_ts = 0.01\n",
    "#     n_e_ts = 1.4e20\n",
    "#     d_n_e_ts = 0.1e20"
   ]
  },
  {
   "cell_type": "code",
   "execution_count": 13,
   "metadata": {},
   "outputs": [
    {
     "name": "stdout",
     "output_type": "stream",
     "text": [
      "[]\n"
     ]
    }
   ],
   "source": [
    "print(magopter.arcs)"
   ]
  },
  {
   "cell_type": "code",
   "execution_count": 14,
   "metadata": {},
   "outputs": [
    {
     "name": "stdout",
     "output_type": "stream",
     "text": [
      "Could not find fit files - they should be in 2019-05-28_Leland/ with names of the format fit0_6696027997221515869.csv\n",
      "Continuing with regular fit...\n"
     ]
    },
    {
     "ename": "KeyboardInterrupt",
     "evalue": "",
     "output_type": "error",
     "traceback": [
      "\u001b[0;31m---------------------------------------------------------------------------\u001b[0m",
      "\u001b[0;31mKeyboardInterrupt\u001b[0m                         Traceback (most recent call last)",
      "\u001b[0;32m<ipython-input-14-dabf8e157c63>\u001b[0m in \u001b[0;36m<module>\u001b[0;34m()\u001b[0m\n\u001b[0;32m----> 1\u001b[0;31m \u001b[0mfit_dfs\u001b[0m \u001b[0;34m=\u001b[0m \u001b[0mmagopter\u001b[0m\u001b[0;34m.\u001b[0m\u001b[0mfit\u001b[0m\u001b[0;34m(\u001b[0m\u001b[0mload_fl\u001b[0m\u001b[0;34m=\u001b[0m\u001b[0;32mTrue\u001b[0m\u001b[0;34m)\u001b[0m\u001b[0;34m\u001b[0m\u001b[0m\n\u001b[0m",
      "\u001b[0;32m~/Coding/Projects/flopter/flopter/magnum/magoptoffline.py\u001b[0m in \u001b[0;36mfit\u001b[0;34m(self, fitter, initial_vals, bounds, load_fl, save_fl, print_fl)\u001b[0m\n\u001b[1;32m    255\u001b[0m                     \u001b[0;31m# Parallelised using multiprocessing.pool\u001b[0m\u001b[0;34m\u001b[0m\u001b[0;34m\u001b[0m\u001b[0m\n\u001b[1;32m    256\u001b[0m                     \u001b[0;31m# TODO: Not currently working according to system monitor.\u001b[0m\u001b[0;34m\u001b[0m\u001b[0;34m\u001b[0m\u001b[0m\n\u001b[0;32m--> 257\u001b[0;31m                     \u001b[0mfit_data\u001b[0m \u001b[0;34m=\u001b[0m \u001b[0miv_data\u001b[0m\u001b[0;34m.\u001b[0m\u001b[0mmulti_fit\u001b[0m\u001b[0;34m(\u001b[0m\u001b[0mplot_fl\u001b[0m\u001b[0;34m=\u001b[0m\u001b[0;32mFalse\u001b[0m\u001b[0;34m)\u001b[0m\u001b[0;34m\u001b[0m\u001b[0m\n\u001b[0m\u001b[1;32m    258\u001b[0m                     \u001b[0;31m# result = pool.apply_async(iv_data.multi_fit)\u001b[0m\u001b[0;34m\u001b[0m\u001b[0;34m\u001b[0m\u001b[0m\n\u001b[1;32m    259\u001b[0m                     \u001b[0;31m# fit_data = result.get(timeout=10)\u001b[0m\u001b[0;34m\u001b[0m\u001b[0;34m\u001b[0m\u001b[0m\n",
      "\u001b[0;32m~/Coding/Projects/flopter/flopter/core/ivdata.py\u001b[0m in \u001b[0;36mmulti_fit\u001b[0;34m(self, sat_region, fitter, fix_vf_fl, plot_fl, print_fl)\u001b[0m\n\u001b[1;32m    165\u001b[0m         \u001b[0;32mif\u001b[0m \u001b[0mfix_vf_fl\u001b[0m\u001b[0;34m:\u001b[0m\u001b[0;34m\u001b[0m\u001b[0m\n\u001b[1;32m    166\u001b[0m             \u001b[0msiv_f\u001b[0m\u001b[0;34m.\u001b[0m\u001b[0mset_fixed_values\u001b[0m\u001b[0;34m(\u001b[0m\u001b[0;34m{\u001b[0m\u001b[0mc\u001b[0m\u001b[0;34m.\u001b[0m\u001b[0mFLOAT_POT\u001b[0m\u001b[0;34m:\u001b[0m \u001b[0mv_f\u001b[0m\u001b[0;34m}\u001b[0m\u001b[0;34m)\u001b[0m\u001b[0;34m\u001b[0m\u001b[0m\n\u001b[0;32m--> 167\u001b[0;31m         \u001b[0msiv_f_data\u001b[0m \u001b[0;34m=\u001b[0m \u001b[0msiv_f\u001b[0m\u001b[0;34m.\u001b[0m\u001b[0mfit_iv_data\u001b[0m\u001b[0;34m(\u001b[0m\u001b[0miv_data_ss\u001b[0m\u001b[0;34m,\u001b[0m \u001b[0msigma\u001b[0m\u001b[0;34m=\u001b[0m\u001b[0miv_data_ss\u001b[0m\u001b[0;34m[\u001b[0m\u001b[0mc\u001b[0m\u001b[0;34m.\u001b[0m\u001b[0mSIGMA\u001b[0m\u001b[0;34m]\u001b[0m\u001b[0;34m)\u001b[0m\u001b[0;34m\u001b[0m\u001b[0m\n\u001b[0m\u001b[1;32m    168\u001b[0m \u001b[0;34m\u001b[0m\u001b[0m\n\u001b[1;32m    169\u001b[0m         \u001b[0;31m# Use I_sat value to fit a fixed_value 4-parameter IV fit\u001b[0m\u001b[0;34m\u001b[0m\u001b[0;34m\u001b[0m\u001b[0m\n",
      "\u001b[0;32m~/Coding/Projects/flopter/flopter/core/fitters.py\u001b[0m in \u001b[0;36mfit_iv_data\u001b[0;34m(self, iv_data, initial_vals, bounds, sigma, print_fl)\u001b[0m\n\u001b[1;32m    161\u001b[0m         \u001b[0mpotential\u001b[0m \u001b[0;34m=\u001b[0m \u001b[0miv_data\u001b[0m\u001b[0;34m[\u001b[0m\u001b[0mc\u001b[0m\u001b[0;34m.\u001b[0m\u001b[0mPOTENTIAL\u001b[0m\u001b[0;34m]\u001b[0m\u001b[0;34m\u001b[0m\u001b[0m\n\u001b[1;32m    162\u001b[0m         \u001b[0mcurrent\u001b[0m \u001b[0;34m=\u001b[0m \u001b[0miv_data\u001b[0m\u001b[0;34m[\u001b[0m\u001b[0mc\u001b[0m\u001b[0;34m.\u001b[0m\u001b[0mCURRENT\u001b[0m\u001b[0;34m]\u001b[0m\u001b[0;34m\u001b[0m\u001b[0m\n\u001b[0;32m--> 163\u001b[0;31m         \u001b[0;32mreturn\u001b[0m \u001b[0mself\u001b[0m\u001b[0;34m.\u001b[0m\u001b[0mfit\u001b[0m\u001b[0;34m(\u001b[0m\u001b[0mpotential\u001b[0m\u001b[0;34m,\u001b[0m \u001b[0mcurrent\u001b[0m\u001b[0;34m,\u001b[0m \u001b[0minitial_vals\u001b[0m\u001b[0;34m,\u001b[0m \u001b[0mbounds\u001b[0m\u001b[0;34m,\u001b[0m \u001b[0msigma\u001b[0m\u001b[0;34m=\u001b[0m\u001b[0msigma\u001b[0m\u001b[0;34m,\u001b[0m \u001b[0mprint_fl\u001b[0m\u001b[0;34m=\u001b[0m\u001b[0mprint_fl\u001b[0m\u001b[0;34m)\u001b[0m\u001b[0;34m\u001b[0m\u001b[0m\n\u001b[0m\u001b[1;32m    164\u001b[0m \u001b[0;34m\u001b[0m\u001b[0m\n\u001b[1;32m    165\u001b[0m     \u001b[0;34m@\u001b[0m\u001b[0mclassmethod\u001b[0m\u001b[0;34m\u001b[0m\u001b[0m\n",
      "\u001b[0;32m~/Coding/Projects/flopter/flopter/core/fitters.py\u001b[0m in \u001b[0;36mfit\u001b[0;34m(self, x_data, y_data, initial_vals, bounds, print_fl, sigma)\u001b[0m\n\u001b[1;32m    154\u001b[0m \u001b[0;34m\u001b[0m\u001b[0m\n\u001b[1;32m    155\u001b[0m         \u001b[0;31m# Fit the data and return an IVFitData object.\u001b[0m\u001b[0;34m\u001b[0m\u001b[0;34m\u001b[0m\u001b[0m\n\u001b[0;32m--> 156\u001b[0;31m         \u001b[0mfit_data\u001b[0m \u001b[0;34m=\u001b[0m \u001b[0msuper\u001b[0m\u001b[0;34m(\u001b[0m\u001b[0;34m)\u001b[0m\u001b[0;34m.\u001b[0m\u001b[0mfit\u001b[0m\u001b[0;34m(\u001b[0m\u001b[0mx_data\u001b[0m\u001b[0;34m,\u001b[0m \u001b[0my_data\u001b[0m\u001b[0;34m,\u001b[0m \u001b[0minitial_vals\u001b[0m\u001b[0;34m=\u001b[0m\u001b[0minitial_vals\u001b[0m\u001b[0;34m,\u001b[0m \u001b[0mbounds\u001b[0m\u001b[0;34m=\u001b[0m\u001b[0mbounds\u001b[0m\u001b[0;34m,\u001b[0m \u001b[0msigma\u001b[0m\u001b[0;34m=\u001b[0m\u001b[0msigma\u001b[0m\u001b[0;34m)\u001b[0m\u001b[0;34m\u001b[0m\u001b[0m\n\u001b[0m\u001b[1;32m    157\u001b[0m         \u001b[0;32mreturn\u001b[0m \u001b[0mIVFitData\u001b[0m\u001b[0;34m.\u001b[0m\u001b[0mfrom_fit_data\u001b[0m\u001b[0;34m(\u001b[0m\u001b[0mfit_data\u001b[0m\u001b[0;34m)\u001b[0m\u001b[0;34m\u001b[0m\u001b[0m\n\u001b[1;32m    158\u001b[0m \u001b[0;34m\u001b[0m\u001b[0m\n",
      "\u001b[0;32m~/Coding/Projects/flopter/flopter/core/fitters.py\u001b[0m in \u001b[0;36mfit\u001b[0;34m(self, x_data, y_data, initial_vals, bounds, sigma)\u001b[0m\n\u001b[1;32m     76\u001b[0m             \u001b[0;32massert\u001b[0m \u001b[0mlen\u001b[0m\u001b[0;34m(\u001b[0m\u001b[0minitial_vals\u001b[0m\u001b[0;34m)\u001b[0m \u001b[0;34m==\u001b[0m \u001b[0mlen\u001b[0m\u001b[0;34m(\u001b[0m\u001b[0;34m[\u001b[0m\u001b[0mvalue\u001b[0m \u001b[0;32mfor\u001b[0m \u001b[0mvalue\u001b[0m \u001b[0;32min\u001b[0m \u001b[0mself\u001b[0m\u001b[0;34m.\u001b[0m\u001b[0mfixed_values\u001b[0m \u001b[0;32mif\u001b[0m \u001b[0mvalue\u001b[0m \u001b[0;32mis\u001b[0m \u001b[0;32mNone\u001b[0m\u001b[0;34m]\u001b[0m\u001b[0;34m)\u001b[0m\u001b[0;34m\u001b[0m\u001b[0m\n\u001b[1;32m     77\u001b[0m \u001b[0;34m\u001b[0m\u001b[0m\n\u001b[0;32m---> 78\u001b[0;31m         \u001b[0mfit_vals\u001b[0m\u001b[0;34m,\u001b[0m \u001b[0mfit_cov\u001b[0m \u001b[0;34m=\u001b[0m \u001b[0mcurve_fit\u001b[0m\u001b[0;34m(\u001b[0m\u001b[0mself\u001b[0m\u001b[0;34m.\u001b[0m\u001b[0m_curve_fit_func\u001b[0m\u001b[0;34m,\u001b[0m \u001b[0mx_data\u001b[0m\u001b[0;34m,\u001b[0m \u001b[0my_data\u001b[0m\u001b[0;34m,\u001b[0m \u001b[0mp0\u001b[0m\u001b[0;34m=\u001b[0m\u001b[0minitial_vals\u001b[0m\u001b[0;34m,\u001b[0m \u001b[0mbounds\u001b[0m\u001b[0;34m=\u001b[0m\u001b[0mbounds\u001b[0m\u001b[0;34m,\u001b[0m \u001b[0msigma\u001b[0m\u001b[0;34m=\u001b[0m\u001b[0msigma\u001b[0m\u001b[0;34m)\u001b[0m\u001b[0;34m\u001b[0m\u001b[0m\n\u001b[0m\u001b[1;32m     79\u001b[0m         \u001b[0mfit_sterrs\u001b[0m \u001b[0;34m=\u001b[0m \u001b[0mnp\u001b[0m\u001b[0;34m.\u001b[0m\u001b[0msqrt\u001b[0m\u001b[0;34m(\u001b[0m\u001b[0mnp\u001b[0m\u001b[0;34m.\u001b[0m\u001b[0mdiag\u001b[0m\u001b[0;34m(\u001b[0m\u001b[0mfit_cov\u001b[0m\u001b[0;34m)\u001b[0m\u001b[0;34m)\u001b[0m\u001b[0;34m\u001b[0m\u001b[0m\n\u001b[1;32m     80\u001b[0m \u001b[0;34m\u001b[0m\u001b[0m\n",
      "\u001b[0;32m~/Coding/Environments/python3.6/lib/python3.6/site-packages/scipy/optimize/minpack.py\u001b[0m in \u001b[0;36mcurve_fit\u001b[0;34m(f, xdata, ydata, p0, sigma, absolute_sigma, check_finite, bounds, method, jac, **kwargs)\u001b[0m\n\u001b[1;32m    760\u001b[0m \u001b[0;34m\u001b[0m\u001b[0m\n\u001b[1;32m    761\u001b[0m         res = least_squares(func, p0, jac=jac, bounds=bounds, method=method,\n\u001b[0;32m--> 762\u001b[0;31m                             **kwargs)\n\u001b[0m\u001b[1;32m    763\u001b[0m \u001b[0;34m\u001b[0m\u001b[0m\n\u001b[1;32m    764\u001b[0m         \u001b[0;32mif\u001b[0m \u001b[0;32mnot\u001b[0m \u001b[0mres\u001b[0m\u001b[0;34m.\u001b[0m\u001b[0msuccess\u001b[0m\u001b[0;34m:\u001b[0m\u001b[0;34m\u001b[0m\u001b[0m\n",
      "\u001b[0;32m~/Coding/Environments/python3.6/lib/python3.6/site-packages/scipy/optimize/_lsq/least_squares.py\u001b[0m in \u001b[0;36mleast_squares\u001b[0;34m(fun, x0, jac, bounds, method, ftol, xtol, gtol, x_scale, loss, f_scale, diff_step, tr_solver, tr_options, jac_sparsity, max_nfev, verbose, args, kwargs)\u001b[0m\n\u001b[1;32m    906\u001b[0m         result = trf(fun_wrapped, jac_wrapped, x0, f0, J0, lb, ub, ftol, xtol,\n\u001b[1;32m    907\u001b[0m                      \u001b[0mgtol\u001b[0m\u001b[0;34m,\u001b[0m \u001b[0mmax_nfev\u001b[0m\u001b[0;34m,\u001b[0m \u001b[0mx_scale\u001b[0m\u001b[0;34m,\u001b[0m \u001b[0mloss_function\u001b[0m\u001b[0;34m,\u001b[0m \u001b[0mtr_solver\u001b[0m\u001b[0;34m,\u001b[0m\u001b[0;34m\u001b[0m\u001b[0m\n\u001b[0;32m--> 908\u001b[0;31m                      tr_options.copy(), verbose)\n\u001b[0m\u001b[1;32m    909\u001b[0m \u001b[0;34m\u001b[0m\u001b[0m\n\u001b[1;32m    910\u001b[0m     \u001b[0;32melif\u001b[0m \u001b[0mmethod\u001b[0m \u001b[0;34m==\u001b[0m \u001b[0;34m'dogbox'\u001b[0m\u001b[0;34m:\u001b[0m\u001b[0;34m\u001b[0m\u001b[0m\n",
      "\u001b[0;32m~/Coding/Environments/python3.6/lib/python3.6/site-packages/scipy/optimize/_lsq/trf.py\u001b[0m in \u001b[0;36mtrf\u001b[0;34m(fun, jac, x0, f0, J0, lb, ub, ftol, xtol, gtol, max_nfev, x_scale, loss_function, tr_solver, tr_options, verbose)\u001b[0m\n\u001b[1;32m    126\u001b[0m         return trf_bounds(\n\u001b[1;32m    127\u001b[0m             \u001b[0mfun\u001b[0m\u001b[0;34m,\u001b[0m \u001b[0mjac\u001b[0m\u001b[0;34m,\u001b[0m \u001b[0mx0\u001b[0m\u001b[0;34m,\u001b[0m \u001b[0mf0\u001b[0m\u001b[0;34m,\u001b[0m \u001b[0mJ0\u001b[0m\u001b[0;34m,\u001b[0m \u001b[0mlb\u001b[0m\u001b[0;34m,\u001b[0m \u001b[0mub\u001b[0m\u001b[0;34m,\u001b[0m \u001b[0mftol\u001b[0m\u001b[0;34m,\u001b[0m \u001b[0mxtol\u001b[0m\u001b[0;34m,\u001b[0m \u001b[0mgtol\u001b[0m\u001b[0;34m,\u001b[0m \u001b[0mmax_nfev\u001b[0m\u001b[0;34m,\u001b[0m \u001b[0mx_scale\u001b[0m\u001b[0;34m,\u001b[0m\u001b[0;34m\u001b[0m\u001b[0m\n\u001b[0;32m--> 128\u001b[0;31m             loss_function, tr_solver, tr_options, verbose)\n\u001b[0m\u001b[1;32m    129\u001b[0m \u001b[0;34m\u001b[0m\u001b[0m\n\u001b[1;32m    130\u001b[0m \u001b[0;34m\u001b[0m\u001b[0m\n",
      "\u001b[0;32m~/Coding/Environments/python3.6/lib/python3.6/site-packages/scipy/optimize/_lsq/trf.py\u001b[0m in \u001b[0;36mtrf_bounds\u001b[0;34m(fun, jac, x0, f0, J0, lb, ub, ftol, xtol, gtol, max_nfev, x_scale, loss_function, tr_solver, tr_options, verbose)\u001b[0m\n\u001b[1;32m    380\u001b[0m             \u001b[0mcost\u001b[0m \u001b[0;34m=\u001b[0m \u001b[0mcost_new\u001b[0m\u001b[0;34m\u001b[0m\u001b[0m\n\u001b[1;32m    381\u001b[0m \u001b[0;34m\u001b[0m\u001b[0m\n\u001b[0;32m--> 382\u001b[0;31m             \u001b[0mJ\u001b[0m \u001b[0;34m=\u001b[0m \u001b[0mjac\u001b[0m\u001b[0;34m(\u001b[0m\u001b[0mx\u001b[0m\u001b[0;34m,\u001b[0m \u001b[0mf\u001b[0m\u001b[0;34m)\u001b[0m\u001b[0;34m\u001b[0m\u001b[0m\n\u001b[0m\u001b[1;32m    383\u001b[0m             \u001b[0mnjev\u001b[0m \u001b[0;34m+=\u001b[0m \u001b[0;36m1\u001b[0m\u001b[0;34m\u001b[0m\u001b[0m\n\u001b[1;32m    384\u001b[0m \u001b[0;34m\u001b[0m\u001b[0m\n",
      "\u001b[0;32m~/Coding/Environments/python3.6/lib/python3.6/site-packages/scipy/optimize/_lsq/least_squares.py\u001b[0m in \u001b[0;36mjac_wrapped\u001b[0;34m(x, f)\u001b[0m\n\u001b[1;32m    864\u001b[0m                 J = approx_derivative(fun, x, rel_step=diff_step, method=jac,\n\u001b[1;32m    865\u001b[0m                                       \u001b[0mf0\u001b[0m\u001b[0;34m=\u001b[0m\u001b[0mf\u001b[0m\u001b[0;34m,\u001b[0m \u001b[0mbounds\u001b[0m\u001b[0;34m=\u001b[0m\u001b[0mbounds\u001b[0m\u001b[0;34m,\u001b[0m \u001b[0margs\u001b[0m\u001b[0;34m=\u001b[0m\u001b[0margs\u001b[0m\u001b[0;34m,\u001b[0m\u001b[0;34m\u001b[0m\u001b[0m\n\u001b[0;32m--> 866\u001b[0;31m                                       kwargs=kwargs, sparsity=jac_sparsity)\n\u001b[0m\u001b[1;32m    867\u001b[0m                 \u001b[0;32mif\u001b[0m \u001b[0mJ\u001b[0m\u001b[0;34m.\u001b[0m\u001b[0mndim\u001b[0m \u001b[0;34m!=\u001b[0m \u001b[0;36m2\u001b[0m\u001b[0;34m:\u001b[0m  \u001b[0;31m# J is guaranteed not sparse.\u001b[0m\u001b[0;34m\u001b[0m\u001b[0m\n\u001b[1;32m    868\u001b[0m                     \u001b[0mJ\u001b[0m \u001b[0;34m=\u001b[0m \u001b[0mnp\u001b[0m\u001b[0;34m.\u001b[0m\u001b[0matleast_2d\u001b[0m\u001b[0;34m(\u001b[0m\u001b[0mJ\u001b[0m\u001b[0;34m)\u001b[0m\u001b[0;34m\u001b[0m\u001b[0m\n",
      "\u001b[0;32m~/Coding/Environments/python3.6/lib/python3.6/site-packages/scipy/optimize/_numdiff.py\u001b[0m in \u001b[0;36mapprox_derivative\u001b[0;34m(fun, x0, method, rel_step, f0, bounds, sparsity, as_linear_operator, args, kwargs)\u001b[0m\n\u001b[1;32m    382\u001b[0m         \u001b[0;32mif\u001b[0m \u001b[0msparsity\u001b[0m \u001b[0;32mis\u001b[0m \u001b[0;32mNone\u001b[0m\u001b[0;34m:\u001b[0m\u001b[0;34m\u001b[0m\u001b[0m\n\u001b[1;32m    383\u001b[0m             return _dense_difference(fun_wrapped, x0, f0, h,\n\u001b[0;32m--> 384\u001b[0;31m                                      use_one_sided, method)\n\u001b[0m\u001b[1;32m    385\u001b[0m         \u001b[0;32melse\u001b[0m\u001b[0;34m:\u001b[0m\u001b[0;34m\u001b[0m\u001b[0m\n\u001b[1;32m    386\u001b[0m             \u001b[0;32mif\u001b[0m \u001b[0;32mnot\u001b[0m \u001b[0missparse\u001b[0m\u001b[0;34m(\u001b[0m\u001b[0msparsity\u001b[0m\u001b[0;34m)\u001b[0m \u001b[0;32mand\u001b[0m \u001b[0mlen\u001b[0m\u001b[0;34m(\u001b[0m\u001b[0msparsity\u001b[0m\u001b[0;34m)\u001b[0m \u001b[0;34m==\u001b[0m \u001b[0;36m2\u001b[0m\u001b[0;34m:\u001b[0m\u001b[0;34m\u001b[0m\u001b[0m\n",
      "\u001b[0;32m~/Coding/Environments/python3.6/lib/python3.6/site-packages/scipy/optimize/_numdiff.py\u001b[0m in \u001b[0;36m_dense_difference\u001b[0;34m(fun, x0, f0, h, use_one_sided, method)\u001b[0m\n\u001b[1;32m    446\u001b[0m     \u001b[0mn\u001b[0m \u001b[0;34m=\u001b[0m \u001b[0mx0\u001b[0m\u001b[0;34m.\u001b[0m\u001b[0msize\u001b[0m\u001b[0;34m\u001b[0m\u001b[0m\n\u001b[1;32m    447\u001b[0m     \u001b[0mJ_transposed\u001b[0m \u001b[0;34m=\u001b[0m \u001b[0mnp\u001b[0m\u001b[0;34m.\u001b[0m\u001b[0mempty\u001b[0m\u001b[0;34m(\u001b[0m\u001b[0;34m(\u001b[0m\u001b[0mn\u001b[0m\u001b[0;34m,\u001b[0m \u001b[0mm\u001b[0m\u001b[0;34m)\u001b[0m\u001b[0;34m)\u001b[0m\u001b[0;34m\u001b[0m\u001b[0m\n\u001b[0;32m--> 448\u001b[0;31m     \u001b[0mh_vecs\u001b[0m \u001b[0;34m=\u001b[0m \u001b[0mnp\u001b[0m\u001b[0;34m.\u001b[0m\u001b[0mdiag\u001b[0m\u001b[0;34m(\u001b[0m\u001b[0mh\u001b[0m\u001b[0;34m)\u001b[0m\u001b[0;34m\u001b[0m\u001b[0m\n\u001b[0m\u001b[1;32m    449\u001b[0m \u001b[0;34m\u001b[0m\u001b[0m\n\u001b[1;32m    450\u001b[0m     \u001b[0;32mfor\u001b[0m \u001b[0mi\u001b[0m \u001b[0;32min\u001b[0m \u001b[0mrange\u001b[0m\u001b[0;34m(\u001b[0m\u001b[0mh\u001b[0m\u001b[0;34m.\u001b[0m\u001b[0msize\u001b[0m\u001b[0;34m)\u001b[0m\u001b[0;34m:\u001b[0m\u001b[0;34m\u001b[0m\u001b[0m\n",
      "\u001b[0;32m~/Coding/Environments/python3.6/lib/python3.6/site-packages/numpy/lib/twodim_base.py\u001b[0m in \u001b[0;36mdiag\u001b[0;34m(v, k)\u001b[0m\n\u001b[1;32m    273\u001b[0m     \u001b[0;32mif\u001b[0m \u001b[0mlen\u001b[0m\u001b[0;34m(\u001b[0m\u001b[0ms\u001b[0m\u001b[0;34m)\u001b[0m \u001b[0;34m==\u001b[0m \u001b[0;36m1\u001b[0m\u001b[0;34m:\u001b[0m\u001b[0;34m\u001b[0m\u001b[0m\n\u001b[1;32m    274\u001b[0m         \u001b[0mn\u001b[0m \u001b[0;34m=\u001b[0m \u001b[0ms\u001b[0m\u001b[0;34m[\u001b[0m\u001b[0;36m0\u001b[0m\u001b[0;34m]\u001b[0m\u001b[0;34m+\u001b[0m\u001b[0mabs\u001b[0m\u001b[0;34m(\u001b[0m\u001b[0mk\u001b[0m\u001b[0;34m)\u001b[0m\u001b[0;34m\u001b[0m\u001b[0m\n\u001b[0;32m--> 275\u001b[0;31m         \u001b[0mres\u001b[0m \u001b[0;34m=\u001b[0m \u001b[0mzeros\u001b[0m\u001b[0;34m(\u001b[0m\u001b[0;34m(\u001b[0m\u001b[0mn\u001b[0m\u001b[0;34m,\u001b[0m \u001b[0mn\u001b[0m\u001b[0;34m)\u001b[0m\u001b[0;34m,\u001b[0m \u001b[0mv\u001b[0m\u001b[0;34m.\u001b[0m\u001b[0mdtype\u001b[0m\u001b[0;34m)\u001b[0m\u001b[0;34m\u001b[0m\u001b[0m\n\u001b[0m\u001b[1;32m    276\u001b[0m         \u001b[0;32mif\u001b[0m \u001b[0mk\u001b[0m \u001b[0;34m>=\u001b[0m \u001b[0;36m0\u001b[0m\u001b[0;34m:\u001b[0m\u001b[0;34m\u001b[0m\u001b[0m\n\u001b[1;32m    277\u001b[0m             \u001b[0mi\u001b[0m \u001b[0;34m=\u001b[0m \u001b[0mk\u001b[0m\u001b[0;34m\u001b[0m\u001b[0m\n",
      "\u001b[0;31mKeyboardInterrupt\u001b[0m: "
     ]
    }
   ],
   "source": [
    "fit_dfs = magopter.fit(load_fl=True)"
   ]
  },
  {
   "cell_type": "markdown",
   "metadata": {},
   "source": [
    "**Xarray dataset creation + plotting**"
   ]
  },
  {
   "cell_type": "code",
   "execution_count": 24,
   "metadata": {},
   "outputs": [
    {
     "name": "stdout",
     "output_type": "stream",
     "text": [
      "1998\n",
      "50\n",
      "999 998\n"
     ]
    },
    {
     "ename": "ValueError",
     "evalue": "arguments without labels along dimension 'sweep' cannot be aligned because they have different dimension sizes: {998, 999}",
     "output_type": "error",
     "traceback": [
      "\u001b[0;31m---------------------------------------------------------------------------\u001b[0m",
      "\u001b[0;31mValueError\u001b[0m                                Traceback (most recent call last)",
      "\u001b[0;32m<ipython-input-24-269752be4a72>\u001b[0m in \u001b[0;36m<module>\u001b[0;34m()\u001b[0m\n\u001b[1;32m     35\u001b[0m \u001b[0;34m\u001b[0m\u001b[0m\n\u001b[1;32m     36\u001b[0m     \u001b[0mdirection\u001b[0m \u001b[0;34m=\u001b[0m \u001b[0mxr\u001b[0m\u001b[0;34m.\u001b[0m\u001b[0mDataArray\u001b[0m\u001b[0;34m(\u001b[0m\u001b[0mnp\u001b[0m\u001b[0;34m.\u001b[0m\u001b[0marray\u001b[0m\u001b[0;34m(\u001b[0m\u001b[0;34m[\u001b[0m\u001b[0;34m'up'\u001b[0m\u001b[0;34m,\u001b[0m \u001b[0;34m'down'\u001b[0m\u001b[0;34m]\u001b[0m\u001b[0;34m)\u001b[0m\u001b[0;34m,\u001b[0m \u001b[0mdims\u001b[0m\u001b[0;34m=\u001b[0m\u001b[0;34m[\u001b[0m\u001b[0;34m'direction'\u001b[0m\u001b[0;34m]\u001b[0m\u001b[0;34m,\u001b[0m \u001b[0mname\u001b[0m\u001b[0;34m=\u001b[0m\u001b[0;34m'direction'\u001b[0m\u001b[0;34m)\u001b[0m\u001b[0;34m\u001b[0m\u001b[0m\n\u001b[0;32m---> 37\u001b[0;31m     \u001b[0mds_probes\u001b[0m\u001b[0;34m.\u001b[0m\u001b[0mappend\u001b[0m\u001b[0;34m(\u001b[0m\u001b[0mxr\u001b[0m\u001b[0;34m.\u001b[0m\u001b[0mconcat\u001b[0m\u001b[0;34m(\u001b[0m\u001b[0;34m[\u001b[0m\u001b[0mds_ups\u001b[0m\u001b[0;34m,\u001b[0m \u001b[0mds_downs\u001b[0m\u001b[0;34m]\u001b[0m\u001b[0;34m,\u001b[0m \u001b[0mdim\u001b[0m\u001b[0;34m=\u001b[0m\u001b[0mdirection\u001b[0m\u001b[0;34m)\u001b[0m\u001b[0;34m)\u001b[0m\u001b[0;34m\u001b[0m\u001b[0m\n\u001b[0m\u001b[1;32m     38\u001b[0m \u001b[0;34m\u001b[0m\u001b[0m\n\u001b[1;32m     39\u001b[0m \u001b[0mprobe\u001b[0m \u001b[0;34m=\u001b[0m \u001b[0mxr\u001b[0m\u001b[0;34m.\u001b[0m\u001b[0mDataArray\u001b[0m\u001b[0;34m(\u001b[0m\u001b[0mnp\u001b[0m\u001b[0;34m.\u001b[0m\u001b[0marray\u001b[0m\u001b[0;34m(\u001b[0m\u001b[0mprobe_designations\u001b[0m\u001b[0;34m)\u001b[0m\u001b[0;34m,\u001b[0m \u001b[0mdims\u001b[0m\u001b[0;34m=\u001b[0m\u001b[0;34m[\u001b[0m\u001b[0;34m'probe'\u001b[0m\u001b[0;34m]\u001b[0m\u001b[0;34m,\u001b[0m \u001b[0mname\u001b[0m\u001b[0;34m=\u001b[0m\u001b[0;34m'probe'\u001b[0m\u001b[0;34m)\u001b[0m\u001b[0;34m\u001b[0m\u001b[0m\n",
      "\u001b[0;32m~/Coding/Environments/python3.6/lib/python3.6/site-packages/xarray/core/combine.py\u001b[0m in \u001b[0;36mconcat\u001b[0;34m(objs, dim, data_vars, coords, compat, positions, indexers, mode, concat_over)\u001b[0m\n\u001b[1;32m    118\u001b[0m         raise TypeError('can only concatenate xarray Dataset and DataArray '\n\u001b[1;32m    119\u001b[0m                         'objects, got %s' % type(first_obj))\n\u001b[0;32m--> 120\u001b[0;31m     \u001b[0;32mreturn\u001b[0m \u001b[0mf\u001b[0m\u001b[0;34m(\u001b[0m\u001b[0mobjs\u001b[0m\u001b[0;34m,\u001b[0m \u001b[0mdim\u001b[0m\u001b[0;34m,\u001b[0m \u001b[0mdata_vars\u001b[0m\u001b[0;34m,\u001b[0m \u001b[0mcoords\u001b[0m\u001b[0;34m,\u001b[0m \u001b[0mcompat\u001b[0m\u001b[0;34m,\u001b[0m \u001b[0mpositions\u001b[0m\u001b[0;34m)\u001b[0m\u001b[0;34m\u001b[0m\u001b[0m\n\u001b[0m\u001b[1;32m    121\u001b[0m \u001b[0;34m\u001b[0m\u001b[0m\n\u001b[1;32m    122\u001b[0m \u001b[0;34m\u001b[0m\u001b[0m\n",
      "\u001b[0;32m~/Coding/Environments/python3.6/lib/python3.6/site-packages/xarray/core/combine.py\u001b[0m in \u001b[0;36m_dataset_concat\u001b[0;34m(datasets, dim, data_vars, coords, compat, positions)\u001b[0m\n\u001b[1;32m    226\u001b[0m     \u001b[0;31m# Make sure we're working on a copy (we'll be loading variables)\u001b[0m\u001b[0;34m\u001b[0m\u001b[0;34m\u001b[0m\u001b[0m\n\u001b[1;32m    227\u001b[0m     \u001b[0mdatasets\u001b[0m \u001b[0;34m=\u001b[0m \u001b[0;34m[\u001b[0m\u001b[0mds\u001b[0m\u001b[0;34m.\u001b[0m\u001b[0mcopy\u001b[0m\u001b[0;34m(\u001b[0m\u001b[0;34m)\u001b[0m \u001b[0;32mfor\u001b[0m \u001b[0mds\u001b[0m \u001b[0;32min\u001b[0m \u001b[0mdatasets\u001b[0m\u001b[0;34m]\u001b[0m\u001b[0;34m\u001b[0m\u001b[0m\n\u001b[0;32m--> 228\u001b[0;31m     \u001b[0mdatasets\u001b[0m \u001b[0;34m=\u001b[0m \u001b[0malign\u001b[0m\u001b[0;34m(\u001b[0m\u001b[0;34m*\u001b[0m\u001b[0mdatasets\u001b[0m\u001b[0;34m,\u001b[0m \u001b[0mjoin\u001b[0m\u001b[0;34m=\u001b[0m\u001b[0;34m'outer'\u001b[0m\u001b[0;34m,\u001b[0m \u001b[0mcopy\u001b[0m\u001b[0;34m=\u001b[0m\u001b[0;32mFalse\u001b[0m\u001b[0;34m,\u001b[0m \u001b[0mexclude\u001b[0m\u001b[0;34m=\u001b[0m\u001b[0;34m[\u001b[0m\u001b[0mdim\u001b[0m\u001b[0;34m]\u001b[0m\u001b[0;34m)\u001b[0m\u001b[0;34m\u001b[0m\u001b[0m\n\u001b[0m\u001b[1;32m    229\u001b[0m \u001b[0;34m\u001b[0m\u001b[0m\n\u001b[1;32m    230\u001b[0m     \u001b[0mconcat_over\u001b[0m\u001b[0;34m,\u001b[0m \u001b[0mequals\u001b[0m \u001b[0;34m=\u001b[0m \u001b[0m_calc_concat_over\u001b[0m\u001b[0;34m(\u001b[0m\u001b[0mdatasets\u001b[0m\u001b[0;34m,\u001b[0m \u001b[0mdim\u001b[0m\u001b[0;34m,\u001b[0m \u001b[0mdata_vars\u001b[0m\u001b[0;34m,\u001b[0m \u001b[0mcoords\u001b[0m\u001b[0;34m)\u001b[0m\u001b[0;34m\u001b[0m\u001b[0m\n",
      "\u001b[0;32m~/Coding/Environments/python3.6/lib/python3.6/site-packages/xarray/core/alignment.py\u001b[0m in \u001b[0;36malign\u001b[0;34m(*objects, **kwargs)\u001b[0m\n\u001b[1;32m    153\u001b[0m                     \u001b[0;34m'arguments without labels along dimension %r cannot be '\u001b[0m\u001b[0;34m\u001b[0m\u001b[0m\n\u001b[1;32m    154\u001b[0m                     \u001b[0;34m'aligned because they have different dimension sizes: %r'\u001b[0m\u001b[0;34m\u001b[0m\u001b[0m\n\u001b[0;32m--> 155\u001b[0;31m                     % (dim, sizes))\n\u001b[0m\u001b[1;32m    156\u001b[0m \u001b[0;34m\u001b[0m\u001b[0m\n\u001b[1;32m    157\u001b[0m     \u001b[0mresult\u001b[0m \u001b[0;34m=\u001b[0m \u001b[0;34m[\u001b[0m\u001b[0;34m]\u001b[0m\u001b[0;34m\u001b[0m\u001b[0m\n",
      "\u001b[0;31mValueError\u001b[0m: arguments without labels along dimension 'sweep' cannot be aligned because they have different dimension sizes: {998, 999}"
     ]
    }
   ],
   "source": [
    "# print length of the 0th probes (probe S) number of sweeps\n",
    "print(len(magopter.iv_arrs[1]))\n",
    "\n",
    "# Create relative t array by subtracting the first timestep value from the first time array \n",
    "first_time_arr = magopter.iv_arrs[1][0]['t']\n",
    "relative_t = np.zeros(len(first_time_arr))\n",
    "\n",
    "sweep_length = np.shape(relative_t)[0] // 2\n",
    "print(sweep_length)\n",
    "# create a list of datasets for each sweep\n",
    "probe_designations = ['S', 'L']\n",
    "ds_probes = []\n",
    "\n",
    "for i in range(len(magopter.iv_arrs)):\n",
    "    ds_list = []\n",
    "    for j, iv in enumerate(magopter.iv_arrs[i]):\n",
    "        if j % 2 == 0:\n",
    "            ds = xr.Dataset({'voltage': (['time'], iv['V'][:sweep_length]),\n",
    "                             'current': (['time'], iv['I'][:sweep_length]),\n",
    "                             'shot_time': (['time'], iv['t'][:sweep_length]),\n",
    "                             'start_time': iv['t'][0]},\n",
    "                            coords={'time': relative_t[:sweep_length], 'direction': 'up', 'probe':probe_designations[i]})\n",
    "        else:\n",
    "            ds = xr.Dataset({'voltage': (['time'], np.flip(iv['V'][:sweep_length])),\n",
    "                             'current': (['time'], np.flip(iv['I'][:sweep_length])),\n",
    "                             'shot_time': (['time'], np.flip(iv['t'][:sweep_length])),\n",
    "                             'start_time': iv['t'][0]},\n",
    "                            coords={'time': relative_t[:sweep_length], 'direction': 'down', 'probe':probe_designations[i]})\n",
    "        ds_list.append(ds)\n",
    "\n",
    "    # # Separate into up and down sweeps then concat along sweep direction as an axis\n",
    "    print(len(ds_list[::2]), len(ds_list[1::2]))\n",
    "    ds_ups = xr.concat(ds_list[::2], 'sweep')\n",
    "    ds_downs = xr.concat(ds_list[1::2], 'sweep')\n",
    "\n",
    "    direction = xr.DataArray(np.array(['up', 'down']), dims=['direction'], name='direction')\n",
    "    ds_probes.append(xr.concat([ds_ups, ds_downs], dim=direction))\n",
    "\n",
    "probe = xr.DataArray(np.array(probe_designations), dims=['probe'], name='probe')\n",
    "ds_full = xr.concat(ds_probes, dim=probe)\n",
    "\n",
    "ds_full = ds_full.sel(probe = 'S')\n",
    "\n",
    "manual_start = 0\n",
    "manual_end = 750\n",
    "if not magnum_access_fl:\n",
    "    ds_full.max(dim='time').mean('direction')['current'].plot.line(x='sweep')\n",
    "    ds_full.max(dim='time').mean('direction').isel(sweep=slice(manual_start,manual_end))['current'].plot.line(x='sweep')\n",
    "\n",
    "    # Choose only the IVs in the static section\n",
    "    ds_full = ds_full.isel(sweep=slice(manual_start,manual_end))\n",
    "\n",
    "# Average across each sweep direction\n",
    "sweep_avg_up = ds_full.sel(direction = 'up').mean('sweep')\n",
    "sweep_avg_dn = ds_full.sel(direction = 'down').mean('sweep')\n",
    "\n",
    "# Add in standard deviation of each bin as a new data variable \n",
    "sweep_avg_up = sweep_avg_up.assign({'d_current': ds_full.sel(direction = 'up').std('sweep')['current']})\n",
    "sweep_avg_dn = sweep_avg_dn.assign({'d_current': ds_full.sel(direction = 'down').std('sweep')['current']})\n",
    "\n",
    "print(ds_full)\n",
    "relative_t = first_time_arr - first_time_arr[0]"
   ]
  },
  {
   "cell_type": "code",
   "execution_count": 18,
   "metadata": {},
   "outputs": [
    {
     "name": "stdout",
     "output_type": "stream",
     "text": [
      "999 999\n",
      "999 999\n",
      "<xarray.Dataset>\n",
      "Dimensions:     (direction: 2, sweep: 750, time: 50)\n",
      "Coordinates:\n",
      "  * time        (time) float64 0.0 0.0001 0.0002 0.0003 ... 0.0047 0.0048 0.0049\n",
      "  * direction   (direction) <U4 'up' 'down'\n",
      "    probe       <U1 'S'\n",
      "Dimensions without coordinates: sweep\n",
      "Data variables:\n",
      "    voltage     (direction, sweep, time) float64 -95.98 -94.08 ... 7.321 9.498\n",
      "    current     (direction, sweep, time) float64 0.000431 0.001293 ... 0.001293\n",
      "    shot_time   (direction, sweep, time) float64 1.005 1.005 1.005 ... 8.5 8.5\n",
      "    start_time  (direction, sweep) float64 1.005 1.015 1.025 ... 8.48 8.49 8.5\n"
     ]
    }
   ],
   "source": [
    "# create a list of datasets for each sweep\n",
    "probe_designations = ['S', 'L']\n",
    "ds_probes = []\n",
    "\n",
    "for i in range(len(magopter.iv_arrs)):\n",
    "    ds_list = []\n",
    "    for j, iv in enumerate(magopter.iv_arrs[i]):\n",
    "        if j % 2 == 0:\n",
    "            ds = xr.Dataset({'voltage': (['time'], iv['V'][:sweep_length]),\n",
    "                             'current': (['time'], iv['I'][:sweep_length]),\n",
    "                             'shot_time': (['time'], iv['t'][:sweep_length]),\n",
    "                             'start_time': iv['t'][0]},\n",
    "                            coords={'time': relative_t[:sweep_length], 'direction': 'up', 'probe':probe_designations[i]})\n",
    "        else:\n",
    "            ds = xr.Dataset({'voltage': (['time'], np.flip(iv['V'][:sweep_length])),\n",
    "                             'current': (['time'], np.flip(iv['I'][:sweep_length])),\n",
    "                             'shot_time': (['time'], np.flip(iv['t'][:sweep_length])),\n",
    "                             'start_time': iv['t'][0]},\n",
    "                            coords={'time': relative_t[:sweep_length], 'direction': 'down', 'probe':probe_designations[i]})\n",
    "        ds_list.append(ds)\n",
    "\n",
    "    # # Separate into up and down sweeps then concat along sweep direction as an axis\n",
    "    print(len(ds_list[::2]), len(ds_list[1::2]))\n",
    "    ds_ups = xr.concat(ds_list[::2], 'sweep')\n",
    "    ds_downs = xr.concat(ds_list[1::2], 'sweep')\n",
    "\n",
    "    direction = xr.DataArray(np.array(['up', 'down']), dims=['direction'], name='direction')\n",
    "    ds_probes.append(xr.concat([ds_ups, ds_downs], dim=direction))\n",
    "\n",
    "probe = xr.DataArray(np.array(probe_designations), dims=['probe'], name='probe')\n",
    "ds_full = xr.concat(ds_probes, dim=probe)\n",
    "\n",
    "ds_full = ds_full.sel(probe = 'S')\n",
    "\n",
    "manual_start = 0\n",
    "manual_end = 750\n",
    "if not magnum_access_fl:\n",
    "    ds_full.max(dim='time').mean('direction')['current'].plot.line(x='sweep')\n",
    "    ds_full.max(dim='time').mean('direction').isel(sweep=slice(manual_start,manual_end))['current'].plot.line(x='sweep')\n",
    "\n",
    "    # Choose only the IVs in the static section\n",
    "    ds_full = ds_full.isel(sweep=slice(manual_start,manual_end))\n",
    "\n",
    "# Average across each sweep direction\n",
    "sweep_avg_up = ds_full.sel(direction = 'up').mean('sweep')\n",
    "sweep_avg_dn = ds_full.sel(direction = 'down').mean('sweep')\n",
    "\n",
    "# Add in standard deviation of each bin as a new data variable \n",
    "sweep_avg_up = sweep_avg_up.assign({'d_current': ds_full.sel(direction = 'up').std('sweep')['current']})\n",
    "sweep_avg_dn = sweep_avg_dn.assign({'d_current': ds_full.sel(direction = 'down').std('sweep')['current']})\n",
    "\n",
    "print(ds_full)"
   ]
  },
  {
   "cell_type": "code",
   "execution_count": 19,
   "metadata": {},
   "outputs": [],
   "source": [
    "plt.figure()\n",
    "plt.errorbar(sweep_avg_up['time'], sweep_avg_up['current'], yerr=sweep_avg_up['d_current'], \n",
    "             ecolor='silver')\n",
    "\n",
    "plt.figure()\n",
    "plt.errorbar(sweep_avg_dn['time'], sweep_avg_dn['current'], yerr=sweep_avg_dn['d_current'], \n",
    "             ecolor='silver')\n",
    "plt.show()"
   ]
  },
  {
   "cell_type": "code",
   "execution_count": 17,
   "metadata": {},
   "outputs": [
    {
     "name": "stdout",
     "output_type": "stream",
     "text": [
      "<xarray.Dataset>\n",
      "Dimensions:     (time: 0)\n",
      "Coordinates:\n",
      "  * time        (time) float64 \n",
      "    probe       <U1 'S'\n",
      "Data variables:\n",
      "    voltage     (time) float64 \n",
      "    current     (time) float64 \n",
      "    shot_time   (time) float64 \n",
      "    start_time  (time) float64 \n",
      "    d_current   (time) float64 \n"
     ]
    },
    {
     "ename": "ImportError",
     "evalue": "Plotting of arrays of cftime.datetime objects or arrays indexed by cftime.datetime objects requires the optional `nc-time-axis` (v1.2.0 or later) package.",
     "output_type": "error",
     "traceback": [
      "\u001b[0;31m---------------------------------------------------------------------------\u001b[0m",
      "\u001b[0;31mImportError\u001b[0m                               Traceback (most recent call last)",
      "\u001b[0;32m<ipython-input-17-c02dc50bd1a9>\u001b[0m in \u001b[0;36m<module>\u001b[0;34m()\u001b[0m\n\u001b[1;32m      3\u001b[0m \u001b[0mprint\u001b[0m\u001b[0;34m(\u001b[0m\u001b[0msweep_avg_updn\u001b[0m\u001b[0;34m)\u001b[0m\u001b[0;34m\u001b[0m\u001b[0m\n\u001b[1;32m      4\u001b[0m \u001b[0;34m\u001b[0m\u001b[0m\n\u001b[0;32m----> 5\u001b[0;31m \u001b[0msweep_avg_updn\u001b[0m\u001b[0;34m[\u001b[0m\u001b[0;34m'current'\u001b[0m\u001b[0;34m]\u001b[0m\u001b[0;34m.\u001b[0m\u001b[0mplot\u001b[0m\u001b[0;34m.\u001b[0m\u001b[0mline\u001b[0m\u001b[0;34m(\u001b[0m\u001b[0;34m)\u001b[0m\u001b[0;34m\u001b[0m\u001b[0m\n\u001b[0m",
      "\u001b[0;32m~/Coding/Environments/python3.6/lib/python3.6/site-packages/xarray/plot/plot.py\u001b[0m in \u001b[0;36mline\u001b[0;34m(self, *args, **kwargs)\u001b[0m\n\u001b[1;32m    429\u001b[0m     \u001b[0;34m@\u001b[0m\u001b[0mfunctools\u001b[0m\u001b[0;34m.\u001b[0m\u001b[0mwraps\u001b[0m\u001b[0;34m(\u001b[0m\u001b[0mline\u001b[0m\u001b[0;34m)\u001b[0m\u001b[0;34m\u001b[0m\u001b[0m\n\u001b[1;32m    430\u001b[0m     \u001b[0;32mdef\u001b[0m \u001b[0mline\u001b[0m\u001b[0;34m(\u001b[0m\u001b[0mself\u001b[0m\u001b[0;34m,\u001b[0m \u001b[0;34m*\u001b[0m\u001b[0margs\u001b[0m\u001b[0;34m,\u001b[0m \u001b[0;34m**\u001b[0m\u001b[0mkwargs\u001b[0m\u001b[0;34m)\u001b[0m\u001b[0;34m:\u001b[0m\u001b[0;34m\u001b[0m\u001b[0m\n\u001b[0;32m--> 431\u001b[0;31m         \u001b[0;32mreturn\u001b[0m \u001b[0mline\u001b[0m\u001b[0;34m(\u001b[0m\u001b[0mself\u001b[0m\u001b[0;34m.\u001b[0m\u001b[0m_da\u001b[0m\u001b[0;34m,\u001b[0m \u001b[0;34m*\u001b[0m\u001b[0margs\u001b[0m\u001b[0;34m,\u001b[0m \u001b[0;34m**\u001b[0m\u001b[0mkwargs\u001b[0m\u001b[0;34m)\u001b[0m\u001b[0;34m\u001b[0m\u001b[0m\n\u001b[0m\u001b[1;32m    432\u001b[0m \u001b[0;34m\u001b[0m\u001b[0m\n\u001b[1;32m    433\u001b[0m     \u001b[0;34m@\u001b[0m\u001b[0mfunctools\u001b[0m\u001b[0;34m.\u001b[0m\u001b[0mwraps\u001b[0m\u001b[0;34m(\u001b[0m\u001b[0mstep\u001b[0m\u001b[0;34m)\u001b[0m\u001b[0;34m\u001b[0m\u001b[0m\n",
      "\u001b[0;32m~/Coding/Environments/python3.6/lib/python3.6/site-packages/xarray/plot/plot.py\u001b[0m in \u001b[0;36mline\u001b[0;34m(darray, *args, **kwargs)\u001b[0m\n\u001b[1;32m    283\u001b[0m         \u001b[0myplt_val\u001b[0m \u001b[0;34m=\u001b[0m \u001b[0myplt\u001b[0m\u001b[0;34m.\u001b[0m\u001b[0mvalues\u001b[0m\u001b[0;34m\u001b[0m\u001b[0m\n\u001b[1;32m    284\u001b[0m \u001b[0;34m\u001b[0m\u001b[0m\n\u001b[0;32m--> 285\u001b[0;31m     \u001b[0m_ensure_plottable\u001b[0m\u001b[0;34m(\u001b[0m\u001b[0mxplt_val\u001b[0m\u001b[0;34m,\u001b[0m \u001b[0myplt_val\u001b[0m\u001b[0;34m)\u001b[0m\u001b[0;34m\u001b[0m\u001b[0m\n\u001b[0m\u001b[1;32m    286\u001b[0m \u001b[0;34m\u001b[0m\u001b[0m\n\u001b[1;32m    287\u001b[0m     \u001b[0mprimitive\u001b[0m \u001b[0;34m=\u001b[0m \u001b[0max\u001b[0m\u001b[0;34m.\u001b[0m\u001b[0mplot\u001b[0m\u001b[0;34m(\u001b[0m\u001b[0mxplt_val\u001b[0m\u001b[0;34m,\u001b[0m \u001b[0myplt_val\u001b[0m\u001b[0;34m,\u001b[0m \u001b[0;34m*\u001b[0m\u001b[0margs\u001b[0m\u001b[0;34m,\u001b[0m \u001b[0;34m**\u001b[0m\u001b[0mkwargs\u001b[0m\u001b[0;34m)\u001b[0m\u001b[0;34m\u001b[0m\u001b[0m\n",
      "\u001b[0;32m~/Coding/Environments/python3.6/lib/python3.6/site-packages/xarray/plot/utils.py\u001b[0m in \u001b[0;36m_ensure_plottable\u001b[0;34m(*args)\u001b[0m\n\u001b[1;32m    497\u001b[0m         if (_valid_other_type(np.array(x), cftime_datetime)\n\u001b[1;32m    498\u001b[0m                 and not nc_time_axis_available):\n\u001b[0;32m--> 499\u001b[0;31m             raise ImportError('Plotting of arrays of cftime.datetime '\n\u001b[0m\u001b[1;32m    500\u001b[0m                               \u001b[0;34m'objects or arrays indexed by '\u001b[0m\u001b[0;34m\u001b[0m\u001b[0m\n\u001b[1;32m    501\u001b[0m                               \u001b[0;34m'cftime.datetime objects requires the '\u001b[0m\u001b[0;34m\u001b[0m\u001b[0m\n",
      "\u001b[0;31mImportError\u001b[0m: Plotting of arrays of cftime.datetime objects or arrays indexed by cftime.datetime objects requires the optional `nc-time-axis` (v1.2.0 or later) package."
     ]
    }
   ],
   "source": [
    "sweep_avg_updn = ds_full.mean('direction').mean('sweep').assign({'d_current': ds_full.std('direction').std('sweep')['current']})\n",
    "sweep_avg_updn = sweep_avg_updn.where(sweep_avg_updn.current <= 0, drop=True)\n",
    "print(sweep_avg_updn)\n",
    "\n",
    "sweep_avg_updn['current'].plot.line()"
   ]
  },
  {
   "cell_type": "code",
   "execution_count": 43,
   "metadata": {},
   "outputs": [],
   "source": [
    "sweep_avg_updn.to_netcdf('~/Data/highdens_test.nc')"
   ]
  },
  {
   "cell_type": "code",
   "execution_count": 2,
   "metadata": {},
   "outputs": [],
   "source": [
    "sweep_avg_updn = xr.open_dataset('~/Data/highdens_test.nc')"
   ]
  },
  {
   "cell_type": "code",
   "execution_count": 9,
   "metadata": {},
   "outputs": [],
   "source": [
    "plt.figure()\n",
    "plt.plot(sweep_avg_up['voltage'], sweep_avg_up['current'], color='orange')\n",
    "plt.plot(sweep_avg_dn['voltage'], sweep_avg_dn['current'], color='yellow')\n",
    "plt.errorbar(sweep_avg_updn['voltage'], sweep_avg_updn['current'], yerr=sweep_avg_updn['d_current'], ecolor='silver')\n",
    "plt.show()"
   ]
  },
  {
   "cell_type": "markdown",
   "metadata": {},
   "source": [
    "# Multi-fitting"
   ]
  },
  {
   "cell_type": "code",
   "execution_count": 135,
   "metadata": {},
   "outputs": [
    {
     "data": {
      "text/plain": [
       "(-0.25, 1)"
      ]
     },
     "execution_count": 135,
     "metadata": {},
     "output_type": "execute_result"
    }
   ],
   "source": [
    "# concatenate the up and down sweeps together to cancel the (small) capacitance effect\n",
    "\n",
    "# iv_data = ivd.IVData(np.concatenate([sweep_avg_up.where(sweep_avg_up.current < 0, drop=True)['voltage'].data, np.flip(sweep_avg_dn.where(sweep_avg_dn.current < 0)['voltage'].data)]), \n",
    "#                      -np.concatenate([sweep_avg_up.where(sweep_avg_up.current < 0)['current'].data, np.flip(sweep_avg_dn.where(sweep_avg_dn.current < 0)['current'].data)]),\n",
    "#                      relative_t, \n",
    "#                      sigma=np.concatenate([sweep_avg_up.where(sweep_avg_up.current < 0)['d_current'].data, np.flip(sweep_avg_dn.where(sweep_avg_dn.current < 0)['d_current'].data)]), \n",
    "#                      estimate_error_fl=False)\n",
    "\n",
    "iv_data = ivd.IVData(sweep_avg_updn['voltage'].data, \n",
    "                     -sweep_avg_updn['current'].data, \n",
    "                     sweep_avg_updn['time'].data, \n",
    "                     sigma=sweep_avg_updn['d_current'].data, estimate_error_fl=False)\n",
    "\n",
    "# plt.figure()\n",
    "# plt.plot(iv_data['V'], iv_data['I'])\n",
    "\n",
    "starting_params = [0.69, 0.009, 1.12, +1]\n",
    "\n",
    "full_iv_fitter = fts.FullIVFitter()\n",
    "fit_data = full_iv_fitter.fit_iv_data(iv_data, initial_vals=starting_params)\n",
    "fit_data.plot(show_fl=False)\n",
    "# plt.errorbar(fit_data.raw_x, fit_data.raw_y, yerr=iv_data['sigma'], ecolor='silver')\n",
    "# plt.plot(fit_data.raw_x, fit_data.fit_y, color='orange', label=r'')\n",
    "# plt.plot(iv_data['V'], full_iv_fitter.fit_function(iv_data['V'], *starting_params), label='Start-param IV')\n",
    "plt.legend()\n",
    "plt.ylim([-.25, 1])\n",
    "\n",
    "# fit_data = iv_data.multi_fit(plot_fl=True)\n",
    "# fit_data_trim = iv_data_trim.multi_fit(plot_fl=True)"
   ]
  },
  {
   "cell_type": "code",
   "execution_count": 57,
   "metadata": {},
   "outputs": [],
   "source": [
    "iv_data_corrected, fit_data_corrected = iv_data.gunn_fit(plot_fl=True)"
   ]
  },
  {
   "cell_type": "code",
   "execution_count": 29,
   "metadata": {},
   "outputs": [
    {
     "ename": "RuntimeError",
     "evalue": "Optimal parameters not found: The maximum number of function evaluations is exceeded.",
     "output_type": "error",
     "traceback": [
      "\u001b[0;31m---------------------------------------------------------------------------\u001b[0m",
      "\u001b[0;31mRuntimeError\u001b[0m                              Traceback (most recent call last)",
      "\u001b[0;32m<ipython-input-29-78caeb382972>\u001b[0m in \u001b[0;36m<module>\u001b[0;34m()\u001b[0m\n\u001b[1;32m      1\u001b[0m \u001b[0;31m# Try multifitting with a 3-parameter fit\u001b[0m\u001b[0;34m\u001b[0m\u001b[0;34m\u001b[0m\u001b[0m\n\u001b[1;32m      2\u001b[0m \u001b[0msimple_iv_fitter\u001b[0m \u001b[0;34m=\u001b[0m \u001b[0mfts\u001b[0m\u001b[0;34m.\u001b[0m\u001b[0mSimpleIVFitter\u001b[0m\u001b[0;34m(\u001b[0m\u001b[0;34m)\u001b[0m\u001b[0;34m\u001b[0m\u001b[0m\n\u001b[0;32m----> 3\u001b[0;31m \u001b[0miv_data\u001b[0m\u001b[0;34m.\u001b[0m\u001b[0mmulti_fit\u001b[0m\u001b[0;34m(\u001b[0m\u001b[0mplot_fl\u001b[0m\u001b[0;34m=\u001b[0m\u001b[0;32mTrue\u001b[0m\u001b[0;34m,\u001b[0m \u001b[0mfitter\u001b[0m\u001b[0;34m=\u001b[0m\u001b[0msimple_iv_fitter\u001b[0m\u001b[0;34m)\u001b[0m\u001b[0;34m\u001b[0m\u001b[0m\n\u001b[0m",
      "\u001b[0;32m~/Coding/Projects/flopter/flopter/classes/ivdata.py\u001b[0m in \u001b[0;36mmulti_fit\u001b[0;34m(self, sat_region, fitter, fix_vf_fl, plot_fl, print_fl)\u001b[0m\n\u001b[1;32m    162\u001b[0m         \u001b[0;32mif\u001b[0m \u001b[0mfix_vf_fl\u001b[0m\u001b[0;34m:\u001b[0m\u001b[0;34m\u001b[0m\u001b[0m\n\u001b[1;32m    163\u001b[0m             \u001b[0msiv_f\u001b[0m\u001b[0;34m.\u001b[0m\u001b[0mset_fixed_values\u001b[0m\u001b[0;34m(\u001b[0m\u001b[0;34m{\u001b[0m\u001b[0mc\u001b[0m\u001b[0;34m.\u001b[0m\u001b[0mFLOAT_POT\u001b[0m\u001b[0;34m:\u001b[0m \u001b[0mv_f\u001b[0m\u001b[0;34m}\u001b[0m\u001b[0;34m)\u001b[0m\u001b[0;34m\u001b[0m\u001b[0m\n\u001b[0;32m--> 164\u001b[0;31m         \u001b[0msiv_f_data\u001b[0m \u001b[0;34m=\u001b[0m \u001b[0msiv_f\u001b[0m\u001b[0;34m.\u001b[0m\u001b[0mfit_iv_data\u001b[0m\u001b[0;34m(\u001b[0m\u001b[0miv_data_ss\u001b[0m\u001b[0;34m,\u001b[0m \u001b[0msigma\u001b[0m\u001b[0;34m=\u001b[0m\u001b[0miv_data_ss\u001b[0m\u001b[0;34m[\u001b[0m\u001b[0mc\u001b[0m\u001b[0;34m.\u001b[0m\u001b[0mSIGMA\u001b[0m\u001b[0;34m]\u001b[0m\u001b[0;34m)\u001b[0m\u001b[0;34m\u001b[0m\u001b[0m\n\u001b[0m\u001b[1;32m    165\u001b[0m \u001b[0;34m\u001b[0m\u001b[0m\n\u001b[1;32m    166\u001b[0m         \u001b[0;31m# Use I_sat value to fit a fixed_value 4-parameter IV fit\u001b[0m\u001b[0;34m\u001b[0m\u001b[0;34m\u001b[0m\u001b[0m\n",
      "\u001b[0;32m~/Coding/Projects/flopter/flopter/core/fitters.py\u001b[0m in \u001b[0;36mfit_iv_data\u001b[0;34m(self, iv_data, initial_vals, bounds, sigma, print_fl)\u001b[0m\n\u001b[1;32m    161\u001b[0m         \u001b[0mpotential\u001b[0m \u001b[0;34m=\u001b[0m \u001b[0miv_data\u001b[0m\u001b[0;34m[\u001b[0m\u001b[0mc\u001b[0m\u001b[0;34m.\u001b[0m\u001b[0mPOTENTIAL\u001b[0m\u001b[0;34m]\u001b[0m\u001b[0;34m\u001b[0m\u001b[0m\n\u001b[1;32m    162\u001b[0m         \u001b[0mcurrent\u001b[0m \u001b[0;34m=\u001b[0m \u001b[0miv_data\u001b[0m\u001b[0;34m[\u001b[0m\u001b[0mc\u001b[0m\u001b[0;34m.\u001b[0m\u001b[0mCURRENT\u001b[0m\u001b[0;34m]\u001b[0m\u001b[0;34m\u001b[0m\u001b[0m\n\u001b[0;32m--> 163\u001b[0;31m         \u001b[0;32mreturn\u001b[0m \u001b[0mself\u001b[0m\u001b[0;34m.\u001b[0m\u001b[0mfit\u001b[0m\u001b[0;34m(\u001b[0m\u001b[0mpotential\u001b[0m\u001b[0;34m,\u001b[0m \u001b[0mcurrent\u001b[0m\u001b[0;34m,\u001b[0m \u001b[0minitial_vals\u001b[0m\u001b[0;34m,\u001b[0m \u001b[0mbounds\u001b[0m\u001b[0;34m,\u001b[0m \u001b[0msigma\u001b[0m\u001b[0;34m=\u001b[0m\u001b[0msigma\u001b[0m\u001b[0;34m,\u001b[0m \u001b[0mprint_fl\u001b[0m\u001b[0;34m=\u001b[0m\u001b[0mprint_fl\u001b[0m\u001b[0;34m)\u001b[0m\u001b[0;34m\u001b[0m\u001b[0m\n\u001b[0m\u001b[1;32m    164\u001b[0m \u001b[0;34m\u001b[0m\u001b[0m\n\u001b[1;32m    165\u001b[0m     \u001b[0;34m@\u001b[0m\u001b[0mclassmethod\u001b[0m\u001b[0;34m\u001b[0m\u001b[0m\n",
      "\u001b[0;32m~/Coding/Projects/flopter/flopter/core/fitters.py\u001b[0m in \u001b[0;36mfit\u001b[0;34m(self, x_data, y_data, initial_vals, bounds, print_fl, sigma)\u001b[0m\n\u001b[1;32m    154\u001b[0m \u001b[0;34m\u001b[0m\u001b[0m\n\u001b[1;32m    155\u001b[0m         \u001b[0;31m# Fit the data and return an IVFitData object.\u001b[0m\u001b[0;34m\u001b[0m\u001b[0;34m\u001b[0m\u001b[0m\n\u001b[0;32m--> 156\u001b[0;31m         \u001b[0mfit_data\u001b[0m \u001b[0;34m=\u001b[0m \u001b[0msuper\u001b[0m\u001b[0;34m(\u001b[0m\u001b[0;34m)\u001b[0m\u001b[0;34m.\u001b[0m\u001b[0mfit\u001b[0m\u001b[0;34m(\u001b[0m\u001b[0mx_data\u001b[0m\u001b[0;34m,\u001b[0m \u001b[0my_data\u001b[0m\u001b[0;34m,\u001b[0m \u001b[0minitial_vals\u001b[0m\u001b[0;34m=\u001b[0m\u001b[0minitial_vals\u001b[0m\u001b[0;34m,\u001b[0m \u001b[0mbounds\u001b[0m\u001b[0;34m=\u001b[0m\u001b[0mbounds\u001b[0m\u001b[0;34m,\u001b[0m \u001b[0msigma\u001b[0m\u001b[0;34m=\u001b[0m\u001b[0msigma\u001b[0m\u001b[0;34m)\u001b[0m\u001b[0;34m\u001b[0m\u001b[0m\n\u001b[0m\u001b[1;32m    157\u001b[0m         \u001b[0;32mreturn\u001b[0m \u001b[0mIVFitData\u001b[0m\u001b[0;34m.\u001b[0m\u001b[0mfrom_fit_data\u001b[0m\u001b[0;34m(\u001b[0m\u001b[0mfit_data\u001b[0m\u001b[0;34m)\u001b[0m\u001b[0;34m\u001b[0m\u001b[0m\n\u001b[1;32m    158\u001b[0m \u001b[0;34m\u001b[0m\u001b[0m\n",
      "\u001b[0;32m~/Coding/Projects/flopter/flopter/core/fitters.py\u001b[0m in \u001b[0;36mfit\u001b[0;34m(self, x_data, y_data, initial_vals, bounds, sigma)\u001b[0m\n\u001b[1;32m     76\u001b[0m             \u001b[0;32massert\u001b[0m \u001b[0mlen\u001b[0m\u001b[0;34m(\u001b[0m\u001b[0minitial_vals\u001b[0m\u001b[0;34m)\u001b[0m \u001b[0;34m==\u001b[0m \u001b[0mlen\u001b[0m\u001b[0;34m(\u001b[0m\u001b[0;34m[\u001b[0m\u001b[0mvalue\u001b[0m \u001b[0;32mfor\u001b[0m \u001b[0mvalue\u001b[0m \u001b[0;32min\u001b[0m \u001b[0mself\u001b[0m\u001b[0;34m.\u001b[0m\u001b[0mfixed_values\u001b[0m \u001b[0;32mif\u001b[0m \u001b[0mvalue\u001b[0m \u001b[0;32mis\u001b[0m \u001b[0;32mNone\u001b[0m\u001b[0;34m]\u001b[0m\u001b[0;34m)\u001b[0m\u001b[0;34m\u001b[0m\u001b[0m\n\u001b[1;32m     77\u001b[0m \u001b[0;34m\u001b[0m\u001b[0m\n\u001b[0;32m---> 78\u001b[0;31m         \u001b[0mfit_vals\u001b[0m\u001b[0;34m,\u001b[0m \u001b[0mfit_cov\u001b[0m \u001b[0;34m=\u001b[0m \u001b[0mcurve_fit\u001b[0m\u001b[0;34m(\u001b[0m\u001b[0mself\u001b[0m\u001b[0;34m.\u001b[0m\u001b[0m_curve_fit_func\u001b[0m\u001b[0;34m,\u001b[0m \u001b[0mx_data\u001b[0m\u001b[0;34m,\u001b[0m \u001b[0my_data\u001b[0m\u001b[0;34m,\u001b[0m \u001b[0mp0\u001b[0m\u001b[0;34m=\u001b[0m\u001b[0minitial_vals\u001b[0m\u001b[0;34m,\u001b[0m \u001b[0mbounds\u001b[0m\u001b[0;34m=\u001b[0m\u001b[0mbounds\u001b[0m\u001b[0;34m,\u001b[0m \u001b[0msigma\u001b[0m\u001b[0;34m=\u001b[0m\u001b[0msigma\u001b[0m\u001b[0;34m)\u001b[0m\u001b[0;34m\u001b[0m\u001b[0m\n\u001b[0m\u001b[1;32m     79\u001b[0m         \u001b[0mfit_sterrs\u001b[0m \u001b[0;34m=\u001b[0m \u001b[0mnp\u001b[0m\u001b[0;34m.\u001b[0m\u001b[0msqrt\u001b[0m\u001b[0;34m(\u001b[0m\u001b[0mnp\u001b[0m\u001b[0;34m.\u001b[0m\u001b[0mdiag\u001b[0m\u001b[0;34m(\u001b[0m\u001b[0mfit_cov\u001b[0m\u001b[0;34m)\u001b[0m\u001b[0;34m)\u001b[0m\u001b[0;34m\u001b[0m\u001b[0m\n\u001b[1;32m     80\u001b[0m \u001b[0;34m\u001b[0m\u001b[0m\n",
      "\u001b[0;32m~/Coding/Environments/python3.6/lib/python3.6/site-packages/scipy/optimize/minpack.py\u001b[0m in \u001b[0;36mcurve_fit\u001b[0;34m(f, xdata, ydata, p0, sigma, absolute_sigma, check_finite, bounds, method, jac, **kwargs)\u001b[0m\n\u001b[1;32m    763\u001b[0m \u001b[0;34m\u001b[0m\u001b[0m\n\u001b[1;32m    764\u001b[0m         \u001b[0;32mif\u001b[0m \u001b[0;32mnot\u001b[0m \u001b[0mres\u001b[0m\u001b[0;34m.\u001b[0m\u001b[0msuccess\u001b[0m\u001b[0;34m:\u001b[0m\u001b[0;34m\u001b[0m\u001b[0m\n\u001b[0;32m--> 765\u001b[0;31m             \u001b[0;32mraise\u001b[0m \u001b[0mRuntimeError\u001b[0m\u001b[0;34m(\u001b[0m\u001b[0;34m\"Optimal parameters not found: \"\u001b[0m \u001b[0;34m+\u001b[0m \u001b[0mres\u001b[0m\u001b[0;34m.\u001b[0m\u001b[0mmessage\u001b[0m\u001b[0;34m)\u001b[0m\u001b[0;34m\u001b[0m\u001b[0m\n\u001b[0m\u001b[1;32m    766\u001b[0m \u001b[0;34m\u001b[0m\u001b[0m\n\u001b[1;32m    767\u001b[0m         \u001b[0mcost\u001b[0m \u001b[0;34m=\u001b[0m \u001b[0;36m2\u001b[0m \u001b[0;34m*\u001b[0m \u001b[0mres\u001b[0m\u001b[0;34m.\u001b[0m\u001b[0mcost\u001b[0m  \u001b[0;31m# res.cost is half sum of squares!\u001b[0m\u001b[0;34m\u001b[0m\u001b[0m\n",
      "\u001b[0;31mRuntimeError\u001b[0m: Optimal parameters not found: The maximum number of function evaluations is exceeded."
     ]
    }
   ],
   "source": [
    "# Try multifitting with a 3-parameter fit\n",
    "simple_iv_fitter = fts.SimpleIVFitter()\n",
    "iv_data.multi_fit(plot_fl=True, fitter=simple_iv_fitter)"
   ]
  },
  {
   "cell_type": "code",
   "execution_count": 12,
   "metadata": {},
   "outputs": [
    {
     "name": "stderr",
     "output_type": "stream",
     "text": [
      "/home/jleland/Coding/Environments/python3.6/lib/python3.6/site-packages/ipykernel_launcher.py:1: RuntimeWarning: invalid value encountered in log\n",
      "  \"\"\"Entry point for launching an IPython kernel.\n"
     ]
    }
   ],
   "source": [
    "log_current = np.log(-iv_data['I'] + 0.8)\n",
    "\n",
    "fig, (ax1, ax2) = plt.subplots(2, 1, figsize=(10,6))\n",
    "ax1.errorbar(iv_data['V'], log_current, yerr=iv_data['sigma'], ecolor='silver', zorder=-2)\n",
    "log_ssroi_1 = np.where((iv_data['V'] > -18) & (iv_data['V'] < -11))\n",
    "log_ssroi_2 = np.where((iv_data['V'] > -40) & (iv_data['V'] < -22))\n",
    "ax1.plot(iv_data['V'][log_ssroi_1], log_current[log_ssroi_1], color='orange')\n",
    "ax1.plot(iv_data['V'][log_ssroi_2], log_current[log_ssroi_2], color='red')\n",
    "ax11 = ax1.twinx()\n",
    "ax11.plot(iv_data['V'], iv_data['I'], color='gray', zorder=-10)\n",
    "\n",
    "sl_fitter = fts.StraightLineFitter()\n",
    "fit_log_roi_1 = sl_fitter.fit(iv_data['V'][log_ssroi_1], log_current[log_ssroi_1])\n",
    "fit_log_roi_2 = sl_fitter.fit(iv_data['V'][log_ssroi_2], log_current[log_ssroi_2])\n",
    "\n",
    "\n",
    "ax2.plot(*fit_log_roi_1.get_raw_plottables(), color='silver')\n",
    "ax2.plot(*fit_log_roi_1.get_fit_plottables(), label=r'T$_e$ = {:.2g} eV'.format(1/(fit_log_roi_1.get_param('m'))))\n",
    "ax2.plot(*fit_log_roi_2.get_raw_plottables(), color='silver')\n",
    "ax2.plot(*fit_log_roi_2.get_fit_plottables(), label=r'T$_e$ = {:.2g} eV'.format(1/(fit_log_roi_2.get_param('m'))))\n",
    "ax2.legend()\n",
    "\n",
    "plt.tight_layout()\n",
    "plt.show()"
   ]
  },
  {
   "cell_type": "code",
   "execution_count": 50,
   "metadata": {},
   "outputs": [],
   "source": [
    "plt.figure()\n",
    "plt.plot(*fit_data.get_fit_plottables(), label=r'$T_e$ = {:.3g} eV'.format(fit_data.get_temp()), color='r', zorder=10)\n",
    "plt.errorbar(iv_data['V'], iv_data['I'], yerr=iv_data[c.SIGMA], ecolor='silver', label='Raw')\n",
    "plt.legend()\n",
    "plt.show()"
   ]
  },
  {
   "cell_type": "code",
   "execution_count": 49,
   "metadata": {},
   "outputs": [
    {
     "ename": "RuntimeError",
     "evalue": "Optimal parameters not found: The maximum number of function evaluations is exceeded.",
     "output_type": "error",
     "traceback": [
      "\u001b[0;31m---------------------------------------------------------------------------\u001b[0m",
      "\u001b[0;31mRuntimeError\u001b[0m                              Traceback (most recent call last)",
      "\u001b[0;32m<ipython-input-49-c87fd152cdb9>\u001b[0m in \u001b[0;36m<module>\u001b[0;34m()\u001b[0m\n\u001b[1;32m      3\u001b[0m \u001b[0mplt\u001b[0m\u001b[0;34m.\u001b[0m\u001b[0mfigure\u001b[0m\u001b[0;34m(\u001b[0m\u001b[0;34m)\u001b[0m\u001b[0;34m\u001b[0m\u001b[0m\n\u001b[1;32m      4\u001b[0m \u001b[0mplt\u001b[0m\u001b[0;34m.\u001b[0m\u001b[0mplot\u001b[0m\u001b[0;34m(\u001b[0m\u001b[0miv_data_trim\u001b[0m\u001b[0;34m[\u001b[0m\u001b[0;34m'V'\u001b[0m\u001b[0;34m]\u001b[0m\u001b[0;34m,\u001b[0m \u001b[0miv_data_trim\u001b[0m\u001b[0;34m[\u001b[0m\u001b[0;34m'I'\u001b[0m\u001b[0;34m]\u001b[0m\u001b[0;34m)\u001b[0m\u001b[0;34m\u001b[0m\u001b[0m\n\u001b[0;32m----> 5\u001b[0;31m \u001b[0mfit_data_trim\u001b[0m \u001b[0;34m=\u001b[0m \u001b[0miv_data_trim\u001b[0m\u001b[0;34m.\u001b[0m\u001b[0mmulti_fit\u001b[0m\u001b[0;34m(\u001b[0m\u001b[0;34m)\u001b[0m\u001b[0;34m\u001b[0m\u001b[0m\n\u001b[0m\u001b[1;32m      6\u001b[0m \u001b[0;34m\u001b[0m\u001b[0m\n\u001b[1;32m      7\u001b[0m \u001b[0mplt\u001b[0m\u001b[0;34m.\u001b[0m\u001b[0mfigure\u001b[0m\u001b[0;34m(\u001b[0m\u001b[0;34m)\u001b[0m\u001b[0;34m\u001b[0m\u001b[0m\n",
      "\u001b[0;32m~/Coding/Projects/flopter/flopter/classes/ivdata.py\u001b[0m in \u001b[0;36mmulti_fit\u001b[0;34m(self, sat_region, fitter, fix_vf_fl, plot_fl, print_fl)\u001b[0m\n\u001b[1;32m    163\u001b[0m         \u001b[0;32mif\u001b[0m \u001b[0mfix_vf_fl\u001b[0m\u001b[0;34m:\u001b[0m\u001b[0;34m\u001b[0m\u001b[0m\n\u001b[1;32m    164\u001b[0m             \u001b[0msiv_f\u001b[0m\u001b[0;34m.\u001b[0m\u001b[0mset_fixed_values\u001b[0m\u001b[0;34m(\u001b[0m\u001b[0;34m{\u001b[0m\u001b[0mc\u001b[0m\u001b[0;34m.\u001b[0m\u001b[0mFLOAT_POT\u001b[0m\u001b[0;34m:\u001b[0m \u001b[0mv_f\u001b[0m\u001b[0;34m}\u001b[0m\u001b[0;34m)\u001b[0m\u001b[0;34m\u001b[0m\u001b[0m\n\u001b[0;32m--> 165\u001b[0;31m         \u001b[0msiv_f_data\u001b[0m \u001b[0;34m=\u001b[0m \u001b[0msiv_f\u001b[0m\u001b[0;34m.\u001b[0m\u001b[0mfit_iv_data\u001b[0m\u001b[0;34m(\u001b[0m\u001b[0miv_data_ss\u001b[0m\u001b[0;34m,\u001b[0m \u001b[0msigma\u001b[0m\u001b[0;34m=\u001b[0m\u001b[0miv_data_ss\u001b[0m\u001b[0;34m[\u001b[0m\u001b[0mc\u001b[0m\u001b[0;34m.\u001b[0m\u001b[0mSIGMA\u001b[0m\u001b[0;34m]\u001b[0m\u001b[0;34m)\u001b[0m\u001b[0;34m\u001b[0m\u001b[0m\n\u001b[0m\u001b[1;32m    166\u001b[0m \u001b[0;34m\u001b[0m\u001b[0m\n\u001b[1;32m    167\u001b[0m         \u001b[0;31m# Use I_sat value to fit a fixed_value 4-parameter IV fit\u001b[0m\u001b[0;34m\u001b[0m\u001b[0;34m\u001b[0m\u001b[0m\n",
      "\u001b[0;32m~/Coding/Projects/flopter/flopter/core/fitters.py\u001b[0m in \u001b[0;36mfit_iv_data\u001b[0;34m(self, iv_data, initial_vals, bounds, sigma, print_fl)\u001b[0m\n\u001b[1;32m    161\u001b[0m         \u001b[0mpotential\u001b[0m \u001b[0;34m=\u001b[0m \u001b[0miv_data\u001b[0m\u001b[0;34m[\u001b[0m\u001b[0mc\u001b[0m\u001b[0;34m.\u001b[0m\u001b[0mPOTENTIAL\u001b[0m\u001b[0;34m]\u001b[0m\u001b[0;34m\u001b[0m\u001b[0m\n\u001b[1;32m    162\u001b[0m         \u001b[0mcurrent\u001b[0m \u001b[0;34m=\u001b[0m \u001b[0miv_data\u001b[0m\u001b[0;34m[\u001b[0m\u001b[0mc\u001b[0m\u001b[0;34m.\u001b[0m\u001b[0mCURRENT\u001b[0m\u001b[0;34m]\u001b[0m\u001b[0;34m\u001b[0m\u001b[0m\n\u001b[0;32m--> 163\u001b[0;31m         \u001b[0;32mreturn\u001b[0m \u001b[0mself\u001b[0m\u001b[0;34m.\u001b[0m\u001b[0mfit\u001b[0m\u001b[0;34m(\u001b[0m\u001b[0mpotential\u001b[0m\u001b[0;34m,\u001b[0m \u001b[0mcurrent\u001b[0m\u001b[0;34m,\u001b[0m \u001b[0minitial_vals\u001b[0m\u001b[0;34m,\u001b[0m \u001b[0mbounds\u001b[0m\u001b[0;34m,\u001b[0m \u001b[0msigma\u001b[0m\u001b[0;34m=\u001b[0m\u001b[0msigma\u001b[0m\u001b[0;34m,\u001b[0m \u001b[0mprint_fl\u001b[0m\u001b[0;34m=\u001b[0m\u001b[0mprint_fl\u001b[0m\u001b[0;34m)\u001b[0m\u001b[0;34m\u001b[0m\u001b[0m\n\u001b[0m\u001b[1;32m    164\u001b[0m \u001b[0;34m\u001b[0m\u001b[0m\n\u001b[1;32m    165\u001b[0m     \u001b[0;34m@\u001b[0m\u001b[0mclassmethod\u001b[0m\u001b[0;34m\u001b[0m\u001b[0m\n",
      "\u001b[0;32m~/Coding/Projects/flopter/flopter/core/fitters.py\u001b[0m in \u001b[0;36mfit\u001b[0;34m(self, x_data, y_data, initial_vals, bounds, print_fl, sigma)\u001b[0m\n\u001b[1;32m    154\u001b[0m \u001b[0;34m\u001b[0m\u001b[0m\n\u001b[1;32m    155\u001b[0m         \u001b[0;31m# Fit the data and return an IVFitData object.\u001b[0m\u001b[0;34m\u001b[0m\u001b[0;34m\u001b[0m\u001b[0m\n\u001b[0;32m--> 156\u001b[0;31m         \u001b[0mfit_data\u001b[0m \u001b[0;34m=\u001b[0m \u001b[0msuper\u001b[0m\u001b[0;34m(\u001b[0m\u001b[0;34m)\u001b[0m\u001b[0;34m.\u001b[0m\u001b[0mfit\u001b[0m\u001b[0;34m(\u001b[0m\u001b[0mx_data\u001b[0m\u001b[0;34m,\u001b[0m \u001b[0my_data\u001b[0m\u001b[0;34m,\u001b[0m \u001b[0minitial_vals\u001b[0m\u001b[0;34m=\u001b[0m\u001b[0minitial_vals\u001b[0m\u001b[0;34m,\u001b[0m \u001b[0mbounds\u001b[0m\u001b[0;34m=\u001b[0m\u001b[0mbounds\u001b[0m\u001b[0;34m,\u001b[0m \u001b[0msigma\u001b[0m\u001b[0;34m=\u001b[0m\u001b[0msigma\u001b[0m\u001b[0;34m)\u001b[0m\u001b[0;34m\u001b[0m\u001b[0m\n\u001b[0m\u001b[1;32m    157\u001b[0m         \u001b[0;32mreturn\u001b[0m \u001b[0mIVFitData\u001b[0m\u001b[0;34m.\u001b[0m\u001b[0mfrom_fit_data\u001b[0m\u001b[0;34m(\u001b[0m\u001b[0mfit_data\u001b[0m\u001b[0;34m)\u001b[0m\u001b[0;34m\u001b[0m\u001b[0m\n\u001b[1;32m    158\u001b[0m \u001b[0;34m\u001b[0m\u001b[0m\n",
      "\u001b[0;32m~/Coding/Projects/flopter/flopter/core/fitters.py\u001b[0m in \u001b[0;36mfit\u001b[0;34m(self, x_data, y_data, initial_vals, bounds, sigma)\u001b[0m\n\u001b[1;32m     76\u001b[0m             \u001b[0;32massert\u001b[0m \u001b[0mlen\u001b[0m\u001b[0;34m(\u001b[0m\u001b[0minitial_vals\u001b[0m\u001b[0;34m)\u001b[0m \u001b[0;34m==\u001b[0m \u001b[0mlen\u001b[0m\u001b[0;34m(\u001b[0m\u001b[0;34m[\u001b[0m\u001b[0mvalue\u001b[0m \u001b[0;32mfor\u001b[0m \u001b[0mvalue\u001b[0m \u001b[0;32min\u001b[0m \u001b[0mself\u001b[0m\u001b[0;34m.\u001b[0m\u001b[0mfixed_values\u001b[0m \u001b[0;32mif\u001b[0m \u001b[0mvalue\u001b[0m \u001b[0;32mis\u001b[0m \u001b[0;32mNone\u001b[0m\u001b[0;34m]\u001b[0m\u001b[0;34m)\u001b[0m\u001b[0;34m\u001b[0m\u001b[0m\n\u001b[1;32m     77\u001b[0m \u001b[0;34m\u001b[0m\u001b[0m\n\u001b[0;32m---> 78\u001b[0;31m         \u001b[0mfit_vals\u001b[0m\u001b[0;34m,\u001b[0m \u001b[0mfit_cov\u001b[0m \u001b[0;34m=\u001b[0m \u001b[0mcurve_fit\u001b[0m\u001b[0;34m(\u001b[0m\u001b[0mself\u001b[0m\u001b[0;34m.\u001b[0m\u001b[0m_curve_fit_func\u001b[0m\u001b[0;34m,\u001b[0m \u001b[0mx_data\u001b[0m\u001b[0;34m,\u001b[0m \u001b[0my_data\u001b[0m\u001b[0;34m,\u001b[0m \u001b[0mp0\u001b[0m\u001b[0;34m=\u001b[0m\u001b[0minitial_vals\u001b[0m\u001b[0;34m,\u001b[0m \u001b[0mbounds\u001b[0m\u001b[0;34m=\u001b[0m\u001b[0mbounds\u001b[0m\u001b[0;34m,\u001b[0m \u001b[0msigma\u001b[0m\u001b[0;34m=\u001b[0m\u001b[0msigma\u001b[0m\u001b[0;34m)\u001b[0m\u001b[0;34m\u001b[0m\u001b[0m\n\u001b[0m\u001b[1;32m     79\u001b[0m         \u001b[0mfit_sterrs\u001b[0m \u001b[0;34m=\u001b[0m \u001b[0mnp\u001b[0m\u001b[0;34m.\u001b[0m\u001b[0msqrt\u001b[0m\u001b[0;34m(\u001b[0m\u001b[0mnp\u001b[0m\u001b[0;34m.\u001b[0m\u001b[0mdiag\u001b[0m\u001b[0;34m(\u001b[0m\u001b[0mfit_cov\u001b[0m\u001b[0;34m)\u001b[0m\u001b[0;34m)\u001b[0m\u001b[0;34m\u001b[0m\u001b[0m\n\u001b[1;32m     80\u001b[0m \u001b[0;34m\u001b[0m\u001b[0m\n",
      "\u001b[0;32m~/Coding/Environments/python3.6/lib/python3.6/site-packages/scipy/optimize/minpack.py\u001b[0m in \u001b[0;36mcurve_fit\u001b[0;34m(f, xdata, ydata, p0, sigma, absolute_sigma, check_finite, bounds, method, jac, **kwargs)\u001b[0m\n\u001b[1;32m    763\u001b[0m \u001b[0;34m\u001b[0m\u001b[0m\n\u001b[1;32m    764\u001b[0m         \u001b[0;32mif\u001b[0m \u001b[0;32mnot\u001b[0m \u001b[0mres\u001b[0m\u001b[0;34m.\u001b[0m\u001b[0msuccess\u001b[0m\u001b[0;34m:\u001b[0m\u001b[0;34m\u001b[0m\u001b[0m\n\u001b[0;32m--> 765\u001b[0;31m             \u001b[0;32mraise\u001b[0m \u001b[0mRuntimeError\u001b[0m\u001b[0;34m(\u001b[0m\u001b[0;34m\"Optimal parameters not found: \"\u001b[0m \u001b[0;34m+\u001b[0m \u001b[0mres\u001b[0m\u001b[0;34m.\u001b[0m\u001b[0mmessage\u001b[0m\u001b[0;34m)\u001b[0m\u001b[0;34m\u001b[0m\u001b[0m\n\u001b[0m\u001b[1;32m    766\u001b[0m \u001b[0;34m\u001b[0m\u001b[0m\n\u001b[1;32m    767\u001b[0m         \u001b[0mcost\u001b[0m \u001b[0;34m=\u001b[0m \u001b[0;36m2\u001b[0m \u001b[0;34m*\u001b[0m \u001b[0mres\u001b[0m\u001b[0;34m.\u001b[0m\u001b[0mcost\u001b[0m  \u001b[0;31m# res.cost is half sum of squares!\u001b[0m\u001b[0;34m\u001b[0m\u001b[0m\n",
      "\u001b[0;31mRuntimeError\u001b[0m: Optimal parameters not found: The maximum number of function evaluations is exceeded."
     ]
    }
   ],
   "source": [
    "#Try a single trim\n",
    "iv_data_trim = ivd.IVData.non_contiguous_trim(iv_data, np.where(iv_data['I'] >= -0.4))\n",
    "plt.figure()\n",
    "plt.plot(iv_data_trim['V'], iv_data_trim['I'])\n",
    "fit_data_trim = iv_data_trim.multi_fit()\n",
    "\n",
    "plt.figure()\n",
    "plt.plot(*fit_data.get_fit_plottables(), label=r'$T_e$ = {:.3g} eV'.format(fit_data.get_temp()), color='r', zorder=10)\n",
    "plt.errorbar(iv_data['V'], iv_data['I'], yerr=iv_data[c.SIGMA], ecolor='silver', label='Raw')\n",
    "plt.plot(iv_data['V'], fit_data_trim.fit_function(iv_data['V']), color='orange', label=r'$T_e$ = {:.3g} eV'.format(fit_data_trim.get_temp()), zorder=10)\n",
    "plt.legend()\n",
    "plt.ylim(-0.2, 1.3)\n",
    "plt.show()"
   ]
  },
  {
   "cell_type": "markdown",
   "metadata": {},
   "source": [
    "# Averaged IV Figure"
   ]
  },
  {
   "cell_type": "code",
   "execution_count": 58,
   "metadata": {},
   "outputs": [],
   "source": [
    "# Create new averaged iv figure\n",
    "theta_perp = np.radians(9.95)\n",
    "\n",
    "probe_selected = probe_L\n",
    "\n",
    "A_coll_0 = probe_S.get_collection_area(theta_perp)\n",
    "d_A_coll = np.abs(probe_S.get_collection_area(theta_perp + np.radians(0.8)) - A_coll_0)\n",
    "\n",
    "v_f_fitted = fit_data.get_param('V_f')\n",
    "# T_e_fitted = fit_data[c.ELEC_TEMP]\n",
    "# a_fitted = fit_data[c.SHEATH_EXP]\n",
    "# I_sat_fitted = fit_data[c.ION_SAT]\n",
    "\n",
    "d_v_f_fitted = fit_data.get_param('V_f', errors_fl=True).error\n",
    "# d_T_e_fitted = iv_data[c.ERROR_STRING.format(c.ELEC_TEMP)].values[0]\n",
    "# d_a_fitted = iv_data[c.ERROR_STRING.format(c.SHEATH_EXP)].values[0]\n",
    "# d_I_sat_fitted = iv_data[c.ERROR_STRING.format(c.ION_SAT)].values[0]\n",
    "\n",
    "v_f_approx = - 3 * fit_data.get_temp()\n",
    "d_v_f_approx = 0.05 * v_f_approx\n",
    "\n",
    "v_f_approx_ts = - 3 * T_e_ts\n",
    "d_v_f_approx_ts = 0.05 * v_f_approx_ts\n",
    "\n",
    "c_s_fitted = lp.sound_speed(fit_data.get_temp(), gamma_i=1)\n",
    "d_c_s_fitted = lp.d_sound_speed(c_s_fitted, fit_data.get_temp(), fit_data.get_temp(errors_fl=True).error)\n",
    "n_e_fitted = lp.electron_density(fit_data.get_isat(), c_s_fitted, A_coll_0)\n",
    "d_n_e_fitted = lp.d_electron_density(n_e_fitted, c_s_fitted, d_c_s_fitted, A_coll_0, d_A_coll, fit_data.get_isat(),\n",
    "                                     fit_data.get_isat(errors_fl=True).error)"
   ]
  },
  {
   "cell_type": "code",
   "execution_count": 59,
   "metadata": {},
   "outputs": [
    {
     "name": "stdout",
     "output_type": "stream",
     "text": [
      "iv = averaged: \n",
      "\t v_f = -3.27 +- 0.001 \n",
      "\t T_e = 1 +- 0.003 \n",
      "\t I_sat = 0.676 +- 0.0003 \n",
      "\t n_e = 1.11e+20 +- 7e+18 \n",
      "\t a = 0.00763 +- 3e-05 \n",
      "\t c_s = 1.39e+04 +- 2e+01 \n",
      "\t A_coll = 2.75e-06 +- 2e-07 \n",
      "\n"
     ]
    }
   ],
   "source": [
    "print(f\"iv = averaged: \\n\"\n",
    "      f\"\\t v_f = {v_f_fitted:.3g} +- {d_v_f_fitted:.1g} \\n\"\n",
    "      f\"\\t T_e = {fit_data.get_temp():.3g} +- {fit_data.get_temp(errors_fl=True).error:.1g} \\n\"\n",
    "      f\"\\t I_sat = {fit_data.get_isat():.3g} +- {fit_data.get_isat(errors_fl=True).error:.1g} \\n\"\n",
    "      f\"\\t n_e = {n_e_fitted:.3g} +- {d_n_e_fitted:.1g} \\n\"\n",
    "      f\"\\t a = {fit_data.get_sheath_exp():.3g} +- {fit_data.get_sheath_exp(errors_fl=True).error:.1g} \\n\"\n",
    "      f\"\\t c_s = {c_s_fitted:.3g} +- {d_c_s_fitted:.1g} \\n\"\n",
    "      f\"\\t A_coll = {A_coll_0:.3g} +- {d_A_coll:.1g} \\n\")"
   ]
  },
  {
   "cell_type": "code",
   "execution_count": 61,
   "metadata": {},
   "outputs": [
    {
     "name": "stdout",
     "output_type": "stream",
     "text": [
      "a = 0.0014727166707731423, c_s = 13874.1470391269, lambda_d = 7.085019324735317e-07, I_0 = 0.675892287975617\n",
      "a = 0.0007760949548473818, c_s = 14648.066898304953, lambda_d = 3.733676586981677e-07, I_0 = 2.864232327532151\n"
     ]
    },
    {
     "data": {
      "text/plain": [
       "(-0.01, 3.2)"
      ]
     },
     "execution_count": 61,
     "metadata": {},
     "output_type": "execute_result"
    }
   ],
   "source": [
    "I_f = probe_S.get_analytical_iv(fit_data.raw_x, v_f_fitted, theta_perp, fit_data.get_temp(), n_e_fitted,\n",
    "                                print_fl=True)\n",
    "I_ts = probe_S.get_analytical_iv(fit_data.raw_x, v_f_approx_ts, theta_perp, T_e_ts, n_e_ts,\n",
    "                                 print_fl=True)\n",
    "\n",
    "plt.figure()\n",
    "plt.errorbar(fit_data.raw_x, fit_data.raw_y, yerr=fit_data.sigma,\n",
    "             label='Raw IV', ecolor='silver', color='gray', zorder=-1)\n",
    "# plt.plot(iv_data[c.RAW_X].tolist()[0], I_f, label='Analytical - measured', linestyle='dashed', linewidth=1, color='r')\n",
    "plt.plot(fit_data.raw_x, fit_data.fit_y, color='blue', linewidth=1.2,\n",
    "         label='Fit - ({:.2g}eV, {:.2g}m'.format(fit_data.get_temp(), n_e_fitted)+r'$^{-3}$)')\n",
    "plt.plot(fit_data.raw_x, I_ts, linestyle='dashed', color='red',\n",
    "         label='Analytical from TS - ({:.2g}eV, {:.2g}m'.format(T_e_ts, n_e_ts)+'$^{-3}$)')\n",
    "\n",
    "plt.legend()\n",
    "# plt.title('Comparison of analytical to measured IV curves for the small area probe')\n",
    "plt.xlabel(r'$V_p$ / V')\n",
    "plt.ylabel(r'$I$ / A')\n",
    "plt.ylim([-0.01, 3.2])"
   ]
  },
  {
   "cell_type": "markdown",
   "metadata": {},
   "source": [
    "# Playing with those pesky CSV files\n",
    "\n",
    "The changes I made to the magopter prepare method seem to have brought the temperature and density down by a factor of 4, which is odd. I have an older csv full of fitted values which I will investigate in this segment."
   ]
  },
  {
   "cell_type": "code",
   "execution_count": 105,
   "metadata": {},
   "outputs": [
    {
     "name": "stdout",
     "output_type": "stream",
     "text": [
      "Index(['Unnamed: 0', 'I_sat', 'T_e', 'V_f', 'a', 'chi2', 'd_I_sat', 'd_T_e',\n",
      "       'd_V_f', 'd_a', 'fit_y', 'raw_x', 'raw_y', 'reduced_chi2', 'sigma'],\n",
      "      dtype='object')\n",
      "<xarray.Dataset>\n",
      "Dimensions:       (time: 1016)\n",
      "Coordinates:\n",
      "  * time          (time) float64 1.008 1.038 1.043 1.048 ... 10.97 10.98 10.99\n",
      "Data variables:\n",
      "    I_sat         (time) float64 -1.129 -1.131 -1.132 ... 0.001015 0.00107\n",
      "    T_e           (time) float64 9.113 9.258 9.361 ... 0.008513 0.07098 0.7068\n",
      "    V_f           (time) float64 -4.629 -4.476 -4.392 ... -57.35 -62.21 -14.96\n",
      "    a             (time) float64 2.416e-17 2.681e-17 ... 0.001731 3.881e-19\n",
      "    chi2          (time) float64 7.649e+03 7.797e+03 7.244e+03 ... 342.2 847.3\n",
      "    d_I_sat       (time) float64 0.009329 0.009579 ... 9.001e-05 6.458e-05\n",
      "    d_T_e         (time) float64 0.1578 0.1601 0.1647 ... 1.585e+05 0.1216 1.102\n",
      "    d_V_f         (time) float64 0.05592 0.05463 0.05558 ... 2.533 0.04892 1.451\n",
      "    d_a           (time) float64 0.001922 0.001989 0.00206 ... 0.002516 0.002672\n",
      "    reduced_chi2  (time) float64 8.863 8.993 8.345 10.38 ... 1.037 1.097 1.13\n"
     ]
    }
   ],
   "source": [
    "fit_dfs = magopter.fit(load_fl=True)\n",
    "print(fit_dfs[1].columns)\n",
    "fit_dfs[1].index = fit_dfs[1].pop('Unnamed: 0')\n",
    "fit_dfs[1].index.name = 'time'\n",
    "\n",
    "fit_df_arrs = {}\n",
    "for arr_column in ['raw_x', 'raw_y', 'fit_y', 'sigma']:\n",
    "    fit_df_arrs[arr_column] = fit_dfs[1].pop(arr_column)\n",
    "    \n",
    "fit_xrds = fit_dfs[1].to_xarray()\n",
    "print(fit_xrds)"
   ]
  },
  {
   "cell_type": "code",
   "execution_count": 31,
   "metadata": {},
   "outputs": [
    {
     "name": "stdout",
     "output_type": "stream",
     "text": [
      "Index(['I_sat', 'T_e', 'V_f', 'a', 'chi2', 'd_I_sat', 'd_T_e', 'd_V_f', 'd_a',\n",
      "       'reduced_chi2'],\n",
      "      dtype='object')\n"
     ]
    }
   ],
   "source": [
    "fit_df = fit_dfs[1]\n",
    "print(fit_df.columns)"
   ]
  },
  {
   "cell_type": "code",
   "execution_count": 112,
   "metadata": {},
   "outputs": [],
   "source": [
    "fit_xrds = fit_xrds.isel(time=slice(0,650))"
   ]
  },
  {
   "cell_type": "code",
   "execution_count": 140,
   "metadata": {},
   "outputs": [
    {
     "data": {
      "text/plain": [
       "<matplotlib.legend.Legend at 0x7efdca213b00>"
      ]
     },
     "execution_count": 140,
     "metadata": {},
     "output_type": "execute_result"
    }
   ],
   "source": [
    "fig, (ax1, ax2) = plt.subplots(2)\n",
    "\n",
    "ax1.plot(fit_df.index, fit_df['T_e'], label='Temperature')\n",
    "ax1.plot(fit_df.index, -fit_df['I_sat'], label='Saturation Current')\n",
    "ax1.plot(fit_xrds['time'], fit_xrds['T_e'], label='Temperature Trimmed')\n",
    "ax1.errorbar(fit_xrds['time'], -fit_xrds['I_sat'], label='Saturation Current Trimmed')\n",
    "ax1.set_ylim([0, 12])\n",
    "ax1.legend()\n",
    "\n",
    "# ax2.plot(fit_dfs[0]['raw_x'][12], fit_dfs[0]['raw_y'][12])\n",
    "# ax2.plot(fit_dfs[0]['raw_x'][12], fit_dfs[0]['fit_y'][12])\n",
    "# plt.show()"
   ]
  },
  {
   "cell_type": "code",
   "execution_count": 116,
   "metadata": {},
   "outputs": [
    {
     "name": "stdout",
     "output_type": "stream",
     "text": [
      "<xarray.Dataset>\n",
      "Dimensions:       ()\n",
      "Data variables:\n",
      "    I_sat         float64 -1.137\n",
      "    T_e           float64 9.029\n",
      "    V_f           float64 -4.195\n",
      "    a             float64 3.843e-05\n",
      "    chi2          float64 7.937e+03\n",
      "    d_I_sat       float64 0.009095\n",
      "    d_T_e         float64 0.1528\n",
      "    d_V_f         float64 0.05436\n",
      "    d_a           float64 0.001849\n",
      "    reduced_chi2  float64 9.152\n",
      "-4.194917512169531\n"
     ]
    }
   ],
   "source": [
    "fit_ds_avg = fit_xrds.mean('time')\n",
    "print(fit_ds_avg)\n",
    "print(fit_ds_avg['V_f'].data)"
   ]
  },
  {
   "cell_type": "code",
   "execution_count": 117,
   "metadata": {},
   "outputs": [
    {
     "name": "stdout",
     "output_type": "stream",
     "text": [
      "2.04e+19\n",
      "iv = averaged: \n",
      "\t v_f = -4.19 +- 0.05 \n",
      "\t T_e = 9.03 +- 0.2 \n",
      "\t I_sat = -1.14 +- 0.009 \n",
      "\t n_e = 2.04e+19 +- 1e+18 \n",
      "\t a = 3.84e-05 +- 0.002 \n",
      "\t c_s = 4.16e+04 +- 4e+02 \n",
      "\t A_coll = 8.36e-06 +- 4e-07 \n",
      "\n"
     ]
    }
   ],
   "source": [
    "A_coll_L = probe_L.get_collection_area(theta_perp)\n",
    "d_A_coll_L = np.abs(probe_L.get_collection_area(theta_perp + np.radians(0.8)) - A_coll_L)\n",
    "\n",
    "\n",
    "c_s_oldfitted = lp.sound_speed(fit_ds_avg['T_e'].data, gamma_i=1)\n",
    "d_c_s_oldfitted = lp.d_sound_speed(c_s_oldfitted, fit_ds_avg['T_e'].data, fit_ds_avg['d_T_e'].data)\n",
    "n_e_oldfitted = lp.electron_density(-fit_ds_avg['I_sat'].data, c_s_oldfitted, A_coll_L)\n",
    "d_n_e_oldfitted = lp.d_electron_density(n_e_oldfitted, c_s_oldfitted, d_c_s_oldfitted, A_coll_L, d_A_coll_L, -fit_ds_avg['I_sat'].data,\n",
    "                                        fit_ds_avg['d_I_sat'].data)\n",
    "print(f\"{n_e_oldfitted:.3g}\")\n",
    "\n",
    "print(f\"iv = averaged: \\n\"\n",
    "      f'\\t v_f = {fit_ds_avg[\"V_f\"].data:.3g} +- {fit_ds_avg[\"d_V_f\"].data:.1g} \\n'\n",
    "      f\"\\t T_e = {(fit_ds_avg['T_e'].data):.3g} +- {fit_ds_avg['d_T_e'].data:.1g} \\n\"\n",
    "      f\"\\t I_sat = {fit_ds_avg['I_sat'].data:.3g} +- {fit_ds_avg['d_I_sat'].data:.1g} \\n\"\n",
    "      f\"\\t n_e = {n_e_oldfitted:.3g} +- {d_n_e_oldfitted:.1g} \\n\"\n",
    "      f\"\\t a = {fit_ds_avg['a'].data:.3g} +- {fit_ds_avg['d_a'].data:.1g} \\n\"\n",
    "      f\"\\t c_s = {c_s_oldfitted:.3g} +- {d_c_s_oldfitted:.1g} \\n\"\n",
    "      f\"\\t A_coll = {A_coll_L:.3g} +- {d_A_coll_L:.1g} \\n\")"
   ]
  },
  {
   "cell_type": "code",
   "execution_count": 104,
   "metadata": {},
   "outputs": [
    {
     "name": "stdout",
     "output_type": "stream",
     "text": [
      "a = 0.005946861913554874, c_s = 35491.37632371556, lambda_d = 2.8609461965925557e-06, I_0 = 0.6938887295173395\n"
     ]
    },
    {
     "data": {
      "text/plain": [
       "(-0.01, 3.2)"
      ]
     },
     "execution_count": 104,
     "metadata": {},
     "output_type": "execute_result"
    }
   ],
   "source": [
    "# I_f = probe_S.get_analytical_iv(fit_data.raw_x, v_f_fitted, theta_perp, fit_data.get_temp(), n_e_fitted,\n",
    "#                                 print_fl=True)\n",
    "I_oldf = probe_S.get_analytical_iv(fit_data.raw_x, fit_ds_avg['V_f'].data, theta_perp, fit_ds_avg['T_e'].data, n_e_oldfitted,\n",
    "                                print_fl=True)\n",
    "# I_ts = probe_S.get_analytical_iv(fit_data.raw_x, v_f_approx_ts, theta_perp, T_e_ts, n_e_ts,\n",
    "#                                  print_fl=True)\n",
    "\n",
    "plt.figure()\n",
    "plt.errorbar(fit_data.raw_x, fit_data.raw_y, yerr=fit_data.sigma,\n",
    "             label='Raw IV', ecolor='silver', color='gray', zorder=-1)\n",
    "# plt.plot(iv_data[c.RAW_X].tolist()[0], I_f, label='Analytical - measured', linestyle='dashed', linewidth=1, color='r')\n",
    "plt.plot(fit_data.raw_x, fit_data.fit_y, color='blue', linewidth=1.2,\n",
    "         label='Fit - ({:.2g}eV, {:.2g}m'.format(fit_data.get_temp(), n_e_fitted)+r'$^{-3}$)')\n",
    "plt.plot(fit_data.raw_x, I_ts, linestyle='dashed', color='red',\n",
    "         label='Analytical from TS - ({:.2g}eV, {:.2g}m'.format(T_e_ts, n_e_ts)+'$^{-3}$)')\n",
    "plt.plot(fit_data.raw_x, I_oldf, linestyle='dashed', color='orange',\n",
    "         label='Old Fit - ({:.2g}eV, {:.2g}m'.format(fit_ds_avg['T_e'].data, n_e_oldfitted)+'$^{-3}$)')\n",
    "\n",
    "plt.legend()\n",
    "# plt.title('Comparison of analytical to measured IV curves for the small area probe')\n",
    "plt.xlabel(r'$V_p$ / V')\n",
    "plt.ylabel(r'$I$ / A')\n",
    "plt.ylim([-0.01, 3.2])"
   ]
  },
  {
   "cell_type": "code",
   "execution_count": 126,
   "metadata": {},
   "outputs": [],
   "source": [
    "fit_df_arrs_concatted = pd.concat(list(fit_df_arrs.values()), axis=1)"
   ]
  },
  {
   "cell_type": "code",
   "execution_count": 145,
   "metadata": {},
   "outputs": [
    {
     "name": "stderr",
     "output_type": "stream",
     "text": [
      "ERROR:root:Internal Python error in the inspect module.\n",
      "Below is the traceback from this internal error.\n",
      "\n"
     ]
    },
    {
     "name": "stdout",
     "output_type": "stream",
     "text": [
      "Traceback (most recent call last):\n",
      "  File \"/home/jleland/Coding/Environments/python3.6/lib/python3.6/site-packages/IPython/core/interactiveshell.py\", line 2961, in run_code\n",
      "    exec(code_obj, self.user_global_ns, self.user_ns)\n",
      "  File \"<ipython-input-145-ce1ffd612af3>\", line 1, in <module>\n",
      "    os.chdir('~')\n",
      "FileNotFoundError: [Errno 2] No such file or directory: '~'\n",
      "\n",
      "During handling of the above exception, another exception occurred:\n",
      "\n",
      "Traceback (most recent call last):\n",
      "  File \"/home/jleland/Coding/Environments/python3.6/lib/python3.6/site-packages/IPython/core/interactiveshell.py\", line 1863, in showtraceback\n",
      "    stb = value._render_traceback_()\n",
      "AttributeError: 'FileNotFoundError' object has no attribute '_render_traceback_'\n",
      "\n",
      "During handling of the above exception, another exception occurred:\n",
      "\n",
      "Traceback (most recent call last):\n",
      "  File \"/home/jleland/Coding/Environments/python3.6/lib/python3.6/site-packages/IPython/core/ultratb.py\", line 1095, in get_records\n",
      "    return _fixed_getinnerframes(etb, number_of_lines_of_context, tb_offset)\n",
      "  File \"/home/jleland/Coding/Environments/python3.6/lib/python3.6/site-packages/IPython/core/ultratb.py\", line 311, in wrapped\n",
      "    return f(*args, **kwargs)\n",
      "  File \"/home/jleland/Coding/Environments/python3.6/lib/python3.6/site-packages/IPython/core/ultratb.py\", line 345, in _fixed_getinnerframes\n",
      "    records = fix_frame_records_filenames(inspect.getinnerframes(etb, context))\n",
      "  File \"/home/jleland/.pyenv/versions/3.6.5/lib/python3.6/inspect.py\", line 1483, in getinnerframes\n",
      "    frameinfo = (tb.tb_frame,) + getframeinfo(tb, context)\n",
      "  File \"/home/jleland/.pyenv/versions/3.6.5/lib/python3.6/inspect.py\", line 1441, in getframeinfo\n",
      "    filename = getsourcefile(frame) or getfile(frame)\n",
      "  File \"/home/jleland/.pyenv/versions/3.6.5/lib/python3.6/inspect.py\", line 696, in getsourcefile\n",
      "    if getattr(getmodule(object, filename), '__loader__', None) is not None:\n",
      "  File \"/home/jleland/.pyenv/versions/3.6.5/lib/python3.6/inspect.py\", line 725, in getmodule\n",
      "    file = getabsfile(object, _filename)\n",
      "  File \"/home/jleland/.pyenv/versions/3.6.5/lib/python3.6/inspect.py\", line 709, in getabsfile\n",
      "    return os.path.normcase(os.path.abspath(_filename))\n",
      "  File \"/home/jleland/Coding/Environments/python3.6/lib/python3.6/posixpath.py\", line 376, in abspath\n",
      "    cwd = os.getcwd()\n",
      "FileNotFoundError: [Errno 2] No such file or directory\n"
     ]
    },
    {
     "ename": "FileNotFoundError",
     "evalue": "[Errno 2] No such file or directory: '~'",
     "output_type": "error",
     "traceback": [
      "\u001b[0;31m---------------------------------------------------------------------------\u001b[0m"
     ]
    }
   ],
   "source": [
    "np.array(fit_df_arrs_concatted.iloc[350]['raw_x'])[0]"
   ]
  },
  {
   "cell_type": "code",
   "execution_count": null,
   "metadata": {},
   "outputs": [],
   "source": []
  },
  {
   "cell_type": "code",
   "execution_count": null,
   "metadata": {},
   "outputs": [],
   "source": []
  }
 ],
 "metadata": {
  "kernelspec": {
   "display_name": "magopter_kernel_3.6.5",
   "language": "python",
   "name": "magopter_kernel_3.6.5"
  },
  "language_info": {
   "codemirror_mode": {
    "name": "ipython",
    "version": 3
   },
   "file_extension": ".py",
   "mimetype": "text/x-python",
   "name": "python",
   "nbconvert_exporter": "python",
   "pygments_lexer": "ipython3",
   "version": "3.6.5"
  }
 },
 "nbformat": 4,
 "nbformat_minor": 2
}
