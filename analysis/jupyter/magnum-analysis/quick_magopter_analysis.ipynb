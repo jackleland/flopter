{
 "cells": [
  {
   "cell_type": "code",
   "execution_count": 1,
   "metadata": {},
   "outputs": [],
   "source": [
    "%matplotlib tk\n",
    "import sys\n",
    "sys.path.append('/home/jleland/Coding/Projects/flopter')\n",
    "from flopter.analysis.magnum_midrun_analysis import averaged_iv_analysis\n",
    "from tkinter.filedialog import askopenfilename"
   ]
  },
  {
   "cell_type": "code",
   "execution_count": 3,
   "metadata": {},
   "outputs": [
    {
     "name": "stdout",
     "output_type": "stream",
     "text": [
      "\"2019-06-07_Leland/\" \t\t \"2019-06-07 16h 10m 40s TT_06699790911698096530.adc\"\n",
      "Creating magopter object\n",
      "Running an offline magopter object, operating in offline mode.\n"
     ]
    },
    {
     "name": "stderr",
     "output_type": "stream",
     "text": [
      "/home/jleland/Coding/Environments/python3.6/lib/python3.6/site-packages/scipy/signal/_arraytools.py:45: FutureWarning: Using a non-tuple sequence for multidimensional indexing is deprecated; use `arr[tuple(seq)]` instead of `arr[seq]`. In the future this will be interpreted as an array index, `arr[np.array(seq)]`, which will result either in an error or a different result.\n",
      "  b = a[a_slice]\n"
     ]
    },
    {
     "name": "stdout",
     "output_type": "stream",
     "text": [
      "0: 1998, 1: 1998\n",
      "1998\n",
      "Sweep length is 125\n",
      "Before equalisation:  1998 999 999\n",
      "After equalisation:  999 999\n",
      "Before equalisation:  1998 999 999\n",
      "After equalisation:  999 999\n",
      "<xarray.Dataset>\n",
      "Dimensions:     (direction: 2, sweep: 550, time: 125)\n",
      "Coordinates:\n",
      "  * time        (time) float64 0.0 4e-05 8e-05 ... 0.00488 0.00492 0.00496\n",
      "  * direction   (direction) <U4 'up' 'down'\n",
      "    probe       <U1 'S'\n",
      "Dimensions without coordinates: sweep\n",
      "Data variables:\n",
      "    voltage     (direction, sweep, time) float64 -80.07 -78.4 ... 8.231 10.2\n",
      "    current     (direction, sweep, time) float64 -0.1939 -0.175 ... 0.237 0.2181\n",
      "    shot_time   (direction, sweep, time) float64 2.001 2.001 ... 7.496 7.496\n",
      "    start_time  (direction, sweep) float64 2.001 2.011 2.021 ... 7.486 7.496\n",
      "<xarray.Dataset>\n",
      "Dimensions:     (time: 103)\n",
      "Coordinates:\n",
      "  * time        (time) float64 0.0 4e-05 8e-05 0.00012 ... 0.004 0.00404 0.00408\n",
      "    probe       <U1 'S'\n",
      "Data variables:\n",
      "    voltage     (time) float64 -80.17 -79.59 -78.87 ... -8.773 -8.142 -7.602\n",
      "    current     (time) float64 -0.1529 -0.1514 -0.1502 ... -0.02777 -0.003584\n",
      "    shot_time   (time) float64 4.751 4.751 4.751 4.751 ... 4.751 4.751 4.751\n",
      "    start_time  (time) float64 4.749 4.749 4.749 4.749 ... 4.749 4.749 4.749\n",
      "    d_current   (time) float64 0.01058 0.0105 0.009783 ... 0.01258 0.01439\n",
      "iv = averaged: \n",
      "\t v_f = -7.57 +- 0.04 \n",
      "\t T_e = 1.2 +- 0.09 \n",
      "\t I_sat = 0.0727 +- 0.0007 \n",
      "\t n_e = 1.3e+19 +- 1e+18 \n",
      "\t a = 0.0462 +- 0.002 \n",
      "\t c_s = 1.52e+04 +- 6e+02 \n",
      "\t A_coll = 2.3e-06 +- 2e-07 \n",
      "\n",
      "a = 0.006270887521137086, c_s = 15189.525934968216, lambda_d = 2.2628277570074526e-06, I_0 = 0.07267472139491843\n",
      "a = 0.001254771821275986, c_s = 14842.949968990804, lambda_d = 4.527800086229653e-07, I_0 = 1.6937132887525592\n"
     ]
    }
   ],
   "source": [
    "averaged_iv_analysis(ts_temp=1.15, ts_dens=3.1e20, shunt_resistance=1.0, theta_perp=8.0, sweep_range=(100,650), downsamplnig_factor=40)"
   ]
  },
  {
   "cell_type": "code",
   "execution_count": null,
   "metadata": {},
   "outputs": [],
   "source": []
  }
 ],
 "metadata": {
  "kernelspec": {
   "display_name": "magopter_kernel_3.6.5",
   "language": "python",
   "name": "magopter_kernel_3.6.5"
  },
  "language_info": {
   "codemirror_mode": {
    "name": "ipython",
    "version": 3
   },
   "file_extension": ".py",
   "mimetype": "text/x-python",
   "name": "python",
   "nbconvert_exporter": "python",
   "pygments_lexer": "ipython3",
   "version": "3.6.5"
  }
 },
 "nbformat": 4,
 "nbformat_minor": 2
}
