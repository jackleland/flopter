{
 "cells": [
  {
   "cell_type": "code",
   "execution_count": 2,
   "metadata": {},
   "outputs": [],
   "source": [
    "import numpy as np\n",
    "import sys\n",
    "sys.path.append('/home/jleland/Coding/Projects/flopter')\n",
    "import magopter as mg\n",
    "import constants as c\n",
    "import lputils as lp\n",
    "import matplotlib.pyplot as plt"
   ]
  },
  {
   "cell_type": "code",
   "execution_count": 15,
   "metadata": {},
   "outputs": [],
   "source": [
    "I_sat = 1.1 \n",
    "T_e = 0.75\n",
    "alpha = np.radians(10)"
   ]
  },
  {
   "cell_type": "code",
   "execution_count": 16,
   "metadata": {},
   "outputs": [
    {
     "name": "stdout",
     "output_type": "stream",
     "text": [
      "d = 0, h_coll = 5.185402943019834e-05\n",
      "d = 0.00035610226652867246, h_coll = 0\n",
      "d = 0.00035610226652867246, h_coll = 0\n",
      "1.01818824726e+20\n"
     ]
    }
   ],
   "source": [
    "theta_p = np.radians(10)\n",
    "d_perp = 3e-4  # m\n",
    "\n",
    "# Flush probe measurements\n",
    "L_small = 3e-3  # m\n",
    "a_small = 2e-3  # m\n",
    "b_small = 3e-3  # m\n",
    "g_small = 2e-3  # m\n",
    "theta_f_small = np.radians(72)\n",
    "probe_s = lp.FlushMountedProbe(a_small, b_small, L_small, g_small, d_perp, theta_f_small, theta_p)\n",
    "\n",
    "L_large = 5e-3      # m\n",
    "a_large = 4.5e-3    # m\n",
    "b_large = 6e-3      # m\n",
    "g_large = 1e-3      # m\n",
    "theta_f_large = np.radians(73.3)\n",
    "probe_l = lp.FlushMountedProbe(a_large, b_large, L_large, g_large, d_perp, theta_f_large, theta_p)\n",
    "\n",
    "L_reg = 5e-3        # m\n",
    "a_reg = 2e-3        # m\n",
    "b_reg = 3.34e-3     # m\n",
    "g_reg = 1e-3        # m\n",
    "theta_f_reg = np.radians(75)\n",
    "probe_m = lp.FlushMountedProbe(a_reg, b_reg, L_reg, g_reg, d_perp, theta_f_reg, theta_p)\n",
    "\n",
    "T_e = 1.78      # eV\n",
    "n_e = 5.1e19    # m^-3\n",
    "fwhm = 14.3     # mm\n",
    "deg_freedom = 3\n",
    "gamma_i = (deg_freedom + 2) / 2\n",
    "\n",
    "A_coll_s = probe_s.get_collection_area(alpha)\n",
    "A_coll_l = probe_l.get_collection_area(alpha)\n",
    "A_coll_m = probe_m.get_collection_area(alpha)\n",
    "\n",
    "m_i = 1.6726219e-27 # kg\n",
    "e = 1.60217662e-19 # C\n",
    "k = 1.38064852e-23  # m^2 kg s^-2 K^-1\n",
    "epsilon_0 = 8.85418782e-12  # m^-3 kg^-1 s^4 A^2\n",
    "\n",
    "c_s = np.sqrt((e * (T_e + gamma_i * T_e)) / m_i)\n",
    "\n",
    "A = A_coll_s\n",
    "n_e = I_sat / (e * A * c_s)\n",
    "print(n_e)"
   ]
  },
  {
   "cell_type": "code",
   "execution_count": 7,
   "metadata": {},
   "outputs": [
    {
     "name": "stdout",
     "output_type": "stream",
     "text": [
      "4.21766616489e+19\n"
     ]
    }
   ],
   "source": []
  },
  {
   "cell_type": "code",
   "execution_count": null,
   "metadata": {},
   "outputs": [],
   "source": []
  }
 ],
 "metadata": {
  "kernelspec": {
   "display_name": "Python 3",
   "language": "python",
   "name": "python3"
  },
  "language_info": {
   "codemirror_mode": {
    "name": "ipython",
    "version": 3
   },
   "file_extension": ".py",
   "mimetype": "text/x-python",
   "name": "python",
   "nbconvert_exporter": "python",
   "pygments_lexer": "ipython3",
   "version": "3.6.5"
  }
 },
 "nbformat": 4,
 "nbformat_minor": 2
}
