{
 "cells": [
  {
   "cell_type": "code",
   "execution_count": 2,
   "metadata": {},
   "outputs": [
    {
     "ename": "ModuleNotFoundError",
     "evalue": "No module named 'flopter.core.magopter'",
     "output_type": "error",
     "traceback": [
      "\u001b[0;31m---------------------------------------------------------------------------\u001b[0m",
      "\u001b[0;31mModuleNotFoundError\u001b[0m                       Traceback (most recent call last)",
      "\u001b[0;32m<ipython-input-2-f5b4f0a6e73b>\u001b[0m in \u001b[0;36m<module>\u001b[0;34m()\u001b[0m\n\u001b[1;32m      8\u001b[0m \u001b[0;32mimport\u001b[0m \u001b[0mglob\u001b[0m\u001b[0;34m\u001b[0m\u001b[0m\n\u001b[1;32m      9\u001b[0m \u001b[0msys\u001b[0m\u001b[0;34m.\u001b[0m\u001b[0mpath\u001b[0m\u001b[0;34m.\u001b[0m\u001b[0mappend\u001b[0m\u001b[0;34m(\u001b[0m\u001b[0;34m'/home/jleland/Coding/Projects/flopter'\u001b[0m\u001b[0;34m)\u001b[0m\u001b[0;34m\u001b[0m\u001b[0m\n\u001b[0;32m---> 10\u001b[0;31m \u001b[0;32mimport\u001b[0m \u001b[0mflopter\u001b[0m\u001b[0;34m.\u001b[0m\u001b[0mcore\u001b[0m\u001b[0;34m.\u001b[0m\u001b[0mmagopter\u001b[0m \u001b[0;32mas\u001b[0m \u001b[0mmg\u001b[0m\u001b[0;34m\u001b[0m\u001b[0m\n\u001b[0m\u001b[1;32m     11\u001b[0m \u001b[0;32mimport\u001b[0m \u001b[0mflopter\u001b[0m\u001b[0;34m.\u001b[0m\u001b[0mcore\u001b[0m\u001b[0;34m.\u001b[0m\u001b[0mconstants\u001b[0m \u001b[0;32mas\u001b[0m \u001b[0mc\u001b[0m\u001b[0;34m\u001b[0m\u001b[0m\n\u001b[1;32m     12\u001b[0m \u001b[0;32mimport\u001b[0m \u001b[0mflopter\u001b[0m\u001b[0;34m.\u001b[0m\u001b[0mdatabases\u001b[0m\u001b[0;34m.\u001b[0m\u001b[0mmagnum\u001b[0m \u001b[0;32mas\u001b[0m \u001b[0mmdb\u001b[0m\u001b[0;34m\u001b[0m\u001b[0m\n",
      "\u001b[0;31mModuleNotFoundError\u001b[0m: No module named 'flopter.core.magopter'"
     ]
    }
   ],
   "source": [
    "%matplotlib tk\n",
    "import numpy as np\n",
    "import matplotlib.pyplot as plt\n",
    "import xarray as xr\n",
    "import pandas as pd\n",
    "import sys\n",
    "import os\n",
    "import glob\n",
    "sys.path.append('/home/jleland/Coding/Projects/flopter')\n",
    "import flopter.magnum.magopter as mg\n",
    "import flopter.core.constants as c\n",
    "import flopter.magnum.database as mdb\n",
    "import flopter.core.normalisation as nrm\n",
    "import flopter.utils.lputils as lp\n",
    "import flopter.classes.ivdata as ivd\n",
    "import flopter.core.filtering as filt\n",
    "import scipy.signal as sig\n",
    "import flopter.core.fitters as fts"
   ]
  },
  {
   "cell_type": "markdown",
   "metadata": {},
   "source": [
    "**FILE IO**"
   ]
  },
  {
   "cell_type": "code",
   "execution_count": 1,
   "metadata": {},
   "outputs": [
    {
     "ename": "NameError",
     "evalue": "name 'os' is not defined",
     "output_type": "error",
     "traceback": [
      "\u001b[0;31m---------------------------------------------------------------------------\u001b[0m",
      "\u001b[0;31mNameError\u001b[0m                                 Traceback (most recent call last)",
      "\u001b[0;32m<ipython-input-1-3303b0abe3ed>\u001b[0m in \u001b[0;36m<module>\u001b[0;34m()\u001b[0m\n\u001b[1;32m      4\u001b[0m \u001b[0mfile_folders\u001b[0m \u001b[0;34m=\u001b[0m \u001b[0;34m[\u001b[0m\u001b[0;34m]\u001b[0m\u001b[0;34m\u001b[0m\u001b[0m\n\u001b[1;32m      5\u001b[0m \u001b[0;32mfor\u001b[0m \u001b[0mfolder1\u001b[0m \u001b[0;32min\u001b[0m \u001b[0mfolders\u001b[0m\u001b[0;34m:\u001b[0m\u001b[0;34m\u001b[0m\u001b[0m\n\u001b[0;32m----> 6\u001b[0;31m     \u001b[0mos\u001b[0m\u001b[0;34m.\u001b[0m\u001b[0mchdir\u001b[0m\u001b[0;34m(\u001b[0m\u001b[0mmg\u001b[0m\u001b[0;34m.\u001b[0m\u001b[0mMagopter\u001b[0m\u001b[0;34m.\u001b[0m\u001b[0mget_data_path\u001b[0m\u001b[0;34m(\u001b[0m\u001b[0;34m)\u001b[0m \u001b[0;34m+\u001b[0m \u001b[0mfolder1\u001b[0m\u001b[0;34m)\u001b[0m\u001b[0;34m\u001b[0m\u001b[0m\n\u001b[0m\u001b[1;32m      7\u001b[0m     \u001b[0mfiles\u001b[0m\u001b[0;34m.\u001b[0m\u001b[0mextend\u001b[0m\u001b[0;34m(\u001b[0m\u001b[0mglob\u001b[0m\u001b[0;34m.\u001b[0m\u001b[0mglob\u001b[0m\u001b[0;34m(\u001b[0m\u001b[0;34m'*.adc'\u001b[0m\u001b[0;34m)\u001b[0m\u001b[0;34m)\u001b[0m\u001b[0;34m\u001b[0m\u001b[0m\n\u001b[1;32m      8\u001b[0m     \u001b[0mfile_folders\u001b[0m\u001b[0;34m.\u001b[0m\u001b[0mextend\u001b[0m\u001b[0;34m(\u001b[0m\u001b[0;34m[\u001b[0m\u001b[0mfolder1\u001b[0m\u001b[0;34m]\u001b[0m \u001b[0;34m*\u001b[0m \u001b[0mlen\u001b[0m\u001b[0;34m(\u001b[0m\u001b[0mglob\u001b[0m\u001b[0;34m.\u001b[0m\u001b[0mglob\u001b[0m\u001b[0;34m(\u001b[0m\u001b[0;34m'*.adc'\u001b[0m\u001b[0;34m)\u001b[0m\u001b[0;34m)\u001b[0m\u001b[0;34m)\u001b[0m\u001b[0;34m\u001b[0m\u001b[0m\n",
      "\u001b[0;31mNameError\u001b[0m: name 'os' is not defined"
     ]
    }
   ],
   "source": [
    "folders = ['2018-05-01_Leland/', '2018-05-02_Leland/', '2018-05-03_Leland/',\n",
    "           '2018-06-05_Leland/', '2018-06-06_Leland/', '2018-06-07_Leland/']\n",
    "files = []\n",
    "file_folders = []\n",
    "for folder1 in folders:\n",
    "    os.chdir(mg.Magopter.get_data_path() + folder1)\n",
    "    files.extend(glob.glob('*.adc'))\n",
    "    file_folders.extend([folder1] * len(glob.glob('*.adc')))\n",
    "files.sort()\n",
    "\n",
    "# file = files[286]\n",
    "adc_file = files[285]\n",
    "ts_file = files[284]\n",
    "folder = file_folders[-2]\n",
    "print('\"{}\" \\t\\t \"{}\" \\t\\t \"{}\"'.format(folder, adc_file, ts_file))\n",
    "\n",
    "mp = lp.MagnumProbes()\n",
    "probe = mp.probe_s"
   ]
  },
  {
   "cell_type": "code",
   "execution_count": 3,
   "metadata": {},
   "outputs": [
    {
     "name": "stdout",
     "output_type": "stream",
     "text": [
      "2018-06-07 14h 38m 33s TT_06564321037878221702.adc\n",
      "2018-06-07 14h 38m 33s TT_06564321037878221702.adc\n",
      "2018-06-07 14h 38m 33s TT_06564321037878221702.adc\n",
      "2018-06-07 14h 38m 33s TT_06564321037878221702.adc\n",
      "2018-06-07 14h 38m 33s TT_06564321037878221702.adc\n",
      "2018-06-07 14h 38m 33s TT_06564321037878221702.adc\n",
      "2018-06-07 14h 38m 33s TT_06564321037878221702.adc\n",
      "2018-06-07 14h 38m 33s TT_06564321037878221702.adc\n",
      "2018-06-07 14h 38m 33s TT_06564321037878221702.adc\n",
      "2018-06-07 14h 38m 33s TT_06564321037878221702.adc\n",
      "2018-06-07 14h 38m 33s TT_06564321037878221702.adc\n",
      "2018-06-07 14h 38m 33s TT_06564321037878221702.adc\n"
     ]
    }
   ],
   "source": [
    "for adc_f in files[285:297]:\n",
    "    print(adc_file)\n",
    "    \n",
    "files_of_interest = files[285:297]"
   ]
  },
  {
   "cell_type": "code",
   "execution_count": 4,
   "metadata": {},
   "outputs": [
    {
     "name": "stdout",
     "output_type": "stream",
     "text": [
      "Ice.ConnectionRefusedException:\n",
      "Connection refused\n",
      "Database could not be connected to, operating in offline mode.\n"
     ]
    },
    {
     "name": "stderr",
     "output_type": "stream",
     "text": [
      "/home/jleland/Coding/Environments/python3.6/lib/python3.6/site-packages/scipy/signal/_arraytools.py:45: FutureWarning: Using a non-tuple sequence for multidimensional indexing is deprecated; use `arr[tuple(seq)]` instead of `arr[seq]`. In the future this will be interpreted as an array index, `arr[np.array(seq)]`, which will result either in an error or a different result.\n",
      "  b = a[a_slice]\n"
     ]
    },
    {
     "name": "stdout",
     "output_type": "stream",
     "text": [
      "peaks_len = 798\n",
      "0: 798, 1: 798\n"
     ]
    }
   ],
   "source": [
    "dsr = 1\n",
    "\n",
    "# Create magopter object\n",
    "magopter = mg.Magopter(folder, adc_file, ts_filename=ts_file)\n",
    "magopter.prepare(down_sampling_rate=dsr, roi_b_plasma=True, plot_fl=False, crit_freq=None, crit_ampl=None)\n",
    "\n",
    "print('0: {}, 1: {}'.format(len(magopter.iv_arrs[0]), len(magopter.iv_arrs[1])))\n",
    "\n",
    "# Get values for TS measurements, depending on whether Magnum database is available.\n",
    "magnum_access_fl = magopter.ts_temp is not None\n",
    "if magnum_access_fl:\n",
    "    temps = [np.max(temp) / nrm.ELEM_CHARGE for temp in magopter.ts_temp[mdb.DATA]]\n",
    "    denss = [np.max(dens) for dens in magopter.ts_dens[mdb.DATA]]\n",
    "    T_e_ts = np.mean(temps)\n",
    "    d_T_e_ts = np.std(temps) / np.sqrt(len(temps))\n",
    "    n_e_ts = np.mean(denss)\n",
    "    d_n_e_ts = np.std(denss) / np.sqrt(len(denss))\n",
    "else:\n",
    "    T_e_ts = 1.61\n",
    "    d_T_e_ts = 0.01\n",
    "    n_e_ts = 1.4e20\n",
    "    d_n_e_ts = 0.1e20"
   ]
  },
  {
   "cell_type": "markdown",
   "metadata": {},
   "source": [
    "**Xarray dataset creation + plotting**"
   ]
  },
  {
   "cell_type": "code",
   "execution_count": 5,
   "metadata": {},
   "outputs": [
    {
     "name": "stdout",
     "output_type": "stream",
     "text": [
      "798\n",
      "(5000,)\n"
     ]
    }
   ],
   "source": [
    "# print length of the 0th probes (probe S) number of sweeps\n",
    "print(len(magopter.iv_arrs[0]))\n",
    "\n",
    "# Create relative t array by subtracting the first timestep value from the first time array \n",
    "first_time_arr = magopter.iv_arrs[0][0]['t']\n",
    "relative_t = np.zeros(len(first_time_arr))\n",
    "print(np.shape(relative_t))\n",
    "\n",
    "relative_t = first_time_arr - first_time_arr[0]"
   ]
  },
  {
   "cell_type": "code",
   "execution_count": 8,
   "metadata": {},
   "outputs": [
    {
     "name": "stdout",
     "output_type": "stream",
     "text": [
      "399 399\n",
      "<xarray.Dataset>\n",
      "Dimensions:     (direction: 2, sweep: 200, time: 2500)\n",
      "Coordinates:\n",
      "  * time        (time) float64 0.0 1e-05 2e-05 3e-05 ... 0.02497 0.02498 0.02499\n",
      "  * direction   (direction) <U4 'up' 'down'\n",
      "Dimensions without coordinates: sweep\n",
      "Data variables:\n",
      "    voltage     (direction, sweep, time) float64 -97.07 -97.26 ... 5.345 5.535\n",
      "    current     (direction, sweep, time) float64 1.06 1.077 ... -1.882 -1.899\n",
      "    shot_time   (direction, sweep, time) float64 6.022 6.022 6.022 ... 16.0 16.0\n",
      "    start_time  (direction, sweep) float64 6.022 6.072 6.122 ... 15.9 15.95 16.0\n"
     ]
    }
   ],
   "source": [
    "# create a list of datasets for each sweep\n",
    "ds_list = []\n",
    "for i, iv in enumerate(magopter.iv_arrs[0]):\n",
    "    if i % 2 == 0:\n",
    "        ds = xr.Dataset({'voltage': (['time'], iv['V'][:2500]),\n",
    "                         'current': (['time'], iv['I'][:2500]),\n",
    "                         'shot_time': (['time'], iv['t'][:2500]),\n",
    "                         'start_time': iv['t'][0]},\n",
    "                        coords={'time': relative_t[:2500], 'direction': 'up'})\n",
    "    else:\n",
    "        ds = xr.Dataset({'voltage': (['time'], np.flip(iv['V'][:2500])),\n",
    "                         'current': (['time'], np.flip(iv['I'][:2500])),\n",
    "                         'shot_time': (['time'], np.flip(iv['t'][:2500])),\n",
    "                         'start_time': iv['t'][0]},\n",
    "                        coords={'time': relative_t[:2500], 'direction': 'down'})\n",
    "    ds_list.append(ds)\n",
    "\n",
    "# # Separate into up and down sweeps then concat along sweep direction as an axis\n",
    "print(len(ds_list[::2]), len(ds_list[1::2]))\n",
    "ds_ups = xr.concat(ds_list[::2], 'sweep')\n",
    "ds_downs = xr.concat(ds_list[1::2], 'sweep')\n",
    "\n",
    "direction = xr.DataArray(np.array(['up', 'down']), dims=['direction'], name='direction')\n",
    "ds_full = xr.concat([ds_ups, ds_downs], dim=direction)\n",
    "\n",
    "if not magnum_access_fl:\n",
    "    ds_full.max(dim='time').mean('direction')['current'].plot.line(x='sweep')\n",
    "    ds_full.max(dim='time').mean('direction').isel(sweep=slice(100,300))['current'].plot.line(x='sweep')\n",
    "\n",
    "    # Choose only the IVs in the static section\n",
    "    ds_full = ds_full.isel(sweep=slice(100,300))\n",
    "\n",
    "# Average across each sweep direction\n",
    "sweep_avg_up = ds_full.sel(direction = 'up').mean('sweep')\n",
    "sweep_avg_dn = ds_full.sel(direction = 'down').mean('sweep')\n",
    "\n",
    "# Add in standard deviation of each bin as a new data variable \n",
    "sweep_avg_up = sweep_avg_up.assign({'d_current': ds_full.sel(direction = 'up').std('sweep')['current']})\n",
    "sweep_avg_dn = sweep_avg_dn.assign({'d_current': ds_full.sel(direction = 'down').std('sweep')['current']})\n",
    "\n",
    "print(ds_full)"
   ]
  },
  {
   "cell_type": "code",
   "execution_count": 7,
   "metadata": {},
   "outputs": [
    {
     "data": {
      "text/plain": [
       "[<matplotlib.lines.Line2D at 0x7f883775f898>]"
      ]
     },
     "execution_count": 7,
     "metadata": {},
     "output_type": "execute_result"
    }
   ],
   "source": [
    "ds_full.max(dim='time').mean('direction')['current'].plot.line(x='sweep')\n",
    "ds_full.max(dim='time').mean('direction').isel(sweep=slice(100,300))['current'].plot.line(x='sweep')\n",
    "\n",
    "# ds_full = ds_full.isel(sweep=slice(100,300))"
   ]
  },
  {
   "cell_type": "code",
   "execution_count": 141,
   "metadata": {},
   "outputs": [
    {
     "name": "stdout",
     "output_type": "stream",
     "text": [
      "<xarray.Dataset>\n",
      "Dimensions:     (direction: 2, sweep: 200, time: 2500)\n",
      "Coordinates:\n",
      "  * time        (time) float64 0.0 1e-05 2e-05 3e-05 ... 0.02497 0.02498 0.02499\n",
      "  * direction   (direction) <U4 'up' 'down'\n",
      "Dimensions without coordinates: sweep\n",
      "Data variables:\n",
      "    voltage     (direction, sweep, time) float64 -97.07 -97.26 ... 5.345 5.535\n",
      "    current     (direction, sweep, time) float64 1.06 1.077 ... -1.882 -1.899\n",
      "    shot_time   (direction, sweep, time) float64 6.022 6.022 6.022 ... 16.0 16.0\n",
      "    start_time  (direction, sweep) float64 6.022 6.072 6.122 ... 15.9 15.95 16.0\n",
      "\n",
      "<xarray.Dataset>\n",
      "Dimensions:     (time: 2500)\n",
      "Coordinates:\n",
      "  * time        (time) float64 0.0 1e-05 2e-05 3e-05 ... 0.02497 0.02498 0.02499\n",
      "Data variables:\n",
      "    voltage     (time) float64 0.02402 0.1869 0.2986 ... 0.2029 0.1558 0.001687\n",
      "    current     (time) float64 0.0006489 0.002725 ... -0.003417 -0.001254\n",
      "    shot_time   (time) float64 -0.04999 -0.04997 -0.04995 ... -3e-05 -1e-05\n",
      "    start_time  float64 -0.025\n"
     ]
    },
    {
     "data": {
      "text/plain": [
       "[<matplotlib.lines.Line2D at 0x7fd96daa2278>]"
      ]
     },
     "execution_count": 141,
     "metadata": {},
     "output_type": "execute_result"
    }
   ],
   "source": [
    "print(ds_full)\n",
    "capacitance_ds = (ds_full.sel(direction = 'up') - ds_full.sel(direction = 'down')).mean('sweep')\n",
    "# capacitance_ds = ds_full.diff('direction').mean('sweep').sel(direction = 'down')\n",
    "# capacitance_ds = capacitance_ds.assign({'d_current': ds_full.diff('direction').std('sweep')['current']})\n",
    "print(f'\\n{capacitance_ds}')\n",
    "\n",
    "plt.figure()\n",
    "plt.plot(capacitance_ds['time'], capacitance_ds['current'])"
   ]
  },
  {
   "cell_type": "code",
   "execution_count": 43,
   "metadata": {},
   "outputs": [],
   "source": [
    "plt.figure()\n",
    "plt.errorbar(sweep_avg_up['time'], sweep_avg_up['current'], yerr=sweep_avg_up['d_current'], \n",
    "             ecolor='silver')\n",
    "\n",
    "plt.figure()\n",
    "plt.errorbar(sweep_avg_dn['time'], sweep_avg_dn['current'], yerr=sweep_avg_dn['d_current'], \n",
    "             ecolor='silver')\n",
    "plt.show()"
   ]
  },
  {
   "cell_type": "markdown",
   "metadata": {},
   "source": [
    "**Capacitance investigation**"
   ]
  },
  {
   "cell_type": "code",
   "execution_count": 40,
   "metadata": {},
   "outputs": [],
   "source": [
    "# Make plot of up-sweep averaged current minus down-sweep averaged current \n",
    "plt.subplot(221)\n",
    "plt.plot(sweep_avg_up['time'], sweep_avg_up['current'])\n",
    "plt.plot(sweep_avg_dn['time'], sweep_avg_dn['current'])\n",
    "\n",
    "plt.subplot(223)\n",
    "plt.plot(sweep_avg_up['time'].data, sweep_avg_up['current'].data - sweep_avg_dn['current'].data, color='red')\n",
    "\n",
    "plt.subplot(222)\n",
    "plt.plot(sweep_avg_up['time'], sweep_avg_up['voltage'])\n",
    "plt.plot(sweep_avg_dn['time'], sweep_avg_dn['voltage'])\n",
    "\n",
    "plt.subplot(224)\n",
    "plt.plot(sweep_avg_up['time'].data, sweep_avg_up['voltage'].data - sweep_avg_dn['voltage'].data, color='red')\n",
    "plt.show()"
   ]
  },
  {
   "cell_type": "code",
   "execution_count": 41,
   "metadata": {},
   "outputs": [],
   "source": [
    "# Look at the difference between the up-sweep and down-sweep voltage \n",
    "capacitance = sweep_avg_up['voltage'].data - sweep_avg_dn['voltage'].data\n",
    "capacitance_shifted = sweep_avg_up['voltage'].data[0:-1] - sweep_avg_dn['voltage'].data[1:]\n",
    "\n",
    "fig, ax = plt.subplots()\n",
    "plt.plot(sweep_avg_up['time'], sweep_avg_up['voltage'].data)\n",
    "plt.plot(sweep_avg_dn['time'], np.flip(sweep_avg_dn['voltage'].data))\n",
    "\n",
    "# ax1 = ax.twinx()\n",
    "plt.figure()\n",
    "plt.plot(sweep_avg_up['voltage'], capacitance, color='red')\n",
    "plt.plot(sweep_avg_up['voltage'][0:-1], capacitance_shifted, color='blue')\n",
    "plt.show()"
   ]
  },
  {
   "cell_type": "code",
   "execution_count": 42,
   "metadata": {},
   "outputs": [],
   "source": [
    "# Run an fft on the current hysteresis\n",
    "cap_current = sweep_avg_up['current'].data - np.flip(sweep_avg_dn['current'].data)\n",
    "time_series = sweep_avg_up['time'].data\n",
    "\n",
    "spectrum = np.fft.fft(cap_current)\n",
    "freq = np.fft.fftfreq(len(cap_current), time_series[1] - time_series[0])\n",
    "amplitudes = np.abs(spectrum) / np.max(np.abs(spectrum))\n",
    "\n",
    "plt.subplot(211)\n",
    "plt.plot(time_series, cap_current)\n",
    "plt.ylabel(r'$I_{up} - I_{down}$ / A')\n",
    "plt.xlabel('Time through shot (t) / s')\n",
    "\n",
    "# np.abs(spectrum[:]) / np.max(np.abs(spectrum[:]))\n",
    "plt.subplot(212)\n",
    "plt.semilogy(freq[:], amplitudes, '+', label='FFT Spectrum')\n",
    "# plt.axhline(y=crit_ampl, linewidth=1.0, linestyle='dotted', color='red')\n",
    "plt.xlabel('Frequency / Hz')\n",
    "plt.ylabel('Amplitude')\n",
    "plt.grid(which='both', axis='both')\n",
    "plt.xlim(0, 50000)\n",
    "plt.ylim(np.min(amplitudes) * 0.8, 1.2)\n",
    "plt.legend()\n",
    "plt.show()"
   ]
  },
  {
   "cell_type": "markdown",
   "metadata": {},
   "source": [
    "__FITTING TIME__"
   ]
  },
  {
   "cell_type": "code",
   "execution_count": 25,
   "metadata": {},
   "outputs": [],
   "source": [
    "# concatenate the up and down sweeps together to cancel the (small) capacitance effect\n",
    "iv_data = ivd.IVData(np.concatenate([sweep_avg_up['voltage'].data, np.flip(sweep_avg_dn['voltage'].data)]), \n",
    "                     np.concatenate([sweep_avg_up['current'].data, np.flip(sweep_avg_dn['current'].data)]),\n",
    "                     relative_t, \n",
    "                     sigma=np.concatenate([sweep_avg_up['d_current'].data, np.flip(sweep_avg_dn['d_current'].data)]), \n",
    "                     estimate_error_fl=False)\n",
    "\n",
    "fit_data = iv_data.multi_fit(plot_fl=True)\n",
    "# fit_data_trim = iv_data_trim.multi_fit(plot_fl=True)"
   ]
  },
  {
   "cell_type": "code",
   "execution_count": 10,
   "metadata": {},
   "outputs": [
    {
     "data": {
      "text/plain": [
       "<flopter.classes.fitdata.IVFitData at 0x7f8837af1e80>"
      ]
     },
     "execution_count": 10,
     "metadata": {},
     "output_type": "execute_result"
    }
   ],
   "source": [
    "# Try multifitting with a 3-parameter fit\n",
    "simple_iv_fitter = fts.SimpleIVFitter()\n",
    "iv_data.multi_fit(plot_fl=True, fitter=simple_iv_fitter)"
   ]
  },
  {
   "cell_type": "code",
   "execution_count": 26,
   "metadata": {},
   "outputs": [],
   "source": [
    "plt.figure()\n",
    "plt.errorbar(iv_data['V'], iv_data['I'], yerr=iv_data['sigma'], \n",
    "             ecolor='silver')\n",
    "plt.show()"
   ]
  },
  {
   "cell_type": "code",
   "execution_count": 156,
   "metadata": {},
   "outputs": [],
   "source": [
    "plt.figure()\n",
    "plt.plot(*fit_data.get_fit_plottables(), label=r'$T_e$ = {:.3g} eV'.format(fit_data.get_temp()), color='r', zorder=10)\n",
    "plt.errorbar(iv_data['V'], iv_data['I'], yerr=iv_data[c.SIGMA], ecolor='silver', label='Raw')\n",
    "plt.legend()\n",
    "plt.show()"
   ]
  },
  {
   "cell_type": "code",
   "execution_count": 181,
   "metadata": {},
   "outputs": [],
   "source": [
    "#Try a single trim\n",
    "iv_data_trim = ivd.IVData.non_contiguous_trim(iv_data, np.where(iv_data['I'] >= 0.8))\n",
    "fit_data_trim = iv_data_trim.multi_fit()\n",
    "\n",
    "plt.figure()\n",
    "plt.plot(*fit_data.get_fit_plottables(), label=r'$T_e$ = {:.3g} eV'.format(fit_data.get_temp()), color='r', zorder=10)\n",
    "plt.errorbar(iv_data['V'], iv_data['I'], yerr=iv_data[c.SIGMA], ecolor='silver', label='Raw')\n",
    "plt.plot(iv_data['V'], fit_data_trim.fit_function(iv_data['V']), color='orange', label=r'$T_e$ = {:.3g} eV'.format(fit_data_trim.get_temp()), zorder=10)\n",
    "plt.legend()\n",
    "plt.ylim(-0.2, 1.3)\n",
    "plt.show()"
   ]
  },
  {
   "cell_type": "code",
   "execution_count": 20,
   "metadata": {},
   "outputs": [],
   "source": [
    "# Comparison of different trims\n",
    "fig, (ax0, ax1) = plt.subplots(2, 1, sharex=True)\n",
    "\n",
    "plt.sca(ax0)\n",
    "plt.errorbar(iv_data['V'], iv_data['I'], yerr=iv_data[c.SIGMA], color='silver', ecolor='silver', label='Raw')\n",
    "plt.plot(*fit_data.get_fit_plottables(), label=r'$T_e$ = {:.3g} eV'.format(fit_data.get_temp()), color='green', zorder=10)\n",
    "plt.axvline(x=np.max(fit_data.raw_x), linewidth=0.75, color='green', linestyle='--')\n",
    "\n",
    "colours = ['red', 'blue', 'orange']\n",
    "\n",
    "for i, trim_end in enumerate([0.4, 0.6, 0.8]):\n",
    "    iv_data_trim = ivd.IVData.non_contiguous_trim(iv_data, np.where(iv_data['I'] >= trim_end))\n",
    "    fit_data_trim = iv_data_trim.multi_fit()\n",
    "    plt.axvline(x=np.max(iv_data_trim['V']), linewidth=0.75, color=colours[i], linestyle='--')\n",
    "    plt.plot(iv_data_trim['V'], fit_data_trim.fit_function(iv_data_trim['V']), color=colours[i], label=r'$T_e$ = {:.3g} eV'.format(fit_data_trim.get_temp()), zorder=10)\n",
    "plt.legend()\n",
    "# plt.xlabel(r'$V_p$ / V')\n",
    "plt.ylabel(r'$I$ / A')\n",
    "plt.ylim(-0.5, 1.3)\n",
    "plt.xlim(-60, 0)\n",
    "\n",
    "plt.sca(ax1)\n",
    "plt.errorbar(iv_data['V'], iv_data['I'], yerr=iv_data[c.SIGMA], color='silver', ecolor='silver', label='Raw')\n",
    "plt.plot(*fit_data.get_fit_plottables(), label=r'$T_e$ = {:.3g} eV'.format(fit_data.get_temp()), color='green', zorder=10)\n",
    "plt.axvline(x=np.max(fit_data.raw_x), linewidth=0.75, color='green', linestyle='--')\n",
    "plt.axvline(x=np.max(iv_data_trim['V']), linewidth=0.75, color=colours[i], linestyle='--')\n",
    "plt.plot(iv_data['V'], fit_data_trim.fit_function(iv_data['V']), color=colours[i], label=r'$T_e$ = {:.3g} eV'.format(fit_data_trim.get_temp()), zorder=10)\n",
    "plt.xlabel(r'$V_p$ / V')\n",
    "plt.ylabel(r'$I$ / A')\n",
    "plt.ylim(-0.5, 1.3)\n",
    "plt.xlim(-60, 0)\n",
    "plt.legend()\n",
    "plt.show()"
   ]
  },
  {
   "cell_type": "code",
   "execution_count": 28,
   "metadata": {},
   "outputs": [
    {
     "data": {
      "text/plain": [
       "(-102, 5)"
      ]
     },
     "execution_count": 28,
     "metadata": {},
     "output_type": "execute_result"
    }
   ],
   "source": [
    "# Implement a version of Jamie Gunn's 4-parameter fit by subtracting the straight line of the ion saturation region from the whole IV curve. \n",
    "# This generates 4 fits: averaged IV, straight line overlay, corrected IV, 3-param fit to corrected IV\n",
    "\n",
    "# define a straight section and trim the iv data to it\n",
    "str_sec = np.where(iv_data['V'] <= -40)\n",
    "iv_data_ss = ivd.IVData.non_contiguous_trim(iv_data, str_sec)\n",
    "str_sec_end = np.argmax(iv_data['V'][str_sec]) # needed to define the area of the straight section on a graph with a vertical line\n",
    "\n",
    "# fit & plot a straight line to the 'straight section'\n",
    "sl_fitter = fts.StraightLineFitter()\n",
    "fit_data_ss = sl_fitter.fit(iv_data_ss['V'], iv_data_ss['I'], sigma=iv_data_ss['sigma'])\n",
    "\n",
    "# Extrapolate the straight line over a wider voltage range for illustrative purposes\n",
    "sl_range = np.linspace(-120, 100, 100)\n",
    "sl_function = fit_data_ss.fit_function(sl_range)\n",
    "\n",
    "# Subtract the gradient of the straight section from the whole IV curve.\n",
    "iv_data_corrected = iv_data.copy()\n",
    "iv_data_corrected['I'] = iv_data_corrected['I'] - (fit_data_ss.get_param('m') * iv_data_corrected['V'])\n",
    "\n",
    "fit_data_corrected = iv_data_corrected.multi_fit(fitter=simple_iv_fitter)\n",
    "\n",
    "plt.figure()\n",
    "plt.errorbar(iv_data['V'], iv_data['I'], yerr=iv_data['sigma'], label='Full IV', color='darkgrey', ecolor='lightgray')\n",
    "# plt.plot(sl_range, sl_function, label='SE Line', color='green', linewidth=0.5)\n",
    "# plt.plot(iv_data_ss['V'], iv_data_ss['I'], label='Straight Section')\n",
    "# plt.axvline(x=iv_data_ss['V'][0], label='Straight Section', color='green', linewidth=0.5)\n",
    "# plt.axvline(x=iv_data_ss['V'][str_sec_end], color='green', linewidth=0.5)\n",
    "# plt.errorbar(iv_data_corrected['V'], iv_data_corrected['I'], label='Corrected IV', yerr=iv_data_corrected[c.SIGMA], color='gray', ecolor='lightgray')\n",
    "# plt.plot(*fit_data_corrected.get_fit_plottables(), label='3 Param-Fit', zorder=10, color='r')\n",
    "plt.legend()\n",
    "plt.xlabel(r'$V_p$ / V')\n",
    "plt.ylabel(r'$I$ / A')\n",
    "plt.ylim(-0.5, 1.3)\n",
    "plt.xlim(-102, 5)\n",
    "\n",
    "plt.figure()\n",
    "plt.errorbar(iv_data['V'], iv_data['I'], yerr=iv_data['sigma'], label='Full IV', color='darkgrey', ecolor='lightgray')\n",
    "plt.plot(sl_range, sl_function, label='SE Line', color='blue', linewidth=0.5, zorder=10)\n",
    "# plt.plot(iv_data_ss['V'], iv_data_ss['I'], label='Straight Section')\n",
    "# plt.axvline(x=iv_data_ss['V'][0], label='Straight Section', color='green', linewidth=0.5)\n",
    "# plt.axvline(x=iv_data_ss['V'][str_sec_end], color='green', linewidth=0.5)\n",
    "# plt.errorbar(iv_data_corrected['V'], iv_data_corrected['I'], label='Corrected IV', yerr=iv_data_corrected[c.SIGMA], color='gray', ecolor='lightgray')\n",
    "# plt.plot(*fit_data_corrected.get_fit_plottables(), label='3 Param-Fit', zorder=10, color='r')\n",
    "plt.legend()\n",
    "plt.xlabel(r'$V_p$ / V')\n",
    "plt.ylabel(r'$I$ / A')\n",
    "plt.ylim(-0.5, 1.3)\n",
    "plt.xlim(-102, 5)\n",
    "\n",
    "plt.figure()\n",
    "# plt.plot(iv_data['V'], iv_data['I'], label='Full IV', color='darkgrey')\n",
    "plt.plot(sl_range, sl_function, label='SE Line', color='blue', linewidth=0.5, zorder=10)\n",
    "# plt.plot(iv_data_ss['V'], iv_data_ss['I'], label='Straight Section')\n",
    "# plt.axvline(x=iv_data_ss['V'][0], label='Straight Section', color='green', linewidth=0.5)\n",
    "# plt.axvline(x=iv_data_ss['V'][str_sec_end], color='green', linewidth=0.5)\n",
    "plt.errorbar(iv_data_corrected['V'], iv_data_corrected['I'], label='Corrected IV', yerr=iv_data_corrected[c.SIGMA], color='darkgrey', ecolor='lightgray')\n",
    "# plt.plot(*fit_data_corrected.get_fit_plottables(), label='3 Param-Fit', zorder=10, color='r')\n",
    "plt.legend()\n",
    "plt.xlabel(r'$V_p$ / V')\n",
    "plt.ylabel(r'$I$ / A')\n",
    "plt.ylim(-0.5, 1.3)\n",
    "plt.xlim(-102, 5)\n",
    "\n",
    "plt.figure()\n",
    "# plt.plot(iv_data['V'], iv_data['I'], label='Full IV', color='darkgrey')\n",
    "plt.plot(sl_range, sl_function, label='SE Line', color='blue', linewidth=0.5)\n",
    "# plt.plot(iv_data_ss['V'], iv_data_ss['I'], label='Straight Section')\n",
    "# plt.axvline(x=iv_data_ss['V'][0], label='Straight Section', color='green', linewidth=0.5)\n",
    "# plt.axvline(x=iv_data_ss['V'][str_sec_end], color='green', linewidth=0.5)\n",
    "plt.errorbar(iv_data_corrected['V'], iv_data_corrected['I'], label='Corrected IV', yerr=iv_data_corrected[c.SIGMA], color='darkgrey', ecolor='lightgray')\n",
    "plt.plot(*fit_data_corrected.get_fit_plottables(), label='3 Param-Fit', zorder=10, color='r')\n",
    "plt.legend()\n",
    "plt.xlabel(r'$V_p$ / V')\n",
    "plt.ylabel(r'$I$ / A')\n",
    "plt.ylim(-0.5, 1.3)\n",
    "plt.xlim(-102, 5)"
   ]
  },
  {
   "cell_type": "code",
   "execution_count": 12,
   "metadata": {},
   "outputs": [],
   "source": [
    "# Create new averaged iv figure\n",
    "\n",
    "A_coll_0 = probe.get_collection_area(np.radians(9.95))\n",
    "d_A_coll = np.abs(probe.get_collection_area(np.radians(9.95) + np.radians(0.8)) - A_coll_0)\n",
    "\n",
    "v_f_fitted = fit_data.get_param('V_f')\n",
    "# T_e_fitted = fit_data[c.ELEC_TEMP]\n",
    "# a_fitted = fit_data[c.SHEATH_EXP]\n",
    "# I_sat_fitted = fit_data[c.ION_SAT]\n",
    "\n",
    "d_v_f_fitted = fit_data.get_param('V_f', errors_fl=True).error\n",
    "# d_T_e_fitted = iv_data[c.ERROR_STRING.format(c.ELEC_TEMP)].values[0]\n",
    "# d_a_fitted = iv_data[c.ERROR_STRING.format(c.SHEATH_EXP)].values[0]\n",
    "# d_I_sat_fitted = iv_data[c.ERROR_STRING.format(c.ION_SAT)].values[0]\n",
    "\n",
    "v_f_approx = - 3 * fit_data.get_temp()\n",
    "d_v_f_approx = 0.05 * v_f_approx\n",
    "\n",
    "c_s_fitted = lp.sound_speed(fit_data.get_temp(), gamma_i=1)\n",
    "d_c_s_fitted = lp.d_sound_speed(c_s_fitted, fit_data.get_temp(), fit_data.get_temp(errors_fl=True).error)\n",
    "n_e_fitted = lp.electron_density(fit_data.get_isat(), c_s_fitted, A_coll_0)\n",
    "d_n_e_fitted = lp.d_electron_density(n_e_fitted, c_s_fitted, d_c_s_fitted, A_coll_0, d_A_coll, fit_data.get_isat(),\n",
    "                                     fit_data.get_isat(errors_fl=True).error)"
   ]
  },
  {
   "cell_type": "code",
   "execution_count": 23,
   "metadata": {},
   "outputs": [
    {
     "name": "stdout",
     "output_type": "stream",
     "text": [
      "iv = averaged: \n",
      "\t v_f = -13.5 +- 0.01 \n",
      "\t T_e = 6.08 +- 0.02 \n",
      "\t I_sat = 1.08 +- 0.001 \n",
      "\t n_e = 7.21e+19 +- 5e+18 \n",
      "\t a = 0.00656 +- 0.0003 \n",
      "\t c_s = 3.41e+04 +- 7e+01 \n",
      "\t A_coll = 2.75e-06 +- 2e-07 \n",
      "\n"
     ]
    }
   ],
   "source": [
    "print(f\"iv = averaged: \\n\"\n",
    "      f\"\\t v_f = {v_f_fitted:.3g} +- {d_v_f_fitted:.1g} \\n\"\n",
    "      f\"\\t T_e = {fit_data.get_temp():.3g} +- {fit_data.get_temp(errors_fl=True).error:.1g} \\n\"\n",
    "      f\"\\t I_sat = {fit_data.get_isat():.3g} +- {fit_data.get_isat(errors_fl=True).error:.1g} \\n\"\n",
    "      f\"\\t n_e = {n_e_fitted:.3g} +- {d_n_e_fitted:.1g} \\n\"\n",
    "      f\"\\t a = {fit_data.get_sheath_exp():.3g} +- {fit_data.get_sheath_exp(errors_fl=True).error:.1g} \\n\"\n",
    "      f\"\\t c_s = {c_s_fitted:.3g} +- {d_c_s_fitted:.1g} \\n\"\n",
    "      f\"\\t A_coll = {A_coll_0:.3g} +- {d_A_coll:.1g} \\n\")"
   ]
  },
  {
   "cell_type": "code",
   "execution_count": 55,
   "metadata": {},
   "outputs": [
    {
     "name": "stdout",
     "output_type": "stream",
     "text": [
      "a = 0.0044868996572897165, c_s = 34125.60926134689, lambda_d = 2.1585802219076544e-06, I_0 = 1.0835414889505426\n",
      "a = 0.00165323075130103, c_s = 17582.941645962666, lambda_d = 7.953445529387089e-07, I_0 = 1.0917034253527582\n"
     ]
    },
    {
     "data": {
      "text/plain": [
       "(-0.35, 1.55)"
      ]
     },
     "execution_count": 55,
     "metadata": {},
     "output_type": "execute_result"
    }
   ],
   "source": [
    "I_f = probe.get_analytical_iv(fit_data.raw_x, v_f_fitted, np.radians(9.95), fit_data.get_temp(), n_e_fitted,\n",
    "                                print_fl=True)\n",
    "I_ts = probe.get_analytical_iv(fit_data.raw_x, v_f_approx, np.radians(9.95), T_e_ts, n_e_ts,\n",
    "                                 print_fl=True)\n",
    "\n",
    "plt.figure()\n",
    "plt.errorbar(fit_data.raw_x, fit_data.raw_y, yerr=fit_data.sigma,\n",
    "             label='Raw IV', ecolor='silver', color='gray', zorder=-1)\n",
    "# plt.plot(iv_data[c.RAW_X].tolist()[0], I_f, label='Analytical - measured', linestyle='dashed', linewidth=1, color='r')\n",
    "plt.plot(fit_data.raw_x, fit_data.fit_y, color='blue', linewidth=1.2,\n",
    "         label='Fit - ({:.2g}eV, {:.2g}m'.format(fit_data.get_temp(), n_e_fitted)+r'$^{-3}$)')\n",
    "plt.plot(fit_data.raw_x, I_ts, linestyle='dashed', color='red',\n",
    "         label='Analytical from TS - ({:.2g}eV, {:.2g}m'.format(T_e_ts, n_e_ts)+'$^{-3}$)')\n",
    "\n",
    "plt.legend()\n",
    "# plt.title('Comparison of analytical to measured IV curves for the small area probe')\n",
    "plt.xlabel(r'$V_p$ / V')\n",
    "plt.ylabel(r'$I$ / A')\n",
    "plt.ylim([-0.35, 1.55])"
   ]
  },
  {
   "cell_type": "code",
   "execution_count": 29,
   "metadata": {},
   "outputs": [
    {
     "data": {
      "text/plain": [
       "(-102, 5)"
      ]
     },
     "execution_count": 29,
     "metadata": {},
     "output_type": "execute_result"
    }
   ],
   "source": [
    "# Two temp illustrative fit\n",
    "# Implement a two temp fitter with different saturation currents (basically two IVs stacked on top of each other)\n",
    "two_temp_fitter = fts.TwoTempImpurityIVFitter()\n",
    "two_temp_fitter.set_fixed_values({c.ELEC_TEMP: 1.6, 'T2': 6})\n",
    "\n",
    "# iv_trim = ivd.IVData.fractional_trim(iv_data_corrected, trim_beg=0.05, trim_end=0.85)\n",
    "float_trim_indices = -iv_data_corrected['I'] < 0\n",
    "iv_float_trim = ivd.IVData.non_contiguous_trim(iv_data_corrected, float_trim_indices)\n",
    "\n",
    "# Set initial fit guess parameters\n",
    "init_vals = [0.85, 1.5, -15, 0.2, 8, -15]\n",
    "approx_curve = two_temp_fitter.fit_function(iv_float_trim['V'], *init_vals)\n",
    "iv_0_vals = init_vals[:3]\n",
    "iv_1_vals = init_vals[3:]\n",
    "\n",
    "fit_float_trim = two_temp_fitter.fit_iv_data(iv_float_trim, initial_vals=init_vals)\n",
    "fit_0_vals = fit_float_trim.fit_params.get_values()[:3]\n",
    "fit_1_vals = fit_float_trim.fit_params.get_values()[3:]\n",
    "\n",
    "# Create initial plot\n",
    "fig, (ax0, ax1) = plt.subplots(2, 1, sharex=True)\n",
    "\n",
    "plt.sca(ax0)\n",
    "plt.axhline(y=0, color='gray', linewidth=0.5)\n",
    "# plt.axvline(x=0, color='gray', linewidth=0.5)\n",
    "plt.errorbar(iv_float_trim['V'], iv_float_trim['I'], yerr=iv_float_trim['sigma'], ecolor='silver', color='grey', label='Averaged')\n",
    "plt.errorbar(*fit_float_trim.get_fit_plottables(), label='Fitted', color='red')\n",
    "plt.plot(iv_data['V'], simple_iv_fitter.fit_function(iv_data['V'], *fit_0_vals), label='Fit-IV-0', linewidth=0.75, color='orange')\n",
    "plt.plot(iv_data['V'], simple_iv_fitter.fit_function(iv_data['V'], *fit_1_vals), label='Fit-IV-1', linewidth=0.75, color='orangered')\n",
    "plt.legend()\n",
    "# plt.xlabel(r'$V_p$ / V')\n",
    "plt.ylabel('I / A')\n",
    "plt.show()\n",
    "plt.ylim(-0.5, 1.3)\n",
    "plt.xlim(-102, 5)\n",
    "\n",
    "plt.sca(ax1)\n",
    "plt.errorbar(iv_float_trim['V'], iv_float_trim['I'], yerr=iv_float_trim['sigma'], ecolor='silver', color='grey', label='Averaged')\n",
    "plt.plot(iv_float_trim['V'], approx_curve, label='Approx fit', color='blue')\n",
    "plt.plot(iv_data['V'], simple_iv_fitter.fit_function(iv_data['V'], *iv_0_vals), label='IV-0', linewidth=0.75, color='darkblue')\n",
    "plt.plot(iv_data['V'], simple_iv_fitter.fit_function(iv_data['V'], *iv_1_vals), label='IV-1', linewidth=0.75, color='steelblue')\n",
    "plt.legend()\n",
    "plt.xlabel(r'$V_p$ / V')\n",
    "plt.ylabel('I / A')\n",
    "plt.show()\n",
    "plt.ylim(-0.5, 1.3)\n",
    "plt.xlim(-102, 5)"
   ]
  },
  {
   "cell_type": "code",
   "execution_count": 14,
   "metadata": {},
   "outputs": [
    {
     "ename": "AttributeError",
     "evalue": "module 'flopter.core.fitters' has no attribute 'two_temp_fitter'",
     "output_type": "error",
     "traceback": [
      "\u001b[0;31m---------------------------------------------------------------------------\u001b[0m",
      "\u001b[0;31mAttributeError\u001b[0m                            Traceback (most recent call last)",
      "\u001b[0;32m<ipython-input-14-d652b4c1f4df>\u001b[0m in \u001b[0;36m<module>\u001b[0;34m()\u001b[0m\n\u001b[1;32m      5\u001b[0m \u001b[0;31m# Set initial fit guess parameters\u001b[0m\u001b[0;34m\u001b[0m\u001b[0;34m\u001b[0m\u001b[0m\n\u001b[1;32m      6\u001b[0m \u001b[0minit_vals\u001b[0m \u001b[0;34m=\u001b[0m \u001b[0;34m[\u001b[0m\u001b[0;36m0.85\u001b[0m\u001b[0;34m,\u001b[0m \u001b[0;36m1.5\u001b[0m\u001b[0;34m,\u001b[0m \u001b[0;34m-\u001b[0m\u001b[0;36m15\u001b[0m\u001b[0;34m,\u001b[0m \u001b[0;36m0.2\u001b[0m\u001b[0;34m,\u001b[0m \u001b[0;36m8\u001b[0m\u001b[0;34m,\u001b[0m \u001b[0;34m-\u001b[0m\u001b[0;36m15\u001b[0m\u001b[0;34m]\u001b[0m\u001b[0;34m\u001b[0m\u001b[0m\n\u001b[0;32m----> 7\u001b[0;31m \u001b[0mapprox_curve\u001b[0m \u001b[0;34m=\u001b[0m \u001b[0mfts\u001b[0m\u001b[0;34m.\u001b[0m\u001b[0mtwo_temp_fitter\u001b[0m\u001b[0;34m.\u001b[0m\u001b[0mfit_function\u001b[0m\u001b[0;34m(\u001b[0m\u001b[0miv_float_trim\u001b[0m\u001b[0;34m[\u001b[0m\u001b[0;34m'V'\u001b[0m\u001b[0;34m]\u001b[0m\u001b[0;34m,\u001b[0m \u001b[0;34m*\u001b[0m\u001b[0minit_vals\u001b[0m\u001b[0;34m)\u001b[0m\u001b[0;34m\u001b[0m\u001b[0m\n\u001b[0m\u001b[1;32m      8\u001b[0m \u001b[0miv_0_vals\u001b[0m \u001b[0;34m=\u001b[0m \u001b[0minit_vals\u001b[0m\u001b[0;34m[\u001b[0m\u001b[0;34m:\u001b[0m\u001b[0;36m3\u001b[0m\u001b[0;34m]\u001b[0m\u001b[0;34m\u001b[0m\u001b[0m\n\u001b[1;32m      9\u001b[0m \u001b[0miv_1_vals\u001b[0m \u001b[0;34m=\u001b[0m \u001b[0minit_vals\u001b[0m\u001b[0;34m[\u001b[0m\u001b[0;36m3\u001b[0m\u001b[0;34m:\u001b[0m\u001b[0;34m]\u001b[0m\u001b[0;34m\u001b[0m\u001b[0m\n",
      "\u001b[0;31mAttributeError\u001b[0m: module 'flopter.core.fitters' has no attribute 'two_temp_fitter'"
     ]
    }
   ],
   "source": [
    "from matplotlib.widgets import Slider, Button, RadioButtons\n",
    "\n",
    "# Implement a two temp fitter with different saturation currents (basically two IVs stacked on top of each other)\n",
    "\n",
    "# Set initial fit guess parameters\n",
    "init_vals = [0.85, 1.5, -15, 0.2, 8, -15]\n",
    "approx_curve = fts.two_temp_fitter.fit_function(iv_float_trim['V'], *init_vals)\n",
    "iv_0_vals = init_vals[:3]\n",
    "iv_1_vals = init_vals[3:]\n",
    "\n",
    "# Create initial plot with space at the bottom for sliders\n",
    "fig, ax = plt.subplots()\n",
    "plt.subplots_adjust(bottom=0.3)\n",
    "\n",
    "plt.axhline(y=0, color='gray', linewidth=0.5)\n",
    "plt.errorbar(iv_float_trim['V'], iv_float_trim['I'], yerr=iv_float_trim['sigma'], ecolor='silver', color='grey', label='Averaged', zorder=-1)\n",
    "handle1, = plt.plot(iv_float_trim['V'], approx_curve, label='Approx fit', color='blue')\n",
    "handle2, = plt.plot(iv_data['V'], simple_iv_fitter.fit_function(iv_data['V'], *iv_0_vals), label='IV-0', linewidth=0.75, color='darkblue')\n",
    "handle3, = plt.plot(iv_data['V'], simple_iv_fitter.fit_function(iv_data['V'], *iv_1_vals), label='IV-1', linewidth=0.75, color='steelblue')\n",
    "plt.legend()\n",
    "plt.xlabel(r'$V_p$ / V')\n",
    "plt.ylabel('I / A')\n",
    "plt.show()\n",
    "plt.ylim(-0.5, 1.3)\n",
    "plt.xlim(-102, 5)\n",
    "\n",
    "# Create and populate sliders\n",
    "axcolor = 'lightgoldenrodyellow'\n",
    "axvf1 = plt.axes([0.2, 0.03, 0.55, 0.03], facecolor=axcolor)\n",
    "axt1 = plt.axes([0.2, 0.06, 0.55, 0.03], facecolor=axcolor)\n",
    "axisat1 = plt.axes([0.2, 0.09, 0.55, 0.03], facecolor=axcolor)\n",
    "\n",
    "axvf2 = plt.axes([0.2, 0.14, 0.55, 0.03], facecolor=axcolor)\n",
    "axt2 = plt.axes([0.2, 0.17, 0.55, 0.03], facecolor=axcolor)\n",
    "axisat2 = plt.axes([0.2, 0.20, 0.55, 0.03], facecolor=axcolor)\n",
    "\n",
    "svf1 = Slider(axvf1, r'$V_{f1}$', -30.0, 10.0, valinit=init_vals[2], valstep=0.25)\n",
    "svf2 = Slider(axvf2, r'$V_{f2}$', -30.0, 10.0, valinit=init_vals[5], valstep=0.25)\n",
    "st1 = Slider(axt1, r'$T_{e1}$', 0, 15, valinit=init_vals[1], valstep=0.1)\n",
    "st2 = Slider(axt2, r'$T_{e2}$', 0, 15, valinit=init_vals[4], valstep=0.1)\n",
    "si1 = Slider(axisat1, r'$I_{sat,1}$', 0, 1.1, valinit=init_vals[0], valstep=0.05)\n",
    "si2 = Slider(axisat2, r'$I_{sat,2}$', 0, 1.1, valinit=init_vals[3], valstep=0.05)\n",
    "\n",
    "def update(val):\n",
    "    v_f1 = svf1.val\n",
    "    v_f2 = svf2.val\n",
    "    t_1 = st1.val\n",
    "    t_2 = st2.val\n",
    "    isat_1 = si1.val\n",
    "    isat_2 = si2.val\n",
    "    \n",
    "    new_init_vals = [isat_1, t_1, v_f1, isat_2, t_2, v_f2]\n",
    "    iv1_vals = [isat_1, t_1, v_f1]\n",
    "    iv2_vals = [isat_2, t_2, v_f2]\n",
    "    handle1.set_ydata(two_temp_fitter.fit_function(iv_float_trim['V'], *new_init_vals))\n",
    "    handle2.set_ydata(simple_iv_fitter.fit_function(iv_data['V'], *iv1_vals))\n",
    "    handle3.set_ydata(simple_iv_fitter.fit_function(iv_data['V'], *iv2_vals))\n",
    "    fig.canvas.draw_idle()\n",
    "    \n",
    "svf1.on_changed(update)\n",
    "svf2.on_changed(update)\n",
    "st1.on_changed(update)\n",
    "st2.on_changed(update)\n",
    "si1.on_changed(update)\n",
    "si2.on_changed(update)\n",
    "\n",
    "fitax = plt.axes([0.8, 0.025, 0.1, 0.04])\n",
    "button = Button(fitax, 'Fit', color=axcolor, hovercolor='0.975')\n",
    "\n",
    "def plot_fit(event):\n",
    "    v_f1 = svf1.val\n",
    "    v_f2 = svf2.val\n",
    "    t_1 = st1.val\n",
    "    t_2 = st2.val\n",
    "    isat_1 = si1.val\n",
    "    isat_2 = si2.val\n",
    "    \n",
    "    new_init_vals = [isat_1, t_1, v_f1, isat_2, t_2, v_f2]\n",
    "    fit_data_tti = two_temp_fitter.fit_iv_data(iv_float_trim, initial_vals=new_init_vals)\n",
    "    handle1.set_ydata(fit_data_tti.fit_y)\n",
    "    \n",
    "    fit_vals = fit_data_tti.fit_params.get_values()\n",
    "    si1.set_val(fit_vals[0])\n",
    "    st1.set_val(fit_vals[1])\n",
    "    svf1.set_val(fit_vals[2])\n",
    "    si2.set_val(fit_vals[3])\n",
    "    st2.set_val(fit_vals[4])\n",
    "    svf2.set_val(fit_vals[5])\n",
    "    update(event)\n",
    "    \n",
    "button.on_clicked(plot_fit)\n",
    "\n",
    "plt.show()"
   ]
  },
  {
   "cell_type": "code",
   "execution_count": 37,
   "metadata": {},
   "outputs": [
    {
     "name": "stderr",
     "output_type": "stream",
     "text": [
      "/home/jleland/Coding/Environments/python3.6/lib/python3.6/site-packages/ipykernel_launcher.py:39: RuntimeWarning: invalid value encountered in log\n",
      "/home/jleland/Coding/Environments/python3.6/lib/python3.6/site-packages/ipykernel_launcher.py:40: RuntimeWarning: invalid value encountered in log\n"
     ]
    }
   ],
   "source": [
    "# Do some logging\n",
    "\n",
    "current_offset = fit_data.get_isat() + 0.1\n",
    "# current_offset = 0\n",
    "\n",
    "# Use iv_float_trim as it is the corrected IV from the Gunn fit but trimmed down to the floating potential.\n",
    "log_plot_roi_1 = np.where((iv_float_trim['V'] >= -45) & (iv_float_trim['V'] <= -30))\n",
    "log_plot_roi_2 = np.where((iv_float_trim['V'] >= -25) & (iv_float_trim['V'] <= -18))\n",
    "# print(len(log_plot_roi), log_plot_roi)\n",
    "\n",
    "fig, ((ax1, ax2, ax3, ax4), (ax5, ax6, ax7, ax8)) = plt.subplots(2, 4, figsize=(10,6))\n",
    "ax1.errorbar(iv_float_trim['V'], -iv_float_trim['I'] + current_offset, yerr=iv_float_trim['sigma'], ecolor='silver')\n",
    "ax1.plot(iv_float_trim['V'][log_plot_roi_1], -iv_float_trim['I'][log_plot_roi_1] + current_offset)\n",
    "ax1.plot(iv_float_trim['V'][log_plot_roi_2], -iv_float_trim['I'][log_plot_roi_2] + current_offset)\n",
    "\n",
    "ax2.plot(iv_float_trim['V'], np.log(-iv_float_trim['I'] + current_offset))\n",
    "ax2.plot(iv_float_trim['V'][log_plot_roi_1], np.log(-iv_float_trim['I'][log_plot_roi_1] + current_offset))\n",
    "ax2.plot(iv_float_trim['V'][log_plot_roi_2], np.log(-iv_float_trim['I'][log_plot_roi_2] + current_offset), color='yellow')\n",
    "\n",
    "ax3.plot(iv_float_trim['V'][log_plot_roi_1], np.log(-iv_float_trim['I'][log_plot_roi_1] + current_offset))\n",
    "\n",
    "ax4.plot(iv_float_trim['V'][log_plot_roi_2], np.log(-iv_float_trim['I'][log_plot_roi_2] + current_offset))\n",
    "\n",
    "# CONTESTANTS, START YOUR FITTING\n",
    "\n",
    "sl_fitter = fts.StraightLineFitter()\n",
    "\n",
    "# Fit first straight region and then subtract from the log\n",
    "fit_data_log_1 = sl_fitter.fit(iv_float_trim['V'][log_plot_roi_2], np.log(-iv_float_trim['I'][log_plot_roi_2] + current_offset))\n",
    "iv_log_corrected = iv_float_trim.copy()\n",
    "iv_log_corrected['I'] = iv_log_corrected['I'] - (fit_data_log_1.get_param('m') * iv_log_corrected['V'])\n",
    "iv_log_corrected['I'] = iv_log_corrected['I'] - fit_data_log_1.fit_function(iv_log_corrected['V'])\n",
    "\n",
    "ax5.plot(iv_float_trim['V'], np.log(-iv_float_trim['I'] + current_offset), color='lightgrey')\n",
    "ax5.plot(np.linspace(-105,40,100), fit_data_log_1.fit_function(np.linspace(-105,40,100)), \n",
    "         label=r'$T_e$ = {:.2g}'.format(1/fit_data_log_1.get_param('m') / 4), color='r', linewidth=0.5, zorder=10)\n",
    "ax5.plot(np.linspace(-105,40,100), sl_fitter.fit_function(np.linspace(-105,40,100), 1/1.45, 15), \n",
    "         label=r'$T_e$ = {:.2g}'.format(1.45), color='b', linewidth=0.5, zorder=10)\n",
    "ax5.plot(iv_log_corrected['V'], np.log(-iv_log_corrected['I'] + current_offset))\n",
    "ax5.plot(iv_log_corrected['V'][log_plot_roi_2], np.log(-iv_log_corrected['I'][log_plot_roi_2] + current_offset))\n",
    "ax5.set_xlim(-50, -10)\n",
    "ax5.set_ylim(-2.3, 0.85)\n",
    "ax5.legend()\n",
    "\n",
    "# log_plot_roi_2 = np.where((iv_log_corrected['V'] >= -25) & (iv_log_corrected['V'] <= -22) & (np.isfinite(np.log(-iv_log_corrected['I'] + current_offset))))\n",
    "\n",
    "# fit_data_log_2 = sl_fitter.fit(iv_log_corrected['V'][log_plot_roi_2], np.log(-iv_log_corrected['I'][log_plot_roi_2] + current_offset))\n",
    "\n",
    "# ax6.plot(iv_log_corrected['V'], np.log(-iv_log_corrected['I'] + current_offset))\n",
    "# ax6.plot(*fit_data_log_2.get_raw_plottables())\n",
    "# ax6.plot(*fit_data_log_2.get_fit_plottables())\n",
    "\n",
    "plt.tight_layout()\n",
    "# fig = plt.figure()\n",
    "# fit_data_log.plot(fig=fig, show_fl=False)\n",
    "# plt.plot(trim_sweep_avg_up['voltage'].data, sig.savgol_filter(np.log(-trim_sweep_avg_up['current'] + current_offset), 21, 4),\n",
    "#          label='Smoothed log')\n",
    "# plt.legend()\n"
   ]
  },
  {
   "cell_type": "markdown",
   "metadata": {},
   "source": [
    "## Attempt to use PlasmaPy to get the EEDF from the averaged IV characteristic"
   ]
  },
  {
   "cell_type": "code",
   "execution_count": 41,
   "metadata": {},
   "outputs": [],
   "source": [
    "from plasmapy.diagnostics.langmuir import *\n",
    "from plasmapy.atomic import Particle\n",
    "import astropy.units as u"
   ]
  },
  {
   "cell_type": "code",
   "execution_count": 123,
   "metadata": {},
   "outputs": [
    {
     "name": "stdout",
     "output_type": "stream",
     "text": [
      "float64 [1.0540719  1.05400223 1.05850644 ... 1.04552538 1.05108518 1.05339837]\n",
      "2.748745727715695e-06\n"
     ]
    }
   ],
   "source": [
    "print(iv_float_trim['V'].dtype, iv_float_trim['I'])\n",
    "\n",
    "iv_characteristic = Characteristic(iv_data['V'][::2] * u.V, -iv_data['I'][::2] * u.A)\n",
    "iv_characteristic.check_validity()\n",
    "print(A_coll_0)\n",
    "\n",
    "iv_characteristic.plot()"
   ]
  },
  {
   "cell_type": "code",
   "execution_count": 100,
   "metadata": {},
   "outputs": [
    {
     "name": "stdout",
     "output_type": "stream",
     "text": [
      "float64\n"
     ]
    }
   ],
   "source": [
    "# Load the bias and current values stored in the .p pickle file.\n",
    "bias, current = np.load('/home/jleland/Coding/Jupyter/Beckers2017.npy')\n",
    "print(bias.dtype)\n",
    "\n",
    "# Create the Characteristic object, taking into account the correct units\n",
    "characteristic = Characteristic(( 2* np.array(bias) - 10) * u.V,\n",
    "                                (80 * np.array(current)*1e3 - 1000) * u.mA)\n",
    "\n",
    "# Calculate the cylindrical probe surface area\n",
    "ex_probe_length = 1.145 * u.mm\n",
    "ex_probe_diameter = 1.57 * u.mm\n",
    "ex_probe_area = (probe_length * np.pi * probe_diameter +\n",
    "              np.pi * 0.25 * probe_diameter**2)\n",
    "\n",
    "# characteristic.plot()"
   ]
  },
  {
   "cell_type": "code",
   "execution_count": 130,
   "metadata": {},
   "outputs": [
    {
     "data": {
      "text/plain": [
       "[<matplotlib.lines.Line2D at 0x7f8823922ef0>]"
      ]
     },
     "execution_count": 130,
     "metadata": {},
     "output_type": "execute_result"
    }
   ],
   "source": [
    "characteristic.plot()\n",
    "trim_ch = characteristic[-10:]\n",
    "plt.plot(trim_ch.bias, trim_ch.current)"
   ]
  },
  {
   "cell_type": "code",
   "execution_count": 116,
   "metadata": {},
   "outputs": [],
   "source": [
    "def noisify(input_arr, noise_scale=0.01):\n",
    "    return (noise_scale * (np.random.rand(len(input_arr.value)) - 0.5)) + input_arr.value"
   ]
  },
  {
   "cell_type": "code",
   "execution_count": 150,
   "metadata": {},
   "outputs": [
    {
     "name": "stdout",
     "output_type": "stream",
     "text": [
      "6.095766795435047 V\n"
     ]
    }
   ],
   "source": [
    "print(trim_ch.bias[0] + iv_characteristic.bias[-1])\n",
    "new_bias = np.concatenate([iv_characteristic.bias, noisify(trim_ch.bias - trim_ch.bias[0] + iv_characteristic.bias[-1])])\n",
    "new_current = np.concatenate([iv_characteristic.current, noisify(trim_ch.current - trim_ch.current[0] + iv_characteristic.current[-1])])\n",
    "\n",
    "plt.figure()\n",
    "plt.plot(new_bias, new_current)\n",
    "\n",
    "iv_characteristic = Characteristic(new_bias.value * u.V, new_current.value * u.A)"
   ]
  },
  {
   "cell_type": "code",
   "execution_count": 147,
   "metadata": {},
   "outputs": [
    {
     "name": "stdout",
     "output_type": "stream",
     "text": [
      "5000\n"
     ]
    },
    {
     "name": "stderr",
     "output_type": "stream",
     "text": [
      "/home/jleland/Coding/Environments/python3.6/lib/python3.6/site-packages/scipy/signal/_arraytools.py:45: FutureWarning: Using a non-tuple sequence for multidimensional indexing is deprecated; use `arr[tuple(seq)]` instead of `arr[seq]`. In the future this will be interpreted as an array index, `arr[np.array(seq)]`, which will result either in an error or a different result.\n",
      "  b = a[a_slice]\n"
     ]
    }
   ],
   "source": [
    "from scipy.signal import savgol_filter\n",
    "\n",
    "print(len(iv_data['V']))\n",
    "\n",
    "sm_bias = savgol_filter(iv_data['V'][:2500:2], 61, 10)\n",
    "sm_current = savgol_filter(iv_data['I'][:2500:2], 61, 10)\n",
    "\n",
    "plt.figure()\n",
    "plt.plot(iv_data['V'], -iv_data['I'], label='Raw')\n",
    "plt.plot(sm_bias, -sm_current, label='Smoothed')\n",
    "plt.legend()\n",
    "\n",
    "iv_characteristic = Characteristic(sm_bias * u.V, -sm_current * u.A)"
   ]
  },
  {
   "cell_type": "code",
   "execution_count": 149,
   "metadata": {},
   "outputs": [
    {
     "name": "stdout",
     "output_type": "stream",
     "text": [
      "{'V_P': <Quantity 5.71195522 V>, 'V_F': <Quantity -12.89779388 V>, 'I_es': <Quantity 1.96073392 A>, 'I_is': <Quantity -1.16143525 A>, 'n_e': <Quantity 1.09618621e+20 1 / m3>, 'n_i': <Quantity 1.84331493e+21 1 / m3>, 'T_e': <Quantity 0.0589301 eV>, 'n_i_OML': <Quantity 4.86597269e+19 1 / m3>}\n"
     ]
    }
   ],
   "source": [
    "print(swept_probe_analysis(iv_characteristic, A_coll_0 * u.m**2, 1 * u.u, visualize=True, plot_EEDF=True))"
   ]
  },
  {
   "cell_type": "code",
   "execution_count": null,
   "metadata": {},
   "outputs": [],
   "source": []
  }
 ],
 "metadata": {
  "kernelspec": {
   "display_name": "magopter_kernel_3.6.5",
   "language": "python",
   "name": "magopter_kernel_3.6.5"
  },
  "language_info": {
   "codemirror_mode": {
    "name": "ipython",
    "version": 3
   },
   "file_extension": ".py",
   "mimetype": "text/x-python",
   "name": "python",
   "nbconvert_exporter": "python",
   "pygments_lexer": "ipython3",
   "version": "3.6.5"
  }
 },
 "nbformat": 4,
 "nbformat_minor": 2
}
