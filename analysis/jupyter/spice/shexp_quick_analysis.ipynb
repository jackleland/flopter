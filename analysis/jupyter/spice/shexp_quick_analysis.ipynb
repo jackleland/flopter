{
 "cells": [
  {
   "cell_type": "markdown",
   "metadata": {},
   "source": [
    "# Sheath Expansion - Fixed Shadow Simulations Results - Analysis Round 1 (Reprise)\n",
    "\n",
    "Checks of shexp_shad simluations checking that the shadow problem has been remedied"
   ]
  },
  {
   "cell_type": "code",
   "execution_count": 1,
   "metadata": {
    "pycharm": {
     "is_executing": false
    }
   },
   "outputs": [],
   "source": [
    "%matplotlib tk\n",
    "import numpy as np\n",
    "import matplotlib.pyplot as plt\n",
    "import matplotlib as mpl\n",
    "import xarray as xr\n",
    "import pandas as pd\n",
    "import scipy.io as sio\n",
    "import sys\n",
    "import os\n",
    "import glob\n",
    "import copy\n",
    "import pathlib as pth\n",
    "import importlib\n",
    "import math\n",
    "sys.path.append('/home/jleland/Coding/Projects/flopter')\n",
    "import flopter.spice.splopter as spl\n",
    "import flopter.spice.tdata as td\n",
    "import flopter.core.ivdata as iv\n",
    "import flopter.core.fitters as fts\n",
    "import flopter.core.fitdata as fd\n",
    "import flopter.core.lputils as lpu\n",
    "import flopter.core.constants as c\n",
    "import flopter.spice.inputparser as inp\n",
    "import flopter.spice.normalise as nrm\n",
    "import flopter.spice.xrfuncs as xrf"
   ]
  },
  {
   "cell_type": "code",
   "execution_count": 2,
   "metadata": {},
   "outputs": [
    {
     "data": {
      "text/plain": [
       "<module 'flopter.core.fitters' from '/home/jleland/coding/projects/flopter/flopter/core/fitters.py'>"
      ]
     },
     "execution_count": 2,
     "metadata": {},
     "output_type": "execute_result"
    }
   ],
   "source": [
    "importlib.reload(fts)"
   ]
  },
  {
   "cell_type": "markdown",
   "metadata": {},
   "source": [
    "## Paths and Matfile IO\n",
    "This section deals with file io and selecting the right .mat files. This needs to be run for the latter sections to work."
   ]
  },
  {
   "cell_type": "code",
   "execution_count": 3,
   "metadata": {
    "pycharm": {
     "is_executing": false
    }
   },
   "outputs": [],
   "source": [
    "spice_dir = pth.Path('/home/jleland/data/external_big/spice/')\n",
    "os.chdir(spice_dir)"
   ]
  },
  {
   "cell_type": "code",
   "execution_count": 4,
   "metadata": {
    "pycharm": {
     "is_executing": false
    }
   },
   "outputs": [
    {
     "name": "stdout",
     "output_type": "stream",
     "text": [
      "0.17453292519943295\n"
     ]
    }
   ],
   "source": [
    "lps = lpu.MagnumProbes()\n",
    "\n",
    "flush_probe = copy.deepcopy(lps.probe_l)\n",
    "flush_probe.theta_p = 0.0\n",
    "flush_probe.d_perp = 0.0\n",
    "\n",
    "angled_probe = copy.deepcopy(lps.probe_l)\n",
    "angled_probe.d_perp = 0.0\n",
    "print(angled_probe.theta_p)"
   ]
  },
  {
   "cell_type": "code",
   "execution_count": 5,
   "metadata": {},
   "outputs": [],
   "source": [
    "skippable_runs = set([\n",
    "    'marconi/spice2/sheath_exp_hg/flat_flush_gapfill/alpha_yz_-6.0', # accidental duplicate\n",
    "    'marconi/spice2/sheath_exp_hg/angled_recessed_as/alpha_yz_-2.0',\n",
    "    'marconi/spice2/sheath_exp_hg/angled_recessed_as/alpha_yz_-3.0',\n",
    "    'marconi/spice2/sheath_exp_hg_fflwp/angled_recessed_as/alpha_yz_-2.0',\n",
    "    'marconi/spice2/sheath_exp_hg_fflwp/angled_recessed_as/alpha_yz_-3.0',\n",
    "    'marconi/spice2/sheath_exp_hg_fflwp/angled_recessed_as/alpha_yz_-4.0',\n",
    "    'marconi/spice2/sheath_exp_hg_fflwp/angled_recessed_as/alpha_yz_-5.0',\n",
    "    'marconi/spice2/sheath_exp_hg_fflwp/angled_recessed_as/alpha_yz_-6.0',\n",
    "    'marconi/spice2/sheath_exp_hg_fflwp/flat_flush_as/alpha_yz_-2.0',\n",
    "    'marconi/spice2/sheath_exp_fflwp/angled_recessed_as/alpha_yz_-2.0',\n",
    "    'marconi/spice2/sheath_exp_fwp/flat_flush_wp-2_as_1_/alpha_yz_-2.0',\n",
    "    'marconi/spice2/bergmann_bm/flat_flush_lowas/alpha_yz_-1.5',\n",
    "]) \n",
    "\n",
    "single_sims = set()\n",
    "skippable_scans = {\n",
    "    'marconi/spice2/sheath_exp/angled',\n",
    "    'marconi/spice2/sheath_exp_fwp/flat_10',\n",
    "    'marconi/spice2/sheath_exp_fwp/flat_10_highV',\n",
    "    'marconi/spice2/sheath_exp_fwp/flat_8-12_highV',\n",
    "} \n",
    "single_sims = set()"
   ]
  },
  {
   "cell_type": "code",
   "execution_count": 6,
   "metadata": {},
   "outputs": [],
   "source": [
    "non_standard_variables = {'t', 'WallPot', 'ProbePot', 'npartproc', 'Nz', 'Nzmax', 'Ny', 'count', 'Npc', 'snumber', 'nproc', 'rho', 'rho01', 'rho02'}\n",
    "desired_variables = (td.DEFAULT_REDUCED_DATASET | non_standard_variables) #- {td.OBJECTSCURRENTFLUXE, td.OBJECTSCURRENTFLUXI}"
   ]
  },
  {
   "cell_type": "code",
   "execution_count": 7,
   "metadata": {},
   "outputs": [],
   "source": [
    "all_angles = {'-2.0', '-3.0', '-4.0', '-5.0', '-6.0', '-7.0', '-8.0', '-9.0',\n",
    "              '10.0', '11.0', '12.0', '14.0', '15.0', '16.0', '18.0', '20.0',\n",
    "              '25.0', '30.0'}\n",
    "# allowed_angles = ['-2.0', '-3.0', '-5.0', '-8.0', '10.0', '30.0']\n",
    "allowed_angles = all_angles\n",
    "disallowed_angles = all_angles - allowed_angles"
   ]
  },
  {
   "cell_type": "code",
   "execution_count": 32,
   "metadata": {
    "pycharm": {
     "is_executing": false
    }
   },
   "outputs": [
    {
     "name": "stdout",
     "output_type": "stream",
     "text": [
      "[0]: marconi/spice2/shexp_shad_fflwp/angled_recessed_as\n",
      "\t[0,0]: angled_recessed_as/alpha_yz_-11.0\n",
      "\t[0,1]: angled_recessed_as/alpha_yz_-12.0\n",
      "\t[0,2]: angled_recessed_as/alpha_yz_-14.0\n",
      "\t[0,3]: angled_recessed_as/alpha_yz_-16.0\n",
      "\t[0,4]: angled_recessed_as/alpha_yz_-18.0\n",
      "\t[0,5]: angled_recessed_as/alpha_yz_-2.0\n",
      "\t[0,6]: angled_recessed_as/alpha_yz_-20.0\n",
      "\t[0,7]: angled_recessed_as/alpha_yz_-25.0\n",
      "\t[0,8]: angled_recessed_as/alpha_yz_-3.0\n",
      "\t[0,9]: angled_recessed_as/alpha_yz_-30.0\n",
      "\t[0,10]: angled_recessed_as/alpha_yz_-5.0\n",
      "\t[0,11]: angled_recessed_as/alpha_yz_-7.0\n",
      "\t[0,12]: angled_recessed_as/alpha_yz_-8.0\n",
      "\t[0,13]: angled_recessed_as/alpha_yz_-9.0\n",
      "[1]: marconi/spice2/shexp_shad_fflwp/flat_flush_as\n",
      "\t[1,0]: flat_flush_as/alpha_yz_-11.0\n",
      "\t[1,1]: flat_flush_as/alpha_yz_-12.0\n",
      "\t[1,2]: flat_flush_as/alpha_yz_-14.0\n",
      "\t[1,3]: flat_flush_as/alpha_yz_-16.0\n",
      "\t[1,4]: flat_flush_as/alpha_yz_-18.0\n",
      "\t[1,5]: flat_flush_as/alpha_yz_-2.0\n",
      "\t[1,6]: flat_flush_as/alpha_yz_-20.0\n",
      "\t[1,7]: flat_flush_as/alpha_yz_-25.0\n",
      "\t[1,8]: flat_flush_as/alpha_yz_-3.0\n",
      "\t[1,9]: flat_flush_as/alpha_yz_-30.0\n",
      "\t[1,10]: flat_flush_as/alpha_yz_-5.0\n",
      "\t[1,11]: flat_flush_as/alpha_yz_-7.0\n",
      "\t[1,12]: flat_flush_as/alpha_yz_-8.0\n",
      "\t[1,13]: flat_flush_as/alpha_yz_-9.0\n"
     ]
    }
   ],
   "source": [
    "\n",
    "scans_searchstr = [\n",
    "#     '*/*/piecewise/*',\n",
    "#     '*/*/shexp_shad_test/*',\n",
    "#     '*/*/shexp_shad_min/*',\n",
    "    '*/*/shexp_shad_fflwp/*',\n",
    "#     '*/*/shexp_shad_fwp0/*',\n",
    "]\n",
    "disallowed_angles = []\n",
    "\n",
    "scans, all_run_dirs = xrf.get_run_dirs(scans_searchstr, skippable_runs=skippable_runs, #angles_search_str='/ta_*', \n",
    "                                       disallowed_angles=disallowed_angles)\n"
   ]
  },
  {
   "cell_type": "markdown",
   "metadata": {},
   "source": [
    "---\n",
    "## Function For Per-run Analysis"
   ]
  },
  {
   "cell_type": "code",
   "execution_count": 33,
   "metadata": {},
   "outputs": [
    {
     "name": "stdout",
     "output_type": "stream",
     "text": [
      "/home/jleland/data/external_big/spice/marconi/spice2/shexp_shad_fflwp/angled_recessed_as/alpha_yz_-30.0\n",
      "backup_20210321-0936\n"
     ]
    }
   ],
   "source": [
    "spl_path = spice_dir / all_run_dirs[scans[0]][9]\n",
    "print(spl_path)\n",
    "spl_backup = list(spl_path.glob('backup_20*'))[-1]\n",
    "print(spl_backup.name)"
   ]
  },
  {
   "cell_type": "code",
   "execution_count": 34,
   "metadata": {},
   "outputs": [
    {
     "name": "stdout",
     "output_type": "stream",
     "text": [
      "Spice data directory is not valid, attempting to auto-fix.\n",
      "Passed Spice directory (/home/jleland/data/external_big/spice/marconi/spice2/shexp_shad_fflwp/angled_recessed_as/alpha_yz_-30.0/backup_20210321-0936) doesn't seem to be valid.\n",
      "Continuing anyway.\n"
     ]
    },
    {
     "name": "stderr",
     "output_type": "stream",
     "text": [
      "/home/jleland/coding/environments/python3.6/lib/python3.6/site-packages/scipy/io/matlab/mio.py:218: MatReadWarning: Duplicate variable name \"Esct\" in stream - replacing previous with new\n",
      "Consider mio5.varmats_from_mat to split file into single variable files\n",
      "  matfile_dict = MR.get_variables(variable_names)\n",
      "/home/jleland/coding/environments/python3.6/lib/python3.6/site-packages/scipy/io/matlab/mio.py:218: MatReadWarning: Duplicate variable name \"dPHIqn\" in stream - replacing previous with new\n",
      "Consider mio5.varmats_from_mat to split file into single variable files\n",
      "  matfile_dict = MR.get_variables(variable_names)\n",
      "/home/jleland/coding/environments/python3.6/lib/python3.6/site-packages/scipy/io/matlab/mio.py:218: MatReadWarning: Duplicate variable name \"pchi\" in stream - replacing previous with new\n",
      "Consider mio5.varmats_from_mat to split file into single variable files\n",
      "  matfile_dict = MR.get_variables(variable_names)\n",
      "/home/jleland/coding/environments/python3.6/lib/python3.6/site-packages/scipy/io/matlab/mio.py:218: MatReadWarning: Duplicate variable name \"timehistory\" in stream - replacing previous with new\n",
      "Consider mio5.varmats_from_mat to split file into single variable files\n",
      "  matfile_dict = MR.get_variables(variable_names)\n",
      "/home/jleland/coding/environments/python3.6/lib/python3.6/site-packages/scipy/io/matlab/mio.py:218: MatReadWarning: Duplicate variable name \"npartproc\" in stream - replacing previous with new\n",
      "Consider mio5.varmats_from_mat to split file into single variable files\n",
      "  matfile_dict = MR.get_variables(variable_names)\n"
     ]
    },
    {
     "name": "stdout",
     "output_type": "stream",
     "text": [
      "No a-file given, continuing without\n",
      "[[0.00048507]]\n",
      "dx = 1.0, dy = 1.0, dz = 1.0\n"
     ]
    }
   ],
   "source": [
    "splopter =  spl.Splopter(spl_backup, reduce=None, ignore_tzero_fl=True, version=2.14,\n",
    "                         store_dataframe_fl=True, check_voltage_error_fl=False, ignore_a_file=True)\n",
    "print(splopter.tdata.dt)\n",
    "\n",
    "parser = inp.InputParser(input_filename=spl_backup / 'input.inp')\n",
    "denormaliser = nrm.Denormaliser(dt=splopter.tdata.dt, input_parser=parser) #, dimensions=3)\n",
    "splopter.parse_input()"
   ]
  },
  {
   "cell_type": "code",
   "execution_count": 35,
   "metadata": {},
   "outputs": [
    {
     "name": "stdout",
     "output_type": "stream",
     "text": [
      "Spice data directory is not valid, attempting to auto-fix.\n",
      "Passed Spice directory (/home/jleland/data/external_big/spice/marconi/spice2/shexp_shad_fflwp/angled_recessed_as/alpha_yz_-30.0/backup_20210321-0936) doesn't seem to be valid.\n",
      "Continuing anyway.\n",
      "No a-file given, continuing without\n"
     ]
    },
    {
     "data": {
      "text/html": [
       "<div>\n",
       "<style scoped>\n",
       "    .dataframe tbody tr th:only-of-type {\n",
       "        vertical-align: middle;\n",
       "    }\n",
       "\n",
       "    .dataframe tbody tr th {\n",
       "        vertical-align: top;\n",
       "    }\n",
       "\n",
       "    .dataframe thead th {\n",
       "        text-align: right;\n",
       "    }\n",
       "</style>\n",
       "<table border=\"1\" class=\"dataframe\">\n",
       "  <thead>\n",
       "    <tr style=\"text-align: right;\">\n",
       "      <th></th>\n",
       "      <th>voltage</th>\n",
       "      <th>voltage_wall</th>\n",
       "      <th>current</th>\n",
       "      <th>current_e</th>\n",
       "      <th>current_i</th>\n",
       "      <th>d_current</th>\n",
       "      <th>d_current_e</th>\n",
       "      <th>d_current_i</th>\n",
       "      <th>time</th>\n",
       "    </tr>\n",
       "  </thead>\n",
       "  <tbody>\n",
       "    <tr>\n",
       "      <td>0</td>\n",
       "      <td>-14.975</td>\n",
       "      <td>-2.800000</td>\n",
       "      <td>-111.307692</td>\n",
       "      <td>0.000000</td>\n",
       "      <td>111.307692</td>\n",
       "      <td>4.112808</td>\n",
       "      <td>0.000000</td>\n",
       "      <td>4.112808</td>\n",
       "      <td>0.000000</td>\n",
       "    </tr>\n",
       "    <tr>\n",
       "      <td>1</td>\n",
       "      <td>-14.950</td>\n",
       "      <td>-2.361922</td>\n",
       "      <td>-116.384615</td>\n",
       "      <td>0.000000</td>\n",
       "      <td>116.384615</td>\n",
       "      <td>3.263116</td>\n",
       "      <td>0.000000</td>\n",
       "      <td>3.263116</td>\n",
       "      <td>0.006306</td>\n",
       "    </tr>\n",
       "    <tr>\n",
       "      <td>2</td>\n",
       "      <td>-14.925</td>\n",
       "      <td>-2.361922</td>\n",
       "      <td>-116.076923</td>\n",
       "      <td>0.000000</td>\n",
       "      <td>116.076923</td>\n",
       "      <td>3.024391</td>\n",
       "      <td>0.000000</td>\n",
       "      <td>3.024391</td>\n",
       "      <td>0.012612</td>\n",
       "    </tr>\n",
       "    <tr>\n",
       "      <td>3</td>\n",
       "      <td>-14.875</td>\n",
       "      <td>-2.025381</td>\n",
       "      <td>-117.846154</td>\n",
       "      <td>0.000000</td>\n",
       "      <td>117.846154</td>\n",
       "      <td>2.640528</td>\n",
       "      <td>0.000000</td>\n",
       "      <td>2.640528</td>\n",
       "      <td>0.018918</td>\n",
       "    </tr>\n",
       "    <tr>\n",
       "      <td>4</td>\n",
       "      <td>-14.850</td>\n",
       "      <td>-2.025381</td>\n",
       "      <td>-111.000000</td>\n",
       "      <td>0.000000</td>\n",
       "      <td>111.000000</td>\n",
       "      <td>3.557225</td>\n",
       "      <td>0.000000</td>\n",
       "      <td>3.557225</td>\n",
       "      <td>0.025224</td>\n",
       "    </tr>\n",
       "    <tr>\n",
       "      <td>...</td>\n",
       "      <td>...</td>\n",
       "      <td>...</td>\n",
       "      <td>...</td>\n",
       "      <td>...</td>\n",
       "      <td>...</td>\n",
       "      <td>...</td>\n",
       "      <td>...</td>\n",
       "      <td>...</td>\n",
       "      <td>...</td>\n",
       "    </tr>\n",
       "    <tr>\n",
       "      <td>793</td>\n",
       "      <td>4.875</td>\n",
       "      <td>-1.847694</td>\n",
       "      <td>408.881048</td>\n",
       "      <td>-411.188740</td>\n",
       "      <td>2.307692</td>\n",
       "      <td>5.163111</td>\n",
       "      <td>5.259466</td>\n",
       "      <td>0.458322</td>\n",
       "      <td>5.000562</td>\n",
       "    </tr>\n",
       "    <tr>\n",
       "      <td>794</td>\n",
       "      <td>4.900</td>\n",
       "      <td>-1.845056</td>\n",
       "      <td>423.423359</td>\n",
       "      <td>-425.346436</td>\n",
       "      <td>1.923077</td>\n",
       "      <td>4.570375</td>\n",
       "      <td>4.687799</td>\n",
       "      <td>0.430586</td>\n",
       "      <td>5.006868</td>\n",
       "    </tr>\n",
       "    <tr>\n",
       "      <td>795</td>\n",
       "      <td>4.925</td>\n",
       "      <td>-1.840835</td>\n",
       "      <td>451.969542</td>\n",
       "      <td>-453.738773</td>\n",
       "      <td>1.769231</td>\n",
       "      <td>4.572419</td>\n",
       "      <td>4.660885</td>\n",
       "      <td>0.378151</td>\n",
       "      <td>5.013174</td>\n",
       "    </tr>\n",
       "    <tr>\n",
       "      <td>796</td>\n",
       "      <td>4.950</td>\n",
       "      <td>-1.840835</td>\n",
       "      <td>483.362882</td>\n",
       "      <td>-485.824421</td>\n",
       "      <td>2.461538</td>\n",
       "      <td>8.120031</td>\n",
       "      <td>8.048835</td>\n",
       "      <td>0.432870</td>\n",
       "      <td>5.019480</td>\n",
       "    </tr>\n",
       "    <tr>\n",
       "      <td>797</td>\n",
       "      <td>4.975</td>\n",
       "      <td>-1.840835</td>\n",
       "      <td>502.983644</td>\n",
       "      <td>-505.599029</td>\n",
       "      <td>2.615385</td>\n",
       "      <td>5.242825</td>\n",
       "      <td>5.220486</td>\n",
       "      <td>0.460469</td>\n",
       "      <td>5.025785</td>\n",
       "    </tr>\n",
       "  </tbody>\n",
       "</table>\n",
       "<p>798 rows × 9 columns</p>\n",
       "</div>"
      ],
      "text/plain": [
       "     voltage  voltage_wall     current   current_e   current_i  d_current  \\\n",
       "0    -14.975     -2.800000 -111.307692    0.000000  111.307692   4.112808   \n",
       "1    -14.950     -2.361922 -116.384615    0.000000  116.384615   3.263116   \n",
       "2    -14.925     -2.361922 -116.076923    0.000000  116.076923   3.024391   \n",
       "3    -14.875     -2.025381 -117.846154    0.000000  117.846154   2.640528   \n",
       "4    -14.850     -2.025381 -111.000000    0.000000  111.000000   3.557225   \n",
       "..       ...           ...         ...         ...         ...        ...   \n",
       "793    4.875     -1.847694  408.881048 -411.188740    2.307692   5.163111   \n",
       "794    4.900     -1.845056  423.423359 -425.346436    1.923077   4.570375   \n",
       "795    4.925     -1.840835  451.969542 -453.738773    1.769231   4.572419   \n",
       "796    4.950     -1.840835  483.362882 -485.824421    2.461538   8.120031   \n",
       "797    4.975     -1.840835  502.983644 -505.599029    2.615385   5.242825   \n",
       "\n",
       "     d_current_e  d_current_i      time  \n",
       "0       0.000000     4.112808  0.000000  \n",
       "1       0.000000     3.263116  0.006306  \n",
       "2       0.000000     3.024391  0.012612  \n",
       "3       0.000000     2.640528  0.018918  \n",
       "4       0.000000     3.557225  0.025224  \n",
       "..           ...          ...       ...  \n",
       "793     5.259466     0.458322  5.000562  \n",
       "794     4.687799     0.430586  5.006868  \n",
       "795     4.660885     0.378151  5.013174  \n",
       "796     8.048835     0.432870  5.019480  \n",
       "797     5.220486     0.460469  5.025785  \n",
       "\n",
       "[798 rows x 9 columns]"
      ]
     },
     "execution_count": 35,
     "metadata": {},
     "output_type": "execute_result"
    }
   ],
   "source": [
    "# Test\n",
    "iv_df, iv_data = xrf.homogenise_run(spl_backup)\n",
    "# iv_df = iv_df.drop(iv_df.index[-1])\n",
    "iv_df"
   ]
  },
  {
   "cell_type": "code",
   "execution_count": 36,
   "metadata": {},
   "outputs": [
    {
     "data": {
      "text/plain": [
       "<matplotlib.axes._subplots.AxesSubplot at 0x7f0aa0dbe2b0>"
      ]
     },
     "execution_count": 36,
     "metadata": {},
     "output_type": "execute_result"
    }
   ],
   "source": [
    "fig, ax = plt.subplots()\n",
    "iv_df.set_index('voltage')['current'].plot()\n",
    "# ax.set_ylim([-30,0])"
   ]
  },
  {
   "cell_type": "code",
   "execution_count": 23,
   "metadata": {},
   "outputs": [
    {
     "data": {
      "text/plain": [
       "<matplotlib.patches.Polygon at 0x7f0aa18c1198>"
      ]
     },
     "execution_count": 23,
     "metadata": {},
     "output_type": "execute_result"
    }
   ],
   "source": [
    "fig, ax = plt.subplots()\n",
    "iv_df['voltage'].plot()\n",
    "iv_df['voltage_wall'].plot()\n",
    "\n",
    "vw_mean = iv_df['voltage_wall'].mean()\n",
    "vw_std = iv_df['voltage_wall'].std()\n",
    "ax.axhline(y=vw_mean, **c.AX_LINE_DEFAULTS)\n",
    "ax.axhspan(vw_mean - vw_std, vw_mean + vw_std, color='silver', alpha=0.7)"
   ]
  },
  {
   "cell_type": "code",
   "execution_count": 24,
   "metadata": {},
   "outputs": [],
   "source": [
    "fig, ax = plt.subplots()\n",
    "\n",
    "ax.plot(splopter.tdata.t_dict['ProbePot'])\n",
    "ax.plot(splopter.tdata.t_dict['WallPot'])\n",
    "\n",
    "for i in range(4):\n",
    "    line_pos = i * len(splopter.tdata.t_dict['ProbePot']) / 4\n",
    "    ax.axvline(x=line_pos, **c.AX_LINE_DEFAULTS)"
   ]
  },
  {
   "cell_type": "code",
   "execution_count": 25,
   "metadata": {},
   "outputs": [],
   "source": [
    "t, V, I_e, I_i = splopter.get_tdata_raw_iv()\n",
    "V_wall = splopter.get_wall_potential()\n",
    "\n",
    "fig, ax = plt.subplots(2, sharex=False, figsize=[10,6])\n",
    "I_tot = (I_e + I_i)[::100]\n",
    "ax[0].plot(I_tot)\n",
    "ax[1].plot(V)\n",
    "ax[1].plot(V_wall)\n",
    "\n",
    "for axis in ax:\n",
    "    for i in range(4):\n",
    "        line_pos = i * len(I_tot) / 4\n",
    "        axis.axvline(x=line_pos, **c.AX_LINE_DEFAULTS)\n",
    "\n"
   ]
  },
  {
   "cell_type": "code",
   "execution_count": 26,
   "metadata": {},
   "outputs": [
    {
     "data": {
      "text/plain": [
       "<matplotlib.collections.QuadMesh at 0x7f0aa0fa98d0>"
      ]
     },
     "execution_count": 26,
     "metadata": {},
     "output_type": "execute_result"
    }
   ],
   "source": [
    "fig, ax = plt.subplots(2)\n",
    "ax[0].pcolormesh(splopter.tdata.t_dict['rho'][:-5,:])\n",
    "ax[1].pcolormesh(splopter.tdata.t_dict['Pot'][:-5,:])"
   ]
  },
  {
   "cell_type": "code",
   "execution_count": 18,
   "metadata": {},
   "outputs": [
    {
     "name": "stdout",
     "output_type": "stream",
     "text": [
      "['__header__', '__version__', '__globals__', 'version', 'nspec', 'Nz', 'Ny', 'Np', 'nav', 'dt', 'dz', 'angbin', 'z', 'y', 'Epar', 'Eperp', 'Potav', 'dens01', 'q01', 'T01', 'vzav01', 'vyav01', 'vxav01', 'vz2av01', 'vy2av01', 'vx2av01', 'vz3av01', 'vy3av01', 'vx3av01', 'temperature01', 'edgeflux01', 'edgeenergyflux01', 'edgevelocityx01', 'edgevelocityy01', 'edgevelocityz01', 'dens02', 'q02', 'T02', 'vzav02', 'vyav02', 'vxav02', 'vz2av02', 'vy2av02', 'vx2av02', 'vz3av02', 'vy3av02', 'vx3av02', 'temperature02', 'edgeflux02', 'edgeenergyflux02', 'edgevelocityx02', 'edgevelocityy02', 'edgevelocityz02', 'N0']\n"
     ]
    }
   ],
   "source": [
    "o_file = sio.loadmat(list(spl_backup.glob('alpha*'))[0])\n",
    "print(list(o_file.keys()))"
   ]
  },
  {
   "cell_type": "code",
   "execution_count": 19,
   "metadata": {},
   "outputs": [
    {
     "data": {
      "text/plain": [
       "<matplotlib.collections.QuadMesh at 0x7f262f6d24a8>"
      ]
     },
     "execution_count": 19,
     "metadata": {},
     "output_type": "execute_result"
    }
   ],
   "source": [
    "fig, ax = plt.subplots(2)\n",
    "ax[0].pcolormesh(splopter.tdata.t_dict['rho'][:-5,:])\n",
    "ax[1].pcolormesh(o_file['edgeflux01'])\n"
   ]
  },
  {
   "cell_type": "code",
   "execution_count": 20,
   "metadata": {},
   "outputs": [
    {
     "data": {
      "text/plain": [
       "[<matplotlib.lines.Line2D at 0x7f262f5f4940>]"
      ]
     },
     "execution_count": 20,
     "metadata": {},
     "output_type": "execute_result"
    }
   ],
   "source": [
    "fig, ax = plt.subplots(2, 2, sharex=True, figsize=[12,12])\n",
    "ax[0, 0].pcolormesh(o_file['edgeflux01'])\n",
    "ax[0, 1].pcolormesh(o_file['edgeflux02'])\n",
    "\n",
    "ax[1, 0].plot(o_file['edgeflux01'].sum(axis=0)) # + o_file['edgeflux02'].sum(axis=0))\n",
    "ax[1, 1].plot(o_file['edgeflux02'].sum(axis=0))"
   ]
  },
  {
   "cell_type": "code",
   "execution_count": 21,
   "metadata": {},
   "outputs": [
    {
     "name": "stdout",
     "output_type": "stream",
     "text": [
      "(1065356,)\n"
     ]
    },
    {
     "data": {
      "text/plain": [
       "[<matplotlib.lines.Line2D at 0x7f262f46f6d8>]"
      ]
     },
     "execution_count": 21,
     "metadata": {},
     "output_type": "execute_result"
    }
   ],
   "source": [
    "fig, ax = plt.subplots(2, 2)\n",
    "ax[0,0].pcolormesh(splopter.tdata.t_dict['edges'], cmap='plasma')\n",
    "ax[1,0].pcolormesh(splopter.tdata.t_dict['objectsenum'])\n",
    "print(splopter.tdata.t_dict['objectspowerfluxi'][0].shape)\n",
    "\n",
    "ax[0,1].plot(splopter.tdata.t_dict['objectscurrenti'].sum(axis=0))\n",
    "ax[1,1].plot(splopter.tdata.t_dict['objectscurrente'].sum(axis=0))\n",
    "\n"
   ]
  },
  {
   "cell_type": "code",
   "execution_count": 22,
   "metadata": {},
   "outputs": [
    {
     "data": {
      "text/plain": [
       "<matplotlib.colorbar.Colorbar at 0x7f262f399fd0>"
      ]
     },
     "execution_count": 22,
     "metadata": {},
     "output_type": "execute_result"
    }
   ],
   "source": [
    "fig, ax = plt.subplots()\n",
    "mapper = ax.pcolormesh(splopter.tdata.pot)\n",
    "fig.colorbar(mapper)\n"
   ]
  },
  {
   "cell_type": "code",
   "execution_count": 23,
   "metadata": {},
   "outputs": [
    {
     "data": {
      "text/plain": [
       "<matplotlib.colorbar.Colorbar at 0x7f262d7e30f0>"
      ]
     },
     "execution_count": 23,
     "metadata": {},
     "output_type": "execute_result"
    }
   ],
   "source": [
    "fig, ax = plt.subplots()\n",
    "mapper = ax.pcolormesh(splopter.tdata.rho)\n",
    "fig.colorbar(mapper)\n"
   ]
  },
  {
   "cell_type": "code",
   "execution_count": 24,
   "metadata": {},
   "outputs": [
    {
     "name": "stdout",
     "output_type": "stream",
     "text": [
      "(233, 1373)\n"
     ]
    }
   ],
   "source": [
    "fig, ax = plt.subplots(2, figsize=[10,12])\n",
    "\n",
    "print(splopter.tdata.pot.shape)\n",
    "ax[0].plot(splopter.tdata.rho[93:(93+36),0:1].mean(axis=1))\n",
    "ax[1].plot(splopter.tdata.pot[:,0:1].mean(axis=1))\n",
    "fig.tight_layout()"
   ]
  },
  {
   "cell_type": "code",
   "execution_count": 29,
   "metadata": {},
   "outputs": [],
   "source": [
    "fig, ax = plt.subplots()\n",
    "xrf.norm_ion_fit(iv_data, v_redund=0).plot(ax=ax)\n",
    "xrf.norm_ion_fit(iv_data, v_redund=1, voltage_cap=-14).plot(ax=ax)"
   ]
  },
  {
   "cell_type": "code",
   "execution_count": 31,
   "metadata": {},
   "outputs": [
    {
     "data": {
      "text/plain": [
       "[<matplotlib.lines.Line2D at 0x7f0aa0f76668>]"
      ]
     },
     "execution_count": 31,
     "metadata": {},
     "output_type": "execute_result"
    }
   ],
   "source": [
    "fig, ax = plt.subplots(1, 2)\n",
    "\n",
    "f_data_whole = xrf.norm_ion_fit(iv_data, v_redund=0)\n",
    "f_data_fit = xrf.norm_ion_fit(iv_data, v_redund=1, voltage_cap=-14)\n",
    "ax[0].plot(f_data_whole.raw_x, f_data_whole.raw_y)\n"
   ]
  },
  {
   "cell_type": "code",
   "execution_count": 27,
   "metadata": {},
   "outputs": [
    {
     "name": "stdout",
     "output_type": "stream",
     "text": [
      "CAUGHT: ion fit runtime error\n"
     ]
    },
    {
     "data": {
      "text/plain": [
       "<ErrorbarContainer object of 3 artists>"
      ]
     },
     "execution_count": 27,
     "metadata": {},
     "output_type": "execute_result"
    }
   ],
   "source": [
    "fig, ax = plt.subplots(2, sharex=True)\n",
    "\n",
    "a_vals = []\n",
    "d_a_vals = []\n",
    "v_caps = np.linspace(-15.0, -4.0, 101)\n",
    "v_redunds = np.linspace(0, 10, 101)\n",
    "\n",
    "for v_cap in v_caps:\n",
    "    f_data = xrf.norm_ion_fit(iv_data, sigma=iv_df['d_current_i'].values, v_redund=0, voltage_cap=v_cap)\n",
    "    a_vals.append(f_data.get_sheath_exp())\n",
    "    d_a_vals.append(f_data.get_sheath_exp_err())\n",
    "ax[0].errorbar(v_caps, a_vals, yerr=d_a_vals)\n",
    "ax[0].set_ylim(0.0, 0.2)\n",
    "\n",
    "\n",
    "a_vals = []\n",
    "d_a_vals = []\n",
    "for v_redund in v_redunds:\n",
    "    f_data = xrf.norm_ion_fit(iv_data, sigma=iv_df['d_current_i'].values, v_redund=v_redund, voltage_cap=-15.0)\n",
    "    a_vals.append(f_data.get_sheath_exp())\n",
    "    d_a_vals.append(f_data.get_sheath_exp_err())\n",
    "ax[1].errorbar(-v_redunds, a_vals, yerr=d_a_vals)\n",
    "# ax[1].set_ylim(0.0, 0.2)    "
   ]
  },
  {
   "cell_type": "markdown",
   "metadata": {},
   "source": [
    "# Testing the fit functions"
   ]
  },
  {
   "cell_type": "code",
   "execution_count": 47,
   "metadata": {},
   "outputs": [
    {
     "data": {
      "text/plain": [
       "<module 'flopter.spice.xrfuncs' from '/home/jleland/coding/projects/flopter/flopter/spice/xrfuncs.py'>"
      ]
     },
     "execution_count": 47,
     "metadata": {},
     "output_type": "execute_result"
    }
   ],
   "source": [
    "importlib.reload(xrf)"
   ]
  },
  {
   "cell_type": "code",
   "execution_count": 56,
   "metadata": {},
   "outputs": [],
   "source": [
    "probe_ar = xrf.FLUSH_SQUARE_PROBE\n",
    "probe_ar.theta_p = np.radians(10.0)"
   ]
  },
  {
   "cell_type": "code",
   "execution_count": 59,
   "metadata": {},
   "outputs": [
    {
     "name": "stdout",
     "output_type": "stream",
     "text": [
      "{'temperature': 1.0, 'floating_potential': -2.5, 'isat': 29.21082083390248, 'sheath_exp_param': 0.01}\n"
     ]
    },
    {
     "data": {
      "text/plain": [
       "3.50416594252353"
      ]
     },
     "execution_count": 59,
     "metadata": {},
     "output_type": "execute_result"
    }
   ],
   "source": [
    "all_initial_params = xrf.get_initial_params(30.0)#, probe=probe_ar)\n",
    "print(all_initial_params)\n",
    "1 / denormaliser(1, 'current')"
   ]
  },
  {
   "cell_type": "code",
   "execution_count": 49,
   "metadata": {},
   "outputs": [],
   "source": [
    "fig, ax = plt.subplots()\n",
    "xrf.norm_ion_fit(iv_data, v_redund=0.5).plot(ax=ax)\n"
   ]
  },
  {
   "cell_type": "code",
   "execution_count": 52,
   "metadata": {},
   "outputs": [],
   "source": [
    "fig, ax = plt.subplots()\n",
    "all_initial_params['isat'] = 120\n",
    "xrf.straight_iv_fit(iv_data, cutoff=None, all_initial_values=all_initial_params).plot(ax=ax)"
   ]
  },
  {
   "cell_type": "code",
   "execution_count": null,
   "metadata": {},
   "outputs": [],
   "source": []
  }
 ],
 "metadata": {
  "kernelspec": {
   "display_name": "python3.6-codac",
   "language": "python",
   "name": "python3.6-codac"
  },
  "language_info": {
   "codemirror_mode": {
    "name": "ipython",
    "version": 3
   },
   "file_extension": ".py",
   "mimetype": "text/x-python",
   "name": "python",
   "nbconvert_exporter": "python",
   "pygments_lexer": "ipython3",
   "version": "3.6.9"
  }
 },
 "nbformat": 4,
 "nbformat_minor": 4
}
