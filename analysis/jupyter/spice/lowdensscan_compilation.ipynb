{
 "cells": [
  {
   "cell_type": "markdown",
   "metadata": {},
   "source": [
    "# Combining and analysing the low density anglescan simulations"
   ]
  },
  {
   "cell_type": "code",
   "execution_count": 1,
   "metadata": {},
   "outputs": [],
   "source": [
    "import numpy as np\n",
    "import matplotlib.pyplot as plt\n",
    "import xarray as xr\n",
    "import pandas as pd\n",
    "import sys\n",
    "import os\n",
    "import glob\n",
    "import pathlib as pth\n",
    "sys.path.append('/home/jleland/Coding/Projects/flopter')\n",
    "sys.path.append('/home/jleland/Coding/Projects/autospice')\n",
    "import flopter.spice.splopter as spl\n",
    "import flopter.core.ivdata as iv\n",
    "import flopter.core.fitters as fts"
   ]
  },
  {
   "cell_type": "code",
   "execution_count": 2,
   "metadata": {},
   "outputs": [],
   "source": [
    "lowdens_dir = pth.Path('/home/jleland/Spice/spice2/bin/data_local_m2/lowdens_anglescan')\n",
    "os.chdir(lowdens_dir)"
   ]
  },
  {
   "cell_type": "code",
   "execution_count": 3,
   "metadata": {},
   "outputs": [
    {
     "name": "stdout",
     "output_type": "stream",
     "text": [
      "{'inpartest_as': ['inpartest_as/alpha_yz_-9.0', 'inpartest_as/alpha_yz_-1.0', 'inpartest_as/alpha_yz_-2.0', 'inpartest_as/alpha_yz_-4.0', 'inpartest_as/alpha_yz_-7.0', 'inpartest_as/alpha_yz_-8.0', 'inpartest_as/alpha_yz_-6.0', 'inpartest_as/alpha_yz_-3.0', 'inpartest_as/alpha_yz_-5.0', 'angled_tiltscan/alpha_yz_-9.0', 'angled_tiltscan/alpha_yz_-1.0', 'angled_tiltscan/alpha_yz_-2.0', 'angled_tiltscan/alpha_yz_-4.0', 'angled_tiltscan/alpha_yz_-10.0', 'angled_tiltscan/alpha_yz_-3.0', 'angled_tiltscan/alpha_yz_-5.0', 'angled_tiltscan/alpha_yz_-6.0', 'angled_tiltscan/alpha_yz_-7.0', 'angled_tiltscan/alpha_yz_-8.0'], 'angled_tiltscan': ['inpartest_as/alpha_yz_-9.0', 'inpartest_as/alpha_yz_-1.0', 'inpartest_as/alpha_yz_-2.0', 'inpartest_as/alpha_yz_-4.0', 'inpartest_as/alpha_yz_-7.0', 'inpartest_as/alpha_yz_-8.0', 'inpartest_as/alpha_yz_-6.0', 'inpartest_as/alpha_yz_-3.0', 'inpartest_as/alpha_yz_-5.0', 'angled_tiltscan/alpha_yz_-9.0', 'angled_tiltscan/alpha_yz_-1.0', 'angled_tiltscan/alpha_yz_-2.0', 'angled_tiltscan/alpha_yz_-4.0', 'angled_tiltscan/alpha_yz_-10.0', 'angled_tiltscan/alpha_yz_-3.0', 'angled_tiltscan/alpha_yz_-5.0', 'angled_tiltscan/alpha_yz_-6.0', 'angled_tiltscan/alpha_yz_-7.0', 'angled_tiltscan/alpha_yz_-8.0']}\n"
     ]
    }
   ],
   "source": [
    "scans_searchstr = '*'\n",
    "angles_search_str = scans_searchstr + '/*[!.{yml, inp}]'\n",
    "\n",
    "all_run_dirs = {}\n",
    "scans = glob.glob(scans_searchstr)\n",
    "for scan in scans:\n",
    "    all_run_dirs[scan] = glob.glob(angles_search_str)\n",
    "print(all_run_dirs)"
   ]
  },
  {
   "cell_type": "code",
   "execution_count": 4,
   "metadata": {},
   "outputs": [
    {
     "name": "stdout",
     "output_type": "stream",
     "text": [
      "inpartest_as/ alpha_yz_-9.0/\n",
      "1 96\n",
      "<class 'flopter.spice.tdata.Spice2TData'>\n",
      "['_ALL_CONV_TYPES', '_ALL_LABELS', '__class__', '__delattr__', '__dict__', '__dir__', '__doc__', '__eq__', '__format__', '__ge__', '__getattribute__', '__gt__', '__hash__', '__init__', '__init_subclass__', '__le__', '__lt__', '__module__', '__ne__', '__new__', '__reduce__', '__reduce_ex__', '__repr__', '__setattr__', '__sizeof__', '__str__', '__subclasshook__', '__weakref__', '_convert', 'alphaxz', 'alphayz', 'bx', 'by', 'bz', 'converter', 'count', 'deallocate', 'deltah', 'denormalise', 'diaghistories', 'diagm', 'diagnostics', 'dphiqn', 'dt', 'dz', 'edgecharge', 'edges', 'equipotm', 'esct', 'escy', 'escz', 'flag', 'flagm', 'floatconstant', 'fvarrays', 'fvbin', 'fvlimits', 'fvperparraycount', 'has_converted', 'histlimits', 'hpos', 'injrate', 'irel', 'itertime_lower', 'itertime_upper', 'ksi', 'm', 'matlab_data', 'mksb', 'mksmainionm', 'mksmainionq', 'mksn0', 'mkspar1', 'mkspar2', 'mkspar3', 'mkste', 'mu', 'na', 'nc', 'nodiagreg', 'normalise', 'np', 'npartproc', 'npc', 'nproc', 'ny', 'nz', 'nzmax', 'objects', 'objectscurrente', 'objectscurrenti', 'objectsenum', 'objectspowerfluxe', 'objectspowerfluxi', 'pchi', 'pot', 'potvac', 'q', 'reduce', 'rho', 'rho01', 'rho02', 'set_converter', 'sliceproc', 'snumber', 'solns01', 'solns02', 'solw01', 'solw02', 'surfacematrix', 't', 't_filename', 'tau', 'temp', 'timehistory_lower', 'timehistory_upper', 'totalenergy', 'version', 'yg', 'zg']\n"
     ]
    },
    {
     "ename": "AttributeError",
     "evalue": "'Spice2TData' object has no attribute 'nproc'",
     "output_type": "error",
     "traceback": [
      "\u001b[0;31m---------------------------------------------------------------------------\u001b[0m",
      "\u001b[0;31mAttributeError\u001b[0m                            Traceback (most recent call last)",
      "\u001b[0;32m<ipython-input-4-648332c4cfe6>\u001b[0m in \u001b[0;36m<module>\u001b[0;34m()\u001b[0m\n\u001b[1;32m      4\u001b[0m \u001b[0mprint\u001b[0m\u001b[0;34m(\u001b[0m\u001b[0mgroup_name\u001b[0m\u001b[0;34m,\u001b[0m \u001b[0mfolder_name\u001b[0m\u001b[0;34m)\u001b[0m\u001b[0;34m\u001b[0m\u001b[0m\n\u001b[1;32m      5\u001b[0m splopter = spl.Splopter(lowdens_dir / all_run_dirs[scan][0],\n\u001b[0;32m----> 6\u001b[0;31m                         reduce_fl=True, prepare=True)\n\u001b[0m",
      "\u001b[0;32m~/Coding/Projects/flopter/flopter/spice/splopter.py\u001b[0m in \u001b[0;36m__init__\u001b[0;34m(self, spice_data_dir, run_name, prepare, reduce_fl)\u001b[0m\n\u001b[1;32m     73\u001b[0m \u001b[0;34m\u001b[0m\u001b[0m\n\u001b[1;32m     74\u001b[0m         \u001b[0;32mif\u001b[0m \u001b[0mprepare\u001b[0m\u001b[0;34m:\u001b[0m\u001b[0;34m\u001b[0m\u001b[0m\n\u001b[0;32m---> 75\u001b[0;31m             \u001b[0mself\u001b[0m\u001b[0;34m.\u001b[0m\u001b[0mprepare\u001b[0m\u001b[0;34m(\u001b[0m\u001b[0;34m)\u001b[0m\u001b[0;34m\u001b[0m\u001b[0m\n\u001b[0m\u001b[1;32m     76\u001b[0m \u001b[0;34m\u001b[0m\u001b[0m\n\u001b[1;32m     77\u001b[0m     \u001b[0;32mdef\u001b[0m \u001b[0mprepare\u001b[0m\u001b[0;34m(\u001b[0m\u001b[0mself\u001b[0m\u001b[0;34m,\u001b[0m \u001b[0mhomogenise\u001b[0m\u001b[0;34m=\u001b[0m\u001b[0;32mTrue\u001b[0m\u001b[0;34m,\u001b[0m \u001b[0mmake_denormaliser\u001b[0m\u001b[0;34m=\u001b[0m\u001b[0;32mTrue\u001b[0m\u001b[0;34m)\u001b[0m\u001b[0;34m:\u001b[0m\u001b[0;34m\u001b[0m\u001b[0m\n",
      "\u001b[0;32m~/Coding/Projects/flopter/flopter/spice/splopter.py\u001b[0m in \u001b[0;36mprepare\u001b[0;34m(self, homogenise, make_denormaliser)\u001b[0m\n\u001b[1;32m     89\u001b[0m         \u001b[0;32mif\u001b[0m \u001b[0mmake_denormaliser\u001b[0m \u001b[0;32mand\u001b[0m \u001b[0;32mnot\u001b[0m \u001b[0mself\u001b[0m\u001b[0;34m.\u001b[0m\u001b[0mdenormaliser\u001b[0m\u001b[0;34m:\u001b[0m\u001b[0;34m\u001b[0m\u001b[0m\n\u001b[1;32m     90\u001b[0m             \u001b[0mself\u001b[0m\u001b[0;34m.\u001b[0m\u001b[0mdenormaliser\u001b[0m \u001b[0;34m=\u001b[0m \u001b[0mDenormaliser\u001b[0m\u001b[0;34m(\u001b[0m\u001b[0mdt\u001b[0m\u001b[0;34m=\u001b[0m\u001b[0mself\u001b[0m\u001b[0;34m.\u001b[0m\u001b[0mtdata\u001b[0m\u001b[0;34m.\u001b[0m\u001b[0mdt\u001b[0m\u001b[0;34m,\u001b[0m \u001b[0minput_parser\u001b[0m\u001b[0;34m=\u001b[0m\u001b[0mself\u001b[0m\u001b[0;34m.\u001b[0m\u001b[0mparser\u001b[0m\u001b[0;34m)\u001b[0m\u001b[0;34m\u001b[0m\u001b[0m\n\u001b[0;32m---> 91\u001b[0;31m             \u001b[0mratio\u001b[0m \u001b[0;34m=\u001b[0m \u001b[0mself\u001b[0m\u001b[0;34m.\u001b[0m\u001b[0mfind_se_temp_ratio\u001b[0m\u001b[0;34m(\u001b[0m\u001b[0;34m)\u001b[0m\u001b[0;34m\u001b[0m\u001b[0m\n\u001b[0m\u001b[1;32m     92\u001b[0m             \u001b[0mself\u001b[0m\u001b[0;34m.\u001b[0m\u001b[0mdenormaliser\u001b[0m\u001b[0;34m.\u001b[0m\u001b[0mset_se_temperature\u001b[0m\u001b[0;34m(\u001b[0m\u001b[0mratio\u001b[0m\u001b[0;34m)\u001b[0m\u001b[0;34m\u001b[0m\u001b[0m\n\u001b[1;32m     93\u001b[0m             \u001b[0mself\u001b[0m\u001b[0;34m.\u001b[0m\u001b[0mtdata\u001b[0m\u001b[0;34m.\u001b[0m\u001b[0mconverter\u001b[0m \u001b[0;34m=\u001b[0m \u001b[0mself\u001b[0m\u001b[0;34m.\u001b[0m\u001b[0mdenormaliser\u001b[0m\u001b[0;34m\u001b[0m\u001b[0m\n",
      "\u001b[0;32m~/Coding/Projects/flopter/flopter/spice/splopter.py\u001b[0m in \u001b[0;36mfind_se_temp_ratio\u001b[0;34m(self, v_scale, plot_fl, species, regions)\u001b[0m\n\u001b[1;32m    276\u001b[0m             }\n\u001b[1;32m    277\u001b[0m \u001b[0;34m\u001b[0m\u001b[0m\n\u001b[0;32m--> 278\u001b[0;31m         \u001b[0mhists\u001b[0m \u001b[0;34m=\u001b[0m \u001b[0mself\u001b[0m\u001b[0;34m.\u001b[0m\u001b[0mextract_histograms\u001b[0m\u001b[0;34m(\u001b[0m\u001b[0mlist\u001b[0m\u001b[0;34m(\u001b[0m\u001b[0mregions\u001b[0m\u001b[0;34m.\u001b[0m\u001b[0mvalues\u001b[0m\u001b[0;34m(\u001b[0m\u001b[0;34m)\u001b[0m\u001b[0;34m)\u001b[0m\u001b[0;34m,\u001b[0m \u001b[0mdenormalise\u001b[0m\u001b[0;34m=\u001b[0m\u001b[0;32mTrue\u001b[0m\u001b[0;34m,\u001b[0m \u001b[0mv_scale\u001b[0m\u001b[0;34m=\u001b[0m\u001b[0mv_scale\u001b[0m\u001b[0;34m,\u001b[0m \u001b[0mspecies\u001b[0m\u001b[0;34m=\u001b[0m\u001b[0mspecies\u001b[0m\u001b[0;34m)\u001b[0m\u001b[0;34m\u001b[0m\u001b[0m\n\u001b[0m\u001b[1;32m    279\u001b[0m         \u001b[0mtemperature\u001b[0m \u001b[0;34m=\u001b[0m \u001b[0mself\u001b[0m\u001b[0;34m.\u001b[0m\u001b[0mparser\u001b[0m\u001b[0;34m.\u001b[0m\u001b[0mget_commented_params\u001b[0m\u001b[0;34m(\u001b[0m\u001b[0;34m)\u001b[0m\u001b[0;34m[\u001b[0m\u001b[0mc\u001b[0m\u001b[0;34m.\u001b[0m\u001b[0mELEC_TEMP\u001b[0m\u001b[0;34m]\u001b[0m\u001b[0;34m\u001b[0m\u001b[0m\n\u001b[1;32m    280\u001b[0m \u001b[0;34m\u001b[0m\u001b[0m\n",
      "\u001b[0;32m~/Coding/Projects/flopter/flopter/spice/splopter.py\u001b[0m in \u001b[0;36mextract_histograms\u001b[0;34m(self, regions, denormalise, v_scale, species, deallocate_fl)\u001b[0m\n\u001b[1;32m    304\u001b[0m             \u001b[0mself\u001b[0m\u001b[0;34m.\u001b[0m\u001b[0mprepare\u001b[0m\u001b[0;34m(\u001b[0m\u001b[0mhomogenise\u001b[0m\u001b[0;34m=\u001b[0m\u001b[0;32mFalse\u001b[0m\u001b[0;34m,\u001b[0m \u001b[0mmake_denormaliser\u001b[0m\u001b[0;34m=\u001b[0m\u001b[0;32mFalse\u001b[0m\u001b[0;34m)\u001b[0m\u001b[0;34m\u001b[0m\u001b[0m\n\u001b[1;32m    305\u001b[0m \u001b[0;34m\u001b[0m\u001b[0m\n\u001b[0;32m--> 306\u001b[0;31m         \u001b[0mnproc\u001b[0m \u001b[0;34m=\u001b[0m \u001b[0mint\u001b[0m\u001b[0;34m(\u001b[0m\u001b[0mnp\u001b[0m\u001b[0;34m.\u001b[0m\u001b[0msqueeze\u001b[0m\u001b[0;34m(\u001b[0m\u001b[0mself\u001b[0m\u001b[0;34m.\u001b[0m\u001b[0mtdata\u001b[0m\u001b[0;34m.\u001b[0m\u001b[0mnproc\u001b[0m\u001b[0;34m)\u001b[0m\u001b[0;34m)\u001b[0m\u001b[0;34m\u001b[0m\u001b[0m\n\u001b[0m\u001b[1;32m    307\u001b[0m         \u001b[0mregion_vels\u001b[0m \u001b[0;34m=\u001b[0m \u001b[0;34m[\u001b[0m\u001b[0mnp\u001b[0m\u001b[0;34m.\u001b[0m\u001b[0marray\u001b[0m\u001b[0;34m(\u001b[0m\u001b[0;34m[\u001b[0m\u001b[0;34m]\u001b[0m\u001b[0;34m)\u001b[0m\u001b[0;34m]\u001b[0m \u001b[0;34m*\u001b[0m \u001b[0mlen\u001b[0m\u001b[0;34m(\u001b[0m\u001b[0mregions\u001b[0m\u001b[0;34m)\u001b[0m\u001b[0;34m\u001b[0m\u001b[0m\n\u001b[1;32m    308\u001b[0m         \u001b[0mralpha\u001b[0m \u001b[0;34m=\u001b[0m \u001b[0;34m(\u001b[0m\u001b[0;34m-\u001b[0m\u001b[0mself\u001b[0m\u001b[0;34m.\u001b[0m\u001b[0mtdata\u001b[0m\u001b[0;34m.\u001b[0m\u001b[0malphayz\u001b[0m \u001b[0;34m/\u001b[0m \u001b[0;36m180.0\u001b[0m\u001b[0;34m)\u001b[0m \u001b[0;34m*\u001b[0m \u001b[0;36m3.141591\u001b[0m\u001b[0;34m\u001b[0m\u001b[0m\n",
      "\u001b[0;31mAttributeError\u001b[0m: 'Spice2TData' object has no attribute 'nproc'"
     ]
    }
   ],
   "source": [
    "# print(all_run_dirs[scan][0].split('/'))\n",
    "\n",
    "group_name, folder_name = [level + '/' for level in all_run_dirs[scan][0].split('/')]\n",
    "print(group_name, folder_name)\n",
    "splopter = spl.Splopter(lowdens_dir / all_run_dirs[scan][0],\n",
    "                        reduce_fl=True, prepare=True)"
   ]
  },
  {
   "cell_type": "code",
   "execution_count": 5,
   "metadata": {},
   "outputs": [
    {
     "name": "stdout",
     "output_type": "stream",
     "text": [
      "1\n",
      "1\n",
      "97\n",
      "('t-alpha_yz_-9.0.mat', 'alpha_yz_-9.0.mat')\n"
     ]
    }
   ],
   "source": [
    "directory = (lowdens_dir / all_run_dirs[scan][0])\n",
    "print(len([f.name for f in list(directory.glob('*[!.][!2][!d].mat')) if not f.name.startswith('t-')]))\n",
    "print(len(set(directory.glob('t-*.mat')) - set(directory.glob('t-*[0-9][0-9].mat'))))\n",
    "print(len(list(directory.glob('t-*.mat'))))\n",
    "print(spl.Splopter.get_ta_filenames(directory))"
   ]
  },
  {
   "cell_type": "code",
   "execution_count": null,
   "metadata": {},
   "outputs": [],
   "source": []
  }
 ],
 "metadata": {
  "kernelspec": {
   "display_name": "magopter_kernel_3.6.5",
   "language": "python",
   "name": "magopter_kernel_3.6.5"
  },
  "language_info": {
   "codemirror_mode": {
    "name": "ipython",
    "version": 3
   },
   "file_extension": ".py",
   "mimetype": "text/x-python",
   "name": "python",
   "nbconvert_exporter": "python",
   "pygments_lexer": "ipython3",
   "version": "3.6.5"
  }
 },
 "nbformat": 4,
 "nbformat_minor": 2
}
