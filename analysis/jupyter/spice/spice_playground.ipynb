{
 "cells": [
  {
   "cell_type": "code",
   "execution_count": 2,
   "metadata": {},
   "outputs": [],
   "source": [
    "import sys\n",
    "import numpy as np\n",
    "sys.path.append('/home/jleland/Coding/Projects/flopter')\n",
    "import spiceutils as su\n",
    "import normalisation as nrm"
   ]
  },
  {
   "cell_type": "markdown",
   "metadata": {},
   "source": [
    "**Magnum Parameters (First Shot)**"
   ]
  },
  {
   "cell_type": "code",
   "execution_count": 3,
   "metadata": {},
   "outputs": [],
   "source": [
    "n_e = 1.4e20\n",
    "T_e = 1.6\n",
    "m_i = nrm.PROTON_MASS\n",
    "B = 0.8\n",
    "theta = np.radians(10)\n",
    "q = 1"
   ]
  },
  {
   "cell_type": "code",
   "execution_count": 22,
   "metadata": {},
   "outputs": [],
   "source": [
    "n_e = 1.4e20\n",
    "T_e = 1.6\n",
    "m_i = nrm.ATOMIC_MASS_UNIT * 1.007825032241\n",
    "m_i2 = 900 * nrm.ELECTRON_MASS\n",
    "B = 0.8\n",
    "theta = np.radians(10)\n",
    "q = 1\n",
    "\n",
    "K = np.sqrt(m_i2/m_i)"
   ]
  },
  {
   "cell_type": "markdown",
   "metadata": {},
   "source": [
    "**Magnum Parameters (Second Shot)**"
   ]
  },
  {
   "cell_type": "code",
   "execution_count": 6,
   "metadata": {},
   "outputs": [],
   "source": [
    "n_e = 1.4e19\n",
    "T_e = 1.6\n",
    "m_i = nrm.PROTON_MASS\n",
    "B = 0.8\n",
    "theta = np.radians(10)\n",
    "q = 1"
   ]
  },
  {
   "cell_type": "code",
   "execution_count": 22,
   "metadata": {},
   "outputs": [],
   "source": [
    "n_e = 1.4e20\n",
    "T_e = 1.6\n",
    "m_i = nrm.ATOMIC_MASS_UNIT * 1.007825032241\n",
    "m_i2 = 900 * nrm.ELECTRON_MASS\n",
    "B = 0.8\n",
    "theta = np.radians(10)\n",
    "q = 1\n",
    "\n",
    "K = np.sqrt(m_i2/m_i)"
   ]
  },
  {
   "cell_type": "markdown",
   "metadata": {},
   "source": [
    "**Sam's MAST-U Parameters**"
   ]
  },
  {
   "cell_type": "code",
   "execution_count": 12,
   "metadata": {},
   "outputs": [],
   "source": [
    "n_e = 6.85395e18\n",
    "T_e = 6\n",
    "m_i = 900 * nrm.ELECTRON_MASS \n",
    "B = 0.431422\n",
    "theta = np.radians(12.566)\n",
    "q = 1"
   ]
  },
  {
   "cell_type": "code",
   "execution_count": 10,
   "metadata": {},
   "outputs": [],
   "source": [
    "n_e = 6.85395e18\n",
    "T_e = 6\n",
    "m_i = nrm.ATOMIC_MASS_UNIT * 1.007825032241 \n",
    "B = 0.431422\n",
    "theta = np.radians(12.566)\n",
    "q = 1"
   ]
  },
  {
   "cell_type": "markdown",
   "metadata": {},
   "source": [
    "**Calculations**"
   ]
  },
  {
   "cell_type": "code",
   "execution_count": 7,
   "metadata": {},
   "outputs": [
    {
     "name": "stdout",
     "output_type": "stream",
     "text": [
      "Ksi: 64.28335799964526\n",
      "Lambda_D: 2.513131094492255e-06\n",
      "Larmor: 0.000162 m\n",
      "Larmor: 0.162 mm\n",
      "1836.1526759556054\n",
      "64.28335799964526\n"
     ]
    }
   ],
   "source": [
    "debye = su.get_lambda_d(n_e, T_e)\n",
    "larmor = su.get_larmor_r(T_e, B, m_i, q)\n",
    "# larmor2 = su.get_larmor_r(T_e, B, m_i2, q)\n",
    "\n",
    "print('Ksi: {}'.format(su.get_ksi(n_e, T_e, q, m_i, B)))\n",
    "print('Lambda_D: {}'.format(debye))\n",
    "print('Larmor: {:.3g} m'.format(larmor))\n",
    "print('Larmor: {:.3g} mm'.format(larmor * 1000))\n",
    "# print('Larmor 2: {}'.format(larmor2))\n",
    "print(m_i / nrm.ELECTRON_MASS)\n",
    "print(larmor/debye)"
   ]
  },
  {
   "cell_type": "code",
   "execution_count": 14,
   "metadata": {},
   "outputs": [
    {
     "name": "stdout",
     "output_type": "stream",
     "text": [
      "1837.152647174698\n"
     ]
    }
   ],
   "source": [
    "print((nrm.ATOMIC_MASS_UNIT * 1.007825032241 )/ nrm.ELECTRON_MASS)"
   ]
  },
  {
   "cell_type": "code",
   "execution_count": 24,
   "metadata": {},
   "outputs": [
    {
     "name": "stdout",
     "output_type": "stream",
     "text": [
      "m_i = 1.6735328121383672e-27\n",
      "m_i2 = 8.198445204e-28\n",
      "\n"
     ]
    }
   ],
   "source": [
    "print(\"m_i = {}\".format(m_i))\n",
    "print(\"m_i2 = {}\".format(m_i2))\n",
    "\n",
    "print()"
   ]
  },
  {
   "cell_type": "code",
   "execution_count": 25,
   "metadata": {},
   "outputs": [
    {
     "name": "stdout",
     "output_type": "stream",
     "text": [
      "0.699920370266958\n",
      "1.4e+20\n",
      "2.8577930067161963e+20\n"
     ]
    }
   ],
   "source": [
    "print(K)\n",
    "n_e2 = n_e / K**2\n",
    "print(n_e)\n",
    "print(n_e2)"
   ]
  },
  {
   "cell_type": "code",
   "execution_count": 5,
   "metadata": {},
   "outputs": [
    {
     "name": "stdout",
     "output_type": "stream",
     "text": [
      "0.05385083528242864\n",
      "203.28182692288445\n"
     ]
    }
   ],
   "source": [
    "probe_length = 3e-3\n",
    "pl_rho_ratio = larmor / probe_length\n",
    "print(pl_rho_ratio)\n",
    "print(larmor/debye)"
   ]
  },
  {
   "cell_type": "code",
   "execution_count": 27,
   "metadata": {},
   "outputs": [
    {
     "name": "stdout",
     "output_type": "stream",
     "text": [
      "0.05386549690520897\n",
      "203.33717316679704\n",
      "900.0 0.0011111111111111111\n",
      "0.002099761110800874 3774.9057346416807\n",
      "0.699920370266958\n"
     ]
    }
   ],
   "source": [
    "pl2 = probe_length * K\n",
    "dl2 = su.get_lambda_d(n_e2, T_e)\n",
    "ksi2 = larmor2/dl2\n",
    "mu = m_i2 / nrm.ELECTRON_MASS\n",
    "\n",
    "print(larmor2/pl2)\n",
    "print(larmor2/dl2)\n",
    "print(mu, 1/mu)\n",
    "print(pl2, pl2/dl2)\n",
    "print(K)\n"
   ]
  },
  {
   "cell_type": "code",
   "execution_count": null,
   "metadata": {},
   "outputs": [],
   "source": []
  }
 ],
 "metadata": {
  "kernelspec": {
   "display_name": "Python 3",
   "language": "python",
   "name": "python3"
  },
  "language_info": {
   "codemirror_mode": {
    "name": "ipython",
    "version": 3
   },
   "file_extension": ".py",
   "mimetype": "text/x-python",
   "name": "python",
   "nbconvert_exporter": "python",
   "pygments_lexer": "ipython3",
   "version": "3.7.2"
  }
 },
 "nbformat": 4,
 "nbformat_minor": 2
}
