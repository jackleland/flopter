{
 "cells": [
  {
   "cell_type": "code",
   "execution_count": 1,
   "metadata": {},
   "outputs": [],
   "source": [
    "%matplotlib tk\n",
    "import numpy as np\n",
    "import matplotlib.pyplot as plt\n",
    "import sys\n",
    "sys.path.append('/home/jleland/Coding/Projects/flopter')\n",
    "import splopter as spl\n",
    "import fitters as f\n",
    "import constants as c\n",
    "import animatplot as amp\n",
    "import glob\n",
    "import scipy.io as spio"
   ]
  },
  {
   "cell_type": "code",
   "execution_count": 2,
   "metadata": {},
   "outputs": [
    {
     "name": "stdout",
     "output_type": "stream",
     "text": [
      "59\n",
      "0 /home/jleland/Spice/spice2/bin/data_c/magnum/sprobe_1e19_nopadding1/sprobe_1e19_no001.2d.mat\n",
      "1 /home/jleland/Spice/spice2/bin/data_c/magnum/sprobe_1e19_nopadding1/sprobe_1e19_no002.2d.mat\n",
      "2 /home/jleland/Spice/spice2/bin/data_c/magnum/sprobe_1e19_nopadding1/sprobe_1e19_no003.2d.mat\n",
      "3 /home/jleland/Spice/spice2/bin/data_c/magnum/sprobe_1e19_nopadding1/sprobe_1e19_no004.2d.mat\n",
      "4 /home/jleland/Spice/spice2/bin/data_c/magnum/sprobe_1e19_nopadding1/sprobe_1e19_no005.2d.mat\n",
      "5 /home/jleland/Spice/spice2/bin/data_c/magnum/sprobe_1e19_nopadding1/sprobe_1e19_no006.2d.mat\n",
      "6 /home/jleland/Spice/spice2/bin/data_c/magnum/sprobe_1e19_nopadding1/sprobe_1e19_no007.2d.mat\n",
      "7 /home/jleland/Spice/spice2/bin/data_c/magnum/sprobe_1e19_nopadding1/sprobe_1e19_no008.2d.mat\n",
      "8 /home/jleland/Spice/spice2/bin/data_c/magnum/sprobe_1e19_nopadding1/sprobe_1e19_no009.2d.mat\n",
      "9 /home/jleland/Spice/spice2/bin/data_c/magnum/sprobe_1e19_nopadding1/sprobe_1e19_no010.2d.mat\n",
      "10 /home/jleland/Spice/spice2/bin/data_c/magnum/sprobe_1e19_nopadding1/sprobe_1e19_no011.2d.mat\n",
      "11 /home/jleland/Spice/spice2/bin/data_c/magnum/sprobe_1e19_nopadding1/sprobe_1e19_no012.2d.mat\n",
      "12 /home/jleland/Spice/spice2/bin/data_c/magnum/sprobe_1e19_nopadding1/sprobe_1e19_no013.2d.mat\n",
      "13 /home/jleland/Spice/spice2/bin/data_c/magnum/sprobe_1e19_nopadding1/sprobe_1e19_no014.2d.mat\n",
      "14 /home/jleland/Spice/spice2/bin/data_c/magnum/sprobe_1e19_nopadding1/sprobe_1e19_no015.2d.mat\n",
      "15 /home/jleland/Spice/spice2/bin/data_c/magnum/sprobe_1e19_nopadding1/sprobe_1e19_no016.2d.mat\n",
      "16 /home/jleland/Spice/spice2/bin/data_c/magnum/sprobe_1e19_nopadding1/sprobe_1e19_no017.2d.mat\n",
      "17 /home/jleland/Spice/spice2/bin/data_c/magnum/sprobe_1e19_nopadding1/sprobe_1e19_no018.2d.mat\n",
      "18 /home/jleland/Spice/spice2/bin/data_c/magnum/sprobe_1e19_nopadding1/sprobe_1e19_no019.2d.mat\n",
      "19 /home/jleland/Spice/spice2/bin/data_c/magnum/sprobe_1e19_nopadding1/sprobe_1e19_no020.2d.mat\n",
      "20 /home/jleland/Spice/spice2/bin/data_c/magnum/sprobe_1e19_nopadding1/sprobe_1e19_no021.2d.mat\n",
      "21 /home/jleland/Spice/spice2/bin/data_c/magnum/sprobe_1e19_nopadding1/sprobe_1e19_no022.2d.mat\n",
      "22 /home/jleland/Spice/spice2/bin/data_c/magnum/sprobe_1e19_nopadding1/sprobe_1e19_no023.2d.mat\n",
      "23 /home/jleland/Spice/spice2/bin/data_c/magnum/sprobe_1e19_nopadding1/sprobe_1e19_no024.2d.mat\n",
      "24 /home/jleland/Spice/spice2/bin/data_c/magnum/sprobe_1e19_nopadding1/sprobe_1e19_no025.2d.mat\n",
      "25 /home/jleland/Spice/spice2/bin/data_c/magnum/sprobe_1e19_nopadding1/sprobe_1e19_no026.2d.mat\n",
      "26 /home/jleland/Spice/spice2/bin/data_c/magnum/sprobe_1e19_nopadding1/sprobe_1e19_no027.2d.mat\n",
      "27 /home/jleland/Spice/spice2/bin/data_c/magnum/sprobe_1e19_nopadding1/sprobe_1e19_no028.2d.mat\n",
      "28 /home/jleland/Spice/spice2/bin/data_c/magnum/sprobe_1e19_nopadding1/sprobe_1e19_no029.2d.mat\n",
      "29 /home/jleland/Spice/spice2/bin/data_c/magnum/sprobe_1e19_nopadding1/sprobe_1e19_no030.2d.mat\n",
      "30 /home/jleland/Spice/spice2/bin/data_c/magnum/sprobe_1e19_nopadding1/sprobe_1e19_no031.2d.mat\n",
      "31 /home/jleland/Spice/spice2/bin/data_c/magnum/sprobe_1e19_nopadding1/sprobe_1e19_no032.2d.mat\n",
      "32 /home/jleland/Spice/spice2/bin/data_c/magnum/sprobe_1e19_nopadding1/sprobe_1e19_no033.2d.mat\n",
      "33 /home/jleland/Spice/spice2/bin/data_c/magnum/sprobe_1e19_nopadding1/sprobe_1e19_no034.2d.mat\n",
      "34 /home/jleland/Spice/spice2/bin/data_c/magnum/sprobe_1e19_nopadding1/sprobe_1e19_no035.2d.mat\n",
      "35 /home/jleland/Spice/spice2/bin/data_c/magnum/sprobe_1e19_nopadding1/sprobe_1e19_no036.2d.mat\n",
      "36 /home/jleland/Spice/spice2/bin/data_c/magnum/sprobe_1e19_nopadding1/sprobe_1e19_no037.2d.mat\n",
      "37 /home/jleland/Spice/spice2/bin/data_c/magnum/sprobe_1e19_nopadding1/sprobe_1e19_no038.2d.mat\n",
      "38 /home/jleland/Spice/spice2/bin/data_c/magnum/sprobe_1e19_nopadding1/sprobe_1e19_no039.2d.mat\n",
      "39 /home/jleland/Spice/spice2/bin/data_c/magnum/sprobe_1e19_nopadding1/sprobe_1e19_no040.2d.mat\n",
      "40 /home/jleland/Spice/spice2/bin/data_c/magnum/sprobe_1e19_nopadding1/sprobe_1e19_no041.2d.mat\n",
      "41 /home/jleland/Spice/spice2/bin/data_c/magnum/sprobe_1e19_nopadding1/sprobe_1e19_no042.2d.mat\n",
      "42 /home/jleland/Spice/spice2/bin/data_c/magnum/sprobe_1e19_nopadding1/sprobe_1e19_no043.2d.mat\n",
      "43 /home/jleland/Spice/spice2/bin/data_c/magnum/sprobe_1e19_nopadding1/sprobe_1e19_no044.2d.mat\n",
      "44 /home/jleland/Spice/spice2/bin/data_c/magnum/sprobe_1e19_nopadding1/sprobe_1e19_no045.2d.mat\n",
      "45 /home/jleland/Spice/spice2/bin/data_c/magnum/sprobe_1e19_nopadding1/sprobe_1e19_no046.2d.mat\n",
      "46 /home/jleland/Spice/spice2/bin/data_c/magnum/sprobe_1e19_nopadding1/sprobe_1e19_no047.2d.mat\n",
      "47 /home/jleland/Spice/spice2/bin/data_c/magnum/sprobe_1e19_nopadding1/sprobe_1e19_no048.2d.mat\n",
      "48 /home/jleland/Spice/spice2/bin/data_c/magnum/sprobe_1e19_nopadding1/sprobe_1e19_no049.2d.mat\n",
      "49 /home/jleland/Spice/spice2/bin/data_c/magnum/sprobe_1e19_nopadding1/sprobe_1e19_no050.2d.mat\n",
      "50 /home/jleland/Spice/spice2/bin/data_c/magnum/sprobe_1e19_nopadding1/sprobe_1e19_no051.2d.mat\n",
      "51 /home/jleland/Spice/spice2/bin/data_c/magnum/sprobe_1e19_nopadding1/sprobe_1e19_no052.2d.mat\n",
      "52 /home/jleland/Spice/spice2/bin/data_c/magnum/sprobe_1e19_nopadding1/sprobe_1e19_no053.2d.mat\n",
      "53 /home/jleland/Spice/spice2/bin/data_c/magnum/sprobe_1e19_nopadding1/sprobe_1e19_no054.2d.mat\n",
      "54 /home/jleland/Spice/spice2/bin/data_c/magnum/sprobe_1e19_nopadding1/sprobe_1e19_no055.2d.mat\n",
      "55 /home/jleland/Spice/spice2/bin/data_c/magnum/sprobe_1e19_nopadding1/sprobe_1e19_no056.2d.mat\n",
      "56 /home/jleland/Spice/spice2/bin/data_c/magnum/sprobe_1e19_nopadding1/sprobe_1e19_no057.2d.mat\n",
      "57 /home/jleland/Spice/spice2/bin/data_c/magnum/sprobe_1e19_nopadding1/sprobe_1e19_no058.2d.mat\n",
      "58 /home/jleland/Spice/spice2/bin/data_c/magnum/sprobe_1e19_nopadding1/sprobe_1e19_no059.2d.mat\n"
     ]
    }
   ],
   "source": [
    "# run_dir = '/home/jleland/Spice/spice2/bin/data_c/tests/2ddumptest_halfnogap1/'\n",
    "run_dir = '/home/jleland/Spice/spice2/bin/data_c/magnum/sprobe_1e19_nopadding1/'\n",
    "dump_files = glob.glob(run_dir + '*.2d.mat')    \n",
    "dump_files.sort()\n",
    "\n",
    "print(len(dump_files))\n",
    "\n",
    "# Uncomment to print list of dump files\n",
    "for i, d in enumerate(dump_files):\n",
    "    print(i, d)"
   ]
  },
  {
   "cell_type": "code",
   "execution_count": 3,
   "metadata": {},
   "outputs": [
    {
     "name": "stdout",
     "output_type": "stream",
     "text": [
      "dict_keys(['__header__', '__version__', '__globals__', 'version', 'nspec', 'Nz', 'Ny', 'Np', 'Epar', 'Eperp', 'Potav', 'Pot', 'Potvac', 'dens01', 'temperature01', 'dens02', 'temperature02'])\n"
     ]
    }
   ],
   "source": [
    "test_dump = spio.loadmat(dump_files[0])\n",
    "\n",
    "print(test_dump.keys())\n",
    "\n",
    "plt.figure()\n",
    "plt.pcolormesh(test_dump['Pot'])\n",
    "plt.show()"
   ]
  },
  {
   "cell_type": "code",
   "execution_count": 6,
   "metadata": {},
   "outputs": [
    {
     "name": "stdout",
     "output_type": "stream",
     "text": [
      "Loading file 0 of 59\n",
      "Loading file 1 of 59\n",
      "Loading file 2 of 59\n",
      "Loading file 3 of 59\n",
      "Loading file 4 of 59\n",
      "Loading file 5 of 59\n",
      "Loading file 6 of 59\n",
      "Loading file 7 of 59\n",
      "Loading file 8 of 59\n",
      "Loading file 9 of 59\n",
      "Loading file 10 of 59\n",
      "Loading file 11 of 59\n",
      "Loading file 12 of 59\n",
      "Loading file 13 of 59\n",
      "Loading file 14 of 59\n",
      "Loading file 15 of 59\n",
      "Loading file 16 of 59\n",
      "Loading file 17 of 59\n",
      "Loading file 18 of 59\n",
      "Loading file 19 of 59\n",
      "Loading file 20 of 59\n",
      "Loading file 21 of 59\n",
      "Loading file 22 of 59\n",
      "Loading file 23 of 59\n",
      "Loading file 24 of 59\n",
      "Loading file 25 of 59\n",
      "Loading file 26 of 59\n",
      "Loading file 27 of 59\n",
      "Loading file 28 of 59\n",
      "Loading file 29 of 59\n",
      "Loading file 30 of 59\n",
      "Loading file 31 of 59\n",
      "Loading file 32 of 59\n",
      "Loading file 33 of 59\n",
      "Loading file 34 of 59\n",
      "Loading file 35 of 59\n",
      "Loading file 36 of 59\n",
      "Loading file 37 of 59\n",
      "Loading file 38 of 59\n",
      "Loading file 39 of 59\n",
      "Loading file 40 of 59\n",
      "Loading file 41 of 59\n",
      "Loading file 42 of 59\n",
      "Loading file 43 of 59\n",
      "Loading file 44 of 59\n",
      "Loading file 45 of 59\n",
      "Loading file 46 of 59\n",
      "Loading file 47 of 59\n",
      "Loading file 48 of 59\n",
      "Loading file 49 of 59\n",
      "Loading file 50 of 59\n",
      "Loading file 51 of 59\n",
      "Loading file 52 of 59\n",
      "Loading file 53 of 59\n",
      "Loading file 54 of 59\n",
      "Loading file 55 of 59\n",
      "Loading file 56 of 59\n",
      "Loading file 57 of 59\n",
      "Loading file 58 of 59\n",
      "[('Pot', 59)]\n"
     ]
    }
   ],
   "source": [
    "import gc\n",
    "\n",
    "# dumps = {'Pot': [], 'dens01':[]}\n",
    "dumps = {'Pot': []}\n",
    "\n",
    "for i, dump in enumerate(dump_files):\n",
    "    print(f'Loading file {i} of {len(dump_files)}')\n",
    "    full_dump = spio.loadmat(dump)\n",
    "    for key, data in dumps.items():\n",
    "        data.append(full_dump[key])\n",
    "    del full_dump\n",
    "    gc.collect()\n",
    "        \n",
    "print([(key, len(data)) for key, data in dumps.items()])"
   ]
  },
  {
   "cell_type": "code",
   "execution_count": 7,
   "metadata": {},
   "outputs": [],
   "source": [
    "t = np.linspace(0, 2, len(dumps['Pot']))\n",
    "timeline_default = amp.Timeline(t, units='s', fps=10)"
   ]
  },
  {
   "cell_type": "code",
   "execution_count": 8,
   "metadata": {},
   "outputs": [
    {
     "name": "stdout",
     "output_type": "stream",
     "text": [
      "59 59\n"
     ]
    }
   ],
   "source": [
    "pot_block = amp.blocks.Imshow(dumps['Pot'])\n",
    "print(len(pot_block), len(dumps['Pot']))\n",
    "anim = amp.Animation([pot_block])\n",
    "anim.controls()\n",
    "# anim.save_gif('~/Data/test')\n",
    "plt.show()"
   ]
  },
  {
   "cell_type": "code",
   "execution_count": 101,
   "metadata": {},
   "outputs": [
    {
     "name": "stdout",
     "output_type": "stream",
     "text": [
      "21 21\n"
     ]
    }
   ],
   "source": [
    "dens_block = amp.blocks.Imshow(dumps['dens02'])\n",
    "print(len(dens_block), len(dumps['dens02']))\n",
    "anim = amp.Animation([dens_block], timeline)\n",
    "anim.controls()\n",
    "# anim.save_gif('~/Data/test')\n",
    "plt.show()"
   ]
  },
  {
   "cell_type": "code",
   "execution_count": 92,
   "metadata": {},
   "outputs": [],
   "source": [
    "def make_animation(var, timeline=None):\n",
    "    if timeline is None:\n",
    "        timeline = timeline_default\n",
    "    var_block = amp.blocks.Imshow(dumps[var])\n",
    "    anim = amp.Animation([var_block], timeline)\n",
    "    anim.controls()\n",
    "    # anim.save_gif('~/Data/test')\n",
    "    plt.show()"
   ]
  },
  {
   "cell_type": "code",
   "execution_count": 94,
   "metadata": {},
   "outputs": [],
   "source": [
    "make_animation('Pot')"
   ]
  },
  {
   "cell_type": "code",
   "execution_count": null,
   "metadata": {},
   "outputs": [],
   "source": []
  }
 ],
 "metadata": {
  "kernelspec": {
   "display_name": "magopter_kernel_3.6.5",
   "language": "python",
   "name": "magopter_kernel_3.6.5"
  },
  "language_info": {
   "codemirror_mode": {
    "name": "ipython",
    "version": 3
   },
   "file_extension": ".py",
   "mimetype": "text/x-python",
   "name": "python",
   "nbconvert_exporter": "python",
   "pygments_lexer": "ipython3",
   "version": "3.6.5"
  }
 },
 "nbformat": 4,
 "nbformat_minor": 2
}
