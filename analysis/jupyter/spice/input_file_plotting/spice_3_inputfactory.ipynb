{
 "cells": [
  {
   "cell_type": "code",
   "execution_count": 2,
   "metadata": {},
   "outputs": [],
   "source": [
    "%matplotlib tk\n",
    "import numpy as np\n",
    "import matplotlib.pyplot as plt\n",
    "import sys\n",
    "sys.path.append('/home/jleland/coding/projects/flopter')\n",
    "\n",
    "import flopter.spice.splopter as spl\n",
    "import flopter.spice.tdata as td\n",
    "import flopter.spice.inputparser as inp\n",
    "import flopter.core.ivdata as iv\n",
    "import flopter.core.fitters as fts\n",
    "import flopter.core.fitdata as fd\n",
    "import flopter.core.lputils as lpu\n",
    "import flopter.core.constants as c\n",
    "from flopter.spice.inputfactory import SimulationParameters, Simulation2DGeometry, Simulation3DGeometry"
   ]
  },
  {
   "cell_type": "code",
   "execution_count": 3,
   "metadata": {},
   "outputs": [],
   "source": [
    "flush_probe = lpu.AngledTipProbe(a=5e-3, b=5e-3, L=5e-3, g=1e-3, d_perp=0.0, theta_f=0., \n",
    "                                 theta_p=np.radians(0.0))\n",
    "angled_probe = lpu.AngledTipProbe(a=5e-3, b=5e-3, L=5e-3, g=1e-3, d_perp=0.0, theta_f=0., \n",
    "                                  theta_p=np.radians(10.0))\n",
    "recessed_probe = lpu.AngledTipProbe(a=5e-3, b=5e-3, L=5e-3, g=1e-3, d_perp=3e-4, theta_f=0., \n",
    "                                    theta_p=np.radians(10.0))"
   ]
  },
  {
   "cell_type": "code",
   "execution_count": 4,
   "metadata": {},
   "outputs": [],
   "source": [
    "r_probe = lpu.MagnumProbes().probe_r\n",
    "s_probe = lpu.MagnumProbes().probe_s\n",
    "l_probe = lpu.MagnumProbes().probe_l  # rearwall probe"
   ]
  },
  {
   "cell_type": "code",
   "execution_count": 5,
   "metadata": {},
   "outputs": [],
   "source": [
    "half_flush_probe = lpu.AngledTipProbe(a=2.5e-3, b=2.5e-3, L=2.5e-3, g=5e-4, d_perp=0.0, theta_f=0.,\n",
    "                                      theta_p=np.radians(0.0))\n",
    "half_angled_probe = lpu.AngledTipProbe(a=2.5e-3, b=2.5e-3, L=2.5e-3, g=5e-4, d_perp=0.0, theta_f=0.,\n",
    "                                       theta_p=np.radians(10.0))\n",
    "half_recessed_probe = lpu.AngledTipProbe(a=2.5e-3, b=2.5e-3, L=2.5e-3, g=5e-4, d_perp=1.5e-4, theta_f=0.,\n",
    "                                         theta_p=np.radians(10.0))"
   ]
  },
  {
   "cell_type": "markdown",
   "metadata": {},
   "source": [
    "## Deciding the shape of the 3D angled sim"
   ]
  },
  {
   "cell_type": "code",
   "execution_count": 9,
   "metadata": {},
   "outputs": [],
   "source": [
    "pad = True\n",
    "simulation_parameters = SimulationParameters(1e18, 10, 900, 1, 1.0, np.radians(4.0))\n"
   ]
  },
  {
   "cell_type": "code",
   "execution_count": 10,
   "metadata": {},
   "outputs": [
    {
     "name": "stdout",
     "output_type": "stream",
     "text": [
      "\n",
      " - Flush:\n",
      "Ion mass: 8.198445204e-28kg\n",
      "Ion temperature: 10.0eV\n",
      "\n",
      "\n",
      "Ksi: 9.622576756892581\n",
      "Lambda_D: 2.3508188809095565e-05\n",
      "Larmor: 0.226 mm\n",
      "Mass Ratio: 900\n",
      "\n",
      "r_Li/L: \t0.04524187024620905\n",
      "r_Li/lambda_D: \t9.622576756892581\n",
      "L/lambda_D: \t212.6918428554329\n",
      "\n",
      "\n",
      "\n",
      " - Half-flush:\n",
      "Ion mass: 8.198445204e-28kg\n",
      "Ion temperature: 10.0eV\n",
      "\n",
      "\n",
      "Ksi: 9.622576756892581\n",
      "Lambda_D: 2.3508188809095565e-05\n",
      "Larmor: 0.226 mm\n",
      "Mass Ratio: 900\n",
      "\n",
      "r_Li/L: \t0.0904837404924181\n",
      "r_Li/lambda_D: \t9.622576756892581\n",
      "L/lambda_D: \t106.34592142771645\n",
      "\n",
      "\n",
      "\n",
      " - Half-angled:\n",
      "Ion mass: 8.198445204e-28kg\n",
      "Ion temperature: 10.0eV\n",
      "\n",
      "\n",
      "Ksi: 9.622576756892581\n",
      "Lambda_D: 2.3508188809095565e-05\n",
      "Larmor: 0.226 mm\n",
      "Mass Ratio: 900\n",
      "\n",
      "r_Li/L: \t0.0904837404924181\n",
      "r_Li/lambda_D: \t9.622576756892581\n",
      "L/lambda_D: \t106.34592142771645\n",
      "\n",
      "\n",
      "\n",
      " - Half-recessed:\n",
      "Ion mass: 8.198445204e-28kg\n",
      "Ion temperature: 10.0eV\n",
      "\n",
      "\n",
      "Ksi: 9.622576756892581\n",
      "Lambda_D: 2.3508188809095565e-05\n",
      "Larmor: 0.226 mm\n",
      "Mass Ratio: 900\n",
      "\n",
      "r_Li/L: \t0.0904837404924181\n",
      "r_Li/lambda_D: \t9.622576756892581\n",
      "L/lambda_D: \t106.34592142771645\n",
      "\n",
      "\n"
     ]
    },
    {
     "data": {
      "text/plain": [
       "(2.3508188809095565e-05,\n",
       " 0.00022620935123104525,\n",
       " array([0.]),\n",
       " 0.0011310467561552262)"
      ]
     },
     "execution_count": 10,
     "metadata": {},
     "output_type": "execute_result"
    }
   ],
   "source": [
    "print('\\n - Flush:')\n",
    "simulation_parameters.calculate_plasma_params(flush_probe, print_fl=True)\n",
    "\n",
    "print('\\n - Half-flush:')\n",
    "simulation_parameters.calculate_plasma_params(half_flush_probe, print_fl=True)\n",
    "\n",
    "print('\\n - Half-angled:')\n",
    "simulation_parameters.calculate_plasma_params(half_angled_probe, print_fl=True)\n",
    "\n",
    "print('\\n - Half-recessed:')\n",
    "simulation_parameters.calculate_plasma_params(half_recessed_probe, print_fl=True)"
   ]
  },
  {
   "cell_type": "code",
   "execution_count": 11,
   "metadata": {},
   "outputs": [
    {
     "data": {
      "text/plain": [
       "<matplotlib.legend.Legend at 0x7fb480b289b0>"
      ]
     },
     "execution_count": 11,
     "metadata": {},
     "output_type": "execute_result"
    }
   ],
   "source": [
    "fig, ax = plt.subplots(2, 3, sharex=True, figsize=[10, 6])\n",
    "simulation_parameters.plot_angular_dependence(flush_probe, ax=ax[:, 0], label='flush')\n",
    "simulation_parameters.plot_angular_dependence(half_flush_probe, ax=ax[:, 0], label='half-flush')\n",
    "simulation_parameters.plot_angular_dependence(angled_probe, ax=ax[:, 1], label='angled')\n",
    "simulation_parameters.plot_angular_dependence(half_angled_probe, ax=ax[:, 1], label='half-angled')\n",
    "simulation_parameters.plot_angular_dependence(recessed_probe, ax=ax[:, 2], label='recessed')\n",
    "simulation_parameters.plot_angular_dependence(half_recessed_probe, ax=ax[:, 2], label='half-recessed')\n",
    "ax[0, 0].legend()\n",
    "ax[0, 1].legend()\n",
    "ax[0, 2].legend()\n",
    "ax[1, 0].legend()\n",
    "ax[1, 1].legend()\n",
    "ax[1, 2].legend()"
   ]
  },
  {
   "cell_type": "code",
   "execution_count": 16,
   "metadata": {},
   "outputs": [
    {
     "name": "stdout",
     "output_type": "stream",
     "text": [
      "Sim width: 512\n",
      "Sim height: 128\n",
      "\n",
      "Forewall y: [0,108]\n",
      "Forewall z: [0,29]\n",
      "\n",
      "Rearwall y: [404,512]\n",
      "Rearwall z: [0,29]\n",
      "\n",
      "Probe body y: [150,362]\n",
      "Probe body z: [0,29]\n",
      "\n",
      "\n",
      "\n",
      "Sim width: 256\n",
      "Sim height: 128\n",
      "\n",
      "Forewall y: [0,54]\n",
      "Forewall z: [0,28]\n",
      "\n",
      "Rearwall y: [202,256]\n",
      "Rearwall z: [0,28]\n",
      "\n",
      "Probe body y: [75,181]\n",
      "Probe body z: [0,28]\n",
      "\n",
      "\n",
      "\n",
      "Sim width: 1024\n",
      "Sim height: 128\n",
      "\n",
      "Forewall y: [0,92]\n",
      "Forewall z: [0,29]\n",
      "\n",
      "Rearwall y: [388,1024]\n",
      "Rearwall z: [0,29]\n",
      "\n",
      "Probe body y: [134,346]\n",
      "Probe body z: [0,29]\n",
      "\n",
      "Probe tip y: [134,346,346]\n",
      "Probe tip z: [29,29,66]\n",
      "\n",
      "\n",
      "\n",
      "Sim width: 1024\n",
      "Sim height: 128\n",
      "\n",
      "Forewall y: [0,291]\n",
      "Forewall z: [0,28]\n",
      "\n",
      "Rearwall y: [440,1024]\n",
      "Rearwall z: [0,28]\n",
      "\n",
      "Probe body y: [312,418]\n",
      "Probe body z: [0,28]\n",
      "\n",
      "Probe tip y: [312,418,418]\n",
      "Probe tip z: [28,28,46]\n",
      "\n",
      "\n",
      "\n",
      "Sim width: 1024\n",
      "Sim height: 128\n",
      "\n",
      "Forewall y: [0,181]\n",
      "Forewall z: [0,39]\n",
      "\n",
      "Rearwall y: [477,1024]\n",
      "Rearwall z: [0,39]\n",
      "\n",
      "Probe body y: [223,435]\n",
      "Probe body z: [0,27]\n",
      "\n",
      "Probe tip y: [223,435,435]\n",
      "Probe tip z: [27,27,64]\n",
      "\n",
      "\n",
      "\n",
      "Sim width: 512\n",
      "Sim height: 128\n",
      "\n",
      "Forewall y: [0,78]\n",
      "Forewall z: [0,33]\n",
      "\n",
      "Rearwall y: [227,512]\n",
      "Rearwall z: [0,33]\n",
      "\n",
      "Probe body y: [99,205]\n",
      "Probe body z: [0,27]\n",
      "\n",
      "Probe tip y: [99,205,205]\n",
      "Probe tip z: [27,27,45]\n",
      "\n",
      "\n",
      "\n"
     ]
    }
   ],
   "source": [
    "fig, ax = plt.subplots(2, 3, sharex=False, sharey=False, figsize=[10, 6])\n",
    "\n",
    "flush_probe_sim = Simulation2DGeometry(flush_probe, simulation_parameters, padded_fl=pad, rearwall=False,\n",
    "                                       rearwall_shadow_fl=True)\n",
    "flush_probe_sim.plot(ax[0, 0], probe_colour='b', line_colour='k')\n",
    "flush_probe_sim.print_objects_sizes()\n",
    "\n",
    "half_flush_probe_sim = Simulation2DGeometry(half_flush_probe, simulation_parameters, padded_fl=pad, rearwall=False,\n",
    "                                            rearwall_shadow_fl=True)\n",
    "half_flush_probe_sim.plot(ax[1, 0], probe_colour='b', line_colour='k')\n",
    "half_flush_probe_sim.print_objects_sizes()\n",
    "\n",
    "angle_probe_sim = Simulation2DGeometry(angled_probe, simulation_parameters, padded_fl=pad, rearwall=False,\n",
    "                                       rearwall_shadow_fl=True)\n",
    "angle_probe_sim.plot(ax[0, 1], probe_colour='r', line_colour='k')\n",
    "angle_probe_sim.print_objects_sizes()\n",
    "\n",
    "half_angled_probe_sim = Simulation2DGeometry(half_angled_probe, simulation_parameters, padded_fl=pad, rearwall=False,\n",
    "                                             rearwall_shadow_fl=True)\n",
    "half_angled_probe_sim.plot(ax[1, 1], probe_colour='r', line_colour='k')\n",
    "half_angled_probe_sim.print_objects_sizes()\n",
    "\n",
    "recessed_probe_sim = Simulation2DGeometry(recessed_probe, simulation_parameters, padded_fl=pad, rearwall=False,\n",
    "                                          rearwall_shadow_fl=True)\n",
    "recessed_probe_sim.plot(ax[0, 2], probe_colour='r', line_colour='k')\n",
    "recessed_probe_sim.print_objects_sizes()\n",
    "\n",
    "half_recessed_probe_sim = Simulation2DGeometry(half_recessed_probe, simulation_parameters, padded_fl=pad,\n",
    "                                               rearwall=False,\n",
    "                                               rearwall_shadow_fl=True)\n",
    "half_recessed_probe_sim.plot(ax[1, 2], probe_colour='r', line_colour='k')\n",
    "half_recessed_probe_sim.print_objects_sizes()\n",
    "\n",
    "fig.tight_layout()"
   ]
  },
  {
   "cell_type": "code",
   "execution_count": 14,
   "metadata": {},
   "outputs": [],
   "source": [
    "sim_widths = []\n",
    "thetas = np.linspace(1,15,141)\n",
    "for theta in thetas:\n",
    "    sim_params = SimulationParameters(1e18, 10, 900, 1, 1.0, np.radians(theta))\n",
    "    sim_geom = Simulation2DGeometry(half_recessed_probe, sim_params, padded_fl=pad,\n",
    "                                    rearwall=False, rearwall_shadow_fl=True)\n",
    "    sim_widths.append(sim_geom.sim_width)\n"
   ]
  },
  {
   "cell_type": "code",
   "execution_count": 22,
   "metadata": {},
   "outputs": [],
   "source": [
    "fig, ax = plt.subplots(3, sharex=True, figsize=[6,6])\n",
    "\n",
    "simulation_parameters.plot_angular_dependence(half_flush_probe, ax=ax[1:3], \n",
    "                                              label='half-flush')\n",
    "ax[0].plot(thetas, sim_widths, color='tab:orange', label='half-angled')\n",
    "ax[0].set_ylabel(r'window width [$\\lambda_D$]')\n",
    "\n",
    "for axis in ax:\n",
    "    axis.axvline(x=4.3, **c.AX_LINE_DEFAULTS)\n",
    "    axis.legend()\n",
    "fig.tight_layout()"
   ]
  },
  {
   "cell_type": "code",
   "execution_count": 13,
   "metadata": {},
   "outputs": [
    {
     "data": {
      "text/plain": [
       "(<matplotlib.axes._subplots.AxesSubplot at 0x7fb4808dd7b8>,\n",
       " [<matplotlib.patches.Rectangle at 0x7fb47fb56400>,\n",
       "  <matplotlib.patches.Rectangle at 0x7fb47fb564e0>,\n",
       "  <matplotlib.patches.Rectangle at 0x7fb47fb56630>,\n",
       "  <matplotlib.patches.Rectangle at 0x7fb47fb56710>,\n",
       "  <matplotlib.patches.Polygon at 0x7fb47fb567f0>])"
      ]
     },
     "execution_count": 13,
     "metadata": {},
     "output_type": "execute_result"
    }
   ],
   "source": [
    "sim_params = SimulationParameters(1e18, 10, 900, 1, 1.0, np.radians(3))\n",
    "sim_geom = Simulation2DGeometry(half_recessed_probe, sim_params, padded_fl=False,\n",
    "                                rearwall=False, rearwall_shadow_fl=True)\n",
    "sim_geom.plot()\n"
   ]
  },
  {
   "cell_type": "code",
   "execution_count": 15,
   "metadata": {},
   "outputs": [
    {
     "name": "stdout",
     "output_type": "stream",
     "text": [
      "Sim width: 512\n",
      "Sim height: 128\n",
      "\n",
      "Forewall y: [0,78]\n",
      "Forewall z: [0,33]\n",
      "\n",
      "Rearwall y: [227,512]\n",
      "Rearwall z: [0,33]\n",
      "\n",
      "Probe body y: [99,205]\n",
      "Probe body z: [0,27]\n",
      "\n",
      "Probe tip y: [99,205,205]\n",
      "Probe tip z: [27,27,45]\n",
      "\n",
      "\n",
      "\n"
     ]
    }
   ],
   "source": [
    "fig, ax = plt.subplots()\n",
    "\n",
    "half_recessed_probe_sim = Simulation2DGeometry(half_recessed_probe, simulation_parameters, padded_fl=pad,\n",
    "                                               rearwall=False,\n",
    "                                               rearwall_shadow_fl=True)\n",
    "half_recessed_probe_sim.plot(ax, probe_colour='r', line_colour='k')\n",
    "half_recessed_probe_sim.print_objects_sizes()\n",
    "\n",
    "fig.tight_layout()"
   ]
  },
  {
   "cell_type": "markdown",
   "metadata": {},
   "source": [
    "## Deciding the shape of the 2D angled sim"
   ]
  },
  {
   "cell_type": "code",
   "execution_count": 8,
   "metadata": {},
   "outputs": [],
   "source": [
    "pad = False\n",
    "simulation_parameters = SimulationParameters(1e18, 5, 1836, 1, 0.8, np.radians(3.0))\n"
   ]
  },
  {
   "cell_type": "code",
   "execution_count": 8,
   "metadata": {},
   "outputs": [
    {
     "name": "stdout",
     "output_type": "stream",
     "text": [
      "\n",
      " - Flush:\n",
      "Ion mass: 1.672482821616e-27kg\n",
      "Ion temperature: 5.0eV\n",
      "\n",
      "\n",
      "Ksi: 17.179735801877086\n",
      "Lambda_D: 1.6622799720325184e-05\n",
      "Larmor: 0.286 mm\n",
      "Mass Ratio: 1836\n",
      "\n",
      "r_Li/L: \t0.057115061496540595\n",
      "r_Li/lambda_D: \t17.179735801877086\n",
      "L/lambda_D: \t300.7916887722803\n",
      "\n",
      "\n",
      "\n",
      " - Half-flush:\n",
      "Ion mass: 1.672482821616e-27kg\n",
      "Ion temperature: 5.0eV\n",
      "\n",
      "\n",
      "Ksi: 17.179735801877086\n",
      "Lambda_D: 1.6622799720325184e-05\n",
      "Larmor: 0.286 mm\n",
      "Mass Ratio: 1836\n",
      "\n",
      "r_Li/L: \t0.11423012299308119\n",
      "r_Li/lambda_D: \t17.179735801877086\n",
      "L/lambda_D: \t150.39584438614014\n",
      "\n",
      "\n",
      "\n",
      " - Half-angled:\n",
      "Ion mass: 1.672482821616e-27kg\n",
      "Ion temperature: 5.0eV\n",
      "\n",
      "\n",
      "Ksi: 17.179735801877086\n",
      "Lambda_D: 1.6622799720325184e-05\n",
      "Larmor: 0.286 mm\n",
      "Mass Ratio: 1836\n",
      "\n",
      "r_Li/L: \t0.11423012299308119\n",
      "r_Li/lambda_D: \t17.179735801877086\n",
      "L/lambda_D: \t150.39584438614014\n",
      "\n",
      "\n",
      "\n",
      " - Half-recessed:\n",
      "Ion mass: 1.672482821616e-27kg\n",
      "Ion temperature: 5.0eV\n",
      "\n",
      "\n",
      "Ksi: 17.179735801877086\n",
      "Lambda_D: 1.6622799720325184e-05\n",
      "Larmor: 0.286 mm\n",
      "Mass Ratio: 1836\n",
      "\n",
      "r_Li/L: \t0.11423012299308119\n",
      "r_Li/lambda_D: \t17.179735801877086\n",
      "L/lambda_D: \t150.39584438614014\n",
      "\n",
      "\n"
     ]
    },
    {
     "data": {
      "text/plain": [
       "(1.6622799720325184e-05,\n",
       " 0.00028557530748270297,\n",
       " array([0.]),\n",
       " 0.001427876537413515)"
      ]
     },
     "execution_count": 8,
     "metadata": {},
     "output_type": "execute_result"
    }
   ],
   "source": [
    "print('\\n - Flush:')\n",
    "simulation_parameters.calculate_plasma_params(flush_probe, print_fl=True)\n",
    "\n",
    "print('\\n - Half-flush:')\n",
    "simulation_parameters.calculate_plasma_params(half_flush_probe, print_fl=True)\n",
    "\n",
    "print('\\n - Half-angled:')\n",
    "simulation_parameters.calculate_plasma_params(half_angled_probe, print_fl=True)\n",
    "\n",
    "print('\\n - Half-recessed:')\n",
    "simulation_parameters.calculate_plasma_params(half_recessed_probe, print_fl=True)"
   ]
  },
  {
   "cell_type": "code",
   "execution_count": 9,
   "metadata": {},
   "outputs": [
    {
     "name": "stderr",
     "output_type": "stream",
     "text": [
      "/home/jleland/coding/projects/flopter/flopter/core/lputils.py:175: RuntimeWarning: invalid value encountered in true_divide\n",
      "  / (np.sin(theta_p) + (np.tan(theta_perp) * np.cos(theta_p)))).clip(min=0)\n"
     ]
    },
    {
     "data": {
      "text/plain": [
       "<matplotlib.legend.Legend at 0x7fab5ca945f8>"
      ]
     },
     "execution_count": 9,
     "metadata": {},
     "output_type": "execute_result"
    }
   ],
   "source": [
    "fig, ax = plt.subplots(2, sharex=True, figsize=[10, 6])\n",
    "simulation_parameters.plot_angular_dependence(flush_probe, ax=ax, label='flush')\n",
    "simulation_parameters.plot_angular_dependence(angled_probe, ax=ax, label='angled')\n",
    "simulation_parameters.plot_angular_dependence(recessed_probe, ax=ax, label='recessed')\n",
    "ax[0].legend()\n",
    "ax[1].legend()\n"
   ]
  },
  {
   "cell_type": "code",
   "execution_count": 10,
   "metadata": {},
   "outputs": [],
   "source": [
    "fig, ax = plt.subplots(3, sharex=False, sharey=False, figsize=[6, 8])\n",
    "\n",
    "flush_probe_sim = Simulation2DGeometry(flush_probe, simulation_parameters, padded_fl=pad, rearwall=False,\n",
    "                                       rearwall_shadow_fl=True)\n",
    "flush_probe_sim.plot(ax[0], probe_colour='b', line_colour='k')\n",
    "# flush_probe_sim.print_objects_sizes()\n",
    "\n",
    "\n",
    "angle_probe_sim = Simulation2DGeometry(angled_probe, simulation_parameters, padded_fl=pad, rearwall=False,\n",
    "                                       rearwall_shadow_fl=True)\n",
    "angle_probe_sim.plot(ax[1], probe_colour='r', line_colour='k')\n",
    "# angle_probe_sim.print_objects_sizes()\n",
    "\n",
    "recessed_probe_sim = Simulation2DGeometry(recessed_probe, simulation_parameters, padded_fl=pad, rearwall=False,\n",
    "                                          rearwall_shadow_fl=True)\n",
    "recessed_probe_sim.plot(ax[2], probe_colour='r', line_colour='k')\n",
    "\n",
    "\n",
    "\n",
    "fig.tight_layout()"
   ]
  },
  {
   "cell_type": "markdown",
   "metadata": {},
   "source": [
    "### List of sim widths for recessed probe"
   ]
  },
  {
   "cell_type": "code",
   "execution_count": 15,
   "metadata": {},
   "outputs": [
    {
     "name": "stdout",
     "output_type": "stream",
     "text": [
      "[784, 688, 629, 558]\n"
     ]
    }
   ],
   "source": [
    "sim_widths = []\n",
    "# thetas = np.linspace(1, 15, 141)\n",
    "# thetas = [2.0, 3.0, 4.0, 5.0, 6.0, 8.0, 10.0, 12.0, 20.0, 30.0]\n",
    "# thetas = [2.0, 3.0, 4.0, 5.0, 6.0, 7.0, 8.0, 9.0, 10.0, 11.0, 12.0, 15.0, 20.0, 30.0]\n",
    "thetas = [7.0, 9.0, 11.0, 15.0]\n",
    "for theta in thetas:\n",
    "    sim_params = SimulationParameters(1e18, 5, 1836, 1, 0.8, np.radians(theta))\n",
    "    sim_geom = Simulation2DGeometry(recessed_probe, sim_params, padded_fl=pad,\n",
    "                                    rearwall=False, rearwall_shadow_fl=True)\n",
    "    sim_widths.append(sim_geom.sim_width)\n",
    "\n",
    "print(sim_widths)\n"
   ]
  },
  {
   "cell_type": "code",
   "execution_count": 14,
   "metadata": {},
   "outputs": [],
   "source": [
    "fig, ax = plt.subplots(3, sharex=True, figsize=[6,6])\n",
    "\n",
    "simulation_parameters.plot_angular_dependence(flush_probe, ax=ax[1:3], \n",
    "                                              label='half-flush')\n",
    "ax[0].plot(thetas, sim_widths, color='tab:orange', label='half-angled')\n",
    "ax[0].set_ylabel(r'window width [$\\lambda_D$]')\n",
    "\n",
    "for axis in ax:\n",
    "    axis.axvline(x=2.57, **c.AX_LINE_DEFAULTS)\n",
    "    axis.legend()\n",
    "fig.tight_layout()"
   ]
  },
  {
   "cell_type": "markdown",
   "metadata": {},
   "source": [
    "### List of sim widths for angled probe"
   ]
  },
  {
   "cell_type": "code",
   "execution_count": 6,
   "metadata": {},
   "outputs": [
    {
     "ename": "NameError",
     "evalue": "name 'pad' is not defined",
     "output_type": "error",
     "traceback": [
      "\u001b[0;31m---------------------------------------------------------------------------\u001b[0m",
      "\u001b[0;31mNameError\u001b[0m                                 Traceback (most recent call last)",
      "\u001b[0;32m<ipython-input-6-41da4f2dabd3>\u001b[0m in \u001b[0;36m<module>\u001b[0;34m\u001b[0m\n\u001b[1;32m      4\u001b[0m \u001b[0;32mfor\u001b[0m \u001b[0mtheta\u001b[0m \u001b[0;32min\u001b[0m \u001b[0mthetas\u001b[0m\u001b[0;34m:\u001b[0m\u001b[0;34m\u001b[0m\u001b[0;34m\u001b[0m\u001b[0m\n\u001b[1;32m      5\u001b[0m     \u001b[0msim_params\u001b[0m \u001b[0;34m=\u001b[0m \u001b[0mSimulationParameters\u001b[0m\u001b[0;34m(\u001b[0m\u001b[0;36m1e18\u001b[0m\u001b[0;34m,\u001b[0m \u001b[0;36m5\u001b[0m\u001b[0;34m,\u001b[0m \u001b[0;36m1836\u001b[0m\u001b[0;34m,\u001b[0m \u001b[0;36m1\u001b[0m\u001b[0;34m,\u001b[0m \u001b[0;36m0.8\u001b[0m\u001b[0;34m,\u001b[0m \u001b[0mnp\u001b[0m\u001b[0;34m.\u001b[0m\u001b[0mradians\u001b[0m\u001b[0;34m(\u001b[0m\u001b[0mtheta\u001b[0m\u001b[0;34m)\u001b[0m\u001b[0;34m)\u001b[0m\u001b[0;34m\u001b[0m\u001b[0;34m\u001b[0m\u001b[0m\n\u001b[0;32m----> 6\u001b[0;31m     sim_geom = Simulation2DGeometry(angled_probe, sim_params, padded_fl=pad,\n\u001b[0m\u001b[1;32m      7\u001b[0m                                     rearwall=False, rearwall_shadow_fl=True)\n\u001b[1;32m      8\u001b[0m     \u001b[0msim_widths\u001b[0m\u001b[0;34m.\u001b[0m\u001b[0mappend\u001b[0m\u001b[0;34m(\u001b[0m\u001b[0msim_geom\u001b[0m\u001b[0;34m.\u001b[0m\u001b[0msim_width\u001b[0m\u001b[0;34m)\u001b[0m\u001b[0;34m\u001b[0m\u001b[0;34m\u001b[0m\u001b[0m\n",
      "\u001b[0;31mNameError\u001b[0m: name 'pad' is not defined"
     ]
    }
   ],
   "source": [
    "sim_widths = []\n",
    "# thetas = np.linspace(1, 15, 141)\n",
    "thetas = [2.0, 3.0, 4.0, 5.0, 6.0, 8.0, 10.0, 12.0, 20.0, 30.0]\n",
    "for theta in thetas:\n",
    "    sim_params = SimulationParameters(1e18, 5, 1836, 1, 0.8, np.radians(theta))\n",
    "    sim_geom = Simulation2DGeometry(angled_probe, sim_params, padded_fl=pad,\n",
    "                                    rearwall=False, rearwall_shadow_fl=True)\n",
    "    sim_widths.append(sim_geom.sim_width)\n",
    "\n",
    "\n",
    "print(sim_widths)"
   ]
  },
  {
   "cell_type": "code",
   "execution_count": 16,
   "metadata": {},
   "outputs": [],
   "source": [
    "fig, ax = plt.subplots(3, sharex=True, figsize=[6,6])\n",
    "\n",
    "simulation_parameters.plot_angular_dependence(flush_probe, ax=ax[1:3], \n",
    "                                              label='half-flush')\n",
    "ax[0].plot(thetas, sim_widths, color='tab:orange', label='half-angled')\n",
    "ax[0].set_ylabel(r'window width [$\\lambda_D$]')\n",
    "\n",
    "for axis in ax:\n",
    "    axis.axvline(x=2.57, **c.AX_LINE_DEFAULTS)\n",
    "    axis.legend()\n",
    "fig.tight_layout()"
   ]
  },
  {
   "cell_type": "code",
   "execution_count": null,
   "metadata": {},
   "outputs": [],
   "source": []
  }
 ],
 "metadata": {
  "kernelspec": {
   "display_name": "python3.6-codac",
   "language": "python",
   "name": "python3.6-codac"
  },
  "language_info": {
   "codemirror_mode": {
    "name": "ipython",
    "version": 3
   },
   "file_extension": ".py",
   "mimetype": "text/x-python",
   "name": "python",
   "nbconvert_exporter": "python",
   "pygments_lexer": "ipython3",
   "version": "3.6.9"
  }
 },
 "nbformat": 4,
 "nbformat_minor": 4
}
