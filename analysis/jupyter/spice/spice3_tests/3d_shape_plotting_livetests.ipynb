{
 "cells": [
  {
   "cell_type": "markdown",
   "metadata": {},
   "source": [
    "# Testing the Triangloids in SPICE-3 Angled Probe Tip Sim\n",
    "This notebook was used to plot the output of spice-3 triangloids in teh simulation window of the angled-tip input file. "
   ]
  },
  {
   "cell_type": "code",
   "execution_count": 1,
   "metadata": {},
   "outputs": [],
   "source": [
    "%matplotlib tk\n",
    "import numpy as np\n",
    "import matplotlib.pyplot as plt\n",
    "import xarray as xr\n",
    "import pandas as pd\n",
    "import scipy.io as sio\n",
    "import sys\n",
    "import re\n",
    "import os\n",
    "import glob\n",
    "import copy\n",
    "import pathlib as pth\n",
    "import importlib\n",
    "sys.path.append('/home/jleland/Coding/Projects/flopter')\n",
    "import flopter.spice.splopter as spl\n",
    "import flopter.spice.tdata as td\n",
    "import flopter.spice.inputparser as inp\n",
    "import flopter.core.ivdata as iv\n",
    "import flopter.core.fitters as fts\n",
    "import flopter.core.fitdata as fd\n",
    "import flopter.core.lputils as lpu\n",
    "import flopter.core.constants as c"
   ]
  },
  {
   "cell_type": "code",
   "execution_count": 2,
   "metadata": {
    "pycharm": {
     "is_executing": false
    }
   },
   "outputs": [],
   "source": [
    "# test_dir = pth.Path('/home/jleland/data/external/spice/test/angled_test/')\n",
    "test_dir = pth.Path('/home/jleland/data/external/spice/test/recessed_test/')\n",
    "os.chdir(test_dir)"
   ]
  },
  {
   "cell_type": "code",
   "execution_count": 32,
   "metadata": {},
   "outputs": [
    {
     "name": "stdout",
     "output_type": "stream",
     "text": [
      "0 /home/jleland/data/external/spice/test/recessed_test/02_recessed_centralised\n",
      "1 /home/jleland/data/external/spice/test/recessed_test/01_recessed\n"
     ]
    }
   ],
   "source": [
    "test_run_names = list(test_dir.glob('*'))\n",
    "for i, trn in enumerate(test_run_names):\n",
    "    print(i, trn)"
   ]
  },
  {
   "cell_type": "code",
   "execution_count": 33,
   "metadata": {},
   "outputs": [
    {
     "data": {
      "text/plain": [
       "PosixPath('/home/jleland/data/external/spice/test/recessed_test/02_recessed_centralised')"
      ]
     },
     "execution_count": 33,
     "metadata": {},
     "output_type": "execute_result"
    }
   ],
   "source": [
    "lowdens_dir = test_run_names[0]\n",
    "lowdens_dir"
   ]
  },
  {
   "cell_type": "code",
   "execution_count": 34,
   "metadata": {
    "pycharm": {
     "is_executing": false
    }
   },
   "outputs": [],
   "source": [
    "non_standard_variables = {'objects', 'objectsenum', 'edges', 'Pot'}\n",
    "desired_variables = td.DEFAULT_REDUCED_DATASET | non_standard_variables"
   ]
  },
  {
   "cell_type": "code",
   "execution_count": 35,
   "metadata": {},
   "outputs": [
    {
     "name": "stdout",
     "output_type": "stream",
     "text": [
      "/home/jleland/data/external/spice/test/recessed_test/02_recessed_centralised/t-alpha_yz_-25.0.mat\n",
      "/home/jleland/data/external/spice/test/recessed_test/02_recessed_centralised/melange_1.slurm\n",
      "/home/jleland/data/external/spice/test/recessed_test/02_recessed_centralised/melange_0.slurm\n",
      "/home/jleland/data/external/spice/test/recessed_test/02_recessed_centralised/log.out\n",
      "/home/jleland/data/external/spice/test/recessed_test/02_recessed_centralised/log.err\n",
      "/home/jleland/data/external/spice/test/recessed_test/02_recessed_centralised/jobs.txt\n",
      "/home/jleland/data/external/spice/test/recessed_test/02_recessed_centralised/input.inp\n"
     ]
    }
   ],
   "source": [
    "for item in lowdens_dir.glob('*'):\n",
    "    print(item)"
   ]
  },
  {
   "cell_type": "code",
   "execution_count": 36,
   "metadata": {},
   "outputs": [],
   "source": [
    "datafile_oi = 't-alpha_yz_-25.0.mat'\n",
    "# tTfile_oi = 't-alpha_yz_-89.0T00.mat'\n",
    "\n",
    "# tdata = sio.loadmat(datafile_oi, variable_names=non_standard_variables)\n",
    "tdata = sio.loadmat(lowdens_dir / datafile_oi)\n",
    "# tTdata = sio.loadmat(lowdens_dir / tTfile_oi)"
   ]
  },
  {
   "cell_type": "code",
   "execution_count": 37,
   "metadata": {},
   "outputs": [
    {
     "name": "stdout",
     "output_type": "stream",
     "text": [
      "dict_keys(['__header__', '__version__', '__globals__', 'version', 'Nx', 'Ny', 'Nz', 'nospecies', 'procmax', 'historyntimes', 'count', 'Na', 'Np', 'Nc', 'Pot', 'Potvac', 'Ex', 'Ey', 'Ez', 'objects', 'edges', 'edgecharge', 'bcmatrix', 'snumber', 'objectscurrent', 'rho01', 'vx01', 'vy01', 'vz01', 'rho02', 'vx02', 'vy02', 'vz02'])\n"
     ]
    }
   ],
   "source": [
    "print(tdata.keys())\n",
    "# print(tTdata.keys())\n",
    "# print(tTdata['alphaxz'])\n",
    "# print(tTdata['alphayz'])"
   ]
  },
  {
   "cell_type": "code",
   "execution_count": 38,
   "metadata": {},
   "outputs": [
    {
     "name": "stdout",
     "output_type": "stream",
     "text": [
      "(257, 513, 129)\n",
      "(257, 513, 129)\n"
     ]
    }
   ],
   "source": [
    "print(tdata['edges'].shape)\n",
    "\n",
    "objectsenum = (tdata['objects'] > 0).astype(np.int64)\n",
    "print(objectsenum.shape)"
   ]
  },
  {
   "cell_type": "code",
   "execution_count": 39,
   "metadata": {},
   "outputs": [
    {
     "data": {
      "text/plain": [
       "<matplotlib.colorbar.Colorbar at 0x7f24c78cbe48>"
      ]
     },
     "execution_count": 39,
     "metadata": {},
     "output_type": "execute_result"
    }
   ],
   "source": [
    "fig, ax = plt.subplots()\n",
    "hand = ax.pcolormesh(objectsenum.sum(axis=2))\n",
    "ax.axis('scaled')\n",
    "ax.autoscale()\n",
    "fig.tight_layout()\n",
    "fig.colorbar(hand)"
   ]
  },
  {
   "cell_type": "code",
   "execution_count": 40,
   "metadata": {},
   "outputs": [],
   "source": [
    "fig, ax = plt.subplots(figsize=[8,4])\n",
    "\n",
    "ax.pcolormesh(np.transpose(objectsenum[128,:,:]))\n",
    "ax.axis('scaled')\n",
    "ax.autoscale()\n",
    "fig.tight_layout()"
   ]
  },
  {
   "cell_type": "code",
   "execution_count": 41,
   "metadata": {},
   "outputs": [],
   "source": [
    "fig, ax = plt.subplots(2, figsize=[10,10], sharex=True, sharey=True)\n",
    "\n",
    "ax[0].pcolormesh(np.transpose(objectsenum[128,:,:]))\n",
    "ax[1].pcolormesh(np.transpose(tdata['Pot'][128,:,:]))\n",
    "for i in range(2):\n",
    "    z_ext = 0.5\n",
    "#     ax[i].quiver(8, 120, 1, 1 * np.tan(tTdata['alphayz']), scale=0.000000000000000005)\n",
    "\n",
    "    ax[i].axis('scaled')\n",
    "    ax[i].autoscale()\n",
    "fig.tight_layout()\n"
   ]
  },
  {
   "cell_type": "code",
   "execution_count": 42,
   "metadata": {},
   "outputs": [
    {
     "name": "stdout",
     "output_type": "stream",
     "text": [
      "(1,)\n"
     ]
    },
    {
     "data": {
      "text/plain": [
       "[<matplotlib.lines.Line2D at 0x7f24c772e6a0>]"
      ]
     },
     "execution_count": 42,
     "metadata": {},
     "output_type": "execute_result"
    }
   ],
   "source": [
    "fig, ax = plt.subplots()\n",
    "\n",
    "print(tdata['objectscurrent'][0][0].shape)\n",
    "ax.plot(tdata['objectscurrent'][2][1])"
   ]
  },
  {
   "cell_type": "code",
   "execution_count": 43,
   "metadata": {},
   "outputs": [
    {
     "name": "stdout",
     "output_type": "stream",
     "text": [
      "(257, 513, 129)\n",
      "(257, 513)\n",
      "(257, 513)\n",
      "(257, 513)\n"
     ]
    },
    {
     "data": {
      "text/plain": [
       "<mpl_toolkits.mplot3d.art3d.Poly3DCollection at 0x7f24c76dd978>"
      ]
     },
     "execution_count": 43,
     "metadata": {},
     "output_type": "execute_result"
    }
   ],
   "source": [
    "from mpl_toolkits.mplot3d import Axes3D\n",
    "\n",
    "fig = plt.figure()\n",
    "ax = fig.gca(projection='3d')\n",
    "\n",
    "print(objectsenum.shape)\n",
    "\n",
    "X = np.arange(objectsenum.shape[0])\n",
    "Y = np.arange(objectsenum.shape[1])\n",
    "X, Y = np.meshgrid(Y, X)\n",
    "print(X.shape)\n",
    "print(Y.shape)\n",
    "print(objectsenum.sum(axis=2).shape)\n",
    "\n",
    "ax.plot_surface(X, Y, objectsenum.sum(axis=2))\n",
    "\n"
   ]
  },
  {
   "cell_type": "code",
   "execution_count": 44,
   "metadata": {},
   "outputs": [
    {
     "data": {
      "text/plain": [
       "<mpl_toolkits.mplot3d.art3d.Path3DCollection at 0x7f244d653710>"
      ]
     },
     "execution_count": 44,
     "metadata": {},
     "output_type": "execute_result"
    },
    {
     "name": "stderr",
     "output_type": "stream",
     "text": [
      "Exception in Tkinter callback\n",
      "Traceback (most recent call last):\n",
      "  File \"/home/jleland/.pyenv/versions/3.6.9/lib/python3.6/tkinter/__init__.py\", line 1705, in __call__\n",
      "    return self.func(*args)\n",
      "  File \"/home/jleland/.pyenv/versions/3.6.9/lib/python3.6/tkinter/__init__.py\", line 749, in callit\n",
      "    func(*args)\n",
      "  File \"/home/jleland/coding/environments/python3.6/lib/python3.6/site-packages/matplotlib/backends/_backend_tk.py\", line 338, in idle_draw\n",
      "    self.draw()\n",
      "  File \"/home/jleland/coding/environments/python3.6/lib/python3.6/site-packages/matplotlib/backends/backend_tkagg.py\", line 9, in draw\n",
      "    super(FigureCanvasTkAgg, self).draw()\n",
      "  File \"/home/jleland/coding/environments/python3.6/lib/python3.6/site-packages/matplotlib/backends/backend_agg.py\", line 388, in draw\n",
      "    self.figure.draw(self.renderer)\n",
      "  File \"/home/jleland/coding/environments/python3.6/lib/python3.6/site-packages/matplotlib/artist.py\", line 38, in draw_wrapper\n",
      "    return draw(artist, renderer, *args, **kwargs)\n",
      "  File \"/home/jleland/coding/environments/python3.6/lib/python3.6/site-packages/matplotlib/figure.py\", line 1709, in draw\n",
      "    renderer, self, artists, self.suppressComposite)\n",
      "  File \"/home/jleland/coding/environments/python3.6/lib/python3.6/site-packages/matplotlib/image.py\", line 135, in _draw_list_compositing_images\n",
      "    a.draw(renderer)\n",
      "  File \"/home/jleland/coding/environments/python3.6/lib/python3.6/site-packages/matplotlib/artist.py\", line 38, in draw_wrapper\n",
      "    return draw(artist, renderer, *args, **kwargs)\n",
      "  File \"/home/jleland/coding/environments/python3.6/lib/python3.6/site-packages/mpl_toolkits/mplot3d/axes3d.py\", line 309, in draw\n",
      "    super().draw(renderer)\n",
      "  File \"/home/jleland/coding/environments/python3.6/lib/python3.6/site-packages/matplotlib/artist.py\", line 38, in draw_wrapper\n",
      "    return draw(artist, renderer, *args, **kwargs)\n",
      "  File \"/home/jleland/coding/environments/python3.6/lib/python3.6/site-packages/matplotlib/axes/_base.py\", line 2647, in draw\n",
      "    mimage._draw_list_compositing_images(renderer, self, artists)\n",
      "  File \"/home/jleland/coding/environments/python3.6/lib/python3.6/site-packages/matplotlib/image.py\", line 135, in _draw_list_compositing_images\n",
      "    a.draw(renderer)\n",
      "  File \"/home/jleland/coding/environments/python3.6/lib/python3.6/site-packages/matplotlib/artist.py\", line 38, in draw_wrapper\n",
      "    return draw(artist, renderer, *args, **kwargs)\n",
      "  File \"/home/jleland/coding/environments/python3.6/lib/python3.6/site-packages/matplotlib/collections.py\", line 866, in draw\n",
      "    Collection.draw(self, renderer)\n",
      "  File \"/home/jleland/coding/environments/python3.6/lib/python3.6/site-packages/matplotlib/artist.py\", line 38, in draw_wrapper\n",
      "    return draw(artist, renderer, *args, **kwargs)\n",
      "  File \"/home/jleland/coding/environments/python3.6/lib/python3.6/site-packages/matplotlib/collections.py\", line 329, in draw\n",
      "    self._offset_position)\n",
      "  File \"/home/jleland/coding/environments/python3.6/lib/python3.6/site-packages/matplotlib/path.py\", line 197, in vertices\n",
      "    @property\n",
      "KeyboardInterrupt\n"
     ]
    }
   ],
   "source": [
    "fig = plt.figure()\n",
    "ax = fig.gca(projection='3d')\n",
    "\n",
    "xp = []\n",
    "yp = []\n",
    "zp = []\n",
    "\n",
    "for i in range(tdata['edges'].shape[0]):\n",
    "    for j in range(tdata['edges'].shape[1]):\n",
    "        for k in range(tdata['edges'].shape[2]):\n",
    "            if tdata['edges'][i,j,k]:\n",
    "                xp.append(i)\n",
    "                yp.append(j)\n",
    "                zp.append(k)\n",
    "\n",
    "ax.scatter(xp[::10], yp[::10], zp[::10])"
   ]
  },
  {
   "cell_type": "code",
   "execution_count": 26,
   "metadata": {},
   "outputs": [
    {
     "ename": "KeyboardInterrupt",
     "evalue": "",
     "output_type": "error",
     "traceback": [
      "\u001b[0;31m---------------------------------------------------------------------------\u001b[0m",
      "\u001b[0;31mKeyboardInterrupt\u001b[0m                         Traceback (most recent call last)",
      "\u001b[0;32m<ipython-input-26-7f2e79371aba>\u001b[0m in \u001b[0;36m<module>\u001b[0;34m\u001b[0m\n\u001b[1;32m      2\u001b[0m \u001b[0max\u001b[0m \u001b[0;34m=\u001b[0m \u001b[0mfig\u001b[0m\u001b[0;34m.\u001b[0m\u001b[0mgca\u001b[0m\u001b[0;34m(\u001b[0m\u001b[0mprojection\u001b[0m\u001b[0;34m=\u001b[0m\u001b[0;34m'3d'\u001b[0m\u001b[0;34m)\u001b[0m\u001b[0;34m\u001b[0m\u001b[0;34m\u001b[0m\u001b[0m\n\u001b[1;32m      3\u001b[0m \u001b[0;34m\u001b[0m\u001b[0m\n\u001b[0;32m----> 4\u001b[0;31m \u001b[0max\u001b[0m\u001b[0;34m.\u001b[0m\u001b[0mvoxels\u001b[0m\u001b[0;34m(\u001b[0m\u001b[0mtdata\u001b[0m\u001b[0;34m[\u001b[0m\u001b[0;34m'edges'\u001b[0m\u001b[0;34m]\u001b[0m\u001b[0;34m)\u001b[0m\u001b[0;34m\u001b[0m\u001b[0;34m\u001b[0m\u001b[0m\n\u001b[0m",
      "\u001b[0;32m~/coding/environments/python3.6/lib/python3.6/site-packages/mpl_toolkits/mplot3d/axes3d.py\u001b[0m in \u001b[0;36mvoxels\u001b[0;34m(self, facecolors, edgecolors, shade, lightsource, *args, **kwargs)\u001b[0m\n\u001b[1;32m   2919\u001b[0m                         \u001b[0;32mif\u001b[0m \u001b[0mfilled\u001b[0m\u001b[0;34m[\u001b[0m\u001b[0mi1\u001b[0m\u001b[0;34m]\u001b[0m \u001b[0;32mand\u001b[0m \u001b[0;32mnot\u001b[0m \u001b[0mfilled\u001b[0m\u001b[0;34m[\u001b[0m\u001b[0mi2\u001b[0m\u001b[0;34m]\u001b[0m\u001b[0;34m:\u001b[0m\u001b[0;34m\u001b[0m\u001b[0;34m\u001b[0m\u001b[0m\n\u001b[1;32m   2920\u001b[0m                             \u001b[0mvoxel_faces\u001b[0m\u001b[0;34m[\u001b[0m\u001b[0mi1\u001b[0m\u001b[0;34m]\u001b[0m\u001b[0;34m.\u001b[0m\u001b[0mappend\u001b[0m\u001b[0;34m(\u001b[0m\u001b[0mp2\u001b[0m \u001b[0;34m+\u001b[0m \u001b[0msquare_rot_pos\u001b[0m\u001b[0;34m)\u001b[0m\u001b[0;34m\u001b[0m\u001b[0;34m\u001b[0m\u001b[0m\n\u001b[0;32m-> 2921\u001b[0;31m                         \u001b[0;32melif\u001b[0m \u001b[0;32mnot\u001b[0m \u001b[0mfilled\u001b[0m\u001b[0;34m[\u001b[0m\u001b[0mi1\u001b[0m\u001b[0;34m]\u001b[0m \u001b[0;32mand\u001b[0m \u001b[0mfilled\u001b[0m\u001b[0;34m[\u001b[0m\u001b[0mi2\u001b[0m\u001b[0;34m]\u001b[0m\u001b[0;34m:\u001b[0m\u001b[0;34m\u001b[0m\u001b[0;34m\u001b[0m\u001b[0m\n\u001b[0m\u001b[1;32m   2922\u001b[0m                             \u001b[0mvoxel_faces\u001b[0m\u001b[0;34m[\u001b[0m\u001b[0mi2\u001b[0m\u001b[0;34m]\u001b[0m\u001b[0;34m.\u001b[0m\u001b[0mappend\u001b[0m\u001b[0;34m(\u001b[0m\u001b[0mp2\u001b[0m \u001b[0;34m+\u001b[0m \u001b[0msquare_rot_neg\u001b[0m\u001b[0;34m)\u001b[0m\u001b[0;34m\u001b[0m\u001b[0;34m\u001b[0m\u001b[0m\n\u001b[1;32m   2923\u001b[0m \u001b[0;34m\u001b[0m\u001b[0m\n",
      "\u001b[0;31mKeyboardInterrupt\u001b[0m: "
     ]
    }
   ],
   "source": [
    "fig = plt.figure()\n",
    "ax = fig.gca(projection='3d')\n",
    "\n",
    "ax.voxels(tdata['edges'])"
   ]
  },
  {
   "cell_type": "code",
   "execution_count": null,
   "metadata": {},
   "outputs": [],
   "source": []
  }
 ],
 "metadata": {
  "kernelspec": {
   "display_name": "python3.6-codac",
   "language": "python",
   "name": "python3.6-codac"
  },
  "language_info": {
   "codemirror_mode": {
    "name": "ipython",
    "version": 3
   },
   "file_extension": ".py",
   "mimetype": "text/x-python",
   "name": "python",
   "nbconvert_exporter": "python",
   "pygments_lexer": "ipython3",
   "version": "3.6.9"
  }
 },
 "nbformat": 4,
 "nbformat_minor": 4
}
