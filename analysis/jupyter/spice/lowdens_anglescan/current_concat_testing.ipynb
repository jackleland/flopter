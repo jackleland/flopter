{
 "cells": [
  {
   "cell_type": "markdown",
   "metadata": {},
   "source": [
    "#### 2019-12-17\n",
    "# Current/Bias Concatenation Testing Notebook\n",
    "\n",
    "\n",
    "This is the notebook primarily made for testing that the newly added concatenation methods in splopter are working as expected.\n"
   ]
  },
  {
   "cell_type": "code",
   "execution_count": 2,
   "metadata": {},
   "outputs": [],
   "source": [
    "%matplotlib tk\n",
    "import numpy as np\n",
    "import matplotlib.pyplot as plt\n",
    "import matplotlib as mpl\n",
    "import xarray as xr\n",
    "import pandas as pd\n",
    "import scipy.io as sio\n",
    "import sys\n",
    "import re\n",
    "import os\n",
    "import glob\n",
    "import copy\n",
    "import pathlib as pth\n",
    "import importlib\n",
    "sys.path.append('/home/jleland/Coding/Projects/flopter')\n",
    "import flopter.spice.splopter as spl\n",
    "import flopter.spice.tdata as td\n",
    "import flopter.spice.inputparser as inp\n",
    "import flopter.core.ivdata as iv\n",
    "import flopter.core.fitters as fts\n",
    "import flopter.core.fitdata as fd\n",
    "import flopter.core.lputils as lpu\n",
    "import flopter.core.constants as c"
   ]
  },
  {
   "cell_type": "markdown",
   "metadata": {},
   "source": [
    "## Paths and Matfile IO\n",
    "This section deals with file io and selecting the right .mat files. This needs to be run for the latter sections to work."
   ]
  },
  {
   "cell_type": "code",
   "execution_count": 3,
   "metadata": {
    "pycharm": {
     "is_executing": false
    }
   },
   "outputs": [],
   "source": [
    "# lowdens_dir = pth.Path('/home/jleland/Spice/spice2/bin/data_local_m2/lowdens_anglescan')\n",
    "lowdens_dir = pth.Path('/home/jleland/data/external/spice/')\n",
    "os.chdir(lowdens_dir)"
   ]
  },
  {
   "cell_type": "code",
   "execution_count": 4,
   "metadata": {
    "pycharm": {
     "is_executing": false
    }
   },
   "outputs": [
    {
     "name": "stdout",
     "output_type": "stream",
     "text": [
      "0.17453292519943295\n"
     ]
    }
   ],
   "source": [
    "lps = lpu.MagnumProbes()\n",
    "\n",
    "flush_probe = copy.deepcopy(lps.probe_l)\n",
    "flush_probe.theta_p = 0.0\n",
    "flush_probe.d_perp = 0.0\n",
    "\n",
    "angled_probe = copy.deepcopy(lps.probe_l)\n",
    "angled_probe.d_perp = 0.0\n",
    "print(angled_probe.theta_p)"
   ]
  },
  {
   "cell_type": "code",
   "execution_count": 5,
   "metadata": {},
   "outputs": [],
   "source": [
    "skippable_scans = {\n",
    "    'marconi/lowdens_anglescan/inpartest_as',\n",
    "    'marconi/lowdens_anglescan/angled_tiltscan_ext',\n",
    "    'marconi/lowdens_anglescan/sprobe_tiltscan',\n",
    "    'marconi/lowdens_anglescan/recessed_tiltscan',\n",
    "    'marconi/lowdens_anglescan/rearwall_tiltscan',\n",
    "}\n",
    "single_sims = {\n",
    "    'marconi/lowdens_anglescan/angled_1',\n",
    "}"
   ]
  },
  {
   "cell_type": "code",
   "execution_count": 6,
   "metadata": {
    "pycharm": {
     "is_executing": false
    }
   },
   "outputs": [],
   "source": [
    "# Assemble all folder names for the lowdens anglescans\n",
    "\n",
    "non_standard_variables = {'ProbePot', 'npartproc', 'Nz', 'Nzmax', 'Ny', 'count', 'Npc', 'snumber', 'nproc'}\n",
    "desired_variables = td.DEFAULT_REDUCED_DATASET | non_standard_variables\n",
    "\n",
    "# # UNCOMMENT IF YOU WANT THIS\n",
    "\n",
    "# scans_searchstr = '*/lowdens_anglescan/*'\n",
    "# # angles_search_str = '/*[!.{yml, inp}]/backup*'\n",
    "# angles_search_str = '/*[!.{yml, inp}]'\n",
    "\n",
    "# all_run_dirs = {}\n",
    "# scans = glob.glob(scans_searchstr)\n",
    "# scans = set(scans) - skippable_scans\n",
    "# for scan in scans:\n",
    "#     if scan in single_sims:\n",
    "#         print(f'Single sim {scan} found')\n",
    "#         all_run_dirs[scan] = [scan]\n",
    "#     else:\n",
    "#         all_run_dirs[scan] = glob.glob(scan + angles_search_str)\n",
    "    \n",
    "#     print(f'{scan}: {all_run_dirs[scan]}\\n')\n"
   ]
  },
  {
   "cell_type": "markdown",
   "metadata": {},
   "source": [
    "# Individual looks at simulations and backup reconstruction"
   ]
  },
  {
   "cell_type": "code",
   "execution_count": 18,
   "metadata": {},
   "outputs": [
    {
     "name": "stdout",
     "output_type": "stream",
     "text": [
      "\n",
      "\n",
      " --- Making concatted splopter ---\n",
      "WARNING: Encountered t-zeroing in /home/jleland/data/external/spice/marconi/lowdens_anglescan/recessed_tiltscan_redo/alpha_yz_-1.0/t-alpha_yz_-1.0.mat\n",
      "Looking for a suitable backup to use instead.\n",
      "Useable backup found at /home/jleland/data/external/spice/marconi/lowdens_anglescan/recessed_tiltscan_redo/alpha_yz_-1.0/backup_20191126-1416/t-alpha_yz_-1.0.mat\n",
      "Loading backup backup_20191126-1416 (1 of 5) for current and bias concatenation\n",
      "Loading backup backup_20191127-1127 (2 of 5) for current and bias concatenation\n",
      "Stripping head for backup 2 of 5\n",
      "Loading backup backup_20191128-1528 (3 of 5) for current and bias concatenation\n",
      "Stripping head for backup 3 of 5\n",
      "Loading backup backup_20191128-1944 (4 of 5) for current and bias concatenation\n",
      "Detected finish, stripping tail for backup 4 of 5\n",
      "Stripping head for backup 4 of 5\n",
      "Found an odd number of spike transitions\n",
      "\n",
      "\n",
      " --- Making single splopter ---\n",
      "WARNING: Encountered t-zeroing in /home/jleland/data/external/spice/marconi/lowdens_anglescan/recessed_tiltscan_redo/alpha_yz_-1.0/t-alpha_yz_-1.0.mat\n",
      "Looking for a suitable backup to use instead.\n",
      "Useable backup found at /home/jleland/data/external/spice/marconi/lowdens_anglescan/recessed_tiltscan_redo/alpha_yz_-1.0/backup_20191126-1416/t-alpha_yz_-1.0.mat\n",
      "Loading backup backup_20191126-1416 (1 of 5) for current and bias concatenation\n",
      "Loading backup backup_20191127-1127 (2 of 5) for current and bias concatenation\n",
      "Stripping head for backup 2 of 5\n",
      "Loading backup backup_20191128-1528 (3 of 5) for current and bias concatenation\n",
      "Stripping head for backup 3 of 5\n",
      "Loading backup backup_20191128-1944 (4 of 5) for current and bias concatenation\n",
      "Detected finish, stripping tail for backup 4 of 5\n",
      "Stripping head for backup 4 of 5\n",
      "Found an odd number of spike transitions\n"
     ]
    }
   ],
   "source": [
    "sim_path = 'marconi/lowdens_anglescan/recessed_tiltscan_redo/alpha_yz_-1.0'\n",
    "sim_path_single = 'marconi/lowdens_anglescan/recessed_tiltscan_redo/alpha_yz_-1.0'\n",
    "\n",
    "# sim_path = 'marconi/lowdens_anglescan/angled_tiltscan/alpha_yz_-4.0'\n",
    "# sim_path_single = 'marconi/lowdens_anglescan/angled_tiltscan/alpha_yz_-4.0'\n",
    "# sim_path = 'marconi/lowdens_anglescan/angled_tiltscan/alpha_yz_-8.0'\n",
    "# sim_path_single = 'marconi/lowdens_anglescan/angled_tiltscan/alpha_yz_-8.0'\n",
    "# sim_path = 'marconi/lowdens_anglescan/rearwall_tiltscan_redo.1/alpha_yz_-10.0'\n",
    "# sim_path_single = 'marconi/lowdens_anglescan/rearwall_tiltscan_redo.1/alpha_yz_-10.0'\n",
    "\n",
    "# sim_path_single = 'marconi/restart_test/sprobe_control_2-13-1_'\n",
    "# sim_path = 'marconi/restart_test/sprobe_20hr_multirestart_2-13-1_4c'\n",
    "# sim_path_single = 'marconi/restart_test/sprobe_9hr_multirestart'\n",
    "# sim_path = 'marconi/restart_test/sprobe_9hr_multirestart'\n",
    "\n",
    "\n",
    "try:\n",
    "    print('\\n\\n --- Making concatted splopter ---')\n",
    "    splopter = spl.Splopter(lowdens_dir / sim_path, reduce=desired_variables)\n",
    "    splopter.prepare(denormaliser_fl=True, homogenise_fl=True, find_se_temp_fl=False)\n",
    "except spl.FailedSimulationException as e:\n",
    "    print(f'FAILED: {e}')\n",
    "\n",
    "print('\\n\\n --- Making single splopter ---')\n",
    "splopter_single = spl.Splopter(lowdens_dir / sim_path_single, reduce=desired_variables)\n",
    "splopter_single.prepare(denormaliser_fl=True, homogenise_fl=True, find_se_temp_fl=False)"
   ]
  },
  {
   "cell_type": "code",
   "execution_count": 8,
   "metadata": {},
   "outputs": [
    {
     "name": "stdout",
     "output_type": "stream",
     "text": [
      "0.9\n"
     ]
    }
   ],
   "source": [
    "sim_path_pth = pth.Path(sim_path)\n",
    "log_file = list(sim_path_pth.glob('log.ongoing.out'))[0]\n",
    "# print(subprocess.check_output(['grep', \"'remaining'\", str(log_file)]))\n",
    "\n",
    "def get_h_remaining_lines(log_file):\n",
    "    time_left_lines = []\n",
    "    with open(str(log_file), 'r') as f:\n",
    "        for line in f.readlines():\n",
    "            if re.search(' % done', line):\n",
    "                time_left_lines.append(line.strip())\n",
    "    return time_left_lines\n",
    "\n",
    "final_percentage = int(get_h_remaining_lines(log_file)[-1].split()[0]) / 100\n",
    "print(final_percentage)"
   ]
  },
  {
   "cell_type": "code",
   "execution_count": 10,
   "metadata": {},
   "outputs": [
    {
     "name": "stdout",
     "output_type": "stream",
     "text": [
      "False\n"
     ]
    }
   ],
   "source": [
    "print(splopter.parser.has_sufficient_sweep(final_percentage, voltage_threshold=5))\n"
   ]
  },
  {
   "cell_type": "code",
   "execution_count": 10,
   "metadata": {},
   "outputs": [
    {
     "ename": "ValueError",
     "evalue": "x and y must have same first dimension, but have shapes (3271,) and (3273,)",
     "output_type": "error",
     "traceback": [
      "\u001b[0;31m---------------------------------------------------------------------------\u001b[0m",
      "\u001b[0;31mValueError\u001b[0m                                Traceback (most recent call last)",
      "\u001b[0;32m<ipython-input-10-d0df88d01aae>\u001b[0m in \u001b[0;36m<module>\u001b[0;34m\u001b[0m\n\u001b[1;32m     10\u001b[0m \u001b[0maxes\u001b[0m\u001b[0;34m[\u001b[0m\u001b[0;36m0\u001b[0m\u001b[0;34m]\u001b[0m\u001b[0;34m[\u001b[0m\u001b[0;36m2\u001b[0m\u001b[0;34m]\u001b[0m\u001b[0;34m.\u001b[0m\u001b[0mplot\u001b[0m\u001b[0;34m(\u001b[0m\u001b[0msplopter_single\u001b[0m\u001b[0;34m.\u001b[0m\u001b[0mraw_data\u001b[0m\u001b[0;34m[\u001b[0m\u001b[0;34m'V'\u001b[0m\u001b[0;34m]\u001b[0m\u001b[0;34m)\u001b[0m\u001b[0;34m\u001b[0m\u001b[0;34m\u001b[0m\u001b[0m\n\u001b[1;32m     11\u001b[0m \u001b[0maxes\u001b[0m\u001b[0;34m[\u001b[0m\u001b[0;36m1\u001b[0m\u001b[0;34m]\u001b[0m\u001b[0;34m[\u001b[0m\u001b[0;36m2\u001b[0m\u001b[0;34m]\u001b[0m\u001b[0;34m.\u001b[0m\u001b[0mplot\u001b[0m\u001b[0;34m(\u001b[0m\u001b[0msplopter_single\u001b[0m\u001b[0;34m.\u001b[0m\u001b[0mraw_data\u001b[0m\u001b[0;34m[\u001b[0m\u001b[0;34m'I'\u001b[0m\u001b[0;34m]\u001b[0m\u001b[0;34m)\u001b[0m\u001b[0;34m\u001b[0m\u001b[0;34m\u001b[0m\u001b[0m\n\u001b[0;32m---> 12\u001b[0;31m \u001b[0maxes\u001b[0m\u001b[0;34m[\u001b[0m\u001b[0;36m2\u001b[0m\u001b[0;34m]\u001b[0m\u001b[0;34m[\u001b[0m\u001b[0;36m2\u001b[0m\u001b[0;34m]\u001b[0m\u001b[0;34m.\u001b[0m\u001b[0mplot\u001b[0m\u001b[0;34m(\u001b[0m\u001b[0msplopter_single\u001b[0m\u001b[0;34m.\u001b[0m\u001b[0mraw_data\u001b[0m\u001b[0;34m[\u001b[0m\u001b[0;34m'V'\u001b[0m\u001b[0;34m]\u001b[0m\u001b[0;34m[\u001b[0m\u001b[0;34m:\u001b[0m\u001b[0;34m-\u001b[0m\u001b[0;36m2\u001b[0m\u001b[0;34m]\u001b[0m\u001b[0;34m,\u001b[0m \u001b[0msplopter_single\u001b[0m\u001b[0;34m.\u001b[0m\u001b[0mraw_data\u001b[0m\u001b[0;34m[\u001b[0m\u001b[0;34m'I'\u001b[0m\u001b[0;34m]\u001b[0m\u001b[0;34m)\u001b[0m\u001b[0;34m\u001b[0m\u001b[0;34m\u001b[0m\u001b[0m\n\u001b[0m",
      "\u001b[0;32m~/coding/environments/python3.6/lib/python3.6/site-packages/matplotlib/axes/_axes.py\u001b[0m in \u001b[0;36mplot\u001b[0;34m(self, scalex, scaley, data, *args, **kwargs)\u001b[0m\n\u001b[1;32m   1664\u001b[0m         \"\"\"\n\u001b[1;32m   1665\u001b[0m         \u001b[0mkwargs\u001b[0m \u001b[0;34m=\u001b[0m \u001b[0mcbook\u001b[0m\u001b[0;34m.\u001b[0m\u001b[0mnormalize_kwargs\u001b[0m\u001b[0;34m(\u001b[0m\u001b[0mkwargs\u001b[0m\u001b[0;34m,\u001b[0m \u001b[0mmlines\u001b[0m\u001b[0;34m.\u001b[0m\u001b[0mLine2D\u001b[0m\u001b[0;34m.\u001b[0m\u001b[0m_alias_map\u001b[0m\u001b[0;34m)\u001b[0m\u001b[0;34m\u001b[0m\u001b[0;34m\u001b[0m\u001b[0m\n\u001b[0;32m-> 1666\u001b[0;31m         \u001b[0mlines\u001b[0m \u001b[0;34m=\u001b[0m \u001b[0;34m[\u001b[0m\u001b[0;34m*\u001b[0m\u001b[0mself\u001b[0m\u001b[0;34m.\u001b[0m\u001b[0m_get_lines\u001b[0m\u001b[0;34m(\u001b[0m\u001b[0;34m*\u001b[0m\u001b[0margs\u001b[0m\u001b[0;34m,\u001b[0m \u001b[0mdata\u001b[0m\u001b[0;34m=\u001b[0m\u001b[0mdata\u001b[0m\u001b[0;34m,\u001b[0m \u001b[0;34m**\u001b[0m\u001b[0mkwargs\u001b[0m\u001b[0;34m)\u001b[0m\u001b[0;34m]\u001b[0m\u001b[0;34m\u001b[0m\u001b[0;34m\u001b[0m\u001b[0m\n\u001b[0m\u001b[1;32m   1667\u001b[0m         \u001b[0;32mfor\u001b[0m \u001b[0mline\u001b[0m \u001b[0;32min\u001b[0m \u001b[0mlines\u001b[0m\u001b[0;34m:\u001b[0m\u001b[0;34m\u001b[0m\u001b[0;34m\u001b[0m\u001b[0m\n\u001b[1;32m   1668\u001b[0m             \u001b[0mself\u001b[0m\u001b[0;34m.\u001b[0m\u001b[0madd_line\u001b[0m\u001b[0;34m(\u001b[0m\u001b[0mline\u001b[0m\u001b[0;34m)\u001b[0m\u001b[0;34m\u001b[0m\u001b[0;34m\u001b[0m\u001b[0m\n",
      "\u001b[0;32m~/coding/environments/python3.6/lib/python3.6/site-packages/matplotlib/axes/_base.py\u001b[0m in \u001b[0;36m__call__\u001b[0;34m(self, *args, **kwargs)\u001b[0m\n\u001b[1;32m    223\u001b[0m                 \u001b[0mthis\u001b[0m \u001b[0;34m+=\u001b[0m \u001b[0margs\u001b[0m\u001b[0;34m[\u001b[0m\u001b[0;36m0\u001b[0m\u001b[0;34m]\u001b[0m\u001b[0;34m,\u001b[0m\u001b[0;34m\u001b[0m\u001b[0;34m\u001b[0m\u001b[0m\n\u001b[1;32m    224\u001b[0m                 \u001b[0margs\u001b[0m \u001b[0;34m=\u001b[0m \u001b[0margs\u001b[0m\u001b[0;34m[\u001b[0m\u001b[0;36m1\u001b[0m\u001b[0;34m:\u001b[0m\u001b[0;34m]\u001b[0m\u001b[0;34m\u001b[0m\u001b[0;34m\u001b[0m\u001b[0m\n\u001b[0;32m--> 225\u001b[0;31m             \u001b[0;32myield\u001b[0m \u001b[0;32mfrom\u001b[0m \u001b[0mself\u001b[0m\u001b[0;34m.\u001b[0m\u001b[0m_plot_args\u001b[0m\u001b[0;34m(\u001b[0m\u001b[0mthis\u001b[0m\u001b[0;34m,\u001b[0m \u001b[0mkwargs\u001b[0m\u001b[0;34m)\u001b[0m\u001b[0;34m\u001b[0m\u001b[0;34m\u001b[0m\u001b[0m\n\u001b[0m\u001b[1;32m    226\u001b[0m \u001b[0;34m\u001b[0m\u001b[0m\n\u001b[1;32m    227\u001b[0m     \u001b[0;32mdef\u001b[0m \u001b[0mget_next_color\u001b[0m\u001b[0;34m(\u001b[0m\u001b[0mself\u001b[0m\u001b[0;34m)\u001b[0m\u001b[0;34m:\u001b[0m\u001b[0;34m\u001b[0m\u001b[0;34m\u001b[0m\u001b[0m\n",
      "\u001b[0;32m~/coding/environments/python3.6/lib/python3.6/site-packages/matplotlib/axes/_base.py\u001b[0m in \u001b[0;36m_plot_args\u001b[0;34m(self, tup, kwargs)\u001b[0m\n\u001b[1;32m    389\u001b[0m             \u001b[0mx\u001b[0m\u001b[0;34m,\u001b[0m \u001b[0my\u001b[0m \u001b[0;34m=\u001b[0m \u001b[0mindex_of\u001b[0m\u001b[0;34m(\u001b[0m\u001b[0mtup\u001b[0m\u001b[0;34m[\u001b[0m\u001b[0;34m-\u001b[0m\u001b[0;36m1\u001b[0m\u001b[0;34m]\u001b[0m\u001b[0;34m)\u001b[0m\u001b[0;34m\u001b[0m\u001b[0;34m\u001b[0m\u001b[0m\n\u001b[1;32m    390\u001b[0m \u001b[0;34m\u001b[0m\u001b[0m\n\u001b[0;32m--> 391\u001b[0;31m         \u001b[0mx\u001b[0m\u001b[0;34m,\u001b[0m \u001b[0my\u001b[0m \u001b[0;34m=\u001b[0m \u001b[0mself\u001b[0m\u001b[0;34m.\u001b[0m\u001b[0m_xy_from_xy\u001b[0m\u001b[0;34m(\u001b[0m\u001b[0mx\u001b[0m\u001b[0;34m,\u001b[0m \u001b[0my\u001b[0m\u001b[0;34m)\u001b[0m\u001b[0;34m\u001b[0m\u001b[0;34m\u001b[0m\u001b[0m\n\u001b[0m\u001b[1;32m    392\u001b[0m \u001b[0;34m\u001b[0m\u001b[0m\n\u001b[1;32m    393\u001b[0m         \u001b[0;32mif\u001b[0m \u001b[0mself\u001b[0m\u001b[0;34m.\u001b[0m\u001b[0mcommand\u001b[0m \u001b[0;34m==\u001b[0m \u001b[0;34m'plot'\u001b[0m\u001b[0;34m:\u001b[0m\u001b[0;34m\u001b[0m\u001b[0;34m\u001b[0m\u001b[0m\n",
      "\u001b[0;32m~/coding/environments/python3.6/lib/python3.6/site-packages/matplotlib/axes/_base.py\u001b[0m in \u001b[0;36m_xy_from_xy\u001b[0;34m(self, x, y)\u001b[0m\n\u001b[1;32m    268\u001b[0m         \u001b[0;32mif\u001b[0m \u001b[0mx\u001b[0m\u001b[0;34m.\u001b[0m\u001b[0mshape\u001b[0m\u001b[0;34m[\u001b[0m\u001b[0;36m0\u001b[0m\u001b[0;34m]\u001b[0m \u001b[0;34m!=\u001b[0m \u001b[0my\u001b[0m\u001b[0;34m.\u001b[0m\u001b[0mshape\u001b[0m\u001b[0;34m[\u001b[0m\u001b[0;36m0\u001b[0m\u001b[0;34m]\u001b[0m\u001b[0;34m:\u001b[0m\u001b[0;34m\u001b[0m\u001b[0;34m\u001b[0m\u001b[0m\n\u001b[1;32m    269\u001b[0m             raise ValueError(\"x and y must have same first dimension, but \"\n\u001b[0;32m--> 270\u001b[0;31m                              \"have shapes {} and {}\".format(x.shape, y.shape))\n\u001b[0m\u001b[1;32m    271\u001b[0m         \u001b[0;32mif\u001b[0m \u001b[0mx\u001b[0m\u001b[0;34m.\u001b[0m\u001b[0mndim\u001b[0m \u001b[0;34m>\u001b[0m \u001b[0;36m2\u001b[0m \u001b[0;32mor\u001b[0m \u001b[0my\u001b[0m\u001b[0;34m.\u001b[0m\u001b[0mndim\u001b[0m \u001b[0;34m>\u001b[0m \u001b[0;36m2\u001b[0m\u001b[0;34m:\u001b[0m\u001b[0;34m\u001b[0m\u001b[0;34m\u001b[0m\u001b[0m\n\u001b[1;32m    272\u001b[0m             raise ValueError(\"x and y can be no greater than 2-D, but have \"\n",
      "\u001b[0;31mValueError\u001b[0m: x and y must have same first dimension, but have shapes (3271,) and (3273,)"
     ]
    }
   ],
   "source": [
    "fig, axes = plt.subplots(3, 3, sharex='row', sharey='row')\n",
    "axes[0][0].plot(splopter.iv_data['V'])\n",
    "axes[1][0].plot(splopter.iv_data['I'])\n",
    "axes[2][0].plot(splopter.iv_data['V'], splopter.iv_data['I'])\n",
    "\n",
    "axes[0][1].plot(splopter.raw_data['V'])\n",
    "axes[1][1].plot(splopter.raw_data['I'])\n",
    "axes[2][1].plot(splopter.raw_data['V'], splopter.raw_data['I'])\n",
    "\n",
    "axes[0][2].plot(splopter_single.raw_data['V'])\n",
    "axes[1][2].plot(splopter_single.raw_data['I'])\n",
    "axes[2][2].plot(splopter_single.raw_data['V'][:-2], splopter_single.raw_data['I'])\n"
   ]
  },
  {
   "cell_type": "code",
   "execution_count": 9,
   "metadata": {},
   "outputs": [
    {
     "name": "stdout",
     "output_type": "stream",
     "text": [
      "-0.25862496890402714\n",
      "-9.950000000000001\n"
     ]
    }
   ],
   "source": [
    "print(np.min(splopter.raw_data['V']))\n",
    "print(np.min(splopter_single.raw_data['V']))"
   ]
  },
  {
   "cell_type": "code",
   "execution_count": 19,
   "metadata": {},
   "outputs": [],
   "source": [
    "biases = {}\n",
    "currents = {}\n",
    "for bu_folder in splopter.backup_folders:\n",
    "    bu_tfile_path, _ = splopter.get_ta_filenames(bu_folder)\n",
    "    bu_tdata = td.Spice2TData(bu_folder / bu_tfile_path, variable_names=[td.T,\n",
    "                                                                         c.DIAG_PROBE_POT,\n",
    "                                                                         td.OBJECTSCURRENTE,\n",
    "                                                                         td.OBJECTSCURRENTI,\n",
    "                                                                         td.OBJECTSENUM,\n",
    "                                                                         td.OBJECTS])\n",
    "    bu_time, bu_probe_bias, bu_probe_current_e, bu_probe_current_i = splopter.get_tdata_raw_iv(bu_tdata)\n",
    "    bu_probe_current_tot = bu_probe_current_e + bu_probe_current_i\n",
    "    biases[bu_folder.name] = bu_probe_bias\n",
    "    currents[bu_folder.name] = bu_probe_current_tot\n",
    " "
   ]
  },
  {
   "cell_type": "code",
   "execution_count": 20,
   "metadata": {},
   "outputs": [
    {
     "name": "stdout",
     "output_type": "stream",
     "text": [
      "backup_20191126-1416\n",
      "backup_20191127-1127\n",
      "backup_20191128-1528\n",
      "backup_20191128-1944\n",
      "backup_20191128-2001\n"
     ]
    }
   ],
   "source": [
    "# Plot all current/voltage traces in backups\n",
    "\n",
    "# fig, axes = plt.subplots(2, 4, sharey='row')\n",
    "prev_current = 0.0\n",
    "for i, bu_folder in enumerate(list(biases.keys())):\n",
    "    print(bu_folder)\n",
    "    \n",
    "    fig, axes = plt.subplots(2, 1, sharex='row', sharey='row')\n",
    "    axes[0].plot(biases[bu_folder], label=f'{bu_folder}')\n",
    "    axes[1].plot(currents[bu_folder], label=f'{bu_folder}')\n",
    "    axes[0].legend()\n",
    "    axes[1].legend()\n",
    "#     axes[1].set_ylim(-150, 50)\n",
    "    axes[1].axhline(prev_current, **c.AX_LINE_DEFAULTS)\n",
    "    \n",
    "    current_ind = np.arange(len(currents[bu_folder]))\n",
    "    prev_current_arr = np.zeros_like(current_ind) + prev_current\n",
    "    axes[1].fill_between(current_ind, 0.9 * prev_current_arr, 1.1 * prev_current_arr, facecolor='yellow', alpha=0.5)\n",
    "    \n",
    "    prev_current = currents[bu_folder][-1]\n",
    "\n",
    "if splopter.iv_data is not None:\n",
    "    fig, axes = plt.subplots(2, 2, sharex='col', sharey='row')\n",
    "    axes[0][0].plot(splopter.raw_data['V'])\n",
    "    axes[1][0].plot(splopter.raw_data['I'])\n",
    "    axes[0][1].plot(splopter.iv_data['V'])\n",
    "    axes[1][1].plot(splopter.iv_data['I'])\n"
   ]
  },
  {
   "cell_type": "code",
   "execution_count": 12,
   "metadata": {},
   "outputs": [
    {
     "name": "stdout",
     "output_type": "stream",
     "text": [
      "backup_20190809-0021\n",
      "backup_20190809-0029\n"
     ]
    },
    {
     "data": {
      "text/plain": [
       "Text(0, 0.5, 'Objectscurrent total')"
      ]
     },
     "execution_count": 12,
     "metadata": {},
     "output_type": "execute_result"
    },
    {
     "name": "stderr",
     "output_type": "stream",
     "text": [
      "/home/jleland/.pyenv/versions/3.6.9/lib/python3.6/tkinter/__init__.py:749: UserWarning: Creating legend with loc=\"best\" can be slow with large amounts of data.\n",
      "  func(*args)\n",
      "/home/jleland/.pyenv/versions/3.6.9/lib/python3.6/tkinter/__init__.py:1705: UserWarning: Creating legend with loc=\"best\" can be slow with large amounts of data.\n",
      "  return self.func(*args)\n"
     ]
    }
   ],
   "source": [
    "# Plot first 2 current/voltage traces in backups\n",
    "\n",
    "fig, axes = plt.subplots(2, 4, sharey='row')\n",
    "prev_current = 0.0\n",
    "for i, bu_folder in enumerate(list(biases.keys())[:2]):\n",
    "    print(bu_folder)\n",
    "    \n",
    "#     fig, axes = plt.subplots(2, 1, sharex='row', sharey='row')\n",
    "    axes[0][i].plot(biases[bu_folder], label=f'{bu_folder}')\n",
    "    axes[1][i].plot(currents[bu_folder], label=f'{bu_folder}')\n",
    "    axes[0][i].legend()\n",
    "    axes[1][i].legend()\n",
    "    axes[1][i].set_ylim(-150, 50)\n",
    "    axes[1][i].axhline(prev_current, **c.AX_LINE_DEFAULTS)\n",
    "    \n",
    "    current_ind = np.arange(len(currents[bu_folder]))\n",
    "    prev_current_arr = np.zeros_like(current_ind) + prev_current\n",
    "    axes[1][i].fill_between(current_ind, 0.9 * prev_current_arr, 1.1 * prev_current_arr, facecolor='yellow', alpha=0.5)\n",
    "    \n",
    "    prev_current = currents[bu_folder][-1]\n",
    "\n",
    "if splopter.iv_data is not None:\n",
    "#     fig, axes = plt.subplots(2, 2, sharex='col', sharey='row')\n",
    "    axes[0][2].plot(splopter.raw_data['V'])\n",
    "    axes[1][2].plot(splopter.raw_data['I'])\n",
    "    axes[0][3].plot(splopter.iv_data['V'])\n",
    "    axes[1][3].plot(splopter.iv_data['I'])\n",
    "    \n",
    "axes[0][0].set_title('First 24 Hours')\n",
    "axes[0][1].set_title('Second 24 Hours')\n",
    "axes[0][2].set_title('Stitched traces')\n",
    "axes[0][3].set_title('Extracted IV Arrays')\n",
    "\n",
    "axes[0][0].set_ylabel('Probe Potential (from Diagnostic)')\n",
    "axes[1][0].set_ylabel('Objectscurrent total')"
   ]
  },
  {
   "cell_type": "code",
   "execution_count": 23,
   "metadata": {},
   "outputs": [
    {
     "name": "stdout",
     "output_type": "stream",
     "text": [
      "-9.9\n",
      "prev_current = 4.001464046845688\n",
      "Successfully used primary method\n"
     ]
    }
   ],
   "source": [
    "# Test bed for stripping/pruning functions\n",
    "\n",
    "backup_of_interest = list(biases.keys())[0]\n",
    "current = currents[backup_of_interest]\n",
    "voltage = biases[backup_of_interest]\n",
    "prev_current = 4.001464046845688\n",
    "\n",
    "fig, axes = plt.subplots(2, 1, sharex=True, sharey=True)\n",
    "\n",
    "axes[0].plot(current, label=f'{bu_folder}')\n",
    "axes[0].axhline(prev_current, **c.AX_LINE_DEFAULTS)\n",
    "\n",
    "print(round(voltage[-1], 2))\n",
    "\n",
    "if round(voltage[-1], 2) >= 10.00:\n",
    "\n",
    "    big_spikes = np.where(np.abs(current) > 1000)\n",
    "    if len(big_spikes[0]) == 0:\n",
    "        pass\n",
    "    if len(big_spikes[0]) >= 1:\n",
    "        end_spike = big_spikes[0][np.argmax(np.abs(current[big_spikes]))]\n",
    "        print(big_spikes, end_spike)\n",
    "        axes[1].plot(np.arange(end_spike), current[:end_spike], label=f'pre-spike')\n",
    "        axes[1].plot(np.arange(end_spike+1, len(current)), current[end_spike+1:], label=f'post-spike')\n",
    "\n",
    "        axes[1].legend()\n",
    "#     axes[0].set_ylim(-300, 50)\n",
    "\n",
    "do_current_concat = True\n",
    "indiced_oi = None\n",
    "new_current, start_point = strip_head(current, prev_current)\n",
    "\n",
    "axes[1].plot(np.arange(start_point, len(current)), new_current)\n",
    "for i in range(2):\n",
    "    axes[i].axvline(start_point, **c.AX_LINE_DEFAULTS)"
   ]
  },
  {
   "cell_type": "code",
   "execution_count": 34,
   "metadata": {},
   "outputs": [],
   "source": [
    "def strip_head(current, prev_current):\n",
    "    print(f'prev_current = {prev_current}')\n",
    "    \n",
    "    # Primary method - find first point roughly equal to previous end value\n",
    "    start_points = np.where(np.logical_and(current >= prev_current * 0.8, current <= prev_current * 1.2))\n",
    "    if len(start_points[0]) > 0:\n",
    "        for start_point in start_points[0]:\n",
    "            if not any(current[start_point:] == 0.0):\n",
    "                print('Successfully used primary method')\n",
    "                return current[start_point:], start_point\n",
    "            else:\n",
    "                print(f'Failed with start_point {start_point}')\n",
    "    \n",
    "    # Secondary method - find last zero in current array and take the succeeding value\n",
    "    zero_indices = np.where(current == 0.0)[0]\n",
    "    if current[-1] != 0.0 and len(zero_indices) > 0:\n",
    "        # Take start point to be the value one place along from the final 0\n",
    "        start_point = np.max(zero_indices + 1)\n",
    "        print('Successfully used secondary method')\n",
    "        return current[start_point:], start_point\n",
    "    \n",
    "    return None, None \n",
    "\n",
    "def strip_tail(current, threshold=10000):\n",
    "    # Strip tail section if present\n",
    "    big_spikes = np.where(np.abs(current) > threshold)\n",
    "    if len(big_spikes[0]) == 0:\n",
    "        print('No spikes found on tail.')\n",
    "    elif len(big_spikes[0]) >= 1:\n",
    "        end_spike = big_spikes[0][np.argmax(np.abs(current[big_spikes]))]\n",
    "        current = current[:end_spike]\n",
    "    return current\n",
    "\n",
    "def group_consecutives(vals, step=1):\n",
    "    \"\"\"Return list of consecutive lists of numbers from vals (number list).\"\"\"\n",
    "    run = []\n",
    "    result = [run]\n",
    "    expect = None\n",
    "    for v in vals:\n",
    "        if (v == expect) or (expect is None):\n",
    "            run.append(v)\n",
    "        else:\n",
    "            run = [v]\n",
    "            result.append(run)\n",
    "        expect = v + step\n",
    "    return result\n",
    "\n",
    "\n",
    "# def group_spikes(voltage, tolerance=3):\n",
    "#     # Determine location of start and end points of the spikes by locating values >3 sigma from mean difference\n",
    "#     bias_diff = np.diff(voltage)\n",
    "#     diff_mean = np.mean(bias_diff)\n",
    "#     diff_spread = tolerance * np.std(bias_diff)\n",
    "#     diff_outliers = np.where(np.logical_or(bias_diff > diff_mean + diff_spread, bias_diff < diff_mean - diff_spread))[0]\n",
    "    \n",
    "#     if len(diff_outliers) % 2 != 0:\n",
    "#         print('Not an even number of spike transitions')\n",
    "        \n",
    "#         sp_start = 0\n",
    "#         sp_end = 1\n",
    "#         pairs = []\n",
    "#         while sp_end < len(diff_outliers): \n",
    "#             print(f'sp_start = {sp_start}, sp_end = {sp_end}')\n",
    "#             if np.sign(bias_diff[diff_outliers][sp_start]) != np.sign(bias_diff[diff_outliers][sp_end]):\n",
    "#                 pairs.append([diff_outliers[sp_start], diff_outliers[sp_end]])\n",
    "#                 sp_start = sp_end + 1\n",
    "#                 sp_end = sp_start + 1\n",
    "#             else:\n",
    "#                 sp_end += 1\n",
    "#         return pairs \n",
    "#     else:\n",
    "#         return list(zip(diff_outliers[::2], diff_outliers[1::2]))\n",
    "    \n",
    "def group_spikes(voltage, tolerance=5):\n",
    "    # Determine location of start and end points of the spikes by locating values >3 sigma from mean difference\n",
    "    bias_diff = np.diff(voltage)\n",
    "#     diff_mean = np.mean(bias_diff)\n",
    "#     diff_spread = tolerance * np.std(bias_diff)\n",
    "#     diff_outliers = \\\n",
    "#         np.where(np.logical_or(bias_diff > diff_mean + diff_spread, bias_diff < diff_mean - diff_spread))[0]\n",
    "    diff_outliers = np.where(np.abs(bias_diff) >= 0.06)[0]\n",
    "\n",
    "    if len(diff_outliers) % 2 != 0:\n",
    "        print('Found an odd number of spike transitions')\n",
    "\n",
    "        start_spike = 0\n",
    "        end_spike = 1\n",
    "        pairs = []\n",
    "        # Group by diffs where there is a change of sign\n",
    "        while end_spike < len(diff_outliers):\n",
    "            if np.sign(bias_diff[diff_outliers][start_spike]) != np.sign(bias_diff[diff_outliers][end_spike]):\n",
    "                pairs.append([diff_outliers[start_spike], diff_outliers[end_spike]])\n",
    "                start_spike = end_spike + 1\n",
    "                end_spike = start_spike + 1\n",
    "            else:\n",
    "                end_spike += 1\n",
    "        return pairs\n",
    "    else:\n",
    "        return list(zip(diff_outliers[::2], diff_outliers[1::2]))\n",
    "\n",
    "def prune_voltage(voltage):\n",
    "    # Find consectuive problem values and group them\n",
    "    edges = group_spikes(voltage)\n",
    "    print(edges)\n",
    "    \n",
    "    # Construct a replacement array to replace each spike\n",
    "    if len(edges) > 0:\n",
    "        for start_spike, end_spike in edges:\n",
    "            if start_spike == 0 or end_spike == len(voltage) - 1:\n",
    "                raise NotImplementedError('Edge cases not accounted for yet')\n",
    "\n",
    "            start_v = voltage[start_spike]\n",
    "            end_v = voltage[end_spike+1]\n",
    "            length = end_spike - start_spike\n",
    "            replacement = np.linspace(start_v, end_v, length + 2)\n",
    "\n",
    "            voltage[start_spike:end_spike+2] = replacement\n",
    "\n",
    "    return voltage"
   ]
  },
  {
   "cell_type": "code",
   "execution_count": 22,
   "metadata": {},
   "outputs": [
    {
     "name": "stdout",
     "output_type": "stream",
     "text": [
      "0.0 3.904295812460917\n",
      "-0.01562925015633248 4.001464046845688\n",
      "Stripping head for backup 1\n",
      "prev_current = 3.904295812460917\n",
      "Failed with start_point 20\n",
      "Successfully used primary method\n",
      "996\n",
      "0.0 -34.80987879784542\n",
      "Stripping head for backup 2\n",
      "prev_current = 4.001464046845688\n",
      "Successfully used primary method\n",
      "910\n",
      "0.0 -39.46977733674909\n",
      "Detected finish, stripping tail for backup 3\n",
      "No spikes found on tail.\n",
      "Stripping head for backup 3\n",
      "prev_current = -34.80987879784542\n",
      "Successfully used secondary method\n",
      "1301\n",
      "Found an odd number of spike transitions\n",
      "[[175072, 175073], [1863072, 1863074], [1865929, 1870593], [1875257, 3464072], [3464075, 3465682]]\n"
     ]
    },
    {
     "data": {
      "text/plain": [
       "[<matplotlib.lines.Line2D at 0x7f844d89d0b8>]"
      ]
     },
     "execution_count": 22,
     "metadata": {},
     "output_type": "execute_result"
    }
   ],
   "source": [
    "concatted_current = np.array([])\n",
    "concatted_voltage = np.array([])\n",
    "prev_current = 0.0\n",
    "prev_voltage = 0.0\n",
    "\n",
    "for i, backup_of_interest in enumerate(biases.keys()):\n",
    "    \n",
    "    current = currents[backup_of_interest].copy()\n",
    "    voltage = biases[backup_of_interest].copy()\n",
    "    finished_fl = False\n",
    "    \n",
    "    print(current[0], current[-1])\n",
    "    \n",
    "    if i == 0:\n",
    "        # If first step then whole current array is left for concatting and final \n",
    "        # current value is stored for next iteration to assist in stripping\n",
    "        prev_current = current[-1]\n",
    "    \n",
    "    fig, ax = plt.subplots()\n",
    "    ax.plot(np.arange(len(current)), current, label='unaltered')\n",
    "    \n",
    "    if round(voltage[-1], 2) >= 9.95 or i+1 == len(biases):\n",
    "        # If final step then strip off the end spike, zeroes and appended IV, if \n",
    "        # present\n",
    "        print(f'Detected finish, stripping tail for backup {i}')\n",
    "        finished_fl = True\n",
    "        current = strip_tail(current)\n",
    "        ax.plot(np.arange(len(current)), current, label='strip_end')\n",
    "    \n",
    "    if i >= 1:\n",
    "        # If not the first step then strip the leading zeroes/spikes\n",
    "        print(f'Stripping head for backup {i}')\n",
    "        post_tailstrip_length = len(current)\n",
    "        current, start_point = strip_head(current, prev_current)\n",
    "        prev_current = current[-1]\n",
    "    \n",
    "        print(start_point)\n",
    "        ax.plot(np.arange(start_point, post_tailstrip_length), current, label='strip_beginning')\n",
    "    \n",
    "    concatted_current = np.append(concatted_current, current)\n",
    "    ax.legend()\n",
    "    \n",
    "    if finished_fl:\n",
    "        fig, axes = plt.subplots(2, 1)\n",
    "        axes[0].plot(concatted_current)\n",
    "        axes[1].plot(voltage, color='r')\n",
    "        \n",
    "        test_voltage = voltage.copy()\n",
    "        # Final version of voltage is stored in completed run, needs some minor pruning\n",
    "        concatted_voltage = prune_voltage(voltage)\n",
    "        break\n",
    "      \n",
    "\n",
    "fig, axes = plt.subplots(2, 1)\n",
    "axes[0].plot(concatted_current)\n",
    "axes[1].plot(concatted_voltage, color='r')\n",
    "\n",
    "           \n",
    "    "
   ]
  },
  {
   "cell_type": "code",
   "execution_count": 27,
   "metadata": {},
   "outputs": [
    {
     "name": "stdout",
     "output_type": "stream",
     "text": [
      "533 533 533\n",
      "length of spikes 532\n"
     ]
    }
   ],
   "source": [
    "print(len(splopter.iv_data['V']), len(splopter.iv_data['I']), len(splopter.iv_data['t']))\n",
    "\n",
    "spikes = np.where(np.abs(np.diff(splopter.iv_data['V'])) < 5)\n",
    "print(f'length of spikes {len(spikes[0])}')\n",
    "iv_data_backup = splopter.iv_data['V']\n",
    "# splopter.iv_data['V'] = splopter.iv_data['V'][spikes]\n",
    "\n",
    "plt.plot(splopter.iv_data['t'], splopter.iv_data['V'])\n",
    "plt.show()\n"
   ]
  },
  {
   "cell_type": "code",
   "execution_count": 15,
   "metadata": {},
   "outputs": [
    {
     "data": {
      "text/plain": [
       "[<matplotlib.lines.Line2D at 0x7ff2b7719b70>]"
      ]
     },
     "execution_count": 15,
     "metadata": {},
     "output_type": "execute_result"
    }
   ],
   "source": [
    "dummy_voltage = np.append(np.zeros(10000)-9.95, np.linspace(-10.00,10.00,10000))\n",
    "dummy_voltage[5123:5128] = 0.0\n",
    "dummy_voltage[15093:15125] = -9.95\n",
    "\n",
    "plt.figure()\n",
    "plt.plot(dummy_voltage)"
   ]
  },
  {
   "cell_type": "code",
   "execution_count": 23,
   "metadata": {},
   "outputs": [
    {
     "data": {
      "text/plain": [
       "[<matplotlib.lines.Line2D at 0x7f845218bda0>]"
      ]
     },
     "execution_count": 23,
     "metadata": {},
     "output_type": "execute_result"
    }
   ],
   "source": [
    "plt.figure()\n",
    "plt.plot(test_voltage.copy())"
   ]
  },
  {
   "cell_type": "markdown",
   "metadata": {},
   "source": [
    "The below is the current method for removing spikes from the concatted bias data. It seems that there's a length mismatch between the bias and current arrays, which is causing some headaches. In a specific test example removing the spikes seems to prevent this, but this doesn't seem to apply generally as a non-restarted (and therefore non-concattable) run is seeing the same issue. Will need to check the homogenisation method to check what it's doing. "
   ]
  },
  {
   "cell_type": "code",
   "execution_count": 35,
   "metadata": {},
   "outputs": [
    {
     "name": "stdout",
     "output_type": "stream",
     "text": [
      "1085 1085 1085\n",
      "Found an odd number of spike transitions\n",
      "\n",
      "Printing with unpacking...\n",
      "beg:175072, end:175073\n",
      "beg:1863072, end:1863074\n",
      "beg:3464072, end:3465682\n",
      "175072 175073\n",
      "start: -9.9, end: -9.9, length: 3\n",
      "[-9.9 -9.9 -9.9]\n",
      "1863072 1863074\n",
      "start: -9.9, end: -9.9, length: 4\n",
      "[-9.9 -9.9 -9.9 -9.9]\n",
      "3464072 3465682\n",
      "start: 7.150000000000001, end: 7.200000000000001, length: 1612\n",
      "[7.15       7.15003104 7.15006207 ... 7.19993793 7.19996896 7.2       ]\n"
     ]
    }
   ],
   "source": [
    "splopt = splopter\n",
    "# voltage = splopt.raw_data['V'].copy()\n",
    "voltage = test_voltage.copy()\n",
    "# voltage = dummy_voltage.copy()\n",
    "\n",
    "# Inital rought method for removing the spikes in voltage data. \n",
    "print(len(splopt.iv_data['V']), len(splopt.iv_data['I']), len(splopt.iv_data['t']))\n",
    "voltage_backup = voltage.copy()\n",
    "\n",
    "bias_diff = np.diff(voltage)\n",
    "diff_mean = np.mean(bias_diff)\n",
    "diff_spread = 5 * np.std(bias_diff)\n",
    "bias_outliers = np.where(np.logical_or(bias_diff > diff_mean + diff_spread, bias_diff < diff_mean - diff_spread))\n",
    "bias_outliers = np.where(np.abs(bias_diff) > 0.1)\n",
    "\n",
    "fig, axes = plt.subplots(2, sharex=True)\n",
    "axes[0].plot(bias_diff)\n",
    "axes[0].axhline(diff_mean, color='red', linestyle='dashed', linewidth=.8)\n",
    "axes[0].axhspan(diff_mean + diff_spread, diff_mean - diff_spread, color='red', alpha=0.25)\n",
    "axes[0].plot(bias_outliers[0], bias_diff[bias_outliers], 'x')\n",
    "\n",
    "edges = group_spikes(voltage)\n",
    "\n",
    "print('\\nPrinting with unpacking...')\n",
    "for beg, end in edges:\n",
    "    print(f'beg:{beg}, end:{end}')\n",
    "    \n",
    "for start_spike, end_spike in edges:\n",
    "    if start_spike == 0 or end_spike == len(voltage) - 1:\n",
    "        raise NotImplementedError('Edge cases not accounted for yet')\n",
    "        \n",
    "    print(start_spike, end_spike)\n",
    "    start_v = voltage[start_spike]\n",
    "    end_v = voltage[end_spike+1]\n",
    "    length = end_spike - start_spike\n",
    "    replacement = np.linspace(start_v, end_v, length + 2)\n",
    "    print(f'start: {start_v}, end: {end_v}, length: {length + 2}')\n",
    "    print(replacement)\n",
    "    voltage_backup[start_spike:end_spike+2] = replacement\n",
    "\n",
    "fig, ax = plt.subplots(2, sharex=True, sharey=True)\n",
    "ax[0].plot(voltage, 'x-')\n",
    "ax[1].plot(voltage_backup, 'x-')\n",
    "\n",
    "# splopter.iv_data['V'] = splopter.iv_data['V'][spikes]\n",
    "\n",
    "# plt.plot(splopter_single.iv_data['t'], splopter_single.iv_data['V'])\n",
    "plt.show()"
   ]
  },
  {
   "cell_type": "code",
   "execution_count": 25,
   "metadata": {},
   "outputs": [
    {
     "ename": "NameError",
     "evalue": "name 'dummy_voltage' is not defined",
     "output_type": "error",
     "traceback": [
      "\u001b[0;31m---------------------------------------------------------------------------\u001b[0m",
      "\u001b[0;31mNameError\u001b[0m                                 Traceback (most recent call last)",
      "\u001b[0;32m<ipython-input-25-0286956b897c>\u001b[0m in \u001b[0;36m<module>\u001b[0;34m\u001b[0m\n\u001b[0;32m----> 1\u001b[0;31m \u001b[0medges\u001b[0m \u001b[0;34m=\u001b[0m \u001b[0mgroup_spikes\u001b[0m\u001b[0;34m(\u001b[0m\u001b[0mdummy_voltage\u001b[0m\u001b[0;34m)\u001b[0m\u001b[0;34m\u001b[0m\u001b[0;34m\u001b[0m\u001b[0m\n\u001b[0m\u001b[1;32m      2\u001b[0m \u001b[0;34m\u001b[0m\u001b[0m\n\u001b[1;32m      3\u001b[0m \u001b[0;32mdef\u001b[0m \u001b[0mgroup_spikes\u001b[0m\u001b[0;34m(\u001b[0m\u001b[0mvoltage\u001b[0m\u001b[0;34m,\u001b[0m \u001b[0mtolerance\u001b[0m\u001b[0;34m=\u001b[0m\u001b[0;36m5\u001b[0m\u001b[0;34m)\u001b[0m\u001b[0;34m:\u001b[0m\u001b[0;34m\u001b[0m\u001b[0;34m\u001b[0m\u001b[0m\n\u001b[1;32m      4\u001b[0m     \u001b[0mbias_diff\u001b[0m \u001b[0;34m=\u001b[0m \u001b[0mnp\u001b[0m\u001b[0;34m.\u001b[0m\u001b[0mdiff\u001b[0m\u001b[0;34m(\u001b[0m\u001b[0mvoltage\u001b[0m\u001b[0;34m)\u001b[0m\u001b[0;34m\u001b[0m\u001b[0;34m\u001b[0m\u001b[0m\n\u001b[1;32m      5\u001b[0m     \u001b[0mdiff_mean\u001b[0m \u001b[0;34m=\u001b[0m \u001b[0mnp\u001b[0m\u001b[0;34m.\u001b[0m\u001b[0mmean\u001b[0m\u001b[0;34m(\u001b[0m\u001b[0mbias_diff\u001b[0m\u001b[0;34m)\u001b[0m\u001b[0;34m\u001b[0m\u001b[0;34m\u001b[0m\u001b[0m\n",
      "\u001b[0;31mNameError\u001b[0m: name 'dummy_voltage' is not defined"
     ]
    }
   ],
   "source": [
    "edges = group_spikes(dummy_voltage)\n",
    "\n",
    "def group_spikes(voltage, tolerance=5):\n",
    "    bias_diff = np.diff(voltage)\n",
    "    diff_mean = np.mean(bias_diff)\n",
    "    diff_spread = tolerance * np.std(bias_diff)\n",
    "    diff_outliers = np.where(np.logical_or(bias_diff > diff_mean + diff_spread, bias_diff < diff_mean - diff_spread))\n",
    "    \n",
    "    if len(diff_outliers[0]) % 2 != 0:\n",
    "        raise NotImplementedError('Not an even number of spike transitions')\n",
    "    \n",
    "    return list(zip(diff_outliers[0][::2], diff_outliers[0][1::2]))"
   ]
  },
  {
   "cell_type": "code",
   "execution_count": 22,
   "metadata": {},
   "outputs": [
    {
     "name": "stdout",
     "output_type": "stream",
     "text": [
      "(1, 1)\n",
      "(2, 3)\n",
      "(3, 5)\n"
     ]
    }
   ],
   "source": [
    "for i in zip([1,2,3], [1,3,5]):\n",
    "    print(i)"
   ]
  },
  {
   "cell_type": "code",
   "execution_count": null,
   "metadata": {},
   "outputs": [],
   "source": []
  }
 ],
 "metadata": {
  "kernelspec": {
   "display_name": "python3.6-codac",
   "language": "python",
   "name": "python3.6-codac"
  },
  "language_info": {
   "codemirror_mode": {
    "name": "ipython",
    "version": 3
   },
   "file_extension": ".py",
   "mimetype": "text/x-python",
   "name": "python",
   "nbconvert_exporter": "python",
   "pygments_lexer": "ipython3",
   "version": "3.6.9"
  }
 },
 "nbformat": 4,
 "nbformat_minor": 4
}
