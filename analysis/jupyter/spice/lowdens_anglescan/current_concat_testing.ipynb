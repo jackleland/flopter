{
 "cells": [
  {
   "cell_type": "markdown",
   "metadata": {},
   "source": [
    "#### 2019-12-17\n",
    "# Current/Bias Concatenation Testing Notebook\n",
    "\n",
    "\n",
    "This is the notebook primarily made for testing that the newly added concatenation methods in splopter are working as expected.\n"
   ]
  },
  {
   "cell_type": "code",
   "execution_count": 1,
   "metadata": {},
   "outputs": [],
   "source": [
    "%matplotlib tk\n",
    "import numpy as np\n",
    "import matplotlib.pyplot as plt\n",
    "import matplotlib as mpl\n",
    "import xarray as xr\n",
    "import pandas as pd\n",
    "import scipy.io as sio\n",
    "import sys\n",
    "import os\n",
    "import glob\n",
    "import copy\n",
    "import pathlib as pth\n",
    "import importlib\n",
    "sys.path.append('/home/jleland/Coding/Projects/flopter')\n",
    "import flopter.spice.splopter as spl\n",
    "import flopter.spice.tdata as td\n",
    "import flopter.spice.homogenise as hmg\n",
    "import flopter.core.ivdata as iv\n",
    "import flopter.core.fitters as fts\n",
    "import flopter.core.fitdata as fd\n",
    "import flopter.core.lputils as lpu\n",
    "import flopter.core.constants as c"
   ]
  },
  {
   "cell_type": "markdown",
   "metadata": {},
   "source": [
    "## Paths and Matfile IO\n",
    "This section deals with file io and selecting the right .mat files. This needs to be run for the latter sections to work."
   ]
  },
  {
   "cell_type": "code",
   "execution_count": 2,
   "metadata": {
    "pycharm": {
     "is_executing": false
    }
   },
   "outputs": [],
   "source": [
    "# lowdens_dir = pth.Path('/home/jleland/Spice/spice2/bin/data_local_m2/lowdens_anglescan')\n",
    "lowdens_dir = pth.Path('/home/jleland/data/external/spice/')\n",
    "os.chdir(lowdens_dir)"
   ]
  },
  {
   "cell_type": "code",
   "execution_count": 3,
   "metadata": {
    "pycharm": {
     "is_executing": false
    }
   },
   "outputs": [
    {
     "name": "stdout",
     "output_type": "stream",
     "text": [
      "0.17453292519943295\n"
     ]
    }
   ],
   "source": [
    "lps = lpu.MagnumProbes()\n",
    "\n",
    "flush_probe = copy.deepcopy(lps.probe_l)\n",
    "flush_probe.theta_p = 0.0\n",
    "flush_probe.d_perp = 0.0\n",
    "\n",
    "angled_probe = copy.deepcopy(lps.probe_l)\n",
    "angled_probe.d_perp = 0.0\n",
    "print(angled_probe.theta_p)"
   ]
  },
  {
   "cell_type": "code",
   "execution_count": 4,
   "metadata": {},
   "outputs": [],
   "source": [
    "skippable_scans = {\n",
    "    'marconi/lowdens_anglescan/inpartest_as',\n",
    "    'marconi/lowdens_anglescan/angled_tiltscan_ext',\n",
    "    'marconi/lowdens_anglescan/sprobe_tiltscan',\n",
    "    'marconi/lowdens_anglescan/recessed_tiltscan',\n",
    "    'marconi/lowdens_anglescan/rearwall_tiltscan',\n",
    "}\n",
    "single_sims = {\n",
    "    'marconi/lowdens_anglescan/angled_1',\n",
    "}"
   ]
  },
  {
   "cell_type": "code",
   "execution_count": 5,
   "metadata": {
    "pycharm": {
     "is_executing": false
    }
   },
   "outputs": [],
   "source": [
    "# Assemble all folder names for the lowdens anglescans\n",
    "\n",
    "non_standard_variables = {'ProbePot', 'npartproc', 'Nz', 'Nzmax', 'Ny', 'count', 'Npc', 'snumber', 'nproc'}\n",
    "desired_variables = td.DEFAULT_REDUCED_DATASET | non_standard_variables\n",
    "\n",
    "# # UNCOMMENT IF YOU WANT THIS\n",
    "\n",
    "# scans_searchstr = '*/lowdens_anglescan/*'\n",
    "# # angles_search_str = '/*[!.{yml, inp}]/backup*'\n",
    "# angles_search_str = '/*[!.{yml, inp}]'\n",
    "\n",
    "# all_run_dirs = {}\n",
    "# scans = glob.glob(scans_searchstr)\n",
    "# scans = set(scans) - skippable_scans\n",
    "# for scan in scans:\n",
    "#     if scan in single_sims:\n",
    "#         print(f'Single sim {scan} found')\n",
    "#         all_run_dirs[scan] = [scan]\n",
    "#     else:\n",
    "#         all_run_dirs[scan] = glob.glob(scan + angles_search_str)\n",
    "    \n",
    "#     print(f'{scan}: {all_run_dirs[scan]}\\n')\n"
   ]
  },
  {
   "cell_type": "markdown",
   "metadata": {},
   "source": [
    "# Individual looks at simulations and backup reconstruction"
   ]
  },
  {
   "cell_type": "code",
   "execution_count": 6,
   "metadata": {},
   "outputs": [
    {
     "name": "stdout",
     "output_type": "stream",
     "text": [
      "\n",
      "\n",
      " --- Making concatted splopter ---\n",
      "WARNING: Encountered t-zeroing in /home/jleland/data/external/spice/marconi/lowdens_anglescan/recessed_tiltscan_redo/alpha_yz_-2.0/t-alpha_yz_-2.0.mat\n",
      "Looking for a suitable backup to use instead.\n",
      "Useable backup found at /home/jleland/data/external/spice/marconi/lowdens_anglescan/recessed_tiltscan_redo/alpha_yz_-2.0/backup_20191126-1416/t-alpha_yz_-2.0.mat\n",
      "Loading backup /home/jleland/data/external/spice/marconi/lowdens_anglescan/recessed_tiltscan_redo/alpha_yz_-2.0/backup_20191126-1416 (1 of 5) for current and bias concatenation\n",
      "Loading backup /home/jleland/data/external/spice/marconi/lowdens_anglescan/recessed_tiltscan_redo/alpha_yz_-2.0/backup_20191127-0320 (2 of 5) for current and bias concatenation\n",
      "Loading backup /home/jleland/data/external/spice/marconi/lowdens_anglescan/recessed_tiltscan_redo/alpha_yz_-2.0/backup_20191127-0335 (3 of 5) for current and bias concatenation\n",
      "Loading backup /home/jleland/data/external/spice/marconi/lowdens_anglescan/recessed_tiltscan_redo/alpha_yz_-2.0/backup_20191127-0349 (4 of 5) for current and bias concatenation\n",
      "Loading backup /home/jleland/data/external/spice/marconi/lowdens_anglescan/recessed_tiltscan_redo/alpha_yz_-2.0/backup_20191127-0404 (5 of 5) for current and bias concatenation\n",
      "\n",
      "\n",
      " --- Making single splopter ---\n",
      "WARNING: Encountered t-zeroing in /home/jleland/data/external/spice/marconi/lowdens_anglescan/recessed_tiltscan_redo/alpha_yz_-2.0/t-alpha_yz_-2.0.mat\n",
      "Looking for a suitable backup to use instead.\n",
      "Useable backup found at /home/jleland/data/external/spice/marconi/lowdens_anglescan/recessed_tiltscan_redo/alpha_yz_-2.0/backup_20191126-1416/t-alpha_yz_-2.0.mat\n"
     ]
    },
    {
     "name": "stderr",
     "output_type": "stream",
     "text": [
      "/home/jleland/coding/environments/python3.6/lib/python3.6/site-packages/numpy/core/_methods.py:217: RuntimeWarning: Degrees of freedom <= 0 for slice\n",
      "  keepdims=keepdims)\n",
      "/home/jleland/coding/environments/python3.6/lib/python3.6/site-packages/numpy/core/_methods.py:186: RuntimeWarning: invalid value encountered in true_divide\n",
      "  arrmean, rcount, out=arrmean, casting='unsafe', subok=False)\n",
      "/home/jleland/coding/environments/python3.6/lib/python3.6/site-packages/numpy/core/_methods.py:209: RuntimeWarning: invalid value encountered in double_scalars\n",
      "  ret = ret.dtype.type(ret / rcount)\n"
     ]
    }
   ],
   "source": [
    "sim_path = 'marconi/lowdens_anglescan/recessed_tiltscan_redo/alpha_yz_-2.0'\n",
    "sim_path_single = 'marconi/lowdens_anglescan/recessed_tiltscan_redo/alpha_yz_-2.0'\n",
    "# sim_path_single = 'marconi/restart_test/sprobe_control_2-13-1_'\n",
    "# sim_path = 'marconi/restart_test/sprobe_20hr_multirestart_2-13-1_4c'\n",
    "\n",
    "print('\\n\\n --- Making concatted splopter ---')\n",
    "splopter = spl.Splopter(lowdens_dir / sim_path, reduce=desired_variables)\n",
    "splopter.prepare(denormaliser_fl=True, homogenise_fl=True, find_se_temp_fl=False)\n",
    "\n",
    "print('\\n\\n --- Making single splopter ---')\n",
    "splopter_single = spl.Splopter(lowdens_dir / sim_path_single, reduce=desired_variables)\n",
    "splopter_single.prepare(denormaliser_fl=True, homogenise_fl=True, find_se_temp_fl=False, backup_concat_fl=False)"
   ]
  },
  {
   "cell_type": "code",
   "execution_count": 8,
   "metadata": {},
   "outputs": [
    {
     "data": {
      "text/plain": [
       "[<matplotlib.lines.Line2D at 0x7f653146fda0>]"
      ]
     },
     "execution_count": 8,
     "metadata": {},
     "output_type": "execute_result"
    }
   ],
   "source": [
    "fig, axes = plt.subplots(3, 3, sharex='row', sharey='row')\n",
    "axes[0][0].plot(splopter.iv_data['V'])\n",
    "axes[1][0].plot(splopter.iv_data['I'])\n",
    "axes[2][0].plot(splopter.iv_data['V'], splopter.iv_data['I'])\n",
    "\n",
    "axes[0][1].plot(splopter.raw_data['V'])\n",
    "axes[1][1].plot(splopter.raw_data['I'])\n",
    "axes[2][1].plot(splopter.raw_data['V'], splopter.raw_data['I'])\n",
    "\n",
    "axes[0][2].plot(splopter_single.raw_data['V'])\n",
    "axes[1][2].plot(splopter_single.raw_data['I'])\n",
    "axes[2][2].plot(splopter_single.raw_data['V'][:-2], splopter_single.raw_data['I'])\n"
   ]
  },
  {
   "cell_type": "code",
   "execution_count": 7,
   "metadata": {},
   "outputs": [],
   "source": [
    "biases = {}\n",
    "currents = {}\n",
    "for bu_folder in splopter.backup_folders:\n",
    "    bu_tfile_path, _ = splopter.get_ta_filenames(bu_folder)\n",
    "    bu_tdata = td.Spice2TData(bu_folder / bu_tfile_path, variable_names=[td.T,\n",
    "                                                                         c.DIAG_PROBE_POT,\n",
    "                                                                         td.OBJECTSCURRENTE,\n",
    "                                                                         td.OBJECTSCURRENTI,\n",
    "                                                                         td.OBJECTSENUM,\n",
    "                                                                         td.OBJECTS])\n",
    "    bu_time, bu_probe_bias, bu_probe_current_e, bu_probe_current_i = splopter.get_tdata_raw_iv(bu_tdata)\n",
    "    bu_probe_current_tot = bu_probe_current_e + bu_probe_current_i\n",
    "    biases[bu_folder.name] = bu_probe_bias\n",
    "    currents[bu_folder.name] = bu_probe_current_tot\n",
    " "
   ]
  },
  {
   "cell_type": "code",
   "execution_count": 8,
   "metadata": {},
   "outputs": [
    {
     "data": {
      "text/plain": [
       "[<matplotlib.lines.Line2D at 0x7f0aa8de7fd0>]"
      ]
     },
     "execution_count": 8,
     "metadata": {},
     "output_type": "execute_result"
    }
   ],
   "source": [
    "# Plot all current/voltage traces in backups\n",
    "\n",
    "# fig, axes = plt.subplots(3, 1, sharex='row', sharey='row')\n",
    "prev_current = 0.0\n",
    "for bu_folder in list(biases.keys())[:]:\n",
    "    fig, axes = plt.subplots(2, 1, sharex='row', sharey='row')\n",
    "    axes[0].plot(biases[bu_folder][::1000], label=f'{bu_folder}')\n",
    "    axes[1].plot(currents[bu_folder], label=f'{bu_folder}')\n",
    "    axes[0].legend()\n",
    "    axes[1].legend()\n",
    "#     axes[1].set_ylim(-250, 50)\n",
    "    axes[1].axhline(prev_current, **c.AX_LINE_DEFAULTS)\n",
    "    \n",
    "    current_ind = np.arange(len(currents[bu_folder]))\n",
    "    prev_current_arr = np.zeros_like(current_ind) + prev_current\n",
    "    axes[1].fill_between(current_ind, 0.9 * prev_current_arr, 1.1 * prev_current_arr, facecolor='yellow', alpha=0.5)\n",
    "    \n",
    "    prev_current = currents[bu_folder][-1]\n",
    "\n",
    "\n",
    "fig, axes = plt.subplots(2, 2, sharex='col', sharey='row')\n",
    "axes[0][0].plot(splopter.iv_data['V'])\n",
    "axes[1][0].plot(splopter.iv_data['I'])\n",
    "axes[0][1].plot(splopter.raw_data['V'])\n",
    "axes[1][1].plot(splopter.raw_data['I'])"
   ]
  },
  {
   "cell_type": "code",
   "execution_count": 9,
   "metadata": {},
   "outputs": [
    {
     "name": "stdout",
     "output_type": "stream",
     "text": [
      "0.0\n"
     ]
    },
    {
     "ename": "NameError",
     "evalue": "name 'strip_head' is not defined",
     "output_type": "error",
     "traceback": [
      "\u001b[0;31m---------------------------------------------------------------------------\u001b[0m",
      "\u001b[0;31mNameError\u001b[0m                                 Traceback (most recent call last)",
      "\u001b[0;32m<ipython-input-9-2efb26f195fc>\u001b[0m in \u001b[0;36m<module>\u001b[0;34m\u001b[0m\n\u001b[1;32m     29\u001b[0m \u001b[0mdo_current_concat\u001b[0m \u001b[0;34m=\u001b[0m \u001b[0;32mTrue\u001b[0m\u001b[0;34m\u001b[0m\u001b[0;34m\u001b[0m\u001b[0m\n\u001b[1;32m     30\u001b[0m \u001b[0mindiced_oi\u001b[0m \u001b[0;34m=\u001b[0m \u001b[0;32mNone\u001b[0m\u001b[0;34m\u001b[0m\u001b[0;34m\u001b[0m\u001b[0m\n\u001b[0;32m---> 31\u001b[0;31m \u001b[0mnew_current\u001b[0m\u001b[0;34m,\u001b[0m \u001b[0mstart_point\u001b[0m \u001b[0;34m=\u001b[0m \u001b[0mstrip_head\u001b[0m\u001b[0;34m(\u001b[0m\u001b[0mcurrent\u001b[0m\u001b[0;34m,\u001b[0m \u001b[0mprev_current\u001b[0m\u001b[0;34m)\u001b[0m\u001b[0;34m\u001b[0m\u001b[0;34m\u001b[0m\u001b[0m\n\u001b[0m\u001b[1;32m     32\u001b[0m \u001b[0;34m\u001b[0m\u001b[0m\n\u001b[1;32m     33\u001b[0m \u001b[0maxes\u001b[0m\u001b[0;34m[\u001b[0m\u001b[0;36m1\u001b[0m\u001b[0;34m]\u001b[0m\u001b[0;34m.\u001b[0m\u001b[0mplot\u001b[0m\u001b[0;34m(\u001b[0m\u001b[0mnp\u001b[0m\u001b[0;34m.\u001b[0m\u001b[0marange\u001b[0m\u001b[0;34m(\u001b[0m\u001b[0mstart_point\u001b[0m\u001b[0;34m,\u001b[0m \u001b[0mlen\u001b[0m\u001b[0;34m(\u001b[0m\u001b[0mcurrent\u001b[0m\u001b[0;34m)\u001b[0m\u001b[0;34m)\u001b[0m\u001b[0;34m,\u001b[0m \u001b[0mnew_current\u001b[0m\u001b[0;34m)\u001b[0m\u001b[0;34m\u001b[0m\u001b[0;34m\u001b[0m\u001b[0m\n",
      "\u001b[0;31mNameError\u001b[0m: name 'strip_head' is not defined"
     ]
    }
   ],
   "source": [
    "# Test bed for stripping/pruning functions\n",
    "\n",
    "backup_of_interest = list(biases.keys())[2]\n",
    "current = currents[backup_of_interest]\n",
    "voltage = biases[backup_of_interest]\n",
    "prev_current = 4.001464046845688\n",
    "\n",
    "fig, axes = plt.subplots(2, 1, sharex=True, sharey=True)\n",
    "\n",
    "axes[0].plot(current, label=f'{bu_folder}')\n",
    "axes[0].axhline(prev_current, **c.AX_LINE_DEFAULTS)\n",
    "\n",
    "print(round(voltage[-1], 2))\n",
    "\n",
    "if round(voltage[-1], 2) >= 10.00:\n",
    "\n",
    "    big_spikes = np.where(np.abs(current) > 1000)\n",
    "    if len(big_spikes[0]) == 0:\n",
    "        pass\n",
    "    if len(big_spikes[0]) >= 1:\n",
    "        end_spike = big_spikes[0][np.argmax(np.abs(current[big_spikes]))]\n",
    "        print(big_spikes, end_spike)\n",
    "        axes[1].plot(np.arange(end_spike), current[:end_spike], label=f'pre-spike')\n",
    "        axes[1].plot(np.arange(end_spike+1, len(current)), current[end_spike+1:], label=f'post-spike')\n",
    "\n",
    "        axes[1].legend()\n",
    "#     axes[0].set_ylim(-300, 50)\n",
    "\n",
    "do_current_concat = True\n",
    "indiced_oi = None\n",
    "new_current, start_point = strip_head(current, prev_current)\n",
    "\n",
    "axes[1].plot(np.arange(start_point, len(current)), new_current)\n",
    "for i in range(2):\n",
    "    axes[i].axvline(start_point, **c.AX_LINE_DEFAULTS)"
   ]
  },
  {
   "cell_type": "code",
   "execution_count": 15,
   "metadata": {},
   "outputs": [],
   "source": [
    "def strip_head(current, prev_current):\n",
    "    print(f'prev_current = {prev_current}')\n",
    "    \n",
    "    # Primary method - find first point roughly equal to previous end value\n",
    "    start_points = np.where(np.logical_and(current >= prev_current * 0.8, current <= prev_current * 1.2))\n",
    "    if len(start_points[0]) > 0:\n",
    "        for start_point in start_points[0]:\n",
    "            if not any(current[start_point:] == 0.0):\n",
    "                print('Successfully used primary method')\n",
    "                return current[start_point:], start_point\n",
    "            else:\n",
    "                print(f'Failed with start_point {start_point}')\n",
    "    \n",
    "    # Secondary method - find last zero in current array and take the succeeding value\n",
    "    zero_indices = np.where(current == 0.0)[0]\n",
    "    if current[-1] != 0.0 and len(zero_indices) > 0:\n",
    "        # Take start point to be the value one place along from the final 0\n",
    "        start_point = np.max(zero_indices + 1)\n",
    "        print('Successfully used secondary method')\n",
    "        return current[start_point:], start_point\n",
    "    \n",
    "    return None, None \n",
    "\n",
    "def strip_tail(current, threshold=2000):\n",
    "    # Strip tail section if present\n",
    "    big_spikes = np.where(np.abs(current) > threshold)\n",
    "    if len(big_spikes[0]) == 0:\n",
    "        print('No spikes found on tail.')\n",
    "    elif len(big_spikes[0]) >= 1:\n",
    "        end_spike = big_spikes[0][np.argmax(np.abs(current[big_spikes]))]\n",
    "        current = current[:end_spike]\n",
    "    return current\n",
    "\n",
    "def prune_voltage(voltage):\n",
    "    bias_diff = np.abs(np.diff(voltage))\n",
    "\n",
    "    # Find spikes in voltage data\n",
    "    bias_diff_ext = np.append(bias_diff, 0)\n",
    "    bias_diff_offset = np.append(0, bias_diff)\n",
    "    spikes = np.where(np.logical_and(bias_diff_ext > 5, bias_diff_offset > 5))\n",
    "\n",
    "    for spike in spikes:\n",
    "        if spike == 0: \n",
    "            voltage[spike] = voltage[1]\n",
    "        elif spike == len(voltage):\n",
    "            voltage[spike] = 10.05\n",
    "        else:\n",
    "            voltage[spike] = np.mean([voltage[spike+1], voltage[spike-1]])\n",
    "    return voltage"
   ]
  },
  {
   "cell_type": "code",
   "execution_count": 18,
   "metadata": {},
   "outputs": [
    {
     "name": "stdout",
     "output_type": "stream",
     "text": [
      "Detected finish, stripping tail for backup 1\n",
      "Stripping head for backup 1\n",
      "prev_current = 7.856442390517522\n",
      "Failed with start_point 1\n",
      "Successfully used primary method\n",
      "902\n"
     ]
    },
    {
     "data": {
      "text/plain": [
       "[<matplotlib.lines.Line2D at 0x7f0aa7abd048>]"
      ]
     },
     "execution_count": 18,
     "metadata": {},
     "output_type": "execute_result"
    }
   ],
   "source": [
    "concatted_current = np.array([])\n",
    "concatted_voltage = np.array([])\n",
    "prev_current = 0.0\n",
    "prev_voltage = 0.0\n",
    "\n",
    "for i, backup_of_interest in enumerate(biases.keys()):\n",
    "    \n",
    "    current = currents[backup_of_interest].copy()\n",
    "    voltage = biases[backup_of_interest].copy()\n",
    "    finished_fl = False\n",
    "    \n",
    "    if i == 0:\n",
    "        # If first step then whole current array is left for concatting and final \n",
    "        # current value is stored for next iteration to assist in stripping\n",
    "        prev_current = current[-1]\n",
    "    \n",
    "    fig, ax = plt.subplots()\n",
    "    ax.plot(np.arange(len(current)), current)\n",
    "    \n",
    "    if round(voltage[-1], 2) >= 9.95 or i+1 == len(biases):\n",
    "        # If final step then strip off the end spike, zeroes and appended IV, if \n",
    "        # present\n",
    "        print(f'Detected finish, stripping tail for backup {i}')\n",
    "        finished_fl = True\n",
    "        current = strip_tail(current)\n",
    "        ax.plot(np.arange(len(current)), current)\n",
    "    \n",
    "    if i >= 1:\n",
    "        # If not the first step then strip the leading zeroes/spikes\n",
    "        print(f'Stripping head for backup {i}')\n",
    "        post_tailstrip_length = len(current)\n",
    "        current, start_point = strip_head(current, prev_current)\n",
    "        prev_current = current[-1]\n",
    "    \n",
    "        print(start_point)\n",
    "        ax.plot(np.arange(start_point, post_tailstrip_length), current)\n",
    "    \n",
    "    concatted_current = np.append(concatted_current, current)\n",
    "    \n",
    "    if finished_fl:\n",
    "        # Final version of voltage is stored in completed run, needs some minor pruning\n",
    "        concatted_voltage = prune_voltage(voltage)\n",
    "        break\n",
    "      \n",
    "\n",
    "fig, axes = plt.subplots(2, 1)\n",
    "axes[0].plot(concatted_current)\n",
    "axes[1].plot(concatted_voltage, color='r')\n",
    "\n",
    "           \n",
    "    "
   ]
  },
  {
   "cell_type": "code",
   "execution_count": 27,
   "metadata": {},
   "outputs": [
    {
     "name": "stdout",
     "output_type": "stream",
     "text": [
      "533 533 533\n",
      "length of spikes 532\n"
     ]
    }
   ],
   "source": [
    "print(len(splopter.iv_data['V']), len(splopter.iv_data['I']), len(splopter.iv_data['t']))\n",
    "\n",
    "spikes = np.where(np.abs(np.diff(splopter.iv_data['V'])) < 5)\n",
    "print(f'length of spikes {len(spikes[0])}')\n",
    "iv_data_backup = splopter.iv_data['V']\n",
    "# splopter.iv_data['V'] = splopter.iv_data['V'][spikes]\n",
    "\n",
    "plt.plot(splopter.iv_data['t'], splopter.iv_data['V'])\n",
    "plt.show()\n"
   ]
  },
  {
   "cell_type": "code",
   "execution_count": 29,
   "metadata": {},
   "outputs": [],
   "source": [
    "splopter.iv_data.plot()"
   ]
  },
  {
   "cell_type": "markdown",
   "metadata": {},
   "source": [
    "The below is the current method for removing spikes from the concatted bias data. It seems that there's a length mismatch between the bias and current arrays, which is causing some headaches. In a specific test example removing the spikes seems to prevent this, but this doesn't seem to apply generally as a non-restarted (and therefore non-concattable) run is seeing the same issue. Will need to check the homogenisation method to check what it's doing. "
   ]
  },
  {
   "cell_type": "code",
   "execution_count": 57,
   "metadata": {},
   "outputs": [
    {
     "name": "stdout",
     "output_type": "stream",
     "text": [
      "586 585 585\n",
      "length of spikes 585\n",
      "[-9.9]\n"
     ]
    }
   ],
   "source": [
    "splopt = splopter\n",
    "\n",
    "# Inital rought method for removing the spikes in voltage data. \n",
    "print(len(splopt.iv_data['V']), len(splopt.iv_data['I']), len(splopt.iv_data['t']))\n",
    "iv_data_backup = copy.deepcopy(splopt.iv_data['V'])\n",
    "\n",
    "bias_diff = np.abs(np.diff(splopt.iv_data['V']))\n",
    "print(f'length of spikes {len(bias_diff)}')\n",
    "\n",
    "\n",
    "# averaged_diff = np.zeros_like(splopt.iv_data['V'])\n",
    "bias_diff_ext = np.append(np.abs(np.diff(splopt.iv_data['V'])), 0)\n",
    "bias_diff_offset = np.append(0, np.abs(np.diff(splopt.iv_data['V'])))\n",
    "spikes = np.where(np.logical_and(bias_diff_ext > 5, bias_diff_offset > 5))\n",
    "\n",
    "for spike in spikes:\n",
    "    iv_data_backup[spike] = np.mean([splopt.iv_data['V'][spike+1], splopt.iv_data['V'][spike-1]])\n",
    "    \n",
    "print(splopt.iv_data['V'][spikes])\n",
    "\n",
    "fig, ax = plt.subplots(2, sharex=True)\n",
    "ax[0].plot(bias_diff_ext)\n",
    "ax[0].plot(bias_diff_offset)\n",
    "ax[1].plot(np.logical_and(bias_diff_ext > 5, bias_diff_offset > 5))\n",
    "\n",
    "fig, ax = plt.subplots(2, sharex=True, sharey=True)\n",
    "ax[0].plot(splopt.iv_data['V'])\n",
    "ax[1].plot(iv_data_backup)\n",
    "\n",
    "# splopter.iv_data['V'] = splopter.iv_data['V'][spikes]\n",
    "\n",
    "# plt.plot(splopter_single.iv_data['t'], splopter_single.iv_data['V'])\n",
    "plt.show()"
   ]
  },
  {
   "cell_type": "code",
   "execution_count": 68,
   "metadata": {},
   "outputs": [
    {
     "ename": "ValueError",
     "evalue": "shape mismatch: objects cannot be broadcast to a single shape",
     "output_type": "error",
     "traceback": [
      "\u001b[0;31m---------------------------------------------------------------------------\u001b[0m",
      "\u001b[0;31mValueError\u001b[0m                                Traceback (most recent call last)",
      "\u001b[0;32m<ipython-input-68-16789140d18f>\u001b[0m in \u001b[0;36m<module>\u001b[0;34m\u001b[0m\n\u001b[0;32m----> 1\u001b[0;31m \u001b[0msplopter_single\u001b[0m\u001b[0;34m.\u001b[0m\u001b[0mraw_data\u001b[0m\u001b[0;34m.\u001b[0m\u001b[0mplot\u001b[0m\u001b[0;34m(\u001b[0m\u001b[0;34m)\u001b[0m\u001b[0;34m\u001b[0m\u001b[0;34m\u001b[0m\u001b[0m\n\u001b[0m",
      "\u001b[0;32m~/coding/projects/flopter/flopter/core/ivdata.py\u001b[0m in \u001b[0;36mplot\u001b[0;34m(self, ax, trim_lines_fl, axes_labels, **kwargs)\u001b[0m\n\u001b[1;32m    124\u001b[0m             \u001b[0mplot_func\u001b[0m \u001b[0;34m=\u001b[0m \u001b[0max\u001b[0m\u001b[0;34m.\u001b[0m\u001b[0mplot\u001b[0m\u001b[0;34m\u001b[0m\u001b[0;34m\u001b[0m\u001b[0m\n\u001b[1;32m    125\u001b[0m \u001b[0;34m\u001b[0m\u001b[0m\n\u001b[0;32m--> 126\u001b[0;31m         \u001b[0mplot_func\u001b[0m\u001b[0;34m(\u001b[0m\u001b[0mself\u001b[0m\u001b[0;34m[\u001b[0m\u001b[0mc\u001b[0m\u001b[0;34m.\u001b[0m\u001b[0mPOTENTIAL\u001b[0m\u001b[0;34m]\u001b[0m\u001b[0;34m,\u001b[0m \u001b[0mself\u001b[0m\u001b[0;34m[\u001b[0m\u001b[0mc\u001b[0m\u001b[0;34m.\u001b[0m\u001b[0mCURRENT\u001b[0m\u001b[0;34m]\u001b[0m\u001b[0;34m,\u001b[0m \u001b[0;34m**\u001b[0m\u001b[0mkwargs\u001b[0m\u001b[0;34m)\u001b[0m\u001b[0;34m\u001b[0m\u001b[0;34m\u001b[0m\u001b[0m\n\u001b[0m\u001b[1;32m    127\u001b[0m         \u001b[0max\u001b[0m\u001b[0;34m.\u001b[0m\u001b[0maxhline\u001b[0m\u001b[0;34m(\u001b[0m\u001b[0my\u001b[0m\u001b[0;34m=\u001b[0m\u001b[0;36m0.0\u001b[0m\u001b[0;34m,\u001b[0m \u001b[0;34m**\u001b[0m\u001b[0mc\u001b[0m\u001b[0;34m.\u001b[0m\u001b[0mAX_LINE_DEFAULTS\u001b[0m\u001b[0;34m)\u001b[0m\u001b[0;34m\u001b[0m\u001b[0;34m\u001b[0m\u001b[0m\n\u001b[1;32m    128\u001b[0m \u001b[0;34m\u001b[0m\u001b[0m\n",
      "\u001b[0;32m~/coding/environments/python3.6/lib/python3.6/site-packages/matplotlib/__init__.py\u001b[0m in \u001b[0;36minner\u001b[0;34m(ax, data, *args, **kwargs)\u001b[0m\n\u001b[1;32m   1599\u001b[0m     \u001b[0;32mdef\u001b[0m \u001b[0minner\u001b[0m\u001b[0;34m(\u001b[0m\u001b[0max\u001b[0m\u001b[0;34m,\u001b[0m \u001b[0;34m*\u001b[0m\u001b[0margs\u001b[0m\u001b[0;34m,\u001b[0m \u001b[0mdata\u001b[0m\u001b[0;34m=\u001b[0m\u001b[0;32mNone\u001b[0m\u001b[0;34m,\u001b[0m \u001b[0;34m**\u001b[0m\u001b[0mkwargs\u001b[0m\u001b[0;34m)\u001b[0m\u001b[0;34m:\u001b[0m\u001b[0;34m\u001b[0m\u001b[0;34m\u001b[0m\u001b[0m\n\u001b[1;32m   1600\u001b[0m         \u001b[0;32mif\u001b[0m \u001b[0mdata\u001b[0m \u001b[0;32mis\u001b[0m \u001b[0;32mNone\u001b[0m\u001b[0;34m:\u001b[0m\u001b[0;34m\u001b[0m\u001b[0;34m\u001b[0m\u001b[0m\n\u001b[0;32m-> 1601\u001b[0;31m             \u001b[0;32mreturn\u001b[0m \u001b[0mfunc\u001b[0m\u001b[0;34m(\u001b[0m\u001b[0max\u001b[0m\u001b[0;34m,\u001b[0m \u001b[0;34m*\u001b[0m\u001b[0mmap\u001b[0m\u001b[0;34m(\u001b[0m\u001b[0msanitize_sequence\u001b[0m\u001b[0;34m,\u001b[0m \u001b[0margs\u001b[0m\u001b[0;34m)\u001b[0m\u001b[0;34m,\u001b[0m \u001b[0;34m**\u001b[0m\u001b[0mkwargs\u001b[0m\u001b[0;34m)\u001b[0m\u001b[0;34m\u001b[0m\u001b[0;34m\u001b[0m\u001b[0m\n\u001b[0m\u001b[1;32m   1602\u001b[0m \u001b[0;34m\u001b[0m\u001b[0m\n\u001b[1;32m   1603\u001b[0m         \u001b[0mbound\u001b[0m \u001b[0;34m=\u001b[0m \u001b[0mnew_sig\u001b[0m\u001b[0;34m.\u001b[0m\u001b[0mbind\u001b[0m\u001b[0;34m(\u001b[0m\u001b[0max\u001b[0m\u001b[0;34m,\u001b[0m \u001b[0;34m*\u001b[0m\u001b[0margs\u001b[0m\u001b[0;34m,\u001b[0m \u001b[0;34m**\u001b[0m\u001b[0mkwargs\u001b[0m\u001b[0;34m)\u001b[0m\u001b[0;34m\u001b[0m\u001b[0;34m\u001b[0m\u001b[0m\n",
      "\u001b[0;32m~/coding/environments/python3.6/lib/python3.6/site-packages/matplotlib/axes/_axes.py\u001b[0m in \u001b[0;36merrorbar\u001b[0;34m(self, x, y, yerr, xerr, fmt, ecolor, elinewidth, capsize, barsabove, lolims, uplims, xlolims, xuplims, errorevery, capthick, **kwargs)\u001b[0m\n\u001b[1;32m   3312\u001b[0m         \u001b[0;32mif\u001b[0m \u001b[0mplot_line\u001b[0m\u001b[0;34m:\u001b[0m\u001b[0;34m\u001b[0m\u001b[0;34m\u001b[0m\u001b[0m\n\u001b[1;32m   3313\u001b[0m             \u001b[0mdata_line\u001b[0m \u001b[0;34m=\u001b[0m \u001b[0mmlines\u001b[0m\u001b[0;34m.\u001b[0m\u001b[0mLine2D\u001b[0m\u001b[0;34m(\u001b[0m\u001b[0mx\u001b[0m\u001b[0;34m,\u001b[0m \u001b[0my\u001b[0m\u001b[0;34m,\u001b[0m \u001b[0;34m**\u001b[0m\u001b[0mplot_line_style\u001b[0m\u001b[0;34m)\u001b[0m\u001b[0;34m\u001b[0m\u001b[0;34m\u001b[0m\u001b[0m\n\u001b[0;32m-> 3314\u001b[0;31m             \u001b[0mself\u001b[0m\u001b[0;34m.\u001b[0m\u001b[0madd_line\u001b[0m\u001b[0;34m(\u001b[0m\u001b[0mdata_line\u001b[0m\u001b[0;34m)\u001b[0m\u001b[0;34m\u001b[0m\u001b[0;34m\u001b[0m\u001b[0m\n\u001b[0m\u001b[1;32m   3315\u001b[0m \u001b[0;34m\u001b[0m\u001b[0m\n\u001b[1;32m   3316\u001b[0m         \u001b[0mbarcols\u001b[0m \u001b[0;34m=\u001b[0m \u001b[0;34m[\u001b[0m\u001b[0;34m]\u001b[0m\u001b[0;34m\u001b[0m\u001b[0;34m\u001b[0m\u001b[0m\n",
      "\u001b[0;32m~/coding/environments/python3.6/lib/python3.6/site-packages/matplotlib/axes/_base.py\u001b[0m in \u001b[0;36madd_line\u001b[0;34m(self, line)\u001b[0m\n\u001b[1;32m   1900\u001b[0m             \u001b[0mline\u001b[0m\u001b[0;34m.\u001b[0m\u001b[0mset_clip_path\u001b[0m\u001b[0;34m(\u001b[0m\u001b[0mself\u001b[0m\u001b[0;34m.\u001b[0m\u001b[0mpatch\u001b[0m\u001b[0;34m)\u001b[0m\u001b[0;34m\u001b[0m\u001b[0;34m\u001b[0m\u001b[0m\n\u001b[1;32m   1901\u001b[0m \u001b[0;34m\u001b[0m\u001b[0m\n\u001b[0;32m-> 1902\u001b[0;31m         \u001b[0mself\u001b[0m\u001b[0;34m.\u001b[0m\u001b[0m_update_line_limits\u001b[0m\u001b[0;34m(\u001b[0m\u001b[0mline\u001b[0m\u001b[0;34m)\u001b[0m\u001b[0;34m\u001b[0m\u001b[0;34m\u001b[0m\u001b[0m\n\u001b[0m\u001b[1;32m   1903\u001b[0m         \u001b[0;32mif\u001b[0m \u001b[0;32mnot\u001b[0m \u001b[0mline\u001b[0m\u001b[0;34m.\u001b[0m\u001b[0mget_label\u001b[0m\u001b[0;34m(\u001b[0m\u001b[0;34m)\u001b[0m\u001b[0;34m:\u001b[0m\u001b[0;34m\u001b[0m\u001b[0;34m\u001b[0m\u001b[0m\n\u001b[1;32m   1904\u001b[0m             \u001b[0mline\u001b[0m\u001b[0;34m.\u001b[0m\u001b[0mset_label\u001b[0m\u001b[0;34m(\u001b[0m\u001b[0;34m'_line%d'\u001b[0m \u001b[0;34m%\u001b[0m \u001b[0mlen\u001b[0m\u001b[0;34m(\u001b[0m\u001b[0mself\u001b[0m\u001b[0;34m.\u001b[0m\u001b[0mlines\u001b[0m\u001b[0;34m)\u001b[0m\u001b[0;34m)\u001b[0m\u001b[0;34m\u001b[0m\u001b[0;34m\u001b[0m\u001b[0m\n",
      "\u001b[0;32m~/coding/environments/python3.6/lib/python3.6/site-packages/matplotlib/axes/_base.py\u001b[0m in \u001b[0;36m_update_line_limits\u001b[0;34m(self, line)\u001b[0m\n\u001b[1;32m   1922\u001b[0m         \u001b[0mFigures\u001b[0m \u001b[0mout\u001b[0m \u001b[0mthe\u001b[0m \u001b[0mdata\u001b[0m \u001b[0mlimit\u001b[0m \u001b[0mof\u001b[0m \u001b[0mthe\u001b[0m \u001b[0mgiven\u001b[0m \u001b[0mline\u001b[0m\u001b[0;34m,\u001b[0m \u001b[0mupdating\u001b[0m \u001b[0mself\u001b[0m\u001b[0;34m.\u001b[0m\u001b[0mdataLim\u001b[0m\u001b[0;34m.\u001b[0m\u001b[0;34m\u001b[0m\u001b[0;34m\u001b[0m\u001b[0m\n\u001b[1;32m   1923\u001b[0m         \"\"\"\n\u001b[0;32m-> 1924\u001b[0;31m         \u001b[0mpath\u001b[0m \u001b[0;34m=\u001b[0m \u001b[0mline\u001b[0m\u001b[0;34m.\u001b[0m\u001b[0mget_path\u001b[0m\u001b[0;34m(\u001b[0m\u001b[0;34m)\u001b[0m\u001b[0;34m\u001b[0m\u001b[0;34m\u001b[0m\u001b[0m\n\u001b[0m\u001b[1;32m   1925\u001b[0m         \u001b[0;32mif\u001b[0m \u001b[0mpath\u001b[0m\u001b[0;34m.\u001b[0m\u001b[0mvertices\u001b[0m\u001b[0;34m.\u001b[0m\u001b[0msize\u001b[0m \u001b[0;34m==\u001b[0m \u001b[0;36m0\u001b[0m\u001b[0;34m:\u001b[0m\u001b[0;34m\u001b[0m\u001b[0;34m\u001b[0m\u001b[0m\n\u001b[1;32m   1926\u001b[0m             \u001b[0;32mreturn\u001b[0m\u001b[0;34m\u001b[0m\u001b[0;34m\u001b[0m\u001b[0m\n",
      "\u001b[0;32m~/coding/environments/python3.6/lib/python3.6/site-packages/matplotlib/lines.py\u001b[0m in \u001b[0;36mget_path\u001b[0;34m(self)\u001b[0m\n\u001b[1;32m   1025\u001b[0m         \"\"\"\n\u001b[1;32m   1026\u001b[0m         \u001b[0;32mif\u001b[0m \u001b[0mself\u001b[0m\u001b[0;34m.\u001b[0m\u001b[0m_invalidy\u001b[0m \u001b[0;32mor\u001b[0m \u001b[0mself\u001b[0m\u001b[0;34m.\u001b[0m\u001b[0m_invalidx\u001b[0m\u001b[0;34m:\u001b[0m\u001b[0;34m\u001b[0m\u001b[0;34m\u001b[0m\u001b[0m\n\u001b[0;32m-> 1027\u001b[0;31m             \u001b[0mself\u001b[0m\u001b[0;34m.\u001b[0m\u001b[0mrecache\u001b[0m\u001b[0;34m(\u001b[0m\u001b[0;34m)\u001b[0m\u001b[0;34m\u001b[0m\u001b[0;34m\u001b[0m\u001b[0m\n\u001b[0m\u001b[1;32m   1028\u001b[0m         \u001b[0;32mreturn\u001b[0m \u001b[0mself\u001b[0m\u001b[0;34m.\u001b[0m\u001b[0m_path\u001b[0m\u001b[0;34m\u001b[0m\u001b[0;34m\u001b[0m\u001b[0m\n\u001b[1;32m   1029\u001b[0m \u001b[0;34m\u001b[0m\u001b[0m\n",
      "\u001b[0;32m~/coding/environments/python3.6/lib/python3.6/site-packages/matplotlib/lines.py\u001b[0m in \u001b[0;36mrecache\u001b[0;34m(self, always)\u001b[0m\n\u001b[1;32m    677\u001b[0m             \u001b[0my\u001b[0m \u001b[0;34m=\u001b[0m \u001b[0mself\u001b[0m\u001b[0;34m.\u001b[0m\u001b[0m_y\u001b[0m\u001b[0;34m\u001b[0m\u001b[0;34m\u001b[0m\u001b[0m\n\u001b[1;32m    678\u001b[0m \u001b[0;34m\u001b[0m\u001b[0m\n\u001b[0;32m--> 679\u001b[0;31m         \u001b[0mself\u001b[0m\u001b[0;34m.\u001b[0m\u001b[0m_xy\u001b[0m \u001b[0;34m=\u001b[0m \u001b[0mnp\u001b[0m\u001b[0;34m.\u001b[0m\u001b[0mcolumn_stack\u001b[0m\u001b[0;34m(\u001b[0m\u001b[0mnp\u001b[0m\u001b[0;34m.\u001b[0m\u001b[0mbroadcast_arrays\u001b[0m\u001b[0;34m(\u001b[0m\u001b[0mx\u001b[0m\u001b[0;34m,\u001b[0m \u001b[0my\u001b[0m\u001b[0;34m)\u001b[0m\u001b[0;34m)\u001b[0m\u001b[0;34m.\u001b[0m\u001b[0mastype\u001b[0m\u001b[0;34m(\u001b[0m\u001b[0mfloat\u001b[0m\u001b[0;34m)\u001b[0m\u001b[0;34m\u001b[0m\u001b[0;34m\u001b[0m\u001b[0m\n\u001b[0m\u001b[1;32m    680\u001b[0m         \u001b[0mself\u001b[0m\u001b[0;34m.\u001b[0m\u001b[0m_x\u001b[0m\u001b[0;34m,\u001b[0m \u001b[0mself\u001b[0m\u001b[0;34m.\u001b[0m\u001b[0m_y\u001b[0m \u001b[0;34m=\u001b[0m \u001b[0mself\u001b[0m\u001b[0;34m.\u001b[0m\u001b[0m_xy\u001b[0m\u001b[0;34m.\u001b[0m\u001b[0mT\u001b[0m  \u001b[0;31m# views\u001b[0m\u001b[0;34m\u001b[0m\u001b[0;34m\u001b[0m\u001b[0m\n\u001b[1;32m    681\u001b[0m \u001b[0;34m\u001b[0m\u001b[0m\n",
      "\u001b[0;32m<__array_function__ internals>\u001b[0m in \u001b[0;36mbroadcast_arrays\u001b[0;34m(*args, **kwargs)\u001b[0m\n",
      "\u001b[0;32m~/coding/environments/python3.6/lib/python3.6/site-packages/numpy/lib/stride_tricks.py\u001b[0m in \u001b[0;36mbroadcast_arrays\u001b[0;34m(*args, **kwargs)\u001b[0m\n\u001b[1;32m    262\u001b[0m     \u001b[0margs\u001b[0m \u001b[0;34m=\u001b[0m \u001b[0;34m[\u001b[0m\u001b[0mnp\u001b[0m\u001b[0;34m.\u001b[0m\u001b[0marray\u001b[0m\u001b[0;34m(\u001b[0m\u001b[0m_m\u001b[0m\u001b[0;34m,\u001b[0m \u001b[0mcopy\u001b[0m\u001b[0;34m=\u001b[0m\u001b[0;32mFalse\u001b[0m\u001b[0;34m,\u001b[0m \u001b[0msubok\u001b[0m\u001b[0;34m=\u001b[0m\u001b[0msubok\u001b[0m\u001b[0;34m)\u001b[0m \u001b[0;32mfor\u001b[0m \u001b[0m_m\u001b[0m \u001b[0;32min\u001b[0m \u001b[0margs\u001b[0m\u001b[0;34m]\u001b[0m\u001b[0;34m\u001b[0m\u001b[0;34m\u001b[0m\u001b[0m\n\u001b[1;32m    263\u001b[0m \u001b[0;34m\u001b[0m\u001b[0m\n\u001b[0;32m--> 264\u001b[0;31m     \u001b[0mshape\u001b[0m \u001b[0;34m=\u001b[0m \u001b[0m_broadcast_shape\u001b[0m\u001b[0;34m(\u001b[0m\u001b[0;34m*\u001b[0m\u001b[0margs\u001b[0m\u001b[0;34m)\u001b[0m\u001b[0;34m\u001b[0m\u001b[0;34m\u001b[0m\u001b[0m\n\u001b[0m\u001b[1;32m    265\u001b[0m \u001b[0;34m\u001b[0m\u001b[0m\n\u001b[1;32m    266\u001b[0m     \u001b[0;32mif\u001b[0m \u001b[0mall\u001b[0m\u001b[0;34m(\u001b[0m\u001b[0marray\u001b[0m\u001b[0;34m.\u001b[0m\u001b[0mshape\u001b[0m \u001b[0;34m==\u001b[0m \u001b[0mshape\u001b[0m \u001b[0;32mfor\u001b[0m \u001b[0marray\u001b[0m \u001b[0;32min\u001b[0m \u001b[0margs\u001b[0m\u001b[0;34m)\u001b[0m\u001b[0;34m:\u001b[0m\u001b[0;34m\u001b[0m\u001b[0;34m\u001b[0m\u001b[0m\n",
      "\u001b[0;32m~/coding/environments/python3.6/lib/python3.6/site-packages/numpy/lib/stride_tricks.py\u001b[0m in \u001b[0;36m_broadcast_shape\u001b[0;34m(*args)\u001b[0m\n\u001b[1;32m    189\u001b[0m     \u001b[0;31m# use the old-iterator because np.nditer does not handle size 0 arrays\u001b[0m\u001b[0;34m\u001b[0m\u001b[0;34m\u001b[0m\u001b[0;34m\u001b[0m\u001b[0m\n\u001b[1;32m    190\u001b[0m     \u001b[0;31m# consistently\u001b[0m\u001b[0;34m\u001b[0m\u001b[0;34m\u001b[0m\u001b[0;34m\u001b[0m\u001b[0m\n\u001b[0;32m--> 191\u001b[0;31m     \u001b[0mb\u001b[0m \u001b[0;34m=\u001b[0m \u001b[0mnp\u001b[0m\u001b[0;34m.\u001b[0m\u001b[0mbroadcast\u001b[0m\u001b[0;34m(\u001b[0m\u001b[0;34m*\u001b[0m\u001b[0margs\u001b[0m\u001b[0;34m[\u001b[0m\u001b[0;34m:\u001b[0m\u001b[0;36m32\u001b[0m\u001b[0;34m]\u001b[0m\u001b[0;34m)\u001b[0m\u001b[0;34m\u001b[0m\u001b[0;34m\u001b[0m\u001b[0m\n\u001b[0m\u001b[1;32m    192\u001b[0m     \u001b[0;31m# unfortunately, it cannot handle 32 or more arguments directly\u001b[0m\u001b[0;34m\u001b[0m\u001b[0;34m\u001b[0m\u001b[0;34m\u001b[0m\u001b[0m\n\u001b[1;32m    193\u001b[0m     \u001b[0;32mfor\u001b[0m \u001b[0mpos\u001b[0m \u001b[0;32min\u001b[0m \u001b[0mrange\u001b[0m\u001b[0;34m(\u001b[0m\u001b[0;36m32\u001b[0m\u001b[0;34m,\u001b[0m \u001b[0mlen\u001b[0m\u001b[0;34m(\u001b[0m\u001b[0margs\u001b[0m\u001b[0;34m)\u001b[0m\u001b[0;34m,\u001b[0m \u001b[0;36m31\u001b[0m\u001b[0;34m)\u001b[0m\u001b[0;34m:\u001b[0m\u001b[0;34m\u001b[0m\u001b[0;34m\u001b[0m\u001b[0m\n",
      "\u001b[0;31mValueError\u001b[0m: shape mismatch: objects cannot be broadcast to a single shape"
     ]
    }
   ],
   "source": [
    "splopter_single.raw_data.plot()"
   ]
  },
  {
   "cell_type": "code",
   "execution_count": null,
   "metadata": {},
   "outputs": [],
   "source": []
  }
 ],
 "metadata": {
  "kernelspec": {
   "display_name": "python3.6-codac",
   "language": "python",
   "name": "python3.6-codac"
  },
  "language_info": {
   "codemirror_mode": {
    "name": "ipython",
    "version": 3
   },
   "file_extension": ".py",
   "mimetype": "text/x-python",
   "name": "python",
   "nbconvert_exporter": "python",
   "pygments_lexer": "ipython3",
   "version": "3.6.9"
  }
 },
 "nbformat": 4,
 "nbformat_minor": 4
}
