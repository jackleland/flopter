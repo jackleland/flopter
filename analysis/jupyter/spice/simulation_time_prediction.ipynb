{
 "cells": [
  {
   "cell_type": "markdown",
   "metadata": {},
   "source": [
    "# Notebook for the estimation of a time-scaling law for SPICE simulations"
   ]
  },
  {
   "cell_type": "code",
   "execution_count": 37,
   "metadata": {},
   "outputs": [],
   "source": [
    "%matplotlib tk\n",
    "import numpy as np\n",
    "import matplotlib.pyplot as plt\n",
    "import pandas as pd"
   ]
  },
  {
   "cell_type": "code",
   "execution_count": 27,
   "metadata": {},
   "outputs": [
    {
     "data": {
      "text/html": [
       "<div>\n",
       "<style scoped>\n",
       "    .dataframe tbody tr th:only-of-type {\n",
       "        vertical-align: middle;\n",
       "    }\n",
       "\n",
       "    .dataframe tbody tr th {\n",
       "        vertical-align: top;\n",
       "    }\n",
       "\n",
       "    .dataframe thead th {\n",
       "        text-align: right;\n",
       "    }\n",
       "</style>\n",
       "<table border=\"1\" class=\"dataframe\">\n",
       "  <thead>\n",
       "    <tr style=\"text-align: right;\">\n",
       "      <th></th>\n",
       "      <th>alpha</th>\n",
       "      <th>actual_corehours</th>\n",
       "      <th>L_tof</th>\n",
       "      <th>conversion</th>\n",
       "    </tr>\n",
       "  </thead>\n",
       "  <tbody>\n",
       "    <tr>\n",
       "      <th>0</th>\n",
       "      <td>3.0</td>\n",
       "      <td>14.569472</td>\n",
       "      <td>19.107323</td>\n",
       "      <td>0.762507</td>\n",
       "    </tr>\n",
       "    <tr>\n",
       "      <th>1</th>\n",
       "      <td>4.0</td>\n",
       "      <td>10.770793</td>\n",
       "      <td>14.335587</td>\n",
       "      <td>0.751333</td>\n",
       "    </tr>\n",
       "    <tr>\n",
       "      <th>2</th>\n",
       "      <td>5.0</td>\n",
       "      <td>8.574950</td>\n",
       "      <td>11.473713</td>\n",
       "      <td>0.747356</td>\n",
       "    </tr>\n",
       "    <tr>\n",
       "      <th>3</th>\n",
       "      <td>6.0</td>\n",
       "      <td>7.169655</td>\n",
       "      <td>9.566772</td>\n",
       "      <td>0.749433</td>\n",
       "    </tr>\n",
       "    <tr>\n",
       "      <th>4</th>\n",
       "      <td>7.0</td>\n",
       "      <td>6.138950</td>\n",
       "      <td>8.205509</td>\n",
       "      <td>0.748150</td>\n",
       "    </tr>\n",
       "    <tr>\n",
       "      <th>5</th>\n",
       "      <td>8.0</td>\n",
       "      <td>5.365911</td>\n",
       "      <td>7.185297</td>\n",
       "      <td>0.746791</td>\n",
       "    </tr>\n",
       "    <tr>\n",
       "      <th>6</th>\n",
       "      <td>9.0</td>\n",
       "      <td>4.816818</td>\n",
       "      <td>6.392453</td>\n",
       "      <td>0.753516</td>\n",
       "    </tr>\n",
       "    <tr>\n",
       "      <th>7</th>\n",
       "      <td>10.0</td>\n",
       "      <td>4.097235</td>\n",
       "      <td>5.758770</td>\n",
       "      <td>0.711477</td>\n",
       "    </tr>\n",
       "  </tbody>\n",
       "</table>\n",
       "</div>"
      ],
      "text/plain": [
       "   alpha  actual_corehours      L_tof  conversion\n",
       "0    3.0         14.569472  19.107323    0.762507\n",
       "1    4.0         10.770793  14.335587    0.751333\n",
       "2    5.0          8.574950  11.473713    0.747356\n",
       "3    6.0          7.169655   9.566772    0.749433\n",
       "4    7.0          6.138950   8.205509    0.748150\n",
       "5    8.0          5.365911   7.185297    0.746791\n",
       "6    9.0          4.816818   6.392453    0.753516\n",
       "7   10.0          4.097235   5.758770    0.711477"
      ]
     },
     "execution_count": 27,
     "metadata": {},
     "output_type": "execute_result"
    }
   ],
   "source": [
    "alphas = np.arange(3.0, 11.0)\n",
    "l_tof = 1/np.sin(np.radians(alphas))\n",
    "actual_corehrs = np.array([\n",
    "    14.56947167, \n",
    "    10.77079306,\n",
    "    8.574949722,\n",
    "    7.169655,\n",
    "    6.138950278,\n",
    "    5.365911389,\n",
    "    4.816818333,\n",
    "    4.097235,\n",
    "])\n",
    "\n",
    "corehrs_df = pd.DataFrame({'alpha': alphas, 'actual_corehours': actual_corehrs, 'L_tof': l_tof, 'conversion': actual_corehrs / l_tof})\n",
    "corehrs_df"
   ]
  },
  {
   "cell_type": "code",
   "execution_count": 25,
   "metadata": {},
   "outputs": [
    {
     "name": "stdout",
     "output_type": "stream",
     "text": [
      "0.7114773912231653\n"
     ]
    }
   ],
   "source": [
    "basis = actual_corehrs[-1]\n",
    "print(basis*np.sin(np.radians(10)))"
   ]
  },
  {
   "cell_type": "code",
   "execution_count": 40,
   "metadata": {},
   "outputs": [
    {
     "name": "stdout",
     "output_type": "stream",
     "text": [
      "6.0 0.003902872807131974\n"
     ]
    }
   ],
   "source": [
    "fig, ax = plt.subplots(2, sharex=True)\n",
    "avg_diff = []\n",
    "std_diff = []\n",
    "\n",
    "for i, convfactor in enumerate(corehrs_df['conversion'].values):\n",
    "    prediction = corehrs_df['L_tof'] * convfactor\n",
    "    avg_diff.append(np.mean(corehrs_df['actual_corehours'] - prediction))\n",
    "    std_diff.append(np.std(corehrs_df['actual_corehours'] - prediction))\n",
    "    ax[0].plot(alphas, corehrs_df['actual_corehours'] - prediction, label=f'{alphas[i]}')\n",
    "ax[0].axhline(y=0, color='black', linestyle='dashed', linewidth=1)\n",
    "ax[0].legend(title='Prediction Angle')\n",
    "\n",
    "ax[1].errorbar(alphas, avg_diff, yerr=std_diff)\n",
    "ax[1].axhline(y=0, color='black', linestyle='dashed', linewidth=1)\n",
    "\n",
    "fig.show()\n",
    "\n",
    "print(alphas[np.argmin(np.abs(avg_diff))], np.min(np.abs(avg_diff)))\n"
   ]
  },
  {
   "cell_type": "code",
   "execution_count": null,
   "metadata": {},
   "outputs": [],
   "source": []
  }
 ],
 "metadata": {
  "kernelspec": {
   "display_name": "magopter_kernel_3.6.5",
   "language": "python",
   "name": "magopter_kernel_3.6.5"
  },
  "language_info": {
   "codemirror_mode": {
    "name": "ipython",
    "version": 3
   },
   "file_extension": ".py",
   "mimetype": "text/x-python",
   "name": "python",
   "nbconvert_exporter": "python",
   "pygments_lexer": "ipython3",
   "version": "3.6.5"
  }
 },
 "nbformat": 4,
 "nbformat_minor": 2
}
