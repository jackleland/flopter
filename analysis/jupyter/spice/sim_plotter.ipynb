{
 "cells": [
  {
   "cell_type": "code",
   "execution_count": 10,
   "metadata": {},
   "outputs": [],
   "source": [
    "%matplotlib tk\n",
    "import matplotlib.pyplot as plt\n",
    "import pandas as pd\n",
    "import sys\n",
    "import os\n",
    "import pathlib as pth\n",
    "sys.path.append('/home/jleland/Coding/Projects/flopter')\n",
    "import flopter.spice.inputparser as inp"
   ]
  },
  {
   "cell_type": "code",
   "execution_count": 3,
   "metadata": {},
   "outputs": [
    {
     "name": "stdout",
     "output_type": "stream",
     "text": [
      "/home/jleland/spice/spice2/bin/inputs/sheath_exp/flat.inp\n"
     ]
    }
   ],
   "source": [
    "input_file_dir = pth.Path('/home/jleland/spice/spice2/bin/inputs/')\n",
    "# os.chdir(input_file_dir)\n",
    "input_file = input_file_dir / 'sheath_exp' / 'flat.inp'\n",
    "print(str(input_file))"
   ]
  },
  {
   "cell_type": "code",
   "execution_count": 8,
   "metadata": {},
   "outputs": [],
   "source": [
    "def plot_2d_sim_window(input_file, ax=None, colour='red'):\n",
    "    return_ax = False\n",
    "    if ax is None:\n",
    "        fig, ax = plt.subplots()\n",
    "        return_ax = True\n",
    "    \n",
    "    inputparser = inp.InputParser()\n",
    "    with open(input_file, 'r') as inpf:\n",
    "        inputparser.read_file(inpf)\n",
    "\n",
    "    shape_section_labels = {'rectangle', 'triangle', 'circle'}\n",
    "    shape_sections = {}\n",
    "    for shape in shape_section_labels:\n",
    "        shape_section = [inputparser[section] for section in inputparser.sections() if shape in section]\n",
    "        shape_sections[shape] = shape_section\n",
    "    print(shape_sections)\n",
    "\n",
    "    geometry = inputparser['geom']\n",
    "    sim_objects = [plt.Rectangle((0, 0), int(geometry['Ly']), int(geometry['Lz']), fc='w', ec='gray', zorder=-2)] \n",
    "\n",
    "    for shape_sec in shape_sections['rectangle']:\n",
    "        rect_colour = colour if 'probe' in shape_sec['name'].lower() else 'gray'\n",
    "        rect_width = int(shape_sec['yhigh']) - int(shape_sec['ylow'])\n",
    "        rect_height = int(shape_sec['zhigh']) - int(shape_sec['zlow'])\n",
    "\n",
    "        sim_objects.append(plt.Rectangle((int(shape_sec['ylow']), int(shape_sec['zlow'])), rect_width, rect_height, fc=rect_colour, ec='k'))\n",
    "\n",
    "    for shape_sec in shape_sections['triangle']:\n",
    "        triangle_colour = colour if 'probe' in shape_sec['name'].lower() else 'gray'\n",
    "        triangle_points = [[shape_sec['ya'], shape_sec['za']], [shape_sec['yb'], shape_sec['zb']], [shape_sec['yc'], shape_sec['zc']]]\n",
    "        triangle_points = [(int(tp[0]), int(tp[1])) for tp in triangle_points]\n",
    "\n",
    "        sim_objects.append(plt.Polygon(triangle_points, fc=triangle_colour, ec='k'))\n",
    "\n",
    "    for so in sim_objects:\n",
    "        ax.add_patch(so)\n",
    "    \n",
    "    ax.axis('scaled')\n",
    "    ax.set_xlabel(r'z ($\\lambda_D$)')\n",
    "    ax.set_ylabel(r'y ($\\lambda_D$)')\n",
    "    ax.autoscale()\n",
    "    \n",
    "    if return_ax:\n",
    "        return ax"
   ]
  },
  {
   "cell_type": "code",
   "execution_count": 11,
   "metadata": {},
   "outputs": [
    {
     "name": "stdout",
     "output_type": "stream",
     "text": [
      "{'rectangle': [<Section: rectangle0>, <Section: rectangle1>, <Section: rectangle2>], 'circle': [], 'triangle': []}\n",
      "{'rectangle': [<Section: rectangle0>, <Section: rectangle1>, <Section: rectangle2>], 'circle': [], 'triangle': []}\n",
      "{'rectangle': [<Section: rectangle0>, <Section: rectangle1>, <Section: rectangle2>], 'circle': [], 'triangle': []}\n",
      "{'rectangle': [<Section: rectangle0>, <Section: rectangle1>, <Section: rectangle2>], 'circle': [], 'triangle': [<Section: triangle0>]}\n",
      "{'rectangle': [<Section: rectangle0>, <Section: rectangle1>, <Section: rectangle2>], 'circle': [], 'triangle': [<Section: triangle0>]}\n",
      "{'rectangle': [<Section: rectangle0>, <Section: rectangle1>, <Section: rectangle2>], 'circle': [], 'triangle': [<Section: triangle0>]}\n",
      "{'rectangle': [<Section: rectangle0>, <Section: rectangle1>, <Section: rectangle2>], 'circle': [], 'triangle': [<Section: triangle0>]}\n",
      "{'rectangle': [<Section: rectangle0>, <Section: rectangle1>, <Section: rectangle2>], 'circle': [], 'triangle': [<Section: triangle0>]}\n",
      "{'rectangle': [<Section: rectangle0>, <Section: rectangle1>, <Section: rectangle2>], 'circle': [], 'triangle': [<Section: triangle0>]}\n"
     ]
    }
   ],
   "source": [
    "fig, axes = plt.subplots(3, 3, sharex=True, sharey=True)\n",
    "colours = [\n",
    "    ['red', 'orangered', 'orange'], \n",
    "    ['green', 'lightgreen', 'gold'],\n",
    "    ['purple', 'blue', 'lightblue'],\n",
    "]\n",
    "inputs = [\n",
    "    'flat.inp', \n",
    "    'flat_semi-recessed.inp', \n",
    "    'flat_recessed.inp', \n",
    "    'semi-angled.inp',\n",
    "    'semi-angled_semi-recessed.inp',\n",
    "    'semi-angled_recessed.inp',\n",
    "    'angled.inp',\n",
    "    'angled_semi-recessed.inp',\n",
    "    'angled_recessed.inp',\n",
    "]\n",
    "\n",
    "\n",
    "for i, tip in enumerate(inputs):\n",
    "    input_file = input_file_dir / 'sheath_exp' / tip\n",
    "    ii = i % 3\n",
    "    ij = i // 3\n",
    "    \n",
    "    plot_sim_window(input_file, ax=axes[ii][ij], colour=colours[ii][ij])"
   ]
  },
  {
   "cell_type": "code",
   "execution_count": null,
   "metadata": {},
   "outputs": [],
   "source": []
  }
 ],
 "metadata": {
  "kernelspec": {
   "display_name": "python3.6-codac",
   "language": "python",
   "name": "python3.6-codac"
  },
  "language_info": {
   "codemirror_mode": {
    "name": "ipython",
    "version": 3
   },
   "file_extension": ".py",
   "mimetype": "text/x-python",
   "name": "python",
   "nbconvert_exporter": "python",
   "pygments_lexer": "ipython3",
   "version": "3.6.9"
  }
 },
 "nbformat": 4,
 "nbformat_minor": 4
}
