{
 "cells": [
  {
   "cell_type": "markdown",
   "metadata": {},
   "source": [
    "# SPICE Input File Plotter\n",
    "Workspace to figure out a quick way to sketch out the environment of a spice input file. "
   ]
  },
  {
   "cell_type": "code",
   "execution_count": 1,
   "metadata": {},
   "outputs": [],
   "source": [
    "%matplotlib tk\n",
    "import matplotlib.pyplot as plt\n",
    "import pandas as pd\n",
    "import sys\n",
    "import os\n",
    "import pathlib as pth\n",
    "sys.path.append('/home/jleland/Coding/Projects/flopter')\n",
    "import flopter.spice.inputparser as inp"
   ]
  },
  {
   "cell_type": "code",
   "execution_count": 4,
   "metadata": {},
   "outputs": [
    {
     "name": "stdout",
     "output_type": "stream",
     "text": [
      "/home/jleland/spice/spice2/bin/inputs/lowdens_anglescan/flush_tiltscan1-90.inp\n"
     ]
    }
   ],
   "source": [
    "input_file_dir = pth.Path('/home/jleland/spice/spice2/bin/inputs/')\n",
    "# os.chdir(input_file_dir)\n",
    "input_file = input_file_dir / 'lowdens_anglescan' / 'flush_tiltscan1-90.inp'\n",
    "print(str(input_file))"
   ]
  },
  {
   "cell_type": "code",
   "execution_count": 5,
   "metadata": {},
   "outputs": [],
   "source": [
    "inputparser = inp.InputParser()\n",
    "with open(input_file, 'r') as inpf:\n",
    "    inputparser.read_file(inpf)"
   ]
  },
  {
   "cell_type": "code",
   "execution_count": 6,
   "metadata": {},
   "outputs": [
    {
     "name": "stdout",
     "output_type": "stream",
     "text": [
      "{'rectangle': [<Section: rectangle0>, <Section: rectangle1>, <Section: rectangle2>], 'circle': [], 'triangle': []}\n"
     ]
    }
   ],
   "source": [
    "shape_section_labels = {'rectangle', 'triangle', 'circle'}\n",
    "# shape_sections = [section for section in inputparser.sections() if any([shpsec in section for shpsec in shape_section_labels])]\n",
    "shape_sections = {}\n",
    "for shape in shape_section_labels:\n",
    "    shape_section = [inputparser[section] for section in inputparser.sections() if shape in section]\n",
    "    shape_sections[shape] = shape_section\n",
    "print(shape_sections)"
   ]
  },
  {
   "cell_type": "code",
   "execution_count": 7,
   "metadata": {},
   "outputs": [
    {
     "name": "stdout",
     "output_type": "stream",
     "text": [
      "y: 0, 68 \t\t z: 0, 52\n",
      "y: 488, 556 \t\t z: 0, 52\n",
      "y: 128, 428 \t\t z: 0, 52\n"
     ]
    }
   ],
   "source": [
    "for shape_sec in shape_sections['rectangle']:\n",
    "    print(f\"y: {shape_sec['ylow']}, {shape_sec['yhigh']} \\t\\t z: {shape_sec['zlow']}, {shape_sec['zhigh']}\")\n",
    "for shape_sec in shape_sections['triangle']:\n",
    "    print(f\"y: {shape_sec['ya']}, {shape_sec['yb']}, {shape_sec['yc']} \\t z: {shape_sec['za']}, {shape_sec['zb']}, {shape_sec['zc']}\")"
   ]
  },
  {
   "cell_type": "code",
   "execution_count": 8,
   "metadata": {},
   "outputs": [],
   "source": [
    "fig, ax = plt.subplots()\n",
    "\n",
    "geometry = inputparser['geom']\n",
    "sim_objects = [plt.Rectangle((0, 0), int(geometry['Ly']), int(geometry['Lz']), fc='w', ec='gray', zorder=-2)] \n",
    "\n",
    "for shape_sec in shape_sections['rectangle']:\n",
    "    rect_colour = 'orange' if 'probe' in shape_sec['name'].lower() else 'gray'\n",
    "    rect_width = int(shape_sec['yhigh']) - int(shape_sec['ylow'])\n",
    "    rect_height = int(shape_sec['zhigh']) - int(shape_sec['zlow'])\n",
    "    \n",
    "    sim_objects.append(plt.Rectangle((int(shape_sec['ylow']), int(shape_sec['zlow'])), rect_width, rect_height, fc=rect_colour, ec='k'))\n",
    "    \n",
    "for shape_sec in shape_sections['triangle']:\n",
    "    triangle_colour = 'orange' if 'probe' in shape_sec['name'].lower() else 'gray'\n",
    "    triangle_points = [[shape_sec['ya'], shape_sec['za']], [shape_sec['yb'], shape_sec['zb']], [shape_sec['yc'], shape_sec['zc']]]\n",
    "    triangle_points = [(int(tp[0]), int(tp[1])) for tp in triangle_points]\n",
    "    \n",
    "    sim_objects.append(plt.Polygon(triangle_points, fc=triangle_colour, ec='k'))\n",
    "    \n",
    "for so in sim_objects:\n",
    "    ax.add_patch(so)\n",
    "\n",
    "ax.axis('scaled')\n",
    "ax.set_xlabel(r'z ($\\lambda_D$)')\n",
    "ax.set_ylabel(r'y ($\\lambda_D$)')\n",
    "ax.autoscale()"
   ]
  },
  {
   "cell_type": "code",
   "execution_count": 10,
   "metadata": {},
   "outputs": [
    {
     "name": "stdout",
     "output_type": "stream",
     "text": [
      "{'rectangle': [<Section: rectangle0>, <Section: rectangle1>, <Section: rectangle2>], 'circle': [], 'triangle': []}\n",
      "{'rectangle': [<Section: rectangle0>, <Section: rectangle1>, <Section: rectangle2>], 'circle': [], 'triangle': [<Section: triangle0>]}\n"
     ]
    }
   ],
   "source": [
    "fig, axes = plt.subplots(2, 2, sharex='col', sharey='col')\n",
    "colours = ['orange', 'blue']\n",
    "inputs = ['flush_tiltscan1-90.inp', 'angledtip_tiltscan1-90.inp']\n",
    "\n",
    "lowdens_dir = pth.Path('/home/jleland/data/external/spice/')\n",
    "fit_data_filename = 'lowdens_fitdata.csv'\n",
    "\n",
    "fit_df = pd.read_csv(lowdens_dir / fit_data_filename, index_col=0)\n",
    "\n",
    "for i, tip in enumerate(['flush', 'angled']):\n",
    "    input_file = input_file_dir / 'lowdens_anglescan' / inputs[i]\n",
    "    \n",
    "    inputparser = inp.InputParser()\n",
    "    with open(input_file, 'r') as inpf:\n",
    "        inputparser.read_file(inpf)\n",
    "\n",
    "    shape_section_labels = {'rectangle', 'triangle', 'circle'}\n",
    "    shape_sections = {}\n",
    "    for shape in shape_section_labels:\n",
    "        shape_section = [inputparser[section] for section in inputparser.sections() if shape in section]\n",
    "        shape_sections[shape] = shape_section\n",
    "    print(shape_sections)\n",
    "\n",
    "    ax = axes[i][0]\n",
    "\n",
    "    geometry = inputparser['geom']\n",
    "    sim_objects = [plt.Rectangle((0, 0), int(geometry['Ly']), int(geometry['Lz']), fc='w', ec='gray', zorder=-2)] \n",
    "\n",
    "    for shape_sec in shape_sections['rectangle']:\n",
    "        rect_colour = colours[i] if 'probe' in shape_sec['name'].lower() else 'gray'\n",
    "        rect_width = int(shape_sec['yhigh']) - int(shape_sec['ylow'])\n",
    "        rect_height = int(shape_sec['zhigh']) - int(shape_sec['zlow'])\n",
    "\n",
    "        sim_objects.append(plt.Rectangle((int(shape_sec['ylow']), int(shape_sec['zlow'])), rect_width, rect_height, fc=rect_colour, ec='k'))\n",
    "\n",
    "    for shape_sec in shape_sections['triangle']:\n",
    "        triangle_colour = colours[i] if 'probe' in shape_sec['name'].lower() else 'gray'\n",
    "        triangle_points = [[shape_sec['ya'], shape_sec['za']], [shape_sec['yb'], shape_sec['zb']], [shape_sec['yc'], shape_sec['zc']]]\n",
    "        triangle_points = [(int(tp[0]), int(tp[1])) for tp in triangle_points]\n",
    "\n",
    "        sim_objects.append(plt.Polygon(triangle_points, fc=triangle_colour, ec='k'))\n",
    "\n",
    "    for so in sim_objects:\n",
    "        ax.add_patch(so)\n",
    "\n",
    "    probe_str = f'{tip} probe \\n\\n'\n",
    "    \n",
    "    ax.axis('scaled')\n",
    "    ax.set_xlabel(r'z ($\\lambda_D$)')\n",
    "    ax.set_ylabel(probe_str + r'y ($\\lambda_D$)')\n",
    "    ax.autoscale()\n",
    "\n",
    "    ax_t = axes[i][1]\n",
    "    \n",
    "    probe_df = fit_df.loc[fit_df['probe'] == tip]\n",
    "    ax_t.errorbar('angle', 'temp', fmt='x', color=colours[i], yerr='d_temp', data=probe_df, label=tip)\n",
    "    ax_t.axhline(y=1.0, linestyle='dashed', linewidth='0.8', color='gray')\n",
    "    \n",
    "    ax_t.set_ylabel(r'$T_{e, P}$ / $T_{e, SE}$')\n",
    "    ax_t.set_xlabel(r'Incidence angle  ($^{\\circ}$)')\n",
    "    ax_t.legend()"
   ]
  },
  {
   "cell_type": "code",
   "execution_count": null,
   "metadata": {},
   "outputs": [],
   "source": []
  }
 ],
 "metadata": {
  "kernelspec": {
   "display_name": "python3.6-codac",
   "language": "python",
   "name": "python3.6-codac"
  },
  "language_info": {
   "codemirror_mode": {
    "name": "ipython",
    "version": 3
   },
   "file_extension": ".py",
   "mimetype": "text/x-python",
   "name": "python",
   "nbconvert_exporter": "python",
   "pygments_lexer": "ipython3",
   "version": "3.6.9"
  }
 },
 "nbformat": 4,
 "nbformat_minor": 4
}
