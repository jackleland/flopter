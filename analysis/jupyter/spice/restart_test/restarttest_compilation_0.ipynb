{
 "cells": [
  {
   "cell_type": "markdown",
   "metadata": {},
   "source": [
    "# Combining and analysing the low density anglescan simulations for all 5 probe tips"
   ]
  },
  {
   "cell_type": "code",
   "execution_count": 21,
   "metadata": {
    "pycharm": {
     "is_executing": false
    }
   },
   "outputs": [],
   "source": [
    "%matplotlib tk\n",
    "import numpy as np\n",
    "import matplotlib.pyplot as plt\n",
    "import matplotlib as mpl\n",
    "import xarray as xr\n",
    "import pandas as pd\n",
    "import scipy.io as sio\n",
    "import sys\n",
    "import os\n",
    "import glob\n",
    "import copy\n",
    "import pathlib as pth\n",
    "import importlib\n",
    "sys.path.append('/home/jleland/Coding/Projects/flopter')\n",
    "import flopter.spice.splopter as spl\n",
    "import flopter.spice.tdata as td\n",
    "import flopter.spice.homogenise as hmg\n",
    "import flopter.core.ivdata as iv\n",
    "import flopter.core.fitters as fts\n",
    "import flopter.core.fitdata as fd\n",
    "import flopter.core.lputils as lpu"
   ]
  },
  {
   "cell_type": "code",
   "execution_count": 20,
   "metadata": {},
   "outputs": [
    {
     "data": {
      "text/plain": [
       "<module 'flopter.core.lputils' from '/home/jleland/Coding/Projects/flopter/flopter/core/lputils.py'>"
      ]
     },
     "execution_count": 20,
     "metadata": {},
     "output_type": "execute_result"
    }
   ],
   "source": [
    "importlib.reload(spl)\n",
    "importlib.reload(td)\n",
    "importlib.reload(hmg)\n",
    "importlib.reload(fd)\n",
    "importlib.reload(lpu)"
   ]
  },
  {
   "cell_type": "markdown",
   "metadata": {},
   "source": [
    "## Paths and Matfile IO\n",
    "This section deals with file io and selecting the right .mat files. This needs to be run for the latter sections to work."
   ]
  },
  {
   "cell_type": "code",
   "execution_count": 73,
   "metadata": {
    "pycharm": {
     "is_executing": false
    }
   },
   "outputs": [],
   "source": [
    "spice_dir = pth.Path('/home/jleland/Data/external/spice/')\n",
    "os.chdir(spice_dir)"
   ]
  },
  {
   "cell_type": "code",
   "execution_count": 74,
   "metadata": {
    "pycharm": {
     "is_executing": false
    }
   },
   "outputs": [
    {
     "name": "stdout",
     "output_type": "stream",
     "text": [
      "0.17453292519943295\n"
     ]
    }
   ],
   "source": [
    "lps = lpu.MagnumProbes()\n",
    "\n",
    "flush_probe = copy.deepcopy(lps.probe_l)\n",
    "flush_probe.theta_p = 0.0\n",
    "flush_probe.d_perp = 0.0\n",
    "\n",
    "angled_probe = copy.deepcopy(lps.probe_l)\n",
    "angled_probe.d_perp = 0.0\n",
    "print(angled_probe.theta_p)"
   ]
  },
  {
   "cell_type": "code",
   "execution_count": 79,
   "metadata": {},
   "outputs": [],
   "source": [
    "skippable_scans = {\n",
    "    'marconi/lowdens_anglescan/inpartest_as',\n",
    "    'marconi/lowdens_anglescan/angled_tiltscan_ext'\n",
    "}\n",
    "single_sims = {\n",
    "    'marconi/restart_test/sprobe_9hr_multirestart',\n",
    "    'marconi/restart_test/sprobe_control',\n",
    "    'marconi/restart_test/sprobe_1hr',\n",
    "    'marconi/restart_test/sprobe_1hr.1',\n",
    "    'marconi/restart_test/sprobe_1hr_atrestart',\n",
    "    'marconi/restart_test/sprobe_4hr_multirestart_r',\n",
    "    'marconi/restart_test/sprobe_4hr_multirestart_2r'\n",
    "}"
   ]
  },
  {
   "cell_type": "code",
   "execution_count": 80,
   "metadata": {
    "pycharm": {
     "is_executing": false
    }
   },
   "outputs": [
    {
     "name": "stdout",
     "output_type": "stream",
     "text": [
      "Single sim marconi/restart_test/sprobe_4hr_multirestart_2r found\n",
      "marconi/restart_test/sprobe_4hr_multirestart_2r: ['marconi/restart_test/sprobe_4hr_multirestart_2r']\n",
      "\n",
      "Single sim marconi/restart_test/sprobe_9hr_multirestart found\n",
      "marconi/restart_test/sprobe_9hr_multirestart: ['marconi/restart_test/sprobe_9hr_multirestart']\n",
      "\n",
      "Single sim marconi/restart_test/sprobe_1hr_atrestart found\n",
      "marconi/restart_test/sprobe_1hr_atrestart: ['marconi/restart_test/sprobe_1hr_atrestart']\n",
      "\n",
      "Single sim marconi/restart_test/sprobe_control found\n",
      "marconi/restart_test/sprobe_control: ['marconi/restart_test/sprobe_control']\n",
      "\n",
      "Single sim marconi/restart_test/sprobe_1hr.1 found\n",
      "marconi/restart_test/sprobe_1hr.1: ['marconi/restart_test/sprobe_1hr.1']\n",
      "\n",
      "Single sim marconi/restart_test/sprobe_4hr_multirestart_r found\n",
      "marconi/restart_test/sprobe_4hr_multirestart_r: ['marconi/restart_test/sprobe_4hr_multirestart_r']\n",
      "\n",
      "Single sim marconi/restart_test/sprobe_1hr found\n",
      "marconi/restart_test/sprobe_1hr: ['marconi/restart_test/sprobe_1hr']\n",
      "\n"
     ]
    }
   ],
   "source": [
    "scans_searchstr = '*/restart_test/*'\n",
    "# angles_search_str = '/*[!.{yml, inp}]/backup*'\n",
    "angles_search_str = '/*[!.{yml, inp}]'\n",
    "\n",
    "non_standard_variables = {'ProbePot', 'npartproc', 'Nz', 'Nzmax', 'Ny', 'count', 'Npc', 'snumber', 'nproc'}\n",
    "\n",
    "desired_variables = td.DEFAULT_REDUCED_DATASET | non_standard_variables\n",
    "\n",
    "all_run_dirs = {}\n",
    "scans = glob.glob(scans_searchstr)\n",
    "scans = set(scans) - skippable_scans\n",
    "for scan in scans:\n",
    "    if scan in single_sims:\n",
    "        print(f'Single sim {scan} found')\n",
    "        all_run_dirs[scan] = [scan]\n",
    "    else:\n",
    "        all_run_dirs[scan] = glob.glob(scan + angles_search_str)\n",
    "    \n",
    "    print(f'{scan}: {all_run_dirs[scan]}\\n')\n"
   ]
  },
  {
   "cell_type": "markdown",
   "metadata": {},
   "source": [
    "## Plotting both IV characterisitics on the same axes"
   ]
  },
  {
   "cell_type": "code",
   "execution_count": 81,
   "metadata": {},
   "outputs": [],
   "source": [
    "skippable = {}\n",
    "scans = list(scans)"
   ]
  },
  {
   "cell_type": "code",
   "execution_count": 82,
   "metadata": {
    "pycharm": {
     "is_executing": false
    }
   },
   "outputs": [
    {
     "name": "stdout",
     "output_type": "stream",
     "text": [
      "\n",
      "Creating splopter for marconi/restart_test/sprobe_4hr_multirestart_2r, marconi/restart_test/sprobe_4hr_multirestart_2r\n",
      "No a-file given, continuing without\n",
      "\n",
      "Creating splopter for marconi/restart_test/sprobe_9hr_multirestart, marconi/restart_test/sprobe_9hr_multirestart\n",
      "WARNING: Encountered t-zeroing in /home/jleland/Data/external/spice/marconi/restart_test/sprobe_9hr_multirestart/t-sprobe_9hr_multirestart.mat\n",
      "Looking for a suitable backup to use instead.\n",
      "Useable backup found at /home/jleland/Data/external/spice/marconi/restart_test/sprobe_9hr_multirestart/backup_20191018-0032/t-sprobe_9hr_multirestart.mat\n",
      "WARNING: Was not able to homogenise as the probe current or bias data is malformed.\n",
      "\n",
      "Creating splopter for marconi/restart_test/sprobe_1hr_atrestart, marconi/restart_test/sprobe_1hr_atrestart\n",
      "No a-file given, continuing without\n",
      "WARNING: Was not able to homogenise as the probe current or bias data is malformed.\n",
      "\n",
      "Creating splopter for marconi/restart_test/sprobe_control, marconi/restart_test/sprobe_control\n",
      "\n",
      "Creating splopter for marconi/restart_test/sprobe_1hr.1, marconi/restart_test/sprobe_1hr.1\n",
      "No a-file given, continuing without\n",
      "WARNING: Was not able to homogenise as the probe current or bias data is malformed.\n",
      "\n",
      "Creating splopter for marconi/restart_test/sprobe_4hr_multirestart_r, marconi/restart_test/sprobe_4hr_multirestart_r\n",
      "No a-file given, continuing without\n",
      "\n",
      "Creating splopter for marconi/restart_test/sprobe_1hr, marconi/restart_test/sprobe_1hr\n"
     ]
    },
    {
     "name": "stderr",
     "output_type": "stream",
     "text": [
      "/home/jleland/Coding/Environments/python3.6/lib/python3.6/site-packages/numpy/core/_methods.py:217: RuntimeWarning: Degrees of freedom <= 0 for slice\n",
      "  keepdims=keepdims)\n",
      "/home/jleland/Coding/Environments/python3.6/lib/python3.6/site-packages/numpy/core/_methods.py:186: RuntimeWarning: invalid value encountered in true_divide\n",
      "  arrmean, rcount, out=arrmean, casting='unsafe', subok=False)\n",
      "/home/jleland/Coding/Environments/python3.6/lib/python3.6/site-packages/numpy/core/_methods.py:209: RuntimeWarning: invalid value encountered in double_scalars\n",
      "  ret = ret.dtype.type(ret / rcount)\n"
     ]
    },
    {
     "name": "stdout",
     "output_type": "stream",
     "text": [
      "No a-file given, continuing without\n",
      "WARNING: Was not able to homogenise as the probe current or bias data is malformed.\n",
      "\n",
      "...Done\n"
     ]
    }
   ],
   "source": [
    "# fig, axes = plt.subplots(2)\n",
    "splopters = {}\n",
    "\n",
    "for i in range(len(scans)):\n",
    "#     ax = axes[i]\n",
    "    scan = scans[i]\n",
    "\n",
    "    for angle_dir in all_run_dirs[scan]:\n",
    "        print(f'\\nCreating splopter for {scan}, {angle_dir}')\n",
    "        if angle_dir in skippable:\n",
    "            print('Skipping...')\n",
    "            continue\n",
    "        try:\n",
    "            splopter = spl.Splopter(spice_dir / angle_dir, reduce=desired_variables)\n",
    "            splopter.prepare(denormaliser_fl=True, homogenise_fl=True, find_se_temp_fl=False)\n",
    "    #         splopter.denormalise()\n",
    "            splopters[angle_dir] = splopter\n",
    "        except AssertionError as e:\n",
    "            print(f'AssertionError encountered for {angle_dir}. Skipping...')\n",
    "            continue\n",
    "        \n",
    "print('\\n...Done')"
   ]
  },
  {
   "cell_type": "code",
   "execution_count": 83,
   "metadata": {},
   "outputs": [
    {
     "name": "stdout",
     "output_type": "stream",
     "text": [
      "0) marconi/restart_test/sprobe_4hr_multirestart_2r: <flopter.spice.splopter.Splopter object at 0x7f6cb30560f0>\n",
      "1) marconi/restart_test/sprobe_9hr_multirestart: <flopter.spice.splopter.Splopter object at 0x7f6cb27275f8>\n",
      "2) marconi/restart_test/sprobe_1hr_atrestart: <flopter.spice.splopter.Splopter object at 0x7f6cb2751da0>\n",
      "3) marconi/restart_test/sprobe_control: <flopter.spice.splopter.Splopter object at 0x7f6cb27cf4e0>\n",
      "4) marconi/restart_test/sprobe_1hr.1: <flopter.spice.splopter.Splopter object at 0x7f6cb277e550>\n",
      "5) marconi/restart_test/sprobe_4hr_multirestart_r: <flopter.spice.splopter.Splopter object at 0x7f6cb2852940>\n",
      "6) marconi/restart_test/sprobe_1hr: <flopter.spice.splopter.Splopter object at 0x7f6cb2889b38>\n"
     ]
    }
   ],
   "source": [
    "for i, (filename, splopter) in enumerate(splopters.items()):\n",
    "    print(f'{i}) {filename}: {splopter}')"
   ]
  },
  {
   "cell_type": "code",
   "execution_count": 11,
   "metadata": {},
   "outputs": [
    {
     "ename": "IndexError",
     "evalue": "list index out of range",
     "output_type": "error",
     "traceback": [
      "\u001b[0;31m---------------------------------------------------------------------------\u001b[0m",
      "\u001b[0;31mIndexError\u001b[0m                                Traceback (most recent call last)",
      "\u001b[0;32m<ipython-input-11-6c888493f337>\u001b[0m in \u001b[0;36m<module>\u001b[0;34m\u001b[0m\n\u001b[1;32m      1\u001b[0m \u001b[0;31m# For adding a new run to the list of splopters\u001b[0m\u001b[0;34m\u001b[0m\u001b[0;34m\u001b[0m\u001b[0m\n\u001b[0;32m----> 2\u001b[0;31m \u001b[0mangle_dir\u001b[0m \u001b[0;34m=\u001b[0m \u001b[0mall_run_dirs\u001b[0m\u001b[0;34m[\u001b[0m\u001b[0mscans\u001b[0m\u001b[0;34m[\u001b[0m\u001b[0;36m6\u001b[0m\u001b[0;34m]\u001b[0m\u001b[0;34m]\u001b[0m\u001b[0;34m[\u001b[0m\u001b[0;36m0\u001b[0m\u001b[0;34m]\u001b[0m\u001b[0;34m\u001b[0m\u001b[0m\n\u001b[0m\u001b[1;32m      3\u001b[0m \u001b[0mprint\u001b[0m\u001b[0;34m(\u001b[0m\u001b[0mangle_dir\u001b[0m\u001b[0;34m)\u001b[0m\u001b[0;34m\u001b[0m\u001b[0m\n\u001b[1;32m      4\u001b[0m \u001b[0;34m\u001b[0m\u001b[0m\n\u001b[1;32m      5\u001b[0m \u001b[0;32mif\u001b[0m \u001b[0mangle_dir\u001b[0m \u001b[0;32min\u001b[0m \u001b[0msplopters\u001b[0m\u001b[0;34m:\u001b[0m\u001b[0;34m\u001b[0m\u001b[0m\n",
      "\u001b[0;31mIndexError\u001b[0m: list index out of range"
     ]
    }
   ],
   "source": [
    "# For adding a new run to the list of splopters\n",
    "angle_dir = all_run_dirs[scans[6]][0]\n",
    "print(angle_dir)\n",
    "\n",
    "if angle_dir in splopters:\n",
    "    print(f'Removing {angle_dir} from existing list of splopters')\n",
    "    splopters.pop(angle_dir)\n",
    "splopter = spl.Splopter(spice_dir / angle_dir, reduce=desired_variables)\n",
    "splopter.prepare(denormaliser_fl=True, homogenise_fl=True, find_se_temp_fl=False)\n",
    "splopter.denormalise()\n",
    "splopters[angle_dir] = splopter"
   ]
  },
  {
   "cell_type": "markdown",
   "metadata": {},
   "source": [
    "## Fitting and Adding Info to a Dataframe\n",
    "Might be good to make it into a dataset instead so individual IV chracterisitcs can be stored as well."
   ]
  },
  {
   "cell_type": "code",
   "execution_count": 85,
   "metadata": {},
   "outputs": [
    {
     "name": "stdout",
     "output_type": "stream",
     "text": [
      "=== marconi/restart_test/sprobe_4hr_multirestart_2r ===\n",
      "=== marconi/restart_test/sprobe_9hr_multirestart ===\n"
     ]
    },
    {
     "ename": "AttributeError",
     "evalue": "'NoneType' object has no attribute 'items'",
     "output_type": "error",
     "traceback": [
      "\u001b[0;31m---------------------------------------------------------------------------\u001b[0m",
      "\u001b[0;31mAttributeError\u001b[0m                            Traceback (most recent call last)",
      "\u001b[0;32m<ipython-input-85-1ebea13d608d>\u001b[0m in \u001b[0;36m<module>\u001b[0;34m\u001b[0m\n\u001b[1;32m     25\u001b[0m     \u001b[0mangle\u001b[0m \u001b[0;34m=\u001b[0m \u001b[0mnp\u001b[0m\u001b[0;34m.\u001b[0m\u001b[0mdegrees\u001b[0m\u001b[0;34m(\u001b[0m\u001b[0mnp\u001b[0m\u001b[0;34m.\u001b[0m\u001b[0mabs\u001b[0m\u001b[0;34m(\u001b[0m\u001b[0mnp\u001b[0m\u001b[0;34m.\u001b[0m\u001b[0msqueeze\u001b[0m\u001b[0;34m(\u001b[0m\u001b[0ms\u001b[0m\u001b[0;34m.\u001b[0m\u001b[0mtdata\u001b[0m\u001b[0;34m.\u001b[0m\u001b[0malphayz\u001b[0m\u001b[0;34m)\u001b[0m\u001b[0;34m)\u001b[0m\u001b[0;34m)\u001b[0m\u001b[0;34m\u001b[0m\u001b[0m\n\u001b[1;32m     26\u001b[0m \u001b[0;34m\u001b[0m\u001b[0m\n\u001b[0;32m---> 27\u001b[0;31m     \u001b[0;32mif\u001b[0m \u001b[0many\u001b[0m\u001b[0;34m(\u001b[0m\u001b[0mlen\u001b[0m\u001b[0;34m(\u001b[0m\u001b[0mdata_arr\u001b[0m\u001b[0;34m)\u001b[0m \u001b[0;34m==\u001b[0m \u001b[0;36m0\u001b[0m \u001b[0;32mfor\u001b[0m \u001b[0mvariable\u001b[0m\u001b[0;34m,\u001b[0m \u001b[0mdata_arr\u001b[0m \u001b[0;32min\u001b[0m \u001b[0ms\u001b[0m\u001b[0;34m.\u001b[0m\u001b[0miv_data\u001b[0m\u001b[0;34m.\u001b[0m\u001b[0mitems\u001b[0m\u001b[0;34m(\u001b[0m\u001b[0;34m)\u001b[0m\u001b[0;34m)\u001b[0m\u001b[0;34m:\u001b[0m\u001b[0;34m\u001b[0m\u001b[0m\n\u001b[0m\u001b[1;32m     28\u001b[0m         \u001b[0mprint\u001b[0m\u001b[0;34m(\u001b[0m\u001b[0;34mf'Found empty data array in {label}'\u001b[0m\u001b[0;34m)\u001b[0m\u001b[0;34m\u001b[0m\u001b[0m\n\u001b[1;32m     29\u001b[0m         \u001b[0;32mcontinue\u001b[0m\u001b[0;34m\u001b[0m\u001b[0m\n",
      "\u001b[0;31mAttributeError\u001b[0m: 'NoneType' object has no attribute 'items'"
     ]
    }
   ],
   "source": [
    "fig, axes = plt.subplots(3)\n",
    "\n",
    "fit_df = pd.DataFrame(columns=['probe', \n",
    "                               'angle', \n",
    "                               'temp',\n",
    "                               'd_temp',\n",
    "                               'isat', \n",
    "                               'd_isat',\n",
    "                               'a',\n",
    "                               'd_a',\n",
    "                               'v_f',\n",
    "                               'd_v_f'\n",
    "                              ])\n",
    "\n",
    "for label, s in splopters.items():\n",
    "    print('=== ' + label + ' ===')\n",
    "    \n",
    "    label = label.split('/')[-1]\n",
    "    \n",
    "    probe = lps.probe_s\n",
    "    ax = axes[0]\n",
    "    axt = axes[1]\n",
    "    axd = axes[2]\n",
    "    \n",
    "    angle = np.degrees(np.abs(np.squeeze(s.tdata.alphayz)))\n",
    "    \n",
    "    if any(len(data_arr) == 0 for variable, data_arr in s.iv_data.items()):\n",
    "        print(f'Found empty data array in {label}')\n",
    "        continue\n",
    "    \n",
    "    iv_region = np.where(s.iv_data['V'] < -2)\n",
    "    i = np.where((np.diff(s.iv_data['V'][iv_region]) == 0))\n",
    "    i = (i[0] + 1, )\n",
    "    \n",
    "    i = iv_region\n",
    "#     s.denormalise()\n",
    "    \n",
    "    ax.errorbar(s.iv_data['V'][i], s.iv_data['I'][i], label=angle, yerr=s.iv_data['sigma'][i])\n",
    "    ax.legend()\n",
    "    \n",
    "    try:\n",
    "        fit_iv_data = iv.IVData.non_contiguous_trim(s.iv_data, i)\n",
    "        \n",
    "        if any(len(data_arr) == 0 for variable, data_arr in fit_iv_data.items()):\n",
    "            print(f'Found empty data array in {label}')\n",
    "            continue\n",
    "        fitter = fts.FullIVFitter()\n",
    "        fit_data = fitter.fit_iv_data(fit_iv_data)\n",
    "        #     ax.plot(*fit_data.get_fit_plottables())\n",
    "\n",
    "        fit_df = fit_df.append({'probe': probe, \n",
    "                                'angle': angle, \n",
    "                                'temp': fit_data.get_temp(),\n",
    "                                'd_temp': fit_data.get_temp_err(),\n",
    "                                'isat': fit_data.get_isat(), \n",
    "                                'd_isat': fit_data.get_isat_err(),\n",
    "                                'a': fit_data.get_sheath_exp(), \n",
    "                                'd_a': fit_data.get_sheath_exp_err(),\n",
    "                                'v_f': fit_data.get_floating_pot(),\n",
    "                                'd_v_f': fit_data.get_floating_pot_err()}, ignore_index=True)\n",
    "\n",
    "        axt.errorbar(angle, fit_data.get_temp(), yerr=fit_data.get_temp_err(), fmt='x') #, ecolor='silver')\n",
    "        axd.errorbar(angle, fit_data.get_isat(), yerr=fit_data.get_isat_err(), fmt='x') #, ecolor='silver')\n",
    "    except RuntimeError as e:\n",
    "        print(f'WARNING: Encountered error in fit, skipping {label}')\n",
    "\n",
    "for j, probe in enumerate(['flush', 'angled']):\n",
    "    filt_df = fit_df.where(fit_df.probe == probe).dropna()\n",
    "    axt = axes[j][1]\n",
    "    axd = axes[j][2]\n",
    "    if j == 0:\n",
    "        axt.set_title(r'$T_e$')\n",
    "        axd.set_title(r'$I_{sat}$')\n",
    "    if j == 1:\n",
    "        axt.set_xlabel(r'$\\theta$')\n",
    "        axd.set_xlabel(r'$\\theta$')\n",
    "#     axt.errorbar(filt_df['angle'], filt_df['temp'] - 1, yerr=filt_df['d_temp'], fmt='x', ecolor='silver')\n",
    "#     axt.set_ylim(0.3, 1.7)\n",
    "    axt.axhline(y=1.0, color='k', linewidth=0.5, linestyle='dotted')\n",
    "#     axd.errorbar(filt_df['angle'], filt_df['isat'], yerr=filt_df['d_isat'], fmt='x', ecolor='silver')\n",
    "#     axd.set_ylim(-0.1, 90)\n",
    "    \n",
    "fit_df\n"
   ]
  },
  {
   "cell_type": "markdown",
   "metadata": {},
   "source": [
    "The above cell is supposed to plot the two simulations of the same input file on teh same set of axes, but the data in the multi-restart directory is not homogenisable. Will need to look into this in more detail. \n",
    "\n",
    "## Analysis of the backups of sprobe_9hr_multirestart"
   ]
  },
  {
   "cell_type": "code",
   "execution_count": 91,
   "metadata": {},
   "outputs": [
    {
     "name": "stdout",
     "output_type": "stream",
     "text": [
      "/home/jleland/Data/external/spice/marconi/restart_test/sprobe_4hr_multirestart_r\n",
      "No a-file given, continuing without\n"
     ]
    }
   ],
   "source": [
    "chosen_spl_path = spice_dir / all_run_dirs[scans[5]][0]\n",
    "print(chosen_spl_path)\n",
    "\n",
    "splopter = spl.Splopter(chosen_spl_path, reduce=desired_variables)\n",
    "splopter.prepare(denormaliser_fl=False, homogenise_fl=True, find_se_temp_fl=False)\n",
    "# universal_probe_bias = np.squeeze(splopter.tdata.diagnostics['ProbePot'])"
   ]
  },
  {
   "cell_type": "code",
   "execution_count": 25,
   "metadata": {},
   "outputs": [
    {
     "data": {
      "text/plain": [
       "array([-9.9 , -9.9 , -9.9 , ..., 10.05, 10.05, 10.05])"
      ]
     },
     "execution_count": 25,
     "metadata": {},
     "output_type": "execute_result"
    }
   ],
   "source": [
    "universal_probe_bias"
   ]
  },
  {
   "cell_type": "code",
   "execution_count": 29,
   "metadata": {},
   "outputs": [
    {
     "name": "stdout",
     "output_type": "stream",
     "text": [
      "sprobe_control\n",
      "{'ProbePot': array([[-9.9 ],\n",
      "       [-9.9 ],\n",
      "       [-9.9 ],\n",
      "       ...,\n",
      "       [10.05],\n",
      "       [10.05],\n",
      "       [10.05]])}\n"
     ]
    },
    {
     "name": "stderr",
     "output_type": "stream",
     "text": [
      "/home/jleland/.pyenv/versions/3.6.5/lib/python3.6/tkinter/__init__.py:746: UserWarning: Creating legend with loc=\"best\" can be slow with large amounts of data.\n",
      "  func(*args)\n",
      "/home/jleland/.pyenv/versions/3.6.5/lib/python3.6/tkinter/__init__.py:1702: UserWarning: Creating legend with loc=\"best\" can be slow with large amounts of data.\n",
      "  return self.func(*args)\n"
     ]
    }
   ],
   "source": [
    "def plot_raw_data_splopter(path_to_splopter, axes=None):\n",
    "    label = str(path_to_splopter).split('/')[-1]\n",
    "    print(label)\n",
    "    \n",
    "    splopter = spl.Splopter(path_to_splopter, reduce=desired_variables)\n",
    "    splopter.prepare(denormaliser_fl=False, homogenise_fl=True, find_se_temp_fl=False)\n",
    "\n",
    "    # Extract relevant arrays from the matlab file\n",
    "    probe_indices = splopter.parser.get_probe_obj_indices()\n",
    "    probe_current_e = 0.0\n",
    "    probe_current_i = 0.0\n",
    "\n",
    "    time = np.squeeze(splopter.tdata.t)[:-1]\n",
    "    for index in probe_indices:\n",
    "        probe_current_e += np.squeeze(splopter.tdata.objectscurrente)[index]\n",
    "        probe_current_i += np.squeeze(splopter.tdata.objectscurrenti)[index]\n",
    "    probe_bias = np.squeeze(splopter.tdata.diagnostics['ProbePot'])\n",
    "    probe_current_tot = probe_current_i + probe_current_e\n",
    "    \n",
    "    print(splopter.tdata.diagnostics)\n",
    "    \n",
    "    if axes is None:\n",
    "        fig, axes = plt.subplots(2)\n",
    "    \n",
    "    axes[0].set_title(label)\n",
    "    axes[0].plot(probe_bias, label=label)\n",
    "#     axes[0].plot(universal_probe_bias)\n",
    "    axes[0].legend()\n",
    "    axes[1].plot(probe_current_tot, label=label)\n",
    "#     axes[1].plot(time, probe_current_i)\n",
    "#     axes[1].plot(time, probe_current_e)\n",
    "    axes[1].legend()\n",
    "\n",
    "plot_raw_data_splopter(chosen_spl_path)"
   ]
  },
  {
   "cell_type": "code",
   "execution_count": 97,
   "metadata": {},
   "outputs": [],
   "source": [
    "backups = list(chosen_spl_path.glob('backup*'))\n",
    "backups.sort()\n",
    "\n",
    "bu_splopters = []\n",
    "for i, bu_folder in enumerate(backups):\n",
    "    print(f'{i}) {str(bu_folder)}')\n",
    "    \n",
    "    splopter = spl.Splopter(bu_folder, reduce=desired_variables)\n",
    "    splopter.prepare(denormaliser_fl=False, homogenise_fl=True, find_se_temp_fl=False)\n",
    "    bu_splopters.append(splopter)\n",
    "    "
   ]
  },
  {
   "cell_type": "code",
   "execution_count": 106,
   "metadata": {},
   "outputs": [
    {
     "name": "stdout",
     "output_type": "stream",
     "text": [
      "None\n"
     ]
    }
   ],
   "source": [
    "print(plot_concatted_current(bu_splopters))"
   ]
  },
  {
   "cell_type": "code",
   "execution_count": 99,
   "metadata": {},
   "outputs": [
    {
     "name": "stdout",
     "output_type": "stream",
     "text": [
      "backup_20191018-1718\n",
      "No a-file given, continuing without\n",
      "WARNING: Was not able to homogenise as the probe current or bias data is malformed.\n",
      "{'ProbePot': array([[0.]])}\n",
      "backup_20191018-2255\n",
      "No a-file given, continuing without\n",
      "WARNING: Was not able to homogenise as the probe current or bias data is malformed.\n",
      "{'ProbePot': array([[0.]])}\n",
      "backup_20191019-0005\n",
      "No a-file given, continuing without\n",
      "{'ProbePot': array([[-9.9],\n",
      "       [-9.9],\n",
      "       [-9.9],\n",
      "       ...,\n",
      "       [-9.9],\n",
      "       [-9.9],\n",
      "       [-9.9]])}\n",
      "backup_20191019-0116\n",
      "No a-file given, continuing without\n",
      "{'ProbePot': array([[-9.9],\n",
      "       [-9.9],\n",
      "       [-9.9],\n",
      "       ...,\n",
      "       [-9.9],\n",
      "       [-9.9],\n",
      "       [-9.9]])}\n"
     ]
    }
   ],
   "source": [
    "fig, axes = plt.subplots(2)\n",
    "for bu_folder in backups:\n",
    "    plot_raw_data_splopter(bu_folder)"
   ]
  },
  {
   "cell_type": "markdown",
   "metadata": {},
   "source": [
    "## Comparing manually restarted simulations"
   ]
  },
  {
   "cell_type": "code",
   "execution_count": 86,
   "metadata": {},
   "outputs": [
    {
     "name": "stdout",
     "output_type": "stream",
     "text": [
      "sprobe_4hr_multirestart_2r\n",
      "No a-file given, continuing without\n",
      "{'ProbePot': array([[-9.9],\n",
      "       [-9.9],\n",
      "       [-9.9],\n",
      "       ...,\n",
      "       [-9.9],\n",
      "       [-9.9],\n",
      "       [-9.9]])}\n",
      "sprobe_4hr_multirestart_r\n",
      "No a-file given, continuing without\n",
      "{'ProbePot': array([[-9.9],\n",
      "       [-9.9],\n",
      "       [-9.9],\n",
      "       ...,\n",
      "       [-9.9],\n",
      "       [-9.9],\n",
      "       [-9.9]])}\n"
     ]
    }
   ],
   "source": [
    "fig, axes = plt.subplots(2)\n",
    "for path, s in splopters.items():\n",
    "    if '4hr' not in str(path):\n",
    "        continue\n",
    "    plot_raw_data_splopter(path, axes=axes)"
   ]
  },
  {
   "cell_type": "code",
   "execution_count": 134,
   "metadata": {},
   "outputs": [],
   "source": [
    "def plot_concatted_current(splopters, trim_concat=False, ax=None):\n",
    "    concatted_time = np.array([])\n",
    "    concatted_current = np.array([])\n",
    "    if trim_concat:\n",
    "        lengths = []\n",
    "        \n",
    "    if ax is None:\n",
    "        fig, ax = plt.subplots()\n",
    "    \n",
    "    for s in splopters:\n",
    "\n",
    "        # Extract relevant arrays from the matlab file\n",
    "        probe_indices = s.parser.get_probe_obj_indices()\n",
    "        probe_current_e = 0.0\n",
    "        probe_current_i = 0.0\n",
    "\n",
    "        time = np.squeeze(s.tdata.t)[:-1]\n",
    "        for index in probe_indices:\n",
    "            probe_current_e += np.squeeze(s.tdata.objectscurrente)[index]\n",
    "            probe_current_i += np.squeeze(s.tdata.objectscurrenti)[index]\n",
    "        probe_bias = np.squeeze(s.tdata.diagnostics['ProbePot'])\n",
    "        probe_current_tot = probe_current_i + probe_current_e\n",
    "        \n",
    "        if trim_concat:\n",
    "            concatcurr_len = len(concatted_current)\n",
    "            concatted_current = np.concatenate([concatted_current, probe_current_tot[concatcurr_len:]])\n",
    "            ax.axvline(x=concatcurr_len)\n",
    "            lengths.append(concatcurr_len)\n",
    "        else:\n",
    "            print(f'time: {len(time)}, current: {len(probe_current_tot)}')\n",
    "            concatted_current = np.concatenate([concatted_current, probe_current_tot])\n",
    "            if len(concatted_time) > 0:\n",
    "                offset = concatted_time[-1]\n",
    "            else:\n",
    "                offset = 0\n",
    "            concatted_time = np.concatenate([concatted_time, offset + time])\n",
    "    \n",
    "    if trim_concat:\n",
    "        ax.plot(concatted_current)\n",
    "        return lengths\n",
    "    else:\n",
    "        ax.plot(concatted_time, concatted_current)"
   ]
  },
  {
   "cell_type": "code",
   "execution_count": 57,
   "metadata": {},
   "outputs": [
    {
     "name": "stdout",
     "output_type": "stream",
     "text": [
      "marconi/restart_test/sprobe_1hr_atrestart\n",
      "marconi/restart_test/sprobe_1hr\n"
     ]
    }
   ],
   "source": [
    "splopters_reordered = [\n",
    "    splopters['marconi/restart_test/sprobe_1hr_atrestart'],\n",
    "    splopters['marconi/restart_test/sprobe_1hr']\n",
    "]\n",
    "\n",
    "plot_concatted_current(splopters_reordered)"
   ]
  },
  {
   "cell_type": "code",
   "execution_count": 61,
   "metadata": {},
   "outputs": [
    {
     "name": "stdout",
     "output_type": "stream",
     "text": [
      "No a-file given, continuing without\n",
      "WARNING: Was not able to homogenise as the probe current or bias data is malformed.\n",
      "No a-file given, continuing without\n",
      "WARNING: Was not able to homogenise as the probe current or bias data is malformed.\n",
      "WARNING: Encountered t-zeroing in /home/jleland/Data/external/spice/marconi/restart_test/sprobe_9hr_multirestart/backup_20191018-0233/t-sprobe_9hr_multirestart.mat\n",
      "There are no backups to utilise. Carrying on, but expect erroneous results.\n",
      "WARNING: Encountered t-zeroing\n",
      "No a-file given, continuing without\n",
      "No a-file given, continuing without\n",
      "WARNING: Encountered t-zeroing in /home/jleland/Data/external/spice/marconi/restart_test/sprobe_9hr_multirestart/backup_20191018-0434/t-sprobe_9hr_multirestart.mat\n",
      "There are no backups to utilise. Carrying on, but expect erroneous results.\n",
      "WARNING: Encountered t-zeroing\n",
      "No a-file given, continuing without\n",
      "WARNING: Encountered t-zeroing in /home/jleland/Data/external/spice/marconi/restart_test/sprobe_9hr_multirestart/backup_20191018-0535/t-sprobe_9hr_multirestart.mat\n",
      "There are no backups to utilise. Carrying on, but expect erroneous results.\n",
      "WARNING: Encountered t-zeroing\n",
      "WARNING: Encountered t-zeroing in /home/jleland/Data/external/spice/marconi/restart_test/sprobe_9hr_multirestart/backup_20191018-0635/t-sprobe_9hr_multirestart.mat\n",
      "There are no backups to utilise. Carrying on, but expect erroneous results.\n",
      "WARNING: Encountered t-zeroing\n",
      "WARNING: Encountered t-zeroing in /home/jleland/Data/external/spice/marconi/restart_test/sprobe_9hr_multirestart/backup_20191018-0838/t-sprobe_9hr_multirestart.mat\n",
      "There are no backups to utilise. Carrying on, but expect erroneous results.\n",
      "WARNING: Encountered t-zeroing\n"
     ]
    }
   ],
   "source": [
    "bu_splopters = {}\n",
    "\n",
    "for bu_folder in backups:\n",
    "    splopter = spl.Splopter(bu_folder, reduce=desired_variables)\n",
    "    splopter.prepare(denormaliser_fl=False, homogenise_fl=True, find_se_temp_fl=False)\n",
    "    \n",
    "    bu_splopters[bu_folder] = splopter"
   ]
  },
  {
   "cell_type": "code",
   "execution_count": 68,
   "metadata": {},
   "outputs": [
    {
     "name": "stdout",
     "output_type": "stream",
     "text": [
      "/home/jleland/Data/external/spice/marconi/restart_test/sprobe_9hr_multirestart/backup_20191018-0032\n",
      "/home/jleland/Data/external/spice/marconi/restart_test/sprobe_9hr_multirestart/backup_20191018-0133\n",
      "/home/jleland/Data/external/spice/marconi/restart_test/sprobe_9hr_multirestart/backup_20191018-0233\n",
      "/home/jleland/Data/external/spice/marconi/restart_test/sprobe_9hr_multirestart/backup_20191018-0334\n",
      "/home/jleland/Data/external/spice/marconi/restart_test/sprobe_9hr_multirestart/backup_20191018-0434\n",
      "/home/jleland/Data/external/spice/marconi/restart_test/sprobe_9hr_multirestart/backup_20191018-0535\n",
      "/home/jleland/Data/external/spice/marconi/restart_test/sprobe_9hr_multirestart/backup_20191018-0635\n",
      "/home/jleland/Data/external/spice/marconi/restart_test/sprobe_9hr_multirestart/backup_20191018-0736\n",
      "/home/jleland/Data/external/spice/marconi/restart_test/sprobe_9hr_multirestart/backup_20191018-0838\n"
     ]
    }
   ],
   "source": [
    "for bu_s in bu_splopters.values():\n",
    "    print(bu_s.data_dir)"
   ]
  },
  {
   "cell_type": "code",
   "execution_count": 72,
   "metadata": {},
   "outputs": [
    {
     "name": "stdout",
     "output_type": "stream",
     "text": [
      "[0, 1296, 1296, 1769, 1769, 1769, 1769, 1800, 1800]\n"
     ]
    }
   ],
   "source": [
    "print(plot_concatted_current(bu_splopters.values()))"
   ]
  },
  {
   "cell_type": "markdown",
   "metadata": {},
   "source": [
    "## Looking at -r restart sims"
   ]
  },
  {
   "cell_type": "code",
   "execution_count": 115,
   "metadata": {},
   "outputs": [
    {
     "name": "stdout",
     "output_type": "stream",
     "text": [
      "0 marconi/restart_test/sprobe_1hr\n",
      "1 marconi/restart_test/sprobe_1hr.1\n",
      "2 marconi/restart_test/sprobe_1hr_atrestart\n",
      "3 marconi/restart_test/sprobe_4hr_multirestart_2r\n",
      "4 marconi/restart_test/sprobe_4hr_multirestart_r\n",
      "5 marconi/restart_test/sprobe_9hr_multirestart\n",
      "6 marconi/restart_test/sprobe_control\n"
     ]
    }
   ],
   "source": [
    "for i, scan in enumerate(scans):\n",
    "    print(i, scan)"
   ]
  },
  {
   "cell_type": "code",
   "execution_count": 123,
   "metadata": {},
   "outputs": [
    {
     "name": "stdout",
     "output_type": "stream",
     "text": [
      "['marconi/restart_test/sprobe_4hr_multirestart_2r', 'marconi/restart_test/sprobe_4hr_multirestart_r', 'marconi/restart_test/sprobe_control']\n"
     ]
    }
   ],
   "source": [
    "scans_comparison = [scans[6], scans[4], scans[3],]\n",
    "scans_comparison.sort()\n",
    "print(scans_comparison)"
   ]
  },
  {
   "cell_type": "code",
   "execution_count": 137,
   "metadata": {},
   "outputs": [
    {
     "name": "stdout",
     "output_type": "stream",
     "text": [
      "0) marconi/restart_test/sprobe_4hr_multirestart_2r/backup_20191018-1818\n",
      "No a-file given, continuing without\n",
      "WARNING: Was not able to homogenise as the probe current or bias data is malformed.\n",
      "1) marconi/restart_test/sprobe_4hr_multirestart_2r/backup_20191019-0000\n",
      "No a-file given, continuing without\n",
      "time: 1300, current: 1300\n",
      "time: 1011, current: 1011\n",
      "0) marconi/restart_test/sprobe_4hr_multirestart_r/backup_20191018-1718\n",
      "No a-file given, continuing without\n",
      "WARNING: Was not able to homogenise as the probe current or bias data is malformed.\n",
      "1) marconi/restart_test/sprobe_4hr_multirestart_r/backup_20191018-2255\n",
      "No a-file given, continuing without\n",
      "WARNING: Was not able to homogenise as the probe current or bias data is malformed.\n",
      "2) marconi/restart_test/sprobe_4hr_multirestart_r/backup_20191019-0005\n",
      "No a-file given, continuing without\n",
      "3) marconi/restart_test/sprobe_4hr_multirestart_r/backup_20191019-0116\n",
      "No a-file given, continuing without\n",
      "time: 1312, current: 1312\n",
      "time: 1202, current: 1202\n",
      "time: 1030, current: 1030\n",
      "time: 1877, current: 1877\n",
      "0) marconi/restart_test/sprobe_control/backup_20191018-0758\n",
      "time: 1110, current: 1110\n"
     ]
    }
   ],
   "source": [
    "fig, axes = plt.subplots(1, sharex=True)\n",
    "\n",
    "for i, scan in enumerate(scans_comparison):\n",
    "    backups = list(pth.Path(scan).glob('backup*'))\n",
    "    backups.sort()\n",
    "\n",
    "    bu_splopters = []\n",
    "    for j, bu_folder in enumerate(backups):\n",
    "        print(f'{j}) {str(bu_folder)}')\n",
    "\n",
    "        splopter = spl.Splopter(bu_folder, reduce=desired_variables)\n",
    "        splopter.prepare(denormaliser_fl=False, homogenise_fl=True, find_se_temp_fl=False)\n",
    "        bu_splopters.append(splopter)\n",
    "    \n",
    "    plot_concatted_current(bu_splopters, ax=axes)\n",
    "    axes.set_title(scan.split('/')[-1])\n",
    "    "
   ]
  },
  {
   "cell_type": "code",
   "execution_count": null,
   "metadata": {},
   "outputs": [],
   "source": []
  }
 ],
 "metadata": {
  "kernelspec": {
   "display_name": "magopter_kernel_3.6.5",
   "language": "python",
   "name": "magopter_kernel_3.6.5"
  },
  "language_info": {
   "codemirror_mode": {
    "name": "ipython",
    "version": 3
   },
   "file_extension": ".py",
   "mimetype": "text/x-python",
   "name": "python",
   "nbconvert_exporter": "python",
   "pygments_lexer": "ipython3",
   "version": "3.6.5"
  }
 },
 "nbformat": 4,
 "nbformat_minor": 4
}
