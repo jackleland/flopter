{
 "cells": [
  {
   "cell_type": "markdown",
   "metadata": {},
   "source": [
    "# Combining and analysing the simulations done for testing restarts on SPICE\n",
    "Using the lowdensity S probe at 10$^{\\circ}$"
   ]
  },
  {
   "cell_type": "code",
   "execution_count": 1,
   "metadata": {
    "pycharm": {
     "is_executing": false
    }
   },
   "outputs": [],
   "source": [
    "%matplotlib tk\n",
    "import numpy as np\n",
    "import matplotlib.pyplot as plt\n",
    "import matplotlib as mpl\n",
    "import xarray as xr\n",
    "import pandas as pd\n",
    "import scipy.io as sio\n",
    "import sys\n",
    "import os\n",
    "import glob\n",
    "import copy\n",
    "import pathlib as pth\n",
    "import importlib\n",
    "sys.path.append('/home/jleland/Coding/Projects/flopter')\n",
    "import flopter.spice.splopter as spl\n",
    "import flopter.spice.tdata as td\n",
    "# import flopter.spice.homogenise as hmg\n",
    "import flopter.core.ivdata as iv\n",
    "import flopter.core.fitters as fts\n",
    "import flopter.core.fitdata as fd\n",
    "import flopter.core.lputils as lpu\n",
    "import flopter.core.constants as c"
   ]
  },
  {
   "cell_type": "code",
   "execution_count": 2,
   "metadata": {},
   "outputs": [
    {
     "data": {
      "text/plain": [
       "<module 'flopter.core.lputils' from '/home/jleland/coding/projects/flopter/flopter/core/lputils.py'>"
      ]
     },
     "execution_count": 2,
     "metadata": {},
     "output_type": "execute_result"
    }
   ],
   "source": [
    "importlib.reload(spl)\n",
    "importlib.reload(td)\n",
    "# importlib.reload(hmg)\n",
    "importlib.reload(fd)\n",
    "importlib.reload(lpu)"
   ]
  },
  {
   "cell_type": "code",
   "execution_count": 3,
   "metadata": {},
   "outputs": [],
   "source": [
    "def plot_raw_data_splopter(path_to_splopter, axes=None, homogenise_fl=False):\n",
    "    label = str(path_to_splopter).split('/')[-1]\n",
    "    print(label)\n",
    "    \n",
    "    splopter = spl.Splopter(path_to_splopter, reduce=desired_variables)\n",
    "    splopter.prepare(denormaliser_fl=False, homogenise_fl=homogenise_fl, find_se_temp_fl=False)\n",
    "\n",
    "    # Extract relevant arrays from the matlab file\n",
    "    probe_indices = splopter.parser.get_probe_obj_indices()\n",
    "    probe_current_e = 0.0\n",
    "    probe_current_i = 0.0\n",
    "\n",
    "    time = np.squeeze(splopter.tdata.t)[:-1]\n",
    "    for index in probe_indices:\n",
    "        probe_current_e += np.squeeze(splopter.tdata.objectscurrente)[index]\n",
    "        probe_current_i += np.squeeze(splopter.tdata.objectscurrenti)[index]\n",
    "    probe_bias = np.squeeze(splopter.tdata.diagnostics['ProbePot'])\n",
    "    probe_current_tot = probe_current_i + probe_current_e\n",
    "    \n",
    "    print(splopter.tdata.diagnostics)\n",
    "    \n",
    "    if axes is None:\n",
    "        fig, axes = plt.subplots(2)\n",
    "    \n",
    "    axes[0].set_title(label)\n",
    "    axes[0].plot(probe_bias, label=label)\n",
    "#     axes[0].plot(universal_probe_bias)\n",
    "    axes[0].legend()\n",
    "    axes[1].plot(probe_current_tot, label=label)\n",
    "#     axes[1].plot(time, probe_current_i)\n",
    "#     axes[1].plot(time, probe_current_e)\n",
    "    axes[1].legend()\n",
    "    \n",
    "    return splopter\n",
    "   "
   ]
  },
  {
   "cell_type": "code",
   "execution_count": 4,
   "metadata": {},
   "outputs": [],
   "source": [
    "def plot_concatted_current(splopters, trim_concat=False, ax=None):\n",
    "    label = str(splopters[0].data_dir).split('/')[-2].split('.')[0]\n",
    "    if label[-1] == 'c':\n",
    "        trim_concat = True\n",
    "    concatted_time = np.array([])\n",
    "    concatted_current = np.array([])\n",
    "    if trim_concat:\n",
    "        lengths = []\n",
    "        \n",
    "    if ax is None:\n",
    "        fig, ax = plt.subplots()\n",
    "    \n",
    "    for s in splopters:\n",
    "        # Extract relevant arrays from the matlab file\n",
    "        probe_indices = s.parser.get_probe_obj_indices()\n",
    "        probe_current_e = 0.0\n",
    "        probe_current_i = 0.0\n",
    "\n",
    "        time = np.squeeze(s.tdata.t)[:-1]\n",
    "        if len(concatted_time) > 0:\n",
    "            offset = concatted_time[-1]\n",
    "        else:\n",
    "            offset = 0\n",
    "        \n",
    "        for index in probe_indices:\n",
    "            probe_current_e += np.squeeze(s.tdata.objectscurrente)[index]\n",
    "            probe_current_i += np.squeeze(s.tdata.objectscurrenti)[index]\n",
    "        probe_bias = np.squeeze(s.tdata.diagnostics['ProbePot'])\n",
    "        probe_current_tot = probe_current_i + probe_current_e\n",
    "        \n",
    "        if trim_concat:\n",
    "            indices_oi = np.where((probe_current_tot != 0.0) & (probe_current_tot <= 100.0) & (probe_current_tot >= -500.0))\n",
    "            \n",
    "            concatted_current = np.concatenate([concatted_current, probe_current_tot[indices_oi]])\n",
    "            concatted_time = np.concatenate([concatted_time, offset + np.arange(len(time[indices_oi]))])\n",
    "            \n",
    "            ax.axvline(x=offset, **c.AX_LINE_DEFAULTS)\n",
    "            lengths.append(offset)\n",
    "        else:\n",
    "            print(f'time: {len(time)}, current: {len(probe_current_tot)}')\n",
    "            concatted_current = np.concatenate([concatted_current, probe_current_tot])\n",
    "            concatted_time = np.concatenate([concatted_time, offset + time])\n",
    "    \n",
    "    if trim_concat:\n",
    "        ax.plot(concatted_time, concatted_current, label=label)\n",
    "        return concatted_time, concatted_current\n",
    "    else:\n",
    "        ax.plot(concatted_time, concatted_current, label=label)\n",
    "        return concatted_time, concatted_current"
   ]
  },
  {
   "cell_type": "code",
   "execution_count": 5,
   "metadata": {},
   "outputs": [],
   "source": [
    "def plot_concatted_bias(splopters, trim_concat=False, ax=None):\n",
    "    label = str(splopters[0].data_dir).split('/')[-2].split('.')[0]\n",
    "    \n",
    "    concatted_time = np.array([])\n",
    "    concatted_voltage = np.array([])\n",
    "    if trim_concat:\n",
    "        lengths = []\n",
    "        \n",
    "    if ax is None:\n",
    "        fig, ax = plt.subplots()\n",
    "    \n",
    "    for s in splopters:\n",
    "        probe_bias = np.squeeze(s.tdata.diagnostics['ProbePot'])\n",
    "#         print(probe_bias.shape)\n",
    "        if trim_concat:\n",
    "            concatvolt_len = len(concatted_voltage)\n",
    "            concatted_voltage = np.concatenate([concatted_voltage, probe_bias[concatvolt_len:]])\n",
    "            ax.axvline(x=concatvolt_len, **c.AX_LINE_DEFAULTS)\n",
    "            lengths.append(concatvolt_len)\n",
    "        elif isinstance(probe_bias, np.ndarray) and len(probe_bias.shape) > 0:\n",
    "            concatted_voltage = np.concatenate([concatted_voltage, probe_bias])\n",
    "    \n",
    "    ax.plot(concatted_voltage, label=label)\n",
    "    return concatted_voltage"
   ]
  },
  {
   "cell_type": "markdown",
   "metadata": {},
   "source": [
    "## Paths and Matfile IO\n",
    "This section deals with file io and selecting the right .mat files. This needs to be run for the latter sections to work."
   ]
  },
  {
   "cell_type": "code",
   "execution_count": 6,
   "metadata": {
    "pycharm": {
     "is_executing": false
    }
   },
   "outputs": [],
   "source": [
    "spice_dir = pth.Path('/home/jleland/data/external_big/spice/')\n",
    "os.chdir(spice_dir)"
   ]
  },
  {
   "cell_type": "code",
   "execution_count": 7,
   "metadata": {},
   "outputs": [
    {
     "data": {
      "text/plain": [
       "[PosixPath('/home/jleland/data/external_big/spice/marconi/spice2/restart_test/sprobe_20hr_multirestart_recomp_4c'),\n",
       " PosixPath('/home/jleland/data/external_big/spice/marconi/spice2/restart_test/sprobe_10hr_multirestart_2r'),\n",
       " PosixPath('/home/jleland/data/external_big/spice/marconi/spice2/restart_test/sprobe_10hr_multirestart_r'),\n",
       " PosixPath('/home/jleland/data/external_big/spice/marconi/spice2/restart_test/sprobe_1hr'),\n",
       " PosixPath('/home/jleland/data/external_big/spice/marconi/spice2/restart_test/sprobe_1hr.1'),\n",
       " PosixPath('/home/jleland/data/external_big/spice/marconi/spice2/restart_test/sprobe_1hr_2.14'),\n",
       " PosixPath('/home/jleland/data/external_big/spice/marconi/spice2/restart_test/sprobe_1hr_atrestart'),\n",
       " PosixPath('/home/jleland/data/external_big/spice/marconi/spice2/restart_test/sprobe_20hr_multirestart_2-13-1_4c'),\n",
       " PosixPath('/home/jleland/data/external_big/spice/marconi/spice2/restart_test/sprobe_20hr_multirestart_2-13-1_hdf5_4c'),\n",
       " PosixPath('/home/jleland/data/external_big/spice/marconi/spice2/restart_test/sprobe_20hr_multirestart_2.13_4c'),\n",
       " PosixPath('/home/jleland/data/external_big/spice/marconi/spice2/restart_test/sprobe_20hr_multirestart_2.13_hdf5_4c'),\n",
       " PosixPath('/home/jleland/data/external_big/spice/marconi/spice2/restart_test/sprobe_20hr_multirestart_2.14_4c'),\n",
       " PosixPath('/home/jleland/data/external_big/spice/marconi/spice2/restart_test/sprobe_20hr_multirestart_4c'),\n",
       " PosixPath('/home/jleland/data/external_big/spice/marconi/spice2/restart_test/sprobe_20hr_multirestart_4c.1'),\n",
       " PosixPath('/home/jleland/data/external_big/spice/marconi/spice2/restart_test/sprobe_20hr_multirestart_4c.2'),\n",
       " PosixPath('/home/jleland/data/external_big/spice/marconi/spice2/restart_test/sprobe_20hr_multirestart_4r'),\n",
       " PosixPath('/home/jleland/data/external_big/spice/marconi/spice2/restart_test/sprobe_20hr_multirestart_mkomm_4c'),\n",
       " PosixPath('/home/jleland/data/external_big/spice/marconi/spice2/restart_test/sprobe_4hr_multirestart_2c'),\n",
       " PosixPath('/home/jleland/data/external_big/spice/marconi/spice2/restart_test/sprobe_4hr_multirestart_2r'),\n",
       " PosixPath('/home/jleland/data/external_big/spice/marconi/spice2/restart_test/sprobe_4hr_multirestart_c'),\n",
       " PosixPath('/home/jleland/data/external_big/spice/marconi/spice2/restart_test/sprobe_4hr_multirestart_r'),\n",
       " PosixPath('/home/jleland/data/external_big/spice/marconi/spice2/restart_test/sprobe_9hr_multirestart'),\n",
       " PosixPath('/home/jleland/data/external_big/spice/marconi/spice2/restart_test/sprobe_control'),\n",
       " PosixPath('/home/jleland/data/external_big/spice/marconi/spice2/restart_test/sprobe_control_2-13-1_'),\n",
       " PosixPath('/home/jleland/data/external_big/spice/marconi/spice2/restart_test/sprobe_control_2-13-1_hdf5_'),\n",
       " PosixPath('/home/jleland/data/external_big/spice/marconi/spice2/restart_test/sprobe_control_2.13'),\n",
       " PosixPath('/home/jleland/data/external_big/spice/marconi/spice2/restart_test/sprobe_control_2.13_'),\n",
       " PosixPath('/home/jleland/data/external_big/spice/marconi/spice2/restart_test/sprobe_control_2.13_altsolv'),\n",
       " PosixPath('/home/jleland/data/external_big/spice/marconi/spice2/restart_test/sprobe_control_2.13_hdf5'),\n",
       " PosixPath('/home/jleland/data/external_big/spice/marconi/spice2/restart_test/sprobe_control_2.13_redo'),\n",
       " PosixPath('/home/jleland/data/external_big/spice/marconi/spice2/restart_test/sprobe_control_mkomm'),\n",
       " PosixPath('/home/jleland/data/external_big/spice/marconi/spice2/restart_test/sprobe_control_mkomm_rel'),\n",
       " PosixPath('/home/jleland/data/external_big/spice/marconi/spice2/restart_test/sprobe_control_recomp')]"
      ]
     },
     "execution_count": 7,
     "metadata": {},
     "output_type": "execute_result"
    }
   ],
   "source": [
    "list(spice_dir.glob('marconi/*/restart_test/*'))"
   ]
  },
  {
   "cell_type": "code",
   "execution_count": 8,
   "metadata": {
    "pycharm": {
     "is_executing": false
    }
   },
   "outputs": [
    {
     "name": "stdout",
     "output_type": "stream",
     "text": [
      "0.17453292519943295\n"
     ]
    }
   ],
   "source": [
    "lps = lpu.MagnumProbes()\n",
    "\n",
    "flush_probe = copy.deepcopy(lps.probe_l)\n",
    "flush_probe.theta_p = 0.0\n",
    "flush_probe.d_perp = 0.0\n",
    "\n",
    "angled_probe = copy.deepcopy(lps.probe_l)\n",
    "angled_probe.d_perp = 0.0\n",
    "print(angled_probe.theta_p)"
   ]
  },
  {
   "cell_type": "code",
   "execution_count": 9,
   "metadata": {},
   "outputs": [],
   "source": [
    "skippable_scans = {\n",
    "    'marconi/spice2/lowdens_anglescan/inpartest_as',\n",
    "    'marconi/spice2/lowdens_anglescan/angled_tiltscan_ext',\n",
    "    'marconi/spice2/restart_test/sprobe_9hr_multirestart',\n",
    "    'marconi/spice2/restart_test/sprobe_1hr',\n",
    "    'marconi/spice2/restart_test/sprobe_1hr.1',\n",
    "    'marconi/spice2/restart_test/sprobe_1hr_atrestart',\n",
    "    'marconi/spice2/restart_test/sprobe_4hr_multirestart_r',\n",
    "    'marconi/spice2/restart_test/sprobe_4hr_multirestart_2r',\n",
    "    'marconi/spice2/restart_test/sprobe_4hr_multirestart_c',\n",
    "    'marconi/spice2/restart_test/sprobe_4hr_multirestart_2c',\n",
    "    'marconi/spice2/restart_test/sprobe_10hr_multirestart_r',\n",
    "    'marconi/spice2/restart_test/sprobe_10hr_multirestart_2r',\n",
    "    'marconi/spice2/restart_test/sprobe_control_mkomm',\n",
    "    'marconi/spice2/restart_test/sprobe_control_2.13_hdf5',\n",
    "    'marconi/spice2/restart_test/sprobe_20hr_multirestart_2.13_4c',\n",
    "    'marconi/spice2/restart_test/sprobe_20hr_multirestart_2.13_hdf5_4c',\n",
    "    'marconi/spice2/restart_test/sprobe_control',\n",
    "    'marconi/spice2/restart_test/sprobe_control_recomp',\n",
    "    'marconi/spice2/restart_test/sprobe_4hr_multirestart_c',\n",
    "    'marconi/spice2/restart_test/sprobe_4hr_multirestart_2c',\n",
    "    'marconi/spice2/restart_test/sprobe_20hr_multirestart_mkomm_4c',\n",
    "    'marconi/spice2/restart_test/sprobe_control_mkomm_rel',\n",
    "    'marconi/spice2/restart_test/sprobe_20hr_multirestart_4c',\n",
    "    'marconi/spice2/restart_test/sprobe_20hr_multirestart_4c.1',\n",
    "    'marconi/spice2/restart_test/sprobe_20hr_multirestart_4c.2',\n",
    "    'marconi/spice2/restart_test/sprobe_20hr_multirestart_4r',\n",
    "    'marconi/spice2/restart_test/sprobe_20hr_multirestart_recomp_4c',\n",
    "    'marconi/spice2/restart_test/sprobe_control_2.13',\n",
    "    'marconi/spice2/restart_test/sprobe_control_2-13-1_hdf5_',\n",
    "    'marconi/spice2/restart_test/sprobe_20hr_multirestart_2-13-1_hdf5_4c',\n",
    "    'marconi/spice2/restart_test/sprobe_control_2.13_',\n",
    "#     'marconi/spice2/restart_test/sprobe_control_2-13-1_'\n",
    "}\n",
    "single_sims = {\n",
    "    'marconi/spice2/restart_test/sprobe_control_2.13_',\n",
    "    'marconi/spice2/restart_test/sprobe_20hr_multirestart_2-13-1_4c',\n",
    "    'marconi/spice2/restart_test/sprobe_control_2-13-1_',\n",
    "    'marconi/spice2/restart_test/sprobe_20hr_multirestart_2.14_4c',\n",
    "    'marconi/spice2/restart_test/sprobe_1hr_2.14'\n",
    "}"
   ]
  },
  {
   "cell_type": "code",
   "execution_count": 10,
   "metadata": {
    "pycharm": {
     "is_executing": false
    }
   },
   "outputs": [
    {
     "name": "stdout",
     "output_type": "stream",
     "text": [
      "marconi/spice2/restart_test/sprobe_control_2.13_redo: ['marconi/spice2/restart_test/sprobe_control_2.13_redo/backup_20191031-1811', 'marconi/spice2/restart_test/sprobe_control_2.13_redo/jobs.txt', 'marconi/spice2/restart_test/sprobe_control_2.13_redo/log.err', 'marconi/spice2/restart_test/sprobe_control_2.13_redo/log.ongoing.err', 'marconi/spice2/restart_test/sprobe_control_2.13_redo/log.ongoing.out', 'marconi/spice2/restart_test/sprobe_control_2.13_redo/log.out', 'marconi/spice2/restart_test/sprobe_control_2.13_redo/sprobe_control_2.13_redo.mat', 'marconi/spice2/restart_test/sprobe_control_2.13_redo/t-sprobe_control_2.13_redo.mat', 'marconi/spice2/restart_test/sprobe_control_2.13_redo/t-sprobe_control_2.13_redo00.mat', 'marconi/spice2/restart_test/sprobe_control_2.13_redo/t-sprobe_control_2.13_redo01.mat', 'marconi/spice2/restart_test/sprobe_control_2.13_redo/t-sprobe_control_2.13_redo03.mat', 'marconi/spice2/restart_test/sprobe_control_2.13_redo/t-sprobe_control_2.13_redo04.mat', 'marconi/spice2/restart_test/sprobe_control_2.13_redo/t-sprobe_control_2.13_redo05.mat', 'marconi/spice2/restart_test/sprobe_control_2.13_redo/t-sprobe_control_2.13_redo06.mat', 'marconi/spice2/restart_test/sprobe_control_2.13_redo/t-sprobe_control_2.13_redo07.mat', 'marconi/spice2/restart_test/sprobe_control_2.13_redo/t-sprobe_control_2.13_redo08.mat', 'marconi/spice2/restart_test/sprobe_control_2.13_redo/t-sprobe_control_2.13_redo09.mat', 'marconi/spice2/restart_test/sprobe_control_2.13_redo/t-sprobe_control_2.13_redo10.mat', 'marconi/spice2/restart_test/sprobe_control_2.13_redo/t-sprobe_control_2.13_redo11.mat', 'marconi/spice2/restart_test/sprobe_control_2.13_redo/t-sprobe_control_2.13_redo12.mat', 'marconi/spice2/restart_test/sprobe_control_2.13_redo/t-sprobe_control_2.13_redo13.mat', 'marconi/spice2/restart_test/sprobe_control_2.13_redo/t-sprobe_control_2.13_redo14.mat', 'marconi/spice2/restart_test/sprobe_control_2.13_redo/t-sprobe_control_2.13_redo15.mat', 'marconi/spice2/restart_test/sprobe_control_2.13_redo/t-sprobe_control_2.13_redo17.mat', 'marconi/spice2/restart_test/sprobe_control_2.13_redo/t-sprobe_control_2.13_redo18.mat', 'marconi/spice2/restart_test/sprobe_control_2.13_redo/t-sprobe_control_2.13_redo19.mat', 'marconi/spice2/restart_test/sprobe_control_2.13_redo/t-sprobe_control_2.13_redo20.mat', 'marconi/spice2/restart_test/sprobe_control_2.13_redo/t-sprobe_control_2.13_redo21.mat', 'marconi/spice2/restart_test/sprobe_control_2.13_redo/t-sprobe_control_2.13_redo22.mat', 'marconi/spice2/restart_test/sprobe_control_2.13_redo/t-sprobe_control_2.13_redo23.mat', 'marconi/spice2/restart_test/sprobe_control_2.13_redo/t-sprobe_control_2.13_redo24.mat', 'marconi/spice2/restart_test/sprobe_control_2.13_redo/t-sprobe_control_2.13_redo25.mat', 'marconi/spice2/restart_test/sprobe_control_2.13_redo/t-sprobe_control_2.13_redo26.mat', 'marconi/spice2/restart_test/sprobe_control_2.13_redo/t-sprobe_control_2.13_redo27.mat', 'marconi/spice2/restart_test/sprobe_control_2.13_redo/t-sprobe_control_2.13_redo28.mat', 'marconi/spice2/restart_test/sprobe_control_2.13_redo/t-sprobe_control_2.13_redo29.mat', 'marconi/spice2/restart_test/sprobe_control_2.13_redo/t-sprobe_control_2.13_redo02.mat', 'marconi/spice2/restart_test/sprobe_control_2.13_redo/t-sprobe_control_2.13_redo16.mat', 'marconi/spice2/restart_test/sprobe_control_2.13_redo/t-sprobe_control_2.13_redo30.mat', 'marconi/spice2/restart_test/sprobe_control_2.13_redo/t-sprobe_control_2.13_redo31.mat', 'marconi/spice2/restart_test/sprobe_control_2.13_redo/t-sprobe_control_2.13_redo32.mat', 'marconi/spice2/restart_test/sprobe_control_2.13_redo/t-sprobe_control_2.13_redo33.mat', 'marconi/spice2/restart_test/sprobe_control_2.13_redo/t-sprobe_control_2.13_redo34.mat', 'marconi/spice2/restart_test/sprobe_control_2.13_redo/t-sprobe_control_2.13_redo35.mat', 'marconi/spice2/restart_test/sprobe_control_2.13_redo/t-sprobe_control_2.13_redo36.mat', 'marconi/spice2/restart_test/sprobe_control_2.13_redo/t-sprobe_control_2.13_redo37.mat', 'marconi/spice2/restart_test/sprobe_control_2.13_redo/t-sprobe_control_2.13_redo38.mat', 'marconi/spice2/restart_test/sprobe_control_2.13_redo/t-sprobe_control_2.13_redo39.mat', 'marconi/spice2/restart_test/sprobe_control_2.13_redo/t-sprobe_control_2.13_redo40.mat', 'marconi/spice2/restart_test/sprobe_control_2.13_redo/t-sprobe_control_2.13_redo41.mat', 'marconi/spice2/restart_test/sprobe_control_2.13_redo/t-sprobe_control_2.13_redo42.mat', 'marconi/spice2/restart_test/sprobe_control_2.13_redo/t-sprobe_control_2.13_redo43.mat', 'marconi/spice2/restart_test/sprobe_control_2.13_redo/t-sprobe_control_2.13_redo44.mat', 'marconi/spice2/restart_test/sprobe_control_2.13_redo/t-sprobe_control_2.13_redo45.mat', 'marconi/spice2/restart_test/sprobe_control_2.13_redo/t-sprobe_control_2.13_redo46.mat', 'marconi/spice2/restart_test/sprobe_control_2.13_redo/t-sprobe_control_2.13_redo47.mat']\n",
      "\n",
      "Single sim marconi/spice2/restart_test/sprobe_control_2-13-1_ found\n",
      "marconi/spice2/restart_test/sprobe_control_2-13-1_: ['marconi/spice2/restart_test/sprobe_control_2-13-1_']\n",
      "\n",
      "Single sim marconi/spice2/restart_test/sprobe_1hr_2.14 found\n",
      "marconi/spice2/restart_test/sprobe_1hr_2.14: ['marconi/spice2/restart_test/sprobe_1hr_2.14']\n",
      "\n",
      "Single sim marconi/spice2/restart_test/sprobe_20hr_multirestart_2.14_4c found\n",
      "marconi/spice2/restart_test/sprobe_20hr_multirestart_2.14_4c: ['marconi/spice2/restart_test/sprobe_20hr_multirestart_2.14_4c']\n",
      "\n",
      "marconi/spice2/restart_test/sprobe_control_2.13_altsolv: ['marconi/spice2/restart_test/sprobe_control_2.13_altsolv/backup_20191031-1647', 'marconi/spice2/restart_test/sprobe_control_2.13_altsolv/jobs.txt', 'marconi/spice2/restart_test/sprobe_control_2.13_altsolv/log.err', 'marconi/spice2/restart_test/sprobe_control_2.13_altsolv/log.ongoing.err', 'marconi/spice2/restart_test/sprobe_control_2.13_altsolv/log.ongoing.out', 'marconi/spice2/restart_test/sprobe_control_2.13_altsolv/log.out', 'marconi/spice2/restart_test/sprobe_control_2.13_altsolv/sprobe_control_2.13_altsolv.mat', 'marconi/spice2/restart_test/sprobe_control_2.13_altsolv/t-sprobe_control_2.13_altsolv.mat', 'marconi/spice2/restart_test/sprobe_control_2.13_altsolv/t-sprobe_control_2.13_altsolv00.mat', 'marconi/spice2/restart_test/sprobe_control_2.13_altsolv/t-sprobe_control_2.13_altsolv01.mat', 'marconi/spice2/restart_test/sprobe_control_2.13_altsolv/t-sprobe_control_2.13_altsolv03.mat', 'marconi/spice2/restart_test/sprobe_control_2.13_altsolv/t-sprobe_control_2.13_altsolv04.mat', 'marconi/spice2/restart_test/sprobe_control_2.13_altsolv/t-sprobe_control_2.13_altsolv05.mat', 'marconi/spice2/restart_test/sprobe_control_2.13_altsolv/t-sprobe_control_2.13_altsolv06.mat', 'marconi/spice2/restart_test/sprobe_control_2.13_altsolv/t-sprobe_control_2.13_altsolv07.mat', 'marconi/spice2/restart_test/sprobe_control_2.13_altsolv/t-sprobe_control_2.13_altsolv08.mat', 'marconi/spice2/restart_test/sprobe_control_2.13_altsolv/t-sprobe_control_2.13_altsolv09.mat', 'marconi/spice2/restart_test/sprobe_control_2.13_altsolv/t-sprobe_control_2.13_altsolv10.mat', 'marconi/spice2/restart_test/sprobe_control_2.13_altsolv/t-sprobe_control_2.13_altsolv11.mat', 'marconi/spice2/restart_test/sprobe_control_2.13_altsolv/t-sprobe_control_2.13_altsolv12.mat', 'marconi/spice2/restart_test/sprobe_control_2.13_altsolv/t-sprobe_control_2.13_altsolv13.mat', 'marconi/spice2/restart_test/sprobe_control_2.13_altsolv/t-sprobe_control_2.13_altsolv14.mat', 'marconi/spice2/restart_test/sprobe_control_2.13_altsolv/t-sprobe_control_2.13_altsolv15.mat', 'marconi/spice2/restart_test/sprobe_control_2.13_altsolv/t-sprobe_control_2.13_altsolv17.mat', 'marconi/spice2/restart_test/sprobe_control_2.13_altsolv/t-sprobe_control_2.13_altsolv18.mat', 'marconi/spice2/restart_test/sprobe_control_2.13_altsolv/t-sprobe_control_2.13_altsolv19.mat', 'marconi/spice2/restart_test/sprobe_control_2.13_altsolv/t-sprobe_control_2.13_altsolv20.mat', 'marconi/spice2/restart_test/sprobe_control_2.13_altsolv/t-sprobe_control_2.13_altsolv21.mat', 'marconi/spice2/restart_test/sprobe_control_2.13_altsolv/t-sprobe_control_2.13_altsolv22.mat', 'marconi/spice2/restart_test/sprobe_control_2.13_altsolv/t-sprobe_control_2.13_altsolv23.mat', 'marconi/spice2/restart_test/sprobe_control_2.13_altsolv/t-sprobe_control_2.13_altsolv24.mat', 'marconi/spice2/restart_test/sprobe_control_2.13_altsolv/t-sprobe_control_2.13_altsolv25.mat', 'marconi/spice2/restart_test/sprobe_control_2.13_altsolv/t-sprobe_control_2.13_altsolv26.mat', 'marconi/spice2/restart_test/sprobe_control_2.13_altsolv/t-sprobe_control_2.13_altsolv27.mat', 'marconi/spice2/restart_test/sprobe_control_2.13_altsolv/t-sprobe_control_2.13_altsolv28.mat', 'marconi/spice2/restart_test/sprobe_control_2.13_altsolv/t-sprobe_control_2.13_altsolv29.mat', 'marconi/spice2/restart_test/sprobe_control_2.13_altsolv/t-sprobe_control_2.13_altsolv02.mat', 'marconi/spice2/restart_test/sprobe_control_2.13_altsolv/t-sprobe_control_2.13_altsolv16.mat', 'marconi/spice2/restart_test/sprobe_control_2.13_altsolv/t-sprobe_control_2.13_altsolv30.mat', 'marconi/spice2/restart_test/sprobe_control_2.13_altsolv/t-sprobe_control_2.13_altsolv31.mat', 'marconi/spice2/restart_test/sprobe_control_2.13_altsolv/t-sprobe_control_2.13_altsolv32.mat', 'marconi/spice2/restart_test/sprobe_control_2.13_altsolv/t-sprobe_control_2.13_altsolv33.mat', 'marconi/spice2/restart_test/sprobe_control_2.13_altsolv/t-sprobe_control_2.13_altsolv34.mat', 'marconi/spice2/restart_test/sprobe_control_2.13_altsolv/t-sprobe_control_2.13_altsolv35.mat', 'marconi/spice2/restart_test/sprobe_control_2.13_altsolv/t-sprobe_control_2.13_altsolv36.mat', 'marconi/spice2/restart_test/sprobe_control_2.13_altsolv/t-sprobe_control_2.13_altsolv37.mat', 'marconi/spice2/restart_test/sprobe_control_2.13_altsolv/t-sprobe_control_2.13_altsolv38.mat', 'marconi/spice2/restart_test/sprobe_control_2.13_altsolv/t-sprobe_control_2.13_altsolv39.mat', 'marconi/spice2/restart_test/sprobe_control_2.13_altsolv/t-sprobe_control_2.13_altsolv40.mat', 'marconi/spice2/restart_test/sprobe_control_2.13_altsolv/t-sprobe_control_2.13_altsolv41.mat', 'marconi/spice2/restart_test/sprobe_control_2.13_altsolv/t-sprobe_control_2.13_altsolv42.mat', 'marconi/spice2/restart_test/sprobe_control_2.13_altsolv/t-sprobe_control_2.13_altsolv43.mat', 'marconi/spice2/restart_test/sprobe_control_2.13_altsolv/t-sprobe_control_2.13_altsolv44.mat', 'marconi/spice2/restart_test/sprobe_control_2.13_altsolv/t-sprobe_control_2.13_altsolv45.mat', 'marconi/spice2/restart_test/sprobe_control_2.13_altsolv/t-sprobe_control_2.13_altsolv46.mat', 'marconi/spice2/restart_test/sprobe_control_2.13_altsolv/t-sprobe_control_2.13_altsolv47.mat']\n",
      "\n",
      "Single sim marconi/spice2/restart_test/sprobe_20hr_multirestart_2-13-1_4c found\n",
      "marconi/spice2/restart_test/sprobe_20hr_multirestart_2-13-1_4c: ['marconi/spice2/restart_test/sprobe_20hr_multirestart_2-13-1_4c']\n",
      "\n"
     ]
    }
   ],
   "source": [
    "scans_searchstr = 'marconi/*/restart_test/*'\n",
    "# angles_search_str = '/*[!.{yml, inp}]/backup*'\n",
    "angles_search_str = '/*[!.{yml, inp}]'\n",
    "\n",
    "non_standard_variables = {'ProbePot', 'npartproc', 'Nz', 'Nzmax', 'Ny', 'count', 'Npc', 'snumber', 'nproc'}\n",
    "\n",
    "desired_variables = td.DEFAULT_REDUCED_DATASET | non_standard_variables\n",
    "\n",
    "all_run_dirs = {}\n",
    "scans = glob.glob(scans_searchstr)\n",
    "scans = set(scans) - skippable_scans\n",
    "for scan in scans:\n",
    "    if scan in single_sims:\n",
    "        print(f'Single sim {scan} found')\n",
    "        all_run_dirs[scan] = [scan]\n",
    "    else:\n",
    "        all_run_dirs[scan] = glob.glob(scan + angles_search_str)\n",
    "    \n",
    "    print(f'{scan}: {all_run_dirs[scan]}\\n')\n"
   ]
  },
  {
   "cell_type": "code",
   "execution_count": 11,
   "metadata": {},
   "outputs": [],
   "source": [
    "skippable = {}\n",
    "scans = list(scans)\n",
    "scans.sort()"
   ]
  },
  {
   "cell_type": "code",
   "execution_count": 12,
   "metadata": {},
   "outputs": [
    {
     "name": "stdout",
     "output_type": "stream",
     "text": [
      "0 marconi/spice2/restart_test/sprobe_1hr_2.14\n",
      "1 marconi/spice2/restart_test/sprobe_20hr_multirestart_2-13-1_4c\n",
      "2 marconi/spice2/restart_test/sprobe_20hr_multirestart_2.14_4c\n",
      "3 marconi/spice2/restart_test/sprobe_control_2-13-1_\n",
      "4 marconi/spice2/restart_test/sprobe_control_2.13_altsolv\n",
      "5 marconi/spice2/restart_test/sprobe_control_2.13_redo\n"
     ]
    }
   ],
   "source": [
    "for i, scan in enumerate(scans):\n",
    "    print(i, scan)"
   ]
  },
  {
   "cell_type": "code",
   "execution_count": 13,
   "metadata": {},
   "outputs": [
    {
     "name": "stdout",
     "output_type": "stream",
     "text": [
      "/home/jleland/data/external_big/spice/marconi/spice2/restart_test/sprobe_1hr_2.14\n"
     ]
    }
   ],
   "source": [
    "chosen_spl_path = spice_dir / all_run_dirs[scans[0]][0]\n",
    "print(chosen_spl_path)"
   ]
  },
  {
   "cell_type": "markdown",
   "metadata": {},
   "source": [
    "## Check the 1hr Version \n",
    "To see if the probe bias is being set correctly."
   ]
  },
  {
   "cell_type": "code",
   "execution_count": 14,
   "metadata": {},
   "outputs": [
    {
     "name": "stderr",
     "output_type": "stream",
     "text": [
      "/home/jleland/coding/environments/python3.6/lib/python3.6/site-packages/scipy/io/matlab/mio.py:218: MatReadWarning: Duplicate variable name \"Esct\" in stream - replacing previous with new\n",
      "Consider mio5.varmats_from_mat to split file into single variable files\n",
      "  matfile_dict = MR.get_variables(variable_names)\n",
      "/home/jleland/coding/environments/python3.6/lib/python3.6/site-packages/scipy/io/matlab/mio.py:218: MatReadWarning: Duplicate variable name \"dPHIqn\" in stream - replacing previous with new\n",
      "Consider mio5.varmats_from_mat to split file into single variable files\n",
      "  matfile_dict = MR.get_variables(variable_names)\n",
      "/home/jleland/coding/environments/python3.6/lib/python3.6/site-packages/scipy/io/matlab/mio.py:218: MatReadWarning: Duplicate variable name \"pchi\" in stream - replacing previous with new\n",
      "Consider mio5.varmats_from_mat to split file into single variable files\n",
      "  matfile_dict = MR.get_variables(variable_names)\n",
      "/home/jleland/coding/environments/python3.6/lib/python3.6/site-packages/scipy/io/matlab/mio.py:218: MatReadWarning: Duplicate variable name \"timehistory\" in stream - replacing previous with new\n",
      "Consider mio5.varmats_from_mat to split file into single variable files\n",
      "  matfile_dict = MR.get_variables(variable_names)\n",
      "/home/jleland/coding/environments/python3.6/lib/python3.6/site-packages/scipy/io/matlab/mio.py:218: MatReadWarning: Duplicate variable name \"npartproc\" in stream - replacing previous with new\n",
      "Consider mio5.varmats_from_mat to split file into single variable files\n",
      "  matfile_dict = MR.get_variables(variable_names)\n"
     ]
    }
   ],
   "source": [
    "import scipy.io as sio\n",
    "tdata = sio.loadmat(chosen_spl_path / 't-sprobe_1hr_2.14.mat')"
   ]
  },
  {
   "cell_type": "code",
   "execution_count": 15,
   "metadata": {},
   "outputs": [
    {
     "data": {
      "text/plain": [
       "dict_keys(['__header__', '__version__', '__globals__', 'version', 'Nz', 'Nzmax', 'Ny', 'count', 'hpos', 'deltah', 'Npc', 'dt', 'dz', 'nproc', 'q', 'm', 'Temp', 'zg', 'yg', 'rho', 'Escz', 'Escy', 'surfacematrix', 'Pot', 'Potvac', 'sliceproc', 'orientation', 'edgecharge', 't', 'snumber', 'totalenergy', 'Esct', 'dPHIqn', 'pchi', 'bx', 'by', 'bz', 'npartproc', 'nodiagreg', 'diaghistories', 'fvarrays', 'fvbin', 'fvperparraycount', 'fvlimits', 'histlimits', 'timehistory', 'QnPot', 'ProbePot', 'iHistTopx1', 'iHistTopx2', 'iHistTopx3', 'eHistTopx1', 'eHistTopx2', 'eHistTopx3', 'iHistSEx1', 'iHistSEx2', 'iHistSEx3', 'eHistSEx1', 'eHistSEx2', 'eHistSEx3', 'flagm', 'equipotm', 'flag', 'itertime', 'injrate', 'objects', 'edges', 'diagm', 'objectsenum', 'objectscurrenti', 'objectscurrente', 'objectspowerfluxi', 'objectspowerfluxe', 'rho01', 'solw01', 'solns01', 'impactdiag01', 'emmitdiag01', 'rho02', 'solw02', 'solns02', 'impactdiag02', 'emmitdiag02', 'ksi', 'tau', 'mu', 'mksn0', 'mksTe', 'mksB', 'mksmainionm', 'mksmainionq', 'mkspar1', 'mkspar2', 'mkspar3', 'alphayz', 'alphaxz', 'Nc', 'Na', 'Np', 'irel', 'floatconstant'])"
      ]
     },
     "execution_count": 15,
     "metadata": {},
     "output_type": "execute_result"
    }
   ],
   "source": [
    "tdata.keys()"
   ]
  },
  {
   "cell_type": "code",
   "execution_count": 16,
   "metadata": {},
   "outputs": [
    {
     "data": {
      "text/plain": [
       "array([[1.08676882e-02],\n",
       "       [2.17353763e-02],\n",
       "       [3.26030645e-02],\n",
       "       ...,\n",
       "       [1.52691019e+01],\n",
       "       [1.52799695e+01],\n",
       "       [1.52908372e+01]])"
      ]
     },
     "execution_count": 16,
     "metadata": {},
     "output_type": "execute_result"
    }
   ],
   "source": [
    "tdata['t']"
   ]
  },
  {
   "cell_type": "code",
   "execution_count": 17,
   "metadata": {},
   "outputs": [
    {
     "data": {
      "text/plain": [
       "<matplotlib.colorbar.Colorbar at 0x7f58c7fc5320>"
      ]
     },
     "execution_count": 17,
     "metadata": {},
     "output_type": "execute_result"
    }
   ],
   "source": [
    "fig, ax = plt.subplots(2)\n",
    "hand = ax[0].contourf(tdata['Pot'])\n",
    "fig.colorbar(hand)\n",
    "hand = ax[1].contourf(tdata['objectsenum'])\n",
    "fig.colorbar(hand)"
   ]
  },
  {
   "cell_type": "code",
   "execution_count": 56,
   "metadata": {},
   "outputs": [
    {
     "data": {
      "text/plain": [
       "[<matplotlib.lines.Line2D at 0x7fce70e8af98>]"
      ]
     },
     "execution_count": 56,
     "metadata": {},
     "output_type": "execute_result"
    }
   ],
   "source": [
    "fig, ax = plt.subplots(2)\n",
    "ax[0].plot(tdata['ProbePot'])\n",
    "ax[1].plot(tdata['objectscurrente'][3])\n",
    "ax[1].plot(tdata['objectscurrenti'][3])"
   ]
  },
  {
   "cell_type": "markdown",
   "metadata": {},
   "source": [
    "Looks like the probe potential is still -10V but doesn't register on the diagnostic"
   ]
  },
  {
   "cell_type": "markdown",
   "metadata": {},
   "source": [
    "## Check the 2.14 Full Sim \n",
    "With 4 hour full restarts (using -c)"
   ]
  },
  {
   "cell_type": "code",
   "execution_count": 18,
   "metadata": {},
   "outputs": [
    {
     "name": "stdout",
     "output_type": "stream",
     "text": [
      "0 marconi/spice2/restart_test/sprobe_1hr_2.14\n",
      "1 marconi/spice2/restart_test/sprobe_20hr_multirestart_2-13-1_4c\n",
      "2 marconi/spice2/restart_test/sprobe_20hr_multirestart_2.14_4c\n",
      "3 marconi/spice2/restart_test/sprobe_control_2-13-1_\n",
      "4 marconi/spice2/restart_test/sprobe_control_2.13_altsolv\n",
      "5 marconi/spice2/restart_test/sprobe_control_2.13_redo\n"
     ]
    }
   ],
   "source": [
    "for i, scan in enumerate(scans):\n",
    "    print(i, scan)"
   ]
  },
  {
   "cell_type": "code",
   "execution_count": 19,
   "metadata": {},
   "outputs": [
    {
     "name": "stdout",
     "output_type": "stream",
     "text": [
      "/home/jleland/data/external_big/spice/marconi/spice2/restart_test/sprobe_20hr_multirestart_2.14_4c\n",
      "No a-file given, continuing without\n"
     ]
    },
    {
     "name": "stderr",
     "output_type": "stream",
     "text": [
      "/home/jleland/coding/environments/python3.6/lib/python3.6/site-packages/numpy/core/_methods.py:217: RuntimeWarning: Degrees of freedom <= 0 for slice\n",
      "  keepdims=keepdims)\n",
      "/home/jleland/coding/environments/python3.6/lib/python3.6/site-packages/numpy/core/_methods.py:186: RuntimeWarning: invalid value encountered in true_divide\n",
      "  arrmean, rcount, out=arrmean, casting='unsafe', subok=False)\n",
      "/home/jleland/coding/environments/python3.6/lib/python3.6/site-packages/numpy/core/_methods.py:209: RuntimeWarning: invalid value encountered in double_scalars\n",
      "  ret = ret.dtype.type(ret / rcount)\n"
     ]
    }
   ],
   "source": [
    "new_spl_path = spice_dir / all_run_dirs[scans[2]][0]\n",
    "print(new_spl_path)\n",
    "\n",
    "splopter_new = spl.Splopter(new_spl_path, reduce=desired_variables)\n",
    "splopter_new.prepare(denormaliser_fl=False, homogenise_fl=True, find_se_temp_fl=False, backup_concat_fl=False)"
   ]
  },
  {
   "cell_type": "code",
   "execution_count": 20,
   "metadata": {},
   "outputs": [
    {
     "data": {
      "text/plain": [
       "array([[1.73883010e-01],\n",
       "       [3.47766021e-01],\n",
       "       [5.21649031e-01],\n",
       "       ...,\n",
       "       [3.47418255e+02],\n",
       "       [3.47592138e+02],\n",
       "       [3.47766021e+02]])"
      ]
     },
     "execution_count": 20,
     "metadata": {},
     "output_type": "execute_result"
    }
   ],
   "source": [
    "splopter_new.tdata.t_dict['t']"
   ]
  },
  {
   "cell_type": "code",
   "execution_count": 21,
   "metadata": {},
   "outputs": [
    {
     "name": "stdout",
     "output_type": "stream",
     "text": [
      "/home/jleland/data/external_big/spice/marconi/spice2/restart_test/sprobe_20hr_multirestart_2-13-1_4c\n",
      "WARNING: Encountered t-zeroing in /home/jleland/data/external_big/spice/marconi/spice2/restart_test/sprobe_20hr_multirestart_2-13-1_4c/t-sprobe_20hr_multirestart_2-13-1_4c.mat\n",
      "Looking for a suitable backup to use instead.\n",
      "Useable backup found at /home/jleland/data/external_big/spice/marconi/spice2/restart_test/sprobe_20hr_multirestart_2-13-1_4c/backup_20191105-2109/t-sprobe_20hr_multirestart_2-13-1_4c.mat\n",
      "No a-file given, continuing without\n",
      "Loading backup backup_20191105-2109 (1 of 5) for current and bias concatenation\n",
      "Loading backup backup_20191106-0119 (2 of 5) for current and bias concatenation\n",
      "Stripping head for backup 2 of 5\n",
      "Loading backup backup_20191106-0159 (3 of 5) for current and bias concatenation\n",
      "Detected finish, stripping tail for backup 3 of 5\n",
      "Stripping head for backup 3 of 5\n",
      "Found an odd number of spike transitions\n"
     ]
    }
   ],
   "source": [
    "old_spl_path = spice_dir / all_run_dirs[scans[1]][0]\n",
    "print(old_spl_path)\n",
    "\n",
    "splopter_old = spl.Splopter(old_spl_path, reduce=desired_variables)\n",
    "splopter_old.prepare(denormaliser_fl=False, homogenise_fl=True, find_se_temp_fl=False)"
   ]
  },
  {
   "cell_type": "code",
   "execution_count": 60,
   "metadata": {},
   "outputs": [
    {
     "name": "stdout",
     "output_type": "stream",
     "text": [
      "/home/jleland/data/external_big/spice/marconi/spice2/restart_test/sprobe_control_2-13-1_\n",
      "No a-file given, continuing without\n"
     ]
    }
   ],
   "source": [
    "ctrl_spl_path = spice_dir / all_run_dirs[scans[3]][0]\n",
    "print(ctrl_spl_path)\n",
    "\n",
    "splopter_ctrl = spl.Splopter(ctrl_spl_path, reduce=desired_variables)\n",
    "splopter_ctrl.prepare(denormaliser_fl=False, homogenise_fl=True, find_se_temp_fl=False, backup_concat_fl=False)"
   ]
  },
  {
   "cell_type": "code",
   "execution_count": 22,
   "metadata": {},
   "outputs": [],
   "source": [
    "def get_backup_splopters(spl_path):\n",
    "    backups = list(spl_path.glob('backup*'))\n",
    "    backups.sort()\n",
    "\n",
    "    bu_splopters = {}\n",
    "    for i, bu_folder in enumerate(backups):\n",
    "        print(f'{i}) {str(bu_folder)}')\n",
    "\n",
    "        splopter = spl.Splopter(bu_folder, reduce=desired_variables)\n",
    "        splopter.prepare(denormaliser_fl=False, homogenise_fl=False, find_se_temp_fl=False)\n",
    "        bu_splopters[bu_folder] = splopter\n",
    "    return bu_splopters"
   ]
  },
  {
   "cell_type": "code",
   "execution_count": 62,
   "metadata": {},
   "outputs": [
    {
     "name": "stdout",
     "output_type": "stream",
     "text": [
      "0) /home/jleland/data/external_big/spice/marconi/spice2/restart_test/sprobe_20hr_multirestart_2-13-1_4c/backup_20191105-2109\n",
      "No a-file given, continuing without\n",
      "1) /home/jleland/data/external_big/spice/marconi/spice2/restart_test/sprobe_20hr_multirestart_2-13-1_4c/backup_20191106-0119\n",
      "No a-file given, continuing without\n",
      "2) /home/jleland/data/external_big/spice/marconi/spice2/restart_test/sprobe_20hr_multirestart_2-13-1_4c/backup_20191106-0159\n",
      "WARNING: Encountered t-zeroing in /home/jleland/data/external_big/spice/marconi/spice2/restart_test/sprobe_20hr_multirestart_2-13-1_4c/backup_20191106-0159/t-sprobe_20hr_multirestart_2-13-1_4c.mat\n",
      "There are no backups to utilise. Carrying on, but expect erroneous results.\n",
      "WARNING: Encountered t-zeroing, creating an approximate t array\n",
      "No a-file given, continuing without\n",
      "3) /home/jleland/data/external_big/spice/marconi/spice2/restart_test/sprobe_20hr_multirestart_2-13-1_4c/backup_20191106-0213\n",
      "WARNING: Encountered t-zeroing in /home/jleland/data/external_big/spice/marconi/spice2/restart_test/sprobe_20hr_multirestart_2-13-1_4c/backup_20191106-0213/t-sprobe_20hr_multirestart_2-13-1_4c.mat\n",
      "There are no backups to utilise. Carrying on, but expect erroneous results.\n",
      "WARNING: Encountered t-zeroing, creating an approximate t array\n",
      "No a-file given, continuing without\n",
      "4) /home/jleland/data/external_big/spice/marconi/spice2/restart_test/sprobe_20hr_multirestart_2-13-1_4c/backup_20191106-0228\n",
      "WARNING: Encountered t-zeroing in /home/jleland/data/external_big/spice/marconi/spice2/restart_test/sprobe_20hr_multirestart_2-13-1_4c/backup_20191106-0228/t-sprobe_20hr_multirestart_2-13-1_4c.mat\n",
      "There are no backups to utilise. Carrying on, but expect erroneous results.\n",
      "WARNING: Encountered t-zeroing, creating an approximate t array\n",
      "No a-file given, continuing without\n",
      "0) /home/jleland/data/external_big/spice/marconi/spice2/restart_test/sprobe_20hr_multirestart_2.14_4c/backup_20200507-2059\n",
      "No a-file given, continuing without\n",
      "1) /home/jleland/data/external_big/spice/marconi/spice2/restart_test/sprobe_20hr_multirestart_2.14_4c/backup_20200509-0917\n",
      "WARNING: Encountered t-zeroing in /home/jleland/data/external_big/spice/marconi/spice2/restart_test/sprobe_20hr_multirestart_2.14_4c/backup_20200509-0917/t-sprobe_20hr_multirestart_2.14_4c.mat\n",
      "There are no backups to utilise. Carrying on, but expect erroneous results.\n",
      "WARNING: Encountered t-zeroing, creating an approximate t array\n",
      "No a-file given, continuing without\n",
      "2) /home/jleland/data/external_big/spice/marconi/spice2/restart_test/sprobe_20hr_multirestart_2.14_4c/backup_20200510-0413\n",
      "No a-file given, continuing without\n"
     ]
    }
   ],
   "source": [
    "old_bu_splopters = get_backup_splopters(old_spl_path)\n",
    "new_bu_splopters = get_backup_splopters(new_spl_path)"
   ]
  },
  {
   "cell_type": "code",
   "execution_count": 63,
   "metadata": {},
   "outputs": [
    {
     "name": "stdout",
     "output_type": "stream",
     "text": [
      "backup_20200507-2059\n",
      "No a-file given, continuing without\n",
      "{'ProbePot': array([[ 0.  ],\n",
      "       [ 0.  ],\n",
      "       [ 0.  ],\n",
      "       ...,\n",
      "       [-5.85],\n",
      "       [-5.85],\n",
      "       [-5.85]])}\n",
      "backup_20200509-0917\n",
      "WARNING: Encountered t-zeroing in /home/jleland/data/external_big/spice/marconi/spice2/restart_test/sprobe_20hr_multirestart_2.14_4c/backup_20200509-0917/t-sprobe_20hr_multirestart_2.14_4c.mat\n",
      "There are no backups to utilise. Carrying on, but expect erroneous results.\n",
      "WARNING: Encountered t-zeroing, creating an approximate t array\n",
      "No a-file given, continuing without\n",
      "{'ProbePot': array([[0.  ],\n",
      "       [0.  ],\n",
      "       [0.  ],\n",
      "       ...,\n",
      "       [5.55],\n",
      "       [5.55],\n",
      "       [5.55]])}\n",
      "backup_20200510-0413\n",
      "No a-file given, continuing without\n",
      "{'ProbePot': array([[ 0.  ],\n",
      "       [ 0.  ],\n",
      "       [ 0.  ],\n",
      "       ...,\n",
      "       [10.05],\n",
      "       [10.05],\n",
      "       [ 0.  ]])}\n"
     ]
    },
    {
     "ename": "IndexError",
     "evalue": "index 1045 is out of bounds for axis 0 with size 1044",
     "output_type": "error",
     "traceback": [
      "\u001b[0;31m---------------------------------------------------------------------------\u001b[0m",
      "\u001b[0;31mIndexError\u001b[0m                                Traceback (most recent call last)",
      "\u001b[0;32m<ipython-input-63-b555b4957233>\u001b[0m in \u001b[0;36m<module>\u001b[0;34m\u001b[0m\n\u001b[1;32m      2\u001b[0m     \u001b[0mplot_raw_data_splopter\u001b[0m\u001b[0;34m(\u001b[0m\u001b[0mbu_folder\u001b[0m\u001b[0;34m)\u001b[0m\u001b[0;34m\u001b[0m\u001b[0;34m\u001b[0m\u001b[0m\n\u001b[1;32m      3\u001b[0m \u001b[0;34m\u001b[0m\u001b[0m\n\u001b[0;32m----> 4\u001b[0;31m \u001b[0mplot_concatted_current\u001b[0m\u001b[0;34m(\u001b[0m\u001b[0mlist\u001b[0m\u001b[0;34m(\u001b[0m\u001b[0mnew_bu_splopters\u001b[0m\u001b[0;34m.\u001b[0m\u001b[0mvalues\u001b[0m\u001b[0;34m(\u001b[0m\u001b[0;34m)\u001b[0m\u001b[0;34m)\u001b[0m\u001b[0;34m,\u001b[0m \u001b[0mtrim_concat\u001b[0m\u001b[0;34m=\u001b[0m\u001b[0;32mTrue\u001b[0m\u001b[0;34m)\u001b[0m\u001b[0;34m\u001b[0m\u001b[0;34m\u001b[0m\u001b[0m\n\u001b[0m",
      "\u001b[0;32m<ipython-input-16-4ee8dccdc177>\u001b[0m in \u001b[0;36mplot_concatted_current\u001b[0;34m(splopters, trim_concat, ax)\u001b[0m\n\u001b[1;32m     33\u001b[0m \u001b[0;34m\u001b[0m\u001b[0m\n\u001b[1;32m     34\u001b[0m             \u001b[0mconcatted_current\u001b[0m \u001b[0;34m=\u001b[0m \u001b[0mnp\u001b[0m\u001b[0;34m.\u001b[0m\u001b[0mconcatenate\u001b[0m\u001b[0;34m(\u001b[0m\u001b[0;34m[\u001b[0m\u001b[0mconcatted_current\u001b[0m\u001b[0;34m,\u001b[0m \u001b[0mprobe_current_tot\u001b[0m\u001b[0;34m[\u001b[0m\u001b[0mindices_oi\u001b[0m\u001b[0;34m]\u001b[0m\u001b[0;34m]\u001b[0m\u001b[0;34m)\u001b[0m\u001b[0;34m\u001b[0m\u001b[0;34m\u001b[0m\u001b[0m\n\u001b[0;32m---> 35\u001b[0;31m             \u001b[0mconcatted_time\u001b[0m \u001b[0;34m=\u001b[0m \u001b[0mnp\u001b[0m\u001b[0;34m.\u001b[0m\u001b[0mconcatenate\u001b[0m\u001b[0;34m(\u001b[0m\u001b[0;34m[\u001b[0m\u001b[0mconcatted_time\u001b[0m\u001b[0;34m,\u001b[0m \u001b[0moffset\u001b[0m \u001b[0;34m+\u001b[0m \u001b[0mnp\u001b[0m\u001b[0;34m.\u001b[0m\u001b[0marange\u001b[0m\u001b[0;34m(\u001b[0m\u001b[0mlen\u001b[0m\u001b[0;34m(\u001b[0m\u001b[0mtime\u001b[0m\u001b[0;34m[\u001b[0m\u001b[0mindices_oi\u001b[0m\u001b[0;34m]\u001b[0m\u001b[0;34m)\u001b[0m\u001b[0;34m)\u001b[0m\u001b[0;34m]\u001b[0m\u001b[0;34m)\u001b[0m\u001b[0;34m\u001b[0m\u001b[0;34m\u001b[0m\u001b[0m\n\u001b[0m\u001b[1;32m     36\u001b[0m \u001b[0;34m\u001b[0m\u001b[0m\n\u001b[1;32m     37\u001b[0m             \u001b[0max\u001b[0m\u001b[0;34m.\u001b[0m\u001b[0maxvline\u001b[0m\u001b[0;34m(\u001b[0m\u001b[0mx\u001b[0m\u001b[0;34m=\u001b[0m\u001b[0moffset\u001b[0m\u001b[0;34m,\u001b[0m \u001b[0;34m**\u001b[0m\u001b[0mc\u001b[0m\u001b[0;34m.\u001b[0m\u001b[0mAX_LINE_DEFAULTS\u001b[0m\u001b[0;34m)\u001b[0m\u001b[0;34m\u001b[0m\u001b[0;34m\u001b[0m\u001b[0m\n",
      "\u001b[0;31mIndexError\u001b[0m: index 1045 is out of bounds for axis 0 with size 1044"
     ]
    },
    {
     "name": "stderr",
     "output_type": "stream",
     "text": [
      "/home/jleland/.pyenv/versions/3.6.9/lib/python3.6/tkinter/__init__.py:749: UserWarning: Creating legend with loc=\"best\" can be slow with large amounts of data.\n",
      "  func(*args)\n",
      "/home/jleland/.pyenv/versions/3.6.9/lib/python3.6/tkinter/__init__.py:1705: UserWarning: Creating legend with loc=\"best\" can be slow with large amounts of data.\n",
      "  return self.func(*args)\n"
     ]
    }
   ],
   "source": [
    "for bu_folder in new_bu_splopters.keys():\n",
    "    plot_raw_data_splopter(bu_folder)\n",
    "\n",
    "plot_concatted_current(list(new_bu_splopters.values()), trim_concat=True)"
   ]
  },
  {
   "cell_type": "code",
   "execution_count": 64,
   "metadata": {},
   "outputs": [
    {
     "name": "stdout",
     "output_type": "stream",
     "text": [
      "sprobe_20hr_multirestart_2.14_4c\n",
      "No a-file given, continuing without\n",
      "{'ProbePot': array([[ 0.  ],\n",
      "       [ 0.  ],\n",
      "       [ 0.  ],\n",
      "       ...,\n",
      "       [10.05],\n",
      "       [10.05],\n",
      "       [ 0.  ]])}\n"
     ]
    },
    {
     "data": {
      "text/plain": [
       "<flopter.spice.splopter.Splopter at 0x7fce7348bd68>"
      ]
     },
     "execution_count": 64,
     "metadata": {},
     "output_type": "execute_result"
    }
   ],
   "source": [
    "# plot_concatted_current(list(new_bu_splopters.values()), trim_concat=True)\n",
    "plot_raw_data_splopter(new_spl_path)"
   ]
  },
  {
   "cell_type": "code",
   "execution_count": 66,
   "metadata": {},
   "outputs": [
    {
     "data": {
      "text/plain": [
       "[<matplotlib.lines.Line2D at 0x7fce69628b00>]"
      ]
     },
     "execution_count": 66,
     "metadata": {},
     "output_type": "execute_result"
    }
   ],
   "source": [
    "fig, ax = plt.subplots(2, sharey=True)\n",
    "\n",
    "ax[0].plot(splopter_old.raw_data['I'])\n",
    "ax[1].plot(splopter_new.raw_data['I'])"
   ]
  },
  {
   "cell_type": "code",
   "execution_count": 25,
   "metadata": {},
   "outputs": [
    {
     "data": {
      "text/plain": [
       "[<matplotlib.lines.Line2D at 0x7f58bf93a6a0>]"
      ]
     },
     "execution_count": 25,
     "metadata": {},
     "output_type": "execute_result"
    }
   ],
   "source": [
    "fig, ax = plt.subplots(2, 2, sharex='col')\n",
    "\n",
    "ax[0][0].plot(splopter_old.raw_data['I'][:1100])\n",
    "ax[1][0].plot(splopter_old.raw_data['V'][900:])\n",
    "ax[0][1].plot(splopter_new.raw_data['I'])\n",
    "ax[1][1].plot(splopter_new.raw_data['V'])"
   ]
  },
  {
   "cell_type": "code",
   "execution_count": 24,
   "metadata": {},
   "outputs": [
    {
     "name": "stdout",
     "output_type": "stream",
     "text": [
      "1706\n",
      "1707\n",
      "1194\n",
      "568524\n",
      "568525\n",
      "852786\n",
      "2000\n"
     ]
    }
   ],
   "source": [
    "print(len(splopter_old.raw_data['I']))\n",
    "print(len(splopter_old.raw_data['V']))\n",
    "print(len(splopter_old.tdata.t))\n",
    "\n",
    "print(len(splopter_new.raw_data['I']))\n",
    "print(len(splopter_new.tdata.t_dict['ProbePot']))\n",
    "print(len(splopter_new.raw_data['V']))\n",
    "print(len(splopter_new.tdata.t))"
   ]
  },
  {
   "cell_type": "code",
   "execution_count": 26,
   "metadata": {},
   "outputs": [
    {
     "name": "stdout",
     "output_type": "stream",
     "text": [
      "ta: \t 2.0\n",
      "tp: \t 3.0\n",
      "tc: \t 1.0 \n",
      "\n"
     ]
    }
   ],
   "source": [
    "print(f'ta: \\t {splopter_new.parser[\"geom\"][\"ta\"]}')\n",
    "print(f'tp: \\t {splopter_new.parser[\"geom\"][\"tp\"]}')\n",
    "print(f'tc: \\t {splopter_new.parser[\"geom\"][\"tc\"]} \\n')"
   ]
  },
  {
   "cell_type": "code",
   "execution_count": 73,
   "metadata": {},
   "outputs": [
    {
     "data": {
      "text/plain": [
       "(array([1.73883010e-01, 3.47766021e-01, 5.21649031e-01, ...,\n",
       "        3.47244372e+02, 3.47418255e+02, 3.47592138e+02]),\n",
       " array([ 0.  ,  0.  ,  0.  , ..., 10.05, 10.05,  0.  ]),\n",
       " array([0., 0., 0., ..., 0., 0., 0.]),\n",
       " array([0., 0., 0., ..., 0., 0., 0.]))"
      ]
     },
     "execution_count": 73,
     "metadata": {},
     "output_type": "execute_result"
    }
   ],
   "source": [
    "splopter_new.get_tdata_raw_iv(splopter_new.tdata)"
   ]
  },
  {
   "cell_type": "code",
   "execution_count": 75,
   "metadata": {},
   "outputs": [
    {
     "name": "stdout",
     "output_type": "stream",
     "text": [
      "index.shape = (568525,)\n",
      "pot.shape = (568525,)\n",
      "current.shape = (568524,)\n"
     ]
    },
    {
     "data": {
      "text/plain": [
       "[<matplotlib.lines.Line2D at 0x7fce6910f710>]"
      ]
     },
     "execution_count": 75,
     "metadata": {},
     "output_type": "execute_result"
    }
   ],
   "source": [
    "fig, ax = plt.subplots(2)\n",
    "\n",
    "sweep_slc = slice(189509,568524)\n",
    "index = np.arange(0,568525)\n",
    "pot = np.squeeze(splopter_new.tdata.t_dict['ProbePot'])\n",
    "\n",
    "print(f'index.shape = {index.shape}')\n",
    "print(f'pot.shape = {pot.shape}')\n",
    "print(f'current.shape = {splopter_new.raw_data[\"I\"].shape}')\n",
    "\n",
    "ax[0].plot(index[:-1], splopter_new.raw_data['I'])\n",
    "ax[0].plot(index[sweep_slc], splopter_new.raw_data['I'][sweep_slc], color='tab:green')\n",
    "\n",
    "pot_ax = ax[0].twinx()\n",
    "pot_ax.plot(index, pot, color='tab:orange')\n",
    "pot_ax.plot(index[sweep_slc], pot[sweep_slc], color='tab:red')\n",
    "\n",
    "\n",
    "ax[1].plot(np.squeeze(splopter_new.tdata.t_dict['ProbePot'])[sweep_slc], splopter_new.raw_data['I'][sweep_slc])"
   ]
  },
  {
   "cell_type": "code",
   "execution_count": 77,
   "metadata": {},
   "outputs": [
    {
     "data": {
      "text/html": [
       "<div>\n",
       "<style scoped>\n",
       "    .dataframe tbody tr th:only-of-type {\n",
       "        vertical-align: middle;\n",
       "    }\n",
       "\n",
       "    .dataframe tbody tr th {\n",
       "        vertical-align: top;\n",
       "    }\n",
       "\n",
       "    .dataframe thead th {\n",
       "        text-align: right;\n",
       "    }\n",
       "</style>\n",
       "<table border=\"1\" class=\"dataframe\">\n",
       "  <thead>\n",
       "    <tr style=\"text-align: right;\">\n",
       "      <th></th>\n",
       "      <th>voltage</th>\n",
       "      <th>current</th>\n",
       "    </tr>\n",
       "  </thead>\n",
       "  <tbody>\n",
       "    <tr>\n",
       "      <td>0</td>\n",
       "      <td>-9.95</td>\n",
       "      <td>33.0</td>\n",
       "    </tr>\n",
       "    <tr>\n",
       "      <td>1</td>\n",
       "      <td>-9.95</td>\n",
       "      <td>36.0</td>\n",
       "    </tr>\n",
       "    <tr>\n",
       "      <td>2</td>\n",
       "      <td>-9.95</td>\n",
       "      <td>27.0</td>\n",
       "    </tr>\n",
       "    <tr>\n",
       "      <td>3</td>\n",
       "      <td>-9.95</td>\n",
       "      <td>35.0</td>\n",
       "    </tr>\n",
       "    <tr>\n",
       "      <td>4</td>\n",
       "      <td>-9.95</td>\n",
       "      <td>30.0</td>\n",
       "    </tr>\n",
       "    <tr>\n",
       "      <td>...</td>\n",
       "      <td>...</td>\n",
       "      <td>...</td>\n",
       "    </tr>\n",
       "    <tr>\n",
       "      <td>379010</td>\n",
       "      <td>10.05</td>\n",
       "      <td>0.0</td>\n",
       "    </tr>\n",
       "    <tr>\n",
       "      <td>379011</td>\n",
       "      <td>10.05</td>\n",
       "      <td>0.0</td>\n",
       "    </tr>\n",
       "    <tr>\n",
       "      <td>379012</td>\n",
       "      <td>10.05</td>\n",
       "      <td>0.0</td>\n",
       "    </tr>\n",
       "    <tr>\n",
       "      <td>379013</td>\n",
       "      <td>10.05</td>\n",
       "      <td>0.0</td>\n",
       "    </tr>\n",
       "    <tr>\n",
       "      <td>379014</td>\n",
       "      <td>10.05</td>\n",
       "      <td>0.0</td>\n",
       "    </tr>\n",
       "  </tbody>\n",
       "</table>\n",
       "<p>379015 rows × 2 columns</p>\n",
       "</div>"
      ],
      "text/plain": [
       "        voltage  current\n",
       "0         -9.95     33.0\n",
       "1         -9.95     36.0\n",
       "2         -9.95     27.0\n",
       "3         -9.95     35.0\n",
       "4         -9.95     30.0\n",
       "...         ...      ...\n",
       "379010    10.05      0.0\n",
       "379011    10.05      0.0\n",
       "379012    10.05      0.0\n",
       "379013    10.05      0.0\n",
       "379014    10.05      0.0\n",
       "\n",
       "[379015 rows x 2 columns]"
      ]
     },
     "execution_count": 77,
     "metadata": {},
     "output_type": "execute_result"
    }
   ],
   "source": [
    "df = pd.DataFrame({'voltage':pot[sweep_slc], 'current':splopter_new.raw_data['I'][sweep_slc]})\n",
    "df"
   ]
  },
  {
   "cell_type": "code",
   "execution_count": 78,
   "metadata": {},
   "outputs": [],
   "source": [
    "voltage_groups = df.groupby('voltage').groups"
   ]
  },
  {
   "cell_type": "code",
   "execution_count": 79,
   "metadata": {
    "collapsed": true,
    "jupyter": {
     "outputs_hidden": true
    }
   },
   "outputs": [
    {
     "name": "stdout",
     "output_type": "stream",
     "text": [
      "-9.950000000000001 947\n",
      "-9.9 947\n",
      "-9.85 947\n",
      "-9.799999999999999 947\n",
      "-9.75 947\n",
      "-9.700000000000001 947\n",
      "-9.65 947\n",
      "-9.6 947\n",
      "-9.549999999999999 947\n",
      "-9.5 947\n",
      "-9.450000000000001 947\n",
      "-9.4 947\n",
      "-9.35 947\n",
      "-9.299999999999999 947\n",
      "-9.25 947\n",
      "-9.200000000000001 947\n",
      "-9.15 947\n",
      "-9.1 947\n",
      "-9.049999999999999 947\n",
      "-9.0 947\n",
      "-8.950000000000001 947\n",
      "-8.9 947\n",
      "-8.85 947\n",
      "-8.799999999999999 947\n",
      "-8.75 947\n",
      "-8.700000000000001 947\n",
      "-8.65 947\n",
      "-8.6 947\n",
      "-8.549999999999999 947\n",
      "-8.5 947\n",
      "-8.450000000000001 947\n",
      "-8.4 947\n",
      "-8.35 947\n",
      "-8.299999999999999 947\n",
      "-8.25 947\n",
      "-8.200000000000001 947\n",
      "-8.15 947\n",
      "-8.1 947\n",
      "-8.049999999999999 947\n",
      "-8.0 947\n",
      "-7.950000000000001 947\n",
      "-7.8999999999999995 947\n",
      "-7.8500000000000005 947\n",
      "-7.799999999999999 947\n",
      "-7.75 947\n",
      "-7.700000000000001 947\n",
      "-7.6499999999999995 947\n",
      "-7.6000000000000005 947\n",
      "-7.549999999999999 947\n",
      "-7.5 947\n",
      "-7.450000000000001 947\n",
      "-7.3999999999999995 947\n",
      "-7.3500000000000005 947\n",
      "-7.299999999999999 947\n",
      "-7.25 947\n",
      "-7.200000000000001 947\n",
      "-7.1499999999999995 947\n",
      "-7.1000000000000005 947\n",
      "-7.049999999999999 947\n",
      "-7.0 947\n",
      "-6.950000000000001 947\n",
      "-6.8999999999999995 947\n",
      "-6.8500000000000005 947\n",
      "-6.799999999999999 947\n",
      "-6.75 947\n",
      "-6.700000000000001 947\n",
      "-6.6499999999999995 947\n",
      "-6.6000000000000005 947\n",
      "-6.549999999999999 947\n",
      "-6.5 947\n",
      "-6.450000000000001 947\n",
      "-6.3999999999999995 947\n",
      "-6.3500000000000005 947\n",
      "-6.299999999999999 947\n",
      "-6.25 947\n",
      "-6.200000000000001 947\n",
      "-6.1499999999999995 947\n",
      "-6.1000000000000005 947\n",
      "-6.049999999999999 947\n",
      "-6.0 947\n",
      "-5.950000000000001 947\n",
      "-5.8999999999999995 947\n",
      "-5.8500000000000005 947\n",
      "-5.799999999999999 947\n",
      "-5.75 947\n",
      "-5.700000000000001 947\n",
      "-5.6499999999999995 947\n",
      "-5.6000000000000005 947\n",
      "-5.549999999999999 947\n",
      "-5.5 947\n",
      "-5.450000000000001 947\n",
      "-5.3999999999999995 947\n",
      "-5.3500000000000005 947\n",
      "-5.3 947\n",
      "-5.25 947\n",
      "-5.199999999999999 947\n",
      "-5.1499999999999995 947\n",
      "-5.1000000000000005 947\n",
      "-5.05 947\n",
      "-5.0 947\n",
      "-4.949999999999999 947\n",
      "-4.8999999999999995 947\n",
      "-4.8500000000000005 947\n",
      "-4.8 947\n",
      "-4.75 947\n",
      "-4.699999999999999 947\n",
      "-4.6499999999999995 947\n",
      "-4.6000000000000005 947\n",
      "-4.55 947\n",
      "-4.5 947\n",
      "-4.449999999999999 947\n",
      "-4.3999999999999995 947\n",
      "-4.3500000000000005 947\n",
      "-4.3 947\n",
      "-4.25 947\n",
      "-4.199999999999999 947\n",
      "-4.1499999999999995 947\n",
      "-4.1000000000000005 947\n",
      "-4.05 947\n",
      "-3.999999999999999 947\n",
      "-3.9499999999999997 947\n",
      "-3.8999999999999995 947\n",
      "-3.8500000000000005 947\n",
      "-3.8000000000000003 947\n",
      "-3.749999999999999 947\n",
      "-3.6999999999999997 947\n",
      "-3.6499999999999995 947\n",
      "-3.6000000000000005 947\n",
      "-3.5500000000000003 947\n",
      "-3.4999999999999996 947\n",
      "-3.4499999999999997 947\n",
      "-3.399999999999999 947\n",
      "-3.3500000000000005 947\n",
      "-3.3000000000000003 947\n",
      "-3.2499999999999996 947\n",
      "-3.1999999999999997 947\n",
      "-3.149999999999999 947\n",
      "-3.0999999999999996 947\n",
      "-3.0500000000000003 947\n",
      "-2.9999999999999996 947\n",
      "-2.9499999999999997 947\n",
      "-2.899999999999999 947\n",
      "-2.8499999999999996 947\n",
      "-2.8000000000000003 947\n",
      "-2.7499999999999996 947\n",
      "-2.6999999999999997 947\n",
      "-2.649999999999999 947\n",
      "-2.5999999999999996 947\n",
      "-2.5499999999999994 947\n",
      "-2.4999999999999996 947\n",
      "-2.4499999999999997 947\n",
      "-2.399999999999999 947\n",
      "-2.3499999999999996 947\n",
      "-2.2999999999999994 947\n",
      "-2.2499999999999996 947\n",
      "-2.1999999999999997 947\n",
      "-2.149999999999999 947\n",
      "-2.0999999999999996 947\n",
      "-2.0499999999999994 947\n",
      "-1.9999999999999996 947\n",
      "-1.9499999999999997 947\n",
      "-1.899999999999999 947\n",
      "-1.8499999999999999 947\n",
      "-1.7999999999999996 947\n",
      "-1.7499999999999998 947\n",
      "-1.6999999999999995 947\n",
      "-1.649999999999999 947\n",
      "-1.5999999999999996 947\n",
      "-1.5499999999999994 947\n",
      "-1.4999999999999998 947\n",
      "-1.4499999999999995 947\n",
      "-1.3999999999999995 947\n",
      "-1.3499999999999994 947\n",
      "-1.2999999999999996 947\n",
      "-1.2499999999999998 947\n",
      "-1.1999999999999995 947\n",
      "-1.1499999999999995 947\n",
      "-1.0999999999999994 947\n",
      "-1.0499999999999996 947\n",
      "-0.9999999999999998 947\n",
      "-0.9499999999999995 947\n",
      "-0.8999999999999994 947\n",
      "-0.8499999999999995 947\n",
      "-0.7999999999999996 947\n",
      "-0.7499999999999993 947\n",
      "-0.6999999999999994 947\n",
      "-0.6499999999999995 947\n",
      "-0.5999999999999995 947\n",
      "-0.5499999999999995 947\n",
      "-0.4999999999999995 947\n",
      "-0.4499999999999994 947\n",
      "-0.39999999999999947 947\n",
      "-0.34999999999999953 947\n",
      "-0.29999999999999943 947\n",
      "-0.2499999999999995 947\n",
      "-0.19999999999999948 947\n",
      "-0.14999999999999947 947\n",
      "-0.09999999999999944 947\n",
      "-0.04999999999999944 947\n",
      "5.551115123125783e-16 947\n",
      "0.05000000000000055 947\n",
      "0.10000000000000055 947\n",
      "0.15000000000000058 947\n",
      "0.2000000000000006 947\n",
      "0.2500000000000005 947\n",
      "0.30000000000000066 947\n",
      "0.3500000000000006 947\n",
      "0.40000000000000047 947\n",
      "0.45000000000000057 947\n",
      "0.5000000000000006 947\n",
      "0.5500000000000006 947\n",
      "0.6000000000000005 947\n",
      "0.6500000000000005 947\n",
      "0.7000000000000006 947\n",
      "0.7500000000000007 947\n",
      "0.8000000000000006 947\n",
      "0.8500000000000006 947\n",
      "0.9000000000000006 947\n",
      "0.9500000000000008 947\n",
      "1.0000000000000007 947\n",
      "1.0500000000000007 947\n",
      "1.1000000000000005 947\n",
      "1.1500000000000006 947\n",
      "1.2000000000000008 947\n",
      "1.2500000000000007 947\n",
      "1.3000000000000007 947\n",
      "1.3500000000000005 947\n",
      "1.4000000000000006 947\n",
      "1.4500000000000008 947\n",
      "1.5000000000000004 947\n",
      "1.5500000000000007 947\n",
      "1.600000000000001 947\n",
      "1.6500000000000006 947\n",
      "1.7000000000000008 947\n",
      "1.7500000000000004 947\n",
      "1.8000000000000007 947\n",
      "1.850000000000001 947\n",
      "1.9000000000000006 947\n",
      "1.9500000000000008 947\n",
      "2.0000000000000004 947\n",
      "2.0500000000000007 947\n",
      "2.100000000000001 947\n",
      "2.150000000000001 947\n",
      "2.2000000000000006 947\n",
      "2.2500000000000004 947\n",
      "2.3000000000000007 947\n",
      "2.350000000000001 947\n",
      "2.400000000000001 947\n",
      "2.4500000000000006 947\n",
      "2.5000000000000004 947\n",
      "2.5500000000000007 947\n",
      "2.600000000000001 947\n",
      "2.650000000000001 947\n",
      "2.7 947\n",
      "2.7500000000000004 947\n",
      "2.8000000000000007 947\n",
      "2.850000000000001 947\n",
      "2.9000000000000012 947\n",
      "2.95 947\n",
      "3.0000000000000004 947\n",
      "3.0500000000000007 947\n",
      "3.100000000000001 947\n",
      "3.1500000000000012 947\n",
      "3.2 947\n",
      "3.2500000000000004 947\n",
      "3.3000000000000007 947\n",
      "3.350000000000001 947\n",
      "3.4000000000000012 947\n",
      "3.45 947\n",
      "3.5000000000000004 947\n",
      "3.5500000000000007 947\n",
      "3.6000000000000005 947\n",
      "3.650000000000001 947\n",
      "3.7000000000000006 947\n",
      "3.750000000000001 947\n",
      "3.8000000000000003 947\n",
      "3.8500000000000005 947\n",
      "3.900000000000001 947\n",
      "3.9500000000000006 947\n",
      "4.000000000000001 947\n",
      "4.050000000000001 947\n",
      "4.1000000000000005 947\n",
      "4.1499999999999995 947\n",
      "4.200000000000002 947\n",
      "4.250000000000001 947\n",
      "4.300000000000001 947\n",
      "4.3500000000000005 947\n",
      "4.3999999999999995 947\n",
      "4.450000000000002 947\n",
      "4.500000000000001 947\n",
      "4.550000000000001 947\n",
      "4.6000000000000005 947\n",
      "4.650000000000001 947\n",
      "4.700000000000002 947\n",
      "4.750000000000001 947\n",
      "4.800000000000001 947\n",
      "4.8500000000000005 947\n",
      "4.900000000000001 947\n",
      "4.950000000000002 947\n",
      "5.000000000000001 947\n",
      "5.050000000000001 947\n",
      "5.1000000000000005 947\n",
      "5.150000000000001 947\n",
      "5.200000000000002 947\n",
      "5.250000000000001 947\n",
      "5.300000000000001 947\n",
      "5.3500000000000005 947\n",
      "5.4 947\n",
      "5.450000000000002 947\n",
      "5.500000000000001 947\n",
      "5.550000000000001 947\n",
      "5.6000000000000005 947\n",
      "5.65 947\n",
      "5.700000000000002 947\n",
      "5.750000000000001 947\n",
      "5.800000000000001 947\n",
      "5.8500000000000005 947\n",
      "5.9 947\n",
      "5.950000000000002 947\n",
      "6.000000000000001 947\n",
      "6.050000000000001 947\n",
      "6.1000000000000005 947\n",
      "6.15 947\n",
      "6.200000000000002 947\n",
      "6.250000000000001 947\n",
      "6.300000000000001 947\n",
      "6.3500000000000005 947\n",
      "6.4 947\n",
      "6.450000000000002 947\n",
      "6.500000000000001 947\n",
      "6.549999999999999 947\n",
      "6.6000000000000005 947\n",
      "6.65 947\n",
      "6.700000000000002 947\n",
      "6.750000000000001 947\n",
      "6.799999999999999 947\n",
      "6.8500000000000005 947\n",
      "6.9 947\n",
      "6.950000000000002 947\n",
      "7.000000000000001 947\n",
      "7.049999999999999 947\n",
      "7.1000000000000005 947\n",
      "7.150000000000001 947\n",
      "7.200000000000001 947\n",
      "7.250000000000002 947\n",
      "7.299999999999999 947\n",
      "7.3500000000000005 947\n",
      "7.400000000000001 947\n",
      "7.450000000000001 947\n",
      "7.500000000000002 947\n",
      "7.549999999999999 947\n",
      "7.6000000000000005 947\n",
      "7.650000000000001 947\n",
      "7.700000000000001 947\n",
      "7.750000000000002 947\n",
      "7.799999999999999 947\n",
      "7.8500000000000005 947\n",
      "7.900000000000001 947\n",
      "7.950000000000001 947\n",
      "8.000000000000002 947\n",
      "8.049999999999999 947\n",
      "8.100000000000001 947\n",
      "8.15 947\n",
      "8.200000000000001 947\n",
      "8.250000000000002 947\n",
      "8.299999999999999 947\n",
      "8.350000000000001 947\n",
      "8.4 947\n",
      "8.450000000000001 947\n",
      "8.500000000000002 947\n",
      "8.549999999999999 947\n",
      "8.600000000000001 947\n",
      "8.65 947\n",
      "8.700000000000001 947\n",
      "8.750000000000002 947\n",
      "8.799999999999999 947\n",
      "8.850000000000001 947\n",
      "8.9 947\n",
      "8.950000000000001 947\n",
      "9.000000000000002 947\n",
      "9.049999999999999 947\n",
      "9.100000000000001 947\n",
      "9.15 947\n",
      "9.200000000000001 947\n",
      "9.250000000000002 947\n",
      "9.299999999999999 947\n",
      "9.350000000000001 947\n",
      "9.4 947\n",
      "9.450000000000001 947\n",
      "9.500000000000002 947\n",
      "9.549999999999999 947\n",
      "9.600000000000001 947\n",
      "9.65 947\n",
      "9.700000000000001 947\n",
      "9.750000000000002 947\n",
      "9.799999999999999 947\n",
      "9.850000000000001 947\n",
      "9.9 947\n",
      "9.950000000000001 947\n",
      "10.000000000000002 947\n",
      "10.049999999999999 215\n"
     ]
    }
   ],
   "source": [
    "for voltage_group in voltage_groups:\n",
    "    voltage_group_size = len(voltage_groups[voltage_group])\n",
    "    if voltage_group_size > 5:\n",
    "        print(voltage_group, voltage_group_size)"
   ]
  },
  {
   "cell_type": "code",
   "execution_count": 80,
   "metadata": {},
   "outputs": [
    {
     "data": {
      "text/plain": [
       "Int64Index([98488, 98489, 98490, 98491, 98492, 98493, 98494, 98495, 98496,\n",
       "            98497,\n",
       "            ...\n",
       "            99425, 99426, 99427, 99428, 99429, 99430, 99431, 99432, 99433,\n",
       "            99434],\n",
       "           dtype='int64', length=947)"
      ]
     },
     "execution_count": 80,
     "metadata": {},
     "output_type": "execute_result"
    }
   ],
   "source": [
    "voltage_val_oi = voltage_groups[-4.75]\n",
    "voltage_val_oi"
   ]
  },
  {
   "cell_type": "code",
   "execution_count": 81,
   "metadata": {},
   "outputs": [
    {
     "data": {
      "text/plain": [
       "<flopter.core.fitdata.FitData2 at 0x7fce69011550>"
      ]
     },
     "execution_count": 81,
     "metadata": {},
     "output_type": "execute_result"
    }
   ],
   "source": [
    "def plot_and_fit_gaussian(data):\n",
    "    gaussian = fts.NormalisedGaussianFitter()\n",
    "    fig, ax = plt.subplots()\n",
    "    hist, bin_edges = np.histogram(data, bins='auto', density=True)\n",
    "    bins = (bin_edges[:-1] + bin_edges[1:]) / 2\n",
    "    ax.plot(bins, hist)\n",
    "    \n",
    "    params = [np.std(data), np.mean(data)]\n",
    "    fit_data = gaussian.fit(bins, hist, initial_vals=params) \n",
    "    x = np.linspace(min(bins), max(bins), 1000)\n",
    "    ax.plot(x, fit_data.fit_function(x), label=r'Gaussian fit - $\\sigma$ = {:.3g}'.format(fit_data.get_param(\"sigma\")))\n",
    "\n",
    "    ax.legend()\n",
    "    \n",
    "    return fit_data\n",
    "\n",
    "plot_and_fit_gaussian(df.iloc[voltage_val_oi]['current'])"
   ]
  },
  {
   "cell_type": "code",
   "execution_count": 82,
   "metadata": {},
   "outputs": [
    {
     "data": {
      "text/plain": [
       "<matplotlib.axes._subplots.AxesSubplot at 0x7fce6906b908>"
      ]
     },
     "execution_count": 82,
     "metadata": {},
     "output_type": "execute_result"
    }
   ],
   "source": [
    "df.iloc[voltage_val_oi]['current'].plot()"
   ]
  },
  {
   "cell_type": "code",
   "execution_count": 83,
   "metadata": {},
   "outputs": [
    {
     "data": {
      "text/plain": [
       "<matplotlib.axes._subplots.AxesSubplot at 0x7fce694275c0>"
      ]
     },
     "execution_count": 83,
     "metadata": {},
     "output_type": "execute_result"
    }
   ],
   "source": [
    "smoothed_df = df.groupby('voltage').filter(lambda x: len(x) == 947).groupby('voltage').tail(95).groupby('voltage').mean()\n",
    "smoothed_df.plot()"
   ]
  },
  {
   "cell_type": "code",
   "execution_count": 84,
   "metadata": {},
   "outputs": [
    {
     "data": {
      "text/html": [
       "<div>\n",
       "<style scoped>\n",
       "    .dataframe tbody tr th:only-of-type {\n",
       "        vertical-align: middle;\n",
       "    }\n",
       "\n",
       "    .dataframe tbody tr th {\n",
       "        vertical-align: top;\n",
       "    }\n",
       "\n",
       "    .dataframe thead th {\n",
       "        text-align: right;\n",
       "    }\n",
       "</style>\n",
       "<table border=\"1\" class=\"dataframe\">\n",
       "  <thead>\n",
       "    <tr style=\"text-align: right;\">\n",
       "      <th></th>\n",
       "      <th>current</th>\n",
       "    </tr>\n",
       "    <tr>\n",
       "      <th>voltage</th>\n",
       "      <th></th>\n",
       "    </tr>\n",
       "  </thead>\n",
       "  <tbody>\n",
       "    <tr>\n",
       "      <td>-9.95</td>\n",
       "      <td>29.986266</td>\n",
       "    </tr>\n",
       "    <tr>\n",
       "      <td>-9.90</td>\n",
       "      <td>29.665249</td>\n",
       "    </tr>\n",
       "    <tr>\n",
       "      <td>-9.85</td>\n",
       "      <td>29.463560</td>\n",
       "    </tr>\n",
       "    <tr>\n",
       "      <td>-9.80</td>\n",
       "      <td>28.706433</td>\n",
       "    </tr>\n",
       "    <tr>\n",
       "      <td>-9.75</td>\n",
       "      <td>28.575491</td>\n",
       "    </tr>\n",
       "    <tr>\n",
       "      <td>...</td>\n",
       "      <td>...</td>\n",
       "    </tr>\n",
       "    <tr>\n",
       "      <td>9.80</td>\n",
       "      <td>-324.420506</td>\n",
       "    </tr>\n",
       "    <tr>\n",
       "      <td>9.85</td>\n",
       "      <td>-298.097425</td>\n",
       "    </tr>\n",
       "    <tr>\n",
       "      <td>9.90</td>\n",
       "      <td>-265.180349</td>\n",
       "    </tr>\n",
       "    <tr>\n",
       "      <td>9.95</td>\n",
       "      <td>-228.059194</td>\n",
       "    </tr>\n",
       "    <tr>\n",
       "      <td>10.00</td>\n",
       "      <td>-178.458414</td>\n",
       "    </tr>\n",
       "  </tbody>\n",
       "</table>\n",
       "<p>400 rows × 1 columns</p>\n",
       "</div>"
      ],
      "text/plain": [
       "            current\n",
       "voltage            \n",
       "-9.95     29.986266\n",
       "-9.90     29.665249\n",
       "-9.85     29.463560\n",
       "-9.80     28.706433\n",
       "-9.75     28.575491\n",
       "...             ...\n",
       " 9.80   -324.420506\n",
       " 9.85   -298.097425\n",
       " 9.90   -265.180349\n",
       " 9.95   -228.059194\n",
       " 10.00  -178.458414\n",
       "\n",
       "[400 rows x 1 columns]"
      ]
     },
     "execution_count": 84,
     "metadata": {},
     "output_type": "execute_result"
    }
   ],
   "source": [
    "filtered_df = df.groupby('voltage').filter(lambda x: len(x) == 947)\n",
    "smoothed_df = filtered_df.groupby('voltage').mean()\n",
    "smoothed_df"
   ]
  },
  {
   "cell_type": "code",
   "execution_count": 85,
   "metadata": {},
   "outputs": [
    {
     "data": {
      "text/plain": [
       "400"
      ]
     },
     "execution_count": 85,
     "metadata": {},
     "output_type": "execute_result"
    }
   ],
   "source": [
    "smoothed_df.size"
   ]
  },
  {
   "cell_type": "code",
   "execution_count": 26,
   "metadata": {},
   "outputs": [
    {
     "ename": "NameError",
     "evalue": "name 'smoothed_df' is not defined",
     "output_type": "error",
     "traceback": [
      "\u001b[0;31m---------------------------------------------------------------------------\u001b[0m",
      "\u001b[0;31mNameError\u001b[0m                                 Traceback (most recent call last)",
      "\u001b[0;32m<ipython-input-26-319d4ce89674>\u001b[0m in \u001b[0;36m<module>\u001b[0;34m\u001b[0m\n\u001b[0;32m----> 1\u001b[0;31m \u001b[0miv_data\u001b[0m \u001b[0;34m=\u001b[0m \u001b[0miv\u001b[0m\u001b[0;34m.\u001b[0m\u001b[0mIVData\u001b[0m\u001b[0;34m(\u001b[0m\u001b[0msmoothed_df\u001b[0m\u001b[0;34m.\u001b[0m\u001b[0mindex\u001b[0m\u001b[0;34m.\u001b[0m\u001b[0mvalues\u001b[0m\u001b[0;34m,\u001b[0m \u001b[0msmoothed_df\u001b[0m\u001b[0;34m[\u001b[0m\u001b[0;34m'current'\u001b[0m\u001b[0;34m]\u001b[0m\u001b[0;34m.\u001b[0m\u001b[0mvalues\u001b[0m\u001b[0;34m,\u001b[0m \u001b[0mnp\u001b[0m\u001b[0;34m.\u001b[0m\u001b[0marange\u001b[0m\u001b[0;34m(\u001b[0m\u001b[0;36m0\u001b[0m\u001b[0;34m,\u001b[0m \u001b[0msmoothed_df\u001b[0m\u001b[0;34m.\u001b[0m\u001b[0msize\u001b[0m\u001b[0;34m)\u001b[0m\u001b[0;34m)\u001b[0m\u001b[0;34m\u001b[0m\u001b[0;34m\u001b[0m\u001b[0m\n\u001b[0m\u001b[1;32m      2\u001b[0m \u001b[0miv_data\u001b[0m\u001b[0;34m.\u001b[0m\u001b[0mplot\u001b[0m\u001b[0;34m(\u001b[0m\u001b[0;34m)\u001b[0m\u001b[0;34m\u001b[0m\u001b[0;34m\u001b[0m\u001b[0m\n",
      "\u001b[0;31mNameError\u001b[0m: name 'smoothed_df' is not defined"
     ]
    }
   ],
   "source": [
    "iv_data = iv.IVData(smoothed_df.index.values, smoothed_df['current'].values, np.arange(0, smoothed_df.size))\n",
    "iv_data.plot()"
   ]
  },
  {
   "cell_type": "markdown",
   "metadata": {},
   "source": [
    "## Compare old and new IV characteristic"
   ]
  },
  {
   "cell_type": "code",
   "execution_count": 87,
   "metadata": {},
   "outputs": [
    {
     "data": {
      "text/plain": [
       "<matplotlib.legend.Legend at 0x7fce6ad1aa90>"
      ]
     },
     "execution_count": 87,
     "metadata": {},
     "output_type": "execute_result"
    }
   ],
   "source": [
    "fig, ax = plt.subplots()\n",
    "\n",
    "# ax.plot(splopter_old.iv_data['I'])\n",
    "# ax.plot(splopter_old.raw_data['I'])\n",
    "ax.plot(splopter_old.iv_data['V'][:-1], splopter_old.iv_data['I'], label='2.13')\n",
    "iv_data.plot(ax=ax, label='2.14')\n",
    "ax.legend()"
   ]
  },
  {
   "cell_type": "code",
   "execution_count": 88,
   "metadata": {},
   "outputs": [
    {
     "name": "stdout",
     "output_type": "stream",
     "text": [
      "(1706,)\n"
     ]
    },
    {
     "data": {
      "text/plain": [
       "<matplotlib.lines.Line2D at 0x7fce690401d0>"
      ]
     },
     "execution_count": 88,
     "metadata": {},
     "output_type": "execute_result"
    }
   ],
   "source": [
    "fig, ax = plt.subplots()\n",
    "\n",
    "print(splopter_old.raw_data['I'].shape)\n",
    "\n",
    "# ax.plot(splopter_old.iv_data['I'])\n",
    "# ax.plot(splopter_old.raw_data['I'])\n",
    "ax.plot(splopter_old.raw_data['I'], label='2.13')\n",
    "ax.axvline(x=1138)"
   ]
  },
  {
   "cell_type": "code",
   "execution_count": 89,
   "metadata": {},
   "outputs": [
    {
     "name": "stdout",
     "output_type": "stream",
     "text": [
      "(1999,)\n"
     ]
    },
    {
     "data": {
      "text/plain": [
       "<matplotlib.lines.Line2D at 0x7fce6af5fb38>"
      ]
     },
     "execution_count": 89,
     "metadata": {},
     "output_type": "execute_result"
    }
   ],
   "source": [
    "fig, ax = plt.subplots()\n",
    "\n",
    "print(splopter_ctrl.raw_data['I'].shape)\n",
    "\n",
    "big_spike_start = 1109\n",
    "ta_point = np.ceil(2 * big_spike_start / 3)\n",
    "ctrl_rawiv_index = np.arange(ta_point, big_spike_start).astype(np.int64)\n",
    "\n",
    "# ax.plot(splopter_old.iv_data['I'])\n",
    "# ax.plot(splopter_old.raw_data['I'])\n",
    "ax.plot(splopter_ctrl.raw_data['I'][:big_spike_start+1], label='2.13')\n",
    "ax.axvline(x=big_spike_start, color='grey')\n",
    "ax.axvline(x=ta_point, color='red', linestyle='dotted')"
   ]
  },
  {
   "cell_type": "code",
   "execution_count": 90,
   "metadata": {},
   "outputs": [
    {
     "name": "stdout",
     "output_type": "stream",
     "text": [
      "666\n",
      "369\n",
      "379016\n"
     ]
    },
    {
     "data": {
      "text/plain": [
       "(-500, 150)"
      ]
     },
     "execution_count": 90,
     "metadata": {},
     "output_type": "execute_result"
    }
   ],
   "source": [
    "sweep_start = 1335\n",
    "print(len(splopter_ctrl.raw_data['V']) - sweep_start)\n",
    "print(len(ctrl_rawiv_index))\n",
    "\n",
    "time, raw_pot, raw_current_e, raw_current_i = splopter_ctrl.get_tdata_raw_iv(splopter_ctrl.tdata)\n",
    "print(len(raw_pot))\n",
    "\n",
    "fig, ax = plt.subplots(2)\n",
    "ax[0].plot(raw_pot)\n",
    "ax[0].plot(np.arange(189509,379016), raw_pot[189509:])\n",
    "ax[0].axvline(189509, color='red')\n",
    "\n",
    "ax[1].plot(raw_current_e, label='electron')\n",
    "ax[1].plot(raw_current_i, label='ion')\n",
    "ax[1].plot(raw_current_i + raw_current_e, label='total')\n",
    "ax[1].legend()\n",
    "ax[1].set_ylim(-500,150)"
   ]
  },
  {
   "cell_type": "code",
   "execution_count": 91,
   "metadata": {},
   "outputs": [
    {
     "name": "stdout",
     "output_type": "stream",
     "text": [
      "1707\n"
     ]
    },
    {
     "data": {
      "text/plain": [
       "<matplotlib.legend.Legend at 0x7fce69260898>"
      ]
     },
     "execution_count": 91,
     "metadata": {},
     "output_type": "execute_result"
    }
   ],
   "source": [
    "fig, ax = plt.subplots(2, sharex=True)\n",
    "ax[0].plot(splopter_ctrl.raw_data['I'][:big_spike_start+1], label='2.13 - control')\n",
    "ax[0].axvline(x=big_spike_start, color='grey')\n",
    "ax[0].axvline(x=ta_point, color='red', linestyle='dotted')\n",
    "\n",
    "concatted_sweep_start = len(splopter_old.raw_data['I']) - len(ctrl_rawiv_index)\n",
    "print(len(splopter_old.raw_data['V']))\n",
    "ax[1].plot(splopter_old.raw_data['I'], label='2.13 - concatted')\n",
    "ax[1].plot(np.arange(concatted_sweep_start, concatted_sweep_start+len(ctrl_rawiv_index)), splopter_old.raw_data['I'][concatted_sweep_start:])\n",
    "\n",
    "\n",
    "ax[1].axvline(x=concatted_sweep_start, color='red', linestyle='dotted')\n",
    "# iv_data.plot(ax=ax, label='2.14')\n",
    "\n",
    "ax[0].legend()\n",
    "ax[1].legend()"
   ]
  },
  {
   "cell_type": "code",
   "execution_count": 92,
   "metadata": {},
   "outputs": [
    {
     "name": "stdout",
     "output_type": "stream",
     "text": [
      "369\n",
      "369\n"
     ]
    },
    {
     "data": {
      "text/plain": [
       "<matplotlib.legend.Legend at 0x7fce6aedbf28>"
      ]
     },
     "execution_count": 92,
     "metadata": {},
     "output_type": "execute_result"
    }
   ],
   "source": [
    "print(len(raw_pot[189509:513:-513])) #-len(ctrl_rawiv_index):len(ctrl_rawiv_index)\n",
    "print(len(splopter_ctrl.raw_data['I'][ctrl_rawiv_index]))\n",
    "\n",
    "fig, ax = plt.subplots()\n",
    "ax.plot(raw_pot[189509:-513:513], splopter_ctrl.raw_data['I'][ctrl_rawiv_index], label='2.13 - Control')\n",
    "ax.plot(raw_pot[189509:-513:513], splopter_old.raw_data['I'][concatted_sweep_start:], label='2.13 - Concatted')\n",
    "ax.plot(splopter_old.iv_data['V'][:-1], splopter_old.iv_data['I'], label='2.13 - Old Concatenation')\n",
    "\n",
    "iv_data.plot(ax=ax, label='2.14')\n",
    "ax.legend()"
   ]
  },
  {
   "cell_type": "code",
   "execution_count": 93,
   "metadata": {},
   "outputs": [
    {
     "name": "stdout",
     "output_type": "stream",
     "text": [
      "740.0\n",
      "1337\n"
     ]
    },
    {
     "data": {
      "text/plain": [
       "0.5534779356768885"
      ]
     },
     "execution_count": 93,
     "metadata": {},
     "output_type": "execute_result"
    }
   ],
   "source": [
    "print(ta_point)\n",
    "print(concatted_sweep_start)\n",
    "ta_point / concatted_sweep_start"
   ]
  },
  {
   "cell_type": "code",
   "execution_count": 94,
   "metadata": {},
   "outputs": [
    {
     "name": "stderr",
     "output_type": "stream",
     "text": [
      "/home/jleland/coding/projects/flopter/flopter/core/fitters.py:246: RuntimeWarning: overflow encountered in exp\n",
      "  return I_0 * (1 - np.exp(-V) + np.where(v <= v_f, (a * np.float_power(np.absolute(V), [0.75])), 0))\n"
     ]
    }
   ],
   "source": [
    "fig, ax = plt.subplots()\n",
    "# ax.plot(splopter_old.iv_data['V'][:-1], splopter_old.iv_data['I'], label='2.13 - Old Concatenation')\n",
    "ax.plot(splopter_old.iv_data['V'][:350], splopter_old.iv_data['I'][:350], label='2.13 - Old Concatenation')\n",
    "fitter = fts.FullIVFitter()\n",
    "\n",
    "old_d_data = fitter.fit(splopter_old.iv_data['V'][:350], splopter_old.iv_data['I'][:350])\n",
    "old_d_data.plot(ax=ax)\n",
    "\n",
    "fig, ax = plt.subplots()\n",
    "# ax.plot(iv_data['V'], iv_data['I'], label='New')\n",
    "ax.plot(iv_data['V'][:165], iv_data['I'][:165], label='New')\n",
    "new_f_data = fitter.fit(iv_data['V'][:165], iv_data['I'][:165])\n",
    "new_f_data.plot(ax=ax)\n"
   ]
  },
  {
   "cell_type": "code",
   "execution_count": null,
   "metadata": {},
   "outputs": [],
   "source": []
  }
 ],
 "metadata": {
  "kernelspec": {
   "display_name": "python3.6-codac",
   "language": "python",
   "name": "python3.6-codac"
  },
  "language_info": {
   "codemirror_mode": {
    "name": "ipython",
    "version": 3
   },
   "file_extension": ".py",
   "mimetype": "text/x-python",
   "name": "python",
   "nbconvert_exporter": "python",
   "pygments_lexer": "ipython3",
   "version": "3.6.9"
  }
 },
 "nbformat": 4,
 "nbformat_minor": 4
}
