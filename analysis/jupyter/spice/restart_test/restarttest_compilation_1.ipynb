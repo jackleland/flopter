{
 "cells": [
  {
   "cell_type": "markdown",
   "metadata": {},
   "source": [
    "# Combining and analysing the simulations done for testing restarts on SPICE\n",
    "Using the lowdensity S probe at 10$^{\\circ}$"
   ]
  },
  {
   "cell_type": "code",
   "execution_count": 1,
   "metadata": {
    "pycharm": {
     "is_executing": false
    }
   },
   "outputs": [],
   "source": [
    "%matplotlib tk\n",
    "import numpy as np\n",
    "import matplotlib.pyplot as plt\n",
    "import matplotlib as mpl\n",
    "import xarray as xr\n",
    "import pandas as pd\n",
    "import scipy.io as sio\n",
    "import sys\n",
    "import os\n",
    "import glob\n",
    "import copy\n",
    "import pathlib as pth\n",
    "import importlib\n",
    "sys.path.append('/home/jleland/Coding/Projects/flopter')\n",
    "import flopter.spice.splopter as spl\n",
    "import flopter.spice.tdata as td\n",
    "# import flopter.spice.homogenise as hmg\n",
    "import flopter.core.ivdata as iv\n",
    "import flopter.core.fitters as fts\n",
    "import flopter.core.fitdata as fd\n",
    "import flopter.core.lputils as lpu\n",
    "import flopter.core.constants as c"
   ]
  },
  {
   "cell_type": "code",
   "execution_count": 3,
   "metadata": {},
   "outputs": [
    {
     "data": {
      "text/plain": [
       "<module 'flopter.core.lputils' from '/home/jleland/coding/projects/flopter/flopter/core/lputils.py'>"
      ]
     },
     "execution_count": 3,
     "metadata": {},
     "output_type": "execute_result"
    }
   ],
   "source": [
    "importlib.reload(spl)\n",
    "importlib.reload(td)\n",
    "# importlib.reload(hmg)\n",
    "importlib.reload(fd)\n",
    "importlib.reload(lpu)"
   ]
  },
  {
   "cell_type": "markdown",
   "metadata": {},
   "source": [
    "## Paths and Matfile IO\n",
    "This section deals with file io and selecting the right .mat files. This needs to be run for the latter sections to work."
   ]
  },
  {
   "cell_type": "code",
   "execution_count": 2,
   "metadata": {
    "pycharm": {
     "is_executing": false
    }
   },
   "outputs": [],
   "source": [
    "spice_dir = pth.Path('/home/jleland/data/external/spice/')\n",
    "os.chdir(spice_dir)"
   ]
  },
  {
   "cell_type": "code",
   "execution_count": 3,
   "metadata": {
    "pycharm": {
     "is_executing": false
    }
   },
   "outputs": [
    {
     "name": "stdout",
     "output_type": "stream",
     "text": [
      "0.17453292519943295\n"
     ]
    }
   ],
   "source": [
    "lps = lpu.MagnumProbes()\n",
    "\n",
    "flush_probe = copy.deepcopy(lps.probe_l)\n",
    "flush_probe.theta_p = 0.0\n",
    "flush_probe.d_perp = 0.0\n",
    "\n",
    "angled_probe = copy.deepcopy(lps.probe_l)\n",
    "angled_probe.d_perp = 0.0\n",
    "print(angled_probe.theta_p)"
   ]
  },
  {
   "cell_type": "code",
   "execution_count": 4,
   "metadata": {},
   "outputs": [],
   "source": [
    "skippable_scans = {\n",
    "    'marconi/lowdens_anglescan/inpartest_as',\n",
    "    'marconi/lowdens_anglescan/angled_tiltscan_ext',\n",
    "    'marconi/restart_test/sprobe_9hr_multirestart',\n",
    "    'marconi/restart_test/sprobe_1hr',\n",
    "    'marconi/restart_test/sprobe_1hr.1',\n",
    "    'marconi/restart_test/sprobe_1hr_atrestart',\n",
    "    'marconi/restart_test/sprobe_4hr_multirestart_r',\n",
    "    'marconi/restart_test/sprobe_4hr_multirestart_2r',\n",
    "    'marconi/restart_test/sprobe_4hr_multirestart_c',\n",
    "    'marconi/restart_test/sprobe_4hr_multirestart_2c',\n",
    "    'marconi/restart_test/sprobe_10hr_multirestart_r',\n",
    "    'marconi/restart_test/sprobe_10hr_multirestart_2r',\n",
    "    'marconi/restart_test/sprobe_control_mkomm',\n",
    "    'marconi/restart_test/sprobe_control_2.13_hdf5',\n",
    "    'marconi/restart_test/sprobe_20hr_multirestart_2.13_4c',\n",
    "    'marconi/restart_test/sprobe_20hr_multirestart_2.13_hdf5_4c',\n",
    "    'marconi/restart_test/sprobe_control',\n",
    "    'marconi/restart_test/sprobe_control_recomp',\n",
    "    'marconi/restart_test/sprobe_4hr_multirestart_c',\n",
    "    'marconi/restart_test/sprobe_4hr_multirestart_2c',\n",
    "    'marconi/restart_test/sprobe_20hr_multirestart_mkomm_4c',\n",
    "    'marconi/restart_test/sprobe_control_mkomm_rel',\n",
    "    'marconi/restart_test/sprobe_20hr_multirestart_4c',\n",
    "    'marconi/restart_test/sprobe_20hr_multirestart_4c.1',\n",
    "    'marconi/restart_test/sprobe_20hr_multirestart_4c.2',\n",
    "    'marconi/restart_test/sprobe_20hr_multirestart_4r',\n",
    "    'marconi/restart_test/sprobe_20hr_multirestart_recomp_4c',\n",
    "    'marconi/restart_test/sprobe_control_2.13',\n",
    "    'marconi/restart_test/sprobe_control_2-13-1_hdf5_',\n",
    "    'marconi/restart_test/sprobe_20hr_multirestart_2-13-1_hdf5_4c',\n",
    "}\n",
    "single_sims = {\n",
    "    'marconi/restart_test/sprobe_control_2.13_',\n",
    "    'marconi/restart_test/sprobe_20hr_multirestart_2-13-1_4c',\n",
    "    'marconi/restart_test/sprobe_control_2-13-1_',\n",
    "    'marconi/restart_test/sprobe_20hr_multirestart_2.14_4c',\n",
    "    'marconi/restart_test/sprobe_1hr_2.14'\n",
    "}"
   ]
  },
  {
   "cell_type": "code",
   "execution_count": 5,
   "metadata": {
    "pycharm": {
     "is_executing": false
    }
   },
   "outputs": [
    {
     "name": "stdout",
     "output_type": "stream",
     "text": [
      "Single sim marconi/restart_test/sprobe_1hr_2.14 found\n",
      "marconi/restart_test/sprobe_1hr_2.14: ['marconi/restart_test/sprobe_1hr_2.14']\n",
      "\n",
      "Single sim marconi/restart_test/sprobe_control_2-13-1_ found\n",
      "marconi/restart_test/sprobe_control_2-13-1_: ['marconi/restart_test/sprobe_control_2-13-1_']\n",
      "\n",
      "Single sim marconi/restart_test/sprobe_20hr_multirestart_2-13-1_4c found\n",
      "marconi/restart_test/sprobe_20hr_multirestart_2-13-1_4c: ['marconi/restart_test/sprobe_20hr_multirestart_2-13-1_4c']\n",
      "\n",
      "Single sim marconi/restart_test/sprobe_20hr_multirestart_2.14_4c found\n",
      "marconi/restart_test/sprobe_20hr_multirestart_2.14_4c: ['marconi/restart_test/sprobe_20hr_multirestart_2.14_4c']\n",
      "\n",
      "Single sim marconi/restart_test/sprobe_control_2.13_ found\n",
      "marconi/restart_test/sprobe_control_2.13_: ['marconi/restart_test/sprobe_control_2.13_']\n",
      "\n"
     ]
    }
   ],
   "source": [
    "scans_searchstr = '*/restart_test/*'\n",
    "# angles_search_str = '/*[!.{yml, inp}]/backup*'\n",
    "angles_search_str = '/*[!.{yml, inp}]'\n",
    "\n",
    "non_standard_variables = {'ProbePot', 'npartproc', 'Nz', 'Nzmax', 'Ny', 'count', 'Npc', 'snumber', 'nproc'}\n",
    "\n",
    "desired_variables = td.DEFAULT_REDUCED_DATASET | non_standard_variables\n",
    "\n",
    "all_run_dirs = {}\n",
    "scans = glob.glob(scans_searchstr)\n",
    "scans = set(scans) - skippable_scans\n",
    "for scan in scans:\n",
    "    if scan in single_sims:\n",
    "        print(f'Single sim {scan} found')\n",
    "        all_run_dirs[scan] = [scan]\n",
    "    else:\n",
    "        all_run_dirs[scan] = glob.glob(scan + angles_search_str)\n",
    "    \n",
    "    print(f'{scan}: {all_run_dirs[scan]}\\n')\n"
   ]
  },
  {
   "cell_type": "code",
   "execution_count": 6,
   "metadata": {},
   "outputs": [],
   "source": [
    "skippable = {}\n",
    "scans = list(scans)\n",
    "scans.sort()"
   ]
  },
  {
   "cell_type": "markdown",
   "metadata": {},
   "source": [
    "## Functions for quick analysis of multiple problematic splopters"
   ]
  },
  {
   "cell_type": "code",
   "execution_count": 9,
   "metadata": {},
   "outputs": [],
   "source": [
    "def plot_raw_data_splopter(path_to_splopter, axes=None, homogenise_fl=False):\n",
    "    label = str(path_to_splopter).split('/')[-1]\n",
    "    print(label)\n",
    "    \n",
    "    splopter = spl.Splopter(path_to_splopter, reduce=desired_variables)\n",
    "    splopter.prepare(denormaliser_fl=False, homogenise_fl=homogenise_fl, find_se_temp_fl=False)\n",
    "\n",
    "    # Extract relevant arrays from the matlab file\n",
    "    probe_indices = splopter.parser.get_probe_obj_indices()\n",
    "    probe_current_e = 0.0\n",
    "    probe_current_i = 0.0\n",
    "\n",
    "    time = np.squeeze(splopter.tdata.t)[:-1]\n",
    "    for index in probe_indices:\n",
    "        probe_current_e += np.squeeze(splopter.tdata.objectscurrente)[index]\n",
    "        probe_current_i += np.squeeze(splopter.tdata.objectscurrenti)[index]\n",
    "    probe_bias = np.squeeze(splopter.tdata.diagnostics['ProbePot'])\n",
    "    probe_current_tot = probe_current_i + probe_current_e\n",
    "    \n",
    "    print(splopter.tdata.diagnostics)\n",
    "    \n",
    "    if axes is None:\n",
    "        fig, axes = plt.subplots(2)\n",
    "    \n",
    "    axes[0].set_title(label)\n",
    "    axes[0].plot(probe_bias, label=label)\n",
    "#     axes[0].plot(universal_probe_bias)\n",
    "    axes[0].legend()\n",
    "    axes[1].plot(probe_current_tot, label=label)\n",
    "#     axes[1].plot(time, probe_current_i)\n",
    "#     axes[1].plot(time, probe_current_e)\n",
    "    axes[1].legend()\n",
    "    \n",
    "    return splopter\n",
    "   "
   ]
  },
  {
   "cell_type": "code",
   "execution_count": 10,
   "metadata": {},
   "outputs": [],
   "source": [
    "def plot_concatted_current(splopters, trim_concat=False, ax=None):\n",
    "    label = str(splopters[0].data_dir).split('/')[-2].split('.')[0]\n",
    "    if label[-1] == 'c':\n",
    "        trim_concat = True\n",
    "    concatted_time = np.array([])\n",
    "    concatted_current = np.array([])\n",
    "    if trim_concat:\n",
    "        lengths = []\n",
    "        \n",
    "    if ax is None:\n",
    "        fig, ax = plt.subplots()\n",
    "    \n",
    "    for s in splopters:\n",
    "        # Extract relevant arrays from the matlab file\n",
    "        probe_indices = s.parser.get_probe_obj_indices()\n",
    "        probe_current_e = 0.0\n",
    "        probe_current_i = 0.0\n",
    "\n",
    "        time = np.squeeze(s.tdata.t)[:-1]\n",
    "        if len(concatted_time) > 0:\n",
    "            offset = concatted_time[-1]\n",
    "        else:\n",
    "            offset = 0\n",
    "        \n",
    "        for index in probe_indices:\n",
    "            probe_current_e += np.squeeze(s.tdata.objectscurrente)[index]\n",
    "            probe_current_i += np.squeeze(s.tdata.objectscurrenti)[index]\n",
    "        probe_bias = np.squeeze(s.tdata.diagnostics['ProbePot'])\n",
    "        probe_current_tot = probe_current_i + probe_current_e\n",
    "        \n",
    "        if trim_concat:\n",
    "            indices_oi = np.where((probe_current_tot != 0.0) & (probe_current_tot <= 100.0) & (probe_current_tot >= -500.0))\n",
    "            \n",
    "            concatted_current = np.concatenate([concatted_current, probe_current_tot[indices_oi]])\n",
    "            concatted_time = np.concatenate([concatted_time, offset + np.arange(len(time[indices_oi]))])\n",
    "            \n",
    "            ax.axvline(x=offset, **c.AX_LINE_DEFAULTS)\n",
    "            lengths.append(offset)\n",
    "        else:\n",
    "            print(f'time: {len(time)}, current: {len(probe_current_tot)}')\n",
    "            concatted_current = np.concatenate([concatted_current, probe_current_tot])\n",
    "            concatted_time = np.concatenate([concatted_time, offset + time])\n",
    "    \n",
    "    if trim_concat:\n",
    "        ax.plot(concatted_time, concatted_current, label=label)\n",
    "        return concatted_time, concatted_current\n",
    "    else:\n",
    "        ax.plot(concatted_time, concatted_current, label=label)\n",
    "        return concatted_time, concatted_current"
   ]
  },
  {
   "cell_type": "code",
   "execution_count": 11,
   "metadata": {},
   "outputs": [],
   "source": [
    "def plot_concatted_bias(splopters, trim_concat=False, ax=None):\n",
    "    label = str(splopters[0].data_dir).split('/')[-2].split('.')[0]\n",
    "    \n",
    "    concatted_time = np.array([])\n",
    "    concatted_voltage = np.array([])\n",
    "    if trim_concat:\n",
    "        lengths = []\n",
    "        \n",
    "    if ax is None:\n",
    "        fig, ax = plt.subplots()\n",
    "    \n",
    "    for s in splopters:\n",
    "        probe_bias = np.squeeze(s.tdata.diagnostics['ProbePot'])\n",
    "#         print(probe_bias.shape)\n",
    "        if trim_concat:\n",
    "            concatvolt_len = len(concatted_voltage)\n",
    "            concatted_voltage = np.concatenate([concatted_voltage, probe_bias[concatvolt_len:]])\n",
    "            ax.axvline(x=concatvolt_len, **c.AX_LINE_DEFAULTS)\n",
    "            lengths.append(concatvolt_len)\n",
    "        elif isinstance(probe_bias, np.ndarray) and len(probe_bias.shape) > 0:\n",
    "            concatted_voltage = np.concatenate([concatted_voltage, probe_bias])\n",
    "    \n",
    "    ax.plot(concatted_voltage, label=label)\n",
    "    return concatted_voltage"
   ]
  },
  {
   "cell_type": "markdown",
   "metadata": {},
   "source": [
    "## Cells for selecting and comparing different combinations of broken splopters\n",
    "The options are wide ranging and, as of 2019-10-21, consist of:\n",
    " - Hard time limits of 1, 2, 4 and no hours\n",
    " - Different simulation restart methods: -c or -r (i.e. full or partial restart)\n",
    " - Manual restart using -c (i.e. editing the slurm file manually and using qsub/sbatch)\n",
    " - Michael Komm's off-repository src/ folder for SPICE"
   ]
  },
  {
   "cell_type": "code",
   "execution_count": 8,
   "metadata": {},
   "outputs": [
    {
     "name": "stdout",
     "output_type": "stream",
     "text": [
      "0 marconi/restart_test/sprobe_1hr_2.14\n",
      "1 marconi/restart_test/sprobe_20hr_multirestart_2-13-1_4c\n",
      "2 marconi/restart_test/sprobe_20hr_multirestart_2.14_4c\n",
      "3 marconi/restart_test/sprobe_control_2-13-1_\n",
      "4 marconi/restart_test/sprobe_control_2.13_\n"
     ]
    }
   ],
   "source": [
    "for i, scan in enumerate(scans):\n",
    "    print(i, scan)"
   ]
  },
  {
   "cell_type": "code",
   "execution_count": 9,
   "metadata": {},
   "outputs": [
    {
     "name": "stdout",
     "output_type": "stream",
     "text": [
      "{'objectsenum', 'count', 'm', 'Nzmax', 'Nz', 'dz', 'dt', 'alphayz', 'q', 'objectspowerfluxi', 'Ny', 't', 'snumber', 'objectscurrente', 'Potvac', 'alphaxz', 'nproc', 'Npc', 'Pot', 'npartproc', 'ProbePot', 'Temp', 'objectspowerfluxe', 'objectscurrenti'}\n"
     ]
    }
   ],
   "source": [
    "print(desired_variables)"
   ]
  },
  {
   "cell_type": "code",
   "execution_count": 10,
   "metadata": {},
   "outputs": [
    {
     "name": "stdout",
     "output_type": "stream",
     "text": [
      "/home/jleland/data/external/spice/marconi/restart_test/sprobe_20hr_multirestart_2-13-1_4c\n",
      "WARNING: Encountered t-zeroing in /home/jleland/data/external/spice/marconi/restart_test/sprobe_20hr_multirestart_2-13-1_4c/t-sprobe_20hr_multirestart_2-13-1_4c.mat\n",
      "Looking for a suitable backup to use instead.\n",
      "Useable backup found at /home/jleland/data/external/spice/marconi/restart_test/sprobe_20hr_multirestart_2-13-1_4c/backup_20191105-2109/t-sprobe_20hr_multirestart_2-13-1_4c.mat\n",
      "No a-file given, continuing without\n",
      "Loading backup backup_20191105-2109 (1 of 5) for current and bias concatenation\n",
      "Loading backup backup_20191106-0119 (2 of 5) for current and bias concatenation\n",
      "Stripping head for backup 2 of 5\n",
      "Loading backup backup_20191106-0159 (3 of 5) for current and bias concatenation\n",
      "Detected finish, stripping tail for backup 3 of 5\n",
      "Stripping head for backup 3 of 5\n",
      "Found an odd number of spike transitions\n"
     ]
    },
    {
     "name": "stderr",
     "output_type": "stream",
     "text": [
      "/home/jleland/coding/environments/python3.6/lib/python3.6/site-packages/numpy/core/_methods.py:217: RuntimeWarning: Degrees of freedom <= 0 for slice\n",
      "  keepdims=keepdims)\n",
      "/home/jleland/coding/environments/python3.6/lib/python3.6/site-packages/numpy/core/_methods.py:186: RuntimeWarning: invalid value encountered in true_divide\n",
      "  arrmean, rcount, out=arrmean, casting='unsafe', subok=False)\n",
      "/home/jleland/coding/environments/python3.6/lib/python3.6/site-packages/numpy/core/_methods.py:209: RuntimeWarning: invalid value encountered in double_scalars\n",
      "  ret = ret.dtype.type(ret / rcount)\n"
     ]
    }
   ],
   "source": [
    "chosen_spl_path = spice_dir / all_run_dirs[scans[1]][0]\n",
    "print(chosen_spl_path)\n",
    "\n",
    "splopter = spl.Splopter(chosen_spl_path, reduce=desired_variables)\n",
    "splopter.prepare(denormaliser_fl=False, homogenise_fl=True, find_se_temp_fl=False)"
   ]
  },
  {
   "cell_type": "code",
   "execution_count": 16,
   "metadata": {},
   "outputs": [
    {
     "name": "stdout",
     "output_type": "stream",
     "text": [
      "sprobe_20hr_multirestart_2-13-1_4c\n",
      "WARNING: Encountered t-zeroing in /home/jleland/data/external/spice/marconi/restart_test/sprobe_20hr_multirestart_2-13-1_4c/t-sprobe_20hr_multirestart_2-13-1_4c.mat\n",
      "Looking for a suitable backup to use instead.\n",
      "Useable backup found at /home/jleland/data/external/spice/marconi/restart_test/sprobe_20hr_multirestart_2-13-1_4c/backup_20191105-2109/t-sprobe_20hr_multirestart_2-13-1_4c.mat\n",
      "No a-file given, continuing without\n",
      "{'ProbePot': array([[-9.9],\n",
      "       [-9.9],\n",
      "       [-9.9],\n",
      "       ...,\n",
      "       [-9.9],\n",
      "       [-9.9],\n",
      "       [-9.9]])}\n"
     ]
    },
    {
     "data": {
      "text/plain": [
       "<flopter.spice.splopter.Splopter at 0x7efc611ab5c0>"
      ]
     },
     "execution_count": 16,
     "metadata": {},
     "output_type": "execute_result"
    }
   ],
   "source": [
    "plot_raw_data_splopter(chosen_spl_path)"
   ]
  },
  {
   "cell_type": "code",
   "execution_count": 17,
   "metadata": {},
   "outputs": [
    {
     "name": "stdout",
     "output_type": "stream",
     "text": [
      "0) /home/jleland/data/external/spice/marconi/restart_test/sprobe_20hr_multirestart_2-13-1_4c/backup_20191105-2109\n",
      "No a-file given, continuing without\n",
      "1) /home/jleland/data/external/spice/marconi/restart_test/sprobe_20hr_multirestart_2-13-1_4c/backup_20191106-0119\n",
      "No a-file given, continuing without\n",
      "2) /home/jleland/data/external/spice/marconi/restart_test/sprobe_20hr_multirestart_2-13-1_4c/backup_20191106-0159\n",
      "WARNING: Encountered t-zeroing in /home/jleland/data/external/spice/marconi/restart_test/sprobe_20hr_multirestart_2-13-1_4c/backup_20191106-0159/t-sprobe_20hr_multirestart_2-13-1_4c.mat\n",
      "There are no backups to utilise. Carrying on, but expect erroneous results.\n",
      "WARNING: Encountered t-zeroing, creating an approximate t array\n",
      "No a-file given, continuing without\n",
      "3) /home/jleland/data/external/spice/marconi/restart_test/sprobe_20hr_multirestart_2-13-1_4c/backup_20191106-0213\n",
      "WARNING: Encountered t-zeroing in /home/jleland/data/external/spice/marconi/restart_test/sprobe_20hr_multirestart_2-13-1_4c/backup_20191106-0213/t-sprobe_20hr_multirestart_2-13-1_4c.mat\n",
      "There are no backups to utilise. Carrying on, but expect erroneous results.\n",
      "WARNING: Encountered t-zeroing, creating an approximate t array\n",
      "No a-file given, continuing without\n",
      "4) /home/jleland/data/external/spice/marconi/restart_test/sprobe_20hr_multirestart_2-13-1_4c/backup_20191106-0228\n",
      "WARNING: Encountered t-zeroing in /home/jleland/data/external/spice/marconi/restart_test/sprobe_20hr_multirestart_2-13-1_4c/backup_20191106-0228/t-sprobe_20hr_multirestart_2-13-1_4c.mat\n",
      "There are no backups to utilise. Carrying on, but expect erroneous results.\n",
      "WARNING: Encountered t-zeroing, creating an approximate t array\n",
      "No a-file given, continuing without\n"
     ]
    }
   ],
   "source": [
    "backups = list(chosen_spl_path.glob('backup*'))\n",
    "backups.sort()\n",
    "\n",
    "bu_splopters = []\n",
    "for i, bu_folder in enumerate(backups):\n",
    "    print(f'{i}) {str(bu_folder)}')\n",
    "    \n",
    "    splopter = spl.Splopter(bu_folder, reduce=desired_variables)\n",
    "    splopter.prepare(denormaliser_fl=False, homogenise_fl=True, find_se_temp_fl=False)\n",
    "    bu_splopters.append(splopter)\n",
    "    "
   ]
  },
  {
   "cell_type": "code",
   "execution_count": 18,
   "metadata": {},
   "outputs": [
    {
     "name": "stdout",
     "output_type": "stream",
     "text": [
      "(array([0.000e+00, 1.000e+00, 2.000e+00, ..., 1.602e+03, 1.603e+03,\n",
      "       1.604e+03]), array([-1.25034001e-01, -1.25034001e-01, -1.25034001e-01, ...,\n",
      "       -3.08168203e+02, -3.03596808e+02, -2.95385452e+02]))\n"
     ]
    }
   ],
   "source": [
    "print(plot_concatted_current(bu_splopters, trim_concat=True))"
   ]
  },
  {
   "cell_type": "code",
   "execution_count": 19,
   "metadata": {},
   "outputs": [
    {
     "name": "stdout",
     "output_type": "stream",
     "text": [
      "backup_20191105-2109\n",
      "No a-file given, continuing without\n",
      "{'ProbePot': array([[-9.9],\n",
      "       [-9.9],\n",
      "       [-9.9],\n",
      "       ...,\n",
      "       [-9.9],\n",
      "       [-9.9],\n",
      "       [-9.9]])}\n",
      "backup_20191106-0119\n",
      "No a-file given, continuing without\n",
      "{'ProbePot': array([[-9.9 ],\n",
      "       [-9.9 ],\n",
      "       [-9.9 ],\n",
      "       ...,\n",
      "       [ 7.75],\n",
      "       [ 7.75],\n",
      "       [ 7.75]])}\n",
      "backup_20191106-0159\n",
      "WARNING: Encountered t-zeroing in /home/jleland/data/external/spice/marconi/restart_test/sprobe_20hr_multirestart_2-13-1_4c/backup_20191106-0159/t-sprobe_20hr_multirestart_2-13-1_4c.mat\n",
      "There are no backups to utilise. Carrying on, but expect erroneous results.\n",
      "WARNING: Encountered t-zeroing, creating an approximate t array\n",
      "No a-file given, continuing without\n",
      "{'ProbePot': array([[-9.9 ],\n",
      "       [-9.9 ],\n",
      "       [-9.9 ],\n",
      "       ...,\n",
      "       [10.05],\n",
      "       [10.05],\n",
      "       [10.05]])}\n",
      "backup_20191106-0213\n",
      "WARNING: Encountered t-zeroing in /home/jleland/data/external/spice/marconi/restart_test/sprobe_20hr_multirestart_2-13-1_4c/backup_20191106-0213/t-sprobe_20hr_multirestart_2-13-1_4c.mat\n",
      "There are no backups to utilise. Carrying on, but expect erroneous results.\n",
      "WARNING: Encountered t-zeroing, creating an approximate t array\n",
      "No a-file given, continuing without\n",
      "{'ProbePot': array([[-9.9],\n",
      "       [-9.9],\n",
      "       [-9.9],\n",
      "       ...,\n",
      "       [ 0. ],\n",
      "       [ 0. ],\n",
      "       [-9.9]])}\n",
      "backup_20191106-0228\n",
      "WARNING: Encountered t-zeroing in /home/jleland/data/external/spice/marconi/restart_test/sprobe_20hr_multirestart_2-13-1_4c/backup_20191106-0228/t-sprobe_20hr_multirestart_2-13-1_4c.mat\n",
      "There are no backups to utilise. Carrying on, but expect erroneous results.\n",
      "WARNING: Encountered t-zeroing, creating an approximate t array\n",
      "No a-file given, continuing without\n",
      "{'ProbePot': array([[-9.9],\n",
      "       [-9.9],\n",
      "       [-9.9],\n",
      "       ...,\n",
      "       [ 0. ],\n",
      "       [ 0. ],\n",
      "       [-9.9]])}\n"
     ]
    },
    {
     "name": "stderr",
     "output_type": "stream",
     "text": [
      "/home/jleland/.pyenv/versions/3.6.9/lib/python3.6/tkinter/__init__.py:749: UserWarning: Creating legend with loc=\"best\" can be slow with large amounts of data.\n",
      "  func(*args)\n",
      "/home/jleland/.pyenv/versions/3.6.9/lib/python3.6/tkinter/__init__.py:1705: UserWarning: Creating legend with loc=\"best\" can be slow with large amounts of data.\n",
      "  return self.func(*args)\n"
     ]
    }
   ],
   "source": [
    "fig, axes = plt.subplots(2)\n",
    "for bu_folder in backups:\n",
    "#     plot_raw_data_splopter(bu_folder, axes=axes)\n",
    "    plot_raw_data_splopter(bu_folder)\n",
    "# axes[1].set_ylim(-100, 100)"
   ]
  },
  {
   "cell_type": "markdown",
   "metadata": {},
   "source": [
    "## Comparing different hard time limited simulations"
   ]
  },
  {
   "cell_type": "code",
   "execution_count": 28,
   "metadata": {},
   "outputs": [
    {
     "name": "stdout",
     "output_type": "stream",
     "text": [
      "[]\n"
     ]
    }
   ],
   "source": [
    "print([scan for scan in scans if '10hr' in scan])"
   ]
  },
  {
   "cell_type": "code",
   "execution_count": 45,
   "metadata": {
    "collapsed": true,
    "jupyter": {
     "outputs_hidden": true
    }
   },
   "outputs": [
    {
     "name": "stdout",
     "output_type": "stream",
     "text": [
      "sprobe_10hr_multirestart_r\n",
      "No a-file given, continuing without\n",
      "{'ProbePot': array([[-9.9],\n",
      "       [-9.9],\n",
      "       [-9.9],\n",
      "       ...,\n",
      "       [-9.9],\n",
      "       [-9.9],\n",
      "       [-9.9]])}\n",
      "Skipping \"sprobe_4hr_multirestart_r\"...\n",
      "Skipping \"sprobe_4hr_multirestart_2c\"...\n",
      "Skipping \"sprobe_4hr_multirestart_c\"...\n",
      "Skipping \"sprobe_4hr_multirestart_2r\"...\n",
      "sprobe_10hr_multirestart_2r\n",
      "No a-file given, continuing without\n",
      "{'ProbePot': array([[-9.9],\n",
      "       [-9.9],\n",
      "       [-9.9],\n",
      "       ...,\n",
      "       [-9.9],\n",
      "       [-9.9],\n",
      "       [-9.9]])}\n",
      "Skipping \"sprobe_control\"...\n"
     ]
    }
   ],
   "source": [
    "fig, axes = plt.subplots(2)\n",
    "for scan in scans:\n",
    "    label = scan.split('/')[-1]\n",
    "    if '10hr' not in label or 'c' in label:\n",
    "        print(f'Skipping \"{label}\"...')\n",
    "        continue\n",
    "    plot_raw_data_splopter(scan, axes=axes)"
   ]
  },
  {
   "cell_type": "code",
   "execution_count": 57,
   "metadata": {},
   "outputs": [
    {
     "name": "stdout",
     "output_type": "stream",
     "text": [
      "No a-file given, continuing without\n",
      "No a-file given, continuing without\n",
      "WARNING: Encountered t-zeroing in marconi/restart_test/sprobe_20hr_multirestart_4c/backup_20191022-0553/t-sprobe_20hr_multirestart_4c.mat\n",
      "There are no backups to utilise. Carrying on, but expect erroneous results.\n",
      "WARNING: Encountered t-zeroing\n",
      "No a-file given, continuing without\n",
      "WARNING: Encountered t-zeroing in marconi/restart_test/sprobe_20hr_multirestart_4c/backup_20191022-0608/t-sprobe_20hr_multirestart_4c.mat\n",
      "There are no backups to utilise. Carrying on, but expect erroneous results.\n",
      "WARNING: Encountered t-zeroing\n",
      "No a-file given, continuing without\n",
      "WARNING: Encountered t-zeroing in marconi/restart_test/sprobe_20hr_multirestart_4c/backup_20191022-0622/t-sprobe_20hr_multirestart_4c.mat\n",
      "There are no backups to utilise. Carrying on, but expect erroneous results.\n",
      "WARNING: Encountered t-zeroing\n",
      "No a-file given, continuing without\n"
     ]
    }
   ],
   "source": [
    "bu_splopters = {}\n",
    "\n",
    "for bu_folder in backups:\n",
    "    splopter = spl.Splopter(bu_folder, reduce=desired_variables)\n",
    "    splopter.prepare(denormaliser_fl=False, homogenise_fl=True, find_se_temp_fl=False)\n",
    "    \n",
    "    bu_splopters[bu_folder] = splopter"
   ]
  },
  {
   "cell_type": "code",
   "execution_count": 68,
   "metadata": {},
   "outputs": [
    {
     "name": "stdout",
     "output_type": "stream",
     "text": [
      "/home/jleland/Data/external/spice/marconi/restart_test/sprobe_9hr_multirestart/backup_20191018-0032\n",
      "/home/jleland/Data/external/spice/marconi/restart_test/sprobe_9hr_multirestart/backup_20191018-0133\n",
      "/home/jleland/Data/external/spice/marconi/restart_test/sprobe_9hr_multirestart/backup_20191018-0233\n",
      "/home/jleland/Data/external/spice/marconi/restart_test/sprobe_9hr_multirestart/backup_20191018-0334\n",
      "/home/jleland/Data/external/spice/marconi/restart_test/sprobe_9hr_multirestart/backup_20191018-0434\n",
      "/home/jleland/Data/external/spice/marconi/restart_test/sprobe_9hr_multirestart/backup_20191018-0535\n",
      "/home/jleland/Data/external/spice/marconi/restart_test/sprobe_9hr_multirestart/backup_20191018-0635\n",
      "/home/jleland/Data/external/spice/marconi/restart_test/sprobe_9hr_multirestart/backup_20191018-0736\n",
      "/home/jleland/Data/external/spice/marconi/restart_test/sprobe_9hr_multirestart/backup_20191018-0838\n"
     ]
    }
   ],
   "source": [
    "for bu_s in bu_splopters.values():\n",
    "    print(bu_s.data_dir)"
   ]
  },
  {
   "cell_type": "code",
   "execution_count": 72,
   "metadata": {},
   "outputs": [
    {
     "name": "stdout",
     "output_type": "stream",
     "text": [
      "[0, 1296, 1296, 1769, 1769, 1769, 1769, 1800, 1800]\n"
     ]
    }
   ],
   "source": [
    "print(plot_concatted_current(bu_splopters.values()))"
   ]
  },
  {
   "cell_type": "markdown",
   "metadata": {},
   "source": [
    "## Looking at -r restart sims"
   ]
  },
  {
   "cell_type": "code",
   "execution_count": 78,
   "metadata": {},
   "outputs": [
    {
     "name": "stdout",
     "output_type": "stream",
     "text": [
      "0 marconi/restart_test/sprobe_20hr_multirestart_4c\n",
      "1 marconi/restart_test/sprobe_20hr_multirestart_4c.1\n",
      "2 marconi/restart_test/sprobe_20hr_multirestart_4c.2\n",
      "3 marconi/restart_test/sprobe_20hr_multirestart_4r\n",
      "4 marconi/restart_test/sprobe_20hr_multirestart_mkomm_4c\n",
      "5 marconi/restart_test/sprobe_20hr_multirestart_recomp_4c\n",
      "6 marconi/restart_test/sprobe_control\n",
      "7 marconi/restart_test/sprobe_control_mkomm_rel\n",
      "8 marconi/restart_test/sprobe_control_recomp\n"
     ]
    }
   ],
   "source": [
    "scans = list(scans)\n",
    "scans.sort()\n",
    "for i, scan in enumerate(scans):\n",
    "    print(i, scan)"
   ]
  },
  {
   "cell_type": "code",
   "execution_count": 20,
   "metadata": {},
   "outputs": [
    {
     "name": "stdout",
     "output_type": "stream",
     "text": [
      "['marconi/restart_test/sprobe_control', 'marconi/restart_test/sprobe_20hr_multirestart_4c.1', 'marconi/restart_test/sprobe_20hr_multirestart_4c']\n"
     ]
    }
   ],
   "source": [
    "# scans_comparison = [scans[6], scans[4], scans[3],]\n",
    "scans_comparison = [scans[1], scans[0], scans[4],]\n",
    "# scans_comparison = [scan for scan in scans if 'control' in scan]\n",
    "# scans_comparison = [scan for scan in scans if '20hr' in scan]\n",
    "# scans_comparison = [scan for scan in scans if scan[-1] == 'c' or ('control' in scan and 'mkomm' not in scan)]\n",
    "scans_comparison.sort(reverse=True)\n",
    "print(scans_comparison)"
   ]
  },
  {
   "cell_type": "code",
   "execution_count": 21,
   "metadata": {},
   "outputs": [
    {
     "name": "stdout",
     "output_type": "stream",
     "text": [
      "sprobe_control\n",
      "{'ProbePot': array([[-9.9 ],\n",
      "       [-9.9 ],\n",
      "       [-9.9 ],\n",
      "       ...,\n",
      "       [10.05],\n",
      "       [10.05],\n",
      "       [10.05]])}\n",
      "sprobe_20hr_multirestart_4c.1\n",
      "WARNING: Encountered t-zeroing in marconi/restart_test/sprobe_20hr_multirestart_4c.1/t-sprobe_20hr_multirestart_4c.1.mat\n",
      "Looking for a suitable backup to use instead.\n",
      "Useable backup found at marconi/restart_test/sprobe_20hr_multirestart_4c.1/backup_20191023-0357/t-sprobe_20hr_multirestart_4c.1.mat\n",
      "{'ProbePot': array([[-9.9],\n",
      "       [-9.9],\n",
      "       [-9.9],\n",
      "       ...,\n",
      "       [-9.9],\n",
      "       [-9.9],\n",
      "       [-9.9]])}\n",
      "sprobe_20hr_multirestart_4c\n",
      "WARNING: Encountered t-zeroing in marconi/restart_test/sprobe_20hr_multirestart_4c/t-sprobe_20hr_multirestart_4c.mat\n",
      "Looking for a suitable backup to use instead.\n",
      "Useable backup found at marconi/restart_test/sprobe_20hr_multirestart_4c/backup_20191022-0054/t-sprobe_20hr_multirestart_4c.mat\n",
      "No a-file given, continuing without\n",
      "{'ProbePot': array([[-9.9],\n",
      "       [-9.9],\n",
      "       [-9.9],\n",
      "       ...,\n",
      "       [-9.9],\n",
      "       [-9.9],\n",
      "       [-9.9]])}\n"
     ]
    }
   ],
   "source": [
    "fig, axes = plt.subplots(2)\n",
    "# axes_twinned = [axes, [ax.twinx() for ax in axes]]\n",
    "\n",
    "for i, scan in enumerate(scans_comparison):\n",
    "    plot_raw_data_splopter(scan, axes=axes)"
   ]
  },
  {
   "cell_type": "code",
   "execution_count": 22,
   "metadata": {},
   "outputs": [
    {
     "name": "stdout",
     "output_type": "stream",
     "text": [
      "0) marconi/restart_test/sprobe_control/backup_20191018-0758\n",
      "time: 1110, current: 1110\n",
      "0) marconi/restart_test/sprobe_20hr_multirestart_4c.1/backup_20191023-0357\n",
      "No a-file given, continuing without\n",
      "1) marconi/restart_test/sprobe_20hr_multirestart_4c.1/backup_20191023-0808\n",
      "2) marconi/restart_test/sprobe_20hr_multirestart_4c.1/backup_20191023-0856\n",
      "WARNING: Encountered t-zeroing in marconi/restart_test/sprobe_20hr_multirestart_4c.1/backup_20191023-0856/t-sprobe_20hr_multirestart_4c.1.mat\n",
      "There are no backups to utilise. Carrying on, but expect erroneous results.\n",
      "WARNING: Encountered t-zeroing\n",
      "3) marconi/restart_test/sprobe_20hr_multirestart_4c.1/backup_20191023-0910\n",
      "WARNING: Encountered t-zeroing in marconi/restart_test/sprobe_20hr_multirestart_4c.1/backup_20191023-0910/t-sprobe_20hr_multirestart_4c.1.mat\n",
      "There are no backups to utilise. Carrying on, but expect erroneous results.\n",
      "WARNING: Encountered t-zeroing\n",
      "4) marconi/restart_test/sprobe_20hr_multirestart_4c.1/backup_20191023-0925\n",
      "WARNING: Encountered t-zeroing in marconi/restart_test/sprobe_20hr_multirestart_4c.1/backup_20191023-0925/t-sprobe_20hr_multirestart_4c.1.mat\n",
      "There are no backups to utilise. Carrying on, but expect erroneous results.\n",
      "WARNING: Encountered t-zeroing\n",
      "time: 1169, current: 1169\n",
      "time: 1053, current: 1053\n",
      "time: 1110, current: 1110\n",
      "time: 1110, current: 1110\n",
      "time: 1110, current: 1110\n",
      "0) marconi/restart_test/sprobe_20hr_multirestart_4c/backup_20191022-0054\n",
      "No a-file given, continuing without\n",
      "1) marconi/restart_test/sprobe_20hr_multirestart_4c/backup_20191022-0505\n",
      "No a-file given, continuing without\n",
      "2) marconi/restart_test/sprobe_20hr_multirestart_4c/backup_20191022-0553\n",
      "WARNING: Encountered t-zeroing in marconi/restart_test/sprobe_20hr_multirestart_4c/backup_20191022-0553/t-sprobe_20hr_multirestart_4c.mat\n",
      "There are no backups to utilise. Carrying on, but expect erroneous results.\n",
      "WARNING: Encountered t-zeroing\n",
      "No a-file given, continuing without\n",
      "3) marconi/restart_test/sprobe_20hr_multirestart_4c/backup_20191022-0608\n",
      "WARNING: Encountered t-zeroing in marconi/restart_test/sprobe_20hr_multirestart_4c/backup_20191022-0608/t-sprobe_20hr_multirestart_4c.mat\n",
      "There are no backups to utilise. Carrying on, but expect erroneous results.\n",
      "WARNING: Encountered t-zeroing\n",
      "No a-file given, continuing without\n",
      "4) marconi/restart_test/sprobe_20hr_multirestart_4c/backup_20191022-0622\n",
      "WARNING: Encountered t-zeroing in marconi/restart_test/sprobe_20hr_multirestart_4c/backup_20191022-0622/t-sprobe_20hr_multirestart_4c.mat\n",
      "There are no backups to utilise. Carrying on, but expect erroneous results.\n",
      "WARNING: Encountered t-zeroing\n",
      "No a-file given, continuing without\n"
     ]
    }
   ],
   "source": [
    "fig, axes_whole = plt.subplots(3, 2)\n",
    "\n",
    "for i, scan in enumerate(scans_comparison):\n",
    "    axes = axes_whole[i]\n",
    "    \n",
    "    backups = list(pth.Path(scan).glob('backup*'))\n",
    "    backups.sort()\n",
    "    \n",
    "    bu_splopters = []\n",
    "    for j, bu_folder in enumerate(backups):\n",
    "        print(f'{j}) {str(bu_folder)}')\n",
    "\n",
    "        splopter = spl.Splopter(bu_folder, reduce=desired_variables)\n",
    "        splopter.prepare(denormaliser_fl=False, homogenise_fl=True, find_se_temp_fl=False)\n",
    "        bu_splopters.append(splopter)\n",
    "    \n",
    "    plot_concatted_current(bu_splopters, ax=axes[0])\n",
    "    plot_concatted_bias(bu_splopters, ax=axes[1])\n",
    "    axes[0].set_title(scan.split('/')[-1])\n",
    "    axes[0].legend()\n",
    "    axes[1].legend()\n",
    "    "
   ]
  },
  {
   "cell_type": "markdown",
   "metadata": {},
   "source": [
    "## Look into difference between different compilers\n",
    "Two different versions of intelmpi were used for exactly the same input. Input was:\n",
    " - S-probe\n",
    " - 10$^\\circ$ incidence angle\n",
    " - 4 hour hard time limit\n",
    " - Run on Marconi\n",
    " - Hard restart mode (-c)\n",
    " - spice2-legacy repository (unaltered) \n",
    "\n",
    "The only difference was the version of intelmpi used for compilation and exexution (mpirun) used in each case:\n",
    " - Compiled with 2018, run with 2018 - sprobe_20hr_multirestart_recomp_4c\n",
    " - Compiled with 2017, run with 2018 - sprobe_20hr_multirestart_4c.2\n",
    " - Compiled with 2018, run with 2017 - N/A\n",
    " - Compiled with 2017, run with 2017 - sprobe_20hr_multirestart_4c & sprobe_20hr_multirestart_4c.1 \n",
    " \n",
    " \n",
    "An intermediate combination of \"Compiled with 2017, run with 2018\" will be attempted. The converse (comp /w 2018, run /w 2017) is not possible. "
   ]
  },
  {
   "cell_type": "code",
   "execution_count": 17,
   "metadata": {},
   "outputs": [
    {
     "name": "stdout",
     "output_type": "stream",
     "text": [
      "0 marconi/restart_test/sprobe_control_2.13_\n",
      "1 marconi/restart_test/sprobe_control_2-13-1_\n",
      "2 marconi/restart_test/sprobe_20hr_multirestart_2-13-1_4c\n"
     ]
    }
   ],
   "source": [
    "scan = list(scans)\n",
    "for i, scan in enumerate(scans):\n",
    "    print(i, scan)"
   ]
  },
  {
   "cell_type": "code",
   "execution_count": 20,
   "metadata": {},
   "outputs": [],
   "source": [
    "# scans_comparison = [scans[0], scans[2], scans[5]]\n",
    "scans_comparison = [scans[0], scans[1], scans[2]]"
   ]
  },
  {
   "cell_type": "code",
   "execution_count": 21,
   "metadata": {},
   "outputs": [
    {
     "name": "stdout",
     "output_type": "stream",
     "text": [
      "marconi/restart_test/sprobe_control_2.13_\n",
      "sprobe_control_2.13_\n",
      "Spice data directory is not valid, attempting to auto-fix.\n",
      "/home/jleland/Spice/spice2/marconi/restart_test/sprobe_control_2.13_ is not a directory\n"
     ]
    },
    {
     "ename": "ValueError",
     "evalue": "Passed Spice directory (marconi/restart_test/sprobe_control_2.13_) is not valid.",
     "output_type": "error",
     "traceback": [
      "\u001b[0;31m---------------------------------------------------------------------------\u001b[0m",
      "\u001b[0;31mValueError\u001b[0m                                Traceback (most recent call last)",
      "\u001b[0;32m<ipython-input-21-f2a75445e672>\u001b[0m in \u001b[0;36m<module>\u001b[0;34m\u001b[0m\n\u001b[1;32m      9\u001b[0m \u001b[0;32mfor\u001b[0m \u001b[0mi\u001b[0m\u001b[0;34m,\u001b[0m \u001b[0mscan\u001b[0m \u001b[0;32min\u001b[0m \u001b[0menumerate\u001b[0m\u001b[0;34m(\u001b[0m\u001b[0mscans_comparison\u001b[0m\u001b[0;34m)\u001b[0m\u001b[0;34m:\u001b[0m\u001b[0;34m\u001b[0m\u001b[0;34m\u001b[0m\u001b[0m\n\u001b[1;32m     10\u001b[0m     \u001b[0mprint\u001b[0m\u001b[0;34m(\u001b[0m\u001b[0mscan\u001b[0m\u001b[0;34m)\u001b[0m\u001b[0;34m\u001b[0m\u001b[0;34m\u001b[0m\u001b[0m\n\u001b[0;32m---> 11\u001b[0;31m     \u001b[0ms\u001b[0m \u001b[0;34m=\u001b[0m \u001b[0mplot_raw_data_splopter\u001b[0m\u001b[0;34m(\u001b[0m\u001b[0mscan\u001b[0m\u001b[0;34m,\u001b[0m \u001b[0maxes\u001b[0m\u001b[0;34m=\u001b[0m\u001b[0maxes\u001b[0m\u001b[0;34m)\u001b[0m\u001b[0;34m\u001b[0m\u001b[0;34m\u001b[0m\u001b[0m\n\u001b[0m\u001b[1;32m     12\u001b[0m     \u001b[0msplopters\u001b[0m\u001b[0;34m.\u001b[0m\u001b[0mappend\u001b[0m\u001b[0;34m(\u001b[0m\u001b[0ms\u001b[0m\u001b[0;34m)\u001b[0m\u001b[0;34m\u001b[0m\u001b[0;34m\u001b[0m\u001b[0m\n\u001b[1;32m     13\u001b[0m \u001b[0;34m\u001b[0m\u001b[0m\n",
      "\u001b[0;32m<ipython-input-8-c04fc55caf0c>\u001b[0m in \u001b[0;36mplot_raw_data_splopter\u001b[0;34m(path_to_splopter, axes)\u001b[0m\n\u001b[1;32m      3\u001b[0m     \u001b[0mprint\u001b[0m\u001b[0;34m(\u001b[0m\u001b[0mlabel\u001b[0m\u001b[0;34m)\u001b[0m\u001b[0;34m\u001b[0m\u001b[0;34m\u001b[0m\u001b[0m\n\u001b[1;32m      4\u001b[0m \u001b[0;34m\u001b[0m\u001b[0m\n\u001b[0;32m----> 5\u001b[0;31m     \u001b[0msplopter\u001b[0m \u001b[0;34m=\u001b[0m \u001b[0mspl\u001b[0m\u001b[0;34m.\u001b[0m\u001b[0mSplopter\u001b[0m\u001b[0;34m(\u001b[0m\u001b[0mpath_to_splopter\u001b[0m\u001b[0;34m,\u001b[0m \u001b[0mreduce\u001b[0m\u001b[0;34m=\u001b[0m\u001b[0mdesired_variables\u001b[0m\u001b[0;34m)\u001b[0m\u001b[0;34m\u001b[0m\u001b[0;34m\u001b[0m\u001b[0m\n\u001b[0m\u001b[1;32m      6\u001b[0m     \u001b[0msplopter\u001b[0m\u001b[0;34m.\u001b[0m\u001b[0mprepare\u001b[0m\u001b[0;34m(\u001b[0m\u001b[0mdenormaliser_fl\u001b[0m\u001b[0;34m=\u001b[0m\u001b[0;32mFalse\u001b[0m\u001b[0;34m,\u001b[0m \u001b[0mhomogenise_fl\u001b[0m\u001b[0;34m=\u001b[0m\u001b[0;32mTrue\u001b[0m\u001b[0;34m,\u001b[0m \u001b[0mfind_se_temp_fl\u001b[0m\u001b[0;34m=\u001b[0m\u001b[0;32mFalse\u001b[0m\u001b[0;34m)\u001b[0m\u001b[0;34m\u001b[0m\u001b[0;34m\u001b[0m\u001b[0m\n\u001b[1;32m      7\u001b[0m \u001b[0;34m\u001b[0m\u001b[0m\n",
      "\u001b[0;32m~/coding/projects/flopter/flopter/spice/splopter.py\u001b[0m in \u001b[0;36m__init__\u001b[0;34m(self, spice_data_dir, run_name, reduce)\u001b[0m\n\u001b[1;32m     38\u001b[0m             \u001b[0mself\u001b[0m\u001b[0;34m.\u001b[0m\u001b[0mdata_dir\u001b[0m \u001b[0;34m=\u001b[0m \u001b[0mself\u001b[0m\u001b[0;34m.\u001b[0m\u001b[0mDEFAULT_SPICE_REPO\u001b[0m \u001b[0;34m/\u001b[0m \u001b[0mself\u001b[0m\u001b[0;34m.\u001b[0m\u001b[0mdata_dir\u001b[0m\u001b[0;34m\u001b[0m\u001b[0;34m\u001b[0m\u001b[0m\n\u001b[1;32m     39\u001b[0m             \u001b[0;32mif\u001b[0m \u001b[0;32mnot\u001b[0m \u001b[0mself\u001b[0m\u001b[0;34m.\u001b[0m\u001b[0mis_code_output_dir\u001b[0m\u001b[0;34m(\u001b[0m\u001b[0mself\u001b[0m\u001b[0;34m.\u001b[0m\u001b[0mdata_dir\u001b[0m\u001b[0;34m)\u001b[0m\u001b[0;34m:\u001b[0m\u001b[0;34m\u001b[0m\u001b[0;34m\u001b[0m\u001b[0m\n\u001b[0;32m---> 40\u001b[0;31m                 \u001b[0;32mraise\u001b[0m \u001b[0mValueError\u001b[0m\u001b[0;34m(\u001b[0m\u001b[0;34mf'Passed Spice directory ({spice_data_dir}) is not valid.'\u001b[0m\u001b[0;34m)\u001b[0m\u001b[0;34m\u001b[0m\u001b[0;34m\u001b[0m\u001b[0m\n\u001b[0m\u001b[1;32m     41\u001b[0m \u001b[0;34m\u001b[0m\u001b[0m\n\u001b[1;32m     42\u001b[0m         \u001b[0;31m# Make list of backup folders made for this simulation, if any\u001b[0m\u001b[0;34m\u001b[0m\u001b[0;34m\u001b[0m\u001b[0;34m\u001b[0m\u001b[0m\n",
      "\u001b[0;31mValueError\u001b[0m: Passed Spice directory (marconi/restart_test/sprobe_control_2.13_) is not valid."
     ]
    }
   ],
   "source": [
    "fig, axes = plt.subplots(2)\n",
    "fig_whole, axes_whole = plt.subplots(3, 2)\n",
    "\n",
    "splopters = []\n",
    "times = []\n",
    "currents = []\n",
    "voltages = []\n",
    "\n",
    "for i, scan in enumerate(scans_comparison):\n",
    "    print(scan)\n",
    "    s = plot_raw_data_splopter(scan, axes=axes)\n",
    "    splopters.append(s)\n",
    "    \n",
    "    ax = axes_whole[i]\n",
    "    \n",
    "    backups = list(pth.Path(scan).glob('backup*'))\n",
    "    backups.sort()\n",
    "    \n",
    "    bu_splopters = []\n",
    "    for j, bu_folder in enumerate(backups):\n",
    "        print(f'{j}) {str(bu_folder)}')\n",
    "\n",
    "        splopter = spl.Splopter(bu_folder, reduce=desired_variables)\n",
    "        splopter.prepare(denormaliser_fl=False, homogenise_fl=True, find_se_temp_fl=False)\n",
    "        bu_splopters.append(splopter)\n",
    "    \n",
    "    t, i = plot_concatted_current(bu_splopters, ax=ax[0])\n",
    "    v = plot_concatted_bias(bu_splopters, ax=ax[1])\n",
    "    \n",
    "    ax[0].set_title(scan.split('/')[-1])\n",
    "    ax[0].legend()\n",
    "    ax[1].legend()\n",
    "    \n",
    "    times.append(t)\n",
    "    currents.append(i)\n",
    "    voltages.append(v)\n",
    "    "
   ]
  },
  {
   "cell_type": "code",
   "execution_count": 63,
   "metadata": {},
   "outputs": [
    {
     "name": "stdout",
     "output_type": "stream",
     "text": [
      "\n",
      " ===== splopter 0 =====\n",
      "len(t) = 1600\n",
      "len(I) = 1600\n",
      "dt = 0.0003396\n",
      "\n",
      " ===== splopter 1 =====\n",
      "len(t) = 1606\n",
      "len(I) = 1606\n",
      "dt = 0.0003396\n",
      "\n",
      " ===== splopter 2 =====\n",
      "len(t) = 1110\n",
      "len(I) = 1110\n",
      "dt = 0.0003396\n"
     ]
    }
   ],
   "source": [
    "dts = []\n",
    "for i in range(len(splopters)):\n",
    "    print(f'\\n ===== splopter {i} =====')\n",
    "    print(f'len(t) = {len(times[i])}')\n",
    "    print(f'len(I) = {len(currents[i])}')\n",
    "    print(f'dt = {np.squeeze(splopters[i].tdata.dt):.4g}')\n",
    "    dts.append(np.squeeze(splopters[i].tdata.dt))"
   ]
  },
  {
   "cell_type": "code",
   "execution_count": 85,
   "metadata": {},
   "outputs": [
    {
     "data": {
      "text/plain": [
       "512.0229976442874"
      ]
     },
     "execution_count": 85,
     "metadata": {},
     "output_type": "execute_result"
    }
   ],
   "source": [
    "0.17388301 / 0.0003396"
   ]
  },
  {
   "cell_type": "code",
   "execution_count": 64,
   "metadata": {},
   "outputs": [
    {
     "data": {
      "text/plain": [
       "[<matplotlib.lines.Line2D at 0x7fd6abaa14e0>]"
      ]
     },
     "execution_count": 64,
     "metadata": {},
     "output_type": "execute_result"
    }
   ],
   "source": [
    "plt.figure()\n",
    "plt.plot(times[0] * dts[0], currents[0])\n",
    "plt.plot(times[1] * dts[1], currents[1])\n",
    "plt.plot(times[2], currents[2])"
   ]
  },
  {
   "cell_type": "code",
   "execution_count": 76,
   "metadata": {},
   "outputs": [
    {
     "name": "stdout",
     "output_type": "stream",
     "text": [
      "[1.73883010e-01 3.47766021e-01 5.21649031e-01 ... 1.92662376e+02\n",
      " 1.92836259e+02 1.93010142e+02]\n"
     ]
    },
    {
     "data": {
      "text/plain": [
       "[<matplotlib.lines.Line2D at 0x7fd6abae9898>]"
      ]
     },
     "execution_count": 76,
     "metadata": {},
     "output_type": "execute_result"
    }
   ],
   "source": [
    "fig, axes = plt.subplots(3, sharex=True)\n",
    "\n",
    "for i in range(3):\n",
    "    axes[0].plot(times[i])\n",
    "axes[0].plot(np.squeeze(splopters[0].tdata.t)[:-1])\n",
    "\n",
    "for i in range(3):\n",
    "    axes[1].plot(np.diff(times[i]))\n",
    "print(times[2])\n",
    "    \n",
    "\n",
    "axes[2].plot(times[0])\n",
    "axes[2].plot(times[0] * 0.17388301)\n",
    "axes[2].plot(times[1])\n",
    "axes[2].plot(times[1] * 0.17388301)\n",
    "axes[2].plot(times[2])\n"
   ]
  },
  {
   "cell_type": "code",
   "execution_count": 58,
   "metadata": {},
   "outputs": [
    {
     "name": "stdout",
     "output_type": "stream",
     "text": [
      "(1167,)\n"
     ]
    },
    {
     "data": {
      "text/plain": [
       "[<matplotlib.lines.Line2D at 0x7fd6abdd1dd8>]"
      ]
     },
     "execution_count": 58,
     "metadata": {},
     "output_type": "execute_result"
    }
   ],
   "source": [
    "fig, ax = plt.subplots()\n",
    "\n",
    "new_time = np.squeeze(splopters[0].tdata.t)[:-1]\n",
    "print(new_time.shape)\n",
    "ax.plot(new_time)"
   ]
  },
  {
   "cell_type": "code",
   "execution_count": 68,
   "metadata": {},
   "outputs": [
    {
     "name": "stdout",
     "output_type": "stream",
     "text": [
      "marconi/restart_test/sprobe_20hr_multirestart_4c.2/backup_20191023-2054\n",
      "marconi/restart_test/sprobe_20hr_multirestart_4c.2/backup_20191024-0104\n",
      "marconi/restart_test/sprobe_20hr_multirestart_4c.2/backup_20191024-0154\n",
      "marconi/restart_test/sprobe_20hr_multirestart_4c.2/backup_20191024-0208\n",
      "marconi/restart_test/sprobe_20hr_multirestart_4c.2/backup_20191024-0223\n",
      "marconi/restart_test/sprobe_20hr_multirestart_recomp_4c/backup_20191022-1315\n",
      "marconi/restart_test/sprobe_20hr_multirestart_recomp_4c/backup_20191022-1727\n",
      "marconi/restart_test/sprobe_20hr_multirestart_recomp_4c/backup_20191022-1814\n",
      "marconi/restart_test/sprobe_20hr_multirestart_recomp_4c/backup_20191022-1829\n",
      "marconi/restart_test/sprobe_20hr_multirestart_recomp_4c/backup_20191022-1845\n",
      "marconi/restart_test/sprobe_control_recomp/backup_20191022-1832\n"
     ]
    }
   ],
   "source": [
    "for i in range(len(splopters)):\n",
    "    for bu in splopters[i].backup_folders:\n",
    "        print(bu)"
   ]
  },
  {
   "cell_type": "markdown",
   "metadata": {},
   "source": [
    "# Comparison of versions 2.13 and 2.14\n",
    "\n",
    "This was run after creating an unhomogenised splopter for the 2.14 run"
   ]
  },
  {
   "cell_type": "code",
   "execution_count": 11,
   "metadata": {},
   "outputs": [
    {
     "data": {
      "text/plain": [
       "PosixPath('/home/jleland/data/external/spice/marconi/restart_test/sprobe_20hr_multirestart_2-13-1_4c')"
      ]
     },
     "execution_count": 11,
     "metadata": {},
     "output_type": "execute_result"
    }
   ],
   "source": [
    "chosen_spl_path"
   ]
  },
  {
   "cell_type": "code",
   "execution_count": 12,
   "metadata": {},
   "outputs": [
    {
     "name": "stdout",
     "output_type": "stream",
     "text": [
      "{'ProbePot': array([[-9.9],\n",
      "       [-9.9],\n",
      "       [-9.9],\n",
      "       ...,\n",
      "       [-9.9],\n",
      "       [-9.9],\n",
      "       [-9.9]])}\n"
     ]
    },
    {
     "data": {
      "text/plain": [
       "<matplotlib.legend.Legend at 0x7fb20e14ca58>"
      ]
     },
     "execution_count": 12,
     "metadata": {},
     "output_type": "execute_result"
    }
   ],
   "source": [
    "label = str(chosen_spl_path).split('/')[-1]\n",
    "# print(label)\n",
    "\n",
    "# splopter = spl.Splopter(path_to_splopter, reduce=desired_variables)\n",
    "# splopter.prepare(denormaliser_fl=False, homogenise_fl=homogenise_fl, find_se_temp_fl=False)\n",
    "\n",
    "# Extract relevant arrays from the matlab file\n",
    "probe_indices = splopter.parser.get_probe_obj_indices()\n",
    "probe_current_e = 0.0\n",
    "probe_current_i = 0.0\n",
    "\n",
    "time = np.squeeze(splopter.tdata.t)[:-1]\n",
    "for index in probe_indices:\n",
    "    probe_current_e += np.squeeze(splopter.tdata.objectscurrente)[index]\n",
    "    probe_current_i += np.squeeze(splopter.tdata.objectscurrenti)[index]\n",
    "probe_bias = np.squeeze(splopter.tdata.diagnostics['ProbePot'])\n",
    "probe_current_tot = probe_current_i + probe_current_e\n",
    "\n",
    "print(splopter.tdata.diagnostics)\n",
    "\n",
    "fig, axes = plt.subplots(2)\n",
    "\n",
    "axes[0].set_title(label)\n",
    "axes[0].plot(probe_bias, label=label)\n",
    "#     axes[0].plot(universal_probe_bias)\n",
    "axes[0].legend()\n",
    "axes[1].plot(probe_current_tot, label=label)\n",
    "#     axes[1].plot(time, probe_current_i)\n",
    "#     axes[1].plot(time, probe_current_e)\n",
    "axes[1].legend()"
   ]
  },
  {
   "cell_type": "code",
   "execution_count": 13,
   "metadata": {},
   "outputs": [
    {
     "name": "stdout",
     "output_type": "stream",
     "text": [
      "0) /home/jleland/data/external/spice/marconi/restart_test/sprobe_20hr_multirestart_2-13-1_4c/backup_20191105-2109\n",
      "No a-file given, continuing without\n",
      "1) /home/jleland/data/external/spice/marconi/restart_test/sprobe_20hr_multirestart_2-13-1_4c/backup_20191106-0119\n",
      "No a-file given, continuing without\n",
      "2) /home/jleland/data/external/spice/marconi/restart_test/sprobe_20hr_multirestart_2-13-1_4c/backup_20191106-0159\n",
      "WARNING: Encountered t-zeroing in /home/jleland/data/external/spice/marconi/restart_test/sprobe_20hr_multirestart_2-13-1_4c/backup_20191106-0159/t-sprobe_20hr_multirestart_2-13-1_4c.mat\n",
      "There are no backups to utilise. Carrying on, but expect erroneous results.\n",
      "WARNING: Encountered t-zeroing, creating an approximate t array\n",
      "No a-file given, continuing without\n",
      "3) /home/jleland/data/external/spice/marconi/restart_test/sprobe_20hr_multirestart_2-13-1_4c/backup_20191106-0213\n",
      "WARNING: Encountered t-zeroing in /home/jleland/data/external/spice/marconi/restart_test/sprobe_20hr_multirestart_2-13-1_4c/backup_20191106-0213/t-sprobe_20hr_multirestart_2-13-1_4c.mat\n",
      "There are no backups to utilise. Carrying on, but expect erroneous results.\n",
      "WARNING: Encountered t-zeroing, creating an approximate t array\n",
      "No a-file given, continuing without\n",
      "4) /home/jleland/data/external/spice/marconi/restart_test/sprobe_20hr_multirestart_2-13-1_4c/backup_20191106-0228\n",
      "WARNING: Encountered t-zeroing in /home/jleland/data/external/spice/marconi/restart_test/sprobe_20hr_multirestart_2-13-1_4c/backup_20191106-0228/t-sprobe_20hr_multirestart_2-13-1_4c.mat\n",
      "There are no backups to utilise. Carrying on, but expect erroneous results.\n",
      "WARNING: Encountered t-zeroing, creating an approximate t array\n",
      "No a-file given, continuing without\n"
     ]
    }
   ],
   "source": [
    "backups = list(chosen_spl_path.glob('backup*'))\n",
    "backups.sort()\n",
    "\n",
    "bu_splopters = []\n",
    "for i, bu_folder in enumerate(backups):\n",
    "    print(f'{i}) {str(bu_folder)}')\n",
    "    \n",
    "    splopter = spl.Splopter(bu_folder, reduce=desired_variables)\n",
    "    splopter.prepare(denormaliser_fl=False, homogenise_fl=True, find_se_temp_fl=False)\n",
    "    bu_splopters.append(splopter)"
   ]
  },
  {
   "cell_type": "code",
   "execution_count": 14,
   "metadata": {},
   "outputs": [
    {
     "ename": "NameError",
     "evalue": "name 'plot_raw_data_splopter' is not defined",
     "output_type": "error",
     "traceback": [
      "\u001b[0;31m------------------------------------------------------------------------\u001b[0m",
      "\u001b[0;31mNameError\u001b[0m                              Traceback (most recent call last)",
      "\u001b[0;32m<ipython-input-14-eebf1abe58a1>\u001b[0m in \u001b[0;36m<module>\u001b[0;34m\u001b[0m\n\u001b[1;32m      2\u001b[0m \u001b[0;32mfor\u001b[0m \u001b[0mbu_folder\u001b[0m \u001b[0;32min\u001b[0m \u001b[0mbackups\u001b[0m\u001b[0;34m:\u001b[0m\u001b[0;34m\u001b[0m\u001b[0;34m\u001b[0m\u001b[0m\n\u001b[1;32m      3\u001b[0m \u001b[0;31m#     plot_raw_data_splopter(bu_folder, axes=axes)\u001b[0m\u001b[0;34m\u001b[0m\u001b[0;34m\u001b[0m\u001b[0;34m\u001b[0m\u001b[0m\n\u001b[0;32m----> 4\u001b[0;31m     \u001b[0mplot_raw_data_splopter\u001b[0m\u001b[0;34m(\u001b[0m\u001b[0mbu_folder\u001b[0m\u001b[0;34m)\u001b[0m\u001b[0;34m\u001b[0m\u001b[0;34m\u001b[0m\u001b[0m\n\u001b[0m\u001b[1;32m      5\u001b[0m \u001b[0;31m# axes[1].set_ylim(-100, 100)\u001b[0m\u001b[0;34m\u001b[0m\u001b[0;34m\u001b[0m\u001b[0;34m\u001b[0m\u001b[0m\n",
      "\u001b[0;31mNameError\u001b[0m: name 'plot_raw_data_splopter' is not defined"
     ]
    }
   ],
   "source": [
    "# fig, axes = plt.subplots(2)\n",
    "for bu_folder in backups:\n",
    "#     plot_raw_data_splopter(bu_folder, axes=axes)\n",
    "    plot_raw_data_splopter(bu_folder)\n",
    "# axes[1].set_ylim(-100, 100)"
   ]
  },
  {
   "cell_type": "code",
   "execution_count": null,
   "metadata": {},
   "outputs": [],
   "source": []
  }
 ],
 "metadata": {
  "kernelspec": {
   "display_name": "python3.6-codac",
   "language": "python",
   "name": "python3.6-codac"
  },
  "language_info": {
   "codemirror_mode": {
    "name": "ipython",
    "version": 3
   },
   "file_extension": ".py",
   "mimetype": "text/x-python",
   "name": "python",
   "nbconvert_exporter": "python",
   "pygments_lexer": "ipython3",
   "version": "3.6.9"
  }
 },
 "nbformat": 4,
 "nbformat_minor": 4
}
