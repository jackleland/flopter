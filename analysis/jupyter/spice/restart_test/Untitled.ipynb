{
 "cells": [
  {
   "cell_type": "code",
   "execution_count": 1,
   "metadata": {},
   "outputs": [],
   "source": [
    "%matplotlib tk\n",
    "import numpy as np\n",
    "import matplotlib.pyplot as plt\n",
    "import matplotlib as mpl\n",
    "import xarray as xr\n",
    "import pandas as pd\n",
    "import scipy.io as sio\n",
    "import sys\n",
    "import os\n",
    "import glob\n",
    "import pathlib as pth\n",
    "import importlib\n",
    "import copy\n",
    "sys.path.append('/home/jleland/Coding/Projects/flopter')\n",
    "import flopter.spice.splopter as spl\n",
    "import flopter.spice.tdata as td\n",
    "import flopter.spice.homogenise as hmg\n",
    "import flopter.core.ivdata as iv\n",
    "import flopter.core.fitters as fts\n",
    "import flopter.core.fitdata as fd\n",
    "import flopter.core.lputils as lpu\n",
    "import flopter.core.constants as c"
   ]
  },
  {
   "cell_type": "markdown",
   "metadata": {},
   "source": [
    "## Paths and Matfile IO\n",
    "This section deals with file io and selecting the right .mat files. This needs to be run for the latter sections to work."
   ]
  },
  {
   "cell_type": "code",
   "execution_count": 2,
   "metadata": {
    "pycharm": {
     "is_executing": false
    }
   },
   "outputs": [],
   "source": [
    "spice_dir = pth.Path('/home/jleland/Data/external/spice/')\n",
    "os.chdir(spice_dir)"
   ]
  },
  {
   "cell_type": "code",
   "execution_count": 3,
   "metadata": {
    "pycharm": {
     "is_executing": false
    }
   },
   "outputs": [
    {
     "name": "stdout",
     "output_type": "stream",
     "text": [
      "0.17453292519943295\n"
     ]
    }
   ],
   "source": [
    "lps = lpu.MagnumProbes()\n",
    "\n",
    "flush_probe = copy.deepcopy(lps.probe_l)\n",
    "flush_probe.theta_p = 0.0\n",
    "flush_probe.d_perp = 0.0\n",
    "\n",
    "angled_probe = copy.deepcopy(lps.probe_l)\n",
    "angled_probe.d_perp = 0.0\n",
    "print(angled_probe.theta_p)"
   ]
  },
  {
   "cell_type": "code",
   "execution_count": 96,
   "metadata": {},
   "outputs": [],
   "source": [
    "skippable_scans = {\n",
    "    'marconi/lowdens_anglescan/inpartest_as',\n",
    "    'marconi/lowdens_anglescan/angled_tiltscan_ext',\n",
    "    'marconi/restart_test/sprobe_9hr_multirestart',\n",
    "    'marconi/restart_test/sprobe_1hr',\n",
    "    'marconi/restart_test/sprobe_1hr.1',\n",
    "    'marconi/restart_test/sprobe_1hr_atrestart',\n",
    "    'marconi/restart_test/sprobe_4hr_multirestart_r',\n",
    "    'marconi/restart_test/sprobe_4hr_multirestart_2r',\n",
    "    'marconi/restart_test/sprobe_4hr_multirestart_c',\n",
    "    'marconi/restart_test/sprobe_4hr_multirestart_2c',\n",
    "    'marconi/restart_test/sprobe_10hr_multirestart_r',\n",
    "    'marconi/restart_test/sprobe_10hr_multirestart_2r',\n",
    "    'marconi/restart_test/sprobe_control_mkomm',\n",
    "    'marconi/restart_test/sprobe_20hr_multirestart_2.13_4c',\n",
    "    'marconi/restart_test/sprobe_control',\n",
    "    \n",
    "    'marconi/restart_test/sprobe_4hr_multirestart_c',\n",
    "    'marconi/restart_test/sprobe_4hr_multirestart_2c',\n",
    "    'marconi/restart_test/sprobe_20hr_multirestart_mkomm_4c',\n",
    "    'marconi/restart_test/sprobe_control_mkomm_rel',\n",
    "    'marconi/restart_test/sprobe_20hr_multirestart_4c',\n",
    "    'marconi/restart_test/sprobe_20hr_multirestart_4c.1',\n",
    "    'marconi/restart_test/sprobe_20hr_multirestart_4c.2',\n",
    "    'marconi/restart_test/sprobe_20hr_multirestart_4r',\n",
    "    'marconi/restart_test/sprobe_20hr_multirestart_recomp_4c',\n",
    "    'marconi/restart_test/sprobe_control_2.13',\n",
    "}\n",
    "single_sims = {\n",
    "    'marconi/restart_test/sprobe_control_2.13_hdf5',\n",
    "    'marconi/restart_test/sprobe_control_recomp',\n",
    "    'marconi/restart_test/sprobe_control_2.13_',\n",
    "    'marconi/restart_test/sprobe_20hr_multirestart_2.13_hdf5_4c'\n",
    "}"
   ]
  },
  {
   "cell_type": "code",
   "execution_count": 97,
   "metadata": {
    "pycharm": {
     "is_executing": false
    }
   },
   "outputs": [
    {
     "name": "stdout",
     "output_type": "stream",
     "text": [
      "Single sim marconi/restart_test/sprobe_20hr_multirestart_2.13_hdf5_4c found\n",
      "marconi/restart_test/sprobe_20hr_multirestart_2.13_hdf5_4c: ['marconi/restart_test/sprobe_20hr_multirestart_2.13_hdf5_4c']\n",
      "\n",
      "Single sim marconi/restart_test/sprobe_control_recomp found\n",
      "marconi/restart_test/sprobe_control_recomp: ['marconi/restart_test/sprobe_control_recomp']\n",
      "\n",
      "Single sim marconi/restart_test/sprobe_control_2.13_ found\n",
      "marconi/restart_test/sprobe_control_2.13_: ['marconi/restart_test/sprobe_control_2.13_']\n",
      "\n",
      "Single sim marconi/restart_test/sprobe_control_2.13_hdf5 found\n",
      "marconi/restart_test/sprobe_control_2.13_hdf5: ['marconi/restart_test/sprobe_control_2.13_hdf5']\n",
      "\n"
     ]
    }
   ],
   "source": [
    "scans_searchstr = '*/restart_test/*'\n",
    "# angles_search_str = '/*[!.{yml, inp}]/backup*'\n",
    "angles_search_str = '/*[!.{yml, inp}]'\n",
    "\n",
    "non_standard_variables = {'ProbePot', 'npartproc', 'Nz', 'Nzmax', 'Ny', 'count', 'Npc', 'snumber', 'nproc'}\n",
    "\n",
    "desired_variables = td.DEFAULT_REDUCED_DATASET | non_standard_variables\n",
    "\n",
    "all_run_dirs = {}\n",
    "scans = glob.glob(scans_searchstr)\n",
    "scans = set(scans) - skippable_scans\n",
    "for scan in scans:\n",
    "    if scan in single_sims:\n",
    "        print(f'Single sim {scan} found')\n",
    "        all_run_dirs[scan] = [scan]\n",
    "    else:\n",
    "        all_run_dirs[scan] = glob.glob(scan + angles_search_str)\n",
    "    \n",
    "    print(f'{scan}: {all_run_dirs[scan]}\\n')\n"
   ]
  },
  {
   "cell_type": "code",
   "execution_count": 98,
   "metadata": {},
   "outputs": [],
   "source": [
    "skippable = {}\n",
    "scans = list(scans)"
   ]
  },
  {
   "cell_type": "markdown",
   "metadata": {},
   "source": [
    "## Attempts to read and perhaps concatenate several Spice-2 hdf5 output files together \n",
    "The two scans selected above are runs using the newly updated spice-2.13 with the sprobe lowdens input file at 10$^\\circ$ inclination "
   ]
  },
  {
   "cell_type": "code",
   "execution_count": 99,
   "metadata": {},
   "outputs": [
    {
     "name": "stdout",
     "output_type": "stream",
     "text": [
      "0 marconi/restart_test/sprobe_20hr_multirestart_2.13_hdf5_4c\n",
      "1 marconi/restart_test/sprobe_control_recomp\n",
      "2 marconi/restart_test/sprobe_control_2.13_\n",
      "3 marconi/restart_test/sprobe_control_2.13_hdf5\n"
     ]
    }
   ],
   "source": [
    "for i, scan in enumerate(scans):\n",
    "    print(i, scan)"
   ]
  },
  {
   "cell_type": "code",
   "execution_count": 103,
   "metadata": {},
   "outputs": [
    {
     "name": "stdout",
     "output_type": "stream",
     "text": [
      "/home/jleland/Data/external/spice/marconi/restart_test/sprobe_control_recomp\n",
      "/home/jleland/Data/external/spice/marconi/restart_test/sprobe_control_2.13_\n"
     ]
    }
   ],
   "source": [
    "chosen_spl_path_old = spice_dir / scans[1]\n",
    "chosen_spl_path = spice_dir / scans[2]\n",
    "\n",
    "print(chosen_spl_path_old)\n",
    "print(chosen_spl_path)"
   ]
  },
  {
   "cell_type": "code",
   "execution_count": 104,
   "metadata": {},
   "outputs": [],
   "source": [
    "# splopter = spl.Splopter(chosen_spl_path, reduce=desired_variables)\n",
    "# splopter.prepare(denormaliser_fl=False, homogenise_fl=True, find_se_temp_fl=False)"
   ]
  },
  {
   "cell_type": "code",
   "execution_count": 108,
   "metadata": {},
   "outputs": [
    {
     "name": "stdout",
     "output_type": "stream",
     "text": [
      "0) /home/jleland/Data/external/spice/marconi/restart_test/sprobe_control_2.13_/t-sprobe_control_2.13_.h5\n",
      "1) /home/jleland/Data/external/spice/marconi/restart_test/sprobe_control_2.13_/t-sprobe_control_2.13_00.h5\n",
      "2) /home/jleland/Data/external/spice/marconi/restart_test/sprobe_control_2.13_/t-sprobe_control_2.13_01.h5\n",
      "3) /home/jleland/Data/external/spice/marconi/restart_test/sprobe_control_2.13_/t-sprobe_control_2.13_02.h5\n",
      "4) /home/jleland/Data/external/spice/marconi/restart_test/sprobe_control_2.13_/t-sprobe_control_2.13_03.h5\n",
      "5) /home/jleland/Data/external/spice/marconi/restart_test/sprobe_control_2.13_/t-sprobe_control_2.13_04.h5\n",
      "6) /home/jleland/Data/external/spice/marconi/restart_test/sprobe_control_2.13_/t-sprobe_control_2.13_05.h5\n",
      "7) /home/jleland/Data/external/spice/marconi/restart_test/sprobe_control_2.13_/t-sprobe_control_2.13_06.h5\n",
      "8) /home/jleland/Data/external/spice/marconi/restart_test/sprobe_control_2.13_/t-sprobe_control_2.13_07.h5\n",
      "9) /home/jleland/Data/external/spice/marconi/restart_test/sprobe_control_2.13_/t-sprobe_control_2.13_08.h5\n",
      "10) /home/jleland/Data/external/spice/marconi/restart_test/sprobe_control_2.13_/t-sprobe_control_2.13_09.h5\n",
      "11) /home/jleland/Data/external/spice/marconi/restart_test/sprobe_control_2.13_/t-sprobe_control_2.13_10.h5\n",
      "12) /home/jleland/Data/external/spice/marconi/restart_test/sprobe_control_2.13_/t-sprobe_control_2.13_11.h5\n",
      "13) /home/jleland/Data/external/spice/marconi/restart_test/sprobe_control_2.13_/t-sprobe_control_2.13_12.h5\n",
      "14) /home/jleland/Data/external/spice/marconi/restart_test/sprobe_control_2.13_/t-sprobe_control_2.13_13.h5\n",
      "15) /home/jleland/Data/external/spice/marconi/restart_test/sprobe_control_2.13_/t-sprobe_control_2.13_14.h5\n",
      "16) /home/jleland/Data/external/spice/marconi/restart_test/sprobe_control_2.13_/t-sprobe_control_2.13_15.h5\n",
      "17) /home/jleland/Data/external/spice/marconi/restart_test/sprobe_control_2.13_/t-sprobe_control_2.13_16.h5\n",
      "18) /home/jleland/Data/external/spice/marconi/restart_test/sprobe_control_2.13_/t-sprobe_control_2.13_17.h5\n",
      "19) /home/jleland/Data/external/spice/marconi/restart_test/sprobe_control_2.13_/t-sprobe_control_2.13_18.h5\n",
      "20) /home/jleland/Data/external/spice/marconi/restart_test/sprobe_control_2.13_/t-sprobe_control_2.13_19.h5\n",
      "21) /home/jleland/Data/external/spice/marconi/restart_test/sprobe_control_2.13_/t-sprobe_control_2.13_20.h5\n",
      "22) /home/jleland/Data/external/spice/marconi/restart_test/sprobe_control_2.13_/t-sprobe_control_2.13_21.h5\n",
      "23) /home/jleland/Data/external/spice/marconi/restart_test/sprobe_control_2.13_/t-sprobe_control_2.13_22.h5\n",
      "24) /home/jleland/Data/external/spice/marconi/restart_test/sprobe_control_2.13_/t-sprobe_control_2.13_23.h5\n",
      "25) /home/jleland/Data/external/spice/marconi/restart_test/sprobe_control_2.13_/t-sprobe_control_2.13_24.h5\n",
      "26) /home/jleland/Data/external/spice/marconi/restart_test/sprobe_control_2.13_/t-sprobe_control_2.13_25.h5\n",
      "27) /home/jleland/Data/external/spice/marconi/restart_test/sprobe_control_2.13_/t-sprobe_control_2.13_26.h5\n",
      "28) /home/jleland/Data/external/spice/marconi/restart_test/sprobe_control_2.13_/t-sprobe_control_2.13_27.h5\n",
      "29) /home/jleland/Data/external/spice/marconi/restart_test/sprobe_control_2.13_/t-sprobe_control_2.13_28.h5\n",
      "30) /home/jleland/Data/external/spice/marconi/restart_test/sprobe_control_2.13_/t-sprobe_control_2.13_29.h5\n",
      "31) /home/jleland/Data/external/spice/marconi/restart_test/sprobe_control_2.13_/t-sprobe_control_2.13_30.h5\n",
      "32) /home/jleland/Data/external/spice/marconi/restart_test/sprobe_control_2.13_/t-sprobe_control_2.13_31.h5\n",
      "33) /home/jleland/Data/external/spice/marconi/restart_test/sprobe_control_2.13_/t-sprobe_control_2.13_32.h5\n",
      "34) /home/jleland/Data/external/spice/marconi/restart_test/sprobe_control_2.13_/t-sprobe_control_2.13_33.h5\n",
      "35) /home/jleland/Data/external/spice/marconi/restart_test/sprobe_control_2.13_/t-sprobe_control_2.13_34.h5\n",
      "36) /home/jleland/Data/external/spice/marconi/restart_test/sprobe_control_2.13_/t-sprobe_control_2.13_35.h5\n",
      "37) /home/jleland/Data/external/spice/marconi/restart_test/sprobe_control_2.13_/t-sprobe_control_2.13_36.h5\n",
      "38) /home/jleland/Data/external/spice/marconi/restart_test/sprobe_control_2.13_/t-sprobe_control_2.13_37.h5\n",
      "39) /home/jleland/Data/external/spice/marconi/restart_test/sprobe_control_2.13_/t-sprobe_control_2.13_38.h5\n",
      "40) /home/jleland/Data/external/spice/marconi/restart_test/sprobe_control_2.13_/t-sprobe_control_2.13_39.h5\n",
      "41) /home/jleland/Data/external/spice/marconi/restart_test/sprobe_control_2.13_/t-sprobe_control_2.13_40.h5\n",
      "42) /home/jleland/Data/external/spice/marconi/restart_test/sprobe_control_2.13_/t-sprobe_control_2.13_41.h5\n",
      "43) /home/jleland/Data/external/spice/marconi/restart_test/sprobe_control_2.13_/t-sprobe_control_2.13_42.h5\n",
      "44) /home/jleland/Data/external/spice/marconi/restart_test/sprobe_control_2.13_/t-sprobe_control_2.13_43.h5\n",
      "45) /home/jleland/Data/external/spice/marconi/restart_test/sprobe_control_2.13_/t-sprobe_control_2.13_44.h5\n",
      "46) /home/jleland/Data/external/spice/marconi/restart_test/sprobe_control_2.13_/t-sprobe_control_2.13_45.h5\n",
      "47) /home/jleland/Data/external/spice/marconi/restart_test/sprobe_control_2.13_/t-sprobe_control_2.13_46.h5\n",
      "48) /home/jleland/Data/external/spice/marconi/restart_test/sprobe_control_2.13_/t-sprobe_control_2.13_47.h5\n"
     ]
    }
   ],
   "source": [
    "# bu_folders = list(chosen_spl_path.glob('backup*'))\n",
    "# chosen_spl_path_bu = chosen_spl_path / bu_folders[1]\n",
    "# hdf5_files = list(chosen_spl_path_bu.glob('*t-*.h5'))\n",
    "\n",
    "hdf5_files = list(chosen_spl_path.glob('*t-*.h5'))\n",
    "\n",
    "for i, hfile in enumerate(hdf5_files):\n",
    "    print(f'{i}) {hfile}')"
   ]
  },
  {
   "cell_type": "markdown",
   "metadata": {},
   "source": [
    "## Closer look at the t-file "
   ]
  },
  {
   "cell_type": "code",
   "execution_count": 109,
   "metadata": {},
   "outputs": [
    {
     "name": "stdout",
     "output_type": "stream",
     "text": [
      "/home/jleland/Data/external/spice/marconi/restart_test/sprobe_control_2.13_/t-sprobe_control_2.13_.h5\n"
     ]
    }
   ],
   "source": [
    "print(hdf5_files[0])"
   ]
  },
  {
   "cell_type": "code",
   "execution_count": 110,
   "metadata": {},
   "outputs": [],
   "source": [
    "tfile_name = hdf5_files[0]\n",
    "\n",
    "tfile_ds = xr.open_dataset(tfile_name)\n",
    "# tfile_ds = xr.open_dataset(tfile_name, engine='h5netcdf')"
   ]
  },
  {
   "cell_type": "code",
   "execution_count": 111,
   "metadata": {},
   "outputs": [
    {
     "name": "stdout",
     "output_type": "stream",
     "text": [
      "<xarray.Dataset>\n",
      "Dimensions:            (phony_dim_0: 2000, phony_dim_1: 609, phony_dim_10: 10, phony_dim_11: 48, phony_dim_12: 1999, phony_dim_13: 336, phony_dim_14: 568525, phony_dim_15: 11, phony_dim_2: 193, phony_dim_3: 1, phony_dim_4: 379016, phony_dim_5: 2, phony_dim_6: 150, phony_dim_7: 117344, phony_dim_8: 4, phony_dim_9: 12)\n",
      "Dimensions without coordinates: phony_dim_0, phony_dim_1, phony_dim_10, phony_dim_11, phony_dim_12, phony_dim_13, phony_dim_14, phony_dim_15, phony_dim_2, phony_dim_3, phony_dim_4, phony_dim_5, phony_dim_6, phony_dim_7, phony_dim_8, phony_dim_9\n",
      "Data variables:\n",
      "    Esct               (phony_dim_0) float64 ...\n",
      "    Escy               (phony_dim_1, phony_dim_2) float64 ...\n",
      "    Escz               (phony_dim_1, phony_dim_2) float64 ...\n",
      "    Na                 (phony_dim_3) int32 ...\n",
      "    Nc                 (phony_dim_3) int32 ...\n",
      "    Np                 (phony_dim_3) int32 ...\n",
      "    Npc                (phony_dim_3) int32 ...\n",
      "    Ny                 (phony_dim_3) int32 ...\n",
      "    Nz                 (phony_dim_3) int32 ...\n",
      "    Nzmax              (phony_dim_3) int32 ...\n",
      "    Pot                (phony_dim_1, phony_dim_2) float64 ...\n",
      "    Potvac             (phony_dim_1, phony_dim_2) float64 ...\n",
      "    ProbePot           (phony_dim_4) float64 ...\n",
      "    QnPot              (phony_dim_4) float64 ...\n",
      "    Temp               (phony_dim_5) float64 ...\n",
      "    alphaxz            (phony_dim_3) float64 ...\n",
      "    alphayz            (phony_dim_3) float64 ...\n",
      "    bx                 (phony_dim_3) float64 ...\n",
      "    by                 (phony_dim_3) float64 ...\n",
      "    bz                 (phony_dim_3) float64 ...\n",
      "    count              (phony_dim_3) int32 ...\n",
      "    dPHIqn             (phony_dim_0) float64 ...\n",
      "    deltah             (phony_dim_3) int32 ...\n",
      "    diaghistories      (phony_dim_3) int32 ...\n",
      "    diagm              (phony_dim_1, phony_dim_2) int32 ...\n",
      "    dt                 (phony_dim_3) float64 ...\n",
      "    dz                 (phony_dim_3) float64 ...\n",
      "    eHistSEx1          (phony_dim_6) float64 ...\n",
      "    eHistSEx2          (phony_dim_6) float64 ...\n",
      "    eHistSEx3          (phony_dim_6) float64 ...\n",
      "    eHistTopx1         (phony_dim_6) float64 ...\n",
      "    eHistTopx2         (phony_dim_6) float64 ...\n",
      "    eHistTopx3         (phony_dim_6) float64 ...\n",
      "    edgecharge         (phony_dim_1, phony_dim_2) float64 ...\n",
      "    edges              (phony_dim_1, phony_dim_2) int32 ...\n",
      "    equipotm           (phony_dim_1, phony_dim_2) float64 ...\n",
      "    flag               (phony_dim_7) int32 ...\n",
      "    flagm              (phony_dim_1, phony_dim_2) int32 ...\n",
      "    floatconstant      (phony_dim_8) float64 ...\n",
      "    fvarrays           (phony_dim_3) int32 ...\n",
      "    fvbin              (phony_dim_3) int32 ...\n",
      "    fvlimits           (phony_dim_5, phony_dim_9) float64 ...\n",
      "    fvperparraycount   (phony_dim_3) int32 ...\n",
      "    hpos               (phony_dim_3) int32 ...\n",
      "    iHistSEx1          (phony_dim_6) float64 ...\n",
      "    iHistSEx2          (phony_dim_6) float64 ...\n",
      "    iHistSEx3          (phony_dim_6) float64 ...\n",
      "    iHistTopx1         (phony_dim_6) float64 ...\n",
      "    iHistTopx2         (phony_dim_6) float64 ...\n",
      "    iHistTopx3         (phony_dim_6) float64 ...\n",
      "    injrate            (phony_dim_0, phony_dim_5) float64 ...\n",
      "    irel               (phony_dim_10, phony_dim_8) float64 ...\n",
      "    itertime           (phony_dim_0, phony_dim_11) float64 ...\n",
      "    ksi                (phony_dim_3) float64 ...\n",
      "    m                  (phony_dim_5) float64 ...\n",
      "    mksB               (phony_dim_3) float64 ...\n",
      "    mksTe              (phony_dim_3) float64 ...\n",
      "    mksmainionm        (phony_dim_3) float64 ...\n",
      "    mksmainionq        (phony_dim_3) float64 ...\n",
      "    mksn0              (phony_dim_3) float64 ...\n",
      "    mkspar1            (phony_dim_3) float64 ...\n",
      "    mkspar2            (phony_dim_3) float64 ...\n",
      "    mkspar3            (phony_dim_3) float64 ...\n",
      "    mu                 (phony_dim_3) float64 ...\n",
      "    nodiagreg          (phony_dim_3) int32 ...\n",
      "    npartproc          (phony_dim_0, phony_dim_11) int32 ...\n",
      "    nproc              (phony_dim_3) int32 ...\n",
      "    objects            (phony_dim_1, phony_dim_2) int32 ...\n",
      "    objectscurrente    (phony_dim_12, phony_dim_8) float64 ...\n",
      "    objectscurrenti    (phony_dim_12, phony_dim_8) float64 ...\n",
      "    objectsenum        (phony_dim_1, phony_dim_2) int32 ...\n",
      "    objectspowerfluxe  (phony_dim_12, phony_dim_8) float64 ...\n",
      "    objectspowerfluxi  (phony_dim_12, phony_dim_8) float64 ...\n",
      "    pchi               (phony_dim_0) float64 ...\n",
      "    q                  (phony_dim_5) float64 ...\n",
      "    rho                (phony_dim_1, phony_dim_2) float64 ...\n",
      "    rho01              (phony_dim_1, phony_dim_13) float64 ...\n",
      "    rho02              (phony_dim_1, phony_dim_13) float64 ...\n",
      "    sliceproc          (phony_dim_1, phony_dim_13) int32 ...\n",
      "    snumber            (phony_dim_0, phony_dim_5) int32 ...\n",
      "    solns01            (phony_dim_1, phony_dim_2) float64 ...\n",
      "    solns02            (phony_dim_1, phony_dim_2) float64 ...\n",
      "    solw01             (phony_dim_1, phony_dim_2) float64 ...\n",
      "    solw02             (phony_dim_1, phony_dim_2) float64 ...\n",
      "    surface_matrix     (phony_dim_1, phony_dim_2) float64 ...\n",
      "    t                  (phony_dim_0) float64 ...\n",
      "    tau                (phony_dim_3) float64 ...\n",
      "    timehistory        (phony_dim_14, phony_dim_15) float64 ...\n",
      "    totalenergy        (phony_dim_14, phony_dim_8, phony_dim_5) float64 ...\n",
      "    version            (phony_dim_3) int32 ...\n",
      "    yg                 (phony_dim_1) float64 ...\n",
      "    zg                 (phony_dim_2) float64 ...\n",
      "phony_dim_0 2000\n",
      "phony_dim_1 609\n",
      "phony_dim_10 10\n",
      "phony_dim_11 48\n",
      "phony_dim_12 1999\n",
      "phony_dim_13 336\n",
      "phony_dim_14 568525\n",
      "phony_dim_15 11\n",
      "phony_dim_2 193\n",
      "phony_dim_3 1\n",
      "phony_dim_4 379016\n",
      "phony_dim_5 2\n",
      "phony_dim_6 150\n",
      "phony_dim_7 117344\n",
      "phony_dim_8 4\n",
      "phony_dim_9 12\n"
     ]
    }
   ],
   "source": [
    "print(tfile_ds)\n",
    "for dim, size in tfile_ds.dims.items():\n",
    "    print(dim, size)"
   ]
  },
  {
   "cell_type": "code",
   "execution_count": 112,
   "metadata": {},
   "outputs": [],
   "source": [
    "rename_dims_dict = {\n",
    "    'phony_dim_0': 'time',\n",
    "    'phony_dim_1': 'y',\n",
    "    'phony_dim_2': 'z',\n",
    "    'phony_dim_3': 'sim',\n",
    "    'phony_dim_4': 'diag_time',\n",
    "    'phony_dim_5': 'species',\n",
    "    'phony_dim_6': 'diag_hist_bin',\n",
    "#     'phony_dim_7': ,\n",
    "    'phony_dim_8': 'objects',\n",
    "#     'phony_dim_9': ,\n",
    "#     'phony_dim_10': ,\n",
    "    'phony_dim_11': 'task',\n",
    "    'phony_dim_12': 'objectsdiag_time',\n",
    "#     'phony_dim_13': ,\n",
    "    'phony_dim_14': 'timestep', \n",
    "#     'phony_dim_15': ,\n",
    "}\n",
    "\n",
    "tfile_ds = tfile_ds.rename_dims(rename_dims_dict)"
   ]
  },
  {
   "cell_type": "code",
   "execution_count": 113,
   "metadata": {},
   "outputs": [
    {
     "name": "stdout",
     "output_type": "stream",
     "text": [
      "<xarray.Dataset>\n",
      "Dimensions:            (diag_hist_bin: 150, diag_time: 379016, objects: 4, objectsdiag_time: 1999, phony_dim_10: 10, phony_dim_13: 336, phony_dim_15: 11, phony_dim_7: 117344, phony_dim_9: 12, sim: 1, species: 2, task: 48, time: 2000, timestep: 568525, y: 609, z: 193)\n",
      "Dimensions without coordinates: diag_hist_bin, diag_time, objects, objectsdiag_time, phony_dim_10, phony_dim_13, phony_dim_15, phony_dim_7, phony_dim_9, sim, species, task, time, timestep, y, z\n",
      "Data variables:\n",
      "    Esct               (time) float64 ...\n",
      "    Escy               (y, z) float64 ...\n",
      "    Escz               (y, z) float64 ...\n",
      "    Na                 (sim) int32 ...\n",
      "    Nc                 (sim) int32 ...\n",
      "    Np                 (sim) int32 ...\n",
      "    Npc                (sim) int32 ...\n",
      "    Ny                 (sim) int32 ...\n",
      "    Nz                 (sim) int32 ...\n",
      "    Nzmax              (sim) int32 ...\n",
      "    Pot                (y, z) float64 ...\n",
      "    Potvac             (y, z) float64 ...\n",
      "    ProbePot           (diag_time) float64 ...\n",
      "    QnPot              (diag_time) float64 ...\n",
      "    Temp               (species) float64 ...\n",
      "    alphaxz            (sim) float64 ...\n",
      "    alphayz            (sim) float64 ...\n",
      "    bx                 (sim) float64 ...\n",
      "    by                 (sim) float64 ...\n",
      "    bz                 (sim) float64 ...\n",
      "    count              (sim) int32 ...\n",
      "    dPHIqn             (time) float64 ...\n",
      "    deltah             (sim) int32 ...\n",
      "    diaghistories      (sim) int32 ...\n",
      "    diagm              (y, z) int32 ...\n",
      "    dt                 (sim) float64 ...\n",
      "    dz                 (sim) float64 ...\n",
      "    eHistSEx1          (diag_hist_bin) float64 ...\n",
      "    eHistSEx2          (diag_hist_bin) float64 ...\n",
      "    eHistSEx3          (diag_hist_bin) float64 ...\n",
      "    eHistTopx1         (diag_hist_bin) float64 ...\n",
      "    eHistTopx2         (diag_hist_bin) float64 ...\n",
      "    eHistTopx3         (diag_hist_bin) float64 ...\n",
      "    edgecharge         (y, z) float64 ...\n",
      "    edges              (y, z) int32 ...\n",
      "    equipotm           (y, z) float64 ...\n",
      "    flag               (phony_dim_7) int32 ...\n",
      "    flagm              (y, z) int32 ...\n",
      "    floatconstant      (objects) float64 ...\n",
      "    fvarrays           (sim) int32 ...\n",
      "    fvbin              (sim) int32 ...\n",
      "    fvlimits           (species, phony_dim_9) float64 ...\n",
      "    fvperparraycount   (sim) int32 ...\n",
      "    hpos               (sim) int32 ...\n",
      "    iHistSEx1          (diag_hist_bin) float64 ...\n",
      "    iHistSEx2          (diag_hist_bin) float64 ...\n",
      "    iHistSEx3          (diag_hist_bin) float64 ...\n",
      "    iHistTopx1         (diag_hist_bin) float64 ...\n",
      "    iHistTopx2         (diag_hist_bin) float64 ...\n",
      "    iHistTopx3         (diag_hist_bin) float64 ...\n",
      "    injrate            (time, species) float64 ...\n",
      "    irel               (phony_dim_10, objects) float64 ...\n",
      "    itertime           (time, task) float64 ...\n",
      "    ksi                (sim) float64 ...\n",
      "    m                  (species) float64 ...\n",
      "    mksB               (sim) float64 ...\n",
      "    mksTe              (sim) float64 ...\n",
      "    mksmainionm        (sim) float64 ...\n",
      "    mksmainionq        (sim) float64 ...\n",
      "    mksn0              (sim) float64 ...\n",
      "    mkspar1            (sim) float64 ...\n",
      "    mkspar2            (sim) float64 ...\n",
      "    mkspar3            (sim) float64 ...\n",
      "    mu                 (sim) float64 ...\n",
      "    nodiagreg          (sim) int32 ...\n",
      "    npartproc          (time, task) int32 ...\n",
      "    nproc              (sim) int32 ...\n",
      "    objects            (y, z) int32 ...\n",
      "    objectscurrente    (objectsdiag_time, objects) float64 ...\n",
      "    objectscurrenti    (objectsdiag_time, objects) float64 ...\n",
      "    objectsenum        (y, z) int32 ...\n",
      "    objectspowerfluxe  (objectsdiag_time, objects) float64 ...\n",
      "    objectspowerfluxi  (objectsdiag_time, objects) float64 ...\n",
      "    pchi               (time) float64 ...\n",
      "    q                  (species) float64 ...\n",
      "    rho                (y, z) float64 ...\n",
      "    rho01              (y, phony_dim_13) float64 ...\n",
      "    rho02              (y, phony_dim_13) float64 ...\n",
      "    sliceproc          (y, phony_dim_13) int32 ...\n",
      "    snumber            (time, species) int32 ...\n",
      "    solns01            (y, z) float64 ...\n",
      "    solns02            (y, z) float64 ...\n",
      "    solw01             (y, z) float64 ...\n",
      "    solw02             (y, z) float64 ...\n",
      "    surface_matrix     (y, z) float64 ...\n",
      "    t                  (time) float64 ...\n",
      "    tau                (sim) float64 ...\n",
      "    timehistory        (timestep, phony_dim_15) float64 ...\n",
      "    totalenergy        (timestep, objects, species) float64 ...\n",
      "    version            (sim) int32 ...\n",
      "    yg                 (y) float64 ...\n",
      "    zg                 (z) float64 ...\n"
     ]
    }
   ],
   "source": [
    "print(tfile_ds)"
   ]
  },
  {
   "cell_type": "code",
   "execution_count": 114,
   "metadata": {},
   "outputs": [
    {
     "data": {
      "text/plain": [
       "[<matplotlib.lines.Line2D at 0x7f8c99494e48>]"
      ]
     },
     "execution_count": 114,
     "metadata": {},
     "output_type": "execute_result"
    }
   ],
   "source": [
    "currents = tfile_ds[['objectscurrenti', 'objectscurrente']].sel(objects=slice(2,4)).sum('objects')\n",
    "\n",
    "total_current = xr.concat([currents['objectscurrenti'], currents['objectscurrente']], 'species').sum('species')\n",
    "total_current.plot()"
   ]
  },
  {
   "cell_type": "code",
   "execution_count": 123,
   "metadata": {},
   "outputs": [
    {
     "name": "stdout",
     "output_type": "stream",
     "text": [
      "<bound method Mapping.values of <xarray.Dataset>\n",
      "Dimensions:  (sim: 1)\n",
      "Dimensions without coordinates: sim\n",
      "Data variables:\n",
      "    Na       (sim) int32 379016\n",
      "    Nc       (sim) int32 189508\n",
      "    Np       (sim) int32 568524\n",
      "    Ny       (sim) int32 609\n",
      "    Nz       (sim) int32 193>\n",
      "1999 379016\n"
     ]
    },
    {
     "data": {
      "text/plain": [
       "(-10, 40)"
      ]
     },
     "execution_count": 123,
     "metadata": {},
     "output_type": "execute_result"
    }
   ],
   "source": [
    "fig, axes = plt.subplots(2, sharex=True)\n",
    "print(tfile_ds.load()[['Na', 'Nc', 'Np', 'Ny', 'Nz']].values)\n",
    "\n",
    "probe_pot = tfile_ds['ProbePot'] #.sel(diag_time=slice(None, None, 100))\n",
    "\n",
    "print(len(total_current), len(probe_pot))\n",
    "\n",
    "axes[0].plot(tfile_ds['t'].values[:-1], total_current)\n",
    "xr.concat([currents['objectscurrenti'], currents['objectscurrente']], 'species').sum('species').plot(ax=axes[1])\n",
    "\n",
    "axes[1].set_ylim(-10, 40)"
   ]
  },
  {
   "cell_type": "code",
   "execution_count": 44,
   "metadata": {},
   "outputs": [
    {
     "data": {
      "text/plain": [
       "(-0.5, 608.5, -0.5, 192.5)"
      ]
     },
     "execution_count": 44,
     "metadata": {},
     "output_type": "execute_result"
    }
   ],
   "source": [
    "tfile_ds['objectsenum'].astype(np.int64).plot(x='y', y='z')\n",
    "plt.axis('equal')"
   ]
  },
  {
   "cell_type": "code",
   "execution_count": 46,
   "metadata": {},
   "outputs": [
    {
     "data": {
      "text/plain": [
       "<matplotlib.collections.QuadMesh at 0x7f8c98c4ccc0>"
      ]
     },
     "execution_count": 46,
     "metadata": {},
     "output_type": "execute_result"
    }
   ],
   "source": [
    "tfile_ds['rho01'].plot()"
   ]
  },
  {
   "cell_type": "markdown",
   "metadata": {},
   "source": [
    "## Closer look at the particle files"
   ]
  },
  {
   "cell_type": "code",
   "execution_count": 31,
   "metadata": {},
   "outputs": [
    {
     "name": "stdout",
     "output_type": "stream",
     "text": [
      "/home/jleland/Data/external/spice/marconi/restart_test/sprobe_control_2.13_hdf5/t-sprobe_control_2.13_hdf547.h5\n"
     ]
    }
   ],
   "source": [
    "pfile_name = hdf5_files[48]\n",
    "print(pfile_name)\n",
    "\n",
    "pfile_ds = xr.open_dataset(pfile_name)\n",
    "# tfile_ds = xr.open_dataset(tfile_name, engine='h5netcdf')"
   ]
  },
  {
   "cell_type": "code",
   "execution_count": 32,
   "metadata": {},
   "outputs": [],
   "source": [
    "pfile_ds = pfile_ds.load()"
   ]
  },
  {
   "cell_type": "code",
   "execution_count": 33,
   "metadata": {},
   "outputs": [
    {
     "name": "stdout",
     "output_type": "stream",
     "text": [
      "<xarray.Dataset>\n",
      "Dimensions:  (phony_dim_0: 1, phony_dim_1: 15153)\n",
      "Dimensions without coordinates: phony_dim_0, phony_dim_1\n",
      "Data variables:\n",
      "    count    (phony_dim_0) int32 568524\n",
      "    nproc    (phony_dim_0) int32 47\n",
      "    ntot     (phony_dim_0) int32 15153\n",
      "    stype    (phony_dim_1) int32 1 1 1 1 1 1 1 1 1 1 1 ... 1 1 1 1 1 1 1 1 1 1 1\n",
      "    ux       (phony_dim_1) float64 -18.02 -0.4697 4.11 ... -26.81 -18.11 -16.52\n",
      "    uy       (phony_dim_1) float64 30.17 -13.72 -20.34 ... 20.01 47.47 27.88\n",
      "    uz       (phony_dim_1) float64 -0.6151 -0.8843 1.762 ... 15.87 15.56 14.22\n",
      "    version  (phony_dim_0) int32 50\n",
      "    y        (phony_dim_1) float64 564.0 553.0 540.0 592.3 ... 566.1 564.4 572.5\n",
      "    z        (phony_dim_1) float64 280.1 280.6 280.9 280.9 ... 280.0 280.0 280.0\n",
      "phony_dim_0 1\n",
      "phony_dim_1 15153\n"
     ]
    }
   ],
   "source": [
    "print(pfile_ds)\n",
    "for dim, size in pfile_ds.dims.items():\n",
    "    print(dim, size)"
   ]
  },
  {
   "cell_type": "markdown",
   "metadata": {},
   "source": [
    "## Comparing the old and new versions with the control runs in each case"
   ]
  },
  {
   "cell_type": "code",
   "execution_count": 125,
   "metadata": {},
   "outputs": [],
   "source": [
    "def plot_raw_data_splopter(path_to_splopter, axes=None, label=None):\n",
    "    if label is None:\n",
    "        label = str(path_to_splopter).split('/')[-1]\n",
    "    print(label)\n",
    "    \n",
    "    splopter = spl.Splopter(path_to_splopter, reduce=desired_variables)\n",
    "    splopter.prepare(denormaliser_fl=False, homogenise_fl=True, find_se_temp_fl=False)\n",
    "\n",
    "    # Extract relevant arrays from the matlab file\n",
    "    probe_indices = splopter.parser.get_probe_obj_indices()\n",
    "    probe_current_e = 0.0\n",
    "    probe_current_i = 0.0\n",
    "\n",
    "    time = np.squeeze(splopter.tdata.t)[:-1]\n",
    "    for index in probe_indices:\n",
    "        probe_current_e += np.squeeze(splopter.tdata.objectscurrente)[index]\n",
    "        probe_current_i += np.squeeze(splopter.tdata.objectscurrenti)[index]\n",
    "    probe_bias = np.squeeze(splopter.tdata.diagnostics['ProbePot'])\n",
    "    probe_current_tot = probe_current_i + probe_current_e\n",
    "    \n",
    "    print(splopter.tdata.diagnostics)\n",
    "    \n",
    "    if axes is None:\n",
    "        fig, axes = plt.subplots(2)\n",
    "    \n",
    "    axes[0].set_title(label)\n",
    "    axes[0].plot(probe_bias, label=label)\n",
    "#     axes[0].plot(universal_probe_bias)\n",
    "    axes[0].legend()\n",
    "    axes[1].plot(time, probe_current_tot, label=label)\n",
    "#     axes[1].plot(time, probe_current_i)\n",
    "#     axes[1].plot(time, probe_current_e)\n",
    "    axes[1].legend()\n",
    "    \n",
    "    return splopter"
   ]
  },
  {
   "cell_type": "code",
   "execution_count": 128,
   "metadata": {},
   "outputs": [
    {
     "name": "stdout",
     "output_type": "stream",
     "text": [
      "vers. 2.11\n",
      "{'ProbePot': array([[-9.9 ],\n",
      "       [-9.9 ],\n",
      "       [-9.9 ],\n",
      "       ...,\n",
      "       [10.05],\n",
      "       [10.05],\n",
      "       [10.05]])}\n"
     ]
    },
    {
     "data": {
      "text/plain": [
       "<matplotlib.legend.Legend at 0x7f8c978335f8>"
      ]
     },
     "execution_count": 128,
     "metadata": {},
     "output_type": "execute_result"
    }
   ],
   "source": [
    "fig, axes = plt.subplots(1, 2)\n",
    "\n",
    "splopter = plot_raw_data_splopter(chosen_spl_path_old, axes=axes, label='vers. 2.11')\n",
    "\n",
    "axes[0].plot(probe_pot, label='vers. 2.13')\n",
    "axes[0].set_title('Probe bias diagnostic')\n",
    "axes[0].set_ylabel(r'$\\hat{V}$')\n",
    "axes[0].set_xlabel(r'arb units')\n",
    "axes[0].legend()\n",
    "\n",
    "axes[1].plot(tfile_ds['t'].values[:-1], total_current, label='vers. 2.13')\n",
    "axes[1].set_title('Combined objectscurrent for probe objects')\n",
    "axes[1].set_ylabel(r'$\\hat{I}$')\n",
    "axes[1].set_xlabel(r'$\\hat{t}$')\n",
    "axes[1].set_ylim(-350, 50)\n",
    "\n",
    "\n",
    "axes[1].legend()"
   ]
  },
  {
   "cell_type": "code",
   "execution_count": null,
   "metadata": {},
   "outputs": [],
   "source": []
  }
 ],
 "metadata": {
  "kernelspec": {
   "display_name": "magopter_kernel_3.6.5",
   "language": "python",
   "name": "magopter_kernel_3.6.5"
  },
  "language_info": {
   "codemirror_mode": {
    "name": "ipython",
    "version": 3
   },
   "file_extension": ".py",
   "mimetype": "text/x-python",
   "name": "python",
   "nbconvert_exporter": "python",
   "pygments_lexer": "ipython3",
   "version": "3.6.5"
  }
 },
 "nbformat": 4,
 "nbformat_minor": 4
}
