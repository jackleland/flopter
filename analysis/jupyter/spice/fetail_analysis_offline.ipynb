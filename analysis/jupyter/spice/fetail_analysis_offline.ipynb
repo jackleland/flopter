{
 "cells": [
  {
   "cell_type": "code",
   "execution_count": 1,
   "metadata": {
    "collapsed": true
   },
   "outputs": [],
   "source": [
    "%matplotlib tk\n",
    "import sys\n",
    "import numpy as np\n",
    "import matplotlib.pyplot as plt\n",
    "import scipy.io as sio\n",
    "sys.path.append('/home/jleland/Coding/Projects/flopter/')\n",
    "import flopter.core.splopter as spl\n",
    "import flopter.core.fitters as f\n",
    "import flopter.core.constants as c\n",
    "import flopter.core.normalisation as n\n",
    "import flopter.classes.spicedata as sd\n",
    "import flopter.analysis.spicerun as spr\n",
    "import pathlib as pth"
   ]
  },
  {
   "cell_type": "code",
   "execution_count": 2,
   "metadata": {},
   "outputs": [
    {
     "name": "stdout",
     "output_type": "stream",
     "text": [
      "<class 'flopter.classes.spicedata.Spice2TData'>\n",
      "['_ALL_CONV_TYPES', '_ALL_LABELS', '__class__', '__delattr__', '__dict__', '__dir__', '__doc__', '__eq__', '__format__', '__ge__', '__getattribute__', '__gt__', '__hash__', '__init__', '__init_subclass__', '__le__', '__lt__', '__module__', '__ne__', '__new__', '__reduce__', '__reduce_ex__', '__repr__', '__setattr__', '__sizeof__', '__str__', '__subclasshook__', '__weakref__', '_convert', 'alphaxz', 'alphayz', 'bx', 'by', 'bz', 'converter', 'count', 'deallocate', 'deltah', 'denormalise', 'diaghistories', 'diagm', 'diagnostics', 'dphiqn', 'dt', 'dz', 'edgecharge', 'edges', 'equipotm', 'esct', 'escy', 'escz', 'flag', 'flagm', 'floatconstant', 'fvarrays', 'fvbin', 'fvlimits', 'fvperparraycount', 'has_converted', 'histlimits', 'hpos', 'injrate', 'irel', 'itertime_lower', 'itertime_upper', 'ksi', 'm', 'matlab_data', 'mksb', 'mksmainionm', 'mksmainionq', 'mksn0', 'mkspar1', 'mkspar2', 'mkspar3', 'mkste', 'mu', 'na', 'nc', 'nodiagreg', 'normalise', 'np', 'npartproc', 'npc', 'nproc', 'ny', 'nz', 'nzmax', 'objects', 'objectscurrente', 'objectscurrenti', 'objectsenum', 'objectspowerfluxe', 'objectspowerfluxi', 'pchi', 'pot', 'potvac', 'q', 'reduce', 'rho', 'rho01', 'rho02', 'set_converter', 'sliceproc', 'snumber', 'solns01', 'solns02', 'solw01', 'solw02', 'surfacematrix', 't', 't_filename', 'tau', 'temp', 'timehistory_lower', 'timehistory_upper', 'totalenergy', 'version', 'yg', 'zg']\n",
      "No a-file given, continuing without\n",
      "<class 'flopter.classes.spicedata.Spice2TData'>\n",
      "['_ALL_CONV_TYPES', '_ALL_LABELS', '__class__', '__delattr__', '__dict__', '__dir__', '__doc__', '__eq__', '__format__', '__ge__', '__getattribute__', '__gt__', '__hash__', '__init__', '__init_subclass__', '__le__', '__lt__', '__module__', '__ne__', '__new__', '__reduce__', '__reduce_ex__', '__repr__', '__setattr__', '__sizeof__', '__str__', '__subclasshook__', '__weakref__', '_convert', 'alphaxz', 'alphayz', 'bx', 'by', 'bz', 'converter', 'count', 'deallocate', 'deltah', 'denormalise', 'diaghistories', 'diagm', 'diagnostics', 'dphiqn', 'dt', 'dz', 'edgecharge', 'edges', 'equipotm', 'esct', 'escy', 'escz', 'flag', 'flagm', 'floatconstant', 'fvarrays', 'fvbin', 'fvlimits', 'fvperparraycount', 'has_converted', 'histlimits', 'hpos', 'injrate', 'irel', 'itertime_lower', 'itertime_upper', 'ksi', 'm', 'matlab_data', 'mksb', 'mksmainionm', 'mksmainionq', 'mksn0', 'mkspar1', 'mkspar2', 'mkspar3', 'mkste', 'mu', 'na', 'nc', 'nodiagreg', 'normalise', 'np', 'npartproc', 'npc', 'nproc', 'ny', 'nz', 'nzmax', 'objects', 'objectscurrente', 'objectscurrenti', 'objectsenum', 'objectspowerfluxe', 'objectspowerfluxi', 'pchi', 'pot', 'potvac', 'q', 'reduce', 'rho', 'rho01', 'rho02', 'set_converter', 'sliceproc', 'snumber', 'solns01', 'solns02', 'solw01', 'solw02', 'surfacematrix', 't', 't_filename', 'tau', 'temp', 'timehistory_lower', 'timehistory_upper', 'totalenergy', 'version', 'yg', 'zg']\n",
      "<class 'flopter.classes.spicedata.Spice2TData'>\n",
      "['_ALL_CONV_TYPES', '_ALL_LABELS', '__class__', '__delattr__', '__dict__', '__dir__', '__doc__', '__eq__', '__format__', '__ge__', '__getattribute__', '__gt__', '__hash__', '__init__', '__init_subclass__', '__le__', '__lt__', '__module__', '__ne__', '__new__', '__reduce__', '__reduce_ex__', '__repr__', '__setattr__', '__sizeof__', '__str__', '__subclasshook__', '__weakref__', '_convert', 'alphaxz', 'alphayz', 'bx', 'by', 'bz', 'converter', 'count', 'deallocate', 'deltah', 'denormalise', 'diaghistories', 'diagm', 'diagnostics', 'dphiqn', 'dt', 'dz', 'edgecharge', 'edges', 'equipotm', 'esct', 'escy', 'escz', 'flag', 'flagm', 'floatconstant', 'fvarrays', 'fvbin', 'fvlimits', 'fvperparraycount', 'has_converted', 'histlimits', 'hpos', 'injrate', 'irel', 'itertime_lower', 'itertime_upper', 'ksi', 'm', 'matlab_data', 'mksb', 'mksmainionm', 'mksmainionq', 'mksn0', 'mkspar1', 'mkspar2', 'mkspar3', 'mkste', 'mu', 'na', 'nc', 'nodiagreg', 'normalise', 'np', 'npartproc', 'npc', 'nproc', 'ny', 'nz', 'nzmax', 'objects', 'objectscurrente', 'objectscurrenti', 'objectsenum', 'objectspowerfluxe', 'objectspowerfluxi', 'pchi', 'pot', 'potvac', 'q', 'reduce', 'rho', 'rho01', 'rho02', 'set_converter', 'sliceproc', 'snumber', 'solns01', 'solns02', 'solw01', 'solw02', 'surfacematrix', 't', 't_filename', 'tau', 'temp', 'timehistory_lower', 'timehistory_upper', 'totalenergy', 'version', 'yg', 'zg']\n",
      "<class 'flopter.classes.spicedata.Spice2TData'>\n",
      "['_ALL_CONV_TYPES', '_ALL_LABELS', '__class__', '__delattr__', '__dict__', '__dir__', '__doc__', '__eq__', '__format__', '__ge__', '__getattribute__', '__gt__', '__hash__', '__init__', '__init_subclass__', '__le__', '__lt__', '__module__', '__ne__', '__new__', '__reduce__', '__reduce_ex__', '__repr__', '__setattr__', '__sizeof__', '__str__', '__subclasshook__', '__weakref__', '_convert', 'alphaxz', 'alphayz', 'bx', 'by', 'bz', 'converter', 'count', 'deallocate', 'deltah', 'denormalise', 'diaghistories', 'diagm', 'diagnostics', 'dphiqn', 'dt', 'dz', 'edgecharge', 'edges', 'equipotm', 'esct', 'escy', 'escz', 'flag', 'flagm', 'floatconstant', 'fvarrays', 'fvbin', 'fvlimits', 'fvperparraycount', 'has_converted', 'histlimits', 'hpos', 'injrate', 'irel', 'itertime_lower', 'itertime_upper', 'ksi', 'm', 'matlab_data', 'mksb', 'mksmainionm', 'mksmainionq', 'mksn0', 'mkspar1', 'mkspar2', 'mkspar3', 'mkste', 'mu', 'na', 'nc', 'nodiagreg', 'normalise', 'np', 'npartproc', 'npc', 'nproc', 'ny', 'nz', 'nzmax', 'objects', 'objectscurrente', 'objectscurrenti', 'objectsenum', 'objectspowerfluxe', 'objectspowerfluxi', 'pchi', 'pot', 'potvac', 'q', 'reduce', 'rho', 'rho01', 'rho02', 'set_converter', 'sliceproc', 'snumber', 'solns01', 'solns02', 'solw01', 'solw02', 'surfacematrix', 't', 't_filename', 'tau', 'temp', 'timehistory_lower', 'timehistory_upper', 'totalenergy', 'version', 'yg', 'zg']\n"
     ]
    }
   ],
   "source": [
    "spl_t0_old = spl.Splopter('bin/data_local_m/', 'magnum/', 'fetail_T0_S1/', reduce_fl=True)\n",
    "spl_t0 = spl.Splopter('bin/data_local_m/', 'magnum/', 'fetail_T0_S/', reduce_fl=True)\n",
    "spl_t2 = spl.Splopter('bin/data_local_m/', 'magnum/', 'fetail_T2-5_S1/', reduce_fl=True)\n",
    "spl_t10 = spl.Splopter('bin/data_local_m/', 'magnum/', 'fetail_T10_S1/', reduce_fl=True)\n",
    "\n",
    "splopters = [spl_t0_old, spl_t0, spl_t2, spl_t10]"
   ]
  },
  {
   "cell_type": "code",
   "execution_count": 10,
   "metadata": {},
   "outputs": [
    {
     "name": "stdout",
     "output_type": "stream",
     "text": [
      "Cannot homogenise, data has already been homogenised!\n"
     ]
    }
   ],
   "source": [
    "for splopter in splopters:\n",
    "    splopter.prepare(homogenise=True, make_denormaliser=False)"
   ]
  },
  {
   "cell_type": "code",
   "execution_count": 23,
   "metadata": {
    "collapsed": false
   },
   "outputs": [
    {
     "data": {
      "image/png": "[encoded data removed]",
      "text/plain": [
       "<Figure size 432x288 with 1 Axes>"
      ]
     },
     "metadata": {},
     "output_type": "display_data"
    }
   ],
   "source": [
    "splopter = spl_t2\n",
    "\n",
    "plt.figure()\n",
    "plt.plot(splopter.iv_data['V'][:-1])\n",
    "plt.plot(splopter.iv_data['I'][:-1])\n",
    "# plt.plot(splopter.iv_data['V'], splopter.iv_data['I'])\n",
    "\n",
    "# plt.ylim([-25,10])\n",
    "\n",
    "plt.show()"
   ]
  },
  {
   "cell_type": "code",
   "execution_count": 26,
   "metadata": {},
   "outputs": [
    {
     "ename": "AttributeError",
     "evalue": "'Spice2TData' object has no attribute 't_dict'",
     "output_type": "error",
     "traceback": [
      "\u001b[0;31m---------------------------------------------------------------------------\u001b[0m",
      "\u001b[0;31mAttributeError\u001b[0m                            Traceback (most recent call last)",
      "\u001b[0;32m<ipython-input-26-125f58e86bc4>\u001b[0m in \u001b[0;36m<module>\u001b[0;34m\u001b[0m\n\u001b[1;32m      2\u001b[0m \u001b[0;31m# plt.contour(splopter.tdata.pot)\u001b[0m\u001b[0;34m\u001b[0m\u001b[0;34m\u001b[0m\u001b[0;34m\u001b[0m\u001b[0m\n\u001b[1;32m      3\u001b[0m \u001b[0;34m\u001b[0m\u001b[0m\n\u001b[0;32m----> 4\u001b[0;31m \u001b[0msplopter\u001b[0m\u001b[0;34m.\u001b[0m\u001b[0mplot_2d_variable\u001b[0m\u001b[0;34m(\u001b[0m\u001b[0mplot_obj_fl\u001b[0m\u001b[0;34m=\u001b[0m\u001b[0;32mTrue\u001b[0m\u001b[0;34m,\u001b[0m \u001b[0mshow_fl\u001b[0m\u001b[0;34m=\u001b[0m\u001b[0;32mTrue\u001b[0m\u001b[0;34m)\u001b[0m\u001b[0;34m\u001b[0m\u001b[0;34m\u001b[0m\u001b[0m\n\u001b[0m",
      "\u001b[0;32m~/Coding/Projects/flopter/flopter/core/splopter.py\u001b[0m in \u001b[0;36mplot_2d_variable\u001b[0;34m(self, t_dict_label, plot_obj_fl, show_fl)\u001b[0m\n\u001b[1;32m    478\u001b[0m \u001b[0;34m\u001b[0m\u001b[0m\n\u001b[1;32m    479\u001b[0m     \u001b[0;32mdef\u001b[0m \u001b[0mplot_2d_variable\u001b[0m\u001b[0;34m(\u001b[0m\u001b[0mself\u001b[0m\u001b[0;34m,\u001b[0m \u001b[0mt_dict_label\u001b[0m\u001b[0;34m=\u001b[0m\u001b[0msd\u001b[0m\u001b[0;34m.\u001b[0m\u001b[0mPOT\u001b[0m\u001b[0;34m,\u001b[0m \u001b[0mplot_obj_fl\u001b[0m\u001b[0;34m=\u001b[0m\u001b[0;32mFalse\u001b[0m\u001b[0;34m,\u001b[0m \u001b[0mshow_fl\u001b[0m\u001b[0;34m=\u001b[0m\u001b[0;32mTrue\u001b[0m\u001b[0;34m)\u001b[0m\u001b[0;34m:\u001b[0m\u001b[0;34m\u001b[0m\u001b[0;34m\u001b[0m\u001b[0m\n\u001b[0;32m--> 480\u001b[0;31m         \u001b[0mplasma_parameter\u001b[0m \u001b[0;34m=\u001b[0m \u001b[0mnp\u001b[0m\u001b[0;34m.\u001b[0m\u001b[0mflip\u001b[0m\u001b[0;34m(\u001b[0m\u001b[0mself\u001b[0m\u001b[0;34m.\u001b[0m\u001b[0mtdata\u001b[0m\u001b[0;34m.\u001b[0m\u001b[0mt_dict\u001b[0m\u001b[0;34m[\u001b[0m\u001b[0mt_dict_label\u001b[0m\u001b[0;34m]\u001b[0m\u001b[0;34m,\u001b[0m \u001b[0;36m0\u001b[0m\u001b[0;34m)\u001b[0m\u001b[0;34m\u001b[0m\u001b[0;34m\u001b[0m\u001b[0m\n\u001b[0m\u001b[1;32m    481\u001b[0m         \u001b[0mobjects_raw\u001b[0m \u001b[0;34m=\u001b[0m \u001b[0mnp\u001b[0m\u001b[0;34m.\u001b[0m\u001b[0mflip\u001b[0m\u001b[0;34m(\u001b[0m\u001b[0mself\u001b[0m\u001b[0;34m.\u001b[0m\u001b[0mtdata\u001b[0m\u001b[0;34m.\u001b[0m\u001b[0mobjectsenum\u001b[0m\u001b[0;34m,\u001b[0m \u001b[0;36m0\u001b[0m\u001b[0;34m)\u001b[0m\u001b[0;34m\u001b[0m\u001b[0;34m\u001b[0m\u001b[0m\n\u001b[1;32m    482\u001b[0m         \u001b[0mprobe_obj_indices\u001b[0m \u001b[0;34m=\u001b[0m \u001b[0mself\u001b[0m\u001b[0;34m.\u001b[0m\u001b[0mparser\u001b[0m\u001b[0;34m.\u001b[0m\u001b[0mget_probe_obj_indices\u001b[0m\u001b[0;34m(\u001b[0m\u001b[0;34m)\u001b[0m\u001b[0;34m\u001b[0m\u001b[0;34m\u001b[0m\u001b[0m\n",
      "\u001b[0;31mAttributeError\u001b[0m: 'Spice2TData' object has no attribute 't_dict'"
     ]
    }
   ],
   "source": [
    "# plt.figure()\n",
    "# plt.contour(splopter.tdata.pot)\n",
    "\n",
    "splopter.plot_2d_variable(plot_obj_fl=True, show_fl=True)"
   ]
  },
  {
   "cell_type": "code",
   "execution_count": null,
   "metadata": {},
   "outputs": [
    {
     "data": {
      "image/png": "[encoded data removed]",
      "text/plain": [
       "<Figure size 432x288 with 1 Axes>"
      ]
     },
     "metadata": {},
     "output_type": "display_data"
    }
   ],
   "source": [
    "plt.figure()\n",
    "plt.imshow(splopter.tdata.pot)\n",
    "plt.show()"
   ]
  },
  {
   "cell_type": "code",
   "execution_count": 16,
   "metadata": {},
   "outputs": [
    {
     "name": "stdout",
     "output_type": "stream",
     "text": [
      "t: (1890, 1), I_e: (4, 1890), I_i: (4, 1890)\n",
      "t: (1847, 1), I_e: (4, 1847), I_i: (4, 1847)\n",
      "t: (1359, 1), I_e: (4, 1359), I_i: (4, 1359)\n",
      "t: (1789, 1), I_e: (4, 1789), I_i: (4, 1789)\n",
      "t: (1107, 1), I_e: (4, 1107), I_i: (4, 1107)\n",
      "t: (1319, 1), I_e: (4, 1319), I_i: (4, 1319)\n",
      "t: (1523, 1), I_e: (4, 1523), I_i: (4, 1523)\n",
      "t: (1727, 1), I_e: (4, 1727), I_i: (4, 1727)\n",
      "t: (1927, 1), I_e: (4, 1927), I_i: (4, 1927)\n",
      "t: (1027, 1), I_e: (4, 1027), I_i: (4, 1027)\n",
      "t: (1064, 1), I_e: (4, 1064), I_i: (4, 1064)\n",
      "t: (1101, 1), I_e: (4, 1101), I_i: (4, 1101)\n",
      "t: (1138, 1), I_e: (4, 1138), I_i: (4, 1138)\n"
     ]
    }
   ],
   "source": [
    "t0_dir = pth.Path('/home/jleland/Spice/spice2/bin/data_local_m/magnum/fetail_T0_S/')\n",
    "backup_lst = list(t0_dir.glob('backup*'))\n",
    "backup_lst.append('.')\n",
    "mat_files = []\n",
    "for lnk in backup_lst:\n",
    "    backup_dir = t0_dir / lnk\n",
    "    t_file = list(backup_dir.glob('t-*[!0-9][!0-9].mat'))\n",
    "    if len(t_file) > 0:\n",
    "        mat_files.append(t_file[0])\n",
    "\n",
    "plt.figure()\n",
    "for i in range(len(mat_files)):\n",
    "    mat_dict = sio.loadmat(str(mat_files[i]), variable_names=[sd.OBJECTSCURRENTE, sd.OBJECTSCURRENTI, sd.T])\n",
    "    t = mat_dict[sd.T][:-1]\n",
    "    e_current = mat_dict[sd.OBJECTSCURRENTE]\n",
    "    i_current = mat_dict[sd.OBJECTSCURRENTI]\n",
    "    tot_current = e_current[2] + e_current[3] + i_current[2] + i_current[3]\n",
    "    print(f't: {t.shape}, I_e: {e_current.shape}, I_i: {i_current.shape}')\n",
    "    plt.plot(t, tot_current != 0)\n",
    "    plt.plot(t, tot_current != 0)\n",
    "\n",
    "# for i in range(len(mat_files) - 1):\n",
    "#     mat_dict = sio.loadmat(str(mat_files[i + 1]), variable_names=[sd.T, sd.OBJECTSCURRENTE, sd.OBJECTSCURRENTI])\n",
    "#     print(f't: {mat_dict[sd.T][:-1].shape}, I_e: {mat_dict[sd.OBJECTSCURRENTE].shape}, I_i: {mat_dict[sd.OBJECTSCURRENTI].shape}')\n",
    "#     # e_current += mat_dict[sd.OBJECTSCURRENTE]\n",
    "#     # i_current += mat_dict[sd.OBJECTSCURRENTI]\n",
    "# plt.ylim([-100, 100])\n",
    "plt.show()"
   ]
  },
  {
   "cell_type": "code",
   "execution_count": null,
   "metadata": {},
   "outputs": [],
   "source": []
  }
 ],
 "metadata": {
  "kernelspec": {
   "display_name": "magopter_kernel_3.6.5",
   "language": "python",
   "name": "magopter_kernel_3.6.5"
  },
  "language_info": {
   "codemirror_mode": {
    "name": "ipython",
    "version": 3
   },
   "file_extension": ".py",
   "mimetype": "text/x-python",
   "name": "python",
   "nbconvert_exporter": "python",
   "pygments_lexer": "ipython3",
   "version": "3.6.5"
  }
 },
 "nbformat": 4,
 "nbformat_minor": 2
}
