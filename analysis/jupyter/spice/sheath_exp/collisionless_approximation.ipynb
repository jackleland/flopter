{
 "cells": [
  {
   "cell_type": "code",
   "execution_count": 4,
   "metadata": {},
   "outputs": [],
   "source": [
    "%matplotlib tk\n",
    "import numpy as np\n",
    "import matplotlib.pyplot as plt\n",
    "import sys\n",
    "sys.path.append('/home/jleland/coding/projects/flopter')\n",
    "import flopter.core.lputils as lpu\n",
    "import flopter.core.constants as c\n",
    "import flopter.spice.utils as spu"
   ]
  },
  {
   "cell_type": "code",
   "execution_count": 36,
   "metadata": {},
   "outputs": [],
   "source": [
    "# T_e = 5\n",
    "T_e = 10 #eV\n",
    "n_0 = 1e18\n",
    "B = 0.8"
   ]
  },
  {
   "cell_type": "code",
   "execution_count": 6,
   "metadata": {},
   "outputs": [],
   "source": [
    "coul_log = 12"
   ]
  },
  {
   "cell_type": "code",
   "execution_count": 33,
   "metadata": {},
   "outputs": [],
   "source": [
    "lambda_D = lpu.debye_length(T_e, n_0)\n",
    "v_therm = lpu.thermal_velocity(T_e)\n",
    "v_therm_e = lpu.thermal_velocity(T_e, mass=1/1836)\n",
    "rho_L = lpu.ion_larmor_radius(T_e, B)\n",
    "omega_i = lpu.ion_gyrofrequency(B)\n",
    "omega_e = lpu.electron_gyrofrequency(B)"
   ]
  },
  {
   "cell_type": "code",
   "execution_count": 34,
   "metadata": {},
   "outputs": [
    {
     "name": "stdout",
     "output_type": "stream",
     "text": [
      "lambda_D = 1.6622799720325184e-05\n",
      "v_i,th = 21884.73578537274\n",
      "v_e,th = 937729.6457328595\n",
      "rho_L = 0.0002855871810057382\n"
     ]
    }
   ],
   "source": [
    "print(f'lambda_D = {lambda_D}')\n",
    "print(f'v_i,th = {v_therm}')\n",
    "print(f'v_e,th = {v_therm_e}')\n",
    "print(f'rho_L = {rho_L}')"
   ]
  },
  {
   "cell_type": "code",
   "execution_count": 6,
   "metadata": {},
   "outputs": [
    {
     "data": {
      "text/plain": [
       "17.180450093286176"
      ]
     },
     "execution_count": 6,
     "metadata": {},
     "output_type": "execute_result"
    }
   ],
   "source": [
    "rho_L / lambda_D "
   ]
  },
  {
   "cell_type": "code",
   "execution_count": 11,
   "metadata": {},
   "outputs": [],
   "source": [
    "def coulomb_logarithm_chen(temp, dens):\n",
    "    return np.log(12 * np.pi * dens * (lpu.debye_length(temp, dens)**3))\n",
    "\n",
    "def coulomb_logarithm_nrl_ei(temp, dens, z=1):\n",
    "    n_e = dens * 1e-6\n",
    "    return 23 - np.log(np.sqrt(n_e) * z * np.float_power(temp, -3/2))\n",
    "\n",
    "def coulomb_logarithm_nrl_ee(temp, dens):\n",
    "    n_e = dens * 1e-6\n",
    "    return 23.5 - np.log(np.sqrt(n_e) * np.float_power(temp, -5/4)) - np.sqrt(1e-5 + ((np.log(temp) - 2)**2)/16)\n",
    "\n",
    "def coulomb_logarithm_nrl_ii(temp, dens, z_1=1, z_2=1, mu_1=1, mu_2=1, n_2=None, T_2=None):\n",
    "    n_1 = dens * 1e-6\n",
    "    T_1 = temp\n",
    "    if n_2 is None:\n",
    "        n_2 = n_1\n",
    "    if T_2 is None:\n",
    "        T_2 = T_1\n",
    "    return 23 - np.log(((z_1 * z_2 * (mu_1 + mu_2)) / (mu_1*T_2 + mu_2*T_1)) \n",
    "                       * np.sqrt((n_1 * z_1**2 / T_1) + (n_2 * z_2**2 / T_2)))"
   ]
  },
  {
   "cell_type": "code",
   "execution_count": 12,
   "metadata": {},
   "outputs": [
    {
     "name": "stdout",
     "output_type": "stream",
     "text": [
      "chen: 13.101682996878063 \n",
      "nrl_ee: 12.487008466771838 \n",
      "nrl_ei: 12.638367081526795 \n",
      "nrl_ii: 12.291793491246821 \n",
      "\n"
     ]
    }
   ],
   "source": [
    "print(\n",
    "    f'chen: {coulomb_logarithm_chen(T_e, n_0)} \\n'\n",
    "    f'nrl_ee: {coulomb_logarithm_nrl_ee(T_e, n_0)} \\n'\n",
    "    f'nrl_ei: {coulomb_logarithm_nrl_ei(T_e, n_0)} \\n'\n",
    "    f'nrl_ii: {coulomb_logarithm_nrl_ii(T_e, n_0)} \\n'\n",
    ")"
   ]
  },
  {
   "cell_type": "code",
   "execution_count": 39,
   "metadata": {},
   "outputs": [],
   "source": [
    "def collision_freq(temp, dens, mu=1, coulomb_log=10):\n",
    "    v_therm = lpu.thermal_velocity(temp, mass=mu)\n",
    "    m = c.PROTON_MASS * mu\n",
    "    if coulomb_log is None:\n",
    "        coulomb_log = coulomb_logarithm_chen(temp, dens)\n",
    "    return coulomb_log * ((np.pi * c.ELEM_CHARGE**4 * dens) \n",
    "                          / ((4 * np.pi * c.EPSILON_0)**2 * (m**2) * np.float_power(v_therm, 3)))\n",
    "\n",
    "def collision_freq_AP(temp, dens):\n",
    "    return coulomb_logarithm_chen(temp, dens) * ((np.pi * c.ELEM_CHARGE**4 * dens) \n",
    "                                                 / ((4 * np.pi * c.EPSILON_0)**2 * np.float_power(c.BOLTZMANN * temp, 3/2)))"
   ]
  },
  {
   "cell_type": "code",
   "execution_count": 56,
   "metadata": {},
   "outputs": [],
   "source": [
    "def collision_time(temp, dens, coulomb_log=13, mode=None):\n",
    "    if mode is None:\n",
    "        mode = 'e'\n",
    "    if coulomb_log is None:\n",
    "        coulomb_log = coulomb_logarithm_nrl_ee(temp, dens)\n",
    "    T_keV = temp / 1000\n",
    "    if mode == 'e':\n",
    "        return 1.09e16 * (np.float_power(T_keV, 3/2) / (dens * coulomb_log))\n",
    "    elif mode == 'i':\n",
    "        return 6.60e17 * (np.float_power(T_keV, 3/2) / (dens * 1.1 * coulomb_log))\n",
    "\n",
    "def mean_free_path(temp, dens, coulomb_log=None):\n",
    "    if coulomb_log is None:\n",
    "        coulomb_log = coulomb_logarithm_nrl_ee(temp, dens)\n",
    "    T_keV = temp / 1000\n",
    "    return 1.44e23 * (T_keV**2 / (dens * coulomb_log))"
   ]
  },
  {
   "cell_type": "code",
   "execution_count": 47,
   "metadata": {},
   "outputs": [
    {
     "name": "stdout",
     "output_type": "stream",
     "text": [
      "1131809.136026031, 26414.163201636664\n"
     ]
    }
   ],
   "source": [
    "v_coll_e = collision_freq(T_e, n_0, mu=1/1836, coulomb_log=None)\n",
    "v_coll_i = collision_freq(T_e, n_0, mu=1, coulomb_log=None)\n",
    "print(f'{v_coll_e}, {v_coll_i}')"
   ]
  },
  {
   "cell_type": "code",
   "execution_count": 49,
   "metadata": {},
   "outputs": [
    {
     "name": "stdout",
     "output_type": "stream",
     "text": [
      "0.8285227746308739, 0.8285227746308741\n"
     ]
    }
   ],
   "source": [
    "L_mfp_e = (v_therm_e / v_coll_e) # / lambda_D\n",
    "L_mfp_i = (v_therm / v_coll_i)\n",
    "print(f'{L_mfp_e}, {L_mfp_i}')"
   ]
  },
  {
   "cell_type": "code",
   "execution_count": 42,
   "metadata": {},
   "outputs": [],
   "source": [
    "L = 550"
   ]
  },
  {
   "cell_type": "code",
   "execution_count": 21,
   "metadata": {},
   "outputs": [
    {
     "data": {
      "text/plain": [
       "3499.2458223620306"
      ]
     },
     "execution_count": 21,
     "metadata": {},
     "output_type": "execute_result"
    }
   ],
   "source": [
    "L_traversed = np.sqrt(L**2 + (2*np.pi*L)**2)\n",
    "L_traversed"
   ]
  },
  {
   "cell_type": "code",
   "execution_count": 22,
   "metadata": {},
   "outputs": [
    {
     "data": {
      "text/plain": [
       "140705601817.9127"
      ]
     },
     "execution_count": 22,
     "metadata": {},
     "output_type": "execute_result"
    }
   ],
   "source": [
    "omega_e"
   ]
  },
  {
   "cell_type": "code",
   "execution_count": 53,
   "metadata": {},
   "outputs": [
    {
     "name": "stdout",
     "output_type": "stream",
     "text": [
      "8.729072322650459e-07, 4.804993939073647e-05\n"
     ]
    }
   ],
   "source": [
    "tau_e = collision_time(T_e, n_0, coulomb_log=None, mode='e')\n",
    "tau_i = collision_time(T_e, n_0, coulomb_log=None, mode='i')\n",
    "print(f'{tau_e}, {tau_i}')"
   ]
  },
  {
   "cell_type": "code",
   "execution_count": 59,
   "metadata": {},
   "outputs": [
    {
     "name": "stdout",
     "output_type": "stream",
     "text": [
      "0.8185509896695524\n",
      "1.0515602280694416\n",
      "1.1531985453776754\n"
     ]
    }
   ],
   "source": [
    "print(v_therm_e * tau_e)\n",
    "print(v_therm * tau_i)\n",
    "print(mean_free_path(T_e, n_0))"
   ]
  },
  {
   "cell_type": "markdown",
   "metadata": {},
   "source": [
    "## Try and recreate that plot in Ales' thesis"
   ]
  },
  {
   "cell_type": "code",
   "execution_count": 54,
   "metadata": {},
   "outputs": [],
   "source": [
    "def calc_L(temp, dens, AP_fl=False, mu=1):\n",
    "    if AP_fl:\n",
    "        v_coll = collision_freq_AP(temp, dens)\n",
    "    else:\n",
    "        v_coll = collision_freq(temp, dens, mu=mu)\n",
    "        \n",
    "    lambda_D = lpu.debye_length(temp, dens)\n",
    "    v_th = lpu.thermal_velocity(temp, mass=mu)\n",
    "    L_mfp = (v_therm / v_coll)\n",
    "    return L_mfp * np.sqrt(1 + (2 * np.pi)) / lambda_D"
   ]
  },
  {
   "cell_type": "code",
   "execution_count": 22,
   "metadata": {},
   "outputs": [
    {
     "data": {
      "text/plain": [
       "array([1.00000000e+17, 1.12201845e+17, 1.25892541e+17, 1.41253754e+17,\n",
       "       1.58489319e+17, 1.77827941e+17, 1.99526231e+17, 2.23872114e+17,\n",
       "       2.51188643e+17, 2.81838293e+17, 3.16227766e+17, 3.54813389e+17,\n",
       "       3.98107171e+17, 4.46683592e+17, 5.01187234e+17, 5.62341325e+17,\n",
       "       6.30957344e+17, 7.07945784e+17, 7.94328235e+17, 8.91250938e+17,\n",
       "       1.00000000e+18, 1.12201845e+18, 1.25892541e+18, 1.41253754e+18,\n",
       "       1.58489319e+18, 1.77827941e+18, 1.99526231e+18, 2.23872114e+18,\n",
       "       2.51188643e+18, 2.81838293e+18, 3.16227766e+18, 3.54813389e+18,\n",
       "       3.98107171e+18, 4.46683592e+18, 5.01187234e+18, 5.62341325e+18,\n",
       "       6.30957344e+18, 7.07945784e+18, 7.94328235e+18, 8.91250938e+18,\n",
       "       1.00000000e+19, 1.12201845e+19, 1.25892541e+19, 1.41253754e+19,\n",
       "       1.58489319e+19, 1.77827941e+19, 1.99526231e+19, 2.23872114e+19,\n",
       "       2.51188643e+19, 2.81838293e+19, 3.16227766e+19, 3.54813389e+19,\n",
       "       3.98107171e+19, 4.46683592e+19, 5.01187234e+19, 5.62341325e+19,\n",
       "       6.30957344e+19, 7.07945784e+19, 7.94328235e+19, 8.91250938e+19,\n",
       "       1.00000000e+20])"
      ]
     },
     "execution_count": 22,
     "metadata": {},
     "output_type": "execute_result"
    }
   ],
   "source": [
    "n_0_arr = np.logspace(17, 20, 61)\n",
    "n_0_arr"
   ]
  },
  {
   "cell_type": "code",
   "execution_count": 62,
   "metadata": {},
   "outputs": [
    {
     "data": {
      "text/plain": [
       "(0, 100000)"
      ]
     },
     "execution_count": 62,
     "metadata": {},
     "output_type": "execute_result"
    }
   ],
   "source": [
    "fig, axes = plt.subplots(1, 2)\n",
    "\n",
    "for i, ax in enumerate(axes):\n",
    "    for temp in [1, 2, 5, 10, 20 ,50]:\n",
    "        ax.plot(n_0_arr, calc_L(temp, n_0_arr, AP_fl=i==1, mu=200/1836), label=temp)\n",
    "\n",
    "    ax.set_xscale('log')\n",
    "#     ax.set_yscale('log')\n",
    "    \n",
    "    ax.set_xlim(1e17, 1e20)\n",
    "    ax.legend()\n",
    "\n",
    "axes[0].set_ylim(0, 100000)"
   ]
  },
  {
   "cell_type": "code",
   "execution_count": 49,
   "metadata": {},
   "outputs": [],
   "source": [
    "fig, ax = plt.subplots()\n",
    "for temp in [1, 2, 5, 10, 20 ,50]:\n",
    "    temp_K = temp * c.ELEM_CHARGE / c.BOLTZMANN\n",
    "    ax.plot(n_0_arr, calc_L(temp_K, n_0_arr, AP_fl=True), label=temp)\n",
    "\n",
    "    ax.set_xscale('log')\n",
    "#     ax.set_yscale('log')\n",
    "    \n",
    "    ax.set_xlim(1e17, 1e20)\n",
    "    ax.legend()"
   ]
  },
  {
   "cell_type": "code",
   "execution_count": 47,
   "metadata": {},
   "outputs": [
    {
     "data": {
      "text/plain": [
       "58022.61027303315"
      ]
     },
     "execution_count": 47,
     "metadata": {},
     "output_type": "execute_result"
    }
   ],
   "source": [
    "5 *c.ELEM_CHARGE / c.BOLTZMANN"
   ]
  },
  {
   "cell_type": "code",
   "execution_count": 51,
   "metadata": {},
   "outputs": [
    {
     "data": {
      "text/plain": [
       "8333333333.333333"
      ]
     },
     "execution_count": 51,
     "metadata": {},
     "output_type": "execute_result"
    }
   ],
   "source": [
    "5e12/600"
   ]
  },
  {
   "cell_type": "code",
   "execution_count": 52,
   "metadata": {},
   "outputs": [
    {
     "data": {
      "text/plain": [
       "456.6666666666667"
      ]
     },
     "execution_count": 52,
     "metadata": {},
     "output_type": "execute_result"
    }
   ],
   "source": [
    "2.74e5 / 600"
   ]
  },
  {
   "cell_type": "code",
   "execution_count": null,
   "metadata": {},
   "outputs": [],
   "source": []
  }
 ],
 "metadata": {
  "kernelspec": {
   "display_name": "python3.6-codac",
   "language": "python",
   "name": "python3.6-codac"
  },
  "language_info": {
   "codemirror_mode": {
    "name": "ipython",
    "version": 3
   },
   "file_extension": ".py",
   "mimetype": "text/x-python",
   "name": "python",
   "nbconvert_exporter": "python",
   "pygments_lexer": "ipython3",
   "version": "3.6.9"
  }
 },
 "nbformat": 4,
 "nbformat_minor": 4
}
