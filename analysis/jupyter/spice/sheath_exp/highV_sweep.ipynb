{
 "cells": [
  {
   "cell_type": "markdown",
   "metadata": {},
   "source": [
    "# Analysis of the (danger) High Voltage sweeps\n",
    "And compared to the fixed wall potential and piecewise sims."
   ]
  },
  {
   "cell_type": "code",
   "execution_count": 1,
   "metadata": {
    "pycharm": {
     "is_executing": false
    }
   },
   "outputs": [],
   "source": [
    "%matplotlib tk\n",
    "import numpy as np\n",
    "import matplotlib.pyplot as plt\n",
    "import matplotlib as mpl\n",
    "import xarray as xr\n",
    "import pandas as pd\n",
    "import scipy.io as sio\n",
    "import sys\n",
    "import os\n",
    "import glob\n",
    "import copy\n",
    "import pathlib as pth\n",
    "import importlib\n",
    "import math\n",
    "sys.path.append('/home/jleland/Coding/Projects/flopter')\n",
    "import flopter.spice.splopter as spl\n",
    "import flopter.spice.tdata as td\n",
    "import flopter.core.ivdata as iv\n",
    "import flopter.core.fitters as fts\n",
    "import flopter.core.fitdata as fd\n",
    "import flopter.core.lputils as lpu\n",
    "import flopter.core.constants as c\n",
    "import flopter.spice.inputparser as inp\n",
    "import flopter.spice.normalise as nrm\n",
    "import flopter.spice.utils as spu"
   ]
  },
  {
   "cell_type": "code",
   "execution_count": 45,
   "metadata": {},
   "outputs": [
    {
     "data": {
      "text/plain": [
       "<module 'flopter.spice.splopter' from '/home/jleland/coding/projects/flopter/flopter/spice/splopter.py'>"
      ]
     },
     "execution_count": 45,
     "metadata": {},
     "output_type": "execute_result"
    }
   ],
   "source": [
    "importlib.reload(lpu)\n",
    "importlib.reload(spl)"
   ]
  },
  {
   "cell_type": "markdown",
   "metadata": {},
   "source": [
    "# Preamble of necessary stuff\n",
    "\n",
    "This bit creates all teh necessary variables for plotting to commence, including loading the dataset, creating a denormaliser, extracting relevant probe dimensions from an input file and defining a few functions for ease of manipulation. "
   ]
  },
  {
   "cell_type": "code",
   "execution_count": 3,
   "metadata": {
    "pycharm": {
     "is_executing": false
    }
   },
   "outputs": [],
   "source": [
    "spice_dir = pth.Path('/home/jleland/data/external_big/spice/')\n",
    "os.chdir(spice_dir)"
   ]
  },
  {
   "cell_type": "code",
   "execution_count": 18,
   "metadata": {},
   "outputs": [],
   "source": [
    "lowsweep_ds = xr.load_dataset('new_sheath_exp_ivs.nc')\n",
    "piecewise_ds = xr.load_dataset('piecewise_sheath_exp_ivs.nc')"
   ]
  },
  {
   "cell_type": "code",
   "execution_count": 4,
   "metadata": {},
   "outputs": [],
   "source": [
    "skippable_scans = set(['marconi/spice2/piecewise/flat_flush_piecewise']) \n",
    "single_sims = set()"
   ]
  },
  {
   "cell_type": "code",
   "execution_count": 5,
   "metadata": {
    "pycharm": {
     "is_executing": false
    }
   },
   "outputs": [],
   "source": [
    "# scans_searchstr = '*/*/sheath_exp/*'\n",
    "# scans_searchstr = '*/*/new_sheath_exp/*'\n",
    "# scans_searchstr = '*/*/piecewise/*'\n",
    "scans_searchstr = '*/*/sheath_exp_f*p/*'\n",
    "# angles_search_str = '/*[!.{yml, inp}]/backup*'\n",
    "angles_search_str = '/*[!.{yml, inp}]'\n",
    "\n",
    "non_standard_variables = {'t', 'ProbePot', 'npartproc', 'Nz', 'Nzmax', 'Ny', 'count', 'Npc', 'snumber', 'nproc'}\n",
    "desired_variables = (td.DEFAULT_REDUCED_DATASET | non_standard_variables) - {td.OBJECTSCURRENTFLUXE, td.OBJECTSCURRENTFLUXI}\n",
    "\n",
    "all_run_dirs = {}\n",
    "scans = glob.glob(scans_searchstr)\n",
    "scans = set(scans) - skippable_scans\n",
    "for scan in scans:\n",
    "    if scan in single_sims:\n",
    "        all_run_dirs[scan] = [scan]\n",
    "    else:\n",
    "        all_run_dirs[scan] = glob.glob(scan + angles_search_str)\n",
    "\n",
    "\n",
    "\n",
    "scans = list(scans)\n",
    "scans.sort()"
   ]
  },
  {
   "cell_type": "code",
   "execution_count": 6,
   "metadata": {},
   "outputs": [
    {
     "name": "stdout",
     "output_type": "stream",
     "text": [
      "[0]: marconi/spice2/sheath_exp_flp/flat_10_highV\n",
      "\t[0,0]: flat_10_highV/alpha_yz_-10.0\n",
      "[1]: marconi/spice2/sheath_exp_flp/flat_8-12_highV\n",
      "\t[1,0]: flat_8-12_highV/alpha_yz_-12.0\n",
      "\t[1,1]: flat_8-12_highV/alpha_yz_-8.0\n",
      "[2]: marconi/spice2/sheath_exp_fwp/flat_10\n",
      "\t[2,0]: flat_10/alpha_yz_-10.0\n",
      "[3]: marconi/spice2/sheath_exp_fwp/flat_10_highV\n",
      "\t[3,0]: flat_10_highV/alpha_yz_-10.0\n",
      "[4]: marconi/spice2/sheath_exp_fwp/flat_8-12_highV\n",
      "\t[4,0]: flat_8-12_highV/alpha_yz_-12.0\n",
      "\t[4,1]: flat_8-12_highV/alpha_yz_-8.0\n"
     ]
    }
   ],
   "source": [
    "for i, scan in enumerate(scans):\n",
    "    print(f\"[{i}]: {scan}\")\n",
    "    for j, run in enumerate(all_run_dirs[scan]):\n",
    "        print(f\"\\t[{i},{j}]: {'/'.join(run.split('/')[-2:])}\")"
   ]
  },
  {
   "cell_type": "code",
   "execution_count": 68,
   "metadata": {},
   "outputs": [
    {
     "name": "stdout",
     "output_type": "stream",
     "text": [
      "/home/jleland/data/external_big/spice/marconi/spice2/sheath_exp_flp/flat_10_highV/alpha_yz_-10.0\n"
     ]
    }
   ],
   "source": [
    "spl_path = spice_dir / all_run_dirs[scans[0]][0]\n",
    "print(spl_path)"
   ]
  },
  {
   "cell_type": "markdown",
   "metadata": {},
   "source": [
    "## Start with the one"
   ]
  },
  {
   "cell_type": "code",
   "execution_count": 69,
   "metadata": {},
   "outputs": [],
   "source": [
    "bups = list(spl_path.glob('backup*'))\n",
    "bups.sort()\n",
    "final_state_path = spl_path / bups[-1].name"
   ]
  },
  {
   "cell_type": "code",
   "execution_count": 70,
   "metadata": {},
   "outputs": [
    {
     "name": "stdout",
     "output_type": "stream",
     "text": [
      "Spice data directory is not valid, attempting to auto-fix.\n",
      "Passed Spice directory (/home/jleland/data/external_big/spice/marconi/spice2/sheath_exp_flp/flat_10_highV/alpha_yz_-10.0/backup_20201120-1856) doesn't seem to be valid.\n",
      "Continuing anyway.\n"
     ]
    }
   ],
   "source": [
    "splopter =  spl.Splopter(final_state_path, reduce=desired_variables, ignore_tzero_fl=True, version=2.14,\n",
    "                         store_dataframe_fl=True, check_voltage_error_fl=False)\n",
    "\n",
    "splopter.prepare(find_se_temp_fl=False, homogenise_fl=True, backup_concat_fl=False)"
   ]
  },
  {
   "cell_type": "code",
   "execution_count": 71,
   "metadata": {},
   "outputs": [],
   "source": [
    "fig, ax = plt.subplots()\n",
    "\n",
    "ax.plot(splopter.tdata.t_dict['ProbePot'])\n",
    "\n",
    "for i in range(4):\n",
    "    line_pos = i * len(splopter.tdata.t_dict['ProbePot']) / 4\n",
    "    ax.axvline(x=line_pos, **c.AX_LINE_DEFAULTS)"
   ]
  },
  {
   "cell_type": "code",
   "execution_count": 63,
   "metadata": {},
   "outputs": [
    {
     "data": {
      "text/plain": [
       "<matplotlib.legend.Legend at 0x7f8b6f767f98>"
      ]
     },
     "execution_count": 63,
     "metadata": {},
     "output_type": "execute_result"
    }
   ],
   "source": [
    "t, V, I_e, I_i = splopter.get_tdata_raw_iv()\n",
    "I_tot = (I_e + I_i)\n",
    "\n",
    "fig, ax = plt.subplots(2, sharex=True)\n",
    "\n",
    "ax[0].plot(I_tot[::100])\n",
    "ax[1].plot(I_e[::100], label='e')\n",
    "ax[1].plot(I_i[::100], label='i')\n",
    "ax[1].legend()"
   ]
  },
  {
   "cell_type": "code",
   "execution_count": 64,
   "metadata": {},
   "outputs": [
    {
     "name": "stdout",
     "output_type": "stream",
     "text": [
      "686968 915955\n"
     ]
    },
    {
     "data": {
      "text/plain": [
       "[<matplotlib.lines.Line2D at 0x7f8b6f6e2908>]"
      ]
     },
     "execution_count": 64,
     "metadata": {},
     "output_type": "execute_result"
    }
   ],
   "source": [
    "swp_len = splopter.parser.get_sweep_length(len(I_tot), V)\n",
    "\n",
    "fig, ax = plt.subplots()\n",
    "# splopter.raw_data.plot(ax=ax)\n",
    "raw_len = len(splopter.raw_data['V'])\n",
    "print(swp_len, raw_len)\n",
    "\n",
    "ax.plot(splopter.raw_data['V'][::100])\n",
    "ax.plot(np.arange(swp_len/100, raw_len/100), splopter.raw_data['V'][swp_len::100])\n"
   ]
  },
  {
   "cell_type": "code",
   "execution_count": 65,
   "metadata": {},
   "outputs": [
    {
     "data": {
      "text/plain": [
       "[<matplotlib.lines.Line2D at 0x7f8b6f67d588>]"
      ]
     },
     "execution_count": 65,
     "metadata": {},
     "output_type": "execute_result"
    }
   ],
   "source": [
    "swp_len = int(raw_len / 2)\n",
    "\n",
    "fig, ax = plt.subplots(2)\n",
    "# ax.plot(splopter.raw_data['V'][::100], splopter.raw_data['I'][::100])\n",
    "ax[0].plot(splopter.raw_data['V'][::100])\n",
    "ax[0].plot(np.arange(swp_len/100, raw_len/100)+1, splopter.raw_data['V'][swp_len::100])\n",
    "ax[1].plot(splopter.raw_data['I'][::100])"
   ]
  },
  {
   "cell_type": "code",
   "execution_count": 66,
   "metadata": {},
   "outputs": [
    {
     "data": {
      "text/plain": [
       "<matplotlib.legend.Legend at 0x7f8b6f5e1710>"
      ]
     },
     "execution_count": 66,
     "metadata": {},
     "output_type": "execute_result"
    }
   ],
   "source": [
    "losw_plot_ds = lowsweep_ds.sel(theta_p=0.0, recession=0.0, theta=10.0)\n",
    "pw_plot_ds = piecewise_ds.sel(theta=-10.0)\n",
    "\n",
    "fig, ax = plt.subplots()\n",
    "splopter.iv_data.plot(ax=ax, label='high-V sweep')\n",
    "(-pw_plot_ds['current']).plot.line(x='voltage', hue='theta', ax=ax, label='piecewise')\n",
    "losw_plot_ds['current'].plot.line(x='voltage', ax=ax, label='low-V sweep')\n",
    "ax.axhline(y=0, **c.AX_LINE_DEFAULTS)\n",
    "ax.legend()"
   ]
  },
  {
   "cell_type": "markdown",
   "metadata": {},
   "source": [
    "Noticed a mistake in the input file, the probes are not at the correct starting voltage - should be at -20 but are at -10 so there's a jump of voltage at the start of the sweep. Will probably need to redo.\n",
    "\n",
    "## Compare the floating and fixed wall potential cases\n"
   ]
  },
  {
   "cell_type": "code",
   "execution_count": 67,
   "metadata": {},
   "outputs": [
    {
     "name": "stdout",
     "output_type": "stream",
     "text": [
      "/home/jleland/data/external_big/spice/marconi/spice2/sheath_exp_fwp/flat_10_highV/alpha_yz_-10.0\n"
     ]
    }
   ],
   "source": [
    "fwp_dir_path = spice_dir / all_run_dirs[scans[3]][0]\n",
    "print(fwp_dir_path)\n",
    "fwp_backup_path = list(fwp_dir_path.glob('backup*'))[0]"
   ]
  },
  {
   "cell_type": "code",
   "execution_count": 73,
   "metadata": {},
   "outputs": [
    {
     "name": "stdout",
     "output_type": "stream",
     "text": [
      "Spice data directory is not valid, attempting to auto-fix.\n",
      "Passed Spice directory (/home/jleland/data/external_big/spice/marconi/spice2/sheath_exp_fwp/flat_10_highV/alpha_yz_-10.0/backup_20201120-1751) doesn't seem to be valid.\n",
      "Continuing anyway.\n"
     ]
    },
    {
     "name": "stderr",
     "output_type": "stream",
     "text": [
      "/home/jleland/coding/environments/python3.6/lib/python3.6/site-packages/scipy/io/matlab/mio.py:218: MatReadWarning: Duplicate variable name \"npartproc\" in stream - replacing previous with new\n",
      "Consider mio5.varmats_from_mat to split file into single variable files\n",
      "  matfile_dict = MR.get_variables(variable_names)\n"
     ]
    }
   ],
   "source": [
    "fwp_spl = spl.Splopter(fwp_backup_path, reduce=desired_variables, ignore_tzero_fl=True, version=2.14,\n",
    "                       store_dataframe_fl=True, check_voltage_error_fl=False)\n",
    "\n",
    "fwp_spl.prepare(find_se_temp_fl=False, homogenise_fl=True, backup_concat_fl=False)"
   ]
  },
  {
   "cell_type": "code",
   "execution_count": 77,
   "metadata": {},
   "outputs": [
    {
     "data": {
      "text/plain": [
       "<matplotlib.legend.Legend at 0x7f8b6ef2afd0>"
      ]
     },
     "execution_count": 77,
     "metadata": {},
     "output_type": "execute_result"
    }
   ],
   "source": [
    "losw_plot_ds = lowsweep_ds.sel(theta_p=0.0, recession=0.0, theta=10.0)\n",
    "pw_plot_ds = piecewise_ds.sel(theta=-10.0)\n",
    "\n",
    "fig, ax = plt.subplots()\n",
    "splopter.iv_data.plot(ax=ax, label=r'floating $V_{wall}$')\n",
    "fwp_spl.iv_data.plot(ax=ax, label=r'fixed $V_{wall}$')\n",
    "(-pw_plot_ds['current']).plot.line(x='voltage', hue='theta', ax=ax, label='piecewise')\n",
    "losw_plot_ds['current'].plot.line(x='voltage', ax=ax, label='low-V sweep')\n",
    "ax.axhline(y=0, **c.AX_LINE_DEFAULTS)\n",
    "ax.set_xlim(-26, 0)\n",
    "ax.set_ylim(-50, 10)\n",
    "ax.legend()"
   ]
  },
  {
   "cell_type": "markdown",
   "metadata": {},
   "source": [
    "## Compare across angles!"
   ]
  },
  {
   "cell_type": "code",
   "execution_count": 79,
   "metadata": {},
   "outputs": [
    {
     "name": "stdout",
     "output_type": "stream",
     "text": [
      "8.0 /home/jleland/data/external_big/spice/marconi/spice2/sheath_exp_fwp/flat_8-12_highV/alpha_yz_-8.0\n",
      "10.0 /home/jleland/data/external_big/spice/marconi/spice2/sheath_exp_fwp/flat_10_highV/alpha_yz_-10.0\n",
      "12.0 /home/jleland/data/external_big/spice/marconi/spice2/sheath_exp_fwp/flat_8-12_highV/alpha_yz_-12.0\n"
     ]
    }
   ],
   "source": [
    "fwp_spl_dirs = {\n",
    "    8.0: spice_dir / all_run_dirs[scans[4]][1],\n",
    "    10.0: spice_dir / all_run_dirs[scans[3]][0],\n",
    "    12.0: spice_dir / all_run_dirs[scans[4]][0],\n",
    "}\n",
    "\n",
    "for k, v in fwp_spl_dirs.items():\n",
    "    print(k, v)"
   ]
  },
  {
   "cell_type": "code",
   "execution_count": 80,
   "metadata": {},
   "outputs": [
    {
     "name": "stdout",
     "output_type": "stream",
     "text": [
      "Spice data directory is not valid, attempting to auto-fix.\n",
      "Passed Spice directory (/home/jleland/data/external_big/spice/marconi/spice2/sheath_exp_fwp/flat_8-12_highV/alpha_yz_-8.0/backup_20201120-2311) doesn't seem to be valid.\n",
      "Continuing anyway.\n",
      "Spice data directory is not valid, attempting to auto-fix.\n",
      "Passed Spice directory (/home/jleland/data/external_big/spice/marconi/spice2/sheath_exp_fwp/flat_10_highV/alpha_yz_-10.0/backup_20201120-1751) doesn't seem to be valid.\n",
      "Continuing anyway.\n",
      "Spice data directory is not valid, attempting to auto-fix.\n",
      "Passed Spice directory (/home/jleland/data/external_big/spice/marconi/spice2/sheath_exp_fwp/flat_8-12_highV/alpha_yz_-12.0/backup_20201120-1629) doesn't seem to be valid.\n",
      "Continuing anyway.\n"
     ]
    }
   ],
   "source": [
    "fwp_spls = {}\n",
    "for theta, fwp_spl_dir in fwp_spl_dirs.items():\n",
    "    bups = list(fwp_spl_dir.glob('backup*'))\n",
    "    bups.sort()\n",
    "    final_state_path = fwp_spl_dir / bups[-1].name\n",
    "    \n",
    "    fwp_spl = spl.Splopter(final_state_path, reduce=desired_variables, ignore_tzero_fl=True, version=2.14,\n",
    "                           store_dataframe_fl=True, check_voltage_error_fl=False)\n",
    "\n",
    "    fwp_spl.prepare(find_se_temp_fl=False, homogenise_fl=True, backup_concat_fl=False)\n",
    "    fwp_spls[theta] = fwp_spl"
   ]
  },
  {
   "cell_type": "code",
   "execution_count": 85,
   "metadata": {},
   "outputs": [],
   "source": [
    "fig, axes = plt.subplots(1, 3, sharex=True, sharey=True, figsize=[10,6])\n",
    "\n",
    "for i, theta in enumerate(fwp_spls):\n",
    "    ax = axes[i]\n",
    "    pw_plot_ds = piecewise_ds.sel(theta=-theta)\n",
    "    \n",
    "    fwp_spls[theta].iv_data.plot(ax=ax, label=r'fixed $V_{wall}$')\n",
    "    (-pw_plot_ds['current']).plot.line(x='voltage', hue='theta', ax=ax, label='piecewise')\n",
    "    \n",
    "    ax.axhline(y=0, **c.AX_LINE_DEFAULTS)\n",
    "    ax.set_title(r'$\\theta = {}$'.format(theta))\n",
    "    ax.set_xlim(-26, 0)\n",
    "    ax.set_ylim(-50, 10)\n",
    "    ax.legend()\n",
    "    \n",
    "fig.tight_layout()"
   ]
  },
  {
   "cell_type": "code",
   "execution_count": null,
   "metadata": {},
   "outputs": [],
   "source": []
  }
 ],
 "metadata": {
  "kernelspec": {
   "display_name": "python3.6-codac",
   "language": "python",
   "name": "python3.6-codac"
  },
  "language_info": {
   "codemirror_mode": {
    "name": "ipython",
    "version": 3
   },
   "file_extension": ".py",
   "mimetype": "text/x-python",
   "name": "python",
   "nbconvert_exporter": "python",
   "pygments_lexer": "ipython3",
   "version": "3.6.9"
  }
 },
 "nbformat": 4,
 "nbformat_minor": 4
}
