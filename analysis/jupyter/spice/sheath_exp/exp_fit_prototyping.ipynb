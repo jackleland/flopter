{
 "cells": [
  {
   "cell_type": "code",
   "execution_count": null,
   "metadata": {},
   "outputs": [],
   "source": [
    "%matplotlib tk\n",
    "import numpy as np\n",
    "import matplotlib.pyplot as plt\n",
    "import matplotlib as mpl\n",
    "import xarray as xr\n",
    "import pandas as pd\n",
    "import scipy.io as sio\n",
    "import sys\n",
    "import os\n",
    "import glob\n",
    "import copy\n",
    "import pathlib as pth\n",
    "import importlib\n",
    "import math\n",
    "sys.path.append('/home/jleland/Coding/Projects/flopter')\n",
    "import flopter.spice.splopter as spl\n",
    "import flopter.spice.tdata as td\n",
    "import flopter.core.ivdata as iv\n",
    "import flopter.core.fitters as fts\n",
    "import flopter.core.fitdata as fd\n",
    "import flopter.core.lputils as lpu\n",
    "import flopter.core.constants as c\n",
    "import flopter.spice.inputparser as inp\n",
    "import flopter.spice.normalise as nrm\n",
    "import flopter.spice.xrfuncs as xrf"
   ]
  },
  {
   "cell_type": "code",
   "execution_count": 2,
   "metadata": {},
   "outputs": [],
   "source": [
    "v_dum = np.linspace(-30,0,500)"
   ]
  },
  {
   "cell_type": "code",
   "execution_count": 3,
   "metadata": {},
   "outputs": [
    {
     "data": {
      "text/plain": [
       "[<matplotlib.lines.Line2D at 0x7f8c99dd2c50>]"
      ]
     },
     "execution_count": 3,
     "metadata": {},
     "output_type": "execute_result"
    }
   ],
   "source": [
    "fig, ax = plt.subplots(2)\n",
    "\n",
    "e_current = - np.exp(v_dum+2.4398)\n",
    "ax[0].plot(v_dum, e_current)\n",
    "\n",
    "exp_fitter = fts.ExperimentalIVFitter()\n",
    "ax[1].plot(v_dum, exp_fitter.fit_function(v_dum, *[-1,0.02,1,-2.5]))"
   ]
  },
  {
   "cell_type": "code",
   "execution_count": 4,
   "metadata": {},
   "outputs": [],
   "source": [
    "I_0  = -75.0\n",
    "a = 0.02\n",
    "T_e = 1\n",
    "v_f = -2.5"
   ]
  },
  {
   "cell_type": "code",
   "execution_count": 5,
   "metadata": {},
   "outputs": [
    {
     "name": "stdout",
     "output_type": "stream",
     "text": [
      "[0.03976354]\n"
     ]
    }
   ],
   "source": [
    "v = v_dum\n",
    "mod_v_fl = a * np.float_power(np.absolute(v_f / T_e), [0.75])\n",
    "\n",
    "# fig, ax = plt.subplots()\n",
    "# ax.plot(v_dum, mod_v_fl)\n",
    "print(mod_v_fl)"
   ]
  },
  {
   "cell_type": "code",
   "execution_count": 6,
   "metadata": {},
   "outputs": [
    {
     "name": "stdout",
     "output_type": "stream",
     "text": [
      "[8.5332461]\n"
     ]
    }
   ],
   "source": [
    "f = (1 + mod_v_fl) / (np.exp(v_f/T_e) + mod_v_fl)\n",
    "\n",
    "# fig, ax = plt.subplots()\n",
    "# ax.plot(v_dum, f)\n",
    "print(f)"
   ]
  },
  {
   "cell_type": "code",
   "execution_count": 7,
   "metadata": {},
   "outputs": [],
   "source": [
    "fig, ax = plt.subplots(2)\n",
    "# np.where(v <= v_f, (     , 0)))\n",
    "I_i = I_0 * (1 + (a * np.where(v <= 0, (np.float_power(np.absolute(v / T_e), [0.75])), 0)))\n",
    "I_e = I_0 * f * np.exp(v / T_e) * (1 + (a * np.where(v <= 0, (np.float_power(np.absolute(v / T_e), [0.75])), 0)))\n",
    "# ax[0].plot(v, I_i)\n",
    "ax[0].plot(v, I_e)\n",
    "\n",
    "ax[1].plot(v, I_i - I_e)\n",
    "\n",
    "for axis in ax:\n",
    "    axis.axvline(x=v_f, **c.AX_LINE_DEFAULTS)"
   ]
  },
  {
   "cell_type": "code",
   "execution_count": 8,
   "metadata": {},
   "outputs": [
    {
     "data": {
      "text/plain": [
       "[<matplotlib.lines.Line2D at 0x7f8c99c621d0>]"
      ]
     },
     "execution_count": 8,
     "metadata": {},
     "output_type": "execute_result"
    }
   ],
   "source": [
    "fig, ax = plt.subplots()\n",
    "ax.axvline(x=v_f, **c.AX_LINE_DEFAULTS)\n",
    "\n",
    "I_e1 = I_0 * f * np.exp(v / T_e)\n",
    "I_e2 = I_0 * f * np.exp(v / T_e) * a * (np.where(v <= 0, (np.float_power(np.absolute(v / T_e), [0.75])), 0))\n",
    "ax.plot(v, I_e1)\n",
    "ax.plot(v, I_e2)"
   ]
  },
  {
   "cell_type": "markdown",
   "metadata": {},
   "source": [
    "## Alternate, multiplicative form"
   ]
  },
  {
   "cell_type": "code",
   "execution_count": 9,
   "metadata": {},
   "outputs": [],
   "source": [
    "I_0  = -21.452\n",
    "a = 0.009\n",
    "T_e = 1.052\n",
    "v_f = -2.345"
   ]
  },
  {
   "cell_type": "code",
   "execution_count": 10,
   "metadata": {},
   "outputs": [
    {
     "data": {
      "text/plain": [
       "[<matplotlib.lines.Line2D at 0x7f8c99b87e80>]"
      ]
     },
     "execution_count": 10,
     "metadata": {},
     "output_type": "execute_result"
    }
   ],
   "source": [
    "V = (v - v_f) / T_e\n",
    "\n",
    "# I_i = I_0 * (1 + (a * np.where(v <= v_f, (np.float_power(np.absolute(V), [0.75])), 0)))\n",
    "# I_e = I_0 * np.exp(V) * (1 + np.where(v <= v_f, (np.float_power(np.absolute(V), [0.75])), 0))\n",
    "\n",
    "I_i = I_0 * (1 + (a * np.float_power(np.absolute(V), [0.75])))\n",
    "I_e = I_0 * np.exp(V) * (1 + (a * np.float_power(np.absolute(V), [0.75])))\n",
    "\n",
    "\n",
    "fig, ax = plt.subplots(2, sharey=True)\n",
    "for axis in ax:\n",
    "    axis.axvline(x=v_f, **c.AX_LINE_DEFAULTS)\n",
    "    axis.set_xlim(-30, -2.0)\n",
    "    axis.set_ylim(-100, 100.0)\n",
    "\n",
    "ax[0].plot(v, I_i)\n",
    "ax[0].plot(v, I_e)\n",
    "ax[1].plot(v, I_i - I_e)\n",
    "\n"
   ]
  },
  {
   "cell_type": "markdown",
   "metadata": {},
   "source": [
    "## Try it on an IV curve"
   ]
  },
  {
   "cell_type": "code",
   "execution_count": 11,
   "metadata": {},
   "outputs": [
    {
     "name": "stdout",
     "output_type": "stream",
     "text": [
      "/home/jleland/data/external_big/spice/marconi/spice2/sheath_exp_hg/flat_flush_as/alpha_yz_-10.0\n"
     ]
    }
   ],
   "source": [
    "spl_path = pth.Path('/home/jleland/data/external_big/spice/marconi/spice2/sheath_exp_hg/flat_flush_as/alpha_yz_-10.0')\n",
    "print(spl_path)\n",
    "spl_backup = list(spl_path.glob('backup*'))[-1]"
   ]
  },
  {
   "cell_type": "code",
   "execution_count": 12,
   "metadata": {},
   "outputs": [],
   "source": [
    "non_standard_variables = {'t', 'ProbePot', 'npartproc', 'Nz', 'Nzmax', 'Ny', 'count', 'Npc', 'snumber', 'nproc'}\n",
    "desired_variables = (td.DEFAULT_REDUCED_DATASET | non_standard_variables) - {td.OBJECTSCURRENTFLUXE, td.OBJECTSCURRENTFLUXI}"
   ]
  },
  {
   "cell_type": "code",
   "execution_count": 13,
   "metadata": {},
   "outputs": [
    {
     "name": "stdout",
     "output_type": "stream",
     "text": [
      "Spice data directory is not valid, attempting to auto-fix.\n",
      "Passed Spice directory (/home/jleland/data/external_big/spice/marconi/spice2/sheath_exp_hg/flat_flush_as/alpha_yz_-10.0/backup_20201222-0127) doesn't seem to be valid.\n",
      "Continuing anyway.\n"
     ]
    },
    {
     "name": "stderr",
     "output_type": "stream",
     "text": [
      "/home/jleland/coding/environments/python3.6/lib/python3.6/site-packages/scipy/io/matlab/mio.py:218: MatReadWarning: Duplicate variable name \"npartproc\" in stream - replacing previous with new\n",
      "Consider mio5.varmats_from_mat to split file into single variable files\n",
      "  matfile_dict = MR.get_variables(variable_names)\n"
     ]
    },
    {
     "name": "stdout",
     "output_type": "stream",
     "text": [
      "WARNING: Encountered t-zeroing, creating an approximate t array\n",
      "[[0.00016981]]\n",
      "dx = 1.0, dy = 0.5, dz = 0.5\n"
     ]
    }
   ],
   "source": [
    "splopter =  spl.Splopter(spl_backup, reduce=desired_variables, ignore_tzero_fl=True, version=2.14,\n",
    "                         store_dataframe_fl=True)\n",
    "print(splopter.tdata.dt)\n",
    "\n",
    "parser = inp.InputParser(input_filename=spl_backup / 'input.inp')\n",
    "denormaliser = nrm.Denormaliser(dt=splopter.tdata.dt, input_parser=parser) "
   ]
  },
  {
   "cell_type": "code",
   "execution_count": 14,
   "metadata": {},
   "outputs": [
    {
     "name": "stdout",
     "output_type": "stream",
     "text": [
      "Spice data directory is not valid, attempting to auto-fix.\n",
      "Passed Spice directory (/home/jleland/data/external_big/spice/marconi/spice2/sheath_exp_hg/flat_flush_as/alpha_yz_-10.0/backup_20201222-0127) doesn't seem to be valid.\n",
      "Continuing anyway.\n",
      "WARNING: Encountered t-zeroing, creating an approximate t array\n"
     ]
    }
   ],
   "source": [
    "# Test\n",
    "iv_df, iv_data = xrf.homogenise_run(spl_backup)\n"
   ]
  },
  {
   "cell_type": "code",
   "execution_count": 15,
   "metadata": {},
   "outputs": [
    {
     "data": {
      "text/plain": [
       "<module 'flopter.core.fitters' from '/home/jleland/coding/projects/flopter/flopter/core/fitters.py'>"
      ]
     },
     "execution_count": 15,
     "metadata": {},
     "output_type": "execute_result"
    }
   ],
   "source": [
    "importlib.reload(fts)"
   ]
  },
  {
   "cell_type": "code",
   "execution_count": 16,
   "metadata": {},
   "outputs": [
    {
     "name": "stdout",
     "output_type": "stream",
     "text": [
      "0.011014489099584407\n"
     ]
    }
   ],
   "source": [
    "calced_a = lpu.calc_new_sheath_expansion_param(T_e, 1e18, 5e-3, 1e-3, np.radians(10), 0.0, 0.0, \n",
    "                                               c_1=1.4, c_2=0.39)\n",
    "print(calced_a)"
   ]
  },
  {
   "cell_type": "code",
   "execution_count": 17,
   "metadata": {},
   "outputs": [],
   "source": [
    "fig, ax = plt.subplots()\n",
    "\n",
    "iv_region = np.where((iv_data['V'] <= -2.3) & (iv_data['V'] >= -30))\n",
    "fit_iv_data = iv.IVData.non_contiguous_trim(iv_data, iv_region)\n",
    "\n",
    "\n",
    "\n",
    "exp_fitter = fts.ExperimentalIVFitter()\n",
    "iv_fitter = fts.FullIVFitter()\n",
    "# exp_fitter.set_fixed_values({'a':calced_a})\n",
    "# iv_fitter.set_fixed_values({'a':calced_a})\n",
    "\n",
    "iv_fitter.fit(fit_iv_data['V'], fit_iv_data['I']).plot(ax=ax)\n",
    "exp_fitter.fit(fit_iv_data['V'], fit_iv_data['I']).plot(ax=ax)\n",
    "\n",
    "# ax.plot(v_dum, exp_fitter.fit_function(v_dum, *[-1,0.02,1,2.5]))"
   ]
  },
  {
   "cell_type": "code",
   "execution_count": 18,
   "metadata": {},
   "outputs": [
    {
     "data": {
      "text/plain": [
       "array([0.89142317, 0.94052106, 1.06418549, 1.10365798, 0.92085086,\n",
       "       0.9020483 , 0.98397126, 0.94013196, 0.93190598, 0.98318621,\n",
       "       1.06327079, 1.05895905, 1.01437953, 1.15147743, 0.96436029,\n",
       "       0.88479904, 1.00543307, 0.91772708, 0.98257675, 0.98852605,\n",
       "       0.93527367, 0.98186699, 0.8638583 , 1.07257747, 0.9263594 ,\n",
       "       1.06895566, 0.93981393, 0.9397599 , 0.95225349, 1.03931378,\n",
       "       0.9656078 , 0.87769503, 0.96850686, 0.91315916, 0.950895  ,\n",
       "       0.8729864 , 0.92858946, 0.98690877, 1.06909386, 0.86417756,\n",
       "       1.01932391, 1.105567  , 0.95410253, 0.9015325 , 1.03721607,\n",
       "       1.03293413, 0.82913253, 0.98153309, 1.05024259, 0.9911846 ,\n",
       "       0.97944125, 0.92234496, 1.08180089, 0.98378356, 0.98759036,\n",
       "       1.01000878, 0.87673848, 0.98263783, 0.97503818, 0.7974379 ,\n",
       "       0.96008401, 0.98021047, 0.92252389, 0.92187432, 0.89794446,\n",
       "       0.98033645, 0.98096849, 1.00792795, 1.03985669, 1.10565595,\n",
       "       0.87430225, 1.05403415, 0.9557717 , 1.05722135, 0.8708618 ,\n",
       "       0.79890204, 0.94722587, 0.80372373, 0.86870809, 1.0822841 ,\n",
       "       0.87948787, 0.96234147, 0.95318269, 0.91009522, 0.98427151,\n",
       "       0.96397123, 0.87488109, 0.94039343, 0.97421038, 1.21474   ,\n",
       "       1.13232024, 1.04721744, 0.89005483, 0.89068614, 1.01765038,\n",
       "       0.91207656, 0.94271763, 1.01705108, 1.08695255, 0.91936186,\n",
       "       0.94032469, 0.99162118, 0.98435007, 0.97515181, 1.12761551,\n",
       "       0.84627667, 0.89616514, 0.89619034, 0.76824111, 0.86081732,\n",
       "       0.91621663, 1.01324105, 0.94596875, 1.00847173, 0.96055155,\n",
       "       0.91426572, 0.95342484, 0.99757008, 1.04775515, 1.13693957,\n",
       "       1.00421089, 0.95861261, 0.84707279, 1.08283408, 1.00478157,\n",
       "       1.00968941, 0.99865098, 0.81310841, 0.95927219, 0.8122447 ,\n",
       "       0.81895886, 0.919958  , 0.99124941, 0.93566356, 1.03531368,\n",
       "       0.93296396, 0.83499774, 0.94040693, 0.89312548, 1.12125853,\n",
       "       0.92985146, 0.94739157, 1.11700943, 1.05816379, 0.87064972,\n",
       "       0.94290372, 1.01716971, 0.98585916, 0.89970264, 0.87625915,\n",
       "       1.01984109, 0.88274675, 0.95222367, 0.85491761, 1.01088629,\n",
       "       0.95310696, 0.88015466, 1.05725671, 1.1027666 , 0.94525501,\n",
       "       1.12973224, 0.87958802, 1.09046908, 0.94599697, 0.9325483 ,\n",
       "       0.93806347, 0.98639301, 0.98027941, 0.99222679, 1.01901978,\n",
       "       0.93357798, 0.85043142, 0.959167  , 0.90332717, 0.9153092 ,\n",
       "       0.85581428, 0.95908959, 0.92667918, 0.79879085, 0.91633378,\n",
       "       1.05447515, 0.93347848, 0.93045814, 1.03569385, 0.97926253,\n",
       "       1.08358933, 0.99166787, 0.88486203, 0.91657952, 0.90980602,\n",
       "       0.90637907, 1.05032223, 1.02052814, 1.0401262 , 1.0079311 ,\n",
       "       0.97294949, 0.98707716, 0.95896388, 0.92186275, 0.78940775,\n",
       "       0.96092055, 0.95815946, 0.82768771, 0.84711603, 1.08138315,\n",
       "       0.77089696, 1.00216156, 0.94094658, 0.86279013, 1.09659434,\n",
       "       1.00880209, 1.00793133, 0.92809721, 1.09486404, 0.99631271,\n",
       "       1.11471635, 0.83316887, 0.99595282, 0.99035893, 0.91871343,\n",
       "       0.90586941, 1.09575737, 1.04150517, 0.91133436, 1.01270184,\n",
       "       0.98642215, 1.03472695, 0.95048919, 1.01676284, 0.80749488,\n",
       "       0.91353846, 1.06601412, 1.06831816, 0.9543048 , 1.0060705 ,\n",
       "       1.041503  , 0.97528695, 0.94562382, 1.18661603, 0.92979013,\n",
       "       0.98007915, 1.08962821, 0.95390567, 1.01298058, 0.77298644,\n",
       "       0.98921838, 1.01596138, 0.98752663, 0.94857071, 1.00087207,\n",
       "       1.00933137, 0.84149506, 1.03338692, 0.79678985, 0.91641828,\n",
       "       0.8997699 , 0.81115296, 0.9927825 , 1.04012894, 1.06158961,\n",
       "       0.86093483, 1.01918394, 1.00541961, 1.03550678, 0.95793309,\n",
       "       0.99641734, 0.93482368, 0.92243092, 0.89912169, 0.91326943,\n",
       "       0.83863058, 0.94330113, 0.9586466 , 1.00356132, 0.85323296,\n",
       "       1.03245363, 0.97269631, 0.99425302, 0.91927276, 0.91456161,\n",
       "       0.94586344, 0.83645606, 0.89538386, 1.05514367, 0.97799856,\n",
       "       0.91036412, 0.88907416, 0.93012574, 1.09870748, 0.91197448,\n",
       "       0.92132873, 1.11307777, 0.96801341, 0.91920316, 0.77246118,\n",
       "       1.03690364, 0.9325515 , 0.95264924, 0.9613083 , 0.97818363,\n",
       "       0.92479363, 0.966539  , 0.99719766, 0.94153714, 0.90576115,\n",
       "       0.88073143, 0.88621712, 0.99131587, 0.82905325, 1.00920964,\n",
       "       0.91735925, 0.85879666, 1.01755676, 0.89963125, 0.99641797,\n",
       "       0.84948614, 1.06171003, 0.9622632 , 0.86716423, 1.00043266,\n",
       "       0.98265324, 0.87418312, 0.88178265, 0.99520804, 0.89628892,\n",
       "       0.98856916, 0.89438741, 1.02405093, 0.94987158, 1.03654163,\n",
       "       0.86162549, 0.96385908, 0.90983184, 0.99098849, 0.83148733,\n",
       "       0.88020445, 1.04953169, 1.0308455 , 0.94085314, 0.85885373,\n",
       "       0.9956996 , 0.99581393, 0.90535616, 0.95703411, 0.84570487,\n",
       "       0.96683237, 0.94322449, 0.92413305, 0.86724102, 0.9290287 ,\n",
       "       0.94153797, 1.05405362, 1.1403647 , 1.07393054, 1.10993775,\n",
       "       0.92156183, 1.08133506, 1.02023664, 1.06648717, 0.97773119,\n",
       "       0.95888736, 1.05069448, 0.86546736, 0.94560837, 0.89897203,\n",
       "       0.99019647, 0.85803057, 0.97568084, 1.00455775, 1.06550486,\n",
       "       1.02558462, 0.97960195, 1.0616936 , 0.96043272, 0.96707853,\n",
       "       0.95632198, 0.8722126 , 1.06226374, 0.96831932, 1.01498331,\n",
       "       0.94146972, 1.00303639, 0.96574282, 0.88979686, 0.9014343 ,\n",
       "       1.007235  , 1.04598975, 0.92752803, 0.99370576, 0.92799694,\n",
       "       0.8944144 , 0.93008795, 1.05767329, 1.05426638, 0.81200847,\n",
       "       0.98630168, 0.92367912, 1.01576138, 0.90350507, 0.90465965,\n",
       "       1.04362871, 1.04800982, 0.89165466, 1.03741043, 0.9852301 ,\n",
       "       0.85025401, 0.8723805 , 0.94526777, 1.12575548, 0.95543393,\n",
       "       1.1037742 , 1.11187346, 1.00718135, 0.91308682, 0.8750039 ,\n",
       "       0.9581347 , 0.94785421, 0.98106295, 0.9724166 , 0.99555389,\n",
       "       0.90631684, 0.97175325, 0.91162961, 0.99859098, 1.09278031,\n",
       "       0.96164201, 0.94704304, 1.01074848, 0.92909701, 0.91312857,\n",
       "       0.96219275, 0.91219741, 1.00339543, 1.11886727, 1.02603679,\n",
       "       1.11608231, 0.90578508, 1.07153997, 0.89328838, 0.88571944,\n",
       "       1.02898986, 0.98248211, 1.06528878, 1.03382195, 1.10258281,\n",
       "       0.95477471, 1.05794656, 1.10280976, 1.05903399, 1.11527427,\n",
       "       1.0099249 , 1.06314199, 1.05678653, 0.84865623, 1.08190414,\n",
       "       1.11553627, 1.08563793, 1.18048614, 0.97373114, 1.18537364,\n",
       "       1.09089051, 0.92676086, 1.01151312, 1.01868594, 0.95473188,\n",
       "       1.15455529, 1.04005007, 0.93896902, 1.09659767, 1.19565283,\n",
       "       1.03086232, 1.1537022 , 1.24193177, 1.09296484, 0.94551697,\n",
       "       1.09550463, 0.96802829, 1.14785856, 1.10805226, 1.35579263,\n",
       "       1.24664052, 1.18972288, 1.25394941, 1.16529378, 1.18864228,\n",
       "       1.32346898, 1.33802897, 0.93154116, 1.11031173, 1.34705279,\n",
       "       1.32830605, 1.12634923, 1.30411924, 1.38251121, 1.31237497,\n",
       "       1.13950659, 1.21096996, 1.1179889 , 1.20154013, 1.24206103,\n",
       "       1.18908571, 1.2720342 , 1.33933931, 1.26538564, 1.29454574,\n",
       "       1.16387218, 1.46652375])"
      ]
     },
     "execution_count": 18,
     "metadata": {},
     "output_type": "execute_result"
    }
   ],
   "source": [
    "fit_iv_data['sigma']"
   ]
  },
  {
   "cell_type": "code",
   "execution_count": 19,
   "metadata": {},
   "outputs": [],
   "source": [
    "fig, ax = plt.subplots()\n",
    "# ax.plot(fit_iv_data['V'], fit_iv_data['I_e'])\n",
    "\n",
    "initial_vals = [T_e, v_f, a]\n",
    "\n",
    "ese_fitter = fts.ElectronCurrentSEFitter()\n",
    "ese_fitter.set_fixed_values({'T_e':1.15})\n",
    "e_fitter = fts.ElectronCurrentFitter()\n",
    "\n",
    "e_fitter.fit(iv_data['V'], iv_data['I_e']).plot(ax=ax)\n",
    "\n",
    "ese_fitter.fit(iv_data['V'], iv_data['I_e']).plot(ax=ax)\n"
   ]
  },
  {
   "cell_type": "code",
   "execution_count": 20,
   "metadata": {},
   "outputs": [
    {
     "name": "stdout",
     "output_type": "stream",
     "text": [
      "[-20.0, 0.02, 10.0, -2.5]\n"
     ]
    },
    {
     "data": {
      "text/plain": [
       "[<matplotlib.lines.Line2D at 0x7f8c89506710>]"
      ]
     },
     "execution_count": 20,
     "metadata": {},
     "output_type": "execute_result"
    }
   ],
   "source": [
    "fig, ax = plt.subplots()\n",
    "\n",
    "params = [-20.0, 0.02, 10.0, -2.5]\n",
    "print(params)\n",
    "\n",
    "dummy_v = np.linspace(-200,-2.5,1000)\n",
    "iv_I = iv_fitter.fit_function(dummy_v, *params)\n",
    "exp_I = exp_fitter.fit_function(dummy_v, *params)\n",
    "\n",
    "ax.plot(dummy_v, iv_I)\n",
    "ax.plot(dummy_v, exp_I)"
   ]
  },
  {
   "cell_type": "markdown",
   "metadata": {},
   "source": [
    "## Comparison of SE Models"
   ]
  },
  {
   "cell_type": "code",
   "execution_count": 21,
   "metadata": {},
   "outputs": [],
   "source": [
    "cb_palette = ['#4477AA', '#66CCEE', '#228833', '#CCBB44', \n",
    "              '#EE6677', '#AA3377', '#BBBBBB']\n",
    "contrast_palette = ['#FFFFFF', '#DDAA33', '#BB5566', '#004488', '#000000']"
   ]
  },
  {
   "cell_type": "code",
   "execution_count": 207,
   "metadata": {},
   "outputs": [
    {
     "data": {
      "text/plain": [
       "<module 'flopter.core.lputils' from '/home/jleland/coding/projects/flopter/flopter/core/lputils.py'>"
      ]
     },
     "execution_count": 207,
     "metadata": {},
     "output_type": "execute_result"
    }
   ],
   "source": [
    "importlib.reload(lpu)"
   ]
  },
  {
   "cell_type": "code",
   "execution_count": 227,
   "metadata": {},
   "outputs": [
    {
     "name": "stdout",
     "output_type": "stream",
     "text": [
      "1.6622799720325184e-05\n"
     ]
    }
   ],
   "source": [
    "def plot_se_comparison(ax=None):\n",
    "    if ax is None:\n",
    "        fig, ax = plt.subplots()\n",
    "\n",
    "\n",
    "    dummy_theta = np.linspace(0.0001, 45.01, 5000)\n",
    "    T_e_real = 5\n",
    "    n_0 = 1e18\n",
    "    L = 300\n",
    "    g = 60\n",
    "    d_perp = 3e-4\n",
    "    lambda_D = lpu.debye_length(T_e_real, n_0)\n",
    "    print(lambda_D)\n",
    "\n",
    "    MS_a = lpu.calc_sheath_expansion_param(\n",
    "        T_e_real, n_0, L * lambda_D, 0 , np.radians(dummy_theta), \n",
    "        c_1=0.5, c_2=0.6,\n",
    "    )\n",
    "    ax.errorbar(dummy_theta, MS_a, label=r'Bergmann', fmt='-', \n",
    "                color=contrast_palette[4], linewidth=1.0, alpha=0.6)\n",
    "\n",
    "\n",
    "    B_a = lpu.calc_sheath_expansion_param(\n",
    "        T_e_real, n_0, L * lambda_D, g * lambda_D, np.radians(dummy_theta), \n",
    "        c_1=0.5, c_2=0.6,\n",
    "    )\n",
    "    ax.errorbar(dummy_theta, B_a, label=r'Murphy-Sugrue', fmt='-', \n",
    "                color=contrast_palette[1], linewidth=1.0)\n",
    "\n",
    "\n",
    "    L_a = lpu.calc_2d_box_sheath_expansion_param(\n",
    "        T_e_real, n_0, L * lambda_D, g * lambda_D, np.radians(dummy_theta), \n",
    "        d_perp, np.radians(10.0),\n",
    "    #     0, 0,\n",
    "        c_1=0.5, c_2=0.6,\n",
    "        delta_0=30 * lambda_D,\n",
    "    )\n",
    "    ax.errorbar(dummy_theta, L_a, label=r'Rotated Rectangle', fmt='-', \n",
    "                color=contrast_palette[2], linewidth=1.0)\n",
    "\n",
    "\n",
    "\n",
    "    calced_a = lpu.calc_new_sheath_expansion_param(\n",
    "        T_e_real, n_0, L * lambda_D, g * lambda_D, np.radians(dummy_theta), \n",
    "        d_perp, np.radians(10.0),\n",
    "    #     0, 0,\n",
    "    #     c_1=0.5, c_2=0.6,\n",
    "    #     c_1=1.4, c_2=0.39, # from hg-theta=15-30\n",
    "        c_1=0.5, c_2=0.6, # from hg-theta=11-30\n",
    "    )\n",
    "    ax.errorbar(dummy_theta, calced_a, label=r'Parallelogram', fmt='-', \n",
    "                color=contrast_palette[3], linewidth=1.0)\n",
    "\n",
    "\n",
    "    ax.set_ylim(4e-3, 1e1)\n",
    "    ax.set_xlim(0, 30.5)\n",
    "    ax.set_yscale('log')\n",
    "    ax.set_ylabel(r'$a$ [unitless]')\n",
    "    ax.set_xlabel(r'$\\theta$ [$^{\\circ}$]')\n",
    "\n",
    "    ax.legend()\n",
    "#     fig.tight_layout()\n",
    "    \n",
    "plot_se_comparison()"
   ]
  },
  {
   "cell_type": "code",
   "execution_count": 233,
   "metadata": {},
   "outputs": [],
   "source": [
    "def plot_rr_delta_0(ax=None, theta_p=10.0):\n",
    "    if ax is None:\n",
    "        fig, ax = plt.subplots()\n",
    "\n",
    "    calced_a = lpu.calc_new_sheath_expansion_param(\n",
    "        T_e_real, n_0, L * lambda_D, g * lambda_D, np.radians(dummy_theta), \n",
    "        d_perp, np.radians(theta_p),\n",
    "        c_1=0.5, c_2=0.6,\n",
    "    )\n",
    "    ax.errorbar(dummy_theta, calced_a, label=r'Parallelogram', fmt='-', \n",
    "                color='k', linewidth=1.0)\n",
    "\n",
    "    for i, del_0 in enumerate(np.linspace(0,125,6)):\n",
    "        calced_a = lpu.calc_2d_box_sheath_expansion_param(\n",
    "            T_e_real, n_0, L * lambda_D, g * lambda_D, np.radians(dummy_theta), \n",
    "            d_perp, np.radians(theta_p),\n",
    "        #     0, 0,\n",
    "        #     c_1=0.5, c_2=0.6,\n",
    "        #     c_1=1.4, c_2=0.39, # from hg-theta=15-30\n",
    "            c_1=0.5, c_2=0.6, # from hg-theta=11-30\n",
    "            delta_0=(del_0*lambda_D)\n",
    "        )\n",
    "        ax.errorbar(dummy_theta, calced_a, label=f'{del_0}', fmt='-', \n",
    "                    color=cb_palette[i], linewidth=1.0)\n",
    "\n",
    "    ax.set_ylim(5e-3, 1e-1)\n",
    "    ax.set_xlim(0, 30.5)\n",
    "    ax.set_yscale('log')\n",
    "    ax.set_ylabel(r'$a$ [unitless]')\n",
    "    ax.set_xlabel(r'$\\theta$ [$^{\\circ}$]')\n",
    "\n",
    "    ax.legend(title=r'$\\Delta_0 [\\lambda_D]$')\n",
    "#     fig.tight_layout()\n",
    "    \n",
    "plot_rr_delta_0(theta_p=10)"
   ]
  },
  {
   "cell_type": "code",
   "execution_count": 234,
   "metadata": {},
   "outputs": [
    {
     "name": "stdout",
     "output_type": "stream",
     "text": [
      "1.6622799720325184e-05\n"
     ]
    }
   ],
   "source": [
    "fig, ax = plt.subplots(1, 2, figsize=[10,5])\n",
    "\n",
    "plot_se_comparison(ax[0])\n",
    "plot_rr_delta_0(ax[1])\n",
    "fig.tight_layout()"
   ]
  },
  {
   "cell_type": "code",
   "execution_count": 141,
   "metadata": {},
   "outputs": [
    {
     "name": "stdout",
     "output_type": "stream",
     "text": [
      "4.986839916097555\n",
      "0.9973679832195111\n"
     ]
    }
   ],
   "source": [
    "print(L * lambda_D * 1000) # L in mm\n",
    "print(g * lambda_D * 1000) # g in mm"
   ]
  },
  {
   "cell_type": "code",
   "execution_count": 30,
   "metadata": {},
   "outputs": [
    {
     "name": "stdout",
     "output_type": "stream",
     "text": [
      "Parallelogram: 357.9553744214314\n",
      "Rotated Rectangle: 353.84306125481976\n"
     ]
    }
   ],
   "source": [
    "theta = np.radians(10.0)\n",
    "theta_p = np.radians(45.0)\n",
    "\n",
    "def L_0_p(L, g, theta, theta_p, d_perp):\n",
    "    return (L+g) * np.sin(theta) + (L*np.tan(theta_p) - d_perp) * np.cos(theta)\n",
    "\n",
    "def L_0_rr(L, g, theta, theta_p, d_perp, delta_0=0.0):\n",
    "    return ((L+g) * np.sin(theta) \n",
    "            + (L*np.tan(theta_p) - d_perp) * np.cos(theta)\n",
    "            + (delta_0 * np.cos(theta) * (np.cos(theta_p)*(1 - np.tan(theta)*np.tan(theta_p)) - 1))\n",
    "           )\n",
    "\n",
    "print(f'Parallelogram: {L_0_p(L, g, theta, theta_p, d_perp)}')\n",
    "print(f'Rotated Rectangle: {L_0_rr(L, g, theta, theta_p, d_perp, 10.0)}')\n"
   ]
  },
  {
   "cell_type": "code",
   "execution_count": 31,
   "metadata": {},
   "outputs": [
    {
     "data": {
      "text/plain": [
       "Text(0.5, 0, '$\\\\theta$')"
      ]
     },
     "execution_count": 31,
     "metadata": {},
     "output_type": "execute_result"
    }
   ],
   "source": [
    "delta_0 = 30.0\n",
    "\n",
    "dummy_theta\n",
    "dummy_theta_p = np.linspace(0, 20, 5)\n",
    "\n",
    "\n",
    "fig, ax = plt.subplots()\n",
    "for i, theta_probe in enumerate(dummy_theta_p):\n",
    "    theta_p_rads = np.radians(theta_probe)\n",
    "    ax.plot(dummy_theta, L_0_p(L, g, np.radians(dummy_theta), theta_p_rads, d_perp), \n",
    "            label=r'${}\\degree$'.format(theta_probe), ls='dotted', color=cb_palette[i])\n",
    "    ax.plot(dummy_theta, L_0_rr(L, g, np.radians(dummy_theta), theta_p_rads, d_perp, delta_0=delta_0),\n",
    "            ls='-', color=cb_palette[i])\n",
    "ax.legend(title=r'$\\theta_p$')\n",
    "ax.set_ylim(0, None)\n",
    "ax.set_xlim(0, 45)\n",
    "ax.set_ylabel(r'$L_0$')\n",
    "ax.set_xlabel(r'$\\theta$')"
   ]
  },
  {
   "cell_type": "code",
   "execution_count": 167,
   "metadata": {},
   "outputs": [
    {
     "data": {
      "text/plain": [
       "-2.345"
      ]
     },
     "execution_count": 167,
     "metadata": {},
     "output_type": "execute_result"
    }
   ],
   "source": [
    "v_f"
   ]
  },
  {
   "cell_type": "code",
   "execution_count": 171,
   "metadata": {},
   "outputs": [],
   "source": [
    "v_fl_est = 0.5*np.log(4*np.pi/1836)"
   ]
  },
  {
   "cell_type": "code",
   "execution_count": 179,
   "metadata": {},
   "outputs": [],
   "source": [
    "def get_sheath_thickness(V, theta, lambda_D=1.0, T_e=1.0):\n",
    "    return lambda_D * np.float_power(np.abs(V/T_e), 0.75) / np.sqrt(np.sin(theta))"
   ]
  },
  {
   "cell_type": "code",
   "execution_count": 244,
   "metadata": {},
   "outputs": [
    {
     "name": "stderr",
     "output_type": "stream",
     "text": [
      "/home/jleland/coding/environments/python3.6/lib/python3.6/site-packages/ipykernel_launcher.py:2: RuntimeWarning: divide by zero encountered in true_divide\n",
      "  \n",
      "/home/jleland/coding/environments/python3.6/lib/python3.6/site-packages/ipykernel_launcher.py:2: RuntimeWarning: divide by zero encountered in double_scalars\n",
      "  \n"
     ]
    },
    {
     "data": {
      "text/plain": [
       "Text(0.5, 0, '$V_w$')"
      ]
     },
     "execution_count": 244,
     "metadata": {},
     "output_type": "execute_result"
    }
   ],
   "source": [
    "dummy_phi = np.linspace(-5.5,-0.01,101)\n",
    "\n",
    "fig, ax = plt.subplots()\n",
    "for i, theta_probe in enumerate(dummy_theta_p):\n",
    "    theta_p_rads = np.radians(theta_probe)\n",
    "    delta_1 = get_sheath_thickness(dummy_phi, theta_p_rads)\n",
    "    delta_0 = get_sheath_thickness(v_fl_est, theta_p_rads)\n",
    "    ax.plot(dummy_phi, delta_0 + delta_1, \n",
    "            label=r'${}\\degree$'.format(theta_probe), color=cb_palette[i])\n",
    "ax.legend(title=r'$\\theta$')\n",
    "\n",
    "ax.set_ylim(0, None)\n",
    "ax.set_xlim(-5.5, 0)\n",
    "ax.set_ylabel(r'$\\Delta$')\n",
    "ax.set_xlabel(r'$V_w$')"
   ]
  },
  {
   "cell_type": "markdown",
   "metadata": {},
   "source": [
    "## Simulation Shadow Calculations"
   ]
  },
  {
   "cell_type": "code",
   "execution_count": 98,
   "metadata": {},
   "outputs": [],
   "source": [
    "def get_L_sh(voltage, theta, rho_L, c_1=2.0, c_2=0.97, g=60, h=0):\n",
    "    theta_rads = np.radians(theta)\n",
    "    delta_1 = get_Delta_1(voltage, theta, c_2=c_2)\n",
    "    delta = get_delta(voltage, theta, c_1=c_1)\n",
    "    return np.ceil((delta_1 + h + (rho_L * np.cos(theta_rads))) / np.tan(theta_rads) - (g - delta))\n",
    "\n",
    "def get_Delta_1(voltage, theta, c_2=0.97):\n",
    "    theta_rads = np.radians(theta)\n",
    "    return (c_2 * np.float_power(np.abs(voltage), 0.75) / np.sqrt(np.sin(theta_rads)))\n",
    "\n",
    "def get_delta(voltage, theta, c_1=2.0):\n",
    "    theta_rads = np.radians(theta)\n",
    "    return (c_1 * np.float_power(np.abs(voltage), 0.75) / np.sqrt(np.sin(theta_rads)))"
   ]
  },
  {
   "cell_type": "code",
   "execution_count": 41,
   "metadata": {},
   "outputs": [
    {
     "data": {
      "text/plain": [
       "<matplotlib.legend.Legend at 0x7f8c883b5cc0>"
      ]
     },
     "execution_count": 41,
     "metadata": {},
     "output_type": "execute_result"
    }
   ],
   "source": [
    "dummy_theta_coarse = np.linspace(1.5,15,100)\n",
    "\n",
    "fig, ax = plt.subplots()\n",
    "\n",
    "for voltage in np.linspace(20, 10, 5):\n",
    "    \n",
    "    ax.plot(dummy_theta_coarse, get_sheath_height(voltage, dummy_theta_coarse), label=f'{voltage}')\n",
    "ax.axhline(y=136, **c.AX_LINE_DEFAULTS)\n",
    "ax.set_ylabel('Required window width')\n",
    "ax.legend()"
   ]
  },
  {
   "cell_type": "code",
   "execution_count": 112,
   "metadata": {},
   "outputs": [
    {
     "name": "stdout",
     "output_type": "stream",
     "text": [
      "17.180450093286176 60\n"
     ]
    }
   ],
   "source": [
    "T_e = 5\n",
    "n_0 = 1e18\n",
    "B = 0.8\n",
    "\n",
    "\n",
    "rho_l = lpu.ion_larmor_radius(T_e, 0.8)\n",
    "c_s = lpu.sound_speed(T_e, gamma_i=(3/5))\n",
    "lambda_D = lpu.debye_length(T_e, n_0)\n",
    "xi = rho_l / lambda_D\n",
    "\n",
    "g = int(1e-3 / lambda_D)\n",
    "print(xi, g)"
   ]
  },
  {
   "cell_type": "code",
   "execution_count": 113,
   "metadata": {},
   "outputs": [
    {
     "data": {
      "text/plain": [
       "174.0"
      ]
     },
     "execution_count": 113,
     "metadata": {},
     "output_type": "execute_result"
    }
   ],
   "source": [
    "get_L_sh(15, 10.0, xi, g=g)"
   ]
  },
  {
   "cell_type": "code",
   "execution_count": 151,
   "metadata": {},
   "outputs": [
    {
     "data": {
      "text/plain": [
       "array([ -2,  -3,  -4,  -5,  -6,  -7,  -8,  -9, -10, -11, -12, -14, -16,\n",
       "       -18, -20, -25, -30])"
      ]
     },
     "execution_count": 151,
     "metadata": {},
     "output_type": "execute_result"
    }
   ],
   "source": [
    "thetas = np.concatenate([np.arange(2, 13), np.arange(14, 21, 2), np.arange(25, 31, 5)])\n",
    "-thetas"
   ]
  },
  {
   "cell_type": "code",
   "execution_count": 162,
   "metadata": {},
   "outputs": [
    {
     "data": {
      "text/plain": [
       "array([2147., 1451., 1144.,  974.,  868.,  796.,  743.,  704.,  674.,\n",
       "        649.,  629.,  599.,  576.,  570.,  570.,  570.,  570.])"
      ]
     },
     "execution_count": 162,
     "metadata": {},
     "output_type": "execute_result"
    }
   ],
   "source": [
    "L_shs_ff = get_L_sh(15, thetas, xi)\n",
    "L_shs_ff = L_shs_ff.clip(min=70) + 500\n",
    "L_shs_ff "
   ]
  },
  {
   "cell_type": "code",
   "execution_count": 144,
   "metadata": {},
   "outputs": [
    {
     "data": {
      "text/plain": [
       "array([1475.05205159,  982.11974166,  735.28016954,  586.87854874,\n",
       "        487.6968206 ,  416.64170556,  363.16671599,  321.41282708,\n",
       "        287.8647451 ,  260.28557486,  237.18415333,  217.52822927,\n",
       "        200.58056589,  185.80060237,  172.7829923 ,  150.86416001,\n",
       "        133.06864673,  118.28021244,  105.75546451,  100.17490877,\n",
       "         77.31202542])"
      ]
     },
     "execution_count": 144,
     "metadata": {},
     "output_type": "execute_result"
    }
   ],
   "source": [
    "3 * xi * np.cos(np.radians(thetas)) / np.tan(np.radians(thetas))"
   ]
  },
  {
   "cell_type": "code",
   "execution_count": 163,
   "metadata": {},
   "outputs": [
    {
     "data": {
      "text/plain": [
       "array([3665., 2462., 1902., 1580., 1372., 1227., 1121., 1039.,  974.,\n",
       "        922.,  879.,  811.,  761.,  722.,  691.,  635.,  598.])"
      ]
     },
     "execution_count": 163,
     "metadata": {},
     "output_type": "execute_result"
    }
   ],
   "source": [
    "L_shs_ar = get_L_sh(15, thetas, xi, h=53)\n",
    "L_shs_ar = L_shs_ar.clip(min=70) + 500\n",
    "L_shs_ar "
   ]
  },
  {
   "cell_type": "code",
   "execution_count": 126,
   "metadata": {},
   "outputs": [
    {
     "data": {
      "text/plain": [
       "364.756261112416"
      ]
     },
     "execution_count": 126,
     "metadata": {},
     "output_type": "execute_result"
    }
   ],
   "source": [
    "1/(np.radians(3)**2)"
   ]
  },
  {
   "cell_type": "code",
   "execution_count": 127,
   "metadata": {},
   "outputs": [
    {
     "data": {
      "text/plain": [
       "0.05235987755982989"
      ]
     },
     "execution_count": 127,
     "metadata": {},
     "output_type": "execute_result"
    }
   ],
   "source": [
    "np.radians(3)"
   ]
  },
  {
   "cell_type": "code",
   "execution_count": 130,
   "metadata": {},
   "outputs": [
    {
     "data": {
      "text/plain": [
       "1.909859317102744"
      ]
     },
     "execution_count": 130,
     "metadata": {},
     "output_type": "execute_result"
    }
   ],
   "source": [
    "np.degrees(np.sqrt(1/900))"
   ]
  },
  {
   "cell_type": "code",
   "execution_count": 164,
   "metadata": {},
   "outputs": [
    {
     "data": {
      "text/html": [
       "<div>\n",
       "<style scoped>\n",
       "    .dataframe tbody tr th:only-of-type {\n",
       "        vertical-align: middle;\n",
       "    }\n",
       "\n",
       "    .dataframe tbody tr th {\n",
       "        vertical-align: top;\n",
       "    }\n",
       "\n",
       "    .dataframe thead th {\n",
       "        text-align: right;\n",
       "    }\n",
       "</style>\n",
       "<table border=\"1\" class=\"dataframe\">\n",
       "  <thead>\n",
       "    <tr style=\"text-align: right;\">\n",
       "      <th></th>\n",
       "      <th>L_sh_ff</th>\n",
       "      <th>L_sh_ar</th>\n",
       "    </tr>\n",
       "    <tr>\n",
       "      <th>theta</th>\n",
       "      <th></th>\n",
       "      <th></th>\n",
       "    </tr>\n",
       "  </thead>\n",
       "  <tbody>\n",
       "    <tr>\n",
       "      <td>2</td>\n",
       "      <td>2147.0</td>\n",
       "      <td>3665.0</td>\n",
       "    </tr>\n",
       "    <tr>\n",
       "      <td>3</td>\n",
       "      <td>1451.0</td>\n",
       "      <td>2462.0</td>\n",
       "    </tr>\n",
       "    <tr>\n",
       "      <td>4</td>\n",
       "      <td>1144.0</td>\n",
       "      <td>1902.0</td>\n",
       "    </tr>\n",
       "    <tr>\n",
       "      <td>5</td>\n",
       "      <td>974.0</td>\n",
       "      <td>1580.0</td>\n",
       "    </tr>\n",
       "    <tr>\n",
       "      <td>6</td>\n",
       "      <td>868.0</td>\n",
       "      <td>1372.0</td>\n",
       "    </tr>\n",
       "    <tr>\n",
       "      <td>7</td>\n",
       "      <td>796.0</td>\n",
       "      <td>1227.0</td>\n",
       "    </tr>\n",
       "    <tr>\n",
       "      <td>8</td>\n",
       "      <td>743.0</td>\n",
       "      <td>1121.0</td>\n",
       "    </tr>\n",
       "    <tr>\n",
       "      <td>9</td>\n",
       "      <td>704.0</td>\n",
       "      <td>1039.0</td>\n",
       "    </tr>\n",
       "    <tr>\n",
       "      <td>10</td>\n",
       "      <td>674.0</td>\n",
       "      <td>974.0</td>\n",
       "    </tr>\n",
       "    <tr>\n",
       "      <td>11</td>\n",
       "      <td>649.0</td>\n",
       "      <td>922.0</td>\n",
       "    </tr>\n",
       "    <tr>\n",
       "      <td>12</td>\n",
       "      <td>629.0</td>\n",
       "      <td>879.0</td>\n",
       "    </tr>\n",
       "    <tr>\n",
       "      <td>14</td>\n",
       "      <td>599.0</td>\n",
       "      <td>811.0</td>\n",
       "    </tr>\n",
       "    <tr>\n",
       "      <td>16</td>\n",
       "      <td>576.0</td>\n",
       "      <td>761.0</td>\n",
       "    </tr>\n",
       "    <tr>\n",
       "      <td>18</td>\n",
       "      <td>570.0</td>\n",
       "      <td>722.0</td>\n",
       "    </tr>\n",
       "    <tr>\n",
       "      <td>20</td>\n",
       "      <td>570.0</td>\n",
       "      <td>691.0</td>\n",
       "    </tr>\n",
       "    <tr>\n",
       "      <td>25</td>\n",
       "      <td>570.0</td>\n",
       "      <td>635.0</td>\n",
       "    </tr>\n",
       "    <tr>\n",
       "      <td>30</td>\n",
       "      <td>570.0</td>\n",
       "      <td>598.0</td>\n",
       "    </tr>\n",
       "  </tbody>\n",
       "</table>\n",
       "</div>"
      ],
      "text/plain": [
       "       L_sh_ff  L_sh_ar\n",
       "theta                  \n",
       "2       2147.0   3665.0\n",
       "3       1451.0   2462.0\n",
       "4       1144.0   1902.0\n",
       "5        974.0   1580.0\n",
       "6        868.0   1372.0\n",
       "7        796.0   1227.0\n",
       "8        743.0   1121.0\n",
       "9        704.0   1039.0\n",
       "10       674.0    974.0\n",
       "11       649.0    922.0\n",
       "12       629.0    879.0\n",
       "14       599.0    811.0\n",
       "16       576.0    761.0\n",
       "18       570.0    722.0\n",
       "20       570.0    691.0\n",
       "25       570.0    635.0\n",
       "30       570.0    598.0"
      ]
     },
     "execution_count": 164,
     "metadata": {},
     "output_type": "execute_result"
    }
   ],
   "source": [
    "lengths_df = pd.DataFrame({'theta':thetas, 'L_sh_ff': L_shs_ff, 'L_sh_ar':L_shs_ar}).set_index('theta')\n",
    "lengths_df"
   ]
  },
  {
   "cell_type": "code",
   "execution_count": 178,
   "metadata": {},
   "outputs": [],
   "source": [
    "minimum_angles = [4,6,10]\n",
    "other_angles = set(thetas) - set(minimum_angles)\n",
    "\n",
    "oa_df = lengths_df.loc[other_angles]"
   ]
  },
  {
   "cell_type": "code",
   "execution_count": 198,
   "metadata": {},
   "outputs": [
    {
     "data": {
      "text/plain": [
       "array([ -3.,  -4.,  -5.,  -6.,  -7.,  -8.,  -9., -10., -11., -12., -14.,\n",
       "       -16., -18., -20., -25., -30.])"
      ]
     },
     "execution_count": 198,
     "metadata": {},
     "output_type": "execute_result"
    }
   ],
   "source": [
    "(-lengths_df.loc[reduced_angleset].index.values).astype(np.float)"
   ]
  },
  {
   "cell_type": "code",
   "execution_count": 200,
   "metadata": {},
   "outputs": [
    {
     "data": {
      "text/plain": [
       "array([1451, 1144,  974,  868,  796,  743,  704,  674,  649,  629,  599,\n",
       "        576,  570,  570,  570,  570])"
      ]
     },
     "execution_count": 200,
     "metadata": {},
     "output_type": "execute_result"
    }
   ],
   "source": [
    "lengths_df.loc[reduced_angleset]['L_sh_ff'].values.astype(np.int)"
   ]
  },
  {
   "cell_type": "code",
   "execution_count": 197,
   "metadata": {},
   "outputs": [
    {
     "data": {
      "text/plain": [
       "{3, 4, 5, 6, 7, 8, 9, 10, 11, 12, 14, 16, 18, 20, 25, 30}"
      ]
     },
     "execution_count": 197,
     "metadata": {},
     "output_type": "execute_result"
    }
   ],
   "source": [
    "reduced_angleset = set(thetas) - set([2]) \n",
    "#| set([15])\n",
    "reduced_angleset"
   ]
  },
  {
   "cell_type": "code",
   "execution_count": 202,
   "metadata": {},
   "outputs": [
    {
     "data": {
      "text/plain": [
       "64"
      ]
     },
     "execution_count": 202,
     "metadata": {},
     "output_type": "execute_result"
    }
   ],
   "source": [
    "len(reduced_angleset) * 4"
   ]
  },
  {
   "cell_type": "code",
   "execution_count": 204,
   "metadata": {},
   "outputs": [
    {
     "data": {
      "text/plain": [
       "64512"
      ]
     },
     "execution_count": 204,
     "metadata": {},
     "output_type": "execute_result"
    }
   ],
   "source": [
    "64 * 48 *21"
   ]
  },
  {
   "cell_type": "code",
   "execution_count": null,
   "metadata": {},
   "outputs": [],
   "source": []
  }
 ],
 "metadata": {
  "kernelspec": {
   "display_name": "python3.6-codac",
   "language": "python",
   "name": "python3.6-codac"
  },
  "language_info": {
   "codemirror_mode": {
    "name": "ipython",
    "version": 3
   },
   "file_extension": ".py",
   "mimetype": "text/x-python",
   "name": "python",
   "nbconvert_exporter": "python",
   "pygments_lexer": "ipython3",
   "version": "3.6.9"
  }
 },
 "nbformat": 4,
 "nbformat_minor": 4
}
