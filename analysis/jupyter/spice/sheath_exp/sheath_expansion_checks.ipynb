{
 "cells": [
  {
   "cell_type": "markdown",
   "metadata": {},
   "source": [
    "# Sheath Expansion Checks\n",
    "\n",
    "Notebook made for testing two things related to teh sheath expansion theory Pete and I have come up with:\n",
    "- How does the sheath expand around the probe tip laterally?\n",
    "- What is the distribution of ions in the simulation?"
   ]
  },
  {
   "cell_type": "code",
   "execution_count": 1,
   "metadata": {},
   "outputs": [],
   "source": [
    "%matplotlib tk\n",
    "import numpy as np\n",
    "import matplotlib.pyplot as plt\n",
    "import matplotlib as mpl\n",
    "import xarray as xr\n",
    "import pandas as pd\n",
    "import scipy.io as sio\n",
    "import sys\n",
    "import os\n",
    "import glob\n",
    "import copy\n",
    "import pathlib as pth\n",
    "import importlib\n",
    "import math\n",
    "sys.path.append('/home/jleland/Coding/Projects/flopter')\n",
    "import flopter.spice.splopter as spl\n",
    "import flopter.spice.tdata as td\n",
    "import flopter.core.ivdata as iv\n",
    "import flopter.core.fitters as fts\n",
    "import flopter.core.fitdata as fd\n",
    "import flopter.core.lputils as lpu\n",
    "import flopter.core.constants as c\n",
    "import flopter.spice.inputparser as inp\n",
    "import flopter.spice.normalise as nrm"
   ]
  },
  {
   "cell_type": "markdown",
   "metadata": {},
   "source": [
    "## Paths and Matfile IO\n",
    "This section deals with file io and selecting the right .mat files. This needs to be run for the latter sections to work."
   ]
  },
  {
   "cell_type": "code",
   "execution_count": 2,
   "metadata": {
    "pycharm": {
     "is_executing": false
    }
   },
   "outputs": [],
   "source": [
    "spice_dir = pth.Path('/home/jleland/data/external_big/spice/')\n",
    "os.chdir(spice_dir)"
   ]
  },
  {
   "cell_type": "code",
   "execution_count": 3,
   "metadata": {
    "pycharm": {
     "is_executing": false
    }
   },
   "outputs": [
    {
     "name": "stdout",
     "output_type": "stream",
     "text": [
      "0.17453292519943295\n"
     ]
    }
   ],
   "source": [
    "lps = lpu.MagnumProbes()\n",
    "\n",
    "flush_probe = copy.deepcopy(lps.probe_l)\n",
    "flush_probe.theta_p = 0.0\n",
    "flush_probe.d_perp = 0.0\n",
    "\n",
    "angled_probe = copy.deepcopy(lps.probe_l)\n",
    "angled_probe.d_perp = 0.0\n",
    "print(angled_probe.theta_p)"
   ]
  },
  {
   "cell_type": "code",
   "execution_count": 4,
   "metadata": {},
   "outputs": [],
   "source": [
    "skippable_scans = set() \n",
    "single_sims = set()"
   ]
  },
  {
   "cell_type": "code",
   "execution_count": 17,
   "metadata": {
    "pycharm": {
     "is_executing": false
    }
   },
   "outputs": [],
   "source": [
    "# scans_searchstr = '*/*/sheath_exp/*'\n",
    "# scans_searchstr = '*/*/new_sheath_exp/*'\n",
    "scans_searchstr = '*/*/sheath_exp_hg_fflwp/*'\n",
    "# angles_search_str = '/*[!.{yml, inp}]/backup*'\n",
    "angles_search_str = '/*[!.{yml, inp}]'\n",
    "\n",
    "non_standard_variables = {'t', 'ProbePot', 'npartproc', 'Nz', 'Nzmax', 'Ny', 'count', 'Npc', \n",
    "                          'snumber', 'nproc', 'by', 'bz', 'rho01', 'rho02', 'rho'}\n",
    "desired_variables = (td.DEFAULT_REDUCED_DATASET | non_standard_variables) - {td.OBJECTSCURRENTFLUXE, td.OBJECTSCURRENTFLUXI}\n",
    "\n",
    "all_run_dirs = {}\n",
    "scans = glob.glob(scans_searchstr)\n",
    "scans = set(scans) - skippable_scans\n",
    "for scan in scans:\n",
    "    if scan in single_sims:\n",
    "        all_run_dirs[scan] = [scan]\n",
    "    else:\n",
    "        all_run_dirs[scan] = glob.glob(scan + angles_search_str)\n",
    "\n",
    "\n",
    "skippable = {}\n",
    "scans = list(scans)\n",
    "scans.sort()"
   ]
  },
  {
   "cell_type": "code",
   "execution_count": 19,
   "metadata": {
    "pycharm": {
     "is_executing": false
    }
   },
   "outputs": [
    {
     "name": "stdout",
     "output_type": "stream",
     "text": [
      "[0]: marconi/spice2/sheath_exp_hg_fflwp/angled_recessed_as\n",
      "\t[0,0]: angled_recessed_as/alpha_yz_-10.0\n",
      "\t[0,1]: angled_recessed_as/alpha_yz_-11.0\n",
      "\t[0,2]: angled_recessed_as/alpha_yz_-12.0\n",
      "\t[0,3]: angled_recessed_as/alpha_yz_-15.0\n",
      "\t[0,4]: angled_recessed_as/alpha_yz_-2.0\n",
      "\t[0,5]: angled_recessed_as/alpha_yz_-20.0\n",
      "\t[0,6]: angled_recessed_as/alpha_yz_-3.0\n",
      "\t[0,7]: angled_recessed_as/alpha_yz_-30.0\n",
      "\t[0,8]: angled_recessed_as/alpha_yz_-4.0\n",
      "\t[0,9]: angled_recessed_as/alpha_yz_-5.0\n",
      "\t[0,10]: angled_recessed_as/alpha_yz_-6.0\n",
      "\t[0,11]: angled_recessed_as/alpha_yz_-7.0\n",
      "\t[0,12]: angled_recessed_as/alpha_yz_-8.0\n",
      "\t[0,13]: angled_recessed_as/alpha_yz_-9.0\n",
      "[1]: marconi/spice2/sheath_exp_hg_fflwp/flat_flush_as\n",
      "\t[1,0]: flat_flush_as/alpha_yz_-10.0\n",
      "\t[1,1]: flat_flush_as/alpha_yz_-12.0\n",
      "\t[1,2]: flat_flush_as/alpha_yz_-15.0\n",
      "\t[1,3]: flat_flush_as/alpha_yz_-2.0\n",
      "\t[1,4]: flat_flush_as/alpha_yz_-20.0\n",
      "\t[1,5]: flat_flush_as/alpha_yz_-3.0\n",
      "\t[1,6]: flat_flush_as/alpha_yz_-30.0\n",
      "\t[1,7]: flat_flush_as/alpha_yz_-4.0\n",
      "\t[1,8]: flat_flush_as/alpha_yz_-5.0\n",
      "\t[1,9]: flat_flush_as/alpha_yz_-6.0\n",
      "\t[1,10]: flat_flush_as/alpha_yz_-8.0\n"
     ]
    }
   ],
   "source": [
    "for i, scan in enumerate(scans):\n",
    "    print(f\"[{i}]: {scan}\")\n",
    "    for j, run in enumerate(all_run_dirs[scan]):\n",
    "        print(f\"\\t[{i},{j}]: {'/'.join(run.split('/')[-2:])}\")"
   ]
  },
  {
   "cell_type": "markdown",
   "metadata": {},
   "source": [
    "---\n",
    "## Run to Check "
   ]
  },
  {
   "cell_type": "code",
   "execution_count": 86,
   "metadata": {},
   "outputs": [
    {
     "name": "stdout",
     "output_type": "stream",
     "text": [
      "/home/jleland/data/external_big/spice/marconi/spice2/sheath_exp_hg_fflwp/flat_flush_as/alpha_yz_-2.0\n"
     ]
    }
   ],
   "source": [
    "spl_path = spice_dir / all_run_dirs[scans[1]][3]\n",
    "print(spl_path)\n"
   ]
  },
  {
   "cell_type": "code",
   "execution_count": 87,
   "metadata": {},
   "outputs": [
    {
     "data": {
      "text/plain": [
       "'spice2/sheath_exp_hg_fflwp/flat_flush_as'"
      ]
     },
     "execution_count": 87,
     "metadata": {},
     "output_type": "execute_result"
    }
   ],
   "source": [
    "'/'.join(str(spl_path.parent).split('/')[-3:])"
   ]
  },
  {
   "cell_type": "code",
   "execution_count": 88,
   "metadata": {},
   "outputs": [
    {
     "name": "stdout",
     "output_type": "stream",
     "text": [
      "0, -24: \t sheath_exp_hg_fflwp/flat_flush_as/backup_20210123-1750\n",
      "1, -23: \t sheath_exp_hg_fflwp/flat_flush_as/backup_20210124-1500\n",
      "2, -22: \t sheath_exp_hg_fflwp/flat_flush_as/backup_20210125-1211\n",
      "3, -21: \t sheath_exp_hg_fflwp/flat_flush_as/backup_20210126-0923\n",
      "4, -20: \t sheath_exp_hg_fflwp/flat_flush_as/backup_20210127-0634\n",
      "5, -19: \t sheath_exp_hg_fflwp/flat_flush_as/backup_20210128-0345\n",
      "6, -18: \t sheath_exp_hg_fflwp/flat_flush_as/backup_20210129-0123\n",
      "7, -17: \t sheath_exp_hg_fflwp/flat_flush_as/backup_20210129-2235\n",
      "8, -16: \t sheath_exp_hg_fflwp/flat_flush_as/backup_20210130-1946\n",
      "9, -15: \t sheath_exp_hg_fflwp/flat_flush_as/backup_20210131-1658\n",
      "10, -14: \t sheath_exp_hg_fflwp/flat_flush_as/backup_20210201-1409\n",
      "11, -13: \t sheath_exp_hg_fflwp/flat_flush_as/backup_20210203-0815\n",
      "12, -12: \t sheath_exp_hg_fflwp/flat_flush_as/backup_20210204-0834\n",
      "13, -11: \t sheath_exp_hg_fflwp/flat_flush_as/backup_20210205-1617\n",
      "14, -10: \t sheath_exp_hg_fflwp/flat_flush_as/backup_20210206-1329\n",
      "15, -9: \t sheath_exp_hg_fflwp/flat_flush_as/backup_20210208-0704\n",
      "16, -8: \t sheath_exp_hg_fflwp/flat_flush_as/backup_20210209-0416\n",
      "17, -7: \t sheath_exp_hg_fflwp/flat_flush_as/backup_20210210-0150\n",
      "18, -6: \t sheath_exp_hg_fflwp/flat_flush_as/backup_20210212-1608\n",
      "19, -5: \t sheath_exp_hg_fflwp/flat_flush_as/backup_20210214-1324\n",
      "20, -4: \t sheath_exp_hg_fflwp/flat_flush_as/backup_20210215-1143\n",
      "21, -3: \t sheath_exp_hg_fflwp/flat_flush_as/backup_20210217-1541\n",
      "22, -2: \t sheath_exp_hg_fflwp/flat_flush_as/backup_20210220-0212\n",
      "23, -1: \t sheath_exp_hg_fflwp/flat_flush_as/backup_20210223-2327\n"
     ]
    }
   ],
   "source": [
    "backups = list(spl_path.glob('backup*'))\n",
    "n = len(backups)\n",
    "\n",
    "for i, path in enumerate(backups):\n",
    "    print(f'{i}, {i-n}: \\t {\"/\".join(str(spl_path.parent).split(\"/\")[-2:])}/{path.name}')"
   ]
  },
  {
   "cell_type": "code",
   "execution_count": 89,
   "metadata": {},
   "outputs": [
    {
     "name": "stdout",
     "output_type": "stream",
     "text": [
      "/home/jleland/data/external_big/spice/marconi/spice2/sheath_exp_hg_fflwp/flat_flush_as/alpha_yz_-2.0/backup_20210220-0212\n",
      "/home/jleland/data/external_big/spice/marconi/spice2/sheath_exp_hg_fflwp/flat_flush_as/alpha_yz_-2.0/backup_20210220-0212/t-alpha_yz_-2.0.mat\n"
     ]
    }
   ],
   "source": [
    "backup_path = list(spl_path.glob('backup*'))[-2]\n",
    "backup_tfile = list(backup_path.glob('t-*.mat'))[0]\n",
    "print(backup_path)\n",
    "print(backup_tfile)"
   ]
  },
  {
   "cell_type": "code",
   "execution_count": 90,
   "metadata": {},
   "outputs": [],
   "source": [
    "# tdata = td.Spice2TData(backup_tfile)\n",
    "# tdata = None"
   ]
  },
  {
   "cell_type": "code",
   "execution_count": 97,
   "metadata": {},
   "outputs": [
    {
     "name": "stdout",
     "output_type": "stream",
     "text": [
      "Spice data directory is not valid, attempting to auto-fix.\n",
      "Passed Spice directory (/home/jleland/data/external_big/spice/marconi/spice2/sheath_exp_hg_fflwp/flat_flush_as/alpha_yz_-2.0/backup_20210220-0212) doesn't seem to be valid.\n",
      "Continuing anyway.\n",
      "WARNING: Encountered t-zeroing, creating an approximate t array\n"
     ]
    }
   ],
   "source": [
    "backup_spl = spl.Splopter(backup_path, reduce=desired_variables, ignore_tzero_fl=True, version=2.14,\n",
    "                          store_dataframe_fl=True, check_voltage_error_fl=False)\n",
    "backup_spl.parse_input()"
   ]
  },
  {
   "cell_type": "code",
   "execution_count": 92,
   "metadata": {},
   "outputs": [],
   "source": [
    "fig, ax = plt.subplots()\n",
    "\n",
    "ax.plot(backup_spl.tdata.t_dict['ProbePot'])\n",
    "\n",
    "for i in range(4):\n",
    "    line_pos = i * len(backup_spl.tdata.t_dict['ProbePot']) / 4\n",
    "    ax.axvline(x=line_pos, **c.AX_LINE_DEFAULTS)"
   ]
  },
  {
   "cell_type": "code",
   "execution_count": 93,
   "metadata": {},
   "outputs": [],
   "source": [
    "t, V, I_e, I_i = backup_spl.get_tdata_raw_iv()\n",
    "\n",
    "fig, ax = plt.subplots()\n",
    "I_tot = (I_e + I_i)[::100]\n",
    "ax.plot(I_tot)\n",
    "\n",
    "for i in range(4):\n",
    "    line_pos = i * len(I_tot) / 4\n",
    "    ax.axvline(x=line_pos, **c.AX_LINE_DEFAULTS)\n"
   ]
  },
  {
   "cell_type": "code",
   "execution_count": 94,
   "metadata": {},
   "outputs": [
    {
     "data": {
      "text/plain": [
       "-0.3740846272751438"
      ]
     },
     "execution_count": 94,
     "metadata": {},
     "output_type": "execute_result"
    }
   ],
   "source": [
    "backup_spl.tdata.pot[360:380, 1050:].mean()"
   ]
  },
  {
   "cell_type": "code",
   "execution_count": 95,
   "metadata": {},
   "outputs": [
    {
     "data": {
      "text/plain": [
       "<matplotlib.collections.QuadMesh at 0x7f493d8b4e10>"
      ]
     },
     "execution_count": 95,
     "metadata": {},
     "output_type": "execute_result"
    }
   ],
   "source": [
    "fig, ax = plt.subplots()\n",
    "mapper = ax.pcolormesh(backup_spl.tdata.pot)\n",
    "fig.colorbar(mapper)\n",
    "ax.pcolormesh(backup_spl.tdata.pot[360:380, 1050:], cmap='plasma')"
   ]
  },
  {
   "cell_type": "code",
   "execution_count": 99,
   "metadata": {
    "collapsed": true,
    "jupyter": {
     "outputs_hidden": true
    }
   },
   "outputs": [
    {
     "name": "stderr",
     "output_type": "stream",
     "text": [
      "ERROR:root:Internal Python error in the inspect module.\n",
      "Below is the traceback from this internal error.\n",
      "\n"
     ]
    },
    {
     "name": "stdout",
     "output_type": "stream",
     "text": [
      "Traceback (most recent call last):\n",
      "  File \"/home/jleland/coding/environments/python3.6/lib/python3.6/site-packages/IPython/core/interactiveshell.py\", line 3326, in run_code\n",
      "    exec(code_obj, self.user_global_ns, self.user_ns)\n",
      "  File \"<ipython-input-99-e7aac73b46db>\", line 1, in <module>\n",
      "    backup_spl.plot_2d_variable(b_arrow_loc=(100, 100))\n",
      "  File \"/home/jleland/coding/projects/flopter/flopter/spice/splopter.py\", line 657, in plot_2d_variable\n",
      "    plt.imshow(objects, cmap='Greys', extent=[0, len(plasma_parameter[0]) / 2, 0, len(plasma_parameter) / 2])\n",
      "  File \"/home/jleland/coding/environments/python3.6/lib/python3.6/site-packages/matplotlib/pyplot.py\", line 2683, in imshow\n",
      "    None else {}), **kwargs)\n",
      "  File \"/home/jleland/coding/environments/python3.6/lib/python3.6/site-packages/matplotlib/__init__.py\", line 1601, in inner\n",
      "    return func(ax, *map(sanitize_sequence, args), **kwargs)\n",
      "  File \"/home/jleland/coding/environments/python3.6/lib/python3.6/site-packages/matplotlib/cbook/deprecation.py\", line 369, in wrapper\n",
      "    return func(*args, **kwargs)\n",
      "  File \"/home/jleland/coding/environments/python3.6/lib/python3.6/site-packages/matplotlib/cbook/deprecation.py\", line 369, in wrapper\n",
      "    return func(*args, **kwargs)\n",
      "  File \"/home/jleland/coding/environments/python3.6/lib/python3.6/site-packages/matplotlib/axes/_axes.py\", line 5671, in imshow\n",
      "    im.set_data(X)\n",
      "  File \"/home/jleland/coding/environments/python3.6/lib/python3.6/site-packages/matplotlib/image.py\", line 674, in set_data\n",
      "    from PIL import Image\n",
      "  File \"<frozen importlib._bootstrap>\", line 971, in _find_and_load\n",
      "  File \"<frozen importlib._bootstrap>\", line 951, in _find_and_load_unlocked\n",
      "  File \"<frozen importlib._bootstrap>\", line 894, in _find_spec\n",
      "  File \"<frozen importlib._bootstrap_external>\", line 1157, in find_spec\n",
      "  File \"<frozen importlib._bootstrap_external>\", line 1126, in _get_spec\n",
      "  File \"<frozen importlib._bootstrap_external>\", line 1090, in _path_importer_cache\n",
      "OSError: [Errno 5] Input/output error\n",
      "\n",
      "During handling of the above exception, another exception occurred:\n",
      "\n",
      "Traceback (most recent call last):\n",
      "  File \"/home/jleland/coding/environments/python3.6/lib/python3.6/site-packages/IPython/core/interactiveshell.py\", line 2040, in showtraceback\n",
      "    stb = value._render_traceback_()\n",
      "AttributeError: 'OSError' object has no attribute '_render_traceback_'\n",
      "\n",
      "During handling of the above exception, another exception occurred:\n",
      "\n",
      "Traceback (most recent call last):\n",
      "  File \"/home/jleland/coding/environments/python3.6/lib/python3.6/site-packages/IPython/core/ultratb.py\", line 1101, in get_records\n",
      "    return _fixed_getinnerframes(etb, number_of_lines_of_context, tb_offset)\n",
      "  File \"/home/jleland/coding/environments/python3.6/lib/python3.6/site-packages/IPython/core/ultratb.py\", line 319, in wrapped\n",
      "    return f(*args, **kwargs)\n",
      "  File \"/home/jleland/coding/environments/python3.6/lib/python3.6/site-packages/IPython/core/ultratb.py\", line 353, in _fixed_getinnerframes\n",
      "    records = fix_frame_records_filenames(inspect.getinnerframes(etb, context))\n",
      "  File \"/home/jleland/.pyenv/versions/3.6.9/lib/python3.6/inspect.py\", line 1490, in getinnerframes\n",
      "    frameinfo = (tb.tb_frame,) + getframeinfo(tb, context)\n",
      "  File \"/home/jleland/.pyenv/versions/3.6.9/lib/python3.6/inspect.py\", line 1448, in getframeinfo\n",
      "    filename = getsourcefile(frame) or getfile(frame)\n",
      "  File \"/home/jleland/.pyenv/versions/3.6.9/lib/python3.6/inspect.py\", line 696, in getsourcefile\n",
      "    if getattr(getmodule(object, filename), '__loader__', None) is not None:\n",
      "  File \"/home/jleland/.pyenv/versions/3.6.9/lib/python3.6/inspect.py\", line 725, in getmodule\n",
      "    file = getabsfile(object, _filename)\n",
      "  File \"/home/jleland/.pyenv/versions/3.6.9/lib/python3.6/inspect.py\", line 709, in getabsfile\n",
      "    return os.path.normcase(os.path.abspath(_filename))\n",
      "  File \"/home/jleland/coding/environments/python3.6/lib/python3.6/posixpath.py\", line 383, in abspath\n",
      "    cwd = os.getcwd()\n",
      "OSError: [Errno 5] Input/output error\n"
     ]
    },
    {
     "ename": "OSError",
     "evalue": "[Errno 5] Input/output error",
     "output_type": "error",
     "traceback": [
      "\u001b[0;31m---------------------------------------------------------------------------\u001b[0m"
     ]
    }
   ],
   "source": [
    "backup_spl.plot_2d_variable(b_arrow_loc=(100, 100))"
   ]
  },
  {
   "cell_type": "code",
   "execution_count": 98,
   "metadata": {},
   "outputs": [
    {
     "name": "stdout",
     "output_type": "stream",
     "text": [
      "(465, 1113)\n"
     ]
    },
    {
     "data": {
      "text/plain": [
       "[<matplotlib.lines.Line2D at 0x7f4931e91748>]"
      ]
     },
     "execution_count": 98,
     "metadata": {},
     "output_type": "execute_result"
    }
   ],
   "source": [
    "fig, ax = plt.subplots()\n",
    "\n",
    "print(backup_spl.tdata.pot.shape)\n",
    "ax.plot(backup_spl.tdata.pot[:,200])"
   ]
  },
  {
   "cell_type": "code",
   "execution_count": 75,
   "metadata": {},
   "outputs": [],
   "source": [
    "def plot_2d_slice(splopter, var_2d='Pot', x_slice=200, ax=None, invert_fl=False):\n",
    "    if ax is None:\n",
    "        fig, ax = plt.subplots(2, figsize=[6,12])\n",
    "    else: \n",
    "        fig = ax[0].figure\n",
    "        \n",
    "    var_2d_data = backup_spl.tdata.t_dict[var_2d]\n",
    "    if invert_fl:\n",
    "        var_2d_data = -var_2d_data\n",
    "\n",
    "    ax[0].contourf(var_2d_data)\n",
    "    ax[0].axvline(x=x_slice, **c.AX_LINE_DEFAULTS)\n",
    "    ax[0].axis('scaled')\n",
    "    ax[0].autoscale()\n",
    "\n",
    "    ax[1].plot( np.arange(var_2d_data.shape[0]), var_2d_data[:, x_slice],)\n",
    "#     ax[1].axis('scaled')\n",
    "#     ax[1].autoscale()\n",
    "\n",
    "    fig.tight_layout()\n",
    "    return ax\n",
    "\n",
    "def plot_slice(splopter, var_2d='Pot', x_slice=200, ax=None, invert_fl=False):\n",
    "    if ax is None:\n",
    "        fig, ax = plt.subplots(figsize=[6, 6])\n",
    "    else: \n",
    "        fig = ax.figure\n",
    "        \n",
    "    var_2d_data = backup_spl.tdata.t_dict[var_2d]\n",
    "    if invert_fl:\n",
    "        var_2d_data = -var_2d_data\n",
    "\n",
    "    ax.plot( np.arange(var_2d_data.shape[0]), var_2d_data[:, x_slice],)\n",
    "#     ax[1].axis('scaled')\n",
    "#     ax[1].autoscale()\n",
    "\n",
    "    fig.tight_layout()\n",
    "    return ax\n",
    "\n",
    "def plot_mean_slice(splopter, var_2d='Pot', x_slice=slice(180,220), ax=None, invert_fl=False):\n",
    "    if ax is None:\n",
    "        fig, ax = plt.subplots(figsize=[6, 6])\n",
    "    else: \n",
    "        fig = ax.figure\n",
    "        \n",
    "    var_2d_data = backup_spl.tdata.t_dict[var_2d]\n",
    "    if invert_fl:\n",
    "        var_2d_data = -var_2d_data\n",
    "\n",
    "    ax.plot( np.arange(var_2d_data.shape[0]), np.mean(var_2d_data[:, x_slice], axis=1),)\n",
    "#     ax[1].axis('scaled')\n",
    "#     ax[1].autoscale()\n",
    "\n",
    "    fig.tight_layout()\n",
    "    return ax"
   ]
  },
  {
   "cell_type": "code",
   "execution_count": 84,
   "metadata": {},
   "outputs": [
    {
     "data": {
      "text/plain": [
       "<matplotlib.axes._subplots.AxesSubplot at 0x7f4931fd45f8>"
      ]
     },
     "execution_count": 84,
     "metadata": {},
     "output_type": "execute_result"
    }
   ],
   "source": [
    "plot_mean_slice(backup_spl, x_slice=(0,120), var_2d='rho01')"
   ]
  },
  {
   "cell_type": "code",
   "execution_count": 65,
   "metadata": {},
   "outputs": [
    {
     "data": {
      "text/plain": [
       "array([<matplotlib.axes._subplots.AxesSubplot object at 0x7f493da954a8>,\n",
       "       <matplotlib.axes._subplots.AxesSubplot object at 0x7f493da45320>],\n",
       "      dtype=object)"
      ]
     },
     "execution_count": 65,
     "metadata": {},
     "output_type": "execute_result"
    }
   ],
   "source": [
    "plot_2d_slice(backup_spl, x_slice=30, var_2d='Pot')"
   ]
  },
  {
   "cell_type": "code",
   "execution_count": 82,
   "metadata": {},
   "outputs": [
    {
     "data": {
      "text/plain": [
       "array([<matplotlib.axes._subplots.AxesSubplot object at 0x7f493af3eeb8>,\n",
       "       <matplotlib.axes._subplots.AxesSubplot object at 0x7f493ae5fcf8>],\n",
       "      dtype=object)"
      ]
     },
     "execution_count": 82,
     "metadata": {},
     "output_type": "execute_result"
    }
   ],
   "source": [
    "fig, ax = plt.subplots(2, 3, figsize=[14, 10], sharey='row')\n",
    "\n",
    "plot_2d_slice(backup_spl, var_2d='rho', ax=ax[:, 0], x_slice=400)\n",
    "plot_2d_slice(backup_spl, var_2d='rho01', ax=ax[:, 1])\n",
    "plot_2d_slice(backup_spl, var_2d='rho02', ax=ax[:, 2], invert_fl=True)"
   ]
  },
  {
   "cell_type": "code",
   "execution_count": 92,
   "metadata": {},
   "outputs": [],
   "source": [
    "fig, ax = plt.subplots(3, figsize=[10, 10])\n",
    "\n",
    "\n",
    "for i, x_slc in enumerate([20, 200, 300]):\n",
    "    plot_slice(backup_spl, var_2d='rho01', x_slice=x_slc, ax=ax[i])\n",
    "    plot_slice(backup_spl, var_2d='rho02', x_slice=x_slc, ax=ax[i], invert_fl=True)\n",
    "    ax[i].set_xlim(90, 250)"
   ]
  },
  {
   "cell_type": "code",
   "execution_count": 83,
   "metadata": {},
   "outputs": [],
   "source": [
    "x_slices = [0, 280]\n",
    "samples = [60, 150]\n",
    "n_axes = len(x_slices)\n",
    "\n",
    "fig, ax = plt.subplots(n_axes + 1, figsize=[10, 10])\n",
    "rho01 = backup_spl.tdata.t_dict['rho01']\n",
    "rho02 = -backup_spl.tdata.t_dict['rho02']\n",
    "\n",
    "for i, (x_slc, sample) in enumerate(zip(x_slices, samples)):    \n",
    "    if x_slc - sample < 0:\n",
    "        roll_offs = np.abs(x_slc-sample)\n",
    "        rho01 = np.roll(backup_spl.tdata.t_dict['rho01'], roll_offs)\n",
    "        rho02 = np.roll(-backup_spl.tdata.t_dict['rho02'], roll_offs)\n",
    "        x_slc = x_slc + roll_offs\n",
    "    x_slice = slice(x_slc-sample, x_slc+sample)\n",
    "    ax[i].plot(np.arange(rho01.shape[0]), np.mean(rho01[:, x_slice], axis=1),)\n",
    "    ax[i].plot(np.arange(rho02.shape[0]), np.mean(rho02[:, x_slice], axis=1),)\n",
    "#     plot_mean_slice(backup_spl, var_2d='rho01', x_slice=slice(x_slc-sample, x_slc+sample), ax=ax[i])\n",
    "#     plot_mean_slice(backup_spl, var_2d='rho02', x_slice=slice(x_slc-sample, x_slc+sample), ax=ax[i], invert_fl=True)\n",
    "    ax[i].set_xlim(93, 220)\n",
    "    \n",
    "    ax[n_axes].plot(np.arange(rho01.shape[0]), np.mean(rho01[:, x_slice], axis=1) - np.mean(rho02[:, x_slice], axis=1),)\n",
    "    ax[n_axes].set_xlim(92, 220)\n",
    "    ax[n_axes].set_ylim(-1.2, 5)\n",
    "#     ax[n_axes].axvline(x=x_slc, **c.AX_LINE_DEFAULTS)\n",
    "#     ax[n_axes].axvspan(x_slc + sample, x_slc - sample, color='grey', alpha=0.5)\n",
    "    \n",
    "# ax[n_axes].pcolormesh(backup_spl.tdata.pot)\n",
    "\n",
    "fig.tight_layout()\n"
   ]
  },
  {
   "cell_type": "code",
   "execution_count": 112,
   "metadata": {},
   "outputs": [
    {
     "data": {
      "text/plain": [
       "<matplotlib.collections.QuadMesh at 0x7f4de228a518>"
      ]
     },
     "execution_count": 112,
     "metadata": {},
     "output_type": "execute_result"
    }
   ],
   "source": [
    "fig, ax = plt.subplots()\n",
    "ax.pcolormesh(backup_spl.tdata.pot[:, slice(0, 0-60)])"
   ]
  },
  {
   "cell_type": "code",
   "execution_count": 116,
   "metadata": {},
   "outputs": [
    {
     "name": "stdout",
     "output_type": "stream",
     "text": [
      "556.0\n"
     ]
    }
   ],
   "source": [
    "L = backup_spl.parser.getfloat('rectangle2', 'yhigh') - backup_spl.parser.getfloat('rectangle2', 'ylow')\n",
    "g = backup_spl.parser.getfloat('rectangle2', 'ylow') - backup_spl.parser.getfloat('rectangle0', 'yhigh')\n",
    "sim_w = backup_spl.parser.getfloat('geom', 'Ly')\n",
    "print(sim_w)"
   ]
  },
  {
   "cell_type": "code",
   "execution_count": 117,
   "metadata": {},
   "outputs": [],
   "source": [
    "h = backup_spl.parser.getfloat('triangle0', 'zc') - backup_spl.parser.getfloat('rectangle1', 'zhigh')\n",
    "L_back = backup_spl.parser.getfloat('rectangle1', 'yhigh') - backup_spl.parser.getfloat('rectangle1', 'ylow')\n",
    "L_front = backup_spl.parser.getfloat('rectangle0', 'yhigh') - backup_spl.parser.getfloat('rectangle0', 'ylow')\n",
    "# theta = np.abs(backup_spl.parser.getfloat('plasma', 'alpha_yz'))\n",
    "theta = 2\n",
    "L_shadow = np.ceil((h / np.tan(np.radians(theta))) - g)"
   ]
  },
  {
   "cell_type": "code",
   "execution_count": 118,
   "metadata": {},
   "outputs": [
    {
     "name": "stdout",
     "output_type": "stream",
     "text": [
      "35.0\n",
      "60.0\n",
      "136.0\n",
      "943.0\n"
     ]
    }
   ],
   "source": [
    "print(h)\n",
    "print(g)\n",
    "print(L_front + L_back)\n",
    "print(L_shadow)"
   ]
  },
  {
   "cell_type": "code",
   "execution_count": 119,
   "metadata": {},
   "outputs": [
    {
     "name": "stdout",
     "output_type": "stream",
     "text": [
      "943.0\n",
      "875.0\n",
      "1431.0\n"
     ]
    }
   ],
   "source": [
    "print(np.ceil(L_shadow))\n",
    "print(np.ceil(L_shadow) - L_back) # length to add to rear tile\n",
    "print(sim_w + np.ceil(L_shadow) - L_back) # new sim width"
   ]
  },
  {
   "cell_type": "markdown",
   "metadata": {},
   "source": [
    "## Comparing 2 runs"
   ]
  },
  {
   "cell_type": "code",
   "execution_count": 27,
   "metadata": {},
   "outputs": [
    {
     "name": "stdout",
     "output_type": "stream",
     "text": [
      "/home/jleland/data/external_big/spice/marconi/spice2/sheath_exp/angled/alpha_yz_-10.0\n",
      "/home/jleland/data/external_big/spice/marconi/spice2/sheath_exp/angled_longtail_10/alpha_yz_-10.0\n"
     ]
    }
   ],
   "source": [
    "compare_spl_path = spice_dir / all_run_dirs[scans[0]][0]\n",
    "print(compare_spl_path)\n",
    "print(spl_path)"
   ]
  },
  {
   "cell_type": "code",
   "execution_count": 28,
   "metadata": {},
   "outputs": [
    {
     "name": "stdout",
     "output_type": "stream",
     "text": [
      "Spice data directory is not valid, attempting to auto-fix.\n",
      "Passed Spice directory (/home/jleland/data/external_big/spice/marconi/spice2/sheath_exp/angled/alpha_yz_-10.0) doesn't seem to be valid.\n",
      "Continuing anyway.\n"
     ]
    },
    {
     "name": "stderr",
     "output_type": "stream",
     "text": [
      "/home/jleland/coding/environments/python3.6/lib/python3.6/site-packages/scipy/io/matlab/mio.py:218: MatReadWarning: Duplicate variable name \"npartproc\" in stream - replacing previous with new\n",
      "Consider mio5.varmats_from_mat to split file into single variable files\n",
      "  matfile_dict = MR.get_variables(variable_names)\n"
     ]
    },
    {
     "name": "stdout",
     "output_type": "stream",
     "text": [
      "WARNING: Encountered t-zeroing, creating an approximate t array\n"
     ]
    }
   ],
   "source": [
    "comp_spl = spl.Splopter(compare_spl_path, reduce=desired_variables, ignore_tzero_fl=True, version=2.14,\n",
    "                        store_dataframe_fl=True, check_voltage_error_fl=False)\n",
    "comp_spl.parse_input()"
   ]
  },
  {
   "cell_type": "code",
   "execution_count": 29,
   "metadata": {},
   "outputs": [
    {
     "data": {
      "text/plain": [
       "[<matplotlib.lines.Line2D at 0x7f48aa931470>]"
      ]
     },
     "execution_count": 29,
     "metadata": {},
     "output_type": "execute_result"
    }
   ],
   "source": [
    "t_1, V_1, I_e_1, I_i_1 = backup_spl.get_tdata_raw_iv()\n",
    "\n",
    "fig, ax = plt.subplots()\n",
    "ax.plot((I_e + I_i)[::100])\n",
    "ax.plot((I_e_1 + I_i_1)[::100])"
   ]
  },
  {
   "cell_type": "code",
   "execution_count": 31,
   "metadata": {},
   "outputs": [],
   "source": [
    "backup_iv, _ = backup_spl.homogenise()\n",
    "comp_iv, _ = comp_spl.homogenise()"
   ]
  },
  {
   "cell_type": "code",
   "execution_count": 55,
   "metadata": {},
   "outputs": [
    {
     "data": {
      "text/plain": [
       "<ErrorbarContainer object of 3 artists>"
      ]
     },
     "execution_count": 55,
     "metadata": {},
     "output_type": "execute_result"
    }
   ],
   "source": [
    "fig, ax = plt.subplots()\n",
    "\n",
    "backup_iv.plot(ax=ax)\n",
    "comp_iv.plot(ax=ax)"
   ]
  },
  {
   "cell_type": "code",
   "execution_count": 57,
   "metadata": {},
   "outputs": [],
   "source": [
    "fig, ax = plt.subplots()\n",
    "\n",
    "for splop in [comp_spl.iv_df, backup_spl.iv_df]:\n",
    "    sploop = splop.to_xarray().swap_dims({'index':'voltage'}).sel(voltage=slice(-9.95,-3.4))\n",
    "#     ax.plot(np.float_power(np.abs(sploop['voltage']), 0.75), sploop['current_i'])\n",
    "    \n",
    "    fitter = fts.IonCurrentSEFitter()\n",
    "    fitter.fit(np.float_power(np.abs(sploop['voltage'].values), 0.75), sploop['current_i'].values).plot(ax=ax)\n",
    "# ax.plot(np.float_power(np.abs(comp_spl.iv_df['voltage']), 0.75), comp_spl.iv_df['current_i'])\n",
    "# ax.plot(np.float_power(np.abs(backup_spl.iv_df['voltage']), 0.75), backup_spl.iv_df['current_i'])"
   ]
  },
  {
   "cell_type": "markdown",
   "metadata": {},
   "source": [
    "## Look at the Ion Distribution Function at Injection"
   ]
  },
  {
   "cell_type": "code",
   "execution_count": 202,
   "metadata": {},
   "outputs": [],
   "source": [
    "spice_bin_path = pth.Path('/home/jleland/spice/spice2/bin/')"
   ]
  },
  {
   "cell_type": "code",
   "execution_count": 263,
   "metadata": {},
   "outputs": [],
   "source": [
    "ion_dfs = list(spice_bin_path.glob('fu_iz*'))\n",
    "ion_dfs.extend(list(spice_bin_path.glob('fu_ez*')))"
   ]
  },
  {
   "cell_type": "code",
   "execution_count": 264,
   "metadata": {},
   "outputs": [],
   "source": [
    "ion_dfs.extend(list(spice_bin_path.glob('DF/fu_iz*')))\n",
    "ion_dfs.sort()"
   ]
  },
  {
   "cell_type": "code",
   "execution_count": 265,
   "metadata": {},
   "outputs": [
    {
     "data": {
      "text/plain": [
       "[PosixPath('/home/jleland/spice/spice2/bin/DF/fu_iz_TAU01.dat'),\n",
       " PosixPath('/home/jleland/spice/spice2/bin/DF/fu_iz_TAU02.dat'),\n",
       " PosixPath('/home/jleland/spice/spice2/bin/DF/fu_iz_TAU03.dat'),\n",
       " PosixPath('/home/jleland/spice/spice2/bin/DF/fu_iz_TAU04.dat'),\n",
       " PosixPath('/home/jleland/spice/spice2/bin/DF/fu_iz_TAU05.dat'),\n",
       " PosixPath('/home/jleland/spice/spice2/bin/DF/fu_iz_TAU06.dat'),\n",
       " PosixPath('/home/jleland/spice/spice2/bin/DF/fu_iz_TAU07.dat'),\n",
       " PosixPath('/home/jleland/spice/spice2/bin/DF/fu_iz_TAU08.dat'),\n",
       " PosixPath('/home/jleland/spice/spice2/bin/DF/fu_iz_TAU09.dat'),\n",
       " PosixPath('/home/jleland/spice/spice2/bin/DF/fu_iz_TAU10.dat'),\n",
       " PosixPath('/home/jleland/spice/spice2/bin/DF/fu_iz_TAU11.dat'),\n",
       " PosixPath('/home/jleland/spice/spice2/bin/DF/fu_iz_TAU12.dat'),\n",
       " PosixPath('/home/jleland/spice/spice2/bin/DF/fu_iz_TAU13.dat'),\n",
       " PosixPath('/home/jleland/spice/spice2/bin/DF/fu_iz_TAU14.dat'),\n",
       " PosixPath('/home/jleland/spice/spice2/bin/DF/fu_iz_TAU15.dat'),\n",
       " PosixPath('/home/jleland/spice/spice2/bin/DF/fu_iz_TAU16.dat'),\n",
       " PosixPath('/home/jleland/spice/spice2/bin/DF/fu_iz_TAU17.dat'),\n",
       " PosixPath('/home/jleland/spice/spice2/bin/DF/fu_iz_TAU18.dat'),\n",
       " PosixPath('/home/jleland/spice/spice2/bin/DF/fu_iz_TAU19.dat'),\n",
       " PosixPath('/home/jleland/spice/spice2/bin/DF/fu_iz_TAU20.dat'),\n",
       " PosixPath('/home/jleland/spice/spice2/bin/DF/fu_iz_TAU21.dat'),\n",
       " PosixPath('/home/jleland/spice/spice2/bin/DF/fu_iz_TAU22.dat'),\n",
       " PosixPath('/home/jleland/spice/spice2/bin/DF/fu_iz_TAU23.dat'),\n",
       " PosixPath('/home/jleland/spice/spice2/bin/DF/fu_iz_TAU24.dat'),\n",
       " PosixPath('/home/jleland/spice/spice2/bin/DF/fu_iz_TAU25.dat'),\n",
       " PosixPath('/home/jleland/spice/spice2/bin/DF/fu_iz_TAU26.dat'),\n",
       " PosixPath('/home/jleland/spice/spice2/bin/DF/fu_iz_TAU27.dat'),\n",
       " PosixPath('/home/jleland/spice/spice2/bin/DF/fu_iz_TAU28.dat'),\n",
       " PosixPath('/home/jleland/spice/spice2/bin/DF/fu_iz_TAU29.dat'),\n",
       " PosixPath('/home/jleland/spice/spice2/bin/DF/fu_iz_TAU30.dat'),\n",
       " PosixPath('/home/jleland/spice/spice2/bin/DF/fu_iz_TAU31.dat'),\n",
       " PosixPath('/home/jleland/spice/spice2/bin/DF/fu_iz_TAU32.dat'),\n",
       " PosixPath('/home/jleland/spice/spice2/bin/DF/fu_iz_TAU33.dat'),\n",
       " PosixPath('/home/jleland/spice/spice2/bin/DF/fu_iz_TAU34.dat'),\n",
       " PosixPath('/home/jleland/spice/spice2/bin/DF/fu_iz_TAU35.dat'),\n",
       " PosixPath('/home/jleland/spice/spice2/bin/DF/fu_iz_TAU36.dat'),\n",
       " PosixPath('/home/jleland/spice/spice2/bin/DF/fu_iz_TAU37.dat'),\n",
       " PosixPath('/home/jleland/spice/spice2/bin/DF/fu_iz_TAU38.dat'),\n",
       " PosixPath('/home/jleland/spice/spice2/bin/DF/fu_iz_TAU39.dat'),\n",
       " PosixPath('/home/jleland/spice/spice2/bin/DF/fu_iz_TAU40.dat'),\n",
       " PosixPath('/home/jleland/spice/spice2/bin/DF/fu_iz_TAU41.dat'),\n",
       " PosixPath('/home/jleland/spice/spice2/bin/DF/fu_iz_TAU42.dat'),\n",
       " PosixPath('/home/jleland/spice/spice2/bin/DF/fu_iz_TAU43.dat'),\n",
       " PosixPath('/home/jleland/spice/spice2/bin/DF/fu_iz_TAU44.dat'),\n",
       " PosixPath('/home/jleland/spice/spice2/bin/DF/fu_iz_TAU45.dat'),\n",
       " PosixPath('/home/jleland/spice/spice2/bin/DF/fu_iz_TAU46.dat'),\n",
       " PosixPath('/home/jleland/spice/spice2/bin/DF/fu_iz_TAU47.dat'),\n",
       " PosixPath('/home/jleland/spice/spice2/bin/DF/fu_iz_TAU48.dat'),\n",
       " PosixPath('/home/jleland/spice/spice2/bin/DF/fu_iz_TAU49.dat'),\n",
       " PosixPath('/home/jleland/spice/spice2/bin/DF/fu_iz_TAU50.dat'),\n",
       " PosixPath('/home/jleland/spice/spice2/bin/fu_ez.dat'),\n",
       " PosixPath('/home/jleland/spice/spice2/bin/fu_iz.dat'),\n",
       " PosixPath('/home/jleland/spice/spice2/bin/fu_iz_maxwell.dat')]"
      ]
     },
     "execution_count": 265,
     "metadata": {},
     "output_type": "execute_result"
    }
   ],
   "source": [
    "ion_dfs"
   ]
  },
  {
   "cell_type": "code",
   "execution_count": 266,
   "metadata": {},
   "outputs": [
    {
     "name": "stdout",
     "output_type": "stream",
     "text": [
      "/home/jleland/spice/spice2/bin/DF/fu_iz_TAU01.dat\n",
      "121 121 121\n",
      "[-2.0146038  -1.9978154  -1.9810271  -1.9642387  -1.9474503  -1.930662\n",
      " -1.9138736  -1.8970852  -1.8802969  -1.8635085  -1.8467202  -1.8299318\n",
      " -1.8131434  -1.7963551  -1.7795667  -1.7627783  -1.74599    -1.7292016\n",
      " -1.7124132  -1.6956249  -1.6788365  -1.6620481  -1.6452598  -1.6284714\n",
      " -1.611683   -1.5948947  -1.5781063  -1.5613179  -1.5445296  -1.5277412\n",
      " -1.5109529  -1.4941645  -1.4773761  -1.4605878  -1.4437994  -1.427011\n",
      " -1.4102227  -1.3934343  -1.3766459  -1.3598576  -1.3430692  -1.3262808\n",
      " -1.3094925  -1.2927041  -1.2759157  -1.2591274  -1.242339   -1.2255506\n",
      " -1.2087623  -1.1919739  -1.1751856  -1.1583972  -1.1416088  -1.1248205\n",
      " -1.1080321  -1.0912437  -1.0744554  -1.057667   -1.0408786  -1.0240903\n",
      " -1.0073019  -0.99051354 -0.97372517 -0.95693681 -0.94014844 -0.92336008\n",
      " -0.90657171 -0.88978335 -0.87299498 -0.85620662 -0.83941825 -0.82262989\n",
      " -0.80584152 -0.78905316 -0.77226479 -0.75547643 -0.73868806 -0.7218997\n",
      " -0.70511133 -0.68832297 -0.6715346  -0.65474624 -0.63795787 -0.62116951\n",
      " -0.60438114 -0.58759278 -0.57080441 -0.55401605 -0.53722768 -0.52043932\n",
      " -0.50365095 -0.48686259 -0.47007422 -0.45328586 -0.43649749 -0.41970913\n",
      " -0.40292076 -0.3861324  -0.36934403 -0.35255567 -0.3357673  -0.31897894\n",
      " -0.30219057 -0.28540221 -0.26861384 -0.25182548 -0.23503711 -0.21824875\n",
      " -0.20146038 -0.18467202 -0.16788365 -0.15109529 -0.13430692 -0.11751856\n",
      " -0.10073019 -0.08394182 -0.06715346 -0.05036509 -0.03357673 -0.01678836\n",
      "  0.        ]\n",
      "[7.6380223e-05 1.1145397e-04 1.4652771e-04 2.0988547e-04 2.7508114e-04\n",
      " 3.9009360e-04 5.1641682e-04 7.1399133e-04 9.5848306e-04 1.2821230e-03\n",
      " 1.7392123e-03 2.2897214e-03 3.0673993e-03 4.0940485e-03 5.3828729e-03\n",
      " 7.0188712e-03 9.2826506e-03 1.2165516e-02 1.5841090e-02 2.0523356e-02\n",
      " 2.6463455e-02 3.3942379e-02 4.3303959e-02 5.5244457e-02 6.9744137e-02\n",
      " 8.7827187e-02 1.0976469e-01 1.3632881e-01 1.6795419e-01 2.0506894e-01\n",
      " 2.4780555e-01 2.9565554e-01 3.4704984e-01 3.9892971e-01 4.4751456e-01\n",
      " 4.8972429e-01 5.2373541e-01 5.4896304e-01 5.6575540e-01 5.7480198e-01\n",
      " 5.7726351e-01 5.7444095e-01 5.6697125e-01 5.5583332e-01 5.4213179e-01\n",
      " 5.2644425e-01 5.0905716e-01 4.9055993e-01 4.7165305e-01 4.5250543e-01\n",
      " 4.3324297e-01 4.1396857e-01 3.9489740e-01 3.7664266e-01 3.5849509e-01\n",
      " 3.4108909e-01 3.2411751e-01 3.0788423e-01 2.9209834e-01 2.7718583e-01\n",
      " 2.6272741e-01 2.4889268e-01 2.3584851e-01 2.2330167e-01 2.1117603e-01\n",
      " 1.9976227e-01 1.8894993e-01 1.7862827e-01 1.6881175e-01 1.5944408e-01\n",
      " 1.5051868e-01 1.4194524e-01 1.3403219e-01 1.2629611e-01 1.1913471e-01\n",
      " 1.1218350e-01 1.0566908e-01 9.9432113e-02 9.3510988e-02 8.7869904e-02\n",
      " 8.2509893e-02 7.7414714e-02 7.2572577e-02 6.8098721e-02 6.3781321e-02\n",
      " 5.9635432e-02 5.5687977e-02 5.1965731e-02 4.8518968e-02 4.5153536e-02\n",
      " 4.1943775e-02 3.8915925e-02 3.6132570e-02 3.3398946e-02 3.0817882e-02\n",
      " 2.8439263e-02 2.6117141e-02 2.3937710e-02 2.1909259e-02 1.9942001e-02\n",
      " 1.8123196e-02 1.6396385e-02 1.4736358e-02 1.3232104e-02 1.1776948e-02\n",
      " 1.0402635e-02 9.1670176e-03 7.9715345e-03 6.8932354e-03 5.8600971e-03\n",
      " 4.9280119e-03 4.0602942e-03 3.2628226e-03 2.5610689e-03 1.9132329e-03\n",
      " 1.3700895e-03 8.9644075e-04 5.1179792e-04 2.3722395e-04 6.0645791e-05\n",
      " 0.0000000e+00]\n"
     ]
    }
   ],
   "source": [
    "ion_df_try = np.loadtxt(ion_dfs[0])\n",
    "print(ion_dfs[0])\n",
    "ion_len = int(ion_df_try[0])\n",
    "ion_x = ion_df_try[1:ion_len + 1]\n",
    "ion_y = ion_df_try[ion_len + 1:]\n",
    "print(ion_len, len(ion_x), len(ion_x))\n",
    "print(ion_x)\n",
    "print(ion_y)"
   ]
  },
  {
   "cell_type": "code",
   "execution_count": 267,
   "metadata": {},
   "outputs": [
    {
     "data": {
      "text/plain": [
       "[<matplotlib.lines.Line2D at 0x7fbbacd0fda0>]"
      ]
     },
     "execution_count": 267,
     "metadata": {},
     "output_type": "execute_result"
    }
   ],
   "source": [
    "fig, ax = plt.subplots()\n",
    "\n",
    "ax.plot(ion_x, ion_y)"
   ]
  },
  {
   "cell_type": "code",
   "execution_count": 268,
   "metadata": {},
   "outputs": [
    {
     "data": {
      "text/plain": [
       "0.0"
      ]
     },
     "execution_count": 268,
     "metadata": {},
     "output_type": "execute_result"
    }
   ],
   "source": [
    "(int(ion_dfs[9].name.split('_')[2][3:5]) / 10) % 1"
   ]
  },
  {
   "cell_type": "code",
   "execution_count": 278,
   "metadata": {},
   "outputs": [],
   "source": [
    "def plot_ion_df(ion_df_arr, ax=None, **kwargs):\n",
    "    if ax is None:\n",
    "        fig, ax = plt.subplots()\n",
    "    else:\n",
    "        fig = ax.figure\n",
    "    \n",
    "    ion_len = int(ion_df_arr[0])\n",
    "    ion_x = ion_df_arr[1:ion_len + 1]\n",
    "    ion_y = ion_df_arr[ion_len + 1:]\n",
    "    \n",
    "    ax.plot(-ion_x, ion_y, **kwargs)\n",
    "    \n",
    "    return ax\n"
   ]
  },
  {
   "cell_type": "code",
   "execution_count": 342,
   "metadata": {},
   "outputs": [
    {
     "data": {
      "text/plain": [
       "<matplotlib.lines.Line2D at 0x7fbbaaba8390>"
      ]
     },
     "execution_count": 342,
     "metadata": {},
     "output_type": "execute_result"
    }
   ],
   "source": [
    "fig, ax = plt.subplots(2, sharey=True)\n",
    "\n",
    "for ion_df_path in ion_dfs:\n",
    "    plot_ax = ax[0]\n",
    "    \n",
    "    if 'DF' in str(ion_df_path):\n",
    "        tau = int(ion_df_path.name.split('_')[2][3:5]) / 10\n",
    "        if tau % 0.5 != 0.0:\n",
    "            continue\n",
    "    else:\n",
    "        tau = ion_df_path.name\n",
    "        if 'ez' in str(ion_df_path):\n",
    "            plot_ax = ax[1]\n",
    "    \n",
    "    ion_df_arr = np.loadtxt(ion_df_path)\n",
    "    plot_ion_df(ion_df_arr, ax=plot_ax, label=tau)\n",
    "    \n",
    "ax[0].legend()\n",
    "ax[0].axvline(x=1.0, **c.AX_LINE_DEFAULTS)\n",
    "ax[1].legend()\n",
    "ax[1].axvline(x=1.0, **c.AX_LINE_DEFAULTS)"
   ]
  },
  {
   "cell_type": "code",
   "execution_count": 285,
   "metadata": {},
   "outputs": [
    {
     "data": {
      "text/plain": [
       "Text(0.5, 0, '$v \\\\; [c_s]$')"
      ]
     },
     "execution_count": 285,
     "metadata": {},
     "output_type": "execute_result"
    }
   ],
   "source": [
    "\n",
    "ax = plot_ion_df(np.loadtxt(ion_dfs[9]))\n",
    "ax.axvline(x=1.0, **c.AX_LINE_DEFAULTS)\n",
    "ax.set_ylabel(r'$f(v) \\; [normalised]$')\n",
    "ax.set_xlabel(r'$v \\; [c_s]$')"
   ]
  },
  {
   "cell_type": "code",
   "execution_count": 294,
   "metadata": {},
   "outputs": [],
   "source": [
    "ion_df_arr = np.loadtxt(ion_dfs[9])\n",
    "\n",
    "ion_len = int(ion_df_arr[0])\n",
    "ion_x = -ion_df_arr[1:ion_len + 1]\n",
    "ion_y = ion_df_arr[ion_len + 1:]\n"
   ]
  },
  {
   "cell_type": "code",
   "execution_count": 287,
   "metadata": {},
   "outputs": [],
   "source": [
    "import scipy.integrate as integrate\n",
    "import scipy.interpolate as intp"
   ]
  },
  {
   "cell_type": "code",
   "execution_count": 293,
   "metadata": {},
   "outputs": [
    {
     "name": "stderr",
     "output_type": "stream",
     "text": [
      "/home/jleland/coding/environments/python3.6/lib/python3.6/site-packages/ipykernel_launcher.py:2: IntegrationWarning: The maximum number of subdivisions (50) has been achieved.\n",
      "  If increasing the limit yields no improvement it is advised to analyze \n",
      "  the integrand in order to determine the difficulties.  If the position of a \n",
      "  local difficulty can be determined (singularity, discontinuity) one will \n",
      "  probably gain from splitting up the interval and calling the integrator \n",
      "  on the subranges.  Perhaps a special-purpose integrator should be used.\n",
      "  \n"
     ]
    },
    {
     "data": {
      "text/plain": [
       "(0.29608074793932376, 8.969926142484214e-06)"
      ]
     },
     "execution_count": 293,
     "metadata": {},
     "output_type": "execute_result"
    }
   ],
   "source": [
    "ion_func = intp.interp1d(ion_x, ion_y)\n",
    "integrate.quad(ion_func, 1, max(-ion_x))"
   ]
  },
  {
   "cell_type": "code",
   "execution_count": 333,
   "metadata": {},
   "outputs": [
    {
     "name": "stderr",
     "output_type": "stream",
     "text": [
      "/home/jleland/coding/projects/flopter/flopter/core/fitters.py:531: RuntimeWarning: divide by zero encountered in double_scalars\n",
      "  a = self.mass / (2 * self.temp_conversion * T_e)\n",
      "/home/jleland/coding/projects/flopter/flopter/core/fitters.py:532: RuntimeWarning: invalid value encountered in multiply\n",
      "  return np.power(a / np.pi, 1.5) * 4 * np.pi * np.power(v, 2) * np.exp(-a * np.power(v, 2))\n"
     ]
    }
   ],
   "source": [
    "fitter = fts.MaxwellianVelFitter()\n",
    "fit_data = fitter.fit(ion_x, ion_y, initial_vals=[.0001, 0.0])"
   ]
  },
  {
   "cell_type": "code",
   "execution_count": 334,
   "metadata": {},
   "outputs": [],
   "source": [
    "fit_data.plot()"
   ]
  },
  {
   "cell_type": "code",
   "execution_count": 335,
   "metadata": {},
   "outputs": [
    {
     "data": {
      "text/plain": [
       "[<matplotlib.lines.Line2D at 0x7fbbac9b6b38>]"
      ]
     },
     "execution_count": 335,
     "metadata": {},
     "output_type": "execute_result"
    }
   ],
   "source": [
    "fig, ax = plt.subplots()\n",
    "ax.plot(ion_x, fitter.fit_function(ion_x, *[.0000000011, 1.0]))"
   ]
  },
  {
   "cell_type": "code",
   "execution_count": 341,
   "metadata": {},
   "outputs": [
    {
     "name": "stderr",
     "output_type": "stream",
     "text": [
      "/home/jleland/coding/environments/python3.6/lib/python3.6/site-packages/ipykernel_launcher.py:2: IntegrationWarning: The maximum number of subdivisions (50) has been achieved.\n",
      "  If increasing the limit yields no improvement it is advised to analyze \n",
      "  the integrand in order to determine the difficulties.  If the position of a \n",
      "  local difficulty can be determined (singularity, discontinuity) one will \n",
      "  probably gain from splitting up the interval and calling the integrator \n",
      "  on the subranges.  Perhaps a special-purpose integrator should be used.\n",
      "  \n"
     ]
    },
    {
     "data": {
      "text/plain": [
       "0.7766836656399815"
      ]
     },
     "execution_count": 341,
     "metadata": {},
     "output_type": "execute_result"
    }
   ],
   "source": [
    "total_area = integrate.simps(ion_y, dx=0.0363859)\n",
    "bohm_area = integrate.quad(ion_func, 1, max(ion_x))\n",
    "bohm_area[0] / total_area"
   ]
  },
  {
   "cell_type": "code",
   "execution_count": null,
   "metadata": {},
   "outputs": [],
   "source": []
  }
 ],
 "metadata": {
  "kernelspec": {
   "display_name": "python3.6-codac",
   "language": "python",
   "name": "python3.6-codac"
  },
  "language_info": {
   "codemirror_mode": {
    "name": "ipython",
    "version": 3
   },
   "file_extension": ".py",
   "mimetype": "text/x-python",
   "name": "python",
   "nbconvert_exporter": "python",
   "pygments_lexer": "ipython3",
   "version": "3.6.9"
  }
 },
 "nbformat": 4,
 "nbformat_minor": 4
}
