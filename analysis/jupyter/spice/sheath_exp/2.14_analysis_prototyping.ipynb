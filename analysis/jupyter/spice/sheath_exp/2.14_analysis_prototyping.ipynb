{
 "cells": [
  {
   "cell_type": "markdown",
   "metadata": {},
   "source": [
    "# Sheath Expansion Simulations Results - Prototyping the Analysis of vers 2.14\n",
    "First from a series of notebooks analysing the sheath expansions simulations in a manner similar to Bergmann in his 2002 paper. This one prototypes the analysis procedure - initially formulated in restart_test/recompilation_restart_comparison.ipynb - to be implemented in flopter."
   ]
  },
  {
   "cell_type": "code",
   "execution_count": 1,
   "metadata": {
    "pycharm": {
     "is_executing": false
    }
   },
   "outputs": [],
   "source": [
    "%matplotlib tk\n",
    "import numpy as np\n",
    "import matplotlib.pyplot as plt\n",
    "import matplotlib as mpl\n",
    "import xarray as xr\n",
    "import pandas as pd\n",
    "import scipy.io as sio\n",
    "import sys\n",
    "import os\n",
    "import glob\n",
    "import copy\n",
    "import pathlib as pth\n",
    "import importlib\n",
    "import math\n",
    "import configparser\n",
    "sys.path.append('/home/jleland/Coding/Projects/flopter')\n",
    "import flopter.spice.splopter as spl\n",
    "import flopter.spice.tdata as td\n",
    "# import flopter.spice.homogenise as hmg\n",
    "import flopter.core.ivdata as iv\n",
    "import flopter.core.fitters as fts\n",
    "import flopter.core.fitdata as fd\n",
    "import flopter.core.lputils as lpu\n",
    "import flopter.core.constants as c"
   ]
  },
  {
   "cell_type": "markdown",
   "metadata": {},
   "source": [
    "## Paths and Matfile IO\n",
    "This section deals with file io and selecting the right .mat files. This needs to be run for the latter sections to work."
   ]
  },
  {
   "cell_type": "code",
   "execution_count": 1,
   "metadata": {
    "pycharm": {
     "is_executing": false
    }
   },
   "outputs": [
    {
     "ename": "NameError",
     "evalue": "name 'pth' is not defined",
     "output_type": "error",
     "traceback": [
      "\u001b[0;31m---------------------------------------------------------------------------\u001b[0m",
      "\u001b[0;31mNameError\u001b[0m                                 Traceback (most recent call last)",
      "\u001b[0;32m<ipython-input-1-231801fa05cb>\u001b[0m in \u001b[0;36m<module>\u001b[0;34m\u001b[0m\n\u001b[0;32m----> 1\u001b[0;31m \u001b[0mspice_dir\u001b[0m \u001b[0;34m=\u001b[0m \u001b[0mpth\u001b[0m\u001b[0;34m.\u001b[0m\u001b[0mPath\u001b[0m\u001b[0;34m(\u001b[0m\u001b[0;34m'/home/jleland/data/external_big/spice/'\u001b[0m\u001b[0;34m)\u001b[0m\u001b[0;34m\u001b[0m\u001b[0;34m\u001b[0m\u001b[0m\n\u001b[0m\u001b[1;32m      2\u001b[0m \u001b[0mos\u001b[0m\u001b[0;34m.\u001b[0m\u001b[0mchdir\u001b[0m\u001b[0;34m(\u001b[0m\u001b[0mspice_dir\u001b[0m\u001b[0;34m)\u001b[0m\u001b[0;34m\u001b[0m\u001b[0;34m\u001b[0m\u001b[0m\n",
      "\u001b[0;31mNameError\u001b[0m: name 'pth' is not defined"
     ]
    }
   ],
   "source": [
    "spice_dir = pth.Path('/home/jleland/data/external_big/spice/')\n",
    "os.chdir(spice_dir)"
   ]
  },
  {
   "cell_type": "code",
   "execution_count": 3,
   "metadata": {
    "pycharm": {
     "is_executing": false
    }
   },
   "outputs": [
    {
     "name": "stdout",
     "output_type": "stream",
     "text": [
      "0.17453292519943295\n"
     ]
    }
   ],
   "source": [
    "lps = lpu.MagnumProbes()\n",
    "\n",
    "flush_probe = copy.deepcopy(lps.probe_l)\n",
    "flush_probe.theta_p = 0.0\n",
    "flush_probe.d_perp = 0.0\n",
    "\n",
    "angled_probe = copy.deepcopy(lps.probe_l)\n",
    "angled_probe.d_perp = 0.0\n",
    "print(angled_probe.theta_p)"
   ]
  },
  {
   "cell_type": "code",
   "execution_count": 4,
   "metadata": {},
   "outputs": [],
   "source": [
    "skippable_scans = set() \n",
    "single_sims = set()"
   ]
  },
  {
   "cell_type": "code",
   "execution_count": 5,
   "metadata": {
    "collapsed": true,
    "jupyter": {
     "outputs_hidden": true
    },
    "pycharm": {
     "is_executing": false
    }
   },
   "outputs": [
    {
     "name": "stdout",
     "output_type": "stream",
     "text": [
      "marconi/spice2/sheath_exp/semi-angled_recessed: ['marconi/spice2/sheath_exp/semi-angled_recessed/alpha_yz_-10.0', 'marconi/spice2/sheath_exp/semi-angled_recessed/alpha_yz_-2.0', 'marconi/spice2/sheath_exp/semi-angled_recessed/alpha_yz_-3.0', 'marconi/spice2/sheath_exp/semi-angled_recessed/alpha_yz_-30.0', 'marconi/spice2/sheath_exp/semi-angled_recessed/alpha_yz_-5.0']\n",
      "\n",
      "marconi/spice2/sheath_exp/semi-angled_1: ['marconi/spice2/sheath_exp/semi-angled_1/alpha_yz_-1.0']\n",
      "\n",
      "marconi/spice2/sheath_exp/angled_recessed: ['marconi/spice2/sheath_exp/angled_recessed/alpha_yz_-10.0', 'marconi/spice2/sheath_exp/angled_recessed/alpha_yz_-2.0', 'marconi/spice2/sheath_exp/angled_recessed/alpha_yz_-3.0', 'marconi/spice2/sheath_exp/angled_recessed/alpha_yz_-30.0', 'marconi/spice2/sheath_exp/angled_recessed/alpha_yz_-5.0']\n",
      "\n",
      "marconi/spice2/sheath_exp/flat_semi-recessed_1: ['marconi/spice2/sheath_exp/flat_semi-recessed_1/alpha_yz_-1.0']\n",
      "\n",
      "marconi/spice2/sheath_exp/angled_recessed_1: ['marconi/spice2/sheath_exp/angled_recessed_1/alpha_yz_-1.0']\n",
      "\n",
      "marconi/spice2/sheath_exp/flat: ['marconi/spice2/sheath_exp/flat/alpha_yz_-1.0', 'marconi/spice2/sheath_exp/flat/alpha_yz_-10.0', 'marconi/spice2/sheath_exp/flat/alpha_yz_-2.0', 'marconi/spice2/sheath_exp/flat/alpha_yz_-3.0', 'marconi/spice2/sheath_exp/flat/alpha_yz_-30.0', 'marconi/spice2/sheath_exp/flat/alpha_yz_-5.0']\n",
      "\n",
      "marconi/spice2/sheath_exp/semi-angled_semi-recessed_1: ['marconi/spice2/sheath_exp/semi-angled_semi-recessed_1/alpha_yz_-1.0']\n",
      "\n",
      "marconi/spice2/sheath_exp/semi-angled_semi-recessed: ['marconi/spice2/sheath_exp/semi-angled_semi-recessed/alpha_yz_-10.0', 'marconi/spice2/sheath_exp/semi-angled_semi-recessed/alpha_yz_-2.0', 'marconi/spice2/sheath_exp/semi-angled_semi-recessed/alpha_yz_-3.0', 'marconi/spice2/sheath_exp/semi-angled_semi-recessed/alpha_yz_-30.0', 'marconi/spice2/sheath_exp/semi-angled_semi-recessed/alpha_yz_-5.0']\n",
      "\n",
      "marconi/spice2/sheath_exp/angled: ['marconi/spice2/sheath_exp/angled/alpha_yz_-10.0', 'marconi/spice2/sheath_exp/angled/alpha_yz_-2.0', 'marconi/spice2/sheath_exp/angled/alpha_yz_-3.0', 'marconi/spice2/sheath_exp/angled/alpha_yz_-30.0', 'marconi/spice2/sheath_exp/angled/alpha_yz_-5.0']\n",
      "\n",
      "marconi/spice2/sheath_exp/angled_1: ['marconi/spice2/sheath_exp/angled_1/alpha_yz_-1.0']\n",
      "\n",
      "marconi/spice2/sheath_exp/flat_semi-recessed: ['marconi/spice2/sheath_exp/flat_semi-recessed/alpha_yz_-10.0', 'marconi/spice2/sheath_exp/flat_semi-recessed/alpha_yz_-2.0', 'marconi/spice2/sheath_exp/flat_semi-recessed/alpha_yz_-3.0', 'marconi/spice2/sheath_exp/flat_semi-recessed/alpha_yz_-30.0', 'marconi/spice2/sheath_exp/flat_semi-recessed/alpha_yz_-5.0']\n",
      "\n",
      "marconi/spice2/sheath_exp/angled_semi-recessed: ['marconi/spice2/sheath_exp/angled_semi-recessed/alpha_yz_-10.0', 'marconi/spice2/sheath_exp/angled_semi-recessed/alpha_yz_-2.0', 'marconi/spice2/sheath_exp/angled_semi-recessed/alpha_yz_-3.0', 'marconi/spice2/sheath_exp/angled_semi-recessed/alpha_yz_-30.0', 'marconi/spice2/sheath_exp/angled_semi-recessed/alpha_yz_-5.0']\n",
      "\n",
      "marconi/spice2/sheath_exp/semi-angled_recessed_1: ['marconi/spice2/sheath_exp/semi-angled_recessed_1/alpha_yz_-1.0']\n",
      "\n",
      "marconi/spice2/sheath_exp/flat_recessed: ['marconi/spice2/sheath_exp/flat_recessed/alpha_yz_-1.0', 'marconi/spice2/sheath_exp/flat_recessed/alpha_yz_-10.0', 'marconi/spice2/sheath_exp/flat_recessed/alpha_yz_-2.0', 'marconi/spice2/sheath_exp/flat_recessed/alpha_yz_-3.0', 'marconi/spice2/sheath_exp/flat_recessed/alpha_yz_-30.0', 'marconi/spice2/sheath_exp/flat_recessed/alpha_yz_-5.0']\n",
      "\n",
      "marconi/spice2/sheath_exp/semi-angled: ['marconi/spice2/sheath_exp/semi-angled/alpha_yz_-10.0', 'marconi/spice2/sheath_exp/semi-angled/alpha_yz_-2.0', 'marconi/spice2/sheath_exp/semi-angled/alpha_yz_-3.0', 'marconi/spice2/sheath_exp/semi-angled/alpha_yz_-30.0', 'marconi/spice2/sheath_exp/semi-angled/alpha_yz_-5.0']\n",
      "\n",
      "marconi/spice2/sheath_exp/angled_semi-recessed_1: ['marconi/spice2/sheath_exp/angled_semi-recessed_1/alpha_yz_-1.0']\n",
      "\n"
     ]
    }
   ],
   "source": [
    "scans_searchstr = '*/*/sheath_exp/*'\n",
    "# angles_search_str = '/*[!.{yml, inp}]/backup*'\n",
    "angles_search_str = '/*[!.{yml, inp}]'\n",
    "\n",
    "non_standard_variables = {'t', 'ProbePot', 'npartproc', 'Nz', 'Nzmax', 'Ny', 'count', 'Npc', 'snumber', 'nproc'}\n",
    "\n",
    "desired_variables = td.DEFAULT_REDUCED_DATASET | non_standard_variables\n",
    "\n",
    "all_run_dirs = {}\n",
    "scans = glob.glob(scans_searchstr)\n",
    "scans = set(scans) - skippable_scans\n",
    "for scan in scans:\n",
    "    if scan in single_sims:\n",
    "        print(f'Single sim {scan} found')\n",
    "        all_run_dirs[scan] = [scan]\n",
    "    else:\n",
    "        all_run_dirs[scan] = glob.glob(scan + angles_search_str)\n",
    "    \n",
    "    print(f'{scan}: {all_run_dirs[scan]}\\n')\n"
   ]
  },
  {
   "cell_type": "code",
   "execution_count": 6,
   "metadata": {},
   "outputs": [],
   "source": [
    "# list(spice_dir.glob('*/*/sheath_exp/*'))"
   ]
  },
  {
   "cell_type": "code",
   "execution_count": 7,
   "metadata": {},
   "outputs": [],
   "source": [
    "skippable = {}\n",
    "scans = list(scans)\n",
    "scans.sort()"
   ]
  },
  {
   "cell_type": "code",
   "execution_count": 8,
   "metadata": {},
   "outputs": [
    {
     "name": "stdout",
     "output_type": "stream",
     "text": [
      "0 marconi/spice2/sheath_exp/angled\n",
      "1 marconi/spice2/sheath_exp/angled_1\n",
      "2 marconi/spice2/sheath_exp/angled_recessed\n",
      "3 marconi/spice2/sheath_exp/angled_recessed_1\n",
      "4 marconi/spice2/sheath_exp/angled_semi-recessed\n",
      "5 marconi/spice2/sheath_exp/angled_semi-recessed_1\n",
      "6 marconi/spice2/sheath_exp/flat\n",
      "7 marconi/spice2/sheath_exp/flat_recessed\n",
      "8 marconi/spice2/sheath_exp/flat_semi-recessed\n",
      "9 marconi/spice2/sheath_exp/flat_semi-recessed_1\n",
      "10 marconi/spice2/sheath_exp/semi-angled\n",
      "11 marconi/spice2/sheath_exp/semi-angled_1\n",
      "12 marconi/spice2/sheath_exp/semi-angled_recessed\n",
      "13 marconi/spice2/sheath_exp/semi-angled_recessed_1\n",
      "14 marconi/spice2/sheath_exp/semi-angled_semi-recessed\n",
      "15 marconi/spice2/sheath_exp/semi-angled_semi-recessed_1\n"
     ]
    }
   ],
   "source": [
    "for i, scan in enumerate(scans):\n",
    "    print(i, scan)"
   ]
  },
  {
   "cell_type": "markdown",
   "metadata": {},
   "source": [
    "---\n",
    "## Generalising the Groupby Method of Sweep Extraction"
   ]
  },
  {
   "cell_type": "code",
   "execution_count": 9,
   "metadata": {},
   "outputs": [
    {
     "name": "stdout",
     "output_type": "stream",
     "text": [
      "/home/jleland/data/external_big/spice/marconi/spice2/sheath_exp/angled_1/alpha_yz_-1.0\n"
     ]
    }
   ],
   "source": [
    "spl_path = spice_dir / all_run_dirs[scans[1]][0]\n",
    "print(spl_path)"
   ]
  },
  {
   "cell_type": "markdown",
   "metadata": {},
   "source": [
    "---\n",
    "Check if we can extract the spice version from the simulation directory."
   ]
  },
  {
   "cell_type": "code",
   "execution_count": 15,
   "metadata": {},
   "outputs": [
    {
     "data": {
      "text/plain": [
       "['alpha_yz_-1.0.mat',\n",
       " 'input.inp',\n",
       " 'jobs.txt',\n",
       " 'log.err',\n",
       " 'log.ongoing.err',\n",
       " 'log.ongoing.out',\n",
       " 'log.out',\n",
       " 't-alpha_yz_-1.0.mat']"
      ]
     },
     "execution_count": 15,
     "metadata": {},
     "output_type": "execute_result"
    }
   ],
   "source": [
    "[p.name for p in spl_path.glob('*.*')]\n"
   ]
  },
  {
   "cell_type": "markdown",
   "metadata": {},
   "source": [
    "Answer: not easily. Will have to feed version in as a kwarg :( \n",
    "\n",
    "---"
   ]
  },
  {
   "cell_type": "code",
   "execution_count": 31,
   "metadata": {},
   "outputs": [
    {
     "data": {
      "text/plain": [
       "<module 'flopter.spice.splopter' from '/home/jleland/coding/projects/flopter/flopter/spice/splopter.py'>"
      ]
     },
     "execution_count": 31,
     "metadata": {},
     "output_type": "execute_result"
    }
   ],
   "source": [
    "import importlib\n",
    "importlib.reload(spl)"
   ]
  },
  {
   "cell_type": "code",
   "execution_count": 23,
   "metadata": {},
   "outputs": [
    {
     "name": "stdout",
     "output_type": "stream",
     "text": [
      "Spice data directory is not valid, attempting to auto-fix.\n",
      "Passed Spice directory (/home/jleland/data/external_big/spice/marconi/spice2/sheath_exp/angled_1/alpha_yz_-1.0) doesn't seem to be valid.\n",
      "Continuing anyway.\n"
     ]
    },
    {
     "name": "stderr",
     "output_type": "stream",
     "text": [
      "/home/jleland/coding/environments/python3.6/lib/python3.6/site-packages/scipy/io/matlab/mio.py:218: MatReadWarning: Duplicate variable name \"npartproc\" in stream - replacing previous with new\n",
      "Consider mio5.varmats_from_mat to split file into single variable files\n",
      "  matfile_dict = MR.get_variables(variable_names)\n"
     ]
    },
    {
     "name": "stdout",
     "output_type": "stream",
     "text": [
      "WARNING: Encountered t-zeroing, creating an approximate t array\n"
     ]
    }
   ],
   "source": [
    "splopter = spl.Splopter(spl_path, reduce=desired_variables, ignore_tzero_fl=True)\n",
    "splopter.prepare(denormaliser_fl=False, \n",
    "                 homogenise_fl=True, \n",
    "                 find_se_temp_fl=False, \n",
    "                 backup_concat_fl=False)"
   ]
  },
  {
   "cell_type": "code",
   "execution_count": 11,
   "metadata": {},
   "outputs": [],
   "source": [
    "# list(splopter.tdata.t_dict.keys())"
   ]
  },
  {
   "cell_type": "markdown",
   "metadata": {},
   "source": [
    "Had to turn off the t-zeroing detection as it seems to have occurred but not broken anything in this file. \n",
    "\n",
    "Now to plot to check a couple of things. "
   ]
  },
  {
   "cell_type": "code",
   "execution_count": 15,
   "metadata": {},
   "outputs": [
    {
     "data": {
      "text/plain": [
       "[<matplotlib.lines.Line2D at 0x7fc29f1b6048>]"
      ]
     },
     "execution_count": 15,
     "metadata": {},
     "output_type": "execute_result"
    }
   ],
   "source": [
    "fig, ax = plt.subplots(2, sharey=True)\n",
    "\n",
    "ax[0].plot(splopter.raw_data['I'])\n",
    "ax[1].plot(splopter.raw_data['V'])"
   ]
  },
  {
   "cell_type": "markdown",
   "metadata": {},
   "source": [
    "The voltage looks broken as it's prepending when it doesn't need to. Seeing as the format for homogenisation is quite different for this version of SPICE (2.14), I could split up the homogenisation procedure into two different objects (or some similar differentiation)"
   ]
  },
  {
   "cell_type": "code",
   "execution_count": 16,
   "metadata": {},
   "outputs": [
    {
     "data": {
      "text/plain": [
       "[<matplotlib.lines.Line2D at 0x7fc2d1b0c1d0>]"
      ]
     },
     "execution_count": 16,
     "metadata": {},
     "output_type": "execute_result"
    }
   ],
   "source": [
    "fig, ax = plt.subplots(2, sharex=True)\n",
    "\n",
    "t, V, I_e, I_i = splopter.get_tdata_raw_iv(splopter.tdata)\n",
    "\n",
    "ax[0].plot(V)\n",
    "ax[1].plot(I_e + I_i)"
   ]
  },
  {
   "cell_type": "code",
   "execution_count": 24,
   "metadata": {},
   "outputs": [
    {
     "name": "stdout",
     "output_type": "stream",
     "text": [
      "raw_data[\"I\"]: \t 9113580\n",
      "raw_data[\"V\"]: \t 9113580 \n",
      "\n",
      "tdata.t: \t 1\n",
      "ProbePot: \t 9113581 \n",
      "\n",
      "V: \t 9113581\n",
      "I_i: \t 9113580 \n",
      "\n",
      "ta: \t 3.0\n",
      "tp: \t 4.0\n",
      "tc: \t 3.0 \n",
      "\n"
     ]
    }
   ],
   "source": [
    "print(f'raw_data[\"I\"]: \\t {len(splopter.raw_data[\"I\"])}')\n",
    "print(f'raw_data[\"V\"]: \\t {len(splopter.raw_data[\"V\"])} \\n')\n",
    "\n",
    "print(f'tdata.t: \\t {len(splopter.tdata.t)}')\n",
    "print(f'ProbePot: \\t {len(splopter.tdata.t_dict[\"ProbePot\"])} \\n')\n",
    "\n",
    "print(f'V: \\t {len(V)}')\n",
    "print(f'I_i: \\t {len(I_e)} \\n')\n",
    "\n",
    "print(f'ta: \\t {splopter.parser[\"geom\"][\"ta\"]}')\n",
    "print(f'tp: \\t {splopter.parser[\"geom\"][\"tp\"]}')\n",
    "print(f'tc: \\t {splopter.parser[\"geom\"][\"tc\"]} \\n')"
   ]
  },
  {
   "cell_type": "code",
   "execution_count": 25,
   "metadata": {},
   "outputs": [
    {
     "data": {
      "text/plain": [
       "0.75"
      ]
     },
     "execution_count": 25,
     "metadata": {},
     "output_type": "execute_result"
    }
   ],
   "source": [
    "ta = splopter.parser.getfloat('geom', 'ta')\n",
    "tp = splopter.parser.getfloat('geom', 'tp')\n",
    "r = ta/tp\n",
    "r"
   ]
  },
  {
   "cell_type": "code",
   "execution_count": 26,
   "metadata": {},
   "outputs": [
    {
     "data": {
      "text/plain": [
       "6835185.0"
      ]
     },
     "execution_count": 26,
     "metadata": {},
     "output_type": "execute_result"
    }
   ],
   "source": [
    "r * len(I_e)"
   ]
  },
  {
   "cell_type": "code",
   "execution_count": 29,
   "metadata": {},
   "outputs": [
    {
     "data": {
      "text/plain": [
       "6835185"
      ]
     },
     "execution_count": 29,
     "metadata": {},
     "output_type": "execute_result"
    }
   ],
   "source": [
    "splopter.parser.get_sweep_length(len(I_e), V)\n",
    "# list(splopter.parser.keys())\n",
    "#.get_probe_obj_indices()"
   ]
  },
  {
   "cell_type": "code",
   "execution_count": null,
   "metadata": {},
   "outputs": [],
   "source": []
  },
  {
   "cell_type": "code",
   "execution_count": 17,
   "metadata": {},
   "outputs": [
    {
     "name": "stdout",
     "output_type": "stream",
     "text": [
      "index.shape = (915956,)\n",
      "pot.shape = (915956,)\n",
      "current.shape = (915955,)\n"
     ]
    },
    {
     "data": {
      "text/plain": [
       "[<matplotlib.lines.Line2D at 0x7f6283ecca20>]"
      ]
     },
     "execution_count": 17,
     "metadata": {},
     "output_type": "execute_result"
    }
   ],
   "source": [
    "fig, ax = plt.subplots(2)\n",
    "\n",
    "sweep_slc = slice(math.ceil(r * len(I_e)), len(I_e))\n",
    "index = np.arange(0, len(V))\n",
    "pot = np.squeeze(V)\n",
    "\n",
    "print(f'index.shape = {index.shape}')\n",
    "print(f'pot.shape = {pot.shape}')\n",
    "print(f'current.shape = {splopter.raw_data[\"I\"].shape}')\n",
    "\n",
    "ax[0].plot(index[:-1], splopter.raw_data['I'])\n",
    "ax[0].plot(index[sweep_slc], splopter.raw_data['I'][sweep_slc], color='tab:green')\n",
    "\n",
    "pot_ax = ax[0].twinx()\n",
    "pot_ax.plot(index, pot, color='tab:orange')\n",
    "pot_ax.plot(index[sweep_slc], pot[sweep_slc], color='tab:red')\n",
    "\n",
    "\n",
    "ax[1].plot(np.squeeze(splopter.tdata.t_dict['ProbePot'])[sweep_slc], splopter.raw_data['I'][sweep_slc])"
   ]
  },
  {
   "cell_type": "markdown",
   "metadata": {},
   "source": [
    "## Make Dataframe\n",
    "The sweep can be made into a dataframe for ease of grouping and averaging into a smoothly varying Voltage waveform. \n",
    "\n",
    "Some checks are subsequently made that do not need to be included in the splopter implementation."
   ]
  },
  {
   "cell_type": "code",
   "execution_count": 18,
   "metadata": {},
   "outputs": [
    {
     "data": {
      "text/html": [
       "<div>\n",
       "<style scoped>\n",
       "    .dataframe tbody tr th:only-of-type {\n",
       "        vertical-align: middle;\n",
       "    }\n",
       "\n",
       "    .dataframe tbody tr th {\n",
       "        vertical-align: top;\n",
       "    }\n",
       "\n",
       "    .dataframe thead th {\n",
       "        text-align: right;\n",
       "    }\n",
       "</style>\n",
       "<table border=\"1\" class=\"dataframe\">\n",
       "  <thead>\n",
       "    <tr style=\"text-align: right;\">\n",
       "      <th></th>\n",
       "      <th>voltage</th>\n",
       "      <th>current</th>\n",
       "    </tr>\n",
       "  </thead>\n",
       "  <tbody>\n",
       "    <tr>\n",
       "      <td>0</td>\n",
       "      <td>-10.00</td>\n",
       "      <td>39.0</td>\n",
       "    </tr>\n",
       "    <tr>\n",
       "      <td>1</td>\n",
       "      <td>-9.95</td>\n",
       "      <td>31.0</td>\n",
       "    </tr>\n",
       "    <tr>\n",
       "      <td>2</td>\n",
       "      <td>-9.95</td>\n",
       "      <td>42.0</td>\n",
       "    </tr>\n",
       "    <tr>\n",
       "      <td>3</td>\n",
       "      <td>-9.95</td>\n",
       "      <td>30.0</td>\n",
       "    </tr>\n",
       "    <tr>\n",
       "      <td>4</td>\n",
       "      <td>-9.95</td>\n",
       "      <td>27.0</td>\n",
       "    </tr>\n",
       "    <tr>\n",
       "      <td>...</td>\n",
       "      <td>...</td>\n",
       "      <td>...</td>\n",
       "    </tr>\n",
       "    <tr>\n",
       "      <td>228983</td>\n",
       "      <td>10.05</td>\n",
       "      <td>0.0</td>\n",
       "    </tr>\n",
       "    <tr>\n",
       "      <td>228984</td>\n",
       "      <td>10.05</td>\n",
       "      <td>0.0</td>\n",
       "    </tr>\n",
       "    <tr>\n",
       "      <td>228985</td>\n",
       "      <td>10.05</td>\n",
       "      <td>0.0</td>\n",
       "    </tr>\n",
       "    <tr>\n",
       "      <td>228986</td>\n",
       "      <td>10.05</td>\n",
       "      <td>0.0</td>\n",
       "    </tr>\n",
       "    <tr>\n",
       "      <td>228987</td>\n",
       "      <td>10.05</td>\n",
       "      <td>0.0</td>\n",
       "    </tr>\n",
       "  </tbody>\n",
       "</table>\n",
       "<p>228988 rows × 2 columns</p>\n",
       "</div>"
      ],
      "text/plain": [
       "        voltage  current\n",
       "0        -10.00     39.0\n",
       "1         -9.95     31.0\n",
       "2         -9.95     42.0\n",
       "3         -9.95     30.0\n",
       "4         -9.95     27.0\n",
       "...         ...      ...\n",
       "228983    10.05      0.0\n",
       "228984    10.05      0.0\n",
       "228985    10.05      0.0\n",
       "228986    10.05      0.0\n",
       "228987    10.05      0.0\n",
       "\n",
       "[228988 rows x 2 columns]"
      ]
     },
     "execution_count": 18,
     "metadata": {},
     "output_type": "execute_result"
    }
   ],
   "source": [
    "df = pd.DataFrame({'voltage':V[sweep_slc], 'current': (I_e + I_i)[sweep_slc]})\n",
    "df"
   ]
  },
  {
   "cell_type": "code",
   "execution_count": 19,
   "metadata": {},
   "outputs": [],
   "source": [
    "voltage_groups = df.groupby('voltage').groups"
   ]
  },
  {
   "cell_type": "code",
   "execution_count": 20,
   "metadata": {
    "collapsed": true,
    "jupyter": {
     "outputs_hidden": true
    }
   },
   "outputs": [
    {
     "name": "stdout",
     "output_type": "stream",
     "text": [
      "-9.950000000000001 572\n",
      "-9.9 572\n",
      "-9.85 572\n",
      "-9.799999999999999 572\n",
      "-9.75 572\n",
      "-9.700000000000001 572\n",
      "-9.65 572\n",
      "-9.6 572\n",
      "-9.549999999999999 572\n",
      "-9.5 572\n",
      "-9.450000000000001 572\n",
      "-9.4 572\n",
      "-9.35 572\n",
      "-9.299999999999999 572\n",
      "-9.25 572\n",
      "-9.200000000000001 572\n",
      "-9.15 572\n",
      "-9.1 572\n",
      "-9.049999999999999 572\n",
      "-9.0 572\n",
      "-8.950000000000001 572\n",
      "-8.9 572\n",
      "-8.85 572\n",
      "-8.799999999999999 572\n",
      "-8.75 572\n",
      "-8.700000000000001 572\n",
      "-8.65 572\n",
      "-8.6 572\n",
      "-8.549999999999999 572\n",
      "-8.5 572\n",
      "-8.450000000000001 572\n",
      "-8.4 572\n",
      "-8.35 572\n",
      "-8.299999999999999 572\n",
      "-8.25 572\n",
      "-8.200000000000001 572\n",
      "-8.15 572\n",
      "-8.1 572\n",
      "-8.049999999999999 572\n",
      "-8.0 572\n",
      "-7.950000000000001 572\n",
      "-7.8999999999999995 572\n",
      "-7.8500000000000005 572\n",
      "-7.799999999999999 572\n",
      "-7.75 572\n",
      "-7.700000000000001 572\n",
      "-7.6499999999999995 572\n",
      "-7.6000000000000005 572\n",
      "-7.549999999999999 572\n",
      "-7.5 572\n",
      "-7.450000000000001 572\n",
      "-7.3999999999999995 572\n",
      "-7.3500000000000005 572\n",
      "-7.299999999999999 572\n",
      "-7.25 572\n",
      "-7.200000000000001 572\n",
      "-7.1499999999999995 572\n",
      "-7.1000000000000005 572\n",
      "-7.049999999999999 572\n",
      "-7.0 572\n",
      "-6.950000000000001 572\n",
      "-6.8999999999999995 572\n",
      "-6.8500000000000005 572\n",
      "-6.799999999999999 572\n",
      "-6.75 572\n",
      "-6.700000000000001 572\n",
      "-6.6499999999999995 572\n",
      "-6.6000000000000005 572\n",
      "-6.549999999999999 572\n",
      "-6.5 572\n",
      "-6.450000000000001 572\n",
      "-6.3999999999999995 572\n",
      "-6.3500000000000005 572\n",
      "-6.299999999999999 572\n",
      "-6.25 572\n",
      "-6.200000000000001 572\n",
      "-6.1499999999999995 572\n",
      "-6.1000000000000005 572\n",
      "-6.049999999999999 572\n",
      "-6.0 572\n",
      "-5.950000000000001 572\n",
      "-5.8999999999999995 572\n",
      "-5.8500000000000005 572\n",
      "-5.799999999999999 572\n",
      "-5.75 572\n",
      "-5.700000000000001 572\n",
      "-5.6499999999999995 572\n",
      "-5.6000000000000005 572\n",
      "-5.549999999999999 572\n",
      "-5.5 572\n",
      "-5.450000000000001 572\n",
      "-5.3999999999999995 572\n",
      "-5.3500000000000005 572\n",
      "-5.3 572\n",
      "-5.25 572\n",
      "-5.199999999999999 572\n",
      "-5.1499999999999995 572\n",
      "-5.1000000000000005 572\n",
      "-5.05 572\n",
      "-5.0 572\n",
      "-4.949999999999999 572\n",
      "-4.8999999999999995 572\n",
      "-4.8500000000000005 572\n",
      "-4.8 572\n",
      "-4.75 572\n",
      "-4.699999999999999 572\n",
      "-4.6499999999999995 572\n",
      "-4.6000000000000005 572\n",
      "-4.55 572\n",
      "-4.5 572\n",
      "-4.449999999999999 572\n",
      "-4.3999999999999995 572\n",
      "-4.3500000000000005 572\n",
      "-4.3 572\n",
      "-4.25 572\n",
      "-4.199999999999999 572\n",
      "-4.1499999999999995 572\n",
      "-4.1000000000000005 572\n",
      "-4.05 572\n",
      "-3.999999999999999 572\n",
      "-3.9499999999999997 572\n",
      "-3.8999999999999995 572\n",
      "-3.8500000000000005 572\n",
      "-3.8000000000000003 572\n",
      "-3.749999999999999 572\n",
      "-3.6999999999999997 572\n",
      "-3.6499999999999995 572\n",
      "-3.6000000000000005 572\n",
      "-3.5500000000000003 572\n",
      "-3.4999999999999996 572\n",
      "-3.4499999999999997 572\n",
      "-3.399999999999999 572\n",
      "-3.3500000000000005 572\n",
      "-3.3000000000000003 572\n",
      "-3.2499999999999996 572\n",
      "-3.1999999999999997 572\n",
      "-3.149999999999999 572\n",
      "-3.0999999999999996 572\n",
      "-3.0500000000000003 572\n",
      "-2.9999999999999996 572\n",
      "-2.9499999999999997 572\n",
      "-2.899999999999999 572\n",
      "-2.8499999999999996 572\n",
      "-2.8000000000000003 572\n",
      "-2.7499999999999996 572\n",
      "-2.6999999999999997 572\n",
      "-2.649999999999999 572\n",
      "-2.5999999999999996 572\n",
      "-2.5499999999999994 572\n",
      "-2.4999999999999996 572\n",
      "-2.4499999999999997 572\n",
      "-2.399999999999999 572\n",
      "-2.3499999999999996 572\n",
      "-2.2999999999999994 572\n",
      "-2.2499999999999996 572\n",
      "-2.1999999999999997 572\n",
      "-2.149999999999999 572\n",
      "-2.0999999999999996 572\n",
      "-2.0499999999999994 572\n",
      "-1.9999999999999996 572\n",
      "-1.9499999999999997 572\n",
      "-1.899999999999999 572\n",
      "-1.8499999999999999 572\n",
      "-1.7999999999999996 572\n",
      "-1.7499999999999998 572\n",
      "-1.6999999999999995 572\n",
      "-1.649999999999999 572\n",
      "-1.5999999999999996 572\n",
      "-1.5499999999999994 572\n",
      "-1.4999999999999998 572\n",
      "-1.4499999999999995 572\n",
      "-1.3999999999999995 572\n",
      "-1.3499999999999994 572\n",
      "-1.2999999999999996 572\n",
      "-1.2499999999999998 572\n",
      "-1.1999999999999995 572\n",
      "-1.1499999999999995 572\n",
      "-1.0999999999999994 572\n",
      "-1.0499999999999996 572\n",
      "-0.9999999999999998 572\n",
      "-0.9499999999999995 572\n",
      "-0.8999999999999994 572\n",
      "-0.8499999999999995 572\n",
      "-0.7999999999999996 572\n",
      "-0.7499999999999993 572\n",
      "-0.6999999999999994 572\n",
      "-0.6499999999999995 572\n",
      "-0.5999999999999995 572\n",
      "-0.5499999999999995 572\n",
      "-0.4999999999999995 572\n",
      "-0.4499999999999994 572\n",
      "-0.39999999999999947 572\n",
      "-0.34999999999999953 572\n",
      "-0.29999999999999943 572\n",
      "-0.2499999999999995 572\n",
      "-0.19999999999999948 572\n",
      "-0.14999999999999947 572\n",
      "-0.09999999999999944 572\n",
      "-0.04999999999999944 572\n",
      "5.551115123125783e-16 572\n",
      "0.05000000000000055 572\n",
      "0.10000000000000055 572\n",
      "0.15000000000000058 572\n",
      "0.2000000000000006 572\n",
      "0.2500000000000005 572\n",
      "0.30000000000000066 572\n",
      "0.3500000000000006 572\n",
      "0.40000000000000047 572\n",
      "0.45000000000000057 572\n",
      "0.5000000000000006 572\n",
      "0.5500000000000006 572\n",
      "0.6000000000000005 572\n",
      "0.6500000000000005 572\n",
      "0.7000000000000006 572\n",
      "0.7500000000000007 572\n",
      "0.8000000000000006 572\n",
      "0.8500000000000006 572\n",
      "0.9000000000000006 572\n",
      "0.9500000000000008 572\n",
      "1.0000000000000007 572\n",
      "1.0500000000000007 572\n",
      "1.1000000000000005 572\n",
      "1.1500000000000006 572\n",
      "1.2000000000000008 572\n",
      "1.2500000000000007 572\n",
      "1.3000000000000007 572\n",
      "1.3500000000000005 572\n",
      "1.4000000000000006 572\n",
      "1.4500000000000008 572\n",
      "1.5000000000000004 572\n",
      "1.5500000000000007 572\n",
      "1.600000000000001 572\n",
      "1.6500000000000006 572\n",
      "1.7000000000000008 572\n",
      "1.7500000000000004 572\n",
      "1.8000000000000007 572\n",
      "1.850000000000001 572\n",
      "1.9000000000000006 572\n",
      "1.9500000000000008 572\n",
      "2.0000000000000004 572\n",
      "2.0500000000000007 572\n",
      "2.100000000000001 572\n",
      "2.150000000000001 572\n",
      "2.2000000000000006 572\n",
      "2.2500000000000004 572\n",
      "2.3000000000000007 572\n",
      "2.350000000000001 572\n",
      "2.400000000000001 572\n",
      "2.4500000000000006 572\n",
      "2.5000000000000004 572\n",
      "2.5500000000000007 572\n",
      "2.600000000000001 572\n",
      "2.650000000000001 572\n",
      "2.7 572\n",
      "2.7500000000000004 572\n",
      "2.8000000000000007 572\n",
      "2.850000000000001 572\n",
      "2.9000000000000012 572\n",
      "2.95 572\n",
      "3.0000000000000004 572\n",
      "3.0500000000000007 572\n",
      "3.100000000000001 572\n",
      "3.1500000000000012 572\n",
      "3.2 572\n",
      "3.2500000000000004 572\n",
      "3.3000000000000007 572\n",
      "3.350000000000001 572\n",
      "3.4000000000000012 572\n",
      "3.45 572\n",
      "3.5000000000000004 572\n",
      "3.5500000000000007 572\n",
      "3.6000000000000005 572\n",
      "3.650000000000001 572\n",
      "3.7000000000000006 572\n",
      "3.750000000000001 572\n",
      "3.8000000000000003 572\n",
      "3.8500000000000005 572\n",
      "3.900000000000001 572\n",
      "3.9500000000000006 572\n",
      "4.000000000000001 572\n",
      "4.050000000000001 572\n",
      "4.1000000000000005 572\n",
      "4.1499999999999995 572\n",
      "4.200000000000002 572\n",
      "4.250000000000001 572\n",
      "4.300000000000001 572\n",
      "4.3500000000000005 572\n",
      "4.3999999999999995 572\n",
      "4.450000000000002 572\n",
      "4.500000000000001 572\n",
      "4.550000000000001 572\n",
      "4.6000000000000005 572\n",
      "4.650000000000001 572\n",
      "4.700000000000002 572\n",
      "4.750000000000001 572\n",
      "4.800000000000001 572\n",
      "4.8500000000000005 572\n",
      "4.900000000000001 572\n",
      "4.950000000000002 572\n",
      "5.000000000000001 572\n",
      "5.050000000000001 572\n",
      "5.1000000000000005 572\n",
      "5.150000000000001 572\n",
      "5.200000000000002 572\n",
      "5.250000000000001 572\n",
      "5.300000000000001 572\n",
      "5.3500000000000005 572\n",
      "5.4 572\n",
      "5.450000000000002 572\n",
      "5.500000000000001 572\n",
      "5.550000000000001 572\n",
      "5.6000000000000005 572\n",
      "5.65 572\n",
      "5.700000000000002 572\n",
      "5.750000000000001 572\n",
      "5.800000000000001 572\n",
      "5.8500000000000005 572\n",
      "5.9 572\n",
      "5.950000000000002 572\n",
      "6.000000000000001 572\n",
      "6.050000000000001 572\n",
      "6.1000000000000005 572\n",
      "6.15 572\n",
      "6.200000000000002 572\n",
      "6.250000000000001 572\n",
      "6.300000000000001 572\n",
      "6.3500000000000005 572\n",
      "6.4 572\n",
      "6.450000000000002 572\n",
      "6.500000000000001 572\n",
      "6.549999999999999 572\n",
      "6.6000000000000005 572\n",
      "6.65 572\n",
      "6.700000000000002 572\n",
      "6.750000000000001 572\n",
      "6.799999999999999 572\n",
      "6.8500000000000005 572\n",
      "6.9 572\n",
      "6.950000000000002 572\n",
      "7.000000000000001 572\n",
      "7.049999999999999 572\n",
      "7.1000000000000005 572\n",
      "7.150000000000001 572\n",
      "7.200000000000001 572\n",
      "7.250000000000002 572\n",
      "7.299999999999999 572\n",
      "7.3500000000000005 572\n",
      "7.400000000000001 572\n",
      "7.450000000000001 572\n",
      "7.500000000000002 572\n",
      "7.549999999999999 572\n",
      "7.6000000000000005 572\n",
      "7.650000000000001 572\n",
      "7.700000000000001 572\n",
      "7.750000000000002 572\n",
      "7.799999999999999 572\n",
      "7.8500000000000005 572\n",
      "7.900000000000001 572\n",
      "7.950000000000001 572\n",
      "8.000000000000002 572\n",
      "8.049999999999999 572\n",
      "8.100000000000001 572\n",
      "8.15 572\n",
      "8.200000000000001 572\n",
      "8.250000000000002 572\n",
      "8.299999999999999 572\n",
      "8.350000000000001 572\n",
      "8.4 572\n",
      "8.450000000000001 572\n",
      "8.500000000000002 572\n",
      "8.549999999999999 572\n",
      "8.600000000000001 572\n",
      "8.65 572\n",
      "8.700000000000001 572\n",
      "8.750000000000002 572\n",
      "8.799999999999999 572\n",
      "8.850000000000001 572\n",
      "8.9 572\n",
      "8.950000000000001 572\n",
      "9.000000000000002 572\n",
      "9.049999999999999 572\n",
      "9.100000000000001 572\n",
      "9.15 572\n",
      "9.200000000000001 572\n",
      "9.250000000000002 572\n",
      "9.299999999999999 572\n",
      "9.350000000000001 572\n",
      "9.4 572\n",
      "9.450000000000001 572\n",
      "9.500000000000002 572\n",
      "9.549999999999999 572\n",
      "9.600000000000001 572\n",
      "9.65 572\n",
      "9.700000000000001 572\n",
      "9.750000000000002 572\n",
      "9.799999999999999 572\n",
      "9.850000000000001 572\n",
      "9.9 572\n",
      "9.950000000000001 572\n",
      "10.000000000000002 572\n",
      "10.049999999999999 187\n"
     ]
    }
   ],
   "source": [
    "sizes = []\n",
    "for voltage_group in voltage_groups:\n",
    "    voltage_group_size = len(voltage_groups[voltage_group])\n",
    "    sizes.append(voltage_group_size)\n",
    "    if voltage_group_size > 5:\n",
    "        print(voltage_group, voltage_group_size)"
   ]
  },
  {
   "cell_type": "code",
   "execution_count": 21,
   "metadata": {},
   "outputs": [
    {
     "data": {
      "text/plain": [
       "Int64Index([10869, 10870, 10871, 10872, 10873, 10874, 10875, 10876, 10877,\n",
       "            10878,\n",
       "            ...\n",
       "            11431, 11432, 11433, 11434, 11435, 11436, 11437, 11438, 11439,\n",
       "            11440],\n",
       "           dtype='int64', length=572)"
      ]
     },
     "execution_count": 21,
     "metadata": {},
     "output_type": "execute_result"
    }
   ],
   "source": [
    "voltage_val_oi = voltage_groups[-9.0]\n",
    "voltage_val_oi"
   ]
  },
  {
   "cell_type": "code",
   "execution_count": 22,
   "metadata": {},
   "outputs": [
    {
     "data": {
      "text/plain": [
       "<flopter.core.fitdata.FitData2 at 0x7f6283dcc518>"
      ]
     },
     "execution_count": 22,
     "metadata": {},
     "output_type": "execute_result"
    }
   ],
   "source": [
    "def plot_and_fit_gaussian(data):\n",
    "    gaussian = fts.NormalisedGaussianFitter()\n",
    "    fig, ax = plt.subplots()\n",
    "    hist, bin_edges = np.histogram(data, bins='auto', density=True)\n",
    "    bins = (bin_edges[:-1] + bin_edges[1:]) / 2\n",
    "    ax.plot(bins, hist)\n",
    "    \n",
    "    params = [np.std(data), np.mean(data)]\n",
    "    fit_data = gaussian.fit(bins, hist, initial_vals=params) \n",
    "    x = np.linspace(min(bins), max(bins), 1000)\n",
    "    ax.plot(x, fit_data.fit_function(x), label=r'Gaussian fit - $\\sigma$ = {:.3g}'.format(fit_data.get_param(\"sigma\")))\n",
    "\n",
    "    ax.legend()\n",
    "    \n",
    "    return fit_data\n",
    "\n",
    "plot_and_fit_gaussian(df.iloc[voltage_val_oi]['current'])\n",
    "df.iloc[voltage_val_oi]['current'].plot()"
   ]
  },
  {
   "cell_type": "code",
   "execution_count": 24,
   "metadata": {},
   "outputs": [],
   "source": [
    "bin_size = int(np.median(sizes))\n",
    "red_bin_size = int(0.1 * bin_size)"
   ]
  },
  {
   "cell_type": "markdown",
   "metadata": {},
   "source": [
    "### Group and average over individual voltage values"
   ]
  },
  {
   "cell_type": "code",
   "execution_count": 25,
   "metadata": {},
   "outputs": [
    {
     "data": {
      "text/plain": [
       "<matplotlib.axes._subplots.AxesSubplot at 0x7f6283c5c550>"
      ]
     },
     "execution_count": 25,
     "metadata": {},
     "output_type": "execute_result"
    }
   ],
   "source": [
    "red_smoothed_df = df.groupby('voltage').filter(lambda x: len(x) == bin_size).groupby('voltage').tail(red_bin_size).groupby('voltage').mean()\n",
    "red_smoothed_df.plot()"
   ]
  },
  {
   "cell_type": "code",
   "execution_count": 26,
   "metadata": {},
   "outputs": [
    {
     "data": {
      "text/html": [
       "<div>\n",
       "<style scoped>\n",
       "    .dataframe tbody tr th:only-of-type {\n",
       "        vertical-align: middle;\n",
       "    }\n",
       "\n",
       "    .dataframe tbody tr th {\n",
       "        vertical-align: top;\n",
       "    }\n",
       "\n",
       "    .dataframe thead th {\n",
       "        text-align: right;\n",
       "    }\n",
       "</style>\n",
       "<table border=\"1\" class=\"dataframe\">\n",
       "  <thead>\n",
       "    <tr style=\"text-align: right;\">\n",
       "      <th></th>\n",
       "      <th>current</th>\n",
       "    </tr>\n",
       "    <tr>\n",
       "      <th>voltage</th>\n",
       "      <th></th>\n",
       "    </tr>\n",
       "  </thead>\n",
       "  <tbody>\n",
       "    <tr>\n",
       "      <td>-9.95</td>\n",
       "      <td>37.690546</td>\n",
       "    </tr>\n",
       "    <tr>\n",
       "      <td>-9.90</td>\n",
       "      <td>37.494743</td>\n",
       "    </tr>\n",
       "    <tr>\n",
       "      <td>-9.85</td>\n",
       "      <td>37.402080</td>\n",
       "    </tr>\n",
       "    <tr>\n",
       "      <td>-9.80</td>\n",
       "      <td>37.150333</td>\n",
       "    </tr>\n",
       "    <tr>\n",
       "      <td>-9.75</td>\n",
       "      <td>37.358375</td>\n",
       "    </tr>\n",
       "    <tr>\n",
       "      <td>...</td>\n",
       "      <td>...</td>\n",
       "    </tr>\n",
       "    <tr>\n",
       "      <td>9.80</td>\n",
       "      <td>-288.795499</td>\n",
       "    </tr>\n",
       "    <tr>\n",
       "      <td>9.85</td>\n",
       "      <td>-289.398582</td>\n",
       "    </tr>\n",
       "    <tr>\n",
       "      <td>9.90</td>\n",
       "      <td>-270.613523</td>\n",
       "    </tr>\n",
       "    <tr>\n",
       "      <td>9.95</td>\n",
       "      <td>-255.794485</td>\n",
       "    </tr>\n",
       "    <tr>\n",
       "      <td>10.00</td>\n",
       "      <td>-139.889975</td>\n",
       "    </tr>\n",
       "  </tbody>\n",
       "</table>\n",
       "<p>400 rows × 1 columns</p>\n",
       "</div>"
      ],
      "text/plain": [
       "            current\n",
       "voltage            \n",
       "-9.95     37.690546\n",
       "-9.90     37.494743\n",
       "-9.85     37.402080\n",
       "-9.80     37.150333\n",
       "-9.75     37.358375\n",
       "...             ...\n",
       " 9.80   -288.795499\n",
       " 9.85   -289.398582\n",
       " 9.90   -270.613523\n",
       " 9.95   -255.794485\n",
       " 10.00  -139.889975\n",
       "\n",
       "[400 rows x 1 columns]"
      ]
     },
     "execution_count": 26,
     "metadata": {},
     "output_type": "execute_result"
    }
   ],
   "source": [
    "filtered_df = df.groupby('voltage').filter(lambda x: len(x) == bin_size)\n",
    "smoothed_df = filtered_df.groupby('voltage').mean()\n",
    "errors = filtered_df.groupby('voltage').std()\n",
    "smoothed_df"
   ]
  },
  {
   "cell_type": "markdown",
   "metadata": {},
   "source": [
    "Comparison of whether, as per Michael's suggestion, using the latter 10% of each bin makes a difference in eliminating oscillations caused by the step change in voltage. "
   ]
  },
  {
   "cell_type": "code",
   "execution_count": 27,
   "metadata": {},
   "outputs": [
    {
     "data": {
      "text/plain": [
       "<matplotlib.axes._subplots.AxesSubplot at 0x7f6283c4e9e8>"
      ]
     },
     "execution_count": 27,
     "metadata": {},
     "output_type": "execute_result"
    }
   ],
   "source": [
    "fig, ax = plt.subplots()\n",
    "\n",
    "red_smoothed_df.plot(ax=ax)\n",
    "smoothed_df.plot(ax=ax)"
   ]
  },
  {
   "cell_type": "markdown",
   "metadata": {},
   "source": [
    "A: Not a whole lot in this case, makes the smoothing a bit worse though - especially in the electron region. Keep in the option of doing it (as it's so easy) but make it non-default behaviour. "
   ]
  },
  {
   "cell_type": "code",
   "execution_count": 48,
   "metadata": {},
   "outputs": [],
   "source": [
    "smoothed_df['d_current'] = errors['current'].values / np.sqrt(bin_size)\n",
    "smoothed_df['time'] = np.arange(0, smoothed_df['current'].size) * np.squeeze(splopter.tdata.dt) * bin_size"
   ]
  },
  {
   "cell_type": "code",
   "execution_count": 35,
   "metadata": {},
   "outputs": [
    {
     "name": "stdout",
     "output_type": "stream",
     "text": [
      "{'n_e': 1e+18, 'T_e': 5.0, 'B': 0.8, 'L_probe': 5.0}\n",
      "1e+18\n",
      "0.8\n",
      "5\n"
     ]
    }
   ],
   "source": [
    "print(splopter.parser.get_commented_params())\n",
    "print(splopter.parser['mks']['mks_n0'])\n",
    "print(splopter.parser['mks']['mks_b'])\n",
    "print(splopter.parser['mks']['mks_te'])"
   ]
  },
  {
   "cell_type": "code",
   "execution_count": 18,
   "metadata": {},
   "outputs": [],
   "source": [
    "dV = splopter.parser.getfloat('mks', 'mks_te') #* c.BOLTZMANN / c.ELEM_CHARGE\n",
    "T_e = splopter.parser.getfloat('mks', 'mks_te')\n",
    "n_0 = splopter.parser.getfloat('mks', 'mks_n0')"
   ]
  },
  {
   "cell_type": "code",
   "execution_count": 40,
   "metadata": {},
   "outputs": [],
   "source": [
    "smoothed_df = smoothed_df.reset_index()"
   ]
  },
  {
   "cell_type": "code",
   "execution_count": 45,
   "metadata": {},
   "outputs": [],
   "source": [
    "smoothed_df['corr_voltage'] = smoothed_df['voltage'] * dV"
   ]
  },
  {
   "cell_type": "code",
   "execution_count": 42,
   "metadata": {},
   "outputs": [],
   "source": [
    "smoothed_df['current'] = -smoothed_df['current']"
   ]
  },
  {
   "cell_type": "code",
   "execution_count": 46,
   "metadata": {},
   "outputs": [
    {
     "data": {
      "text/html": [
       "<div>\n",
       "<style scoped>\n",
       "    .dataframe tbody tr th:only-of-type {\n",
       "        vertical-align: middle;\n",
       "    }\n",
       "\n",
       "    .dataframe tbody tr th {\n",
       "        vertical-align: top;\n",
       "    }\n",
       "\n",
       "    .dataframe thead th {\n",
       "        text-align: right;\n",
       "    }\n",
       "</style>\n",
       "<table border=\"1\" class=\"dataframe\">\n",
       "  <thead>\n",
       "    <tr style=\"text-align: right;\">\n",
       "      <th></th>\n",
       "      <th>voltage</th>\n",
       "      <th>current</th>\n",
       "      <th>corr_voltage</th>\n",
       "    </tr>\n",
       "  </thead>\n",
       "  <tbody>\n",
       "    <tr>\n",
       "      <td>0</td>\n",
       "      <td>-9.95</td>\n",
       "      <td>-37.690546</td>\n",
       "      <td>-49.75</td>\n",
       "    </tr>\n",
       "    <tr>\n",
       "      <td>1</td>\n",
       "      <td>-9.90</td>\n",
       "      <td>-37.494743</td>\n",
       "      <td>-49.50</td>\n",
       "    </tr>\n",
       "    <tr>\n",
       "      <td>2</td>\n",
       "      <td>-9.85</td>\n",
       "      <td>-37.402080</td>\n",
       "      <td>-49.25</td>\n",
       "    </tr>\n",
       "    <tr>\n",
       "      <td>3</td>\n",
       "      <td>-9.80</td>\n",
       "      <td>-37.150333</td>\n",
       "      <td>-49.00</td>\n",
       "    </tr>\n",
       "    <tr>\n",
       "      <td>4</td>\n",
       "      <td>-9.75</td>\n",
       "      <td>-37.358375</td>\n",
       "      <td>-48.75</td>\n",
       "    </tr>\n",
       "    <tr>\n",
       "      <td>...</td>\n",
       "      <td>...</td>\n",
       "      <td>...</td>\n",
       "      <td>...</td>\n",
       "    </tr>\n",
       "    <tr>\n",
       "      <td>395</td>\n",
       "      <td>9.80</td>\n",
       "      <td>288.795499</td>\n",
       "      <td>49.00</td>\n",
       "    </tr>\n",
       "    <tr>\n",
       "      <td>396</td>\n",
       "      <td>9.85</td>\n",
       "      <td>289.398582</td>\n",
       "      <td>49.25</td>\n",
       "    </tr>\n",
       "    <tr>\n",
       "      <td>397</td>\n",
       "      <td>9.90</td>\n",
       "      <td>270.613523</td>\n",
       "      <td>49.50</td>\n",
       "    </tr>\n",
       "    <tr>\n",
       "      <td>398</td>\n",
       "      <td>9.95</td>\n",
       "      <td>255.794485</td>\n",
       "      <td>49.75</td>\n",
       "    </tr>\n",
       "    <tr>\n",
       "      <td>399</td>\n",
       "      <td>10.00</td>\n",
       "      <td>139.889975</td>\n",
       "      <td>50.00</td>\n",
       "    </tr>\n",
       "  </tbody>\n",
       "</table>\n",
       "<p>400 rows × 3 columns</p>\n",
       "</div>"
      ],
      "text/plain": [
       "     voltage     current  corr_voltage\n",
       "0      -9.95  -37.690546        -49.75\n",
       "1      -9.90  -37.494743        -49.50\n",
       "2      -9.85  -37.402080        -49.25\n",
       "3      -9.80  -37.150333        -49.00\n",
       "4      -9.75  -37.358375        -48.75\n",
       "..       ...         ...           ...\n",
       "395     9.80  288.795499         49.00\n",
       "396     9.85  289.398582         49.25\n",
       "397     9.90  270.613523         49.50\n",
       "398     9.95  255.794485         49.75\n",
       "399    10.00  139.889975         50.00\n",
       "\n",
       "[400 rows x 3 columns]"
      ]
     },
     "execution_count": 46,
     "metadata": {},
     "output_type": "execute_result"
    }
   ],
   "source": [
    "smoothed_df"
   ]
  },
  {
   "cell_type": "code",
   "execution_count": 49,
   "metadata": {},
   "outputs": [],
   "source": [
    "iv_data = iv.IVData.from_dataset(smoothed_df)"
   ]
  },
  {
   "cell_type": "code",
   "execution_count": 50,
   "metadata": {},
   "outputs": [
    {
     "data": {
      "text/plain": [
       "<ErrorbarContainer object of 3 artists>"
      ]
     },
     "execution_count": 50,
     "metadata": {},
     "output_type": "execute_result"
    }
   ],
   "source": [
    "iv_data.plot()"
   ]
  },
  {
   "cell_type": "code",
   "execution_count": 96,
   "metadata": {},
   "outputs": [
    {
     "name": "stderr",
     "output_type": "stream",
     "text": [
      "/home/jleland/.pyenv/versions/3.6.9/lib/python3.6/tkinter/__init__.py:1705: UserWarning: constrained_layout not applied.  At least one axes collapsed to zero width or height.\n",
      "  return self.func(*args)\n",
      "/home/jleland/.pyenv/versions/3.6.9/lib/python3.6/tkinter/__init__.py:749: UserWarning: constrained_layout not applied.  At least one axes collapsed to zero width or height.\n",
      "  func(*args)\n"
     ]
    }
   ],
   "source": [
    "fit_data = iv_data.multi_fit(sat_region=-4, plot_fl=True)"
   ]
  },
  {
   "cell_type": "code",
   "execution_count": 95,
   "metadata": {},
   "outputs": [
    {
     "ename": "NameError",
     "evalue": "name 'fit_data' is not defined",
     "output_type": "error",
     "traceback": [
      "\u001b[0;31m---------------------------------------------------------------------------\u001b[0m",
      "\u001b[0;31mNameError\u001b[0m                                 Traceback (most recent call last)",
      "\u001b[0;32m<ipython-input-95-14155ac00aab>\u001b[0m in \u001b[0;36m<module>\u001b[0;34m\u001b[0m\n\u001b[0;32m----> 1\u001b[0;31m \u001b[0ma\u001b[0m \u001b[0;34m=\u001b[0m \u001b[0mfit_data\u001b[0m\u001b[0;34m.\u001b[0m\u001b[0mget_sheath_exp\u001b[0m\u001b[0;34m(\u001b[0m\u001b[0;34m)\u001b[0m\u001b[0;34m\u001b[0m\u001b[0;34m\u001b[0m\u001b[0m\n\u001b[0m",
      "\u001b[0;31mNameError\u001b[0m: name 'fit_data' is not defined"
     ]
    }
   ],
   "source": [
    "a = fit_data.get_sheath_exp()\n"
   ]
  },
  {
   "cell_type": "code",
   "execution_count": 87,
   "metadata": {},
   "outputs": [
    {
     "name": "stdout",
     "output_type": "stream",
     "text": [
      "L = 300.0 L_d \n",
      "lambda_D = 1.6622799720325184e-05 \n",
      "theta = 0.17453292519943295 \n",
      "I_0 = 4.294003089384486\n"
     ]
    }
   ],
   "source": [
    "L = splopter.parser.getfloat('rectangle2', 'yhigh') - splopter.parser.getfloat('rectangle2', 'ylow')\n",
    "lambda_D = lpu.debye_length(T_e, n_0)\n",
    "theta = np.abs(np.squeeze(splopter.tdata.alphayz))\n",
    "I_0 = c.ELEM_CHARGE * n_0 * lpu.sound_speed(T_e) * L * lambda_D * np.sin(theta)\n",
    "\n",
    "print(f\"L = {L} L_d \\n\"\n",
    "      f\"lambda_D = {lambda_D} \\n\"\n",
    "      f\"theta = {theta} \\n\"\n",
    "      f\"I_0 = {I_0}\")"
   ]
  },
  {
   "cell_type": "code",
   "execution_count": 88,
   "metadata": {},
   "outputs": [
    {
     "name": "stdout",
     "output_type": "stream",
     "text": [
      "rectangle0 = 'forewall':\n",
      "\tylow: 0\n",
      "\tyhigh: 68\n",
      "\tzlow: 0\n",
      "\tzhigh: 94\n",
      "rectangle1 = 'rearwall':\n",
      "\tylow: 488\n",
      "\tyhigh: 556\n",
      "\tzlow: 0\n",
      "\tzhigh: 94\n",
      "rectangle2 = 'probe':\n",
      "\tylow: 128\n",
      "\tyhigh: 428\n",
      "\tzlow: 0\n",
      "\tzhigh: 94\n"
     ]
    }
   ],
   "source": [
    "for shape in ['rectangle0', 'rectangle1', 'rectangle2']:\n",
    "    print(f\"{shape} = {splopter.parser[shape]['name']}:\")\n",
    "    for coord in ['y', 'z']:\n",
    "        print(f\"\\t{coord}low: {splopter.parser[shape][coord+'low']}\")\n",
    "        print(f\"\\t{coord}high: {splopter.parser[shape][coord+'high']}\")"
   ]
  },
  {
   "cell_type": "code",
   "execution_count": 94,
   "metadata": {},
   "outputs": [
    {
     "data": {
      "text/plain": [
       "(-15, 85)"
      ]
     },
     "execution_count": 94,
     "metadata": {},
     "output_type": "execute_result"
    }
   ],
   "source": [
    "fig, ax = plt.subplots()\n",
    "\n",
    "ax.plot(smoothed_df['corr_voltage'], smoothed_df['current'] / I_0)\n",
    "ax.set_xlim(-30, 0)\n",
    "ax.set_ylim(-15, 85)\n",
    "# ax.set_yscale('log')"
   ]
  },
  {
   "cell_type": "code",
   "execution_count": null,
   "metadata": {},
   "outputs": [],
   "source": [
    "fig, ax = plt.subplots()\n",
    "\n",
    "ax.plot(smoothed_df['corr_voltage'], smoothed_df['current'] / I_0)\n",
    "ax.set_xlim(-30, 0)\n",
    "ax.set_ylim(-15, 85)\n",
    "# ax.set_yscale('log')"
   ]
  },
  {
   "cell_type": "markdown",
   "metadata": {},
   "source": [
    "# Post implementation check"
   ]
  },
  {
   "cell_type": "code",
   "execution_count": 30,
   "metadata": {},
   "outputs": [
    {
     "name": "stdout",
     "output_type": "stream",
     "text": [
      "Spice data directory is not valid, attempting to auto-fix.\n",
      "Passed Spice directory (/home/jleland/data/external_big/spice/marconi/spice2/sheath_exp/angled_1/alpha_yz_-1.0) doesn't seem to be valid.\n",
      "Continuing anyway.\n",
      "WARNING: Encountered t-zeroing, creating an approximate t array\n"
     ]
    }
   ],
   "source": [
    "splopter_old = spl.Splopter(spl_path, reduce=desired_variables, ignore_tzero_fl=True, version=2.13)\n",
    "splopter_old.prepare(denormaliser_fl=False, \n",
    "                     homogenise_fl=True, \n",
    "                     find_se_temp_fl=False, \n",
    "                     backup_concat_fl=False)"
   ]
  },
  {
   "cell_type": "code",
   "execution_count": 33,
   "metadata": {},
   "outputs": [
    {
     "data": {
      "text/plain": [
       "<module 'flopter.spice.splopter' from '/home/jleland/coding/projects/flopter/flopter/spice/splopter.py'>"
      ]
     },
     "execution_count": 33,
     "metadata": {},
     "output_type": "execute_result"
    }
   ],
   "source": [
    "importlib.reload(iv)\n",
    "importlib.reload(spl)"
   ]
  },
  {
   "cell_type": "code",
   "execution_count": 10,
   "metadata": {},
   "outputs": [
    {
     "name": "stdout",
     "output_type": "stream",
     "text": [
      "Spice data directory is not valid, attempting to auto-fix.\n",
      "Passed Spice directory (/home/jleland/data/external_big/spice/marconi/spice2/sheath_exp/angled_1/alpha_yz_-1.0) doesn't seem to be valid.\n",
      "Continuing anyway.\n"
     ]
    },
    {
     "name": "stderr",
     "output_type": "stream",
     "text": [
      "/home/jleland/coding/environments/python3.6/lib/python3.6/site-packages/scipy/io/matlab/mio.py:218: MatReadWarning: Duplicate variable name \"npartproc\" in stream - replacing previous with new\n",
      "Consider mio5.varmats_from_mat to split file into single variable files\n",
      "  matfile_dict = MR.get_variables(variable_names)\n"
     ]
    },
    {
     "name": "stdout",
     "output_type": "stream",
     "text": [
      "WARNING: Encountered t-zeroing, creating an approximate t array\n"
     ]
    }
   ],
   "source": [
    "splopter = spl.Splopter(spl_path, reduce=desired_variables, ignore_tzero_fl=True, version=2.14)\n",
    "splopter.prepare(denormaliser_fl=False, \n",
    "                 homogenise_fl=True, \n",
    "                 find_se_temp_fl=False, \n",
    "                 backup_concat_fl=False)"
   ]
  },
  {
   "cell_type": "code",
   "execution_count": 12,
   "metadata": {},
   "outputs": [
    {
     "ename": "NameError",
     "evalue": "name 'splopter_old' is not defined",
     "output_type": "error",
     "traceback": [
      "\u001b[0;31m---------------------------------------------------------------------------\u001b[0m",
      "\u001b[0;31mNameError\u001b[0m                                 Traceback (most recent call last)",
      "\u001b[0;32m<ipython-input-12-b04fe6163887>\u001b[0m in \u001b[0;36m<module>\u001b[0;34m\u001b[0m\n\u001b[1;32m      4\u001b[0m \u001b[0max\u001b[0m\u001b[0;34m[\u001b[0m\u001b[0;36m1\u001b[0m\u001b[0;34m]\u001b[0m\u001b[0;34m.\u001b[0m\u001b[0mplot\u001b[0m\u001b[0;34m(\u001b[0m\u001b[0msplopter\u001b[0m\u001b[0;34m.\u001b[0m\u001b[0mraw_data\u001b[0m\u001b[0;34m[\u001b[0m\u001b[0;34m'I'\u001b[0m\u001b[0;34m]\u001b[0m\u001b[0;34m)\u001b[0m\u001b[0;34m\u001b[0m\u001b[0;34m\u001b[0m\u001b[0m\n\u001b[1;32m      5\u001b[0m \u001b[0;34m\u001b[0m\u001b[0m\n\u001b[0;32m----> 6\u001b[0;31m \u001b[0max\u001b[0m\u001b[0;34m[\u001b[0m\u001b[0;36m0\u001b[0m\u001b[0;34m]\u001b[0m\u001b[0;34m.\u001b[0m\u001b[0mplot\u001b[0m\u001b[0;34m(\u001b[0m\u001b[0msplopter_old\u001b[0m\u001b[0;34m.\u001b[0m\u001b[0mraw_data\u001b[0m\u001b[0;34m[\u001b[0m\u001b[0;34m'V'\u001b[0m\u001b[0;34m]\u001b[0m\u001b[0;34m)\u001b[0m\u001b[0;34m\u001b[0m\u001b[0;34m\u001b[0m\u001b[0m\n\u001b[0m\u001b[1;32m      7\u001b[0m \u001b[0max\u001b[0m\u001b[0;34m[\u001b[0m\u001b[0;36m1\u001b[0m\u001b[0;34m]\u001b[0m\u001b[0;34m.\u001b[0m\u001b[0mplot\u001b[0m\u001b[0;34m(\u001b[0m\u001b[0msplopter_old\u001b[0m\u001b[0;34m.\u001b[0m\u001b[0mraw_data\u001b[0m\u001b[0;34m[\u001b[0m\u001b[0;34m'I'\u001b[0m\u001b[0;34m]\u001b[0m\u001b[0;34m)\u001b[0m\u001b[0;34m\u001b[0m\u001b[0;34m\u001b[0m\u001b[0m\n",
      "\u001b[0;31mNameError\u001b[0m: name 'splopter_old' is not defined"
     ]
    }
   ],
   "source": [
    "fig, ax = plt.subplots(2, sharex=True)\n",
    "\n",
    "ax[0].plot(splopter.raw_data['V'])\n",
    "ax[1].plot(splopter.raw_data['I'])\n",
    "\n",
    "ax[0].plot(splopter_old.raw_data['V'])\n",
    "ax[1].plot(splopter_old.raw_data['I'])"
   ]
  },
  {
   "cell_type": "code",
   "execution_count": 37,
   "metadata": {},
   "outputs": [
    {
     "data": {
      "text/plain": [
       "Text(0.5, 0, 'Old')"
      ]
     },
     "execution_count": 37,
     "metadata": {},
     "output_type": "execute_result"
    }
   ],
   "source": [
    "fig, ax = plt.subplots(2, 2, sharey=True)\n",
    "\n",
    "ax[0,0].plot(splopter.iv_data['V'])\n",
    "ax[1,0].plot(splopter.iv_data['I'])\n",
    "ax[1,0].set_xlabel('New')\n",
    "\n",
    "ax[0,1].plot(splopter_old.iv_data['V'])\n",
    "ax[1,1].plot(splopter_old.iv_data['I'])\n",
    "ax[1,1].set_xlabel('Old')"
   ]
  },
  {
   "cell_type": "markdown",
   "metadata": {},
   "source": [
    "Success!\n",
    "\n",
    "## Make a function of post-homogenisation analysis"
   ]
  },
  {
   "cell_type": "code",
   "execution_count": 13,
   "metadata": {},
   "outputs": [],
   "source": [
    "iv_data = splopter.iv_data"
   ]
  },
  {
   "cell_type": "code",
   "execution_count": 14,
   "metadata": {},
   "outputs": [
    {
     "name": "stderr",
     "output_type": "stream",
     "text": [
      "/home/jleland/.pyenv/versions/3.6.9/lib/python3.6/tkinter/__init__.py:1705: UserWarning: constrained_layout not applied.  At least one axes collapsed to zero width or height.\n",
      "  return self.func(*args)\n",
      "/home/jleland/.pyenv/versions/3.6.9/lib/python3.6/tkinter/__init__.py:749: UserWarning: constrained_layout not applied.  At least one axes collapsed to zero width or height.\n",
      "  func(*args)\n"
     ]
    }
   ],
   "source": [
    "fit_data = iv_data.multi_fit(sat_region=-4, plot_fl=True)"
   ]
  },
  {
   "cell_type": "code",
   "execution_count": 15,
   "metadata": {},
   "outputs": [],
   "source": [
    "a = fit_data.get_sheath_exp()\n"
   ]
  }
 ],
 "metadata": {
  "kernelspec": {
   "display_name": "python3.6-codac",
   "language": "python",
   "name": "python3.6-codac"
  },
  "language_info": {
   "codemirror_mode": {
    "name": "ipython",
    "version": 3
   },
   "file_extension": ".py",
   "mimetype": "text/x-python",
   "name": "python",
   "nbconvert_exporter": "python",
   "pygments_lexer": "ipython3",
   "version": "3.6.9"
  }
 },
 "nbformat": 4,
 "nbformat_minor": 4
}
