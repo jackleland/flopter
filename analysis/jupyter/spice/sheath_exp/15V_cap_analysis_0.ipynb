{
 "cells": [
  {
   "cell_type": "code",
   "execution_count": 1,
   "metadata": {},
   "outputs": [],
   "source": [
    "%matplotlib tk\n",
    "import numpy as np\n",
    "import matplotlib.pyplot as plt\n",
    "import matplotlib as mpl\n",
    "mpl.rcParams['text.usetex'] = False\n",
    "mpl.rcParams['font.size'] = 14\n",
    "import xarray as xr\n",
    "import pandas as pd\n",
    "import scipy.io as sio\n",
    "import sys\n",
    "import os\n",
    "import glob\n",
    "import copy\n",
    "import pathlib as pth\n",
    "import importlib\n",
    "import math\n",
    "sys.path.append('/home/jleland/Coding/Projects/flopter')\n",
    "import flopter.spice.splopter as spl\n",
    "import flopter.spice.tdata as td\n",
    "import flopter.core.ivdata as iv\n",
    "import flopter.core.fitters as fts\n",
    "import flopter.core.fitdata as fd\n",
    "import flopter.core.lputils as lpu\n",
    "import flopter.core.constants as c\n",
    "import flopter.spice.inputparser as inp\n",
    "import flopter.spice.normalise as nrm\n",
    "import flopter.spice.xrfuncs as xrf\n",
    "import flopter.spice.decomposition as dc"
   ]
  },
  {
   "cell_type": "code",
   "execution_count": 5,
   "metadata": {},
   "outputs": [],
   "source": [
    "spice_dir = pth.Path('/home/jleland/data/external_big/spice/')\n",
    "datasets_dir = 'sheath_exp_datasets/15V_cap'\n",
    "datasets_path = spice_dir / datasets_dir\n",
    "os.chdir(spice_dir)"
   ]
  },
  {
   "cell_type": "code",
   "execution_count": 4,
   "metadata": {},
   "outputs": [],
   "source": [
    "bbm_ds = xr.load_dataset(f'{datasets_dir}/se_bbm_ivs.nc').isel(run=0)\n",
    "fwp0_ds = xr.load_dataset(f'{datasets_dir}/se_fwp_0_ivs.nc').isel(run=0)\n",
    "fwp2_ds = xr.load_dataset(f'{datasets_dir}/se_fwp_2_ivs.nc').isel(run=0)\n",
    "fflwp_ds = xr.load_dataset(f'{datasets_dir}/se_fflwp_ivs.nc').isel(run=0)\n",
    "hg_fflwp_ds = xr.load_dataset(f'{datasets_dir}/se_hg_fflwp_ivs.nc').isel(run=0)\n",
    "hg_ds = xr.load_dataset(f'{datasets_dir}/se_hg_ivs.nc').isel(run=0)\n",
    "\n",
    "combined_ds = xr.load_dataset(f'{datasets_dir}/se_combined.nc')"
   ]
  },
  {
   "cell_type": "code",
   "execution_count": 11,
   "metadata": {},
   "outputs": [],
   "source": [
    "skippable_runs = set([\n",
    "    'marconi/spice2/sheath_exp_hg/flat_flush_gapfill/alpha_yz_-6.0', # accidental duplicate\n",
    "    'marconi/spice2/sheath_exp_hg/angled_recessed_as/alpha_yz_-2.0',\n",
    "    'marconi/spice2/sheath_exp_hg/angled_recessed_as/alpha_yz_-3.0',\n",
    "    'marconi/spice2/sheath_exp_hg_fflwp/angled_recessed_as/alpha_yz_-2.0',\n",
    "    'marconi/spice2/sheath_exp_hg_fflwp/angled_recessed_as/alpha_yz_-3.0',\n",
    "    'marconi/spice2/sheath_exp_hg_fflwp/angled_recessed_as/alpha_yz_-4.0',\n",
    "    'marconi/spice2/sheath_exp_hg_fflwp/angled_recessed_as/alpha_yz_-5.0',\n",
    "    'marconi/spice2/sheath_exp_hg_fflwp/angled_recessed_as/alpha_yz_-6.0',\n",
    "    'marconi/spice2/sheath_exp_hg_fflwp/flat_flush_as/alpha_yz_-2.0',\n",
    "    'marconi/spice2/sheath_exp_fflwp/angled_recessed_as/alpha_yz_-2.0',\n",
    "    'marconi/spice2/sheath_exp_fwp/flat_flush_wp-2_as_1_/alpha_yz_-2.0',\n",
    "    'marconi/spice2/bergmann_bm/flat_flush_lowas/alpha_yz_-1.5',\n",
    "]) \n",
    "skippable_scans = set()\n",
    "single_sims = set()"
   ]
  },
  {
   "cell_type": "code",
   "execution_count": 12,
   "metadata": {},
   "outputs": [],
   "source": [
    "non_standard_variables = {'t', 'ProbePot', 'QnPot', 'npartproc', 'Nz', 'Nzmax', 'Ny', 'count', 'Npc', 'snumber', 'nproc'}\n",
    "desired_variables = (td.DEFAULT_REDUCED_DATASET | non_standard_variables) - {td.OBJECTSCURRENTFLUXE, td.OBJECTSCURRENTFLUXI}"
   ]
  },
  {
   "cell_type": "code",
   "execution_count": 13,
   "metadata": {
    "pycharm": {
     "is_executing": false
    }
   },
   "outputs": [
    {
     "name": "stdout",
     "output_type": "stream",
     "text": [
      "[0]: marconi/spice2/sheath_exp_fflwp/angled_recessed_as\n",
      "\t[0,0]: angled_recessed_as/alpha_yz_-10.0\n",
      "\t[0,1]: angled_recessed_as/alpha_yz_-11.0\n",
      "\t[0,2]: angled_recessed_as/alpha_yz_-12.0\n",
      "\t[0,3]: angled_recessed_as/alpha_yz_-15.0\n",
      "\t[0,4]: angled_recessed_as/alpha_yz_-20.0\n",
      "\t[0,5]: angled_recessed_as/alpha_yz_-3.0\n",
      "\t[0,6]: angled_recessed_as/alpha_yz_-30.0\n",
      "\t[0,7]: angled_recessed_as/alpha_yz_-4.0\n",
      "\t[0,8]: angled_recessed_as/alpha_yz_-5.0\n",
      "\t[0,9]: angled_recessed_as/alpha_yz_-6.0\n",
      "\t[0,10]: angled_recessed_as/alpha_yz_-7.0\n",
      "\t[0,11]: angled_recessed_as/alpha_yz_-8.0\n",
      "\t[0,12]: angled_recessed_as/alpha_yz_-9.0\n",
      "[1]: marconi/spice2/sheath_exp_hg/angled_recessed_as\n",
      "\t[1,0]: angled_recessed_as/alpha_yz_-10.0\n",
      "\t[1,1]: angled_recessed_as/alpha_yz_-12.0\n",
      "\t[1,2]: angled_recessed_as/alpha_yz_-20.0\n",
      "\t[1,3]: angled_recessed_as/alpha_yz_-30.0\n",
      "\t[1,4]: angled_recessed_as/alpha_yz_-5.0\n",
      "\t[1,5]: angled_recessed_as/alpha_yz_-6.0\n",
      "\t[1,6]: angled_recessed_as/alpha_yz_-8.0\n"
     ]
    }
   ],
   "source": [
    "\n",
    "scans_searchstr = [\n",
    "    '*/*/sheath_exp_hg/angled_recessed_as',\n",
    "    '*/*/sheath_exp_fflwp/angled_recessed_as',\n",
    "]\n",
    "disallowed_angles = []\n",
    "\n",
    "scans, all_run_dirs = xrf.get_run_dirs(scans_searchstr, skippable_runs=skippable_runs, \n",
    "                                       disallowed_angles=disallowed_angles)"
   ]
  },
  {
   "cell_type": "code",
   "execution_count": 14,
   "metadata": {},
   "outputs": [
    {
     "name": "stdout",
     "output_type": "stream",
     "text": [
      "halfgrid ex. - marconi/spice2/sheath_exp_hg/angled_recessed_as/alpha_yz_-10.0\n",
      "wholegrid ex. - marconi/spice2/sheath_exp_fflwp/angled_recessed_as/alpha_yz_-10.0\n"
     ]
    }
   ],
   "source": [
    "spl_hg_path = spice_dir / all_run_dirs[scans[1]][0]\n",
    "spl_hg_backup_path = list(spl_hg_path.glob('backup_*'))[-1]\n",
    "\n",
    "spl_wg_path = spice_dir / all_run_dirs[scans[0]][0]\n",
    "spl_wg_backup_path = list(spl_wg_path.glob('backup_*'))[-1]\n",
    "\n",
    "print(f\"halfgrid ex. - {all_run_dirs[scans[1]][0]}\")\n",
    "print(f\"wholegrid ex. - {all_run_dirs[scans[0]][0]}\")"
   ]
  },
  {
   "cell_type": "markdown",
   "metadata": {},
   "source": [
    "# Preamble of necessary stuff\n",
    "\n",
    "This bit creates all teh necessary variables for plotting to commence, including loading the dataset, creating a denormaliser, extracting relevant probe dimensions from an input file and defining a few functions for ease of manipulation. "
   ]
  },
  {
   "cell_type": "code",
   "execution_count": 15,
   "metadata": {},
   "outputs": [
    {
     "name": "stdout",
     "output_type": "stream",
     "text": [
      "Spice data directory is not valid, attempting to auto-fix.\n",
      "Passed Spice directory (/home/jleland/data/external_big/spice/marconi/spice2/sheath_exp_hg/angled_recessed_as/alpha_yz_-10.0/backup_20210111-0904) doesn't seem to be valid.\n",
      "Continuing anyway.\n"
     ]
    },
    {
     "name": "stderr",
     "output_type": "stream",
     "text": [
      "/home/jleland/coding/environments/python3.6/lib/python3.6/site-packages/scipy/io/matlab/mio.py:218: MatReadWarning: Duplicate variable name \"npartproc\" in stream - replacing previous with new\n",
      "Consider mio5.varmats_from_mat to split file into single variable files\n",
      "  matfile_dict = MR.get_variables(variable_names)\n"
     ]
    },
    {
     "name": "stdout",
     "output_type": "stream",
     "text": [
      "WARNING: Encountered t-zeroing, creating an approximate t array\n",
      "Spice data directory is not valid, attempting to auto-fix.\n",
      "Passed Spice directory (/home/jleland/data/external_big/spice/marconi/spice2/sheath_exp_fflwp/angled_recessed_as/alpha_yz_-10.0/backup_20210211-0426) doesn't seem to be valid.\n",
      "Continuing anyway.\n",
      "dx = 1.0, dy = 0.5, dz = 0.5\n",
      "dx = 1.0, dy = 1.0, dz = 1.0\n"
     ]
    }
   ],
   "source": [
    "splopter_hg =  spl.Splopter(spl_hg_backup_path, reduce=desired_variables, ignore_tzero_fl=True, version=2.14,\n",
    "                            store_dataframe_fl=True)\n",
    "splopter_wg =  spl.Splopter(spl_wg_backup_path, reduce=desired_variables, ignore_tzero_fl=True, version=2.14,\n",
    "                            store_dataframe_fl=True)\n",
    "\n",
    "parser_hg = inp.InputParser(input_filename=spl_hg_backup_path / 'input.inp')\n",
    "denormaliser_hg = nrm.Denormaliser(dt=splopter_hg.tdata.dt, input_parser=parser_hg) #, dimensions=3)\n",
    "\n",
    "parser_wg = inp.InputParser(input_filename=spl_wg_backup_path / 'input.inp')\n",
    "denormaliser_wg = nrm.Denormaliser(dt=splopter_wg.tdata.dt, input_parser=parser_wg)\n"
   ]
  },
  {
   "cell_type": "code",
   "execution_count": 10,
   "metadata": {},
   "outputs": [
    {
     "data": {
      "text/plain": [
       "[<matplotlib.lines.Line2D at 0x7fdc73b20978>]"
      ]
     },
     "execution_count": 10,
     "metadata": {},
     "output_type": "execute_result"
    }
   ],
   "source": [
    "# Quick look at sheath edge potential\n",
    "\n",
    "fig, ax = plt.subplots()\n",
    "ax.plot(splopter_hg.tdata.diagnostics['QnPot'])"
   ]
  },
  {
   "cell_type": "code",
   "execution_count": 11,
   "metadata": {},
   "outputs": [
    {
     "data": {
      "text/plain": [
       "{'angled_flush': '#4477AA',\n",
       " 'angled_recessed': '#66CCEE',\n",
       " 'flat_flush': '#228833',\n",
       " 'flat_recessed': '#CCBB44',\n",
       " 'flat_flush_gapless': '#EE6677'}"
      ]
     },
     "execution_count": 11,
     "metadata": {},
     "output_type": "execute_result"
    }
   ],
   "source": [
    "probe_desig = {\n",
    "    'angled_flush': {'theta_p':10.0, 'recession':0.0, 'gap': 1.0e-3},\n",
    "    'angled_recessed': {'theta_p':10.0, 'recession':1.0e-3, 'gap': 1.0e-3},\n",
    "    'flat_flush': {'theta_p':0.0, 'recession':0.0, 'gap': 1.0e-3},\n",
    "    'flat_recessed': {'theta_p':0.0, 'recession':1.0e-3, 'gap': 1.0e-3},\n",
    "    'flat_flush_gapless': {'theta_p':0.0, 'recession': 0.0, 'gap': 0.0}\n",
    "}\n",
    "\n",
    "tableau_palette = ['#377eb8', '#ff7f00', '#4daf4a', \n",
    "                   '#f781bf', '#a65628', '#984ea3', \n",
    "                   '#999999', '#e41a1c', '#dede00']\n",
    "\n",
    "cb_palette = ['#4477AA', '#66CCEE', '#228833', '#CCBB44', \n",
    "              '#EE6677', '#AA3377', '#BBBBBB']\n",
    "\n",
    "contrast_palette = ['#FFFFFF', '#DDAA33', '#BB5566', '#004488', '#000000']\n",
    "\n",
    "vibrant_palette = ['#0077BB', '#33BBEE', '#009988', '#EE7733', \n",
    "                   '#CC3311', '#EE3377', '#BBBBBB']\n",
    "\n",
    "muted_palette = ['#332288', '#88CCEE', '#44AA99', '#117733', '#999933', \n",
    "                 '#DDCC77', '#CC6677', '#882255', '#AA4499', '#DDDDDD']\n",
    "\n",
    "paledark_palette = [\n",
    "    ['#BBCCEE', '#CCEEFF', '#CCDDAA', '#EEEEBB', '#FFCCCC', '#DDDDDD'],\n",
    "    ['#222255', '#225555', '#225522', '#666633', '#663333', '#555555'],\n",
    "]\n",
    "\n",
    "probe_colour = {probe_label: cb_palette[i] for i, probe_label in enumerate(probe_desig.keys())}\n",
    "probe_colour"
   ]
  },
  {
   "cell_type": "code",
   "execution_count": 16,
   "metadata": {},
   "outputs": [
    {
     "name": "stdout",
     "output_type": "stream",
     "text": [
      "T_e = 5.0 eV \n",
      "n_0 = 1e+18 m^-3 \n",
      "L = 300.0 L_d \n",
      "g = 60.0 L_d \n",
      "lambda_D = 1.6622799720325184e-05 \n",
      "theta_p = 0.17453292519943295 \n",
      "\n"
     ]
    }
   ],
   "source": [
    "dV = parser_wg.getfloat('mks', 'mks_te') #* c.BOLTZMANN / c.ELEM_CHARGE\n",
    "T_e = parser_wg.getfloat('mks', 'mks_te')\n",
    "n_0 = parser_wg.getfloat('mks', 'mks_n0')\n",
    "\n",
    "L = parser_wg.getfloat('rectangle2', 'yhigh') - parser_wg.getfloat('rectangle2', 'ylow')\n",
    "g = parser_wg.getfloat('rectangle2', 'ylow') - parser_wg.getfloat('rectangle0', 'yhigh') \n",
    "lambda_D = lpu.debye_length(T_e, n_0)\n",
    "max_theta_p = np.radians(10.0)\n",
    "\n",
    "print(f\"T_e = {T_e} eV \\n\"\n",
    "      f\"n_0 = {n_0} m^-3 \\n\"\n",
    "      f\"L = {L} L_d \\n\"\n",
    "      f\"g = {g} L_d \\n\"\n",
    "      f\"lambda_D = {lambda_D} \\n\"\n",
    "      f\"theta_p = {max_theta_p} \\n\")"
   ]
  },
  {
   "cell_type": "code",
   "execution_count": 17,
   "metadata": {},
   "outputs": [
    {
     "data": {
      "text/plain": [
       "{'angled_flush': '#4477AA',\n",
       " 'angled_recessed': '#66CCEE',\n",
       " 'flat_flush': '#228833',\n",
       " 'flat_recessed': '#CCBB44',\n",
       " 'flat_flush_gapless': '#EE6677'}"
      ]
     },
     "execution_count": 17,
     "metadata": {},
     "output_type": "execute_result"
    }
   ],
   "source": [
    "probe_desig = {\n",
    "    'angled_flush': {'theta_p':10.0, 'recession':0.0, 'gap': 1.0e-3},\n",
    "    'angled_recessed': {'theta_p':10.0, 'recession':1.0e-3, 'gap': 1.0e-3},\n",
    "    'flat_flush': {'theta_p':0.0, 'recession':0.0, 'gap': 1.0e-3},\n",
    "    'flat_recessed': {'theta_p':0.0, 'recession':1.0e-3, 'gap': 1.0e-3},\n",
    "    'flat_flush_gapless': {'theta_p':0.0, 'recession': 0.0, 'gap': 0.0}\n",
    "}\n",
    "\n",
    "tableau_palette = ['#377eb8', '#ff7f00', '#4daf4a', \n",
    "                   '#f781bf', '#a65628', '#984ea3', \n",
    "                   '#999999', '#e41a1c', '#dede00']\n",
    "\n",
    "cb_palette = ['#4477AA', '#66CCEE', '#228833', '#CCBB44', \n",
    "              '#EE6677', '#AA3377', '#BBBBBB']\n",
    "\n",
    "contrast_palette = ['#FFFFFF', '#DDAA33', '#BB5566', '#004488', '#000000']\n",
    "\n",
    "vibrant_palette = ['#0077BB', '#33BBEE', '#009988', '#EE7733', \n",
    "                   '#CC3311', '#EE3377', '#BBBBBB']\n",
    "\n",
    "muted_palette = ['#332288', '#88CCEE', '#44AA99', '#117733', '#999933', \n",
    "                 '#DDCC77', '#CC6677', '#882255', '#AA4499', '#DDDDDD']\n",
    "\n",
    "paledark_palette = [\n",
    "    ['#BBCCEE', '#CCEEFF', '#CCDDAA', '#EEEEBB', '#FFCCCC', '#DDDDDD'],\n",
    "    ['#222255', '#225555', '#225522', '#666633', '#663333', '#555555'],\n",
    "]\n",
    "\n",
    "probe_colour = {probe_label: cb_palette[i] for i, probe_label in enumerate(probe_desig.keys())}\n",
    "probe_colour"
   ]
  },
  {
   "cell_type": "code",
   "execution_count": 18,
   "metadata": {},
   "outputs": [],
   "source": [
    "dummy_theta = np.linspace(0.00001, 45.0, 5000)\n",
    "flush_calced_a = lpu.calc_sheath_expansion_param(\n",
    "    T_e,\n",
    "    n_0,\n",
    "    L * lambda_D,\n",
    "    g * lambda_D, \n",
    "    np.radians(dummy_theta),\n",
    "    c_1=0.5,\n",
    "    c_2=0.6,\n",
    ")\n",
    "probe_names = {'flat_flush': 'Flush-mounted', \n",
    "               'angled_recessed': 'Angled-tip Recessed'}"
   ]
  },
  {
   "cell_type": "code",
   "execution_count": 20,
   "metadata": {},
   "outputs": [],
   "source": [
    "# Wholegrid floating sheath exp params, probe comparison\n",
    "\n",
    "sel_args = {'theta':slice(2,30)}\n",
    "\n",
    "fig, ax = plt.subplots(figsize=[8,6])\n",
    "\n",
    "markers = ['o', '^', 's']\n",
    "colours = (cb_palette[0], cb_palette[4])\n",
    "mfcs = ['none', None]\n",
    "\n",
    "plot_ds = fflwp_ds\n",
    "\n",
    "for i, probe in enumerate(probe_names.keys()):\n",
    "\n",
    "    probe_ds = plot_ds.sel(probe=probe, **sel_args)\n",
    "\n",
    "    ax.errorbar(probe_ds.theta, probe_ds.ion_a, \n",
    "                yerr=probe_ds.ion_d_a, color=colours[i], mfc='none',\n",
    "                label=f'{probe_names[probe]}', marker=markers[i], ls='none')\n",
    "#     ax.errorbar(probe_ds.theta, probe_ds.mf_iv_a, \n",
    "#                 yerr=probe_ds.mf_iv_d_a, color=colours[i],\n",
    "#                 label=f'{probes[probe]}', marker=markers[i], ls='none')\n",
    "    \n",
    "calced_a = lpu.calc_sheath_expansion_param(\n",
    "    T_e, n_0, L * lambda_D, g * lambda_D, np.radians(dummy_theta), \n",
    "    c_1=0.9, c_2=0.6,\n",
    ")\n",
    "ax.errorbar(dummy_theta, calced_a, label=r'Predicted - Murphy-Sugrue', fmt='-', \n",
    "            color=cb_palette[3], linewidth=1.0)\n",
    "\n",
    "calced_a = lpu.calc_sheath_expansion_param(\n",
    "    T_e, n_0, L * lambda_D, 0, np.radians(dummy_theta), \n",
    "    c_1=0.5, c_2=0.6,\n",
    ")\n",
    "ax.errorbar(dummy_theta, calced_a, label=r'Predicted - Bergmann', fmt='--', \n",
    "            color=cb_palette[2], linewidth=1.0)\n",
    "    \n",
    "\n",
    "ax.set_ylim(5e-3, 6e-2)\n",
    "ax.set_xlim(-0.5, 30.5)\n",
    "ax.set_ylabel(r'$a$ [unitless]')\n",
    "ax.set_xlabel(r'$\\theta$ [$^{\\circ}$]')\n",
    "\n",
    "ax.legend()\n",
    "fig.tight_layout()"
   ]
  },
  {
   "cell_type": "code",
   "execution_count": null,
   "metadata": {},
   "outputs": [],
   "source": []
  }
 ],
 "metadata": {
  "kernelspec": {
   "display_name": "python3.6-codac",
   "language": "python",
   "name": "python3.6-codac"
  },
  "language_info": {
   "codemirror_mode": {
    "name": "ipython",
    "version": 3
   },
   "file_extension": ".py",
   "mimetype": "text/x-python",
   "name": "python",
   "nbconvert_exporter": "python",
   "pygments_lexer": "ipython3",
   "version": "3.6.9"
  }
 },
 "nbformat": 4,
 "nbformat_minor": 4
}
