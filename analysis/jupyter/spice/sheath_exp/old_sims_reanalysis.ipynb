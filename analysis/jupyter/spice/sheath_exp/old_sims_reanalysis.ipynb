{
 "cells": [
  {
   "cell_type": "markdown",
   "metadata": {},
   "source": [
    "# Notebook for Reanalysing Benchmarks \n",
    "\n",
    "Having a look at the benchmarking simulations I ran at the beginning of the PhD and seeing if I can analyse them in a similar way to now. "
   ]
  },
  {
   "cell_type": "code",
   "execution_count": 2,
   "metadata": {
    "pycharm": {
     "is_executing": false
    }
   },
   "outputs": [],
   "source": [
    "%matplotlib tk\n",
    "import numpy as np\n",
    "import matplotlib.pyplot as plt\n",
    "import matplotlib as mpl\n",
    "import xarray as xr\n",
    "import pandas as pd\n",
    "import scipy.io as sio\n",
    "import sys\n",
    "import os\n",
    "import glob\n",
    "import copy\n",
    "import pathlib as pth\n",
    "import importlib\n",
    "import math\n",
    "sys.path.append('/home/jleland/Coding/Projects/flopter')\n",
    "import flopter.spice.splopter as spl\n",
    "import flopter.spice.tdata as td\n",
    "import flopter.core.ivdata as iv\n",
    "import flopter.core.fitters as fts\n",
    "import flopter.core.fitdata as fd\n",
    "import flopter.core.lputils as lpu\n",
    "import flopter.core.constants as c\n",
    "import flopter.spice.inputparser as inp\n",
    "import flopter.spice.normalise as nrm\n",
    "import flopter.spice.utils as spu"
   ]
  },
  {
   "cell_type": "code",
   "execution_count": 3,
   "metadata": {},
   "outputs": [
    {
     "data": {
      "text/plain": [
       "<module 'flopter.core.lputils' from '/home/jleland/coding/projects/flopter/flopter/core/lputils.py'>"
      ]
     },
     "execution_count": 3,
     "metadata": {},
     "output_type": "execute_result"
    }
   ],
   "source": [
    "importlib.reload(lpu)"
   ]
  },
  {
   "cell_type": "markdown",
   "metadata": {},
   "source": [
    "# Preamble of necessary stuff\n",
    "\n",
    "This bit creates all teh necessary variables for plotting to commence, including loading the dataset, creating a denormaliser, extracting relevant probe dimensions from an input file and defining a few functions for ease of manipulation. "
   ]
  },
  {
   "cell_type": "code",
   "execution_count": 13,
   "metadata": {
    "pycharm": {
     "is_executing": false
    }
   },
   "outputs": [],
   "source": [
    "spice_dir = pth.Path('/home/jleland/data/external/spice')\n",
    "os.chdir(spice_dir)"
   ]
  },
  {
   "cell_type": "code",
   "execution_count": 5,
   "metadata": {
    "pycharm": {
     "is_executing": false
    }
   },
   "outputs": [
    {
     "name": "stdout",
     "output_type": "stream",
     "text": [
      "0.17453292519943295\n"
     ]
    }
   ],
   "source": [
    "lps = lpu.MagnumProbes()\n",
    "\n",
    "flush_probe = copy.deepcopy(lps.probe_l)\n",
    "flush_probe.theta_p = 0.0\n",
    "flush_probe.d_perp = 0.0\n",
    "\n",
    "angled_probe = copy.deepcopy(lps.probe_l)\n",
    "angled_probe.d_perp = 0.0\n",
    "print(angled_probe.theta_p)"
   ]
  },
  {
   "cell_type": "code",
   "execution_count": 29,
   "metadata": {},
   "outputs": [],
   "source": [
    "skippable_scans = set(['cumulus/lowdens_anglescan']) \n",
    "single_sims = set()"
   ]
  },
  {
   "cell_type": "code",
   "execution_count": 37,
   "metadata": {
    "pycharm": {
     "is_executing": false
    }
   },
   "outputs": [
    {
     "name": "stdout",
     "output_type": "stream",
     "text": [
      "['cumulus/benchmarking_sam/disttest_fullnogap', 'cumulus/benchmarking_sam/disttest_fullnogapcart', 'cumulus/benchmarking_sam/disttestsmall_fullnogapcart', 'cumulus/benchmarking_sam/gapless_fullgrid', 'cumulus/benchmarking_sam/gapless_halfgrid1', 'cumulus/benchmarking_sam/gapless_halfgrid2', 'cumulus/benchmarking_sam/nogaphalfgrid_tlong1', 'cumulus/benchmarking_sam/prebprobe2_fullgap', 'cumulus/benchmarking_sam/prebprobe2_fullnogap', 'cumulus/benchmarking_sam/prebprobe_fullgap', 'cumulus/benchmarking_sam/prebprobe_fullnogap']\n"
     ]
    }
   ],
   "source": [
    "# scans_searchstr = '*/*/sheath_exp/*'\n",
    "# scans_searchstr = '*/*/new_sheath_exp/*'\n",
    "scans_searchstr = 'cumulus/*'\n",
    "# angles_search_str = '/*[!.{yml, inp}]/backup*'\n",
    "# angles_search_str = '/*[!.{yml, inp}]'\n",
    "angles_search_str = '/*'\n",
    "\n",
    "non_standard_variables = {'t', 'ProbePot', 'npartproc', 'Nz', 'Nzmax', 'Ny', 'count', 'Npc', 'snumber', 'nproc'}\n",
    "desired_variables = (td.DEFAULT_REDUCED_DATASET | non_standard_variables) - {td.OBJECTSCURRENTFLUXE, td.OBJECTSCURRENTFLUXI}\n",
    "\n",
    "all_run_dirs = {}\n",
    "scans = glob.glob(scans_searchstr)\n",
    "scans = set(scans) - skippable_scans\n",
    "for scan in scans:\n",
    "    if scan in single_sims:\n",
    "        all_run_dirs[scan] = [scan]\n",
    "    else:\n",
    "        all_run_dirs[scan] = glob.glob(scan + angles_search_str)\n",
    "        print(all_run_dirs[scan])\n",
    "\n",
    "\n",
    "\n",
    "scans = list(scans)\n",
    "scans.sort()"
   ]
  },
  {
   "cell_type": "code",
   "execution_count": 39,
   "metadata": {},
   "outputs": [
    {
     "name": "stdout",
     "output_type": "stream",
     "text": [
      "[0]: cumulus/benchmarking_sam\n",
      "\t[0,0]: benchmarking_sam/disttest_fullnogap\n",
      "\t[0,1]: benchmarking_sam/disttest_fullnogapcart\n",
      "\t[0,2]: benchmarking_sam/disttestsmall_fullnogapcart\n",
      "\t[0,3]: benchmarking_sam/gapless_fullgrid\n",
      "\t[0,4]: benchmarking_sam/gapless_halfgrid1\n",
      "\t[0,5]: benchmarking_sam/gapless_halfgrid2\n",
      "\t[0,6]: benchmarking_sam/nogaphalfgrid_tlong1\n",
      "\t[0,7]: benchmarking_sam/prebprobe2_fullgap\n",
      "\t[0,8]: benchmarking_sam/prebprobe2_fullnogap\n",
      "\t[0,9]: benchmarking_sam/prebprobe_fullgap\n",
      "\t[0,10]: benchmarking_sam/prebprobe_fullnogap\n"
     ]
    }
   ],
   "source": [
    "for i, scan in enumerate(scans):\n",
    "    print(f\"[{i}]: {scan}\")\n",
    "    for j, run in enumerate(all_run_dirs[scan]):\n",
    "        print(f\"\\t[{i},{j}]: {'/'.join(run.split('/')[-2:])}\")"
   ]
  },
  {
   "cell_type": "code",
   "execution_count": 41,
   "metadata": {},
   "outputs": [
    {
     "name": "stdout",
     "output_type": "stream",
     "text": [
      "/home/jleland/data/external/spice/cumulus/benchmarking_sam/prebprobe2_fullgap\n"
     ]
    }
   ],
   "source": [
    "spl_path = spice_dir / all_run_dirs[scans[0]][7]\n",
    "print(spl_path)"
   ]
  },
  {
   "cell_type": "code",
   "execution_count": 59,
   "metadata": {},
   "outputs": [],
   "source": [
    "gap_spl_path = spice_dir / all_run_dirs[scans[0]][9]\n",
    "nogap_spl_path = spice_dir / all_run_dirs[scans[0]][10]"
   ]
  },
  {
   "cell_type": "code",
   "execution_count": 60,
   "metadata": {},
   "outputs": [],
   "source": [
    "gap_spl = spl.Splopter(gap_spl_path, reduce=desired_variables, #ignore_tzero_fl=True,\n",
    "                       store_dataframe_fl=True, check_voltage_error_fl=False)\n",
    "gap_spl.parse_input()\n",
    "gap_spl.prepare(find_se_temp_fl=False,)"
   ]
  },
  {
   "cell_type": "code",
   "execution_count": 61,
   "metadata": {},
   "outputs": [
    {
     "data": {
      "text/plain": [
       "[<matplotlib.lines.Line2D at 0x7f15587ad6a0>]"
      ]
     },
     "execution_count": 61,
     "metadata": {},
     "output_type": "execute_result"
    }
   ],
   "source": [
    "fig, ax = plt.subplots()\n",
    "\n",
    "ax.plot(gap_spl.tdata.t_dict['ProbePot'])"
   ]
  },
  {
   "cell_type": "code",
   "execution_count": 62,
   "metadata": {},
   "outputs": [
    {
     "data": {
      "text/plain": [
       "<ErrorbarContainer object of 3 artists>"
      ]
     },
     "execution_count": 62,
     "metadata": {},
     "output_type": "execute_result"
    }
   ],
   "source": [
    "gap_spl.iv_data.plot()"
   ]
  },
  {
   "cell_type": "code",
   "execution_count": 64,
   "metadata": {},
   "outputs": [],
   "source": [
    "new_iv_data = gap_spl.iv_data.get_below_floating()\n",
    "se_fitter = fts.IonCurrentSEFitter()\n",
    "\n",
    "v_f = gap_spl.iv_data.get_vf()\n",
    "\n",
    "fig, ax = plt.subplots()\n",
    "ax.plot(np.float_power(np.abs(new_iv_data['V'] - v_f), 0.75), new_iv_data['I_i'])\n",
    "\n",
    "fit_data = se_fitter.fit(np.float_power(np.abs(new_iv_data['V'] - v_f), 0.75), new_iv_data['I_i'])\n",
    "fit_data.plot(ax=ax)"
   ]
  },
  {
   "cell_type": "markdown",
   "metadata": {},
   "source": [
    "## Now for the non-gapped case"
   ]
  },
  {
   "cell_type": "code",
   "execution_count": 65,
   "metadata": {},
   "outputs": [],
   "source": [
    "nogap_spl = spl.Splopter(nogap_spl_path, reduce=desired_variables, #ignore_tzero_fl=True,\n",
    "                         store_dataframe_fl=True, check_voltage_error_fl=False)\n",
    "nogap_spl.parse_input()\n",
    "nogap_spl.prepare(find_se_temp_fl=False,)"
   ]
  },
  {
   "cell_type": "code",
   "execution_count": 66,
   "metadata": {},
   "outputs": [
    {
     "data": {
      "text/plain": [
       "<ErrorbarContainer object of 3 artists>"
      ]
     },
     "execution_count": 66,
     "metadata": {},
     "output_type": "execute_result"
    }
   ],
   "source": [
    "nogap_spl.iv_data.plot()"
   ]
  },
  {
   "cell_type": "code",
   "execution_count": 67,
   "metadata": {},
   "outputs": [
    {
     "data": {
      "text/plain": [
       "<ErrorbarContainer object of 3 artists>"
      ]
     },
     "execution_count": 67,
     "metadata": {},
     "output_type": "execute_result"
    }
   ],
   "source": [
    "fig, ax = plt.subplots()\n",
    "\n",
    "gap_spl.iv_data.plot(ax=ax)\n",
    "nogap_spl.iv_data.plot(ax=ax)"
   ]
  },
  {
   "cell_type": "code",
   "execution_count": 70,
   "metadata": {},
   "outputs": [],
   "source": [
    "new_iv_data = nogap_spl.iv_data.get_below_floating()\n",
    "se_fitter = fts.IonCurrentSEFitter()\n",
    "\n",
    "v_f = nogap_spl.iv_data.get_vf()\n",
    "\n",
    "fig, ax = plt.subplots()\n",
    "ax.plot(np.float_power(np.abs(new_iv_data['V'] - v_f), 0.75), new_iv_data['I_i'])\n",
    "\n",
    "fit_data = se_fitter.fit(np.float_power(np.abs(new_iv_data['V'] - v_f), 0.75), new_iv_data['I_i'])\n",
    "fit_data.plot(ax=ax)"
   ]
  },
  {
   "cell_type": "code",
   "execution_count": null,
   "metadata": {},
   "outputs": [],
   "source": []
  }
 ],
 "metadata": {
  "kernelspec": {
   "display_name": "python3.6-codac",
   "language": "python",
   "name": "python3.6-codac"
  },
  "language_info": {
   "codemirror_mode": {
    "name": "ipython",
    "version": 3
   },
   "file_extension": ".py",
   "mimetype": "text/x-python",
   "name": "python",
   "nbconvert_exporter": "python",
   "pygments_lexer": "ipython3",
   "version": "3.6.9"
  }
 },
 "nbformat": 4,
 "nbformat_minor": 4
}
