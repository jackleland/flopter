{
 "cells": [
  {
   "cell_type": "code",
   "execution_count": 1,
   "metadata": {},
   "outputs": [],
   "source": [
    "import pathlib as p"
   ]
  },
  {
   "cell_type": "code",
   "execution_count": 55,
   "metadata": {},
   "outputs": [
    {
     "name": "stdout",
     "output_type": "stream",
     "text": [
      "/home/jleland/Spice/spice2/bin\n"
     ]
    }
   ],
   "source": [
    "spice_bin = p.Path(\"/home/jleland/Spice/spice2/bin\")\n",
    "output_dir = p.Path(\"test/masalatest/\")\n",
    "\n",
    "print(spice_bin)"
   ]
  },
  {
   "cell_type": "code",
   "execution_count": 60,
   "metadata": {},
   "outputs": [
    {
     "name": "stdout",
     "output_type": "stream",
     "text": [
      "/home/jleland/Spice/spice2/bin/data/test/masalatest\n"
     ]
    }
   ],
   "source": [
    "full_output = spice_bin / \"data\" / output_dir\n",
    "print(full_output)"
   ]
  },
  {
   "cell_type": "code",
   "execution_count": 57,
   "metadata": {},
   "outputs": [
    {
     "data": {
      "text/plain": [
       "True"
      ]
     },
     "execution_count": 57,
     "metadata": {},
     "output_type": "execute_result"
    }
   ],
   "source": [
    "full_output.exists()"
   ]
  },
  {
   "cell_type": "code",
   "execution_count": 43,
   "metadata": {},
   "outputs": [],
   "source": [
    "full_output.mkdir()"
   ]
  },
  {
   "cell_type": "code",
   "execution_count": 50,
   "metadata": {},
   "outputs": [
    {
     "data": {
      "text/plain": [
       "[]"
      ]
     },
     "execution_count": 50,
     "metadata": {},
     "output_type": "execute_result"
    }
   ],
   "source": [
    "list(full_output.glob('*.'))"
   ]
  },
  {
   "cell_type": "code",
   "execution_count": 66,
   "metadata": {},
   "outputs": [
    {
     "name": "stdout",
     "output_type": "stream",
     "text": [
      "/home/jleland/Spice/spice2/bin/data/test/masalatest728764\n",
      "[PosixPath('/home/jleland/Spice/spice2/bin/data/test/masalatest1'), PosixPath('/home/jleland/Spice/spice2/bin/data/test/masalatest20'), PosixPath('/home/jleland/Spice/spice2/bin/data/test/masalatest')]\n",
      "Exists: False\n",
      "/home/jleland/Spice/spice2/bin/data/test/masalatest2\n"
     ]
    },
    {
     "data": {
      "text/plain": [
       "[PosixPath('/home/jleland/Spice/spice2/bin/data/test/masalatest2'),\n",
       " PosixPath('/home/jleland/Spice/spice2/bin/data/test/masalatest1'),\n",
       " PosixPath('/home/jleland/Spice/spice2/bin/data/test/masalatest20'),\n",
       " PosixPath('/home/jleland/Spice/spice2/bin/data/test/masalatest')]"
      ]
     },
     "execution_count": 66,
     "metadata": {},
     "output_type": "execute_result"
    }
   ],
   "source": [
    "i = 0\n",
    "print(full_ouput)\n",
    "print(list(full_ouput.parent.glob(\"*\")))\n",
    "print(f\"Exists: {full_ouput.exists()}\")\n",
    "while full_output.exists():\n",
    "    i += 1\n",
    "    full_output = full_output.parent / p.Path(f\"{output_dir.stem}{i}\")\n",
    "    \n",
    "print(full_output)    \n",
    "full_output.mkdir()\n",
    "list(full_ouput.parent.glob(\"*\"))"
   ]
  },
  {
   "cell_type": "code",
   "execution_count": null,
   "metadata": {},
   "outputs": [],
   "source": []
  }
 ],
 "metadata": {
  "kernelspec": {
   "display_name": "submissionlog",
   "language": "python",
   "name": "submissionlog"
  },
  "language_info": {
   "codemirror_mode": {
    "name": "ipython",
    "version": 3
   },
   "file_extension": ".py",
   "mimetype": "text/x-python",
   "name": "python",
   "nbconvert_exporter": "python",
   "pygments_lexer": "ipython3",
   "version": "3.7.2"
  }
 },
 "nbformat": 4,
 "nbformat_minor": 2
}
