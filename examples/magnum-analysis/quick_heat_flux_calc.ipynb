{
 "cells": [
  {
   "cell_type": "code",
   "execution_count": 4,
   "metadata": {},
   "outputs": [],
   "source": [
    "import numpy as np\n",
    "import sys\n",
    "sys.path.append('/home/jleland/Coding/Projects/flopter')\n",
    "import flopter.core.magopter as mg\n",
    "import flopter.core.constants as c\n",
    "import flopter.databases.magnum as mdb\n",
    "import flopter.core.normalisation as nrm\n",
    "import flopter.utils.lputils as lp\n",
    "import flopter.classes.ivdata as ivd\n",
    "import flopter.core.filtering as filt\n",
    "import scipy.signal as sig\n",
    "import flopter.core.fitters as fts\n",
    "import scipy.constants as sc"
   ]
  },
  {
   "cell_type": "markdown",
   "metadata": {},
   "source": [
    "# Change these parameters"
   ]
  },
  {
   "cell_type": "code",
   "execution_count": 39,
   "metadata": {},
   "outputs": [],
   "source": [
    "temperature = .79 # eV\n",
    "density = 4.67e20 # m^-3"
   ]
  },
  {
   "cell_type": "code",
   "execution_count": 5,
   "metadata": {},
   "outputs": [],
   "source": [
    "temperature = 1.98 # eV\n",
    "density = 6.95e20"
   ]
  },
  {
   "cell_type": "code",
   "execution_count": 104,
   "metadata": {},
   "outputs": [],
   "source": [
    "temperature = 0.88 # eV\n",
    "density = 2.6e20 # m0^-3"
   ]
  },
  {
   "cell_type": "code",
   "execution_count": 131,
   "metadata": {},
   "outputs": [],
   "source": [
    "temperature = 2.74 # eV\n",
    "density = 2.5e20 # m^-3"
   ]
  },
  {
   "cell_type": "code",
   "execution_count": 10,
   "metadata": {},
   "outputs": [],
   "source": [
    "temperature = 7 # eV\n",
    "density = 1.04e20 # m^-3"
   ]
  },
  {
   "cell_type": "code",
   "execution_count": 123,
   "metadata": {},
   "outputs": [],
   "source": [
    "temperature = 4.5 # eV\n",
    "density = 1e21 # m^-3"
   ]
  },
  {
   "cell_type": "code",
   "execution_count": 6,
   "metadata": {},
   "outputs": [],
   "source": [
    "probe_s = lp.MagnumProbes().probe_s\n",
    "probe_l = lp.MagnumProbes().probe_l"
   ]
  },
  {
   "cell_type": "code",
   "execution_count": 8,
   "metadata": {},
   "outputs": [],
   "source": [
    "alpha = np.radians(10)\n",
    "# alpha = np.radians(6)\n",
    "# alpha = np.radians(5)\n",
    "# alpha = np.radians(3)\n",
    "# alpha = np.radians(1)"
   ]
  },
  {
   "cell_type": "markdown",
   "metadata": {},
   "source": [
    "# THen run this cell to get a calculation of key parameters"
   ]
  },
  {
   "cell_type": "code",
   "execution_count": 11,
   "metadata": {},
   "outputs": [
    {
     "name": "stdout",
     "output_type": "stream",
     "text": [
      "a = 0.003982854501972462, c_s = 36620.16724576238, lambda_d = 1.928641557494998e-06, I_0 = 1.6842941460358662\n",
      "  T_e = 7 eV \n",
      "  n_e = 1.04e+20 m^-3 \n",
      "  q_par = 29.9 MWm^-2 \n",
      "  q_probes = 5.18 MWm^-2 \n",
      "  I_max = 1.68 A \n",
      "  I_i,max = 1.732099368608657 A \n",
      "  I_e,max = 72.07454785741675 A\n",
      "a = 0.0033190454183103847, c_s = 36620.16724576238, lambda_d = 1.928641557494998e-06, I_0 = 5.120004744863003\n",
      "  T_e = 7 eV \n",
      "  n_e = 1.04e+20 m^-3 \n",
      "  q_par = 29.9 MWm^-2 \n",
      "  q_probes = 5.18 MWm^-2 \n",
      "  I_max = 5.11 A \n",
      "  I_i,max = 5.241104464159267 A \n",
      "  I_e,max = 219.0959505988636 A\n"
     ]
    }
   ],
   "source": [
    "c_s = lp.sound_speed(temperature, gamma_i=1)\n",
    "\n",
    "for probe in [probe_s, probe_l]:\n",
    "    j_sat = c_s * density * 1.6e-19\n",
    "    I_max = j_sat * probe.get_collection_area(alpha=alpha)\n",
    "    I_max_2 = probe.get_analytical_iv(-100, -4, alpha, temperature, density, print_fl=True)\n",
    "    I_emax = I_max * np.sqrt(sc.proton_mass/sc.electron_mass)\n",
    "\n",
    "    q_par = (7 * temperature * j_sat)/1e6\n",
    "    q_probes = q_par * np.sin(alpha)\n",
    "\n",
    "    print(f'  T_e = {temperature:.3g} eV \\n'\n",
    "          f'  n_e = {density:.3g} m^-3 \\n'\n",
    "          f'  q_par = {q_par:.3g} MWm^-2 \\n'\n",
    "          f'  q_probes = {q_probes:.3g} MWm^-2 \\n'\n",
    "          f'  I_max = {I_max:.3g} A \\n'\n",
    "          f'  I_i,max = {I_max_2} A \\n'\n",
    "          f'  I_e,max = {I_emax} A')"
   ]
  },
  {
   "cell_type": "code",
   "execution_count": null,
   "metadata": {},
   "outputs": [],
   "source": []
  }
 ],
 "metadata": {
  "kernelspec": {
   "display_name": "magopter_kernel_3.6.5",
   "language": "python",
   "name": "magopter_kernel_3.6.5"
  },
  "language_info": {
   "codemirror_mode": {
    "name": "ipython",
    "version": 3
   },
   "file_extension": ".py",
   "mimetype": "text/x-python",
   "name": "python",
   "nbconvert_exporter": "python",
   "pygments_lexer": "ipython3",
   "version": "3.6.5"
  }
 },
 "nbformat": 4,
 "nbformat_minor": 2
}
