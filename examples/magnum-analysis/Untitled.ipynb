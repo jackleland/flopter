{
 "cells": [
  {
   "cell_type": "code",
   "execution_count": 1,
   "metadata": {},
   "outputs": [],
   "source": [
    "import xarray as xr"
   ]
  },
  {
   "cell_type": "code",
   "execution_count": 7,
   "metadata": {},
   "outputs": [],
   "source": [
    "dataset_forjoe = xr.open_dataset('/home/jleland/Data/external/magnum/2019-06-07_Leland/ts_data.nc', engine='h5netcdf')"
   ]
  },
  {
   "cell_type": "code",
   "execution_count": 8,
   "metadata": {},
   "outputs": [
    {
     "name": "stdout",
     "output_type": "stream",
     "text": [
      "<xarray.Dataset>\n",
      "Dimensions:                (measurement: 627, rad_coords: 46)\n",
      "Coordinates:\n",
      "  * measurement            (measurement) datetime64[ns] 2019-05-28T14:49:40.686322 ... 2019-06-07T15:10:32.317018\n",
      "    measurement_timestamp  (measurement) int64 ...\n",
      "  * rad_coords             (rad_coords) float64 -36.47 -34.8 ... 37.14 38.82\n",
      "    shot_number            (measurement) int64 ...\n",
      "Data variables:\n",
      "    d_density              (measurement, rad_coords) float64 ...\n",
      "    d_temperature          (measurement, rad_coords) float64 ...\n",
      "    density                (measurement, rad_coords) float64 ...\n",
      "    temperature            (measurement, rad_coords) float64 ...\n"
     ]
    }
   ],
   "source": [
    "print(dataset_forjoe)"
   ]
  },
  {
   "cell_type": "code",
   "execution_count": null,
   "metadata": {},
   "outputs": [],
   "source": []
  }
 ],
 "metadata": {
  "kernelspec": {
   "display_name": "magopter_kernel_3.6.5",
   "language": "python",
   "name": "magopter_kernel_3.6.5"
  },
  "language_info": {
   "codemirror_mode": {
    "name": "ipython",
    "version": 3
   },
   "file_extension": ".py",
   "mimetype": "text/x-python",
   "name": "python",
   "nbconvert_exporter": "python",
   "pygments_lexer": "ipython3",
   "version": "3.6.5"
  }
 },
 "nbformat": 4,
 "nbformat_minor": 2
}
