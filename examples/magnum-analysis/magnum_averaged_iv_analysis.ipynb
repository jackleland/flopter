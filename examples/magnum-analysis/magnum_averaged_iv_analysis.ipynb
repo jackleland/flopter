{
 "cells": [
  {
   "cell_type": "code",
   "execution_count": 64,
   "metadata": {},
   "outputs": [],
   "source": [
    "%matplotlib tk\n",
    "import numpy as np\n",
    "import matplotlib.pyplot as plt\n",
    "import xarray as xr\n",
    "import pandas as pd\n",
    "import sys\n",
    "import os\n",
    "import glob\n",
    "sys.path.append('/home/jleland/Coding/Projects/flopter')\n",
    "import flopter.core.magopter as mg\n",
    "import flopter.core.constants as c\n",
    "import flopter.databases.magnum as mdb\n",
    "import flopter.core.normalisation as nrm\n",
    "import flopter.utils.lputils as lp\n",
    "import flopter.classes.ivdata as ivd\n",
    "import flopter.core.filtering as filt\n",
    "import scipy.signal as sig\n",
    "import flopter.core.fitters as fts"
   ]
  },
  {
   "cell_type": "code",
   "execution_count": 2,
   "metadata": {},
   "outputs": [
    {
     "name": "stdout",
     "output_type": "stream",
     "text": [
      "\"2018-06-07_Leland/\" \t\t \"2018-06-07 14h 38m 33s TT_06564321037878221702.adc\" \t\t \"2018-06-07 14h 33m 45s TT_06564319866763108260.adc\"\n"
     ]
    }
   ],
   "source": [
    "folders = ['2018-05-01_Leland/', '2018-05-02_Leland/', '2018-05-03_Leland/',\n",
    "           '2018-06-05_Leland/', '2018-06-06_Leland/', '2018-06-07_Leland/']\n",
    "files = []\n",
    "file_folders = []\n",
    "for folder1 in folders:\n",
    "    os.chdir(mg.Magopter.get_data_path() + folder1)\n",
    "    files.extend(glob.glob('*.adc'))\n",
    "    file_folders.extend([folder1] * len(glob.glob('*.adc')))\n",
    "files.sort()\n",
    "\n",
    "# file = files[286]\n",
    "file = files[285]\n",
    "ts_file = files[284]\n",
    "folder = file_folders[-2]\n",
    "print('\"{}\" \\t\\t \"{}\" \\t\\t \"{}\"'.format(folder, file, ts_file))\n",
    "\n",
    "mp = lp.MagnumProbes()\n",
    "probe = mp.probe_s"
   ]
  },
  {
   "cell_type": "code",
   "execution_count": 3,
   "metadata": {},
   "outputs": [
    {
     "name": "stdout",
     "output_type": "stream",
     "text": [
      "Ice.ConnectionRefusedException:\n",
      "Connection refused\n",
      "Database could not be connected to, operating in offline mode.\n"
     ]
    },
    {
     "name": "stderr",
     "output_type": "stream",
     "text": [
      "/home/jleland/Coding/Environments/python3.6/lib/python3.6/site-packages/scipy/signal/_arraytools.py:45: FutureWarning: Using a non-tuple sequence for multidimensional indexing is deprecated; use `arr[tuple(seq)]` instead of `arr[seq]`. In the future this will be interpreted as an array index, `arr[np.array(seq)]`, which will result either in an error or a different result.\n",
      "  b = a[a_slice]\n"
     ]
    },
    {
     "name": "stdout",
     "output_type": "stream",
     "text": [
      "peaks_len = 798\n",
      "0: 798, 1: 798\n"
     ]
    }
   ],
   "source": [
    "dsr = 1\n",
    "\n",
    "# Create magopter object\n",
    "magopter = mg.Magopter(folder, file, ts_filename=ts_file)\n",
    "magopter.prepare(down_sampling_rate=dsr, roi_b_plasma=True, plot_fl=False, crit_freq=None, crit_ampl=None)\n",
    "\n",
    "print('0: {}, 1: {}'.format(len(magopter.iv_arrs[0]), len(magopter.iv_arrs[1])))\n",
    "\n",
    "# Get values for TS measurements, depending on whether Magnum database is available.\n",
    "if magopter.ts_temp is not None:\n",
    "    temps = [np.max(temp) / nrm.ELEM_CHARGE for temp in magopter.ts_temp[mdb.DATA]]\n",
    "    denss = [np.max(dens) for dens in magopter.ts_dens[mdb.DATA]]\n",
    "    T_e_ts = np.mean(temps)\n",
    "    d_T_e_ts = np.std(temps) / np.sqrt(len(temps))\n",
    "    n_e_ts = np.mean(denss)\n",
    "    d_n_e_ts = np.std(denss) / np.sqrt(len(denss))\n",
    "else:\n",
    "    T_e_ts = 1.61\n",
    "    d_T_e_ts = 0.01\n",
    "    n_e_ts = 1.4e20\n",
    "    d_n_e_ts = 0.1e20\n",
    "\n",
    "mp = lp.MagnumProbes()\n",
    "probe_0 = mp.probe_s"
   ]
  },
  {
   "cell_type": "code",
   "execution_count": 6,
   "metadata": {},
   "outputs": [
    {
     "name": "stdout",
     "output_type": "stream",
     "text": [
      "798\n",
      "398 4999\n",
      "399 4999\n",
      "(798, 5000)\n"
     ]
    },
    {
     "ename": "ValueError",
     "evalue": "could not broadcast input array from shape (4999) into shape (5000)",
     "output_type": "error",
     "traceback": [
      "\u001b[0;31m---------------------------------------------------------------------------\u001b[0m",
      "\u001b[0;31mValueError\u001b[0m                                Traceback (most recent call last)",
      "\u001b[0;32m<ipython-input-6-48fc369cbf37>\u001b[0m in \u001b[0;36m<module>\u001b[0;34m()\u001b[0m\n\u001b[1;32m     13\u001b[0m \u001b[0;34m\u001b[0m\u001b[0m\n\u001b[1;32m     14\u001b[0m \u001b[0;32mfor\u001b[0m \u001b[0mi\u001b[0m\u001b[0;34m,\u001b[0m \u001b[0miv\u001b[0m \u001b[0;32min\u001b[0m \u001b[0menumerate\u001b[0m\u001b[0;34m(\u001b[0m\u001b[0miv_arrs\u001b[0m\u001b[0;34m)\u001b[0m\u001b[0;34m:\u001b[0m\u001b[0;34m\u001b[0m\u001b[0m\n\u001b[0;32m---> 15\u001b[0;31m     \u001b[0mrelative_t\u001b[0m\u001b[0;34m[\u001b[0m\u001b[0mi\u001b[0m\u001b[0;34m]\u001b[0m \u001b[0;34m=\u001b[0m \u001b[0miv\u001b[0m\u001b[0;34m[\u001b[0m\u001b[0;34m't'\u001b[0m\u001b[0;34m]\u001b[0m \u001b[0;34m-\u001b[0m \u001b[0miv\u001b[0m\u001b[0;34m[\u001b[0m\u001b[0;34m't'\u001b[0m\u001b[0;34m]\u001b[0m\u001b[0;34m[\u001b[0m\u001b[0;36m0\u001b[0m\u001b[0;34m]\u001b[0m\u001b[0;34m\u001b[0m\u001b[0m\n\u001b[0m",
      "\u001b[0;31mValueError\u001b[0m: could not broadcast input array from shape (4999) into shape (5000)"
     ]
    }
   ],
   "source": [
    "print(len(magopter.iv_arrs[0]))\n",
    "iv_arrs = magopter.iv_arrs[0]\n",
    "\n",
    "# Find length of each sweep in t and print if not the expected 5000 timesteps @ 0.00002 seconds / step \n",
    "for i, iv in enumerate(iv_arrs):\n",
    "    l = len(iv['t'])\n",
    "    if l != 5000:\n",
    "        print(i, l)\n",
    "\n",
    "relative_t = np.zeros([len(iv_arrs), len(iv_arrs[0]['t'])])\n",
    "# print(relative_t)\n",
    "print(np.shape(relative_t))\n",
    "\n",
    "for i, iv in enumerate(iv_arrs):\n",
    "    relative_t[i] = iv['t'] - iv['t'][0]"
   ]
  },
  {
   "cell_type": "code",
   "execution_count": 7,
   "metadata": {},
   "outputs": [
    {
     "data": {
      "image/png": "[encoded data removed]",
      "text/plain": [
       "<Figure size 432x288 with 1 Axes>"
      ]
     },
     "metadata": {},
     "output_type": "display_data"
    }
   ],
   "source": [
    "plt.figure()\n",
    "plt.pcolormesh(relative_t)\n",
    "plt.show()"
   ]
  },
  {
   "cell_type": "code",
   "execution_count": 8,
   "metadata": {},
   "outputs": [],
   "source": [
    "# Tried to do a manual time average of each data value in the IV, something weird is happening with the voltage \n",
    "# averaging. \n",
    "\n",
    "tav_i = np.zeros(2500)\n",
    "tav_v = np.zeros_like(tav_i)\n",
    "\n",
    "for i in range(2500):\n",
    "    i_total = 0\n",
    "    v_total = 0\n",
    "    for j, iv in enumerate(iv_arrs):\n",
    "        if j % 2 == 0:\n",
    "            i_total += iv['I'][i]\n",
    "            v_total += iv['V'][i]\n",
    "        else:\n",
    "            i_total += np.flip(iv['I'])[i]\n",
    "            v_total += np.flip(iv['V'])[i]\n",
    "    tav_i[i] = i_total / len(iv_arrs)\n",
    "    tav_v[i] = v_total / len(iv_arrs)"
   ]
  },
  {
   "cell_type": "code",
   "execution_count": 13,
   "metadata": {},
   "outputs": [],
   "source": [
    "# plt.figure()\n",
    "# plt.plot(tav_v)\n",
    "\n",
    "# plt.figure()\n",
    "# plt.plot(tav_i)"
   ]
  },
  {
   "cell_type": "markdown",
   "metadata": {},
   "source": [
    "**xarray Implementation**"
   ]
  },
  {
   "cell_type": "code",
   "execution_count": 10,
   "metadata": {},
   "outputs": [
    {
     "name": "stdout",
     "output_type": "stream",
     "text": [
      "5000\n"
     ]
    },
    {
     "data": {
      "image/png": "[encoded data removed]",
      "text/plain": [
       "<Figure size 432x288 with 2 Axes>"
      ]
     },
     "metadata": {},
     "output_type": "display_data"
    }
   ],
   "source": [
    "test_iv = iv_arrs[201]\n",
    "\n",
    "plt.figure()\n",
    "plt.subplot(121)\n",
    "plt.plot(test_iv['t'], test_iv['V'])\n",
    "plt.plot(test_iv['t'], test_iv['I'])\n",
    "\n",
    "plt.subplot(122)\n",
    "plt.plot(test_iv['V'], test_iv['I'])\n",
    "\n",
    "print(len(relative_t[0]))"
   ]
  },
  {
   "cell_type": "code",
   "execution_count": 11,
   "metadata": {},
   "outputs": [
    {
     "data": {
      "text/plain": [
       "<xarray.Dataset>\n",
       "Dimensions:    (time: 5000)\n",
       "Coordinates:\n",
       "  * time       (time) float64 0.0 1e-05 2e-05 3e-05 ... 0.04997 0.04998 0.04999\n",
       "Data variables:\n",
       "    voltage    (time) float64 5.873 5.881 5.682 5.674 ... 5.691 5.561 5.648 5.5\n",
       "    current    (time) float64 -1.977 -1.986 -1.96 ... -1.925 -1.925 -1.951\n",
       "    shot_time  (time) float64 6.047 6.047 6.047 6.047 ... 6.097 6.097 6.097"
      ]
     },
     "execution_count": 11,
     "metadata": {},
     "output_type": "execute_result"
    }
   ],
   "source": [
    "# Try with one\n",
    "ds = xr.Dataset({'voltage': (['time'], test_iv['V']),\n",
    "                 'current': (['time'], test_iv['I']),\n",
    "                 'shot_time': (['time'], test_iv['t'])},\n",
    "                coords={'time': relative_t[0]})\n",
    "\n",
    "ds"
   ]
  },
  {
   "cell_type": "code",
   "execution_count": 12,
   "metadata": {},
   "outputs": [
    {
     "name": "stdout",
     "output_type": "stream",
     "text": [
      "798\n"
     ]
    }
   ],
   "source": [
    "# create a list of datasets for each sweep\n",
    "ds_list = []\n",
    "for i, iv in enumerate(iv_arrs):\n",
    "    ds = xr.Dataset({'voltage': (['time'], iv['V'][:2500]),\n",
    "                     'current': (['time'], iv['I'][:2500]),\n",
    "                     'shot_time': (['time'], iv['t'][:2500]),\n",
    "                     'start_time': iv['t'][0]},\n",
    "                    coords={'time': relative_t[0][:2500]})\n",
    "    ds_list.append(ds)\n",
    "\n",
    "# add the final sweep - can't be done \n",
    "# ds_final_sweep = xr.Dataset({'voltage': (['time'], iv_arrs[-1]['V'][2500:]),\n",
    "#                              'current': (['time'], iv_arrs[-1]['I'][2500:]),\n",
    "#                              'shot_time': (['time'], iv_arrs[-1]['t'][2500:]),\n",
    "#                              'start_time': iv_arrs[-1]['t'][2500]},\n",
    "#                             coords={'time': relative_t[0][:2500]})\n",
    "# print(ds_final_sweep)\n",
    "# print(ds_list[0])\n",
    "# ds_list.append(ds_final_sweep)\n",
    "    \n",
    "print(len(ds_list))\n",
    "# 'direction': ('up' if i % 2 == 0 else 'down')"
   ]
  },
  {
   "cell_type": "code",
   "execution_count": 13,
   "metadata": {},
   "outputs": [
    {
     "name": "stdout",
     "output_type": "stream",
     "text": [
      "<xarray.Dataset>\n",
      "Dimensions:     (sweep: 399, time: 2500)\n",
      "Coordinates:\n",
      "  * time        (time) float64 0.0 1e-05 2e-05 3e-05 ... 0.02497 0.02498 0.02499\n",
      "Dimensions without coordinates: sweep\n",
      "Data variables:\n",
      "    voltage     (sweep, time) float64 -96.16 -96.76 -96.35 ... 4.696 3.744 4.324\n",
      "    current     (sweep, time) float64 0.2379 0.1428 0.1687 ... -0.3677 -0.3417\n",
      "    shot_time   (sweep, time) float64 1.022 1.022 1.022 ... 20.95 20.95 20.95\n",
      "    start_time  (sweep) float64 1.022 1.072 1.122 1.172 ... 20.82 20.87 20.92\n",
      "<xarray.Dataset>\n",
      "Dimensions:     (sweep: 399, time: 2500)\n",
      "Coordinates:\n",
      "  * time        (time) float64 0.0 1e-05 2e-05 3e-05 ... 0.02497 0.02498 0.02499\n",
      "Dimensions without coordinates: sweep\n",
      "Data variables:\n",
      "    voltage     (sweep, time) float64 4.48 3.978 4.09 ... -96.04 -96.66 -96.05\n",
      "    current     (sweep, time) float64 -0.411 -0.4283 -0.3677 ... 0.2206 0.212\n",
      "    shot_time   (sweep, time) float64 1.047 1.047 1.047 ... 20.97 20.97 20.97\n",
      "    start_time  (sweep) float64 1.047 1.097 1.147 1.197 ... 20.85 20.9 20.95\n"
     ]
    },
    {
     "data": {
      "text/plain": [
       "<xarray.Dataset>\n",
       "Dimensions:     (direction: 2, sweep: 399, time: 2500)\n",
       "Coordinates:\n",
       "  * time        (time) float64 0.0 1e-05 2e-05 3e-05 ... 0.02497 0.02498 0.02499\n",
       "  * direction   (direction) <U4 'up' 'down'\n",
       "Dimensions without coordinates: sweep\n",
       "Data variables:\n",
       "    voltage     (direction, sweep, time) float64 -96.16 -96.76 ... -96.66 -96.05\n",
       "    current     (direction, sweep, time) float64 0.2379 0.1428 ... 0.2206 0.212\n",
       "    shot_time   (direction, sweep, time) float64 1.022 1.022 ... 20.97 20.97\n",
       "    start_time  (direction, sweep) float64 1.022 1.072 1.122 ... 20.9 20.95"
      ]
     },
     "execution_count": 13,
     "metadata": {},
     "output_type": "execute_result"
    }
   ],
   "source": [
    "# Separate into up and down sweeps then concat along direction as an axis\n",
    "ds_ups = xr.concat(ds_list[::2], 'sweep')\n",
    "ds_downs = xr.concat(ds_list[1::2], 'sweep')\n",
    "\n",
    "print(ds_ups)\n",
    "print(ds_downs)\n",
    "\n",
    "direction = xr.DataArray(np.array(['up', 'down']), dims=['direction'], name='direction')\n",
    "direction\n",
    "\n",
    "ds_full = xr.concat([ds_ups, ds_downs], dim=direction)\n",
    "ds_full"
   ]
  },
  {
   "cell_type": "markdown",
   "metadata": {},
   "source": [
    "**Playing with the xarray dataset**"
   ]
  },
  {
   "cell_type": "code",
   "execution_count": 14,
   "metadata": {
    "scrolled": false
   },
   "outputs": [
    {
     "name": "stdout",
     "output_type": "stream",
     "text": [
      "<xarray.Dataset>\n",
      "Dimensions:     (time: 2500)\n",
      "Coordinates:\n",
      "  * time        (time) float64 0.0 1e-05 2e-05 3e-05 ... 0.02497 0.02498 0.02499\n",
      "    direction   <U4 'up'\n",
      "Data variables:\n",
      "    voltage     (time) float64 -97.35 -97.26 -97.26 -97.19 ... 5.234 5.223 5.181\n",
      "    current     (time) float64 0.8818 0.8843 0.8876 ... -1.454 -1.454 -1.455\n",
      "    shot_time   (time) float64 10.97 10.97 10.97 10.97 ... 11.0 11.0 11.0 11.0\n",
      "    start_time  float64 10.97\n",
      "    d_current   (time) float64 0.366 0.3647 0.3646 ... 0.6464 0.6459 0.6451\n"
     ]
    }
   ],
   "source": [
    "sweep_avg_up = ds_full.sel(direction = 'up').mean('sweep')\n",
    "sweep_avg_dn = ds_full.sel(direction = 'down').mean('sweep')\n",
    "\n",
    "# Add in standard deviation of each bin as a new data variable \n",
    "sweep_avg_up = sweep_avg_up.assign({'d_current': ds_full.sel(direction = 'up').std('sweep')['current']})\n",
    "sweep_avg_dn = sweep_avg_up.assign({'d_current': ds_full.sel(direction = 'down').std('sweep')['current']})\n",
    "\n",
    "print(sweep_avg_up)"
   ]
  },
  {
   "cell_type": "code",
   "execution_count": 15,
   "metadata": {},
   "outputs": [
    {
     "data": {
      "text/plain": [
       "[<matplotlib.lines.Line2D at 0x7f417f04fb70>]"
      ]
     },
     "execution_count": 15,
     "metadata": {},
     "output_type": "execute_result"
    },
    {
     "data": {
      "image/png": "[encoded data removed]",
      "text/plain": [
       "<Figure size 432x288 with 1 Axes>"
      ]
     },
     "metadata": {},
     "output_type": "display_data"
    },
    {
     "data": {
      "image/png": "[encoded data removed]",
      "text/plain": [
       "<Figure size 432x288 with 1 Axes>"
      ]
     },
     "metadata": {},
     "output_type": "display_data"
    },
    {
     "data": {
      "image/png": "[encoded data removed]",
      "text/plain": [
       "<Figure size 432x288 with 1 Axes>"
      ]
     },
     "metadata": {},
     "output_type": "display_data"
    }
   ],
   "source": [
    "plt.figure()\n",
    "plt.errorbar(sweep_avg_up['time'], sweep_avg_up['current'], yerr=sweep_avg_up['d_current'], \n",
    "             ecolor='silver')\n",
    "# plt.plot(np.flip(sweep_avg_dn['current'].data))\n",
    "\n",
    "plt.figure()\n",
    "plt.plot(sweep_avg_up['time'].data, sweep_avg_up['current'].data - np.flip(sweep_avg_dn['current'].data))\n",
    "\n",
    "plt.figure()\n",
    "plt.plot(sweep_avg_dn['voltage'], -sweep_avg_dn['current'])"
   ]
  },
  {
   "cell_type": "code",
   "execution_count": 106,
   "metadata": {},
   "outputs": [
    {
     "data": {
      "text/plain": [
       "<matplotlib.legend.Legend at 0x7f4169643cf8>"
      ]
     },
     "execution_count": 106,
     "metadata": {},
     "output_type": "execute_result"
    }
   ],
   "source": [
    "data = sweep_avg_up['current'].data - np.flip(sweep_avg_dn['current'].data)\n",
    "time_series = sweep_avg_up['time'].data\n",
    "\n",
    "spectrum = np.fft.fft(data)\n",
    "freq = np.fft.fftfreq(len(data), time_series[1] - time_series[0])\n",
    "amplitudes = np.abs(spectrum) / np.max(np.abs(spectrum))\n",
    "\n",
    "plt.figure()\n",
    "plt.semilogy(freq[1:], np.abs(spectrum[1:]) / np.max(np.abs(spectrum[1:])), 'x', label='FFT Spectrum')\n",
    "# plt.axhline(y=crit_ampl, linewidth=1.0, linestyle='dotted', color='red')\n",
    "plt.xlabel('Frequency / Hz')\n",
    "plt.ylabel('Amplitude')\n",
    "plt.grid(which='both', axis='both')\n",
    "plt.xlim(0, 2500)\n",
    "plt.ylim(1e-2, 1.2)\n",
    "plt.legend()"
   ]
  },
  {
   "cell_type": "code",
   "execution_count": 49,
   "metadata": {},
   "outputs": [
    {
     "name": "stdout",
     "output_type": "stream",
     "text": [
      "2500 125\n",
      "2500 125\n"
     ]
    },
    {
     "data": {
      "text/plain": [
       "<matplotlib.legend.Legend at 0x7f91bc0c1f28>"
      ]
     },
     "execution_count": 49,
     "metadata": {},
     "output_type": "execute_result"
    },
    {
     "data": {
      "image/png": "[encoded data removed]",
      "text/plain": [
       "<Figure size 432x288 with 1 Axes>"
      ]
     },
     "metadata": {},
     "output_type": "display_data"
    }
   ],
   "source": [
    "# Downsample in an attempt to decrease frequency range and improve resolution\n",
    "data_downsampled = data[::20]\n",
    "time_series_downsampled = time_series[::20]\n",
    "print(len(data), len(data_downsampled))\n",
    "print(len(time_series), len(time_series_downsampled))\n",
    "\n",
    "\n",
    "spectrum_dwns = np.fft.fft(data_downsampled)\n",
    "freq_dwns = np.fft.fftfreq(len(data_downsampled), time_series_downsampled[1] - time_series_downsampled[0])\n",
    "amplitudes_dwns = np.abs(spectrum_dwns) / np.max(np.abs(spectrum_dwns))\n",
    "\n",
    "plt.figure()\n",
    "plt.semilogy(freq_dwns, amplitudes_dwns, 'x', label='FFT Spectrum')\n",
    "# plt.axhline(y=crit_ampl, linewidth=1.0, linestyle='dotted', color='red')\n",
    "plt.xlabel('Frequency / Hz')\n",
    "plt.ylabel('Amplitude')\n",
    "plt.grid(which='both', axis='both')\n",
    "plt.xlim(0, 2500)\n",
    "plt.ylim(1e-2, 1.2)\n",
    "plt.legend()"
   ]
  },
  {
   "cell_type": "code",
   "execution_count": 57,
   "metadata": {},
   "outputs": [
    {
     "data": {
      "text/plain": [
       "<matplotlib.legend.Legend at 0x7f91bb5e4c88>"
      ]
     },
     "execution_count": 57,
     "metadata": {},
     "output_type": "execute_result"
    },
    {
     "data": {
      "image/png": "[encoded data removed]",
      "text/plain": [
       "<Figure size 432x288 with 1 Axes>"
      ]
     },
     "metadata": {},
     "output_type": "display_data"
    }
   ],
   "source": [
    "plt.figure()\n",
    "plt.semilogy(freq, amplitudes, '+', label='FFT')\n",
    "plt.semilogy(freq_dwns, amplitudes_dwns, 'x', label='Downsampled FFT')\n",
    "# plt.axhline(y=crit_ampl, linewidth=1.0, linestyle='dotted', color='red')\n",
    "plt.xlabel('Frequency / Hz')\n",
    "plt.ylabel('Amplitude')\n",
    "plt.grid(which='both', axis='both')\n",
    "plt.xlim(0, 500)\n",
    "plt.ylim(1e-1, 1.2)\n",
    "plt.legend()"
   ]
  },
  {
   "cell_type": "code",
   "execution_count": 66,
   "metadata": {
    "scrolled": false
   },
   "outputs": [
    {
     "data": {
      "text/plain": [
       "<flopter.classes.fitdata.IVFitData at 0x7f417df67048>"
      ]
     },
     "execution_count": 66,
     "metadata": {},
     "output_type": "execute_result"
    }
   ],
   "source": [
    "iv_data = ivd.IVData(sweep_avg_up['voltage'].data, sweep_avg_up['current'].data, sweep_avg_up['time'].data, \n",
    "                     sigma=sweep_avg_up['d_current'].data, estimate_error_fl=False)\n",
    "\n",
    "fit_data = iv_data.multi_fit(plot_fl=True)\n",
    "\n",
    "simple_iv_fitter = fts.SimpleIVFitter()\n",
    "iv_data.multi_fit(plot_fl=True, fitter=simple_iv_fitter)"
   ]
  },
  {
   "cell_type": "code",
   "execution_count": 85,
   "metadata": {},
   "outputs": [],
   "source": [
    "plt.figure()\n",
    "plt.plot(*fit_data.get_fit_plottables(), label=r'$T_e$ = {:.3g} eV'.format(fit_data.get_temp().value), color='r', zorder=10)\n",
    "plt.errorbar(iv_data['V'], iv_data['I'], yerr=iv_data[c.SIGMA], ecolor='silver', label='Raw')\n",
    "plt.legend()\n",
    "plt.show()"
   ]
  },
  {
   "cell_type": "code",
   "execution_count": 86,
   "metadata": {},
   "outputs": [],
   "source": [
    "class TwoTempIVFitter(fts.IVFitter):\n",
    "    \"\"\"\n",
    "    IV Fitter implementation utilising the full, 4 parameter IV Curve fitting method with 2 temperatures\n",
    "    \"\"\"\n",
    "    def __init__(self):\n",
    "        super().__init__()\n",
    "        self._param_labels = {\n",
    "            c.ION_SAT: 0,\n",
    "            c.SHEATH_EXP: 1,\n",
    "            c.ELEC_TEMP: 2,\n",
    "            c.FLOAT_POT: 3,\n",
    "            'alpha':4,\n",
    "            'T2': 5\n",
    "        }\n",
    "        self.default_values = (30.0, 0.0204, 1, -1, 0.1, 8)\n",
    "        self.default_bounds = (\n",
    "            (-np.inf,       0,       0, -np.inf,       0,       0),\n",
    "            ( np.inf,  np.inf,  np.inf,  np.inf,  np.inf,  np.inf)\n",
    "        )\n",
    "        self.name = '2-Temp 4-Param Fit'\n",
    "\n",
    "    def fit_function(self, v, *parameters):\n",
    "        I_0 = parameters[self._param_labels[c.ION_SAT]]\n",
    "        a = parameters[self._param_labels[c.SHEATH_EXP]]\n",
    "        T_e = parameters[self._param_labels[c.ELEC_TEMP]]\n",
    "        v_f = parameters[self._param_labels[c.FLOAT_POT]]\n",
    "        alpha = parameters[self._param_labels['alpha']]\n",
    "        T_e2 = parameters[self._param_labels['T2']]\n",
    "        V1 = (v_f - v) / T_e\n",
    "        V2 = (v_f - v) / T_e2\n",
    "        return I_0 * (1 - np.exp(-V2) - (alpha * np.exp(-V1)) + (a * np.float_power(np.absolute(V1 + V2), [0.75])))\n",
    "    \n",
    "class TwoTempSimpIVFitter(fts.IVFitter):\n",
    "    \"\"\"\n",
    "    IV Fitter implementation utilising the full, 4 parameter IV Curve fitting method with 2 temperatures\n",
    "    \"\"\"\n",
    "    def __init__(self):\n",
    "        super().__init__()\n",
    "        self._param_labels = {\n",
    "            c.ION_SAT: 0,\n",
    "            c.ELEC_TEMP: 1,\n",
    "            c.FLOAT_POT: 2,\n",
    "            'alpha':3,\n",
    "            'T2': 4\n",
    "        }\n",
    "        self.default_values = (30.0, 1, -1, 0.1, 8)\n",
    "        self.default_bounds = (\n",
    "            (-np.inf,       0, -np.inf,       0,       0),\n",
    "            ( np.inf,  np.inf,  np.inf,  np.inf,  np.inf)\n",
    "        )\n",
    "        self.name = '2-Temp 3-Param Fit'\n",
    "\n",
    "    def fit_function(self, v, *parameters):\n",
    "        I_0 = parameters[self._param_labels[c.ION_SAT]]\n",
    "        T_e = parameters[self._param_labels[c.ELEC_TEMP]]\n",
    "        v_f = parameters[self._param_labels[c.FLOAT_POT]]\n",
    "        alpha = parameters[self._param_labels['alpha']]\n",
    "        T_e2 = parameters[self._param_labels['T2']]\n",
    "        V1 = (v_f - v) / T_e\n",
    "        V2 = (v_f - v) / 2\n",
    "        return I_0 * (1 - np.exp(-V2) - (alpha * np.exp(-V1)))\n",
    "    \n",
    "class TwoTempImpurityIVFitter(fts.IVFitter):\n",
    "    \"\"\"\n",
    "    IV Fitter implementation utilising the full, 4 parameter IV Curve fitting method with 2 temperatures\n",
    "    \"\"\"\n",
    "    def __init__(self):\n",
    "        super().__init__()\n",
    "        self._param_labels = {\n",
    "            c.ION_SAT: 0,\n",
    "            c.ELEC_TEMP: 1,\n",
    "            c.FLOAT_POT: 2,\n",
    "            'I_sat2':3,\n",
    "            'T2': 4,\n",
    "            'V_f2': 5\n",
    "        }\n",
    "        self.default_values = (30.0, 1, -1, 15, 1.5, -1)\n",
    "        self.default_bounds = (\n",
    "            (    0.1,       0, -np.inf,     0.1,       0, -np.inf),\n",
    "            ( np.inf,  np.inf,      10,  np.inf,  np.inf,      10)\n",
    "        )\n",
    "        self.name = '2-Temp 3-Param Fit'\n",
    "\n",
    "    def fit_function(self, v, *parameters):\n",
    "        I_0 = parameters[self._param_labels[c.ION_SAT]]\n",
    "        T_e = parameters[self._param_labels[c.ELEC_TEMP]]\n",
    "        v_f = parameters[self._param_labels[c.FLOAT_POT]]\n",
    "        v_f2 = parameters[self._param_labels['V_f2']]\n",
    "        I_02 = parameters[self._param_labels['I_sat2']]\n",
    "        T_e2 = parameters[self._param_labels['T2']]\n",
    "        V1 = (v_f - v) / T_e\n",
    "        V2 = (v_f2 - v) / T_e2\n",
    "        return (I_0 * (1 - np.exp(-V1))) + (I_02 * (1 - np.exp(-V2)))\n",
    "\n",
    "        \n",
    "class SEEIVFitter(fts.IVFitter):\n",
    "    \"\"\"\n",
    "    IV Fitter implementation utilising the full, 4 parameter IV Curve fitting method with 2 temperatures\n",
    "    \"\"\"\n",
    "    def __init__(self):\n",
    "        super().__init__()\n",
    "        self._param_labels = {\n",
    "            c.ION_SAT: 0,\n",
    "            c.ELEC_TEMP: 1,\n",
    "            c.FLOAT_POT: 2,\n",
    "            'delta':3\n",
    "        }\n",
    "        self.default_values = (30.0, 1, -1, 0)\n",
    "        self.default_bounds = (\n",
    "            (    0.1,       0, -np.inf,     0.0,),\n",
    "            ( np.inf,  np.inf,      10,     1.0,)\n",
    "        )\n",
    "        self.name = 'SEE 3-Param Fit'\n",
    "\n",
    "    def fit_function(self, v, *parameters):\n",
    "        I_0 = parameters[self._param_labels[c.ION_SAT]]\n",
    "        T_e = parameters[self._param_labels[c.ELEC_TEMP]]\n",
    "        v_f = parameters[self._param_labels[c.FLOAT_POT]]\n",
    "        delta = parameters[self._param_labels['delta']]\n",
    "        V1 = (v_f - v) / T_e\n",
    "        return (I_0 * (1 - ((1-delta) * np.exp(-V1))))\n"
   ]
  },
  {
   "cell_type": "code",
   "execution_count": 61,
   "metadata": {},
   "outputs": [
    {
     "data": {
      "text/plain": [
       "<matplotlib.legend.Legend at 0x7f417e709c18>"
      ]
     },
     "execution_count": 61,
     "metadata": {},
     "output_type": "execute_result"
    },
    {
     "data": {
      "image/png": "[encoded data removed]",
      "text/plain": [
       "<Figure size 432x288 with 1 Axes>"
      ]
     },
     "metadata": {},
     "output_type": "display_data"
    },
    {
     "data": {
      "image/png": "[encoded data removed]",
      "text/plain": [
       "<Figure size 432x288 with 1 Axes>"
      ]
     },
     "metadata": {},
     "output_type": "display_data"
    }
   ],
   "source": [
    "# Implement a version of Jamie Gunn's 4-parameter fit by subtracting the straight line of the ion saturation region from the whole IV curve. \n",
    "str_sec = np.where(iv_data['V'] <= -40)\n",
    "iv_data_ss = ivd.IVData.non_contiguous_trim(iv_data, str_sec)\n",
    "sl_fitter = fts.StraightLineFitter()\n",
    "fit_data_ss = sl_fitter.fit(iv_data_ss['V'], iv_data_ss['I'], sigma=iv_data_ss['sigma'])\n",
    "\n",
    "plt.figure()\n",
    "plt.plot(iv_data['V'], iv_data['I'], label='Raw')\n",
    "plt.plot(*fit_data_ss.get_fit_plottables(), label='Fit')\n",
    "plt.xlabel('Voltage / V')\n",
    "plt.ylabel('Current / A')\n",
    "# fit_data_ss.plot()\n",
    "\n",
    "# Subtract the gradient of the straight section from the whole IV curve.\n",
    "iv_data_corrected = iv_data.copy()\n",
    "iv_data_corrected['I'] = iv_data_corrected['I'] - (fit_data_ss.get_param('m', errors_fl=False) * iv_data_corrected['V'])\n",
    "\n",
    "fit_data_corrected = iv_data_corrected.multi_fit(fitter=simple_iv_fitter)\n",
    "\n",
    "plt.figure()\n",
    "plt.plot(iv_data['V'], iv_data['I'], label='Full IV')\n",
    "plt.plot(iv_data_ss['V'], iv_data_ss['I'], label='Straight Section')\n",
    "plt.plot(iv_data_corrected['V'], iv_data_corrected['I'], label='Corrected IV')\n",
    "plt.plot(*fit_data_corrected.get_fit_plottables(), label='3 Param-Fit')\n",
    "plt.legend()"
   ]
  },
  {
   "cell_type": "code",
   "execution_count": 20,
   "metadata": {},
   "outputs": [
    {
     "data": {
      "image/png": "[encoded data removed]",
      "text/plain": [
       "<Figure size 432x288 with 1 Axes>"
      ]
     },
     "metadata": {},
     "output_type": "display_data"
    },
    {
     "data": {
      "image/png": "[encoded data removed]",
      "text/plain": [
       "<Figure size 432x288 with 1 Axes>"
      ]
     },
     "metadata": {},
     "output_type": "display_data"
    }
   ],
   "source": [
    "# Run the Secondary electron emission fit with values set at 0 and 0.6 (the theoretical maximum)\n",
    "\n",
    "see_fitter = SEEIVFitter()\n",
    "iv_trim = ivd.IVData.fractional_trim(iv_data_corrected, trim_beg=0.05, trim_end=0.85)\n",
    "\n",
    "for delta_val in [0, 0.6]:\n",
    "    see_fitter.set_fixed_values({'delta': delta_val})\n",
    "    fit_data_see = see_fitter.fit(iv_trim['V'], iv_trim['I'], sigma=iv_trim['sigma'])\n",
    "    fit_data_see.plot()\n",
    "\n",
    "\n",
    "# Subtract the gradient of the straight section from the whole IV curve.\n",
    "\n",
    "# plt.figure()\n",
    "# plt.plot(iv_data['V'], iv_data['I'], label='Full IV')\n",
    "# plt.plot(iv_data_ss['V'], iv_data_ss['I'], label='Straight Section')\n",
    "# plt.plot(iv_data_corrected['V'], iv_data_corrected['I'], label='Corrected IV')\n",
    "# plt.plot(*fit_data_corrected.get_fit_plottables(), label='3 Param-Fit')\n",
    "# plt.legend()"
   ]
  },
  {
   "cell_type": "code",
   "execution_count": 87,
   "metadata": {},
   "outputs": [],
   "source": [
    "from matplotlib.widgets import Slider, Button, RadioButtons\n",
    "\n",
    "# Implement a two temp fitter with different saturation currents (basically two IVs stacked on top of each other)\n",
    "two_temp_fitter = TwoTempImpurityIVFitter()\n",
    "\n",
    "iv_trim = ivd.IVData.fractional_trim(iv_data_corrected, trim_beg=0.05, trim_end=0.85)\n",
    "\n",
    "# Set initial fit guess parameters\n",
    "init_vals = [0.75, 1.5, -8, 0.3, 6, -21]\n",
    "approx_curve = two_temp_fitter.fit_function(iv_trim['V'], *init_vals)\n",
    "\n",
    "sl_fitter = fts.StraightLineFitter\n",
    "\n",
    "# Create initial plot with space at the bottom for sliders\n",
    "fig, ax = plt.subplots()\n",
    "plt.subplots_adjust(bottom=0.3)\n",
    "\n",
    "plt.plot(iv_data_corrected['V'], -iv_data_corrected['I'], label='Raw')\n",
    "handle1, = plt.plot(iv_trim['V'], -approx_curve, label='Approx fit')\n",
    "plt.legend()\n",
    "plt.xlabel(r'$V_p$ / V')\n",
    "plt.ylabel('I / A')\n",
    "# plt.ylim([-25, 1.25])\n",
    "\n",
    "# Create and populate sliders\n",
    "axcolor = 'lightgoldenrodyellow'\n",
    "axvf1 = plt.axes([0.2, 0.03, 0.55, 0.03], facecolor=axcolor)\n",
    "axt1 = plt.axes([0.2, 0.06, 0.55, 0.03], facecolor=axcolor)\n",
    "axisat1 = plt.axes([0.2, 0.09, 0.55, 0.03], facecolor=axcolor)\n",
    "\n",
    "axvf2 = plt.axes([0.2, 0.14, 0.55, 0.03], facecolor=axcolor)\n",
    "axt2 = plt.axes([0.2, 0.17, 0.55, 0.03], facecolor=axcolor)\n",
    "axisat2 = plt.axes([0.2, 0.20, 0.55, 0.03], facecolor=axcolor)\n",
    "\n",
    "svf1 = Slider(axvf1, r'$V_{f1}$', -30.0, 10.0, valinit=init_vals[2], valstep=0.25)\n",
    "svf2 = Slider(axvf2, r'$V_{f2}$', -30.0, 10.0, valinit=init_vals[5], valstep=0.25)\n",
    "st1 = Slider(axt1, r'$T_{e1}$', 0, 7.5, valinit=init_vals[1], valstep=0.05)\n",
    "st2 = Slider(axt2, r'$T_{e2}$', 0, 7.5, valinit=init_vals[4], valstep=0.05)\n",
    "si1 = Slider(axisat1, r'$I_{sat,1}$', 0, 1.1, valinit=init_vals[0], valstep=0.05)\n",
    "si2 = Slider(axisat2, r'$I_{sat,2}$', 0, 1.1, valinit=init_vals[3], valstep=0.05)\n",
    "\n",
    "def update(val):\n",
    "    v_f1 = svf1.val\n",
    "    v_f2 = svf2.val\n",
    "    t_1 = st1.val\n",
    "    t_2 = st2.val\n",
    "    isat_1 = si1.val\n",
    "    isat_2 = si2.val\n",
    "    \n",
    "    new_init_vals = [isat_1, t_1, v_f1, isat_2, t_2, v_f2]\n",
    "    handle1.set_ydata(-two_temp_fitter.fit_function(iv_trim['V'], *new_init_vals))\n",
    "    fig.canvas.draw_idle()\n",
    "    \n",
    "svf1.on_changed(update)\n",
    "svf2.on_changed(update)\n",
    "st1.on_changed(update)\n",
    "st2.on_changed(update)\n",
    "si1.on_changed(update)\n",
    "si2.on_changed(update)\n",
    "\n",
    "fitax = plt.axes([0.8, 0.025, 0.1, 0.04])\n",
    "button = Button(fitax, 'Fit', color=axcolor, hovercolor='0.975')\n",
    "\n",
    "def plot_fit(event):\n",
    "    v_f1 = svf1.val\n",
    "    v_f2 = svf2.val\n",
    "    t_1 = st1.val\n",
    "    t_2 = st2.val\n",
    "    isat_1 = si1.val\n",
    "    isat_2 = si2.val\n",
    "    \n",
    "    new_init_vals = [isat_1, t_1, v_f1, isat_2, t_2, v_f2]\n",
    "    fit_data_tti = two_temp_fitter.fit_iv_data(iv_trim, initial_vals=new_init_vals)\n",
    "    handle1.set_ydata(-fit_data_tti.fit_y)\n",
    "    \n",
    "    fit_vals = fit_data_tti.fit_params.get_values()\n",
    "    si1.set_val(fit_vals[0])\n",
    "    st1.set_val(fit_vals[1])\n",
    "    svf1.set_val(fit_vals[2])\n",
    "    si2.set_val(fit_vals[3])\n",
    "    st2.set_val(fit_vals[4])\n",
    "    svf2.set_val(fit_vals[5])\n",
    "    update(event)\n",
    "    \n",
    "button.on_clicked(plot_fit)\n",
    "\n",
    "\n",
    "\n",
    "plt.show()\n",
    "\n",
    "# fit_data_tti = two_temp_fitter.fit_iv_data(iv_trim)\n",
    "# fit_data_tti.plot()\n",
    "\n",
    "# print(two_temp_fitter.has_fixed_values())\n",
    "# iv_data.multi_fit(plot_fl=True, fitter=two_temp_fitter, print_fl=True)"
   ]
  },
  {
   "cell_type": "code",
   "execution_count": 107,
   "metadata": {},
   "outputs": [],
   "source": [
    "# Implement a two temp fitter with different saturation currents (basically two IVs stacked on top of each other)\n",
    "two_temp_fitter = TwoTempImpurityIVFitter()\n",
    "\n",
    "iv_trim = ivd.IVData.fractional_trim(iv_data_corrected, trim_beg=0.05, trim_end=0.85)\n",
    "float_trim_indices = -iv_data_corrected['I'] < 0\n",
    "iv_float_trim = ivd.IVData.non_contiguous_trim(iv_data_corrected, float_trim_indices)\n",
    "\n",
    "# Set initial fit guess parameters\n",
    "init_vals = [0.75, 1.5, -8, 0.3, 6, -21]\n",
    "approx_curve = two_temp_fitter.fit_function(iv_float_trim['V'], *init_vals)\n",
    "\n",
    "\n",
    "sl_fitter = fts.StraightLineFitter\n",
    "\n",
    "# Create initial plot with space at the bottom for sliders\n",
    "fig, ax = plt.subplots()\n",
    "\n",
    "plt.axhline(y=0, color='gray', linewidth=0.5)\n",
    "# plt.axvline(x=0, color='gray', linewidth=0.5)\n",
    "plt.errorbar(iv_float_trim['V'], -iv_float_trim['I'], yerr=iv_float_trim['sigma'], ecolor='silver', label='Averaged')\n",
    "handle1, = plt.plot(iv_float_trim['V'], -approx_curve, label='Approx fit', color='r')\n",
    "plt.legend()\n",
    "plt.xlabel(r'$V_p$ / V')\n",
    "plt.ylabel('I / A')\n",
    "plt.show()"
   ]
  },
  {
   "cell_type": "markdown",
   "metadata": {},
   "source": [
    "**Playing with Trimming to get a Different/Better Fit**"
   ]
  },
  {
   "cell_type": "code",
   "execution_count": 108,
   "metadata": {
    "scrolled": false
   },
   "outputs": [
    {
     "name": "stdout",
     "output_type": "stream",
     "text": [
      "Skipping fit at bot trim = 0.6741379310344828\n",
      "Skipping fit at combi trim = [0.46551724137931033, 0.6741379310344828]\n",
      "Skipping fit at bot trim = 0.6620689655172414\n",
      "Skipping fit at combi trim = [0.48275862068965514, 0.6620689655172414]\n",
      "Skipping fit at bot trim = 0.65\n",
      "Skipping fit at combi trim = [0.5, 0.65]\n"
     ]
    }
   ],
   "source": [
    "steps = 30\n",
    "\n",
    "top_trims = np.flip(np.linspace(0.65, 1.0, steps))\n",
    "bot_trims = np.linspace(0.0, 0.5, steps)\n",
    "top_fits = []\n",
    "bot_fits = []\n",
    "combi_fits = []\n",
    "fitted_ttrims = []\n",
    "fitted_btrims = []\n",
    "fitted_ctrims = []\n",
    "\n",
    "for i in range(steps):\n",
    "    # Create trimmed IVData object and run the multi-fitting algorithm for both top and bottom trims\n",
    "    top_trim = top_trims[i]\n",
    "    bot_trim = bot_trims[i]\n",
    "    try:\n",
    "        iv_data_ttrim = ivd.IVData.fractional_trim(iv_data, trim_beg=0.4, trim_end=top_trim)\n",
    "        top_fits.append(iv_data_ttrim.multi_fit()) #.get_temp(errors_fl=False)\n",
    "        fitted_ttrims.append(top_trim)\n",
    "    except:\n",
    "        print('Skipping fit at top trim = {}'.format(top_trim))\n",
    "        \n",
    "    try:\n",
    "        iv_data_btrim = ivd.IVData.fractional_trim(iv_data, trim_beg=bot_trim, trim_end=0.85)\n",
    "        bot_fits.append(iv_data_btrim.multi_fit()) \n",
    "        fitted_btrims.append(bot_trim)\n",
    "    except:\n",
    "        print('Skipping fit at bot trim = {}'.format(top_trim))\n",
    "    \n",
    "    try:\n",
    "        iv_data_ctrim = ivd.IVData.fractional_trim(iv_data, trim_beg=bot_trim, trim_end=top_trim)\n",
    "        combi_fits.append(iv_data_ctrim.multi_fit()) \n",
    "        fitted_ctrims.append([bot_trim, top_trim])\n",
    "    except:\n",
    "        print('Skipping fit at combi trim = {}'.format([bot_trim, top_trim]))\n",
    "    "
   ]
  },
  {
   "cell_type": "code",
   "execution_count": 109,
   "metadata": {},
   "outputs": [
    {
     "name": "stdout",
     "output_type": "stream",
     "text": [
      "27\n",
      "30\n",
      "27\n"
     ]
    }
   ],
   "source": [
    "print(len(fitted_btrims))\n",
    "print(len(fitted_ttrims))\n",
    "print(len(fitted_ctrims))\n",
    "\n",
    "# Compile the fitdatas into pandas dataframes to allow easier plotting\n",
    "top_fit_df = pd.DataFrame([fit_data.to_dict() for fit_data in top_fits], index=fitted_ttrims)\n",
    "bot_fit_df = pd.DataFrame([fit_data.to_dict() for fit_data in bot_fits], index=fitted_btrims)\n",
    "combi_fit_df = pd.DataFrame([fit_data.to_dict() for fit_data in combi_fits], index=np.array(fitted_ctrims)[:, 1])\n",
    "\n",
    "# print(top_fit_df)"
   ]
  },
  {
   "cell_type": "code",
   "execution_count": 110,
   "metadata": {},
   "outputs": [
    {
     "name": "stdout",
     "output_type": "stream",
     "text": [
      "27\n"
     ]
    },
    {
     "data": {
      "text/plain": [
       "<matplotlib.lines.Line2D at 0x7f417028f860>"
      ]
     },
     "execution_count": 110,
     "metadata": {},
     "output_type": "execute_result"
    }
   ],
   "source": [
    "print(len(fitted_ctrims))\n",
    "\n",
    "cm = plt.get_cmap('gist_rainbow')\n",
    "fig = plt.figure()\n",
    "ax = fig.add_subplot(111)\n",
    "ax.plot(iv_data['V'], iv_data['I'], label='Full Binned IV', color='black')\n",
    "\n",
    "ax.set_prop_cycle(color=[cm(i / len(fitted_ctrims)) for i in range(len(fitted_ctrims))])\n",
    "for i, lims in enumerate(fitted_ctrims):\n",
    "    pos = (np.array(lims) * len(iv_data['V'])).astype(np.int) - 1\n",
    "    ax.vlines(iv_data['V'][pos], iv_data['I'][pos]-0.1, iv_data['I'][pos]+.1, label='Step {}'.format(i))\n",
    "    \n",
    "ax.axvline(x=iv_data['V'][int(0.82 * len(iv_data['V'])) - 1])\n",
    "ax.axhline(y=0)"
   ]
  },
  {
   "cell_type": "code",
   "execution_count": 111,
   "metadata": {},
   "outputs": [],
   "source": [
    "# plot T_e and I_sat:\n",
    "for fit_df in [top_fit_df, bot_fit_df, combi_fit_df]:\n",
    "    fig, ax = plt.subplots(2, 1, sharex=True, sharey=False)\n",
    "\n",
    "    plt.sca(ax[0])\n",
    "    plt.errorbar(fit_df.index, fit_df['T_e'], yerr=fit_df['d_T_e'], label='Temperature', ecolor='silver') \n",
    "    ax[0].set_ylabel(r'$T_e$ / eV')\n",
    "\n",
    "    ax0_twin = ax[0].twinx()\n",
    "    plt.plot(fit_df.index, fit_df['reduced_chi2'], label=r'$\\chi^2$', color='gray')\n",
    "    plt.legend()\n",
    "\n",
    "\n",
    "    plt.sca(ax[1])\n",
    "    plt.errorbar(fit_df.index, fit_df['I_sat'], yerr=fit_df['d_I_sat'], label=r'$I_{sat}$', color='red', ecolor='silver') \n",
    "    ax[0].set_ylabel(r'$I_{sat}$ / eV')\n",
    "\n",
    "    ax0_twin = ax[1].twinx()\n",
    "    plt.plot(fit_df.index, fit_df['reduced_chi2'], label=r'$\\chi^2$', color='gray')\n",
    "    plt.legend()\n",
    "\n",
    "\n",
    "    plt.figure()\n",
    "    plt.plot(fit_df.index, fit_df['reduced_chi2'], label=r'$\\chi^2$', color='gray')\n",
    "    plt.axhline(y=1, color='black', linewidth=1, linestyle='--')"
   ]
  },
  {
   "cell_type": "code",
   "execution_count": 37,
   "metadata": {},
   "outputs": [
    {
     "data": {
      "text/plain": [
       "[<matplotlib.lines.Line2D at 0x7f417e6e5080>]"
      ]
     },
     "execution_count": 37,
     "metadata": {},
     "output_type": "execute_result"
    },
    {
     "data": {
      "image/png": "[encoded data removed]",
      "text/plain": [
       "<Figure size 432x288 with 1 Axes>"
      ]
     },
     "metadata": {},
     "output_type": "display_data"
    },
    {
     "data": {
      "image/png": "[encoded data removed]",
      "text/plain": [
       "<Figure size 432x288 with 1 Axes>"
      ]
     },
     "metadata": {},
     "output_type": "display_data"
    }
   ],
   "source": [
    "plt.figure()\n",
    "plt.plot(iv_data['V'], iv_data['I'], label='Full Binned IV')\n",
    "\n",
    "fits = {}\n",
    "\n",
    "for trim in np.linspace(0.0, 0.6, 100):\n",
    "    iv_data_trim = ivd.IVData.fractional_trim(iv_data, trim_beg=trim, trim_end=0.85)\n",
    "#     plt.plot(iv_data_trim['V'], iv_data_trim['I'], label='Trim = {:.2g}'.format(trim))\n",
    "    try:\n",
    "        fdata = iv_data_trim.multi_fit()\n",
    "        fits[trim] = fdata.get_temp(errors_fl=False)\n",
    "        plt.plot(fdata.raw_x, fdata.fit_y, label='Trim = {:.2g}'.format(trim))\n",
    "    except:\n",
    "        continue\n",
    "    \n",
    "plt.legend()\n",
    "\n",
    "# for fit in fits:\n",
    "plt.figure()\n",
    "plt.plot(list(fits.keys()), list(fits.values())) "
   ]
  },
  {
   "cell_type": "code",
   "execution_count": 43,
   "metadata": {
    "scrolled": false
   },
   "outputs": [
    {
     "name": "stdout",
     "output_type": "stream",
     "text": [
      "<xarray.Dataset>\n",
      "Dimensions:     (time: 2500)\n",
      "Coordinates:\n",
      "  * time        (time) float64 0.0 1e-05 2e-05 3e-05 ... 0.02497 0.02498 0.02499\n",
      "    direction   <U4 'up'\n",
      "Data variables:\n",
      "    voltage     (time) float64 -97.35 -97.26 -97.26 -97.19 ... 5.234 5.223 5.181\n",
      "    current     (time) float64 0.8818 0.8843 0.8876 ... -1.454 -1.454 -1.455\n",
      "    shot_time   (time) float64 10.97 10.97 10.97 10.97 ... 11.0 11.0 11.0 11.0\n",
      "    start_time  float64 10.97\n",
      "    d_current   (time) float64 0.366 0.3647 0.3646 ... 0.6464 0.6459 0.6451\n"
     ]
    },
    {
     "name": "stderr",
     "output_type": "stream",
     "text": [
      "/home/jleland/Coding/Environments/python3.6/lib/python3.6/site-packages/scipy/signal/_arraytools.py:45: FutureWarning: Using a non-tuple sequence for multidimensional indexing is deprecated; use `arr[tuple(seq)]` instead of `arr[seq]`. In the future this will be interpreted as an array index, `arr[np.array(seq)]`, which will result either in an error or a different result.\n",
      "  b = a[a_slice]\n"
     ]
    },
    {
     "data": {
      "text/plain": [
       "<matplotlib.legend.Legend at 0x7f417e876550>"
      ]
     },
     "execution_count": 43,
     "metadata": {},
     "output_type": "execute_result"
    },
    {
     "data": {
      "image/png": "[encoded data removed]",
      "text/plain": [
       "<Figure size 432x288 with 1 Axes>"
      ]
     },
     "metadata": {},
     "output_type": "display_data"
    },
    {
     "data": {
      "image/png": "[encoded data removed]",
      "text/plain": [
       "<Figure size 432x288 with 1 Axes>"
      ]
     },
     "metadata": {},
     "output_type": "display_data"
    }
   ],
   "source": [
    "# fitting to a log plot  \n",
    "\n",
    "print(sweep_avg_up)\n",
    "current_offset = 1.06\n",
    "\n",
    "plt.figure()\n",
    "plt.plot(sweep_avg_up['time'], np.log(-sweep_avg_up['current'] + current_offset))\n",
    "\n",
    "trim_sweep_avg_up = sweep_avg_up.where((sweep_avg_up.time <= 0.019) & (sweep_avg_up.time > 0.018), drop=True)\n",
    "plt.plot(trim_sweep_avg_up['time'], np.log(-trim_sweep_avg_up['current'] + current_offset))\n",
    "\n",
    "sl_fitter = fts.StraightLineFitter()\n",
    "fit_data_log = sl_fitter.fit(trim_sweep_avg_up['voltage'].data, np.log(-trim_sweep_avg_up['current'] + current_offset))\n",
    "\n",
    "fig = plt.figure()\n",
    "fit_data_log.plot(fig=fig, show_fl=False)\n",
    "plt.plot(trim_sweep_avg_up['voltage'].data, sig.savgol_filter(np.log(-trim_sweep_avg_up['current'] + current_offset), 21, 4),\n",
    "         label='Smoothed log')\n",
    "plt.legend()\n",
    "\n"
   ]
  },
  {
   "cell_type": "code",
   "execution_count": 57,
   "metadata": {},
   "outputs": [
    {
     "data": {
      "image/png": "[encoded data removed]",
      "text/plain": [
       "<Figure size 432x288 with 1 Axes>"
      ]
     },
     "metadata": {},
     "output_type": "display_data"
    }
   ],
   "source": [
    "# Fitting to log plot scanning the parameter current_offset\n",
    "current_offsets = np.linspace(1.0, 1.1, 21)\n",
    "temps = {}\n",
    "\n",
    "for co in current_offsets:\n",
    "#     plt.figure()\n",
    "#     plt.plot(sweep_avg_up['time'], np.log(-sweep_avg_up['current'] + co))\n",
    "\n",
    "    trim_sweep_avg_up = sweep_avg_up.where((sweep_avg_up.time <= 0.019) & (sweep_avg_up.time > 0.018), drop=True)\n",
    "#     plt.plot(trim_sweep_avg_up['time'], np.log(-trim_sweep_avg_up['current'] + co))\n",
    "\n",
    "    sl_fitter = fts.StraightLineFitter()\n",
    "    fit_data_log = sl_fitter.fit(trim_sweep_avg_up['voltage'].data, np.log(-trim_sweep_avg_up['current'] + co))\n",
    "    \n",
    "    temp, d_temp = [1 / ve for ve in fit_data_log.get_param('m').get_ve_pair()]\n",
    "    temps[temp] = d_temp\n",
    "    \n",
    "#     fig = plt.figure()\n",
    "#     fit_data_log.plot(fig=fig, show_fl=False)\n",
    "#     plt.plot(trim_sweep_avg_up['voltage'].data, sig.savgol_filter(np.log(-trim_sweep_avg_up['current'] + co), 21, 4),\n",
    "#              label='Smoothed log')\n",
    "#     plt.legend()\n",
    "\n",
    "plt.figure()\n",
    "plt.errorbar(current_offsets, list(temps.keys()))\n",
    "plt.show()\n"
   ]
  },
  {
   "cell_type": "code",
   "execution_count": 60,
   "metadata": {},
   "outputs": [
    {
     "data": {
      "image/png": "[encoded data removed]",
      "text/plain": [
       "<Figure size 432x288 with 1 Axes>"
      ]
     },
     "metadata": {},
     "output_type": "display_data"
    }
   ],
   "source": [
    "# Fitting to log plot, scanning the trim bounds\n",
    "log_trim_lower_bounds = np.linspace(0.0175, 0.0205, 21)\n",
    "temps_log_trim = {}\n",
    "\n",
    "for lb in log_trim_lower_bounds:\n",
    "#     plt.figure()\n",
    "#     plt.plot(sweep_avg_up['time'], np.log(-sweep_avg_up['current'] + co))\n",
    "\n",
    "    trim_sweep_avg_up = sweep_avg_up.where((sweep_avg_up.time <= lb + 0.001) & (sweep_avg_up.time > lb), drop=True)\n",
    "#     plt.plot(trim_sweep_avg_up['time'], np.log(-trim_sweep_avg_up['current'] + co))\n",
    "\n",
    "    sl_fitter = fts.StraightLineFitter()\n",
    "    fit_data_log = sl_fitter.fit(trim_sweep_avg_up['voltage'].data, np.log(-trim_sweep_avg_up['current'] + 1.06))\n",
    "    \n",
    "    temp, d_temp = [1 / ve for ve in fit_data_log.get_param('m').get_ve_pair()]\n",
    "    temps_log_trim[temp] = d_temp\n",
    "    \n",
    "#     fig = plt.figure()\n",
    "#     fit_data_log.plot(fig=fig, show_fl=False)\n",
    "#     plt.plot(trim_sweep_avg_up['voltage'].data, sig.savgol_filter(np.log(-trim_sweep_avg_up['current'] + co), 21, 4),\n",
    "#              label='Smoothed log')\n",
    "#     plt.legend()\n",
    "\n",
    "plt.figure()\n",
    "plt.errorbar(log_trim_lower_bounds, list(temps_log_trim.keys()))\n",
    "plt.show()"
   ]
  },
  {
   "cell_type": "code",
   "execution_count": null,
   "metadata": {},
   "outputs": [],
   "source": [
    "# Fitting to log plot scanning the parameters current_offset and trim bounds \n",
    "log_trim_lower_bounds = np.linspace(0.0175, 0.0205, 21)\n",
    "temps_lb_co = {}\n",
    "plt.figure()\n",
    "\n",
    "for lb in log_trim_lower_bounds:\n",
    "#     plt.figure()\n",
    "#     plt.plot(sweep_avg_up['time'], np.log(-sweep_avg_up['current'] + co))\n",
    "\n",
    "    trim_sweep_avg_up = sweep_avg_up.where((sweep_avg_up.time <= lb + 0.001) & (sweep_avg_up.time > lb), drop=True)\n",
    "#     plt.plot(trim_sweep_avg_up['time'], np.log(-trim_sweep_avg_up['current'] + co))\n",
    "\n",
    "    sl_fitter = fts.StraightLineFitter()\n",
    "    fit_data_log = sl_fitter.fit(trim_sweep_avg_up['voltage'].data, np.log(-trim_sweep_avg_up['current'] + 1.06))\n",
    "    \n",
    "    temp, d_temp = [1 / ve for ve in fit_data_log.get_param('m').get_ve_pair()]\n",
    "    temps_log_trim[temp] = d_temp\n",
    "    \n",
    "#     fig = plt.figure()\n",
    "#     fit_data_log.plot(fig=fig, show_fl=False)\n",
    "#     plt.plot(trim_sweep_avg_up['voltage'].data, sig.savgol_filter(np.log(-trim_sweep_avg_up['current'] + co), 21, 4),\n",
    "#              label='Smoothed log')\n",
    "#     plt.legend()\n",
    "\n",
    "\n",
    "plt.errorbar(log_trim_lower_bounds, list(temps_log_trim.keys()))\n",
    "plt.show()"
   ]
  },
  {
   "cell_type": "code",
   "execution_count": 41,
   "metadata": {},
   "outputs": [
    {
     "name": "stderr",
     "output_type": "stream",
     "text": [
      "/home/jleland/Coding/Environments/python3.6/lib/python3.6/site-packages/scipy/signal/_arraytools.py:45: FutureWarning: Using a non-tuple sequence for multidimensional indexing is deprecated; use `arr[tuple(seq)]` instead of `arr[seq]`. In the future this will be interpreted as an array index, `arr[np.array(seq)]`, which will result either in an error or a different result.\n",
      "  b = a[a_slice]\n"
     ]
    },
    {
     "data": {
      "image/png": "[encoded data removed]",
      "text/plain": [
       "<Figure size 432x288 with 1 Axes>"
      ]
     },
     "metadata": {},
     "output_type": "display_data"
    }
   ],
   "source": [
    "# Attempt to find temperature by using the gradient function in numpy\n",
    "temperature = 1/np.gradient(sig.savgol_filter(np.log(-trim_sweep_avg_up['current'] + 1.06), 21, 2))\n",
    "plt.figure()\n",
    "plt.plot(trim_sweep_avg_up['voltage'].data, temperature)\n",
    "plt.show()"
   ]
  },
  {
   "cell_type": "code",
   "execution_count": 39,
   "metadata": {},
   "outputs": [
    {
     "name": "stderr",
     "output_type": "stream",
     "text": [
      "/home/jleland/Coding/Environments/python3.6/lib/python3.6/site-packages/scipy/signal/_arraytools.py:45: FutureWarning: Using a non-tuple sequence for multidimensional indexing is deprecated; use `arr[tuple(seq)]` instead of `arr[seq]`. In the future this will be interpreted as an array index, `arr[np.array(seq)]`, which will result either in an error or a different result.\n",
      "  b = a[a_slice]\n"
     ]
    },
    {
     "data": {
      "text/plain": [
       "[<matplotlib.lines.Line2D at 0x7f417e3ca0f0>]"
      ]
     },
     "execution_count": 39,
     "metadata": {},
     "output_type": "execute_result"
    },
    {
     "data": {
      "image/png": "[encoded data removed]",
      "text/plain": [
       "<Figure size 432x288 with 1 Axes>"
      ]
     },
     "metadata": {},
     "output_type": "display_data"
    }
   ],
   "source": [
    "i_sat_approximation = 1.06\n",
    "\n",
    "prelog_data =  -sweep_avg_up['current'] + i_sat_approximation\n",
    "prelog_smoothed = sig.savgol_filter(prelog_data, 21, 2)\n",
    "\n",
    "plt.figure()\n",
    "plt.plot(sweep_avg_up['time'], prelog_data)\n",
    "plt.plot(sweep_avg_up['time'], prelog_smoothed)"
   ]
  },
  {
   "cell_type": "markdown",
   "metadata": {},
   "source": [
    "**Bug found with xarray plotting software**"
   ]
  },
  {
   "cell_type": "code",
   "execution_count": 93,
   "metadata": {},
   "outputs": [
    {
     "name": "stdout",
     "output_type": "stream",
     "text": [
      "<xarray.DataArray 'current' (time: 2500)>\n",
      "array([-0.405366, -0.405997, -0.400823, ..., -0.409823, -0.405345, -0.402388])\n",
      "Coordinates:\n",
      "  * time     (time) float64 0.0 1e-05 2e-05 3e-05 ... 0.02497 0.02498 0.02499\n",
      "    voltage  (time) float64 -45.96 -45.99 -45.96 -45.96 ... -45.99 -46.04 -46.0\n"
     ]
    },
    {
     "data": {
      "application/javascript": [
       "/* Put everything inside the global mpl namespace */\n",
       "window.mpl = {};\n",
       "\n",
       "\n",
       "mpl.get_websocket_type = function() {\n",
       "    if (typeof(WebSocket) !== 'undefined') {\n",
       "        return WebSocket;\n",
       "    } else if (typeof(MozWebSocket) !== 'undefined') {\n",
       "        return MozWebSocket;\n",
       "    } else {\n",
       "        alert('Your browser does not have WebSocket support.' +\n",
       "              'Please try Chrome, Safari or Firefox ≥ 6. ' +\n",
       "              'Firefox 4 and 5 are also supported but you ' +\n",
       "              'have to enable WebSockets in about:config.');\n",
       "    };\n",
       "}\n",
       "\n",
       "mpl.figure = function(figure_id, websocket, ondownload, parent_element) {\n",
       "    this.id = figure_id;\n",
       "\n",
       "    this.ws = websocket;\n",
       "\n",
       "    this.supports_binary = (this.ws.binaryType != undefined);\n",
       "\n",
       "    if (!this.supports_binary) {\n",
       "        var warnings = document.getElementById(\"mpl-warnings\");\n",
       "        if (warnings) {\n",
       "            warnings.style.display = 'block';\n",
       "            warnings.textContent = (\n",
       "                \"This browser does not support binary websocket messages. \" +\n",
       "                    \"Performance may be slow.\");\n",
       "        }\n",
       "    }\n",
       "\n",
       "    this.imageObj = new Image();\n",
       "\n",
       "    this.context = undefined;\n",
       "    this.message = undefined;\n",
       "    this.canvas = undefined;\n",
       "    this.rubberband_canvas = undefined;\n",
       "    this.rubberband_context = undefined;\n",
       "    this.format_dropdown = undefined;\n",
       "\n",
       "    this.image_mode = 'full';\n",
       "\n",
       "    this.root = $('<div/>');\n",
       "    this._root_extra_style(this.root)\n",
       "    this.root.attr('style', 'display: inline-block');\n",
       "\n",
       "    $(parent_element).append(this.root);\n",
       "\n",
       "    this._init_header(this);\n",
       "    this._init_canvas(this);\n",
       "    this._init_toolbar(this);\n",
       "\n",
       "    var fig = this;\n",
       "\n",
       "    this.waiting = false;\n",
       "\n",
       "    this.ws.onopen =  function () {\n",
       "            fig.send_message(\"supports_binary\", {value: fig.supports_binary});\n",
       "            fig.send_message(\"send_image_mode\", {});\n",
       "            if (mpl.ratio != 1) {\n",
       "                fig.send_message(\"set_dpi_ratio\", {'dpi_ratio': mpl.ratio});\n",
       "            }\n",
       "            fig.send_message(\"refresh\", {});\n",
       "        }\n",
       "\n",
       "    this.imageObj.onload = function() {\n",
       "            if (fig.image_mode == 'full') {\n",
       "                // Full images could contain transparency (where diff images\n",
       "                // almost always do), so we need to clear the canvas so that\n",
       "                // there is no ghosting.\n",
       "                fig.context.clearRect(0, 0, fig.canvas.width, fig.canvas.height);\n",
       "            }\n",
       "            fig.context.drawImage(fig.imageObj, 0, 0);\n",
       "        };\n",
       "\n",
       "    this.imageObj.onunload = function() {\n",
       "        fig.ws.close();\n",
       "    }\n",
       "\n",
       "    this.ws.onmessage = this._make_on_message_function(this);\n",
       "\n",
       "    this.ondownload = ondownload;\n",
       "}\n",
       "\n",
       "mpl.figure.prototype._init_header = function() {\n",
       "    var titlebar = $(\n",
       "        '<div class=\"ui-dialog-titlebar ui-widget-header ui-corner-all ' +\n",
       "        'ui-helper-clearfix\"/>');\n",
       "    var titletext = $(\n",
       "        '<div class=\"ui-dialog-title\" style=\"width: 100%; ' +\n",
       "        'text-align: center; padding: 3px;\"/>');\n",
       "    titlebar.append(titletext)\n",
       "    this.root.append(titlebar);\n",
       "    this.header = titletext[0];\n",
       "}\n",
       "\n",
       "\n",
       "\n",
       "mpl.figure.prototype._canvas_extra_style = function(canvas_div) {\n",
       "\n",
       "}\n",
       "\n",
       "\n",
       "mpl.figure.prototype._root_extra_style = function(canvas_div) {\n",
       "\n",
       "}\n",
       "\n",
       "mpl.figure.prototype._init_canvas = function() {\n",
       "    var fig = this;\n",
       "\n",
       "    var canvas_div = $('<div/>');\n",
       "\n",
       "    canvas_div.attr('style', 'position: relative; clear: both; outline: 0');\n",
       "\n",
       "    function canvas_keyboard_event(event) {\n",
       "        return fig.key_event(event, event['data']);\n",
       "    }\n",
       "\n",
       "    canvas_div.keydown('key_press', canvas_keyboard_event);\n",
       "    canvas_div.keyup('key_release', canvas_keyboard_event);\n",
       "    this.canvas_div = canvas_div\n",
       "    this._canvas_extra_style(canvas_div)\n",
       "    this.root.append(canvas_div);\n",
       "\n",
       "    var canvas = $('<canvas/>');\n",
       "    canvas.addClass('mpl-canvas');\n",
       "    canvas.attr('style', \"left: 0; top: 0; z-index: 0; outline: 0\")\n",
       "\n",
       "    this.canvas = canvas[0];\n",
       "    this.context = canvas[0].getContext(\"2d\");\n",
       "\n",
       "    var backingStore = this.context.backingStorePixelRatio ||\n",
       "\tthis.context.webkitBackingStorePixelRatio ||\n",
       "\tthis.context.mozBackingStorePixelRatio ||\n",
       "\tthis.context.msBackingStorePixelRatio ||\n",
       "\tthis.context.oBackingStorePixelRatio ||\n",
       "\tthis.context.backingStorePixelRatio || 1;\n",
       "\n",
       "    mpl.ratio = (window.devicePixelRatio || 1) / backingStore;\n",
       "\n",
       "    var rubberband = $('<canvas/>');\n",
       "    rubberband.attr('style', \"position: absolute; left: 0; top: 0; z-index: 1;\")\n",
       "\n",
       "    var pass_mouse_events = true;\n",
       "\n",
       "    canvas_div.resizable({\n",
       "        start: function(event, ui) {\n",
       "            pass_mouse_events = false;\n",
       "        },\n",
       "        resize: function(event, ui) {\n",
       "            fig.request_resize(ui.size.width, ui.size.height);\n",
       "        },\n",
       "        stop: function(event, ui) {\n",
       "            pass_mouse_events = true;\n",
       "            fig.request_resize(ui.size.width, ui.size.height);\n",
       "        },\n",
       "    });\n",
       "\n",
       "    function mouse_event_fn(event) {\n",
       "        if (pass_mouse_events)\n",
       "            return fig.mouse_event(event, event['data']);\n",
       "    }\n",
       "\n",
       "    rubberband.mousedown('button_press', mouse_event_fn);\n",
       "    rubberband.mouseup('button_release', mouse_event_fn);\n",
       "    // Throttle sequential mouse events to 1 every 20ms.\n",
       "    rubberband.mousemove('motion_notify', mouse_event_fn);\n",
       "\n",
       "    rubberband.mouseenter('figure_enter', mouse_event_fn);\n",
       "    rubberband.mouseleave('figure_leave', mouse_event_fn);\n",
       "\n",
       "    canvas_div.on(\"wheel\", function (event) {\n",
       "        event = event.originalEvent;\n",
       "        event['data'] = 'scroll'\n",
       "        if (event.deltaY < 0) {\n",
       "            event.step = 1;\n",
       "        } else {\n",
       "            event.step = -1;\n",
       "        }\n",
       "        mouse_event_fn(event);\n",
       "    });\n",
       "\n",
       "    canvas_div.append(canvas);\n",
       "    canvas_div.append(rubberband);\n",
       "\n",
       "    this.rubberband = rubberband;\n",
       "    this.rubberband_canvas = rubberband[0];\n",
       "    this.rubberband_context = rubberband[0].getContext(\"2d\");\n",
       "    this.rubberband_context.strokeStyle = \"#000000\";\n",
       "\n",
       "    this._resize_canvas = function(width, height) {\n",
       "        // Keep the size of the canvas, canvas container, and rubber band\n",
       "        // canvas in synch.\n",
       "        canvas_div.css('width', width)\n",
       "        canvas_div.css('height', height)\n",
       "\n",
       "        canvas.attr('width', width * mpl.ratio);\n",
       "        canvas.attr('height', height * mpl.ratio);\n",
       "        canvas.attr('style', 'width: ' + width + 'px; height: ' + height + 'px;');\n",
       "\n",
       "        rubberband.attr('width', width);\n",
       "        rubberband.attr('height', height);\n",
       "    }\n",
       "\n",
       "    // Set the figure to an initial 600x600px, this will subsequently be updated\n",
       "    // upon first draw.\n",
       "    this._resize_canvas(600, 600);\n",
       "\n",
       "    // Disable right mouse context menu.\n",
       "    $(this.rubberband_canvas).bind(\"contextmenu\",function(e){\n",
       "        return false;\n",
       "    });\n",
       "\n",
       "    function set_focus () {\n",
       "        canvas.focus();\n",
       "        canvas_div.focus();\n",
       "    }\n",
       "\n",
       "    window.setTimeout(set_focus, 100);\n",
       "}\n",
       "\n",
       "mpl.figure.prototype._init_toolbar = function() {\n",
       "    var fig = this;\n",
       "\n",
       "    var nav_element = $('<div/>')\n",
       "    nav_element.attr('style', 'width: 100%');\n",
       "    this.root.append(nav_element);\n",
       "\n",
       "    // Define a callback function for later on.\n",
       "    function toolbar_event(event) {\n",
       "        return fig.toolbar_button_onclick(event['data']);\n",
       "    }\n",
       "    function toolbar_mouse_event(event) {\n",
       "        return fig.toolbar_button_onmouseover(event['data']);\n",
       "    }\n",
       "\n",
       "    for(var toolbar_ind in mpl.toolbar_items) {\n",
       "        var name = mpl.toolbar_items[toolbar_ind][0];\n",
       "        var tooltip = mpl.toolbar_items[toolbar_ind][1];\n",
       "        var image = mpl.toolbar_items[toolbar_ind][2];\n",
       "        var method_name = mpl.toolbar_items[toolbar_ind][3];\n",
       "\n",
       "        if (!name) {\n",
       "            // put a spacer in here.\n",
       "            continue;\n",
       "        }\n",
       "        var button = $('<button/>');\n",
       "        button.addClass('ui-button ui-widget ui-state-default ui-corner-all ' +\n",
       "                        'ui-button-icon-only');\n",
       "        button.attr('role', 'button');\n",
       "        button.attr('aria-disabled', 'false');\n",
       "        button.click(method_name, toolbar_event);\n",
       "        button.mouseover(tooltip, toolbar_mouse_event);\n",
       "\n",
       "        var icon_img = $('<span/>');\n",
       "        icon_img.addClass('ui-button-icon-primary ui-icon');\n",
       "        icon_img.addClass(image);\n",
       "        icon_img.addClass('ui-corner-all');\n",
       "\n",
       "        var tooltip_span = $('<span/>');\n",
       "        tooltip_span.addClass('ui-button-text');\n",
       "        tooltip_span.html(tooltip);\n",
       "\n",
       "        button.append(icon_img);\n",
       "        button.append(tooltip_span);\n",
       "\n",
       "        nav_element.append(button);\n",
       "    }\n",
       "\n",
       "    var fmt_picker_span = $('<span/>');\n",
       "\n",
       "    var fmt_picker = $('<select/>');\n",
       "    fmt_picker.addClass('mpl-toolbar-option ui-widget ui-widget-content');\n",
       "    fmt_picker_span.append(fmt_picker);\n",
       "    nav_element.append(fmt_picker_span);\n",
       "    this.format_dropdown = fmt_picker[0];\n",
       "\n",
       "    for (var ind in mpl.extensions) {\n",
       "        var fmt = mpl.extensions[ind];\n",
       "        var option = $(\n",
       "            '<option/>', {selected: fmt === mpl.default_extension}).html(fmt);\n",
       "        fmt_picker.append(option)\n",
       "    }\n",
       "\n",
       "    // Add hover states to the ui-buttons\n",
       "    $( \".ui-button\" ).hover(\n",
       "        function() { $(this).addClass(\"ui-state-hover\");},\n",
       "        function() { $(this).removeClass(\"ui-state-hover\");}\n",
       "    );\n",
       "\n",
       "    var status_bar = $('<span class=\"mpl-message\"/>');\n",
       "    nav_element.append(status_bar);\n",
       "    this.message = status_bar[0];\n",
       "}\n",
       "\n",
       "mpl.figure.prototype.request_resize = function(x_pixels, y_pixels) {\n",
       "    // Request matplotlib to resize the figure. Matplotlib will then trigger a resize in the client,\n",
       "    // which will in turn request a refresh of the image.\n",
       "    this.send_message('resize', {'width': x_pixels, 'height': y_pixels});\n",
       "}\n",
       "\n",
       "mpl.figure.prototype.send_message = function(type, properties) {\n",
       "    properties['type'] = type;\n",
       "    properties['figure_id'] = this.id;\n",
       "    this.ws.send(JSON.stringify(properties));\n",
       "}\n",
       "\n",
       "mpl.figure.prototype.send_draw_message = function() {\n",
       "    if (!this.waiting) {\n",
       "        this.waiting = true;\n",
       "        this.ws.send(JSON.stringify({type: \"draw\", figure_id: this.id}));\n",
       "    }\n",
       "}\n",
       "\n",
       "\n",
       "mpl.figure.prototype.handle_save = function(fig, msg) {\n",
       "    var format_dropdown = fig.format_dropdown;\n",
       "    var format = format_dropdown.options[format_dropdown.selectedIndex].value;\n",
       "    fig.ondownload(fig, format);\n",
       "}\n",
       "\n",
       "\n",
       "mpl.figure.prototype.handle_resize = function(fig, msg) {\n",
       "    var size = msg['size'];\n",
       "    if (size[0] != fig.canvas.width || size[1] != fig.canvas.height) {\n",
       "        fig._resize_canvas(size[0], size[1]);\n",
       "        fig.send_message(\"refresh\", {});\n",
       "    };\n",
       "}\n",
       "\n",
       "mpl.figure.prototype.handle_rubberband = function(fig, msg) {\n",
       "    var x0 = msg['x0'] / mpl.ratio;\n",
       "    var y0 = (fig.canvas.height - msg['y0']) / mpl.ratio;\n",
       "    var x1 = msg['x1'] / mpl.ratio;\n",
       "    var y1 = (fig.canvas.height - msg['y1']) / mpl.ratio;\n",
       "    x0 = Math.floor(x0) + 0.5;\n",
       "    y0 = Math.floor(y0) + 0.5;\n",
       "    x1 = Math.floor(x1) + 0.5;\n",
       "    y1 = Math.floor(y1) + 0.5;\n",
       "    var min_x = Math.min(x0, x1);\n",
       "    var min_y = Math.min(y0, y1);\n",
       "    var width = Math.abs(x1 - x0);\n",
       "    var height = Math.abs(y1 - y0);\n",
       "\n",
       "    fig.rubberband_context.clearRect(\n",
       "        0, 0, fig.canvas.width, fig.canvas.height);\n",
       "\n",
       "    fig.rubberband_context.strokeRect(min_x, min_y, width, height);\n",
       "}\n",
       "\n",
       "mpl.figure.prototype.handle_figure_label = function(fig, msg) {\n",
       "    // Updates the figure title.\n",
       "    fig.header.textContent = msg['label'];\n",
       "}\n",
       "\n",
       "mpl.figure.prototype.handle_cursor = function(fig, msg) {\n",
       "    var cursor = msg['cursor'];\n",
       "    switch(cursor)\n",
       "    {\n",
       "    case 0:\n",
       "        cursor = 'pointer';\n",
       "        break;\n",
       "    case 1:\n",
       "        cursor = 'default';\n",
       "        break;\n",
       "    case 2:\n",
       "        cursor = 'crosshair';\n",
       "        break;\n",
       "    case 3:\n",
       "        cursor = 'move';\n",
       "        break;\n",
       "    }\n",
       "    fig.rubberband_canvas.style.cursor = cursor;\n",
       "}\n",
       "\n",
       "mpl.figure.prototype.handle_message = function(fig, msg) {\n",
       "    fig.message.textContent = msg['message'];\n",
       "}\n",
       "\n",
       "mpl.figure.prototype.handle_draw = function(fig, msg) {\n",
       "    // Request the server to send over a new figure.\n",
       "    fig.send_draw_message();\n",
       "}\n",
       "\n",
       "mpl.figure.prototype.handle_image_mode = function(fig, msg) {\n",
       "    fig.image_mode = msg['mode'];\n",
       "}\n",
       "\n",
       "mpl.figure.prototype.updated_canvas_event = function() {\n",
       "    // Called whenever the canvas gets updated.\n",
       "    this.send_message(\"ack\", {});\n",
       "}\n",
       "\n",
       "// A function to construct a web socket function for onmessage handling.\n",
       "// Called in the figure constructor.\n",
       "mpl.figure.prototype._make_on_message_function = function(fig) {\n",
       "    return function socket_on_message(evt) {\n",
       "        if (evt.data instanceof Blob) {\n",
       "            /* FIXME: We get \"Resource interpreted as Image but\n",
       "             * transferred with MIME type text/plain:\" errors on\n",
       "             * Chrome.  But how to set the MIME type?  It doesn't seem\n",
       "             * to be part of the websocket stream */\n",
       "            evt.data.type = \"image/png\";\n",
       "\n",
       "            /* Free the memory for the previous frames */\n",
       "            if (fig.imageObj.src) {\n",
       "                (window.URL || window.webkitURL).revokeObjectURL(\n",
       "                    fig.imageObj.src);\n",
       "            }\n",
       "\n",
       "            fig.imageObj.src = (window.URL || window.webkitURL).createObjectURL(\n",
       "                evt.data);\n",
       "            fig.updated_canvas_event();\n",
       "            fig.waiting = false;\n",
       "            return;\n",
       "        }\n",
       "        else if (typeof evt.data === 'string' && evt.data.slice(0, 21) == \"data:image/png;base64\") {\n",
       "            fig.imageObj.src = evt.data;\n",
       "            fig.updated_canvas_event();\n",
       "            fig.waiting = false;\n",
       "            return;\n",
       "        }\n",
       "\n",
       "        var msg = JSON.parse(evt.data);\n",
       "        var msg_type = msg['type'];\n",
       "\n",
       "        // Call the  \"handle_{type}\" callback, which takes\n",
       "        // the figure and JSON message as its only arguments.\n",
       "        try {\n",
       "            var callback = fig[\"handle_\" + msg_type];\n",
       "        } catch (e) {\n",
       "            console.log(\"No handler for the '\" + msg_type + \"' message type: \", msg);\n",
       "            return;\n",
       "        }\n",
       "\n",
       "        if (callback) {\n",
       "            try {\n",
       "                // console.log(\"Handling '\" + msg_type + \"' message: \", msg);\n",
       "                callback(fig, msg);\n",
       "            } catch (e) {\n",
       "                console.log(\"Exception inside the 'handler_\" + msg_type + \"' callback:\", e, e.stack, msg);\n",
       "            }\n",
       "        }\n",
       "    };\n",
       "}\n",
       "\n",
       "// from http://stackoverflow.com/questions/1114465/getting-mouse-location-in-canvas\n",
       "mpl.findpos = function(e) {\n",
       "    //this section is from http://www.quirksmode.org/js/events_properties.html\n",
       "    var targ;\n",
       "    if (!e)\n",
       "        e = window.event;\n",
       "    if (e.target)\n",
       "        targ = e.target;\n",
       "    else if (e.srcElement)\n",
       "        targ = e.srcElement;\n",
       "    if (targ.nodeType == 3) // defeat Safari bug\n",
       "        targ = targ.parentNode;\n",
       "\n",
       "    // jQuery normalizes the pageX and pageY\n",
       "    // pageX,Y are the mouse positions relative to the document\n",
       "    // offset() returns the position of the element relative to the document\n",
       "    var x = e.pageX - $(targ).offset().left;\n",
       "    var y = e.pageY - $(targ).offset().top;\n",
       "\n",
       "    return {\"x\": x, \"y\": y};\n",
       "};\n",
       "\n",
       "/*\n",
       " * return a copy of an object with only non-object keys\n",
       " * we need this to avoid circular references\n",
       " * http://stackoverflow.com/a/24161582/3208463\n",
       " */\n",
       "function simpleKeys (original) {\n",
       "  return Object.keys(original).reduce(function (obj, key) {\n",
       "    if (typeof original[key] !== 'object')\n",
       "        obj[key] = original[key]\n",
       "    return obj;\n",
       "  }, {});\n",
       "}\n",
       "\n",
       "mpl.figure.prototype.mouse_event = function(event, name) {\n",
       "    var canvas_pos = mpl.findpos(event)\n",
       "\n",
       "    if (name === 'button_press')\n",
       "    {\n",
       "        this.canvas.focus();\n",
       "        this.canvas_div.focus();\n",
       "    }\n",
       "\n",
       "    var x = canvas_pos.x * mpl.ratio;\n",
       "    var y = canvas_pos.y * mpl.ratio;\n",
       "\n",
       "    this.send_message(name, {x: x, y: y, button: event.button,\n",
       "                             step: event.step,\n",
       "                             guiEvent: simpleKeys(event)});\n",
       "\n",
       "    /* This prevents the web browser from automatically changing to\n",
       "     * the text insertion cursor when the button is pressed.  We want\n",
       "     * to control all of the cursor setting manually through the\n",
       "     * 'cursor' event from matplotlib */\n",
       "    event.preventDefault();\n",
       "    return false;\n",
       "}\n",
       "\n",
       "mpl.figure.prototype._key_event_extra = function(event, name) {\n",
       "    // Handle any extra behaviour associated with a key event\n",
       "}\n",
       "\n",
       "mpl.figure.prototype.key_event = function(event, name) {\n",
       "\n",
       "    // Prevent repeat events\n",
       "    if (name == 'key_press')\n",
       "    {\n",
       "        if (event.which === this._key)\n",
       "            return;\n",
       "        else\n",
       "            this._key = event.which;\n",
       "    }\n",
       "    if (name == 'key_release')\n",
       "        this._key = null;\n",
       "\n",
       "    var value = '';\n",
       "    if (event.ctrlKey && event.which != 17)\n",
       "        value += \"ctrl+\";\n",
       "    if (event.altKey && event.which != 18)\n",
       "        value += \"alt+\";\n",
       "    if (event.shiftKey && event.which != 16)\n",
       "        value += \"shift+\";\n",
       "\n",
       "    value += 'k';\n",
       "    value += event.which.toString();\n",
       "\n",
       "    this._key_event_extra(event, name);\n",
       "\n",
       "    this.send_message(name, {key: value,\n",
       "                             guiEvent: simpleKeys(event)});\n",
       "    return false;\n",
       "}\n",
       "\n",
       "mpl.figure.prototype.toolbar_button_onclick = function(name) {\n",
       "    if (name == 'download') {\n",
       "        this.handle_save(this, null);\n",
       "    } else {\n",
       "        this.send_message(\"toolbar_button\", {name: name});\n",
       "    }\n",
       "};\n",
       "\n",
       "mpl.figure.prototype.toolbar_button_onmouseover = function(tooltip) {\n",
       "    this.message.textContent = tooltip;\n",
       "};\n",
       "mpl.toolbar_items = [[\"Home\", \"Reset original view\", \"fa fa-home icon-home\", \"home\"], [\"Back\", \"Back to  previous view\", \"fa fa-arrow-left icon-arrow-left\", \"back\"], [\"Forward\", \"Forward to next view\", \"fa fa-arrow-right icon-arrow-right\", \"forward\"], [\"\", \"\", \"\", \"\"], [\"Pan\", \"Pan axes with left mouse, zoom with right\", \"fa fa-arrows icon-move\", \"pan\"], [\"Zoom\", \"Zoom to rectangle\", \"fa fa-square-o icon-check-empty\", \"zoom\"], [\"\", \"\", \"\", \"\"], [\"Download\", \"Download plot\", \"fa fa-floppy-o icon-save\", \"download\"]];\n",
       "\n",
       "mpl.extensions = [\"eps\", \"pdf\", \"png\", \"ps\", \"raw\", \"svg\"];\n",
       "\n",
       "mpl.default_extension = \"png\";var comm_websocket_adapter = function(comm) {\n",
       "    // Create a \"websocket\"-like object which calls the given IPython comm\n",
       "    // object with the appropriate methods. Currently this is a non binary\n",
       "    // socket, so there is still some room for performance tuning.\n",
       "    var ws = {};\n",
       "\n",
       "    ws.close = function() {\n",
       "        comm.close()\n",
       "    };\n",
       "    ws.send = function(m) {\n",
       "        //console.log('sending', m);\n",
       "        comm.send(m);\n",
       "    };\n",
       "    // Register the callback with on_msg.\n",
       "    comm.on_msg(function(msg) {\n",
       "        //console.log('receiving', msg['content']['data'], msg);\n",
       "        // Pass the mpl event to the overridden (by mpl) onmessage function.\n",
       "        ws.onmessage(msg['content']['data'])\n",
       "    });\n",
       "    return ws;\n",
       "}\n",
       "\n",
       "mpl.mpl_figure_comm = function(comm, msg) {\n",
       "    // This is the function which gets called when the mpl process\n",
       "    // starts-up an IPython Comm through the \"matplotlib\" channel.\n",
       "\n",
       "    var id = msg.content.data.id;\n",
       "    // Get hold of the div created by the display call when the Comm\n",
       "    // socket was opened in Python.\n",
       "    var element = $(\"#\" + id);\n",
       "    var ws_proxy = comm_websocket_adapter(comm)\n",
       "\n",
       "    function ondownload(figure, format) {\n",
       "        window.open(figure.imageObj.src);\n",
       "    }\n",
       "\n",
       "    var fig = new mpl.figure(id, ws_proxy,\n",
       "                           ondownload,\n",
       "                           element.get(0));\n",
       "\n",
       "    // Call onopen now - mpl needs it, as it is assuming we've passed it a real\n",
       "    // web socket which is closed, not our websocket->open comm proxy.\n",
       "    ws_proxy.onopen();\n",
       "\n",
       "    fig.parent_element = element.get(0);\n",
       "    fig.cell_info = mpl.find_output_cell(\"<div id='\" + id + \"'></div>\");\n",
       "    if (!fig.cell_info) {\n",
       "        console.error(\"Failed to find cell for figure\", id, fig);\n",
       "        return;\n",
       "    }\n",
       "\n",
       "    var output_index = fig.cell_info[2]\n",
       "    var cell = fig.cell_info[0];\n",
       "\n",
       "};\n",
       "\n",
       "mpl.figure.prototype.handle_close = function(fig, msg) {\n",
       "    var width = fig.canvas.width/mpl.ratio\n",
       "    fig.root.unbind('remove')\n",
       "\n",
       "    // Update the output cell to use the data from the current canvas.\n",
       "    fig.push_to_output();\n",
       "    var dataURL = fig.canvas.toDataURL();\n",
       "    // Re-enable the keyboard manager in IPython - without this line, in FF,\n",
       "    // the notebook keyboard shortcuts fail.\n",
       "    IPython.keyboard_manager.enable()\n",
       "    $(fig.parent_element).html('<img src=\"' + dataURL + '\" width=\"' + width + '\">');\n",
       "    fig.close_ws(fig, msg);\n",
       "}\n",
       "\n",
       "mpl.figure.prototype.close_ws = function(fig, msg){\n",
       "    fig.send_message('closing', msg);\n",
       "    // fig.ws.close()\n",
       "}\n",
       "\n",
       "mpl.figure.prototype.push_to_output = function(remove_interactive) {\n",
       "    // Turn the data on the canvas into data in the output cell.\n",
       "    var width = this.canvas.width/mpl.ratio\n",
       "    var dataURL = this.canvas.toDataURL();\n",
       "    this.cell_info[1]['text/html'] = '<img src=\"' + dataURL + '\" width=\"' + width + '\">';\n",
       "}\n",
       "\n",
       "mpl.figure.prototype.updated_canvas_event = function() {\n",
       "    // Tell IPython that the notebook contents must change.\n",
       "    IPython.notebook.set_dirty(true);\n",
       "    this.send_message(\"ack\", {});\n",
       "    var fig = this;\n",
       "    // Wait a second, then push the new image to the DOM so\n",
       "    // that it is saved nicely (might be nice to debounce this).\n",
       "    setTimeout(function () { fig.push_to_output() }, 1000);\n",
       "}\n",
       "\n",
       "mpl.figure.prototype._init_toolbar = function() {\n",
       "    var fig = this;\n",
       "\n",
       "    var nav_element = $('<div/>')\n",
       "    nav_element.attr('style', 'width: 100%');\n",
       "    this.root.append(nav_element);\n",
       "\n",
       "    // Define a callback function for later on.\n",
       "    function toolbar_event(event) {\n",
       "        return fig.toolbar_button_onclick(event['data']);\n",
       "    }\n",
       "    function toolbar_mouse_event(event) {\n",
       "        return fig.toolbar_button_onmouseover(event['data']);\n",
       "    }\n",
       "\n",
       "    for(var toolbar_ind in mpl.toolbar_items){\n",
       "        var name = mpl.toolbar_items[toolbar_ind][0];\n",
       "        var tooltip = mpl.toolbar_items[toolbar_ind][1];\n",
       "        var image = mpl.toolbar_items[toolbar_ind][2];\n",
       "        var method_name = mpl.toolbar_items[toolbar_ind][3];\n",
       "\n",
       "        if (!name) { continue; };\n",
       "\n",
       "        var button = $('<button class=\"btn btn-default\" href=\"#\" title=\"' + name + '\"><i class=\"fa ' + image + ' fa-lg\"></i></button>');\n",
       "        button.click(method_name, toolbar_event);\n",
       "        button.mouseover(tooltip, toolbar_mouse_event);\n",
       "        nav_element.append(button);\n",
       "    }\n",
       "\n",
       "    // Add the status bar.\n",
       "    var status_bar = $('<span class=\"mpl-message\" style=\"text-align:right; float: right;\"/>');\n",
       "    nav_element.append(status_bar);\n",
       "    this.message = status_bar[0];\n",
       "\n",
       "    // Add the close button to the window.\n",
       "    var buttongrp = $('<div class=\"btn-group inline pull-right\"></div>');\n",
       "    var button = $('<button class=\"btn btn-mini btn-primary\" href=\"#\" title=\"Stop Interaction\"><i class=\"fa fa-power-off icon-remove icon-large\"></i></button>');\n",
       "    button.click(function (evt) { fig.handle_close(fig, {}); } );\n",
       "    button.mouseover('Stop Interaction', toolbar_mouse_event);\n",
       "    buttongrp.append(button);\n",
       "    var titlebar = this.root.find($('.ui-dialog-titlebar'));\n",
       "    titlebar.prepend(buttongrp);\n",
       "}\n",
       "\n",
       "mpl.figure.prototype._root_extra_style = function(el){\n",
       "    var fig = this\n",
       "    el.on(\"remove\", function(){\n",
       "\tfig.close_ws(fig, {});\n",
       "    });\n",
       "}\n",
       "\n",
       "mpl.figure.prototype._canvas_extra_style = function(el){\n",
       "    // this is important to make the div 'focusable\n",
       "    el.attr('tabindex', 0)\n",
       "    // reach out to IPython and tell the keyboard manager to turn it's self\n",
       "    // off when our div gets focus\n",
       "\n",
       "    // location in version 3\n",
       "    if (IPython.notebook.keyboard_manager) {\n",
       "        IPython.notebook.keyboard_manager.register_events(el);\n",
       "    }\n",
       "    else {\n",
       "        // location in version 2\n",
       "        IPython.keyboard_manager.register_events(el);\n",
       "    }\n",
       "\n",
       "}\n",
       "\n",
       "mpl.figure.prototype._key_event_extra = function(event, name) {\n",
       "    var manager = IPython.notebook.keyboard_manager;\n",
       "    if (!manager)\n",
       "        manager = IPython.keyboard_manager;\n",
       "\n",
       "    // Check for shift+enter\n",
       "    if (event.shiftKey && event.which == 13) {\n",
       "        this.canvas_div.blur();\n",
       "        event.shiftKey = false;\n",
       "        // Send a \"J\" for go to next cell\n",
       "        event.which = 74;\n",
       "        event.keyCode = 74;\n",
       "        manager.command_mode();\n",
       "        manager.handle_keydown(event);\n",
       "    }\n",
       "}\n",
       "\n",
       "mpl.figure.prototype.handle_save = function(fig, msg) {\n",
       "    fig.ondownload(fig, null);\n",
       "}\n",
       "\n",
       "\n",
       "mpl.find_output_cell = function(html_output) {\n",
       "    // Return the cell and output element which can be found *uniquely* in the notebook.\n",
       "    // Note - this is a bit hacky, but it is done because the \"notebook_saving.Notebook\"\n",
       "    // IPython event is triggered only after the cells have been serialised, which for\n",
       "    // our purposes (turning an active figure into a static one), is too late.\n",
       "    var cells = IPython.notebook.get_cells();\n",
       "    var ncells = cells.length;\n",
       "    for (var i=0; i<ncells; i++) {\n",
       "        var cell = cells[i];\n",
       "        if (cell.cell_type === 'code'){\n",
       "            for (var j=0; j<cell.output_area.outputs.length; j++) {\n",
       "                var data = cell.output_area.outputs[j];\n",
       "                if (data.data) {\n",
       "                    // IPython >= 3 moved mimebundle to data attribute of output\n",
       "                    data = data.data;\n",
       "                }\n",
       "                if (data['text/html'] == html_output) {\n",
       "                    return [cell, data, j];\n",
       "                }\n",
       "            }\n",
       "        }\n",
       "    }\n",
       "}\n",
       "\n",
       "// Register the function which deals with the matplotlib target/channel.\n",
       "// The kernel may be null if the page has been refreshed.\n",
       "if (IPython.notebook.kernel != null) {\n",
       "    IPython.notebook.kernel.comm_manager.register_target('matplotlib', mpl.mpl_figure_comm);\n",
       "}\n"
      ],
      "text/plain": [
       "<IPython.core.display.Javascript object>"
      ]
     },
     "metadata": {},
     "output_type": "display_data"
    },
    {
     "data": {
      "text/html": [
       "<img src=\"data:image/png;base64,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\" width=\"640\">"
      ],
      "text/plain": [
       "<IPython.core.display.HTML object>"
      ]
     },
     "metadata": {},
     "output_type": "display_data"
    },
    {
     "data": {
      "text/plain": [
       "[<matplotlib.lines.Line2D at 0x7fcce41771d0>]"
      ]
     },
     "execution_count": 93,
     "metadata": {},
     "output_type": "execute_result"
    }
   ],
   "source": [
    "# Buggy bit of xarray when trying to plot I against V\n",
    "\n",
    "buggy_data = sweep_avg.set_coords('voltage')['current']\n",
    "print(buggy_data)\n",
    "\n",
    "plt.figure()\n",
    "buggy_data.plot.line(x='voltage')"
   ]
  },
  {
   "cell_type": "code",
   "execution_count": null,
   "metadata": {},
   "outputs": [],
   "source": []
  }
 ],
 "metadata": {
  "kernelspec": {
   "display_name": "magopter_kernel_3.6.5",
   "language": "python",
   "name": "magopter_kernel_3.6.5"
  },
  "language_info": {
   "codemirror_mode": {
    "name": "ipython",
    "version": 3
   },
   "file_extension": ".py",
   "mimetype": "text/x-python",
   "name": "python",
   "nbconvert_exporter": "python",
   "pygments_lexer": "ipython3",
   "version": "3.6.5"
  }
 },
 "nbformat": 4,
 "nbformat_minor": 2
}
