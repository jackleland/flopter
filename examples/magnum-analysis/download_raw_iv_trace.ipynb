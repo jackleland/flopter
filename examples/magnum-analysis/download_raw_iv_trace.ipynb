{
 "cells": [
  {
   "cell_type": "code",
   "execution_count": 1,
   "metadata": {},
   "outputs": [],
   "source": [
    "%matplotlib tk\n",
    "import numpy as np\n",
    "import matplotlib.pyplot as plt\n",
    "import sys\n",
    "import os\n",
    "import glob\n",
    "sys.path.append('/home/jleland/Coding/Projects/flopter')\n",
    "import magopter as mg\n",
    "import constants as c\n",
    "import databases.magnum as mdb\n",
    "import normalisation as nrm\n",
    "import lputils as lp\n",
    "import classes.ivdata as ivd\n",
    "import filtering as filt\n",
    "import scipy.signal as sig\n",
    "import fitters as fts"
   ]
  },
  {
   "cell_type": "code",
   "execution_count": 12,
   "metadata": {},
   "outputs": [
    {
     "name": "stdout",
     "output_type": "stream",
     "text": [
      "\"2018-06-07_Leland/\" \t\t \"2018-06-07 14h 38m 33s TT_06564321037878221702.adc\" \t\t \"2018-06-07 14h 33m 45s TT_06564319866763108260.adc\"\n"
     ]
    }
   ],
   "source": [
    "folders = ['2018-05-01_Leland/', '2018-05-02_Leland/', '2018-05-03_Leland/',\n",
    "           '2018-06-05_Leland/', '2018-06-06_Leland/', '2018-06-07_Leland/']\n",
    "files = []\n",
    "file_folders = []\n",
    "for folder1 in folders:\n",
    "    os.chdir(mg.Magopter.get_data_path() + folder1)\n",
    "    files.extend(glob.glob('*.adc'))\n",
    "    file_folders.extend([folder1] * len(glob.glob('*.adc')))\n",
    "files.sort()\n",
    "\n",
    "# file = files[286]\n",
    "file = files[285]\n",
    "ts_file = files[284]\n",
    "folder = file_folders[-2]\n",
    "print('\"{}\" \\t\\t \"{}\" \\t\\t \"{}\"'.format(folder, file, ts_file))\n",
    "\n",
    "mp = lp.MagnumProbes()"
   ]
  },
  {
   "cell_type": "code",
   "execution_count": 13,
   "metadata": {},
   "outputs": [
    {
     "name": "stdout",
     "output_type": "stream",
     "text": [
      "Start Time:  13:38:12\n",
      "End Time:  13:38:52\n",
      "Beam Down Timestamp:  6564321041100203608 1528375093.15\n",
      "Regular Timestamp:  6564321037878221702 1528375092.399824\n"
     ]
    }
   ],
   "source": [
    "magopter = mg.Magopter(folder, file, ts_filename=ts_file)"
   ]
  },
  {
   "cell_type": "code",
   "execution_count": 14,
   "metadata": {},
   "outputs": [],
   "source": [
    "magopter.m_data.time = magopter.m_data.time + magopter._ADC_TIMER_OFFSET\n",
    "magopter.m_data.data[magopter._VOLTAGE_CHANNEL] = magopter.m_data.data[magopter._VOLTAGE_CHANNEL] * 10\n",
    "\n",
    "magopter.raw_time = magopter.m_data.time\n",
    "magopter.raw_voltage = magopter.m_data.data[magopter._VOLTAGE_CHANNEL]\n",
    "magopter.raw_current[0] = magopter.m_data.data[magopter._PROBE_CHANNEL_3]\n",
    "magopter.raw_current[1] = magopter.m_data.data[magopter._PROBE_CHANNEL_4]"
   ]
  },
  {
   "cell_type": "code",
   "execution_count": 19,
   "metadata": {},
   "outputs": [],
   "source": [
    "plt.figure()\n",
    "plt.plot(magopter.raw_time, magopter.raw_voltage)\n",
    "plt.plot(magopter.raw_time, magopter.raw_current[0])\n",
    "# plt.plot(magopter.raw_time, magopter.raw_current[1])\n",
    "plt.show()"
   ]
  },
  {
   "cell_type": "code",
   "execution_count": 21,
   "metadata": {},
   "outputs": [
    {
     "name": "stdout",
     "output_type": "stream",
     "text": [
      "             time   voltage   current\n",
      "0         1.00000 -6.752735 -0.168707\n",
      "1         1.00001 -6.925882 -0.168707\n",
      "2         1.00002 -7.099029 -0.151404\n",
      "3         1.00003 -6.925882 -0.151404\n",
      "4         1.00004 -7.099029 -0.160055\n",
      "5         1.00005 -6.925882 -0.168707\n",
      "6         1.00006 -7.185603 -0.134100\n",
      "7         1.00007 -7.099029 -0.125449\n",
      "8         1.00008 -7.185603 -0.134100\n",
      "9         1.00009 -7.185603 -0.134100\n",
      "10        1.00010 -7.272176 -0.108146\n",
      "11        1.00011 -7.531897 -0.116797\n",
      "12        1.00012 -7.185603 -0.108146\n",
      "13        1.00013 -7.358750 -0.125449\n",
      "14        1.00014 -7.531897 -0.116797\n",
      "15        1.00015 -7.618470 -0.099494\n",
      "16        1.00016 -7.358750 -0.099494\n",
      "17        1.00017 -7.358750 -0.108146\n",
      "18        1.00018 -7.964765 -0.073539\n",
      "19        1.00019 -7.618470 -0.064887\n",
      "20        1.00020 -7.791618 -0.064887\n",
      "21        1.00021 -7.531897 -0.082191\n",
      "22        1.00022 -8.137912 -0.064887\n",
      "23        1.00023 -7.791618 -0.056236\n",
      "24        1.00024 -8.137912 -0.082191\n",
      "25        1.00025 -7.705044 -0.116797\n",
      "26        1.00026 -7.878191 -0.125449\n",
      "27        1.00027 -8.051338 -0.116797\n",
      "28        1.00028 -7.878191 -0.082191\n",
      "29        1.00029 -7.878191 -0.090842\n",
      "...           ...       ...       ...\n",
      "1999970  20.99971 -5.887000 -0.203314\n",
      "1999971  20.99972 -6.060147 -0.194662\n",
      "1999972  20.99973 -6.060147 -0.177359\n",
      "1999973  20.99974 -6.233294 -0.186010\n",
      "1999974  20.99975 -6.060147 -0.186010\n",
      "1999975  20.99976 -6.233294 -0.194662\n",
      "1999976  20.99977 -6.146720 -0.177359\n",
      "1999977  20.99978 -6.406441 -0.168707\n",
      "1999978  20.99979 -6.319868 -0.186010\n",
      "1999979  20.99980 -6.319868 -0.211965\n",
      "1999980  20.99981 -6.233294 -0.229269\n",
      "1999981  20.99982 -6.406441 -0.203314\n",
      "1999982  20.99983 -6.493015 -0.186010\n",
      "1999983  20.99984 -6.493015 -0.177359\n",
      "1999984  20.99985 -6.406441 -0.177359\n",
      "1999985  20.99986 -6.666162 -0.160055\n",
      "1999986  20.99987 -6.752735 -0.142752\n",
      "1999987  20.99988 -6.579588 -0.142752\n",
      "1999988  20.99989 -6.925882 -0.160055\n",
      "1999989  20.99990 -6.579588 -0.168707\n",
      "1999990  20.99991 -6.839309 -0.186010\n",
      "1999991  20.99992 -6.666162 -0.160055\n",
      "1999992  20.99993 -7.012456 -0.134100\n",
      "1999993  20.99994 -7.012456 -0.151404\n",
      "1999994  20.99995 -7.012456 -0.168707\n",
      "1999995  20.99996 -7.012456 -0.177359\n",
      "1999996  20.99997 -7.012456 -0.160055\n",
      "1999997  20.99998 -7.099029 -0.142752\n",
      "1999998  20.99999 -7.099029 -0.125449\n",
      "1999999  21.00000 -6.925882 -0.134100\n",
      "\n",
      "[2000000 rows x 3 columns]\n"
     ]
    }
   ],
   "source": [
    "data_dict = {\n",
    "    'time': magopter.raw_time,\n",
    "    'voltage': magopter.raw_voltage,\n",
    "    'current': magopter.raw_current[0]\n",
    "}\n",
    " \n",
    "import pandas as pd\n",
    "\n",
    "df = pd.DataFrame(data_dict)\n",
    "print(df)"
   ]
  },
  {
   "cell_type": "code",
   "execution_count": 22,
   "metadata": {},
   "outputs": [],
   "source": [
    "df.to_csv('/home/jleland/Data/Magnum/raw_lp_trace.csv')"
   ]
  },
  {
   "cell_type": "code",
   "execution_count": null,
   "metadata": {},
   "outputs": [],
   "source": []
  }
 ],
 "metadata": {
  "kernelspec": {
   "display_name": "magopter_kernel_3.6.5",
   "language": "python",
   "name": "magopter_kernel_3.6.5"
  },
  "language_info": {
   "codemirror_mode": {
    "name": "ipython",
    "version": 3
   },
   "file_extension": ".py",
   "mimetype": "text/x-python",
   "name": "python",
   "nbconvert_exporter": "python",
   "pygments_lexer": "ipython3",
   "version": "3.6.5"
  }
 },
 "nbformat": 4,
 "nbformat_minor": 2
}
