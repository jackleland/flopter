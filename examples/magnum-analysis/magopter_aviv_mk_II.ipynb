{
 "cells": [
  {
   "cell_type": "code",
   "execution_count": 1,
   "metadata": {},
   "outputs": [],
   "source": [
    "%matplotlib tk\n",
    "import numpy as np\n",
    "import matplotlib.pyplot as plt\n",
    "import xarray as xr\n",
    "import pandas as pd\n",
    "import sys\n",
    "import os\n",
    "import glob\n",
    "sys.path.append('/home/jleland/Coding/Projects/flopter')\n",
    "import flopter.core.magopter as mg\n",
    "import flopter.core.constants as c\n",
    "import flopter.databases.magnum as mdb\n",
    "import flopter.core.normalisation as nrm\n",
    "import flopter.utils.lputils as lp\n",
    "import flopter.classes.ivdata as ivd\n",
    "import flopter.core.filtering as filt\n",
    "import scipy.signal as sig\n",
    "import flopter.core.fitters as fts"
   ]
  },
  {
   "cell_type": "markdown",
   "metadata": {},
   "source": [
    "**FILE IO**"
   ]
  },
  {
   "cell_type": "code",
   "execution_count": 2,
   "metadata": {},
   "outputs": [
    {
     "name": "stdout",
     "output_type": "stream",
     "text": [
      "0 2019-05-28 10h 30m 08s TT_06695992307612752513.adc\n",
      "1 2019-05-28 12h 14m 30s TT_06696019202114007511.adc\n",
      "2 2019-05-28 12h 21m 44s TT_06696021067838019493.adc\n",
      "3 2019-05-28 12h 48m 38s TT_06696027997221515869.adc\n",
      "4 2019-05-28 14h 20m 45s TT_06696051736256851667.adc\n",
      "5 2019-05-28 15h 49m 45s TT_06696074692831398075.adc\n",
      "6 2019-05-28 15h 56m 35s TT_06696076438102672256.adc\n",
      "7 2019-05-28 15h 58m 31s TT_06696076936923400130.adc\n",
      "8 2019-05-28 16h 19m 55s TT_06696082451310700227.adc\n",
      "9 2019-05-28 16h 22m 11s TT_06696082985479260440.adc\n",
      "10 2019-05-28 16h 25m 58s TT_06696084010909391205.adc\n",
      "11 2019-05-28 16h 27m 39s TT_06696084446035357724.adc\n",
      "12 2019-05-28 16h 31m 10s TT_06696085352966572043.adc\n",
      "13 2019-05-28 16h 32m 42s TT_06696085746216338023.adc\n",
      "14 2019-05-28 17h 14m 14s TT_06696096449516280973.adc\n",
      "15 2019-05-28 17h 16m 07s TT_06696096934807785572.adc\n",
      "16 2019-05-28 17h 18m 00s TT_06696097420614687980.adc\n",
      "17 2019-05-28 17h 20m 21s TT_06696098027540441792.adc\n",
      "18 2019-05-28 17h 22m 35s TT_06696098601609496123.adc\n",
      "19 2019-05-28 17h 24m 06s TT_06696098992024562839.adc\n",
      "20 2019-05-28 17h 25m 35s TT_06696099373720776142.adc\n",
      "21 2019-05-28 17h 27m 20s TT_06696099828045370731.adc\n",
      "22 2019-05-28 17h 29m 13s TT_06696100311618871550.adc\n",
      "23 2019-05-28 17h 31m 56s TT_06696101010500514250.adc\n",
      "24 2019-05-28 17h 33m 11s TT_06696101333956587440.adc\n",
      "25 2019-05-28 17h 37m 24s TT_06696102421363486039.adc\n",
      "26 2019-05-28 17h 39m 33s TT_06696102973313331901.adc\n",
      "27 2019-05-28 17h 41m 56s TT_06696103587368824077.adc\n",
      "28 2019-05-28 17h 44m 49s TT_06696104333280660180.adc\n",
      "29 2019-05-28 17h 47m 17s TT_06696104967479701128.adc\n",
      "30 2019-05-28 17h 50m 03s TT_06696105682682270423.adc\n",
      "31 2019-05-28 17h 53m 39s TT_06696106608726205391.adc\n",
      "32 2019-05-28 17h 57m 13s TT_06696107527855189035.adc\n",
      "33 2019-05-29 10h 53m 12s TT_06696369343194399872.adc\n",
      "34 2019-05-29 10h 57m 14s TT_06696370383330308045.adc\n",
      "35 2019-05-29 10h 59m 05s TT_06696370858617159264.adc\n",
      "36 2019-05-29 11h 09m 34s TT_06696373559952702292.adc\n",
      "37 2019-05-29 11h 15m 38s TT_06696375126463677072.adc\n",
      "38 2019-05-29 11h 18m 04s TT_06696375753360976723.adc\n",
      "39 2019-05-29 11h 50m 48s TT_06696384187913127545.adc\n",
      "40 2019-05-29 12h 10m 14s TT_06696389195489730603.adc\n",
      "41 2019-05-29 12h 15m 05s TT_06696390446449757718.adc\n",
      "42 2019-05-29 12h 21m 58s TT_06696392220153524973.adc\n",
      "43 2019-05-29 12h 25m 54s TT_06696393234201678344.adc\n",
      "44 2019-05-29 12h 28m 01s TT_06696393778635154012.adc\n",
      "45 2019-05-29 12h 30m 39s TT_06696394456600010904.adc\n",
      "46 2019-05-29 12h 37m 01s TT_06696396096858369999.adc\n",
      "47 2019-05-29 12h 42m 48s TT_06696397590013175980.adc\n",
      "48 2019-05-29 12h 45m 34s TT_06696398300791817379.adc\n",
      "49 2019-05-29 12h 50m 53s TT_06696399669391799125.adc\n",
      "50 2019-05-29 12h 53m 18s TT_06696400293583348875.adc\n",
      "51 2019-05-29 12h 57m 38s TT_06696401411527462900.adc\n",
      "52 2019-05-29 12h 59m 39s TT_06696401929203161594.adc\n",
      "53 2019-05-29 13h 16m 47s TT_06696406346690976950.adc\n",
      "54 2019-05-29 13h 18m 44s TT_06696406848818784822.adc\n",
      "55 2019-05-29 13h 21m 20s TT_06696407518752045730.adc\n",
      "56 2019-05-29 13h 23m 01s TT_06696407952933035281.adc\n",
      "57 2019-05-29 13h 24m 40s TT_06696408377665056339.adc\n",
      "58 2019-05-29 13h 27m 00s TT_06696408977246304834.adc\n",
      "59 2019-05-29 13h 28m 55s TT_06696409470955944160.adc\n",
      "60 2019-05-29 13h 30m 37s TT_06696409910162104446.adc\n",
      "61 2019-05-29 13h 32m 57s TT_06696410510688282921.adc\n",
      "62 2019-05-29 13h 40m 19s TT_06696412410235593531.adc\n",
      "63 2019-05-29 13h 43m 53s TT_06696413328290716917.adc\n",
      "64 2019-05-29 14h 00m 05s TT_06696417505903235331.adc\n",
      "65 2019-05-29 14h 04m 41s TT_06696418691278815592.adc\n",
      "66 2019-05-29 14h 09m 40s TT_06696419975095661154.adc\n",
      "67 2019-05-29 14h 12m 39s TT_06696420742052850844.adc\n",
      "68 2019-05-29 14h 15m 35s TT_06696421499604007026.adc\n",
      "69 2019-05-29 14h 22m 11s TT_06696423200722556406.adc\n",
      "70 2019-05-29 14h 24m 18s TT_06696423743652852820.adc\n",
      "71 2019-05-29 14h 28m 10s TT_06696424740263417653.adc\n",
      "72 2019-05-29 14h 32m 37s TT_06696425889904660443.adc\n",
      "73 2019-05-29 14h 37m 14s TT_06696427076611716359.adc\n",
      "74 2019-05-29 14h 45m 14s TT_06696429139540690665.adc\n",
      "75 2019-05-29 14h 50m 20s TT_06696430451318025566.adc\n",
      "76 2019-05-29 14h 54m 54s TT_06696431630251167038.adc\n",
      "77 2019-05-29 14h 57m 40s TT_06696432345625511208.adc\n",
      "78 2019-05-29 14h 59m 45s TT_06696432880395328452.adc\n",
      "79 2019-05-29 15h 01m 57s TT_06696433446132071778.adc\n",
      "80 2019-05-29 15h 07m 24s TT_06696434833801941826.adc\n",
      "81 2019-05-29 15h 17m 30s TT_06696437439036956970.adc\n",
      "82 2019-05-29 15h 31m 17s TT_06696440987104719837.adc\n",
      "83 2019-05-29 15h 33m 31s TT_06696441563371634089.adc\n",
      "84 2019-05-29 15h 37m 05s TT_06696442483015926095.adc\n",
      "85 2019-05-29 15h 38m 34s TT_06696442866086540158.adc\n",
      "86 2019-05-29 15h 41m 59s TT_06696443748450280557.adc\n",
      "87 2019-05-29 15h 45m 13s TT_06696444579145241615.adc\n",
      "88 2019-05-29 15h 46m 39s TT_06696444950275762099.adc\n",
      "89 2019-05-29 15h 48m 22s TT_06696445391672382033.adc\n",
      "90 2019-05-29 15h 51m 11s TT_06696446118084869347.adc\n",
      "91 2019-05-29 15h 52m 27s TT_06696446441669784597.adc\n",
      "92 2019-05-29 15h 55m 18s TT_06696447177058810160.adc\n",
      "93 2019-05-29 15h 58m 26s TT_06696447987051903899.adc\n",
      "94 2019-05-29 16h 09m 03s TT_06696450723178404731.adc\n",
      "95 2019-05-29 16h 10m 32s TT_06696451102855948571.adc\n",
      "96 2019-05-29 16h 13m 07s TT_06696451770684709476.adc\n",
      "97 2019-05-29 16h 15m 14s TT_06696452316836259388.adc\n",
      "98 2019-05-29 16h 16m 50s TT_06696452726879423610.adc\n",
      "99 2019-05-29 16h 18m 41s TT_06696453204568762072.adc\n",
      "100 2019-05-29 16h 19m 56s TT_06696453526736325671.adc\n",
      "101 2019-05-29 16h 21m 04s TT_06696453817507486307.adc\n",
      "102 2019-05-29 16h 22m 57s TT_06696454304559911505.adc\n",
      "103 2019-05-29 16h 25m 20s TT_06696454917842235543.adc\n",
      "104 2019-05-29 16h 27m 38s TT_06696455511539385664.adc\n",
      "105 2019-05-29 16h 29m 23s TT_06696455959722132041.adc\n",
      "106 2019-05-29 16h 35m 03s TT_06696457422382677530.adc\n",
      "107 2019-05-29 16h 37m 40s TT_06696458097985409058.adc\n",
      "108 2019-05-29 16h 40m 04s TT_06696458712427373035.adc\n",
      "109 2019-05-29 16h 42m 52s TT_06696459434373080191.adc\n",
      "110 2019-05-29 16h 49m 49s TT_06696461235865811470.adc\n",
      "111 2019-05-29 16h 53m 33s TT_06696462196742113372.adc\n",
      "112 2019-05-29 16h 54m 57s TT_06696462558123009193.adc\n",
      "113 2019-05-29 16h 56m 12s TT_06696462881579093379.adc\n",
      "114 2019-05-29 16h 57m 17s TT_06696463159164625653.adc\n",
      "115 2019-05-29 16h 58m 21s TT_06696463436836059228.adc\n",
      "116 2019-05-29 17h 15m 42s TT_06696467906551624208.adc\n",
      "117 2019-05-29 17h 18m 50s TT_06696468713881848757.adc\n",
      "118 2019-05-29 17h 26m 24s TT_06696470662478201801.adc\n",
      "119 2019-05-29 17h 28m 58s TT_06696471324809390982.adc\n",
      "\"2019-05-29_Leland/\" \t\t \"2019-05-29 17h 28m 58s TT_06696471324809390982.adc\"\n"
     ]
    }
   ],
   "source": [
    "folders = ['2019-05-28_Leland/', '2019-05-29_Leland/']\n",
    "mg.Magopter._FOLDER_STRUCTURE = '/Data/external/magnum/'\n",
    "files = []\n",
    "file_folders = []\n",
    "for folder1 in folders:\n",
    "\n",
    "    os.chdir(mg.Magopter.get_data_path() + folder1)\n",
    "    files.extend(glob.glob('*.adc'))\n",
    "    file_folders.extend([folder1] * len(glob.glob('*.adc')))\n",
    "files.sort()\n",
    "\n",
    "# for i, f in enumerate(files):\n",
    "#     print(i, f)\n",
    "\n",
    "# file = files[286]\n",
    "# adc_file = files[285]\n",
    "# ts_file = files[284]\n",
    "adc_file = files[-1]\n",
    "folder = folders[-1]\n",
    "print('\"{}\" \\t\\t \"{}\"'.format(folder, adc_file))\n",
    "\n",
    "\n",
    "mp = lp.MagnumProbes()\n",
    "probe_S = mp.probe_s\n",
    "probe_L = mp.probe_l"
   ]
  },
  {
   "cell_type": "code",
   "execution_count": 141,
   "metadata": {},
   "outputs": [
    {
     "name": "stdout",
     "output_type": "stream",
     "text": [
      "Start Time:  17:28:48\n",
      "End Time:  17:29:28\n",
      "Beam Down Timestamp:  6696471324787694560 1559143728.76\n",
      "Regular Timestamp:  6696471324809390982 1559143728.7650516\n"
     ]
    },
    {
     "name": "stderr",
     "output_type": "stream",
     "text": [
      "/home/jleland/Coding/Environments/python3.6/lib/python3.6/site-packages/scipy/signal/_arraytools.py:45: FutureWarning: Using a non-tuple sequence for multidimensional indexing is deprecated; use `arr[tuple(seq)]` instead of `arr[seq]`. In the future this will be interpreted as an array index, `arr[np.array(seq)]`, which will result either in an error or a different result.\n",
      "  b = a[a_slice]\n"
     ]
    },
    {
     "name": "stdout",
     "output_type": "stream",
     "text": [
      "0: 1998, 1: 1998\n"
     ]
    }
   ],
   "source": [
    "dsr = 10\n",
    "\n",
    "# Create magopter object\n",
    "magopter = mg.Magopter(folder, adc_file, shunt_resistor=10.0, cabling_resistance=6)\n",
    "magopter._VOLTAGE_CHANNEL = 3\n",
    "magopter._PROBE_CHANNEL_3 = 4\n",
    "magopter._PROBE_CHANNEL_4 = 5\n",
    "magopter.prepare(down_sampling_rate=dsr, roi_b_plasma=True, filter_arcs_fl=False, crit_freq=None, crit_ampl=None)\n",
    "\n",
    "print('0: {}, 1: {}'.format(len(magopter.iv_arrs[0]), len(magopter.iv_arrs[1])))\n",
    "\n"
   ]
  },
  {
   "cell_type": "code",
   "execution_count": 4,
   "metadata": {},
   "outputs": [],
   "source": [
    "# Get values for TS measurements, depending on whether Magnum database is available.\n",
    "magnum_access_fl = magopter.ts_temp is not None\n",
    "if magnum_access_fl:\n",
    "    temps = [np.max(temp) / nrm.ELEM_CHARGE for temp in magopter.ts_temp[mdb.DATA]]\n",
    "    denss = [np.max(dens) for dens in magopter.ts_dens[mdb.DATA]]\n",
    "    T_e_ts = np.mean(temps)\n",
    "    d_T_e_ts = np.std(temps) / np.sqrt(len(temps))\n",
    "    n_e_ts = np.mean(denss)\n",
    "    d_n_e_ts = np.std(denss) / np.sqrt(len(denss))\n",
    "else:\n",
    "    T_e_ts = 1.12\n",
    "    d_T_e_ts = 0.01\n",
    "    n_e_ts = 4.44e20\n",
    "    d_n_e_ts = 0.01e20\n",
    "#     T_e_ts = 2.24\n",
    "#     d_T_e_ts = 0.01\n",
    "#     n_e_ts = 1.14e19\n",
    "#     d_n_e_ts = 0.01e19\n",
    "#     T_e_ts = 1.61\n",
    "#     d_T_e_ts = 0.01\n",
    "#     n_e_ts = 1.4e20\n",
    "#     d_n_e_ts = 0.1e20"
   ]
  },
  {
   "cell_type": "code",
   "execution_count": 6,
   "metadata": {},
   "outputs": [
    {
     "name": "stdout",
     "output_type": "stream",
     "text": [
      "[]\n"
     ]
    }
   ],
   "source": [
    "print(magopter.arcs)"
   ]
  },
  {
   "cell_type": "code",
   "execution_count": 30,
   "metadata": {},
   "outputs": [],
   "source": [
    "fit_dfs = magopter.fit(load_fl=True)"
   ]
  },
  {
   "cell_type": "markdown",
   "metadata": {},
   "source": [
    "**Xarray dataset creation + plotting**"
   ]
  },
  {
   "cell_type": "code",
   "execution_count": 52,
   "metadata": {},
   "outputs": [
    {
     "name": "stdout",
     "output_type": "stream",
     "text": [
      "1998\n",
      "500\n"
     ]
    }
   ],
   "source": [
    "# print length of the 0th probes (probe S) number of sweeps\n",
    "print(len(magopter.iv_arrs[1]))\n",
    "\n",
    "# Create relative t array by subtracting the first timestep value from the first time array \n",
    "first_time_arr = magopter.iv_arrs[1][0]['t']\n",
    "relative_t = np.zeros(len(first_time_arr))\n",
    "\n",
    "sweep_length = np.shape(relative_t)[0] // 2\n",
    "print(sweep_length)\n",
    "# create a list of datasets for each sweep\n",
    "probe_designations = ['S', 'L']\n",
    "ds_probes = []\n",
    "\n",
    "for i in range(len(magopter.iv_arrs)):\n",
    "    ds_list = []\n",
    "    for j, iv in enumerate(magopter.iv_arrs[i]):\n",
    "        if j % 2 == 0:\n",
    "            ds = xr.Dataset({'voltage': (['time'], iv['V'][:sweep_length]),\n",
    "                             'current': (['time'], iv['I'][:sweep_length]),\n",
    "                             'shot_time': (['time'], iv['t'][:sweep_length]),\n",
    "                             'start_time': iv['t'][0]},\n",
    "                            coords={'time': relative_t[:sweep_length], 'direction': 'up', 'probe':probe_designations[i]})\n",
    "        else:\n",
    "            ds = xr.Dataset({'voltage': (['time'], np.flip(iv['V'][:sweep_length])),\n",
    "                             'current': (['time'], np.flip(iv['I'][:sweep_length])),\n",
    "                             'shot_time': (['time'], np.flip(iv['t'][:sweep_length])),\n",
    "                             'start_time': iv['t'][0]},\n",
    "                            coords={'time': relative_t[:sweep_length], 'direction': 'down', 'probe':probe_designations[i]})\n",
    "        ds_list.append(ds)\n",
    "\n",
    "    # # Separate into up and down sweeps then concat along sweep direction as an axis\n",
    "    print(len(ds_list[::2]), len(ds_list[1::2]))\n",
    "    ds_ups = xr.concat(ds_list[::2], 'sweep')\n",
    "    ds_downs = xr.concat(ds_list[1::2], 'sweep')\n",
    "\n",
    "    direction = xr.DataArray(np.array(['up', 'down']), dims=['direction'], name='direction')\n",
    "    ds_probes.append(xr.concat([ds_ups, ds_downs], dim=direction))\n",
    "\n",
    "probe = xr.DataArray(np.array(probe_designations), dims=['probe'], name='probe')\n",
    "ds_full = xr.concat(ds_probes, dim=probe)\n",
    "\n",
    "ds_full = ds_full.sel(probe = 'S')\n",
    "\n",
    "manual_start = 0\n",
    "manual_end = 750\n",
    "if not magnum_access_fl:\n",
    "    ds_full.max(dim='time').mean('direction')['current'].plot.line(x='sweep')\n",
    "    ds_full.max(dim='time').mean('direction').isel(sweep=slice(manual_start,manual_end))['current'].plot.line(x='sweep')\n",
    "\n",
    "    # Choose only the IVs in the static section\n",
    "    ds_full = ds_full.isel(sweep=slice(manual_start,manual_end))\n",
    "\n",
    "# Average across each sweep direction\n",
    "sweep_avg_up = ds_full.sel(direction = 'up').mean('sweep')\n",
    "sweep_avg_dn = ds_full.sel(direction = 'down').mean('sweep')\n",
    "\n",
    "# Add in standard deviation of each bin as a new data variable \n",
    "sweep_avg_up = sweep_avg_up.assign({'d_current': ds_full.sel(direction = 'up').std('sweep')['current']})\n",
    "sweep_avg_dn = sweep_avg_dn.assign({'d_current': ds_full.sel(direction = 'down').std('sweep')['current']})\n",
    "\n",
    "print(ds_full)\n",
    "relative_t = first_time_arr - first_time_arr[0]"
   ]
  },
  {
   "cell_type": "code",
   "execution_count": 53,
   "metadata": {},
   "outputs": [
    {
     "name": "stdout",
     "output_type": "stream",
     "text": [
      "999 999\n",
      "999 999\n",
      "<xarray.Dataset>\n",
      "Dimensions:     (direction: 2, sweep: 750, time: 500)\n",
      "Coordinates:\n",
      "  * time        (time) float64 0.0 1e-05 2e-05 3e-05 ... 0.00497 0.00498 0.00499\n",
      "  * direction   (direction) <U4 'up' 'down'\n",
      "    probe       <U1 'S'\n",
      "Dimensions without coordinates: sweep\n",
      "Data variables:\n",
      "    voltage     (direction, sweep, time) float64 -82.2 -83.35 ... -1.72 -1.757\n",
      "    current     (direction, sweep, time) float64 -0.7797 -0.8003 ... 0.7366\n",
      "    shot_time   (direction, sweep, time) float64 1.004 1.004 ... 8.499 8.499\n",
      "    start_time  (direction, sweep) float64 1.004 1.014 1.024 ... 8.489 8.499\n"
     ]
    }
   ],
   "source": [
    "# create a list of datasets for each sweep\n",
    "probe_designations = ['S', 'L']\n",
    "ds_probes = []\n",
    "\n",
    "for i in range(len(magopter.iv_arrs)):\n",
    "    ds_list = []\n",
    "    for j, iv in enumerate(magopter.iv_arrs[i]):\n",
    "        if j % 2 == 0:\n",
    "            ds = xr.Dataset({'voltage': (['time'], iv['V'][:sweep_length]),\n",
    "                             'current': (['time'], iv['I'][:sweep_length]),\n",
    "                             'shot_time': (['time'], iv['t'][:sweep_length]),\n",
    "                             'start_time': iv['t'][0]},\n",
    "                            coords={'time': relative_t[:sweep_length], 'direction': 'up', 'probe':probe_designations[i]})\n",
    "        else:\n",
    "            ds = xr.Dataset({'voltage': (['time'], np.flip(iv['V'][:sweep_length])),\n",
    "                             'current': (['time'], np.flip(iv['I'][:sweep_length])),\n",
    "                             'shot_time': (['time'], np.flip(iv['t'][:sweep_length])),\n",
    "                             'start_time': iv['t'][0]},\n",
    "                            coords={'time': relative_t[:sweep_length], 'direction': 'down', 'probe':probe_designations[i]})\n",
    "        ds_list.append(ds)\n",
    "\n",
    "    # # Separate into up and down sweeps then concat along sweep direction as an axis\n",
    "    print(len(ds_list[::2]), len(ds_list[1::2]))\n",
    "    ds_ups = xr.concat(ds_list[::2], 'sweep')\n",
    "    ds_downs = xr.concat(ds_list[1::2], 'sweep')\n",
    "\n",
    "    direction = xr.DataArray(np.array(['up', 'down']), dims=['direction'], name='direction')\n",
    "    ds_probes.append(xr.concat([ds_ups, ds_downs], dim=direction))\n",
    "\n",
    "probe = xr.DataArray(np.array(probe_designations), dims=['probe'], name='probe')\n",
    "ds_full = xr.concat(ds_probes, dim=probe)\n",
    "\n",
    "ds_full = ds_full.sel(probe = 'S')\n",
    "\n",
    "manual_start = 0\n",
    "manual_end = 750\n",
    "if not magnum_access_fl:\n",
    "    ds_full.max(dim='time').mean('direction')['current'].plot.line(x='sweep')\n",
    "    ds_full.max(dim='time').mean('direction').isel(sweep=slice(manual_start,manual_end))['current'].plot.line(x='sweep')\n",
    "\n",
    "    # Choose only the IVs in the static section\n",
    "    ds_full = ds_full.isel(sweep=slice(manual_start,manual_end))\n",
    "\n",
    "# Average across each sweep direction\n",
    "sweep_avg_up = ds_full.sel(direction = 'up').mean('sweep')\n",
    "sweep_avg_dn = ds_full.sel(direction = 'down').mean('sweep')\n",
    "\n",
    "# Add in standard deviation of each bin as a new data variable \n",
    "sweep_avg_up = sweep_avg_up.assign({'d_current': ds_full.sel(direction = 'up').std('sweep')['current']})\n",
    "sweep_avg_dn = sweep_avg_dn.assign({'d_current': ds_full.sel(direction = 'down').std('sweep')['current']})\n",
    "\n",
    "print(ds_full)"
   ]
  },
  {
   "cell_type": "code",
   "execution_count": 54,
   "metadata": {},
   "outputs": [],
   "source": [
    "plt.figure()\n",
    "plt.errorbar(sweep_avg_up['time'], sweep_avg_up['current'], yerr=sweep_avg_up['d_current'], \n",
    "             ecolor='silver')\n",
    "\n",
    "plt.figure()\n",
    "plt.errorbar(sweep_avg_dn['time'], sweep_avg_dn['current'], yerr=sweep_avg_dn['d_current'], \n",
    "             ecolor='silver')\n",
    "plt.show()"
   ]
  },
  {
   "cell_type": "code",
   "execution_count": 55,
   "metadata": {},
   "outputs": [
    {
     "name": "stdout",
     "output_type": "stream",
     "text": [
      "<xarray.Dataset>\n",
      "Dimensions:     (time: 434)\n",
      "Coordinates:\n",
      "  * time        (time) float64 0.0 1e-05 2e-05 3e-05 ... 0.00431 0.00432 0.00433\n",
      "    probe       <U1 'S'\n",
      "Data variables:\n",
      "    voltage     (time) float64 -82.12 -82.01 -81.79 ... -3.33 -3.315 -3.298\n",
      "    current     (time) float64 -0.8166 -0.8153 -0.8149 ... -0.02187 -0.009908\n",
      "    shot_time   (time) float64 4.753 4.753 4.753 4.753 ... 4.753 4.753 4.753\n",
      "    start_time  (time) float64 4.751 4.751 4.751 4.751 ... 4.751 4.751 4.751\n",
      "    d_current   (time) float64 0.02031 0.02521 0.02605 ... 0.01056 0.0106\n"
     ]
    },
    {
     "data": {
      "text/plain": [
       "[<matplotlib.lines.Line2D at 0x7efdcaed71d0>]"
      ]
     },
     "execution_count": 55,
     "metadata": {},
     "output_type": "execute_result"
    }
   ],
   "source": [
    "sweep_avg_updn = ds_full.mean('direction').mean('sweep').assign({'d_current': ds_full.std('direction').std('sweep')['current']})\n",
    "sweep_avg_updn = sweep_avg_updn.where(sweep_avg_updn.current <= 0, drop=True)\n",
    "print(sweep_avg_updn)\n",
    "\n",
    "sweep_avg_updn['current'].plot.line()"
   ]
  },
  {
   "cell_type": "code",
   "execution_count": 43,
   "metadata": {},
   "outputs": [],
   "source": [
    "sweep_avg_updn.to_netcdf('~/Data/highdens_test.nc')"
   ]
  },
  {
   "cell_type": "code",
   "execution_count": 2,
   "metadata": {},
   "outputs": [],
   "source": [
    "sweep_avg_updn = xr.open_dataset('~/Data/highdens_test.nc')"
   ]
  },
  {
   "cell_type": "code",
   "execution_count": 9,
   "metadata": {},
   "outputs": [],
   "source": [
    "plt.figure()\n",
    "plt.plot(sweep_avg_up['voltage'], sweep_avg_up['current'], color='orange')\n",
    "plt.plot(sweep_avg_dn['voltage'], sweep_avg_dn['current'], color='yellow')\n",
    "plt.errorbar(sweep_avg_updn['voltage'], sweep_avg_updn['current'], yerr=sweep_avg_updn['d_current'], ecolor='silver')\n",
    "plt.show()"
   ]
  },
  {
   "cell_type": "markdown",
   "metadata": {},
   "source": [
    "# Multi-fitting"
   ]
  },
  {
   "cell_type": "code",
   "execution_count": 135,
   "metadata": {},
   "outputs": [
    {
     "data": {
      "text/plain": [
       "(-0.25, 1)"
      ]
     },
     "execution_count": 135,
     "metadata": {},
     "output_type": "execute_result"
    }
   ],
   "source": [
    "# concatenate the up and down sweeps together to cancel the (small) capacitance effect\n",
    "\n",
    "# iv_data = ivd.IVData(np.concatenate([sweep_avg_up.where(sweep_avg_up.current < 0, drop=True)['voltage'].data, np.flip(sweep_avg_dn.where(sweep_avg_dn.current < 0)['voltage'].data)]), \n",
    "#                      -np.concatenate([sweep_avg_up.where(sweep_avg_up.current < 0)['current'].data, np.flip(sweep_avg_dn.where(sweep_avg_dn.current < 0)['current'].data)]),\n",
    "#                      relative_t, \n",
    "#                      sigma=np.concatenate([sweep_avg_up.where(sweep_avg_up.current < 0)['d_current'].data, np.flip(sweep_avg_dn.where(sweep_avg_dn.current < 0)['d_current'].data)]), \n",
    "#                      estimate_error_fl=False)\n",
    "\n",
    "iv_data = ivd.IVData(sweep_avg_updn['voltage'].data, \n",
    "                     -sweep_avg_updn['current'].data, \n",
    "                     sweep_avg_updn['time'].data, \n",
    "                     sigma=sweep_avg_updn['d_current'].data, estimate_error_fl=False)\n",
    "\n",
    "# plt.figure()\n",
    "# plt.plot(iv_data['V'], iv_data['I'])\n",
    "\n",
    "starting_params = [0.69, 0.009, 1.12, +1]\n",
    "\n",
    "full_iv_fitter = fts.FullIVFitter()\n",
    "fit_data = full_iv_fitter.fit_iv_data(iv_data, initial_vals=starting_params)\n",
    "fit_data.plot(show_fl=False)\n",
    "# plt.errorbar(fit_data.raw_x, fit_data.raw_y, yerr=iv_data['sigma'], ecolor='silver')\n",
    "# plt.plot(fit_data.raw_x, fit_data.fit_y, color='orange', label=r'')\n",
    "# plt.plot(iv_data['V'], full_iv_fitter.fit_function(iv_data['V'], *starting_params), label='Start-param IV')\n",
    "plt.legend()\n",
    "plt.ylim([-.25, 1])\n",
    "\n",
    "# fit_data = iv_data.multi_fit(plot_fl=True)\n",
    "# fit_data_trim = iv_data_trim.multi_fit(plot_fl=True)"
   ]
  },
  {
   "cell_type": "code",
   "execution_count": 57,
   "metadata": {},
   "outputs": [],
   "source": [
    "iv_data_corrected, fit_data_corrected = iv_data.gunn_fit(plot_fl=True)"
   ]
  },
  {
   "cell_type": "code",
   "execution_count": 29,
   "metadata": {},
   "outputs": [
    {
     "ename": "RuntimeError",
     "evalue": "Optimal parameters not found: The maximum number of function evaluations is exceeded.",
     "output_type": "error",
     "traceback": [
      "\u001b[0;31m---------------------------------------------------------------------------\u001b[0m",
      "\u001b[0;31mRuntimeError\u001b[0m                              Traceback (most recent call last)",
      "\u001b[0;32m<ipython-input-29-78caeb382972>\u001b[0m in \u001b[0;36m<module>\u001b[0;34m()\u001b[0m\n\u001b[1;32m      1\u001b[0m \u001b[0;31m# Try multifitting with a 3-parameter fit\u001b[0m\u001b[0;34m\u001b[0m\u001b[0;34m\u001b[0m\u001b[0m\n\u001b[1;32m      2\u001b[0m \u001b[0msimple_iv_fitter\u001b[0m \u001b[0;34m=\u001b[0m \u001b[0mfts\u001b[0m\u001b[0;34m.\u001b[0m\u001b[0mSimpleIVFitter\u001b[0m\u001b[0;34m(\u001b[0m\u001b[0;34m)\u001b[0m\u001b[0;34m\u001b[0m\u001b[0m\n\u001b[0;32m----> 3\u001b[0;31m \u001b[0miv_data\u001b[0m\u001b[0;34m.\u001b[0m\u001b[0mmulti_fit\u001b[0m\u001b[0;34m(\u001b[0m\u001b[0mplot_fl\u001b[0m\u001b[0;34m=\u001b[0m\u001b[0;32mTrue\u001b[0m\u001b[0;34m,\u001b[0m \u001b[0mfitter\u001b[0m\u001b[0;34m=\u001b[0m\u001b[0msimple_iv_fitter\u001b[0m\u001b[0;34m)\u001b[0m\u001b[0;34m\u001b[0m\u001b[0m\n\u001b[0m",
      "\u001b[0;32m~/Coding/Projects/flopter/flopter/classes/ivdata.py\u001b[0m in \u001b[0;36mmulti_fit\u001b[0;34m(self, sat_region, fitter, fix_vf_fl, plot_fl, print_fl)\u001b[0m\n\u001b[1;32m    162\u001b[0m         \u001b[0;32mif\u001b[0m \u001b[0mfix_vf_fl\u001b[0m\u001b[0;34m:\u001b[0m\u001b[0;34m\u001b[0m\u001b[0m\n\u001b[1;32m    163\u001b[0m             \u001b[0msiv_f\u001b[0m\u001b[0;34m.\u001b[0m\u001b[0mset_fixed_values\u001b[0m\u001b[0;34m(\u001b[0m\u001b[0;34m{\u001b[0m\u001b[0mc\u001b[0m\u001b[0;34m.\u001b[0m\u001b[0mFLOAT_POT\u001b[0m\u001b[0;34m:\u001b[0m \u001b[0mv_f\u001b[0m\u001b[0;34m}\u001b[0m\u001b[0;34m)\u001b[0m\u001b[0;34m\u001b[0m\u001b[0m\n\u001b[0;32m--> 164\u001b[0;31m         \u001b[0msiv_f_data\u001b[0m \u001b[0;34m=\u001b[0m \u001b[0msiv_f\u001b[0m\u001b[0;34m.\u001b[0m\u001b[0mfit_iv_data\u001b[0m\u001b[0;34m(\u001b[0m\u001b[0miv_data_ss\u001b[0m\u001b[0;34m,\u001b[0m \u001b[0msigma\u001b[0m\u001b[0;34m=\u001b[0m\u001b[0miv_data_ss\u001b[0m\u001b[0;34m[\u001b[0m\u001b[0mc\u001b[0m\u001b[0;34m.\u001b[0m\u001b[0mSIGMA\u001b[0m\u001b[0;34m]\u001b[0m\u001b[0;34m)\u001b[0m\u001b[0;34m\u001b[0m\u001b[0m\n\u001b[0m\u001b[1;32m    165\u001b[0m \u001b[0;34m\u001b[0m\u001b[0m\n\u001b[1;32m    166\u001b[0m         \u001b[0;31m# Use I_sat value to fit a fixed_value 4-parameter IV fit\u001b[0m\u001b[0;34m\u001b[0m\u001b[0;34m\u001b[0m\u001b[0m\n",
      "\u001b[0;32m~/Coding/Projects/flopter/flopter/core/fitters.py\u001b[0m in \u001b[0;36mfit_iv_data\u001b[0;34m(self, iv_data, initial_vals, bounds, sigma, print_fl)\u001b[0m\n\u001b[1;32m    161\u001b[0m         \u001b[0mpotential\u001b[0m \u001b[0;34m=\u001b[0m \u001b[0miv_data\u001b[0m\u001b[0;34m[\u001b[0m\u001b[0mc\u001b[0m\u001b[0;34m.\u001b[0m\u001b[0mPOTENTIAL\u001b[0m\u001b[0;34m]\u001b[0m\u001b[0;34m\u001b[0m\u001b[0m\n\u001b[1;32m    162\u001b[0m         \u001b[0mcurrent\u001b[0m \u001b[0;34m=\u001b[0m \u001b[0miv_data\u001b[0m\u001b[0;34m[\u001b[0m\u001b[0mc\u001b[0m\u001b[0;34m.\u001b[0m\u001b[0mCURRENT\u001b[0m\u001b[0;34m]\u001b[0m\u001b[0;34m\u001b[0m\u001b[0m\n\u001b[0;32m--> 163\u001b[0;31m         \u001b[0;32mreturn\u001b[0m \u001b[0mself\u001b[0m\u001b[0;34m.\u001b[0m\u001b[0mfit\u001b[0m\u001b[0;34m(\u001b[0m\u001b[0mpotential\u001b[0m\u001b[0;34m,\u001b[0m \u001b[0mcurrent\u001b[0m\u001b[0;34m,\u001b[0m \u001b[0minitial_vals\u001b[0m\u001b[0;34m,\u001b[0m \u001b[0mbounds\u001b[0m\u001b[0;34m,\u001b[0m \u001b[0msigma\u001b[0m\u001b[0;34m=\u001b[0m\u001b[0msigma\u001b[0m\u001b[0;34m,\u001b[0m \u001b[0mprint_fl\u001b[0m\u001b[0;34m=\u001b[0m\u001b[0mprint_fl\u001b[0m\u001b[0;34m)\u001b[0m\u001b[0;34m\u001b[0m\u001b[0m\n\u001b[0m\u001b[1;32m    164\u001b[0m \u001b[0;34m\u001b[0m\u001b[0m\n\u001b[1;32m    165\u001b[0m     \u001b[0;34m@\u001b[0m\u001b[0mclassmethod\u001b[0m\u001b[0;34m\u001b[0m\u001b[0m\n",
      "\u001b[0;32m~/Coding/Projects/flopter/flopter/core/fitters.py\u001b[0m in \u001b[0;36mfit\u001b[0;34m(self, x_data, y_data, initial_vals, bounds, print_fl, sigma)\u001b[0m\n\u001b[1;32m    154\u001b[0m \u001b[0;34m\u001b[0m\u001b[0m\n\u001b[1;32m    155\u001b[0m         \u001b[0;31m# Fit the data and return an IVFitData object.\u001b[0m\u001b[0;34m\u001b[0m\u001b[0;34m\u001b[0m\u001b[0m\n\u001b[0;32m--> 156\u001b[0;31m         \u001b[0mfit_data\u001b[0m \u001b[0;34m=\u001b[0m \u001b[0msuper\u001b[0m\u001b[0;34m(\u001b[0m\u001b[0;34m)\u001b[0m\u001b[0;34m.\u001b[0m\u001b[0mfit\u001b[0m\u001b[0;34m(\u001b[0m\u001b[0mx_data\u001b[0m\u001b[0;34m,\u001b[0m \u001b[0my_data\u001b[0m\u001b[0;34m,\u001b[0m \u001b[0minitial_vals\u001b[0m\u001b[0;34m=\u001b[0m\u001b[0minitial_vals\u001b[0m\u001b[0;34m,\u001b[0m \u001b[0mbounds\u001b[0m\u001b[0;34m=\u001b[0m\u001b[0mbounds\u001b[0m\u001b[0;34m,\u001b[0m \u001b[0msigma\u001b[0m\u001b[0;34m=\u001b[0m\u001b[0msigma\u001b[0m\u001b[0;34m)\u001b[0m\u001b[0;34m\u001b[0m\u001b[0m\n\u001b[0m\u001b[1;32m    157\u001b[0m         \u001b[0;32mreturn\u001b[0m \u001b[0mIVFitData\u001b[0m\u001b[0;34m.\u001b[0m\u001b[0mfrom_fit_data\u001b[0m\u001b[0;34m(\u001b[0m\u001b[0mfit_data\u001b[0m\u001b[0;34m)\u001b[0m\u001b[0;34m\u001b[0m\u001b[0m\n\u001b[1;32m    158\u001b[0m \u001b[0;34m\u001b[0m\u001b[0m\n",
      "\u001b[0;32m~/Coding/Projects/flopter/flopter/core/fitters.py\u001b[0m in \u001b[0;36mfit\u001b[0;34m(self, x_data, y_data, initial_vals, bounds, sigma)\u001b[0m\n\u001b[1;32m     76\u001b[0m             \u001b[0;32massert\u001b[0m \u001b[0mlen\u001b[0m\u001b[0;34m(\u001b[0m\u001b[0minitial_vals\u001b[0m\u001b[0;34m)\u001b[0m \u001b[0;34m==\u001b[0m \u001b[0mlen\u001b[0m\u001b[0;34m(\u001b[0m\u001b[0;34m[\u001b[0m\u001b[0mvalue\u001b[0m \u001b[0;32mfor\u001b[0m \u001b[0mvalue\u001b[0m \u001b[0;32min\u001b[0m \u001b[0mself\u001b[0m\u001b[0;34m.\u001b[0m\u001b[0mfixed_values\u001b[0m \u001b[0;32mif\u001b[0m \u001b[0mvalue\u001b[0m \u001b[0;32mis\u001b[0m \u001b[0;32mNone\u001b[0m\u001b[0;34m]\u001b[0m\u001b[0;34m)\u001b[0m\u001b[0;34m\u001b[0m\u001b[0m\n\u001b[1;32m     77\u001b[0m \u001b[0;34m\u001b[0m\u001b[0m\n\u001b[0;32m---> 78\u001b[0;31m         \u001b[0mfit_vals\u001b[0m\u001b[0;34m,\u001b[0m \u001b[0mfit_cov\u001b[0m \u001b[0;34m=\u001b[0m \u001b[0mcurve_fit\u001b[0m\u001b[0;34m(\u001b[0m\u001b[0mself\u001b[0m\u001b[0;34m.\u001b[0m\u001b[0m_curve_fit_func\u001b[0m\u001b[0;34m,\u001b[0m \u001b[0mx_data\u001b[0m\u001b[0;34m,\u001b[0m \u001b[0my_data\u001b[0m\u001b[0;34m,\u001b[0m \u001b[0mp0\u001b[0m\u001b[0;34m=\u001b[0m\u001b[0minitial_vals\u001b[0m\u001b[0;34m,\u001b[0m \u001b[0mbounds\u001b[0m\u001b[0;34m=\u001b[0m\u001b[0mbounds\u001b[0m\u001b[0;34m,\u001b[0m \u001b[0msigma\u001b[0m\u001b[0;34m=\u001b[0m\u001b[0msigma\u001b[0m\u001b[0;34m)\u001b[0m\u001b[0;34m\u001b[0m\u001b[0m\n\u001b[0m\u001b[1;32m     79\u001b[0m         \u001b[0mfit_sterrs\u001b[0m \u001b[0;34m=\u001b[0m \u001b[0mnp\u001b[0m\u001b[0;34m.\u001b[0m\u001b[0msqrt\u001b[0m\u001b[0;34m(\u001b[0m\u001b[0mnp\u001b[0m\u001b[0;34m.\u001b[0m\u001b[0mdiag\u001b[0m\u001b[0;34m(\u001b[0m\u001b[0mfit_cov\u001b[0m\u001b[0;34m)\u001b[0m\u001b[0;34m)\u001b[0m\u001b[0;34m\u001b[0m\u001b[0m\n\u001b[1;32m     80\u001b[0m \u001b[0;34m\u001b[0m\u001b[0m\n",
      "\u001b[0;32m~/Coding/Environments/python3.6/lib/python3.6/site-packages/scipy/optimize/minpack.py\u001b[0m in \u001b[0;36mcurve_fit\u001b[0;34m(f, xdata, ydata, p0, sigma, absolute_sigma, check_finite, bounds, method, jac, **kwargs)\u001b[0m\n\u001b[1;32m    763\u001b[0m \u001b[0;34m\u001b[0m\u001b[0m\n\u001b[1;32m    764\u001b[0m         \u001b[0;32mif\u001b[0m \u001b[0;32mnot\u001b[0m \u001b[0mres\u001b[0m\u001b[0;34m.\u001b[0m\u001b[0msuccess\u001b[0m\u001b[0;34m:\u001b[0m\u001b[0;34m\u001b[0m\u001b[0m\n\u001b[0;32m--> 765\u001b[0;31m             \u001b[0;32mraise\u001b[0m \u001b[0mRuntimeError\u001b[0m\u001b[0;34m(\u001b[0m\u001b[0;34m\"Optimal parameters not found: \"\u001b[0m \u001b[0;34m+\u001b[0m \u001b[0mres\u001b[0m\u001b[0;34m.\u001b[0m\u001b[0mmessage\u001b[0m\u001b[0;34m)\u001b[0m\u001b[0;34m\u001b[0m\u001b[0m\n\u001b[0m\u001b[1;32m    766\u001b[0m \u001b[0;34m\u001b[0m\u001b[0m\n\u001b[1;32m    767\u001b[0m         \u001b[0mcost\u001b[0m \u001b[0;34m=\u001b[0m \u001b[0;36m2\u001b[0m \u001b[0;34m*\u001b[0m \u001b[0mres\u001b[0m\u001b[0;34m.\u001b[0m\u001b[0mcost\u001b[0m  \u001b[0;31m# res.cost is half sum of squares!\u001b[0m\u001b[0;34m\u001b[0m\u001b[0m\n",
      "\u001b[0;31mRuntimeError\u001b[0m: Optimal parameters not found: The maximum number of function evaluations is exceeded."
     ]
    }
   ],
   "source": [
    "# Try multifitting with a 3-parameter fit\n",
    "simple_iv_fitter = fts.SimpleIVFitter()\n",
    "iv_data.multi_fit(plot_fl=True, fitter=simple_iv_fitter)"
   ]
  },
  {
   "cell_type": "code",
   "execution_count": 12,
   "metadata": {},
   "outputs": [
    {
     "name": "stderr",
     "output_type": "stream",
     "text": [
      "/home/jleland/Coding/Environments/python3.6/lib/python3.6/site-packages/ipykernel_launcher.py:1: RuntimeWarning: invalid value encountered in log\n",
      "  \"\"\"Entry point for launching an IPython kernel.\n"
     ]
    }
   ],
   "source": [
    "log_current = np.log(-iv_data['I'] + 0.8)\n",
    "\n",
    "fig, (ax1, ax2) = plt.subplots(2, 1, figsize=(10,6))\n",
    "ax1.errorbar(iv_data['V'], log_current, yerr=iv_data['sigma'], ecolor='silver', zorder=-2)\n",
    "log_ssroi_1 = np.where((iv_data['V'] > -18) & (iv_data['V'] < -11))\n",
    "log_ssroi_2 = np.where((iv_data['V'] > -40) & (iv_data['V'] < -22))\n",
    "ax1.plot(iv_data['V'][log_ssroi_1], log_current[log_ssroi_1], color='orange')\n",
    "ax1.plot(iv_data['V'][log_ssroi_2], log_current[log_ssroi_2], color='red')\n",
    "ax11 = ax1.twinx()\n",
    "ax11.plot(iv_data['V'], iv_data['I'], color='gray', zorder=-10)\n",
    "\n",
    "sl_fitter = fts.StraightLineFitter()\n",
    "fit_log_roi_1 = sl_fitter.fit(iv_data['V'][log_ssroi_1], log_current[log_ssroi_1])\n",
    "fit_log_roi_2 = sl_fitter.fit(iv_data['V'][log_ssroi_2], log_current[log_ssroi_2])\n",
    "\n",
    "\n",
    "ax2.plot(*fit_log_roi_1.get_raw_plottables(), color='silver')\n",
    "ax2.plot(*fit_log_roi_1.get_fit_plottables(), label=r'T$_e$ = {:.2g} eV'.format(1/(fit_log_roi_1.get_param('m'))))\n",
    "ax2.plot(*fit_log_roi_2.get_raw_plottables(), color='silver')\n",
    "ax2.plot(*fit_log_roi_2.get_fit_plottables(), label=r'T$_e$ = {:.2g} eV'.format(1/(fit_log_roi_2.get_param('m'))))\n",
    "ax2.legend()\n",
    "\n",
    "plt.tight_layout()\n",
    "plt.show()"
   ]
  },
  {
   "cell_type": "code",
   "execution_count": 50,
   "metadata": {},
   "outputs": [],
   "source": [
    "plt.figure()\n",
    "plt.plot(*fit_data.get_fit_plottables(), label=r'$T_e$ = {:.3g} eV'.format(fit_data.get_temp()), color='r', zorder=10)\n",
    "plt.errorbar(iv_data['V'], iv_data['I'], yerr=iv_data[c.SIGMA], ecolor='silver', label='Raw')\n",
    "plt.legend()\n",
    "plt.show()"
   ]
  },
  {
   "cell_type": "code",
   "execution_count": 49,
   "metadata": {},
   "outputs": [
    {
     "ename": "RuntimeError",
     "evalue": "Optimal parameters not found: The maximum number of function evaluations is exceeded.",
     "output_type": "error",
     "traceback": [
      "\u001b[0;31m---------------------------------------------------------------------------\u001b[0m",
      "\u001b[0;31mRuntimeError\u001b[0m                              Traceback (most recent call last)",
      "\u001b[0;32m<ipython-input-49-c87fd152cdb9>\u001b[0m in \u001b[0;36m<module>\u001b[0;34m()\u001b[0m\n\u001b[1;32m      3\u001b[0m \u001b[0mplt\u001b[0m\u001b[0;34m.\u001b[0m\u001b[0mfigure\u001b[0m\u001b[0;34m(\u001b[0m\u001b[0;34m)\u001b[0m\u001b[0;34m\u001b[0m\u001b[0m\n\u001b[1;32m      4\u001b[0m \u001b[0mplt\u001b[0m\u001b[0;34m.\u001b[0m\u001b[0mplot\u001b[0m\u001b[0;34m(\u001b[0m\u001b[0miv_data_trim\u001b[0m\u001b[0;34m[\u001b[0m\u001b[0;34m'V'\u001b[0m\u001b[0;34m]\u001b[0m\u001b[0;34m,\u001b[0m \u001b[0miv_data_trim\u001b[0m\u001b[0;34m[\u001b[0m\u001b[0;34m'I'\u001b[0m\u001b[0;34m]\u001b[0m\u001b[0;34m)\u001b[0m\u001b[0;34m\u001b[0m\u001b[0m\n\u001b[0;32m----> 5\u001b[0;31m \u001b[0mfit_data_trim\u001b[0m \u001b[0;34m=\u001b[0m \u001b[0miv_data_trim\u001b[0m\u001b[0;34m.\u001b[0m\u001b[0mmulti_fit\u001b[0m\u001b[0;34m(\u001b[0m\u001b[0;34m)\u001b[0m\u001b[0;34m\u001b[0m\u001b[0m\n\u001b[0m\u001b[1;32m      6\u001b[0m \u001b[0;34m\u001b[0m\u001b[0m\n\u001b[1;32m      7\u001b[0m \u001b[0mplt\u001b[0m\u001b[0;34m.\u001b[0m\u001b[0mfigure\u001b[0m\u001b[0;34m(\u001b[0m\u001b[0;34m)\u001b[0m\u001b[0;34m\u001b[0m\u001b[0m\n",
      "\u001b[0;32m~/Coding/Projects/flopter/flopter/classes/ivdata.py\u001b[0m in \u001b[0;36mmulti_fit\u001b[0;34m(self, sat_region, fitter, fix_vf_fl, plot_fl, print_fl)\u001b[0m\n\u001b[1;32m    163\u001b[0m         \u001b[0;32mif\u001b[0m \u001b[0mfix_vf_fl\u001b[0m\u001b[0;34m:\u001b[0m\u001b[0;34m\u001b[0m\u001b[0m\n\u001b[1;32m    164\u001b[0m             \u001b[0msiv_f\u001b[0m\u001b[0;34m.\u001b[0m\u001b[0mset_fixed_values\u001b[0m\u001b[0;34m(\u001b[0m\u001b[0;34m{\u001b[0m\u001b[0mc\u001b[0m\u001b[0;34m.\u001b[0m\u001b[0mFLOAT_POT\u001b[0m\u001b[0;34m:\u001b[0m \u001b[0mv_f\u001b[0m\u001b[0;34m}\u001b[0m\u001b[0;34m)\u001b[0m\u001b[0;34m\u001b[0m\u001b[0m\n\u001b[0;32m--> 165\u001b[0;31m         \u001b[0msiv_f_data\u001b[0m \u001b[0;34m=\u001b[0m \u001b[0msiv_f\u001b[0m\u001b[0;34m.\u001b[0m\u001b[0mfit_iv_data\u001b[0m\u001b[0;34m(\u001b[0m\u001b[0miv_data_ss\u001b[0m\u001b[0;34m,\u001b[0m \u001b[0msigma\u001b[0m\u001b[0;34m=\u001b[0m\u001b[0miv_data_ss\u001b[0m\u001b[0;34m[\u001b[0m\u001b[0mc\u001b[0m\u001b[0;34m.\u001b[0m\u001b[0mSIGMA\u001b[0m\u001b[0;34m]\u001b[0m\u001b[0;34m)\u001b[0m\u001b[0;34m\u001b[0m\u001b[0m\n\u001b[0m\u001b[1;32m    166\u001b[0m \u001b[0;34m\u001b[0m\u001b[0m\n\u001b[1;32m    167\u001b[0m         \u001b[0;31m# Use I_sat value to fit a fixed_value 4-parameter IV fit\u001b[0m\u001b[0;34m\u001b[0m\u001b[0;34m\u001b[0m\u001b[0m\n",
      "\u001b[0;32m~/Coding/Projects/flopter/flopter/core/fitters.py\u001b[0m in \u001b[0;36mfit_iv_data\u001b[0;34m(self, iv_data, initial_vals, bounds, sigma, print_fl)\u001b[0m\n\u001b[1;32m    161\u001b[0m         \u001b[0mpotential\u001b[0m \u001b[0;34m=\u001b[0m \u001b[0miv_data\u001b[0m\u001b[0;34m[\u001b[0m\u001b[0mc\u001b[0m\u001b[0;34m.\u001b[0m\u001b[0mPOTENTIAL\u001b[0m\u001b[0;34m]\u001b[0m\u001b[0;34m\u001b[0m\u001b[0m\n\u001b[1;32m    162\u001b[0m         \u001b[0mcurrent\u001b[0m \u001b[0;34m=\u001b[0m \u001b[0miv_data\u001b[0m\u001b[0;34m[\u001b[0m\u001b[0mc\u001b[0m\u001b[0;34m.\u001b[0m\u001b[0mCURRENT\u001b[0m\u001b[0;34m]\u001b[0m\u001b[0;34m\u001b[0m\u001b[0m\n\u001b[0;32m--> 163\u001b[0;31m         \u001b[0;32mreturn\u001b[0m \u001b[0mself\u001b[0m\u001b[0;34m.\u001b[0m\u001b[0mfit\u001b[0m\u001b[0;34m(\u001b[0m\u001b[0mpotential\u001b[0m\u001b[0;34m,\u001b[0m \u001b[0mcurrent\u001b[0m\u001b[0;34m,\u001b[0m \u001b[0minitial_vals\u001b[0m\u001b[0;34m,\u001b[0m \u001b[0mbounds\u001b[0m\u001b[0;34m,\u001b[0m \u001b[0msigma\u001b[0m\u001b[0;34m=\u001b[0m\u001b[0msigma\u001b[0m\u001b[0;34m,\u001b[0m \u001b[0mprint_fl\u001b[0m\u001b[0;34m=\u001b[0m\u001b[0mprint_fl\u001b[0m\u001b[0;34m)\u001b[0m\u001b[0;34m\u001b[0m\u001b[0m\n\u001b[0m\u001b[1;32m    164\u001b[0m \u001b[0;34m\u001b[0m\u001b[0m\n\u001b[1;32m    165\u001b[0m     \u001b[0;34m@\u001b[0m\u001b[0mclassmethod\u001b[0m\u001b[0;34m\u001b[0m\u001b[0m\n",
      "\u001b[0;32m~/Coding/Projects/flopter/flopter/core/fitters.py\u001b[0m in \u001b[0;36mfit\u001b[0;34m(self, x_data, y_data, initial_vals, bounds, print_fl, sigma)\u001b[0m\n\u001b[1;32m    154\u001b[0m \u001b[0;34m\u001b[0m\u001b[0m\n\u001b[1;32m    155\u001b[0m         \u001b[0;31m# Fit the data and return an IVFitData object.\u001b[0m\u001b[0;34m\u001b[0m\u001b[0;34m\u001b[0m\u001b[0m\n\u001b[0;32m--> 156\u001b[0;31m         \u001b[0mfit_data\u001b[0m \u001b[0;34m=\u001b[0m \u001b[0msuper\u001b[0m\u001b[0;34m(\u001b[0m\u001b[0;34m)\u001b[0m\u001b[0;34m.\u001b[0m\u001b[0mfit\u001b[0m\u001b[0;34m(\u001b[0m\u001b[0mx_data\u001b[0m\u001b[0;34m,\u001b[0m \u001b[0my_data\u001b[0m\u001b[0;34m,\u001b[0m \u001b[0minitial_vals\u001b[0m\u001b[0;34m=\u001b[0m\u001b[0minitial_vals\u001b[0m\u001b[0;34m,\u001b[0m \u001b[0mbounds\u001b[0m\u001b[0;34m=\u001b[0m\u001b[0mbounds\u001b[0m\u001b[0;34m,\u001b[0m \u001b[0msigma\u001b[0m\u001b[0;34m=\u001b[0m\u001b[0msigma\u001b[0m\u001b[0;34m)\u001b[0m\u001b[0;34m\u001b[0m\u001b[0m\n\u001b[0m\u001b[1;32m    157\u001b[0m         \u001b[0;32mreturn\u001b[0m \u001b[0mIVFitData\u001b[0m\u001b[0;34m.\u001b[0m\u001b[0mfrom_fit_data\u001b[0m\u001b[0;34m(\u001b[0m\u001b[0mfit_data\u001b[0m\u001b[0;34m)\u001b[0m\u001b[0;34m\u001b[0m\u001b[0m\n\u001b[1;32m    158\u001b[0m \u001b[0;34m\u001b[0m\u001b[0m\n",
      "\u001b[0;32m~/Coding/Projects/flopter/flopter/core/fitters.py\u001b[0m in \u001b[0;36mfit\u001b[0;34m(self, x_data, y_data, initial_vals, bounds, sigma)\u001b[0m\n\u001b[1;32m     76\u001b[0m             \u001b[0;32massert\u001b[0m \u001b[0mlen\u001b[0m\u001b[0;34m(\u001b[0m\u001b[0minitial_vals\u001b[0m\u001b[0;34m)\u001b[0m \u001b[0;34m==\u001b[0m \u001b[0mlen\u001b[0m\u001b[0;34m(\u001b[0m\u001b[0;34m[\u001b[0m\u001b[0mvalue\u001b[0m \u001b[0;32mfor\u001b[0m \u001b[0mvalue\u001b[0m \u001b[0;32min\u001b[0m \u001b[0mself\u001b[0m\u001b[0;34m.\u001b[0m\u001b[0mfixed_values\u001b[0m \u001b[0;32mif\u001b[0m \u001b[0mvalue\u001b[0m \u001b[0;32mis\u001b[0m \u001b[0;32mNone\u001b[0m\u001b[0;34m]\u001b[0m\u001b[0;34m)\u001b[0m\u001b[0;34m\u001b[0m\u001b[0m\n\u001b[1;32m     77\u001b[0m \u001b[0;34m\u001b[0m\u001b[0m\n\u001b[0;32m---> 78\u001b[0;31m         \u001b[0mfit_vals\u001b[0m\u001b[0;34m,\u001b[0m \u001b[0mfit_cov\u001b[0m \u001b[0;34m=\u001b[0m \u001b[0mcurve_fit\u001b[0m\u001b[0;34m(\u001b[0m\u001b[0mself\u001b[0m\u001b[0;34m.\u001b[0m\u001b[0m_curve_fit_func\u001b[0m\u001b[0;34m,\u001b[0m \u001b[0mx_data\u001b[0m\u001b[0;34m,\u001b[0m \u001b[0my_data\u001b[0m\u001b[0;34m,\u001b[0m \u001b[0mp0\u001b[0m\u001b[0;34m=\u001b[0m\u001b[0minitial_vals\u001b[0m\u001b[0;34m,\u001b[0m \u001b[0mbounds\u001b[0m\u001b[0;34m=\u001b[0m\u001b[0mbounds\u001b[0m\u001b[0;34m,\u001b[0m \u001b[0msigma\u001b[0m\u001b[0;34m=\u001b[0m\u001b[0msigma\u001b[0m\u001b[0;34m)\u001b[0m\u001b[0;34m\u001b[0m\u001b[0m\n\u001b[0m\u001b[1;32m     79\u001b[0m         \u001b[0mfit_sterrs\u001b[0m \u001b[0;34m=\u001b[0m \u001b[0mnp\u001b[0m\u001b[0;34m.\u001b[0m\u001b[0msqrt\u001b[0m\u001b[0;34m(\u001b[0m\u001b[0mnp\u001b[0m\u001b[0;34m.\u001b[0m\u001b[0mdiag\u001b[0m\u001b[0;34m(\u001b[0m\u001b[0mfit_cov\u001b[0m\u001b[0;34m)\u001b[0m\u001b[0;34m)\u001b[0m\u001b[0;34m\u001b[0m\u001b[0m\n\u001b[1;32m     80\u001b[0m \u001b[0;34m\u001b[0m\u001b[0m\n",
      "\u001b[0;32m~/Coding/Environments/python3.6/lib/python3.6/site-packages/scipy/optimize/minpack.py\u001b[0m in \u001b[0;36mcurve_fit\u001b[0;34m(f, xdata, ydata, p0, sigma, absolute_sigma, check_finite, bounds, method, jac, **kwargs)\u001b[0m\n\u001b[1;32m    763\u001b[0m \u001b[0;34m\u001b[0m\u001b[0m\n\u001b[1;32m    764\u001b[0m         \u001b[0;32mif\u001b[0m \u001b[0;32mnot\u001b[0m \u001b[0mres\u001b[0m\u001b[0;34m.\u001b[0m\u001b[0msuccess\u001b[0m\u001b[0;34m:\u001b[0m\u001b[0;34m\u001b[0m\u001b[0m\n\u001b[0;32m--> 765\u001b[0;31m             \u001b[0;32mraise\u001b[0m \u001b[0mRuntimeError\u001b[0m\u001b[0;34m(\u001b[0m\u001b[0;34m\"Optimal parameters not found: \"\u001b[0m \u001b[0;34m+\u001b[0m \u001b[0mres\u001b[0m\u001b[0;34m.\u001b[0m\u001b[0mmessage\u001b[0m\u001b[0;34m)\u001b[0m\u001b[0;34m\u001b[0m\u001b[0m\n\u001b[0m\u001b[1;32m    766\u001b[0m \u001b[0;34m\u001b[0m\u001b[0m\n\u001b[1;32m    767\u001b[0m         \u001b[0mcost\u001b[0m \u001b[0;34m=\u001b[0m \u001b[0;36m2\u001b[0m \u001b[0;34m*\u001b[0m \u001b[0mres\u001b[0m\u001b[0;34m.\u001b[0m\u001b[0mcost\u001b[0m  \u001b[0;31m# res.cost is half sum of squares!\u001b[0m\u001b[0;34m\u001b[0m\u001b[0m\n",
      "\u001b[0;31mRuntimeError\u001b[0m: Optimal parameters not found: The maximum number of function evaluations is exceeded."
     ]
    }
   ],
   "source": [
    "#Try a single trim\n",
    "iv_data_trim = ivd.IVData.non_contiguous_trim(iv_data, np.where(iv_data['I'] >= -0.4))\n",
    "plt.figure()\n",
    "plt.plot(iv_data_trim['V'], iv_data_trim['I'])\n",
    "fit_data_trim = iv_data_trim.multi_fit()\n",
    "\n",
    "plt.figure()\n",
    "plt.plot(*fit_data.get_fit_plottables(), label=r'$T_e$ = {:.3g} eV'.format(fit_data.get_temp()), color='r', zorder=10)\n",
    "plt.errorbar(iv_data['V'], iv_data['I'], yerr=iv_data[c.SIGMA], ecolor='silver', label='Raw')\n",
    "plt.plot(iv_data['V'], fit_data_trim.fit_function(iv_data['V']), color='orange', label=r'$T_e$ = {:.3g} eV'.format(fit_data_trim.get_temp()), zorder=10)\n",
    "plt.legend()\n",
    "plt.ylim(-0.2, 1.3)\n",
    "plt.show()"
   ]
  },
  {
   "cell_type": "markdown",
   "metadata": {},
   "source": [
    "# Averaged IV Figure"
   ]
  },
  {
   "cell_type": "code",
   "execution_count": 58,
   "metadata": {},
   "outputs": [],
   "source": [
    "# Create new averaged iv figure\n",
    "theta_perp = np.radians(9.95)\n",
    "\n",
    "probe_selected = probe_L\n",
    "\n",
    "A_coll_0 = probe_S.get_collection_area(theta_perp)\n",
    "d_A_coll = np.abs(probe_S.get_collection_area(theta_perp + np.radians(0.8)) - A_coll_0)\n",
    "\n",
    "v_f_fitted = fit_data.get_param('V_f')\n",
    "# T_e_fitted = fit_data[c.ELEC_TEMP]\n",
    "# a_fitted = fit_data[c.SHEATH_EXP]\n",
    "# I_sat_fitted = fit_data[c.ION_SAT]\n",
    "\n",
    "d_v_f_fitted = fit_data.get_param('V_f', errors_fl=True).error\n",
    "# d_T_e_fitted = iv_data[c.ERROR_STRING.format(c.ELEC_TEMP)].values[0]\n",
    "# d_a_fitted = iv_data[c.ERROR_STRING.format(c.SHEATH_EXP)].values[0]\n",
    "# d_I_sat_fitted = iv_data[c.ERROR_STRING.format(c.ION_SAT)].values[0]\n",
    "\n",
    "v_f_approx = - 3 * fit_data.get_temp()\n",
    "d_v_f_approx = 0.05 * v_f_approx\n",
    "\n",
    "v_f_approx_ts = - 3 * T_e_ts\n",
    "d_v_f_approx_ts = 0.05 * v_f_approx_ts\n",
    "\n",
    "c_s_fitted = lp.sound_speed(fit_data.get_temp(), gamma_i=1)\n",
    "d_c_s_fitted = lp.d_sound_speed(c_s_fitted, fit_data.get_temp(), fit_data.get_temp(errors_fl=True).error)\n",
    "n_e_fitted = lp.electron_density(fit_data.get_isat(), c_s_fitted, A_coll_0)\n",
    "d_n_e_fitted = lp.d_electron_density(n_e_fitted, c_s_fitted, d_c_s_fitted, A_coll_0, d_A_coll, fit_data.get_isat(),\n",
    "                                     fit_data.get_isat(errors_fl=True).error)"
   ]
  },
  {
   "cell_type": "code",
   "execution_count": 59,
   "metadata": {},
   "outputs": [
    {
     "name": "stdout",
     "output_type": "stream",
     "text": [
      "iv = averaged: \n",
      "\t v_f = -3.27 +- 0.001 \n",
      "\t T_e = 1 +- 0.003 \n",
      "\t I_sat = 0.676 +- 0.0003 \n",
      "\t n_e = 1.11e+20 +- 7e+18 \n",
      "\t a = 0.00763 +- 3e-05 \n",
      "\t c_s = 1.39e+04 +- 2e+01 \n",
      "\t A_coll = 2.75e-06 +- 2e-07 \n",
      "\n"
     ]
    }
   ],
   "source": [
    "print(f\"iv = averaged: \\n\"\n",
    "      f\"\\t v_f = {v_f_fitted:.3g} +- {d_v_f_fitted:.1g} \\n\"\n",
    "      f\"\\t T_e = {fit_data.get_temp():.3g} +- {fit_data.get_temp(errors_fl=True).error:.1g} \\n\"\n",
    "      f\"\\t I_sat = {fit_data.get_isat():.3g} +- {fit_data.get_isat(errors_fl=True).error:.1g} \\n\"\n",
    "      f\"\\t n_e = {n_e_fitted:.3g} +- {d_n_e_fitted:.1g} \\n\"\n",
    "      f\"\\t a = {fit_data.get_sheath_exp():.3g} +- {fit_data.get_sheath_exp(errors_fl=True).error:.1g} \\n\"\n",
    "      f\"\\t c_s = {c_s_fitted:.3g} +- {d_c_s_fitted:.1g} \\n\"\n",
    "      f\"\\t A_coll = {A_coll_0:.3g} +- {d_A_coll:.1g} \\n\")"
   ]
  },
  {
   "cell_type": "code",
   "execution_count": 61,
   "metadata": {},
   "outputs": [
    {
     "name": "stdout",
     "output_type": "stream",
     "text": [
      "a = 0.0014727166707731423, c_s = 13874.1470391269, lambda_d = 7.085019324735317e-07, I_0 = 0.675892287975617\n",
      "a = 0.0007760949548473818, c_s = 14648.066898304953, lambda_d = 3.733676586981677e-07, I_0 = 2.864232327532151\n"
     ]
    },
    {
     "data": {
      "text/plain": [
       "(-0.01, 3.2)"
      ]
     },
     "execution_count": 61,
     "metadata": {},
     "output_type": "execute_result"
    }
   ],
   "source": [
    "I_f = probe_S.get_analytical_iv(fit_data.raw_x, v_f_fitted, theta_perp, fit_data.get_temp(), n_e_fitted,\n",
    "                                print_fl=True)\n",
    "I_ts = probe_S.get_analytical_iv(fit_data.raw_x, v_f_approx_ts, theta_perp, T_e_ts, n_e_ts,\n",
    "                                 print_fl=True)\n",
    "\n",
    "plt.figure()\n",
    "plt.errorbar(fit_data.raw_x, fit_data.raw_y, yerr=fit_data.sigma,\n",
    "             label='Raw IV', ecolor='silver', color='gray', zorder=-1)\n",
    "# plt.plot(iv_data[c.RAW_X].tolist()[0], I_f, label='Analytical - measured', linestyle='dashed', linewidth=1, color='r')\n",
    "plt.plot(fit_data.raw_x, fit_data.fit_y, color='blue', linewidth=1.2,\n",
    "         label='Fit - ({:.2g}eV, {:.2g}m'.format(fit_data.get_temp(), n_e_fitted)+r'$^{-3}$)')\n",
    "plt.plot(fit_data.raw_x, I_ts, linestyle='dashed', color='red',\n",
    "         label='Analytical from TS - ({:.2g}eV, {:.2g}m'.format(T_e_ts, n_e_ts)+'$^{-3}$)')\n",
    "\n",
    "plt.legend()\n",
    "# plt.title('Comparison of analytical to measured IV curves for the small area probe')\n",
    "plt.xlabel(r'$V_p$ / V')\n",
    "plt.ylabel(r'$I$ / A')\n",
    "plt.ylim([-0.01, 3.2])"
   ]
  },
  {
   "cell_type": "markdown",
   "metadata": {},
   "source": [
    "# Playing with those pesky CSV files\n",
    "\n",
    "The changes I made to the magopter prepare method seem to have brought the temperature and density down by a factor of 4, which is odd. I have an older csv full of fitted values which I will investigate in this segment."
   ]
  },
  {
   "cell_type": "code",
   "execution_count": 105,
   "metadata": {},
   "outputs": [
    {
     "name": "stdout",
     "output_type": "stream",
     "text": [
      "Index(['Unnamed: 0', 'I_sat', 'T_e', 'V_f', 'a', 'chi2', 'd_I_sat', 'd_T_e',\n",
      "       'd_V_f', 'd_a', 'fit_y', 'raw_x', 'raw_y', 'reduced_chi2', 'sigma'],\n",
      "      dtype='object')\n",
      "<xarray.Dataset>\n",
      "Dimensions:       (time: 1016)\n",
      "Coordinates:\n",
      "  * time          (time) float64 1.008 1.038 1.043 1.048 ... 10.97 10.98 10.99\n",
      "Data variables:\n",
      "    I_sat         (time) float64 -1.129 -1.131 -1.132 ... 0.001015 0.00107\n",
      "    T_e           (time) float64 9.113 9.258 9.361 ... 0.008513 0.07098 0.7068\n",
      "    V_f           (time) float64 -4.629 -4.476 -4.392 ... -57.35 -62.21 -14.96\n",
      "    a             (time) float64 2.416e-17 2.681e-17 ... 0.001731 3.881e-19\n",
      "    chi2          (time) float64 7.649e+03 7.797e+03 7.244e+03 ... 342.2 847.3\n",
      "    d_I_sat       (time) float64 0.009329 0.009579 ... 9.001e-05 6.458e-05\n",
      "    d_T_e         (time) float64 0.1578 0.1601 0.1647 ... 1.585e+05 0.1216 1.102\n",
      "    d_V_f         (time) float64 0.05592 0.05463 0.05558 ... 2.533 0.04892 1.451\n",
      "    d_a           (time) float64 0.001922 0.001989 0.00206 ... 0.002516 0.002672\n",
      "    reduced_chi2  (time) float64 8.863 8.993 8.345 10.38 ... 1.037 1.097 1.13\n"
     ]
    }
   ],
   "source": [
    "fit_dfs = magopter.fit(load_fl=True)\n",
    "print(fit_dfs[1].columns)\n",
    "fit_dfs[1].index = fit_dfs[1].pop('Unnamed: 0')\n",
    "fit_dfs[1].index.name = 'time'\n",
    "\n",
    "fit_df_arrs = {}\n",
    "for arr_column in ['raw_x', 'raw_y', 'fit_y', 'sigma']:\n",
    "    fit_df_arrs[arr_column] = fit_dfs[1].pop(arr_column)\n",
    "    \n",
    "fit_xrds = fit_dfs[1].to_xarray()\n",
    "print(fit_xrds)"
   ]
  },
  {
   "cell_type": "code",
   "execution_count": 31,
   "metadata": {},
   "outputs": [
    {
     "name": "stdout",
     "output_type": "stream",
     "text": [
      "Index(['I_sat', 'T_e', 'V_f', 'a', 'chi2', 'd_I_sat', 'd_T_e', 'd_V_f', 'd_a',\n",
      "       'reduced_chi2'],\n",
      "      dtype='object')\n"
     ]
    }
   ],
   "source": [
    "fit_df = fit_dfs[1]\n",
    "print(fit_df.columns)"
   ]
  },
  {
   "cell_type": "code",
   "execution_count": 112,
   "metadata": {},
   "outputs": [],
   "source": [
    "fit_xrds = fit_xrds.isel(time=slice(0,650))"
   ]
  },
  {
   "cell_type": "code",
   "execution_count": 140,
   "metadata": {},
   "outputs": [
    {
     "data": {
      "text/plain": [
       "<matplotlib.legend.Legend at 0x7efdca213b00>"
      ]
     },
     "execution_count": 140,
     "metadata": {},
     "output_type": "execute_result"
    }
   ],
   "source": [
    "fig, (ax1, ax2) = plt.subplots(2)\n",
    "\n",
    "ax1.plot(fit_df.index, fit_df['T_e'], label='Temperature')\n",
    "ax1.plot(fit_df.index, -fit_df['I_sat'], label='Saturation Current')\n",
    "ax1.plot(fit_xrds['time'], fit_xrds['T_e'], label='Temperature Trimmed')\n",
    "ax1.errorbar(fit_xrds['time'], -fit_xrds['I_sat'], label='Saturation Current Trimmed')\n",
    "ax1.set_ylim([0, 12])\n",
    "ax1.legend()\n",
    "\n",
    "# ax2.plot(fit_dfs[0]['raw_x'][12], fit_dfs[0]['raw_y'][12])\n",
    "# ax2.plot(fit_dfs[0]['raw_x'][12], fit_dfs[0]['fit_y'][12])\n",
    "# plt.show()"
   ]
  },
  {
   "cell_type": "code",
   "execution_count": 116,
   "metadata": {},
   "outputs": [
    {
     "name": "stdout",
     "output_type": "stream",
     "text": [
      "<xarray.Dataset>\n",
      "Dimensions:       ()\n",
      "Data variables:\n",
      "    I_sat         float64 -1.137\n",
      "    T_e           float64 9.029\n",
      "    V_f           float64 -4.195\n",
      "    a             float64 3.843e-05\n",
      "    chi2          float64 7.937e+03\n",
      "    d_I_sat       float64 0.009095\n",
      "    d_T_e         float64 0.1528\n",
      "    d_V_f         float64 0.05436\n",
      "    d_a           float64 0.001849\n",
      "    reduced_chi2  float64 9.152\n",
      "-4.194917512169531\n"
     ]
    }
   ],
   "source": [
    "fit_ds_avg = fit_xrds.mean('time')\n",
    "print(fit_ds_avg)\n",
    "print(fit_ds_avg['V_f'].data)"
   ]
  },
  {
   "cell_type": "code",
   "execution_count": 117,
   "metadata": {},
   "outputs": [
    {
     "name": "stdout",
     "output_type": "stream",
     "text": [
      "2.04e+19\n",
      "iv = averaged: \n",
      "\t v_f = -4.19 +- 0.05 \n",
      "\t T_e = 9.03 +- 0.2 \n",
      "\t I_sat = -1.14 +- 0.009 \n",
      "\t n_e = 2.04e+19 +- 1e+18 \n",
      "\t a = 3.84e-05 +- 0.002 \n",
      "\t c_s = 4.16e+04 +- 4e+02 \n",
      "\t A_coll = 8.36e-06 +- 4e-07 \n",
      "\n"
     ]
    }
   ],
   "source": [
    "A_coll_L = probe_L.get_collection_area(theta_perp)\n",
    "d_A_coll_L = np.abs(probe_L.get_collection_area(theta_perp + np.radians(0.8)) - A_coll_L)\n",
    "\n",
    "\n",
    "c_s_oldfitted = lp.sound_speed(fit_ds_avg['T_e'].data, gamma_i=1)\n",
    "d_c_s_oldfitted = lp.d_sound_speed(c_s_oldfitted, fit_ds_avg['T_e'].data, fit_ds_avg['d_T_e'].data)\n",
    "n_e_oldfitted = lp.electron_density(-fit_ds_avg['I_sat'].data, c_s_oldfitted, A_coll_L)\n",
    "d_n_e_oldfitted = lp.d_electron_density(n_e_oldfitted, c_s_oldfitted, d_c_s_oldfitted, A_coll_L, d_A_coll_L, -fit_ds_avg['I_sat'].data,\n",
    "                                        fit_ds_avg['d_I_sat'].data)\n",
    "print(f\"{n_e_oldfitted:.3g}\")\n",
    "\n",
    "print(f\"iv = averaged: \\n\"\n",
    "      f'\\t v_f = {fit_ds_avg[\"V_f\"].data:.3g} +- {fit_ds_avg[\"d_V_f\"].data:.1g} \\n'\n",
    "      f\"\\t T_e = {(fit_ds_avg['T_e'].data):.3g} +- {fit_ds_avg['d_T_e'].data:.1g} \\n\"\n",
    "      f\"\\t I_sat = {fit_ds_avg['I_sat'].data:.3g} +- {fit_ds_avg['d_I_sat'].data:.1g} \\n\"\n",
    "      f\"\\t n_e = {n_e_oldfitted:.3g} +- {d_n_e_oldfitted:.1g} \\n\"\n",
    "      f\"\\t a = {fit_ds_avg['a'].data:.3g} +- {fit_ds_avg['d_a'].data:.1g} \\n\"\n",
    "      f\"\\t c_s = {c_s_oldfitted:.3g} +- {d_c_s_oldfitted:.1g} \\n\"\n",
    "      f\"\\t A_coll = {A_coll_L:.3g} +- {d_A_coll_L:.1g} \\n\")"
   ]
  },
  {
   "cell_type": "code",
   "execution_count": 104,
   "metadata": {},
   "outputs": [
    {
     "name": "stdout",
     "output_type": "stream",
     "text": [
      "a = 0.005946861913554874, c_s = 35491.37632371556, lambda_d = 2.8609461965925557e-06, I_0 = 0.6938887295173395\n"
     ]
    },
    {
     "data": {
      "text/plain": [
       "(-0.01, 3.2)"
      ]
     },
     "execution_count": 104,
     "metadata": {},
     "output_type": "execute_result"
    }
   ],
   "source": [
    "# I_f = probe_S.get_analytical_iv(fit_data.raw_x, v_f_fitted, theta_perp, fit_data.get_temp(), n_e_fitted,\n",
    "#                                 print_fl=True)\n",
    "I_oldf = probe_S.get_analytical_iv(fit_data.raw_x, fit_ds_avg['V_f'].data, theta_perp, fit_ds_avg['T_e'].data, n_e_oldfitted,\n",
    "                                print_fl=True)\n",
    "# I_ts = probe_S.get_analytical_iv(fit_data.raw_x, v_f_approx_ts, theta_perp, T_e_ts, n_e_ts,\n",
    "#                                  print_fl=True)\n",
    "\n",
    "plt.figure()\n",
    "plt.errorbar(fit_data.raw_x, fit_data.raw_y, yerr=fit_data.sigma,\n",
    "             label='Raw IV', ecolor='silver', color='gray', zorder=-1)\n",
    "# plt.plot(iv_data[c.RAW_X].tolist()[0], I_f, label='Analytical - measured', linestyle='dashed', linewidth=1, color='r')\n",
    "plt.plot(fit_data.raw_x, fit_data.fit_y, color='blue', linewidth=1.2,\n",
    "         label='Fit - ({:.2g}eV, {:.2g}m'.format(fit_data.get_temp(), n_e_fitted)+r'$^{-3}$)')\n",
    "plt.plot(fit_data.raw_x, I_ts, linestyle='dashed', color='red',\n",
    "         label='Analytical from TS - ({:.2g}eV, {:.2g}m'.format(T_e_ts, n_e_ts)+'$^{-3}$)')\n",
    "plt.plot(fit_data.raw_x, I_oldf, linestyle='dashed', color='orange',\n",
    "         label='Old Fit - ({:.2g}eV, {:.2g}m'.format(fit_ds_avg['T_e'].data, n_e_oldfitted)+'$^{-3}$)')\n",
    "\n",
    "plt.legend()\n",
    "# plt.title('Comparison of analytical to measured IV curves for the small area probe')\n",
    "plt.xlabel(r'$V_p$ / V')\n",
    "plt.ylabel(r'$I$ / A')\n",
    "plt.ylim([-0.01, 3.2])"
   ]
  },
  {
   "cell_type": "code",
   "execution_count": 126,
   "metadata": {},
   "outputs": [],
   "source": [
    "fit_df_arrs_concatted = pd.concat(list(fit_df_arrs.values()), axis=1)"
   ]
  },
  {
   "cell_type": "code",
   "execution_count": 145,
   "metadata": {},
   "outputs": [
    {
     "name": "stderr",
     "output_type": "stream",
     "text": [
      "ERROR:root:Internal Python error in the inspect module.\n",
      "Below is the traceback from this internal error.\n",
      "\n"
     ]
    },
    {
     "name": "stdout",
     "output_type": "stream",
     "text": [
      "Traceback (most recent call last):\n",
      "  File \"/home/jleland/Coding/Environments/python3.6/lib/python3.6/site-packages/IPython/core/interactiveshell.py\", line 2961, in run_code\n",
      "    exec(code_obj, self.user_global_ns, self.user_ns)\n",
      "  File \"<ipython-input-145-ce1ffd612af3>\", line 1, in <module>\n",
      "    os.chdir('~')\n",
      "FileNotFoundError: [Errno 2] No such file or directory: '~'\n",
      "\n",
      "During handling of the above exception, another exception occurred:\n",
      "\n",
      "Traceback (most recent call last):\n",
      "  File \"/home/jleland/Coding/Environments/python3.6/lib/python3.6/site-packages/IPython/core/interactiveshell.py\", line 1863, in showtraceback\n",
      "    stb = value._render_traceback_()\n",
      "AttributeError: 'FileNotFoundError' object has no attribute '_render_traceback_'\n",
      "\n",
      "During handling of the above exception, another exception occurred:\n",
      "\n",
      "Traceback (most recent call last):\n",
      "  File \"/home/jleland/Coding/Environments/python3.6/lib/python3.6/site-packages/IPython/core/ultratb.py\", line 1095, in get_records\n",
      "    return _fixed_getinnerframes(etb, number_of_lines_of_context, tb_offset)\n",
      "  File \"/home/jleland/Coding/Environments/python3.6/lib/python3.6/site-packages/IPython/core/ultratb.py\", line 311, in wrapped\n",
      "    return f(*args, **kwargs)\n",
      "  File \"/home/jleland/Coding/Environments/python3.6/lib/python3.6/site-packages/IPython/core/ultratb.py\", line 345, in _fixed_getinnerframes\n",
      "    records = fix_frame_records_filenames(inspect.getinnerframes(etb, context))\n",
      "  File \"/home/jleland/.pyenv/versions/3.6.5/lib/python3.6/inspect.py\", line 1483, in getinnerframes\n",
      "    frameinfo = (tb.tb_frame,) + getframeinfo(tb, context)\n",
      "  File \"/home/jleland/.pyenv/versions/3.6.5/lib/python3.6/inspect.py\", line 1441, in getframeinfo\n",
      "    filename = getsourcefile(frame) or getfile(frame)\n",
      "  File \"/home/jleland/.pyenv/versions/3.6.5/lib/python3.6/inspect.py\", line 696, in getsourcefile\n",
      "    if getattr(getmodule(object, filename), '__loader__', None) is not None:\n",
      "  File \"/home/jleland/.pyenv/versions/3.6.5/lib/python3.6/inspect.py\", line 725, in getmodule\n",
      "    file = getabsfile(object, _filename)\n",
      "  File \"/home/jleland/.pyenv/versions/3.6.5/lib/python3.6/inspect.py\", line 709, in getabsfile\n",
      "    return os.path.normcase(os.path.abspath(_filename))\n",
      "  File \"/home/jleland/Coding/Environments/python3.6/lib/python3.6/posixpath.py\", line 376, in abspath\n",
      "    cwd = os.getcwd()\n",
      "FileNotFoundError: [Errno 2] No such file or directory\n"
     ]
    },
    {
     "ename": "FileNotFoundError",
     "evalue": "[Errno 2] No such file or directory: '~'",
     "output_type": "error",
     "traceback": [
      "\u001b[0;31m---------------------------------------------------------------------------\u001b[0m"
     ]
    }
   ],
   "source": [
    "np.array(fit_df_arrs_concatted.iloc[350]['raw_x'])[0]"
   ]
  },
  {
   "cell_type": "code",
   "execution_count": null,
   "metadata": {},
   "outputs": [],
   "source": []
  },
  {
   "cell_type": "code",
   "execution_count": null,
   "metadata": {},
   "outputs": [],
   "source": []
  }
 ],
 "metadata": {
  "kernelspec": {
   "display_name": "magopter_kernel_3.6.5",
   "language": "python",
   "name": "magopter_kernel_3.6.5"
  },
  "language_info": {
   "codemirror_mode": {
    "name": "ipython",
    "version": 3
   },
   "file_extension": ".py",
   "mimetype": "text/x-python",
   "name": "python",
   "nbconvert_exporter": "python",
   "pygments_lexer": "ipython3",
   "version": "3.6.5"
  }
 },
 "nbformat": 4,
 "nbformat_minor": 2
}
