{
 "cells": [
  {
   "cell_type": "code",
   "execution_count": 3,
   "metadata": {},
   "outputs": [],
   "source": [
    "%matplotlib widget\n",
    "import sys\n",
    "import numpy as np\n",
    "sys.path.append('/home/jleland/Coding/Projects/flopter/')\n",
    "import flopter.utils.spiceutils as su\n",
    "import flopter.core.normalisation as nrm\n",
    "# import matplotlib\n",
    "# matplotlib.use('nbagg')"
   ]
  },
  {
   "cell_type": "markdown",
   "metadata": {},
   "source": [
    "**Magnum Parameters (First Shot)**"
   ]
  },
  {
   "cell_type": "code",
   "execution_count": 2,
   "metadata": {},
   "outputs": [],
   "source": [
    "n_e = 1e16\n",
    "T_e = 5\n",
    "m_i = nrm.PROTON_MASS\n",
    "B = 0.8\n",
    "theta = np.radians(10)\n",
    "q = 1"
   ]
  },
  {
   "cell_type": "code",
   "execution_count": 4,
   "metadata": {},
   "outputs": [],
   "source": [
    "n_e = 1e19\n",
    "T_e = 1.6\n",
    "m_i = nrm.PROTON_MASS\n",
    "B = 0.8\n",
    "theta = np.radians(10)\n",
    "q = 1"
   ]
  },
  {
   "cell_type": "code",
   "execution_count": 3,
   "metadata": {},
   "outputs": [],
   "source": [
    "n_e = 1.4e19\n",
    "T_e = 1.6\n",
    "m_i = nrm.PROTON_MASS\n",
    "B = 0.8\n",
    "theta = np.radians(10)\n",
    "q = 1"
   ]
  },
  {
   "cell_type": "code",
   "execution_count": 111,
   "metadata": {},
   "outputs": [],
   "source": [
    "n_e = 1.4e20\n",
    "T_e = 1.6\n",
    "m_i = nrm.PROTON_MASS\n",
    "B = 0.8\n",
    "theta = np.radians(10)\n",
    "q = 1"
   ]
  },
  {
   "cell_type": "markdown",
   "metadata": {},
   "source": [
    "**Value Calculations**"
   ]
  },
  {
   "cell_type": "code",
   "execution_count": 5,
   "metadata": {},
   "outputs": [
    {
     "name": "stdout",
     "output_type": "stream",
     "text": [
      "Ksi: 54.329353521636605\n",
      "Lambda_D: 2.9735768120809284e-06\n",
      "Larmor: 0.000162 m\n",
      "Larmor: 0.162 mm\n",
      "1836.1526759556054\n",
      "r_Li/L: \t0.05385083528242864\n",
      "r_Li/lambda_D: \t54.329353521636605\n",
      "L/lambda_D: \t1008.8859947426683\n"
     ]
    }
   ],
   "source": [
    "debye = su.get_lambda_d(n_e, T_e)\n",
    "larmor = su.get_larmor_r(T_e, B, m_i, q)\n",
    "probe_length = 3e-3\n",
    "\n",
    "print('Ksi: {}'.format(su.get_ksi(n_e, T_e, q, m_i, B)))\n",
    "print('Lambda_D: {}'.format(debye))\n",
    "print('Larmor: {:.3g} m'.format(larmor))\n",
    "print('Larmor: {:.3g} mm'.format(larmor * 1000))\n",
    "print(m_i / nrm.ELECTRON_MASS)\n",
    "print('r_Li/L: \\t{}'.format(larmor/probe_length))\n",
    "print('r_Li/lambda_D: \\t{}'.format(larmor/debye))\n",
    "print('L/lambda_D: \\t{}'.format(probe_length/debye))"
   ]
  },
  {
   "cell_type": "code",
   "execution_count": 15,
   "metadata": {
    "scrolled": true
   },
   "outputs": [
    {
     "name": "stdout",
     "output_type": "stream",
     "text": [
      "1837.152647174698\n",
      "1837.36222057884\n",
      "1836.1526759556054\n",
      "1836.1526759556054\n"
     ]
    }
   ],
   "source": [
    "print((nrm.ATOMIC_MASS_UNIT * 1.007825032241 )/ nrm.ELECTRON_MASS)\n",
    "print((nrm.ATOMIC_MASS_UNIT * 1.00794 )/ nrm.ELECTRON_MASS)\n",
    "print(nrm.P_E_MASS_RATIO)\n",
    "print(nrm.PROTON_MASS/nrm.ELECTRON_MASS)"
   ]
  },
  {
   "cell_type": "markdown",
   "metadata": {},
   "source": [
    "**Probe Geometry Declaration (Choose one and press shift + enter)**"
   ]
  },
  {
   "cell_type": "code",
   "execution_count": 4,
   "metadata": {},
   "outputs": [],
   "source": [
    "# Probe S Parameters\n",
    "L = 3e-3\n",
    "g = 2e-3\n",
    "d_perp = 0.129e-3\n",
    "poss_exp = 0.22025615519528585-3"
   ]
  },
  {
   "cell_type": "code",
   "execution_count": 6,
   "metadata": {},
   "outputs": [],
   "source": [
    "# Probe S - Machined Parameters\n",
    "L = 3e-3\n",
    "g = 2e-3\n",
    "d_perp = 0.3e-3\n",
    "poss_exp = 0.0035984495326001112-3"
   ]
  },
  {
   "cell_type": "code",
   "execution_count": 31,
   "metadata": {},
   "outputs": [],
   "source": [
    "# Probe M Parameters\n",
    "L = 5e-3\n",
    "g = 1e-3\n",
    "d_perp = 0.081635e-3\n",
    "poss_exp = 0.09325339674977874e-3"
   ]
  },
  {
   "cell_type": "code",
   "execution_count": 37,
   "metadata": {},
   "outputs": [],
   "source": [
    "# Probe L Parameters\n",
    "L = 5e-3  # m\n",
    "g = 1e-3  # m\n",
    "d_perp = 0.081635e-3\n",
    "poss_exp = 0.09325339674977874e-3"
   ]
  },
  {
   "cell_type": "markdown",
   "metadata": {},
   "source": [
    "**Simulation length calculations**"
   ]
  },
  {
   "cell_type": "code",
   "execution_count": 7,
   "metadata": {},
   "outputs": [],
   "source": [
    "def haterise(value, debye_length=1):\n",
    "    return int(value/debye_length)"
   ]
  },
  {
   "cell_type": "code",
   "execution_count": 8,
   "metadata": {},
   "outputs": [],
   "source": [
    "def find_next_power(length):\n",
    "    x = 1\n",
    "    while x < length:\n",
    "        x *= 2\n",
    "    return x"
   ]
  },
  {
   "cell_type": "code",
   "execution_count": 9,
   "metadata": {},
   "outputs": [
    {
     "name": "stdout",
     "output_type": "stream",
     "text": [
      "Probe length: \t1008\n",
      "Gap length: \t672\n",
      "Drop length: \t100\n",
      "Relief length: \t271\n",
      "Exposed length: -1007675\n",
      "Wedge height: \t177\n",
      "\n",
      "Minimum sim height: \t 625\t(1024)\n",
      "Minimum sim width: \t 2776\t(4096)\n"
     ]
    }
   ],
   "source": [
    "relief = 5 * larmor\n",
    "\n",
    "larmor_hat = haterise(larmor, debye)\n",
    "L_hat = haterise(L, debye)\n",
    "g_hat = haterise(g, debye)\n",
    "d_perp_hat = haterise(d_perp, debye)\n",
    "rel_hat = haterise(relief, debye)\n",
    "exp_hat = haterise(poss_exp, debye)\n",
    "wedge_h_hat = int(L_hat*np.tan(np.radians(10)))\n",
    "\n",
    "print('Probe length: \\t{:}'.format(L_hat))\n",
    "print('Gap length: \\t{:}'.format(g_hat))\n",
    "print('Drop length: \\t{:}'.format(d_perp_hat))\n",
    "print('Relief length: \\t{:}'.format(rel_hat))\n",
    "print('Exposed length: {:}'.format(exp_hat))\n",
    "print('Wedge height: \\t{:}'.format(wedge_h_hat))\n",
    "print()\n",
    "\n",
    "wall_width = int(1.2 * wedge_h_hat)\n",
    "\n",
    "probe_LE_height = max(int(exp_hat * 1.2), wedge_h_hat)\n",
    "rearwall_relief = haterise(1e-3, debye)\n",
    "rearwall_height = larmor_hat\n",
    "\n",
    "forewall_min_h = probe_LE_height + wedge_h_hat\n",
    "rearwall_min_h = rearwall_height + rearwall_relief\n",
    "forewall_padding = max(0, forewall_min_h - rearwall_min_h)\n",
    "rearwall_padding = max(0, rearwall_min_h - forewall_min_h)\n",
    "    \n",
    "forewall_height_corr = probe_LE_height + d_perp_hat + forewall_padding\n",
    "rearwall_height_corr = rearwall_height + rearwall_padding\n",
    "\n",
    "min_height = rel_hat + probe_LE_height + wedge_h_hat + forewall_padding\n",
    "min_width = L_hat + (2*g_hat) + (2*wall_width)\n",
    "sim_height = find_next_power(min_height)\n",
    "sim_width = find_next_power(min_width)\n",
    "\n",
    "spare_width = sim_width - min_width\n",
    "padding_width = int(spare_width / 2)\n",
    "\n",
    "tip_points = [\n",
    "    [padding_width + wall_width + g_hat, probe_LE_height + forewall_padding],\n",
    "    [padding_width + wall_width + g_hat + L_hat, probe_LE_height + forewall_padding],\n",
    "    [padding_width + wall_width + g_hat + L_hat, probe_LE_height + wedge_h_hat + forewall_padding]\n",
    "]\n",
    "tip_points_unpadded = [\n",
    "    [wall_width + g_hat, probe_LE_height + forewall_padding],\n",
    "    [wall_width + g_hat + L_hat, probe_LE_height + forewall_padding],\n",
    "    [wall_width + g_hat + L_hat, probe_LE_height + wedge_h_hat + forewall_padding]\n",
    "]\n",
    "\n",
    "print('Minimum sim height: \\t {}\\t({})'.format(min_height, sim_height))\n",
    "print('Minimum sim width: \\t {}\\t({})'.format(min_width, sim_width))"
   ]
  },
  {
   "cell_type": "markdown",
   "metadata": {},
   "source": [
    "**Simulation Window Plotting**"
   ]
  },
  {
   "cell_type": "code",
   "execution_count": 10,
   "metadata": {},
   "outputs": [],
   "source": [
    "import matplotlib.pyplot as plt"
   ]
  },
  {
   "cell_type": "code",
   "execution_count": 12,
   "metadata": {},
   "outputs": [
    {
     "data": {
      "application/vnd.jupyter.widget-view+json": {
       "model_id": "446106d805ac4c6f888f5d9c01e25765",
       "version_major": 2,
       "version_minor": 0
      },
      "text/plain": [
       "FigureCanvasNbAgg()"
      ]
     },
     "metadata": {},
     "output_type": "display_data"
    }
   ],
   "source": [
    "plt.figure()\n",
    "\n",
    "sim_objects = []\n",
    "\n",
    "sim_window = plt.Rectangle((10, 10), sim_width, sim_height, fc='w', ec='k')\n",
    "sim_objects.append(sim_window)\n",
    "\n",
    "fore_wall = plt.Rectangle((10, 10), wall_width + padding_width, forewall_height_corr, fc='gray', ec='k')\n",
    "sim_objects.append(fore_wall)\n",
    "\n",
    "rear_wall = plt.Rectangle((10 + sim_width - padding_width - wall_width, 10), padding_width + wall_width, \n",
    "                          rearwall_height_corr, fc='gray', ec='k')\n",
    "sim_objects.append(rear_wall)\n",
    "\n",
    "probe_body = plt.Rectangle((10 + padding_width + wall_width + g_hat, 10), L_hat, \n",
    "                           probe_LE_height + forewall_padding, fc='b', ec='b')\n",
    "sim_objects.append(probe_body)\n",
    "\n",
    "tip_draw_points = [[a + 10 for a in b] for b in tip_points]\n",
    "probe_tip = plt.Polygon(tip_draw_points, fc='b', ec='b')\n",
    "sim_objects.append(probe_tip)\n",
    "\n",
    "# Draw the lower \n",
    "ww_arrow = wall_width + padding_width\n",
    "plt.arrow(ww_arrow + 10, forewall_height_corr + 10, g_hat, -g_hat*np.tan(np.radians(10)), color='r')\n",
    "plt.arrow(ww_arrow + 10, forewall_height_corr + 10, -ww_arrow, ww_arrow*np.tan(np.radians(10)), color='r')\n",
    "\n",
    "plt.arrow(ww_arrow + 10, forewall_height_corr + 10, (g_hat + 100), -(g_hat + 100)*np.tan(np.radians(1)), color='g')\n",
    "plt.arrow(ww_arrow + 10, forewall_height_corr + 10, -ww_arrow, ww_arrow*np.tan(np.radians(1)), color='g')\n",
    "\n",
    "for so in sim_objects:\n",
    "    plt.gca().add_patch(so)\n",
    "\n",
    "plt.axis('scaled')\n",
    "plt.show()"
   ]
  },
  {
   "cell_type": "code",
   "execution_count": 22,
   "metadata": {},
   "outputs": [
    {
     "name": "stdout",
     "output_type": "stream",
     "text": [
      "Sim width: 64\n",
      "Sim height: 32\n",
      "\n",
      "Forewall y: [0,11]\n",
      "Forewall x: [0,8]\n",
      "\n",
      "Rearwall y: [53,64]\n",
      "Rearwall x: [0,1]\n",
      "\n",
      "Probe body y: [12,42]\n",
      "Probe body x: [0,8]\n",
      "\n",
      "Probe tip y: [17,47,47]\n",
      "Probe tip x: [8,8,13]\n"
     ]
    }
   ],
   "source": [
    "print('Sim width: {}'.format(sim_width))\n",
    "print('Sim height: {}'.format(sim_height))\n",
    "print()\n",
    "print('Forewall y: [{},{}]'.format(0, wall_width + padding_width))\n",
    "print('Forewall x: [{},{}]'.format(0, forewall_height_corr))\n",
    "print()\n",
    "print('Rearwall y: [{},{}]'.format(sim_width - wall_width - padding_width, sim_width))\n",
    "print('Rearwall x: [{},{}]'.format(0, rearwall_height_corr))\n",
    "print()\n",
    "# print('Gap x: [{},{}]'.format(wall_width, min_width - wall_width))\n",
    "# print('Gap y: [{},{}]'.format(0, wall_height))\n",
    "# print()\n",
    "print('Probe body y: [{},{}]'.format(wall_width + g_hat, wall_width + g_hat + L_hat))\n",
    "print('Probe body x: [{},{}]'.format(0, probe_LE_height + forewall_padding))\n",
    "print()\n",
    "print('Probe tip y: [{},{},{}]'.format(tip_points[0][0],tip_points[1][0],tip_points[2][0]))\n",
    "print('Probe tip x: [{},{},{}]'.format(tip_points[0][1],tip_points[1][1],tip_points[2][1]))"
   ]
  },
  {
   "cell_type": "markdown",
   "metadata": {},
   "source": [
    "**Unpadded Simulation Window**"
   ]
  },
  {
   "cell_type": "code",
   "execution_count": 11,
   "metadata": {},
   "outputs": [
    {
     "data": {
      "image/png": "[encoded data removed]",
      "text/plain": [
       "<Figure size 432x288 with 1 Axes>"
      ]
     },
     "metadata": {},
     "output_type": "display_data"
    }
   ],
   "source": [
    "plt.axes()\n",
    "\n",
    "sim_objects = []\n",
    "\n",
    "sim_window = plt.Rectangle((10, 10), min_width, min_height, fc='w', ec='k')\n",
    "sim_objects.append(sim_window)\n",
    "\n",
    "fore_wall = plt.Rectangle((10, 10), wall_width, forewall_height_corr, fc='gray', ec='k')\n",
    "sim_objects.append(fore_wall)\n",
    "\n",
    "rear_wall = plt.Rectangle((10 + min_width - wall_width, 10), wall_width, \n",
    "                          rearwall_height_corr, fc='gray', ec='k')\n",
    "sim_objects.append(rear_wall)\n",
    "\n",
    "probe_body = plt.Rectangle((10 + wall_width + g_hat, 10), L_hat, \n",
    "                           probe_LE_height + forewall_padding, fc='b', ec='k')\n",
    "sim_objects.append(probe_body)\n",
    "\n",
    "tip_draw_points_unpadded = [[a + 10 for a in b] for b in tip_points_unpadded]\n",
    "probe_tip = plt.Polygon(tip_draw_points_unpadded, fc='b', ec='k')\n",
    "sim_objects.append(probe_tip)\n",
    "\n",
    "for so in sim_objects:\n",
    "    plt.gca().add_patch(so)\n",
    "\n",
    "plt.axis('scaled')\n",
    "plt.show()"
   ]
  },
  {
   "cell_type": "code",
   "execution_count": 12,
   "metadata": {},
   "outputs": [
    {
     "name": "stdout",
     "output_type": "stream",
     "text": [
      "Sim width: 74\n",
      "Sim height: 18\n",
      "\n",
      "Forewall y: [0,4]\n",
      "Forewall x: [0,7]\n",
      "\n",
      "Rearwall y: [70,74]\n",
      "Rearwall x: [0,1]\n",
      "\n",
      "Probe body y: [23,51]\n",
      "Probe body x: [0,6]\n",
      "\n",
      "Probe tip y: [23,51,51]\n",
      "Probe tip x: [6,6,10]\n"
     ]
    }
   ],
   "source": [
    "print('Sim width: {}'.format(min_width))\n",
    "print('Sim height: {}'.format(min_height))\n",
    "print()\n",
    "print('Forewall y: [{},{}]'.format(0, wall_width))\n",
    "print('Forewall x: [{},{}]'.format(0, forewall_height_corr))\n",
    "print()\n",
    "print('Rearwall y: [{},{}]'.format(min_width - wall_width, min_width))\n",
    "print('Rearwall x: [{},{}]'.format(0, rearwall_height_corr))\n",
    "print()\n",
    "# print('Gap x: [{},{}]'.format(wall_width, min_width - wall_width))\n",
    "# print('Gap y: [{},{}]'.format(0, wall_height))\n",
    "# print()\n",
    "print('Probe body y: [{},{}]'.format(wall_width + g_hat, wall_width + g_hat + L_hat))\n",
    "print('Probe body x: [{},{}]'.format(0, probe_LE_height + forewall_padding))\n",
    "print()\n",
    "print('Probe tip y: [{},{},{}]'.format(tip_points_unpadded[0][0], \n",
    "                                       tip_points_unpadded[1][0], \n",
    "                                       tip_points_unpadded[2][0]))\n",
    "print('Probe tip x: [{},{},{}]'.format(tip_points_unpadded[0][1], \n",
    "                                       tip_points_unpadded[1][1], \n",
    "                                       tip_points_unpadded[2][1]))"
   ]
  },
  {
   "cell_type": "markdown",
   "metadata": {},
   "source": [
    "**Algorithm for finding if point is within a polygon**"
   ]
  },
  {
   "cell_type": "code",
   "execution_count": 4,
   "metadata": {},
   "outputs": [],
   "source": [
    "# Adapted from C algorithm found, doesn't work.\n",
    "\n",
    "def precalc_values(polygon):\n",
    "    poly_corners = len(polygon[0])\n",
    "    j = poly_corners - 1\n",
    "    constant = np.zeros(poly_corners)\n",
    "    multiple = np.zeros(poly_corners)\n",
    "    \n",
    "    for i in range(poly_corners):\n",
    "        if polygon[0][j] == polygon[0][i]:\n",
    "            constant[i] = polygon[1][i]\n",
    "            multiple[i] = 0\n",
    "        else:\n",
    "            constant[i] = polygon[1][i] - (polygon[0][i] * polygon[1][j]) / (polygon[0][j] - polygon[0][i]) + (polygon[0][i] * polygon[1][i]) / (polygon[0][j] - polygon[0][i])\n",
    "            multiple[i] = (polygon[1][j] - polygon[1][i]) / (polygon[0][j] - polygon[0][i])\n",
    "    return constant, multiple\n",
    "\n",
    "def is_in_polygon(polygon, x, y):\n",
    "    constant, multiple = precalc_values(polygon)\n",
    "    poly_corners = len(polygon[0])\n",
    "    j = poly_corners - 1\n",
    "    \n",
    "    odd_nodes = False\n",
    "    \n",
    "    for i in range(poly_corners):\n",
    "        if (polygon[0][i] < y) and (polygon[0][j] >= y) or (polygon[0][j] < y and polygon[0][i] >= y):\n",
    "            odd_nodes ^= y * multiple[i] + constant[i] < x\n",
    "    return odd_nodes"
   ]
  },
  {
   "cell_type": "code",
   "execution_count": 16,
   "metadata": {},
   "outputs": [
    {
     "name": "stdout",
     "output_type": "stream",
     "text": [
      "[[0, 0], [0, 2], [1, 2], [1, 0]]\n",
      "[(0, 0, 1, 1), (0, 2, 2, 0)]\n"
     ]
    }
   ],
   "source": [
    "polygon_points = [[0, 0], [0, 2], [1, 2], [1, 0]]\n",
    "polygon = list(zip(*polygon_points))\n",
    "\n",
    "print(polygon_points)\n",
    "print(polygon)"
   ]
  },
  {
   "cell_type": "code",
   "execution_count": 23,
   "metadata": {},
   "outputs": [],
   "source": [
    "x0, y0 = 0.5, 0.5"
   ]
  },
  {
   "cell_type": "code",
   "execution_count": 24,
   "metadata": {},
   "outputs": [],
   "source": [
    "x1, y1 = 2.5, 0.5"
   ]
  },
  {
   "cell_type": "code",
   "execution_count": 25,
   "metadata": {},
   "outputs": [
    {
     "data": {
      "image/png": "[encoded data removed]",
      "text/plain": [
       "<Figure size 432x288 with 1 Axes>"
      ]
     },
     "metadata": {},
     "output_type": "display_data"
    }
   ],
   "source": [
    "plt.axes()\n",
    "sim_objects = []\n",
    "\n",
    "# Polygon\n",
    "polygon_draw = plt.Polygon(polygon_points, fc='w', ec='k')\n",
    "sim_objects.append(polygon_draw)\n",
    "\n",
    "# Point\n",
    "point_draw = plt.plot(x0, y0, 'rx')\n",
    "point_draw = plt.plot(x1, y1, 'rx')\n",
    "\n",
    "for so in sim_objects:\n",
    "    plt.gca().add_patch(so)\n",
    "\n",
    "plt.axis('scaled')\n",
    "plt.show()"
   ]
  },
  {
   "cell_type": "code",
   "execution_count": 28,
   "metadata": {},
   "outputs": [
    {
     "name": "stdout",
     "output_type": "stream",
     "text": [
      "False\n",
      "False\n"
     ]
    }
   ],
   "source": [
    "print(is_in_polygon(polygon, x0, y0))\n",
    "print(is_in_polygon(polygon, x1, y1))"
   ]
  },
  {
   "cell_type": "code",
   "execution_count": 34,
   "metadata": {},
   "outputs": [
    {
     "name": "stdout",
     "output_type": "stream",
     "text": [
      "[ True False]\n"
     ]
    }
   ],
   "source": [
    "import matplotlib.path as mpltPath\n",
    "\n",
    "path = mpltPath.Path(polygon_points)\n",
    "inside2 = path.contains_points([[x0, y0], [x1, y1]])\n",
    "print(inside2)"
   ]
  },
  {
   "cell_type": "markdown",
   "metadata": {},
   "source": [
    "# TODO: Make this a flopter object and add in an input file generator"
   ]
  }
 ],
 "metadata": {
  "kernelspec": {
   "display_name": "Python 3",
   "language": "python",
   "name": "python3"
  },
  "language_info": {
   "codemirror_mode": {
    "name": "ipython",
    "version": 3
   },
   "file_extension": ".py",
   "mimetype": "text/x-python",
   "name": "python",
   "nbconvert_exporter": "python",
   "pygments_lexer": "ipython3",
   "version": "3.7.3"
  }
 },
 "nbformat": 4,
 "nbformat_minor": 2
}
