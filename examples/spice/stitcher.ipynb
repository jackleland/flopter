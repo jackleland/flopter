{
 "cells": [
  {
   "cell_type": "code",
   "execution_count": 1,
   "metadata": {},
   "outputs": [],
   "source": [
    "import numpy as np\n",
    "from pathlib import Path\n",
    "import scipy.io as spio\n",
    "import matplotlib.pyplot as plt\n",
    "import pandas as pd\n",
    "import glob \n",
    "import sys\n",
    "sys.path.append('/home/jleland/Coding/Projects/flopter')\n",
    "import splopter as sp\n",
    "import gc"
   ]
  },
  {
   "cell_type": "code",
   "execution_count": 2,
   "metadata": {},
   "outputs": [
    {
     "name": "stdout",
     "output_type": "stream",
     "text": [
      "/home/jleland/Spice/spice2/bin/data_c/magnum/sprobe_1e19_nopadding1\n"
     ]
    }
   ],
   "source": [
    "spice_directory = Path('/home/jleland/Spice/spice2/bin/data_c/magnum/sprobe_1e19_nopadding1')\n",
    "print(spice_directory)"
   ]
  },
  {
   "cell_type": "code",
   "execution_count": 3,
   "metadata": {},
   "outputs": [
    {
     "name": "stdout",
     "output_type": "stream",
     "text": [
      "/home/jleland/Spice/spice2/bin/data_c/magnum/sprobe_1e19_nopadding1/t-sprobe_1e19_00.mat\n",
      "/home/jleland/Spice/spice2/bin/data_c/magnum/sprobe_1e19_nopadding1/t-sprobe_1e19_01.mat\n",
      "/home/jleland/Spice/spice2/bin/data_c/magnum/sprobe_1e19_nopadding1/t-sprobe_1e19_02.mat\n",
      "/home/jleland/Spice/spice2/bin/data_c/magnum/sprobe_1e19_nopadding1/t-sprobe_1e19_03.mat\n",
      "/home/jleland/Spice/spice2/bin/data_c/magnum/sprobe_1e19_nopadding1/t-sprobe_1e19_04.mat\n",
      "/home/jleland/Spice/spice2/bin/data_c/magnum/sprobe_1e19_nopadding1/t-sprobe_1e19_05.mat\n",
      "/home/jleland/Spice/spice2/bin/data_c/magnum/sprobe_1e19_nopadding1/t-sprobe_1e19_06.mat\n",
      "/home/jleland/Spice/spice2/bin/data_c/magnum/sprobe_1e19_nopadding1/t-sprobe_1e19_07.mat\n",
      "/home/jleland/Spice/spice2/bin/data_c/magnum/sprobe_1e19_nopadding1/t-sprobe_1e19_08.mat\n",
      "/home/jleland/Spice/spice2/bin/data_c/magnum/sprobe_1e19_nopadding1/t-sprobe_1e19_09.mat\n",
      "/home/jleland/Spice/spice2/bin/data_c/magnum/sprobe_1e19_nopadding1/t-sprobe_1e19_10.mat\n",
      "/home/jleland/Spice/spice2/bin/data_c/magnum/sprobe_1e19_nopadding1/t-sprobe_1e19_11.mat\n",
      "/home/jleland/Spice/spice2/bin/data_c/magnum/sprobe_1e19_nopadding1/t-sprobe_1e19_12.mat\n",
      "/home/jleland/Spice/spice2/bin/data_c/magnum/sprobe_1e19_nopadding1/t-sprobe_1e19_13.mat\n",
      "/home/jleland/Spice/spice2/bin/data_c/magnum/sprobe_1e19_nopadding1/t-sprobe_1e19_14.mat\n",
      "/home/jleland/Spice/spice2/bin/data_c/magnum/sprobe_1e19_nopadding1/t-sprobe_1e19_15.mat\n",
      "/home/jleland/Spice/spice2/bin/data_c/magnum/sprobe_1e19_nopadding1/t-sprobe_1e19_16.mat\n",
      "/home/jleland/Spice/spice2/bin/data_c/magnum/sprobe_1e19_nopadding1/t-sprobe_1e19_17.mat\n",
      "/home/jleland/Spice/spice2/bin/data_c/magnum/sprobe_1e19_nopadding1/t-sprobe_1e19_18.mat\n",
      "/home/jleland/Spice/spice2/bin/data_c/magnum/sprobe_1e19_nopadding1/t-sprobe_1e19_19.mat\n",
      "/home/jleland/Spice/spice2/bin/data_c/magnum/sprobe_1e19_nopadding1/t-sprobe_1e19_20.mat\n",
      "/home/jleland/Spice/spice2/bin/data_c/magnum/sprobe_1e19_nopadding1/t-sprobe_1e19_21.mat\n",
      "/home/jleland/Spice/spice2/bin/data_c/magnum/sprobe_1e19_nopadding1/t-sprobe_1e19_22.mat\n",
      "/home/jleland/Spice/spice2/bin/data_c/magnum/sprobe_1e19_nopadding1/t-sprobe_1e19_23.mat\n",
      "/home/jleland/Spice/spice2/bin/data_c/magnum/sprobe_1e19_nopadding1/t-sprobe_1e19_24.mat\n",
      "/home/jleland/Spice/spice2/bin/data_c/magnum/sprobe_1e19_nopadding1/t-sprobe_1e19_25.mat\n",
      "/home/jleland/Spice/spice2/bin/data_c/magnum/sprobe_1e19_nopadding1/t-sprobe_1e19_26.mat\n",
      "/home/jleland/Spice/spice2/bin/data_c/magnum/sprobe_1e19_nopadding1/t-sprobe_1e19_27.mat\n",
      "/home/jleland/Spice/spice2/bin/data_c/magnum/sprobe_1e19_nopadding1/t-sprobe_1e19_28.mat\n",
      "/home/jleland/Spice/spice2/bin/data_c/magnum/sprobe_1e19_nopadding1/t-sprobe_1e19_29.mat\n",
      "/home/jleland/Spice/spice2/bin/data_c/magnum/sprobe_1e19_nopadding1/t-sprobe_1e19_30.mat\n",
      "/home/jleland/Spice/spice2/bin/data_c/magnum/sprobe_1e19_nopadding1/t-sprobe_1e19_31.mat\n",
      "('t-sprobe_1e19_.mat', 'sprobe_1e19_no.mat')\n"
     ]
    }
   ],
   "source": [
    "new_tfile_dict = {}\n",
    "t_files = list(spice_directory.glob('t-*[0-9][0-9].mat'))\n",
    "t_files.sort()\n",
    "for t_file in t_files:\n",
    "    print(t_file)\n",
    "\n",
    "t_files_alt = sp.Splopter.get_ta_filenames(str(spice_directory) + '/')\n",
    "print(t_files_alt)\n"
   ]
  },
  {
   "cell_type": "code",
   "execution_count": 14,
   "metadata": {},
   "outputs": [
    {
     "name": "stdout",
     "output_type": "stream",
     "text": [
      "dict_keys(['__header__', '__version__', '__globals__', 'version', 'ntot', 'count', 'nproc', 'y', 'z', 'ux', 'uy', 'uz', 'stype'])\n",
      "__header__ 112\n",
      "__version__ 3\n",
      "__globals__ 0\n",
      "version 1\n",
      "ntot 1\n",
      "count 1\n",
      "nproc 1\n",
      "y 1047472\n",
      "z 1047472\n",
      "ux 1047472\n",
      "uy 1047472\n",
      "uz 1047472\n",
      "stype 1047472\n"
     ]
    }
   ],
   "source": [
    "for t_filename in [t_files[0]]:\n",
    "    t_file = spio.loadmat(str(t_filename))\n",
    "    print(t_file.keys())\n",
    "    for label, data in t_file.items():\n",
    "        print(label, len(data))\n",
    "        new_tfile_dict[label] = data"
   ]
  },
  {
   "cell_type": "code",
   "execution_count": 18,
   "metadata": {},
   "outputs": [
    {
     "name": "stdout",
     "output_type": "stream",
     "text": [
      "__header__ 112\n",
      "__version__ 3\n",
      "__globals__ 0\n",
      "version 1\n",
      "Nz 1\n",
      "Nzmax 1\n",
      "Ny 1\n",
      "count 1\n",
      "hpos 1\n",
      "deltah 1\n",
      "Npc 1\n",
      "dt 1\n",
      "dz 1\n",
      "nproc 1\n",
      "q 2\n",
      "m 2\n",
      "Temp 2\n",
      "zg 749\n",
      "yg 1645\n",
      "rho 749\n",
      "Escz 749\n",
      "Escy 749\n",
      "surfacematrix 749\n",
      "Pot 749\n",
      "Potvac 749\n",
      "sliceproc 1462\n",
      "edgecharge 749\n",
      "t 1612\n",
      "snumber 2\n",
      "totalenergy 2\n",
      "Esct 1612\n",
      "dPHIqn 1612\n",
      "pchi 1612\n",
      "bx 1\n",
      "by 1\n",
      "bz 1\n",
      "npartproc 16\n",
      "nodiagreg 1\n",
      "diaghistories 1\n",
      "fvarrays 1\n",
      "fvbin 1\n",
      "fvperparraycount 1\n",
      "fvlimits 6\n",
      "histlimits 12\n",
      "timehistory_upper 11\n",
      "timehistory_lower 11\n",
      "QnPot 412568\n",
      "ProbePot 412568\n",
      "iHistx1 150\n",
      "iHistx2 150\n",
      "iHistx3 150\n",
      "eHistx1 150\n",
      "eHistx2 150\n",
      "eHistx3 150\n",
      "iTracky 412568\n",
      "iTrackz 412568\n",
      "iTrackux 412568\n",
      "iTrackuy 412568\n",
      "iTrackuz 412568\n",
      "eTracky 412568\n",
      "eTrackz 412568\n",
      "eTrackux 412568\n",
      "eTrackuy 412568\n",
      "eTrackuz 412568\n",
      "flagm 749\n",
      "equipotm 749\n",
      "flag 1231356\n",
      "itertime_upper 16\n",
      "itertime_lower 16\n",
      "injrate 2\n",
      "objects 749\n",
      "edges 749\n",
      "diagm 749\n",
      "objectsenum 749\n",
      "objectscurrenti 3\n",
      "objectscurrente 3\n",
      "objectspowerfluxi 3\n",
      "objectspowerfluxe 3\n",
      "rho01 1462\n",
      "solw01 749\n",
      "solns01 749\n",
      "rho02 1462\n",
      "solw02 749\n",
      "solns02 749\n",
      "ksi 1\n",
      "tau 1\n",
      "mu 1\n",
      "mksn0 1\n",
      "mksTe 1\n",
      "mksB 1\n",
      "mksmainionm 1\n",
      "mksmainionq 1\n",
      "mkspar1 1\n",
      "mkspar2 1\n",
      "mkspar3 1\n",
      "alphayz 1\n",
      "alphaxz 1\n",
      "Nc 1\n",
      "Na 1\n",
      "Np 1\n",
      "irel 3\n",
      "floatconstant 3\n"
     ]
    }
   ],
   "source": [
    "# t_file = spio.loadmat(spice_directory / t_files_alt[0]) # <-- not working, Did not read any bytes\n",
    "t_file = spio.loadmat('/mnt/externy/data/SPICE/offline_data/benchmarking/gap/t-prebpro.mat')\n",
    "for label, data in t_file.items():\n",
    "    print(label, len(data))"
   ]
  },
  {
   "cell_type": "code",
   "execution_count": null,
   "metadata": {},
   "outputs": [],
   "source": []
  }
 ],
 "metadata": {
  "kernelspec": {
   "display_name": "magopter_kernel_3.6.5",
   "language": "python",
   "name": "magopter_kernel_3.6.5"
  },
  "language_info": {
   "codemirror_mode": {
    "name": "ipython",
    "version": 3
   },
   "file_extension": ".py",
   "mimetype": "text/x-python",
   "name": "python",
   "nbconvert_exporter": "python",
   "pygments_lexer": "ipython3",
   "version": "3.6.5"
  }
 },
 "nbformat": 4,
 "nbformat_minor": 2
}
